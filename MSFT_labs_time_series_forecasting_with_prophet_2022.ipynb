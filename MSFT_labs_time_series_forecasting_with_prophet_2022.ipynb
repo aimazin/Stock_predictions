{
  "metadata": {
    "language_info": {
      "codemirror_mode": {
        "name": "python",
        "version": 3
      },
      "file_extension": ".py",
      "mimetype": "text/x-python",
      "name": "python",
      "nbconvert_exporter": "python",
      "pygments_lexer": "ipython3",
      "version": "3.8"
    },
    "kernelspec": {
      "name": "python",
      "display_name": "Pyolite",
      "language": "python"
    },
    "colab": {
      "provenance": [],
      "collapsed_sections": [
        "81WEzXUbVDW2",
        "_9JtKyppVDW3",
        "L_GTZbA_VDW4",
        "-HtG5T2gVDW4",
        "JgJcP59VVDW4",
        "QnDBEsopVDW5",
        "v5-ap0HrVDW5",
        "Uv9mLRjuVDW5",
        "2d6XLtc5VDW6",
        "fEBQ3N7FVDW6",
        "IvtMqiZtVDW6",
        "HU7qx-4eVDW7",
        "GqXcXJ72VDW8",
        "bEqhWdOGVDW8",
        "i9cfphhqVDW8",
        "IwNgEQbdVDW8",
        "cMjrW1DmVDW9",
        "y8DAoGVdVDW9",
        "gVAGiyaOVDW-",
        "y2b2MoyfVDW-",
        "Mso_bWTVVDW_",
        "q3lhhCkGVDW_",
        "uURg_i4RVDXA",
        "MOk7lFApVDXA",
        "4AoRMVO6VDXG",
        "jSuUNkHSVDXH",
        "GeHgsRRgVDXH",
        "OvgrSk4eVDXH",
        "iusKF1cfVDXI",
        "iJMfPxQFVDXI",
        "Wz1ZCQJgVDXI",
        "oFhEHrrVVDXJ",
        "5k-wZws1VDXJ",
        "JPAgaQIdVDXJ",
        "OsRX2T8YVDXJ",
        "MUM0zk-LVDXK",
        "YtZpS5iVVDXP",
        "k7oMygIVVDXQ"
      ],
      "include_colab_link": true
    }
  },
  "nbformat_minor": 0,
  "nbformat": 4,
  "cells": [
    {
      "cell_type": "markdown",
      "metadata": {
        "id": "view-in-github",
        "colab_type": "text"
      },
      "source": [
        "<a href=\"https://colab.research.google.com/github/aimazin/Stock_predictions/blob/main/MSFT_labs_time_series_forecasting_with_prophet_2022.ipynb\" target=\"_parent\"><img src=\"https://colab.research.google.com/assets/colab-badge.svg\" alt=\"Open In Colab\"/></a>"
      ]
    },
    {
      "cell_type": "markdown",
      "source": [
        "<center>\n",
        "    <img src=\"https://cf-courses-data.s3.us.cloud-object-storage.appdomain.cloud/assets/logos/SN_web_lightmode.png\" width=\"300\" alt=\"cognitiveclass.ai logo\">\n",
        "</center>\n"
      ],
      "metadata": {
        "id": "i7TMc3XqVDWw"
      }
    },
    {
      "cell_type": "markdown",
      "source": [
        "The Library Prophet makes forecasting with time series a lot easier. Before the introduction of libraries like  Scikit-learn, coding a machine learning pipeline was quite tricky; now, all it takes is a few lines of code. Prophet kind of does for time series what Scikit-learn did for machine learning. We say almost because time seris analysis is usually more complicated than Machine learning, and Prophet makes your job a lot easyer \n"
      ],
      "metadata": {
        "id": "UywkAun8VDWy"
      }
    },
    {
      "cell_type": "markdown",
      "source": [
        "In this Guided Project, we will go through one of the time series forecasting models, Prophet. We shall comprehend what prophet is and its benefits.\n",
        " - We'll go over a case studies.\n",
        " 1. Time series analysis of Microsoft Stock Prices(2003-2005) \n",
        "     - In this use case we are analyzing the Stock Price data that is available for the years 2003 and 2005, and we will be predicting the Stock Price for 150 more days.\n",
        " \n"
      ],
      "metadata": {
        "id": "Kha-GSY0VDWz"
      }
    },
    {
      "cell_type": "markdown",
      "source": [
        "## **Table of Contents**\n",
        "\n",
        "<ol>\n",
        "    <li><a href=\"https://#Time-series-Analysis\">Time series Analysis</a></li>\n",
        "    <li><a href=\"https://#Intoduction-to-Prophet\">Introduction to Prophet</a></li>\n",
        "     <li><a href=\"https://#benifits\">Benifits of Prophet</a></li>\n",
        "    <li><a href=\"https://#Setup\">Setup</a></li>\n",
        "    <ol><li><a href=\"https://#Installing-Required-Libraries\">Installing Required Libraries</a></li>\n",
        "    <li><a href=\"https://#Importing-Required-Libraries\">Importing Required Libraries</a></li></ol>  \n",
        "    <li><a href=\"https://#case-study\">Case Study</a></li>\n",
        "    <ol>\n",
        "        <li><a href=\"https://#Case-Study-1\">Time series analysis of Microsoft Stock Prices(2003-5)  </a></li></ol>\n",
        "<li><a href=\"https://#Conclusion\">Conclusion</a>\n",
        "        \n"
      ],
      "metadata": {
        "id": "nRCzecQWVDWz"
      }
    },
    {
      "cell_type": "markdown",
      "source": [
        "### Time Series Analysis:\n",
        "\n",
        " - Time series data is a collection of observations of measurements gathered over regular or irregular intervals of time.\n",
        " - Time series data have a natural temporal ordering\n",
        " - E.g. Sales data for a specific product at different times of the year.\n",
        " \n"
      ],
      "metadata": {
        "id": "IF0ZLHEZVDW0"
      }
    },
    {
      "cell_type": "markdown",
      "source": [
        "<center><img src=\"https://cf-courses-data.s3.us.cloud-object-storage.appdomain.cloud/IBM-GPXX032NEN/images/time_series_img.jpg\" width=\"700\" height=\"400\"></center>\n"
      ],
      "metadata": {
        "id": "Op2X8c2jVDW0"
      }
    },
    {
      "cell_type": "markdown",
      "source": [
        "### Introduction to Prophet\n",
        " - Prophet is a Python library that is open source and was created by Facebook primarily for time series forecasting.\n",
        " - It has the capability of automatically determining the right hyperparameters for the model.\n",
        " - It promotes insightful seasonal patterns.\n",
        " - It can fit time-series data having non-linearity in trends as well as holiday effects.\n",
        " - It has R and Python APIs for time-series forecasting\n",
        " \n"
      ],
      "metadata": {
        "id": "FrSNWm0vVDW0"
      }
    },
    {
      "cell_type": "markdown",
      "source": [
        "<center><img src=\"https://cdn.analyticsvidhya.com/wp-content/uploads/2018/05/tumblr_inline_omh3tnv5zk1r1x9ql_500.png\" width=\"700\" height=\"400\"></center> \n"
      ],
      "metadata": {
        "id": "6tpAl0mpVDW0"
      }
    },
    {
      "cell_type": "markdown",
      "source": [
        "### Benefits of using prophet\n",
        "1. It's automatic as well as quick. For manual time series analysis and decomposition, it saves time.\n",
        "2. It generates reliable and precise models.\n",
        "3. It can deal with outliers and missing values.\n",
        "4. It can manage the effects of seasonality and holidays.\n",
        "5. It produces a tunable model.\n"
      ],
      "metadata": {
        "id": "7DTesnCDVDW0"
      }
    },
    {
      "cell_type": "markdown",
      "source": [
        " \n"
      ],
      "metadata": {
        "id": "Kt7JmUERVDW1"
      }
    },
    {
      "cell_type": "markdown",
      "source": [
        "## Structure of Prophet\n"
      ],
      "metadata": {
        "id": "Bg3p6K5FVDW1"
      }
    },
    {
      "cell_type": "markdown",
      "source": [
        "<center><img src=\"https://cf-courses-data.s3.us.cloud-object-storage.appdomain.cloud/IBM-GPXX032NEN/images/prophet_structure-ImResizer.jpg\" width=\"700\" height=\"250\"></center>\n"
      ],
      "metadata": {
        "id": "IIa0Hgw2VDW1"
      }
    },
    {
      "cell_type": "markdown",
      "source": [
        "Prophet is particularly good at modeling time series that have multiple seasonalities and doesn’t face the drawbacks of other algorithms. At its core is the sum of three functions of time plus an error term: \n",
        "1) growth g(t)\n",
        "2) seasonality s(t)\n",
        "3) holidays h(t) , and error e_t :\n"
      ],
      "metadata": {
        "id": "O93INDPZVDW2"
      }
    },
    {
      "cell_type": "markdown",
      "source": [
        "<center><img src=\"https://cf-courses-data.s3.us.cloud-object-storage.appdomain.cloud/IBM-GPXX032NEN/images/formula_prophet.png\" width=\"500\" height=\"350\"></center>\n"
      ],
      "metadata": {
        "id": "xNJkU406VDW2"
      }
    },
    {
      "cell_type": "markdown",
      "source": [
        "An Additive Model above can absorb the absence of seasonal effects by having s(t) = 0, as the other terms of the equation have no impact to predict future values in y(t). Unlike, fixed and linear regression models like Fama.\n",
        "Prophet is a modular and non — linear regression model that separates and recombines a single dataset of history. \n",
        "Feature Engineering when features explain a future value or when factors drive a forecast are removed.\n"
      ],
      "metadata": {
        "id": "EYzmQpPWVDW2"
      }
    },
    {
      "cell_type": "markdown",
      "source": [
        "## Setup\n",
        "\n"
      ],
      "metadata": {
        "id": "81WEzXUbVDW2"
      }
    },
    {
      "cell_type": "markdown",
      "source": [
        "For this lab, we will be using the following libraries:\n",
        "\n",
        "*   [`pandas`](https://pandas.pydata.org/?utm_medium=Exinfluencer&utm_source=Exinfluencer&utm_content=000026UJ&utm_term=10006555&utm_id=NA-SkillsNetwork-Channel-SkillsNetworkCoursesIBMML0187ENSkillsNetwork31430127-2021-01-01) for managing the data.\n",
        "*   [`numpy`](https://numpy.org/?utm_medium=Exinfluencer&utm_source=Exinfluencer&utm_content=000026UJ&utm_term=10006555&utm_id=NA-SkillsNetwork-Channel-SkillsNetworkCoursesIBMML0187ENSkillsNetwork31430127-2021-01-01) for mathematical operations.\n",
        "*   [`sklearn`](https://scikit-learn.org/stable/?utm_medium=Exinfluencer&utm_source=Exinfluencer&utm_content=000026UJ&utm_term=10006555&utm_id=NA-SkillsNetwork-Channel-SkillsNetworkCoursesIBMML0187ENSkillsNetwork31430127-2021-01-01) for machine learning and machine-learning-pipeline related functions.\n",
        "*   [`matplotlib`](https://matplotlib.org/?utm_medium=Exinfluencer&utm_source=Exinfluencer&utm_content=000026UJ&utm_term=10006555&utm_id=NA-SkillsNetwork-Channel-SkillsNetworkCoursesIBMML0187ENSkillsNetwork31430127-2021-01-01) for additional plotting tools.\n",
        "*   [`Plotly`](https://matplotlib.org/?utm_medium=Exinfluencer&utm_source=Exinfluencer&utm_content=000026UJ&utm_term=10006555&utm_id=NA-SkillsNetwork-Channel-SkillsNetworkCoursesIBMML0187ENSkillsNetwork31430127-2021-01-01) for additional plotting tools.\n"
      ],
      "metadata": {
        "id": "c_2wBxO-VDW2"
      }
    },
    {
      "cell_type": "markdown",
      "source": [
        "### Installing Required Libraries\n",
        "\n",
        "The following required libraries are pre-installed in the Skills Network Labs environment. However, if you run this notebook commands in a different Jupyter environment (e.g. Watson Studio or Ananconda), you will need to install these libraries by removing the `#` sign before `!mamba` in the code cell below.\n",
        "\n"
      ],
      "metadata": {
        "id": "_9JtKyppVDW3"
      }
    },
    {
      "cell_type": "code",
      "source": [
        "# All Libraries required for this lab are listed below. The libraries pre-installed on Skills Network Labs are commented.\n",
        "#!pip install -qy pandas==1.3.4 numpy==1.21.4 seaborn==0.9.0 matplotlib==3.5.0 scikit-learn==0.20.1\n",
        "# Note: If your environment doesn't support \"!mamba install\", use \"!pip install\""
      ],
      "metadata": {
        "trusted": true,
        "id": "m68VRYs3VDW3"
      },
      "execution_count": 1,
      "outputs": []
    },
    {
      "cell_type": "markdown",
      "source": [
        "The following required libraries are **not** pre-installed in the Skills Network Labs environment. **You will need to run the following cell** to install them:\n"
      ],
      "metadata": {
        "id": "XJ4H4DK3VDW3"
      }
    },
    {
      "cell_type": "markdown",
      "source": [
        "### After running below command Restart the kernel\n"
      ],
      "metadata": {
        "id": "L_GTZbA_VDW4"
      }
    },
    {
      "cell_type": "code",
      "source": [
        "!pip install --upgrade nbformat"
      ],
      "metadata": {
        "trusted": true,
        "colab": {
          "base_uri": "https://localhost:8080/"
        },
        "id": "McJ_AO7xVDW4",
        "outputId": "d98eafd5-79d2-460f-da40-c092939932c5"
      },
      "execution_count": 2,
      "outputs": [
        {
          "output_type": "stream",
          "name": "stdout",
          "text": [
            "Looking in indexes: https://pypi.org/simple, https://us-python.pkg.dev/colab-wheels/public/simple/\n",
            "Requirement already satisfied: nbformat in /usr/local/lib/python3.8/dist-packages (5.7.0)\n",
            "Requirement already satisfied: jsonschema>=2.6 in /usr/local/lib/python3.8/dist-packages (from nbformat) (4.3.3)\n",
            "Requirement already satisfied: fastjsonschema in /usr/local/lib/python3.8/dist-packages (from nbformat) (2.16.2)\n",
            "Requirement already satisfied: jupyter-core in /usr/local/lib/python3.8/dist-packages (from nbformat) (4.11.2)\n",
            "Requirement already satisfied: traitlets>=5.1 in /usr/local/lib/python3.8/dist-packages (from nbformat) (5.1.1)\n",
            "Requirement already satisfied: pyrsistent!=0.17.0,!=0.17.1,!=0.17.2,>=0.14.0 in /usr/local/lib/python3.8/dist-packages (from jsonschema>=2.6->nbformat) (0.19.2)\n",
            "Requirement already satisfied: attrs>=17.4.0 in /usr/local/lib/python3.8/dist-packages (from jsonschema>=2.6->nbformat) (22.1.0)\n",
            "Requirement already satisfied: importlib-resources>=1.4.0 in /usr/local/lib/python3.8/dist-packages (from jsonschema>=2.6->nbformat) (5.10.0)\n",
            "Requirement already satisfied: zipp>=3.1.0 in /usr/local/lib/python3.8/dist-packages (from importlib-resources>=1.4.0->jsonschema>=2.6->nbformat) (3.10.0)\n"
          ]
        }
      ]
    },
    {
      "cell_type": "markdown",
      "source": [
        "### Note : Restart the Kernel After updating nbformat\n"
      ],
      "metadata": {
        "id": "-HtG5T2gVDW4"
      }
    },
    {
      "cell_type": "code",
      "source": [
        "!pip install yfinance"
      ],
      "metadata": {
        "colab": {
          "base_uri": "https://localhost:8080/"
        },
        "id": "nKSWNUbSfMUw",
        "outputId": "2e4a7182-028c-4e85-b62b-1dba7e922b47"
      },
      "execution_count": 3,
      "outputs": [
        {
          "output_type": "stream",
          "name": "stdout",
          "text": [
            "Looking in indexes: https://pypi.org/simple, https://us-python.pkg.dev/colab-wheels/public/simple/\n",
            "Collecting yfinance\n",
            "  Downloading yfinance-0.1.87-py2.py3-none-any.whl (29 kB)\n",
            "Requirement already satisfied: pandas>=0.24.0 in /usr/local/lib/python3.8/dist-packages (from yfinance) (1.3.5)\n",
            "Requirement already satisfied: multitasking>=0.0.7 in /usr/local/lib/python3.8/dist-packages (from yfinance) (0.0.11)\n",
            "Collecting requests>=2.26\n",
            "  Downloading requests-2.28.1-py3-none-any.whl (62 kB)\n",
            "\u001b[K     |████████████████████████████████| 62 kB 556 kB/s \n",
            "\u001b[?25hRequirement already satisfied: lxml>=4.5.1 in /usr/local/lib/python3.8/dist-packages (from yfinance) (4.9.1)\n",
            "Requirement already satisfied: appdirs>=1.4.4 in /usr/local/lib/python3.8/dist-packages (from yfinance) (1.4.4)\n",
            "Requirement already satisfied: numpy>=1.15 in /usr/local/lib/python3.8/dist-packages (from yfinance) (1.21.6)\n",
            "Requirement already satisfied: python-dateutil>=2.7.3 in /usr/local/lib/python3.8/dist-packages (from pandas>=0.24.0->yfinance) (2.8.2)\n",
            "Requirement already satisfied: pytz>=2017.3 in /usr/local/lib/python3.8/dist-packages (from pandas>=0.24.0->yfinance) (2022.6)\n",
            "Requirement already satisfied: six>=1.5 in /usr/local/lib/python3.8/dist-packages (from python-dateutil>=2.7.3->pandas>=0.24.0->yfinance) (1.15.0)\n",
            "Requirement already satisfied: charset-normalizer<3,>=2 in /usr/local/lib/python3.8/dist-packages (from requests>=2.26->yfinance) (2.1.1)\n",
            "Requirement already satisfied: idna<4,>=2.5 in /usr/local/lib/python3.8/dist-packages (from requests>=2.26->yfinance) (2.10)\n",
            "Requirement already satisfied: certifi>=2017.4.17 in /usr/local/lib/python3.8/dist-packages (from requests>=2.26->yfinance) (2022.9.24)\n",
            "Requirement already satisfied: urllib3<1.27,>=1.21.1 in /usr/local/lib/python3.8/dist-packages (from requests>=2.26->yfinance) (1.24.3)\n",
            "Installing collected packages: requests, yfinance\n",
            "  Attempting uninstall: requests\n",
            "    Found existing installation: requests 2.23.0\n",
            "    Uninstalling requests-2.23.0:\n",
            "      Successfully uninstalled requests-2.23.0\n",
            "Successfully installed requests-2.28.1 yfinance-0.1.87\n"
          ]
        }
      ]
    },
    {
      "cell_type": "code",
      "source": [
        "!pip install prophet"
      ],
      "metadata": {
        "trusted": true,
        "colab": {
          "base_uri": "https://localhost:8080/"
        },
        "id": "eTKicwzpVDW4",
        "outputId": "cf8fe341-f1dc-451e-c5eb-5325ec149040"
      },
      "execution_count": 4,
      "outputs": [
        {
          "output_type": "stream",
          "name": "stdout",
          "text": [
            "Looking in indexes: https://pypi.org/simple, https://us-python.pkg.dev/colab-wheels/public/simple/\n",
            "Requirement already satisfied: prophet in /usr/local/lib/python3.8/dist-packages (1.1.1)\n",
            "Requirement already satisfied: numpy>=1.15.4 in /usr/local/lib/python3.8/dist-packages (from prophet) (1.21.6)\n",
            "Requirement already satisfied: LunarCalendar>=0.0.9 in /usr/local/lib/python3.8/dist-packages (from prophet) (0.0.9)\n",
            "Requirement already satisfied: setuptools-git>=1.2 in /usr/local/lib/python3.8/dist-packages (from prophet) (1.2)\n",
            "Requirement already satisfied: wheel>=0.37.0 in /usr/local/lib/python3.8/dist-packages (from prophet) (0.38.4)\n",
            "Requirement already satisfied: python-dateutil>=2.8.0 in /usr/local/lib/python3.8/dist-packages (from prophet) (2.8.2)\n",
            "Requirement already satisfied: matplotlib>=2.0.0 in /usr/local/lib/python3.8/dist-packages (from prophet) (3.2.2)\n",
            "Requirement already satisfied: holidays>=0.14.2 in /usr/local/lib/python3.8/dist-packages (from prophet) (0.17)\n",
            "Requirement already satisfied: cmdstanpy>=1.0.4 in /usr/local/lib/python3.8/dist-packages (from prophet) (1.0.8)\n",
            "Requirement already satisfied: pandas>=1.0.4 in /usr/local/lib/python3.8/dist-packages (from prophet) (1.3.5)\n",
            "Requirement already satisfied: tqdm>=4.36.1 in /usr/local/lib/python3.8/dist-packages (from prophet) (4.64.1)\n",
            "Requirement already satisfied: convertdate>=2.1.2 in /usr/local/lib/python3.8/dist-packages (from prophet) (2.4.0)\n",
            "Requirement already satisfied: setuptools>=42 in /usr/local/lib/python3.8/dist-packages (from prophet) (57.4.0)\n",
            "Requirement already satisfied: pymeeus<=1,>=0.3.13 in /usr/local/lib/python3.8/dist-packages (from convertdate>=2.1.2->prophet) (0.5.11)\n",
            "Requirement already satisfied: hijri-converter in /usr/local/lib/python3.8/dist-packages (from holidays>=0.14.2->prophet) (2.2.4)\n",
            "Requirement already satisfied: korean-lunar-calendar in /usr/local/lib/python3.8/dist-packages (from holidays>=0.14.2->prophet) (0.3.1)\n",
            "Requirement already satisfied: pytz in /usr/local/lib/python3.8/dist-packages (from LunarCalendar>=0.0.9->prophet) (2022.6)\n",
            "Requirement already satisfied: ephem>=3.7.5.3 in /usr/local/lib/python3.8/dist-packages (from LunarCalendar>=0.0.9->prophet) (4.1.3)\n",
            "Requirement already satisfied: kiwisolver>=1.0.1 in /usr/local/lib/python3.8/dist-packages (from matplotlib>=2.0.0->prophet) (1.4.4)\n",
            "Requirement already satisfied: pyparsing!=2.0.4,!=2.1.2,!=2.1.6,>=2.0.1 in /usr/local/lib/python3.8/dist-packages (from matplotlib>=2.0.0->prophet) (3.0.9)\n",
            "Requirement already satisfied: cycler>=0.10 in /usr/local/lib/python3.8/dist-packages (from matplotlib>=2.0.0->prophet) (0.11.0)\n",
            "Requirement already satisfied: six>=1.5 in /usr/local/lib/python3.8/dist-packages (from python-dateutil>=2.8.0->prophet) (1.15.0)\n"
          ]
        }
      ]
    },
    {
      "cell_type": "markdown",
      "source": [
        "# About Dataset\n",
        "## Context\n",
        "Microsoft Daily Closing Stock price Data accessed using Yahoo's yfinance Api \n"
      ],
      "metadata": {
        "id": "caNreBA3VDW4"
      }
    },
    {
      "cell_type": "markdown",
      "source": [
        "## Content\n",
        "Data is in the form of a time series for a period of 24 months beginning from 6th Spt 2003 till 6th Sept 2005.\n",
        "\n",
        "    Rows are indexed with dates and columns represent states.\n",
        "    Rows and columns put together, each datapoint reflects the power consumed in Mega Units (MU) by the given state (column) at the given date (row).\n"
      ],
      "metadata": {
        "id": "JgJcP59VVDW4"
      }
    },
    {
      "cell_type": "markdown",
      "source": [
        "*   Kaggle Source - [https://www.kaggle.com/datasets/twinkle0705/state-wise-power-consumption-in-india)\n"
      ],
      "metadata": {
        "id": "dnNzOx0jVDW4"
      }
    },
    {
      "cell_type": "markdown",
      "source": [
        "## Importing Required Libraries\n",
        "\n",
        "*We recommend you import all required libraries in one place (here):*\n"
      ],
      "metadata": {
        "id": "QnDBEsopVDW5"
      }
    },
    {
      "cell_type": "code",
      "source": [
        "import pandas as pd\n",
        "from prophet import Prophet\n",
        "from matplotlib import pyplot\n",
        "from matplotlib.pyplot import figure\n",
        "from sklearn.metrics import mean_absolute_error\n",
        "import plotly.express as px\n",
        "import plotly.graph_objects as go\n",
        "import yfinance as yf\n"
      ],
      "metadata": {
        "id": "FOlNHrLOVDW5"
      },
      "execution_count": 5,
      "outputs": []
    },
    {
      "cell_type": "markdown",
      "source": [
        "# CASE STUDY 1 - Time series analysis of Microsoft Stock Price(2003-5)\n"
      ],
      "metadata": {
        "id": "DXeO1Y7uVDW5"
      }
    },
    {
      "cell_type": "markdown",
      "source": [
        "### Use yfinance Api to collect the data\n"
      ],
      "metadata": {
        "id": "v5-ap0HrVDW5"
      }
    },
    {
      "cell_type": "code",
      "source": [
        "msft = yf.Ticker('MSFT')\n",
        "#msft = msft.history(start='2001-07-06',end='2022-07-06',interval='1d').Close\n",
        "df = msft.history(start='2002-07-06',end='2005-07-06',interval='1d').Close"
      ],
      "metadata": {
        "id": "mzadajZsVDW5"
      },
      "execution_count": 38,
      "outputs": []
    },
    {
      "cell_type": "markdown",
      "source": [
        "### Print the dataset information\n"
      ],
      "metadata": {
        "id": "Uv9mLRjuVDW5"
      }
    },
    {
      "cell_type": "markdown",
      "source": [
        "```DataFrame_Name.head``` function returns the first n rows for the object based on position. \n",
        "\n",
        " It is useful for quickly testing if your object has the right type of data in it.\n",
        "\n",
        " For negative values of n, this function returns all rows except the last |n| rows, equivalent to df[:n]\n"
      ],
      "metadata": {
        "id": "HM75m_5WVDW5"
      }
    },
    {
      "cell_type": "code",
      "source": [
        "df.head()"
      ],
      "metadata": {
        "colab": {
          "base_uri": "https://localhost:8080/"
        },
        "id": "AJ-5dv0YVDW5",
        "outputId": "2c44316d-9b4a-4c11-e518-8786a05a504d"
      },
      "execution_count": 39,
      "outputs": [
        {
          "output_type": "execute_result",
          "data": {
            "text/plain": [
              "Date\n",
              "2002-07-08 00:00:00-04:00    16.549702\n",
              "2002-07-09 00:00:00-04:00    16.640390\n",
              "2002-07-10 00:00:00-04:00    16.337042\n",
              "2002-07-11 00:00:00-04:00    16.546566\n",
              "2002-07-12 00:00:00-04:00    16.218204\n",
              "Name: Close, dtype: float64"
            ]
          },
          "metadata": {},
          "execution_count": 39
        }
      ]
    },
    {
      "cell_type": "markdown",
      "source": [
        "\n",
        "```DataFrame_Name.shape``` gives us the ```dimension``` of the dataset (columns, rows) therefor, we have six timer series (rows) of length 16599 columns\n"
      ],
      "metadata": {
        "id": "_sem78vfVDW6"
      }
    },
    {
      "cell_type": "code",
      "source": [
        "df.shape"
      ],
      "metadata": {
        "colab": {
          "base_uri": "https://localhost:8080/"
        },
        "id": "VVVBQO6XVDW6",
        "outputId": "7a4dc7bb-a0dc-4c20-829b-4517034b624a"
      },
      "execution_count": 40,
      "outputs": [
        {
          "output_type": "execute_result",
          "data": {
            "text/plain": [
              "(755,)"
            ]
          },
          "metadata": {},
          "execution_count": 40
        }
      ]
    },
    {
      "cell_type": "markdown",
      "source": [
        "### Check All column Datatypes\n"
      ],
      "metadata": {
        "id": "2d6XLtc5VDW6"
      }
    },
    {
      "cell_type": "markdown",
      "source": [
        "```dtypes``` function returns a Series with the data type of each column. \n",
        "\n",
        "The result’s index is the original DataFrame’s columns. Columns with mixed types are stored with the object dtype.\n"
      ],
      "metadata": {
        "id": "VeV395NqVDW6"
      }
    },
    {
      "cell_type": "code",
      "source": [
        "df.dtypes"
      ],
      "metadata": {
        "colab": {
          "base_uri": "https://localhost:8080/"
        },
        "id": "1Wy82F8UVDW6",
        "outputId": "07ca4919-7b79-4922-9e97-e58b8a475ce8"
      },
      "execution_count": 41,
      "outputs": [
        {
          "output_type": "execute_result",
          "data": {
            "text/plain": [
              "dtype('float64')"
            ]
          },
          "metadata": {},
          "execution_count": 41
        }
      ]
    },
    {
      "cell_type": "markdown",
      "source": [
        "Date has to be taken out of index"
      ],
      "metadata": {
        "id": "Yvp14iZuqqsr"
      }
    },
    {
      "cell_type": "code",
      "source": [
        "df = df.reset_index()\n",
        "df.head()"
      ],
      "metadata": {
        "colab": {
          "base_uri": "https://localhost:8080/",
          "height": 0
        },
        "id": "QycykJmrhpaH",
        "outputId": "21dd18c9-b07a-4ee4-88d6-5b782480fad0"
      },
      "execution_count": 42,
      "outputs": [
        {
          "output_type": "execute_result",
          "data": {
            "text/plain": [
              "                       Date      Close\n",
              "0 2002-07-08 00:00:00-04:00  16.549702\n",
              "1 2002-07-09 00:00:00-04:00  16.640390\n",
              "2 2002-07-10 00:00:00-04:00  16.337042\n",
              "3 2002-07-11 00:00:00-04:00  16.546566\n",
              "4 2002-07-12 00:00:00-04:00  16.218204"
            ],
            "text/html": [
              "\n",
              "  <div id=\"df-61d3783b-d163-4e8e-ba90-904163f4fa2b\">\n",
              "    <div class=\"colab-df-container\">\n",
              "      <div>\n",
              "<style scoped>\n",
              "    .dataframe tbody tr th:only-of-type {\n",
              "        vertical-align: middle;\n",
              "    }\n",
              "\n",
              "    .dataframe tbody tr th {\n",
              "        vertical-align: top;\n",
              "    }\n",
              "\n",
              "    .dataframe thead th {\n",
              "        text-align: right;\n",
              "    }\n",
              "</style>\n",
              "<table border=\"1\" class=\"dataframe\">\n",
              "  <thead>\n",
              "    <tr style=\"text-align: right;\">\n",
              "      <th></th>\n",
              "      <th>Date</th>\n",
              "      <th>Close</th>\n",
              "    </tr>\n",
              "  </thead>\n",
              "  <tbody>\n",
              "    <tr>\n",
              "      <th>0</th>\n",
              "      <td>2002-07-08 00:00:00-04:00</td>\n",
              "      <td>16.549702</td>\n",
              "    </tr>\n",
              "    <tr>\n",
              "      <th>1</th>\n",
              "      <td>2002-07-09 00:00:00-04:00</td>\n",
              "      <td>16.640390</td>\n",
              "    </tr>\n",
              "    <tr>\n",
              "      <th>2</th>\n",
              "      <td>2002-07-10 00:00:00-04:00</td>\n",
              "      <td>16.337042</td>\n",
              "    </tr>\n",
              "    <tr>\n",
              "      <th>3</th>\n",
              "      <td>2002-07-11 00:00:00-04:00</td>\n",
              "      <td>16.546566</td>\n",
              "    </tr>\n",
              "    <tr>\n",
              "      <th>4</th>\n",
              "      <td>2002-07-12 00:00:00-04:00</td>\n",
              "      <td>16.218204</td>\n",
              "    </tr>\n",
              "  </tbody>\n",
              "</table>\n",
              "</div>\n",
              "      <button class=\"colab-df-convert\" onclick=\"convertToInteractive('df-61d3783b-d163-4e8e-ba90-904163f4fa2b')\"\n",
              "              title=\"Convert this dataframe to an interactive table.\"\n",
              "              style=\"display:none;\">\n",
              "        \n",
              "  <svg xmlns=\"http://www.w3.org/2000/svg\" height=\"24px\"viewBox=\"0 0 24 24\"\n",
              "       width=\"24px\">\n",
              "    <path d=\"M0 0h24v24H0V0z\" fill=\"none\"/>\n",
              "    <path d=\"M18.56 5.44l.94 2.06.94-2.06 2.06-.94-2.06-.94-.94-2.06-.94 2.06-2.06.94zm-11 1L8.5 8.5l.94-2.06 2.06-.94-2.06-.94L8.5 2.5l-.94 2.06-2.06.94zm10 10l.94 2.06.94-2.06 2.06-.94-2.06-.94-.94-2.06-.94 2.06-2.06.94z\"/><path d=\"M17.41 7.96l-1.37-1.37c-.4-.4-.92-.59-1.43-.59-.52 0-1.04.2-1.43.59L10.3 9.45l-7.72 7.72c-.78.78-.78 2.05 0 2.83L4 21.41c.39.39.9.59 1.41.59.51 0 1.02-.2 1.41-.59l7.78-7.78 2.81-2.81c.8-.78.8-2.07 0-2.86zM5.41 20L4 18.59l7.72-7.72 1.47 1.35L5.41 20z\"/>\n",
              "  </svg>\n",
              "      </button>\n",
              "      \n",
              "  <style>\n",
              "    .colab-df-container {\n",
              "      display:flex;\n",
              "      flex-wrap:wrap;\n",
              "      gap: 12px;\n",
              "    }\n",
              "\n",
              "    .colab-df-convert {\n",
              "      background-color: #E8F0FE;\n",
              "      border: none;\n",
              "      border-radius: 50%;\n",
              "      cursor: pointer;\n",
              "      display: none;\n",
              "      fill: #1967D2;\n",
              "      height: 32px;\n",
              "      padding: 0 0 0 0;\n",
              "      width: 32px;\n",
              "    }\n",
              "\n",
              "    .colab-df-convert:hover {\n",
              "      background-color: #E2EBFA;\n",
              "      box-shadow: 0px 1px 2px rgba(60, 64, 67, 0.3), 0px 1px 3px 1px rgba(60, 64, 67, 0.15);\n",
              "      fill: #174EA6;\n",
              "    }\n",
              "\n",
              "    [theme=dark] .colab-df-convert {\n",
              "      background-color: #3B4455;\n",
              "      fill: #D2E3FC;\n",
              "    }\n",
              "\n",
              "    [theme=dark] .colab-df-convert:hover {\n",
              "      background-color: #434B5C;\n",
              "      box-shadow: 0px 1px 3px 1px rgba(0, 0, 0, 0.15);\n",
              "      filter: drop-shadow(0px 1px 2px rgba(0, 0, 0, 0.3));\n",
              "      fill: #FFFFFF;\n",
              "    }\n",
              "  </style>\n",
              "\n",
              "      <script>\n",
              "        const buttonEl =\n",
              "          document.querySelector('#df-61d3783b-d163-4e8e-ba90-904163f4fa2b button.colab-df-convert');\n",
              "        buttonEl.style.display =\n",
              "          google.colab.kernel.accessAllowed ? 'block' : 'none';\n",
              "\n",
              "        async function convertToInteractive(key) {\n",
              "          const element = document.querySelector('#df-61d3783b-d163-4e8e-ba90-904163f4fa2b');\n",
              "          const dataTable =\n",
              "            await google.colab.kernel.invokeFunction('convertToInteractive',\n",
              "                                                     [key], {});\n",
              "          if (!dataTable) return;\n",
              "\n",
              "          const docLinkHtml = 'Like what you see? Visit the ' +\n",
              "            '<a target=\"_blank\" href=https://colab.research.google.com/notebooks/data_table.ipynb>data table notebook</a>'\n",
              "            + ' to learn more about interactive tables.';\n",
              "          element.innerHTML = '';\n",
              "          dataTable['output_type'] = 'display_data';\n",
              "          await google.colab.output.renderOutput(dataTable, element);\n",
              "          const docLink = document.createElement('div');\n",
              "          docLink.innerHTML = docLinkHtml;\n",
              "          element.appendChild(docLink);\n",
              "        }\n",
              "      </script>\n",
              "    </div>\n",
              "  </div>\n",
              "  "
            ]
          },
          "metadata": {},
          "execution_count": 42
        }
      ]
    },
    {
      "cell_type": "markdown",
      "source": [
        "## Format Dates column into datetime type\n"
      ],
      "metadata": {
        "id": "fEBQ3N7FVDW6"
      }
    },
    {
      "cell_type": "markdown",
      "source": [
        "A ```to_datetime``` function converts a scalar, array-like, Series or DataFrame/dict-like to a pandas datetime object.\n",
        "\n",
        "Here we have convert ```Dates``` column to ```datetime``` object as it was in ```object``` type and for prophet model we need datetime type.\n",
        "\n",
        "The timezone also has to be removed from the date so  a function has to be applied to that Date Series.\n"
      ],
      "metadata": {
        "id": "Q5joh4rRVDW6"
      }
    },
    {
      "cell_type": "code",
      "source": [
        "df['Date'] = pd.to_datetime(df['Date'].astype(str), format='%Y/%m/%d')\n",
        "\n",
        "def remove_timezone(dt):\n",
        "   \n",
        "    # HERE `dt` is a python datetime\n",
        "    # object that used .replace() method\n",
        "    return dt.replace(tzinfo=None)\n",
        " \n",
        "# APPLY THE ABOVE FUNCTION TO\n",
        "# REMOVE THE TIMEZONE INFORMATION\n",
        "# FROM EACH RECORD OF TIMESTAMP COLUMN IN DATAFRAME\n",
        "df['Date'] = df['Date'].apply(remove_timezone)"
      ],
      "metadata": {
        "id": "ErO1OxGhVDW6"
      },
      "execution_count": 43,
      "outputs": []
    },
    {
      "cell_type": "markdown",
      "source": [
        "## Group by Dates\n"
      ],
      "metadata": {
        "id": "IvtMqiZtVDW6"
      }
    },
    {
      "cell_type": "markdown",
      "source": [
        "A ```groupby``` operation involves some combination of splitting the object, applying a function, and combining the results. \n",
        "\n",
        "\n",
        "Here we  ```groupby``` our dataframe using the ```Dates``` column. This is because we have different states of data so we will find average usage for all the states.\n"
      ],
      "metadata": {
        "id": "LLxiQgkRVDW7"
      }
    },
    {
      "cell_type": "code",
      "source": [
        "df=df.groupby('Date',as_index=False).mean()\n",
        "print(df.head())"
      ],
      "metadata": {
        "colab": {
          "base_uri": "https://localhost:8080/"
        },
        "id": "TEjcILOFVDW7",
        "outputId": "e3ffd67c-1e7f-48fe-a226-2d2df989acac"
      },
      "execution_count": 44,
      "outputs": [
        {
          "output_type": "stream",
          "name": "stdout",
          "text": [
            "        Date      Close\n",
            "0 2002-07-08  16.549702\n",
            "1 2002-07-09  16.640390\n",
            "2 2002-07-10  16.337042\n",
            "3 2002-07-11  16.546566\n",
            "4 2002-07-12  16.218204\n"
          ]
        }
      ]
    },
    {
      "cell_type": "code",
      "source": [
        "df.Date[0]"
      ],
      "metadata": {
        "colab": {
          "base_uri": "https://localhost:8080/"
        },
        "id": "RvfMa5ZMljCz",
        "outputId": "52b10965-ede4-4e6d-88a8-10510168af6f"
      },
      "execution_count": 45,
      "outputs": [
        {
          "output_type": "execute_result",
          "data": {
            "text/plain": [
              "Timestamp('2002-07-08 00:00:00')"
            ]
          },
          "metadata": {},
          "execution_count": 45
        }
      ]
    },
    {
      "cell_type": "markdown",
      "source": [
        "Dataset shape is 498 because we have approx 1 year 5 months of data\n"
      ],
      "metadata": {
        "id": "6wDn-0AhVDW7"
      }
    },
    {
      "cell_type": "code",
      "source": [
        "print(df.shape) "
      ],
      "metadata": {
        "colab": {
          "base_uri": "https://localhost:8080/"
        },
        "id": "uWoNxRlIVDW7",
        "outputId": "68c3c379-dcb2-4a90-c08d-6b4cd2cd5f39"
      },
      "execution_count": 46,
      "outputs": [
        {
          "output_type": "stream",
          "name": "stdout",
          "text": [
            "(755, 2)\n"
          ]
        }
      ]
    },
    {
      "cell_type": "markdown",
      "source": [
        "### select the datetime column and target column\n"
      ],
      "metadata": {
        "id": "HU7qx-4eVDW7"
      }
    },
    {
      "cell_type": "markdown",
      "source": [
        "Here We are selecting only 2 columns which are needed for time series forecasting as prophet model needs dataframe with 2 columns\n",
        "\n",
        "1) Datetime column (Dates)\n",
        "\n",
        "2) Target column (Usage)\n",
        "\n",
        "To ```select multiple columns```, use a ``list`` of ``column names`` within the selection brackets.\n"
      ],
      "metadata": {
        "id": "-QaSXk6NVDW7"
      }
    },
    {
      "cell_type": "markdown",
      "source": [
        "You can also use drop function to drop unnecessary column by using, drop specifying  labels from rows or columns.\n",
        "\n",
        "Axis=0 can be used for dropping particular Rows.\n",
        "\n",
        "Axis=1 can be used for dropping particular Columns.\n"
      ],
      "metadata": {
        "id": "NwX9huV8VDW7"
      }
    },
    {
      "cell_type": "code",
      "source": [
        "##optional if you are using above command\n",
        "##df.drop(['latitude','longitude'],inplace=True,axis=1)"
      ],
      "metadata": {
        "id": "9yFNWDrRVDW7"
      },
      "execution_count": 47,
      "outputs": []
    },
    {
      "cell_type": "markdown",
      "source": [
        "## Introduction to Plotly library\n"
      ],
      "metadata": {
        "id": "GqXcXJ72VDW8"
      }
    },
    {
      "cell_type": "markdown",
      "source": [
        "<center><img src=\"https://cf-courses-data.s3.us.cloud-object-storage.appdomain.cloud/IBM-GPXX032NEN/images/Untitled%20design%20%289%29.png\" width=\"550\" height=\"550\"></center>\n"
      ],
      "metadata": {
        "id": "9NLjUmvAVDW8"
      }
    },
    {
      "cell_type": "markdown",
      "source": [
        "You’ve probably heard about ```Matplotib and Seaborn``` since they are often mentioned in Data Science courses. \n",
        "But do you know these libraries are designed for ```basic plotting```.\n",
        "Therefore here we have used ```Plotly``` library to plot our time series data.\n",
        "\n",
        "The ```plotly``` Python library is an ```interactive, open-source``` plotting library that supports over 40 unique chart types covering a wide range of statistical, financial, geographic, scientific, and 3-dimensional use-cases.\n"
      ],
      "metadata": {
        "id": "bfJLAgMXVDW8"
      }
    },
    {
      "cell_type": "markdown",
      "source": [
        "You can simply install plotly using below command.\n",
        "\n",
        "```pip install plotly```\n",
        "\n",
        "### Features of Plotly:\n",
        "1) zoom\n",
        "2) pan \n",
        "3) hover over datapoint.\n"
      ],
      "metadata": {
        "id": "bEqhWdOGVDW8"
      }
    },
    {
      "cell_type": "markdown",
      "source": [
        "### Plot the Data\n"
      ],
      "metadata": {
        "id": "i9cfphhqVDW8"
      }
    },
    {
      "cell_type": "markdown",
      "source": [
        "\n",
        "\n",
        "```X cordinates``` will represent ```Dates``` column from dataframe (df).\n",
        "\n",
        "```Y cordinates``` will represent target column which is ```Usage``` column from dataframe (df).\n"
      ],
      "metadata": {
        "id": "2dUTWBNSVDW8"
      }
    },
    {
      "cell_type": "code",
      "source": [
        "fig = px.line(df, x='Date', y='Close')\n",
        "fig.show()"
      ],
      "metadata": {
        "colab": {
          "base_uri": "https://localhost:8080/",
          "height": 542
        },
        "id": "kCVFdB4AVDW8",
        "outputId": "a490817f-2bb7-4b53-f0d5-822cd826a01b"
      },
      "execution_count": 48,
      "outputs": [
        {
          "output_type": "display_data",
          "data": {
            "text/html": [
              "<html>\n",
              "<head><meta charset=\"utf-8\" /></head>\n",
              "<body>\n",
              "    <div>            <script src=\"https://cdnjs.cloudflare.com/ajax/libs/mathjax/2.7.5/MathJax.js?config=TeX-AMS-MML_SVG\"></script><script type=\"text/javascript\">if (window.MathJax) {MathJax.Hub.Config({SVG: {font: \"STIX-Web\"}});}</script>                <script type=\"text/javascript\">window.PlotlyConfig = {MathJaxConfig: 'local'};</script>\n",
              "        <script src=\"https://cdn.plot.ly/plotly-2.8.3.min.js\"></script>                <div id=\"df6464b3-92a6-4dea-b935-4acca265176e\" class=\"plotly-graph-div\" style=\"height:525px; width:100%;\"></div>            <script type=\"text/javascript\">                                    window.PLOTLYENV=window.PLOTLYENV || {};                                    if (document.getElementById(\"df6464b3-92a6-4dea-b935-4acca265176e\")) {                    Plotly.newPlot(                        \"df6464b3-92a6-4dea-b935-4acca265176e\",                        [{\"hovertemplate\":\"Date=%{x}<br>Close=%{y}<extra></extra>\",\"legendgroup\":\"\",\"line\":{\"color\":\"#636efa\",\"dash\":\"solid\"},\"marker\":{\"symbol\":\"circle\"},\"mode\":\"lines\",\"name\":\"\",\"orientation\":\"v\",\"showlegend\":false,\"x\":[\"2002-07-08T00:00:00\",\"2002-07-09T00:00:00\",\"2002-07-10T00:00:00\",\"2002-07-11T00:00:00\",\"2002-07-12T00:00:00\",\"2002-07-15T00:00:00\",\"2002-07-16T00:00:00\",\"2002-07-17T00:00:00\",\"2002-07-18T00:00:00\",\"2002-07-19T00:00:00\",\"2002-07-22T00:00:00\",\"2002-07-23T00:00:00\",\"2002-07-24T00:00:00\",\"2002-07-25T00:00:00\",\"2002-07-26T00:00:00\",\"2002-07-29T00:00:00\",\"2002-07-30T00:00:00\",\"2002-07-31T00:00:00\",\"2002-08-01T00:00:00\",\"2002-08-02T00:00:00\",\"2002-08-05T00:00:00\",\"2002-08-06T00:00:00\",\"2002-08-07T00:00:00\",\"2002-08-08T00:00:00\",\"2002-08-09T00:00:00\",\"2002-08-12T00:00:00\",\"2002-08-13T00:00:00\",\"2002-08-14T00:00:00\",\"2002-08-15T00:00:00\",\"2002-08-16T00:00:00\",\"2002-08-19T00:00:00\",\"2002-08-20T00:00:00\",\"2002-08-21T00:00:00\",\"2002-08-22T00:00:00\",\"2002-08-23T00:00:00\",\"2002-08-26T00:00:00\",\"2002-08-27T00:00:00\",\"2002-08-28T00:00:00\",\"2002-08-29T00:00:00\",\"2002-08-30T00:00:00\",\"2002-09-03T00:00:00\",\"2002-09-04T00:00:00\",\"2002-09-05T00:00:00\",\"2002-09-06T00:00:00\",\"2002-09-09T00:00:00\",\"2002-09-10T00:00:00\",\"2002-09-11T00:00:00\",\"2002-09-12T00:00:00\",\"2002-09-13T00:00:00\",\"2002-09-16T00:00:00\",\"2002-09-17T00:00:00\",\"2002-09-18T00:00:00\",\"2002-09-19T00:00:00\",\"2002-09-20T00:00:00\",\"2002-09-23T00:00:00\",\"2002-09-24T00:00:00\",\"2002-09-25T00:00:00\",\"2002-09-26T00:00:00\",\"2002-09-27T00:00:00\",\"2002-09-30T00:00:00\",\"2002-10-01T00:00:00\",\"2002-10-02T00:00:00\",\"2002-10-03T00:00:00\",\"2002-10-04T00:00:00\",\"2002-10-07T00:00:00\",\"2002-10-08T00:00:00\",\"2002-10-09T00:00:00\",\"2002-10-10T00:00:00\",\"2002-10-11T00:00:00\",\"2002-10-14T00:00:00\",\"2002-10-15T00:00:00\",\"2002-10-16T00:00:00\",\"2002-10-17T00:00:00\",\"2002-10-18T00:00:00\",\"2002-10-21T00:00:00\",\"2002-10-22T00:00:00\",\"2002-10-23T00:00:00\",\"2002-10-24T00:00:00\",\"2002-10-25T00:00:00\",\"2002-10-28T00:00:00\",\"2002-10-29T00:00:00\",\"2002-10-30T00:00:00\",\"2002-10-31T00:00:00\",\"2002-11-01T00:00:00\",\"2002-11-04T00:00:00\",\"2002-11-05T00:00:00\",\"2002-11-06T00:00:00\",\"2002-11-07T00:00:00\",\"2002-11-08T00:00:00\",\"2002-11-11T00:00:00\",\"2002-11-12T00:00:00\",\"2002-11-13T00:00:00\",\"2002-11-14T00:00:00\",\"2002-11-15T00:00:00\",\"2002-11-18T00:00:00\",\"2002-11-19T00:00:00\",\"2002-11-20T00:00:00\",\"2002-11-21T00:00:00\",\"2002-11-22T00:00:00\",\"2002-11-25T00:00:00\",\"2002-11-26T00:00:00\",\"2002-11-27T00:00:00\",\"2002-11-29T00:00:00\",\"2002-12-02T00:00:00\",\"2002-12-03T00:00:00\",\"2002-12-04T00:00:00\",\"2002-12-05T00:00:00\",\"2002-12-06T00:00:00\",\"2002-12-09T00:00:00\",\"2002-12-10T00:00:00\",\"2002-12-11T00:00:00\",\"2002-12-12T00:00:00\",\"2002-12-13T00:00:00\",\"2002-12-16T00:00:00\",\"2002-12-17T00:00:00\",\"2002-12-18T00:00:00\",\"2002-12-19T00:00:00\",\"2002-12-20T00:00:00\",\"2002-12-23T00:00:00\",\"2002-12-24T00:00:00\",\"2002-12-26T00:00:00\",\"2002-12-27T00:00:00\",\"2002-12-30T00:00:00\",\"2002-12-31T00:00:00\",\"2003-01-02T00:00:00\",\"2003-01-03T00:00:00\",\"2003-01-06T00:00:00\",\"2003-01-07T00:00:00\",\"2003-01-08T00:00:00\",\"2003-01-09T00:00:00\",\"2003-01-10T00:00:00\",\"2003-01-13T00:00:00\",\"2003-01-14T00:00:00\",\"2003-01-15T00:00:00\",\"2003-01-16T00:00:00\",\"2003-01-17T00:00:00\",\"2003-01-21T00:00:00\",\"2003-01-22T00:00:00\",\"2003-01-23T00:00:00\",\"2003-01-24T00:00:00\",\"2003-01-27T00:00:00\",\"2003-01-28T00:00:00\",\"2003-01-29T00:00:00\",\"2003-01-30T00:00:00\",\"2003-01-31T00:00:00\",\"2003-02-03T00:00:00\",\"2003-02-04T00:00:00\",\"2003-02-05T00:00:00\",\"2003-02-06T00:00:00\",\"2003-02-07T00:00:00\",\"2003-02-10T00:00:00\",\"2003-02-11T00:00:00\",\"2003-02-12T00:00:00\",\"2003-02-13T00:00:00\",\"2003-02-14T00:00:00\",\"2003-02-18T00:00:00\",\"2003-02-19T00:00:00\",\"2003-02-20T00:00:00\",\"2003-02-21T00:00:00\",\"2003-02-24T00:00:00\",\"2003-02-25T00:00:00\",\"2003-02-26T00:00:00\",\"2003-02-27T00:00:00\",\"2003-02-28T00:00:00\",\"2003-03-03T00:00:00\",\"2003-03-04T00:00:00\",\"2003-03-05T00:00:00\",\"2003-03-06T00:00:00\",\"2003-03-07T00:00:00\",\"2003-03-10T00:00:00\",\"2003-03-11T00:00:00\",\"2003-03-12T00:00:00\",\"2003-03-13T00:00:00\",\"2003-03-14T00:00:00\",\"2003-03-17T00:00:00\",\"2003-03-18T00:00:00\",\"2003-03-19T00:00:00\",\"2003-03-20T00:00:00\",\"2003-03-21T00:00:00\",\"2003-03-24T00:00:00\",\"2003-03-25T00:00:00\",\"2003-03-26T00:00:00\",\"2003-03-27T00:00:00\",\"2003-03-28T00:00:00\",\"2003-03-31T00:00:00\",\"2003-04-01T00:00:00\",\"2003-04-02T00:00:00\",\"2003-04-03T00:00:00\",\"2003-04-04T00:00:00\",\"2003-04-07T00:00:00\",\"2003-04-08T00:00:00\",\"2003-04-09T00:00:00\",\"2003-04-10T00:00:00\",\"2003-04-11T00:00:00\",\"2003-04-14T00:00:00\",\"2003-04-15T00:00:00\",\"2003-04-16T00:00:00\",\"2003-04-17T00:00:00\",\"2003-04-21T00:00:00\",\"2003-04-22T00:00:00\",\"2003-04-23T00:00:00\",\"2003-04-24T00:00:00\",\"2003-04-25T00:00:00\",\"2003-04-28T00:00:00\",\"2003-04-29T00:00:00\",\"2003-04-30T00:00:00\",\"2003-05-01T00:00:00\",\"2003-05-02T00:00:00\",\"2003-05-05T00:00:00\",\"2003-05-06T00:00:00\",\"2003-05-07T00:00:00\",\"2003-05-08T00:00:00\",\"2003-05-09T00:00:00\",\"2003-05-12T00:00:00\",\"2003-05-13T00:00:00\",\"2003-05-14T00:00:00\",\"2003-05-15T00:00:00\",\"2003-05-16T00:00:00\",\"2003-05-19T00:00:00\",\"2003-05-20T00:00:00\",\"2003-05-21T00:00:00\",\"2003-05-22T00:00:00\",\"2003-05-23T00:00:00\",\"2003-05-27T00:00:00\",\"2003-05-28T00:00:00\",\"2003-05-29T00:00:00\",\"2003-05-30T00:00:00\",\"2003-06-02T00:00:00\",\"2003-06-03T00:00:00\",\"2003-06-04T00:00:00\",\"2003-06-05T00:00:00\",\"2003-06-06T00:00:00\",\"2003-06-09T00:00:00\",\"2003-06-10T00:00:00\",\"2003-06-11T00:00:00\",\"2003-06-12T00:00:00\",\"2003-06-13T00:00:00\",\"2003-06-16T00:00:00\",\"2003-06-17T00:00:00\",\"2003-06-18T00:00:00\",\"2003-06-19T00:00:00\",\"2003-06-20T00:00:00\",\"2003-06-23T00:00:00\",\"2003-06-24T00:00:00\",\"2003-06-25T00:00:00\",\"2003-06-26T00:00:00\",\"2003-06-27T00:00:00\",\"2003-06-30T00:00:00\",\"2003-07-01T00:00:00\",\"2003-07-02T00:00:00\",\"2003-07-03T00:00:00\",\"2003-07-07T00:00:00\",\"2003-07-08T00:00:00\",\"2003-07-09T00:00:00\",\"2003-07-10T00:00:00\",\"2003-07-11T00:00:00\",\"2003-07-14T00:00:00\",\"2003-07-15T00:00:00\",\"2003-07-16T00:00:00\",\"2003-07-17T00:00:00\",\"2003-07-18T00:00:00\",\"2003-07-21T00:00:00\",\"2003-07-22T00:00:00\",\"2003-07-23T00:00:00\",\"2003-07-24T00:00:00\",\"2003-07-25T00:00:00\",\"2003-07-28T00:00:00\",\"2003-07-29T00:00:00\",\"2003-07-30T00:00:00\",\"2003-07-31T00:00:00\",\"2003-08-01T00:00:00\",\"2003-08-04T00:00:00\",\"2003-08-05T00:00:00\",\"2003-08-06T00:00:00\",\"2003-08-07T00:00:00\",\"2003-08-08T00:00:00\",\"2003-08-11T00:00:00\",\"2003-08-12T00:00:00\",\"2003-08-13T00:00:00\",\"2003-08-14T00:00:00\",\"2003-08-15T00:00:00\",\"2003-08-18T00:00:00\",\"2003-08-19T00:00:00\",\"2003-08-20T00:00:00\",\"2003-08-21T00:00:00\",\"2003-08-22T00:00:00\",\"2003-08-25T00:00:00\",\"2003-08-26T00:00:00\",\"2003-08-27T00:00:00\",\"2003-08-28T00:00:00\",\"2003-08-29T00:00:00\",\"2003-09-02T00:00:00\",\"2003-09-03T00:00:00\",\"2003-09-04T00:00:00\",\"2003-09-05T00:00:00\",\"2003-09-08T00:00:00\",\"2003-09-09T00:00:00\",\"2003-09-10T00:00:00\",\"2003-09-11T00:00:00\",\"2003-09-12T00:00:00\",\"2003-09-15T00:00:00\",\"2003-09-16T00:00:00\",\"2003-09-17T00:00:00\",\"2003-09-18T00:00:00\",\"2003-09-19T00:00:00\",\"2003-09-22T00:00:00\",\"2003-09-23T00:00:00\",\"2003-09-24T00:00:00\",\"2003-09-25T00:00:00\",\"2003-09-26T00:00:00\",\"2003-09-29T00:00:00\",\"2003-09-30T00:00:00\",\"2003-10-01T00:00:00\",\"2003-10-02T00:00:00\",\"2003-10-03T00:00:00\",\"2003-10-06T00:00:00\",\"2003-10-07T00:00:00\",\"2003-10-08T00:00:00\",\"2003-10-09T00:00:00\",\"2003-10-10T00:00:00\",\"2003-10-13T00:00:00\",\"2003-10-14T00:00:00\",\"2003-10-15T00:00:00\",\"2003-10-16T00:00:00\",\"2003-10-17T00:00:00\",\"2003-10-20T00:00:00\",\"2003-10-21T00:00:00\",\"2003-10-22T00:00:00\",\"2003-10-23T00:00:00\",\"2003-10-24T00:00:00\",\"2003-10-27T00:00:00\",\"2003-10-28T00:00:00\",\"2003-10-29T00:00:00\",\"2003-10-30T00:00:00\",\"2003-10-31T00:00:00\",\"2003-11-03T00:00:00\",\"2003-11-04T00:00:00\",\"2003-11-05T00:00:00\",\"2003-11-06T00:00:00\",\"2003-11-07T00:00:00\",\"2003-11-10T00:00:00\",\"2003-11-11T00:00:00\",\"2003-11-12T00:00:00\",\"2003-11-13T00:00:00\",\"2003-11-14T00:00:00\",\"2003-11-17T00:00:00\",\"2003-11-18T00:00:00\",\"2003-11-19T00:00:00\",\"2003-11-20T00:00:00\",\"2003-11-21T00:00:00\",\"2003-11-24T00:00:00\",\"2003-11-25T00:00:00\",\"2003-11-26T00:00:00\",\"2003-11-28T00:00:00\",\"2003-12-01T00:00:00\",\"2003-12-02T00:00:00\",\"2003-12-03T00:00:00\",\"2003-12-04T00:00:00\",\"2003-12-05T00:00:00\",\"2003-12-08T00:00:00\",\"2003-12-09T00:00:00\",\"2003-12-10T00:00:00\",\"2003-12-11T00:00:00\",\"2003-12-12T00:00:00\",\"2003-12-15T00:00:00\",\"2003-12-16T00:00:00\",\"2003-12-17T00:00:00\",\"2003-12-18T00:00:00\",\"2003-12-19T00:00:00\",\"2003-12-22T00:00:00\",\"2003-12-23T00:00:00\",\"2003-12-24T00:00:00\",\"2003-12-26T00:00:00\",\"2003-12-29T00:00:00\",\"2003-12-30T00:00:00\",\"2003-12-31T00:00:00\",\"2004-01-02T00:00:00\",\"2004-01-05T00:00:00\",\"2004-01-06T00:00:00\",\"2004-01-07T00:00:00\",\"2004-01-08T00:00:00\",\"2004-01-09T00:00:00\",\"2004-01-12T00:00:00\",\"2004-01-13T00:00:00\",\"2004-01-14T00:00:00\",\"2004-01-15T00:00:00\",\"2004-01-16T00:00:00\",\"2004-01-20T00:00:00\",\"2004-01-21T00:00:00\",\"2004-01-22T00:00:00\",\"2004-01-23T00:00:00\",\"2004-01-26T00:00:00\",\"2004-01-27T00:00:00\",\"2004-01-28T00:00:00\",\"2004-01-29T00:00:00\",\"2004-01-30T00:00:00\",\"2004-02-02T00:00:00\",\"2004-02-03T00:00:00\",\"2004-02-04T00:00:00\",\"2004-02-05T00:00:00\",\"2004-02-06T00:00:00\",\"2004-02-09T00:00:00\",\"2004-02-10T00:00:00\",\"2004-02-11T00:00:00\",\"2004-02-12T00:00:00\",\"2004-02-13T00:00:00\",\"2004-02-17T00:00:00\",\"2004-02-18T00:00:00\",\"2004-02-19T00:00:00\",\"2004-02-20T00:00:00\",\"2004-02-23T00:00:00\",\"2004-02-24T00:00:00\",\"2004-02-25T00:00:00\",\"2004-02-26T00:00:00\",\"2004-02-27T00:00:00\",\"2004-03-01T00:00:00\",\"2004-03-02T00:00:00\",\"2004-03-03T00:00:00\",\"2004-03-04T00:00:00\",\"2004-03-05T00:00:00\",\"2004-03-08T00:00:00\",\"2004-03-09T00:00:00\",\"2004-03-10T00:00:00\",\"2004-03-11T00:00:00\",\"2004-03-12T00:00:00\",\"2004-03-15T00:00:00\",\"2004-03-16T00:00:00\",\"2004-03-17T00:00:00\",\"2004-03-18T00:00:00\",\"2004-03-19T00:00:00\",\"2004-03-22T00:00:00\",\"2004-03-23T00:00:00\",\"2004-03-24T00:00:00\",\"2004-03-25T00:00:00\",\"2004-03-26T00:00:00\",\"2004-03-29T00:00:00\",\"2004-03-30T00:00:00\",\"2004-03-31T00:00:00\",\"2004-04-01T00:00:00\",\"2004-04-02T00:00:00\",\"2004-04-05T00:00:00\",\"2004-04-06T00:00:00\",\"2004-04-07T00:00:00\",\"2004-04-08T00:00:00\",\"2004-04-12T00:00:00\",\"2004-04-13T00:00:00\",\"2004-04-14T00:00:00\",\"2004-04-15T00:00:00\",\"2004-04-16T00:00:00\",\"2004-04-19T00:00:00\",\"2004-04-20T00:00:00\",\"2004-04-21T00:00:00\",\"2004-04-22T00:00:00\",\"2004-04-23T00:00:00\",\"2004-04-26T00:00:00\",\"2004-04-27T00:00:00\",\"2004-04-28T00:00:00\",\"2004-04-29T00:00:00\",\"2004-04-30T00:00:00\",\"2004-05-03T00:00:00\",\"2004-05-04T00:00:00\",\"2004-05-05T00:00:00\",\"2004-05-06T00:00:00\",\"2004-05-07T00:00:00\",\"2004-05-10T00:00:00\",\"2004-05-11T00:00:00\",\"2004-05-12T00:00:00\",\"2004-05-13T00:00:00\",\"2004-05-14T00:00:00\",\"2004-05-17T00:00:00\",\"2004-05-18T00:00:00\",\"2004-05-19T00:00:00\",\"2004-05-20T00:00:00\",\"2004-05-21T00:00:00\",\"2004-05-24T00:00:00\",\"2004-05-25T00:00:00\",\"2004-05-26T00:00:00\",\"2004-05-27T00:00:00\",\"2004-05-28T00:00:00\",\"2004-06-01T00:00:00\",\"2004-06-02T00:00:00\",\"2004-06-03T00:00:00\",\"2004-06-04T00:00:00\",\"2004-06-07T00:00:00\",\"2004-06-08T00:00:00\",\"2004-06-09T00:00:00\",\"2004-06-10T00:00:00\",\"2004-06-14T00:00:00\",\"2004-06-15T00:00:00\",\"2004-06-16T00:00:00\",\"2004-06-17T00:00:00\",\"2004-06-18T00:00:00\",\"2004-06-21T00:00:00\",\"2004-06-22T00:00:00\",\"2004-06-23T00:00:00\",\"2004-06-24T00:00:00\",\"2004-06-25T00:00:00\",\"2004-06-28T00:00:00\",\"2004-06-29T00:00:00\",\"2004-06-30T00:00:00\",\"2004-07-01T00:00:00\",\"2004-07-02T00:00:00\",\"2004-07-06T00:00:00\",\"2004-07-07T00:00:00\",\"2004-07-08T00:00:00\",\"2004-07-09T00:00:00\",\"2004-07-12T00:00:00\",\"2004-07-13T00:00:00\",\"2004-07-14T00:00:00\",\"2004-07-15T00:00:00\",\"2004-07-16T00:00:00\",\"2004-07-19T00:00:00\",\"2004-07-20T00:00:00\",\"2004-07-21T00:00:00\",\"2004-07-22T00:00:00\",\"2004-07-23T00:00:00\",\"2004-07-26T00:00:00\",\"2004-07-27T00:00:00\",\"2004-07-28T00:00:00\",\"2004-07-29T00:00:00\",\"2004-07-30T00:00:00\",\"2004-08-02T00:00:00\",\"2004-08-03T00:00:00\",\"2004-08-04T00:00:00\",\"2004-08-05T00:00:00\",\"2004-08-06T00:00:00\",\"2004-08-09T00:00:00\",\"2004-08-10T00:00:00\",\"2004-08-11T00:00:00\",\"2004-08-12T00:00:00\",\"2004-08-13T00:00:00\",\"2004-08-16T00:00:00\",\"2004-08-17T00:00:00\",\"2004-08-18T00:00:00\",\"2004-08-19T00:00:00\",\"2004-08-20T00:00:00\",\"2004-08-23T00:00:00\",\"2004-08-24T00:00:00\",\"2004-08-25T00:00:00\",\"2004-08-26T00:00:00\",\"2004-08-27T00:00:00\",\"2004-08-30T00:00:00\",\"2004-08-31T00:00:00\",\"2004-09-01T00:00:00\",\"2004-09-02T00:00:00\",\"2004-09-03T00:00:00\",\"2004-09-07T00:00:00\",\"2004-09-08T00:00:00\",\"2004-09-09T00:00:00\",\"2004-09-10T00:00:00\",\"2004-09-13T00:00:00\",\"2004-09-14T00:00:00\",\"2004-09-15T00:00:00\",\"2004-09-16T00:00:00\",\"2004-09-17T00:00:00\",\"2004-09-20T00:00:00\",\"2004-09-21T00:00:00\",\"2004-09-22T00:00:00\",\"2004-09-23T00:00:00\",\"2004-09-24T00:00:00\",\"2004-09-27T00:00:00\",\"2004-09-28T00:00:00\",\"2004-09-29T00:00:00\",\"2004-09-30T00:00:00\",\"2004-10-01T00:00:00\",\"2004-10-04T00:00:00\",\"2004-10-05T00:00:00\",\"2004-10-06T00:00:00\",\"2004-10-07T00:00:00\",\"2004-10-08T00:00:00\",\"2004-10-11T00:00:00\",\"2004-10-12T00:00:00\",\"2004-10-13T00:00:00\",\"2004-10-14T00:00:00\",\"2004-10-15T00:00:00\",\"2004-10-18T00:00:00\",\"2004-10-19T00:00:00\",\"2004-10-20T00:00:00\",\"2004-10-21T00:00:00\",\"2004-10-22T00:00:00\",\"2004-10-25T00:00:00\",\"2004-10-26T00:00:00\",\"2004-10-27T00:00:00\",\"2004-10-28T00:00:00\",\"2004-10-29T00:00:00\",\"2004-11-01T00:00:00\",\"2004-11-02T00:00:00\",\"2004-11-03T00:00:00\",\"2004-11-04T00:00:00\",\"2004-11-05T00:00:00\",\"2004-11-08T00:00:00\",\"2004-11-09T00:00:00\",\"2004-11-10T00:00:00\",\"2004-11-11T00:00:00\",\"2004-11-12T00:00:00\",\"2004-11-15T00:00:00\",\"2004-11-16T00:00:00\",\"2004-11-17T00:00:00\",\"2004-11-18T00:00:00\",\"2004-11-19T00:00:00\",\"2004-11-22T00:00:00\",\"2004-11-23T00:00:00\",\"2004-11-24T00:00:00\",\"2004-11-26T00:00:00\",\"2004-11-29T00:00:00\",\"2004-11-30T00:00:00\",\"2004-12-01T00:00:00\",\"2004-12-02T00:00:00\",\"2004-12-03T00:00:00\",\"2004-12-06T00:00:00\",\"2004-12-07T00:00:00\",\"2004-12-08T00:00:00\",\"2004-12-09T00:00:00\",\"2004-12-10T00:00:00\",\"2004-12-13T00:00:00\",\"2004-12-14T00:00:00\",\"2004-12-15T00:00:00\",\"2004-12-16T00:00:00\",\"2004-12-17T00:00:00\",\"2004-12-20T00:00:00\",\"2004-12-21T00:00:00\",\"2004-12-22T00:00:00\",\"2004-12-23T00:00:00\",\"2004-12-27T00:00:00\",\"2004-12-28T00:00:00\",\"2004-12-29T00:00:00\",\"2004-12-30T00:00:00\",\"2004-12-31T00:00:00\",\"2005-01-03T00:00:00\",\"2005-01-04T00:00:00\",\"2005-01-05T00:00:00\",\"2005-01-06T00:00:00\",\"2005-01-07T00:00:00\",\"2005-01-10T00:00:00\",\"2005-01-11T00:00:00\",\"2005-01-12T00:00:00\",\"2005-01-13T00:00:00\",\"2005-01-14T00:00:00\",\"2005-01-18T00:00:00\",\"2005-01-19T00:00:00\",\"2005-01-20T00:00:00\",\"2005-01-21T00:00:00\",\"2005-01-24T00:00:00\",\"2005-01-25T00:00:00\",\"2005-01-26T00:00:00\",\"2005-01-27T00:00:00\",\"2005-01-28T00:00:00\",\"2005-01-31T00:00:00\",\"2005-02-01T00:00:00\",\"2005-02-02T00:00:00\",\"2005-02-03T00:00:00\",\"2005-02-04T00:00:00\",\"2005-02-07T00:00:00\",\"2005-02-08T00:00:00\",\"2005-02-09T00:00:00\",\"2005-02-10T00:00:00\",\"2005-02-11T00:00:00\",\"2005-02-14T00:00:00\",\"2005-02-15T00:00:00\",\"2005-02-16T00:00:00\",\"2005-02-17T00:00:00\",\"2005-02-18T00:00:00\",\"2005-02-22T00:00:00\",\"2005-02-23T00:00:00\",\"2005-02-24T00:00:00\",\"2005-02-25T00:00:00\",\"2005-02-28T00:00:00\",\"2005-03-01T00:00:00\",\"2005-03-02T00:00:00\",\"2005-03-03T00:00:00\",\"2005-03-04T00:00:00\",\"2005-03-07T00:00:00\",\"2005-03-08T00:00:00\",\"2005-03-09T00:00:00\",\"2005-03-10T00:00:00\",\"2005-03-11T00:00:00\",\"2005-03-14T00:00:00\",\"2005-03-15T00:00:00\",\"2005-03-16T00:00:00\",\"2005-03-17T00:00:00\",\"2005-03-18T00:00:00\",\"2005-03-21T00:00:00\",\"2005-03-22T00:00:00\",\"2005-03-23T00:00:00\",\"2005-03-24T00:00:00\",\"2005-03-28T00:00:00\",\"2005-03-29T00:00:00\",\"2005-03-30T00:00:00\",\"2005-03-31T00:00:00\",\"2005-04-01T00:00:00\",\"2005-04-04T00:00:00\",\"2005-04-05T00:00:00\",\"2005-04-06T00:00:00\",\"2005-04-07T00:00:00\",\"2005-04-08T00:00:00\",\"2005-04-11T00:00:00\",\"2005-04-12T00:00:00\",\"2005-04-13T00:00:00\",\"2005-04-14T00:00:00\",\"2005-04-15T00:00:00\",\"2005-04-18T00:00:00\",\"2005-04-19T00:00:00\",\"2005-04-20T00:00:00\",\"2005-04-21T00:00:00\",\"2005-04-22T00:00:00\",\"2005-04-25T00:00:00\",\"2005-04-26T00:00:00\",\"2005-04-27T00:00:00\",\"2005-04-28T00:00:00\",\"2005-04-29T00:00:00\",\"2005-05-02T00:00:00\",\"2005-05-03T00:00:00\",\"2005-05-04T00:00:00\",\"2005-05-05T00:00:00\",\"2005-05-06T00:00:00\",\"2005-05-09T00:00:00\",\"2005-05-10T00:00:00\",\"2005-05-11T00:00:00\",\"2005-05-12T00:00:00\",\"2005-05-13T00:00:00\",\"2005-05-16T00:00:00\",\"2005-05-17T00:00:00\",\"2005-05-18T00:00:00\",\"2005-05-19T00:00:00\",\"2005-05-20T00:00:00\",\"2005-05-23T00:00:00\",\"2005-05-24T00:00:00\",\"2005-05-25T00:00:00\",\"2005-05-26T00:00:00\",\"2005-05-27T00:00:00\",\"2005-05-31T00:00:00\",\"2005-06-01T00:00:00\",\"2005-06-02T00:00:00\",\"2005-06-03T00:00:00\",\"2005-06-06T00:00:00\",\"2005-06-07T00:00:00\",\"2005-06-08T00:00:00\",\"2005-06-09T00:00:00\",\"2005-06-10T00:00:00\",\"2005-06-13T00:00:00\",\"2005-06-14T00:00:00\",\"2005-06-15T00:00:00\",\"2005-06-16T00:00:00\",\"2005-06-17T00:00:00\",\"2005-06-20T00:00:00\",\"2005-06-21T00:00:00\",\"2005-06-22T00:00:00\",\"2005-06-23T00:00:00\",\"2005-06-24T00:00:00\",\"2005-06-27T00:00:00\",\"2005-06-28T00:00:00\",\"2005-06-29T00:00:00\",\"2005-06-30T00:00:00\",\"2005-07-01T00:00:00\",\"2005-07-05T00:00:00\"],\"xaxis\":\"x\",\"y\":[16.549701690673828,16.640390396118164,16.3370418548584,16.546566009521484,16.218204498291016,16.199440002441406,16.027435302734375,16.261978149414062,15.983657836914062,15.498924255371094,14.857823371887207,13.450532913208008,14.457524299621582,13.394245147705078,14.182324409484863,15.089241981506348,15.042332649230957,15.004805564880371,14.307418823242188,13.888357162475586,13.757012367248535,14.282400131225586,14.72647762298584,15.295649528503418,15.048584938049316,15.158053398132324,14.717092514038086,15.5458345413208,15.564602851867676,15.636523246765137,16.261978149414062,15.961761474609375,16.349546432495117,16.646648406982422,16.330785751342773,16.29326057434082,15.899218559265137,15.442635536193848,15.81790542602539,15.348809242248535,14.70458984375,15.076733589172363,14.357453346252441,14.954771995544434,15.229972839355469,15.570847511291504,15.192442893981934,14.745244979858398,14.982917785644531,14.942255973815918,14.789021492004395,14.932876586914062,14.760875701904297,14.842190742492676,14.144800186157227,14.273022651672363,14.545092582702637,14.448147773742676,14.151055335998535,13.67883014678955,14.457524299621582,14.263636589050293,14.010323524475098,13.688216209411621,13.775778770446777,14.069747924804688,13.757012367248535,14.504437446594238,15.283141136169434,15.41448974609375,16.35266876220703,15.764744758605957,15.877334594726562,16.621625900268555,16.42147445678711,16.15877342224121,16.637252807617188,16.021181106567383,16.474641799926758,16.246339797973633,16.283872604370117,16.609111785888672,16.721694946289062,16.574722290039062,17.54418182373047,17.725553512573242,17.835018157958984,17.516029357910156,17.231449127197266,16.84366226196289,17.04694366455078,17.312755584716797,17.822509765625,17.728696823120117,17.46599578857422,17.15639305114746,17.706796646118164,18.088329315185547,18.207168579101562,18.210298538208008,17.794363021850586,18.16338539123535,18.038297653198242,18.04142189025879,17.734939575195312,17.681781768798828,17.306499481201172,17.347156524658203,16.740467071533203,16.890579223632812,17.09384536743164,16.94061279296875,16.418352127075195,17.037553787231445,17.000036239624023,16.740467071533203,16.609111785888672,16.587228775024414,16.8874454498291,16.83115005493164,16.69667625427246,16.565336227416992,16.496530532836914,16.168169021606445,16.799884796142578,16.821773529052734,17.12824249267578,17.450361251831055,16.962499618530273,17.4534912109375,17.487886428833008,17.634870529174805,17.816259384155273,17.597341537475586,17.30962562561035,16.093107223510742,16.05245590209961,15.949251174926758,16.349546432495117,15.589613914489746,15.376957893371582,15.267497062683105,15.608378410339355,15.08612060546875,14.842190742492676,15.186188697814941,14.7984037399292,14.685819625854492,14.829673767089844,14.566985130310059,14.817169189453125,14.523199081420898,14.523199081420898,14.695208549499512,15.104891777038574,15.611503601074219,15.391894340515137,15.147173881530762,15.454636573791504,15.103255271911621,15.178544998168945,14.814614295959473,14.795790672302246,14.871092796325684,14.770697593688965,14.475777626037598,14.707945823669434,14.601277351379395,14.78324031829834,14.400483131408691,14.306365013122559,14.676572799682617,15.479731559753418,15.598956108093262,16.27035140991211,16.339370727539062,16.51505470275879,16.471145629882812,16.671926498413086,15.868766784667969,15.994258880615234,15.843667984008789,15.711899757385254,15.479731559753418,15.191100120544434,15.27894401550293,16.138580322265625,16.14485740661621,15.743270874023438,15.793474197387695,16.050735473632812,15.416988372802734,15.429540634155273,15.18482494354248,15.536205291748047,15.435812950134277,15.636603355407715,16.000537872314453,15.818565368652344,16.163681030273438,16.138580322265625,15.994258880615234,15.824850082397461,16.151124954223633,16.18877410888672,16.044456481933594,16.138580322265625,16.37702751159668,16.22643280029297,16.546438217163086,16.30799674987793,16.151124954223633,16.540157318115234,16.439760208129883,16.30799674987793,16.075836181640625,16.1824951171875,16.044456481933594,15.536205291748047,15.454636573791504,15.078158378601074,15.159730911254883,15.197376251220703,15.555038452148438,15.316590309143066,15.310318946838379,15.442082405090332,15.460912704467773,15.611505508422852,15.605234146118164,15.115800857543945,14.85226058959961,14.902461051940918,15.486007690429688,15.611505508422852,15.680526733398438,15.467183113098145,15.9315185546875,16.289175033569336,16.358198165893555,16.358198165893555,16.52133560180664,16.17623519897461,16.126035690307617,15.84994125366211,16.157405853271484,16.082109451293945,16.08837890625,16.408395767211914,16.866455078125,16.62801742553711,17.20528793334961,17.380971908569336,17.23665428161621,16.88526725769043,17.13626480102539,17.19273567199707,17.11116600036621,17.26803207397461,16.74723243713379,16.872730255126953,16.339370727539062,16.552711486816406,16.59663963317871,16.314268112182617,16.872730255126953,16.69702911376953,16.609182357788086,16.458593368530273,16.5715274810791,16.420944213867188,16.427221298217773,16.100936889648438,16.09465789794922,16.132314682006836,16.050735473632812,16.069561004638672,16.14485740661621,16.063282012939453,16.082109451293945,16.025632858276367,16.126035690307617,16.703304290771484,16.59663963317871,16.46486473083496,16.452320098876953,16.62801742553711,16.671926498413086,16.577816009521484,16.634281158447266,16.640562057495117,17.104887008666992,17.757448196411133,17.83903694152832,17.807655334472656,18.096296310424805,17.801382064819336,17.28685188293457,17.46881866455078,17.782550811767578,17.795114517211914,18.133943557739258,17.882951736450195,18.510421752929688,18.799062728881836,18.240617752075195,18.57316780090332,17.85785484313965,17.719810485839844,17.688438415527344,18.09001922607422,17.4437255859375,17.89550018310547,17.882951736450195,18.246885299682617,18.3159122467041,18.284536361694336,18.083742141723633,18.159042358398438,18.140220642089844,18.058645248413086,17.995895385742188,18.342947006225586,18.44390106201172,18.254606246948242,18.51961898803711,18.51961898803711,18.229366302490234,18.241992950439453,16.790695190429688,16.979997634887695,17.162988662719727,16.87273597717285,16.481517791748047,16.494142532348633,16.834867477416992,16.44997215270996,16.46889877319336,16.550926208496094,16.46889877319336,16.40579605102539,16.27959632873535,16.393173217773438,16.21019172668457,16.090299606323242,15.869453430175781,15.869453430175781,15.995656967163086,15.837905883789062,15.84421443939209,16.23543357849121,16.027198791503906,16.05875587463379,16.222814559936523,16.304840087890625,16.191261291503906,16.197574615478516,16.531993865966797,16.393173217773438,16.557235717773438,16.64557647705078,16.77808380126953,16.790695190429688,16.81594467163086,16.87273597717285,17.074647903442383,17.06202507019043,17.289182662963867,17.263944625854492,17.15036964416504,17.131439208984375,17.06202507019043,17.169300079345703,17.327051162719727,17.364910125732422,17.270259857177734,17.320741653442383,17.756120681762695,17.81922149658203,17.800289154052734,17.768735885620117,17.453245162963867,17.396459579467773,17.308122634887695,17.478483200073242,17.377519607543945,17.54789924621582,17.730880737304688,17.857072830200195,17.67409324645996,17.970661163330078,18.172576904296875,17.82553482055664,17.48479461669922,17.610992431640625,17.44693946838379,17.289182662963867,17.21977996826172,17.043100357055664,17.011550903320312,17.08727264404297,16.973695755004883,17.04941749572754,17.131439208984375,17.005245208740234,16.77808380126953,17.030485153198242,16.89166259765625,16.696054458618164,16.765464782714844,16.790695190429688,16.961076736450195,16.84749412536621,16.721302032470703,16.74022674560547,16.84749412536621,16.65188217163086,16.63926887512207,16.63926887512207,16.62665557861328,16.29852867126465,16.229116439819336,16.008277893066406,15.831587791442871,16.01458168029785,15.875765800476074,15.888387680053711,15.856836318969727,15.705398559570312,15.541339874267578,15.459309577941895,15.238470077514648,15.402520179748535,15.894697189331055,15.793730735778809,15.970410346984863,15.9010009765625,15.730636596679688,15.825284957885742,16.311153411865234,16.37425422668457,16.27959632873535,16.147092819213867,16.07768440246582,16.15970802307129,16.05875587463379,16.096616744995117,15.913628578186035,15.875765800476074,16.10923194885254,15.983030319213867,16.05875587463379,16.37425422668457,17.377519607543945,17.188228607177734,17.175609588623047,16.759151458740234,16.708675384521484,16.487823486328125,16.62665557861328,16.614025115966797,16.595096588134766,16.481517791748047,16.266983032226562,16.361629486083984,16.367938995361328,16.367938995361328,16.46889877319336,16.317461013793945,16.115549087524414,16.29852867126465,16.16602325439453,16.23543357849121,16.336389541625977,16.25435447692871,16.46889877319336,16.494142532348633,16.525686264038086,16.550926208496094,16.475200653076172,16.487823486328125,16.336389541625977,16.37425422668457,16.677122116088867,16.784393310546875,16.702362060546875,16.89166259765625,16.973695755004883,17.295499801635742,17.23870849609375,17.522659301757812,17.888629913330078,17.888629913330078,17.850770950317383,17.857072830200195,17.913875579833984,18.027448654174805,17.84446144104004,17.983274459838867,18.021141052246094,18.0653018951416,18.027448654174805,17.680404663085938,17.730880737304688,17.440631866455078,17.57944679260254,17.598379135131836,17.415390014648438,17.749813079833984,17.58574867248535,17.339672088623047,17.63623809814453,17.869701385498047,18.210439682006836,18.298770904541016,17.686708450317383,18.084238052368164,17.94542121887207,18.033756256103516,17.970661163330078,17.97696876525879,17.995899200439453,17.711957931518555,17.705644607543945,17.371217727661133,17.1251277923584,17.15036964416504,17.491104125976562,17.295499801635742,16.961076736450195,17.04941749572754,17.093585968017578,17.068342208862305,17.327051162719727,17.112510681152344,17.162988662719727,17.238929748535156,17.238929748535156,17.435108184814453,17.36550521850586,17.378156661987305,17.27690315246582,17.27690315246582,17.333860397338867,17.479421615600586,17.156661987304688,17.31487274169922,17.2515811920166,17.26424789428711,17.39714241027832,17.245264053344727,17.36550521850586,17.20728874206543,17.2515811920166,17.40980339050293,17.40980339050293,17.2515811920166,17.162988662719727,17.308551788330078,17.27058219909668,17.20728874206543,17.257917404174805,17.454103469848633,17.49840545654297,17.878116607666016,17.79584312438965,17.96038055419922,18.055313110351562,17.827489852905273,17.71356964111328,17.757869720458984,17.738889694213867,17.738889694213867,17.593326568603516,17.71356964111328,17.9793701171875,17.833810806274414,18.16289710998535,18.074296951293945,17.555360794067383,17.485746383666992,17.656620025634766,17.8148250579834,17.726228713989258,17.700910568237305,17.770524978637695,17.871782302856445,18.01734733581543,18.352754592895508,18.54894256591797,18.529951095581055,18.840045928955078,18.814733505249023,18.972951889038086,18.96662712097168,19.31929588317871,19.128847122192383,19.16411590576172,19.093585968017578,18.945463180541992,18.797338485717773,18.71269416809082,18.790281295776367,18.76207160949707,18.881982803344727,18.91019058227539,19.22054672241211,19.107694625854492,19.206436157226562,19.276968002319336,19.093585968017578,19.298131942749023,19.206436157226562,19.10064125061035,19.22054672241211,19.206436157226562,19.12179946899414,19.15706443786621,19.015989303588867,19.008934020996094,19.093585968017578,19.02305030822754,19.0512638092041,18.938405990600586,19.008934020996094,18.973674774169922,18.874927520751953,18.846715927124023,18.860816955566406,18.931360244750977,18.889036178588867,18.867876052856445,18.811443328857422,18.903141021728516,18.853761672973633,18.889036178588867,18.529315948486328,18.423503875732422,18.564579010009766,18.324764251708984,18.240123748779297,18.091997146606445,18.10611343383789,18.352977752685547,18.345924377441406,18.41645622253418,18.465831756591797,18.536361694335938,18.61395263671875,18.663328170776367,18.465831756591797,18.564579010009766,18.451725006103516,18.508142471313477,18.388242721557617,18.381189346313477,18.31770896911621,18.345924377441406,18.345924377441406,18.24686622619629,18.147817611694336,18.027538299560547,17.850666046142578,17.82943344116211,17.94971466064453,17.864810943603516,17.801132202148438,17.886035919189453,17.871885299682617,17.80820655822754,17.80820655822754,18.020462036132812,17.970935821533203,17.907255172729492,17.992162704467773,17.751604080200195,17.765750885009766,17.624258041381836,17.426151275634766,17.362472534179688,17.19974708557129,17.12192153930664,16.973337173461914,17.10776710510254,17.178518295288086,17.12192153930664,16.92380714416504,17.093624114990234,17.10069465637207,17.06531524658203,17.143136978149414,17.312942504882812,17.454448699951172,17.758684158325195,17.645479202270508,17.666706085205078,17.914337158203125,17.71624183654785,17.574726104736328,17.305862426757812,17.440296173095703,17.426151275634766,17.20682144165039,17.886035919189453,17.67378044128418,17.68086051940918,17.51812744140625,17.68086051940918,17.29880142211914,17.90018081665039,17.850666046142578,17.942638397216797,17.836509704589844,17.850666046142578,17.843585968017578,17.765750885009766,17.61717987060547,17.624258041381836,17.687929153442383,17.90018081665039,18.091821670532227,18.07052993774414,18.24087142944336,18.397024154663086,18.269254684448242,18.347332000732422,18.276355743408203,18.247974395751953,18.382822036743164,18.50348663330078,18.311845779418945,18.31894302368164,18.304744720458984,18.04923439025879,18.006650924682617,18.10601806640625,18.027944564819336,18.10601806640625,18.04923439025879,17.96405601501465,17.999555587768555,17.928571701049805,17.772432327270508,17.772432327270508,17.822107315063477,17.850500106811523,17.793718338012695,17.96405601501465,17.772432327270508,17.779523849487305,17.793718338012695,17.80790901184082,17.63047218322754,17.53820037841797,17.729843139648438],\"yaxis\":\"y\",\"type\":\"scatter\"}],                        {\"template\":{\"data\":{\"bar\":[{\"error_x\":{\"color\":\"#2a3f5f\"},\"error_y\":{\"color\":\"#2a3f5f\"},\"marker\":{\"line\":{\"color\":\"#E5ECF6\",\"width\":0.5},\"pattern\":{\"fillmode\":\"overlay\",\"size\":10,\"solidity\":0.2}},\"type\":\"bar\"}],\"barpolar\":[{\"marker\":{\"line\":{\"color\":\"#E5ECF6\",\"width\":0.5},\"pattern\":{\"fillmode\":\"overlay\",\"size\":10,\"solidity\":0.2}},\"type\":\"barpolar\"}],\"carpet\":[{\"aaxis\":{\"endlinecolor\":\"#2a3f5f\",\"gridcolor\":\"white\",\"linecolor\":\"white\",\"minorgridcolor\":\"white\",\"startlinecolor\":\"#2a3f5f\"},\"baxis\":{\"endlinecolor\":\"#2a3f5f\",\"gridcolor\":\"white\",\"linecolor\":\"white\",\"minorgridcolor\":\"white\",\"startlinecolor\":\"#2a3f5f\"},\"type\":\"carpet\"}],\"choropleth\":[{\"colorbar\":{\"outlinewidth\":0,\"ticks\":\"\"},\"type\":\"choropleth\"}],\"contour\":[{\"colorbar\":{\"outlinewidth\":0,\"ticks\":\"\"},\"colorscale\":[[0.0,\"#0d0887\"],[0.1111111111111111,\"#46039f\"],[0.2222222222222222,\"#7201a8\"],[0.3333333333333333,\"#9c179e\"],[0.4444444444444444,\"#bd3786\"],[0.5555555555555556,\"#d8576b\"],[0.6666666666666666,\"#ed7953\"],[0.7777777777777778,\"#fb9f3a\"],[0.8888888888888888,\"#fdca26\"],[1.0,\"#f0f921\"]],\"type\":\"contour\"}],\"contourcarpet\":[{\"colorbar\":{\"outlinewidth\":0,\"ticks\":\"\"},\"type\":\"contourcarpet\"}],\"heatmap\":[{\"colorbar\":{\"outlinewidth\":0,\"ticks\":\"\"},\"colorscale\":[[0.0,\"#0d0887\"],[0.1111111111111111,\"#46039f\"],[0.2222222222222222,\"#7201a8\"],[0.3333333333333333,\"#9c179e\"],[0.4444444444444444,\"#bd3786\"],[0.5555555555555556,\"#d8576b\"],[0.6666666666666666,\"#ed7953\"],[0.7777777777777778,\"#fb9f3a\"],[0.8888888888888888,\"#fdca26\"],[1.0,\"#f0f921\"]],\"type\":\"heatmap\"}],\"heatmapgl\":[{\"colorbar\":{\"outlinewidth\":0,\"ticks\":\"\"},\"colorscale\":[[0.0,\"#0d0887\"],[0.1111111111111111,\"#46039f\"],[0.2222222222222222,\"#7201a8\"],[0.3333333333333333,\"#9c179e\"],[0.4444444444444444,\"#bd3786\"],[0.5555555555555556,\"#d8576b\"],[0.6666666666666666,\"#ed7953\"],[0.7777777777777778,\"#fb9f3a\"],[0.8888888888888888,\"#fdca26\"],[1.0,\"#f0f921\"]],\"type\":\"heatmapgl\"}],\"histogram\":[{\"marker\":{\"pattern\":{\"fillmode\":\"overlay\",\"size\":10,\"solidity\":0.2}},\"type\":\"histogram\"}],\"histogram2d\":[{\"colorbar\":{\"outlinewidth\":0,\"ticks\":\"\"},\"colorscale\":[[0.0,\"#0d0887\"],[0.1111111111111111,\"#46039f\"],[0.2222222222222222,\"#7201a8\"],[0.3333333333333333,\"#9c179e\"],[0.4444444444444444,\"#bd3786\"],[0.5555555555555556,\"#d8576b\"],[0.6666666666666666,\"#ed7953\"],[0.7777777777777778,\"#fb9f3a\"],[0.8888888888888888,\"#fdca26\"],[1.0,\"#f0f921\"]],\"type\":\"histogram2d\"}],\"histogram2dcontour\":[{\"colorbar\":{\"outlinewidth\":0,\"ticks\":\"\"},\"colorscale\":[[0.0,\"#0d0887\"],[0.1111111111111111,\"#46039f\"],[0.2222222222222222,\"#7201a8\"],[0.3333333333333333,\"#9c179e\"],[0.4444444444444444,\"#bd3786\"],[0.5555555555555556,\"#d8576b\"],[0.6666666666666666,\"#ed7953\"],[0.7777777777777778,\"#fb9f3a\"],[0.8888888888888888,\"#fdca26\"],[1.0,\"#f0f921\"]],\"type\":\"histogram2dcontour\"}],\"mesh3d\":[{\"colorbar\":{\"outlinewidth\":0,\"ticks\":\"\"},\"type\":\"mesh3d\"}],\"parcoords\":[{\"line\":{\"colorbar\":{\"outlinewidth\":0,\"ticks\":\"\"}},\"type\":\"parcoords\"}],\"pie\":[{\"automargin\":true,\"type\":\"pie\"}],\"scatter\":[{\"marker\":{\"colorbar\":{\"outlinewidth\":0,\"ticks\":\"\"}},\"type\":\"scatter\"}],\"scatter3d\":[{\"line\":{\"colorbar\":{\"outlinewidth\":0,\"ticks\":\"\"}},\"marker\":{\"colorbar\":{\"outlinewidth\":0,\"ticks\":\"\"}},\"type\":\"scatter3d\"}],\"scattercarpet\":[{\"marker\":{\"colorbar\":{\"outlinewidth\":0,\"ticks\":\"\"}},\"type\":\"scattercarpet\"}],\"scattergeo\":[{\"marker\":{\"colorbar\":{\"outlinewidth\":0,\"ticks\":\"\"}},\"type\":\"scattergeo\"}],\"scattergl\":[{\"marker\":{\"colorbar\":{\"outlinewidth\":0,\"ticks\":\"\"}},\"type\":\"scattergl\"}],\"scattermapbox\":[{\"marker\":{\"colorbar\":{\"outlinewidth\":0,\"ticks\":\"\"}},\"type\":\"scattermapbox\"}],\"scatterpolar\":[{\"marker\":{\"colorbar\":{\"outlinewidth\":0,\"ticks\":\"\"}},\"type\":\"scatterpolar\"}],\"scatterpolargl\":[{\"marker\":{\"colorbar\":{\"outlinewidth\":0,\"ticks\":\"\"}},\"type\":\"scatterpolargl\"}],\"scatterternary\":[{\"marker\":{\"colorbar\":{\"outlinewidth\":0,\"ticks\":\"\"}},\"type\":\"scatterternary\"}],\"surface\":[{\"colorbar\":{\"outlinewidth\":0,\"ticks\":\"\"},\"colorscale\":[[0.0,\"#0d0887\"],[0.1111111111111111,\"#46039f\"],[0.2222222222222222,\"#7201a8\"],[0.3333333333333333,\"#9c179e\"],[0.4444444444444444,\"#bd3786\"],[0.5555555555555556,\"#d8576b\"],[0.6666666666666666,\"#ed7953\"],[0.7777777777777778,\"#fb9f3a\"],[0.8888888888888888,\"#fdca26\"],[1.0,\"#f0f921\"]],\"type\":\"surface\"}],\"table\":[{\"cells\":{\"fill\":{\"color\":\"#EBF0F8\"},\"line\":{\"color\":\"white\"}},\"header\":{\"fill\":{\"color\":\"#C8D4E3\"},\"line\":{\"color\":\"white\"}},\"type\":\"table\"}]},\"layout\":{\"annotationdefaults\":{\"arrowcolor\":\"#2a3f5f\",\"arrowhead\":0,\"arrowwidth\":1},\"autotypenumbers\":\"strict\",\"coloraxis\":{\"colorbar\":{\"outlinewidth\":0,\"ticks\":\"\"}},\"colorscale\":{\"diverging\":[[0,\"#8e0152\"],[0.1,\"#c51b7d\"],[0.2,\"#de77ae\"],[0.3,\"#f1b6da\"],[0.4,\"#fde0ef\"],[0.5,\"#f7f7f7\"],[0.6,\"#e6f5d0\"],[0.7,\"#b8e186\"],[0.8,\"#7fbc41\"],[0.9,\"#4d9221\"],[1,\"#276419\"]],\"sequential\":[[0.0,\"#0d0887\"],[0.1111111111111111,\"#46039f\"],[0.2222222222222222,\"#7201a8\"],[0.3333333333333333,\"#9c179e\"],[0.4444444444444444,\"#bd3786\"],[0.5555555555555556,\"#d8576b\"],[0.6666666666666666,\"#ed7953\"],[0.7777777777777778,\"#fb9f3a\"],[0.8888888888888888,\"#fdca26\"],[1.0,\"#f0f921\"]],\"sequentialminus\":[[0.0,\"#0d0887\"],[0.1111111111111111,\"#46039f\"],[0.2222222222222222,\"#7201a8\"],[0.3333333333333333,\"#9c179e\"],[0.4444444444444444,\"#bd3786\"],[0.5555555555555556,\"#d8576b\"],[0.6666666666666666,\"#ed7953\"],[0.7777777777777778,\"#fb9f3a\"],[0.8888888888888888,\"#fdca26\"],[1.0,\"#f0f921\"]]},\"colorway\":[\"#636efa\",\"#EF553B\",\"#00cc96\",\"#ab63fa\",\"#FFA15A\",\"#19d3f3\",\"#FF6692\",\"#B6E880\",\"#FF97FF\",\"#FECB52\"],\"font\":{\"color\":\"#2a3f5f\"},\"geo\":{\"bgcolor\":\"white\",\"lakecolor\":\"white\",\"landcolor\":\"#E5ECF6\",\"showlakes\":true,\"showland\":true,\"subunitcolor\":\"white\"},\"hoverlabel\":{\"align\":\"left\"},\"hovermode\":\"closest\",\"mapbox\":{\"style\":\"light\"},\"paper_bgcolor\":\"white\",\"plot_bgcolor\":\"#E5ECF6\",\"polar\":{\"angularaxis\":{\"gridcolor\":\"white\",\"linecolor\":\"white\",\"ticks\":\"\"},\"bgcolor\":\"#E5ECF6\",\"radialaxis\":{\"gridcolor\":\"white\",\"linecolor\":\"white\",\"ticks\":\"\"}},\"scene\":{\"xaxis\":{\"backgroundcolor\":\"#E5ECF6\",\"gridcolor\":\"white\",\"gridwidth\":2,\"linecolor\":\"white\",\"showbackground\":true,\"ticks\":\"\",\"zerolinecolor\":\"white\"},\"yaxis\":{\"backgroundcolor\":\"#E5ECF6\",\"gridcolor\":\"white\",\"gridwidth\":2,\"linecolor\":\"white\",\"showbackground\":true,\"ticks\":\"\",\"zerolinecolor\":\"white\"},\"zaxis\":{\"backgroundcolor\":\"#E5ECF6\",\"gridcolor\":\"white\",\"gridwidth\":2,\"linecolor\":\"white\",\"showbackground\":true,\"ticks\":\"\",\"zerolinecolor\":\"white\"}},\"shapedefaults\":{\"line\":{\"color\":\"#2a3f5f\"}},\"ternary\":{\"aaxis\":{\"gridcolor\":\"white\",\"linecolor\":\"white\",\"ticks\":\"\"},\"baxis\":{\"gridcolor\":\"white\",\"linecolor\":\"white\",\"ticks\":\"\"},\"bgcolor\":\"#E5ECF6\",\"caxis\":{\"gridcolor\":\"white\",\"linecolor\":\"white\",\"ticks\":\"\"}},\"title\":{\"x\":0.05},\"xaxis\":{\"automargin\":true,\"gridcolor\":\"white\",\"linecolor\":\"white\",\"ticks\":\"\",\"title\":{\"standoff\":15},\"zerolinecolor\":\"white\",\"zerolinewidth\":2},\"yaxis\":{\"automargin\":true,\"gridcolor\":\"white\",\"linecolor\":\"white\",\"ticks\":\"\",\"title\":{\"standoff\":15},\"zerolinecolor\":\"white\",\"zerolinewidth\":2}}},\"xaxis\":{\"anchor\":\"y\",\"domain\":[0.0,1.0],\"title\":{\"text\":\"Date\"}},\"yaxis\":{\"anchor\":\"x\",\"domain\":[0.0,1.0],\"title\":{\"text\":\"Close\"}},\"legend\":{\"tracegroupgap\":0},\"margin\":{\"t\":60}},                        {\"responsive\": true}                    ).then(function(){\n",
              "                            \n",
              "var gd = document.getElementById('df6464b3-92a6-4dea-b935-4acca265176e');\n",
              "var x = new MutationObserver(function (mutations, observer) {{\n",
              "        var display = window.getComputedStyle(gd).display;\n",
              "        if (!display || display === 'none') {{\n",
              "            console.log([gd, 'removed!']);\n",
              "            Plotly.purge(gd);\n",
              "            observer.disconnect();\n",
              "        }}\n",
              "}});\n",
              "\n",
              "// Listen for the removal of the full notebook cells\n",
              "var notebookContainer = gd.closest('#notebook-container');\n",
              "if (notebookContainer) {{\n",
              "    x.observe(notebookContainer, {childList: true});\n",
              "}}\n",
              "\n",
              "// Listen for the clearing of the current output cell\n",
              "var outputEl = gd.closest('.output');\n",
              "if (outputEl) {{\n",
              "    x.observe(outputEl, {childList: true});\n",
              "}}\n",
              "\n",
              "                        })                };                            </script>        </div>\n",
              "</body>\n",
              "</html>"
            ]
          },
          "metadata": {}
        }
      ]
    },
    {
      "cell_type": "code",
      "source": [
        "pyplot.plot(df.Date,df.Close)\n",
        "pyplot.show()"
      ],
      "metadata": {
        "colab": {
          "base_uri": "https://localhost:8080/",
          "height": 265
        },
        "id": "iGTXnFY1ln1W",
        "outputId": "92773972-6f73-4467-ed06-a67555413bd5"
      },
      "execution_count": 49,
      "outputs": [
        {
          "output_type": "display_data",
          "data": {
            "text/plain": [
              "<Figure size 432x288 with 1 Axes>"
            ],
            "image/png": "[encoded data removed]"
          },
          "metadata": {
            "needs_background": "light"
          }
        }
      ]
    },
    {
      "cell_type": "markdown",
      "source": [
        "### Prepare for Prophet  \n"
      ],
      "metadata": {
        "id": "IwNgEQbdVDW8"
      }
    },
    {
      "cell_type": "markdown",
      "source": [
        "For prophet to work, we need to change the names of these columns to 'ds' and 'y'.\n",
        "\n",
        "We will convert datetime column to ds and target column to y.\n",
        "\n",
        "ds - datestamp column\n",
        "\n",
        "y - target column\n",
        "\n",
        "DataFrame.columns attribute return the column labels of the given Dataframe.\n"
      ],
      "metadata": {
        "id": "XfKqBA-RVDW8"
      }
    },
    {
      "cell_type": "code",
      "source": [
        "df.columns = ['ds','y']"
      ],
      "metadata": {
        "id": "ovfgk0n3VDW9"
      },
      "execution_count": 50,
      "outputs": []
    },
    {
      "cell_type": "markdown",
      "source": [
        "### Print 5 rows of the Dataframe \n"
      ],
      "metadata": {
        "id": "cMjrW1DmVDW9"
      }
    },
    {
      "cell_type": "markdown",
      "source": [
        "Now you can see columns names are changed to ```ds``` and ```y```\n"
      ],
      "metadata": {
        "id": "VaHahaVIVDW9"
      }
    },
    {
      "cell_type": "code",
      "source": [
        "df.head()"
      ],
      "metadata": {
        "colab": {
          "base_uri": "https://localhost:8080/",
          "height": 0
        },
        "id": "FO676l_7VDW9",
        "outputId": "de8c2c7e-a35f-4cb0-dcd8-9f635a8eb60f"
      },
      "execution_count": 51,
      "outputs": [
        {
          "output_type": "execute_result",
          "data": {
            "text/plain": [
              "          ds          y\n",
              "0 2002-07-08  16.549702\n",
              "1 2002-07-09  16.640390\n",
              "2 2002-07-10  16.337042\n",
              "3 2002-07-11  16.546566\n",
              "4 2002-07-12  16.218204"
            ],
            "text/html": [
              "\n",
              "  <div id=\"df-0620a1bd-874e-42bb-b9b1-69d217b372b5\">\n",
              "    <div class=\"colab-df-container\">\n",
              "      <div>\n",
              "<style scoped>\n",
              "    .dataframe tbody tr th:only-of-type {\n",
              "        vertical-align: middle;\n",
              "    }\n",
              "\n",
              "    .dataframe tbody tr th {\n",
              "        vertical-align: top;\n",
              "    }\n",
              "\n",
              "    .dataframe thead th {\n",
              "        text-align: right;\n",
              "    }\n",
              "</style>\n",
              "<table border=\"1\" class=\"dataframe\">\n",
              "  <thead>\n",
              "    <tr style=\"text-align: right;\">\n",
              "      <th></th>\n",
              "      <th>ds</th>\n",
              "      <th>y</th>\n",
              "    </tr>\n",
              "  </thead>\n",
              "  <tbody>\n",
              "    <tr>\n",
              "      <th>0</th>\n",
              "      <td>2002-07-08</td>\n",
              "      <td>16.549702</td>\n",
              "    </tr>\n",
              "    <tr>\n",
              "      <th>1</th>\n",
              "      <td>2002-07-09</td>\n",
              "      <td>16.640390</td>\n",
              "    </tr>\n",
              "    <tr>\n",
              "      <th>2</th>\n",
              "      <td>2002-07-10</td>\n",
              "      <td>16.337042</td>\n",
              "    </tr>\n",
              "    <tr>\n",
              "      <th>3</th>\n",
              "      <td>2002-07-11</td>\n",
              "      <td>16.546566</td>\n",
              "    </tr>\n",
              "    <tr>\n",
              "      <th>4</th>\n",
              "      <td>2002-07-12</td>\n",
              "      <td>16.218204</td>\n",
              "    </tr>\n",
              "  </tbody>\n",
              "</table>\n",
              "</div>\n",
              "      <button class=\"colab-df-convert\" onclick=\"convertToInteractive('df-0620a1bd-874e-42bb-b9b1-69d217b372b5')\"\n",
              "              title=\"Convert this dataframe to an interactive table.\"\n",
              "              style=\"display:none;\">\n",
              "        \n",
              "  <svg xmlns=\"http://www.w3.org/2000/svg\" height=\"24px\"viewBox=\"0 0 24 24\"\n",
              "       width=\"24px\">\n",
              "    <path d=\"M0 0h24v24H0V0z\" fill=\"none\"/>\n",
              "    <path d=\"M18.56 5.44l.94 2.06.94-2.06 2.06-.94-2.06-.94-.94-2.06-.94 2.06-2.06.94zm-11 1L8.5 8.5l.94-2.06 2.06-.94-2.06-.94L8.5 2.5l-.94 2.06-2.06.94zm10 10l.94 2.06.94-2.06 2.06-.94-2.06-.94-.94-2.06-.94 2.06-2.06.94z\"/><path d=\"M17.41 7.96l-1.37-1.37c-.4-.4-.92-.59-1.43-.59-.52 0-1.04.2-1.43.59L10.3 9.45l-7.72 7.72c-.78.78-.78 2.05 0 2.83L4 21.41c.39.39.9.59 1.41.59.51 0 1.02-.2 1.41-.59l7.78-7.78 2.81-2.81c.8-.78.8-2.07 0-2.86zM5.41 20L4 18.59l7.72-7.72 1.47 1.35L5.41 20z\"/>\n",
              "  </svg>\n",
              "      </button>\n",
              "      \n",
              "  <style>\n",
              "    .colab-df-container {\n",
              "      display:flex;\n",
              "      flex-wrap:wrap;\n",
              "      gap: 12px;\n",
              "    }\n",
              "\n",
              "    .colab-df-convert {\n",
              "      background-color: #E8F0FE;\n",
              "      border: none;\n",
              "      border-radius: 50%;\n",
              "      cursor: pointer;\n",
              "      display: none;\n",
              "      fill: #1967D2;\n",
              "      height: 32px;\n",
              "      padding: 0 0 0 0;\n",
              "      width: 32px;\n",
              "    }\n",
              "\n",
              "    .colab-df-convert:hover {\n",
              "      background-color: #E2EBFA;\n",
              "      box-shadow: 0px 1px 2px rgba(60, 64, 67, 0.3), 0px 1px 3px 1px rgba(60, 64, 67, 0.15);\n",
              "      fill: #174EA6;\n",
              "    }\n",
              "\n",
              "    [theme=dark] .colab-df-convert {\n",
              "      background-color: #3B4455;\n",
              "      fill: #D2E3FC;\n",
              "    }\n",
              "\n",
              "    [theme=dark] .colab-df-convert:hover {\n",
              "      background-color: #434B5C;\n",
              "      box-shadow: 0px 1px 3px 1px rgba(0, 0, 0, 0.15);\n",
              "      filter: drop-shadow(0px 1px 2px rgba(0, 0, 0, 0.3));\n",
              "      fill: #FFFFFF;\n",
              "    }\n",
              "  </style>\n",
              "\n",
              "      <script>\n",
              "        const buttonEl =\n",
              "          document.querySelector('#df-0620a1bd-874e-42bb-b9b1-69d217b372b5 button.colab-df-convert');\n",
              "        buttonEl.style.display =\n",
              "          google.colab.kernel.accessAllowed ? 'block' : 'none';\n",
              "\n",
              "        async function convertToInteractive(key) {\n",
              "          const element = document.querySelector('#df-0620a1bd-874e-42bb-b9b1-69d217b372b5');\n",
              "          const dataTable =\n",
              "            await google.colab.kernel.invokeFunction('convertToInteractive',\n",
              "                                                     [key], {});\n",
              "          if (!dataTable) return;\n",
              "\n",
              "          const docLinkHtml = 'Like what you see? Visit the ' +\n",
              "            '<a target=\"_blank\" href=https://colab.research.google.com/notebooks/data_table.ipynb>data table notebook</a>'\n",
              "            + ' to learn more about interactive tables.';\n",
              "          element.innerHTML = '';\n",
              "          dataTable['output_type'] = 'display_data';\n",
              "          await google.colab.output.renderOutput(dataTable, element);\n",
              "          const docLink = document.createElement('div');\n",
              "          docLink.innerHTML = docLinkHtml;\n",
              "          element.appendChild(docLink);\n",
              "        }\n",
              "      </script>\n",
              "    </div>\n",
              "  </div>\n",
              "  "
            ]
          },
          "metadata": {},
          "execution_count": 51
        }
      ]
    },
    {
      "cell_type": "markdown",
      "source": [
        "### Initialize the Model\n"
      ],
      "metadata": {
        "id": "y8DAoGVdVDW9"
      }
    },
    {
      "cell_type": "markdown",
      "source": [
        "We fit the model by ```instantiating a new Prophet object```. Any settings to the forecasting procedure are passed into the constructor. \n",
        "\n",
        "Then you call the fit method and pass in the historical dataframe. \n",
        "\n",
        "Fitting should take 1-7 seconds.\n"
      ],
      "metadata": {
        "id": "PKUZgNsPVDW-"
      }
    },
    {
      "cell_type": "code",
      "source": [
        "model=Prophet()"
      ],
      "metadata": {
        "id": "nKOnyd1BVDW-"
      },
      "execution_count": 52,
      "outputs": []
    },
    {
      "cell_type": "markdown",
      "source": [
        "### Fit the model to dataframe (df)\n"
      ],
      "metadata": {
        "id": "gVAGiyaOVDW-"
      }
    },
    {
      "cell_type": "markdown",
      "source": [
        "The ```fit()``` function takes a DataFrame of time series data. The DataFrame must have a specific format. \n",
        "\n",
        "The first column must have the name ```ds``` and contain the date-times. \n",
        "\n",
        "The second column must have the name ```y``` and contain the observations.\n"
      ],
      "metadata": {
        "id": "yM84qWynVDW-"
      }
    },
    {
      "cell_type": "code",
      "source": [
        "model.fit(df)"
      ],
      "metadata": {
        "colab": {
          "base_uri": "https://localhost:8080/"
        },
        "id": "HbRlm3fvVDW-",
        "outputId": "a493867e-f5be-4397-da09-6c598206c930"
      },
      "execution_count": 53,
      "outputs": [
        {
          "output_type": "stream",
          "name": "stderr",
          "text": [
            "INFO:prophet:Disabling daily seasonality. Run prophet with daily_seasonality=True to override this.\n",
            "DEBUG:cmdstanpy:input tempfile: /tmp/tmpfoz3gbin/_iq01nue.json\n",
            "DEBUG:cmdstanpy:input tempfile: /tmp/tmpfoz3gbin/5xc6uodk.json\n",
            "DEBUG:cmdstanpy:idx 0\n",
            "DEBUG:cmdstanpy:running CmdStan, num_threads: None\n",
            "DEBUG:cmdstanpy:CmdStan args: ['/usr/local/lib/python3.8/dist-packages/prophet/stan_model/prophet_model.bin', 'random', 'seed=4945', 'data', 'file=/tmp/tmpfoz3gbin/_iq01nue.json', 'init=/tmp/tmpfoz3gbin/5xc6uodk.json', 'output', 'file=/tmp/tmpfoz3gbin/prophet_modelkcshvr8n/prophet_model-20221202205910.csv', 'method=optimize', 'algorithm=lbfgs', 'iter=10000']\n",
            "20:59:10 - cmdstanpy - INFO - Chain [1] start processing\n",
            "INFO:cmdstanpy:Chain [1] start processing\n",
            "20:59:10 - cmdstanpy - INFO - Chain [1] done processing\n",
            "INFO:cmdstanpy:Chain [1] done processing\n"
          ]
        },
        {
          "output_type": "execute_result",
          "data": {
            "text/plain": [
              "<prophet.forecaster.Prophet at 0x7fc88434db20>"
            ]
          },
          "metadata": {},
          "execution_count": 53
        }
      ]
    },
    {
      "cell_type": "markdown",
      "source": [
        "### Print Model Components\n"
      ],
      "metadata": {
        "id": "y2b2MoyfVDW-"
      }
    },
    {
      "cell_type": "markdown",
      "source": [
        "If you want to see the forecast components, you can use the Prophet.plot_components method. \n",
        "\n",
        "By default you’ll see the trend, yearly seasonality, and weekly seasonality of the time series. If you include holidays, you’ll see those here, too.\n",
        "\n",
        "In this time series, the seasonality is not a constant additive factor as assumed by Prophet, rather it grows with the trend. This is multiplicative seasonality.\n"
      ],
      "metadata": {
        "id": "0ZNrdjkOVDW_"
      }
    },
    {
      "cell_type": "code",
      "source": [
        "model.component_modes"
      ],
      "metadata": {
        "colab": {
          "base_uri": "https://localhost:8080/"
        },
        "id": "YaqerNA-VDW_",
        "outputId": "def48a56-508a-48d3-b506-879c2f6cbf5e"
      },
      "execution_count": 54,
      "outputs": [
        {
          "output_type": "execute_result",
          "data": {
            "text/plain": [
              "{'additive': ['yearly',\n",
              "  'weekly',\n",
              "  'additive_terms',\n",
              "  'extra_regressors_additive',\n",
              "  'holidays'],\n",
              " 'multiplicative': ['multiplicative_terms', 'extra_regressors_multiplicative']}"
            ]
          },
          "metadata": {},
          "execution_count": 54
        }
      ]
    },
    {
      "cell_type": "markdown",
      "source": [
        "### Make Future Dataframe\n"
      ],
      "metadata": {
        "id": "Mso_bWTVVDW_"
      }
    },
    {
      "cell_type": "markdown",
      "source": [
        "A ```make_future_dataframe``` function Make dataframe with future dates for forecasting.\n"
      ],
      "metadata": {
        "id": "EJN-qgAkVDW_"
      }
    },
    {
      "cell_type": "markdown",
      "source": [
        "#### Arguments:\n",
        "<table height=\"40%\",width=\"60%\" style=\"font-size:16px;\">\n",
        "    \n",
        "<tr><td>periods</td><td> - </td> <td>Int number of periods to forecast forward.</td></tr>\n",
        "\n",
        "<tr><td>freq</td><td> - </td> <td>'day', 'week', 'month', 'quarter', 'year', 1(1 sec), 60(1 minute) or 3600(1 hour).</td></tr>\n",
        "\n",
        "<tr><td>include_history</td><td> - </td> <td>Boolean to include the historical dates in the data frame for predictions.</td></tr>\n",
        "   \n",
        "</table>\n"
      ],
      "metadata": {
        "id": "q3lhhCkGVDW_"
      }
    },
    {
      "cell_type": "code",
      "source": [
        "future_dates = model.make_future_dataframe(periods=150,freq='d',include_history=True)\n",
        "future_dates.shape"
      ],
      "metadata": {
        "colab": {
          "base_uri": "https://localhost:8080/"
        },
        "id": "Qlk4mqAyVDW_",
        "outputId": "11615344-a925-4dbd-d9dd-a90463fd146e"
      },
      "execution_count": 55,
      "outputs": [
        {
          "output_type": "execute_result",
          "data": {
            "text/plain": [
              "(905, 1)"
            ]
          },
          "metadata": {},
          "execution_count": 55
        }
      ]
    },
    {
      "cell_type": "markdown",
      "source": [
        "Print the future_dates datframe first 5 rows.\n"
      ],
      "metadata": {
        "id": "SU9v0OMHVDXA"
      }
    },
    {
      "cell_type": "code",
      "source": [
        "future_dates.head()"
      ],
      "metadata": {
        "colab": {
          "base_uri": "https://localhost:8080/",
          "height": 0
        },
        "id": "WlrFtycNVDXA",
        "outputId": "9cdb91d2-3208-494c-f6d6-c862b1a87a2b"
      },
      "execution_count": 56,
      "outputs": [
        {
          "output_type": "execute_result",
          "data": {
            "text/plain": [
              "          ds\n",
              "0 2002-07-08\n",
              "1 2002-07-09\n",
              "2 2002-07-10\n",
              "3 2002-07-11\n",
              "4 2002-07-12"
            ],
            "text/html": [
              "\n",
              "  <div id=\"df-e654a9d0-4077-4923-95fe-ba4ce4a99959\">\n",
              "    <div class=\"colab-df-container\">\n",
              "      <div>\n",
              "<style scoped>\n",
              "    .dataframe tbody tr th:only-of-type {\n",
              "        vertical-align: middle;\n",
              "    }\n",
              "\n",
              "    .dataframe tbody tr th {\n",
              "        vertical-align: top;\n",
              "    }\n",
              "\n",
              "    .dataframe thead th {\n",
              "        text-align: right;\n",
              "    }\n",
              "</style>\n",
              "<table border=\"1\" class=\"dataframe\">\n",
              "  <thead>\n",
              "    <tr style=\"text-align: right;\">\n",
              "      <th></th>\n",
              "      <th>ds</th>\n",
              "    </tr>\n",
              "  </thead>\n",
              "  <tbody>\n",
              "    <tr>\n",
              "      <th>0</th>\n",
              "      <td>2002-07-08</td>\n",
              "    </tr>\n",
              "    <tr>\n",
              "      <th>1</th>\n",
              "      <td>2002-07-09</td>\n",
              "    </tr>\n",
              "    <tr>\n",
              "      <th>2</th>\n",
              "      <td>2002-07-10</td>\n",
              "    </tr>\n",
              "    <tr>\n",
              "      <th>3</th>\n",
              "      <td>2002-07-11</td>\n",
              "    </tr>\n",
              "    <tr>\n",
              "      <th>4</th>\n",
              "      <td>2002-07-12</td>\n",
              "    </tr>\n",
              "  </tbody>\n",
              "</table>\n",
              "</div>\n",
              "      <button class=\"colab-df-convert\" onclick=\"convertToInteractive('df-e654a9d0-4077-4923-95fe-ba4ce4a99959')\"\n",
              "              title=\"Convert this dataframe to an interactive table.\"\n",
              "              style=\"display:none;\">\n",
              "        \n",
              "  <svg xmlns=\"http://www.w3.org/2000/svg\" height=\"24px\"viewBox=\"0 0 24 24\"\n",
              "       width=\"24px\">\n",
              "    <path d=\"M0 0h24v24H0V0z\" fill=\"none\"/>\n",
              "    <path d=\"M18.56 5.44l.94 2.06.94-2.06 2.06-.94-2.06-.94-.94-2.06-.94 2.06-2.06.94zm-11 1L8.5 8.5l.94-2.06 2.06-.94-2.06-.94L8.5 2.5l-.94 2.06-2.06.94zm10 10l.94 2.06.94-2.06 2.06-.94-2.06-.94-.94-2.06-.94 2.06-2.06.94z\"/><path d=\"M17.41 7.96l-1.37-1.37c-.4-.4-.92-.59-1.43-.59-.52 0-1.04.2-1.43.59L10.3 9.45l-7.72 7.72c-.78.78-.78 2.05 0 2.83L4 21.41c.39.39.9.59 1.41.59.51 0 1.02-.2 1.41-.59l7.78-7.78 2.81-2.81c.8-.78.8-2.07 0-2.86zM5.41 20L4 18.59l7.72-7.72 1.47 1.35L5.41 20z\"/>\n",
              "  </svg>\n",
              "      </button>\n",
              "      \n",
              "  <style>\n",
              "    .colab-df-container {\n",
              "      display:flex;\n",
              "      flex-wrap:wrap;\n",
              "      gap: 12px;\n",
              "    }\n",
              "\n",
              "    .colab-df-convert {\n",
              "      background-color: #E8F0FE;\n",
              "      border: none;\n",
              "      border-radius: 50%;\n",
              "      cursor: pointer;\n",
              "      display: none;\n",
              "      fill: #1967D2;\n",
              "      height: 32px;\n",
              "      padding: 0 0 0 0;\n",
              "      width: 32px;\n",
              "    }\n",
              "\n",
              "    .colab-df-convert:hover {\n",
              "      background-color: #E2EBFA;\n",
              "      box-shadow: 0px 1px 2px rgba(60, 64, 67, 0.3), 0px 1px 3px 1px rgba(60, 64, 67, 0.15);\n",
              "      fill: #174EA6;\n",
              "    }\n",
              "\n",
              "    [theme=dark] .colab-df-convert {\n",
              "      background-color: #3B4455;\n",
              "      fill: #D2E3FC;\n",
              "    }\n",
              "\n",
              "    [theme=dark] .colab-df-convert:hover {\n",
              "      background-color: #434B5C;\n",
              "      box-shadow: 0px 1px 3px 1px rgba(0, 0, 0, 0.15);\n",
              "      filter: drop-shadow(0px 1px 2px rgba(0, 0, 0, 0.3));\n",
              "      fill: #FFFFFF;\n",
              "    }\n",
              "  </style>\n",
              "\n",
              "      <script>\n",
              "        const buttonEl =\n",
              "          document.querySelector('#df-e654a9d0-4077-4923-95fe-ba4ce4a99959 button.colab-df-convert');\n",
              "        buttonEl.style.display =\n",
              "          google.colab.kernel.accessAllowed ? 'block' : 'none';\n",
              "\n",
              "        async function convertToInteractive(key) {\n",
              "          const element = document.querySelector('#df-e654a9d0-4077-4923-95fe-ba4ce4a99959');\n",
              "          const dataTable =\n",
              "            await google.colab.kernel.invokeFunction('convertToInteractive',\n",
              "                                                     [key], {});\n",
              "          if (!dataTable) return;\n",
              "\n",
              "          const docLinkHtml = 'Like what you see? Visit the ' +\n",
              "            '<a target=\"_blank\" href=https://colab.research.google.com/notebooks/data_table.ipynb>data table notebook</a>'\n",
              "            + ' to learn more about interactive tables.';\n",
              "          element.innerHTML = '';\n",
              "          dataTable['output_type'] = 'display_data';\n",
              "          await google.colab.output.renderOutput(dataTable, element);\n",
              "          const docLink = document.createElement('div');\n",
              "          docLink.innerHTML = docLinkHtml;\n",
              "          element.appendChild(docLink);\n",
              "        }\n",
              "      </script>\n",
              "    </div>\n",
              "  </div>\n",
              "  "
            ]
          },
          "metadata": {},
          "execution_count": 56
        }
      ]
    },
    {
      "cell_type": "markdown",
      "source": [
        "### Prediction of the model\n"
      ],
      "metadata": {
        "id": "uURg_i4RVDXA"
      }
    },
    {
      "cell_type": "markdown",
      "source": [
        "To predict, we use the predict() method and pass in the future dataframe as shown below.\n"
      ],
      "metadata": {
        "id": "Gl9QyLxWVDXA"
      }
    },
    {
      "cell_type": "code",
      "source": [
        "prediction=model.predict(future_dates)"
      ],
      "metadata": {
        "id": "gSSNDNzoVDXA"
      },
      "execution_count": 57,
      "outputs": []
    },
    {
      "cell_type": "markdown",
      "source": [
        "#### From the results generated, the model has generated a lot of information in addition to the predicted ds and yhat column. \n",
        "#### The most important column is the ```yhat column```, as it is what represents your ```Usage forecast```.\n"
      ],
      "metadata": {
        "id": "MOk7lFApVDXA"
      }
    },
    {
      "cell_type": "markdown",
      "source": [
        "yhat upper values and yhate lower values - Uncertainity Interval\n",
        "\n",
        "There are three sources of uncertainty in the forecast:\n",
        " 1) uncertainty in the trend. \n",
        " 2) uncertainty in the seasonality estimates.\n",
        " 3) additional observation noise.\n"
      ],
      "metadata": {
        "id": "TmJgieWEVDXF"
      }
    },
    {
      "cell_type": "code",
      "source": [
        "prediction.head()"
      ],
      "metadata": {
        "colab": {
          "base_uri": "https://localhost:8080/",
          "height": 0
        },
        "id": "X7hwbD-PVDXG",
        "outputId": "5551925a-7a9e-4162-de33-636840c39738"
      },
      "execution_count": 58,
      "outputs": [
        {
          "output_type": "execute_result",
          "data": {
            "text/plain": [
              "          ds      trend  yhat_lower  yhat_upper  trend_lower  trend_upper  \\\n",
              "0 2002-07-08  15.264678   14.697924   16.308315    15.264678    15.264678   \n",
              "1 2002-07-09  15.270206   14.718440   16.325557    15.270206    15.270206   \n",
              "2 2002-07-10  15.275734   14.697311   16.336133    15.275734    15.275734   \n",
              "3 2002-07-11  15.281263   14.720194   16.379047    15.281263    15.281263   \n",
              "4 2002-07-12  15.286791   14.690917   16.316278    15.286791    15.286791   \n",
              "\n",
              "   additive_terms  additive_terms_lower  additive_terms_upper    weekly  \\\n",
              "0        0.218187              0.218187              0.218187 -0.242875   \n",
              "1        0.226744              0.226744              0.226744 -0.254459   \n",
              "2        0.259425              0.259425              0.259425 -0.235746   \n",
              "3        0.253037              0.253037              0.253037 -0.249689   \n",
              "4        0.219255              0.219255              0.219255 -0.284475   \n",
              "\n",
              "   weekly_lower  weekly_upper    yearly  yearly_lower  yearly_upper  \\\n",
              "0     -0.242875     -0.242875  0.461062      0.461062      0.461062   \n",
              "1     -0.254459     -0.254459  0.481203      0.481203      0.481203   \n",
              "2     -0.235746     -0.235746  0.495170      0.495170      0.495170   \n",
              "3     -0.249689     -0.249689  0.502726      0.502726      0.502726   \n",
              "4     -0.284475     -0.284475  0.503729      0.503729      0.503729   \n",
              "\n",
              "   multiplicative_terms  multiplicative_terms_lower  \\\n",
              "0                   0.0                         0.0   \n",
              "1                   0.0                         0.0   \n",
              "2                   0.0                         0.0   \n",
              "3                   0.0                         0.0   \n",
              "4                   0.0                         0.0   \n",
              "\n",
              "   multiplicative_terms_upper       yhat  \n",
              "0                         0.0  15.482865  \n",
              "1                         0.0  15.496950  \n",
              "2                         0.0  15.535159  \n",
              "3                         0.0  15.534300  \n",
              "4                         0.0  15.506046  "
            ],
            "text/html": [
              "\n",
              "  <div id=\"df-5a103816-540b-4cf8-a6ee-a15522c1ec2b\">\n",
              "    <div class=\"colab-df-container\">\n",
              "      <div>\n",
              "<style scoped>\n",
              "    .dataframe tbody tr th:only-of-type {\n",
              "        vertical-align: middle;\n",
              "    }\n",
              "\n",
              "    .dataframe tbody tr th {\n",
              "        vertical-align: top;\n",
              "    }\n",
              "\n",
              "    .dataframe thead th {\n",
              "        text-align: right;\n",
              "    }\n",
              "</style>\n",
              "<table border=\"1\" class=\"dataframe\">\n",
              "  <thead>\n",
              "    <tr style=\"text-align: right;\">\n",
              "      <th></th>\n",
              "      <th>ds</th>\n",
              "      <th>trend</th>\n",
              "      <th>yhat_lower</th>\n",
              "      <th>yhat_upper</th>\n",
              "      <th>trend_lower</th>\n",
              "      <th>trend_upper</th>\n",
              "      <th>additive_terms</th>\n",
              "      <th>additive_terms_lower</th>\n",
              "      <th>additive_terms_upper</th>\n",
              "      <th>weekly</th>\n",
              "      <th>weekly_lower</th>\n",
              "      <th>weekly_upper</th>\n",
              "      <th>yearly</th>\n",
              "      <th>yearly_lower</th>\n",
              "      <th>yearly_upper</th>\n",
              "      <th>multiplicative_terms</th>\n",
              "      <th>multiplicative_terms_lower</th>\n",
              "      <th>multiplicative_terms_upper</th>\n",
              "      <th>yhat</th>\n",
              "    </tr>\n",
              "  </thead>\n",
              "  <tbody>\n",
              "    <tr>\n",
              "      <th>0</th>\n",
              "      <td>2002-07-08</td>\n",
              "      <td>15.264678</td>\n",
              "      <td>14.697924</td>\n",
              "      <td>16.308315</td>\n",
              "      <td>15.264678</td>\n",
              "      <td>15.264678</td>\n",
              "      <td>0.218187</td>\n",
              "      <td>0.218187</td>\n",
              "      <td>0.218187</td>\n",
              "      <td>-0.242875</td>\n",
              "      <td>-0.242875</td>\n",
              "      <td>-0.242875</td>\n",
              "      <td>0.461062</td>\n",
              "      <td>0.461062</td>\n",
              "      <td>0.461062</td>\n",
              "      <td>0.0</td>\n",
              "      <td>0.0</td>\n",
              "      <td>0.0</td>\n",
              "      <td>15.482865</td>\n",
              "    </tr>\n",
              "    <tr>\n",
              "      <th>1</th>\n",
              "      <td>2002-07-09</td>\n",
              "      <td>15.270206</td>\n",
              "      <td>14.718440</td>\n",
              "      <td>16.325557</td>\n",
              "      <td>15.270206</td>\n",
              "      <td>15.270206</td>\n",
              "      <td>0.226744</td>\n",
              "      <td>0.226744</td>\n",
              "      <td>0.226744</td>\n",
              "      <td>-0.254459</td>\n",
              "      <td>-0.254459</td>\n",
              "      <td>-0.254459</td>\n",
              "      <td>0.481203</td>\n",
              "      <td>0.481203</td>\n",
              "      <td>0.481203</td>\n",
              "      <td>0.0</td>\n",
              "      <td>0.0</td>\n",
              "      <td>0.0</td>\n",
              "      <td>15.496950</td>\n",
              "    </tr>\n",
              "    <tr>\n",
              "      <th>2</th>\n",
              "      <td>2002-07-10</td>\n",
              "      <td>15.275734</td>\n",
              "      <td>14.697311</td>\n",
              "      <td>16.336133</td>\n",
              "      <td>15.275734</td>\n",
              "      <td>15.275734</td>\n",
              "      <td>0.259425</td>\n",
              "      <td>0.259425</td>\n",
              "      <td>0.259425</td>\n",
              "      <td>-0.235746</td>\n",
              "      <td>-0.235746</td>\n",
              "      <td>-0.235746</td>\n",
              "      <td>0.495170</td>\n",
              "      <td>0.495170</td>\n",
              "      <td>0.495170</td>\n",
              "      <td>0.0</td>\n",
              "      <td>0.0</td>\n",
              "      <td>0.0</td>\n",
              "      <td>15.535159</td>\n",
              "    </tr>\n",
              "    <tr>\n",
              "      <th>3</th>\n",
              "      <td>2002-07-11</td>\n",
              "      <td>15.281263</td>\n",
              "      <td>14.720194</td>\n",
              "      <td>16.379047</td>\n",
              "      <td>15.281263</td>\n",
              "      <td>15.281263</td>\n",
              "      <td>0.253037</td>\n",
              "      <td>0.253037</td>\n",
              "      <td>0.253037</td>\n",
              "      <td>-0.249689</td>\n",
              "      <td>-0.249689</td>\n",
              "      <td>-0.249689</td>\n",
              "      <td>0.502726</td>\n",
              "      <td>0.502726</td>\n",
              "      <td>0.502726</td>\n",
              "      <td>0.0</td>\n",
              "      <td>0.0</td>\n",
              "      <td>0.0</td>\n",
              "      <td>15.534300</td>\n",
              "    </tr>\n",
              "    <tr>\n",
              "      <th>4</th>\n",
              "      <td>2002-07-12</td>\n",
              "      <td>15.286791</td>\n",
              "      <td>14.690917</td>\n",
              "      <td>16.316278</td>\n",
              "      <td>15.286791</td>\n",
              "      <td>15.286791</td>\n",
              "      <td>0.219255</td>\n",
              "      <td>0.219255</td>\n",
              "      <td>0.219255</td>\n",
              "      <td>-0.284475</td>\n",
              "      <td>-0.284475</td>\n",
              "      <td>-0.284475</td>\n",
              "      <td>0.503729</td>\n",
              "      <td>0.503729</td>\n",
              "      <td>0.503729</td>\n",
              "      <td>0.0</td>\n",
              "      <td>0.0</td>\n",
              "      <td>0.0</td>\n",
              "      <td>15.506046</td>\n",
              "    </tr>\n",
              "  </tbody>\n",
              "</table>\n",
              "</div>\n",
              "      <button class=\"colab-df-convert\" onclick=\"convertToInteractive('df-5a103816-540b-4cf8-a6ee-a15522c1ec2b')\"\n",
              "              title=\"Convert this dataframe to an interactive table.\"\n",
              "              style=\"display:none;\">\n",
              "        \n",
              "  <svg xmlns=\"http://www.w3.org/2000/svg\" height=\"24px\"viewBox=\"0 0 24 24\"\n",
              "       width=\"24px\">\n",
              "    <path d=\"M0 0h24v24H0V0z\" fill=\"none\"/>\n",
              "    <path d=\"M18.56 5.44l.94 2.06.94-2.06 2.06-.94-2.06-.94-.94-2.06-.94 2.06-2.06.94zm-11 1L8.5 8.5l.94-2.06 2.06-.94-2.06-.94L8.5 2.5l-.94 2.06-2.06.94zm10 10l.94 2.06.94-2.06 2.06-.94-2.06-.94-.94-2.06-.94 2.06-2.06.94z\"/><path d=\"M17.41 7.96l-1.37-1.37c-.4-.4-.92-.59-1.43-.59-.52 0-1.04.2-1.43.59L10.3 9.45l-7.72 7.72c-.78.78-.78 2.05 0 2.83L4 21.41c.39.39.9.59 1.41.59.51 0 1.02-.2 1.41-.59l7.78-7.78 2.81-2.81c.8-.78.8-2.07 0-2.86zM5.41 20L4 18.59l7.72-7.72 1.47 1.35L5.41 20z\"/>\n",
              "  </svg>\n",
              "      </button>\n",
              "      \n",
              "  <style>\n",
              "    .colab-df-container {\n",
              "      display:flex;\n",
              "      flex-wrap:wrap;\n",
              "      gap: 12px;\n",
              "    }\n",
              "\n",
              "    .colab-df-convert {\n",
              "      background-color: #E8F0FE;\n",
              "      border: none;\n",
              "      border-radius: 50%;\n",
              "      cursor: pointer;\n",
              "      display: none;\n",
              "      fill: #1967D2;\n",
              "      height: 32px;\n",
              "      padding: 0 0 0 0;\n",
              "      width: 32px;\n",
              "    }\n",
              "\n",
              "    .colab-df-convert:hover {\n",
              "      background-color: #E2EBFA;\n",
              "      box-shadow: 0px 1px 2px rgba(60, 64, 67, 0.3), 0px 1px 3px 1px rgba(60, 64, 67, 0.15);\n",
              "      fill: #174EA6;\n",
              "    }\n",
              "\n",
              "    [theme=dark] .colab-df-convert {\n",
              "      background-color: #3B4455;\n",
              "      fill: #D2E3FC;\n",
              "    }\n",
              "\n",
              "    [theme=dark] .colab-df-convert:hover {\n",
              "      background-color: #434B5C;\n",
              "      box-shadow: 0px 1px 3px 1px rgba(0, 0, 0, 0.15);\n",
              "      filter: drop-shadow(0px 1px 2px rgba(0, 0, 0, 0.3));\n",
              "      fill: #FFFFFF;\n",
              "    }\n",
              "  </style>\n",
              "\n",
              "      <script>\n",
              "        const buttonEl =\n",
              "          document.querySelector('#df-5a103816-540b-4cf8-a6ee-a15522c1ec2b button.colab-df-convert');\n",
              "        buttonEl.style.display =\n",
              "          google.colab.kernel.accessAllowed ? 'block' : 'none';\n",
              "\n",
              "        async function convertToInteractive(key) {\n",
              "          const element = document.querySelector('#df-5a103816-540b-4cf8-a6ee-a15522c1ec2b');\n",
              "          const dataTable =\n",
              "            await google.colab.kernel.invokeFunction('convertToInteractive',\n",
              "                                                     [key], {});\n",
              "          if (!dataTable) return;\n",
              "\n",
              "          const docLinkHtml = 'Like what you see? Visit the ' +\n",
              "            '<a target=\"_blank\" href=https://colab.research.google.com/notebooks/data_table.ipynb>data table notebook</a>'\n",
              "            + ' to learn more about interactive tables.';\n",
              "          element.innerHTML = '';\n",
              "          dataTable['output_type'] = 'display_data';\n",
              "          await google.colab.output.renderOutput(dataTable, element);\n",
              "          const docLink = document.createElement('div');\n",
              "          docLink.innerHTML = docLinkHtml;\n",
              "          element.appendChild(docLink);\n",
              "        }\n",
              "      </script>\n",
              "    </div>\n",
              "  </div>\n",
              "  "
            ]
          },
          "metadata": {},
          "execution_count": 58
        }
      ]
    },
    {
      "cell_type": "markdown",
      "source": [
        "### Plot The Prediction\n"
      ],
      "metadata": {
        "id": "4AoRMVO6VDXG"
      }
    },
    {
      "cell_type": "markdown",
      "source": [
        "The ```scatter trace``` type encompasses ```line charts, scatter charts, text charts, and bubble charts.```\n",
        "\n",
        "The data visualized as scatter point or lines is set in x and y. Text (appearing either on the chart or on hover only) is via text.\n",
        "\n",
        "Parameteres:\n",
        "- x – Sets the x coordinates.\n",
        "- y – Sets the y coordinates.\n",
        "- mode – Determines the drawing mode for this scatter trace. \n",
        "  If there are less than 20 points and the trace is not stacked then the default is “lines+markers”. Otherwise, “lines”.\n",
        "- name - Sets the trace name. The trace name appear as the legend item and on hover.\n"
      ],
      "metadata": {
        "id": "TuFchr4XVDXG"
      }
    },
    {
      "cell_type": "code",
      "source": [
        "trace_open = go.Scatter(\n",
        "    x = prediction[\"ds\"],\n",
        "    y = prediction[\"yhat\"],\n",
        "    mode = 'lines',\n",
        "    name=\"Forecast\"\n",
        ")\n",
        "trace_high = go.Scatter(\n",
        "    x = prediction[\"ds\"],\n",
        "    y = prediction[\"yhat_upper\"],\n",
        "    mode = 'lines',\n",
        "    fill = \"tonexty\", \n",
        "    line = {\"color\": \"#57b8ff\"}, \n",
        "    name=\"Higher uncertainty interval\"\n",
        ")\n",
        "trace_low = go.Scatter(\n",
        "    x = prediction[\"ds\"],\n",
        "    y = prediction[\"yhat_lower\"],\n",
        "    mode = 'lines',\n",
        "    fill = \"tonexty\", \n",
        "    line = {\"color\": \"#57b8ff\"}, \n",
        "    name=\"Lower uncertainty interval\"\n",
        ")\n",
        "trace_close = go.Scatter(\n",
        "    x = df[\"ds\"],\n",
        "    y = df[\"y\"],\n",
        "    name=\"Data values\"\n",
        ")\n",
        "\n",
        "#make list for all three scattle objects.\n",
        "data = [trace_open,trace_high,trace_low,trace_close]\n",
        "# Construct a new Layout object. \n",
        "#title - It will display string as a title of graph\n",
        "layout = go.Layout(title=\"MSFT Stock Price forecasting\")\n",
        "#A list or tuple of trace instances (e.g. [Scatter(…), Bar(…)]) or A single trace instance (e.g. Scatter(…), Bar(…), etc.)\n",
        "#A list or tuple of dicts of string/value properties where: - The ‘type’ property specifies the trace type.\n",
        "\n",
        "fig = go.Figure(data=data)\n",
        "fig.show()"
      ],
      "metadata": {
        "colab": {
          "base_uri": "https://localhost:8080/",
          "height": 542
        },
        "id": "Q_8D5UckVDXG",
        "outputId": "8790d2d9-0b53-444b-db76-0d8593fcea76"
      },
      "execution_count": 59,
      "outputs": [
        {
          "output_type": "display_data",
          "data": {
            "text/html": [
              "<html>\n",
              "<head><meta charset=\"utf-8\" /></head>\n",
              "<body>\n",
              "    <div>            <script src=\"https://cdnjs.cloudflare.com/ajax/libs/mathjax/2.7.5/MathJax.js?config=TeX-AMS-MML_SVG\"></script><script type=\"text/javascript\">if (window.MathJax) {MathJax.Hub.Config({SVG: {font: \"STIX-Web\"}});}</script>                <script type=\"text/javascript\">window.PlotlyConfig = {MathJaxConfig: 'local'};</script>\n",
              "        <script src=\"https://cdn.plot.ly/plotly-2.8.3.min.js\"></script>                <div id=\"637950b8-80de-46c3-b4e7-03f6d6ee0df5\" class=\"plotly-graph-div\" style=\"height:525px; width:100%;\"></div>            <script type=\"text/javascript\">                                    window.PLOTLYENV=window.PLOTLYENV || {};                                    if (document.getElementById(\"637950b8-80de-46c3-b4e7-03f6d6ee0df5\")) {                    Plotly.newPlot(                        \"637950b8-80de-46c3-b4e7-03f6d6ee0df5\",                        [{\"mode\":\"lines\",\"name\":\"Forecast\",\"x\":[\"2002-07-08T00:00:00\",\"2002-07-09T00:00:00\",\"2002-07-10T00:00:00\",\"2002-07-11T00:00:00\",\"2002-07-12T00:00:00\",\"2002-07-15T00:00:00\",\"2002-07-16T00:00:00\",\"2002-07-17T00:00:00\",\"2002-07-18T00:00:00\",\"2002-07-19T00:00:00\",\"2002-07-22T00:00:00\",\"2002-07-23T00:00:00\",\"2002-07-24T00:00:00\",\"2002-07-25T00:00:00\",\"2002-07-26T00:00:00\",\"2002-07-29T00:00:00\",\"2002-07-30T00:00:00\",\"2002-07-31T00:00:00\",\"2002-08-01T00:00:00\",\"2002-08-02T00:00:00\",\"2002-08-05T00:00:00\",\"2002-08-06T00:00:00\",\"2002-08-07T00:00:00\",\"2002-08-08T00:00:00\",\"2002-08-09T00:00:00\",\"2002-08-12T00:00:00\",\"2002-08-13T00:00:00\",\"2002-08-14T00:00:00\",\"2002-08-15T00:00:00\",\"2002-08-16T00:00:00\",\"2002-08-19T00:00:00\",\"2002-08-20T00:00:00\",\"2002-08-21T00:00:00\",\"2002-08-22T00:00:00\",\"2002-08-23T00:00:00\",\"2002-08-26T00:00:00\",\"2002-08-27T00:00:00\",\"2002-08-28T00:00:00\",\"2002-08-29T00:00:00\",\"2002-08-30T00:00:00\",\"2002-09-03T00:00:00\",\"2002-09-04T00:00:00\",\"2002-09-05T00:00:00\",\"2002-09-06T00:00:00\",\"2002-09-09T00:00:00\",\"2002-09-10T00:00:00\",\"2002-09-11T00:00:00\",\"2002-09-12T00:00:00\",\"2002-09-13T00:00:00\",\"2002-09-16T00:00:00\",\"2002-09-17T00:00:00\",\"2002-09-18T00:00:00\",\"2002-09-19T00:00:00\",\"2002-09-20T00:00:00\",\"2002-09-23T00:00:00\",\"2002-09-24T00:00:00\",\"2002-09-25T00:00:00\",\"2002-09-26T00:00:00\",\"2002-09-27T00:00:00\",\"2002-09-30T00:00:00\",\"2002-10-01T00:00:00\",\"2002-10-02T00:00:00\",\"2002-10-03T00:00:00\",\"2002-10-04T00:00:00\",\"2002-10-07T00:00:00\",\"2002-10-08T00:00:00\",\"2002-10-09T00:00:00\",\"2002-10-10T00:00:00\",\"2002-10-11T00:00:00\",\"2002-10-14T00:00:00\",\"2002-10-15T00:00:00\",\"2002-10-16T00:00:00\",\"2002-10-17T00:00:00\",\"2002-10-18T00:00:00\",\"2002-10-21T00:00:00\",\"2002-10-22T00:00:00\",\"2002-10-23T00:00:00\",\"2002-10-24T00:00:00\",\"2002-10-25T00:00:00\",\"2002-10-28T00:00:00\",\"2002-10-29T00:00:00\",\"2002-10-30T00:00:00\",\"2002-10-31T00:00:00\",\"2002-11-01T00:00:00\",\"2002-11-04T00:00:00\",\"2002-11-05T00:00:00\",\"2002-11-06T00:00:00\",\"2002-11-07T00:00:00\",\"2002-11-08T00:00:00\",\"2002-11-11T00:00:00\",\"2002-11-12T00:00:00\",\"2002-11-13T00:00:00\",\"2002-11-14T00:00:00\",\"2002-11-15T00:00:00\",\"2002-11-18T00:00:00\",\"2002-11-19T00:00:00\",\"2002-11-20T00:00:00\",\"2002-11-21T00:00:00\",\"2002-11-22T00:00:00\",\"2002-11-25T00:00:00\",\"2002-11-26T00:00:00\",\"2002-11-27T00:00:00\",\"2002-11-29T00:00:00\",\"2002-12-02T00:00:00\",\"2002-12-03T00:00:00\",\"2002-12-04T00:00:00\",\"2002-12-05T00:00:00\",\"2002-12-06T00:00:00\",\"2002-12-09T00:00:00\",\"2002-12-10T00:00:00\",\"2002-12-11T00:00:00\",\"2002-12-12T00:00:00\",\"2002-12-13T00:00:00\",\"2002-12-16T00:00:00\",\"2002-12-17T00:00:00\",\"2002-12-18T00:00:00\",\"2002-12-19T00:00:00\",\"2002-12-20T00:00:00\",\"2002-12-23T00:00:00\",\"2002-12-24T00:00:00\",\"2002-12-26T00:00:00\",\"2002-12-27T00:00:00\",\"2002-12-30T00:00:00\",\"2002-12-31T00:00:00\",\"2003-01-02T00:00:00\",\"2003-01-03T00:00:00\",\"2003-01-06T00:00:00\",\"2003-01-07T00:00:00\",\"2003-01-08T00:00:00\",\"2003-01-09T00:00:00\",\"2003-01-10T00:00:00\",\"2003-01-13T00:00:00\",\"2003-01-14T00:00:00\",\"2003-01-15T00:00:00\",\"2003-01-16T00:00:00\",\"2003-01-17T00:00:00\",\"2003-01-21T00:00:00\",\"2003-01-22T00:00:00\",\"2003-01-23T00:00:00\",\"2003-01-24T00:00:00\",\"2003-01-27T00:00:00\",\"2003-01-28T00:00:00\",\"2003-01-29T00:00:00\",\"2003-01-30T00:00:00\",\"2003-01-31T00:00:00\",\"2003-02-03T00:00:00\",\"2003-02-04T00:00:00\",\"2003-02-05T00:00:00\",\"2003-02-06T00:00:00\",\"2003-02-07T00:00:00\",\"2003-02-10T00:00:00\",\"2003-02-11T00:00:00\",\"2003-02-12T00:00:00\",\"2003-02-13T00:00:00\",\"2003-02-14T00:00:00\",\"2003-02-18T00:00:00\",\"2003-02-19T00:00:00\",\"2003-02-20T00:00:00\",\"2003-02-21T00:00:00\",\"2003-02-24T00:00:00\",\"2003-02-25T00:00:00\",\"2003-02-26T00:00:00\",\"2003-02-27T00:00:00\",\"2003-02-28T00:00:00\",\"2003-03-03T00:00:00\",\"2003-03-04T00:00:00\",\"2003-03-05T00:00:00\",\"2003-03-06T00:00:00\",\"2003-03-07T00:00:00\",\"2003-03-10T00:00:00\",\"2003-03-11T00:00:00\",\"2003-03-12T00:00:00\",\"2003-03-13T00:00:00\",\"2003-03-14T00:00:00\",\"2003-03-17T00:00:00\",\"2003-03-18T00:00:00\",\"2003-03-19T00:00:00\",\"2003-03-20T00:00:00\",\"2003-03-21T00:00:00\",\"2003-03-24T00:00:00\",\"2003-03-25T00:00:00\",\"2003-03-26T00:00:00\",\"2003-03-27T00:00:00\",\"2003-03-28T00:00:00\",\"2003-03-31T00:00:00\",\"2003-04-01T00:00:00\",\"2003-04-02T00:00:00\",\"2003-04-03T00:00:00\",\"2003-04-04T00:00:00\",\"2003-04-07T00:00:00\",\"2003-04-08T00:00:00\",\"2003-04-09T00:00:00\",\"2003-04-10T00:00:00\",\"2003-04-11T00:00:00\",\"2003-04-14T00:00:00\",\"2003-04-15T00:00:00\",\"2003-04-16T00:00:00\",\"2003-04-17T00:00:00\",\"2003-04-21T00:00:00\",\"2003-04-22T00:00:00\",\"2003-04-23T00:00:00\",\"2003-04-24T00:00:00\",\"2003-04-25T00:00:00\",\"2003-04-28T00:00:00\",\"2003-04-29T00:00:00\",\"2003-04-30T00:00:00\",\"2003-05-01T00:00:00\",\"2003-05-02T00:00:00\",\"2003-05-05T00:00:00\",\"2003-05-06T00:00:00\",\"2003-05-07T00:00:00\",\"2003-05-08T00:00:00\",\"2003-05-09T00:00:00\",\"2003-05-12T00:00:00\",\"2003-05-13T00:00:00\",\"2003-05-14T00:00:00\",\"2003-05-15T00:00:00\",\"2003-05-16T00:00:00\",\"2003-05-19T00:00:00\",\"2003-05-20T00:00:00\",\"2003-05-21T00:00:00\",\"2003-05-22T00:00:00\",\"2003-05-23T00:00:00\",\"2003-05-27T00:00:00\",\"2003-05-28T00:00:00\",\"2003-05-29T00:00:00\",\"2003-05-30T00:00:00\",\"2003-06-02T00:00:00\",\"2003-06-03T00:00:00\",\"2003-06-04T00:00:00\",\"2003-06-05T00:00:00\",\"2003-06-06T00:00:00\",\"2003-06-09T00:00:00\",\"2003-06-10T00:00:00\",\"2003-06-11T00:00:00\",\"2003-06-12T00:00:00\",\"2003-06-13T00:00:00\",\"2003-06-16T00:00:00\",\"2003-06-17T00:00:00\",\"2003-06-18T00:00:00\",\"2003-06-19T00:00:00\",\"2003-06-20T00:00:00\",\"2003-06-23T00:00:00\",\"2003-06-24T00:00:00\",\"2003-06-25T00:00:00\",\"2003-06-26T00:00:00\",\"2003-06-27T00:00:00\",\"2003-06-30T00:00:00\",\"2003-07-01T00:00:00\",\"2003-07-02T00:00:00\",\"2003-07-03T00:00:00\",\"2003-07-07T00:00:00\",\"2003-07-08T00:00:00\",\"2003-07-09T00:00:00\",\"2003-07-10T00:00:00\",\"2003-07-11T00:00:00\",\"2003-07-14T00:00:00\",\"2003-07-15T00:00:00\",\"2003-07-16T00:00:00\",\"2003-07-17T00:00:00\",\"2003-07-18T00:00:00\",\"2003-07-21T00:00:00\",\"2003-07-22T00:00:00\",\"2003-07-23T00:00:00\",\"2003-07-24T00:00:00\",\"2003-07-25T00:00:00\",\"2003-07-28T00:00:00\",\"2003-07-29T00:00:00\",\"2003-07-30T00:00:00\",\"2003-07-31T00:00:00\",\"2003-08-01T00:00:00\",\"2003-08-04T00:00:00\",\"2003-08-05T00:00:00\",\"2003-08-06T00:00:00\",\"2003-08-07T00:00:00\",\"2003-08-08T00:00:00\",\"2003-08-11T00:00:00\",\"2003-08-12T00:00:00\",\"2003-08-13T00:00:00\",\"2003-08-14T00:00:00\",\"2003-08-15T00:00:00\",\"2003-08-18T00:00:00\",\"2003-08-19T00:00:00\",\"2003-08-20T00:00:00\",\"2003-08-21T00:00:00\",\"2003-08-22T00:00:00\",\"2003-08-25T00:00:00\",\"2003-08-26T00:00:00\",\"2003-08-27T00:00:00\",\"2003-08-28T00:00:00\",\"2003-08-29T00:00:00\",\"2003-09-02T00:00:00\",\"2003-09-03T00:00:00\",\"2003-09-04T00:00:00\",\"2003-09-05T00:00:00\",\"2003-09-08T00:00:00\",\"2003-09-09T00:00:00\",\"2003-09-10T00:00:00\",\"2003-09-11T00:00:00\",\"2003-09-12T00:00:00\",\"2003-09-15T00:00:00\",\"2003-09-16T00:00:00\",\"2003-09-17T00:00:00\",\"2003-09-18T00:00:00\",\"2003-09-19T00:00:00\",\"2003-09-22T00:00:00\",\"2003-09-23T00:00:00\",\"2003-09-24T00:00:00\",\"2003-09-25T00:00:00\",\"2003-09-26T00:00:00\",\"2003-09-29T00:00:00\",\"2003-09-30T00:00:00\",\"2003-10-01T00:00:00\",\"2003-10-02T00:00:00\",\"2003-10-03T00:00:00\",\"2003-10-06T00:00:00\",\"2003-10-07T00:00:00\",\"2003-10-08T00:00:00\",\"2003-10-09T00:00:00\",\"2003-10-10T00:00:00\",\"2003-10-13T00:00:00\",\"2003-10-14T00:00:00\",\"2003-10-15T00:00:00\",\"2003-10-16T00:00:00\",\"2003-10-17T00:00:00\",\"2003-10-20T00:00:00\",\"2003-10-21T00:00:00\",\"2003-10-22T00:00:00\",\"2003-10-23T00:00:00\",\"2003-10-24T00:00:00\",\"2003-10-27T00:00:00\",\"2003-10-28T00:00:00\",\"2003-10-29T00:00:00\",\"2003-10-30T00:00:00\",\"2003-10-31T00:00:00\",\"2003-11-03T00:00:00\",\"2003-11-04T00:00:00\",\"2003-11-05T00:00:00\",\"2003-11-06T00:00:00\",\"2003-11-07T00:00:00\",\"2003-11-10T00:00:00\",\"2003-11-11T00:00:00\",\"2003-11-12T00:00:00\",\"2003-11-13T00:00:00\",\"2003-11-14T00:00:00\",\"2003-11-17T00:00:00\",\"2003-11-18T00:00:00\",\"2003-11-19T00:00:00\",\"2003-11-20T00:00:00\",\"2003-11-21T00:00:00\",\"2003-11-24T00:00:00\",\"2003-11-25T00:00:00\",\"2003-11-26T00:00:00\",\"2003-11-28T00:00:00\",\"2003-12-01T00:00:00\",\"2003-12-02T00:00:00\",\"2003-12-03T00:00:00\",\"2003-12-04T00:00:00\",\"2003-12-05T00:00:00\",\"2003-12-08T00:00:00\",\"2003-12-09T00:00:00\",\"2003-12-10T00:00:00\",\"2003-12-11T00:00:00\",\"2003-12-12T00:00:00\",\"2003-12-15T00:00:00\",\"2003-12-16T00:00:00\",\"2003-12-17T00:00:00\",\"2003-12-18T00:00:00\",\"2003-12-19T00:00:00\",\"2003-12-22T00:00:00\",\"2003-12-23T00:00:00\",\"2003-12-24T00:00:00\",\"2003-12-26T00:00:00\",\"2003-12-29T00:00:00\",\"2003-12-30T00:00:00\",\"2003-12-31T00:00:00\",\"2004-01-02T00:00:00\",\"2004-01-05T00:00:00\",\"2004-01-06T00:00:00\",\"2004-01-07T00:00:00\",\"2004-01-08T00:00:00\",\"2004-01-09T00:00:00\",\"2004-01-12T00:00:00\",\"2004-01-13T00:00:00\",\"2004-01-14T00:00:00\",\"2004-01-15T00:00:00\",\"2004-01-16T00:00:00\",\"2004-01-20T00:00:00\",\"2004-01-21T00:00:00\",\"2004-01-22T00:00:00\",\"2004-01-23T00:00:00\",\"2004-01-26T00:00:00\",\"2004-01-27T00:00:00\",\"2004-01-28T00:00:00\",\"2004-01-29T00:00:00\",\"2004-01-30T00:00:00\",\"2004-02-02T00:00:00\",\"2004-02-03T00:00:00\",\"2004-02-04T00:00:00\",\"2004-02-05T00:00:00\",\"2004-02-06T00:00:00\",\"2004-02-09T00:00:00\",\"2004-02-10T00:00:00\",\"2004-02-11T00:00:00\",\"2004-02-12T00:00:00\",\"2004-02-13T00:00:00\",\"2004-02-17T00:00:00\",\"2004-02-18T00:00:00\",\"2004-02-19T00:00:00\",\"2004-02-20T00:00:00\",\"2004-02-23T00:00:00\",\"2004-02-24T00:00:00\",\"2004-02-25T00:00:00\",\"2004-02-26T00:00:00\",\"2004-02-27T00:00:00\",\"2004-03-01T00:00:00\",\"2004-03-02T00:00:00\",\"2004-03-03T00:00:00\",\"2004-03-04T00:00:00\",\"2004-03-05T00:00:00\",\"2004-03-08T00:00:00\",\"2004-03-09T00:00:00\",\"2004-03-10T00:00:00\",\"2004-03-11T00:00:00\",\"2004-03-12T00:00:00\",\"2004-03-15T00:00:00\",\"2004-03-16T00:00:00\",\"2004-03-17T00:00:00\",\"2004-03-18T00:00:00\",\"2004-03-19T00:00:00\",\"2004-03-22T00:00:00\",\"2004-03-23T00:00:00\",\"2004-03-24T00:00:00\",\"2004-03-25T00:00:00\",\"2004-03-26T00:00:00\",\"2004-03-29T00:00:00\",\"2004-03-30T00:00:00\",\"2004-03-31T00:00:00\",\"2004-04-01T00:00:00\",\"2004-04-02T00:00:00\",\"2004-04-05T00:00:00\",\"2004-04-06T00:00:00\",\"2004-04-07T00:00:00\",\"2004-04-08T00:00:00\",\"2004-04-12T00:00:00\",\"2004-04-13T00:00:00\",\"2004-04-14T00:00:00\",\"2004-04-15T00:00:00\",\"2004-04-16T00:00:00\",\"2004-04-19T00:00:00\",\"2004-04-20T00:00:00\",\"2004-04-21T00:00:00\",\"2004-04-22T00:00:00\",\"2004-04-23T00:00:00\",\"2004-04-26T00:00:00\",\"2004-04-27T00:00:00\",\"2004-04-28T00:00:00\",\"2004-04-29T00:00:00\",\"2004-04-30T00:00:00\",\"2004-05-03T00:00:00\",\"2004-05-04T00:00:00\",\"2004-05-05T00:00:00\",\"2004-05-06T00:00:00\",\"2004-05-07T00:00:00\",\"2004-05-10T00:00:00\",\"2004-05-11T00:00:00\",\"2004-05-12T00:00:00\",\"2004-05-13T00:00:00\",\"2004-05-14T00:00:00\",\"2004-05-17T00:00:00\",\"2004-05-18T00:00:00\",\"2004-05-19T00:00:00\",\"2004-05-20T00:00:00\",\"2004-05-21T00:00:00\",\"2004-05-24T00:00:00\",\"2004-05-25T00:00:00\",\"2004-05-26T00:00:00\",\"2004-05-27T00:00:00\",\"2004-05-28T00:00:00\",\"2004-06-01T00:00:00\",\"2004-06-02T00:00:00\",\"2004-06-03T00:00:00\",\"2004-06-04T00:00:00\",\"2004-06-07T00:00:00\",\"2004-06-08T00:00:00\",\"2004-06-09T00:00:00\",\"2004-06-10T00:00:00\",\"2004-06-14T00:00:00\",\"2004-06-15T00:00:00\",\"2004-06-16T00:00:00\",\"2004-06-17T00:00:00\",\"2004-06-18T00:00:00\",\"2004-06-21T00:00:00\",\"2004-06-22T00:00:00\",\"2004-06-23T00:00:00\",\"2004-06-24T00:00:00\",\"2004-06-25T00:00:00\",\"2004-06-28T00:00:00\",\"2004-06-29T00:00:00\",\"2004-06-30T00:00:00\",\"2004-07-01T00:00:00\",\"2004-07-02T00:00:00\",\"2004-07-06T00:00:00\",\"2004-07-07T00:00:00\",\"2004-07-08T00:00:00\",\"2004-07-09T00:00:00\",\"2004-07-12T00:00:00\",\"2004-07-13T00:00:00\",\"2004-07-14T00:00:00\",\"2004-07-15T00:00:00\",\"2004-07-16T00:00:00\",\"2004-07-19T00:00:00\",\"2004-07-20T00:00:00\",\"2004-07-21T00:00:00\",\"2004-07-22T00:00:00\",\"2004-07-23T00:00:00\",\"2004-07-26T00:00:00\",\"2004-07-27T00:00:00\",\"2004-07-28T00:00:00\",\"2004-07-29T00:00:00\",\"2004-07-30T00:00:00\",\"2004-08-02T00:00:00\",\"2004-08-03T00:00:00\",\"2004-08-04T00:00:00\",\"2004-08-05T00:00:00\",\"2004-08-06T00:00:00\",\"2004-08-09T00:00:00\",\"2004-08-10T00:00:00\",\"2004-08-11T00:00:00\",\"2004-08-12T00:00:00\",\"2004-08-13T00:00:00\",\"2004-08-16T00:00:00\",\"2004-08-17T00:00:00\",\"2004-08-18T00:00:00\",\"2004-08-19T00:00:00\",\"2004-08-20T00:00:00\",\"2004-08-23T00:00:00\",\"2004-08-24T00:00:00\",\"2004-08-25T00:00:00\",\"2004-08-26T00:00:00\",\"2004-08-27T00:00:00\",\"2004-08-30T00:00:00\",\"2004-08-31T00:00:00\",\"2004-09-01T00:00:00\",\"2004-09-02T00:00:00\",\"2004-09-03T00:00:00\",\"2004-09-07T00:00:00\",\"2004-09-08T00:00:00\",\"2004-09-09T00:00:00\",\"2004-09-10T00:00:00\",\"2004-09-13T00:00:00\",\"2004-09-14T00:00:00\",\"2004-09-15T00:00:00\",\"2004-09-16T00:00:00\",\"2004-09-17T00:00:00\",\"2004-09-20T00:00:00\",\"2004-09-21T00:00:00\",\"2004-09-22T00:00:00\",\"2004-09-23T00:00:00\",\"2004-09-24T00:00:00\",\"2004-09-27T00:00:00\",\"2004-09-28T00:00:00\",\"2004-09-29T00:00:00\",\"2004-09-30T00:00:00\",\"2004-10-01T00:00:00\",\"2004-10-04T00:00:00\",\"2004-10-05T00:00:00\",\"2004-10-06T00:00:00\",\"2004-10-07T00:00:00\",\"2004-10-08T00:00:00\",\"2004-10-11T00:00:00\",\"2004-10-12T00:00:00\",\"2004-10-13T00:00:00\",\"2004-10-14T00:00:00\",\"2004-10-15T00:00:00\",\"2004-10-18T00:00:00\",\"2004-10-19T00:00:00\",\"2004-10-20T00:00:00\",\"2004-10-21T00:00:00\",\"2004-10-22T00:00:00\",\"2004-10-25T00:00:00\",\"2004-10-26T00:00:00\",\"2004-10-27T00:00:00\",\"2004-10-28T00:00:00\",\"2004-10-29T00:00:00\",\"2004-11-01T00:00:00\",\"2004-11-02T00:00:00\",\"2004-11-03T00:00:00\",\"2004-11-04T00:00:00\",\"2004-11-05T00:00:00\",\"2004-11-08T00:00:00\",\"2004-11-09T00:00:00\",\"2004-11-10T00:00:00\",\"2004-11-11T00:00:00\",\"2004-11-12T00:00:00\",\"2004-11-15T00:00:00\",\"2004-11-16T00:00:00\",\"2004-11-17T00:00:00\",\"2004-11-18T00:00:00\",\"2004-11-19T00:00:00\",\"2004-11-22T00:00:00\",\"2004-11-23T00:00:00\",\"2004-11-24T00:00:00\",\"2004-11-26T00:00:00\",\"2004-11-29T00:00:00\",\"2004-11-30T00:00:00\",\"2004-12-01T00:00:00\",\"2004-12-02T00:00:00\",\"2004-12-03T00:00:00\",\"2004-12-06T00:00:00\",\"2004-12-07T00:00:00\",\"2004-12-08T00:00:00\",\"2004-12-09T00:00:00\",\"2004-12-10T00:00:00\",\"2004-12-13T00:00:00\",\"2004-12-14T00:00:00\",\"2004-12-15T00:00:00\",\"2004-12-16T00:00:00\",\"2004-12-17T00:00:00\",\"2004-12-20T00:00:00\",\"2004-12-21T00:00:00\",\"2004-12-22T00:00:00\",\"2004-12-23T00:00:00\",\"2004-12-27T00:00:00\",\"2004-12-28T00:00:00\",\"2004-12-29T00:00:00\",\"2004-12-30T00:00:00\",\"2004-12-31T00:00:00\",\"2005-01-03T00:00:00\",\"2005-01-04T00:00:00\",\"2005-01-05T00:00:00\",\"2005-01-06T00:00:00\",\"2005-01-07T00:00:00\",\"2005-01-10T00:00:00\",\"2005-01-11T00:00:00\",\"2005-01-12T00:00:00\",\"2005-01-13T00:00:00\",\"2005-01-14T00:00:00\",\"2005-01-18T00:00:00\",\"2005-01-19T00:00:00\",\"2005-01-20T00:00:00\",\"2005-01-21T00:00:00\",\"2005-01-24T00:00:00\",\"2005-01-25T00:00:00\",\"2005-01-26T00:00:00\",\"2005-01-27T00:00:00\",\"2005-01-28T00:00:00\",\"2005-01-31T00:00:00\",\"2005-02-01T00:00:00\",\"2005-02-02T00:00:00\",\"2005-02-03T00:00:00\",\"2005-02-04T00:00:00\",\"2005-02-07T00:00:00\",\"2005-02-08T00:00:00\",\"2005-02-09T00:00:00\",\"2005-02-10T00:00:00\",\"2005-02-11T00:00:00\",\"2005-02-14T00:00:00\",\"2005-02-15T00:00:00\",\"2005-02-16T00:00:00\",\"2005-02-17T00:00:00\",\"2005-02-18T00:00:00\",\"2005-02-22T00:00:00\",\"2005-02-23T00:00:00\",\"2005-02-24T00:00:00\",\"2005-02-25T00:00:00\",\"2005-02-28T00:00:00\",\"2005-03-01T00:00:00\",\"2005-03-02T00:00:00\",\"2005-03-03T00:00:00\",\"2005-03-04T00:00:00\",\"2005-03-07T00:00:00\",\"2005-03-08T00:00:00\",\"2005-03-09T00:00:00\",\"2005-03-10T00:00:00\",\"2005-03-11T00:00:00\",\"2005-03-14T00:00:00\",\"2005-03-15T00:00:00\",\"2005-03-16T00:00:00\",\"2005-03-17T00:00:00\",\"2005-03-18T00:00:00\",\"2005-03-21T00:00:00\",\"2005-03-22T00:00:00\",\"2005-03-23T00:00:00\",\"2005-03-24T00:00:00\",\"2005-03-28T00:00:00\",\"2005-03-29T00:00:00\",\"2005-03-30T00:00:00\",\"2005-03-31T00:00:00\",\"2005-04-01T00:00:00\",\"2005-04-04T00:00:00\",\"2005-04-05T00:00:00\",\"2005-04-06T00:00:00\",\"2005-04-07T00:00:00\",\"2005-04-08T00:00:00\",\"2005-04-11T00:00:00\",\"2005-04-12T00:00:00\",\"2005-04-13T00:00:00\",\"2005-04-14T00:00:00\",\"2005-04-15T00:00:00\",\"2005-04-18T00:00:00\",\"2005-04-19T00:00:00\",\"2005-04-20T00:00:00\",\"2005-04-21T00:00:00\",\"2005-04-22T00:00:00\",\"2005-04-25T00:00:00\",\"2005-04-26T00:00:00\",\"2005-04-27T00:00:00\",\"2005-04-28T00:00:00\",\"2005-04-29T00:00:00\",\"2005-05-02T00:00:00\",\"2005-05-03T00:00:00\",\"2005-05-04T00:00:00\",\"2005-05-05T00:00:00\",\"2005-05-06T00:00:00\",\"2005-05-09T00:00:00\",\"2005-05-10T00:00:00\",\"2005-05-11T00:00:00\",\"2005-05-12T00:00:00\",\"2005-05-13T00:00:00\",\"2005-05-16T00:00:00\",\"2005-05-17T00:00:00\",\"2005-05-18T00:00:00\",\"2005-05-19T00:00:00\",\"2005-05-20T00:00:00\",\"2005-05-23T00:00:00\",\"2005-05-24T00:00:00\",\"2005-05-25T00:00:00\",\"2005-05-26T00:00:00\",\"2005-05-27T00:00:00\",\"2005-05-31T00:00:00\",\"2005-06-01T00:00:00\",\"2005-06-02T00:00:00\",\"2005-06-03T00:00:00\",\"2005-06-06T00:00:00\",\"2005-06-07T00:00:00\",\"2005-06-08T00:00:00\",\"2005-06-09T00:00:00\",\"2005-06-10T00:00:00\",\"2005-06-13T00:00:00\",\"2005-06-14T00:00:00\",\"2005-06-15T00:00:00\",\"2005-06-16T00:00:00\",\"2005-06-17T00:00:00\",\"2005-06-20T00:00:00\",\"2005-06-21T00:00:00\",\"2005-06-22T00:00:00\",\"2005-06-23T00:00:00\",\"2005-06-24T00:00:00\",\"2005-06-27T00:00:00\",\"2005-06-28T00:00:00\",\"2005-06-29T00:00:00\",\"2005-06-30T00:00:00\",\"2005-07-01T00:00:00\",\"2005-07-05T00:00:00\",\"2005-07-06T00:00:00\",\"2005-07-07T00:00:00\",\"2005-07-08T00:00:00\",\"2005-07-09T00:00:00\",\"2005-07-10T00:00:00\",\"2005-07-11T00:00:00\",\"2005-07-12T00:00:00\",\"2005-07-13T00:00:00\",\"2005-07-14T00:00:00\",\"2005-07-15T00:00:00\",\"2005-07-16T00:00:00\",\"2005-07-17T00:00:00\",\"2005-07-18T00:00:00\",\"2005-07-19T00:00:00\",\"2005-07-20T00:00:00\",\"2005-07-21T00:00:00\",\"2005-07-22T00:00:00\",\"2005-07-23T00:00:00\",\"2005-07-24T00:00:00\",\"2005-07-25T00:00:00\",\"2005-07-26T00:00:00\",\"2005-07-27T00:00:00\",\"2005-07-28T00:00:00\",\"2005-07-29T00:00:00\",\"2005-07-30T00:00:00\",\"2005-07-31T00:00:00\",\"2005-08-01T00:00:00\",\"2005-08-02T00:00:00\",\"2005-08-03T00:00:00\",\"2005-08-04T00:00:00\",\"2005-08-05T00:00:00\",\"2005-08-06T00:00:00\",\"2005-08-07T00:00:00\",\"2005-08-08T00:00:00\",\"2005-08-09T00:00:00\",\"2005-08-10T00:00:00\",\"2005-08-11T00:00:00\",\"2005-08-12T00:00:00\",\"2005-08-13T00:00:00\",\"2005-08-14T00:00:00\",\"2005-08-15T00:00:00\",\"2005-08-16T00:00:00\",\"2005-08-17T00:00:00\",\"2005-08-18T00:00:00\",\"2005-08-19T00:00:00\",\"2005-08-20T00:00:00\",\"2005-08-21T00:00:00\",\"2005-08-22T00:00:00\",\"2005-08-23T00:00:00\",\"2005-08-24T00:00:00\",\"2005-08-25T00:00:00\",\"2005-08-26T00:00:00\",\"2005-08-27T00:00:00\",\"2005-08-28T00:00:00\",\"2005-08-29T00:00:00\",\"2005-08-30T00:00:00\",\"2005-08-31T00:00:00\",\"2005-09-01T00:00:00\",\"2005-09-02T00:00:00\",\"2005-09-03T00:00:00\",\"2005-09-04T00:00:00\",\"2005-09-05T00:00:00\",\"2005-09-06T00:00:00\",\"2005-09-07T00:00:00\",\"2005-09-08T00:00:00\",\"2005-09-09T00:00:00\",\"2005-09-10T00:00:00\",\"2005-09-11T00:00:00\",\"2005-09-12T00:00:00\",\"2005-09-13T00:00:00\",\"2005-09-14T00:00:00\",\"2005-09-15T00:00:00\",\"2005-09-16T00:00:00\",\"2005-09-17T00:00:00\",\"2005-09-18T00:00:00\",\"2005-09-19T00:00:00\",\"2005-09-20T00:00:00\",\"2005-09-21T00:00:00\",\"2005-09-22T00:00:00\",\"2005-09-23T00:00:00\",\"2005-09-24T00:00:00\",\"2005-09-25T00:00:00\",\"2005-09-26T00:00:00\",\"2005-09-27T00:00:00\",\"2005-09-28T00:00:00\",\"2005-09-29T00:00:00\",\"2005-09-30T00:00:00\",\"2005-10-01T00:00:00\",\"2005-10-02T00:00:00\",\"2005-10-03T00:00:00\",\"2005-10-04T00:00:00\",\"2005-10-05T00:00:00\",\"2005-10-06T00:00:00\",\"2005-10-07T00:00:00\",\"2005-10-08T00:00:00\",\"2005-10-09T00:00:00\",\"2005-10-10T00:00:00\",\"2005-10-11T00:00:00\",\"2005-10-12T00:00:00\",\"2005-10-13T00:00:00\",\"2005-10-14T00:00:00\",\"2005-10-15T00:00:00\",\"2005-10-16T00:00:00\",\"2005-10-17T00:00:00\",\"2005-10-18T00:00:00\",\"2005-10-19T00:00:00\",\"2005-10-20T00:00:00\",\"2005-10-21T00:00:00\",\"2005-10-22T00:00:00\",\"2005-10-23T00:00:00\",\"2005-10-24T00:00:00\",\"2005-10-25T00:00:00\",\"2005-10-26T00:00:00\",\"2005-10-27T00:00:00\",\"2005-10-28T00:00:00\",\"2005-10-29T00:00:00\",\"2005-10-30T00:00:00\",\"2005-10-31T00:00:00\",\"2005-11-01T00:00:00\",\"2005-11-02T00:00:00\",\"2005-11-03T00:00:00\",\"2005-11-04T00:00:00\",\"2005-11-05T00:00:00\",\"2005-11-06T00:00:00\",\"2005-11-07T00:00:00\",\"2005-11-08T00:00:00\",\"2005-11-09T00:00:00\",\"2005-11-10T00:00:00\",\"2005-11-11T00:00:00\",\"2005-11-12T00:00:00\",\"2005-11-13T00:00:00\",\"2005-11-14T00:00:00\",\"2005-11-15T00:00:00\",\"2005-11-16T00:00:00\",\"2005-11-17T00:00:00\",\"2005-11-18T00:00:00\",\"2005-11-19T00:00:00\",\"2005-11-20T00:00:00\",\"2005-11-21T00:00:00\",\"2005-11-22T00:00:00\",\"2005-11-23T00:00:00\",\"2005-11-24T00:00:00\",\"2005-11-25T00:00:00\",\"2005-11-26T00:00:00\",\"2005-11-27T00:00:00\",\"2005-11-28T00:00:00\",\"2005-11-29T00:00:00\",\"2005-11-30T00:00:00\",\"2005-12-01T00:00:00\",\"2005-12-02T00:00:00\"],\"y\":[15.482865173845388,15.49695039901332,15.535159127096092,15.534299500675484,15.506045531315495,15.528053903582549,15.497442811020312,15.491418544752403,15.447493728814084,15.378035861835642,15.294069609646552,15.235919978328804,15.207037517689635,15.145286173510318,15.063293319185657,14.974607202612185,14.925726771174528,14.911231303192197,14.868665305165662,14.810254733859617,14.813655185423228,14.800639452537514,14.82353329777906,14.819220156277423,14.799266825902244,14.912968586083764,14.933110237973409,14.986521708835848,15.009677681626059,15.013806223684417,15.177162089014631,15.205948578362728,15.264049349375355,15.288042354026189,15.289321651766295,15.424470962363731,15.438334333831678,15.479344822963304,15.484465043469779,15.46548130953181,15.5272366430012,15.546680384432015,15.530974050594931,15.492175119548175,15.510925449743603,15.489080418962622,15.496705543960708,15.471146436348636,15.424515280612196,15.432081655382841,15.410573264094582,15.420503892488815,15.399158928359372,15.358577695622868,15.394410370229325,15.385343916995527,15.409024181692825,15.402599256559462,15.377960097941724,15.46609613225637,15.475347622791054,15.517455897527807,15.529355637612047,15.522716965842184,15.660640745663983,15.684329102579566,15.739431444810103,15.762681776202042,15.765567472374624,15.919646398511956,15.944246890360853,15.997948500609853,16.01750026861646,16.014448215128432,16.138531653281202,16.149706681905542,16.188686013537033,16.19252038324833,16.17308448962198,16.247563997240373,16.24326698766182,16.267898107095426,16.258836593131573,16.22825546182185,16.28216706672998,16.275837201325277,16.300968177906842,16.29491701515512,16.26976912070065,16.35268743821706,16.359358698310885,16.398578520604673,16.40729708575994,16.397166295813275,16.522115962632647,16.54031495659619,16.589137240033732,16.603302845092195,16.59603865794152,16.71205959378181,16.721125746760283,16.757778423840634,16.735649853367278,16.791494432138556,16.777713390569996,16.790955486693075,16.768508804181323,16.722507000915186,16.718359139541807,16.689150255225943,16.689969604506853,16.658440763372365,16.606953791579215,16.60915613838474,16.58959656319884,16.603554188301754,16.588345145562318,16.55596563074007,16.62717513053612,16.632547696002746,16.680156719044053,16.67037311874243,16.794523507678683,16.81078784900904,16.86755858810654,16.855530209434583,16.944732269159022,16.94031471293399,16.961128801509727,16.94392724245496,16.900332521689847,16.88185244978312,16.839436833330687,16.822373704093398,16.768121179840136,16.688984981926133,16.513046339325772,16.47641453506386,16.40693716099205,16.317084275443385,16.202219055090367,16.143084936307368,16.11721875528336,16.06194592309405,15.989273948576612,15.938481821807716,15.902973372438398,15.900898425517406,15.869024005315596,15.818833869152314,15.825520681704102,15.804685420366395,15.814645486410607,15.792052047588014,15.748355363309487,15.734353286137827,15.739000814507719,15.709588649572009,15.657949417702254,15.641693950896277,15.608975292749603,15.606015929444736,15.570133948391844,15.513430127416429,15.492256822722876,15.461634038466082,15.462636616253253,15.432490977643724,15.383151255318017,15.391685073427178,15.372615578893157,15.385501559377172,15.367262720588137,15.329554657575878,15.368673657544472,15.35764492042617,15.377244272849325,15.364316929064932,15.330498312359005,15.373362602838505,15.361396958983196,15.379304326620627,15.364184329539098,15.327949826111949,15.365146334223155,15.35276967121591,15.371435690140668,15.35845580330546,15.325912281617558,15.38441845319913,15.382585567897411,15.413382663040885,15.413954434087781,15.396162695889837,15.50323500523492,15.517889224953828,15.564697565572075,15.580417482374521,15.71437358390904,15.73465276272663,15.784395842126276,15.800221025755723,15.793534124471144,15.905790398075343,15.912222068629848,15.945818910729793,15.943497951065083,15.91700894499552,15.96384973236113,15.947873924510167,15.959471286017907,15.93596727228385,15.889494497719248,15.88684049968698,15.858699437905585,15.860583767399284,15.829901121395043,15.778805721157187,15.776971669979972,15.753525410472609,15.761970299196344,15.739458408296118,15.697868309425564,15.71826729805185,15.738710284505746,15.727974584485633,15.697772444643903,15.76042976892108,15.758058622381693,15.787015546124909,15.78434873109996,15.761906729947682,15.847746015818856,15.853727257925184,15.891683053063677,15.89884521030355,15.887221757525994,16.012512235533453,16.03410080386524,16.08882290981102,16.11378292043155,16.120803142301742,16.304415860168493,16.345104959223306,16.418091719765314,16.46004143981606,16.482325620946895,16.696938370033845,16.74165944267067,16.81493797825648,16.853166470617584,17.032117379132973,17.051572533007825,17.095574142834042,17.100819036816365,17.078861178926,17.119627491393764,17.09479094139329,17.094090372081713,17.05492028806708,16.989539595632188,16.912842679194355,16.85523888608428,16.825894654665408,16.76265992239415,16.678166747228325,16.576197646412094,16.521153458379224,16.49975941102691,16.44965878931829,16.383185946057235,16.360411945788133,16.33841568143261,16.352402926385647,16.339372223856316,16.310998446865238,16.4021585312755,16.415947025862234,16.46368002954856,16.48186783921564,16.481759875409583,16.636802503448955,16.664221210900347,16.721596186463337,16.745455077772213,16.747133997658466,16.88602348438405,16.901744167779416,16.944796258115225,16.952071069593806,16.93195605200968,16.988399074204608,17.006055863210232,16.98829465503239,16.947141402353076,16.956804879291404,16.931207698569498,16.934706957736996,16.904647346340862,16.85314371046474,16.84393231622089,16.81614757488481,16.819483455839137,16.791242252915985,16.743481955754273,16.75629380027599,16.739139636251526,16.754570343615317,16.739764298850062,16.706644911247718,16.769101565622012,16.769841708697015,16.803530539031684,16.8071446632199,16.79239622462988,16.899740088299342,16.913847787658494,16.959730379295483,16.9741478895627,16.96860803261569,17.09995641621721,17.117825164373453,17.165195513676917,17.178790768015432,17.17012303472967,17.27895242135867,17.28539074064823,17.319703251435957,17.31887333420596,17.294707116392075,17.353929474221985,17.343984915475602,17.36259847927119,17.34710760432974,17.309653130260408,17.34012392817988,17.325047273908883,17.340998924582856,17.32537426620515,17.29030817773976,17.34204139517381,17.338090548600697,17.36671190364985,17.364941036020152,17.344514232185386,17.440518129485746,17.449940848953638,17.49051079061239,17.498858702924274,17.48635551601957,17.590110623517898,17.596155243203874,17.630241298195163,17.60406250093954,17.65521835061904,17.639845557621296,17.651307654725848,17.62679085204516,17.578332342713374,17.56366494198867,17.52968399305537,17.5250277405594,17.48730258010939,17.4342551720542,17.427740727395687,17.40411280095398,17.413552021589595,17.393473873843774,17.35598456146173,17.411624330572515,17.412142233258376,17.446437580693157,17.438079036144135,17.55638175577915,17.572354072374587,17.61850867678855,17.621496983837822,17.72242692412876,17.723241008787088,17.749784723662618,17.73869436695691,17.701467441920354,17.702315385303397,17.665979239133804,17.65460592713514,17.605541504977396,17.530991853101103,17.36780850651966,17.332289725443097,17.263077999768203,17.17266799704007,17.05169917207292,16.98929581021726,16.95969430803181,16.90032360358474,16.82329943272533,16.759018008095804,16.719217578105972,16.71311033694173,16.677542885458436,16.624066011291845,16.623786352393584,16.601669256304383,16.61086699725415,16.588008190287223,16.544507148077606,16.534799811493492,16.54105752312364,16.513319130771944,16.463341057658074,16.451292322079922,16.419517233236245,16.417194814906217,16.381612856833847,16.324853589145697,16.301374472068066,16.269324749701582,16.268624267047848,16.236544065994703,16.185089234544044,16.18676014109686,16.16542406297952,16.17614644107587,16.155895961107536,16.116370560233406,16.151500587457104,16.139680702159083,16.158757863977655,16.14556167292249,16.111702270207033,16.15543499769959,16.143930886324007,16.16229613036045,16.147573968951907,16.111621814442536,16.148471364728664,16.1354438593034,16.153143011848545,16.13886574925808,16.104690693590868,16.15642890917499,16.151814160909193,16.179640881779914,16.177111309048477,16.254022065933903,16.26595173753921,16.310324252109503,16.32396122164186,16.318401361562948,16.454126036066697,16.47475777547003,16.52539897349431,16.542658696912294,16.537921101671117,16.658722156663284,16.668719190997287,16.7061282294088,16.707790321453224,16.685375936302368,16.744189968042175,16.73186664789225,16.746832081815825,16.72635361893122,16.68251501791594,16.68508493697397,16.657738488619778,16.659945559416574,16.629130929286937,16.577475717757117,16.571784855742095,16.54648678612679,16.552885511568963,16.528187974120254,16.484326186334968,16.509302920493568,16.495705786474794,16.514088419117456,16.50141387010914,16.46940092362189,16.523551317956713,16.55114106943703,16.547108965587494,16.523264679700347,16.604281344071488,16.60832941298517,16.644140582220516,16.64892777050939,16.750740514318057,16.768856284112427,16.819971957676135,16.841245371945448,16.844561603145287,17.017696579854267,17.055375630391435,17.125734621681232,17.165522119491783,17.1861887955118,17.39990050057377,17.445815418174046,17.521091756991638,17.562134101151138,17.580104822981053,17.786128813044368,17.837179366960108,17.84992236264734,17.835802981390543,17.900913932472108,17.884039825653883,17.891008085396134,17.859086714697558,17.800414501586864,17.739548067197838,17.68550268393477,17.65875273739375,17.59711109186073,17.513191135700378,17.406914910549812,17.34854715334639,17.322988065951574,17.26796464945069,17.1959072823945,17.153508316225853,17.124409147169835,17.131216902028,17.111051009826518,17.075702885032772,17.14796103366057,17.156425560906463,17.199444880538245,17.213582567824652,17.210127221155048,17.35952306933994,17.386515730707156,17.444156520486484,17.468934417593857,17.472137377722582,17.618636604924642,17.637682865773144,17.684335775571633,17.695413790676938,17.682562757305334,17.770603790275704,17.768034913541992,17.792647240179534,17.781621663857482,17.746944955927358,17.75375452622452,17.76205570209492,17.736425135811487,17.688975783897803,17.689712615991635,17.664531757771975,17.670134566739424,17.64383794867972,17.59771635222227,17.613800074008658,17.597261092632046,17.613110279341786,17.59855363257962,17.565544306653962,17.62782492860198,17.628457954446063,17.66208019178915,17.66570923124985,17.651099021309175,17.767727597157915,17.785450219517664,17.83526941161496,17.853977133550888,17.8531084128955,18.00094202627662,18.02515779731949,18.079296071777016,18.100064864664326,18.098952628338466,18.232382322991242,18.24750896996259,18.290659895243266,18.298754750307264,18.28353285218493,18.369022852820077,18.36742471469147,18.394078522565646,18.386269693726742,18.356095054350313,18.405698264479984,18.39605423015222,18.416974679204063,18.405878516220874,18.37493608712819,18.43712962290449,18.436247985922314,18.467857405074195,18.469076996257936,18.451728343936765,18.558325611711457,18.57198768688487,18.617260105473488,18.63082377890156,18.624087339023696,18.748614518850538,18.762720629236544,18.805388875772575,18.797719466927305,18.878083152547653,18.87267209239205,18.894038497683532,18.879263753097927,18.840282246648584,18.85151424979605,18.82505546773187,18.827263587139907,18.795706305999847,18.74275299292515,18.732267409964333,18.706007405949997,18.712258758248403,18.68851979246314,18.64699302904474,18.689377300716114,18.685500242712035,18.71562059582132,18.716620718115145,18.81198373155151,18.82734944954734,18.873748246886347,18.887548889763554,18.87986554985922,18.99189313094494,18.99792413008103,19.030311991597607,19.025591198450737,18.995145431755624,19.017546633022583,18.988358909989174,18.983897697975742,18.94138535349773,18.872913029056107,18.72557012369231,18.692043837603887,18.623972896087185,18.533853052241007,18.40893999510211,18.343798191812443,18.310873580144644,18.247688868145787,18.166461706227082,18.088320592208618,18.04384597287025,18.033209824665665,17.99335149625129,17.935904227680172,17.926270224253514,17.902026625066917,17.909625064618368,17.885689872321592,17.84161634543124,17.855648369164857,17.833829119277297,17.84132331681592,17.814981389011354,17.76648266692476,17.727924765407767,17.726430768854662,17.691379954071195,17.634821398411102,17.609806416613452,17.576539614776596,17.574301548155457,17.540397672855605,17.486875848555805,17.48140424671993,17.457563513021405,17.465816099804993,17.443185709622664,17.401420678479898,17.431075312901044,17.417935982194514,17.43596776260783,17.421997468263232,17.387622142797866,17.431082712717945,17.419781332975738,17.438414541250395,17.423970706079878,17.424976866367576,17.411472059451466,17.42841013358113,17.41306100778115,17.37748620695701,17.423049707559912,17.415771402223037,17.440685686602592,17.43504199481581,17.410821941175257,17.498687336734488,17.507443395481843,17.548844059828816,17.559781010413758,17.55185854003634,17.683070148557093,17.70319316399315,17.753864820526484,17.771700863733177,17.76807947895322,17.895222759948314,17.908192179134502,17.948907805192594,17.954141564511882,17.935489084167713,18.00593683588745,17.997342082744673,18.015835294373137,17.998616018296843,17.957707788419484,17.96663421769024,17.94049430923034,17.943429638530098,17.91286874114985,17.861007296874526,17.85222676991753,17.82521050440907,17.829628806954062,17.80274276080026,17.75653932882656,17.774096756446074,17.758050062647612,17.77405754544065,17.75910857191033,17.724939661868074,17.771693790765905,17.79767794805083,17.792086642246137,17.766694389296195,17.842745454608977,17.844901085275655,17.878642312859032,17.881154052583526,17.864413322691846,17.97152555504102,17.98620931741916,18.033706998284007,18.051216989808033,18.050675352359843,18.212315965228278,18.24644095639773,18.31352182695984,18.350392296307305,18.368586968117746,18.578325644583273,18.624283734302157,18.700370850355636,18.743022489126805,18.76341701202473,18.98703416477916,19.044251001943568,19.06372917471414,19.056819619095954,19.996856379386898,20.01255356065522,19.145299790676763,19.136386074348216,19.15118414629501,19.126831286750114,19.075338598561427,19.970728776269926,19.9424190485619,19.032501148025148,18.982954540635653,18.95981037365872,18.90082245427264,18.81856258919668,19.687546625197736,19.637607149344213,18.71116494199682,18.650435609583983,18.621589001370612,18.562417815436987,18.48543276272336,19.364990612648366,19.330671009051237,18.424554027869227,18.388434734686637,18.387992134787137,18.360468673189,18.31777737634666,19.233642660319145,19.236990381888365,18.36923878681599,18.371526299261095,18.408893242424217,18.417973364278716,18.410112002521497,19.358516688088702,19.391655575536852,18.55055520744697,18.57603345377878,18.632884658530315,18.657572855315674,18.66134991819216,19.617404521292993,19.65425740842235,18.813054626697184,18.834794741102144,18.88450726099127,18.89893835550604,18.889660949282703,19.83021530017115,19.849495784666658,18.989035759947228,18.99022671841194,19.018489144266898,19.01095130252679,18.97955317695247,19.898181753112524,19.896053434766127,19.014995492761425,18.99666276126118,19.006706960151387,18.98245481641171,18.936012119936297,19.841399809667266,19.827937763264874,18.93752806481115,18.911873836060533,18.916650881386587,18.88918819576673,18.84157435794463,19.74779580516367,19.73712258058673,18.851393265808355,18.83223514361646,18.84523682347906,18.82762938415995,18.791393082396024,19.710395670948742,19.71377798152973,18.843238563743235,18.840253514447184,18.87024882558117,18.870281402276913,18.852145894862755,19.78951347546595,19.81131829058127,18.959043441121914,18.97394266591229,19.021215076738446,19.03768909330456,19.034932693815037,19.986396059242953,20.020802266171025,19.17943778093272,19.203378812782187,19.25767073949488,19.279016607179123,19.27889166580231,20.230689862108097,20.26311779143043,19.41748771646139,19.434945579878114,19.480651112739253,19.491465952617713,19.47906667315049,20.41708861802946,20.43451604589254,19.572970234119463,19.5739315436839,19.60291265678453,19.59713904356012,19.56865373158544,20.491452468670687,20.494865003581587,19.620834365612527,19.611130386601257,19.631514920024404,19.6194150509493,19.587021595198348,20.508419183242307,20.512963832050254,19.64256003207622,19.63887370163917,19.66749853001782,19.665632024782038,19.645178536379788,20.579885482637085,20.598728556670753,19.743197780974796,19.75452055429745,19.797838970502447,19.809897452236317,19.80215767603821,20.747946699237794,20.775853752277097,19.927027240515685,19.942407793513524,19.986914351314866,19.99713906808681,19.984467782592635,20.922231780702976,20.939106176650274,20.076406372842452,20.075318408212453,20.10108021439364,20.090669648064242,20.055916193568144],\"type\":\"scatter\"},{\"fill\":\"tonexty\",\"line\":{\"color\":\"#57b8ff\"},\"mode\":\"lines\",\"name\":\"Higher uncertainty interval\",\"x\":[\"2002-07-08T00:00:00\",\"2002-07-09T00:00:00\",\"2002-07-10T00:00:00\",\"2002-07-11T00:00:00\",\"2002-07-12T00:00:00\",\"2002-07-15T00:00:00\",\"2002-07-16T00:00:00\",\"2002-07-17T00:00:00\",\"2002-07-18T00:00:00\",\"2002-07-19T00:00:00\",\"2002-07-22T00:00:00\",\"2002-07-23T00:00:00\",\"2002-07-24T00:00:00\",\"2002-07-25T00:00:00\",\"2002-07-26T00:00:00\",\"2002-07-29T00:00:00\",\"2002-07-30T00:00:00\",\"2002-07-31T00:00:00\",\"2002-08-01T00:00:00\",\"2002-08-02T00:00:00\",\"2002-08-05T00:00:00\",\"2002-08-06T00:00:00\",\"2002-08-07T00:00:00\",\"2002-08-08T00:00:00\",\"2002-08-09T00:00:00\",\"2002-08-12T00:00:00\",\"2002-08-13T00:00:00\",\"2002-08-14T00:00:00\",\"2002-08-15T00:00:00\",\"2002-08-16T00:00:00\",\"2002-08-19T00:00:00\",\"2002-08-20T00:00:00\",\"2002-08-21T00:00:00\",\"2002-08-22T00:00:00\",\"2002-08-23T00:00:00\",\"2002-08-26T00:00:00\",\"2002-08-27T00:00:00\",\"2002-08-28T00:00:00\",\"2002-08-29T00:00:00\",\"2002-08-30T00:00:00\",\"2002-09-03T00:00:00\",\"2002-09-04T00:00:00\",\"2002-09-05T00:00:00\",\"2002-09-06T00:00:00\",\"2002-09-09T00:00:00\",\"2002-09-10T00:00:00\",\"2002-09-11T00:00:00\",\"2002-09-12T00:00:00\",\"2002-09-13T00:00:00\",\"2002-09-16T00:00:00\",\"2002-09-17T00:00:00\",\"2002-09-18T00:00:00\",\"2002-09-19T00:00:00\",\"2002-09-20T00:00:00\",\"2002-09-23T00:00:00\",\"2002-09-24T00:00:00\",\"2002-09-25T00:00:00\",\"2002-09-26T00:00:00\",\"2002-09-27T00:00:00\",\"2002-09-30T00:00:00\",\"2002-10-01T00:00:00\",\"2002-10-02T00:00:00\",\"2002-10-03T00:00:00\",\"2002-10-04T00:00:00\",\"2002-10-07T00:00:00\",\"2002-10-08T00:00:00\",\"2002-10-09T00:00:00\",\"2002-10-10T00:00:00\",\"2002-10-11T00:00:00\",\"2002-10-14T00:00:00\",\"2002-10-15T00:00:00\",\"2002-10-16T00:00:00\",\"2002-10-17T00:00:00\",\"2002-10-18T00:00:00\",\"2002-10-21T00:00:00\",\"2002-10-22T00:00:00\",\"2002-10-23T00:00:00\",\"2002-10-24T00:00:00\",\"2002-10-25T00:00:00\",\"2002-10-28T00:00:00\",\"2002-10-29T00:00:00\",\"2002-10-30T00:00:00\",\"2002-10-31T00:00:00\",\"2002-11-01T00:00:00\",\"2002-11-04T00:00:00\",\"2002-11-05T00:00:00\",\"2002-11-06T00:00:00\",\"2002-11-07T00:00:00\",\"2002-11-08T00:00:00\",\"2002-11-11T00:00:00\",\"2002-11-12T00:00:00\",\"2002-11-13T00:00:00\",\"2002-11-14T00:00:00\",\"2002-11-15T00:00:00\",\"2002-11-18T00:00:00\",\"2002-11-19T00:00:00\",\"2002-11-20T00:00:00\",\"2002-11-21T00:00:00\",\"2002-11-22T00:00:00\",\"2002-11-25T00:00:00\",\"2002-11-26T00:00:00\",\"2002-11-27T00:00:00\",\"2002-11-29T00:00:00\",\"2002-12-02T00:00:00\",\"2002-12-03T00:00:00\",\"2002-12-04T00:00:00\",\"2002-12-05T00:00:00\",\"2002-12-06T00:00:00\",\"2002-12-09T00:00:00\",\"2002-12-10T00:00:00\",\"2002-12-11T00:00:00\",\"2002-12-12T00:00:00\",\"2002-12-13T00:00:00\",\"2002-12-16T00:00:00\",\"2002-12-17T00:00:00\",\"2002-12-18T00:00:00\",\"2002-12-19T00:00:00\",\"2002-12-20T00:00:00\",\"2002-12-23T00:00:00\",\"2002-12-24T00:00:00\",\"2002-12-26T00:00:00\",\"2002-12-27T00:00:00\",\"2002-12-30T00:00:00\",\"2002-12-31T00:00:00\",\"2003-01-02T00:00:00\",\"2003-01-03T00:00:00\",\"2003-01-06T00:00:00\",\"2003-01-07T00:00:00\",\"2003-01-08T00:00:00\",\"2003-01-09T00:00:00\",\"2003-01-10T00:00:00\",\"2003-01-13T00:00:00\",\"2003-01-14T00:00:00\",\"2003-01-15T00:00:00\",\"2003-01-16T00:00:00\",\"2003-01-17T00:00:00\",\"2003-01-21T00:00:00\",\"2003-01-22T00:00:00\",\"2003-01-23T00:00:00\",\"2003-01-24T00:00:00\",\"2003-01-27T00:00:00\",\"2003-01-28T00:00:00\",\"2003-01-29T00:00:00\",\"2003-01-30T00:00:00\",\"2003-01-31T00:00:00\",\"2003-02-03T00:00:00\",\"2003-02-04T00:00:00\",\"2003-02-05T00:00:00\",\"2003-02-06T00:00:00\",\"2003-02-07T00:00:00\",\"2003-02-10T00:00:00\",\"2003-02-11T00:00:00\",\"2003-02-12T00:00:00\",\"2003-02-13T00:00:00\",\"2003-02-14T00:00:00\",\"2003-02-18T00:00:00\",\"2003-02-19T00:00:00\",\"2003-02-20T00:00:00\",\"2003-02-21T00:00:00\",\"2003-02-24T00:00:00\",\"2003-02-25T00:00:00\",\"2003-02-26T00:00:00\",\"2003-02-27T00:00:00\",\"2003-02-28T00:00:00\",\"2003-03-03T00:00:00\",\"2003-03-04T00:00:00\",\"2003-03-05T00:00:00\",\"2003-03-06T00:00:00\",\"2003-03-07T00:00:00\",\"2003-03-10T00:00:00\",\"2003-03-11T00:00:00\",\"2003-03-12T00:00:00\",\"2003-03-13T00:00:00\",\"2003-03-14T00:00:00\",\"2003-03-17T00:00:00\",\"2003-03-18T00:00:00\",\"2003-03-19T00:00:00\",\"2003-03-20T00:00:00\",\"2003-03-21T00:00:00\",\"2003-03-24T00:00:00\",\"2003-03-25T00:00:00\",\"2003-03-26T00:00:00\",\"2003-03-27T00:00:00\",\"2003-03-28T00:00:00\",\"2003-03-31T00:00:00\",\"2003-04-01T00:00:00\",\"2003-04-02T00:00:00\",\"2003-04-03T00:00:00\",\"2003-04-04T00:00:00\",\"2003-04-07T00:00:00\",\"2003-04-08T00:00:00\",\"2003-04-09T00:00:00\",\"2003-04-10T00:00:00\",\"2003-04-11T00:00:00\",\"2003-04-14T00:00:00\",\"2003-04-15T00:00:00\",\"2003-04-16T00:00:00\",\"2003-04-17T00:00:00\",\"2003-04-21T00:00:00\",\"2003-04-22T00:00:00\",\"2003-04-23T00:00:00\",\"2003-04-24T00:00:00\",\"2003-04-25T00:00:00\",\"2003-04-28T00:00:00\",\"2003-04-29T00:00:00\",\"2003-04-30T00:00:00\",\"2003-05-01T00:00:00\",\"2003-05-02T00:00:00\",\"2003-05-05T00:00:00\",\"2003-05-06T00:00:00\",\"2003-05-07T00:00:00\",\"2003-05-08T00:00:00\",\"2003-05-09T00:00:00\",\"2003-05-12T00:00:00\",\"2003-05-13T00:00:00\",\"2003-05-14T00:00:00\",\"2003-05-15T00:00:00\",\"2003-05-16T00:00:00\",\"2003-05-19T00:00:00\",\"2003-05-20T00:00:00\",\"2003-05-21T00:00:00\",\"2003-05-22T00:00:00\",\"2003-05-23T00:00:00\",\"2003-05-27T00:00:00\",\"2003-05-28T00:00:00\",\"2003-05-29T00:00:00\",\"2003-05-30T00:00:00\",\"2003-06-02T00:00:00\",\"2003-06-03T00:00:00\",\"2003-06-04T00:00:00\",\"2003-06-05T00:00:00\",\"2003-06-06T00:00:00\",\"2003-06-09T00:00:00\",\"2003-06-10T00:00:00\",\"2003-06-11T00:00:00\",\"2003-06-12T00:00:00\",\"2003-06-13T00:00:00\",\"2003-06-16T00:00:00\",\"2003-06-17T00:00:00\",\"2003-06-18T00:00:00\",\"2003-06-19T00:00:00\",\"2003-06-20T00:00:00\",\"2003-06-23T00:00:00\",\"2003-06-24T00:00:00\",\"2003-06-25T00:00:00\",\"2003-06-26T00:00:00\",\"2003-06-27T00:00:00\",\"2003-06-30T00:00:00\",\"2003-07-01T00:00:00\",\"2003-07-02T00:00:00\",\"2003-07-03T00:00:00\",\"2003-07-07T00:00:00\",\"2003-07-08T00:00:00\",\"2003-07-09T00:00:00\",\"2003-07-10T00:00:00\",\"2003-07-11T00:00:00\",\"2003-07-14T00:00:00\",\"2003-07-15T00:00:00\",\"2003-07-16T00:00:00\",\"2003-07-17T00:00:00\",\"2003-07-18T00:00:00\",\"2003-07-21T00:00:00\",\"2003-07-22T00:00:00\",\"2003-07-23T00:00:00\",\"2003-07-24T00:00:00\",\"2003-07-25T00:00:00\",\"2003-07-28T00:00:00\",\"2003-07-29T00:00:00\",\"2003-07-30T00:00:00\",\"2003-07-31T00:00:00\",\"2003-08-01T00:00:00\",\"2003-08-04T00:00:00\",\"2003-08-05T00:00:00\",\"2003-08-06T00:00:00\",\"2003-08-07T00:00:00\",\"2003-08-08T00:00:00\",\"2003-08-11T00:00:00\",\"2003-08-12T00:00:00\",\"2003-08-13T00:00:00\",\"2003-08-14T00:00:00\",\"2003-08-15T00:00:00\",\"2003-08-18T00:00:00\",\"2003-08-19T00:00:00\",\"2003-08-20T00:00:00\",\"2003-08-21T00:00:00\",\"2003-08-22T00:00:00\",\"2003-08-25T00:00:00\",\"2003-08-26T00:00:00\",\"2003-08-27T00:00:00\",\"2003-08-28T00:00:00\",\"2003-08-29T00:00:00\",\"2003-09-02T00:00:00\",\"2003-09-03T00:00:00\",\"2003-09-04T00:00:00\",\"2003-09-05T00:00:00\",\"2003-09-08T00:00:00\",\"2003-09-09T00:00:00\",\"2003-09-10T00:00:00\",\"2003-09-11T00:00:00\",\"2003-09-12T00:00:00\",\"2003-09-15T00:00:00\",\"2003-09-16T00:00:00\",\"2003-09-17T00:00:00\",\"2003-09-18T00:00:00\",\"2003-09-19T00:00:00\",\"2003-09-22T00:00:00\",\"2003-09-23T00:00:00\",\"2003-09-24T00:00:00\",\"2003-09-25T00:00:00\",\"2003-09-26T00:00:00\",\"2003-09-29T00:00:00\",\"2003-09-30T00:00:00\",\"2003-10-01T00:00:00\",\"2003-10-02T00:00:00\",\"2003-10-03T00:00:00\",\"2003-10-06T00:00:00\",\"2003-10-07T00:00:00\",\"2003-10-08T00:00:00\",\"2003-10-09T00:00:00\",\"2003-10-10T00:00:00\",\"2003-10-13T00:00:00\",\"2003-10-14T00:00:00\",\"2003-10-15T00:00:00\",\"2003-10-16T00:00:00\",\"2003-10-17T00:00:00\",\"2003-10-20T00:00:00\",\"2003-10-21T00:00:00\",\"2003-10-22T00:00:00\",\"2003-10-23T00:00:00\",\"2003-10-24T00:00:00\",\"2003-10-27T00:00:00\",\"2003-10-28T00:00:00\",\"2003-10-29T00:00:00\",\"2003-10-30T00:00:00\",\"2003-10-31T00:00:00\",\"2003-11-03T00:00:00\",\"2003-11-04T00:00:00\",\"2003-11-05T00:00:00\",\"2003-11-06T00:00:00\",\"2003-11-07T00:00:00\",\"2003-11-10T00:00:00\",\"2003-11-11T00:00:00\",\"2003-11-12T00:00:00\",\"2003-11-13T00:00:00\",\"2003-11-14T00:00:00\",\"2003-11-17T00:00:00\",\"2003-11-18T00:00:00\",\"2003-11-19T00:00:00\",\"2003-11-20T00:00:00\",\"2003-11-21T00:00:00\",\"2003-11-24T00:00:00\",\"2003-11-25T00:00:00\",\"2003-11-26T00:00:00\",\"2003-11-28T00:00:00\",\"2003-12-01T00:00:00\",\"2003-12-02T00:00:00\",\"2003-12-03T00:00:00\",\"2003-12-04T00:00:00\",\"2003-12-05T00:00:00\",\"2003-12-08T00:00:00\",\"2003-12-09T00:00:00\",\"2003-12-10T00:00:00\",\"2003-12-11T00:00:00\",\"2003-12-12T00:00:00\",\"2003-12-15T00:00:00\",\"2003-12-16T00:00:00\",\"2003-12-17T00:00:00\",\"2003-12-18T00:00:00\",\"2003-12-19T00:00:00\",\"2003-12-22T00:00:00\",\"2003-12-23T00:00:00\",\"2003-12-24T00:00:00\",\"2003-12-26T00:00:00\",\"2003-12-29T00:00:00\",\"2003-12-30T00:00:00\",\"2003-12-31T00:00:00\",\"2004-01-02T00:00:00\",\"2004-01-05T00:00:00\",\"2004-01-06T00:00:00\",\"2004-01-07T00:00:00\",\"2004-01-08T00:00:00\",\"2004-01-09T00:00:00\",\"2004-01-12T00:00:00\",\"2004-01-13T00:00:00\",\"2004-01-14T00:00:00\",\"2004-01-15T00:00:00\",\"2004-01-16T00:00:00\",\"2004-01-20T00:00:00\",\"2004-01-21T00:00:00\",\"2004-01-22T00:00:00\",\"2004-01-23T00:00:00\",\"2004-01-26T00:00:00\",\"2004-01-27T00:00:00\",\"2004-01-28T00:00:00\",\"2004-01-29T00:00:00\",\"2004-01-30T00:00:00\",\"2004-02-02T00:00:00\",\"2004-02-03T00:00:00\",\"2004-02-04T00:00:00\",\"2004-02-05T00:00:00\",\"2004-02-06T00:00:00\",\"2004-02-09T00:00:00\",\"2004-02-10T00:00:00\",\"2004-02-11T00:00:00\",\"2004-02-12T00:00:00\",\"2004-02-13T00:00:00\",\"2004-02-17T00:00:00\",\"2004-02-18T00:00:00\",\"2004-02-19T00:00:00\",\"2004-02-20T00:00:00\",\"2004-02-23T00:00:00\",\"2004-02-24T00:00:00\",\"2004-02-25T00:00:00\",\"2004-02-26T00:00:00\",\"2004-02-27T00:00:00\",\"2004-03-01T00:00:00\",\"2004-03-02T00:00:00\",\"2004-03-03T00:00:00\",\"2004-03-04T00:00:00\",\"2004-03-05T00:00:00\",\"2004-03-08T00:00:00\",\"2004-03-09T00:00:00\",\"2004-03-10T00:00:00\",\"2004-03-11T00:00:00\",\"2004-03-12T00:00:00\",\"2004-03-15T00:00:00\",\"2004-03-16T00:00:00\",\"2004-03-17T00:00:00\",\"2004-03-18T00:00:00\",\"2004-03-19T00:00:00\",\"2004-03-22T00:00:00\",\"2004-03-23T00:00:00\",\"2004-03-24T00:00:00\",\"2004-03-25T00:00:00\",\"2004-03-26T00:00:00\",\"2004-03-29T00:00:00\",\"2004-03-30T00:00:00\",\"2004-03-31T00:00:00\",\"2004-04-01T00:00:00\",\"2004-04-02T00:00:00\",\"2004-04-05T00:00:00\",\"2004-04-06T00:00:00\",\"2004-04-07T00:00:00\",\"2004-04-08T00:00:00\",\"2004-04-12T00:00:00\",\"2004-04-13T00:00:00\",\"2004-04-14T00:00:00\",\"2004-04-15T00:00:00\",\"2004-04-16T00:00:00\",\"2004-04-19T00:00:00\",\"2004-04-20T00:00:00\",\"2004-04-21T00:00:00\",\"2004-04-22T00:00:00\",\"2004-04-23T00:00:00\",\"2004-04-26T00:00:00\",\"2004-04-27T00:00:00\",\"2004-04-28T00:00:00\",\"2004-04-29T00:00:00\",\"2004-04-30T00:00:00\",\"2004-05-03T00:00:00\",\"2004-05-04T00:00:00\",\"2004-05-05T00:00:00\",\"2004-05-06T00:00:00\",\"2004-05-07T00:00:00\",\"2004-05-10T00:00:00\",\"2004-05-11T00:00:00\",\"2004-05-12T00:00:00\",\"2004-05-13T00:00:00\",\"2004-05-14T00:00:00\",\"2004-05-17T00:00:00\",\"2004-05-18T00:00:00\",\"2004-05-19T00:00:00\",\"2004-05-20T00:00:00\",\"2004-05-21T00:00:00\",\"2004-05-24T00:00:00\",\"2004-05-25T00:00:00\",\"2004-05-26T00:00:00\",\"2004-05-27T00:00:00\",\"2004-05-28T00:00:00\",\"2004-06-01T00:00:00\",\"2004-06-02T00:00:00\",\"2004-06-03T00:00:00\",\"2004-06-04T00:00:00\",\"2004-06-07T00:00:00\",\"2004-06-08T00:00:00\",\"2004-06-09T00:00:00\",\"2004-06-10T00:00:00\",\"2004-06-14T00:00:00\",\"2004-06-15T00:00:00\",\"2004-06-16T00:00:00\",\"2004-06-17T00:00:00\",\"2004-06-18T00:00:00\",\"2004-06-21T00:00:00\",\"2004-06-22T00:00:00\",\"2004-06-23T00:00:00\",\"2004-06-24T00:00:00\",\"2004-06-25T00:00:00\",\"2004-06-28T00:00:00\",\"2004-06-29T00:00:00\",\"2004-06-30T00:00:00\",\"2004-07-01T00:00:00\",\"2004-07-02T00:00:00\",\"2004-07-06T00:00:00\",\"2004-07-07T00:00:00\",\"2004-07-08T00:00:00\",\"2004-07-09T00:00:00\",\"2004-07-12T00:00:00\",\"2004-07-13T00:00:00\",\"2004-07-14T00:00:00\",\"2004-07-15T00:00:00\",\"2004-07-16T00:00:00\",\"2004-07-19T00:00:00\",\"2004-07-20T00:00:00\",\"2004-07-21T00:00:00\",\"2004-07-22T00:00:00\",\"2004-07-23T00:00:00\",\"2004-07-26T00:00:00\",\"2004-07-27T00:00:00\",\"2004-07-28T00:00:00\",\"2004-07-29T00:00:00\",\"2004-07-30T00:00:00\",\"2004-08-02T00:00:00\",\"2004-08-03T00:00:00\",\"2004-08-04T00:00:00\",\"2004-08-05T00:00:00\",\"2004-08-06T00:00:00\",\"2004-08-09T00:00:00\",\"2004-08-10T00:00:00\",\"2004-08-11T00:00:00\",\"2004-08-12T00:00:00\",\"2004-08-13T00:00:00\",\"2004-08-16T00:00:00\",\"2004-08-17T00:00:00\",\"2004-08-18T00:00:00\",\"2004-08-19T00:00:00\",\"2004-08-20T00:00:00\",\"2004-08-23T00:00:00\",\"2004-08-24T00:00:00\",\"2004-08-25T00:00:00\",\"2004-08-26T00:00:00\",\"2004-08-27T00:00:00\",\"2004-08-30T00:00:00\",\"2004-08-31T00:00:00\",\"2004-09-01T00:00:00\",\"2004-09-02T00:00:00\",\"2004-09-03T00:00:00\",\"2004-09-07T00:00:00\",\"2004-09-08T00:00:00\",\"2004-09-09T00:00:00\",\"2004-09-10T00:00:00\",\"2004-09-13T00:00:00\",\"2004-09-14T00:00:00\",\"2004-09-15T00:00:00\",\"2004-09-16T00:00:00\",\"2004-09-17T00:00:00\",\"2004-09-20T00:00:00\",\"2004-09-21T00:00:00\",\"2004-09-22T00:00:00\",\"2004-09-23T00:00:00\",\"2004-09-24T00:00:00\",\"2004-09-27T00:00:00\",\"2004-09-28T00:00:00\",\"2004-09-29T00:00:00\",\"2004-09-30T00:00:00\",\"2004-10-01T00:00:00\",\"2004-10-04T00:00:00\",\"2004-10-05T00:00:00\",\"2004-10-06T00:00:00\",\"2004-10-07T00:00:00\",\"2004-10-08T00:00:00\",\"2004-10-11T00:00:00\",\"2004-10-12T00:00:00\",\"2004-10-13T00:00:00\",\"2004-10-14T00:00:00\",\"2004-10-15T00:00:00\",\"2004-10-18T00:00:00\",\"2004-10-19T00:00:00\",\"2004-10-20T00:00:00\",\"2004-10-21T00:00:00\",\"2004-10-22T00:00:00\",\"2004-10-25T00:00:00\",\"2004-10-26T00:00:00\",\"2004-10-27T00:00:00\",\"2004-10-28T00:00:00\",\"2004-10-29T00:00:00\",\"2004-11-01T00:00:00\",\"2004-11-02T00:00:00\",\"2004-11-03T00:00:00\",\"2004-11-04T00:00:00\",\"2004-11-05T00:00:00\",\"2004-11-08T00:00:00\",\"2004-11-09T00:00:00\",\"2004-11-10T00:00:00\",\"2004-11-11T00:00:00\",\"2004-11-12T00:00:00\",\"2004-11-15T00:00:00\",\"2004-11-16T00:00:00\",\"2004-11-17T00:00:00\",\"2004-11-18T00:00:00\",\"2004-11-19T00:00:00\",\"2004-11-22T00:00:00\",\"2004-11-23T00:00:00\",\"2004-11-24T00:00:00\",\"2004-11-26T00:00:00\",\"2004-11-29T00:00:00\",\"2004-11-30T00:00:00\",\"2004-12-01T00:00:00\",\"2004-12-02T00:00:00\",\"2004-12-03T00:00:00\",\"2004-12-06T00:00:00\",\"2004-12-07T00:00:00\",\"2004-12-08T00:00:00\",\"2004-12-09T00:00:00\",\"2004-12-10T00:00:00\",\"2004-12-13T00:00:00\",\"2004-12-14T00:00:00\",\"2004-12-15T00:00:00\",\"2004-12-16T00:00:00\",\"2004-12-17T00:00:00\",\"2004-12-20T00:00:00\",\"2004-12-21T00:00:00\",\"2004-12-22T00:00:00\",\"2004-12-23T00:00:00\",\"2004-12-27T00:00:00\",\"2004-12-28T00:00:00\",\"2004-12-29T00:00:00\",\"2004-12-30T00:00:00\",\"2004-12-31T00:00:00\",\"2005-01-03T00:00:00\",\"2005-01-04T00:00:00\",\"2005-01-05T00:00:00\",\"2005-01-06T00:00:00\",\"2005-01-07T00:00:00\",\"2005-01-10T00:00:00\",\"2005-01-11T00:00:00\",\"2005-01-12T00:00:00\",\"2005-01-13T00:00:00\",\"2005-01-14T00:00:00\",\"2005-01-18T00:00:00\",\"2005-01-19T00:00:00\",\"2005-01-20T00:00:00\",\"2005-01-21T00:00:00\",\"2005-01-24T00:00:00\",\"2005-01-25T00:00:00\",\"2005-01-26T00:00:00\",\"2005-01-27T00:00:00\",\"2005-01-28T00:00:00\",\"2005-01-31T00:00:00\",\"2005-02-01T00:00:00\",\"2005-02-02T00:00:00\",\"2005-02-03T00:00:00\",\"2005-02-04T00:00:00\",\"2005-02-07T00:00:00\",\"2005-02-08T00:00:00\",\"2005-02-09T00:00:00\",\"2005-02-10T00:00:00\",\"2005-02-11T00:00:00\",\"2005-02-14T00:00:00\",\"2005-02-15T00:00:00\",\"2005-02-16T00:00:00\",\"2005-02-17T00:00:00\",\"2005-02-18T00:00:00\",\"2005-02-22T00:00:00\",\"2005-02-23T00:00:00\",\"2005-02-24T00:00:00\",\"2005-02-25T00:00:00\",\"2005-02-28T00:00:00\",\"2005-03-01T00:00:00\",\"2005-03-02T00:00:00\",\"2005-03-03T00:00:00\",\"2005-03-04T00:00:00\",\"2005-03-07T00:00:00\",\"2005-03-08T00:00:00\",\"2005-03-09T00:00:00\",\"2005-03-10T00:00:00\",\"2005-03-11T00:00:00\",\"2005-03-14T00:00:00\",\"2005-03-15T00:00:00\",\"2005-03-16T00:00:00\",\"2005-03-17T00:00:00\",\"2005-03-18T00:00:00\",\"2005-03-21T00:00:00\",\"2005-03-22T00:00:00\",\"2005-03-23T00:00:00\",\"2005-03-24T00:00:00\",\"2005-03-28T00:00:00\",\"2005-03-29T00:00:00\",\"2005-03-30T00:00:00\",\"2005-03-31T00:00:00\",\"2005-04-01T00:00:00\",\"2005-04-04T00:00:00\",\"2005-04-05T00:00:00\",\"2005-04-06T00:00:00\",\"2005-04-07T00:00:00\",\"2005-04-08T00:00:00\",\"2005-04-11T00:00:00\",\"2005-04-12T00:00:00\",\"2005-04-13T00:00:00\",\"2005-04-14T00:00:00\",\"2005-04-15T00:00:00\",\"2005-04-18T00:00:00\",\"2005-04-19T00:00:00\",\"2005-04-20T00:00:00\",\"2005-04-21T00:00:00\",\"2005-04-22T00:00:00\",\"2005-04-25T00:00:00\",\"2005-04-26T00:00:00\",\"2005-04-27T00:00:00\",\"2005-04-28T00:00:00\",\"2005-04-29T00:00:00\",\"2005-05-02T00:00:00\",\"2005-05-03T00:00:00\",\"2005-05-04T00:00:00\",\"2005-05-05T00:00:00\",\"2005-05-06T00:00:00\",\"2005-05-09T00:00:00\",\"2005-05-10T00:00:00\",\"2005-05-11T00:00:00\",\"2005-05-12T00:00:00\",\"2005-05-13T00:00:00\",\"2005-05-16T00:00:00\",\"2005-05-17T00:00:00\",\"2005-05-18T00:00:00\",\"2005-05-19T00:00:00\",\"2005-05-20T00:00:00\",\"2005-05-23T00:00:00\",\"2005-05-24T00:00:00\",\"2005-05-25T00:00:00\",\"2005-05-26T00:00:00\",\"2005-05-27T00:00:00\",\"2005-05-31T00:00:00\",\"2005-06-01T00:00:00\",\"2005-06-02T00:00:00\",\"2005-06-03T00:00:00\",\"2005-06-06T00:00:00\",\"2005-06-07T00:00:00\",\"2005-06-08T00:00:00\",\"2005-06-09T00:00:00\",\"2005-06-10T00:00:00\",\"2005-06-13T00:00:00\",\"2005-06-14T00:00:00\",\"2005-06-15T00:00:00\",\"2005-06-16T00:00:00\",\"2005-06-17T00:00:00\",\"2005-06-20T00:00:00\",\"2005-06-21T00:00:00\",\"2005-06-22T00:00:00\",\"2005-06-23T00:00:00\",\"2005-06-24T00:00:00\",\"2005-06-27T00:00:00\",\"2005-06-28T00:00:00\",\"2005-06-29T00:00:00\",\"2005-06-30T00:00:00\",\"2005-07-01T00:00:00\",\"2005-07-05T00:00:00\",\"2005-07-06T00:00:00\",\"2005-07-07T00:00:00\",\"2005-07-08T00:00:00\",\"2005-07-09T00:00:00\",\"2005-07-10T00:00:00\",\"2005-07-11T00:00:00\",\"2005-07-12T00:00:00\",\"2005-07-13T00:00:00\",\"2005-07-14T00:00:00\",\"2005-07-15T00:00:00\",\"2005-07-16T00:00:00\",\"2005-07-17T00:00:00\",\"2005-07-18T00:00:00\",\"2005-07-19T00:00:00\",\"2005-07-20T00:00:00\",\"2005-07-21T00:00:00\",\"2005-07-22T00:00:00\",\"2005-07-23T00:00:00\",\"2005-07-24T00:00:00\",\"2005-07-25T00:00:00\",\"2005-07-26T00:00:00\",\"2005-07-27T00:00:00\",\"2005-07-28T00:00:00\",\"2005-07-29T00:00:00\",\"2005-07-30T00:00:00\",\"2005-07-31T00:00:00\",\"2005-08-01T00:00:00\",\"2005-08-02T00:00:00\",\"2005-08-03T00:00:00\",\"2005-08-04T00:00:00\",\"2005-08-05T00:00:00\",\"2005-08-06T00:00:00\",\"2005-08-07T00:00:00\",\"2005-08-08T00:00:00\",\"2005-08-09T00:00:00\",\"2005-08-10T00:00:00\",\"2005-08-11T00:00:00\",\"2005-08-12T00:00:00\",\"2005-08-13T00:00:00\",\"2005-08-14T00:00:00\",\"2005-08-15T00:00:00\",\"2005-08-16T00:00:00\",\"2005-08-17T00:00:00\",\"2005-08-18T00:00:00\",\"2005-08-19T00:00:00\",\"2005-08-20T00:00:00\",\"2005-08-21T00:00:00\",\"2005-08-22T00:00:00\",\"2005-08-23T00:00:00\",\"2005-08-24T00:00:00\",\"2005-08-25T00:00:00\",\"2005-08-26T00:00:00\",\"2005-08-27T00:00:00\",\"2005-08-28T00:00:00\",\"2005-08-29T00:00:00\",\"2005-08-30T00:00:00\",\"2005-08-31T00:00:00\",\"2005-09-01T00:00:00\",\"2005-09-02T00:00:00\",\"2005-09-03T00:00:00\",\"2005-09-04T00:00:00\",\"2005-09-05T00:00:00\",\"2005-09-06T00:00:00\",\"2005-09-07T00:00:00\",\"2005-09-08T00:00:00\",\"2005-09-09T00:00:00\",\"2005-09-10T00:00:00\",\"2005-09-11T00:00:00\",\"2005-09-12T00:00:00\",\"2005-09-13T00:00:00\",\"2005-09-14T00:00:00\",\"2005-09-15T00:00:00\",\"2005-09-16T00:00:00\",\"2005-09-17T00:00:00\",\"2005-09-18T00:00:00\",\"2005-09-19T00:00:00\",\"2005-09-20T00:00:00\",\"2005-09-21T00:00:00\",\"2005-09-22T00:00:00\",\"2005-09-23T00:00:00\",\"2005-09-24T00:00:00\",\"2005-09-25T00:00:00\",\"2005-09-26T00:00:00\",\"2005-09-27T00:00:00\",\"2005-09-28T00:00:00\",\"2005-09-29T00:00:00\",\"2005-09-30T00:00:00\",\"2005-10-01T00:00:00\",\"2005-10-02T00:00:00\",\"2005-10-03T00:00:00\",\"2005-10-04T00:00:00\",\"2005-10-05T00:00:00\",\"2005-10-06T00:00:00\",\"2005-10-07T00:00:00\",\"2005-10-08T00:00:00\",\"2005-10-09T00:00:00\",\"2005-10-10T00:00:00\",\"2005-10-11T00:00:00\",\"2005-10-12T00:00:00\",\"2005-10-13T00:00:00\",\"2005-10-14T00:00:00\",\"2005-10-15T00:00:00\",\"2005-10-16T00:00:00\",\"2005-10-17T00:00:00\",\"2005-10-18T00:00:00\",\"2005-10-19T00:00:00\",\"2005-10-20T00:00:00\",\"2005-10-21T00:00:00\",\"2005-10-22T00:00:00\",\"2005-10-23T00:00:00\",\"2005-10-24T00:00:00\",\"2005-10-25T00:00:00\",\"2005-10-26T00:00:00\",\"2005-10-27T00:00:00\",\"2005-10-28T00:00:00\",\"2005-10-29T00:00:00\",\"2005-10-30T00:00:00\",\"2005-10-31T00:00:00\",\"2005-11-01T00:00:00\",\"2005-11-02T00:00:00\",\"2005-11-03T00:00:00\",\"2005-11-04T00:00:00\",\"2005-11-05T00:00:00\",\"2005-11-06T00:00:00\",\"2005-11-07T00:00:00\",\"2005-11-08T00:00:00\",\"2005-11-09T00:00:00\",\"2005-11-10T00:00:00\",\"2005-11-11T00:00:00\",\"2005-11-12T00:00:00\",\"2005-11-13T00:00:00\",\"2005-11-14T00:00:00\",\"2005-11-15T00:00:00\",\"2005-11-16T00:00:00\",\"2005-11-17T00:00:00\",\"2005-11-18T00:00:00\",\"2005-11-19T00:00:00\",\"2005-11-20T00:00:00\",\"2005-11-21T00:00:00\",\"2005-11-22T00:00:00\",\"2005-11-23T00:00:00\",\"2005-11-24T00:00:00\",\"2005-11-25T00:00:00\",\"2005-11-26T00:00:00\",\"2005-11-27T00:00:00\",\"2005-11-28T00:00:00\",\"2005-11-29T00:00:00\",\"2005-11-30T00:00:00\",\"2005-12-01T00:00:00\",\"2005-12-02T00:00:00\"],\"y\":[16.308314765359214,16.325556629054404,16.336133285740818,16.379047313456567,16.31627759721075,16.377914935686363,16.315278123104168,16.304735444318602,16.22927659636523,16.189128641553175,16.07040765497565,16.06005722470249,15.972681875679573,15.99169784020128,15.876254984518988,15.771000000003813,15.789654471199311,15.70664002434286,15.679172311926546,15.664588488135564,15.656154395302039,15.587738686430203,15.682271803079932,15.656033137207292,15.619710597725655,15.703685781421466,15.729514257831676,15.819248236583274,15.814805640923302,15.84386733860811,16.056947714364345,16.026397103690126,16.089714079789854,16.10873901550565,16.142131381664928,16.231909866425408,16.252907287224918,16.300344964829986,16.349779389867862,16.25894757641625,16.352326092248116,16.385346698627423,16.34621212723151,16.319207427488184,16.327735924245072,16.329946979171048,16.281366444244327,16.324950133460174,16.219228578339724,16.276411712304668,16.187031094302867,16.257077128542555,16.25196416264242,16.161746108589657,16.186874646227555,16.28203024592656,16.23916589103277,16.21271315772642,16.215681601809585,16.231460071521333,16.26012207707514,16.352543088446808,16.312399476485265,16.329511634774384,16.446929169298862,16.486284061896576,16.569902005250725,16.577088097576386,16.580790191063215,16.762606830794297,16.733530963360383,16.810263089551224,16.80037565092287,16.790413627412676,16.886918804305335,16.973621690456216,16.990998706578306,16.993501937769548,17.063832261760904,17.136555552729035,17.071311097269362,17.03821244066865,17.06502518441605,17.067435951371706,17.11167009212711,17.077472330458487,17.18263841960827,17.13426518914068,17.046545093604934,17.180076403160605,17.141843091195835,17.233019850399305,17.207419607202468,17.213738405236196,17.335157550128667,17.3511898555265,17.362762235799522,17.459690134501063,17.38117180973469,17.515491255322473,17.61521631456759,17.53426475307995,17.585354517121605,17.581495115492302,17.564199949416878,17.642748855082072,17.609452120983565,17.462967338325807,17.570837277373506,17.47092054924725,17.571575035688426,17.42731067064685,17.420099689433382,17.407402228368344,17.317682773738913,17.35927560860066,17.429838546671892,17.365213053571598,17.475220216516455,17.45057682300164,17.41124587265665,17.39984933206757,17.588113857978378,17.625335802956098,17.71011347768775,17.66801944959203,17.72987815703811,17.72119746846946,17.72295367114033,17.798250259981604,17.648761808870947,17.693620357995513,17.62105029930379,17.604547407390292,17.604901952648962,17.467932604917593,17.308511428976324,17.317036629350117,17.250942323057757,17.15127263790905,17.000897689141905,16.918326965938295,17.010405652532032,16.857278887291326,16.805611341183766,16.707559111613914,16.716284620099543,16.706607009259002,16.671977827070613,16.639089635764048,16.589468674100484,16.585076186744853,16.533127381219977,16.61353182125451,16.54599845619404,16.53697364484689,16.552026389006112,16.540144473639412,16.43557182228235,16.462387436090523,16.42795546481178,16.4252138907931,16.380632762499125,16.341516519305213,16.353236361452304,16.23387611511785,16.30991326394358,16.244253561669854,16.123921488792895,16.21752319441629,16.22603524557103,16.179439371435823,16.126703654237346,16.127677512718506,16.129903271475232,16.124618675052925,16.18978159452427,16.22119094149705,16.149456274069976,16.129551780282217,16.167066039452024,16.217637029949866,16.186957826458798,16.12351328348205,16.12496276478305,16.17589074206934,16.170672144992253,16.198249122382784,16.15906554275023,16.190805922869373,16.19008609096681,16.18588733075913,16.193792310444024,16.189073599349847,16.28927130354164,16.36753060689027,16.491532341210192,16.408718571362172,16.54250647399421,16.55855997835669,16.55489415685906,16.57689985018591,16.593648289380123,16.708895171768965,16.66997113566265,16.78431652803401,16.728594874147923,16.73379081445304,16.773331266504236,16.807254444873625,16.758528800828685,16.72114824435501,16.745499191977565,16.610412385732914,16.6811414866789,16.653895763893352,16.61944268582153,16.600967055463915,16.559150149672224,16.59100318077818,16.547286854077786,16.535638984301603,16.489250518819585,16.496132649921343,16.54737909338153,16.522807294763858,16.54812382234504,16.581603757443546,16.577388874336176,16.603950530609424,16.600558503229575,16.568665440063207,16.71850006839875,16.722247657306163,16.715202190220772,16.68733381365317,16.78836638347603,16.84046203769022,16.78711940103102,16.960703762428267,16.876803177782655,16.95535289612294,17.122302020691734,17.122964113744427,17.223239508513846,17.27696329541111,17.249626029450692,17.55971091578737,17.50018793571912,17.635786887582455,17.660611538463968,17.813745352909443,17.876675243811732,17.835426841475364,17.902252752833228,17.96009972891714,17.859904378987252,17.896077980585076,17.938447023034996,17.854285467062102,17.785426083210208,17.717827713014824,17.669486541399188,17.619236288300744,17.601455528711426,17.539253717625105,17.394573415721812,17.320178324341935,17.311329708213776,17.254315699501948,17.197882036545504,17.152660619930703,17.151922747461793,17.23759502912895,17.13673988624878,17.229993946647973,17.171286123471535,17.196843373631864,17.299267615543584,17.298088459577666,17.26231625287968,17.461390180291772,17.531197696663757,17.494982427904482,17.51462539838509,17.50844397850984,17.75266513108715,17.713686348459273,17.723252785809393,17.739076593149587,17.748302456743797,17.807667714136482,17.85117050655685,17.809682783544705,17.821144798209016,17.74333140291615,17.744043330105843,17.778055028919848,17.768804578836523,17.62792886896587,17.70127435000105,17.615598413054176,17.640727632037027,17.57914998379192,17.51569376190168,17.566790859043234,17.57823985931903,17.554514107050785,17.584873748993267,17.544565578959144,17.609291247797145,17.53305572486954,17.65049138624825,17.559808634218257,17.602236751769922,17.7270651366816,17.68918195486434,17.761934614030803,17.86122425696733,17.770521425977122,17.899535640763627,17.95948653545294,17.98722973829919,17.96906126563542,18.010493445075976,18.11016788958625,18.100410625779794,18.12102728197001,18.107297616519055,18.153291879094354,18.133527088967153,18.118752789242258,18.196444428253773,18.17597819587542,18.057240315079316,18.085234635402216,18.182033516510447,18.14959869380953,18.12844191948866,18.039294278022314,18.164684563134497,18.16987144721732,18.13517247028719,18.13057547986942,18.162555731130325,18.30414666337017,18.27037143062348,18.33413548740881,18.311794690445574,18.255603601417317,18.32927182426305,18.43305876359417,18.455712349375162,18.380584375207235,18.437000696318297,18.446704488916694,18.441198014034065,18.460917314896687,18.405033819942904,18.442399871513715,18.341561800058486,18.42671031283416,18.27958263623801,18.258668320052102,18.255757318666248,18.249795200496226,18.28619184541599,18.23102563911258,18.233484621174533,18.24921116776783,18.267199953773293,18.31458031264328,18.295444980543174,18.342264906756547,18.346322529631998,18.430737361928326,18.409360148812095,18.55895594594828,18.538443021375016,18.554080865894598,18.579968301508778,18.505475578767474,18.552208273204805,18.509514732462698,18.449430327482563,18.399477311472076,18.335762636385066,18.100351056241365,18.11828292134211,18.053591523871347,17.969723772787724,17.921059719076325,17.78021290626558,17.76119506812021,17.743225079414955,17.573418907157734,17.542953513252925,17.53777998668747,17.526134245840495,17.54155882848853,17.413134095818876,17.464673334246946,17.401810545618844,17.46312403364138,17.44043045746998,17.308320700752514,17.28113015267551,17.34064753099478,17.24736833176542,17.289194321696538,17.26164630207426,17.204895939432774,17.250010602595413,17.244558947950846,17.15189458802693,17.11609983070202,17.140727825540893,17.061396073085927,17.147518367184137,17.00809440619063,17.020447597628912,17.033349301811594,17.007782417380863,16.95766617774277,16.90985997582747,16.976978725416092,16.979811222517334,16.92730409650458,16.980848662419156,16.897694948914037,16.999648916515476,16.97798388485688,16.941999101212385,16.968385231947575,16.94815320222078,16.944001053802992,16.964548022147802,16.893713714067143,16.984481234770644,16.920580558988327,16.96745072805684,16.994814103212313,16.981930264289012,16.94633681269104,17.047925558927503,17.056114989917138,17.18272841529592,17.165863523962056,17.126845491342603,17.245972236777355,17.273534804392124,17.37329850390727,17.361998933670357,17.27669182062521,17.423771955618022,17.521696857444965,17.560398720821357,17.489845962871414,17.472111370264997,17.584046560991805,17.605525688940002,17.538689492604107,17.574629346917458,17.408884582770636,17.48302462355046,17.46002029956142,17.44613509018189,17.374695210876347,17.346068151935018,17.33048930384219,17.36307932553336,17.448311259663466,17.37120834771983,17.21964841688888,17.292500719963982,17.30692391480821,17.318036870490758,17.301539771174713,17.241184150439743,17.344920359884323,17.372795240491246,17.369805551390595,17.331950424693144,17.42860758716431,17.423211841848616,17.467249781252292,17.45867782557443,17.606790908109783,17.583321636509755,17.567957485528083,17.60157255466897,17.728075233403324,17.770436521967017,17.894734354079382,17.920560644883818,17.9925952357679,18.006639268046154,18.16620627792955,18.328636118707816,18.367905831468086,18.371807138714505,18.434324789197245,18.571408100466666,18.60475482744982,18.60245536959967,18.65868046204251,18.6996170797841,18.64716994095396,18.742819284259216,18.694695758225027,18.64886432642222,18.541411557134705,18.474708120371915,18.464394973842683,18.482168157005347,18.322736559308545,18.229283923669183,18.178251708787112,18.12935894375851,18.04023551308195,18.002950243438583,17.911101934609682,17.960853711997856,17.943050732889844,17.94061409993452,17.90946623440124,17.972706413147215,17.921113916105003,17.97842266346427,18.032723097950598,18.01118914031911,18.165574285689924,18.19142847541621,18.21638850550923,18.295248147867717,18.279723390204996,18.4094634423024,18.431760410607318,18.565684409478376,18.540982898387536,18.49463782887088,18.599437246575622,18.62624658499449,18.631955043083344,18.575599831138266,18.500824577910254,18.63346896591292,18.587033489316433,18.545246497198146,18.39865632686156,18.45544292702572,18.480387188664213,18.48161724679967,18.46389018049397,18.446629743247797,18.386356286972,18.37586339132404,18.41557402258318,18.40215566460376,18.320558422732006,18.406599674567865,18.461869161809894,18.426287913717886,18.45362846078426,18.46267035680907,18.647994826685032,18.61881548730952,18.618250361158537,18.649063808048762,18.64819479873657,18.8680564108384,18.83799106796174,18.84866582452367,18.945665096208934,18.92670729320338,19.068367265167943,19.04627325803093,19.12615565377779,19.085244598655205,19.113161277232436,19.279340394070196,19.164515524322116,19.192684976069447,19.217562776021943,19.19237081597279,19.184986950370764,19.198905881612465,19.194635580183046,19.248035960554866,19.21619396354016,19.28162395493439,19.260260483102208,19.301325518027202,19.35440479160894,19.34060061080387,19.414687626437317,19.423951698562597,19.44326087099215,19.44390927118967,19.430568984357453,19.568944204571306,19.585967347850357,19.617560084267335,19.58963925428421,19.6614135311486,19.645352944830858,19.689379842565586,19.705556034438878,19.73549032990568,19.658312483658246,19.687503630147503,19.66428639158266,19.584127026773956,19.53478385326207,19.511063596893038,19.49418133911391,19.479653321486587,19.452809887448502,19.467403218671436,19.47832068269771,19.550475670370446,19.55125669585577,19.49450552649861,19.575698957960547,19.624750508075994,19.6675756350868,19.74347051219089,19.738652985995856,19.775577024317652,19.861608058884602,19.825558065466712,19.846043045531754,19.815519929212737,19.8126545292677,19.800860230979918,19.796453575744597,19.787355998806746,19.670554050326512,19.4959736706387,19.507581467464806,19.435468003252105,19.406981462839322,19.154742971166268,19.092865352736712,19.15414719068122,19.067373441157038,19.000376265498826,18.865901675638458,18.918375039878978,18.865725010441658,18.81038111690573,18.79086062794327,18.780051229199934,18.654287904903295,18.687990837133682,18.70134702935647,18.64977032845501,18.70422598769394,18.611631822623668,18.59358559583795,18.63470687594704,18.58176924262669,18.514168362279165,18.50070579431243,18.55621809957833,18.389405876258788,18.37866613650861,18.42308115176657,18.40119447283077,18.348234954462427,18.268435380822066,18.250833602581967,18.304390339419722,18.323751248319137,18.198217842326375,18.211826553605654,18.226116241669875,18.240264381319843,18.263192794794456,18.18843333027585,18.25109332309482,18.211141381975484,18.13943327357446,18.21949876471709,18.22266123859639,18.243661000126256,18.200925203918167,18.18505177276594,18.220189334697995,18.190509615882448,18.26920042984035,18.232778056837418,18.245140729826538,18.224374012095456,18.26070774353752,18.382234775785808,18.256628212756354,18.3704373854407,18.38927547990932,18.33774623031928,18.48259555940166,18.49348441041635,18.52620974781751,18.638606930515408,18.569049537241494,18.75015709926744,18.764553126235032,18.7549424873107,18.809839591607936,18.75452305564824,18.7964153183373,18.842034235501835,18.811976589103775,18.755896852828627,18.74899324443883,18.791603799452524,18.775294356268006,18.797644816345375,18.715209892478775,18.681734035720453,18.67395413814487,18.664717700982184,18.706369528705814,18.621040062870257,18.520569192044807,18.585542471497543,18.55387931438393,18.609647187376883,18.57406539575281,18.514099920284757,18.563345531411045,18.605330894028544,18.539195147046488,18.569336950226724,18.636553101056915,18.655564302908985,18.658173179015446,18.670338091193248,18.683782863803795,18.78715931859751,18.85983352508767,18.815980580933847,18.824296130678768,18.889262749532172,19.038765010070936,19.02076525336706,19.14352781420788,19.096780663480708,19.15298883959526,19.390922652753883,19.46254630591775,19.488231800388444,19.532988195245284,19.534140756149014,19.75179326180264,19.840176933118954,19.822207098122927,19.889927362277234,20.78679168394679,20.842288437282757,19.989296670211278,19.908472062356235,19.980242514296346,19.96864349015728,19.927523454877225,20.788611305926956,20.71928978825165,19.875749890967874,19.738023178082017,19.7470706786549,19.750682319649123,19.678358242363966,20.525179314814057,20.458795942331864,19.52189715353332,19.426709744954014,19.48745278477916,19.39625469087383,19.26949077632654,20.151250961710428,20.15821551048704,19.178453476181872,19.16055281374066,19.225863651594366,19.104389794516862,19.16969934748533,20.038480161204596,20.013145559664185,19.17820609036879,19.257149855588278,19.23218133061284,19.23185373728628,19.225885478238258,20.19999576878424,20.149935931753234,19.37666883565061,19.350194662433314,19.409951790090233,19.5155805713438,19.48058205329172,20.354416423467303,20.496941908423306,19.60627742939916,19.620736039679382,19.705524937393413,19.78899984980957,19.661152904673173,20.656716829739786,20.625628911240856,19.7358381727567,19.815205552010084,19.770693042674445,19.876716528874347,19.75270830201398,20.683593048913398,20.75091178827432,19.883991520607303,19.812279406778117,19.883410252718683,19.77591596729044,19.71664576946215,20.67095427062957,20.59587374488639,19.77109663716947,19.76235742752105,19.772886297524902,19.760453195136833,19.6983512569121,20.60185811799357,20.564232047919383,19.646026462160826,19.57812550439407,19.646638367599927,19.6342993559914,19.58675914850482,20.530994310481322,20.594206452770305,19.660551346244446,19.679323525245533,19.721311339095934,19.670685072163494,19.625905091326107,20.604129054190935,20.654051974266956,19.814279501941574,19.745271650599904,19.824245300030277,19.868528083965106,19.794444658145185,20.76301167714427,20.825051991727808,20.009647707908268,19.97754386005441,20.112338405549753,20.094938369280644,20.051977826586928,21.08709707007589,21.097825989692353,20.240116294756188,20.22163131802462,20.307932532800663,20.29407307472715,20.274064109875948,21.220091386106198,21.33648928054686,20.39854044241945,20.36761353102344,20.355377722129948,20.43484240440455,20.362572422397825,21.270345917526395,21.295318472935257,20.42162696827418,20.486323197950618,20.446683198994343,20.433405996835184,20.352440574308336,21.35871971937841,21.317452200547397,20.441734831183147,20.42145793937754,20.456457146818128,20.49720476796488,20.49929949848113,21.44497987878387,21.427402713813773,20.576366454202763,20.568077457078335,20.548251323129346,20.616505158432183,20.61070812191003,21.544972809226895,21.608777344809102,20.831459824459174,20.722738485643436,20.825391662315546,20.858309778532057,20.816695812835384,21.847998924602678,21.78662447721144,20.849001992840844,20.909394283618486,20.90810040246542,20.964452591254513,20.905608452511455],\"type\":\"scatter\"},{\"fill\":\"tonexty\",\"line\":{\"color\":\"#57b8ff\"},\"mode\":\"lines\",\"name\":\"Lower uncertainty interval\",\"x\":[\"2002-07-08T00:00:00\",\"2002-07-09T00:00:00\",\"2002-07-10T00:00:00\",\"2002-07-11T00:00:00\",\"2002-07-12T00:00:00\",\"2002-07-15T00:00:00\",\"2002-07-16T00:00:00\",\"2002-07-17T00:00:00\",\"2002-07-18T00:00:00\",\"2002-07-19T00:00:00\",\"2002-07-22T00:00:00\",\"2002-07-23T00:00:00\",\"2002-07-24T00:00:00\",\"2002-07-25T00:00:00\",\"2002-07-26T00:00:00\",\"2002-07-29T00:00:00\",\"2002-07-30T00:00:00\",\"2002-07-31T00:00:00\",\"2002-08-01T00:00:00\",\"2002-08-02T00:00:00\",\"2002-08-05T00:00:00\",\"2002-08-06T00:00:00\",\"2002-08-07T00:00:00\",\"2002-08-08T00:00:00\",\"2002-08-09T00:00:00\",\"2002-08-12T00:00:00\",\"2002-08-13T00:00:00\",\"2002-08-14T00:00:00\",\"2002-08-15T00:00:00\",\"2002-08-16T00:00:00\",\"2002-08-19T00:00:00\",\"2002-08-20T00:00:00\",\"2002-08-21T00:00:00\",\"2002-08-22T00:00:00\",\"2002-08-23T00:00:00\",\"2002-08-26T00:00:00\",\"2002-08-27T00:00:00\",\"2002-08-28T00:00:00\",\"2002-08-29T00:00:00\",\"2002-08-30T00:00:00\",\"2002-09-03T00:00:00\",\"2002-09-04T00:00:00\",\"2002-09-05T00:00:00\",\"2002-09-06T00:00:00\",\"2002-09-09T00:00:00\",\"2002-09-10T00:00:00\",\"2002-09-11T00:00:00\",\"2002-09-12T00:00:00\",\"2002-09-13T00:00:00\",\"2002-09-16T00:00:00\",\"2002-09-17T00:00:00\",\"2002-09-18T00:00:00\",\"2002-09-19T00:00:00\",\"2002-09-20T00:00:00\",\"2002-09-23T00:00:00\",\"2002-09-24T00:00:00\",\"2002-09-25T00:00:00\",\"2002-09-26T00:00:00\",\"2002-09-27T00:00:00\",\"2002-09-30T00:00:00\",\"2002-10-01T00:00:00\",\"2002-10-02T00:00:00\",\"2002-10-03T00:00:00\",\"2002-10-04T00:00:00\",\"2002-10-07T00:00:00\",\"2002-10-08T00:00:00\",\"2002-10-09T00:00:00\",\"2002-10-10T00:00:00\",\"2002-10-11T00:00:00\",\"2002-10-14T00:00:00\",\"2002-10-15T00:00:00\",\"2002-10-16T00:00:00\",\"2002-10-17T00:00:00\",\"2002-10-18T00:00:00\",\"2002-10-21T00:00:00\",\"2002-10-22T00:00:00\",\"2002-10-23T00:00:00\",\"2002-10-24T00:00:00\",\"2002-10-25T00:00:00\",\"2002-10-28T00:00:00\",\"2002-10-29T00:00:00\",\"2002-10-30T00:00:00\",\"2002-10-31T00:00:00\",\"2002-11-01T00:00:00\",\"2002-11-04T00:00:00\",\"2002-11-05T00:00:00\",\"2002-11-06T00:00:00\",\"2002-11-07T00:00:00\",\"2002-11-08T00:00:00\",\"2002-11-11T00:00:00\",\"2002-11-12T00:00:00\",\"2002-11-13T00:00:00\",\"2002-11-14T00:00:00\",\"2002-11-15T00:00:00\",\"2002-11-18T00:00:00\",\"2002-11-19T00:00:00\",\"2002-11-20T00:00:00\",\"2002-11-21T00:00:00\",\"2002-11-22T00:00:00\",\"2002-11-25T00:00:00\",\"2002-11-26T00:00:00\",\"2002-11-27T00:00:00\",\"2002-11-29T00:00:00\",\"2002-12-02T00:00:00\",\"2002-12-03T00:00:00\",\"2002-12-04T00:00:00\",\"2002-12-05T00:00:00\",\"2002-12-06T00:00:00\",\"2002-12-09T00:00:00\",\"2002-12-10T00:00:00\",\"2002-12-11T00:00:00\",\"2002-12-12T00:00:00\",\"2002-12-13T00:00:00\",\"2002-12-16T00:00:00\",\"2002-12-17T00:00:00\",\"2002-12-18T00:00:00\",\"2002-12-19T00:00:00\",\"2002-12-20T00:00:00\",\"2002-12-23T00:00:00\",\"2002-12-24T00:00:00\",\"2002-12-26T00:00:00\",\"2002-12-27T00:00:00\",\"2002-12-30T00:00:00\",\"2002-12-31T00:00:00\",\"2003-01-02T00:00:00\",\"2003-01-03T00:00:00\",\"2003-01-06T00:00:00\",\"2003-01-07T00:00:00\",\"2003-01-08T00:00:00\",\"2003-01-09T00:00:00\",\"2003-01-10T00:00:00\",\"2003-01-13T00:00:00\",\"2003-01-14T00:00:00\",\"2003-01-15T00:00:00\",\"2003-01-16T00:00:00\",\"2003-01-17T00:00:00\",\"2003-01-21T00:00:00\",\"2003-01-22T00:00:00\",\"2003-01-23T00:00:00\",\"2003-01-24T00:00:00\",\"2003-01-27T00:00:00\",\"2003-01-28T00:00:00\",\"2003-01-29T00:00:00\",\"2003-01-30T00:00:00\",\"2003-01-31T00:00:00\",\"2003-02-03T00:00:00\",\"2003-02-04T00:00:00\",\"2003-02-05T00:00:00\",\"2003-02-06T00:00:00\",\"2003-02-07T00:00:00\",\"2003-02-10T00:00:00\",\"2003-02-11T00:00:00\",\"2003-02-12T00:00:00\",\"2003-02-13T00:00:00\",\"2003-02-14T00:00:00\",\"2003-02-18T00:00:00\",\"2003-02-19T00:00:00\",\"2003-02-20T00:00:00\",\"2003-02-21T00:00:00\",\"2003-02-24T00:00:00\",\"2003-02-25T00:00:00\",\"2003-02-26T00:00:00\",\"2003-02-27T00:00:00\",\"2003-02-28T00:00:00\",\"2003-03-03T00:00:00\",\"2003-03-04T00:00:00\",\"2003-03-05T00:00:00\",\"2003-03-06T00:00:00\",\"2003-03-07T00:00:00\",\"2003-03-10T00:00:00\",\"2003-03-11T00:00:00\",\"2003-03-12T00:00:00\",\"2003-03-13T00:00:00\",\"2003-03-14T00:00:00\",\"2003-03-17T00:00:00\",\"2003-03-18T00:00:00\",\"2003-03-19T00:00:00\",\"2003-03-20T00:00:00\",\"2003-03-21T00:00:00\",\"2003-03-24T00:00:00\",\"2003-03-25T00:00:00\",\"2003-03-26T00:00:00\",\"2003-03-27T00:00:00\",\"2003-03-28T00:00:00\",\"2003-03-31T00:00:00\",\"2003-04-01T00:00:00\",\"2003-04-02T00:00:00\",\"2003-04-03T00:00:00\",\"2003-04-04T00:00:00\",\"2003-04-07T00:00:00\",\"2003-04-08T00:00:00\",\"2003-04-09T00:00:00\",\"2003-04-10T00:00:00\",\"2003-04-11T00:00:00\",\"2003-04-14T00:00:00\",\"2003-04-15T00:00:00\",\"2003-04-16T00:00:00\",\"2003-04-17T00:00:00\",\"2003-04-21T00:00:00\",\"2003-04-22T00:00:00\",\"2003-04-23T00:00:00\",\"2003-04-24T00:00:00\",\"2003-04-25T00:00:00\",\"2003-04-28T00:00:00\",\"2003-04-29T00:00:00\",\"2003-04-30T00:00:00\",\"2003-05-01T00:00:00\",\"2003-05-02T00:00:00\",\"2003-05-05T00:00:00\",\"2003-05-06T00:00:00\",\"2003-05-07T00:00:00\",\"2003-05-08T00:00:00\",\"2003-05-09T00:00:00\",\"2003-05-12T00:00:00\",\"2003-05-13T00:00:00\",\"2003-05-14T00:00:00\",\"2003-05-15T00:00:00\",\"2003-05-16T00:00:00\",\"2003-05-19T00:00:00\",\"2003-05-20T00:00:00\",\"2003-05-21T00:00:00\",\"2003-05-22T00:00:00\",\"2003-05-23T00:00:00\",\"2003-05-27T00:00:00\",\"2003-05-28T00:00:00\",\"2003-05-29T00:00:00\",\"2003-05-30T00:00:00\",\"2003-06-02T00:00:00\",\"2003-06-03T00:00:00\",\"2003-06-04T00:00:00\",\"2003-06-05T00:00:00\",\"2003-06-06T00:00:00\",\"2003-06-09T00:00:00\",\"2003-06-10T00:00:00\",\"2003-06-11T00:00:00\",\"2003-06-12T00:00:00\",\"2003-06-13T00:00:00\",\"2003-06-16T00:00:00\",\"2003-06-17T00:00:00\",\"2003-06-18T00:00:00\",\"2003-06-19T00:00:00\",\"2003-06-20T00:00:00\",\"2003-06-23T00:00:00\",\"2003-06-24T00:00:00\",\"2003-06-25T00:00:00\",\"2003-06-26T00:00:00\",\"2003-06-27T00:00:00\",\"2003-06-30T00:00:00\",\"2003-07-01T00:00:00\",\"2003-07-02T00:00:00\",\"2003-07-03T00:00:00\",\"2003-07-07T00:00:00\",\"2003-07-08T00:00:00\",\"2003-07-09T00:00:00\",\"2003-07-10T00:00:00\",\"2003-07-11T00:00:00\",\"2003-07-14T00:00:00\",\"2003-07-15T00:00:00\",\"2003-07-16T00:00:00\",\"2003-07-17T00:00:00\",\"2003-07-18T00:00:00\",\"2003-07-21T00:00:00\",\"2003-07-22T00:00:00\",\"2003-07-23T00:00:00\",\"2003-07-24T00:00:00\",\"2003-07-25T00:00:00\",\"2003-07-28T00:00:00\",\"2003-07-29T00:00:00\",\"2003-07-30T00:00:00\",\"2003-07-31T00:00:00\",\"2003-08-01T00:00:00\",\"2003-08-04T00:00:00\",\"2003-08-05T00:00:00\",\"2003-08-06T00:00:00\",\"2003-08-07T00:00:00\",\"2003-08-08T00:00:00\",\"2003-08-11T00:00:00\",\"2003-08-12T00:00:00\",\"2003-08-13T00:00:00\",\"2003-08-14T00:00:00\",\"2003-08-15T00:00:00\",\"2003-08-18T00:00:00\",\"2003-08-19T00:00:00\",\"2003-08-20T00:00:00\",\"2003-08-21T00:00:00\",\"2003-08-22T00:00:00\",\"2003-08-25T00:00:00\",\"2003-08-26T00:00:00\",\"2003-08-27T00:00:00\",\"2003-08-28T00:00:00\",\"2003-08-29T00:00:00\",\"2003-09-02T00:00:00\",\"2003-09-03T00:00:00\",\"2003-09-04T00:00:00\",\"2003-09-05T00:00:00\",\"2003-09-08T00:00:00\",\"2003-09-09T00:00:00\",\"2003-09-10T00:00:00\",\"2003-09-11T00:00:00\",\"2003-09-12T00:00:00\",\"2003-09-15T00:00:00\",\"2003-09-16T00:00:00\",\"2003-09-17T00:00:00\",\"2003-09-18T00:00:00\",\"2003-09-19T00:00:00\",\"2003-09-22T00:00:00\",\"2003-09-23T00:00:00\",\"2003-09-24T00:00:00\",\"2003-09-25T00:00:00\",\"2003-09-26T00:00:00\",\"2003-09-29T00:00:00\",\"2003-09-30T00:00:00\",\"2003-10-01T00:00:00\",\"2003-10-02T00:00:00\",\"2003-10-03T00:00:00\",\"2003-10-06T00:00:00\",\"2003-10-07T00:00:00\",\"2003-10-08T00:00:00\",\"2003-10-09T00:00:00\",\"2003-10-10T00:00:00\",\"2003-10-13T00:00:00\",\"2003-10-14T00:00:00\",\"2003-10-15T00:00:00\",\"2003-10-16T00:00:00\",\"2003-10-17T00:00:00\",\"2003-10-20T00:00:00\",\"2003-10-21T00:00:00\",\"2003-10-22T00:00:00\",\"2003-10-23T00:00:00\",\"2003-10-24T00:00:00\",\"2003-10-27T00:00:00\",\"2003-10-28T00:00:00\",\"2003-10-29T00:00:00\",\"2003-10-30T00:00:00\",\"2003-10-31T00:00:00\",\"2003-11-03T00:00:00\",\"2003-11-04T00:00:00\",\"2003-11-05T00:00:00\",\"2003-11-06T00:00:00\",\"2003-11-07T00:00:00\",\"2003-11-10T00:00:00\",\"2003-11-11T00:00:00\",\"2003-11-12T00:00:00\",\"2003-11-13T00:00:00\",\"2003-11-14T00:00:00\",\"2003-11-17T00:00:00\",\"2003-11-18T00:00:00\",\"2003-11-19T00:00:00\",\"2003-11-20T00:00:00\",\"2003-11-21T00:00:00\",\"2003-11-24T00:00:00\",\"2003-11-25T00:00:00\",\"2003-11-26T00:00:00\",\"2003-11-28T00:00:00\",\"2003-12-01T00:00:00\",\"2003-12-02T00:00:00\",\"2003-12-03T00:00:00\",\"2003-12-04T00:00:00\",\"2003-12-05T00:00:00\",\"2003-12-08T00:00:00\",\"2003-12-09T00:00:00\",\"2003-12-10T00:00:00\",\"2003-12-11T00:00:00\",\"2003-12-12T00:00:00\",\"2003-12-15T00:00:00\",\"2003-12-16T00:00:00\",\"2003-12-17T00:00:00\",\"2003-12-18T00:00:00\",\"2003-12-19T00:00:00\",\"2003-12-22T00:00:00\",\"2003-12-23T00:00:00\",\"2003-12-24T00:00:00\",\"2003-12-26T00:00:00\",\"2003-12-29T00:00:00\",\"2003-12-30T00:00:00\",\"2003-12-31T00:00:00\",\"2004-01-02T00:00:00\",\"2004-01-05T00:00:00\",\"2004-01-06T00:00:00\",\"2004-01-07T00:00:00\",\"2004-01-08T00:00:00\",\"2004-01-09T00:00:00\",\"2004-01-12T00:00:00\",\"2004-01-13T00:00:00\",\"2004-01-14T00:00:00\",\"2004-01-15T00:00:00\",\"2004-01-16T00:00:00\",\"2004-01-20T00:00:00\",\"2004-01-21T00:00:00\",\"2004-01-22T00:00:00\",\"2004-01-23T00:00:00\",\"2004-01-26T00:00:00\",\"2004-01-27T00:00:00\",\"2004-01-28T00:00:00\",\"2004-01-29T00:00:00\",\"2004-01-30T00:00:00\",\"2004-02-02T00:00:00\",\"2004-02-03T00:00:00\",\"2004-02-04T00:00:00\",\"2004-02-05T00:00:00\",\"2004-02-06T00:00:00\",\"2004-02-09T00:00:00\",\"2004-02-10T00:00:00\",\"2004-02-11T00:00:00\",\"2004-02-12T00:00:00\",\"2004-02-13T00:00:00\",\"2004-02-17T00:00:00\",\"2004-02-18T00:00:00\",\"2004-02-19T00:00:00\",\"2004-02-20T00:00:00\",\"2004-02-23T00:00:00\",\"2004-02-24T00:00:00\",\"2004-02-25T00:00:00\",\"2004-02-26T00:00:00\",\"2004-02-27T00:00:00\",\"2004-03-01T00:00:00\",\"2004-03-02T00:00:00\",\"2004-03-03T00:00:00\",\"2004-03-04T00:00:00\",\"2004-03-05T00:00:00\",\"2004-03-08T00:00:00\",\"2004-03-09T00:00:00\",\"2004-03-10T00:00:00\",\"2004-03-11T00:00:00\",\"2004-03-12T00:00:00\",\"2004-03-15T00:00:00\",\"2004-03-16T00:00:00\",\"2004-03-17T00:00:00\",\"2004-03-18T00:00:00\",\"2004-03-19T00:00:00\",\"2004-03-22T00:00:00\",\"2004-03-23T00:00:00\",\"2004-03-24T00:00:00\",\"2004-03-25T00:00:00\",\"2004-03-26T00:00:00\",\"2004-03-29T00:00:00\",\"2004-03-30T00:00:00\",\"2004-03-31T00:00:00\",\"2004-04-01T00:00:00\",\"2004-04-02T00:00:00\",\"2004-04-05T00:00:00\",\"2004-04-06T00:00:00\",\"2004-04-07T00:00:00\",\"2004-04-08T00:00:00\",\"2004-04-12T00:00:00\",\"2004-04-13T00:00:00\",\"2004-04-14T00:00:00\",\"2004-04-15T00:00:00\",\"2004-04-16T00:00:00\",\"2004-04-19T00:00:00\",\"2004-04-20T00:00:00\",\"2004-04-21T00:00:00\",\"2004-04-22T00:00:00\",\"2004-04-23T00:00:00\",\"2004-04-26T00:00:00\",\"2004-04-27T00:00:00\",\"2004-04-28T00:00:00\",\"2004-04-29T00:00:00\",\"2004-04-30T00:00:00\",\"2004-05-03T00:00:00\",\"2004-05-04T00:00:00\",\"2004-05-05T00:00:00\",\"2004-05-06T00:00:00\",\"2004-05-07T00:00:00\",\"2004-05-10T00:00:00\",\"2004-05-11T00:00:00\",\"2004-05-12T00:00:00\",\"2004-05-13T00:00:00\",\"2004-05-14T00:00:00\",\"2004-05-17T00:00:00\",\"2004-05-18T00:00:00\",\"2004-05-19T00:00:00\",\"2004-05-20T00:00:00\",\"2004-05-21T00:00:00\",\"2004-05-24T00:00:00\",\"2004-05-25T00:00:00\",\"2004-05-26T00:00:00\",\"2004-05-27T00:00:00\",\"2004-05-28T00:00:00\",\"2004-06-01T00:00:00\",\"2004-06-02T00:00:00\",\"2004-06-03T00:00:00\",\"2004-06-04T00:00:00\",\"2004-06-07T00:00:00\",\"2004-06-08T00:00:00\",\"2004-06-09T00:00:00\",\"2004-06-10T00:00:00\",\"2004-06-14T00:00:00\",\"2004-06-15T00:00:00\",\"2004-06-16T00:00:00\",\"2004-06-17T00:00:00\",\"2004-06-18T00:00:00\",\"2004-06-21T00:00:00\",\"2004-06-22T00:00:00\",\"2004-06-23T00:00:00\",\"2004-06-24T00:00:00\",\"2004-06-25T00:00:00\",\"2004-06-28T00:00:00\",\"2004-06-29T00:00:00\",\"2004-06-30T00:00:00\",\"2004-07-01T00:00:00\",\"2004-07-02T00:00:00\",\"2004-07-06T00:00:00\",\"2004-07-07T00:00:00\",\"2004-07-08T00:00:00\",\"2004-07-09T00:00:00\",\"2004-07-12T00:00:00\",\"2004-07-13T00:00:00\",\"2004-07-14T00:00:00\",\"2004-07-15T00:00:00\",\"2004-07-16T00:00:00\",\"2004-07-19T00:00:00\",\"2004-07-20T00:00:00\",\"2004-07-21T00:00:00\",\"2004-07-22T00:00:00\",\"2004-07-23T00:00:00\",\"2004-07-26T00:00:00\",\"2004-07-27T00:00:00\",\"2004-07-28T00:00:00\",\"2004-07-29T00:00:00\",\"2004-07-30T00:00:00\",\"2004-08-02T00:00:00\",\"2004-08-03T00:00:00\",\"2004-08-04T00:00:00\",\"2004-08-05T00:00:00\",\"2004-08-06T00:00:00\",\"2004-08-09T00:00:00\",\"2004-08-10T00:00:00\",\"2004-08-11T00:00:00\",\"2004-08-12T00:00:00\",\"2004-08-13T00:00:00\",\"2004-08-16T00:00:00\",\"2004-08-17T00:00:00\",\"2004-08-18T00:00:00\",\"2004-08-19T00:00:00\",\"2004-08-20T00:00:00\",\"2004-08-23T00:00:00\",\"2004-08-24T00:00:00\",\"2004-08-25T00:00:00\",\"2004-08-26T00:00:00\",\"2004-08-27T00:00:00\",\"2004-08-30T00:00:00\",\"2004-08-31T00:00:00\",\"2004-09-01T00:00:00\",\"2004-09-02T00:00:00\",\"2004-09-03T00:00:00\",\"2004-09-07T00:00:00\",\"2004-09-08T00:00:00\",\"2004-09-09T00:00:00\",\"2004-09-10T00:00:00\",\"2004-09-13T00:00:00\",\"2004-09-14T00:00:00\",\"2004-09-15T00:00:00\",\"2004-09-16T00:00:00\",\"2004-09-17T00:00:00\",\"2004-09-20T00:00:00\",\"2004-09-21T00:00:00\",\"2004-09-22T00:00:00\",\"2004-09-23T00:00:00\",\"2004-09-24T00:00:00\",\"2004-09-27T00:00:00\",\"2004-09-28T00:00:00\",\"2004-09-29T00:00:00\",\"2004-09-30T00:00:00\",\"2004-10-01T00:00:00\",\"2004-10-04T00:00:00\",\"2004-10-05T00:00:00\",\"2004-10-06T00:00:00\",\"2004-10-07T00:00:00\",\"2004-10-08T00:00:00\",\"2004-10-11T00:00:00\",\"2004-10-12T00:00:00\",\"2004-10-13T00:00:00\",\"2004-10-14T00:00:00\",\"2004-10-15T00:00:00\",\"2004-10-18T00:00:00\",\"2004-10-19T00:00:00\",\"2004-10-20T00:00:00\",\"2004-10-21T00:00:00\",\"2004-10-22T00:00:00\",\"2004-10-25T00:00:00\",\"2004-10-26T00:00:00\",\"2004-10-27T00:00:00\",\"2004-10-28T00:00:00\",\"2004-10-29T00:00:00\",\"2004-11-01T00:00:00\",\"2004-11-02T00:00:00\",\"2004-11-03T00:00:00\",\"2004-11-04T00:00:00\",\"2004-11-05T00:00:00\",\"2004-11-08T00:00:00\",\"2004-11-09T00:00:00\",\"2004-11-10T00:00:00\",\"2004-11-11T00:00:00\",\"2004-11-12T00:00:00\",\"2004-11-15T00:00:00\",\"2004-11-16T00:00:00\",\"2004-11-17T00:00:00\",\"2004-11-18T00:00:00\",\"2004-11-19T00:00:00\",\"2004-11-22T00:00:00\",\"2004-11-23T00:00:00\",\"2004-11-24T00:00:00\",\"2004-11-26T00:00:00\",\"2004-11-29T00:00:00\",\"2004-11-30T00:00:00\",\"2004-12-01T00:00:00\",\"2004-12-02T00:00:00\",\"2004-12-03T00:00:00\",\"2004-12-06T00:00:00\",\"2004-12-07T00:00:00\",\"2004-12-08T00:00:00\",\"2004-12-09T00:00:00\",\"2004-12-10T00:00:00\",\"2004-12-13T00:00:00\",\"2004-12-14T00:00:00\",\"2004-12-15T00:00:00\",\"2004-12-16T00:00:00\",\"2004-12-17T00:00:00\",\"2004-12-20T00:00:00\",\"2004-12-21T00:00:00\",\"2004-12-22T00:00:00\",\"2004-12-23T00:00:00\",\"2004-12-27T00:00:00\",\"2004-12-28T00:00:00\",\"2004-12-29T00:00:00\",\"2004-12-30T00:00:00\",\"2004-12-31T00:00:00\",\"2005-01-03T00:00:00\",\"2005-01-04T00:00:00\",\"2005-01-05T00:00:00\",\"2005-01-06T00:00:00\",\"2005-01-07T00:00:00\",\"2005-01-10T00:00:00\",\"2005-01-11T00:00:00\",\"2005-01-12T00:00:00\",\"2005-01-13T00:00:00\",\"2005-01-14T00:00:00\",\"2005-01-18T00:00:00\",\"2005-01-19T00:00:00\",\"2005-01-20T00:00:00\",\"2005-01-21T00:00:00\",\"2005-01-24T00:00:00\",\"2005-01-25T00:00:00\",\"2005-01-26T00:00:00\",\"2005-01-27T00:00:00\",\"2005-01-28T00:00:00\",\"2005-01-31T00:00:00\",\"2005-02-01T00:00:00\",\"2005-02-02T00:00:00\",\"2005-02-03T00:00:00\",\"2005-02-04T00:00:00\",\"2005-02-07T00:00:00\",\"2005-02-08T00:00:00\",\"2005-02-09T00:00:00\",\"2005-02-10T00:00:00\",\"2005-02-11T00:00:00\",\"2005-02-14T00:00:00\",\"2005-02-15T00:00:00\",\"2005-02-16T00:00:00\",\"2005-02-17T00:00:00\",\"2005-02-18T00:00:00\",\"2005-02-22T00:00:00\",\"2005-02-23T00:00:00\",\"2005-02-24T00:00:00\",\"2005-02-25T00:00:00\",\"2005-02-28T00:00:00\",\"2005-03-01T00:00:00\",\"2005-03-02T00:00:00\",\"2005-03-03T00:00:00\",\"2005-03-04T00:00:00\",\"2005-03-07T00:00:00\",\"2005-03-08T00:00:00\",\"2005-03-09T00:00:00\",\"2005-03-10T00:00:00\",\"2005-03-11T00:00:00\",\"2005-03-14T00:00:00\",\"2005-03-15T00:00:00\",\"2005-03-16T00:00:00\",\"2005-03-17T00:00:00\",\"2005-03-18T00:00:00\",\"2005-03-21T00:00:00\",\"2005-03-22T00:00:00\",\"2005-03-23T00:00:00\",\"2005-03-24T00:00:00\",\"2005-03-28T00:00:00\",\"2005-03-29T00:00:00\",\"2005-03-30T00:00:00\",\"2005-03-31T00:00:00\",\"2005-04-01T00:00:00\",\"2005-04-04T00:00:00\",\"2005-04-05T00:00:00\",\"2005-04-06T00:00:00\",\"2005-04-07T00:00:00\",\"2005-04-08T00:00:00\",\"2005-04-11T00:00:00\",\"2005-04-12T00:00:00\",\"2005-04-13T00:00:00\",\"2005-04-14T00:00:00\",\"2005-04-15T00:00:00\",\"2005-04-18T00:00:00\",\"2005-04-19T00:00:00\",\"2005-04-20T00:00:00\",\"2005-04-21T00:00:00\",\"2005-04-22T00:00:00\",\"2005-04-25T00:00:00\",\"2005-04-26T00:00:00\",\"2005-04-27T00:00:00\",\"2005-04-28T00:00:00\",\"2005-04-29T00:00:00\",\"2005-05-02T00:00:00\",\"2005-05-03T00:00:00\",\"2005-05-04T00:00:00\",\"2005-05-05T00:00:00\",\"2005-05-06T00:00:00\",\"2005-05-09T00:00:00\",\"2005-05-10T00:00:00\",\"2005-05-11T00:00:00\",\"2005-05-12T00:00:00\",\"2005-05-13T00:00:00\",\"2005-05-16T00:00:00\",\"2005-05-17T00:00:00\",\"2005-05-18T00:00:00\",\"2005-05-19T00:00:00\",\"2005-05-20T00:00:00\",\"2005-05-23T00:00:00\",\"2005-05-24T00:00:00\",\"2005-05-25T00:00:00\",\"2005-05-26T00:00:00\",\"2005-05-27T00:00:00\",\"2005-05-31T00:00:00\",\"2005-06-01T00:00:00\",\"2005-06-02T00:00:00\",\"2005-06-03T00:00:00\",\"2005-06-06T00:00:00\",\"2005-06-07T00:00:00\",\"2005-06-08T00:00:00\",\"2005-06-09T00:00:00\",\"2005-06-10T00:00:00\",\"2005-06-13T00:00:00\",\"2005-06-14T00:00:00\",\"2005-06-15T00:00:00\",\"2005-06-16T00:00:00\",\"2005-06-17T00:00:00\",\"2005-06-20T00:00:00\",\"2005-06-21T00:00:00\",\"2005-06-22T00:00:00\",\"2005-06-23T00:00:00\",\"2005-06-24T00:00:00\",\"2005-06-27T00:00:00\",\"2005-06-28T00:00:00\",\"2005-06-29T00:00:00\",\"2005-06-30T00:00:00\",\"2005-07-01T00:00:00\",\"2005-07-05T00:00:00\",\"2005-07-06T00:00:00\",\"2005-07-07T00:00:00\",\"2005-07-08T00:00:00\",\"2005-07-09T00:00:00\",\"2005-07-10T00:00:00\",\"2005-07-11T00:00:00\",\"2005-07-12T00:00:00\",\"2005-07-13T00:00:00\",\"2005-07-14T00:00:00\",\"2005-07-15T00:00:00\",\"2005-07-16T00:00:00\",\"2005-07-17T00:00:00\",\"2005-07-18T00:00:00\",\"2005-07-19T00:00:00\",\"2005-07-20T00:00:00\",\"2005-07-21T00:00:00\",\"2005-07-22T00:00:00\",\"2005-07-23T00:00:00\",\"2005-07-24T00:00:00\",\"2005-07-25T00:00:00\",\"2005-07-26T00:00:00\",\"2005-07-27T00:00:00\",\"2005-07-28T00:00:00\",\"2005-07-29T00:00:00\",\"2005-07-30T00:00:00\",\"2005-07-31T00:00:00\",\"2005-08-01T00:00:00\",\"2005-08-02T00:00:00\",\"2005-08-03T00:00:00\",\"2005-08-04T00:00:00\",\"2005-08-05T00:00:00\",\"2005-08-06T00:00:00\",\"2005-08-07T00:00:00\",\"2005-08-08T00:00:00\",\"2005-08-09T00:00:00\",\"2005-08-10T00:00:00\",\"2005-08-11T00:00:00\",\"2005-08-12T00:00:00\",\"2005-08-13T00:00:00\",\"2005-08-14T00:00:00\",\"2005-08-15T00:00:00\",\"2005-08-16T00:00:00\",\"2005-08-17T00:00:00\",\"2005-08-18T00:00:00\",\"2005-08-19T00:00:00\",\"2005-08-20T00:00:00\",\"2005-08-21T00:00:00\",\"2005-08-22T00:00:00\",\"2005-08-23T00:00:00\",\"2005-08-24T00:00:00\",\"2005-08-25T00:00:00\",\"2005-08-26T00:00:00\",\"2005-08-27T00:00:00\",\"2005-08-28T00:00:00\",\"2005-08-29T00:00:00\",\"2005-08-30T00:00:00\",\"2005-08-31T00:00:00\",\"2005-09-01T00:00:00\",\"2005-09-02T00:00:00\",\"2005-09-03T00:00:00\",\"2005-09-04T00:00:00\",\"2005-09-05T00:00:00\",\"2005-09-06T00:00:00\",\"2005-09-07T00:00:00\",\"2005-09-08T00:00:00\",\"2005-09-09T00:00:00\",\"2005-09-10T00:00:00\",\"2005-09-11T00:00:00\",\"2005-09-12T00:00:00\",\"2005-09-13T00:00:00\",\"2005-09-14T00:00:00\",\"2005-09-15T00:00:00\",\"2005-09-16T00:00:00\",\"2005-09-17T00:00:00\",\"2005-09-18T00:00:00\",\"2005-09-19T00:00:00\",\"2005-09-20T00:00:00\",\"2005-09-21T00:00:00\",\"2005-09-22T00:00:00\",\"2005-09-23T00:00:00\",\"2005-09-24T00:00:00\",\"2005-09-25T00:00:00\",\"2005-09-26T00:00:00\",\"2005-09-27T00:00:00\",\"2005-09-28T00:00:00\",\"2005-09-29T00:00:00\",\"2005-09-30T00:00:00\",\"2005-10-01T00:00:00\",\"2005-10-02T00:00:00\",\"2005-10-03T00:00:00\",\"2005-10-04T00:00:00\",\"2005-10-05T00:00:00\",\"2005-10-06T00:00:00\",\"2005-10-07T00:00:00\",\"2005-10-08T00:00:00\",\"2005-10-09T00:00:00\",\"2005-10-10T00:00:00\",\"2005-10-11T00:00:00\",\"2005-10-12T00:00:00\",\"2005-10-13T00:00:00\",\"2005-10-14T00:00:00\",\"2005-10-15T00:00:00\",\"2005-10-16T00:00:00\",\"2005-10-17T00:00:00\",\"2005-10-18T00:00:00\",\"2005-10-19T00:00:00\",\"2005-10-20T00:00:00\",\"2005-10-21T00:00:00\",\"2005-10-22T00:00:00\",\"2005-10-23T00:00:00\",\"2005-10-24T00:00:00\",\"2005-10-25T00:00:00\",\"2005-10-26T00:00:00\",\"2005-10-27T00:00:00\",\"2005-10-28T00:00:00\",\"2005-10-29T00:00:00\",\"2005-10-30T00:00:00\",\"2005-10-31T00:00:00\",\"2005-11-01T00:00:00\",\"2005-11-02T00:00:00\",\"2005-11-03T00:00:00\",\"2005-11-04T00:00:00\",\"2005-11-05T00:00:00\",\"2005-11-06T00:00:00\",\"2005-11-07T00:00:00\",\"2005-11-08T00:00:00\",\"2005-11-09T00:00:00\",\"2005-11-10T00:00:00\",\"2005-11-11T00:00:00\",\"2005-11-12T00:00:00\",\"2005-11-13T00:00:00\",\"2005-11-14T00:00:00\",\"2005-11-15T00:00:00\",\"2005-11-16T00:00:00\",\"2005-11-17T00:00:00\",\"2005-11-18T00:00:00\",\"2005-11-19T00:00:00\",\"2005-11-20T00:00:00\",\"2005-11-21T00:00:00\",\"2005-11-22T00:00:00\",\"2005-11-23T00:00:00\",\"2005-11-24T00:00:00\",\"2005-11-25T00:00:00\",\"2005-11-26T00:00:00\",\"2005-11-27T00:00:00\",\"2005-11-28T00:00:00\",\"2005-11-29T00:00:00\",\"2005-11-30T00:00:00\",\"2005-12-01T00:00:00\",\"2005-12-02T00:00:00\"],\"y\":[14.697924469168111,14.718439605859292,14.697310598292635,14.720193642358396,14.690917067056294,14.67557482426108,14.682873327000648,14.65689708944761,14.621064986091687,14.581693260976975,14.441574122741905,14.456252133393939,14.390121612202348,14.358992041332101,14.267291098133615,14.155609817737222,14.04463700494461,14.168498074614497,14.005864060652698,14.021978102681308,14.027953900752683,13.964584678608691,14.068627022222223,13.94355624471787,13.974218626606774,14.0222493002423,14.126002181472602,14.140665333372777,14.181934082118362,14.24361868857096,14.416854234778638,14.374632288196086,14.498612557801907,14.524433292959863,14.450538575831747,14.620100366915546,14.6672168620686,14.657132535536432,14.666308626381138,14.664153631660692,14.711618159857727,14.740296267753871,14.705852161608078,14.726125798489011,14.689098675802036,14.674890793948123,14.69634901933271,14.68259610210392,14.531416393193133,14.59615677648291,14.630949594960082,14.612723397664208,14.586668172047526,14.546403488426002,14.575365498607681,14.5531774356282,14.59195976832283,14.68594655815426,14.573001053170007,14.64712706182378,14.703963616809535,14.719975845515359,14.70480597639498,14.705249652450597,14.829484612609026,14.865134188920745,14.941685718018295,14.918099036129398,14.917368276300921,15.077140964966581,15.080562243383028,15.150851395739593,15.227931913036963,15.185914494153204,15.336682511755063,15.362301322373872,15.340991248574193,15.372225794166066,15.385543031848155,15.477706240626395,15.397665028196753,15.44675930725734,15.443321817777736,15.387398045844407,15.482258672390726,15.443029361459773,15.48442872992166,15.46580230921092,15.459279527184966,15.57165056197353,15.587642345899498,15.590390906392233,15.578864804683446,15.54305090869286,15.697252490344527,15.734662512808942,15.801928930841363,15.804131201981555,15.770621671883742,15.956843888401087,15.921154607220394,15.95205588617969,15.973225802728443,15.980902889039792,15.990722282086733,16.02651432901544,15.880310667523698,15.880687441973004,15.932407660111418,15.857017553606134,15.853738200676931,15.810683743251285,15.809165305179752,15.832754497203355,15.741314795834283,15.787590809941316,15.775489980349517,15.70567073573369,15.862174153199556,15.773310082021704,15.852091231199799,15.859019918044757,15.970279685171395,16.006135078392735,16.066211808524127,16.06457337426862,16.166166528464014,16.095059819505952,16.200938661148328,16.107306391464828,16.08295689939269,16.06391768359258,15.983881939055529,15.993583396823452,15.969662038021477,15.854034859880255,15.644444225027888,15.681676747354548,15.640529010222089,15.490209874334749,15.41366162195588,15.366064253298063,15.294936391560622,15.229285830531877,15.209225892372231,15.11112060387769,15.121849304904067,15.070169194412388,15.002253343361634,15.002432409685213,15.07068519814684,15.001584506689483,15.041643101994463,14.997817183544921,14.938056993910656,14.916320882718935,14.912395652864571,14.866176866002462,14.862590206893996,14.85535876001781,14.805431478985621,14.82637443144992,14.787716689931287,14.749731322052412,14.689266314070409,14.60019348734926,14.615088596961304,14.641920141965485,14.619232343730241,14.59830310962608,14.554419369142362,14.617173404011432,14.573226109531937,14.527030144632398,14.60293865501784,14.596149596133426,14.534480361482148,14.57626912445523,14.489836099141883,14.603529809315049,14.540524278994145,14.630512011980564,14.522507119410914,14.49912823645611,14.591875371946507,14.557794632331227,14.5391792249359,14.600572496259346,14.542257708314967,14.576242367848012,14.588747677973076,14.591943046990075,14.614405556391613,14.560506161161058,14.656656508556187,14.654988738444978,14.776421724970694,14.772226416645076,14.878593489080634,14.998921131521666,14.939189270521307,15.02036785932351,14.980808400313403,15.09693778528368,15.125235646029004,15.140587056939713,15.10730312179202,15.092951212232517,15.149254113149894,15.166330029951355,15.136431634331819,15.152894826691034,15.096728657965272,15.04997614465372,15.071602412277835,15.076354426317035,14.968338154661131,15.020628904796409,14.960022605720383,15.001358678053624,14.902517792436761,14.897609167075146,14.906974899930066,14.953175996390431,14.915175225538734,14.9636457824204,14.904118192919201,14.941923741689804,14.965344694501098,14.979661068528099,14.982809178961508,14.965241356709564,15.01696918740528,15.020922826268894,15.051994763417404,15.062286490691584,15.084778807477354,15.234111153889073,15.239927631797386,15.224873260567303,15.271373610302145,15.31295739756662,15.486156937338091,15.524275138414415,15.631711866076122,15.6162681476624,15.669630596160033,15.894827722106143,15.89218646671068,15.990129199338329,16.049690980804087,16.251397975701593,16.203352755113038,16.259695641069055,16.27689741182197,16.234585619981708,16.292866671848632,16.332903822492074,16.253972616964923,16.235715659242892,16.21758459816792,16.080701811892162,16.04789634047568,16.075299179174873,15.84711666798111,15.837706216322761,15.762133032334766,15.72624864428458,15.734672101188009,15.692291995696724,15.517421951144016,15.551995728671276,15.515069269796292,15.535014356242701,15.57278885006186,15.568821921295655,15.558879068019982,15.609131100979674,15.627974930529145,15.683622686771491,15.640191088585892,15.833961100423297,15.816427597799795,15.913743488593576,15.924166083232068,15.927446644113965,16.070179221366647,16.121307169256504,16.11674094729119,16.102082153666377,16.17367756361779,16.1611129510318,16.22111165690736,16.214180601903017,16.158043797087043,16.156984110259984,16.15610620329705,16.124807183571843,16.06598179089755,15.998122173467303,16.090990218446535,16.000212101520276,16.03113393916857,16.024255230327082,15.899367859106913,15.911813324793318,15.885856133602278,15.966300259160876,15.953446417796902,15.89720908897091,15.99248072191294,15.955432112973538,16.004092788372603,16.003482632630945,15.967181514998202,16.013501025241244,16.12855803767063,16.186492928723467,16.164184733673494,16.216908232300955,16.292793630439732,16.22922857497625,16.31418586039663,16.380173200705816,16.440942786832206,16.45141226809673,16.470680480917263,16.50006479399291,16.51161954807919,16.432377859139624,16.51558447493222,16.50644103450483,16.446342611491197,16.578194524397013,16.479391757220792,16.51718042226207,16.517709714844216,16.509721984835185,16.477850678926703,16.453441545268962,16.589613801950485,16.523152904941934,16.52270361984846,16.51058018032659,16.598463190507974,16.613008013948765,16.676491835905225,16.683491929590073,16.64596008129148,16.655031284552408,16.77591126601556,16.76278493737195,16.80175139405557,16.77707329224372,16.81481582910919,16.790170610454183,16.796078263014703,16.84051703139213,16.792711758687872,16.73979089228103,16.70552868509855,16.74022823492037,16.66630298143372,16.625879582934562,16.6038104058699,16.596605773520448,16.60784715686068,16.60210692215032,16.58068984863604,16.595729067638764,16.530766473127265,16.641162256330777,16.604659482431412,16.7693541530523,16.813058972521,16.769957092348115,16.853255584473025,16.865914693857416,16.893472676960766,16.92329185059609,16.898616116001346,16.847255758267394,16.892809320087032,16.863247525706946,16.88761807247008,16.767868520434682,16.745933921910282,16.510194965951325,16.47552824448876,16.38910320615433,16.32929214784929,16.20421045380357,16.111190483725235,16.088505742551593,16.083114428637295,16.042146962010282,15.964758946952315,15.890039896361968,15.973604557039497,15.854502889997542,15.876982505422696,15.765957207825537,15.75274646182333,15.756660783600799,15.75625781463894,15.750158891878764,15.740761188433114,15.776935689683702,15.645927919500433,15.631944700313639,15.606206273183187,15.585525199502737,15.584443374584955,15.500269869192577,15.513745198181299,15.516630850133254,15.446459126768016,15.478145553767545,15.456715750023696,15.337438343403436,15.417381770052161,15.387661274975406,15.336714245366831,15.370795599101674,15.297524370758966,15.33878843133311,15.304517737753969,15.407039440133738,15.318879696064789,15.349929990185203,15.374090118788661,15.354429519787486,15.343906076702858,15.355445805077757,15.318209461281937,15.315318413396461,15.311044954428086,15.321648740377237,15.32016526829805,15.280956590437519,15.335345783576852,15.406003159394597,15.406385233152752,15.36680106141455,15.446669572771276,15.492115417308812,15.480736331464877,15.503085587545728,15.49257172541079,15.625192216715876,15.69122597118127,15.773574635407558,15.764950624993,15.697137859655854,15.860573335626913,15.806221874269099,15.894616675553593,15.920294508274283,15.863790707364625,15.940117103507573,15.977142938808923,15.914183752537143,15.980467021031627,15.725237399494128,15.858873832292986,15.781842802292223,15.854012442691992,15.823773531381871,15.797402059643169,15.753264256592338,15.729474903240504,15.714617715681639,15.675105166988066,15.610721543161063,15.696409156117662,15.694984448884693,15.683343232268962,15.708932208696979,15.627874163127688,15.737691069023422,15.702422650738246,15.680021434938983,15.693467579342629,15.803802752513432,15.692123608652663,15.807104873733628,15.7808814554694,15.930681047548891,15.9625426063999,16.003557066563193,16.01666099080786,16.069261273491975,16.235094892085144,16.279254732447296,16.338945357295856,16.377407514297825,16.401495688404008,16.581713373228983,16.62898860177188,16.77150378037625,16.810356825256815,16.762029220198226,16.96745378557589,16.977129335225076,17.064127377245626,17.031107192945278,17.05397573010573,17.02401073787237,17.10569755970222,17.023834766869822,17.017897173113553,16.987765135502258,16.902793578012737,16.83873148288565,16.798948123466772,16.689661478391994,16.593258528250402,16.56074417827253,16.492949704163554,16.437220452431536,16.389748189190595,16.27832449194368,16.320004064472656,16.33555101713002,16.297356473543847,16.25497635059846,16.3212940032564,16.31653730292158,16.41245620146618,16.376404428626987,16.408036148426966,16.55832511311234,16.5495890793022,16.615573535549782,16.556385011127826,16.643902211260478,16.797872969278174,16.81922249497242,16.85174785026381,16.86392510546304,16.905804538682194,16.94987849256812,16.923647826200824,17.011426356079426,16.872741089449608,16.978626240889255,16.963003400179083,16.983442409725225,16.929708771004872,16.85989155434924,16.858961882228154,16.854961694066585,16.868746415497462,16.832912350456983,16.779847677736168,16.784030751797584,16.791420914902577,16.857586511499818,16.779091258726414,16.688727366786523,16.837731893248314,16.80616177388966,16.813735205742027,16.791035123980407,16.887358285514356,16.936796252470774,16.94823131317264,17.09242812358639,17.030010882571585,17.02581581303059,17.177851654322893,17.253898098647507,17.187943703302555,17.318789965754632,17.267895394493806,17.462392507659516,17.428985435415523,17.478002572638378,17.50301759169211,17.453577152756743,17.512303087496935,17.539772332628107,17.558600849071503,17.58885332337962,17.603960542399474,17.56871519352893,17.587857067437536,17.60844730377237,17.5925950856735,17.57309026736667,17.60911996435919,17.639712898280766,17.649470900290535,17.702147949234767,17.607258215265738,17.75086920608274,17.835035985570887,17.7702830107656,17.844518660201743,17.841824357038732,17.98598576708065,17.957508956895484,17.964948508905298,17.98841257514957,18.05189106616284,18.000567334350574,18.074471968391595,18.072848615989333,18.034243963417122,18.021596861894714,18.007169966389547,18.031549985171722,17.965663534721706,17.90837680247874,17.893813411057945,17.912095055848226,17.931116907348713,17.838070299834364,17.8742703750706,17.86774526193084,17.884143092618544,17.88945210847631,17.8853939861184,17.974460709711124,17.97457588331696,18.086781460756935,18.09379809554142,18.107115902602686,18.158858745285755,18.211699042710936,18.27271934854043,18.237423430368597,18.164599867891564,18.25400474891321,18.183344072407234,18.186404577219843,18.06848103610282,18.03958367003629,17.897523274804612,17.91916974436601,17.834562596285142,17.73941793416036,17.527353779202475,17.535158029080012,17.424462283891216,17.462143542819174,17.34381300075757,17.275251906020102,17.2458652444613,17.218341608407126,17.199743723267797,17.1134082510487,17.149114861333373,17.09038868180181,17.05831706104956,17.08384183389842,17.070400726504545,16.992087602263503,17.03916234819746,17.050409762361873,17.000412234125694,16.881862686859673,16.95645065111172,16.889544527492596,16.88207193636824,16.82697743918143,16.76073977164111,16.782179235371608,16.784869799415343,16.6610811409841,16.700770284845145,16.68332460957064,16.631171482865398,16.618704877248838,16.607923505943372,16.591600823530456,16.60692519430519,16.56614814561198,16.5889189029983,16.553736745481263,16.560382773794114,16.65987806253153,16.5662651873506,16.581970034999127,16.548689078583074,16.674703246493973,16.629306000133244,16.59418281749665,16.594587516961134,16.553205235391058,16.651481036655937,16.62422174589197,16.623189345010108,16.674828127653875,16.584358079979328,16.75502155667153,16.700038707892585,16.79813645226913,16.78165375803289,16.72258184567191,16.848667169729236,16.850075301619786,16.919715661045867,16.961416248554595,16.931140247195994,17.114504160689243,17.100107904058735,17.10383800128675,17.155247458213783,17.082817343927342,17.163652406722534,17.159514523443516,17.25602320377993,17.19113726955418,17.152934948006536,17.15142439606564,17.085996536243083,17.035776012540637,17.031241832871867,17.018300772218844,17.036130079965464,16.999804682984173,16.99681764049841,16.994037158424785,16.99691882985342,16.97140349323385,16.882226621445376,16.966078426992045,16.884866422857502,16.90108344707161,16.965719049755577,16.990878780943053,17.062180854599138,16.96112671100285,17.07074395737507,17.02918331586985,17.058214493522172,17.017371792781816,17.05178082545603,17.187935577593905,17.165927063845995,17.25708279378451,17.186094048214642,17.2601681052195,17.402848162561042,17.411889391996723,17.515367876396734,17.535929043593327,17.464021374874218,17.7974167587783,17.843615118469554,17.89711461673732,17.930317408641063,17.88458375788435,18.159229406875276,18.21043322968949,18.318671523021024,18.219292962025463,19.20053086624783,19.18342519247854,18.417982078100405,18.34335686415877,18.310905905985766,18.385735418932907,18.26271694514262,19.171400443024126,19.131633811644637,18.184562634916965,18.167742090525643,18.10594095706849,18.07834948596323,18.029661687759024,18.89987147830187,18.816155390579187,17.902841054816445,17.826343252134777,17.819986174766026,17.753288725387854,17.703873197661167,18.56791436061797,18.466919591487855,17.54957529086322,17.593235348875844,17.545798464139086,17.529538675905286,17.522392303454378,18.44413507157767,18.421043311884052,17.526998474994993,17.55345066648511,17.573942629811025,17.595247237232886,17.623523427708935,18.579411850388063,18.531781543249714,17.736074745524867,17.752914184907148,17.80468342428879,17.878571875411335,17.833550029866693,18.744386275682523,18.842805762755354,17.990033348320825,18.0306596334329,18.093271165706962,18.09090612383571,18.030908760553896,18.99715009705753,19.027646979548674,18.18838005236189,18.208491515106854,18.17643763433994,18.19947833789267,18.15806485476877,19.145086854607452,19.12617455455132,18.26097373764464,18.203280297250885,18.187062777732965,18.122931062525957,18.08781186430247,18.999903757883963,19.022911516636164,18.124996413278435,18.139444742306846,18.126316431852263,18.137574641878967,17.990587741339855,18.964253055425633,18.911098515322852,18.077441189647377,18.086146391394138,18.041249540937212,17.991011706692237,17.941806185773203,18.90439616604487,18.837339316518865,18.04832562488489,18.022009991842072,18.043445686589553,18.062485811593195,18.013557090476,19.01592833526479,19.013787001592007,18.186815356382102,18.125820143743994,18.173752334740474,18.266441853341547,18.208394282717336,19.221171685847164,19.203563362463843,18.340912473888274,18.380638371984986,18.446063467414422,18.45826005691375,18.48571814688474,19.40066512337857,19.4763380062488,18.632646683473272,18.60432958816508,18.683542679182032,18.67272809116358,18.639530506018005,19.62148563080796,19.62937345280768,18.80106321012923,18.695089520130026,18.763012419254043,18.793265617762994,18.71913173565759,19.670496550831768,19.765043991780185,18.769577487602486,18.872782524669407,18.826731668737054,18.841120417381273,18.764480347573812,19.720753357768224,19.728606439047326,18.787271759002746,18.824844057092136,18.815342067172832,18.805716463887265,18.86304461667814,19.776732812470243,19.804744318956338,18.918725750688402,18.93344309664673,18.91935931685994,18.990433808858914,18.97013521096762,19.901917039459143,19.897365719247166,19.122585364224097,19.04618526154709,19.156294727915473,19.17120173619751,19.23562053785025,20.053031243986926,20.06896031042715,19.196725413751356,19.21921224146242,19.237901750237185,19.251742960554616,19.234245575586897],\"type\":\"scatter\"},{\"name\":\"Data values\",\"x\":[\"2002-07-08T00:00:00\",\"2002-07-09T00:00:00\",\"2002-07-10T00:00:00\",\"2002-07-11T00:00:00\",\"2002-07-12T00:00:00\",\"2002-07-15T00:00:00\",\"2002-07-16T00:00:00\",\"2002-07-17T00:00:00\",\"2002-07-18T00:00:00\",\"2002-07-19T00:00:00\",\"2002-07-22T00:00:00\",\"2002-07-23T00:00:00\",\"2002-07-24T00:00:00\",\"2002-07-25T00:00:00\",\"2002-07-26T00:00:00\",\"2002-07-29T00:00:00\",\"2002-07-30T00:00:00\",\"2002-07-31T00:00:00\",\"2002-08-01T00:00:00\",\"2002-08-02T00:00:00\",\"2002-08-05T00:00:00\",\"2002-08-06T00:00:00\",\"2002-08-07T00:00:00\",\"2002-08-08T00:00:00\",\"2002-08-09T00:00:00\",\"2002-08-12T00:00:00\",\"2002-08-13T00:00:00\",\"2002-08-14T00:00:00\",\"2002-08-15T00:00:00\",\"2002-08-16T00:00:00\",\"2002-08-19T00:00:00\",\"2002-08-20T00:00:00\",\"2002-08-21T00:00:00\",\"2002-08-22T00:00:00\",\"2002-08-23T00:00:00\",\"2002-08-26T00:00:00\",\"2002-08-27T00:00:00\",\"2002-08-28T00:00:00\",\"2002-08-29T00:00:00\",\"2002-08-30T00:00:00\",\"2002-09-03T00:00:00\",\"2002-09-04T00:00:00\",\"2002-09-05T00:00:00\",\"2002-09-06T00:00:00\",\"2002-09-09T00:00:00\",\"2002-09-10T00:00:00\",\"2002-09-11T00:00:00\",\"2002-09-12T00:00:00\",\"2002-09-13T00:00:00\",\"2002-09-16T00:00:00\",\"2002-09-17T00:00:00\",\"2002-09-18T00:00:00\",\"2002-09-19T00:00:00\",\"2002-09-20T00:00:00\",\"2002-09-23T00:00:00\",\"2002-09-24T00:00:00\",\"2002-09-25T00:00:00\",\"2002-09-26T00:00:00\",\"2002-09-27T00:00:00\",\"2002-09-30T00:00:00\",\"2002-10-01T00:00:00\",\"2002-10-02T00:00:00\",\"2002-10-03T00:00:00\",\"2002-10-04T00:00:00\",\"2002-10-07T00:00:00\",\"2002-10-08T00:00:00\",\"2002-10-09T00:00:00\",\"2002-10-10T00:00:00\",\"2002-10-11T00:00:00\",\"2002-10-14T00:00:00\",\"2002-10-15T00:00:00\",\"2002-10-16T00:00:00\",\"2002-10-17T00:00:00\",\"2002-10-18T00:00:00\",\"2002-10-21T00:00:00\",\"2002-10-22T00:00:00\",\"2002-10-23T00:00:00\",\"2002-10-24T00:00:00\",\"2002-10-25T00:00:00\",\"2002-10-28T00:00:00\",\"2002-10-29T00:00:00\",\"2002-10-30T00:00:00\",\"2002-10-31T00:00:00\",\"2002-11-01T00:00:00\",\"2002-11-04T00:00:00\",\"2002-11-05T00:00:00\",\"2002-11-06T00:00:00\",\"2002-11-07T00:00:00\",\"2002-11-08T00:00:00\",\"2002-11-11T00:00:00\",\"2002-11-12T00:00:00\",\"2002-11-13T00:00:00\",\"2002-11-14T00:00:00\",\"2002-11-15T00:00:00\",\"2002-11-18T00:00:00\",\"2002-11-19T00:00:00\",\"2002-11-20T00:00:00\",\"2002-11-21T00:00:00\",\"2002-11-22T00:00:00\",\"2002-11-25T00:00:00\",\"2002-11-26T00:00:00\",\"2002-11-27T00:00:00\",\"2002-11-29T00:00:00\",\"2002-12-02T00:00:00\",\"2002-12-03T00:00:00\",\"2002-12-04T00:00:00\",\"2002-12-05T00:00:00\",\"2002-12-06T00:00:00\",\"2002-12-09T00:00:00\",\"2002-12-10T00:00:00\",\"2002-12-11T00:00:00\",\"2002-12-12T00:00:00\",\"2002-12-13T00:00:00\",\"2002-12-16T00:00:00\",\"2002-12-17T00:00:00\",\"2002-12-18T00:00:00\",\"2002-12-19T00:00:00\",\"2002-12-20T00:00:00\",\"2002-12-23T00:00:00\",\"2002-12-24T00:00:00\",\"2002-12-26T00:00:00\",\"2002-12-27T00:00:00\",\"2002-12-30T00:00:00\",\"2002-12-31T00:00:00\",\"2003-01-02T00:00:00\",\"2003-01-03T00:00:00\",\"2003-01-06T00:00:00\",\"2003-01-07T00:00:00\",\"2003-01-08T00:00:00\",\"2003-01-09T00:00:00\",\"2003-01-10T00:00:00\",\"2003-01-13T00:00:00\",\"2003-01-14T00:00:00\",\"2003-01-15T00:00:00\",\"2003-01-16T00:00:00\",\"2003-01-17T00:00:00\",\"2003-01-21T00:00:00\",\"2003-01-22T00:00:00\",\"2003-01-23T00:00:00\",\"2003-01-24T00:00:00\",\"2003-01-27T00:00:00\",\"2003-01-28T00:00:00\",\"2003-01-29T00:00:00\",\"2003-01-30T00:00:00\",\"2003-01-31T00:00:00\",\"2003-02-03T00:00:00\",\"2003-02-04T00:00:00\",\"2003-02-05T00:00:00\",\"2003-02-06T00:00:00\",\"2003-02-07T00:00:00\",\"2003-02-10T00:00:00\",\"2003-02-11T00:00:00\",\"2003-02-12T00:00:00\",\"2003-02-13T00:00:00\",\"2003-02-14T00:00:00\",\"2003-02-18T00:00:00\",\"2003-02-19T00:00:00\",\"2003-02-20T00:00:00\",\"2003-02-21T00:00:00\",\"2003-02-24T00:00:00\",\"2003-02-25T00:00:00\",\"2003-02-26T00:00:00\",\"2003-02-27T00:00:00\",\"2003-02-28T00:00:00\",\"2003-03-03T00:00:00\",\"2003-03-04T00:00:00\",\"2003-03-05T00:00:00\",\"2003-03-06T00:00:00\",\"2003-03-07T00:00:00\",\"2003-03-10T00:00:00\",\"2003-03-11T00:00:00\",\"2003-03-12T00:00:00\",\"2003-03-13T00:00:00\",\"2003-03-14T00:00:00\",\"2003-03-17T00:00:00\",\"2003-03-18T00:00:00\",\"2003-03-19T00:00:00\",\"2003-03-20T00:00:00\",\"2003-03-21T00:00:00\",\"2003-03-24T00:00:00\",\"2003-03-25T00:00:00\",\"2003-03-26T00:00:00\",\"2003-03-27T00:00:00\",\"2003-03-28T00:00:00\",\"2003-03-31T00:00:00\",\"2003-04-01T00:00:00\",\"2003-04-02T00:00:00\",\"2003-04-03T00:00:00\",\"2003-04-04T00:00:00\",\"2003-04-07T00:00:00\",\"2003-04-08T00:00:00\",\"2003-04-09T00:00:00\",\"2003-04-10T00:00:00\",\"2003-04-11T00:00:00\",\"2003-04-14T00:00:00\",\"2003-04-15T00:00:00\",\"2003-04-16T00:00:00\",\"2003-04-17T00:00:00\",\"2003-04-21T00:00:00\",\"2003-04-22T00:00:00\",\"2003-04-23T00:00:00\",\"2003-04-24T00:00:00\",\"2003-04-25T00:00:00\",\"2003-04-28T00:00:00\",\"2003-04-29T00:00:00\",\"2003-04-30T00:00:00\",\"2003-05-01T00:00:00\",\"2003-05-02T00:00:00\",\"2003-05-05T00:00:00\",\"2003-05-06T00:00:00\",\"2003-05-07T00:00:00\",\"2003-05-08T00:00:00\",\"2003-05-09T00:00:00\",\"2003-05-12T00:00:00\",\"2003-05-13T00:00:00\",\"2003-05-14T00:00:00\",\"2003-05-15T00:00:00\",\"2003-05-16T00:00:00\",\"2003-05-19T00:00:00\",\"2003-05-20T00:00:00\",\"2003-05-21T00:00:00\",\"2003-05-22T00:00:00\",\"2003-05-23T00:00:00\",\"2003-05-27T00:00:00\",\"2003-05-28T00:00:00\",\"2003-05-29T00:00:00\",\"2003-05-30T00:00:00\",\"2003-06-02T00:00:00\",\"2003-06-03T00:00:00\",\"2003-06-04T00:00:00\",\"2003-06-05T00:00:00\",\"2003-06-06T00:00:00\",\"2003-06-09T00:00:00\",\"2003-06-10T00:00:00\",\"2003-06-11T00:00:00\",\"2003-06-12T00:00:00\",\"2003-06-13T00:00:00\",\"2003-06-16T00:00:00\",\"2003-06-17T00:00:00\",\"2003-06-18T00:00:00\",\"2003-06-19T00:00:00\",\"2003-06-20T00:00:00\",\"2003-06-23T00:00:00\",\"2003-06-24T00:00:00\",\"2003-06-25T00:00:00\",\"2003-06-26T00:00:00\",\"2003-06-27T00:00:00\",\"2003-06-30T00:00:00\",\"2003-07-01T00:00:00\",\"2003-07-02T00:00:00\",\"2003-07-03T00:00:00\",\"2003-07-07T00:00:00\",\"2003-07-08T00:00:00\",\"2003-07-09T00:00:00\",\"2003-07-10T00:00:00\",\"2003-07-11T00:00:00\",\"2003-07-14T00:00:00\",\"2003-07-15T00:00:00\",\"2003-07-16T00:00:00\",\"2003-07-17T00:00:00\",\"2003-07-18T00:00:00\",\"2003-07-21T00:00:00\",\"2003-07-22T00:00:00\",\"2003-07-23T00:00:00\",\"2003-07-24T00:00:00\",\"2003-07-25T00:00:00\",\"2003-07-28T00:00:00\",\"2003-07-29T00:00:00\",\"2003-07-30T00:00:00\",\"2003-07-31T00:00:00\",\"2003-08-01T00:00:00\",\"2003-08-04T00:00:00\",\"2003-08-05T00:00:00\",\"2003-08-06T00:00:00\",\"2003-08-07T00:00:00\",\"2003-08-08T00:00:00\",\"2003-08-11T00:00:00\",\"2003-08-12T00:00:00\",\"2003-08-13T00:00:00\",\"2003-08-14T00:00:00\",\"2003-08-15T00:00:00\",\"2003-08-18T00:00:00\",\"2003-08-19T00:00:00\",\"2003-08-20T00:00:00\",\"2003-08-21T00:00:00\",\"2003-08-22T00:00:00\",\"2003-08-25T00:00:00\",\"2003-08-26T00:00:00\",\"2003-08-27T00:00:00\",\"2003-08-28T00:00:00\",\"2003-08-29T00:00:00\",\"2003-09-02T00:00:00\",\"2003-09-03T00:00:00\",\"2003-09-04T00:00:00\",\"2003-09-05T00:00:00\",\"2003-09-08T00:00:00\",\"2003-09-09T00:00:00\",\"2003-09-10T00:00:00\",\"2003-09-11T00:00:00\",\"2003-09-12T00:00:00\",\"2003-09-15T00:00:00\",\"2003-09-16T00:00:00\",\"2003-09-17T00:00:00\",\"2003-09-18T00:00:00\",\"2003-09-19T00:00:00\",\"2003-09-22T00:00:00\",\"2003-09-23T00:00:00\",\"2003-09-24T00:00:00\",\"2003-09-25T00:00:00\",\"2003-09-26T00:00:00\",\"2003-09-29T00:00:00\",\"2003-09-30T00:00:00\",\"2003-10-01T00:00:00\",\"2003-10-02T00:00:00\",\"2003-10-03T00:00:00\",\"2003-10-06T00:00:00\",\"2003-10-07T00:00:00\",\"2003-10-08T00:00:00\",\"2003-10-09T00:00:00\",\"2003-10-10T00:00:00\",\"2003-10-13T00:00:00\",\"2003-10-14T00:00:00\",\"2003-10-15T00:00:00\",\"2003-10-16T00:00:00\",\"2003-10-17T00:00:00\",\"2003-10-20T00:00:00\",\"2003-10-21T00:00:00\",\"2003-10-22T00:00:00\",\"2003-10-23T00:00:00\",\"2003-10-24T00:00:00\",\"2003-10-27T00:00:00\",\"2003-10-28T00:00:00\",\"2003-10-29T00:00:00\",\"2003-10-30T00:00:00\",\"2003-10-31T00:00:00\",\"2003-11-03T00:00:00\",\"2003-11-04T00:00:00\",\"2003-11-05T00:00:00\",\"2003-11-06T00:00:00\",\"2003-11-07T00:00:00\",\"2003-11-10T00:00:00\",\"2003-11-11T00:00:00\",\"2003-11-12T00:00:00\",\"2003-11-13T00:00:00\",\"2003-11-14T00:00:00\",\"2003-11-17T00:00:00\",\"2003-11-18T00:00:00\",\"2003-11-19T00:00:00\",\"2003-11-20T00:00:00\",\"2003-11-21T00:00:00\",\"2003-11-24T00:00:00\",\"2003-11-25T00:00:00\",\"2003-11-26T00:00:00\",\"2003-11-28T00:00:00\",\"2003-12-01T00:00:00\",\"2003-12-02T00:00:00\",\"2003-12-03T00:00:00\",\"2003-12-04T00:00:00\",\"2003-12-05T00:00:00\",\"2003-12-08T00:00:00\",\"2003-12-09T00:00:00\",\"2003-12-10T00:00:00\",\"2003-12-11T00:00:00\",\"2003-12-12T00:00:00\",\"2003-12-15T00:00:00\",\"2003-12-16T00:00:00\",\"2003-12-17T00:00:00\",\"2003-12-18T00:00:00\",\"2003-12-19T00:00:00\",\"2003-12-22T00:00:00\",\"2003-12-23T00:00:00\",\"2003-12-24T00:00:00\",\"2003-12-26T00:00:00\",\"2003-12-29T00:00:00\",\"2003-12-30T00:00:00\",\"2003-12-31T00:00:00\",\"2004-01-02T00:00:00\",\"2004-01-05T00:00:00\",\"2004-01-06T00:00:00\",\"2004-01-07T00:00:00\",\"2004-01-08T00:00:00\",\"2004-01-09T00:00:00\",\"2004-01-12T00:00:00\",\"2004-01-13T00:00:00\",\"2004-01-14T00:00:00\",\"2004-01-15T00:00:00\",\"2004-01-16T00:00:00\",\"2004-01-20T00:00:00\",\"2004-01-21T00:00:00\",\"2004-01-22T00:00:00\",\"2004-01-23T00:00:00\",\"2004-01-26T00:00:00\",\"2004-01-27T00:00:00\",\"2004-01-28T00:00:00\",\"2004-01-29T00:00:00\",\"2004-01-30T00:00:00\",\"2004-02-02T00:00:00\",\"2004-02-03T00:00:00\",\"2004-02-04T00:00:00\",\"2004-02-05T00:00:00\",\"2004-02-06T00:00:00\",\"2004-02-09T00:00:00\",\"2004-02-10T00:00:00\",\"2004-02-11T00:00:00\",\"2004-02-12T00:00:00\",\"2004-02-13T00:00:00\",\"2004-02-17T00:00:00\",\"2004-02-18T00:00:00\",\"2004-02-19T00:00:00\",\"2004-02-20T00:00:00\",\"2004-02-23T00:00:00\",\"2004-02-24T00:00:00\",\"2004-02-25T00:00:00\",\"2004-02-26T00:00:00\",\"2004-02-27T00:00:00\",\"2004-03-01T00:00:00\",\"2004-03-02T00:00:00\",\"2004-03-03T00:00:00\",\"2004-03-04T00:00:00\",\"2004-03-05T00:00:00\",\"2004-03-08T00:00:00\",\"2004-03-09T00:00:00\",\"2004-03-10T00:00:00\",\"2004-03-11T00:00:00\",\"2004-03-12T00:00:00\",\"2004-03-15T00:00:00\",\"2004-03-16T00:00:00\",\"2004-03-17T00:00:00\",\"2004-03-18T00:00:00\",\"2004-03-19T00:00:00\",\"2004-03-22T00:00:00\",\"2004-03-23T00:00:00\",\"2004-03-24T00:00:00\",\"2004-03-25T00:00:00\",\"2004-03-26T00:00:00\",\"2004-03-29T00:00:00\",\"2004-03-30T00:00:00\",\"2004-03-31T00:00:00\",\"2004-04-01T00:00:00\",\"2004-04-02T00:00:00\",\"2004-04-05T00:00:00\",\"2004-04-06T00:00:00\",\"2004-04-07T00:00:00\",\"2004-04-08T00:00:00\",\"2004-04-12T00:00:00\",\"2004-04-13T00:00:00\",\"2004-04-14T00:00:00\",\"2004-04-15T00:00:00\",\"2004-04-16T00:00:00\",\"2004-04-19T00:00:00\",\"2004-04-20T00:00:00\",\"2004-04-21T00:00:00\",\"2004-04-22T00:00:00\",\"2004-04-23T00:00:00\",\"2004-04-26T00:00:00\",\"2004-04-27T00:00:00\",\"2004-04-28T00:00:00\",\"2004-04-29T00:00:00\",\"2004-04-30T00:00:00\",\"2004-05-03T00:00:00\",\"2004-05-04T00:00:00\",\"2004-05-05T00:00:00\",\"2004-05-06T00:00:00\",\"2004-05-07T00:00:00\",\"2004-05-10T00:00:00\",\"2004-05-11T00:00:00\",\"2004-05-12T00:00:00\",\"2004-05-13T00:00:00\",\"2004-05-14T00:00:00\",\"2004-05-17T00:00:00\",\"2004-05-18T00:00:00\",\"2004-05-19T00:00:00\",\"2004-05-20T00:00:00\",\"2004-05-21T00:00:00\",\"2004-05-24T00:00:00\",\"2004-05-25T00:00:00\",\"2004-05-26T00:00:00\",\"2004-05-27T00:00:00\",\"2004-05-28T00:00:00\",\"2004-06-01T00:00:00\",\"2004-06-02T00:00:00\",\"2004-06-03T00:00:00\",\"2004-06-04T00:00:00\",\"2004-06-07T00:00:00\",\"2004-06-08T00:00:00\",\"2004-06-09T00:00:00\",\"2004-06-10T00:00:00\",\"2004-06-14T00:00:00\",\"2004-06-15T00:00:00\",\"2004-06-16T00:00:00\",\"2004-06-17T00:00:00\",\"2004-06-18T00:00:00\",\"2004-06-21T00:00:00\",\"2004-06-22T00:00:00\",\"2004-06-23T00:00:00\",\"2004-06-24T00:00:00\",\"2004-06-25T00:00:00\",\"2004-06-28T00:00:00\",\"2004-06-29T00:00:00\",\"2004-06-30T00:00:00\",\"2004-07-01T00:00:00\",\"2004-07-02T00:00:00\",\"2004-07-06T00:00:00\",\"2004-07-07T00:00:00\",\"2004-07-08T00:00:00\",\"2004-07-09T00:00:00\",\"2004-07-12T00:00:00\",\"2004-07-13T00:00:00\",\"2004-07-14T00:00:00\",\"2004-07-15T00:00:00\",\"2004-07-16T00:00:00\",\"2004-07-19T00:00:00\",\"2004-07-20T00:00:00\",\"2004-07-21T00:00:00\",\"2004-07-22T00:00:00\",\"2004-07-23T00:00:00\",\"2004-07-26T00:00:00\",\"2004-07-27T00:00:00\",\"2004-07-28T00:00:00\",\"2004-07-29T00:00:00\",\"2004-07-30T00:00:00\",\"2004-08-02T00:00:00\",\"2004-08-03T00:00:00\",\"2004-08-04T00:00:00\",\"2004-08-05T00:00:00\",\"2004-08-06T00:00:00\",\"2004-08-09T00:00:00\",\"2004-08-10T00:00:00\",\"2004-08-11T00:00:00\",\"2004-08-12T00:00:00\",\"2004-08-13T00:00:00\",\"2004-08-16T00:00:00\",\"2004-08-17T00:00:00\",\"2004-08-18T00:00:00\",\"2004-08-19T00:00:00\",\"2004-08-20T00:00:00\",\"2004-08-23T00:00:00\",\"2004-08-24T00:00:00\",\"2004-08-25T00:00:00\",\"2004-08-26T00:00:00\",\"2004-08-27T00:00:00\",\"2004-08-30T00:00:00\",\"2004-08-31T00:00:00\",\"2004-09-01T00:00:00\",\"2004-09-02T00:00:00\",\"2004-09-03T00:00:00\",\"2004-09-07T00:00:00\",\"2004-09-08T00:00:00\",\"2004-09-09T00:00:00\",\"2004-09-10T00:00:00\",\"2004-09-13T00:00:00\",\"2004-09-14T00:00:00\",\"2004-09-15T00:00:00\",\"2004-09-16T00:00:00\",\"2004-09-17T00:00:00\",\"2004-09-20T00:00:00\",\"2004-09-21T00:00:00\",\"2004-09-22T00:00:00\",\"2004-09-23T00:00:00\",\"2004-09-24T00:00:00\",\"2004-09-27T00:00:00\",\"2004-09-28T00:00:00\",\"2004-09-29T00:00:00\",\"2004-09-30T00:00:00\",\"2004-10-01T00:00:00\",\"2004-10-04T00:00:00\",\"2004-10-05T00:00:00\",\"2004-10-06T00:00:00\",\"2004-10-07T00:00:00\",\"2004-10-08T00:00:00\",\"2004-10-11T00:00:00\",\"2004-10-12T00:00:00\",\"2004-10-13T00:00:00\",\"2004-10-14T00:00:00\",\"2004-10-15T00:00:00\",\"2004-10-18T00:00:00\",\"2004-10-19T00:00:00\",\"2004-10-20T00:00:00\",\"2004-10-21T00:00:00\",\"2004-10-22T00:00:00\",\"2004-10-25T00:00:00\",\"2004-10-26T00:00:00\",\"2004-10-27T00:00:00\",\"2004-10-28T00:00:00\",\"2004-10-29T00:00:00\",\"2004-11-01T00:00:00\",\"2004-11-02T00:00:00\",\"2004-11-03T00:00:00\",\"2004-11-04T00:00:00\",\"2004-11-05T00:00:00\",\"2004-11-08T00:00:00\",\"2004-11-09T00:00:00\",\"2004-11-10T00:00:00\",\"2004-11-11T00:00:00\",\"2004-11-12T00:00:00\",\"2004-11-15T00:00:00\",\"2004-11-16T00:00:00\",\"2004-11-17T00:00:00\",\"2004-11-18T00:00:00\",\"2004-11-19T00:00:00\",\"2004-11-22T00:00:00\",\"2004-11-23T00:00:00\",\"2004-11-24T00:00:00\",\"2004-11-26T00:00:00\",\"2004-11-29T00:00:00\",\"2004-11-30T00:00:00\",\"2004-12-01T00:00:00\",\"2004-12-02T00:00:00\",\"2004-12-03T00:00:00\",\"2004-12-06T00:00:00\",\"2004-12-07T00:00:00\",\"2004-12-08T00:00:00\",\"2004-12-09T00:00:00\",\"2004-12-10T00:00:00\",\"2004-12-13T00:00:00\",\"2004-12-14T00:00:00\",\"2004-12-15T00:00:00\",\"2004-12-16T00:00:00\",\"2004-12-17T00:00:00\",\"2004-12-20T00:00:00\",\"2004-12-21T00:00:00\",\"2004-12-22T00:00:00\",\"2004-12-23T00:00:00\",\"2004-12-27T00:00:00\",\"2004-12-28T00:00:00\",\"2004-12-29T00:00:00\",\"2004-12-30T00:00:00\",\"2004-12-31T00:00:00\",\"2005-01-03T00:00:00\",\"2005-01-04T00:00:00\",\"2005-01-05T00:00:00\",\"2005-01-06T00:00:00\",\"2005-01-07T00:00:00\",\"2005-01-10T00:00:00\",\"2005-01-11T00:00:00\",\"2005-01-12T00:00:00\",\"2005-01-13T00:00:00\",\"2005-01-14T00:00:00\",\"2005-01-18T00:00:00\",\"2005-01-19T00:00:00\",\"2005-01-20T00:00:00\",\"2005-01-21T00:00:00\",\"2005-01-24T00:00:00\",\"2005-01-25T00:00:00\",\"2005-01-26T00:00:00\",\"2005-01-27T00:00:00\",\"2005-01-28T00:00:00\",\"2005-01-31T00:00:00\",\"2005-02-01T00:00:00\",\"2005-02-02T00:00:00\",\"2005-02-03T00:00:00\",\"2005-02-04T00:00:00\",\"2005-02-07T00:00:00\",\"2005-02-08T00:00:00\",\"2005-02-09T00:00:00\",\"2005-02-10T00:00:00\",\"2005-02-11T00:00:00\",\"2005-02-14T00:00:00\",\"2005-02-15T00:00:00\",\"2005-02-16T00:00:00\",\"2005-02-17T00:00:00\",\"2005-02-18T00:00:00\",\"2005-02-22T00:00:00\",\"2005-02-23T00:00:00\",\"2005-02-24T00:00:00\",\"2005-02-25T00:00:00\",\"2005-02-28T00:00:00\",\"2005-03-01T00:00:00\",\"2005-03-02T00:00:00\",\"2005-03-03T00:00:00\",\"2005-03-04T00:00:00\",\"2005-03-07T00:00:00\",\"2005-03-08T00:00:00\",\"2005-03-09T00:00:00\",\"2005-03-10T00:00:00\",\"2005-03-11T00:00:00\",\"2005-03-14T00:00:00\",\"2005-03-15T00:00:00\",\"2005-03-16T00:00:00\",\"2005-03-17T00:00:00\",\"2005-03-18T00:00:00\",\"2005-03-21T00:00:00\",\"2005-03-22T00:00:00\",\"2005-03-23T00:00:00\",\"2005-03-24T00:00:00\",\"2005-03-28T00:00:00\",\"2005-03-29T00:00:00\",\"2005-03-30T00:00:00\",\"2005-03-31T00:00:00\",\"2005-04-01T00:00:00\",\"2005-04-04T00:00:00\",\"2005-04-05T00:00:00\",\"2005-04-06T00:00:00\",\"2005-04-07T00:00:00\",\"2005-04-08T00:00:00\",\"2005-04-11T00:00:00\",\"2005-04-12T00:00:00\",\"2005-04-13T00:00:00\",\"2005-04-14T00:00:00\",\"2005-04-15T00:00:00\",\"2005-04-18T00:00:00\",\"2005-04-19T00:00:00\",\"2005-04-20T00:00:00\",\"2005-04-21T00:00:00\",\"2005-04-22T00:00:00\",\"2005-04-25T00:00:00\",\"2005-04-26T00:00:00\",\"2005-04-27T00:00:00\",\"2005-04-28T00:00:00\",\"2005-04-29T00:00:00\",\"2005-05-02T00:00:00\",\"2005-05-03T00:00:00\",\"2005-05-04T00:00:00\",\"2005-05-05T00:00:00\",\"2005-05-06T00:00:00\",\"2005-05-09T00:00:00\",\"2005-05-10T00:00:00\",\"2005-05-11T00:00:00\",\"2005-05-12T00:00:00\",\"2005-05-13T00:00:00\",\"2005-05-16T00:00:00\",\"2005-05-17T00:00:00\",\"2005-05-18T00:00:00\",\"2005-05-19T00:00:00\",\"2005-05-20T00:00:00\",\"2005-05-23T00:00:00\",\"2005-05-24T00:00:00\",\"2005-05-25T00:00:00\",\"2005-05-26T00:00:00\",\"2005-05-27T00:00:00\",\"2005-05-31T00:00:00\",\"2005-06-01T00:00:00\",\"2005-06-02T00:00:00\",\"2005-06-03T00:00:00\",\"2005-06-06T00:00:00\",\"2005-06-07T00:00:00\",\"2005-06-08T00:00:00\",\"2005-06-09T00:00:00\",\"2005-06-10T00:00:00\",\"2005-06-13T00:00:00\",\"2005-06-14T00:00:00\",\"2005-06-15T00:00:00\",\"2005-06-16T00:00:00\",\"2005-06-17T00:00:00\",\"2005-06-20T00:00:00\",\"2005-06-21T00:00:00\",\"2005-06-22T00:00:00\",\"2005-06-23T00:00:00\",\"2005-06-24T00:00:00\",\"2005-06-27T00:00:00\",\"2005-06-28T00:00:00\",\"2005-06-29T00:00:00\",\"2005-06-30T00:00:00\",\"2005-07-01T00:00:00\",\"2005-07-05T00:00:00\"],\"y\":[16.549701690673828,16.640390396118164,16.3370418548584,16.546566009521484,16.218204498291016,16.199440002441406,16.027435302734375,16.261978149414062,15.983657836914062,15.498924255371094,14.857823371887207,13.450532913208008,14.457524299621582,13.394245147705078,14.182324409484863,15.089241981506348,15.042332649230957,15.004805564880371,14.307418823242188,13.888357162475586,13.757012367248535,14.282400131225586,14.72647762298584,15.295649528503418,15.048584938049316,15.158053398132324,14.717092514038086,15.5458345413208,15.564602851867676,15.636523246765137,16.261978149414062,15.961761474609375,16.349546432495117,16.646648406982422,16.330785751342773,16.29326057434082,15.899218559265137,15.442635536193848,15.81790542602539,15.348809242248535,14.70458984375,15.076733589172363,14.357453346252441,14.954771995544434,15.229972839355469,15.570847511291504,15.192442893981934,14.745244979858398,14.982917785644531,14.942255973815918,14.789021492004395,14.932876586914062,14.760875701904297,14.842190742492676,14.144800186157227,14.273022651672363,14.545092582702637,14.448147773742676,14.151055335998535,13.67883014678955,14.457524299621582,14.263636589050293,14.010323524475098,13.688216209411621,13.775778770446777,14.069747924804688,13.757012367248535,14.504437446594238,15.283141136169434,15.41448974609375,16.35266876220703,15.764744758605957,15.877334594726562,16.621625900268555,16.42147445678711,16.15877342224121,16.637252807617188,16.021181106567383,16.474641799926758,16.246339797973633,16.283872604370117,16.609111785888672,16.721694946289062,16.574722290039062,17.54418182373047,17.725553512573242,17.835018157958984,17.516029357910156,17.231449127197266,16.84366226196289,17.04694366455078,17.312755584716797,17.822509765625,17.728696823120117,17.46599578857422,17.15639305114746,17.706796646118164,18.088329315185547,18.207168579101562,18.210298538208008,17.794363021850586,18.16338539123535,18.038297653198242,18.04142189025879,17.734939575195312,17.681781768798828,17.306499481201172,17.347156524658203,16.740467071533203,16.890579223632812,17.09384536743164,16.94061279296875,16.418352127075195,17.037553787231445,17.000036239624023,16.740467071533203,16.609111785888672,16.587228775024414,16.8874454498291,16.83115005493164,16.69667625427246,16.565336227416992,16.496530532836914,16.168169021606445,16.799884796142578,16.821773529052734,17.12824249267578,17.450361251831055,16.962499618530273,17.4534912109375,17.487886428833008,17.634870529174805,17.816259384155273,17.597341537475586,17.30962562561035,16.093107223510742,16.05245590209961,15.949251174926758,16.349546432495117,15.589613914489746,15.376957893371582,15.267497062683105,15.608378410339355,15.08612060546875,14.842190742492676,15.186188697814941,14.7984037399292,14.685819625854492,14.829673767089844,14.566985130310059,14.817169189453125,14.523199081420898,14.523199081420898,14.695208549499512,15.104891777038574,15.611503601074219,15.391894340515137,15.147173881530762,15.454636573791504,15.103255271911621,15.178544998168945,14.814614295959473,14.795790672302246,14.871092796325684,14.770697593688965,14.475777626037598,14.707945823669434,14.601277351379395,14.78324031829834,14.400483131408691,14.306365013122559,14.676572799682617,15.479731559753418,15.598956108093262,16.27035140991211,16.339370727539062,16.51505470275879,16.471145629882812,16.671926498413086,15.868766784667969,15.994258880615234,15.843667984008789,15.711899757385254,15.479731559753418,15.191100120544434,15.27894401550293,16.138580322265625,16.14485740661621,15.743270874023438,15.793474197387695,16.050735473632812,15.416988372802734,15.429540634155273,15.18482494354248,15.536205291748047,15.435812950134277,15.636603355407715,16.000537872314453,15.818565368652344,16.163681030273438,16.138580322265625,15.994258880615234,15.824850082397461,16.151124954223633,16.18877410888672,16.044456481933594,16.138580322265625,16.37702751159668,16.22643280029297,16.546438217163086,16.30799674987793,16.151124954223633,16.540157318115234,16.439760208129883,16.30799674987793,16.075836181640625,16.1824951171875,16.044456481933594,15.536205291748047,15.454636573791504,15.078158378601074,15.159730911254883,15.197376251220703,15.555038452148438,15.316590309143066,15.310318946838379,15.442082405090332,15.460912704467773,15.611505508422852,15.605234146118164,15.115800857543945,14.85226058959961,14.902461051940918,15.486007690429688,15.611505508422852,15.680526733398438,15.467183113098145,15.9315185546875,16.289175033569336,16.358198165893555,16.358198165893555,16.52133560180664,16.17623519897461,16.126035690307617,15.84994125366211,16.157405853271484,16.082109451293945,16.08837890625,16.408395767211914,16.866455078125,16.62801742553711,17.20528793334961,17.380971908569336,17.23665428161621,16.88526725769043,17.13626480102539,17.19273567199707,17.11116600036621,17.26803207397461,16.74723243713379,16.872730255126953,16.339370727539062,16.552711486816406,16.59663963317871,16.314268112182617,16.872730255126953,16.69702911376953,16.609182357788086,16.458593368530273,16.5715274810791,16.420944213867188,16.427221298217773,16.100936889648438,16.09465789794922,16.132314682006836,16.050735473632812,16.069561004638672,16.14485740661621,16.063282012939453,16.082109451293945,16.025632858276367,16.126035690307617,16.703304290771484,16.59663963317871,16.46486473083496,16.452320098876953,16.62801742553711,16.671926498413086,16.577816009521484,16.634281158447266,16.640562057495117,17.104887008666992,17.757448196411133,17.83903694152832,17.807655334472656,18.096296310424805,17.801382064819336,17.28685188293457,17.46881866455078,17.782550811767578,17.795114517211914,18.133943557739258,17.882951736450195,18.510421752929688,18.799062728881836,18.240617752075195,18.57316780090332,17.85785484313965,17.719810485839844,17.688438415527344,18.09001922607422,17.4437255859375,17.89550018310547,17.882951736450195,18.246885299682617,18.3159122467041,18.284536361694336,18.083742141723633,18.159042358398438,18.140220642089844,18.058645248413086,17.995895385742188,18.342947006225586,18.44390106201172,18.254606246948242,18.51961898803711,18.51961898803711,18.229366302490234,18.241992950439453,16.790695190429688,16.979997634887695,17.162988662719727,16.87273597717285,16.481517791748047,16.494142532348633,16.834867477416992,16.44997215270996,16.46889877319336,16.550926208496094,16.46889877319336,16.40579605102539,16.27959632873535,16.393173217773438,16.21019172668457,16.090299606323242,15.869453430175781,15.869453430175781,15.995656967163086,15.837905883789062,15.84421443939209,16.23543357849121,16.027198791503906,16.05875587463379,16.222814559936523,16.304840087890625,16.191261291503906,16.197574615478516,16.531993865966797,16.393173217773438,16.557235717773438,16.64557647705078,16.77808380126953,16.790695190429688,16.81594467163086,16.87273597717285,17.074647903442383,17.06202507019043,17.289182662963867,17.263944625854492,17.15036964416504,17.131439208984375,17.06202507019043,17.169300079345703,17.327051162719727,17.364910125732422,17.270259857177734,17.320741653442383,17.756120681762695,17.81922149658203,17.800289154052734,17.768735885620117,17.453245162963867,17.396459579467773,17.308122634887695,17.478483200073242,17.377519607543945,17.54789924621582,17.730880737304688,17.857072830200195,17.67409324645996,17.970661163330078,18.172576904296875,17.82553482055664,17.48479461669922,17.610992431640625,17.44693946838379,17.289182662963867,17.21977996826172,17.043100357055664,17.011550903320312,17.08727264404297,16.973695755004883,17.04941749572754,17.131439208984375,17.005245208740234,16.77808380126953,17.030485153198242,16.89166259765625,16.696054458618164,16.765464782714844,16.790695190429688,16.961076736450195,16.84749412536621,16.721302032470703,16.74022674560547,16.84749412536621,16.65188217163086,16.63926887512207,16.63926887512207,16.62665557861328,16.29852867126465,16.229116439819336,16.008277893066406,15.831587791442871,16.01458168029785,15.875765800476074,15.888387680053711,15.856836318969727,15.705398559570312,15.541339874267578,15.459309577941895,15.238470077514648,15.402520179748535,15.894697189331055,15.793730735778809,15.970410346984863,15.9010009765625,15.730636596679688,15.825284957885742,16.311153411865234,16.37425422668457,16.27959632873535,16.147092819213867,16.07768440246582,16.15970802307129,16.05875587463379,16.096616744995117,15.913628578186035,15.875765800476074,16.10923194885254,15.983030319213867,16.05875587463379,16.37425422668457,17.377519607543945,17.188228607177734,17.175609588623047,16.759151458740234,16.708675384521484,16.487823486328125,16.62665557861328,16.614025115966797,16.595096588134766,16.481517791748047,16.266983032226562,16.361629486083984,16.367938995361328,16.367938995361328,16.46889877319336,16.317461013793945,16.115549087524414,16.29852867126465,16.16602325439453,16.23543357849121,16.336389541625977,16.25435447692871,16.46889877319336,16.494142532348633,16.525686264038086,16.550926208496094,16.475200653076172,16.487823486328125,16.336389541625977,16.37425422668457,16.677122116088867,16.784393310546875,16.702362060546875,16.89166259765625,16.973695755004883,17.295499801635742,17.23870849609375,17.522659301757812,17.888629913330078,17.888629913330078,17.850770950317383,17.857072830200195,17.913875579833984,18.027448654174805,17.84446144104004,17.983274459838867,18.021141052246094,18.0653018951416,18.027448654174805,17.680404663085938,17.730880737304688,17.440631866455078,17.57944679260254,17.598379135131836,17.415390014648438,17.749813079833984,17.58574867248535,17.339672088623047,17.63623809814453,17.869701385498047,18.210439682006836,18.298770904541016,17.686708450317383,18.084238052368164,17.94542121887207,18.033756256103516,17.970661163330078,17.97696876525879,17.995899200439453,17.711957931518555,17.705644607543945,17.371217727661133,17.1251277923584,17.15036964416504,17.491104125976562,17.295499801635742,16.961076736450195,17.04941749572754,17.093585968017578,17.068342208862305,17.327051162719727,17.112510681152344,17.162988662719727,17.238929748535156,17.238929748535156,17.435108184814453,17.36550521850586,17.378156661987305,17.27690315246582,17.27690315246582,17.333860397338867,17.479421615600586,17.156661987304688,17.31487274169922,17.2515811920166,17.26424789428711,17.39714241027832,17.245264053344727,17.36550521850586,17.20728874206543,17.2515811920166,17.40980339050293,17.40980339050293,17.2515811920166,17.162988662719727,17.308551788330078,17.27058219909668,17.20728874206543,17.257917404174805,17.454103469848633,17.49840545654297,17.878116607666016,17.79584312438965,17.96038055419922,18.055313110351562,17.827489852905273,17.71356964111328,17.757869720458984,17.738889694213867,17.738889694213867,17.593326568603516,17.71356964111328,17.9793701171875,17.833810806274414,18.16289710998535,18.074296951293945,17.555360794067383,17.485746383666992,17.656620025634766,17.8148250579834,17.726228713989258,17.700910568237305,17.770524978637695,17.871782302856445,18.01734733581543,18.352754592895508,18.54894256591797,18.529951095581055,18.840045928955078,18.814733505249023,18.972951889038086,18.96662712097168,19.31929588317871,19.128847122192383,19.16411590576172,19.093585968017578,18.945463180541992,18.797338485717773,18.71269416809082,18.790281295776367,18.76207160949707,18.881982803344727,18.91019058227539,19.22054672241211,19.107694625854492,19.206436157226562,19.276968002319336,19.093585968017578,19.298131942749023,19.206436157226562,19.10064125061035,19.22054672241211,19.206436157226562,19.12179946899414,19.15706443786621,19.015989303588867,19.008934020996094,19.093585968017578,19.02305030822754,19.0512638092041,18.938405990600586,19.008934020996094,18.973674774169922,18.874927520751953,18.846715927124023,18.860816955566406,18.931360244750977,18.889036178588867,18.867876052856445,18.811443328857422,18.903141021728516,18.853761672973633,18.889036178588867,18.529315948486328,18.423503875732422,18.564579010009766,18.324764251708984,18.240123748779297,18.091997146606445,18.10611343383789,18.352977752685547,18.345924377441406,18.41645622253418,18.465831756591797,18.536361694335938,18.61395263671875,18.663328170776367,18.465831756591797,18.564579010009766,18.451725006103516,18.508142471313477,18.388242721557617,18.381189346313477,18.31770896911621,18.345924377441406,18.345924377441406,18.24686622619629,18.147817611694336,18.027538299560547,17.850666046142578,17.82943344116211,17.94971466064453,17.864810943603516,17.801132202148438,17.886035919189453,17.871885299682617,17.80820655822754,17.80820655822754,18.020462036132812,17.970935821533203,17.907255172729492,17.992162704467773,17.751604080200195,17.765750885009766,17.624258041381836,17.426151275634766,17.362472534179688,17.19974708557129,17.12192153930664,16.973337173461914,17.10776710510254,17.178518295288086,17.12192153930664,16.92380714416504,17.093624114990234,17.10069465637207,17.06531524658203,17.143136978149414,17.312942504882812,17.454448699951172,17.758684158325195,17.645479202270508,17.666706085205078,17.914337158203125,17.71624183654785,17.574726104736328,17.305862426757812,17.440296173095703,17.426151275634766,17.20682144165039,17.886035919189453,17.67378044128418,17.68086051940918,17.51812744140625,17.68086051940918,17.29880142211914,17.90018081665039,17.850666046142578,17.942638397216797,17.836509704589844,17.850666046142578,17.843585968017578,17.765750885009766,17.61717987060547,17.624258041381836,17.687929153442383,17.90018081665039,18.091821670532227,18.07052993774414,18.24087142944336,18.397024154663086,18.269254684448242,18.347332000732422,18.276355743408203,18.247974395751953,18.382822036743164,18.50348663330078,18.311845779418945,18.31894302368164,18.304744720458984,18.04923439025879,18.006650924682617,18.10601806640625,18.027944564819336,18.10601806640625,18.04923439025879,17.96405601501465,17.999555587768555,17.928571701049805,17.772432327270508,17.772432327270508,17.822107315063477,17.850500106811523,17.793718338012695,17.96405601501465,17.772432327270508,17.779523849487305,17.793718338012695,17.80790901184082,17.63047218322754,17.53820037841797,17.729843139648438],\"type\":\"scatter\"}],                        {\"template\":{\"data\":{\"bar\":[{\"error_x\":{\"color\":\"#2a3f5f\"},\"error_y\":{\"color\":\"#2a3f5f\"},\"marker\":{\"line\":{\"color\":\"#E5ECF6\",\"width\":0.5},\"pattern\":{\"fillmode\":\"overlay\",\"size\":10,\"solidity\":0.2}},\"type\":\"bar\"}],\"barpolar\":[{\"marker\":{\"line\":{\"color\":\"#E5ECF6\",\"width\":0.5},\"pattern\":{\"fillmode\":\"overlay\",\"size\":10,\"solidity\":0.2}},\"type\":\"barpolar\"}],\"carpet\":[{\"aaxis\":{\"endlinecolor\":\"#2a3f5f\",\"gridcolor\":\"white\",\"linecolor\":\"white\",\"minorgridcolor\":\"white\",\"startlinecolor\":\"#2a3f5f\"},\"baxis\":{\"endlinecolor\":\"#2a3f5f\",\"gridcolor\":\"white\",\"linecolor\":\"white\",\"minorgridcolor\":\"white\",\"startlinecolor\":\"#2a3f5f\"},\"type\":\"carpet\"}],\"choropleth\":[{\"colorbar\":{\"outlinewidth\":0,\"ticks\":\"\"},\"type\":\"choropleth\"}],\"contour\":[{\"colorbar\":{\"outlinewidth\":0,\"ticks\":\"\"},\"colorscale\":[[0.0,\"#0d0887\"],[0.1111111111111111,\"#46039f\"],[0.2222222222222222,\"#7201a8\"],[0.3333333333333333,\"#9c179e\"],[0.4444444444444444,\"#bd3786\"],[0.5555555555555556,\"#d8576b\"],[0.6666666666666666,\"#ed7953\"],[0.7777777777777778,\"#fb9f3a\"],[0.8888888888888888,\"#fdca26\"],[1.0,\"#f0f921\"]],\"type\":\"contour\"}],\"contourcarpet\":[{\"colorbar\":{\"outlinewidth\":0,\"ticks\":\"\"},\"type\":\"contourcarpet\"}],\"heatmap\":[{\"colorbar\":{\"outlinewidth\":0,\"ticks\":\"\"},\"colorscale\":[[0.0,\"#0d0887\"],[0.1111111111111111,\"#46039f\"],[0.2222222222222222,\"#7201a8\"],[0.3333333333333333,\"#9c179e\"],[0.4444444444444444,\"#bd3786\"],[0.5555555555555556,\"#d8576b\"],[0.6666666666666666,\"#ed7953\"],[0.7777777777777778,\"#fb9f3a\"],[0.8888888888888888,\"#fdca26\"],[1.0,\"#f0f921\"]],\"type\":\"heatmap\"}],\"heatmapgl\":[{\"colorbar\":{\"outlinewidth\":0,\"ticks\":\"\"},\"colorscale\":[[0.0,\"#0d0887\"],[0.1111111111111111,\"#46039f\"],[0.2222222222222222,\"#7201a8\"],[0.3333333333333333,\"#9c179e\"],[0.4444444444444444,\"#bd3786\"],[0.5555555555555556,\"#d8576b\"],[0.6666666666666666,\"#ed7953\"],[0.7777777777777778,\"#fb9f3a\"],[0.8888888888888888,\"#fdca26\"],[1.0,\"#f0f921\"]],\"type\":\"heatmapgl\"}],\"histogram\":[{\"marker\":{\"pattern\":{\"fillmode\":\"overlay\",\"size\":10,\"solidity\":0.2}},\"type\":\"histogram\"}],\"histogram2d\":[{\"colorbar\":{\"outlinewidth\":0,\"ticks\":\"\"},\"colorscale\":[[0.0,\"#0d0887\"],[0.1111111111111111,\"#46039f\"],[0.2222222222222222,\"#7201a8\"],[0.3333333333333333,\"#9c179e\"],[0.4444444444444444,\"#bd3786\"],[0.5555555555555556,\"#d8576b\"],[0.6666666666666666,\"#ed7953\"],[0.7777777777777778,\"#fb9f3a\"],[0.8888888888888888,\"#fdca26\"],[1.0,\"#f0f921\"]],\"type\":\"histogram2d\"}],\"histogram2dcontour\":[{\"colorbar\":{\"outlinewidth\":0,\"ticks\":\"\"},\"colorscale\":[[0.0,\"#0d0887\"],[0.1111111111111111,\"#46039f\"],[0.2222222222222222,\"#7201a8\"],[0.3333333333333333,\"#9c179e\"],[0.4444444444444444,\"#bd3786\"],[0.5555555555555556,\"#d8576b\"],[0.6666666666666666,\"#ed7953\"],[0.7777777777777778,\"#fb9f3a\"],[0.8888888888888888,\"#fdca26\"],[1.0,\"#f0f921\"]],\"type\":\"histogram2dcontour\"}],\"mesh3d\":[{\"colorbar\":{\"outlinewidth\":0,\"ticks\":\"\"},\"type\":\"mesh3d\"}],\"parcoords\":[{\"line\":{\"colorbar\":{\"outlinewidth\":0,\"ticks\":\"\"}},\"type\":\"parcoords\"}],\"pie\":[{\"automargin\":true,\"type\":\"pie\"}],\"scatter\":[{\"marker\":{\"colorbar\":{\"outlinewidth\":0,\"ticks\":\"\"}},\"type\":\"scatter\"}],\"scatter3d\":[{\"line\":{\"colorbar\":{\"outlinewidth\":0,\"ticks\":\"\"}},\"marker\":{\"colorbar\":{\"outlinewidth\":0,\"ticks\":\"\"}},\"type\":\"scatter3d\"}],\"scattercarpet\":[{\"marker\":{\"colorbar\":{\"outlinewidth\":0,\"ticks\":\"\"}},\"type\":\"scattercarpet\"}],\"scattergeo\":[{\"marker\":{\"colorbar\":{\"outlinewidth\":0,\"ticks\":\"\"}},\"type\":\"scattergeo\"}],\"scattergl\":[{\"marker\":{\"colorbar\":{\"outlinewidth\":0,\"ticks\":\"\"}},\"type\":\"scattergl\"}],\"scattermapbox\":[{\"marker\":{\"colorbar\":{\"outlinewidth\":0,\"ticks\":\"\"}},\"type\":\"scattermapbox\"}],\"scatterpolar\":[{\"marker\":{\"colorbar\":{\"outlinewidth\":0,\"ticks\":\"\"}},\"type\":\"scatterpolar\"}],\"scatterpolargl\":[{\"marker\":{\"colorbar\":{\"outlinewidth\":0,\"ticks\":\"\"}},\"type\":\"scatterpolargl\"}],\"scatterternary\":[{\"marker\":{\"colorbar\":{\"outlinewidth\":0,\"ticks\":\"\"}},\"type\":\"scatterternary\"}],\"surface\":[{\"colorbar\":{\"outlinewidth\":0,\"ticks\":\"\"},\"colorscale\":[[0.0,\"#0d0887\"],[0.1111111111111111,\"#46039f\"],[0.2222222222222222,\"#7201a8\"],[0.3333333333333333,\"#9c179e\"],[0.4444444444444444,\"#bd3786\"],[0.5555555555555556,\"#d8576b\"],[0.6666666666666666,\"#ed7953\"],[0.7777777777777778,\"#fb9f3a\"],[0.8888888888888888,\"#fdca26\"],[1.0,\"#f0f921\"]],\"type\":\"surface\"}],\"table\":[{\"cells\":{\"fill\":{\"color\":\"#EBF0F8\"},\"line\":{\"color\":\"white\"}},\"header\":{\"fill\":{\"color\":\"#C8D4E3\"},\"line\":{\"color\":\"white\"}},\"type\":\"table\"}]},\"layout\":{\"annotationdefaults\":{\"arrowcolor\":\"#2a3f5f\",\"arrowhead\":0,\"arrowwidth\":1},\"autotypenumbers\":\"strict\",\"coloraxis\":{\"colorbar\":{\"outlinewidth\":0,\"ticks\":\"\"}},\"colorscale\":{\"diverging\":[[0,\"#8e0152\"],[0.1,\"#c51b7d\"],[0.2,\"#de77ae\"],[0.3,\"#f1b6da\"],[0.4,\"#fde0ef\"],[0.5,\"#f7f7f7\"],[0.6,\"#e6f5d0\"],[0.7,\"#b8e186\"],[0.8,\"#7fbc41\"],[0.9,\"#4d9221\"],[1,\"#276419\"]],\"sequential\":[[0.0,\"#0d0887\"],[0.1111111111111111,\"#46039f\"],[0.2222222222222222,\"#7201a8\"],[0.3333333333333333,\"#9c179e\"],[0.4444444444444444,\"#bd3786\"],[0.5555555555555556,\"#d8576b\"],[0.6666666666666666,\"#ed7953\"],[0.7777777777777778,\"#fb9f3a\"],[0.8888888888888888,\"#fdca26\"],[1.0,\"#f0f921\"]],\"sequentialminus\":[[0.0,\"#0d0887\"],[0.1111111111111111,\"#46039f\"],[0.2222222222222222,\"#7201a8\"],[0.3333333333333333,\"#9c179e\"],[0.4444444444444444,\"#bd3786\"],[0.5555555555555556,\"#d8576b\"],[0.6666666666666666,\"#ed7953\"],[0.7777777777777778,\"#fb9f3a\"],[0.8888888888888888,\"#fdca26\"],[1.0,\"#f0f921\"]]},\"colorway\":[\"#636efa\",\"#EF553B\",\"#00cc96\",\"#ab63fa\",\"#FFA15A\",\"#19d3f3\",\"#FF6692\",\"#B6E880\",\"#FF97FF\",\"#FECB52\"],\"font\":{\"color\":\"#2a3f5f\"},\"geo\":{\"bgcolor\":\"white\",\"lakecolor\":\"white\",\"landcolor\":\"#E5ECF6\",\"showlakes\":true,\"showland\":true,\"subunitcolor\":\"white\"},\"hoverlabel\":{\"align\":\"left\"},\"hovermode\":\"closest\",\"mapbox\":{\"style\":\"light\"},\"paper_bgcolor\":\"white\",\"plot_bgcolor\":\"#E5ECF6\",\"polar\":{\"angularaxis\":{\"gridcolor\":\"white\",\"linecolor\":\"white\",\"ticks\":\"\"},\"bgcolor\":\"#E5ECF6\",\"radialaxis\":{\"gridcolor\":\"white\",\"linecolor\":\"white\",\"ticks\":\"\"}},\"scene\":{\"xaxis\":{\"backgroundcolor\":\"#E5ECF6\",\"gridcolor\":\"white\",\"gridwidth\":2,\"linecolor\":\"white\",\"showbackground\":true,\"ticks\":\"\",\"zerolinecolor\":\"white\"},\"yaxis\":{\"backgroundcolor\":\"#E5ECF6\",\"gridcolor\":\"white\",\"gridwidth\":2,\"linecolor\":\"white\",\"showbackground\":true,\"ticks\":\"\",\"zerolinecolor\":\"white\"},\"zaxis\":{\"backgroundcolor\":\"#E5ECF6\",\"gridcolor\":\"white\",\"gridwidth\":2,\"linecolor\":\"white\",\"showbackground\":true,\"ticks\":\"\",\"zerolinecolor\":\"white\"}},\"shapedefaults\":{\"line\":{\"color\":\"#2a3f5f\"}},\"ternary\":{\"aaxis\":{\"gridcolor\":\"white\",\"linecolor\":\"white\",\"ticks\":\"\"},\"baxis\":{\"gridcolor\":\"white\",\"linecolor\":\"white\",\"ticks\":\"\"},\"bgcolor\":\"#E5ECF6\",\"caxis\":{\"gridcolor\":\"white\",\"linecolor\":\"white\",\"ticks\":\"\"}},\"title\":{\"x\":0.05},\"xaxis\":{\"automargin\":true,\"gridcolor\":\"white\",\"linecolor\":\"white\",\"ticks\":\"\",\"title\":{\"standoff\":15},\"zerolinecolor\":\"white\",\"zerolinewidth\":2},\"yaxis\":{\"automargin\":true,\"gridcolor\":\"white\",\"linecolor\":\"white\",\"ticks\":\"\",\"title\":{\"standoff\":15},\"zerolinecolor\":\"white\",\"zerolinewidth\":2}}}},                        {\"responsive\": true}                    ).then(function(){\n",
              "                            \n",
              "var gd = document.getElementById('637950b8-80de-46c3-b4e7-03f6d6ee0df5');\n",
              "var x = new MutationObserver(function (mutations, observer) {{\n",
              "        var display = window.getComputedStyle(gd).display;\n",
              "        if (!display || display === 'none') {{\n",
              "            console.log([gd, 'removed!']);\n",
              "            Plotly.purge(gd);\n",
              "            observer.disconnect();\n",
              "        }}\n",
              "}});\n",
              "\n",
              "// Listen for the removal of the full notebook cells\n",
              "var notebookContainer = gd.closest('#notebook-container');\n",
              "if (notebookContainer) {{\n",
              "    x.observe(notebookContainer, {childList: true});\n",
              "}}\n",
              "\n",
              "// Listen for the clearing of the current output cell\n",
              "var outputEl = gd.closest('.output');\n",
              "if (outputEl) {{\n",
              "    x.observe(outputEl, {childList: true});\n",
              "}}\n",
              "\n",
              "                        })                };                            </script>        </div>\n",
              "</body>\n",
              "</html>"
            ]
          },
          "metadata": {}
        }
      ]
    },
    {
      "cell_type": "markdown",
      "source": [
        "### Plot the Actual v/s Predicted Without Optimization\n"
      ],
      "metadata": {
        "id": "jSuUNkHSVDXH"
      }
    },
    {
      "cell_type": "code",
      "source": [
        "\n",
        "fig = go.Figure([go.Scatter(x=df['ds'], y=df['y'],mode='lines',\n",
        "                    name='Actual')])\n",
        "#You can add traces using an Express plot by using add_trace\n",
        "fig.add_trace(go.Scatter(x=prediction['ds'], y=prediction['yhat'],\n",
        "                   mode='lines+markers',\n",
        "                    name='predicted'))\n",
        "#To display a figure using the renderers framework, you call the .show() method on a graph object figure, or pass the figure to the plotly.io.show function. \n",
        "#With either approach, plotly.py will display the figure using the current default renderer(s).\n",
        "fig.show()"
      ],
      "metadata": {
        "colab": {
          "base_uri": "https://localhost:8080/",
          "height": 542
        },
        "id": "dbXvnqqnVDXH",
        "outputId": "e8737981-aab7-4387-de50-b9bc6682b13d"
      },
      "execution_count": 60,
      "outputs": [
        {
          "output_type": "display_data",
          "data": {
            "text/html": [
              "<html>\n",
              "<head><meta charset=\"utf-8\" /></head>\n",
              "<body>\n",
              "    <div>            <script src=\"https://cdnjs.cloudflare.com/ajax/libs/mathjax/2.7.5/MathJax.js?config=TeX-AMS-MML_SVG\"></script><script type=\"text/javascript\">if (window.MathJax) {MathJax.Hub.Config({SVG: {font: \"STIX-Web\"}});}</script>                <script type=\"text/javascript\">window.PlotlyConfig = {MathJaxConfig: 'local'};</script>\n",
              "        <script src=\"https://cdn.plot.ly/plotly-2.8.3.min.js\"></script>                <div id=\"734c1bac-861b-4ebf-b1f1-ff19ca472111\" class=\"plotly-graph-div\" style=\"height:525px; width:100%;\"></div>            <script type=\"text/javascript\">                                    window.PLOTLYENV=window.PLOTLYENV || {};                                    if (document.getElementById(\"734c1bac-861b-4ebf-b1f1-ff19ca472111\")) {                    Plotly.newPlot(                        \"734c1bac-861b-4ebf-b1f1-ff19ca472111\",                        [{\"mode\":\"lines\",\"name\":\"Actual\",\"x\":[\"2002-07-08T00:00:00\",\"2002-07-09T00:00:00\",\"2002-07-10T00:00:00\",\"2002-07-11T00:00:00\",\"2002-07-12T00:00:00\",\"2002-07-15T00:00:00\",\"2002-07-16T00:00:00\",\"2002-07-17T00:00:00\",\"2002-07-18T00:00:00\",\"2002-07-19T00:00:00\",\"2002-07-22T00:00:00\",\"2002-07-23T00:00:00\",\"2002-07-24T00:00:00\",\"2002-07-25T00:00:00\",\"2002-07-26T00:00:00\",\"2002-07-29T00:00:00\",\"2002-07-30T00:00:00\",\"2002-07-31T00:00:00\",\"2002-08-01T00:00:00\",\"2002-08-02T00:00:00\",\"2002-08-05T00:00:00\",\"2002-08-06T00:00:00\",\"2002-08-07T00:00:00\",\"2002-08-08T00:00:00\",\"2002-08-09T00:00:00\",\"2002-08-12T00:00:00\",\"2002-08-13T00:00:00\",\"2002-08-14T00:00:00\",\"2002-08-15T00:00:00\",\"2002-08-16T00:00:00\",\"2002-08-19T00:00:00\",\"2002-08-20T00:00:00\",\"2002-08-21T00:00:00\",\"2002-08-22T00:00:00\",\"2002-08-23T00:00:00\",\"2002-08-26T00:00:00\",\"2002-08-27T00:00:00\",\"2002-08-28T00:00:00\",\"2002-08-29T00:00:00\",\"2002-08-30T00:00:00\",\"2002-09-03T00:00:00\",\"2002-09-04T00:00:00\",\"2002-09-05T00:00:00\",\"2002-09-06T00:00:00\",\"2002-09-09T00:00:00\",\"2002-09-10T00:00:00\",\"2002-09-11T00:00:00\",\"2002-09-12T00:00:00\",\"2002-09-13T00:00:00\",\"2002-09-16T00:00:00\",\"2002-09-17T00:00:00\",\"2002-09-18T00:00:00\",\"2002-09-19T00:00:00\",\"2002-09-20T00:00:00\",\"2002-09-23T00:00:00\",\"2002-09-24T00:00:00\",\"2002-09-25T00:00:00\",\"2002-09-26T00:00:00\",\"2002-09-27T00:00:00\",\"2002-09-30T00:00:00\",\"2002-10-01T00:00:00\",\"2002-10-02T00:00:00\",\"2002-10-03T00:00:00\",\"2002-10-04T00:00:00\",\"2002-10-07T00:00:00\",\"2002-10-08T00:00:00\",\"2002-10-09T00:00:00\",\"2002-10-10T00:00:00\",\"2002-10-11T00:00:00\",\"2002-10-14T00:00:00\",\"2002-10-15T00:00:00\",\"2002-10-16T00:00:00\",\"2002-10-17T00:00:00\",\"2002-10-18T00:00:00\",\"2002-10-21T00:00:00\",\"2002-10-22T00:00:00\",\"2002-10-23T00:00:00\",\"2002-10-24T00:00:00\",\"2002-10-25T00:00:00\",\"2002-10-28T00:00:00\",\"2002-10-29T00:00:00\",\"2002-10-30T00:00:00\",\"2002-10-31T00:00:00\",\"2002-11-01T00:00:00\",\"2002-11-04T00:00:00\",\"2002-11-05T00:00:00\",\"2002-11-06T00:00:00\",\"2002-11-07T00:00:00\",\"2002-11-08T00:00:00\",\"2002-11-11T00:00:00\",\"2002-11-12T00:00:00\",\"2002-11-13T00:00:00\",\"2002-11-14T00:00:00\",\"2002-11-15T00:00:00\",\"2002-11-18T00:00:00\",\"2002-11-19T00:00:00\",\"2002-11-20T00:00:00\",\"2002-11-21T00:00:00\",\"2002-11-22T00:00:00\",\"2002-11-25T00:00:00\",\"2002-11-26T00:00:00\",\"2002-11-27T00:00:00\",\"2002-11-29T00:00:00\",\"2002-12-02T00:00:00\",\"2002-12-03T00:00:00\",\"2002-12-04T00:00:00\",\"2002-12-05T00:00:00\",\"2002-12-06T00:00:00\",\"2002-12-09T00:00:00\",\"2002-12-10T00:00:00\",\"2002-12-11T00:00:00\",\"2002-12-12T00:00:00\",\"2002-12-13T00:00:00\",\"2002-12-16T00:00:00\",\"2002-12-17T00:00:00\",\"2002-12-18T00:00:00\",\"2002-12-19T00:00:00\",\"2002-12-20T00:00:00\",\"2002-12-23T00:00:00\",\"2002-12-24T00:00:00\",\"2002-12-26T00:00:00\",\"2002-12-27T00:00:00\",\"2002-12-30T00:00:00\",\"2002-12-31T00:00:00\",\"2003-01-02T00:00:00\",\"2003-01-03T00:00:00\",\"2003-01-06T00:00:00\",\"2003-01-07T00:00:00\",\"2003-01-08T00:00:00\",\"2003-01-09T00:00:00\",\"2003-01-10T00:00:00\",\"2003-01-13T00:00:00\",\"2003-01-14T00:00:00\",\"2003-01-15T00:00:00\",\"2003-01-16T00:00:00\",\"2003-01-17T00:00:00\",\"2003-01-21T00:00:00\",\"2003-01-22T00:00:00\",\"2003-01-23T00:00:00\",\"2003-01-24T00:00:00\",\"2003-01-27T00:00:00\",\"2003-01-28T00:00:00\",\"2003-01-29T00:00:00\",\"2003-01-30T00:00:00\",\"2003-01-31T00:00:00\",\"2003-02-03T00:00:00\",\"2003-02-04T00:00:00\",\"2003-02-05T00:00:00\",\"2003-02-06T00:00:00\",\"2003-02-07T00:00:00\",\"2003-02-10T00:00:00\",\"2003-02-11T00:00:00\",\"2003-02-12T00:00:00\",\"2003-02-13T00:00:00\",\"2003-02-14T00:00:00\",\"2003-02-18T00:00:00\",\"2003-02-19T00:00:00\",\"2003-02-20T00:00:00\",\"2003-02-21T00:00:00\",\"2003-02-24T00:00:00\",\"2003-02-25T00:00:00\",\"2003-02-26T00:00:00\",\"2003-02-27T00:00:00\",\"2003-02-28T00:00:00\",\"2003-03-03T00:00:00\",\"2003-03-04T00:00:00\",\"2003-03-05T00:00:00\",\"2003-03-06T00:00:00\",\"2003-03-07T00:00:00\",\"2003-03-10T00:00:00\",\"2003-03-11T00:00:00\",\"2003-03-12T00:00:00\",\"2003-03-13T00:00:00\",\"2003-03-14T00:00:00\",\"2003-03-17T00:00:00\",\"2003-03-18T00:00:00\",\"2003-03-19T00:00:00\",\"2003-03-20T00:00:00\",\"2003-03-21T00:00:00\",\"2003-03-24T00:00:00\",\"2003-03-25T00:00:00\",\"2003-03-26T00:00:00\",\"2003-03-27T00:00:00\",\"2003-03-28T00:00:00\",\"2003-03-31T00:00:00\",\"2003-04-01T00:00:00\",\"2003-04-02T00:00:00\",\"2003-04-03T00:00:00\",\"2003-04-04T00:00:00\",\"2003-04-07T00:00:00\",\"2003-04-08T00:00:00\",\"2003-04-09T00:00:00\",\"2003-04-10T00:00:00\",\"2003-04-11T00:00:00\",\"2003-04-14T00:00:00\",\"2003-04-15T00:00:00\",\"2003-04-16T00:00:00\",\"2003-04-17T00:00:00\",\"2003-04-21T00:00:00\",\"2003-04-22T00:00:00\",\"2003-04-23T00:00:00\",\"2003-04-24T00:00:00\",\"2003-04-25T00:00:00\",\"2003-04-28T00:00:00\",\"2003-04-29T00:00:00\",\"2003-04-30T00:00:00\",\"2003-05-01T00:00:00\",\"2003-05-02T00:00:00\",\"2003-05-05T00:00:00\",\"2003-05-06T00:00:00\",\"2003-05-07T00:00:00\",\"2003-05-08T00:00:00\",\"2003-05-09T00:00:00\",\"2003-05-12T00:00:00\",\"2003-05-13T00:00:00\",\"2003-05-14T00:00:00\",\"2003-05-15T00:00:00\",\"2003-05-16T00:00:00\",\"2003-05-19T00:00:00\",\"2003-05-20T00:00:00\",\"2003-05-21T00:00:00\",\"2003-05-22T00:00:00\",\"2003-05-23T00:00:00\",\"2003-05-27T00:00:00\",\"2003-05-28T00:00:00\",\"2003-05-29T00:00:00\",\"2003-05-30T00:00:00\",\"2003-06-02T00:00:00\",\"2003-06-03T00:00:00\",\"2003-06-04T00:00:00\",\"2003-06-05T00:00:00\",\"2003-06-06T00:00:00\",\"2003-06-09T00:00:00\",\"2003-06-10T00:00:00\",\"2003-06-11T00:00:00\",\"2003-06-12T00:00:00\",\"2003-06-13T00:00:00\",\"2003-06-16T00:00:00\",\"2003-06-17T00:00:00\",\"2003-06-18T00:00:00\",\"2003-06-19T00:00:00\",\"2003-06-20T00:00:00\",\"2003-06-23T00:00:00\",\"2003-06-24T00:00:00\",\"2003-06-25T00:00:00\",\"2003-06-26T00:00:00\",\"2003-06-27T00:00:00\",\"2003-06-30T00:00:00\",\"2003-07-01T00:00:00\",\"2003-07-02T00:00:00\",\"2003-07-03T00:00:00\",\"2003-07-07T00:00:00\",\"2003-07-08T00:00:00\",\"2003-07-09T00:00:00\",\"2003-07-10T00:00:00\",\"2003-07-11T00:00:00\",\"2003-07-14T00:00:00\",\"2003-07-15T00:00:00\",\"2003-07-16T00:00:00\",\"2003-07-17T00:00:00\",\"2003-07-18T00:00:00\",\"2003-07-21T00:00:00\",\"2003-07-22T00:00:00\",\"2003-07-23T00:00:00\",\"2003-07-24T00:00:00\",\"2003-07-25T00:00:00\",\"2003-07-28T00:00:00\",\"2003-07-29T00:00:00\",\"2003-07-30T00:00:00\",\"2003-07-31T00:00:00\",\"2003-08-01T00:00:00\",\"2003-08-04T00:00:00\",\"2003-08-05T00:00:00\",\"2003-08-06T00:00:00\",\"2003-08-07T00:00:00\",\"2003-08-08T00:00:00\",\"2003-08-11T00:00:00\",\"2003-08-12T00:00:00\",\"2003-08-13T00:00:00\",\"2003-08-14T00:00:00\",\"2003-08-15T00:00:00\",\"2003-08-18T00:00:00\",\"2003-08-19T00:00:00\",\"2003-08-20T00:00:00\",\"2003-08-21T00:00:00\",\"2003-08-22T00:00:00\",\"2003-08-25T00:00:00\",\"2003-08-26T00:00:00\",\"2003-08-27T00:00:00\",\"2003-08-28T00:00:00\",\"2003-08-29T00:00:00\",\"2003-09-02T00:00:00\",\"2003-09-03T00:00:00\",\"2003-09-04T00:00:00\",\"2003-09-05T00:00:00\",\"2003-09-08T00:00:00\",\"2003-09-09T00:00:00\",\"2003-09-10T00:00:00\",\"2003-09-11T00:00:00\",\"2003-09-12T00:00:00\",\"2003-09-15T00:00:00\",\"2003-09-16T00:00:00\",\"2003-09-17T00:00:00\",\"2003-09-18T00:00:00\",\"2003-09-19T00:00:00\",\"2003-09-22T00:00:00\",\"2003-09-23T00:00:00\",\"2003-09-24T00:00:00\",\"2003-09-25T00:00:00\",\"2003-09-26T00:00:00\",\"2003-09-29T00:00:00\",\"2003-09-30T00:00:00\",\"2003-10-01T00:00:00\",\"2003-10-02T00:00:00\",\"2003-10-03T00:00:00\",\"2003-10-06T00:00:00\",\"2003-10-07T00:00:00\",\"2003-10-08T00:00:00\",\"2003-10-09T00:00:00\",\"2003-10-10T00:00:00\",\"2003-10-13T00:00:00\",\"2003-10-14T00:00:00\",\"2003-10-15T00:00:00\",\"2003-10-16T00:00:00\",\"2003-10-17T00:00:00\",\"2003-10-20T00:00:00\",\"2003-10-21T00:00:00\",\"2003-10-22T00:00:00\",\"2003-10-23T00:00:00\",\"2003-10-24T00:00:00\",\"2003-10-27T00:00:00\",\"2003-10-28T00:00:00\",\"2003-10-29T00:00:00\",\"2003-10-30T00:00:00\",\"2003-10-31T00:00:00\",\"2003-11-03T00:00:00\",\"2003-11-04T00:00:00\",\"2003-11-05T00:00:00\",\"2003-11-06T00:00:00\",\"2003-11-07T00:00:00\",\"2003-11-10T00:00:00\",\"2003-11-11T00:00:00\",\"2003-11-12T00:00:00\",\"2003-11-13T00:00:00\",\"2003-11-14T00:00:00\",\"2003-11-17T00:00:00\",\"2003-11-18T00:00:00\",\"2003-11-19T00:00:00\",\"2003-11-20T00:00:00\",\"2003-11-21T00:00:00\",\"2003-11-24T00:00:00\",\"2003-11-25T00:00:00\",\"2003-11-26T00:00:00\",\"2003-11-28T00:00:00\",\"2003-12-01T00:00:00\",\"2003-12-02T00:00:00\",\"2003-12-03T00:00:00\",\"2003-12-04T00:00:00\",\"2003-12-05T00:00:00\",\"2003-12-08T00:00:00\",\"2003-12-09T00:00:00\",\"2003-12-10T00:00:00\",\"2003-12-11T00:00:00\",\"2003-12-12T00:00:00\",\"2003-12-15T00:00:00\",\"2003-12-16T00:00:00\",\"2003-12-17T00:00:00\",\"2003-12-18T00:00:00\",\"2003-12-19T00:00:00\",\"2003-12-22T00:00:00\",\"2003-12-23T00:00:00\",\"2003-12-24T00:00:00\",\"2003-12-26T00:00:00\",\"2003-12-29T00:00:00\",\"2003-12-30T00:00:00\",\"2003-12-31T00:00:00\",\"2004-01-02T00:00:00\",\"2004-01-05T00:00:00\",\"2004-01-06T00:00:00\",\"2004-01-07T00:00:00\",\"2004-01-08T00:00:00\",\"2004-01-09T00:00:00\",\"2004-01-12T00:00:00\",\"2004-01-13T00:00:00\",\"2004-01-14T00:00:00\",\"2004-01-15T00:00:00\",\"2004-01-16T00:00:00\",\"2004-01-20T00:00:00\",\"2004-01-21T00:00:00\",\"2004-01-22T00:00:00\",\"2004-01-23T00:00:00\",\"2004-01-26T00:00:00\",\"2004-01-27T00:00:00\",\"2004-01-28T00:00:00\",\"2004-01-29T00:00:00\",\"2004-01-30T00:00:00\",\"2004-02-02T00:00:00\",\"2004-02-03T00:00:00\",\"2004-02-04T00:00:00\",\"2004-02-05T00:00:00\",\"2004-02-06T00:00:00\",\"2004-02-09T00:00:00\",\"2004-02-10T00:00:00\",\"2004-02-11T00:00:00\",\"2004-02-12T00:00:00\",\"2004-02-13T00:00:00\",\"2004-02-17T00:00:00\",\"2004-02-18T00:00:00\",\"2004-02-19T00:00:00\",\"2004-02-20T00:00:00\",\"2004-02-23T00:00:00\",\"2004-02-24T00:00:00\",\"2004-02-25T00:00:00\",\"2004-02-26T00:00:00\",\"2004-02-27T00:00:00\",\"2004-03-01T00:00:00\",\"2004-03-02T00:00:00\",\"2004-03-03T00:00:00\",\"2004-03-04T00:00:00\",\"2004-03-05T00:00:00\",\"2004-03-08T00:00:00\",\"2004-03-09T00:00:00\",\"2004-03-10T00:00:00\",\"2004-03-11T00:00:00\",\"2004-03-12T00:00:00\",\"2004-03-15T00:00:00\",\"2004-03-16T00:00:00\",\"2004-03-17T00:00:00\",\"2004-03-18T00:00:00\",\"2004-03-19T00:00:00\",\"2004-03-22T00:00:00\",\"2004-03-23T00:00:00\",\"2004-03-24T00:00:00\",\"2004-03-25T00:00:00\",\"2004-03-26T00:00:00\",\"2004-03-29T00:00:00\",\"2004-03-30T00:00:00\",\"2004-03-31T00:00:00\",\"2004-04-01T00:00:00\",\"2004-04-02T00:00:00\",\"2004-04-05T00:00:00\",\"2004-04-06T00:00:00\",\"2004-04-07T00:00:00\",\"2004-04-08T00:00:00\",\"2004-04-12T00:00:00\",\"2004-04-13T00:00:00\",\"2004-04-14T00:00:00\",\"2004-04-15T00:00:00\",\"2004-04-16T00:00:00\",\"2004-04-19T00:00:00\",\"2004-04-20T00:00:00\",\"2004-04-21T00:00:00\",\"2004-04-22T00:00:00\",\"2004-04-23T00:00:00\",\"2004-04-26T00:00:00\",\"2004-04-27T00:00:00\",\"2004-04-28T00:00:00\",\"2004-04-29T00:00:00\",\"2004-04-30T00:00:00\",\"2004-05-03T00:00:00\",\"2004-05-04T00:00:00\",\"2004-05-05T00:00:00\",\"2004-05-06T00:00:00\",\"2004-05-07T00:00:00\",\"2004-05-10T00:00:00\",\"2004-05-11T00:00:00\",\"2004-05-12T00:00:00\",\"2004-05-13T00:00:00\",\"2004-05-14T00:00:00\",\"2004-05-17T00:00:00\",\"2004-05-18T00:00:00\",\"2004-05-19T00:00:00\",\"2004-05-20T00:00:00\",\"2004-05-21T00:00:00\",\"2004-05-24T00:00:00\",\"2004-05-25T00:00:00\",\"2004-05-26T00:00:00\",\"2004-05-27T00:00:00\",\"2004-05-28T00:00:00\",\"2004-06-01T00:00:00\",\"2004-06-02T00:00:00\",\"2004-06-03T00:00:00\",\"2004-06-04T00:00:00\",\"2004-06-07T00:00:00\",\"2004-06-08T00:00:00\",\"2004-06-09T00:00:00\",\"2004-06-10T00:00:00\",\"2004-06-14T00:00:00\",\"2004-06-15T00:00:00\",\"2004-06-16T00:00:00\",\"2004-06-17T00:00:00\",\"2004-06-18T00:00:00\",\"2004-06-21T00:00:00\",\"2004-06-22T00:00:00\",\"2004-06-23T00:00:00\",\"2004-06-24T00:00:00\",\"2004-06-25T00:00:00\",\"2004-06-28T00:00:00\",\"2004-06-29T00:00:00\",\"2004-06-30T00:00:00\",\"2004-07-01T00:00:00\",\"2004-07-02T00:00:00\",\"2004-07-06T00:00:00\",\"2004-07-07T00:00:00\",\"2004-07-08T00:00:00\",\"2004-07-09T00:00:00\",\"2004-07-12T00:00:00\",\"2004-07-13T00:00:00\",\"2004-07-14T00:00:00\",\"2004-07-15T00:00:00\",\"2004-07-16T00:00:00\",\"2004-07-19T00:00:00\",\"2004-07-20T00:00:00\",\"2004-07-21T00:00:00\",\"2004-07-22T00:00:00\",\"2004-07-23T00:00:00\",\"2004-07-26T00:00:00\",\"2004-07-27T00:00:00\",\"2004-07-28T00:00:00\",\"2004-07-29T00:00:00\",\"2004-07-30T00:00:00\",\"2004-08-02T00:00:00\",\"2004-08-03T00:00:00\",\"2004-08-04T00:00:00\",\"2004-08-05T00:00:00\",\"2004-08-06T00:00:00\",\"2004-08-09T00:00:00\",\"2004-08-10T00:00:00\",\"2004-08-11T00:00:00\",\"2004-08-12T00:00:00\",\"2004-08-13T00:00:00\",\"2004-08-16T00:00:00\",\"2004-08-17T00:00:00\",\"2004-08-18T00:00:00\",\"2004-08-19T00:00:00\",\"2004-08-20T00:00:00\",\"2004-08-23T00:00:00\",\"2004-08-24T00:00:00\",\"2004-08-25T00:00:00\",\"2004-08-26T00:00:00\",\"2004-08-27T00:00:00\",\"2004-08-30T00:00:00\",\"2004-08-31T00:00:00\",\"2004-09-01T00:00:00\",\"2004-09-02T00:00:00\",\"2004-09-03T00:00:00\",\"2004-09-07T00:00:00\",\"2004-09-08T00:00:00\",\"2004-09-09T00:00:00\",\"2004-09-10T00:00:00\",\"2004-09-13T00:00:00\",\"2004-09-14T00:00:00\",\"2004-09-15T00:00:00\",\"2004-09-16T00:00:00\",\"2004-09-17T00:00:00\",\"2004-09-20T00:00:00\",\"2004-09-21T00:00:00\",\"2004-09-22T00:00:00\",\"2004-09-23T00:00:00\",\"2004-09-24T00:00:00\",\"2004-09-27T00:00:00\",\"2004-09-28T00:00:00\",\"2004-09-29T00:00:00\",\"2004-09-30T00:00:00\",\"2004-10-01T00:00:00\",\"2004-10-04T00:00:00\",\"2004-10-05T00:00:00\",\"2004-10-06T00:00:00\",\"2004-10-07T00:00:00\",\"2004-10-08T00:00:00\",\"2004-10-11T00:00:00\",\"2004-10-12T00:00:00\",\"2004-10-13T00:00:00\",\"2004-10-14T00:00:00\",\"2004-10-15T00:00:00\",\"2004-10-18T00:00:00\",\"2004-10-19T00:00:00\",\"2004-10-20T00:00:00\",\"2004-10-21T00:00:00\",\"2004-10-22T00:00:00\",\"2004-10-25T00:00:00\",\"2004-10-26T00:00:00\",\"2004-10-27T00:00:00\",\"2004-10-28T00:00:00\",\"2004-10-29T00:00:00\",\"2004-11-01T00:00:00\",\"2004-11-02T00:00:00\",\"2004-11-03T00:00:00\",\"2004-11-04T00:00:00\",\"2004-11-05T00:00:00\",\"2004-11-08T00:00:00\",\"2004-11-09T00:00:00\",\"2004-11-10T00:00:00\",\"2004-11-11T00:00:00\",\"2004-11-12T00:00:00\",\"2004-11-15T00:00:00\",\"2004-11-16T00:00:00\",\"2004-11-17T00:00:00\",\"2004-11-18T00:00:00\",\"2004-11-19T00:00:00\",\"2004-11-22T00:00:00\",\"2004-11-23T00:00:00\",\"2004-11-24T00:00:00\",\"2004-11-26T00:00:00\",\"2004-11-29T00:00:00\",\"2004-11-30T00:00:00\",\"2004-12-01T00:00:00\",\"2004-12-02T00:00:00\",\"2004-12-03T00:00:00\",\"2004-12-06T00:00:00\",\"2004-12-07T00:00:00\",\"2004-12-08T00:00:00\",\"2004-12-09T00:00:00\",\"2004-12-10T00:00:00\",\"2004-12-13T00:00:00\",\"2004-12-14T00:00:00\",\"2004-12-15T00:00:00\",\"2004-12-16T00:00:00\",\"2004-12-17T00:00:00\",\"2004-12-20T00:00:00\",\"2004-12-21T00:00:00\",\"2004-12-22T00:00:00\",\"2004-12-23T00:00:00\",\"2004-12-27T00:00:00\",\"2004-12-28T00:00:00\",\"2004-12-29T00:00:00\",\"2004-12-30T00:00:00\",\"2004-12-31T00:00:00\",\"2005-01-03T00:00:00\",\"2005-01-04T00:00:00\",\"2005-01-05T00:00:00\",\"2005-01-06T00:00:00\",\"2005-01-07T00:00:00\",\"2005-01-10T00:00:00\",\"2005-01-11T00:00:00\",\"2005-01-12T00:00:00\",\"2005-01-13T00:00:00\",\"2005-01-14T00:00:00\",\"2005-01-18T00:00:00\",\"2005-01-19T00:00:00\",\"2005-01-20T00:00:00\",\"2005-01-21T00:00:00\",\"2005-01-24T00:00:00\",\"2005-01-25T00:00:00\",\"2005-01-26T00:00:00\",\"2005-01-27T00:00:00\",\"2005-01-28T00:00:00\",\"2005-01-31T00:00:00\",\"2005-02-01T00:00:00\",\"2005-02-02T00:00:00\",\"2005-02-03T00:00:00\",\"2005-02-04T00:00:00\",\"2005-02-07T00:00:00\",\"2005-02-08T00:00:00\",\"2005-02-09T00:00:00\",\"2005-02-10T00:00:00\",\"2005-02-11T00:00:00\",\"2005-02-14T00:00:00\",\"2005-02-15T00:00:00\",\"2005-02-16T00:00:00\",\"2005-02-17T00:00:00\",\"2005-02-18T00:00:00\",\"2005-02-22T00:00:00\",\"2005-02-23T00:00:00\",\"2005-02-24T00:00:00\",\"2005-02-25T00:00:00\",\"2005-02-28T00:00:00\",\"2005-03-01T00:00:00\",\"2005-03-02T00:00:00\",\"2005-03-03T00:00:00\",\"2005-03-04T00:00:00\",\"2005-03-07T00:00:00\",\"2005-03-08T00:00:00\",\"2005-03-09T00:00:00\",\"2005-03-10T00:00:00\",\"2005-03-11T00:00:00\",\"2005-03-14T00:00:00\",\"2005-03-15T00:00:00\",\"2005-03-16T00:00:00\",\"2005-03-17T00:00:00\",\"2005-03-18T00:00:00\",\"2005-03-21T00:00:00\",\"2005-03-22T00:00:00\",\"2005-03-23T00:00:00\",\"2005-03-24T00:00:00\",\"2005-03-28T00:00:00\",\"2005-03-29T00:00:00\",\"2005-03-30T00:00:00\",\"2005-03-31T00:00:00\",\"2005-04-01T00:00:00\",\"2005-04-04T00:00:00\",\"2005-04-05T00:00:00\",\"2005-04-06T00:00:00\",\"2005-04-07T00:00:00\",\"2005-04-08T00:00:00\",\"2005-04-11T00:00:00\",\"2005-04-12T00:00:00\",\"2005-04-13T00:00:00\",\"2005-04-14T00:00:00\",\"2005-04-15T00:00:00\",\"2005-04-18T00:00:00\",\"2005-04-19T00:00:00\",\"2005-04-20T00:00:00\",\"2005-04-21T00:00:00\",\"2005-04-22T00:00:00\",\"2005-04-25T00:00:00\",\"2005-04-26T00:00:00\",\"2005-04-27T00:00:00\",\"2005-04-28T00:00:00\",\"2005-04-29T00:00:00\",\"2005-05-02T00:00:00\",\"2005-05-03T00:00:00\",\"2005-05-04T00:00:00\",\"2005-05-05T00:00:00\",\"2005-05-06T00:00:00\",\"2005-05-09T00:00:00\",\"2005-05-10T00:00:00\",\"2005-05-11T00:00:00\",\"2005-05-12T00:00:00\",\"2005-05-13T00:00:00\",\"2005-05-16T00:00:00\",\"2005-05-17T00:00:00\",\"2005-05-18T00:00:00\",\"2005-05-19T00:00:00\",\"2005-05-20T00:00:00\",\"2005-05-23T00:00:00\",\"2005-05-24T00:00:00\",\"2005-05-25T00:00:00\",\"2005-05-26T00:00:00\",\"2005-05-27T00:00:00\",\"2005-05-31T00:00:00\",\"2005-06-01T00:00:00\",\"2005-06-02T00:00:00\",\"2005-06-03T00:00:00\",\"2005-06-06T00:00:00\",\"2005-06-07T00:00:00\",\"2005-06-08T00:00:00\",\"2005-06-09T00:00:00\",\"2005-06-10T00:00:00\",\"2005-06-13T00:00:00\",\"2005-06-14T00:00:00\",\"2005-06-15T00:00:00\",\"2005-06-16T00:00:00\",\"2005-06-17T00:00:00\",\"2005-06-20T00:00:00\",\"2005-06-21T00:00:00\",\"2005-06-22T00:00:00\",\"2005-06-23T00:00:00\",\"2005-06-24T00:00:00\",\"2005-06-27T00:00:00\",\"2005-06-28T00:00:00\",\"2005-06-29T00:00:00\",\"2005-06-30T00:00:00\",\"2005-07-01T00:00:00\",\"2005-07-05T00:00:00\"],\"y\":[16.549701690673828,16.640390396118164,16.3370418548584,16.546566009521484,16.218204498291016,16.199440002441406,16.027435302734375,16.261978149414062,15.983657836914062,15.498924255371094,14.857823371887207,13.450532913208008,14.457524299621582,13.394245147705078,14.182324409484863,15.089241981506348,15.042332649230957,15.004805564880371,14.307418823242188,13.888357162475586,13.757012367248535,14.282400131225586,14.72647762298584,15.295649528503418,15.048584938049316,15.158053398132324,14.717092514038086,15.5458345413208,15.564602851867676,15.636523246765137,16.261978149414062,15.961761474609375,16.349546432495117,16.646648406982422,16.330785751342773,16.29326057434082,15.899218559265137,15.442635536193848,15.81790542602539,15.348809242248535,14.70458984375,15.076733589172363,14.357453346252441,14.954771995544434,15.229972839355469,15.570847511291504,15.192442893981934,14.745244979858398,14.982917785644531,14.942255973815918,14.789021492004395,14.932876586914062,14.760875701904297,14.842190742492676,14.144800186157227,14.273022651672363,14.545092582702637,14.448147773742676,14.151055335998535,13.67883014678955,14.457524299621582,14.263636589050293,14.010323524475098,13.688216209411621,13.775778770446777,14.069747924804688,13.757012367248535,14.504437446594238,15.283141136169434,15.41448974609375,16.35266876220703,15.764744758605957,15.877334594726562,16.621625900268555,16.42147445678711,16.15877342224121,16.637252807617188,16.021181106567383,16.474641799926758,16.246339797973633,16.283872604370117,16.609111785888672,16.721694946289062,16.574722290039062,17.54418182373047,17.725553512573242,17.835018157958984,17.516029357910156,17.231449127197266,16.84366226196289,17.04694366455078,17.312755584716797,17.822509765625,17.728696823120117,17.46599578857422,17.15639305114746,17.706796646118164,18.088329315185547,18.207168579101562,18.210298538208008,17.794363021850586,18.16338539123535,18.038297653198242,18.04142189025879,17.734939575195312,17.681781768798828,17.306499481201172,17.347156524658203,16.740467071533203,16.890579223632812,17.09384536743164,16.94061279296875,16.418352127075195,17.037553787231445,17.000036239624023,16.740467071533203,16.609111785888672,16.587228775024414,16.8874454498291,16.83115005493164,16.69667625427246,16.565336227416992,16.496530532836914,16.168169021606445,16.799884796142578,16.821773529052734,17.12824249267578,17.450361251831055,16.962499618530273,17.4534912109375,17.487886428833008,17.634870529174805,17.816259384155273,17.597341537475586,17.30962562561035,16.093107223510742,16.05245590209961,15.949251174926758,16.349546432495117,15.589613914489746,15.376957893371582,15.267497062683105,15.608378410339355,15.08612060546875,14.842190742492676,15.186188697814941,14.7984037399292,14.685819625854492,14.829673767089844,14.566985130310059,14.817169189453125,14.523199081420898,14.523199081420898,14.695208549499512,15.104891777038574,15.611503601074219,15.391894340515137,15.147173881530762,15.454636573791504,15.103255271911621,15.178544998168945,14.814614295959473,14.795790672302246,14.871092796325684,14.770697593688965,14.475777626037598,14.707945823669434,14.601277351379395,14.78324031829834,14.400483131408691,14.306365013122559,14.676572799682617,15.479731559753418,15.598956108093262,16.27035140991211,16.339370727539062,16.51505470275879,16.471145629882812,16.671926498413086,15.868766784667969,15.994258880615234,15.843667984008789,15.711899757385254,15.479731559753418,15.191100120544434,15.27894401550293,16.138580322265625,16.14485740661621,15.743270874023438,15.793474197387695,16.050735473632812,15.416988372802734,15.429540634155273,15.18482494354248,15.536205291748047,15.435812950134277,15.636603355407715,16.000537872314453,15.818565368652344,16.163681030273438,16.138580322265625,15.994258880615234,15.824850082397461,16.151124954223633,16.18877410888672,16.044456481933594,16.138580322265625,16.37702751159668,16.22643280029297,16.546438217163086,16.30799674987793,16.151124954223633,16.540157318115234,16.439760208129883,16.30799674987793,16.075836181640625,16.1824951171875,16.044456481933594,15.536205291748047,15.454636573791504,15.078158378601074,15.159730911254883,15.197376251220703,15.555038452148438,15.316590309143066,15.310318946838379,15.442082405090332,15.460912704467773,15.611505508422852,15.605234146118164,15.115800857543945,14.85226058959961,14.902461051940918,15.486007690429688,15.611505508422852,15.680526733398438,15.467183113098145,15.9315185546875,16.289175033569336,16.358198165893555,16.358198165893555,16.52133560180664,16.17623519897461,16.126035690307617,15.84994125366211,16.157405853271484,16.082109451293945,16.08837890625,16.408395767211914,16.866455078125,16.62801742553711,17.20528793334961,17.380971908569336,17.23665428161621,16.88526725769043,17.13626480102539,17.19273567199707,17.11116600036621,17.26803207397461,16.74723243713379,16.872730255126953,16.339370727539062,16.552711486816406,16.59663963317871,16.314268112182617,16.872730255126953,16.69702911376953,16.609182357788086,16.458593368530273,16.5715274810791,16.420944213867188,16.427221298217773,16.100936889648438,16.09465789794922,16.132314682006836,16.050735473632812,16.069561004638672,16.14485740661621,16.063282012939453,16.082109451293945,16.025632858276367,16.126035690307617,16.703304290771484,16.59663963317871,16.46486473083496,16.452320098876953,16.62801742553711,16.671926498413086,16.577816009521484,16.634281158447266,16.640562057495117,17.104887008666992,17.757448196411133,17.83903694152832,17.807655334472656,18.096296310424805,17.801382064819336,17.28685188293457,17.46881866455078,17.782550811767578,17.795114517211914,18.133943557739258,17.882951736450195,18.510421752929688,18.799062728881836,18.240617752075195,18.57316780090332,17.85785484313965,17.719810485839844,17.688438415527344,18.09001922607422,17.4437255859375,17.89550018310547,17.882951736450195,18.246885299682617,18.3159122467041,18.284536361694336,18.083742141723633,18.159042358398438,18.140220642089844,18.058645248413086,17.995895385742188,18.342947006225586,18.44390106201172,18.254606246948242,18.51961898803711,18.51961898803711,18.229366302490234,18.241992950439453,16.790695190429688,16.979997634887695,17.162988662719727,16.87273597717285,16.481517791748047,16.494142532348633,16.834867477416992,16.44997215270996,16.46889877319336,16.550926208496094,16.46889877319336,16.40579605102539,16.27959632873535,16.393173217773438,16.21019172668457,16.090299606323242,15.869453430175781,15.869453430175781,15.995656967163086,15.837905883789062,15.84421443939209,16.23543357849121,16.027198791503906,16.05875587463379,16.222814559936523,16.304840087890625,16.191261291503906,16.197574615478516,16.531993865966797,16.393173217773438,16.557235717773438,16.64557647705078,16.77808380126953,16.790695190429688,16.81594467163086,16.87273597717285,17.074647903442383,17.06202507019043,17.289182662963867,17.263944625854492,17.15036964416504,17.131439208984375,17.06202507019043,17.169300079345703,17.327051162719727,17.364910125732422,17.270259857177734,17.320741653442383,17.756120681762695,17.81922149658203,17.800289154052734,17.768735885620117,17.453245162963867,17.396459579467773,17.308122634887695,17.478483200073242,17.377519607543945,17.54789924621582,17.730880737304688,17.857072830200195,17.67409324645996,17.970661163330078,18.172576904296875,17.82553482055664,17.48479461669922,17.610992431640625,17.44693946838379,17.289182662963867,17.21977996826172,17.043100357055664,17.011550903320312,17.08727264404297,16.973695755004883,17.04941749572754,17.131439208984375,17.005245208740234,16.77808380126953,17.030485153198242,16.89166259765625,16.696054458618164,16.765464782714844,16.790695190429688,16.961076736450195,16.84749412536621,16.721302032470703,16.74022674560547,16.84749412536621,16.65188217163086,16.63926887512207,16.63926887512207,16.62665557861328,16.29852867126465,16.229116439819336,16.008277893066406,15.831587791442871,16.01458168029785,15.875765800476074,15.888387680053711,15.856836318969727,15.705398559570312,15.541339874267578,15.459309577941895,15.238470077514648,15.402520179748535,15.894697189331055,15.793730735778809,15.970410346984863,15.9010009765625,15.730636596679688,15.825284957885742,16.311153411865234,16.37425422668457,16.27959632873535,16.147092819213867,16.07768440246582,16.15970802307129,16.05875587463379,16.096616744995117,15.913628578186035,15.875765800476074,16.10923194885254,15.983030319213867,16.05875587463379,16.37425422668457,17.377519607543945,17.188228607177734,17.175609588623047,16.759151458740234,16.708675384521484,16.487823486328125,16.62665557861328,16.614025115966797,16.595096588134766,16.481517791748047,16.266983032226562,16.361629486083984,16.367938995361328,16.367938995361328,16.46889877319336,16.317461013793945,16.115549087524414,16.29852867126465,16.16602325439453,16.23543357849121,16.336389541625977,16.25435447692871,16.46889877319336,16.494142532348633,16.525686264038086,16.550926208496094,16.475200653076172,16.487823486328125,16.336389541625977,16.37425422668457,16.677122116088867,16.784393310546875,16.702362060546875,16.89166259765625,16.973695755004883,17.295499801635742,17.23870849609375,17.522659301757812,17.888629913330078,17.888629913330078,17.850770950317383,17.857072830200195,17.913875579833984,18.027448654174805,17.84446144104004,17.983274459838867,18.021141052246094,18.0653018951416,18.027448654174805,17.680404663085938,17.730880737304688,17.440631866455078,17.57944679260254,17.598379135131836,17.415390014648438,17.749813079833984,17.58574867248535,17.339672088623047,17.63623809814453,17.869701385498047,18.210439682006836,18.298770904541016,17.686708450317383,18.084238052368164,17.94542121887207,18.033756256103516,17.970661163330078,17.97696876525879,17.995899200439453,17.711957931518555,17.705644607543945,17.371217727661133,17.1251277923584,17.15036964416504,17.491104125976562,17.295499801635742,16.961076736450195,17.04941749572754,17.093585968017578,17.068342208862305,17.327051162719727,17.112510681152344,17.162988662719727,17.238929748535156,17.238929748535156,17.435108184814453,17.36550521850586,17.378156661987305,17.27690315246582,17.27690315246582,17.333860397338867,17.479421615600586,17.156661987304688,17.31487274169922,17.2515811920166,17.26424789428711,17.39714241027832,17.245264053344727,17.36550521850586,17.20728874206543,17.2515811920166,17.40980339050293,17.40980339050293,17.2515811920166,17.162988662719727,17.308551788330078,17.27058219909668,17.20728874206543,17.257917404174805,17.454103469848633,17.49840545654297,17.878116607666016,17.79584312438965,17.96038055419922,18.055313110351562,17.827489852905273,17.71356964111328,17.757869720458984,17.738889694213867,17.738889694213867,17.593326568603516,17.71356964111328,17.9793701171875,17.833810806274414,18.16289710998535,18.074296951293945,17.555360794067383,17.485746383666992,17.656620025634766,17.8148250579834,17.726228713989258,17.700910568237305,17.770524978637695,17.871782302856445,18.01734733581543,18.352754592895508,18.54894256591797,18.529951095581055,18.840045928955078,18.814733505249023,18.972951889038086,18.96662712097168,19.31929588317871,19.128847122192383,19.16411590576172,19.093585968017578,18.945463180541992,18.797338485717773,18.71269416809082,18.790281295776367,18.76207160949707,18.881982803344727,18.91019058227539,19.22054672241211,19.107694625854492,19.206436157226562,19.276968002319336,19.093585968017578,19.298131942749023,19.206436157226562,19.10064125061035,19.22054672241211,19.206436157226562,19.12179946899414,19.15706443786621,19.015989303588867,19.008934020996094,19.093585968017578,19.02305030822754,19.0512638092041,18.938405990600586,19.008934020996094,18.973674774169922,18.874927520751953,18.846715927124023,18.860816955566406,18.931360244750977,18.889036178588867,18.867876052856445,18.811443328857422,18.903141021728516,18.853761672973633,18.889036178588867,18.529315948486328,18.423503875732422,18.564579010009766,18.324764251708984,18.240123748779297,18.091997146606445,18.10611343383789,18.352977752685547,18.345924377441406,18.41645622253418,18.465831756591797,18.536361694335938,18.61395263671875,18.663328170776367,18.465831756591797,18.564579010009766,18.451725006103516,18.508142471313477,18.388242721557617,18.381189346313477,18.31770896911621,18.345924377441406,18.345924377441406,18.24686622619629,18.147817611694336,18.027538299560547,17.850666046142578,17.82943344116211,17.94971466064453,17.864810943603516,17.801132202148438,17.886035919189453,17.871885299682617,17.80820655822754,17.80820655822754,18.020462036132812,17.970935821533203,17.907255172729492,17.992162704467773,17.751604080200195,17.765750885009766,17.624258041381836,17.426151275634766,17.362472534179688,17.19974708557129,17.12192153930664,16.973337173461914,17.10776710510254,17.178518295288086,17.12192153930664,16.92380714416504,17.093624114990234,17.10069465637207,17.06531524658203,17.143136978149414,17.312942504882812,17.454448699951172,17.758684158325195,17.645479202270508,17.666706085205078,17.914337158203125,17.71624183654785,17.574726104736328,17.305862426757812,17.440296173095703,17.426151275634766,17.20682144165039,17.886035919189453,17.67378044128418,17.68086051940918,17.51812744140625,17.68086051940918,17.29880142211914,17.90018081665039,17.850666046142578,17.942638397216797,17.836509704589844,17.850666046142578,17.843585968017578,17.765750885009766,17.61717987060547,17.624258041381836,17.687929153442383,17.90018081665039,18.091821670532227,18.07052993774414,18.24087142944336,18.397024154663086,18.269254684448242,18.347332000732422,18.276355743408203,18.247974395751953,18.382822036743164,18.50348663330078,18.311845779418945,18.31894302368164,18.304744720458984,18.04923439025879,18.006650924682617,18.10601806640625,18.027944564819336,18.10601806640625,18.04923439025879,17.96405601501465,17.999555587768555,17.928571701049805,17.772432327270508,17.772432327270508,17.822107315063477,17.850500106811523,17.793718338012695,17.96405601501465,17.772432327270508,17.779523849487305,17.793718338012695,17.80790901184082,17.63047218322754,17.53820037841797,17.729843139648438],\"type\":\"scatter\"},{\"mode\":\"lines+markers\",\"name\":\"predicted\",\"x\":[\"2002-07-08T00:00:00\",\"2002-07-09T00:00:00\",\"2002-07-10T00:00:00\",\"2002-07-11T00:00:00\",\"2002-07-12T00:00:00\",\"2002-07-15T00:00:00\",\"2002-07-16T00:00:00\",\"2002-07-17T00:00:00\",\"2002-07-18T00:00:00\",\"2002-07-19T00:00:00\",\"2002-07-22T00:00:00\",\"2002-07-23T00:00:00\",\"2002-07-24T00:00:00\",\"2002-07-25T00:00:00\",\"2002-07-26T00:00:00\",\"2002-07-29T00:00:00\",\"2002-07-30T00:00:00\",\"2002-07-31T00:00:00\",\"2002-08-01T00:00:00\",\"2002-08-02T00:00:00\",\"2002-08-05T00:00:00\",\"2002-08-06T00:00:00\",\"2002-08-07T00:00:00\",\"2002-08-08T00:00:00\",\"2002-08-09T00:00:00\",\"2002-08-12T00:00:00\",\"2002-08-13T00:00:00\",\"2002-08-14T00:00:00\",\"2002-08-15T00:00:00\",\"2002-08-16T00:00:00\",\"2002-08-19T00:00:00\",\"2002-08-20T00:00:00\",\"2002-08-21T00:00:00\",\"2002-08-22T00:00:00\",\"2002-08-23T00:00:00\",\"2002-08-26T00:00:00\",\"2002-08-27T00:00:00\",\"2002-08-28T00:00:00\",\"2002-08-29T00:00:00\",\"2002-08-30T00:00:00\",\"2002-09-03T00:00:00\",\"2002-09-04T00:00:00\",\"2002-09-05T00:00:00\",\"2002-09-06T00:00:00\",\"2002-09-09T00:00:00\",\"2002-09-10T00:00:00\",\"2002-09-11T00:00:00\",\"2002-09-12T00:00:00\",\"2002-09-13T00:00:00\",\"2002-09-16T00:00:00\",\"2002-09-17T00:00:00\",\"2002-09-18T00:00:00\",\"2002-09-19T00:00:00\",\"2002-09-20T00:00:00\",\"2002-09-23T00:00:00\",\"2002-09-24T00:00:00\",\"2002-09-25T00:00:00\",\"2002-09-26T00:00:00\",\"2002-09-27T00:00:00\",\"2002-09-30T00:00:00\",\"2002-10-01T00:00:00\",\"2002-10-02T00:00:00\",\"2002-10-03T00:00:00\",\"2002-10-04T00:00:00\",\"2002-10-07T00:00:00\",\"2002-10-08T00:00:00\",\"2002-10-09T00:00:00\",\"2002-10-10T00:00:00\",\"2002-10-11T00:00:00\",\"2002-10-14T00:00:00\",\"2002-10-15T00:00:00\",\"2002-10-16T00:00:00\",\"2002-10-17T00:00:00\",\"2002-10-18T00:00:00\",\"2002-10-21T00:00:00\",\"2002-10-22T00:00:00\",\"2002-10-23T00:00:00\",\"2002-10-24T00:00:00\",\"2002-10-25T00:00:00\",\"2002-10-28T00:00:00\",\"2002-10-29T00:00:00\",\"2002-10-30T00:00:00\",\"2002-10-31T00:00:00\",\"2002-11-01T00:00:00\",\"2002-11-04T00:00:00\",\"2002-11-05T00:00:00\",\"2002-11-06T00:00:00\",\"2002-11-07T00:00:00\",\"2002-11-08T00:00:00\",\"2002-11-11T00:00:00\",\"2002-11-12T00:00:00\",\"2002-11-13T00:00:00\",\"2002-11-14T00:00:00\",\"2002-11-15T00:00:00\",\"2002-11-18T00:00:00\",\"2002-11-19T00:00:00\",\"2002-11-20T00:00:00\",\"2002-11-21T00:00:00\",\"2002-11-22T00:00:00\",\"2002-11-25T00:00:00\",\"2002-11-26T00:00:00\",\"2002-11-27T00:00:00\",\"2002-11-29T00:00:00\",\"2002-12-02T00:00:00\",\"2002-12-03T00:00:00\",\"2002-12-04T00:00:00\",\"2002-12-05T00:00:00\",\"2002-12-06T00:00:00\",\"2002-12-09T00:00:00\",\"2002-12-10T00:00:00\",\"2002-12-11T00:00:00\",\"2002-12-12T00:00:00\",\"2002-12-13T00:00:00\",\"2002-12-16T00:00:00\",\"2002-12-17T00:00:00\",\"2002-12-18T00:00:00\",\"2002-12-19T00:00:00\",\"2002-12-20T00:00:00\",\"2002-12-23T00:00:00\",\"2002-12-24T00:00:00\",\"2002-12-26T00:00:00\",\"2002-12-27T00:00:00\",\"2002-12-30T00:00:00\",\"2002-12-31T00:00:00\",\"2003-01-02T00:00:00\",\"2003-01-03T00:00:00\",\"2003-01-06T00:00:00\",\"2003-01-07T00:00:00\",\"2003-01-08T00:00:00\",\"2003-01-09T00:00:00\",\"2003-01-10T00:00:00\",\"2003-01-13T00:00:00\",\"2003-01-14T00:00:00\",\"2003-01-15T00:00:00\",\"2003-01-16T00:00:00\",\"2003-01-17T00:00:00\",\"2003-01-21T00:00:00\",\"2003-01-22T00:00:00\",\"2003-01-23T00:00:00\",\"2003-01-24T00:00:00\",\"2003-01-27T00:00:00\",\"2003-01-28T00:00:00\",\"2003-01-29T00:00:00\",\"2003-01-30T00:00:00\",\"2003-01-31T00:00:00\",\"2003-02-03T00:00:00\",\"2003-02-04T00:00:00\",\"2003-02-05T00:00:00\",\"2003-02-06T00:00:00\",\"2003-02-07T00:00:00\",\"2003-02-10T00:00:00\",\"2003-02-11T00:00:00\",\"2003-02-12T00:00:00\",\"2003-02-13T00:00:00\",\"2003-02-14T00:00:00\",\"2003-02-18T00:00:00\",\"2003-02-19T00:00:00\",\"2003-02-20T00:00:00\",\"2003-02-21T00:00:00\",\"2003-02-24T00:00:00\",\"2003-02-25T00:00:00\",\"2003-02-26T00:00:00\",\"2003-02-27T00:00:00\",\"2003-02-28T00:00:00\",\"2003-03-03T00:00:00\",\"2003-03-04T00:00:00\",\"2003-03-05T00:00:00\",\"2003-03-06T00:00:00\",\"2003-03-07T00:00:00\",\"2003-03-10T00:00:00\",\"2003-03-11T00:00:00\",\"2003-03-12T00:00:00\",\"2003-03-13T00:00:00\",\"2003-03-14T00:00:00\",\"2003-03-17T00:00:00\",\"2003-03-18T00:00:00\",\"2003-03-19T00:00:00\",\"2003-03-20T00:00:00\",\"2003-03-21T00:00:00\",\"2003-03-24T00:00:00\",\"2003-03-25T00:00:00\",\"2003-03-26T00:00:00\",\"2003-03-27T00:00:00\",\"2003-03-28T00:00:00\",\"2003-03-31T00:00:00\",\"2003-04-01T00:00:00\",\"2003-04-02T00:00:00\",\"2003-04-03T00:00:00\",\"2003-04-04T00:00:00\",\"2003-04-07T00:00:00\",\"2003-04-08T00:00:00\",\"2003-04-09T00:00:00\",\"2003-04-10T00:00:00\",\"2003-04-11T00:00:00\",\"2003-04-14T00:00:00\",\"2003-04-15T00:00:00\",\"2003-04-16T00:00:00\",\"2003-04-17T00:00:00\",\"2003-04-21T00:00:00\",\"2003-04-22T00:00:00\",\"2003-04-23T00:00:00\",\"2003-04-24T00:00:00\",\"2003-04-25T00:00:00\",\"2003-04-28T00:00:00\",\"2003-04-29T00:00:00\",\"2003-04-30T00:00:00\",\"2003-05-01T00:00:00\",\"2003-05-02T00:00:00\",\"2003-05-05T00:00:00\",\"2003-05-06T00:00:00\",\"2003-05-07T00:00:00\",\"2003-05-08T00:00:00\",\"2003-05-09T00:00:00\",\"2003-05-12T00:00:00\",\"2003-05-13T00:00:00\",\"2003-05-14T00:00:00\",\"2003-05-15T00:00:00\",\"2003-05-16T00:00:00\",\"2003-05-19T00:00:00\",\"2003-05-20T00:00:00\",\"2003-05-21T00:00:00\",\"2003-05-22T00:00:00\",\"2003-05-23T00:00:00\",\"2003-05-27T00:00:00\",\"2003-05-28T00:00:00\",\"2003-05-29T00:00:00\",\"2003-05-30T00:00:00\",\"2003-06-02T00:00:00\",\"2003-06-03T00:00:00\",\"2003-06-04T00:00:00\",\"2003-06-05T00:00:00\",\"2003-06-06T00:00:00\",\"2003-06-09T00:00:00\",\"2003-06-10T00:00:00\",\"2003-06-11T00:00:00\",\"2003-06-12T00:00:00\",\"2003-06-13T00:00:00\",\"2003-06-16T00:00:00\",\"2003-06-17T00:00:00\",\"2003-06-18T00:00:00\",\"2003-06-19T00:00:00\",\"2003-06-20T00:00:00\",\"2003-06-23T00:00:00\",\"2003-06-24T00:00:00\",\"2003-06-25T00:00:00\",\"2003-06-26T00:00:00\",\"2003-06-27T00:00:00\",\"2003-06-30T00:00:00\",\"2003-07-01T00:00:00\",\"2003-07-02T00:00:00\",\"2003-07-03T00:00:00\",\"2003-07-07T00:00:00\",\"2003-07-08T00:00:00\",\"2003-07-09T00:00:00\",\"2003-07-10T00:00:00\",\"2003-07-11T00:00:00\",\"2003-07-14T00:00:00\",\"2003-07-15T00:00:00\",\"2003-07-16T00:00:00\",\"2003-07-17T00:00:00\",\"2003-07-18T00:00:00\",\"2003-07-21T00:00:00\",\"2003-07-22T00:00:00\",\"2003-07-23T00:00:00\",\"2003-07-24T00:00:00\",\"2003-07-25T00:00:00\",\"2003-07-28T00:00:00\",\"2003-07-29T00:00:00\",\"2003-07-30T00:00:00\",\"2003-07-31T00:00:00\",\"2003-08-01T00:00:00\",\"2003-08-04T00:00:00\",\"2003-08-05T00:00:00\",\"2003-08-06T00:00:00\",\"2003-08-07T00:00:00\",\"2003-08-08T00:00:00\",\"2003-08-11T00:00:00\",\"2003-08-12T00:00:00\",\"2003-08-13T00:00:00\",\"2003-08-14T00:00:00\",\"2003-08-15T00:00:00\",\"2003-08-18T00:00:00\",\"2003-08-19T00:00:00\",\"2003-08-20T00:00:00\",\"2003-08-21T00:00:00\",\"2003-08-22T00:00:00\",\"2003-08-25T00:00:00\",\"2003-08-26T00:00:00\",\"2003-08-27T00:00:00\",\"2003-08-28T00:00:00\",\"2003-08-29T00:00:00\",\"2003-09-02T00:00:00\",\"2003-09-03T00:00:00\",\"2003-09-04T00:00:00\",\"2003-09-05T00:00:00\",\"2003-09-08T00:00:00\",\"2003-09-09T00:00:00\",\"2003-09-10T00:00:00\",\"2003-09-11T00:00:00\",\"2003-09-12T00:00:00\",\"2003-09-15T00:00:00\",\"2003-09-16T00:00:00\",\"2003-09-17T00:00:00\",\"2003-09-18T00:00:00\",\"2003-09-19T00:00:00\",\"2003-09-22T00:00:00\",\"2003-09-23T00:00:00\",\"2003-09-24T00:00:00\",\"2003-09-25T00:00:00\",\"2003-09-26T00:00:00\",\"2003-09-29T00:00:00\",\"2003-09-30T00:00:00\",\"2003-10-01T00:00:00\",\"2003-10-02T00:00:00\",\"2003-10-03T00:00:00\",\"2003-10-06T00:00:00\",\"2003-10-07T00:00:00\",\"2003-10-08T00:00:00\",\"2003-10-09T00:00:00\",\"2003-10-10T00:00:00\",\"2003-10-13T00:00:00\",\"2003-10-14T00:00:00\",\"2003-10-15T00:00:00\",\"2003-10-16T00:00:00\",\"2003-10-17T00:00:00\",\"2003-10-20T00:00:00\",\"2003-10-21T00:00:00\",\"2003-10-22T00:00:00\",\"2003-10-23T00:00:00\",\"2003-10-24T00:00:00\",\"2003-10-27T00:00:00\",\"2003-10-28T00:00:00\",\"2003-10-29T00:00:00\",\"2003-10-30T00:00:00\",\"2003-10-31T00:00:00\",\"2003-11-03T00:00:00\",\"2003-11-04T00:00:00\",\"2003-11-05T00:00:00\",\"2003-11-06T00:00:00\",\"2003-11-07T00:00:00\",\"2003-11-10T00:00:00\",\"2003-11-11T00:00:00\",\"2003-11-12T00:00:00\",\"2003-11-13T00:00:00\",\"2003-11-14T00:00:00\",\"2003-11-17T00:00:00\",\"2003-11-18T00:00:00\",\"2003-11-19T00:00:00\",\"2003-11-20T00:00:00\",\"2003-11-21T00:00:00\",\"2003-11-24T00:00:00\",\"2003-11-25T00:00:00\",\"2003-11-26T00:00:00\",\"2003-11-28T00:00:00\",\"2003-12-01T00:00:00\",\"2003-12-02T00:00:00\",\"2003-12-03T00:00:00\",\"2003-12-04T00:00:00\",\"2003-12-05T00:00:00\",\"2003-12-08T00:00:00\",\"2003-12-09T00:00:00\",\"2003-12-10T00:00:00\",\"2003-12-11T00:00:00\",\"2003-12-12T00:00:00\",\"2003-12-15T00:00:00\",\"2003-12-16T00:00:00\",\"2003-12-17T00:00:00\",\"2003-12-18T00:00:00\",\"2003-12-19T00:00:00\",\"2003-12-22T00:00:00\",\"2003-12-23T00:00:00\",\"2003-12-24T00:00:00\",\"2003-12-26T00:00:00\",\"2003-12-29T00:00:00\",\"2003-12-30T00:00:00\",\"2003-12-31T00:00:00\",\"2004-01-02T00:00:00\",\"2004-01-05T00:00:00\",\"2004-01-06T00:00:00\",\"2004-01-07T00:00:00\",\"2004-01-08T00:00:00\",\"2004-01-09T00:00:00\",\"2004-01-12T00:00:00\",\"2004-01-13T00:00:00\",\"2004-01-14T00:00:00\",\"2004-01-15T00:00:00\",\"2004-01-16T00:00:00\",\"2004-01-20T00:00:00\",\"2004-01-21T00:00:00\",\"2004-01-22T00:00:00\",\"2004-01-23T00:00:00\",\"2004-01-26T00:00:00\",\"2004-01-27T00:00:00\",\"2004-01-28T00:00:00\",\"2004-01-29T00:00:00\",\"2004-01-30T00:00:00\",\"2004-02-02T00:00:00\",\"2004-02-03T00:00:00\",\"2004-02-04T00:00:00\",\"2004-02-05T00:00:00\",\"2004-02-06T00:00:00\",\"2004-02-09T00:00:00\",\"2004-02-10T00:00:00\",\"2004-02-11T00:00:00\",\"2004-02-12T00:00:00\",\"2004-02-13T00:00:00\",\"2004-02-17T00:00:00\",\"2004-02-18T00:00:00\",\"2004-02-19T00:00:00\",\"2004-02-20T00:00:00\",\"2004-02-23T00:00:00\",\"2004-02-24T00:00:00\",\"2004-02-25T00:00:00\",\"2004-02-26T00:00:00\",\"2004-02-27T00:00:00\",\"2004-03-01T00:00:00\",\"2004-03-02T00:00:00\",\"2004-03-03T00:00:00\",\"2004-03-04T00:00:00\",\"2004-03-05T00:00:00\",\"2004-03-08T00:00:00\",\"2004-03-09T00:00:00\",\"2004-03-10T00:00:00\",\"2004-03-11T00:00:00\",\"2004-03-12T00:00:00\",\"2004-03-15T00:00:00\",\"2004-03-16T00:00:00\",\"2004-03-17T00:00:00\",\"2004-03-18T00:00:00\",\"2004-03-19T00:00:00\",\"2004-03-22T00:00:00\",\"2004-03-23T00:00:00\",\"2004-03-24T00:00:00\",\"2004-03-25T00:00:00\",\"2004-03-26T00:00:00\",\"2004-03-29T00:00:00\",\"2004-03-30T00:00:00\",\"2004-03-31T00:00:00\",\"2004-04-01T00:00:00\",\"2004-04-02T00:00:00\",\"2004-04-05T00:00:00\",\"2004-04-06T00:00:00\",\"2004-04-07T00:00:00\",\"2004-04-08T00:00:00\",\"2004-04-12T00:00:00\",\"2004-04-13T00:00:00\",\"2004-04-14T00:00:00\",\"2004-04-15T00:00:00\",\"2004-04-16T00:00:00\",\"2004-04-19T00:00:00\",\"2004-04-20T00:00:00\",\"2004-04-21T00:00:00\",\"2004-04-22T00:00:00\",\"2004-04-23T00:00:00\",\"2004-04-26T00:00:00\",\"2004-04-27T00:00:00\",\"2004-04-28T00:00:00\",\"2004-04-29T00:00:00\",\"2004-04-30T00:00:00\",\"2004-05-03T00:00:00\",\"2004-05-04T00:00:00\",\"2004-05-05T00:00:00\",\"2004-05-06T00:00:00\",\"2004-05-07T00:00:00\",\"2004-05-10T00:00:00\",\"2004-05-11T00:00:00\",\"2004-05-12T00:00:00\",\"2004-05-13T00:00:00\",\"2004-05-14T00:00:00\",\"2004-05-17T00:00:00\",\"2004-05-18T00:00:00\",\"2004-05-19T00:00:00\",\"2004-05-20T00:00:00\",\"2004-05-21T00:00:00\",\"2004-05-24T00:00:00\",\"2004-05-25T00:00:00\",\"2004-05-26T00:00:00\",\"2004-05-27T00:00:00\",\"2004-05-28T00:00:00\",\"2004-06-01T00:00:00\",\"2004-06-02T00:00:00\",\"2004-06-03T00:00:00\",\"2004-06-04T00:00:00\",\"2004-06-07T00:00:00\",\"2004-06-08T00:00:00\",\"2004-06-09T00:00:00\",\"2004-06-10T00:00:00\",\"2004-06-14T00:00:00\",\"2004-06-15T00:00:00\",\"2004-06-16T00:00:00\",\"2004-06-17T00:00:00\",\"2004-06-18T00:00:00\",\"2004-06-21T00:00:00\",\"2004-06-22T00:00:00\",\"2004-06-23T00:00:00\",\"2004-06-24T00:00:00\",\"2004-06-25T00:00:00\",\"2004-06-28T00:00:00\",\"2004-06-29T00:00:00\",\"2004-06-30T00:00:00\",\"2004-07-01T00:00:00\",\"2004-07-02T00:00:00\",\"2004-07-06T00:00:00\",\"2004-07-07T00:00:00\",\"2004-07-08T00:00:00\",\"2004-07-09T00:00:00\",\"2004-07-12T00:00:00\",\"2004-07-13T00:00:00\",\"2004-07-14T00:00:00\",\"2004-07-15T00:00:00\",\"2004-07-16T00:00:00\",\"2004-07-19T00:00:00\",\"2004-07-20T00:00:00\",\"2004-07-21T00:00:00\",\"2004-07-22T00:00:00\",\"2004-07-23T00:00:00\",\"2004-07-26T00:00:00\",\"2004-07-27T00:00:00\",\"2004-07-28T00:00:00\",\"2004-07-29T00:00:00\",\"2004-07-30T00:00:00\",\"2004-08-02T00:00:00\",\"2004-08-03T00:00:00\",\"2004-08-04T00:00:00\",\"2004-08-05T00:00:00\",\"2004-08-06T00:00:00\",\"2004-08-09T00:00:00\",\"2004-08-10T00:00:00\",\"2004-08-11T00:00:00\",\"2004-08-12T00:00:00\",\"2004-08-13T00:00:00\",\"2004-08-16T00:00:00\",\"2004-08-17T00:00:00\",\"2004-08-18T00:00:00\",\"2004-08-19T00:00:00\",\"2004-08-20T00:00:00\",\"2004-08-23T00:00:00\",\"2004-08-24T00:00:00\",\"2004-08-25T00:00:00\",\"2004-08-26T00:00:00\",\"2004-08-27T00:00:00\",\"2004-08-30T00:00:00\",\"2004-08-31T00:00:00\",\"2004-09-01T00:00:00\",\"2004-09-02T00:00:00\",\"2004-09-03T00:00:00\",\"2004-09-07T00:00:00\",\"2004-09-08T00:00:00\",\"2004-09-09T00:00:00\",\"2004-09-10T00:00:00\",\"2004-09-13T00:00:00\",\"2004-09-14T00:00:00\",\"2004-09-15T00:00:00\",\"2004-09-16T00:00:00\",\"2004-09-17T00:00:00\",\"2004-09-20T00:00:00\",\"2004-09-21T00:00:00\",\"2004-09-22T00:00:00\",\"2004-09-23T00:00:00\",\"2004-09-24T00:00:00\",\"2004-09-27T00:00:00\",\"2004-09-28T00:00:00\",\"2004-09-29T00:00:00\",\"2004-09-30T00:00:00\",\"2004-10-01T00:00:00\",\"2004-10-04T00:00:00\",\"2004-10-05T00:00:00\",\"2004-10-06T00:00:00\",\"2004-10-07T00:00:00\",\"2004-10-08T00:00:00\",\"2004-10-11T00:00:00\",\"2004-10-12T00:00:00\",\"2004-10-13T00:00:00\",\"2004-10-14T00:00:00\",\"2004-10-15T00:00:00\",\"2004-10-18T00:00:00\",\"2004-10-19T00:00:00\",\"2004-10-20T00:00:00\",\"2004-10-21T00:00:00\",\"2004-10-22T00:00:00\",\"2004-10-25T00:00:00\",\"2004-10-26T00:00:00\",\"2004-10-27T00:00:00\",\"2004-10-28T00:00:00\",\"2004-10-29T00:00:00\",\"2004-11-01T00:00:00\",\"2004-11-02T00:00:00\",\"2004-11-03T00:00:00\",\"2004-11-04T00:00:00\",\"2004-11-05T00:00:00\",\"2004-11-08T00:00:00\",\"2004-11-09T00:00:00\",\"2004-11-10T00:00:00\",\"2004-11-11T00:00:00\",\"2004-11-12T00:00:00\",\"2004-11-15T00:00:00\",\"2004-11-16T00:00:00\",\"2004-11-17T00:00:00\",\"2004-11-18T00:00:00\",\"2004-11-19T00:00:00\",\"2004-11-22T00:00:00\",\"2004-11-23T00:00:00\",\"2004-11-24T00:00:00\",\"2004-11-26T00:00:00\",\"2004-11-29T00:00:00\",\"2004-11-30T00:00:00\",\"2004-12-01T00:00:00\",\"2004-12-02T00:00:00\",\"2004-12-03T00:00:00\",\"2004-12-06T00:00:00\",\"2004-12-07T00:00:00\",\"2004-12-08T00:00:00\",\"2004-12-09T00:00:00\",\"2004-12-10T00:00:00\",\"2004-12-13T00:00:00\",\"2004-12-14T00:00:00\",\"2004-12-15T00:00:00\",\"2004-12-16T00:00:00\",\"2004-12-17T00:00:00\",\"2004-12-20T00:00:00\",\"2004-12-21T00:00:00\",\"2004-12-22T00:00:00\",\"2004-12-23T00:00:00\",\"2004-12-27T00:00:00\",\"2004-12-28T00:00:00\",\"2004-12-29T00:00:00\",\"2004-12-30T00:00:00\",\"2004-12-31T00:00:00\",\"2005-01-03T00:00:00\",\"2005-01-04T00:00:00\",\"2005-01-05T00:00:00\",\"2005-01-06T00:00:00\",\"2005-01-07T00:00:00\",\"2005-01-10T00:00:00\",\"2005-01-11T00:00:00\",\"2005-01-12T00:00:00\",\"2005-01-13T00:00:00\",\"2005-01-14T00:00:00\",\"2005-01-18T00:00:00\",\"2005-01-19T00:00:00\",\"2005-01-20T00:00:00\",\"2005-01-21T00:00:00\",\"2005-01-24T00:00:00\",\"2005-01-25T00:00:00\",\"2005-01-26T00:00:00\",\"2005-01-27T00:00:00\",\"2005-01-28T00:00:00\",\"2005-01-31T00:00:00\",\"2005-02-01T00:00:00\",\"2005-02-02T00:00:00\",\"2005-02-03T00:00:00\",\"2005-02-04T00:00:00\",\"2005-02-07T00:00:00\",\"2005-02-08T00:00:00\",\"2005-02-09T00:00:00\",\"2005-02-10T00:00:00\",\"2005-02-11T00:00:00\",\"2005-02-14T00:00:00\",\"2005-02-15T00:00:00\",\"2005-02-16T00:00:00\",\"2005-02-17T00:00:00\",\"2005-02-18T00:00:00\",\"2005-02-22T00:00:00\",\"2005-02-23T00:00:00\",\"2005-02-24T00:00:00\",\"2005-02-25T00:00:00\",\"2005-02-28T00:00:00\",\"2005-03-01T00:00:00\",\"2005-03-02T00:00:00\",\"2005-03-03T00:00:00\",\"2005-03-04T00:00:00\",\"2005-03-07T00:00:00\",\"2005-03-08T00:00:00\",\"2005-03-09T00:00:00\",\"2005-03-10T00:00:00\",\"2005-03-11T00:00:00\",\"2005-03-14T00:00:00\",\"2005-03-15T00:00:00\",\"2005-03-16T00:00:00\",\"2005-03-17T00:00:00\",\"2005-03-18T00:00:00\",\"2005-03-21T00:00:00\",\"2005-03-22T00:00:00\",\"2005-03-23T00:00:00\",\"2005-03-24T00:00:00\",\"2005-03-28T00:00:00\",\"2005-03-29T00:00:00\",\"2005-03-30T00:00:00\",\"2005-03-31T00:00:00\",\"2005-04-01T00:00:00\",\"2005-04-04T00:00:00\",\"2005-04-05T00:00:00\",\"2005-04-06T00:00:00\",\"2005-04-07T00:00:00\",\"2005-04-08T00:00:00\",\"2005-04-11T00:00:00\",\"2005-04-12T00:00:00\",\"2005-04-13T00:00:00\",\"2005-04-14T00:00:00\",\"2005-04-15T00:00:00\",\"2005-04-18T00:00:00\",\"2005-04-19T00:00:00\",\"2005-04-20T00:00:00\",\"2005-04-21T00:00:00\",\"2005-04-22T00:00:00\",\"2005-04-25T00:00:00\",\"2005-04-26T00:00:00\",\"2005-04-27T00:00:00\",\"2005-04-28T00:00:00\",\"2005-04-29T00:00:00\",\"2005-05-02T00:00:00\",\"2005-05-03T00:00:00\",\"2005-05-04T00:00:00\",\"2005-05-05T00:00:00\",\"2005-05-06T00:00:00\",\"2005-05-09T00:00:00\",\"2005-05-10T00:00:00\",\"2005-05-11T00:00:00\",\"2005-05-12T00:00:00\",\"2005-05-13T00:00:00\",\"2005-05-16T00:00:00\",\"2005-05-17T00:00:00\",\"2005-05-18T00:00:00\",\"2005-05-19T00:00:00\",\"2005-05-20T00:00:00\",\"2005-05-23T00:00:00\",\"2005-05-24T00:00:00\",\"2005-05-25T00:00:00\",\"2005-05-26T00:00:00\",\"2005-05-27T00:00:00\",\"2005-05-31T00:00:00\",\"2005-06-01T00:00:00\",\"2005-06-02T00:00:00\",\"2005-06-03T00:00:00\",\"2005-06-06T00:00:00\",\"2005-06-07T00:00:00\",\"2005-06-08T00:00:00\",\"2005-06-09T00:00:00\",\"2005-06-10T00:00:00\",\"2005-06-13T00:00:00\",\"2005-06-14T00:00:00\",\"2005-06-15T00:00:00\",\"2005-06-16T00:00:00\",\"2005-06-17T00:00:00\",\"2005-06-20T00:00:00\",\"2005-06-21T00:00:00\",\"2005-06-22T00:00:00\",\"2005-06-23T00:00:00\",\"2005-06-24T00:00:00\",\"2005-06-27T00:00:00\",\"2005-06-28T00:00:00\",\"2005-06-29T00:00:00\",\"2005-06-30T00:00:00\",\"2005-07-01T00:00:00\",\"2005-07-05T00:00:00\",\"2005-07-06T00:00:00\",\"2005-07-07T00:00:00\",\"2005-07-08T00:00:00\",\"2005-07-09T00:00:00\",\"2005-07-10T00:00:00\",\"2005-07-11T00:00:00\",\"2005-07-12T00:00:00\",\"2005-07-13T00:00:00\",\"2005-07-14T00:00:00\",\"2005-07-15T00:00:00\",\"2005-07-16T00:00:00\",\"2005-07-17T00:00:00\",\"2005-07-18T00:00:00\",\"2005-07-19T00:00:00\",\"2005-07-20T00:00:00\",\"2005-07-21T00:00:00\",\"2005-07-22T00:00:00\",\"2005-07-23T00:00:00\",\"2005-07-24T00:00:00\",\"2005-07-25T00:00:00\",\"2005-07-26T00:00:00\",\"2005-07-27T00:00:00\",\"2005-07-28T00:00:00\",\"2005-07-29T00:00:00\",\"2005-07-30T00:00:00\",\"2005-07-31T00:00:00\",\"2005-08-01T00:00:00\",\"2005-08-02T00:00:00\",\"2005-08-03T00:00:00\",\"2005-08-04T00:00:00\",\"2005-08-05T00:00:00\",\"2005-08-06T00:00:00\",\"2005-08-07T00:00:00\",\"2005-08-08T00:00:00\",\"2005-08-09T00:00:00\",\"2005-08-10T00:00:00\",\"2005-08-11T00:00:00\",\"2005-08-12T00:00:00\",\"2005-08-13T00:00:00\",\"2005-08-14T00:00:00\",\"2005-08-15T00:00:00\",\"2005-08-16T00:00:00\",\"2005-08-17T00:00:00\",\"2005-08-18T00:00:00\",\"2005-08-19T00:00:00\",\"2005-08-20T00:00:00\",\"2005-08-21T00:00:00\",\"2005-08-22T00:00:00\",\"2005-08-23T00:00:00\",\"2005-08-24T00:00:00\",\"2005-08-25T00:00:00\",\"2005-08-26T00:00:00\",\"2005-08-27T00:00:00\",\"2005-08-28T00:00:00\",\"2005-08-29T00:00:00\",\"2005-08-30T00:00:00\",\"2005-08-31T00:00:00\",\"2005-09-01T00:00:00\",\"2005-09-02T00:00:00\",\"2005-09-03T00:00:00\",\"2005-09-04T00:00:00\",\"2005-09-05T00:00:00\",\"2005-09-06T00:00:00\",\"2005-09-07T00:00:00\",\"2005-09-08T00:00:00\",\"2005-09-09T00:00:00\",\"2005-09-10T00:00:00\",\"2005-09-11T00:00:00\",\"2005-09-12T00:00:00\",\"2005-09-13T00:00:00\",\"2005-09-14T00:00:00\",\"2005-09-15T00:00:00\",\"2005-09-16T00:00:00\",\"2005-09-17T00:00:00\",\"2005-09-18T00:00:00\",\"2005-09-19T00:00:00\",\"2005-09-20T00:00:00\",\"2005-09-21T00:00:00\",\"2005-09-22T00:00:00\",\"2005-09-23T00:00:00\",\"2005-09-24T00:00:00\",\"2005-09-25T00:00:00\",\"2005-09-26T00:00:00\",\"2005-09-27T00:00:00\",\"2005-09-28T00:00:00\",\"2005-09-29T00:00:00\",\"2005-09-30T00:00:00\",\"2005-10-01T00:00:00\",\"2005-10-02T00:00:00\",\"2005-10-03T00:00:00\",\"2005-10-04T00:00:00\",\"2005-10-05T00:00:00\",\"2005-10-06T00:00:00\",\"2005-10-07T00:00:00\",\"2005-10-08T00:00:00\",\"2005-10-09T00:00:00\",\"2005-10-10T00:00:00\",\"2005-10-11T00:00:00\",\"2005-10-12T00:00:00\",\"2005-10-13T00:00:00\",\"2005-10-14T00:00:00\",\"2005-10-15T00:00:00\",\"2005-10-16T00:00:00\",\"2005-10-17T00:00:00\",\"2005-10-18T00:00:00\",\"2005-10-19T00:00:00\",\"2005-10-20T00:00:00\",\"2005-10-21T00:00:00\",\"2005-10-22T00:00:00\",\"2005-10-23T00:00:00\",\"2005-10-24T00:00:00\",\"2005-10-25T00:00:00\",\"2005-10-26T00:00:00\",\"2005-10-27T00:00:00\",\"2005-10-28T00:00:00\",\"2005-10-29T00:00:00\",\"2005-10-30T00:00:00\",\"2005-10-31T00:00:00\",\"2005-11-01T00:00:00\",\"2005-11-02T00:00:00\",\"2005-11-03T00:00:00\",\"2005-11-04T00:00:00\",\"2005-11-05T00:00:00\",\"2005-11-06T00:00:00\",\"2005-11-07T00:00:00\",\"2005-11-08T00:00:00\",\"2005-11-09T00:00:00\",\"2005-11-10T00:00:00\",\"2005-11-11T00:00:00\",\"2005-11-12T00:00:00\",\"2005-11-13T00:00:00\",\"2005-11-14T00:00:00\",\"2005-11-15T00:00:00\",\"2005-11-16T00:00:00\",\"2005-11-17T00:00:00\",\"2005-11-18T00:00:00\",\"2005-11-19T00:00:00\",\"2005-11-20T00:00:00\",\"2005-11-21T00:00:00\",\"2005-11-22T00:00:00\",\"2005-11-23T00:00:00\",\"2005-11-24T00:00:00\",\"2005-11-25T00:00:00\",\"2005-11-26T00:00:00\",\"2005-11-27T00:00:00\",\"2005-11-28T00:00:00\",\"2005-11-29T00:00:00\",\"2005-11-30T00:00:00\",\"2005-12-01T00:00:00\",\"2005-12-02T00:00:00\"],\"y\":[15.482865173845388,15.49695039901332,15.535159127096092,15.534299500675484,15.506045531315495,15.528053903582549,15.497442811020312,15.491418544752403,15.447493728814084,15.378035861835642,15.294069609646552,15.235919978328804,15.207037517689635,15.145286173510318,15.063293319185657,14.974607202612185,14.925726771174528,14.911231303192197,14.868665305165662,14.810254733859617,14.813655185423228,14.800639452537514,14.82353329777906,14.819220156277423,14.799266825902244,14.912968586083764,14.933110237973409,14.986521708835848,15.009677681626059,15.013806223684417,15.177162089014631,15.205948578362728,15.264049349375355,15.288042354026189,15.289321651766295,15.424470962363731,15.438334333831678,15.479344822963304,15.484465043469779,15.46548130953181,15.5272366430012,15.546680384432015,15.530974050594931,15.492175119548175,15.510925449743603,15.489080418962622,15.496705543960708,15.471146436348636,15.424515280612196,15.432081655382841,15.410573264094582,15.420503892488815,15.399158928359372,15.358577695622868,15.394410370229325,15.385343916995527,15.409024181692825,15.402599256559462,15.377960097941724,15.46609613225637,15.475347622791054,15.517455897527807,15.529355637612047,15.522716965842184,15.660640745663983,15.684329102579566,15.739431444810103,15.762681776202042,15.765567472374624,15.919646398511956,15.944246890360853,15.997948500609853,16.01750026861646,16.014448215128432,16.138531653281202,16.149706681905542,16.188686013537033,16.19252038324833,16.17308448962198,16.247563997240373,16.24326698766182,16.267898107095426,16.258836593131573,16.22825546182185,16.28216706672998,16.275837201325277,16.300968177906842,16.29491701515512,16.26976912070065,16.35268743821706,16.359358698310885,16.398578520604673,16.40729708575994,16.397166295813275,16.522115962632647,16.54031495659619,16.589137240033732,16.603302845092195,16.59603865794152,16.71205959378181,16.721125746760283,16.757778423840634,16.735649853367278,16.791494432138556,16.777713390569996,16.790955486693075,16.768508804181323,16.722507000915186,16.718359139541807,16.689150255225943,16.689969604506853,16.658440763372365,16.606953791579215,16.60915613838474,16.58959656319884,16.603554188301754,16.588345145562318,16.55596563074007,16.62717513053612,16.632547696002746,16.680156719044053,16.67037311874243,16.794523507678683,16.81078784900904,16.86755858810654,16.855530209434583,16.944732269159022,16.94031471293399,16.961128801509727,16.94392724245496,16.900332521689847,16.88185244978312,16.839436833330687,16.822373704093398,16.768121179840136,16.688984981926133,16.513046339325772,16.47641453506386,16.40693716099205,16.317084275443385,16.202219055090367,16.143084936307368,16.11721875528336,16.06194592309405,15.989273948576612,15.938481821807716,15.902973372438398,15.900898425517406,15.869024005315596,15.818833869152314,15.825520681704102,15.804685420366395,15.814645486410607,15.792052047588014,15.748355363309487,15.734353286137827,15.739000814507719,15.709588649572009,15.657949417702254,15.641693950896277,15.608975292749603,15.606015929444736,15.570133948391844,15.513430127416429,15.492256822722876,15.461634038466082,15.462636616253253,15.432490977643724,15.383151255318017,15.391685073427178,15.372615578893157,15.385501559377172,15.367262720588137,15.329554657575878,15.368673657544472,15.35764492042617,15.377244272849325,15.364316929064932,15.330498312359005,15.373362602838505,15.361396958983196,15.379304326620627,15.364184329539098,15.327949826111949,15.365146334223155,15.35276967121591,15.371435690140668,15.35845580330546,15.325912281617558,15.38441845319913,15.382585567897411,15.413382663040885,15.413954434087781,15.396162695889837,15.50323500523492,15.517889224953828,15.564697565572075,15.580417482374521,15.71437358390904,15.73465276272663,15.784395842126276,15.800221025755723,15.793534124471144,15.905790398075343,15.912222068629848,15.945818910729793,15.943497951065083,15.91700894499552,15.96384973236113,15.947873924510167,15.959471286017907,15.93596727228385,15.889494497719248,15.88684049968698,15.858699437905585,15.860583767399284,15.829901121395043,15.778805721157187,15.776971669979972,15.753525410472609,15.761970299196344,15.739458408296118,15.697868309425564,15.71826729805185,15.738710284505746,15.727974584485633,15.697772444643903,15.76042976892108,15.758058622381693,15.787015546124909,15.78434873109996,15.761906729947682,15.847746015818856,15.853727257925184,15.891683053063677,15.89884521030355,15.887221757525994,16.012512235533453,16.03410080386524,16.08882290981102,16.11378292043155,16.120803142301742,16.304415860168493,16.345104959223306,16.418091719765314,16.46004143981606,16.482325620946895,16.696938370033845,16.74165944267067,16.81493797825648,16.853166470617584,17.032117379132973,17.051572533007825,17.095574142834042,17.100819036816365,17.078861178926,17.119627491393764,17.09479094139329,17.094090372081713,17.05492028806708,16.989539595632188,16.912842679194355,16.85523888608428,16.825894654665408,16.76265992239415,16.678166747228325,16.576197646412094,16.521153458379224,16.49975941102691,16.44965878931829,16.383185946057235,16.360411945788133,16.33841568143261,16.352402926385647,16.339372223856316,16.310998446865238,16.4021585312755,16.415947025862234,16.46368002954856,16.48186783921564,16.481759875409583,16.636802503448955,16.664221210900347,16.721596186463337,16.745455077772213,16.747133997658466,16.88602348438405,16.901744167779416,16.944796258115225,16.952071069593806,16.93195605200968,16.988399074204608,17.006055863210232,16.98829465503239,16.947141402353076,16.956804879291404,16.931207698569498,16.934706957736996,16.904647346340862,16.85314371046474,16.84393231622089,16.81614757488481,16.819483455839137,16.791242252915985,16.743481955754273,16.75629380027599,16.739139636251526,16.754570343615317,16.739764298850062,16.706644911247718,16.769101565622012,16.769841708697015,16.803530539031684,16.8071446632199,16.79239622462988,16.899740088299342,16.913847787658494,16.959730379295483,16.9741478895627,16.96860803261569,17.09995641621721,17.117825164373453,17.165195513676917,17.178790768015432,17.17012303472967,17.27895242135867,17.28539074064823,17.319703251435957,17.31887333420596,17.294707116392075,17.353929474221985,17.343984915475602,17.36259847927119,17.34710760432974,17.309653130260408,17.34012392817988,17.325047273908883,17.340998924582856,17.32537426620515,17.29030817773976,17.34204139517381,17.338090548600697,17.36671190364985,17.364941036020152,17.344514232185386,17.440518129485746,17.449940848953638,17.49051079061239,17.498858702924274,17.48635551601957,17.590110623517898,17.596155243203874,17.630241298195163,17.60406250093954,17.65521835061904,17.639845557621296,17.651307654725848,17.62679085204516,17.578332342713374,17.56366494198867,17.52968399305537,17.5250277405594,17.48730258010939,17.4342551720542,17.427740727395687,17.40411280095398,17.413552021589595,17.393473873843774,17.35598456146173,17.411624330572515,17.412142233258376,17.446437580693157,17.438079036144135,17.55638175577915,17.572354072374587,17.61850867678855,17.621496983837822,17.72242692412876,17.723241008787088,17.749784723662618,17.73869436695691,17.701467441920354,17.702315385303397,17.665979239133804,17.65460592713514,17.605541504977396,17.530991853101103,17.36780850651966,17.332289725443097,17.263077999768203,17.17266799704007,17.05169917207292,16.98929581021726,16.95969430803181,16.90032360358474,16.82329943272533,16.759018008095804,16.719217578105972,16.71311033694173,16.677542885458436,16.624066011291845,16.623786352393584,16.601669256304383,16.61086699725415,16.588008190287223,16.544507148077606,16.534799811493492,16.54105752312364,16.513319130771944,16.463341057658074,16.451292322079922,16.419517233236245,16.417194814906217,16.381612856833847,16.324853589145697,16.301374472068066,16.269324749701582,16.268624267047848,16.236544065994703,16.185089234544044,16.18676014109686,16.16542406297952,16.17614644107587,16.155895961107536,16.116370560233406,16.151500587457104,16.139680702159083,16.158757863977655,16.14556167292249,16.111702270207033,16.15543499769959,16.143930886324007,16.16229613036045,16.147573968951907,16.111621814442536,16.148471364728664,16.1354438593034,16.153143011848545,16.13886574925808,16.104690693590868,16.15642890917499,16.151814160909193,16.179640881779914,16.177111309048477,16.254022065933903,16.26595173753921,16.310324252109503,16.32396122164186,16.318401361562948,16.454126036066697,16.47475777547003,16.52539897349431,16.542658696912294,16.537921101671117,16.658722156663284,16.668719190997287,16.7061282294088,16.707790321453224,16.685375936302368,16.744189968042175,16.73186664789225,16.746832081815825,16.72635361893122,16.68251501791594,16.68508493697397,16.657738488619778,16.659945559416574,16.629130929286937,16.577475717757117,16.571784855742095,16.54648678612679,16.552885511568963,16.528187974120254,16.484326186334968,16.509302920493568,16.495705786474794,16.514088419117456,16.50141387010914,16.46940092362189,16.523551317956713,16.55114106943703,16.547108965587494,16.523264679700347,16.604281344071488,16.60832941298517,16.644140582220516,16.64892777050939,16.750740514318057,16.768856284112427,16.819971957676135,16.841245371945448,16.844561603145287,17.017696579854267,17.055375630391435,17.125734621681232,17.165522119491783,17.1861887955118,17.39990050057377,17.445815418174046,17.521091756991638,17.562134101151138,17.580104822981053,17.786128813044368,17.837179366960108,17.84992236264734,17.835802981390543,17.900913932472108,17.884039825653883,17.891008085396134,17.859086714697558,17.800414501586864,17.739548067197838,17.68550268393477,17.65875273739375,17.59711109186073,17.513191135700378,17.406914910549812,17.34854715334639,17.322988065951574,17.26796464945069,17.1959072823945,17.153508316225853,17.124409147169835,17.131216902028,17.111051009826518,17.075702885032772,17.14796103366057,17.156425560906463,17.199444880538245,17.213582567824652,17.210127221155048,17.35952306933994,17.386515730707156,17.444156520486484,17.468934417593857,17.472137377722582,17.618636604924642,17.637682865773144,17.684335775571633,17.695413790676938,17.682562757305334,17.770603790275704,17.768034913541992,17.792647240179534,17.781621663857482,17.746944955927358,17.75375452622452,17.76205570209492,17.736425135811487,17.688975783897803,17.689712615991635,17.664531757771975,17.670134566739424,17.64383794867972,17.59771635222227,17.613800074008658,17.597261092632046,17.613110279341786,17.59855363257962,17.565544306653962,17.62782492860198,17.628457954446063,17.66208019178915,17.66570923124985,17.651099021309175,17.767727597157915,17.785450219517664,17.83526941161496,17.853977133550888,17.8531084128955,18.00094202627662,18.02515779731949,18.079296071777016,18.100064864664326,18.098952628338466,18.232382322991242,18.24750896996259,18.290659895243266,18.298754750307264,18.28353285218493,18.369022852820077,18.36742471469147,18.394078522565646,18.386269693726742,18.356095054350313,18.405698264479984,18.39605423015222,18.416974679204063,18.405878516220874,18.37493608712819,18.43712962290449,18.436247985922314,18.467857405074195,18.469076996257936,18.451728343936765,18.558325611711457,18.57198768688487,18.617260105473488,18.63082377890156,18.624087339023696,18.748614518850538,18.762720629236544,18.805388875772575,18.797719466927305,18.878083152547653,18.87267209239205,18.894038497683532,18.879263753097927,18.840282246648584,18.85151424979605,18.82505546773187,18.827263587139907,18.795706305999847,18.74275299292515,18.732267409964333,18.706007405949997,18.712258758248403,18.68851979246314,18.64699302904474,18.689377300716114,18.685500242712035,18.71562059582132,18.716620718115145,18.81198373155151,18.82734944954734,18.873748246886347,18.887548889763554,18.87986554985922,18.99189313094494,18.99792413008103,19.030311991597607,19.025591198450737,18.995145431755624,19.017546633022583,18.988358909989174,18.983897697975742,18.94138535349773,18.872913029056107,18.72557012369231,18.692043837603887,18.623972896087185,18.533853052241007,18.40893999510211,18.343798191812443,18.310873580144644,18.247688868145787,18.166461706227082,18.088320592208618,18.04384597287025,18.033209824665665,17.99335149625129,17.935904227680172,17.926270224253514,17.902026625066917,17.909625064618368,17.885689872321592,17.84161634543124,17.855648369164857,17.833829119277297,17.84132331681592,17.814981389011354,17.76648266692476,17.727924765407767,17.726430768854662,17.691379954071195,17.634821398411102,17.609806416613452,17.576539614776596,17.574301548155457,17.540397672855605,17.486875848555805,17.48140424671993,17.457563513021405,17.465816099804993,17.443185709622664,17.401420678479898,17.431075312901044,17.417935982194514,17.43596776260783,17.421997468263232,17.387622142797866,17.431082712717945,17.419781332975738,17.438414541250395,17.423970706079878,17.424976866367576,17.411472059451466,17.42841013358113,17.41306100778115,17.37748620695701,17.423049707559912,17.415771402223037,17.440685686602592,17.43504199481581,17.410821941175257,17.498687336734488,17.507443395481843,17.548844059828816,17.559781010413758,17.55185854003634,17.683070148557093,17.70319316399315,17.753864820526484,17.771700863733177,17.76807947895322,17.895222759948314,17.908192179134502,17.948907805192594,17.954141564511882,17.935489084167713,18.00593683588745,17.997342082744673,18.015835294373137,17.998616018296843,17.957707788419484,17.96663421769024,17.94049430923034,17.943429638530098,17.91286874114985,17.861007296874526,17.85222676991753,17.82521050440907,17.829628806954062,17.80274276080026,17.75653932882656,17.774096756446074,17.758050062647612,17.77405754544065,17.75910857191033,17.724939661868074,17.771693790765905,17.79767794805083,17.792086642246137,17.766694389296195,17.842745454608977,17.844901085275655,17.878642312859032,17.881154052583526,17.864413322691846,17.97152555504102,17.98620931741916,18.033706998284007,18.051216989808033,18.050675352359843,18.212315965228278,18.24644095639773,18.31352182695984,18.350392296307305,18.368586968117746,18.578325644583273,18.624283734302157,18.700370850355636,18.743022489126805,18.76341701202473,18.98703416477916,19.044251001943568,19.06372917471414,19.056819619095954,19.996856379386898,20.01255356065522,19.145299790676763,19.136386074348216,19.15118414629501,19.126831286750114,19.075338598561427,19.970728776269926,19.9424190485619,19.032501148025148,18.982954540635653,18.95981037365872,18.90082245427264,18.81856258919668,19.687546625197736,19.637607149344213,18.71116494199682,18.650435609583983,18.621589001370612,18.562417815436987,18.48543276272336,19.364990612648366,19.330671009051237,18.424554027869227,18.388434734686637,18.387992134787137,18.360468673189,18.31777737634666,19.233642660319145,19.236990381888365,18.36923878681599,18.371526299261095,18.408893242424217,18.417973364278716,18.410112002521497,19.358516688088702,19.391655575536852,18.55055520744697,18.57603345377878,18.632884658530315,18.657572855315674,18.66134991819216,19.617404521292993,19.65425740842235,18.813054626697184,18.834794741102144,18.88450726099127,18.89893835550604,18.889660949282703,19.83021530017115,19.849495784666658,18.989035759947228,18.99022671841194,19.018489144266898,19.01095130252679,18.97955317695247,19.898181753112524,19.896053434766127,19.014995492761425,18.99666276126118,19.006706960151387,18.98245481641171,18.936012119936297,19.841399809667266,19.827937763264874,18.93752806481115,18.911873836060533,18.916650881386587,18.88918819576673,18.84157435794463,19.74779580516367,19.73712258058673,18.851393265808355,18.83223514361646,18.84523682347906,18.82762938415995,18.791393082396024,19.710395670948742,19.71377798152973,18.843238563743235,18.840253514447184,18.87024882558117,18.870281402276913,18.852145894862755,19.78951347546595,19.81131829058127,18.959043441121914,18.97394266591229,19.021215076738446,19.03768909330456,19.034932693815037,19.986396059242953,20.020802266171025,19.17943778093272,19.203378812782187,19.25767073949488,19.279016607179123,19.27889166580231,20.230689862108097,20.26311779143043,19.41748771646139,19.434945579878114,19.480651112739253,19.491465952617713,19.47906667315049,20.41708861802946,20.43451604589254,19.572970234119463,19.5739315436839,19.60291265678453,19.59713904356012,19.56865373158544,20.491452468670687,20.494865003581587,19.620834365612527,19.611130386601257,19.631514920024404,19.6194150509493,19.587021595198348,20.508419183242307,20.512963832050254,19.64256003207622,19.63887370163917,19.66749853001782,19.665632024782038,19.645178536379788,20.579885482637085,20.598728556670753,19.743197780974796,19.75452055429745,19.797838970502447,19.809897452236317,19.80215767603821,20.747946699237794,20.775853752277097,19.927027240515685,19.942407793513524,19.986914351314866,19.99713906808681,19.984467782592635,20.922231780702976,20.939106176650274,20.076406372842452,20.075318408212453,20.10108021439364,20.090669648064242,20.055916193568144],\"type\":\"scatter\"}],                        {\"template\":{\"data\":{\"bar\":[{\"error_x\":{\"color\":\"#2a3f5f\"},\"error_y\":{\"color\":\"#2a3f5f\"},\"marker\":{\"line\":{\"color\":\"#E5ECF6\",\"width\":0.5},\"pattern\":{\"fillmode\":\"overlay\",\"size\":10,\"solidity\":0.2}},\"type\":\"bar\"}],\"barpolar\":[{\"marker\":{\"line\":{\"color\":\"#E5ECF6\",\"width\":0.5},\"pattern\":{\"fillmode\":\"overlay\",\"size\":10,\"solidity\":0.2}},\"type\":\"barpolar\"}],\"carpet\":[{\"aaxis\":{\"endlinecolor\":\"#2a3f5f\",\"gridcolor\":\"white\",\"linecolor\":\"white\",\"minorgridcolor\":\"white\",\"startlinecolor\":\"#2a3f5f\"},\"baxis\":{\"endlinecolor\":\"#2a3f5f\",\"gridcolor\":\"white\",\"linecolor\":\"white\",\"minorgridcolor\":\"white\",\"startlinecolor\":\"#2a3f5f\"},\"type\":\"carpet\"}],\"choropleth\":[{\"colorbar\":{\"outlinewidth\":0,\"ticks\":\"\"},\"type\":\"choropleth\"}],\"contour\":[{\"colorbar\":{\"outlinewidth\":0,\"ticks\":\"\"},\"colorscale\":[[0.0,\"#0d0887\"],[0.1111111111111111,\"#46039f\"],[0.2222222222222222,\"#7201a8\"],[0.3333333333333333,\"#9c179e\"],[0.4444444444444444,\"#bd3786\"],[0.5555555555555556,\"#d8576b\"],[0.6666666666666666,\"#ed7953\"],[0.7777777777777778,\"#fb9f3a\"],[0.8888888888888888,\"#fdca26\"],[1.0,\"#f0f921\"]],\"type\":\"contour\"}],\"contourcarpet\":[{\"colorbar\":{\"outlinewidth\":0,\"ticks\":\"\"},\"type\":\"contourcarpet\"}],\"heatmap\":[{\"colorbar\":{\"outlinewidth\":0,\"ticks\":\"\"},\"colorscale\":[[0.0,\"#0d0887\"],[0.1111111111111111,\"#46039f\"],[0.2222222222222222,\"#7201a8\"],[0.3333333333333333,\"#9c179e\"],[0.4444444444444444,\"#bd3786\"],[0.5555555555555556,\"#d8576b\"],[0.6666666666666666,\"#ed7953\"],[0.7777777777777778,\"#fb9f3a\"],[0.8888888888888888,\"#fdca26\"],[1.0,\"#f0f921\"]],\"type\":\"heatmap\"}],\"heatmapgl\":[{\"colorbar\":{\"outlinewidth\":0,\"ticks\":\"\"},\"colorscale\":[[0.0,\"#0d0887\"],[0.1111111111111111,\"#46039f\"],[0.2222222222222222,\"#7201a8\"],[0.3333333333333333,\"#9c179e\"],[0.4444444444444444,\"#bd3786\"],[0.5555555555555556,\"#d8576b\"],[0.6666666666666666,\"#ed7953\"],[0.7777777777777778,\"#fb9f3a\"],[0.8888888888888888,\"#fdca26\"],[1.0,\"#f0f921\"]],\"type\":\"heatmapgl\"}],\"histogram\":[{\"marker\":{\"pattern\":{\"fillmode\":\"overlay\",\"size\":10,\"solidity\":0.2}},\"type\":\"histogram\"}],\"histogram2d\":[{\"colorbar\":{\"outlinewidth\":0,\"ticks\":\"\"},\"colorscale\":[[0.0,\"#0d0887\"],[0.1111111111111111,\"#46039f\"],[0.2222222222222222,\"#7201a8\"],[0.3333333333333333,\"#9c179e\"],[0.4444444444444444,\"#bd3786\"],[0.5555555555555556,\"#d8576b\"],[0.6666666666666666,\"#ed7953\"],[0.7777777777777778,\"#fb9f3a\"],[0.8888888888888888,\"#fdca26\"],[1.0,\"#f0f921\"]],\"type\":\"histogram2d\"}],\"histogram2dcontour\":[{\"colorbar\":{\"outlinewidth\":0,\"ticks\":\"\"},\"colorscale\":[[0.0,\"#0d0887\"],[0.1111111111111111,\"#46039f\"],[0.2222222222222222,\"#7201a8\"],[0.3333333333333333,\"#9c179e\"],[0.4444444444444444,\"#bd3786\"],[0.5555555555555556,\"#d8576b\"],[0.6666666666666666,\"#ed7953\"],[0.7777777777777778,\"#fb9f3a\"],[0.8888888888888888,\"#fdca26\"],[1.0,\"#f0f921\"]],\"type\":\"histogram2dcontour\"}],\"mesh3d\":[{\"colorbar\":{\"outlinewidth\":0,\"ticks\":\"\"},\"type\":\"mesh3d\"}],\"parcoords\":[{\"line\":{\"colorbar\":{\"outlinewidth\":0,\"ticks\":\"\"}},\"type\":\"parcoords\"}],\"pie\":[{\"automargin\":true,\"type\":\"pie\"}],\"scatter\":[{\"marker\":{\"colorbar\":{\"outlinewidth\":0,\"ticks\":\"\"}},\"type\":\"scatter\"}],\"scatter3d\":[{\"line\":{\"colorbar\":{\"outlinewidth\":0,\"ticks\":\"\"}},\"marker\":{\"colorbar\":{\"outlinewidth\":0,\"ticks\":\"\"}},\"type\":\"scatter3d\"}],\"scattercarpet\":[{\"marker\":{\"colorbar\":{\"outlinewidth\":0,\"ticks\":\"\"}},\"type\":\"scattercarpet\"}],\"scattergeo\":[{\"marker\":{\"colorbar\":{\"outlinewidth\":0,\"ticks\":\"\"}},\"type\":\"scattergeo\"}],\"scattergl\":[{\"marker\":{\"colorbar\":{\"outlinewidth\":0,\"ticks\":\"\"}},\"type\":\"scattergl\"}],\"scattermapbox\":[{\"marker\":{\"colorbar\":{\"outlinewidth\":0,\"ticks\":\"\"}},\"type\":\"scattermapbox\"}],\"scatterpolar\":[{\"marker\":{\"colorbar\":{\"outlinewidth\":0,\"ticks\":\"\"}},\"type\":\"scatterpolar\"}],\"scatterpolargl\":[{\"marker\":{\"colorbar\":{\"outlinewidth\":0,\"ticks\":\"\"}},\"type\":\"scatterpolargl\"}],\"scatterternary\":[{\"marker\":{\"colorbar\":{\"outlinewidth\":0,\"ticks\":\"\"}},\"type\":\"scatterternary\"}],\"surface\":[{\"colorbar\":{\"outlinewidth\":0,\"ticks\":\"\"},\"colorscale\":[[0.0,\"#0d0887\"],[0.1111111111111111,\"#46039f\"],[0.2222222222222222,\"#7201a8\"],[0.3333333333333333,\"#9c179e\"],[0.4444444444444444,\"#bd3786\"],[0.5555555555555556,\"#d8576b\"],[0.6666666666666666,\"#ed7953\"],[0.7777777777777778,\"#fb9f3a\"],[0.8888888888888888,\"#fdca26\"],[1.0,\"#f0f921\"]],\"type\":\"surface\"}],\"table\":[{\"cells\":{\"fill\":{\"color\":\"#EBF0F8\"},\"line\":{\"color\":\"white\"}},\"header\":{\"fill\":{\"color\":\"#C8D4E3\"},\"line\":{\"color\":\"white\"}},\"type\":\"table\"}]},\"layout\":{\"annotationdefaults\":{\"arrowcolor\":\"#2a3f5f\",\"arrowhead\":0,\"arrowwidth\":1},\"autotypenumbers\":\"strict\",\"coloraxis\":{\"colorbar\":{\"outlinewidth\":0,\"ticks\":\"\"}},\"colorscale\":{\"diverging\":[[0,\"#8e0152\"],[0.1,\"#c51b7d\"],[0.2,\"#de77ae\"],[0.3,\"#f1b6da\"],[0.4,\"#fde0ef\"],[0.5,\"#f7f7f7\"],[0.6,\"#e6f5d0\"],[0.7,\"#b8e186\"],[0.8,\"#7fbc41\"],[0.9,\"#4d9221\"],[1,\"#276419\"]],\"sequential\":[[0.0,\"#0d0887\"],[0.1111111111111111,\"#46039f\"],[0.2222222222222222,\"#7201a8\"],[0.3333333333333333,\"#9c179e\"],[0.4444444444444444,\"#bd3786\"],[0.5555555555555556,\"#d8576b\"],[0.6666666666666666,\"#ed7953\"],[0.7777777777777778,\"#fb9f3a\"],[0.8888888888888888,\"#fdca26\"],[1.0,\"#f0f921\"]],\"sequentialminus\":[[0.0,\"#0d0887\"],[0.1111111111111111,\"#46039f\"],[0.2222222222222222,\"#7201a8\"],[0.3333333333333333,\"#9c179e\"],[0.4444444444444444,\"#bd3786\"],[0.5555555555555556,\"#d8576b\"],[0.6666666666666666,\"#ed7953\"],[0.7777777777777778,\"#fb9f3a\"],[0.8888888888888888,\"#fdca26\"],[1.0,\"#f0f921\"]]},\"colorway\":[\"#636efa\",\"#EF553B\",\"#00cc96\",\"#ab63fa\",\"#FFA15A\",\"#19d3f3\",\"#FF6692\",\"#B6E880\",\"#FF97FF\",\"#FECB52\"],\"font\":{\"color\":\"#2a3f5f\"},\"geo\":{\"bgcolor\":\"white\",\"lakecolor\":\"white\",\"landcolor\":\"#E5ECF6\",\"showlakes\":true,\"showland\":true,\"subunitcolor\":\"white\"},\"hoverlabel\":{\"align\":\"left\"},\"hovermode\":\"closest\",\"mapbox\":{\"style\":\"light\"},\"paper_bgcolor\":\"white\",\"plot_bgcolor\":\"#E5ECF6\",\"polar\":{\"angularaxis\":{\"gridcolor\":\"white\",\"linecolor\":\"white\",\"ticks\":\"\"},\"bgcolor\":\"#E5ECF6\",\"radialaxis\":{\"gridcolor\":\"white\",\"linecolor\":\"white\",\"ticks\":\"\"}},\"scene\":{\"xaxis\":{\"backgroundcolor\":\"#E5ECF6\",\"gridcolor\":\"white\",\"gridwidth\":2,\"linecolor\":\"white\",\"showbackground\":true,\"ticks\":\"\",\"zerolinecolor\":\"white\"},\"yaxis\":{\"backgroundcolor\":\"#E5ECF6\",\"gridcolor\":\"white\",\"gridwidth\":2,\"linecolor\":\"white\",\"showbackground\":true,\"ticks\":\"\",\"zerolinecolor\":\"white\"},\"zaxis\":{\"backgroundcolor\":\"#E5ECF6\",\"gridcolor\":\"white\",\"gridwidth\":2,\"linecolor\":\"white\",\"showbackground\":true,\"ticks\":\"\",\"zerolinecolor\":\"white\"}},\"shapedefaults\":{\"line\":{\"color\":\"#2a3f5f\"}},\"ternary\":{\"aaxis\":{\"gridcolor\":\"white\",\"linecolor\":\"white\",\"ticks\":\"\"},\"baxis\":{\"gridcolor\":\"white\",\"linecolor\":\"white\",\"ticks\":\"\"},\"bgcolor\":\"#E5ECF6\",\"caxis\":{\"gridcolor\":\"white\",\"linecolor\":\"white\",\"ticks\":\"\"}},\"title\":{\"x\":0.05},\"xaxis\":{\"automargin\":true,\"gridcolor\":\"white\",\"linecolor\":\"white\",\"ticks\":\"\",\"title\":{\"standoff\":15},\"zerolinecolor\":\"white\",\"zerolinewidth\":2},\"yaxis\":{\"automargin\":true,\"gridcolor\":\"white\",\"linecolor\":\"white\",\"ticks\":\"\",\"title\":{\"standoff\":15},\"zerolinecolor\":\"white\",\"zerolinewidth\":2}}}},                        {\"responsive\": true}                    ).then(function(){\n",
              "                            \n",
              "var gd = document.getElementById('734c1bac-861b-4ebf-b1f1-ff19ca472111');\n",
              "var x = new MutationObserver(function (mutations, observer) {{\n",
              "        var display = window.getComputedStyle(gd).display;\n",
              "        if (!display || display === 'none') {{\n",
              "            console.log([gd, 'removed!']);\n",
              "            Plotly.purge(gd);\n",
              "            observer.disconnect();\n",
              "        }}\n",
              "}});\n",
              "\n",
              "// Listen for the removal of the full notebook cells\n",
              "var notebookContainer = gd.closest('#notebook-container');\n",
              "if (notebookContainer) {{\n",
              "    x.observe(notebookContainer, {childList: true});\n",
              "}}\n",
              "\n",
              "// Listen for the clearing of the current output cell\n",
              "var outputEl = gd.closest('.output');\n",
              "if (outputEl) {{\n",
              "    x.observe(outputEl, {childList: true});\n",
              "}}\n",
              "\n",
              "                        })                };                            </script>        </div>\n",
              "</body>\n",
              "</html>"
            ]
          },
          "metadata": {}
        }
      ]
    },
    {
      "cell_type": "markdown",
      "source": [
        "## Mean Absolute Error\n"
      ],
      "metadata": {
        "id": "GeHgsRRgVDXH"
      }
    },
    {
      "cell_type": "markdown",
      "source": [
        "Let us now understand the MAE (Mean Absolute Error).\n",
        "Absolute error refers to the magnitude of difference between the prediction of an observation and the true value of that observation.\n",
        "It is thus an arithmetic average of the absolute errors $MAE=\\frac{1}{n}\\sum_{i=1}^{n}|x_i-y_i|$ where ``` y{i}``` is the prediction and ```x{i}``` the true value. Note that alternative formulations may include relative frequencies as weight factors. The mean absolute error uses the same scale as the data being measured. This is known as a scale-dependent accuracy measure and therefore cannot be used to make comparisons between series using different scales.\n",
        "\n",
        "### MAE Range is from 0 to ∞ (infinite). The lower the MAE, the better a model fits a dataset.\n",
        "\n",
        "<center><img src=\"https://cf-courses-data.s3.us.cloud-object-storage.appdomain.cloud/IBM-GPXX032NEN/images/MAE_img.png\" width=\"600\" height=\"500\"></center> \n"
      ],
      "metadata": {
        "id": "OvgrSk4eVDXH"
      }
    },
    {
      "cell_type": "markdown",
      "source": [
        "Here we are getting ```7.9``` MAE which is good but optimizing model can help to reduced Errors.\n",
        "\n",
        "In previous graph of predicted V/s Actual we can see that curves are not perfect for prediction.\n"
      ],
      "metadata": {
        "id": "wh0ttFvsVDXH"
      }
    },
    {
      "cell_type": "code",
      "source": [
        "#Return a Numpy representation of the DataFrame.\n",
        "y_true = df['y'].values\n",
        "\n",
        "#Here we have specified [:498] because in y_true we have 498 data points so for comparing both series we need equal shape of series.\n",
        "y_pred = prediction['yhat'][:755].values \n",
        "\n",
        "#Parameters:\n",
        "#y_truearray-like of shape = (n_samples) or (n_samples, n_outputs)\n",
        "#Ground truth (correct) target values.\n",
        "\n",
        "#y_predarray-like of shape = (n_samples) or (n_samples, n_outputs)\n",
        "#Estimated target values.\n",
        "\n",
        "mae = mean_absolute_error(y_true, y_pred)\n",
        "print('MAE: %.3f' % mae)"
      ],
      "metadata": {
        "colab": {
          "base_uri": "https://localhost:8080/"
        },
        "id": "zmfUjtUwVDXI",
        "outputId": "52a65e27-c5f9-454d-a8e5-ffbfb16fa9cb"
      },
      "execution_count": 61,
      "outputs": [
        {
          "output_type": "stream",
          "name": "stdout",
          "text": [
            "MAE: 0.497\n"
          ]
        }
      ]
    },
    {
      "cell_type": "markdown",
      "source": [
        "## Optimizing the model for better forecasting\n"
      ],
      "metadata": {
        "id": "iusKF1cfVDXI"
      }
    },
    {
      "cell_type": "markdown",
      "source": [
        "<table  style=' font-size: 16px;'>\n",
        "<tr><td>name  <td>String name of the seasonality component.</td></tr>\n",
        "<tr><td> period</td> <td> Float number of days in one period.</td></tr>\n",
        "<tr><td> fourier_order</td> <td> Int number of Fourier components to use.</td></tr>\n",
        "<tr><td> prior_scale</td> <td> Optional float prior scale for this component. </td></tr>\n",
        "<tr><td> mode</td> <td> Optional 'additive' or 'multiplicative'.</td></tr>\n",
        "<tr><td> condition_name </td> <td> String name of the seasonality condition.</td></tr>\n",
        "</table>\n",
        " \n"
      ],
      "metadata": {
        "id": "luiKcvLaVDXI"
      }
    },
    {
      "cell_type": "markdown",
      "source": [
        "Prophet will by default fit weekly and yearly seasonalities, if the time series is more than two cycles long.\n",
        "\n",
        "It will also fit daily seasonality for a sub-daily time series. \n",
        "\n",
        "You can add other seasonalities (monthly, quarterly, hourly) using the add_seasonality method (Python)\n"
      ],
      "metadata": {
        "id": "gUb9UchKVDXI"
      }
    },
    {
      "cell_type": "markdown",
      "source": [
        "#### Here we have taken period=365, as one year consist of 365 days and Fourier_order=70.\n",
        "#### In this case study, I have randomly found 70 is a good fit for my model. \n",
        "#### Fourier_order can differ for different datasets.\n",
        "#### Note : Higher Furier_order Value can lead to Overfitting.\n"
      ],
      "metadata": {
        "id": "iJMfPxQFVDXI"
      }
    },
    {
      "cell_type": "code",
      "source": [
        "model1=Prophet(daily_seasonality=True).add_seasonality(name='yearly',period=365,fourier_order=70)"
      ],
      "metadata": {
        "id": "KQiFx9vjVDXI"
      },
      "execution_count": 62,
      "outputs": []
    },
    {
      "cell_type": "markdown",
      "source": [
        "### Fit Model with Hyper Patameter Tuning \n"
      ],
      "metadata": {
        "id": "Wz1ZCQJgVDXI"
      }
    },
    {
      "cell_type": "markdown",
      "source": [
        "The ```fit()``` function takes a ```DataFrame``` of ```time series data```. \n",
        "\n",
        "The DataFrame must have a specific format.\n",
        "\n",
        "The ```first column``` must have the name ```'ds'``` and contain the ```date-times.``` .\n",
        "\n",
        "The ```second column``` must have the name ```'y'``` and contain the ```observations```.\n"
      ],
      "metadata": {
        "id": "u-Uj8WgwVDXI"
      }
    },
    {
      "cell_type": "code",
      "source": [
        "model1.fit(df)"
      ],
      "metadata": {
        "colab": {
          "base_uri": "https://localhost:8080/"
        },
        "id": "XoOBndp7VDXJ",
        "outputId": "b022beaa-e414-4be9-a117-2a43f01de546"
      },
      "execution_count": 63,
      "outputs": [
        {
          "output_type": "stream",
          "name": "stderr",
          "text": [
            "INFO:prophet:Found custom seasonality named 'yearly', disabling built-in 'yearly' seasonality.\n",
            "DEBUG:cmdstanpy:input tempfile: /tmp/tmpfoz3gbin/v_tu6myo.json\n",
            "DEBUG:cmdstanpy:input tempfile: /tmp/tmpfoz3gbin/bl6x_0so.json\n",
            "DEBUG:cmdstanpy:idx 0\n",
            "DEBUG:cmdstanpy:running CmdStan, num_threads: None\n",
            "DEBUG:cmdstanpy:CmdStan args: ['/usr/local/lib/python3.8/dist-packages/prophet/stan_model/prophet_model.bin', 'random', 'seed=96363', 'data', 'file=/tmp/tmpfoz3gbin/v_tu6myo.json', 'init=/tmp/tmpfoz3gbin/bl6x_0so.json', 'output', 'file=/tmp/tmpfoz3gbin/prophet_modelu7t4vivo/prophet_model-20221202205911.csv', 'method=optimize', 'algorithm=lbfgs', 'iter=10000']\n",
            "20:59:11 - cmdstanpy - INFO - Chain [1] start processing\n",
            "INFO:cmdstanpy:Chain [1] start processing\n",
            "20:59:12 - cmdstanpy - INFO - Chain [1] done processing\n",
            "INFO:cmdstanpy:Chain [1] done processing\n"
          ]
        },
        {
          "output_type": "execute_result",
          "data": {
            "text/plain": [
              "<prophet.forecaster.Prophet at 0x7fc8843eb700>"
            ]
          },
          "metadata": {},
          "execution_count": 63
        }
      ]
    },
    {
      "cell_type": "markdown",
      "source": [
        "### Print the components of model\n"
      ],
      "metadata": {
        "id": "oFhEHrrVVDXJ"
      }
    },
    {
      "cell_type": "code",
      "source": [
        "model1.component_modes"
      ],
      "metadata": {
        "colab": {
          "base_uri": "https://localhost:8080/"
        },
        "id": "YcXlPqnXVDXJ",
        "outputId": "4c8ce586-2ee1-4483-f8a8-52ae3a133a36"
      },
      "execution_count": 64,
      "outputs": [
        {
          "output_type": "execute_result",
          "data": {
            "text/plain": [
              "{'additive': ['yearly',\n",
              "  'weekly',\n",
              "  'daily',\n",
              "  'additive_terms',\n",
              "  'extra_regressors_additive',\n",
              "  'holidays'],\n",
              " 'multiplicative': ['multiplicative_terms', 'extra_regressors_multiplicative']}"
            ]
          },
          "metadata": {},
          "execution_count": 64
        }
      ]
    },
    {
      "cell_type": "markdown",
      "source": [
        "### Make future dataframe for next 1 year\n"
      ],
      "metadata": {
        "id": "5k-wZws1VDXJ"
      }
    },
    {
      "cell_type": "markdown",
      "source": [
        "Here we are taking period = 365 beacause we have 365 days in a year.\n"
      ],
      "metadata": {
        "id": "hqtKkDtHVDXJ"
      }
    },
    {
      "cell_type": "code",
      "source": [
        "future_dates1=model1.make_future_dataframe(periods=365)"
      ],
      "metadata": {
        "id": "CmlMYiTVVDXJ"
      },
      "execution_count": 65,
      "outputs": []
    },
    {
      "cell_type": "markdown",
      "source": [
        "### Predict the Datapoint for next year.\n"
      ],
      "metadata": {
        "id": "JPAgaQIdVDXJ"
      }
    },
    {
      "cell_type": "code",
      "source": [
        "prediction1=model1.predict(future_dates1)"
      ],
      "metadata": {
        "id": "C4p4xxtAVDXJ"
      },
      "execution_count": 66,
      "outputs": []
    },
    {
      "cell_type": "markdown",
      "source": [
        "#### After optimization, we are getting the value of MAE as 5.6, which is better than above MAE i.e 7.9. Hence This model gives a good Prediction.\n"
      ],
      "metadata": {
        "id": "OsRX2T8YVDXJ"
      }
    },
    {
      "cell_type": "code",
      "source": [
        "from sklearn.metrics import mean_absolute_error\n",
        "y_true = df['y'].values\n",
        "y_pred = prediction1['yhat'][:755].values\n",
        "mae = mean_absolute_error(y_true, y_pred)\n",
        "print('MAE: %.3f' % mae)"
      ],
      "metadata": {
        "colab": {
          "base_uri": "https://localhost:8080/"
        },
        "id": "eLWzTgz0VDXK",
        "outputId": "902b7153-61a7-45df-fddf-264aa0ea90f9"
      },
      "execution_count": 67,
      "outputs": [
        {
          "output_type": "stream",
          "name": "stdout",
          "text": [
            "MAE: 0.468\n"
          ]
        }
      ]
    },
    {
      "cell_type": "markdown",
      "source": [
        "### Plot expected vs actual After Optimizng\n"
      ],
      "metadata": {
        "id": "MUM0zk-LVDXK"
      }
    },
    {
      "cell_type": "code",
      "source": [
        "import plotly.graph_objects as go\n",
        "fig = go.Figure([go.Scatter(x=df['ds'], y=df['y'],mode='lines',\n",
        "                    name='Actual')])\n",
        "\n",
        "fig.add_trace(go.Scatter(x=prediction1['ds'], y=prediction1['yhat'],\n",
        "                   mode='lines+markers',\n",
        "                    name='predicted'))\n",
        "\n",
        "fig.show()"
      ],
      "metadata": {
        "colab": {
          "base_uri": "https://localhost:8080/",
          "height": 0
        },
        "id": "5TUcGcxHVDXK",
        "outputId": "77d7a051-9760-4041-8d52-14592607633c"
      },
      "execution_count": 68,
      "outputs": [
        {
          "output_type": "display_data",
          "data": {
            "text/html": [
              "<html>\n",
              "<head><meta charset=\"utf-8\" /></head>\n",
              "<body>\n",
              "    <div>            <script src=\"https://cdnjs.cloudflare.com/ajax/libs/mathjax/2.7.5/MathJax.js?config=TeX-AMS-MML_SVG\"></script><script type=\"text/javascript\">if (window.MathJax) {MathJax.Hub.Config({SVG: {font: \"STIX-Web\"}});}</script>                <script type=\"text/javascript\">window.PlotlyConfig = {MathJaxConfig: 'local'};</script>\n",
              "        <script src=\"https://cdn.plot.ly/plotly-2.8.3.min.js\"></script>                <div id=\"0ac2d8dd-7804-40d4-99c3-f78f03bcf5f0\" class=\"plotly-graph-div\" style=\"height:525px; width:100%;\"></div>            <script type=\"text/javascript\">                                    window.PLOTLYENV=window.PLOTLYENV || {};                                    if (document.getElementById(\"0ac2d8dd-7804-40d4-99c3-f78f03bcf5f0\")) {                    Plotly.newPlot(                        \"0ac2d8dd-7804-40d4-99c3-f78f03bcf5f0\",                        [{\"mode\":\"lines\",\"name\":\"Actual\",\"x\":[\"2002-07-08T00:00:00\",\"2002-07-09T00:00:00\",\"2002-07-10T00:00:00\",\"2002-07-11T00:00:00\",\"2002-07-12T00:00:00\",\"2002-07-15T00:00:00\",\"2002-07-16T00:00:00\",\"2002-07-17T00:00:00\",\"2002-07-18T00:00:00\",\"2002-07-19T00:00:00\",\"2002-07-22T00:00:00\",\"2002-07-23T00:00:00\",\"2002-07-24T00:00:00\",\"2002-07-25T00:00:00\",\"2002-07-26T00:00:00\",\"2002-07-29T00:00:00\",\"2002-07-30T00:00:00\",\"2002-07-31T00:00:00\",\"2002-08-01T00:00:00\",\"2002-08-02T00:00:00\",\"2002-08-05T00:00:00\",\"2002-08-06T00:00:00\",\"2002-08-07T00:00:00\",\"2002-08-08T00:00:00\",\"2002-08-09T00:00:00\",\"2002-08-12T00:00:00\",\"2002-08-13T00:00:00\",\"2002-08-14T00:00:00\",\"2002-08-15T00:00:00\",\"2002-08-16T00:00:00\",\"2002-08-19T00:00:00\",\"2002-08-20T00:00:00\",\"2002-08-21T00:00:00\",\"2002-08-22T00:00:00\",\"2002-08-23T00:00:00\",\"2002-08-26T00:00:00\",\"2002-08-27T00:00:00\",\"2002-08-28T00:00:00\",\"2002-08-29T00:00:00\",\"2002-08-30T00:00:00\",\"2002-09-03T00:00:00\",\"2002-09-04T00:00:00\",\"2002-09-05T00:00:00\",\"2002-09-06T00:00:00\",\"2002-09-09T00:00:00\",\"2002-09-10T00:00:00\",\"2002-09-11T00:00:00\",\"2002-09-12T00:00:00\",\"2002-09-13T00:00:00\",\"2002-09-16T00:00:00\",\"2002-09-17T00:00:00\",\"2002-09-18T00:00:00\",\"2002-09-19T00:00:00\",\"2002-09-20T00:00:00\",\"2002-09-23T00:00:00\",\"2002-09-24T00:00:00\",\"2002-09-25T00:00:00\",\"2002-09-26T00:00:00\",\"2002-09-27T00:00:00\",\"2002-09-30T00:00:00\",\"2002-10-01T00:00:00\",\"2002-10-02T00:00:00\",\"2002-10-03T00:00:00\",\"2002-10-04T00:00:00\",\"2002-10-07T00:00:00\",\"2002-10-08T00:00:00\",\"2002-10-09T00:00:00\",\"2002-10-10T00:00:00\",\"2002-10-11T00:00:00\",\"2002-10-14T00:00:00\",\"2002-10-15T00:00:00\",\"2002-10-16T00:00:00\",\"2002-10-17T00:00:00\",\"2002-10-18T00:00:00\",\"2002-10-21T00:00:00\",\"2002-10-22T00:00:00\",\"2002-10-23T00:00:00\",\"2002-10-24T00:00:00\",\"2002-10-25T00:00:00\",\"2002-10-28T00:00:00\",\"2002-10-29T00:00:00\",\"2002-10-30T00:00:00\",\"2002-10-31T00:00:00\",\"2002-11-01T00:00:00\",\"2002-11-04T00:00:00\",\"2002-11-05T00:00:00\",\"2002-11-06T00:00:00\",\"2002-11-07T00:00:00\",\"2002-11-08T00:00:00\",\"2002-11-11T00:00:00\",\"2002-11-12T00:00:00\",\"2002-11-13T00:00:00\",\"2002-11-14T00:00:00\",\"2002-11-15T00:00:00\",\"2002-11-18T00:00:00\",\"2002-11-19T00:00:00\",\"2002-11-20T00:00:00\",\"2002-11-21T00:00:00\",\"2002-11-22T00:00:00\",\"2002-11-25T00:00:00\",\"2002-11-26T00:00:00\",\"2002-11-27T00:00:00\",\"2002-11-29T00:00:00\",\"2002-12-02T00:00:00\",\"2002-12-03T00:00:00\",\"2002-12-04T00:00:00\",\"2002-12-05T00:00:00\",\"2002-12-06T00:00:00\",\"2002-12-09T00:00:00\",\"2002-12-10T00:00:00\",\"2002-12-11T00:00:00\",\"2002-12-12T00:00:00\",\"2002-12-13T00:00:00\",\"2002-12-16T00:00:00\",\"2002-12-17T00:00:00\",\"2002-12-18T00:00:00\",\"2002-12-19T00:00:00\",\"2002-12-20T00:00:00\",\"2002-12-23T00:00:00\",\"2002-12-24T00:00:00\",\"2002-12-26T00:00:00\",\"2002-12-27T00:00:00\",\"2002-12-30T00:00:00\",\"2002-12-31T00:00:00\",\"2003-01-02T00:00:00\",\"2003-01-03T00:00:00\",\"2003-01-06T00:00:00\",\"2003-01-07T00:00:00\",\"2003-01-08T00:00:00\",\"2003-01-09T00:00:00\",\"2003-01-10T00:00:00\",\"2003-01-13T00:00:00\",\"2003-01-14T00:00:00\",\"2003-01-15T00:00:00\",\"2003-01-16T00:00:00\",\"2003-01-17T00:00:00\",\"2003-01-21T00:00:00\",\"2003-01-22T00:00:00\",\"2003-01-23T00:00:00\",\"2003-01-24T00:00:00\",\"2003-01-27T00:00:00\",\"2003-01-28T00:00:00\",\"2003-01-29T00:00:00\",\"2003-01-30T00:00:00\",\"2003-01-31T00:00:00\",\"2003-02-03T00:00:00\",\"2003-02-04T00:00:00\",\"2003-02-05T00:00:00\",\"2003-02-06T00:00:00\",\"2003-02-07T00:00:00\",\"2003-02-10T00:00:00\",\"2003-02-11T00:00:00\",\"2003-02-12T00:00:00\",\"2003-02-13T00:00:00\",\"2003-02-14T00:00:00\",\"2003-02-18T00:00:00\",\"2003-02-19T00:00:00\",\"2003-02-20T00:00:00\",\"2003-02-21T00:00:00\",\"2003-02-24T00:00:00\",\"2003-02-25T00:00:00\",\"2003-02-26T00:00:00\",\"2003-02-27T00:00:00\",\"2003-02-28T00:00:00\",\"2003-03-03T00:00:00\",\"2003-03-04T00:00:00\",\"2003-03-05T00:00:00\",\"2003-03-06T00:00:00\",\"2003-03-07T00:00:00\",\"2003-03-10T00:00:00\",\"2003-03-11T00:00:00\",\"2003-03-12T00:00:00\",\"2003-03-13T00:00:00\",\"2003-03-14T00:00:00\",\"2003-03-17T00:00:00\",\"2003-03-18T00:00:00\",\"2003-03-19T00:00:00\",\"2003-03-20T00:00:00\",\"2003-03-21T00:00:00\",\"2003-03-24T00:00:00\",\"2003-03-25T00:00:00\",\"2003-03-26T00:00:00\",\"2003-03-27T00:00:00\",\"2003-03-28T00:00:00\",\"2003-03-31T00:00:00\",\"2003-04-01T00:00:00\",\"2003-04-02T00:00:00\",\"2003-04-03T00:00:00\",\"2003-04-04T00:00:00\",\"2003-04-07T00:00:00\",\"2003-04-08T00:00:00\",\"2003-04-09T00:00:00\",\"2003-04-10T00:00:00\",\"2003-04-11T00:00:00\",\"2003-04-14T00:00:00\",\"2003-04-15T00:00:00\",\"2003-04-16T00:00:00\",\"2003-04-17T00:00:00\",\"2003-04-21T00:00:00\",\"2003-04-22T00:00:00\",\"2003-04-23T00:00:00\",\"2003-04-24T00:00:00\",\"2003-04-25T00:00:00\",\"2003-04-28T00:00:00\",\"2003-04-29T00:00:00\",\"2003-04-30T00:00:00\",\"2003-05-01T00:00:00\",\"2003-05-02T00:00:00\",\"2003-05-05T00:00:00\",\"2003-05-06T00:00:00\",\"2003-05-07T00:00:00\",\"2003-05-08T00:00:00\",\"2003-05-09T00:00:00\",\"2003-05-12T00:00:00\",\"2003-05-13T00:00:00\",\"2003-05-14T00:00:00\",\"2003-05-15T00:00:00\",\"2003-05-16T00:00:00\",\"2003-05-19T00:00:00\",\"2003-05-20T00:00:00\",\"2003-05-21T00:00:00\",\"2003-05-22T00:00:00\",\"2003-05-23T00:00:00\",\"2003-05-27T00:00:00\",\"2003-05-28T00:00:00\",\"2003-05-29T00:00:00\",\"2003-05-30T00:00:00\",\"2003-06-02T00:00:00\",\"2003-06-03T00:00:00\",\"2003-06-04T00:00:00\",\"2003-06-05T00:00:00\",\"2003-06-06T00:00:00\",\"2003-06-09T00:00:00\",\"2003-06-10T00:00:00\",\"2003-06-11T00:00:00\",\"2003-06-12T00:00:00\",\"2003-06-13T00:00:00\",\"2003-06-16T00:00:00\",\"2003-06-17T00:00:00\",\"2003-06-18T00:00:00\",\"2003-06-19T00:00:00\",\"2003-06-20T00:00:00\",\"2003-06-23T00:00:00\",\"2003-06-24T00:00:00\",\"2003-06-25T00:00:00\",\"2003-06-26T00:00:00\",\"2003-06-27T00:00:00\",\"2003-06-30T00:00:00\",\"2003-07-01T00:00:00\",\"2003-07-02T00:00:00\",\"2003-07-03T00:00:00\",\"2003-07-07T00:00:00\",\"2003-07-08T00:00:00\",\"2003-07-09T00:00:00\",\"2003-07-10T00:00:00\",\"2003-07-11T00:00:00\",\"2003-07-14T00:00:00\",\"2003-07-15T00:00:00\",\"2003-07-16T00:00:00\",\"2003-07-17T00:00:00\",\"2003-07-18T00:00:00\",\"2003-07-21T00:00:00\",\"2003-07-22T00:00:00\",\"2003-07-23T00:00:00\",\"2003-07-24T00:00:00\",\"2003-07-25T00:00:00\",\"2003-07-28T00:00:00\",\"2003-07-29T00:00:00\",\"2003-07-30T00:00:00\",\"2003-07-31T00:00:00\",\"2003-08-01T00:00:00\",\"2003-08-04T00:00:00\",\"2003-08-05T00:00:00\",\"2003-08-06T00:00:00\",\"2003-08-07T00:00:00\",\"2003-08-08T00:00:00\",\"2003-08-11T00:00:00\",\"2003-08-12T00:00:00\",\"2003-08-13T00:00:00\",\"2003-08-14T00:00:00\",\"2003-08-15T00:00:00\",\"2003-08-18T00:00:00\",\"2003-08-19T00:00:00\",\"2003-08-20T00:00:00\",\"2003-08-21T00:00:00\",\"2003-08-22T00:00:00\",\"2003-08-25T00:00:00\",\"2003-08-26T00:00:00\",\"2003-08-27T00:00:00\",\"2003-08-28T00:00:00\",\"2003-08-29T00:00:00\",\"2003-09-02T00:00:00\",\"2003-09-03T00:00:00\",\"2003-09-04T00:00:00\",\"2003-09-05T00:00:00\",\"2003-09-08T00:00:00\",\"2003-09-09T00:00:00\",\"2003-09-10T00:00:00\",\"2003-09-11T00:00:00\",\"2003-09-12T00:00:00\",\"2003-09-15T00:00:00\",\"2003-09-16T00:00:00\",\"2003-09-17T00:00:00\",\"2003-09-18T00:00:00\",\"2003-09-19T00:00:00\",\"2003-09-22T00:00:00\",\"2003-09-23T00:00:00\",\"2003-09-24T00:00:00\",\"2003-09-25T00:00:00\",\"2003-09-26T00:00:00\",\"2003-09-29T00:00:00\",\"2003-09-30T00:00:00\",\"2003-10-01T00:00:00\",\"2003-10-02T00:00:00\",\"2003-10-03T00:00:00\",\"2003-10-06T00:00:00\",\"2003-10-07T00:00:00\",\"2003-10-08T00:00:00\",\"2003-10-09T00:00:00\",\"2003-10-10T00:00:00\",\"2003-10-13T00:00:00\",\"2003-10-14T00:00:00\",\"2003-10-15T00:00:00\",\"2003-10-16T00:00:00\",\"2003-10-17T00:00:00\",\"2003-10-20T00:00:00\",\"2003-10-21T00:00:00\",\"2003-10-22T00:00:00\",\"2003-10-23T00:00:00\",\"2003-10-24T00:00:00\",\"2003-10-27T00:00:00\",\"2003-10-28T00:00:00\",\"2003-10-29T00:00:00\",\"2003-10-30T00:00:00\",\"2003-10-31T00:00:00\",\"2003-11-03T00:00:00\",\"2003-11-04T00:00:00\",\"2003-11-05T00:00:00\",\"2003-11-06T00:00:00\",\"2003-11-07T00:00:00\",\"2003-11-10T00:00:00\",\"2003-11-11T00:00:00\",\"2003-11-12T00:00:00\",\"2003-11-13T00:00:00\",\"2003-11-14T00:00:00\",\"2003-11-17T00:00:00\",\"2003-11-18T00:00:00\",\"2003-11-19T00:00:00\",\"2003-11-20T00:00:00\",\"2003-11-21T00:00:00\",\"2003-11-24T00:00:00\",\"2003-11-25T00:00:00\",\"2003-11-26T00:00:00\",\"2003-11-28T00:00:00\",\"2003-12-01T00:00:00\",\"2003-12-02T00:00:00\",\"2003-12-03T00:00:00\",\"2003-12-04T00:00:00\",\"2003-12-05T00:00:00\",\"2003-12-08T00:00:00\",\"2003-12-09T00:00:00\",\"2003-12-10T00:00:00\",\"2003-12-11T00:00:00\",\"2003-12-12T00:00:00\",\"2003-12-15T00:00:00\",\"2003-12-16T00:00:00\",\"2003-12-17T00:00:00\",\"2003-12-18T00:00:00\",\"2003-12-19T00:00:00\",\"2003-12-22T00:00:00\",\"2003-12-23T00:00:00\",\"2003-12-24T00:00:00\",\"2003-12-26T00:00:00\",\"2003-12-29T00:00:00\",\"2003-12-30T00:00:00\",\"2003-12-31T00:00:00\",\"2004-01-02T00:00:00\",\"2004-01-05T00:00:00\",\"2004-01-06T00:00:00\",\"2004-01-07T00:00:00\",\"2004-01-08T00:00:00\",\"2004-01-09T00:00:00\",\"2004-01-12T00:00:00\",\"2004-01-13T00:00:00\",\"2004-01-14T00:00:00\",\"2004-01-15T00:00:00\",\"2004-01-16T00:00:00\",\"2004-01-20T00:00:00\",\"2004-01-21T00:00:00\",\"2004-01-22T00:00:00\",\"2004-01-23T00:00:00\",\"2004-01-26T00:00:00\",\"2004-01-27T00:00:00\",\"2004-01-28T00:00:00\",\"2004-01-29T00:00:00\",\"2004-01-30T00:00:00\",\"2004-02-02T00:00:00\",\"2004-02-03T00:00:00\",\"2004-02-04T00:00:00\",\"2004-02-05T00:00:00\",\"2004-02-06T00:00:00\",\"2004-02-09T00:00:00\",\"2004-02-10T00:00:00\",\"2004-02-11T00:00:00\",\"2004-02-12T00:00:00\",\"2004-02-13T00:00:00\",\"2004-02-17T00:00:00\",\"2004-02-18T00:00:00\",\"2004-02-19T00:00:00\",\"2004-02-20T00:00:00\",\"2004-02-23T00:00:00\",\"2004-02-24T00:00:00\",\"2004-02-25T00:00:00\",\"2004-02-26T00:00:00\",\"2004-02-27T00:00:00\",\"2004-03-01T00:00:00\",\"2004-03-02T00:00:00\",\"2004-03-03T00:00:00\",\"2004-03-04T00:00:00\",\"2004-03-05T00:00:00\",\"2004-03-08T00:00:00\",\"2004-03-09T00:00:00\",\"2004-03-10T00:00:00\",\"2004-03-11T00:00:00\",\"2004-03-12T00:00:00\",\"2004-03-15T00:00:00\",\"2004-03-16T00:00:00\",\"2004-03-17T00:00:00\",\"2004-03-18T00:00:00\",\"2004-03-19T00:00:00\",\"2004-03-22T00:00:00\",\"2004-03-23T00:00:00\",\"2004-03-24T00:00:00\",\"2004-03-25T00:00:00\",\"2004-03-26T00:00:00\",\"2004-03-29T00:00:00\",\"2004-03-30T00:00:00\",\"2004-03-31T00:00:00\",\"2004-04-01T00:00:00\",\"2004-04-02T00:00:00\",\"2004-04-05T00:00:00\",\"2004-04-06T00:00:00\",\"2004-04-07T00:00:00\",\"2004-04-08T00:00:00\",\"2004-04-12T00:00:00\",\"2004-04-13T00:00:00\",\"2004-04-14T00:00:00\",\"2004-04-15T00:00:00\",\"2004-04-16T00:00:00\",\"2004-04-19T00:00:00\",\"2004-04-20T00:00:00\",\"2004-04-21T00:00:00\",\"2004-04-22T00:00:00\",\"2004-04-23T00:00:00\",\"2004-04-26T00:00:00\",\"2004-04-27T00:00:00\",\"2004-04-28T00:00:00\",\"2004-04-29T00:00:00\",\"2004-04-30T00:00:00\",\"2004-05-03T00:00:00\",\"2004-05-04T00:00:00\",\"2004-05-05T00:00:00\",\"2004-05-06T00:00:00\",\"2004-05-07T00:00:00\",\"2004-05-10T00:00:00\",\"2004-05-11T00:00:00\",\"2004-05-12T00:00:00\",\"2004-05-13T00:00:00\",\"2004-05-14T00:00:00\",\"2004-05-17T00:00:00\",\"2004-05-18T00:00:00\",\"2004-05-19T00:00:00\",\"2004-05-20T00:00:00\",\"2004-05-21T00:00:00\",\"2004-05-24T00:00:00\",\"2004-05-25T00:00:00\",\"2004-05-26T00:00:00\",\"2004-05-27T00:00:00\",\"2004-05-28T00:00:00\",\"2004-06-01T00:00:00\",\"2004-06-02T00:00:00\",\"2004-06-03T00:00:00\",\"2004-06-04T00:00:00\",\"2004-06-07T00:00:00\",\"2004-06-08T00:00:00\",\"2004-06-09T00:00:00\",\"2004-06-10T00:00:00\",\"2004-06-14T00:00:00\",\"2004-06-15T00:00:00\",\"2004-06-16T00:00:00\",\"2004-06-17T00:00:00\",\"2004-06-18T00:00:00\",\"2004-06-21T00:00:00\",\"2004-06-22T00:00:00\",\"2004-06-23T00:00:00\",\"2004-06-24T00:00:00\",\"2004-06-25T00:00:00\",\"2004-06-28T00:00:00\",\"2004-06-29T00:00:00\",\"2004-06-30T00:00:00\",\"2004-07-01T00:00:00\",\"2004-07-02T00:00:00\",\"2004-07-06T00:00:00\",\"2004-07-07T00:00:00\",\"2004-07-08T00:00:00\",\"2004-07-09T00:00:00\",\"2004-07-12T00:00:00\",\"2004-07-13T00:00:00\",\"2004-07-14T00:00:00\",\"2004-07-15T00:00:00\",\"2004-07-16T00:00:00\",\"2004-07-19T00:00:00\",\"2004-07-20T00:00:00\",\"2004-07-21T00:00:00\",\"2004-07-22T00:00:00\",\"2004-07-23T00:00:00\",\"2004-07-26T00:00:00\",\"2004-07-27T00:00:00\",\"2004-07-28T00:00:00\",\"2004-07-29T00:00:00\",\"2004-07-30T00:00:00\",\"2004-08-02T00:00:00\",\"2004-08-03T00:00:00\",\"2004-08-04T00:00:00\",\"2004-08-05T00:00:00\",\"2004-08-06T00:00:00\",\"2004-08-09T00:00:00\",\"2004-08-10T00:00:00\",\"2004-08-11T00:00:00\",\"2004-08-12T00:00:00\",\"2004-08-13T00:00:00\",\"2004-08-16T00:00:00\",\"2004-08-17T00:00:00\",\"2004-08-18T00:00:00\",\"2004-08-19T00:00:00\",\"2004-08-20T00:00:00\",\"2004-08-23T00:00:00\",\"2004-08-24T00:00:00\",\"2004-08-25T00:00:00\",\"2004-08-26T00:00:00\",\"2004-08-27T00:00:00\",\"2004-08-30T00:00:00\",\"2004-08-31T00:00:00\",\"2004-09-01T00:00:00\",\"2004-09-02T00:00:00\",\"2004-09-03T00:00:00\",\"2004-09-07T00:00:00\",\"2004-09-08T00:00:00\",\"2004-09-09T00:00:00\",\"2004-09-10T00:00:00\",\"2004-09-13T00:00:00\",\"2004-09-14T00:00:00\",\"2004-09-15T00:00:00\",\"2004-09-16T00:00:00\",\"2004-09-17T00:00:00\",\"2004-09-20T00:00:00\",\"2004-09-21T00:00:00\",\"2004-09-22T00:00:00\",\"2004-09-23T00:00:00\",\"2004-09-24T00:00:00\",\"2004-09-27T00:00:00\",\"2004-09-28T00:00:00\",\"2004-09-29T00:00:00\",\"2004-09-30T00:00:00\",\"2004-10-01T00:00:00\",\"2004-10-04T00:00:00\",\"2004-10-05T00:00:00\",\"2004-10-06T00:00:00\",\"2004-10-07T00:00:00\",\"2004-10-08T00:00:00\",\"2004-10-11T00:00:00\",\"2004-10-12T00:00:00\",\"2004-10-13T00:00:00\",\"2004-10-14T00:00:00\",\"2004-10-15T00:00:00\",\"2004-10-18T00:00:00\",\"2004-10-19T00:00:00\",\"2004-10-20T00:00:00\",\"2004-10-21T00:00:00\",\"2004-10-22T00:00:00\",\"2004-10-25T00:00:00\",\"2004-10-26T00:00:00\",\"2004-10-27T00:00:00\",\"2004-10-28T00:00:00\",\"2004-10-29T00:00:00\",\"2004-11-01T00:00:00\",\"2004-11-02T00:00:00\",\"2004-11-03T00:00:00\",\"2004-11-04T00:00:00\",\"2004-11-05T00:00:00\",\"2004-11-08T00:00:00\",\"2004-11-09T00:00:00\",\"2004-11-10T00:00:00\",\"2004-11-11T00:00:00\",\"2004-11-12T00:00:00\",\"2004-11-15T00:00:00\",\"2004-11-16T00:00:00\",\"2004-11-17T00:00:00\",\"2004-11-18T00:00:00\",\"2004-11-19T00:00:00\",\"2004-11-22T00:00:00\",\"2004-11-23T00:00:00\",\"2004-11-24T00:00:00\",\"2004-11-26T00:00:00\",\"2004-11-29T00:00:00\",\"2004-11-30T00:00:00\",\"2004-12-01T00:00:00\",\"2004-12-02T00:00:00\",\"2004-12-03T00:00:00\",\"2004-12-06T00:00:00\",\"2004-12-07T00:00:00\",\"2004-12-08T00:00:00\",\"2004-12-09T00:00:00\",\"2004-12-10T00:00:00\",\"2004-12-13T00:00:00\",\"2004-12-14T00:00:00\",\"2004-12-15T00:00:00\",\"2004-12-16T00:00:00\",\"2004-12-17T00:00:00\",\"2004-12-20T00:00:00\",\"2004-12-21T00:00:00\",\"2004-12-22T00:00:00\",\"2004-12-23T00:00:00\",\"2004-12-27T00:00:00\",\"2004-12-28T00:00:00\",\"2004-12-29T00:00:00\",\"2004-12-30T00:00:00\",\"2004-12-31T00:00:00\",\"2005-01-03T00:00:00\",\"2005-01-04T00:00:00\",\"2005-01-05T00:00:00\",\"2005-01-06T00:00:00\",\"2005-01-07T00:00:00\",\"2005-01-10T00:00:00\",\"2005-01-11T00:00:00\",\"2005-01-12T00:00:00\",\"2005-01-13T00:00:00\",\"2005-01-14T00:00:00\",\"2005-01-18T00:00:00\",\"2005-01-19T00:00:00\",\"2005-01-20T00:00:00\",\"2005-01-21T00:00:00\",\"2005-01-24T00:00:00\",\"2005-01-25T00:00:00\",\"2005-01-26T00:00:00\",\"2005-01-27T00:00:00\",\"2005-01-28T00:00:00\",\"2005-01-31T00:00:00\",\"2005-02-01T00:00:00\",\"2005-02-02T00:00:00\",\"2005-02-03T00:00:00\",\"2005-02-04T00:00:00\",\"2005-02-07T00:00:00\",\"2005-02-08T00:00:00\",\"2005-02-09T00:00:00\",\"2005-02-10T00:00:00\",\"2005-02-11T00:00:00\",\"2005-02-14T00:00:00\",\"2005-02-15T00:00:00\",\"2005-02-16T00:00:00\",\"2005-02-17T00:00:00\",\"2005-02-18T00:00:00\",\"2005-02-22T00:00:00\",\"2005-02-23T00:00:00\",\"2005-02-24T00:00:00\",\"2005-02-25T00:00:00\",\"2005-02-28T00:00:00\",\"2005-03-01T00:00:00\",\"2005-03-02T00:00:00\",\"2005-03-03T00:00:00\",\"2005-03-04T00:00:00\",\"2005-03-07T00:00:00\",\"2005-03-08T00:00:00\",\"2005-03-09T00:00:00\",\"2005-03-10T00:00:00\",\"2005-03-11T00:00:00\",\"2005-03-14T00:00:00\",\"2005-03-15T00:00:00\",\"2005-03-16T00:00:00\",\"2005-03-17T00:00:00\",\"2005-03-18T00:00:00\",\"2005-03-21T00:00:00\",\"2005-03-22T00:00:00\",\"2005-03-23T00:00:00\",\"2005-03-24T00:00:00\",\"2005-03-28T00:00:00\",\"2005-03-29T00:00:00\",\"2005-03-30T00:00:00\",\"2005-03-31T00:00:00\",\"2005-04-01T00:00:00\",\"2005-04-04T00:00:00\",\"2005-04-05T00:00:00\",\"2005-04-06T00:00:00\",\"2005-04-07T00:00:00\",\"2005-04-08T00:00:00\",\"2005-04-11T00:00:00\",\"2005-04-12T00:00:00\",\"2005-04-13T00:00:00\",\"2005-04-14T00:00:00\",\"2005-04-15T00:00:00\",\"2005-04-18T00:00:00\",\"2005-04-19T00:00:00\",\"2005-04-20T00:00:00\",\"2005-04-21T00:00:00\",\"2005-04-22T00:00:00\",\"2005-04-25T00:00:00\",\"2005-04-26T00:00:00\",\"2005-04-27T00:00:00\",\"2005-04-28T00:00:00\",\"2005-04-29T00:00:00\",\"2005-05-02T00:00:00\",\"2005-05-03T00:00:00\",\"2005-05-04T00:00:00\",\"2005-05-05T00:00:00\",\"2005-05-06T00:00:00\",\"2005-05-09T00:00:00\",\"2005-05-10T00:00:00\",\"2005-05-11T00:00:00\",\"2005-05-12T00:00:00\",\"2005-05-13T00:00:00\",\"2005-05-16T00:00:00\",\"2005-05-17T00:00:00\",\"2005-05-18T00:00:00\",\"2005-05-19T00:00:00\",\"2005-05-20T00:00:00\",\"2005-05-23T00:00:00\",\"2005-05-24T00:00:00\",\"2005-05-25T00:00:00\",\"2005-05-26T00:00:00\",\"2005-05-27T00:00:00\",\"2005-05-31T00:00:00\",\"2005-06-01T00:00:00\",\"2005-06-02T00:00:00\",\"2005-06-03T00:00:00\",\"2005-06-06T00:00:00\",\"2005-06-07T00:00:00\",\"2005-06-08T00:00:00\",\"2005-06-09T00:00:00\",\"2005-06-10T00:00:00\",\"2005-06-13T00:00:00\",\"2005-06-14T00:00:00\",\"2005-06-15T00:00:00\",\"2005-06-16T00:00:00\",\"2005-06-17T00:00:00\",\"2005-06-20T00:00:00\",\"2005-06-21T00:00:00\",\"2005-06-22T00:00:00\",\"2005-06-23T00:00:00\",\"2005-06-24T00:00:00\",\"2005-06-27T00:00:00\",\"2005-06-28T00:00:00\",\"2005-06-29T00:00:00\",\"2005-06-30T00:00:00\",\"2005-07-01T00:00:00\",\"2005-07-05T00:00:00\"],\"y\":[16.549701690673828,16.640390396118164,16.3370418548584,16.546566009521484,16.218204498291016,16.199440002441406,16.027435302734375,16.261978149414062,15.983657836914062,15.498924255371094,14.857823371887207,13.450532913208008,14.457524299621582,13.394245147705078,14.182324409484863,15.089241981506348,15.042332649230957,15.004805564880371,14.307418823242188,13.888357162475586,13.757012367248535,14.282400131225586,14.72647762298584,15.295649528503418,15.048584938049316,15.158053398132324,14.717092514038086,15.5458345413208,15.564602851867676,15.636523246765137,16.261978149414062,15.961761474609375,16.349546432495117,16.646648406982422,16.330785751342773,16.29326057434082,15.899218559265137,15.442635536193848,15.81790542602539,15.348809242248535,14.70458984375,15.076733589172363,14.357453346252441,14.954771995544434,15.229972839355469,15.570847511291504,15.192442893981934,14.745244979858398,14.982917785644531,14.942255973815918,14.789021492004395,14.932876586914062,14.760875701904297,14.842190742492676,14.144800186157227,14.273022651672363,14.545092582702637,14.448147773742676,14.151055335998535,13.67883014678955,14.457524299621582,14.263636589050293,14.010323524475098,13.688216209411621,13.775778770446777,14.069747924804688,13.757012367248535,14.504437446594238,15.283141136169434,15.41448974609375,16.35266876220703,15.764744758605957,15.877334594726562,16.621625900268555,16.42147445678711,16.15877342224121,16.637252807617188,16.021181106567383,16.474641799926758,16.246339797973633,16.283872604370117,16.609111785888672,16.721694946289062,16.574722290039062,17.54418182373047,17.725553512573242,17.835018157958984,17.516029357910156,17.231449127197266,16.84366226196289,17.04694366455078,17.312755584716797,17.822509765625,17.728696823120117,17.46599578857422,17.15639305114746,17.706796646118164,18.088329315185547,18.207168579101562,18.210298538208008,17.794363021850586,18.16338539123535,18.038297653198242,18.04142189025879,17.734939575195312,17.681781768798828,17.306499481201172,17.347156524658203,16.740467071533203,16.890579223632812,17.09384536743164,16.94061279296875,16.418352127075195,17.037553787231445,17.000036239624023,16.740467071533203,16.609111785888672,16.587228775024414,16.8874454498291,16.83115005493164,16.69667625427246,16.565336227416992,16.496530532836914,16.168169021606445,16.799884796142578,16.821773529052734,17.12824249267578,17.450361251831055,16.962499618530273,17.4534912109375,17.487886428833008,17.634870529174805,17.816259384155273,17.597341537475586,17.30962562561035,16.093107223510742,16.05245590209961,15.949251174926758,16.349546432495117,15.589613914489746,15.376957893371582,15.267497062683105,15.608378410339355,15.08612060546875,14.842190742492676,15.186188697814941,14.7984037399292,14.685819625854492,14.829673767089844,14.566985130310059,14.817169189453125,14.523199081420898,14.523199081420898,14.695208549499512,15.104891777038574,15.611503601074219,15.391894340515137,15.147173881530762,15.454636573791504,15.103255271911621,15.178544998168945,14.814614295959473,14.795790672302246,14.871092796325684,14.770697593688965,14.475777626037598,14.707945823669434,14.601277351379395,14.78324031829834,14.400483131408691,14.306365013122559,14.676572799682617,15.479731559753418,15.598956108093262,16.27035140991211,16.339370727539062,16.51505470275879,16.471145629882812,16.671926498413086,15.868766784667969,15.994258880615234,15.843667984008789,15.711899757385254,15.479731559753418,15.191100120544434,15.27894401550293,16.138580322265625,16.14485740661621,15.743270874023438,15.793474197387695,16.050735473632812,15.416988372802734,15.429540634155273,15.18482494354248,15.536205291748047,15.435812950134277,15.636603355407715,16.000537872314453,15.818565368652344,16.163681030273438,16.138580322265625,15.994258880615234,15.824850082397461,16.151124954223633,16.18877410888672,16.044456481933594,16.138580322265625,16.37702751159668,16.22643280029297,16.546438217163086,16.30799674987793,16.151124954223633,16.540157318115234,16.439760208129883,16.30799674987793,16.075836181640625,16.1824951171875,16.044456481933594,15.536205291748047,15.454636573791504,15.078158378601074,15.159730911254883,15.197376251220703,15.555038452148438,15.316590309143066,15.310318946838379,15.442082405090332,15.460912704467773,15.611505508422852,15.605234146118164,15.115800857543945,14.85226058959961,14.902461051940918,15.486007690429688,15.611505508422852,15.680526733398438,15.467183113098145,15.9315185546875,16.289175033569336,16.358198165893555,16.358198165893555,16.52133560180664,16.17623519897461,16.126035690307617,15.84994125366211,16.157405853271484,16.082109451293945,16.08837890625,16.408395767211914,16.866455078125,16.62801742553711,17.20528793334961,17.380971908569336,17.23665428161621,16.88526725769043,17.13626480102539,17.19273567199707,17.11116600036621,17.26803207397461,16.74723243713379,16.872730255126953,16.339370727539062,16.552711486816406,16.59663963317871,16.314268112182617,16.872730255126953,16.69702911376953,16.609182357788086,16.458593368530273,16.5715274810791,16.420944213867188,16.427221298217773,16.100936889648438,16.09465789794922,16.132314682006836,16.050735473632812,16.069561004638672,16.14485740661621,16.063282012939453,16.082109451293945,16.025632858276367,16.126035690307617,16.703304290771484,16.59663963317871,16.46486473083496,16.452320098876953,16.62801742553711,16.671926498413086,16.577816009521484,16.634281158447266,16.640562057495117,17.104887008666992,17.757448196411133,17.83903694152832,17.807655334472656,18.096296310424805,17.801382064819336,17.28685188293457,17.46881866455078,17.782550811767578,17.795114517211914,18.133943557739258,17.882951736450195,18.510421752929688,18.799062728881836,18.240617752075195,18.57316780090332,17.85785484313965,17.719810485839844,17.688438415527344,18.09001922607422,17.4437255859375,17.89550018310547,17.882951736450195,18.246885299682617,18.3159122467041,18.284536361694336,18.083742141723633,18.159042358398438,18.140220642089844,18.058645248413086,17.995895385742188,18.342947006225586,18.44390106201172,18.254606246948242,18.51961898803711,18.51961898803711,18.229366302490234,18.241992950439453,16.790695190429688,16.979997634887695,17.162988662719727,16.87273597717285,16.481517791748047,16.494142532348633,16.834867477416992,16.44997215270996,16.46889877319336,16.550926208496094,16.46889877319336,16.40579605102539,16.27959632873535,16.393173217773438,16.21019172668457,16.090299606323242,15.869453430175781,15.869453430175781,15.995656967163086,15.837905883789062,15.84421443939209,16.23543357849121,16.027198791503906,16.05875587463379,16.222814559936523,16.304840087890625,16.191261291503906,16.197574615478516,16.531993865966797,16.393173217773438,16.557235717773438,16.64557647705078,16.77808380126953,16.790695190429688,16.81594467163086,16.87273597717285,17.074647903442383,17.06202507019043,17.289182662963867,17.263944625854492,17.15036964416504,17.131439208984375,17.06202507019043,17.169300079345703,17.327051162719727,17.364910125732422,17.270259857177734,17.320741653442383,17.756120681762695,17.81922149658203,17.800289154052734,17.768735885620117,17.453245162963867,17.396459579467773,17.308122634887695,17.478483200073242,17.377519607543945,17.54789924621582,17.730880737304688,17.857072830200195,17.67409324645996,17.970661163330078,18.172576904296875,17.82553482055664,17.48479461669922,17.610992431640625,17.44693946838379,17.289182662963867,17.21977996826172,17.043100357055664,17.011550903320312,17.08727264404297,16.973695755004883,17.04941749572754,17.131439208984375,17.005245208740234,16.77808380126953,17.030485153198242,16.89166259765625,16.696054458618164,16.765464782714844,16.790695190429688,16.961076736450195,16.84749412536621,16.721302032470703,16.74022674560547,16.84749412536621,16.65188217163086,16.63926887512207,16.63926887512207,16.62665557861328,16.29852867126465,16.229116439819336,16.008277893066406,15.831587791442871,16.01458168029785,15.875765800476074,15.888387680053711,15.856836318969727,15.705398559570312,15.541339874267578,15.459309577941895,15.238470077514648,15.402520179748535,15.894697189331055,15.793730735778809,15.970410346984863,15.9010009765625,15.730636596679688,15.825284957885742,16.311153411865234,16.37425422668457,16.27959632873535,16.147092819213867,16.07768440246582,16.15970802307129,16.05875587463379,16.096616744995117,15.913628578186035,15.875765800476074,16.10923194885254,15.983030319213867,16.05875587463379,16.37425422668457,17.377519607543945,17.188228607177734,17.175609588623047,16.759151458740234,16.708675384521484,16.487823486328125,16.62665557861328,16.614025115966797,16.595096588134766,16.481517791748047,16.266983032226562,16.361629486083984,16.367938995361328,16.367938995361328,16.46889877319336,16.317461013793945,16.115549087524414,16.29852867126465,16.16602325439453,16.23543357849121,16.336389541625977,16.25435447692871,16.46889877319336,16.494142532348633,16.525686264038086,16.550926208496094,16.475200653076172,16.487823486328125,16.336389541625977,16.37425422668457,16.677122116088867,16.784393310546875,16.702362060546875,16.89166259765625,16.973695755004883,17.295499801635742,17.23870849609375,17.522659301757812,17.888629913330078,17.888629913330078,17.850770950317383,17.857072830200195,17.913875579833984,18.027448654174805,17.84446144104004,17.983274459838867,18.021141052246094,18.0653018951416,18.027448654174805,17.680404663085938,17.730880737304688,17.440631866455078,17.57944679260254,17.598379135131836,17.415390014648438,17.749813079833984,17.58574867248535,17.339672088623047,17.63623809814453,17.869701385498047,18.210439682006836,18.298770904541016,17.686708450317383,18.084238052368164,17.94542121887207,18.033756256103516,17.970661163330078,17.97696876525879,17.995899200439453,17.711957931518555,17.705644607543945,17.371217727661133,17.1251277923584,17.15036964416504,17.491104125976562,17.295499801635742,16.961076736450195,17.04941749572754,17.093585968017578,17.068342208862305,17.327051162719727,17.112510681152344,17.162988662719727,17.238929748535156,17.238929748535156,17.435108184814453,17.36550521850586,17.378156661987305,17.27690315246582,17.27690315246582,17.333860397338867,17.479421615600586,17.156661987304688,17.31487274169922,17.2515811920166,17.26424789428711,17.39714241027832,17.245264053344727,17.36550521850586,17.20728874206543,17.2515811920166,17.40980339050293,17.40980339050293,17.2515811920166,17.162988662719727,17.308551788330078,17.27058219909668,17.20728874206543,17.257917404174805,17.454103469848633,17.49840545654297,17.878116607666016,17.79584312438965,17.96038055419922,18.055313110351562,17.827489852905273,17.71356964111328,17.757869720458984,17.738889694213867,17.738889694213867,17.593326568603516,17.71356964111328,17.9793701171875,17.833810806274414,18.16289710998535,18.074296951293945,17.555360794067383,17.485746383666992,17.656620025634766,17.8148250579834,17.726228713989258,17.700910568237305,17.770524978637695,17.871782302856445,18.01734733581543,18.352754592895508,18.54894256591797,18.529951095581055,18.840045928955078,18.814733505249023,18.972951889038086,18.96662712097168,19.31929588317871,19.128847122192383,19.16411590576172,19.093585968017578,18.945463180541992,18.797338485717773,18.71269416809082,18.790281295776367,18.76207160949707,18.881982803344727,18.91019058227539,19.22054672241211,19.107694625854492,19.206436157226562,19.276968002319336,19.093585968017578,19.298131942749023,19.206436157226562,19.10064125061035,19.22054672241211,19.206436157226562,19.12179946899414,19.15706443786621,19.015989303588867,19.008934020996094,19.093585968017578,19.02305030822754,19.0512638092041,18.938405990600586,19.008934020996094,18.973674774169922,18.874927520751953,18.846715927124023,18.860816955566406,18.931360244750977,18.889036178588867,18.867876052856445,18.811443328857422,18.903141021728516,18.853761672973633,18.889036178588867,18.529315948486328,18.423503875732422,18.564579010009766,18.324764251708984,18.240123748779297,18.091997146606445,18.10611343383789,18.352977752685547,18.345924377441406,18.41645622253418,18.465831756591797,18.536361694335938,18.61395263671875,18.663328170776367,18.465831756591797,18.564579010009766,18.451725006103516,18.508142471313477,18.388242721557617,18.381189346313477,18.31770896911621,18.345924377441406,18.345924377441406,18.24686622619629,18.147817611694336,18.027538299560547,17.850666046142578,17.82943344116211,17.94971466064453,17.864810943603516,17.801132202148438,17.886035919189453,17.871885299682617,17.80820655822754,17.80820655822754,18.020462036132812,17.970935821533203,17.907255172729492,17.992162704467773,17.751604080200195,17.765750885009766,17.624258041381836,17.426151275634766,17.362472534179688,17.19974708557129,17.12192153930664,16.973337173461914,17.10776710510254,17.178518295288086,17.12192153930664,16.92380714416504,17.093624114990234,17.10069465637207,17.06531524658203,17.143136978149414,17.312942504882812,17.454448699951172,17.758684158325195,17.645479202270508,17.666706085205078,17.914337158203125,17.71624183654785,17.574726104736328,17.305862426757812,17.440296173095703,17.426151275634766,17.20682144165039,17.886035919189453,17.67378044128418,17.68086051940918,17.51812744140625,17.68086051940918,17.29880142211914,17.90018081665039,17.850666046142578,17.942638397216797,17.836509704589844,17.850666046142578,17.843585968017578,17.765750885009766,17.61717987060547,17.624258041381836,17.687929153442383,17.90018081665039,18.091821670532227,18.07052993774414,18.24087142944336,18.397024154663086,18.269254684448242,18.347332000732422,18.276355743408203,18.247974395751953,18.382822036743164,18.50348663330078,18.311845779418945,18.31894302368164,18.304744720458984,18.04923439025879,18.006650924682617,18.10601806640625,18.027944564819336,18.10601806640625,18.04923439025879,17.96405601501465,17.999555587768555,17.928571701049805,17.772432327270508,17.772432327270508,17.822107315063477,17.850500106811523,17.793718338012695,17.96405601501465,17.772432327270508,17.779523849487305,17.793718338012695,17.80790901184082,17.63047218322754,17.53820037841797,17.729843139648438],\"type\":\"scatter\"},{\"mode\":\"lines+markers\",\"name\":\"predicted\",\"x\":[\"2002-07-08T00:00:00\",\"2002-07-09T00:00:00\",\"2002-07-10T00:00:00\",\"2002-07-11T00:00:00\",\"2002-07-12T00:00:00\",\"2002-07-15T00:00:00\",\"2002-07-16T00:00:00\",\"2002-07-17T00:00:00\",\"2002-07-18T00:00:00\",\"2002-07-19T00:00:00\",\"2002-07-22T00:00:00\",\"2002-07-23T00:00:00\",\"2002-07-24T00:00:00\",\"2002-07-25T00:00:00\",\"2002-07-26T00:00:00\",\"2002-07-29T00:00:00\",\"2002-07-30T00:00:00\",\"2002-07-31T00:00:00\",\"2002-08-01T00:00:00\",\"2002-08-02T00:00:00\",\"2002-08-05T00:00:00\",\"2002-08-06T00:00:00\",\"2002-08-07T00:00:00\",\"2002-08-08T00:00:00\",\"2002-08-09T00:00:00\",\"2002-08-12T00:00:00\",\"2002-08-13T00:00:00\",\"2002-08-14T00:00:00\",\"2002-08-15T00:00:00\",\"2002-08-16T00:00:00\",\"2002-08-19T00:00:00\",\"2002-08-20T00:00:00\",\"2002-08-21T00:00:00\",\"2002-08-22T00:00:00\",\"2002-08-23T00:00:00\",\"2002-08-26T00:00:00\",\"2002-08-27T00:00:00\",\"2002-08-28T00:00:00\",\"2002-08-29T00:00:00\",\"2002-08-30T00:00:00\",\"2002-09-03T00:00:00\",\"2002-09-04T00:00:00\",\"2002-09-05T00:00:00\",\"2002-09-06T00:00:00\",\"2002-09-09T00:00:00\",\"2002-09-10T00:00:00\",\"2002-09-11T00:00:00\",\"2002-09-12T00:00:00\",\"2002-09-13T00:00:00\",\"2002-09-16T00:00:00\",\"2002-09-17T00:00:00\",\"2002-09-18T00:00:00\",\"2002-09-19T00:00:00\",\"2002-09-20T00:00:00\",\"2002-09-23T00:00:00\",\"2002-09-24T00:00:00\",\"2002-09-25T00:00:00\",\"2002-09-26T00:00:00\",\"2002-09-27T00:00:00\",\"2002-09-30T00:00:00\",\"2002-10-01T00:00:00\",\"2002-10-02T00:00:00\",\"2002-10-03T00:00:00\",\"2002-10-04T00:00:00\",\"2002-10-07T00:00:00\",\"2002-10-08T00:00:00\",\"2002-10-09T00:00:00\",\"2002-10-10T00:00:00\",\"2002-10-11T00:00:00\",\"2002-10-14T00:00:00\",\"2002-10-15T00:00:00\",\"2002-10-16T00:00:00\",\"2002-10-17T00:00:00\",\"2002-10-18T00:00:00\",\"2002-10-21T00:00:00\",\"2002-10-22T00:00:00\",\"2002-10-23T00:00:00\",\"2002-10-24T00:00:00\",\"2002-10-25T00:00:00\",\"2002-10-28T00:00:00\",\"2002-10-29T00:00:00\",\"2002-10-30T00:00:00\",\"2002-10-31T00:00:00\",\"2002-11-01T00:00:00\",\"2002-11-04T00:00:00\",\"2002-11-05T00:00:00\",\"2002-11-06T00:00:00\",\"2002-11-07T00:00:00\",\"2002-11-08T00:00:00\",\"2002-11-11T00:00:00\",\"2002-11-12T00:00:00\",\"2002-11-13T00:00:00\",\"2002-11-14T00:00:00\",\"2002-11-15T00:00:00\",\"2002-11-18T00:00:00\",\"2002-11-19T00:00:00\",\"2002-11-20T00:00:00\",\"2002-11-21T00:00:00\",\"2002-11-22T00:00:00\",\"2002-11-25T00:00:00\",\"2002-11-26T00:00:00\",\"2002-11-27T00:00:00\",\"2002-11-29T00:00:00\",\"2002-12-02T00:00:00\",\"2002-12-03T00:00:00\",\"2002-12-04T00:00:00\",\"2002-12-05T00:00:00\",\"2002-12-06T00:00:00\",\"2002-12-09T00:00:00\",\"2002-12-10T00:00:00\",\"2002-12-11T00:00:00\",\"2002-12-12T00:00:00\",\"2002-12-13T00:00:00\",\"2002-12-16T00:00:00\",\"2002-12-17T00:00:00\",\"2002-12-18T00:00:00\",\"2002-12-19T00:00:00\",\"2002-12-20T00:00:00\",\"2002-12-23T00:00:00\",\"2002-12-24T00:00:00\",\"2002-12-26T00:00:00\",\"2002-12-27T00:00:00\",\"2002-12-30T00:00:00\",\"2002-12-31T00:00:00\",\"2003-01-02T00:00:00\",\"2003-01-03T00:00:00\",\"2003-01-06T00:00:00\",\"2003-01-07T00:00:00\",\"2003-01-08T00:00:00\",\"2003-01-09T00:00:00\",\"2003-01-10T00:00:00\",\"2003-01-13T00:00:00\",\"2003-01-14T00:00:00\",\"2003-01-15T00:00:00\",\"2003-01-16T00:00:00\",\"2003-01-17T00:00:00\",\"2003-01-21T00:00:00\",\"2003-01-22T00:00:00\",\"2003-01-23T00:00:00\",\"2003-01-24T00:00:00\",\"2003-01-27T00:00:00\",\"2003-01-28T00:00:00\",\"2003-01-29T00:00:00\",\"2003-01-30T00:00:00\",\"2003-01-31T00:00:00\",\"2003-02-03T00:00:00\",\"2003-02-04T00:00:00\",\"2003-02-05T00:00:00\",\"2003-02-06T00:00:00\",\"2003-02-07T00:00:00\",\"2003-02-10T00:00:00\",\"2003-02-11T00:00:00\",\"2003-02-12T00:00:00\",\"2003-02-13T00:00:00\",\"2003-02-14T00:00:00\",\"2003-02-18T00:00:00\",\"2003-02-19T00:00:00\",\"2003-02-20T00:00:00\",\"2003-02-21T00:00:00\",\"2003-02-24T00:00:00\",\"2003-02-25T00:00:00\",\"2003-02-26T00:00:00\",\"2003-02-27T00:00:00\",\"2003-02-28T00:00:00\",\"2003-03-03T00:00:00\",\"2003-03-04T00:00:00\",\"2003-03-05T00:00:00\",\"2003-03-06T00:00:00\",\"2003-03-07T00:00:00\",\"2003-03-10T00:00:00\",\"2003-03-11T00:00:00\",\"2003-03-12T00:00:00\",\"2003-03-13T00:00:00\",\"2003-03-14T00:00:00\",\"2003-03-17T00:00:00\",\"2003-03-18T00:00:00\",\"2003-03-19T00:00:00\",\"2003-03-20T00:00:00\",\"2003-03-21T00:00:00\",\"2003-03-24T00:00:00\",\"2003-03-25T00:00:00\",\"2003-03-26T00:00:00\",\"2003-03-27T00:00:00\",\"2003-03-28T00:00:00\",\"2003-03-31T00:00:00\",\"2003-04-01T00:00:00\",\"2003-04-02T00:00:00\",\"2003-04-03T00:00:00\",\"2003-04-04T00:00:00\",\"2003-04-07T00:00:00\",\"2003-04-08T00:00:00\",\"2003-04-09T00:00:00\",\"2003-04-10T00:00:00\",\"2003-04-11T00:00:00\",\"2003-04-14T00:00:00\",\"2003-04-15T00:00:00\",\"2003-04-16T00:00:00\",\"2003-04-17T00:00:00\",\"2003-04-21T00:00:00\",\"2003-04-22T00:00:00\",\"2003-04-23T00:00:00\",\"2003-04-24T00:00:00\",\"2003-04-25T00:00:00\",\"2003-04-28T00:00:00\",\"2003-04-29T00:00:00\",\"2003-04-30T00:00:00\",\"2003-05-01T00:00:00\",\"2003-05-02T00:00:00\",\"2003-05-05T00:00:00\",\"2003-05-06T00:00:00\",\"2003-05-07T00:00:00\",\"2003-05-08T00:00:00\",\"2003-05-09T00:00:00\",\"2003-05-12T00:00:00\",\"2003-05-13T00:00:00\",\"2003-05-14T00:00:00\",\"2003-05-15T00:00:00\",\"2003-05-16T00:00:00\",\"2003-05-19T00:00:00\",\"2003-05-20T00:00:00\",\"2003-05-21T00:00:00\",\"2003-05-22T00:00:00\",\"2003-05-23T00:00:00\",\"2003-05-27T00:00:00\",\"2003-05-28T00:00:00\",\"2003-05-29T00:00:00\",\"2003-05-30T00:00:00\",\"2003-06-02T00:00:00\",\"2003-06-03T00:00:00\",\"2003-06-04T00:00:00\",\"2003-06-05T00:00:00\",\"2003-06-06T00:00:00\",\"2003-06-09T00:00:00\",\"2003-06-10T00:00:00\",\"2003-06-11T00:00:00\",\"2003-06-12T00:00:00\",\"2003-06-13T00:00:00\",\"2003-06-16T00:00:00\",\"2003-06-17T00:00:00\",\"2003-06-18T00:00:00\",\"2003-06-19T00:00:00\",\"2003-06-20T00:00:00\",\"2003-06-23T00:00:00\",\"2003-06-24T00:00:00\",\"2003-06-25T00:00:00\",\"2003-06-26T00:00:00\",\"2003-06-27T00:00:00\",\"2003-06-30T00:00:00\",\"2003-07-01T00:00:00\",\"2003-07-02T00:00:00\",\"2003-07-03T00:00:00\",\"2003-07-07T00:00:00\",\"2003-07-08T00:00:00\",\"2003-07-09T00:00:00\",\"2003-07-10T00:00:00\",\"2003-07-11T00:00:00\",\"2003-07-14T00:00:00\",\"2003-07-15T00:00:00\",\"2003-07-16T00:00:00\",\"2003-07-17T00:00:00\",\"2003-07-18T00:00:00\",\"2003-07-21T00:00:00\",\"2003-07-22T00:00:00\",\"2003-07-23T00:00:00\",\"2003-07-24T00:00:00\",\"2003-07-25T00:00:00\",\"2003-07-28T00:00:00\",\"2003-07-29T00:00:00\",\"2003-07-30T00:00:00\",\"2003-07-31T00:00:00\",\"2003-08-01T00:00:00\",\"2003-08-04T00:00:00\",\"2003-08-05T00:00:00\",\"2003-08-06T00:00:00\",\"2003-08-07T00:00:00\",\"2003-08-08T00:00:00\",\"2003-08-11T00:00:00\",\"2003-08-12T00:00:00\",\"2003-08-13T00:00:00\",\"2003-08-14T00:00:00\",\"2003-08-15T00:00:00\",\"2003-08-18T00:00:00\",\"2003-08-19T00:00:00\",\"2003-08-20T00:00:00\",\"2003-08-21T00:00:00\",\"2003-08-22T00:00:00\",\"2003-08-25T00:00:00\",\"2003-08-26T00:00:00\",\"2003-08-27T00:00:00\",\"2003-08-28T00:00:00\",\"2003-08-29T00:00:00\",\"2003-09-02T00:00:00\",\"2003-09-03T00:00:00\",\"2003-09-04T00:00:00\",\"2003-09-05T00:00:00\",\"2003-09-08T00:00:00\",\"2003-09-09T00:00:00\",\"2003-09-10T00:00:00\",\"2003-09-11T00:00:00\",\"2003-09-12T00:00:00\",\"2003-09-15T00:00:00\",\"2003-09-16T00:00:00\",\"2003-09-17T00:00:00\",\"2003-09-18T00:00:00\",\"2003-09-19T00:00:00\",\"2003-09-22T00:00:00\",\"2003-09-23T00:00:00\",\"2003-09-24T00:00:00\",\"2003-09-25T00:00:00\",\"2003-09-26T00:00:00\",\"2003-09-29T00:00:00\",\"2003-09-30T00:00:00\",\"2003-10-01T00:00:00\",\"2003-10-02T00:00:00\",\"2003-10-03T00:00:00\",\"2003-10-06T00:00:00\",\"2003-10-07T00:00:00\",\"2003-10-08T00:00:00\",\"2003-10-09T00:00:00\",\"2003-10-10T00:00:00\",\"2003-10-13T00:00:00\",\"2003-10-14T00:00:00\",\"2003-10-15T00:00:00\",\"2003-10-16T00:00:00\",\"2003-10-17T00:00:00\",\"2003-10-20T00:00:00\",\"2003-10-21T00:00:00\",\"2003-10-22T00:00:00\",\"2003-10-23T00:00:00\",\"2003-10-24T00:00:00\",\"2003-10-27T00:00:00\",\"2003-10-28T00:00:00\",\"2003-10-29T00:00:00\",\"2003-10-30T00:00:00\",\"2003-10-31T00:00:00\",\"2003-11-03T00:00:00\",\"2003-11-04T00:00:00\",\"2003-11-05T00:00:00\",\"2003-11-06T00:00:00\",\"2003-11-07T00:00:00\",\"2003-11-10T00:00:00\",\"2003-11-11T00:00:00\",\"2003-11-12T00:00:00\",\"2003-11-13T00:00:00\",\"2003-11-14T00:00:00\",\"2003-11-17T00:00:00\",\"2003-11-18T00:00:00\",\"2003-11-19T00:00:00\",\"2003-11-20T00:00:00\",\"2003-11-21T00:00:00\",\"2003-11-24T00:00:00\",\"2003-11-25T00:00:00\",\"2003-11-26T00:00:00\",\"2003-11-28T00:00:00\",\"2003-12-01T00:00:00\",\"2003-12-02T00:00:00\",\"2003-12-03T00:00:00\",\"2003-12-04T00:00:00\",\"2003-12-05T00:00:00\",\"2003-12-08T00:00:00\",\"2003-12-09T00:00:00\",\"2003-12-10T00:00:00\",\"2003-12-11T00:00:00\",\"2003-12-12T00:00:00\",\"2003-12-15T00:00:00\",\"2003-12-16T00:00:00\",\"2003-12-17T00:00:00\",\"2003-12-18T00:00:00\",\"2003-12-19T00:00:00\",\"2003-12-22T00:00:00\",\"2003-12-23T00:00:00\",\"2003-12-24T00:00:00\",\"2003-12-26T00:00:00\",\"2003-12-29T00:00:00\",\"2003-12-30T00:00:00\",\"2003-12-31T00:00:00\",\"2004-01-02T00:00:00\",\"2004-01-05T00:00:00\",\"2004-01-06T00:00:00\",\"2004-01-07T00:00:00\",\"2004-01-08T00:00:00\",\"2004-01-09T00:00:00\",\"2004-01-12T00:00:00\",\"2004-01-13T00:00:00\",\"2004-01-14T00:00:00\",\"2004-01-15T00:00:00\",\"2004-01-16T00:00:00\",\"2004-01-20T00:00:00\",\"2004-01-21T00:00:00\",\"2004-01-22T00:00:00\",\"2004-01-23T00:00:00\",\"2004-01-26T00:00:00\",\"2004-01-27T00:00:00\",\"2004-01-28T00:00:00\",\"2004-01-29T00:00:00\",\"2004-01-30T00:00:00\",\"2004-02-02T00:00:00\",\"2004-02-03T00:00:00\",\"2004-02-04T00:00:00\",\"2004-02-05T00:00:00\",\"2004-02-06T00:00:00\",\"2004-02-09T00:00:00\",\"2004-02-10T00:00:00\",\"2004-02-11T00:00:00\",\"2004-02-12T00:00:00\",\"2004-02-13T00:00:00\",\"2004-02-17T00:00:00\",\"2004-02-18T00:00:00\",\"2004-02-19T00:00:00\",\"2004-02-20T00:00:00\",\"2004-02-23T00:00:00\",\"2004-02-24T00:00:00\",\"2004-02-25T00:00:00\",\"2004-02-26T00:00:00\",\"2004-02-27T00:00:00\",\"2004-03-01T00:00:00\",\"2004-03-02T00:00:00\",\"2004-03-03T00:00:00\",\"2004-03-04T00:00:00\",\"2004-03-05T00:00:00\",\"2004-03-08T00:00:00\",\"2004-03-09T00:00:00\",\"2004-03-10T00:00:00\",\"2004-03-11T00:00:00\",\"2004-03-12T00:00:00\",\"2004-03-15T00:00:00\",\"2004-03-16T00:00:00\",\"2004-03-17T00:00:00\",\"2004-03-18T00:00:00\",\"2004-03-19T00:00:00\",\"2004-03-22T00:00:00\",\"2004-03-23T00:00:00\",\"2004-03-24T00:00:00\",\"2004-03-25T00:00:00\",\"2004-03-26T00:00:00\",\"2004-03-29T00:00:00\",\"2004-03-30T00:00:00\",\"2004-03-31T00:00:00\",\"2004-04-01T00:00:00\",\"2004-04-02T00:00:00\",\"2004-04-05T00:00:00\",\"2004-04-06T00:00:00\",\"2004-04-07T00:00:00\",\"2004-04-08T00:00:00\",\"2004-04-12T00:00:00\",\"2004-04-13T00:00:00\",\"2004-04-14T00:00:00\",\"2004-04-15T00:00:00\",\"2004-04-16T00:00:00\",\"2004-04-19T00:00:00\",\"2004-04-20T00:00:00\",\"2004-04-21T00:00:00\",\"2004-04-22T00:00:00\",\"2004-04-23T00:00:00\",\"2004-04-26T00:00:00\",\"2004-04-27T00:00:00\",\"2004-04-28T00:00:00\",\"2004-04-29T00:00:00\",\"2004-04-30T00:00:00\",\"2004-05-03T00:00:00\",\"2004-05-04T00:00:00\",\"2004-05-05T00:00:00\",\"2004-05-06T00:00:00\",\"2004-05-07T00:00:00\",\"2004-05-10T00:00:00\",\"2004-05-11T00:00:00\",\"2004-05-12T00:00:00\",\"2004-05-13T00:00:00\",\"2004-05-14T00:00:00\",\"2004-05-17T00:00:00\",\"2004-05-18T00:00:00\",\"2004-05-19T00:00:00\",\"2004-05-20T00:00:00\",\"2004-05-21T00:00:00\",\"2004-05-24T00:00:00\",\"2004-05-25T00:00:00\",\"2004-05-26T00:00:00\",\"2004-05-27T00:00:00\",\"2004-05-28T00:00:00\",\"2004-06-01T00:00:00\",\"2004-06-02T00:00:00\",\"2004-06-03T00:00:00\",\"2004-06-04T00:00:00\",\"2004-06-07T00:00:00\",\"2004-06-08T00:00:00\",\"2004-06-09T00:00:00\",\"2004-06-10T00:00:00\",\"2004-06-14T00:00:00\",\"2004-06-15T00:00:00\",\"2004-06-16T00:00:00\",\"2004-06-17T00:00:00\",\"2004-06-18T00:00:00\",\"2004-06-21T00:00:00\",\"2004-06-22T00:00:00\",\"2004-06-23T00:00:00\",\"2004-06-24T00:00:00\",\"2004-06-25T00:00:00\",\"2004-06-28T00:00:00\",\"2004-06-29T00:00:00\",\"2004-06-30T00:00:00\",\"2004-07-01T00:00:00\",\"2004-07-02T00:00:00\",\"2004-07-06T00:00:00\",\"2004-07-07T00:00:00\",\"2004-07-08T00:00:00\",\"2004-07-09T00:00:00\",\"2004-07-12T00:00:00\",\"2004-07-13T00:00:00\",\"2004-07-14T00:00:00\",\"2004-07-15T00:00:00\",\"2004-07-16T00:00:00\",\"2004-07-19T00:00:00\",\"2004-07-20T00:00:00\",\"2004-07-21T00:00:00\",\"2004-07-22T00:00:00\",\"2004-07-23T00:00:00\",\"2004-07-26T00:00:00\",\"2004-07-27T00:00:00\",\"2004-07-28T00:00:00\",\"2004-07-29T00:00:00\",\"2004-07-30T00:00:00\",\"2004-08-02T00:00:00\",\"2004-08-03T00:00:00\",\"2004-08-04T00:00:00\",\"2004-08-05T00:00:00\",\"2004-08-06T00:00:00\",\"2004-08-09T00:00:00\",\"2004-08-10T00:00:00\",\"2004-08-11T00:00:00\",\"2004-08-12T00:00:00\",\"2004-08-13T00:00:00\",\"2004-08-16T00:00:00\",\"2004-08-17T00:00:00\",\"2004-08-18T00:00:00\",\"2004-08-19T00:00:00\",\"2004-08-20T00:00:00\",\"2004-08-23T00:00:00\",\"2004-08-24T00:00:00\",\"2004-08-25T00:00:00\",\"2004-08-26T00:00:00\",\"2004-08-27T00:00:00\",\"2004-08-30T00:00:00\",\"2004-08-31T00:00:00\",\"2004-09-01T00:00:00\",\"2004-09-02T00:00:00\",\"2004-09-03T00:00:00\",\"2004-09-07T00:00:00\",\"2004-09-08T00:00:00\",\"2004-09-09T00:00:00\",\"2004-09-10T00:00:00\",\"2004-09-13T00:00:00\",\"2004-09-14T00:00:00\",\"2004-09-15T00:00:00\",\"2004-09-16T00:00:00\",\"2004-09-17T00:00:00\",\"2004-09-20T00:00:00\",\"2004-09-21T00:00:00\",\"2004-09-22T00:00:00\",\"2004-09-23T00:00:00\",\"2004-09-24T00:00:00\",\"2004-09-27T00:00:00\",\"2004-09-28T00:00:00\",\"2004-09-29T00:00:00\",\"2004-09-30T00:00:00\",\"2004-10-01T00:00:00\",\"2004-10-04T00:00:00\",\"2004-10-05T00:00:00\",\"2004-10-06T00:00:00\",\"2004-10-07T00:00:00\",\"2004-10-08T00:00:00\",\"2004-10-11T00:00:00\",\"2004-10-12T00:00:00\",\"2004-10-13T00:00:00\",\"2004-10-14T00:00:00\",\"2004-10-15T00:00:00\",\"2004-10-18T00:00:00\",\"2004-10-19T00:00:00\",\"2004-10-20T00:00:00\",\"2004-10-21T00:00:00\",\"2004-10-22T00:00:00\",\"2004-10-25T00:00:00\",\"2004-10-26T00:00:00\",\"2004-10-27T00:00:00\",\"2004-10-28T00:00:00\",\"2004-10-29T00:00:00\",\"2004-11-01T00:00:00\",\"2004-11-02T00:00:00\",\"2004-11-03T00:00:00\",\"2004-11-04T00:00:00\",\"2004-11-05T00:00:00\",\"2004-11-08T00:00:00\",\"2004-11-09T00:00:00\",\"2004-11-10T00:00:00\",\"2004-11-11T00:00:00\",\"2004-11-12T00:00:00\",\"2004-11-15T00:00:00\",\"2004-11-16T00:00:00\",\"2004-11-17T00:00:00\",\"2004-11-18T00:00:00\",\"2004-11-19T00:00:00\",\"2004-11-22T00:00:00\",\"2004-11-23T00:00:00\",\"2004-11-24T00:00:00\",\"2004-11-26T00:00:00\",\"2004-11-29T00:00:00\",\"2004-11-30T00:00:00\",\"2004-12-01T00:00:00\",\"2004-12-02T00:00:00\",\"2004-12-03T00:00:00\",\"2004-12-06T00:00:00\",\"2004-12-07T00:00:00\",\"2004-12-08T00:00:00\",\"2004-12-09T00:00:00\",\"2004-12-10T00:00:00\",\"2004-12-13T00:00:00\",\"2004-12-14T00:00:00\",\"2004-12-15T00:00:00\",\"2004-12-16T00:00:00\",\"2004-12-17T00:00:00\",\"2004-12-20T00:00:00\",\"2004-12-21T00:00:00\",\"2004-12-22T00:00:00\",\"2004-12-23T00:00:00\",\"2004-12-27T00:00:00\",\"2004-12-28T00:00:00\",\"2004-12-29T00:00:00\",\"2004-12-30T00:00:00\",\"2004-12-31T00:00:00\",\"2005-01-03T00:00:00\",\"2005-01-04T00:00:00\",\"2005-01-05T00:00:00\",\"2005-01-06T00:00:00\",\"2005-01-07T00:00:00\",\"2005-01-10T00:00:00\",\"2005-01-11T00:00:00\",\"2005-01-12T00:00:00\",\"2005-01-13T00:00:00\",\"2005-01-14T00:00:00\",\"2005-01-18T00:00:00\",\"2005-01-19T00:00:00\",\"2005-01-20T00:00:00\",\"2005-01-21T00:00:00\",\"2005-01-24T00:00:00\",\"2005-01-25T00:00:00\",\"2005-01-26T00:00:00\",\"2005-01-27T00:00:00\",\"2005-01-28T00:00:00\",\"2005-01-31T00:00:00\",\"2005-02-01T00:00:00\",\"2005-02-02T00:00:00\",\"2005-02-03T00:00:00\",\"2005-02-04T00:00:00\",\"2005-02-07T00:00:00\",\"2005-02-08T00:00:00\",\"2005-02-09T00:00:00\",\"2005-02-10T00:00:00\",\"2005-02-11T00:00:00\",\"2005-02-14T00:00:00\",\"2005-02-15T00:00:00\",\"2005-02-16T00:00:00\",\"2005-02-17T00:00:00\",\"2005-02-18T00:00:00\",\"2005-02-22T00:00:00\",\"2005-02-23T00:00:00\",\"2005-02-24T00:00:00\",\"2005-02-25T00:00:00\",\"2005-02-28T00:00:00\",\"2005-03-01T00:00:00\",\"2005-03-02T00:00:00\",\"2005-03-03T00:00:00\",\"2005-03-04T00:00:00\",\"2005-03-07T00:00:00\",\"2005-03-08T00:00:00\",\"2005-03-09T00:00:00\",\"2005-03-10T00:00:00\",\"2005-03-11T00:00:00\",\"2005-03-14T00:00:00\",\"2005-03-15T00:00:00\",\"2005-03-16T00:00:00\",\"2005-03-17T00:00:00\",\"2005-03-18T00:00:00\",\"2005-03-21T00:00:00\",\"2005-03-22T00:00:00\",\"2005-03-23T00:00:00\",\"2005-03-24T00:00:00\",\"2005-03-28T00:00:00\",\"2005-03-29T00:00:00\",\"2005-03-30T00:00:00\",\"2005-03-31T00:00:00\",\"2005-04-01T00:00:00\",\"2005-04-04T00:00:00\",\"2005-04-05T00:00:00\",\"2005-04-06T00:00:00\",\"2005-04-07T00:00:00\",\"2005-04-08T00:00:00\",\"2005-04-11T00:00:00\",\"2005-04-12T00:00:00\",\"2005-04-13T00:00:00\",\"2005-04-14T00:00:00\",\"2005-04-15T00:00:00\",\"2005-04-18T00:00:00\",\"2005-04-19T00:00:00\",\"2005-04-20T00:00:00\",\"2005-04-21T00:00:00\",\"2005-04-22T00:00:00\",\"2005-04-25T00:00:00\",\"2005-04-26T00:00:00\",\"2005-04-27T00:00:00\",\"2005-04-28T00:00:00\",\"2005-04-29T00:00:00\",\"2005-05-02T00:00:00\",\"2005-05-03T00:00:00\",\"2005-05-04T00:00:00\",\"2005-05-05T00:00:00\",\"2005-05-06T00:00:00\",\"2005-05-09T00:00:00\",\"2005-05-10T00:00:00\",\"2005-05-11T00:00:00\",\"2005-05-12T00:00:00\",\"2005-05-13T00:00:00\",\"2005-05-16T00:00:00\",\"2005-05-17T00:00:00\",\"2005-05-18T00:00:00\",\"2005-05-19T00:00:00\",\"2005-05-20T00:00:00\",\"2005-05-23T00:00:00\",\"2005-05-24T00:00:00\",\"2005-05-25T00:00:00\",\"2005-05-26T00:00:00\",\"2005-05-27T00:00:00\",\"2005-05-31T00:00:00\",\"2005-06-01T00:00:00\",\"2005-06-02T00:00:00\",\"2005-06-03T00:00:00\",\"2005-06-06T00:00:00\",\"2005-06-07T00:00:00\",\"2005-06-08T00:00:00\",\"2005-06-09T00:00:00\",\"2005-06-10T00:00:00\",\"2005-06-13T00:00:00\",\"2005-06-14T00:00:00\",\"2005-06-15T00:00:00\",\"2005-06-16T00:00:00\",\"2005-06-17T00:00:00\",\"2005-06-20T00:00:00\",\"2005-06-21T00:00:00\",\"2005-06-22T00:00:00\",\"2005-06-23T00:00:00\",\"2005-06-24T00:00:00\",\"2005-06-27T00:00:00\",\"2005-06-28T00:00:00\",\"2005-06-29T00:00:00\",\"2005-06-30T00:00:00\",\"2005-07-01T00:00:00\",\"2005-07-05T00:00:00\",\"2005-07-06T00:00:00\",\"2005-07-07T00:00:00\",\"2005-07-08T00:00:00\",\"2005-07-09T00:00:00\",\"2005-07-10T00:00:00\",\"2005-07-11T00:00:00\",\"2005-07-12T00:00:00\",\"2005-07-13T00:00:00\",\"2005-07-14T00:00:00\",\"2005-07-15T00:00:00\",\"2005-07-16T00:00:00\",\"2005-07-17T00:00:00\",\"2005-07-18T00:00:00\",\"2005-07-19T00:00:00\",\"2005-07-20T00:00:00\",\"2005-07-21T00:00:00\",\"2005-07-22T00:00:00\",\"2005-07-23T00:00:00\",\"2005-07-24T00:00:00\",\"2005-07-25T00:00:00\",\"2005-07-26T00:00:00\",\"2005-07-27T00:00:00\",\"2005-07-28T00:00:00\",\"2005-07-29T00:00:00\",\"2005-07-30T00:00:00\",\"2005-07-31T00:00:00\",\"2005-08-01T00:00:00\",\"2005-08-02T00:00:00\",\"2005-08-03T00:00:00\",\"2005-08-04T00:00:00\",\"2005-08-05T00:00:00\",\"2005-08-06T00:00:00\",\"2005-08-07T00:00:00\",\"2005-08-08T00:00:00\",\"2005-08-09T00:00:00\",\"2005-08-10T00:00:00\",\"2005-08-11T00:00:00\",\"2005-08-12T00:00:00\",\"2005-08-13T00:00:00\",\"2005-08-14T00:00:00\",\"2005-08-15T00:00:00\",\"2005-08-16T00:00:00\",\"2005-08-17T00:00:00\",\"2005-08-18T00:00:00\",\"2005-08-19T00:00:00\",\"2005-08-20T00:00:00\",\"2005-08-21T00:00:00\",\"2005-08-22T00:00:00\",\"2005-08-23T00:00:00\",\"2005-08-24T00:00:00\",\"2005-08-25T00:00:00\",\"2005-08-26T00:00:00\",\"2005-08-27T00:00:00\",\"2005-08-28T00:00:00\",\"2005-08-29T00:00:00\",\"2005-08-30T00:00:00\",\"2005-08-31T00:00:00\",\"2005-09-01T00:00:00\",\"2005-09-02T00:00:00\",\"2005-09-03T00:00:00\",\"2005-09-04T00:00:00\",\"2005-09-05T00:00:00\",\"2005-09-06T00:00:00\",\"2005-09-07T00:00:00\",\"2005-09-08T00:00:00\",\"2005-09-09T00:00:00\",\"2005-09-10T00:00:00\",\"2005-09-11T00:00:00\",\"2005-09-12T00:00:00\",\"2005-09-13T00:00:00\",\"2005-09-14T00:00:00\",\"2005-09-15T00:00:00\",\"2005-09-16T00:00:00\",\"2005-09-17T00:00:00\",\"2005-09-18T00:00:00\",\"2005-09-19T00:00:00\",\"2005-09-20T00:00:00\",\"2005-09-21T00:00:00\",\"2005-09-22T00:00:00\",\"2005-09-23T00:00:00\",\"2005-09-24T00:00:00\",\"2005-09-25T00:00:00\",\"2005-09-26T00:00:00\",\"2005-09-27T00:00:00\",\"2005-09-28T00:00:00\",\"2005-09-29T00:00:00\",\"2005-09-30T00:00:00\",\"2005-10-01T00:00:00\",\"2005-10-02T00:00:00\",\"2005-10-03T00:00:00\",\"2005-10-04T00:00:00\",\"2005-10-05T00:00:00\",\"2005-10-06T00:00:00\",\"2005-10-07T00:00:00\",\"2005-10-08T00:00:00\",\"2005-10-09T00:00:00\",\"2005-10-10T00:00:00\",\"2005-10-11T00:00:00\",\"2005-10-12T00:00:00\",\"2005-10-13T00:00:00\",\"2005-10-14T00:00:00\",\"2005-10-15T00:00:00\",\"2005-10-16T00:00:00\",\"2005-10-17T00:00:00\",\"2005-10-18T00:00:00\",\"2005-10-19T00:00:00\",\"2005-10-20T00:00:00\",\"2005-10-21T00:00:00\",\"2005-10-22T00:00:00\",\"2005-10-23T00:00:00\",\"2005-10-24T00:00:00\",\"2005-10-25T00:00:00\",\"2005-10-26T00:00:00\",\"2005-10-27T00:00:00\",\"2005-10-28T00:00:00\",\"2005-10-29T00:00:00\",\"2005-10-30T00:00:00\",\"2005-10-31T00:00:00\",\"2005-11-01T00:00:00\",\"2005-11-02T00:00:00\",\"2005-11-03T00:00:00\",\"2005-11-04T00:00:00\",\"2005-11-05T00:00:00\",\"2005-11-06T00:00:00\",\"2005-11-07T00:00:00\",\"2005-11-08T00:00:00\",\"2005-11-09T00:00:00\",\"2005-11-10T00:00:00\",\"2005-11-11T00:00:00\",\"2005-11-12T00:00:00\",\"2005-11-13T00:00:00\",\"2005-11-14T00:00:00\",\"2005-11-15T00:00:00\",\"2005-11-16T00:00:00\",\"2005-11-17T00:00:00\",\"2005-11-18T00:00:00\",\"2005-11-19T00:00:00\",\"2005-11-20T00:00:00\",\"2005-11-21T00:00:00\",\"2005-11-22T00:00:00\",\"2005-11-23T00:00:00\",\"2005-11-24T00:00:00\",\"2005-11-25T00:00:00\",\"2005-11-26T00:00:00\",\"2005-11-27T00:00:00\",\"2005-11-28T00:00:00\",\"2005-11-29T00:00:00\",\"2005-11-30T00:00:00\",\"2005-12-01T00:00:00\",\"2005-12-02T00:00:00\",\"2005-12-03T00:00:00\",\"2005-12-04T00:00:00\",\"2005-12-05T00:00:00\",\"2005-12-06T00:00:00\",\"2005-12-07T00:00:00\",\"2005-12-08T00:00:00\",\"2005-12-09T00:00:00\",\"2005-12-10T00:00:00\",\"2005-12-11T00:00:00\",\"2005-12-12T00:00:00\",\"2005-12-13T00:00:00\",\"2005-12-14T00:00:00\",\"2005-12-15T00:00:00\",\"2005-12-16T00:00:00\",\"2005-12-17T00:00:00\",\"2005-12-18T00:00:00\",\"2005-12-19T00:00:00\",\"2005-12-20T00:00:00\",\"2005-12-21T00:00:00\",\"2005-12-22T00:00:00\",\"2005-12-23T00:00:00\",\"2005-12-24T00:00:00\",\"2005-12-25T00:00:00\",\"2005-12-26T00:00:00\",\"2005-12-27T00:00:00\",\"2005-12-28T00:00:00\",\"2005-12-29T00:00:00\",\"2005-12-30T00:00:00\",\"2005-12-31T00:00:00\",\"2006-01-01T00:00:00\",\"2006-01-02T00:00:00\",\"2006-01-03T00:00:00\",\"2006-01-04T00:00:00\",\"2006-01-05T00:00:00\",\"2006-01-06T00:00:00\",\"2006-01-07T00:00:00\",\"2006-01-08T00:00:00\",\"2006-01-09T00:00:00\",\"2006-01-10T00:00:00\",\"2006-01-11T00:00:00\",\"2006-01-12T00:00:00\",\"2006-01-13T00:00:00\",\"2006-01-14T00:00:00\",\"2006-01-15T00:00:00\",\"2006-01-16T00:00:00\",\"2006-01-17T00:00:00\",\"2006-01-18T00:00:00\",\"2006-01-19T00:00:00\",\"2006-01-20T00:00:00\",\"2006-01-21T00:00:00\",\"2006-01-22T00:00:00\",\"2006-01-23T00:00:00\",\"2006-01-24T00:00:00\",\"2006-01-25T00:00:00\",\"2006-01-26T00:00:00\",\"2006-01-27T00:00:00\",\"2006-01-28T00:00:00\",\"2006-01-29T00:00:00\",\"2006-01-30T00:00:00\",\"2006-01-31T00:00:00\",\"2006-02-01T00:00:00\",\"2006-02-02T00:00:00\",\"2006-02-03T00:00:00\",\"2006-02-04T00:00:00\",\"2006-02-05T00:00:00\",\"2006-02-06T00:00:00\",\"2006-02-07T00:00:00\",\"2006-02-08T00:00:00\",\"2006-02-09T00:00:00\",\"2006-02-10T00:00:00\",\"2006-02-11T00:00:00\",\"2006-02-12T00:00:00\",\"2006-02-13T00:00:00\",\"2006-02-14T00:00:00\",\"2006-02-15T00:00:00\",\"2006-02-16T00:00:00\",\"2006-02-17T00:00:00\",\"2006-02-18T00:00:00\",\"2006-02-19T00:00:00\",\"2006-02-20T00:00:00\",\"2006-02-21T00:00:00\",\"2006-02-22T00:00:00\",\"2006-02-23T00:00:00\",\"2006-02-24T00:00:00\",\"2006-02-25T00:00:00\",\"2006-02-26T00:00:00\",\"2006-02-27T00:00:00\",\"2006-02-28T00:00:00\",\"2006-03-01T00:00:00\",\"2006-03-02T00:00:00\",\"2006-03-03T00:00:00\",\"2006-03-04T00:00:00\",\"2006-03-05T00:00:00\",\"2006-03-06T00:00:00\",\"2006-03-07T00:00:00\",\"2006-03-08T00:00:00\",\"2006-03-09T00:00:00\",\"2006-03-10T00:00:00\",\"2006-03-11T00:00:00\",\"2006-03-12T00:00:00\",\"2006-03-13T00:00:00\",\"2006-03-14T00:00:00\",\"2006-03-15T00:00:00\",\"2006-03-16T00:00:00\",\"2006-03-17T00:00:00\",\"2006-03-18T00:00:00\",\"2006-03-19T00:00:00\",\"2006-03-20T00:00:00\",\"2006-03-21T00:00:00\",\"2006-03-22T00:00:00\",\"2006-03-23T00:00:00\",\"2006-03-24T00:00:00\",\"2006-03-25T00:00:00\",\"2006-03-26T00:00:00\",\"2006-03-27T00:00:00\",\"2006-03-28T00:00:00\",\"2006-03-29T00:00:00\",\"2006-03-30T00:00:00\",\"2006-03-31T00:00:00\",\"2006-04-01T00:00:00\",\"2006-04-02T00:00:00\",\"2006-04-03T00:00:00\",\"2006-04-04T00:00:00\",\"2006-04-05T00:00:00\",\"2006-04-06T00:00:00\",\"2006-04-07T00:00:00\",\"2006-04-08T00:00:00\",\"2006-04-09T00:00:00\",\"2006-04-10T00:00:00\",\"2006-04-11T00:00:00\",\"2006-04-12T00:00:00\",\"2006-04-13T00:00:00\",\"2006-04-14T00:00:00\",\"2006-04-15T00:00:00\",\"2006-04-16T00:00:00\",\"2006-04-17T00:00:00\",\"2006-04-18T00:00:00\",\"2006-04-19T00:00:00\",\"2006-04-20T00:00:00\",\"2006-04-21T00:00:00\",\"2006-04-22T00:00:00\",\"2006-04-23T00:00:00\",\"2006-04-24T00:00:00\",\"2006-04-25T00:00:00\",\"2006-04-26T00:00:00\",\"2006-04-27T00:00:00\",\"2006-04-28T00:00:00\",\"2006-04-29T00:00:00\",\"2006-04-30T00:00:00\",\"2006-05-01T00:00:00\",\"2006-05-02T00:00:00\",\"2006-05-03T00:00:00\",\"2006-05-04T00:00:00\",\"2006-05-05T00:00:00\",\"2006-05-06T00:00:00\",\"2006-05-07T00:00:00\",\"2006-05-08T00:00:00\",\"2006-05-09T00:00:00\",\"2006-05-10T00:00:00\",\"2006-05-11T00:00:00\",\"2006-05-12T00:00:00\",\"2006-05-13T00:00:00\",\"2006-05-14T00:00:00\",\"2006-05-15T00:00:00\",\"2006-05-16T00:00:00\",\"2006-05-17T00:00:00\",\"2006-05-18T00:00:00\",\"2006-05-19T00:00:00\",\"2006-05-20T00:00:00\",\"2006-05-21T00:00:00\",\"2006-05-22T00:00:00\",\"2006-05-23T00:00:00\",\"2006-05-24T00:00:00\",\"2006-05-25T00:00:00\",\"2006-05-26T00:00:00\",\"2006-05-27T00:00:00\",\"2006-05-28T00:00:00\",\"2006-05-29T00:00:00\",\"2006-05-30T00:00:00\",\"2006-05-31T00:00:00\",\"2006-06-01T00:00:00\",\"2006-06-02T00:00:00\",\"2006-06-03T00:00:00\",\"2006-06-04T00:00:00\",\"2006-06-05T00:00:00\",\"2006-06-06T00:00:00\",\"2006-06-07T00:00:00\",\"2006-06-08T00:00:00\",\"2006-06-09T00:00:00\",\"2006-06-10T00:00:00\",\"2006-06-11T00:00:00\",\"2006-06-12T00:00:00\",\"2006-06-13T00:00:00\",\"2006-06-14T00:00:00\",\"2006-06-15T00:00:00\",\"2006-06-16T00:00:00\",\"2006-06-17T00:00:00\",\"2006-06-18T00:00:00\",\"2006-06-19T00:00:00\",\"2006-06-20T00:00:00\",\"2006-06-21T00:00:00\",\"2006-06-22T00:00:00\",\"2006-06-23T00:00:00\",\"2006-06-24T00:00:00\",\"2006-06-25T00:00:00\",\"2006-06-26T00:00:00\",\"2006-06-27T00:00:00\",\"2006-06-28T00:00:00\",\"2006-06-29T00:00:00\",\"2006-06-30T00:00:00\",\"2006-07-01T00:00:00\",\"2006-07-02T00:00:00\",\"2006-07-03T00:00:00\",\"2006-07-04T00:00:00\",\"2006-07-05T00:00:00\"],\"y\":[15.6232879126869,15.833122657530208,15.878515834060813,15.788813947062883,15.64151955734797,15.526032688661813,15.553339677654266,15.589991779036785,15.537738591544205,15.393547219734197,15.102353784621076,14.894954259774721,14.65798277761678,14.505333058892502,14.590534084239955,15.443900965031128,15.208666165942608,14.892674891618938,14.72224494876168,14.762711528203804,14.75253387477312,14.583985376616738,14.641256519870298,14.857141915757497,15.020797475941976,14.725918940321609,14.737557072170162,14.928806435582853,15.094540579537043,15.099146360559313,15.112610647180448,15.33653098324349,15.594133318984913,15.6971378819466,15.589151049457314,15.266373492900513,15.32804513631439,15.399936444239387,15.344489939481898,15.1770516244276,15.388368812400088,15.405857214382578,15.32680065517736,15.270288523288016,15.635499211973551,15.551976632769257,15.41726937903029,15.31302280747687,15.28995728929858,15.52897960465058,15.59075633381594,15.686275027739953,15.710227400545143,15.615023272832515,15.47450116568764,15.436002878736467,15.301920127145268,15.06604815787606,14.894637236318289,15.474992308427229,15.435754232070854,15.26002944912641,15.136191923934861,15.22149268749093,15.753207616984255,15.567100039791425,15.42926297678775,15.433849562209028,15.558060695932584,16.075184928514737,16.181846407790097,16.298437598231065,16.352000122921915,16.339147144696074,16.494335629302036,16.449453848562005,16.31456910846181,16.08592759054203,15.846290402038678,15.82509588740811,15.917142621273166,16.014644113052707,16.032221977726522,15.962815804093378,16.161968656979518,16.3976708452018,16.63431972493279,16.72578265740414,16.63278734447516,16.219576604947015,16.2899355434115,16.555588878398655,16.848467910533042,16.966890919796047,16.29291143890109,16.298427541791394,16.610139436210808,16.929659043274395,16.976287954920842,16.450036989754004,16.64213543104624,16.9446838102137,16.91198725257111,16.62024243543747,16.725906971798175,16.828878177338073,16.83625401002761,16.76775323392981,16.656069087907138,16.604454338717396,16.6145308338125,16.643820402455464,16.661205530338695,16.780630309226428,16.760801175845092,16.731167756757767,16.666948783179695,16.612275351452602,16.76977421053157,16.67828344837454,16.561154172263667,16.619564352849107,16.672460204091134,16.5442049531936,16.698896146582427,16.83628431149742,16.94479518953509,16.994243995104007,17.097710164661788,17.114121821834313,16.999582801217635,16.935224952808955,16.986397834108605,16.95855061800284,16.783146470807452,16.542091141934172,16.501562331123445,16.447110227623227,16.332267088144473,16.24021872051164,16.41950195708057,16.271931479910936,16.038558376020635,15.834401847392964,15.804101428080735,16.25300066312631,15.972400760669847,15.623943443501927,15.436592300779703,15.536328623544414,16.04986688543635,15.747660250148197,15.483994688339465,15.433041563117563,15.619257791456445,16.010175979821327,15.758927655857043,15.562542835070557,15.503296348171832,15.834281248735744,15.682004375081348,15.474796804432534,15.338690937824914,15.369981733696699,15.661193713659715,15.430234888207782,15.262555301115563,15.269694260468091,15.416342825651473,15.36698452668934,15.155577786263137,15.16150709837071,15.348669117691562,15.542901134343925,15.473085635547923,15.498929739031603,15.687588111247567,15.817644235693527,15.699675672552972,15.014441972796414,15.184641825930944,15.472517415686259,15.57452200927309,15.382280679671993,15.035902026098462,15.270650183502328,15.509300878423357,15.583799974325695,15.517096307213695,15.576249820028416,15.561706340832373,15.519567493896231,15.461048703060104,15.43007127448686,15.517956456699704,15.46213039731642,15.447763013700078,15.434951206486284,15.48244134049995,15.67276245185118,15.918332676029713,16.061843774730143,16.041969445017703,15.901804481599017,15.930842103745716,15.99400708032589,16.009240375682566,15.967242700035865,15.966800759611589,15.973564445623392,16.013660952171143,16.014627527754705,15.941183885356287,15.783367848038539,15.825029484039636,15.924426452404187,15.96844671897097,15.91969765917081,15.777669474592281,15.676602347803243,15.574067293185132,15.491445188902137,15.508128922300303,15.94105175473506,15.747110322599704,15.594570564099778,15.59456911578529,15.9956506541909,15.826498391408757,15.612583662693977,15.454096845637281,15.42606433390221,15.865051147780349,15.849485578543938,15.798097978091828,15.744989472828234,15.738977055242852,16.13136034028379,16.241858343882694,16.380100884177246,16.478353061198654,16.479093736359225,16.301535601418646,16.34278015255026,16.447971596967733,16.450185557991702,16.29455487234705,16.3304009116114,16.571051341348497,16.70774580383812,16.602882963124372,16.899555119540356,17.271315387270796,17.50728287630489,17.53397705591015,17.416315917742676,17.170997812291624,17.157721475322464,17.211161208505274,17.229114312962853,17.148901874300194,16.843410962726058,16.717703883357693,16.536437102702003,16.280766623618838,16.100157653724555,16.96097231943098,17.04291237523007,16.833810320179026,16.499120048776494,16.300730854596388,16.52441411884824,16.3352065959751,16.19279084185585,16.231362988030963,16.419289132595466,16.459574001110475,16.292252970923958,16.330023846275257,16.502574212075235,16.640349104171825,16.577136191680957,16.66260598504641,16.91265906461166,17.15156240274056,17.226607713844718,16.83927827431393,16.8000301380293,16.887834524946047,16.941026835258143,16.854270798114026,16.782713207146415,16.911717825117115,16.907156948957336,16.796790857365306,17.03825890089015,17.096275105273655,17.03553498904225,16.87877845716138,16.74322235322068,16.908747633455988,16.94996483796862,17.034524028927585,17.107993443530557,17.10063628276853,16.874109989976205,16.855695734306092,16.83997990914854,16.6838478782355,16.41666637540002,16.63510824792158,16.816396212346255,16.799940597783593,16.6021665355173,16.44701947675986,17.066731283664023,17.040984705256456,16.874200552120538,16.710855172057876,16.680673186175717,17.193386793029596,17.298958087929172,17.42494299126073,17.516025864643233,17.534819818030844,17.62907802911089,17.654104862054787,17.628546505920564,17.468153449311,17.20474336063735,16.870310218105008,16.920861195146916,17.0322313536178,17.104224528887894,17.087033822808372,17.04985989609899,17.19373003970443,17.448755652533084,17.659896215754742,17.716590580935144,17.299498811116255,17.187334079974203,17.277016446508355,17.517161468449093,17.77527193329274,17.48411611521372,17.196665013157016,17.221504544116556,17.507708125489717,17.794797277301864,17.390498896147133,17.301477223437026,17.51523720483854,17.880462132980327,17.412481547014824,17.42404555262734,17.551371629097282,17.631172633630598,17.60611801106911,17.48234493268053,17.41223508860402,17.382281879523173,17.369188173611636,17.37280600038051,17.518955783233892,17.522952760315807,17.531543880420422,17.485498973703507,17.395608258251357,17.512490052640235,17.511770538767585,17.448700030096354,17.289487524482283,17.53321213978919,17.414130410042322,17.31429541281979,17.426903377084276,17.703153009528215,17.6861392739589,17.764008333203144,17.85106301532104,17.84180293080869,17.632426514228218,17.676242915705107,17.75583605067996,17.7115773471345,17.510501458254723,17.23729551965801,17.270674424141056,17.199810832796167,17.059295951227575,17.153480304515984,17.159867672464085,17.0407174485644,16.790932856829738,16.561104586111565,17.00298550689229,16.993040254145118,16.740860535411688,16.375991660851344,16.162968706490872,16.86314017139985,16.789579865258062,16.515793413693135,16.23571629449155,16.15909135763148,16.95364175376412,16.777982532168917,16.510322650811986,16.28826601838762,16.55461613366764,16.5733410057258,16.449484315355505,16.225865186876074,16.064087508192003,16.477930344521535,16.399926856385417,16.197388214218172,16.01329706929545,15.99476421657099,16.326012619051763,16.105391055151355,15.922400557403067,15.911914371073387,16.073400637712226,16.325189725835163,16.21113796550275,16.265398311664484,16.437641185443475,16.542021557208212,15.858816317705607,15.752140104244193,15.95075620005712,16.22221629137563,16.298545132280907,15.707601853850278,15.773245958876947,16.036410358918577,16.258645555362456,16.30746889854225,16.283097725244673,16.31323955401664,16.32711231745817,16.268557972044764,16.285312971726924,16.25459198693513,16.227182168535467,16.19639928478718,16.157911723197103,16.135837258757835,16.218722660365774,16.437460012700843,16.666614736747704,16.784450081071896,16.66507102814849,16.637731591096184,16.695185454226475,16.7419349306752,16.73149247165541,16.713431352548625,16.70237365721893,16.737553583834025,16.761234589870327,16.736525410697006,16.553816196966707,16.518586532615565,16.588664409220108,16.67164587707314,16.689990388883064,16.58479622888742,16.5125339436431,16.439883056625668,16.320932500664426,16.212634640792785,16.69712141954552,16.783382200291793,16.703978244704075,16.493621311225702,16.315405797136574,16.729806685534548,16.58907066252475,16.35874043246677,16.174577859820463,16.510748903364682,16.59885295972828,16.611703630128215,16.54390052819719,16.748931623319095,16.864807932429667,17.00372217566422,17.12554921448001,17.198125635777572,17.095181924301986,17.03462897331095,17.104289763928286,17.193065706716368,17.169603911866105,16.89825038710528,17.063140062648177,17.33220673187134,17.45248569273205,17.321947096143973,17.631940049722225,18.032116556938625,18.251668544343595,18.252686968074556,17.973925748754446,17.90302852161976,17.9181684242169,17.955192655851008,17.947470004514635,17.686013930364012,17.57508745176553,17.477796611963647,17.280114329759748,16.998768094882728,17.346444361121925,17.692294588641072,17.802650884161185,17.577133327715348,17.21676730067261,17.280250586078466,17.255382168844076,17.094590885691524,16.93575963017644,16.948656020711116,17.380283481658676,17.19018783189185,17.05128304142463,17.072638415380858,17.21951302554014,17.370511304024472,17.307395803499784,17.421281836838,17.654919415261023,17.868146998003017,17.73568009031949,17.569183668689416,17.558351772378053,17.629740658152798,17.65725721307783,17.38911199073082,17.404772014436997,17.55743202670006,17.673371424058356,17.64648507304171,17.804308946204866,17.894091671091715,17.82028633424817,17.64120432750957,17.642782022541322,17.69789542503517,17.770879150050476,17.842373120397482,17.89351706014241,17.76822684233534,17.6863555277568,17.69970779252619,17.67092674669335,17.492469240859965,17.2302285196138,17.470451531523263,17.683506016388122,17.653985181150368,17.433885643963293,17.73348637148252,17.935549426298486,17.945028406068253,17.76863806999343,17.58642625274762,17.966091817091474,18.109515945644844,18.250312798720604,18.36669151911377,18.438907955312487,18.557142945986033,18.592518191706816,18.652770582827003,18.617606043754325,18.438346549960748,17.9072410586122,17.881061387472894,17.96683792188921,18.068601896619708,18.121728633903793,18.08454547233163,18.107922069833148,18.287017770812877,18.53243719990066,18.724711325136628,18.606998673491315,18.404871975364593,18.32793279813343,18.408008977463194,18.629287557954353,18.973648434418568,18.636800259586103,18.384574711440404,18.399808055195344,18.66714519511908,18.88341289271097,18.590494020643256,18.536697901844022,19.00136343275377,18.806678712277062,18.658729583467515,18.7052546259492,18.82270999817315,18.88338004421613,18.83674570371533,18.77405232996368,18.738903522756942,18.699079609430513,18.666854945027833,18.815859098330886,18.829087687839667,18.861286988413962,18.85324869089576,18.78131411231124,18.76704187521547,18.82077032443686,18.848253134056925,18.768553207762977,18.84145114104545,18.839640778777593,18.748761372523127,18.632296957677312,18.60860403591705,19.02769516700355,19.007730015707118,19.018918603630137,19.080158245251365,19.14132325550134,18.99036151354944,18.935151887597847,19.00717061256724,19.07013432991952,18.999985954506172,18.494774771081715,18.5663715853324,18.583121072598185,18.48636780979054,18.379476094661605,18.45250241632032,18.487092108166777,18.35131246704971,18.075638203851753,18.10220096253926,18.300155988725123,18.31841305987569,18.04960392392502,17.658845377901322,17.9501117985003,18.15845902326058,18.113101041016492,17.822685172234223,17.516718381569344,18.040346981602994,18.252618498455448,18.275311299550644,18.083022660738123,17.789473107918422,17.84623172558475,17.893158921978323,17.75267281482916,17.503164015325,17.65082198792225,17.767694309533656,17.71789314573317,17.498725086786774,17.28874427083896,17.661191207805118,17.613924957159078,17.421505717594236,17.221885803066705,17.18550994571226,17.709908286817683,17.61125043703717,17.52540100104075,17.56303193042317,17.709385133177374,17.476820045808743,17.14302540200285,17.06455151287706,17.24653819191059,17.175402818058092,16.989959311364178,17.083805740767424,17.330340724070158,17.526686249530027,17.558017206270495,17.563603556137398,17.62194770928603,17.61919105598911,17.534747039591494,17.5498345635631,17.563967175999057,17.561448515583926,17.517409280445538,17.46073672571332,17.429424943454606,17.41263983640926,17.523727562393667,17.72583549798979,17.929100551052944,18.033714578298827,17.94002197917888,17.940884866503204,17.98170931289476,18.002569118359297,18.015983259350545,17.986530678098635,18.00367530752611,18.0222258177823,18.020017153214788,17.923234400726752,17.825063898557325,17.81803655896292,17.87148501920879,17.928576816457575,17.92819514056506,17.854192306518723,17.810132346030848,17.72085204265494,17.57601181608924,17.758969227050088,17.964665873217207,18.079128978719968,17.983095606773762,17.746849002690883,17.98914108383088,18.023701840002843,17.866336400634566,17.61011649997238,17.62116526108931,17.77459010952348,17.89089649077918,17.88711774495604,17.79342497255651,17.894761285596374,18.01092120646668,18.154999840469443,18.277284667481254,18.373222035828327,18.472886128969478,18.35531988443881,18.32296925833994,18.376000632734193,18.438886905053646,18.191914317048695,18.156536724230783,18.349628724666125,18.60206597766636,18.696455268058397,18.516123901261093,18.91657708872914,19.300124179722083,19.493786496658615,19.758324259116023,19.668901564234382,19.345357568704472,19.22850883985825,19.18581393761577,19.184324423908564,19.195458984993248,19.451255672302548,19.39928167692634,19.07884069930073,18.93874539797138,18.856021244183832,18.742100988078068,18.518529035324782,18.500702139092986,18.348331612484454,18.25728303201642,18.5973242051517,18.97137675748203,19.065103636697884,18.813696409702995,18.716849721304882,18.546698970563586,18.410915944190304,18.529278806530677,18.53261271410753,18.355192014650665,18.170471088586442,18.44688681776582,18.663051405769387,18.650457360139093,18.627460078533247,18.465566753577715,18.310032546806678,18.30549825021317,18.715892199017812,18.881905534553468,18.71026170922744,18.615836277321712,18.5809231013552,18.67817971813613,18.885927625757144,19.36267454689027,19.465958301434668,19.18172186259607,18.97915343826698,18.840859341195387,18.813398028326638,18.858897243298525,19.149933136615854,19.094765823440632,18.751077902037046,18.630733713328873,18.674596061593242,18.810626657299185,18.90067638385527,19.137309371230003,19.05853200360639,18.825770265367854,18.9044850328761,19.07228136801193,19.145434676341612,19.045739668695592,19.13017700034909,19.02620962037715,18.826894495849658,18.88070049444112,18.96401622149307,19.02037052995106,19.06597482949504,19.38063810763197,19.404869670839524,19.133415935598997,19.004293688885344,18.950624698928124,18.947347547203645,18.89267683063102,18.97773866325322,18.74214588438607,18.39448535529954,18.46444374125693,18.732869077787736,18.929294146158547,18.873883640180882,18.91730344144934,18.793745106660065,18.702796262687826,18.9658499682183,19.196115347655933,19.18896491093141,18.98668490411734,19.067992425325933,19.072858201149703,19.020819727344243,19.196603788920065,19.368230242094942,19.492397678676838,19.582886728330546,19.918622502984245,19.972464218077707,19.783361632873145,19.785803292908078,19.84938086324963,19.893003837875995,19.831949628063896,19.916209472726027,19.687847145757868,19.271960350275616,19.13404978303281,19.136072437317047,19.205219556041254,19.281093860834588,19.597739937376097,19.615596993001702,19.36994121238932,19.30950257745898,19.361081500384035,19.523547785671873,19.74307754482228,20.198871009315365,20.29061313273885,20.021368212830836,19.83010415932572,19.65617978662237,19.562611193699485,19.61679770309233,20.10159562284023,20.394753845926594,20.336927248210532,20.19490230096,19.88625645155126,19.61740148771366,19.606745161531446,20.137601640711964,20.45973855076753,20.33245596747502,20.102815139959308,19.838098593315515,19.767673058824084,19.945937183084233,20.46996825905292,20.59086276727731,20.26597750946326,20.02502289135782,19.90554060501419,19.93570074884555,20.027530968174055,20.35198487051562,20.36197800619681,20.119565735159064,20.055089882796278,20.020863351510155,19.96934964565304,19.90390057943101,20.13545977132803,20.16736664296226,20.01084027590577,20.034203277412256,20.075898709385925,20.09173311131036,20.05806966089652,20.249918938610943,20.18831726802442,19.959732341357764,19.985386054296285,20.067581345983434,20.078699256952778,19.973374177763663,20.10483795274112,20.08034490144594,19.96484358709184,20.059795320126423,20.08645180032392,19.979207495419246,19.83711792767819,20.077208862217045,20.215909121238184,20.179385791403934,20.246039346084487,20.25454103725366,20.24936472652641,20.284979215252307,20.6099280818013,20.62895704215434,20.340506526787742,20.208705692630804,20.1819629091441,20.237616735463693,20.274955299920208,20.468590780805886,20.29580393679168,19.88083711316841,19.734102505653926,19.741585792627976,19.79681770822882,19.787942042599116,19.95497263609018,19.842746799792828,19.576786937409103,19.597820273742915,19.69931343786682,19.717538231062893,19.556133437050548,19.54424303015175,19.342703804704673,19.138491890641596,19.320545141620563,19.54696701027174,19.548859182771906,19.254424893926046,19.12745020420096,18.942716295112195,18.868541053578724,19.16845597758163,19.405270044807057,19.34354716391309,19.027506142234955,18.98532320786949,18.936987316280707,18.949291980321366,19.258691160684226,19.499429520001712,19.505757422447047,19.28784363073901,19.2580779342182,19.06431034706476,18.831152295868414,18.932749849942475,19.093042747130927,19.12360504487456,18.95749378483029,18.97176884162444,18.838280208650318,18.69565944022404,18.86916616700324,19.0145053310798,18.948339268629514,18.703546056787545,18.75734909713837,18.76710529012404,18.739842291009296,18.879535386886392,18.86073597870564,18.651951840490458,18.42670677306741,18.65411477201198,18.84389008435999,18.864206596108836,18.92825246589899,18.858061458583464,18.75584712393713,18.76785290042362,19.17798995947703,19.310659376950884,19.0187753089066,18.69516422488996,18.38983642354939,18.29499763577333,18.4513591619111,18.960713438503802,19.065331325118787,18.699174490614123,18.39374699713898,18.236770332910584,18.3142518636639,18.535161694070954,18.995291075829527,19.07240346475931,18.831784292743734,18.776361385351734,18.81041457768402,18.8523938321824,18.82401202599,19.003351865891315,18.947446368082304,18.742553434605366,18.768178742644395,18.81077819754527,18.791894638480162,18.722230250446188,18.9293415520129,18.919143036172766,18.697637506230333,18.647769122535983,18.659450857955754,18.754173685290166,18.930656467990595,19.397705377352644,19.543829767426416,19.350039931156058,19.25205875738003,19.18683300072544,19.171330989399507,19.18653028289548,19.471173944659185,19.48902053138933,19.27310734918523,19.234327438431645,19.23334169964503,19.234121430422277,19.227046787783543,19.488621979514715,19.49220184647153,19.24484269751531,19.141578579808137,19.071874920103962,19.048482681859024,19.076305989209608,19.397181642757456,19.44381520069767,19.22115063433954,19.146539319646784,19.101003328065268,19.040578468927222,18.925673012655626,19.044616642389496,18.964607828647765,18.807376054655702,18.97731340613143,19.211476894763358,19.30957510161607,19.18791657677483,19.21545382899093,19.065527361032174,18.89161040532733,19.051890089773774,19.235952105377304,19.25414796289914,19.07115737063556,19.07872132627201,18.922847799756504,18.72089978063108,18.83950944017044,19.021401131070032,19.121342613675534,19.091938714956825,19.262029798856034,19.211534584134235,19.031606659158776,19.113105464677716,19.257732228012863,19.385445963365864,19.482105637482057,19.841826862127917,19.94269232969083,19.76951749746241,19.691230308050553,19.602130905985273,19.55341538123617,19.58082160273533,19.907491731353268,19.912318982768653,19.582772789584254,19.4102584961296,19.40334774577732,19.58007484756224,19.806886947666555,20.165060094357813,20.06281054403563,19.65440620485882,19.561288339957322,19.762934922807442],\"type\":\"scatter\"}],                        {\"template\":{\"data\":{\"bar\":[{\"error_x\":{\"color\":\"#2a3f5f\"},\"error_y\":{\"color\":\"#2a3f5f\"},\"marker\":{\"line\":{\"color\":\"#E5ECF6\",\"width\":0.5},\"pattern\":{\"fillmode\":\"overlay\",\"size\":10,\"solidity\":0.2}},\"type\":\"bar\"}],\"barpolar\":[{\"marker\":{\"line\":{\"color\":\"#E5ECF6\",\"width\":0.5},\"pattern\":{\"fillmode\":\"overlay\",\"size\":10,\"solidity\":0.2}},\"type\":\"barpolar\"}],\"carpet\":[{\"aaxis\":{\"endlinecolor\":\"#2a3f5f\",\"gridcolor\":\"white\",\"linecolor\":\"white\",\"minorgridcolor\":\"white\",\"startlinecolor\":\"#2a3f5f\"},\"baxis\":{\"endlinecolor\":\"#2a3f5f\",\"gridcolor\":\"white\",\"linecolor\":\"white\",\"minorgridcolor\":\"white\",\"startlinecolor\":\"#2a3f5f\"},\"type\":\"carpet\"}],\"choropleth\":[{\"colorbar\":{\"outlinewidth\":0,\"ticks\":\"\"},\"type\":\"choropleth\"}],\"contour\":[{\"colorbar\":{\"outlinewidth\":0,\"ticks\":\"\"},\"colorscale\":[[0.0,\"#0d0887\"],[0.1111111111111111,\"#46039f\"],[0.2222222222222222,\"#7201a8\"],[0.3333333333333333,\"#9c179e\"],[0.4444444444444444,\"#bd3786\"],[0.5555555555555556,\"#d8576b\"],[0.6666666666666666,\"#ed7953\"],[0.7777777777777778,\"#fb9f3a\"],[0.8888888888888888,\"#fdca26\"],[1.0,\"#f0f921\"]],\"type\":\"contour\"}],\"contourcarpet\":[{\"colorbar\":{\"outlinewidth\":0,\"ticks\":\"\"},\"type\":\"contourcarpet\"}],\"heatmap\":[{\"colorbar\":{\"outlinewidth\":0,\"ticks\":\"\"},\"colorscale\":[[0.0,\"#0d0887\"],[0.1111111111111111,\"#46039f\"],[0.2222222222222222,\"#7201a8\"],[0.3333333333333333,\"#9c179e\"],[0.4444444444444444,\"#bd3786\"],[0.5555555555555556,\"#d8576b\"],[0.6666666666666666,\"#ed7953\"],[0.7777777777777778,\"#fb9f3a\"],[0.8888888888888888,\"#fdca26\"],[1.0,\"#f0f921\"]],\"type\":\"heatmap\"}],\"heatmapgl\":[{\"colorbar\":{\"outlinewidth\":0,\"ticks\":\"\"},\"colorscale\":[[0.0,\"#0d0887\"],[0.1111111111111111,\"#46039f\"],[0.2222222222222222,\"#7201a8\"],[0.3333333333333333,\"#9c179e\"],[0.4444444444444444,\"#bd3786\"],[0.5555555555555556,\"#d8576b\"],[0.6666666666666666,\"#ed7953\"],[0.7777777777777778,\"#fb9f3a\"],[0.8888888888888888,\"#fdca26\"],[1.0,\"#f0f921\"]],\"type\":\"heatmapgl\"}],\"histogram\":[{\"marker\":{\"pattern\":{\"fillmode\":\"overlay\",\"size\":10,\"solidity\":0.2}},\"type\":\"histogram\"}],\"histogram2d\":[{\"colorbar\":{\"outlinewidth\":0,\"ticks\":\"\"},\"colorscale\":[[0.0,\"#0d0887\"],[0.1111111111111111,\"#46039f\"],[0.2222222222222222,\"#7201a8\"],[0.3333333333333333,\"#9c179e\"],[0.4444444444444444,\"#bd3786\"],[0.5555555555555556,\"#d8576b\"],[0.6666666666666666,\"#ed7953\"],[0.7777777777777778,\"#fb9f3a\"],[0.8888888888888888,\"#fdca26\"],[1.0,\"#f0f921\"]],\"type\":\"histogram2d\"}],\"histogram2dcontour\":[{\"colorbar\":{\"outlinewidth\":0,\"ticks\":\"\"},\"colorscale\":[[0.0,\"#0d0887\"],[0.1111111111111111,\"#46039f\"],[0.2222222222222222,\"#7201a8\"],[0.3333333333333333,\"#9c179e\"],[0.4444444444444444,\"#bd3786\"],[0.5555555555555556,\"#d8576b\"],[0.6666666666666666,\"#ed7953\"],[0.7777777777777778,\"#fb9f3a\"],[0.8888888888888888,\"#fdca26\"],[1.0,\"#f0f921\"]],\"type\":\"histogram2dcontour\"}],\"mesh3d\":[{\"colorbar\":{\"outlinewidth\":0,\"ticks\":\"\"},\"type\":\"mesh3d\"}],\"parcoords\":[{\"line\":{\"colorbar\":{\"outlinewidth\":0,\"ticks\":\"\"}},\"type\":\"parcoords\"}],\"pie\":[{\"automargin\":true,\"type\":\"pie\"}],\"scatter\":[{\"marker\":{\"colorbar\":{\"outlinewidth\":0,\"ticks\":\"\"}},\"type\":\"scatter\"}],\"scatter3d\":[{\"line\":{\"colorbar\":{\"outlinewidth\":0,\"ticks\":\"\"}},\"marker\":{\"colorbar\":{\"outlinewidth\":0,\"ticks\":\"\"}},\"type\":\"scatter3d\"}],\"scattercarpet\":[{\"marker\":{\"colorbar\":{\"outlinewidth\":0,\"ticks\":\"\"}},\"type\":\"scattercarpet\"}],\"scattergeo\":[{\"marker\":{\"colorbar\":{\"outlinewidth\":0,\"ticks\":\"\"}},\"type\":\"scattergeo\"}],\"scattergl\":[{\"marker\":{\"colorbar\":{\"outlinewidth\":0,\"ticks\":\"\"}},\"type\":\"scattergl\"}],\"scattermapbox\":[{\"marker\":{\"colorbar\":{\"outlinewidth\":0,\"ticks\":\"\"}},\"type\":\"scattermapbox\"}],\"scatterpolar\":[{\"marker\":{\"colorbar\":{\"outlinewidth\":0,\"ticks\":\"\"}},\"type\":\"scatterpolar\"}],\"scatterpolargl\":[{\"marker\":{\"colorbar\":{\"outlinewidth\":0,\"ticks\":\"\"}},\"type\":\"scatterpolargl\"}],\"scatterternary\":[{\"marker\":{\"colorbar\":{\"outlinewidth\":0,\"ticks\":\"\"}},\"type\":\"scatterternary\"}],\"surface\":[{\"colorbar\":{\"outlinewidth\":0,\"ticks\":\"\"},\"colorscale\":[[0.0,\"#0d0887\"],[0.1111111111111111,\"#46039f\"],[0.2222222222222222,\"#7201a8\"],[0.3333333333333333,\"#9c179e\"],[0.4444444444444444,\"#bd3786\"],[0.5555555555555556,\"#d8576b\"],[0.6666666666666666,\"#ed7953\"],[0.7777777777777778,\"#fb9f3a\"],[0.8888888888888888,\"#fdca26\"],[1.0,\"#f0f921\"]],\"type\":\"surface\"}],\"table\":[{\"cells\":{\"fill\":{\"color\":\"#EBF0F8\"},\"line\":{\"color\":\"white\"}},\"header\":{\"fill\":{\"color\":\"#C8D4E3\"},\"line\":{\"color\":\"white\"}},\"type\":\"table\"}]},\"layout\":{\"annotationdefaults\":{\"arrowcolor\":\"#2a3f5f\",\"arrowhead\":0,\"arrowwidth\":1},\"autotypenumbers\":\"strict\",\"coloraxis\":{\"colorbar\":{\"outlinewidth\":0,\"ticks\":\"\"}},\"colorscale\":{\"diverging\":[[0,\"#8e0152\"],[0.1,\"#c51b7d\"],[0.2,\"#de77ae\"],[0.3,\"#f1b6da\"],[0.4,\"#fde0ef\"],[0.5,\"#f7f7f7\"],[0.6,\"#e6f5d0\"],[0.7,\"#b8e186\"],[0.8,\"#7fbc41\"],[0.9,\"#4d9221\"],[1,\"#276419\"]],\"sequential\":[[0.0,\"#0d0887\"],[0.1111111111111111,\"#46039f\"],[0.2222222222222222,\"#7201a8\"],[0.3333333333333333,\"#9c179e\"],[0.4444444444444444,\"#bd3786\"],[0.5555555555555556,\"#d8576b\"],[0.6666666666666666,\"#ed7953\"],[0.7777777777777778,\"#fb9f3a\"],[0.8888888888888888,\"#fdca26\"],[1.0,\"#f0f921\"]],\"sequentialminus\":[[0.0,\"#0d0887\"],[0.1111111111111111,\"#46039f\"],[0.2222222222222222,\"#7201a8\"],[0.3333333333333333,\"#9c179e\"],[0.4444444444444444,\"#bd3786\"],[0.5555555555555556,\"#d8576b\"],[0.6666666666666666,\"#ed7953\"],[0.7777777777777778,\"#fb9f3a\"],[0.8888888888888888,\"#fdca26\"],[1.0,\"#f0f921\"]]},\"colorway\":[\"#636efa\",\"#EF553B\",\"#00cc96\",\"#ab63fa\",\"#FFA15A\",\"#19d3f3\",\"#FF6692\",\"#B6E880\",\"#FF97FF\",\"#FECB52\"],\"font\":{\"color\":\"#2a3f5f\"},\"geo\":{\"bgcolor\":\"white\",\"lakecolor\":\"white\",\"landcolor\":\"#E5ECF6\",\"showlakes\":true,\"showland\":true,\"subunitcolor\":\"white\"},\"hoverlabel\":{\"align\":\"left\"},\"hovermode\":\"closest\",\"mapbox\":{\"style\":\"light\"},\"paper_bgcolor\":\"white\",\"plot_bgcolor\":\"#E5ECF6\",\"polar\":{\"angularaxis\":{\"gridcolor\":\"white\",\"linecolor\":\"white\",\"ticks\":\"\"},\"bgcolor\":\"#E5ECF6\",\"radialaxis\":{\"gridcolor\":\"white\",\"linecolor\":\"white\",\"ticks\":\"\"}},\"scene\":{\"xaxis\":{\"backgroundcolor\":\"#E5ECF6\",\"gridcolor\":\"white\",\"gridwidth\":2,\"linecolor\":\"white\",\"showbackground\":true,\"ticks\":\"\",\"zerolinecolor\":\"white\"},\"yaxis\":{\"backgroundcolor\":\"#E5ECF6\",\"gridcolor\":\"white\",\"gridwidth\":2,\"linecolor\":\"white\",\"showbackground\":true,\"ticks\":\"\",\"zerolinecolor\":\"white\"},\"zaxis\":{\"backgroundcolor\":\"#E5ECF6\",\"gridcolor\":\"white\",\"gridwidth\":2,\"linecolor\":\"white\",\"showbackground\":true,\"ticks\":\"\",\"zerolinecolor\":\"white\"}},\"shapedefaults\":{\"line\":{\"color\":\"#2a3f5f\"}},\"ternary\":{\"aaxis\":{\"gridcolor\":\"white\",\"linecolor\":\"white\",\"ticks\":\"\"},\"baxis\":{\"gridcolor\":\"white\",\"linecolor\":\"white\",\"ticks\":\"\"},\"bgcolor\":\"#E5ECF6\",\"caxis\":{\"gridcolor\":\"white\",\"linecolor\":\"white\",\"ticks\":\"\"}},\"title\":{\"x\":0.05},\"xaxis\":{\"automargin\":true,\"gridcolor\":\"white\",\"linecolor\":\"white\",\"ticks\":\"\",\"title\":{\"standoff\":15},\"zerolinecolor\":\"white\",\"zerolinewidth\":2},\"yaxis\":{\"automargin\":true,\"gridcolor\":\"white\",\"linecolor\":\"white\",\"ticks\":\"\",\"title\":{\"standoff\":15},\"zerolinecolor\":\"white\",\"zerolinewidth\":2}}}},                        {\"responsive\": true}                    ).then(function(){\n",
              "                            \n",
              "var gd = document.getElementById('0ac2d8dd-7804-40d4-99c3-f78f03bcf5f0');\n",
              "var x = new MutationObserver(function (mutations, observer) {{\n",
              "        var display = window.getComputedStyle(gd).display;\n",
              "        if (!display || display === 'none') {{\n",
              "            console.log([gd, 'removed!']);\n",
              "            Plotly.purge(gd);\n",
              "            observer.disconnect();\n",
              "        }}\n",
              "}});\n",
              "\n",
              "// Listen for the removal of the full notebook cells\n",
              "var notebookContainer = gd.closest('#notebook-container');\n",
              "if (notebookContainer) {{\n",
              "    x.observe(notebookContainer, {childList: true});\n",
              "}}\n",
              "\n",
              "// Listen for the clearing of the current output cell\n",
              "var outputEl = gd.closest('.output');\n",
              "if (outputEl) {{\n",
              "    x.observe(outputEl, {childList: true});\n",
              "}}\n",
              "\n",
              "                        })                };                            </script>        </div>\n",
              "</body>\n",
              "</html>"
            ]
          },
          "metadata": {}
        }
      ]
    },
    {
      "cell_type": "markdown",
      "source": [
        "*   Kaggle Source - [https://www.kaggle.com/code/callherro/energy-data/data)\n"
      ],
      "metadata": {
        "id": "fh8Jg8gzVDXK"
      }
    },
    {
      "cell_type": "markdown",
      "source": [
        "## Authors"
      ],
      "metadata": {
        "id": "YtZpS5iVVDXP"
      }
    },
    {
      "cell_type": "markdown",
      "source": [
        "[Jigisha Barbhaya](https://www.linkedin.com/in/jigisha-barbhaya/?utm_medium=Exinfluencer&utm_source=Exinfluencer&utm_content=000026UJ&utm_term=10006555&utm_id=NA-SkillsNetwork-Channel-SkillsNetworkGuidedProjectsIBMGPXX032NEN123-2022-01-01),\n",
        "\n",
        "[Aimé T Shangula](https://www.linkedin.com/in/aimazin)"
      ],
      "metadata": {
        "id": "LCKtuOaPVDXP"
      }
    },
    {
      "cell_type": "markdown",
      "source": [
        "## Other Contibutors"
      ],
      "metadata": {
        "id": "k7oMygIVVDXQ"
      }
    },
    {
      "cell_type": "markdown",
      "source": [
        "[Joseph Santarcangelo](https://www.linkedin.com/in/joseph-s-50398b136/?utm_medium=Exinfluencer&utm_source=Exinfluencer&utm_content=000026UJ&utm_term=10006555&utm_id=NA-SkillsNetwork-Channel-SkillsNetworkCoursesIBMDeveloperSkillsNetworkML311Coursera35714171-2022-01-01)\n"
      ],
      "metadata": {
        "id": "ooUofgL5VDXQ"
      }
    },
    {
      "cell_type": "markdown",
      "source": [
        "Copyright © 2022 IBM Corporation. All rights reserved.\n"
      ],
      "metadata": {
        "id": "GQsVk1vVVDXQ"
      }
    },
    {
      "cell_type": "code",
      "source": [],
      "metadata": {
        "id": "Av0EtRLNVDXQ"
      },
      "execution_count": 68,
      "outputs": []
    }
  ]
}