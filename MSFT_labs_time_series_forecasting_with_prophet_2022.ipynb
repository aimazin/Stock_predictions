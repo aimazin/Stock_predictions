{
  "metadata": {
    "language_info": {
      "codemirror_mode": {
        "name": "python",
        "version": 3
      },
      "file_extension": ".py",
      "mimetype": "text/x-python",
      "name": "python",
      "nbconvert_exporter": "python",
      "pygments_lexer": "ipython3",
      "version": "3.8"
    },
    "kernelspec": {
      "name": "python",
      "display_name": "Pyolite",
      "language": "python"
    },
    "colab": {
      "provenance": [],
      "collapsed_sections": [
        "81WEzXUbVDW2",
        "_9JtKyppVDW3",
        "L_GTZbA_VDW4",
        "-HtG5T2gVDW4",
        "JgJcP59VVDW4",
        "QnDBEsopVDW5",
        "v5-ap0HrVDW5",
        "Uv9mLRjuVDW5",
        "2d6XLtc5VDW6",
        "fEBQ3N7FVDW6",
        "IvtMqiZtVDW6",
        "HU7qx-4eVDW7",
        "GqXcXJ72VDW8",
        "bEqhWdOGVDW8",
        "i9cfphhqVDW8",
        "IwNgEQbdVDW8",
        "cMjrW1DmVDW9",
        "y8DAoGVdVDW9",
        "gVAGiyaOVDW-",
        "y2b2MoyfVDW-",
        "Mso_bWTVVDW_",
        "q3lhhCkGVDW_",
        "uURg_i4RVDXA",
        "MOk7lFApVDXA",
        "4AoRMVO6VDXG",
        "jSuUNkHSVDXH",
        "GeHgsRRgVDXH",
        "OvgrSk4eVDXH",
        "iusKF1cfVDXI",
        "iJMfPxQFVDXI",
        "Wz1ZCQJgVDXI",
        "oFhEHrrVVDXJ",
        "5k-wZws1VDXJ",
        "JPAgaQIdVDXJ",
        "OsRX2T8YVDXJ",
        "MUM0zk-LVDXK",
        "YtZpS5iVVDXP",
        "k7oMygIVVDXQ"
      ],
      "include_colab_link": true
    }
  },
  "nbformat_minor": 0,
  "nbformat": 4,
  "cells": [
    {
      "cell_type": "markdown",
      "metadata": {
        "id": "view-in-github",
        "colab_type": "text"
      },
      "source": [
        "<a href=\"https://colab.research.google.com/github/aimazin/Stock_predictions/blob/main/MSFT_labs_time_series_forecasting_with_prophet_2022.ipynb\" target=\"_parent\"><img src=\"https://colab.research.google.com/assets/colab-badge.svg\" alt=\"Open In Colab\"/></a>"
      ]
    },
    {
      "cell_type": "markdown",
      "source": [
        "<center>\n",
        "    <img src=\"https://cf-courses-data.s3.us.cloud-object-storage.appdomain.cloud/assets/logos/SN_web_lightmode.png\" width=\"300\" alt=\"cognitiveclass.ai logo\">\n",
        "</center>\n"
      ],
      "metadata": {
        "id": "i7TMc3XqVDWw"
      }
    },
    {
      "cell_type": "markdown",
      "source": [
        "The Library Prophet makes forecasting with time series a lot easier. Before the introduction of libraries like  Scikit-learn, coding a machine learning pipeline was quite tricky; now, all it takes is a few lines of code. Prophet kind of does for time series what Scikit-learn did for machine learning. We say almost because time seris analysis is usually more complicated than Machine learning, and Prophet makes your job a lot easyer \n"
      ],
      "metadata": {
        "id": "UywkAun8VDWy"
      }
    },
    {
      "cell_type": "markdown",
      "source": [
        "In this Guided Project, we will go through one of the time series forecasting models, Prophet. We shall comprehend what prophet is and its benefits.\n",
        " - We'll go over a case studies.\n",
        " 1. Time series analysis of Microsoft Stock Prices(2003-2005) \n",
        "     - In this use case we are analyzing the Stock Price data that is available for the years 2003 and 2005, and we will be predicting the Stock Price for 150 more days.\n",
        " \n"
      ],
      "metadata": {
        "id": "Kha-GSY0VDWz"
      }
    },
    {
      "cell_type": "markdown",
      "source": [
        "## **Table of Contents**\n",
        "\n",
        "<ol>\n",
        "    <li><a href=\"https://#Time-series-Analysis\">Time series Analysis</a></li>\n",
        "    <li><a href=\"https://#Intoduction-to-Prophet\">Introduction to Prophet</a></li>\n",
        "     <li><a href=\"https://#benifits\">Benifits of Prophet</a></li>\n",
        "    <li><a href=\"https://#Setup\">Setup</a></li>\n",
        "    <ol><li><a href=\"https://#Installing-Required-Libraries\">Installing Required Libraries</a></li>\n",
        "    <li><a href=\"https://#Importing-Required-Libraries\">Importing Required Libraries</a></li></ol>  \n",
        "    <li><a href=\"https://#case-study\">Case Study</a></li>\n",
        "    <ol>\n",
        "        <li><a href=\"https://#Case-Study-1\">Time series analysis of Microsoft Stock Prices(2003-5)  </a></li></ol>\n",
        "<li><a href=\"https://#Conclusion\">Conclusion</a>\n",
        "        \n"
      ],
      "metadata": {
        "id": "nRCzecQWVDWz"
      }
    },
    {
      "cell_type": "markdown",
      "source": [
        "### Time Series Analysis:\n",
        "\n",
        " - Time series data is a collection of observations of measurements gathered over regular or irregular intervals of time.\n",
        " - Time series data have a natural temporal ordering\n",
        " - E.g. Sales data for a specific product at different times of the year.\n",
        " \n"
      ],
      "metadata": {
        "id": "IF0ZLHEZVDW0"
      }
    },
    {
      "cell_type": "markdown",
      "source": [
        "<center><img src=\"https://cf-courses-data.s3.us.cloud-object-storage.appdomain.cloud/IBM-GPXX032NEN/images/time_series_img.jpg\" width=\"700\" height=\"400\"></center>\n"
      ],
      "metadata": {
        "id": "Op2X8c2jVDW0"
      }
    },
    {
      "cell_type": "markdown",
      "source": [
        "### Introduction to Prophet\n",
        " - Prophet is a Python library that is open source and was created by Facebook primarily for time series forecasting.\n",
        " - It has the capability of automatically determining the right hyperparameters for the model.\n",
        " - It promotes insightful seasonal patterns.\n",
        " - It can fit time-series data having non-linearity in trends as well as holiday effects.\n",
        " - It has R and Python APIs for time-series forecasting\n",
        " \n"
      ],
      "metadata": {
        "id": "FrSNWm0vVDW0"
      }
    },
    {
      "cell_type": "markdown",
      "source": [
        "<center><img src=\"https://cdn.analyticsvidhya.com/wp-content/uploads/2018/05/tumblr_inline_omh3tnv5zk1r1x9ql_500.png\" width=\"700\" height=\"400\"></center> \n"
      ],
      "metadata": {
        "id": "6tpAl0mpVDW0"
      }
    },
    {
      "cell_type": "markdown",
      "source": [
        "### Benefits of using prophet\n",
        "1. It's automatic as well as quick. For manual time series analysis and decomposition, it saves time.\n",
        "2. It generates reliable and precise models.\n",
        "3. It can deal with outliers and missing values.\n",
        "4. It can manage the effects of seasonality and holidays.\n",
        "5. It produces a tunable model.\n"
      ],
      "metadata": {
        "id": "7DTesnCDVDW0"
      }
    },
    {
      "cell_type": "markdown",
      "source": [
        " \n"
      ],
      "metadata": {
        "id": "Kt7JmUERVDW1"
      }
    },
    {
      "cell_type": "markdown",
      "source": [
        "## Structure of Prophet\n"
      ],
      "metadata": {
        "id": "Bg3p6K5FVDW1"
      }
    },
    {
      "cell_type": "markdown",
      "source": [
        "<center><img src=\"https://cf-courses-data.s3.us.cloud-object-storage.appdomain.cloud/IBM-GPXX032NEN/images/prophet_structure-ImResizer.jpg\" width=\"700\" height=\"250\"></center>\n"
      ],
      "metadata": {
        "id": "IIa0Hgw2VDW1"
      }
    },
    {
      "cell_type": "markdown",
      "source": [
        "Prophet is particularly good at modeling time series that have multiple seasonalities and doesn’t face the drawbacks of other algorithms. At its core is the sum of three functions of time plus an error term: \n",
        "1) growth g(t)\n",
        "2) seasonality s(t)\n",
        "3) holidays h(t) , and error e_t :\n"
      ],
      "metadata": {
        "id": "O93INDPZVDW2"
      }
    },
    {
      "cell_type": "markdown",
      "source": [
        "<center><img src=\"https://cf-courses-data.s3.us.cloud-object-storage.appdomain.cloud/IBM-GPXX032NEN/images/formula_prophet.png\" width=\"500\" height=\"350\"></center>\n"
      ],
      "metadata": {
        "id": "xNJkU406VDW2"
      }
    },
    {
      "cell_type": "markdown",
      "source": [
        "An Additive Model above can absorb the absence of seasonal effects by having s(t) = 0, as the other terms of the equation have no impact to predict future values in y(t). Unlike, fixed and linear regression models like Fama.\n",
        "Prophet is a modular and non — linear regression model that separates and recombines a single dataset of history. \n",
        "Feature Engineering when features explain a future value or when factors drive a forecast are removed.\n"
      ],
      "metadata": {
        "id": "EYzmQpPWVDW2"
      }
    },
    {
      "cell_type": "markdown",
      "source": [
        "## Setup\n",
        "\n"
      ],
      "metadata": {
        "id": "81WEzXUbVDW2"
      }
    },
    {
      "cell_type": "markdown",
      "source": [
        "For this lab, we will be using the following libraries:\n",
        "\n",
        "*   [`pandas`](https://pandas.pydata.org/?utm_medium=Exinfluencer&utm_source=Exinfluencer&utm_content=000026UJ&utm_term=10006555&utm_id=NA-SkillsNetwork-Channel-SkillsNetworkCoursesIBMML0187ENSkillsNetwork31430127-2021-01-01) for managing the data.\n",
        "*   [`numpy`](https://numpy.org/?utm_medium=Exinfluencer&utm_source=Exinfluencer&utm_content=000026UJ&utm_term=10006555&utm_id=NA-SkillsNetwork-Channel-SkillsNetworkCoursesIBMML0187ENSkillsNetwork31430127-2021-01-01) for mathematical operations.\n",
        "*   [`sklearn`](https://scikit-learn.org/stable/?utm_medium=Exinfluencer&utm_source=Exinfluencer&utm_content=000026UJ&utm_term=10006555&utm_id=NA-SkillsNetwork-Channel-SkillsNetworkCoursesIBMML0187ENSkillsNetwork31430127-2021-01-01) for machine learning and machine-learning-pipeline related functions.\n",
        "*   [`matplotlib`](https://matplotlib.org/?utm_medium=Exinfluencer&utm_source=Exinfluencer&utm_content=000026UJ&utm_term=10006555&utm_id=NA-SkillsNetwork-Channel-SkillsNetworkCoursesIBMML0187ENSkillsNetwork31430127-2021-01-01) for additional plotting tools.\n",
        "*   [`Plotly`](https://matplotlib.org/?utm_medium=Exinfluencer&utm_source=Exinfluencer&utm_content=000026UJ&utm_term=10006555&utm_id=NA-SkillsNetwork-Channel-SkillsNetworkCoursesIBMML0187ENSkillsNetwork31430127-2021-01-01) for additional plotting tools.\n"
      ],
      "metadata": {
        "id": "c_2wBxO-VDW2"
      }
    },
    {
      "cell_type": "markdown",
      "source": [
        "### Installing Required Libraries\n",
        "\n",
        "The following required libraries are pre-installed in the Skills Network Labs environment. However, if you run this notebook commands in a different Jupyter environment (e.g. Watson Studio or Ananconda), you will need to install these libraries by removing the `#` sign before `!mamba` in the code cell below.\n",
        "\n"
      ],
      "metadata": {
        "id": "_9JtKyppVDW3"
      }
    },
    {
      "cell_type": "code",
      "source": [
        "# All Libraries required for this lab are listed below. The libraries pre-installed on Skills Network Labs are commented.\n",
        "#!pip install -qy pandas==1.3.4 numpy==1.21.4 seaborn==0.9.0 matplotlib==3.5.0 scikit-learn==0.20.1\n",
        "# Note: If your environment doesn't support \"!mamba install\", use \"!pip install\""
      ],
      "metadata": {
        "trusted": true,
        "id": "m68VRYs3VDW3"
      },
      "execution_count": 1,
      "outputs": []
    },
    {
      "cell_type": "markdown",
      "source": [
        "The following required libraries are **not** pre-installed in the Skills Network Labs environment. **You will need to run the following cell** to install them:\n"
      ],
      "metadata": {
        "id": "XJ4H4DK3VDW3"
      }
    },
    {
      "cell_type": "markdown",
      "source": [
        "### After running below command Restart the kernel\n"
      ],
      "metadata": {
        "id": "L_GTZbA_VDW4"
      }
    },
    {
      "cell_type": "code",
      "source": [
        "!pip install --upgrade nbformat"
      ],
      "metadata": {
        "trusted": true,
        "colab": {
          "base_uri": "https://localhost:8080/"
        },
        "id": "McJ_AO7xVDW4",
        "outputId": "d98eafd5-79d2-460f-da40-c092939932c5"
      },
      "execution_count": 2,
      "outputs": [
        {
          "output_type": "stream",
          "name": "stdout",
          "text": [
            "Looking in indexes: https://pypi.org/simple, https://us-python.pkg.dev/colab-wheels/public/simple/\n",
            "Requirement already satisfied: nbformat in /usr/local/lib/python3.8/dist-packages (5.7.0)\n",
            "Requirement already satisfied: jsonschema>=2.6 in /usr/local/lib/python3.8/dist-packages (from nbformat) (4.3.3)\n",
            "Requirement already satisfied: fastjsonschema in /usr/local/lib/python3.8/dist-packages (from nbformat) (2.16.2)\n",
            "Requirement already satisfied: jupyter-core in /usr/local/lib/python3.8/dist-packages (from nbformat) (4.11.2)\n",
            "Requirement already satisfied: traitlets>=5.1 in /usr/local/lib/python3.8/dist-packages (from nbformat) (5.1.1)\n",
            "Requirement already satisfied: pyrsistent!=0.17.0,!=0.17.1,!=0.17.2,>=0.14.0 in /usr/local/lib/python3.8/dist-packages (from jsonschema>=2.6->nbformat) (0.19.2)\n",
            "Requirement already satisfied: attrs>=17.4.0 in /usr/local/lib/python3.8/dist-packages (from jsonschema>=2.6->nbformat) (22.1.0)\n",
            "Requirement already satisfied: importlib-resources>=1.4.0 in /usr/local/lib/python3.8/dist-packages (from jsonschema>=2.6->nbformat) (5.10.0)\n",
            "Requirement already satisfied: zipp>=3.1.0 in /usr/local/lib/python3.8/dist-packages (from importlib-resources>=1.4.0->jsonschema>=2.6->nbformat) (3.10.0)\n"
          ]
        }
      ]
    },
    {
      "cell_type": "markdown",
      "source": [
        "### Note : Restart the Kernel After updating nbformat\n"
      ],
      "metadata": {
        "id": "-HtG5T2gVDW4"
      }
    },
    {
      "cell_type": "code",
      "source": [
        "!pip install yfinance"
      ],
      "metadata": {
        "colab": {
          "base_uri": "https://localhost:8080/"
        },
        "id": "nKSWNUbSfMUw",
        "outputId": "2e4a7182-028c-4e85-b62b-1dba7e922b47"
      },
      "execution_count": 3,
      "outputs": [
        {
          "output_type": "stream",
          "name": "stdout",
          "text": [
            "Looking in indexes: https://pypi.org/simple, https://us-python.pkg.dev/colab-wheels/public/simple/\n",
            "Collecting yfinance\n",
            "  Downloading yfinance-0.1.87-py2.py3-none-any.whl (29 kB)\n",
            "Requirement already satisfied: pandas>=0.24.0 in /usr/local/lib/python3.8/dist-packages (from yfinance) (1.3.5)\n",
            "Requirement already satisfied: multitasking>=0.0.7 in /usr/local/lib/python3.8/dist-packages (from yfinance) (0.0.11)\n",
            "Collecting requests>=2.26\n",
            "  Downloading requests-2.28.1-py3-none-any.whl (62 kB)\n",
            "\u001b[K     |████████████████████████████████| 62 kB 556 kB/s \n",
            "\u001b[?25hRequirement already satisfied: lxml>=4.5.1 in /usr/local/lib/python3.8/dist-packages (from yfinance) (4.9.1)\n",
            "Requirement already satisfied: appdirs>=1.4.4 in /usr/local/lib/python3.8/dist-packages (from yfinance) (1.4.4)\n",
            "Requirement already satisfied: numpy>=1.15 in /usr/local/lib/python3.8/dist-packages (from yfinance) (1.21.6)\n",
            "Requirement already satisfied: python-dateutil>=2.7.3 in /usr/local/lib/python3.8/dist-packages (from pandas>=0.24.0->yfinance) (2.8.2)\n",
            "Requirement already satisfied: pytz>=2017.3 in /usr/local/lib/python3.8/dist-packages (from pandas>=0.24.0->yfinance) (2022.6)\n",
            "Requirement already satisfied: six>=1.5 in /usr/local/lib/python3.8/dist-packages (from python-dateutil>=2.7.3->pandas>=0.24.0->yfinance) (1.15.0)\n",
            "Requirement already satisfied: charset-normalizer<3,>=2 in /usr/local/lib/python3.8/dist-packages (from requests>=2.26->yfinance) (2.1.1)\n",
            "Requirement already satisfied: idna<4,>=2.5 in /usr/local/lib/python3.8/dist-packages (from requests>=2.26->yfinance) (2.10)\n",
            "Requirement already satisfied: certifi>=2017.4.17 in /usr/local/lib/python3.8/dist-packages (from requests>=2.26->yfinance) (2022.9.24)\n",
            "Requirement already satisfied: urllib3<1.27,>=1.21.1 in /usr/local/lib/python3.8/dist-packages (from requests>=2.26->yfinance) (1.24.3)\n",
            "Installing collected packages: requests, yfinance\n",
            "  Attempting uninstall: requests\n",
            "    Found existing installation: requests 2.23.0\n",
            "    Uninstalling requests-2.23.0:\n",
            "      Successfully uninstalled requests-2.23.0\n",
            "Successfully installed requests-2.28.1 yfinance-0.1.87\n"
          ]
        }
      ]
    },
    {
      "cell_type": "code",
      "source": [
        "!pip install prophet"
      ],
      "metadata": {
        "trusted": true,
        "colab": {
          "base_uri": "https://localhost:8080/"
        },
        "id": "eTKicwzpVDW4",
        "outputId": "cf8fe341-f1dc-451e-c5eb-5325ec149040"
      },
      "execution_count": 4,
      "outputs": [
        {
          "output_type": "stream",
          "name": "stdout",
          "text": [
            "Looking in indexes: https://pypi.org/simple, https://us-python.pkg.dev/colab-wheels/public/simple/\n",
            "Requirement already satisfied: prophet in /usr/local/lib/python3.8/dist-packages (1.1.1)\n",
            "Requirement already satisfied: numpy>=1.15.4 in /usr/local/lib/python3.8/dist-packages (from prophet) (1.21.6)\n",
            "Requirement already satisfied: LunarCalendar>=0.0.9 in /usr/local/lib/python3.8/dist-packages (from prophet) (0.0.9)\n",
            "Requirement already satisfied: setuptools-git>=1.2 in /usr/local/lib/python3.8/dist-packages (from prophet) (1.2)\n",
            "Requirement already satisfied: wheel>=0.37.0 in /usr/local/lib/python3.8/dist-packages (from prophet) (0.38.4)\n",
            "Requirement already satisfied: python-dateutil>=2.8.0 in /usr/local/lib/python3.8/dist-packages (from prophet) (2.8.2)\n",
            "Requirement already satisfied: matplotlib>=2.0.0 in /usr/local/lib/python3.8/dist-packages (from prophet) (3.2.2)\n",
            "Requirement already satisfied: holidays>=0.14.2 in /usr/local/lib/python3.8/dist-packages (from prophet) (0.17)\n",
            "Requirement already satisfied: cmdstanpy>=1.0.4 in /usr/local/lib/python3.8/dist-packages (from prophet) (1.0.8)\n",
            "Requirement already satisfied: pandas>=1.0.4 in /usr/local/lib/python3.8/dist-packages (from prophet) (1.3.5)\n",
            "Requirement already satisfied: tqdm>=4.36.1 in /usr/local/lib/python3.8/dist-packages (from prophet) (4.64.1)\n",
            "Requirement already satisfied: convertdate>=2.1.2 in /usr/local/lib/python3.8/dist-packages (from prophet) (2.4.0)\n",
            "Requirement already satisfied: setuptools>=42 in /usr/local/lib/python3.8/dist-packages (from prophet) (57.4.0)\n",
            "Requirement already satisfied: pymeeus<=1,>=0.3.13 in /usr/local/lib/python3.8/dist-packages (from convertdate>=2.1.2->prophet) (0.5.11)\n",
            "Requirement already satisfied: hijri-converter in /usr/local/lib/python3.8/dist-packages (from holidays>=0.14.2->prophet) (2.2.4)\n",
            "Requirement already satisfied: korean-lunar-calendar in /usr/local/lib/python3.8/dist-packages (from holidays>=0.14.2->prophet) (0.3.1)\n",
            "Requirement already satisfied: pytz in /usr/local/lib/python3.8/dist-packages (from LunarCalendar>=0.0.9->prophet) (2022.6)\n",
            "Requirement already satisfied: ephem>=3.7.5.3 in /usr/local/lib/python3.8/dist-packages (from LunarCalendar>=0.0.9->prophet) (4.1.3)\n",
            "Requirement already satisfied: kiwisolver>=1.0.1 in /usr/local/lib/python3.8/dist-packages (from matplotlib>=2.0.0->prophet) (1.4.4)\n",
            "Requirement already satisfied: pyparsing!=2.0.4,!=2.1.2,!=2.1.6,>=2.0.1 in /usr/local/lib/python3.8/dist-packages (from matplotlib>=2.0.0->prophet) (3.0.9)\n",
            "Requirement already satisfied: cycler>=0.10 in /usr/local/lib/python3.8/dist-packages (from matplotlib>=2.0.0->prophet) (0.11.0)\n",
            "Requirement already satisfied: six>=1.5 in /usr/local/lib/python3.8/dist-packages (from python-dateutil>=2.8.0->prophet) (1.15.0)\n"
          ]
        }
      ]
    },
    {
      "cell_type": "markdown",
      "source": [
        "# About Dataset\n",
        "## Context\n",
        "Microsoft Daily Closing Stock price Data accessed using Yahoo's yfinance Api \n"
      ],
      "metadata": {
        "id": "caNreBA3VDW4"
      }
    },
    {
      "cell_type": "markdown",
      "source": [
        "## Content\n",
        "Data is in the form of a time series for a period of 24 months beginning from 6th Spt 2003 till 6th Sept 2005.\n",
        "\n",
        "    Rows are indexed with dates and columns represent states.\n",
        "    Rows and columns put together, each datapoint reflects the power consumed in Mega Units (MU) by the given state (column) at the given date (row).\n"
      ],
      "metadata": {
        "id": "JgJcP59VVDW4"
      }
    },
    {
      "cell_type": "markdown",
      "source": [
        "*   Kaggle Source - [https://www.kaggle.com/datasets/twinkle0705/state-wise-power-consumption-in-india)\n"
      ],
      "metadata": {
        "id": "dnNzOx0jVDW4"
      }
    },
    {
      "cell_type": "markdown",
      "source": [
        "## Importing Required Libraries\n",
        "\n",
        "*We recommend you import all required libraries in one place (here):*\n"
      ],
      "metadata": {
        "id": "QnDBEsopVDW5"
      }
    },
    {
      "cell_type": "code",
      "source": [
        "import pandas as pd\n",
        "from prophet import Prophet\n",
        "from matplotlib import pyplot\n",
        "from matplotlib.pyplot import figure\n",
        "from sklearn.metrics import mean_absolute_error\n",
        "import plotly.express as px\n",
        "import plotly.graph_objects as go\n",
        "import yfinance as yf\n"
      ],
      "metadata": {
        "id": "FOlNHrLOVDW5"
      },
      "execution_count": 5,
      "outputs": []
    },
    {
      "cell_type": "markdown",
      "source": [
        "# CASE STUDY 1 - Time series analysis of power consumption in India(2019-20)\n"
      ],
      "metadata": {
        "id": "DXeO1Y7uVDW5"
      }
    },
    {
      "cell_type": "markdown",
      "source": [
        "### Read CSV file\n"
      ],
      "metadata": {
        "id": "v5-ap0HrVDW5"
      }
    },
    {
      "cell_type": "markdown",
      "source": [
        "Read a comma-separated values (csv) file into DataFrame.\n",
        "\n",
        "<code>Parameters</code>\n",
        "filepath_or_bufferstr, path object or file-like object Any valid string path is acceptable. \n",
        "\n"
      ],
      "metadata": {
        "id": "wlOXkptxVDW5"
      }
    },
    {
      "cell_type": "code",
      "source": [
        "msft = yf.Ticker('MSFT')\n",
        "#msft = msft.history(start='2001-07-06',end='2022-07-06',interval='1d').Close\n",
        "df = msft.history(start='2002-07-06',end='2005-07-06',interval='1d').Close"
      ],
      "metadata": {
        "id": "mzadajZsVDW5"
      },
      "execution_count": 6,
      "outputs": []
    },
    {
      "cell_type": "markdown",
      "source": [
        "### Print the dataset information\n"
      ],
      "metadata": {
        "id": "Uv9mLRjuVDW5"
      }
    },
    {
      "cell_type": "markdown",
      "source": [
        "```DataFrame_Name.head``` function returns the first n rows for the object based on position. \n",
        "\n",
        " It is useful for quickly testing if your object has the right type of data in it.\n",
        "\n",
        " For negative values of n, this function returns all rows except the last |n| rows, equivalent to df[:n]\n"
      ],
      "metadata": {
        "id": "HM75m_5WVDW5"
      }
    },
    {
      "cell_type": "code",
      "source": [
        "df.head()"
      ],
      "metadata": {
        "colab": {
          "base_uri": "https://localhost:8080/"
        },
        "id": "AJ-5dv0YVDW5",
        "outputId": "b396a9d8-2001-4edb-fa9a-283813b489fa"
      },
      "execution_count": 7,
      "outputs": [
        {
          "output_type": "execute_result",
          "data": {
            "text/plain": [
              "Date\n",
              "2002-07-08 00:00:00-04:00    16.549694\n",
              "2002-07-09 00:00:00-04:00    16.640388\n",
              "2002-07-10 00:00:00-04:00    16.337040\n",
              "2002-07-11 00:00:00-04:00    16.546572\n",
              "2002-07-12 00:00:00-04:00    16.218206\n",
              "Name: Close, dtype: float64"
            ]
          },
          "metadata": {},
          "execution_count": 7
        }
      ]
    },
    {
      "cell_type": "markdown",
      "source": [
        "\n",
        "```DataFrame_Name.shape``` gives us the ```dimension``` of the dataset (columns, rows) therefor, we have six timer series (rows) of length 16599 columns\n"
      ],
      "metadata": {
        "id": "_sem78vfVDW6"
      }
    },
    {
      "cell_type": "code",
      "source": [
        "df.shape"
      ],
      "metadata": {
        "colab": {
          "base_uri": "https://localhost:8080/"
        },
        "id": "VVVBQO6XVDW6",
        "outputId": "994ae7af-7c74-4bf9-c2ba-658e4239aebb"
      },
      "execution_count": 8,
      "outputs": [
        {
          "output_type": "execute_result",
          "data": {
            "text/plain": [
              "(755,)"
            ]
          },
          "metadata": {},
          "execution_count": 8
        }
      ]
    },
    {
      "cell_type": "markdown",
      "source": [
        "### Check All column Datatypes\n"
      ],
      "metadata": {
        "id": "2d6XLtc5VDW6"
      }
    },
    {
      "cell_type": "markdown",
      "source": [
        "```dtypes``` function returns a Series with the data type of each column. \n",
        "\n",
        "The result’s index is the original DataFrame’s columns. Columns with mixed types are stored with the object dtype.\n"
      ],
      "metadata": {
        "id": "VeV395NqVDW6"
      }
    },
    {
      "cell_type": "code",
      "source": [
        "df.dtypes"
      ],
      "metadata": {
        "colab": {
          "base_uri": "https://localhost:8080/"
        },
        "id": "1Wy82F8UVDW6",
        "outputId": "625dad6e-4090-4cfd-b760-89c6314273c7"
      },
      "execution_count": 9,
      "outputs": [
        {
          "output_type": "execute_result",
          "data": {
            "text/plain": [
              "dtype('float64')"
            ]
          },
          "metadata": {},
          "execution_count": 9
        }
      ]
    },
    {
      "cell_type": "markdown",
      "source": [
        "Date has to be taken out of index"
      ],
      "metadata": {
        "id": "Yvp14iZuqqsr"
      }
    },
    {
      "cell_type": "code",
      "source": [
        "df = df.reset_index()\n",
        "df.head()"
      ],
      "metadata": {
        "colab": {
          "base_uri": "https://localhost:8080/",
          "height": 0
        },
        "id": "QycykJmrhpaH",
        "outputId": "d105da58-5d37-4cc0-bd38-3115e1b02599"
      },
      "execution_count": 10,
      "outputs": [
        {
          "output_type": "execute_result",
          "data": {
            "text/plain": [
              "                       Date      Close\n",
              "0 2002-07-08 00:00:00-04:00  16.549694\n",
              "1 2002-07-09 00:00:00-04:00  16.640388\n",
              "2 2002-07-10 00:00:00-04:00  16.337040\n",
              "3 2002-07-11 00:00:00-04:00  16.546572\n",
              "4 2002-07-12 00:00:00-04:00  16.218206"
            ],
            "text/html": [
              "\n",
              "  <div id=\"df-09f47801-7003-4852-bd2f-1ef76d2eb751\">\n",
              "    <div class=\"colab-df-container\">\n",
              "      <div>\n",
              "<style scoped>\n",
              "    .dataframe tbody tr th:only-of-type {\n",
              "        vertical-align: middle;\n",
              "    }\n",
              "\n",
              "    .dataframe tbody tr th {\n",
              "        vertical-align: top;\n",
              "    }\n",
              "\n",
              "    .dataframe thead th {\n",
              "        text-align: right;\n",
              "    }\n",
              "</style>\n",
              "<table border=\"1\" class=\"dataframe\">\n",
              "  <thead>\n",
              "    <tr style=\"text-align: right;\">\n",
              "      <th></th>\n",
              "      <th>Date</th>\n",
              "      <th>Close</th>\n",
              "    </tr>\n",
              "  </thead>\n",
              "  <tbody>\n",
              "    <tr>\n",
              "      <th>0</th>\n",
              "      <td>2002-07-08 00:00:00-04:00</td>\n",
              "      <td>16.549694</td>\n",
              "    </tr>\n",
              "    <tr>\n",
              "      <th>1</th>\n",
              "      <td>2002-07-09 00:00:00-04:00</td>\n",
              "      <td>16.640388</td>\n",
              "    </tr>\n",
              "    <tr>\n",
              "      <th>2</th>\n",
              "      <td>2002-07-10 00:00:00-04:00</td>\n",
              "      <td>16.337040</td>\n",
              "    </tr>\n",
              "    <tr>\n",
              "      <th>3</th>\n",
              "      <td>2002-07-11 00:00:00-04:00</td>\n",
              "      <td>16.546572</td>\n",
              "    </tr>\n",
              "    <tr>\n",
              "      <th>4</th>\n",
              "      <td>2002-07-12 00:00:00-04:00</td>\n",
              "      <td>16.218206</td>\n",
              "    </tr>\n",
              "  </tbody>\n",
              "</table>\n",
              "</div>\n",
              "      <button class=\"colab-df-convert\" onclick=\"convertToInteractive('df-09f47801-7003-4852-bd2f-1ef76d2eb751')\"\n",
              "              title=\"Convert this dataframe to an interactive table.\"\n",
              "              style=\"display:none;\">\n",
              "        \n",
              "  <svg xmlns=\"http://www.w3.org/2000/svg\" height=\"24px\"viewBox=\"0 0 24 24\"\n",
              "       width=\"24px\">\n",
              "    <path d=\"M0 0h24v24H0V0z\" fill=\"none\"/>\n",
              "    <path d=\"M18.56 5.44l.94 2.06.94-2.06 2.06-.94-2.06-.94-.94-2.06-.94 2.06-2.06.94zm-11 1L8.5 8.5l.94-2.06 2.06-.94-2.06-.94L8.5 2.5l-.94 2.06-2.06.94zm10 10l.94 2.06.94-2.06 2.06-.94-2.06-.94-.94-2.06-.94 2.06-2.06.94z\"/><path d=\"M17.41 7.96l-1.37-1.37c-.4-.4-.92-.59-1.43-.59-.52 0-1.04.2-1.43.59L10.3 9.45l-7.72 7.72c-.78.78-.78 2.05 0 2.83L4 21.41c.39.39.9.59 1.41.59.51 0 1.02-.2 1.41-.59l7.78-7.78 2.81-2.81c.8-.78.8-2.07 0-2.86zM5.41 20L4 18.59l7.72-7.72 1.47 1.35L5.41 20z\"/>\n",
              "  </svg>\n",
              "      </button>\n",
              "      \n",
              "  <style>\n",
              "    .colab-df-container {\n",
              "      display:flex;\n",
              "      flex-wrap:wrap;\n",
              "      gap: 12px;\n",
              "    }\n",
              "\n",
              "    .colab-df-convert {\n",
              "      background-color: #E8F0FE;\n",
              "      border: none;\n",
              "      border-radius: 50%;\n",
              "      cursor: pointer;\n",
              "      display: none;\n",
              "      fill: #1967D2;\n",
              "      height: 32px;\n",
              "      padding: 0 0 0 0;\n",
              "      width: 32px;\n",
              "    }\n",
              "\n",
              "    .colab-df-convert:hover {\n",
              "      background-color: #E2EBFA;\n",
              "      box-shadow: 0px 1px 2px rgba(60, 64, 67, 0.3), 0px 1px 3px 1px rgba(60, 64, 67, 0.15);\n",
              "      fill: #174EA6;\n",
              "    }\n",
              "\n",
              "    [theme=dark] .colab-df-convert {\n",
              "      background-color: #3B4455;\n",
              "      fill: #D2E3FC;\n",
              "    }\n",
              "\n",
              "    [theme=dark] .colab-df-convert:hover {\n",
              "      background-color: #434B5C;\n",
              "      box-shadow: 0px 1px 3px 1px rgba(0, 0, 0, 0.15);\n",
              "      filter: drop-shadow(0px 1px 2px rgba(0, 0, 0, 0.3));\n",
              "      fill: #FFFFFF;\n",
              "    }\n",
              "  </style>\n",
              "\n",
              "      <script>\n",
              "        const buttonEl =\n",
              "          document.querySelector('#df-09f47801-7003-4852-bd2f-1ef76d2eb751 button.colab-df-convert');\n",
              "        buttonEl.style.display =\n",
              "          google.colab.kernel.accessAllowed ? 'block' : 'none';\n",
              "\n",
              "        async function convertToInteractive(key) {\n",
              "          const element = document.querySelector('#df-09f47801-7003-4852-bd2f-1ef76d2eb751');\n",
              "          const dataTable =\n",
              "            await google.colab.kernel.invokeFunction('convertToInteractive',\n",
              "                                                     [key], {});\n",
              "          if (!dataTable) return;\n",
              "\n",
              "          const docLinkHtml = 'Like what you see? Visit the ' +\n",
              "            '<a target=\"_blank\" href=https://colab.research.google.com/notebooks/data_table.ipynb>data table notebook</a>'\n",
              "            + ' to learn more about interactive tables.';\n",
              "          element.innerHTML = '';\n",
              "          dataTable['output_type'] = 'display_data';\n",
              "          await google.colab.output.renderOutput(dataTable, element);\n",
              "          const docLink = document.createElement('div');\n",
              "          docLink.innerHTML = docLinkHtml;\n",
              "          element.appendChild(docLink);\n",
              "        }\n",
              "      </script>\n",
              "    </div>\n",
              "  </div>\n",
              "  "
            ]
          },
          "metadata": {},
          "execution_count": 10
        }
      ]
    },
    {
      "cell_type": "markdown",
      "source": [
        "## Format Dates column into datetime type\n"
      ],
      "metadata": {
        "id": "fEBQ3N7FVDW6"
      }
    },
    {
      "cell_type": "markdown",
      "source": [
        "A ```to_datetime``` function converts a scalar, array-like, Series or DataFrame/dict-like to a pandas datetime object.\n",
        "\n",
        "Here we have convert ```Dates``` column to ```datetime``` object as it was in ```object``` type and for prophet model we need datetime type.\n",
        "\n",
        "The timezone also has to be removed from the date so  a function has to be applied to that Date Series.\n"
      ],
      "metadata": {
        "id": "Q5joh4rRVDW6"
      }
    },
    {
      "cell_type": "code",
      "source": [
        "df['Date'] = pd.to_datetime(df['Date'].astype(str), format='%Y/%m/%d')\n",
        "\n",
        "def remove_timezone(dt):\n",
        "   \n",
        "    # HERE `dt` is a python datetime\n",
        "    # object that used .replace() method\n",
        "    return dt.replace(tzinfo=None)\n",
        " \n",
        "# APPLY THE ABOVE FUNCTION TO\n",
        "# REMOVE THE TIMEZONE INFORMATION\n",
        "# FROM EACH RECORD OF TIMESTAMP COLUMN IN DATAFRAME\n",
        "df['Date'] = df['Date'].apply(remove_timezone)"
      ],
      "metadata": {
        "id": "ErO1OxGhVDW6"
      },
      "execution_count": 11,
      "outputs": []
    },
    {
      "cell_type": "markdown",
      "source": [
        "## Group by Dates\n"
      ],
      "metadata": {
        "id": "IvtMqiZtVDW6"
      }
    },
    {
      "cell_type": "markdown",
      "source": [
        "A ```groupby``` operation involves some combination of splitting the object, applying a function, and combining the results. \n",
        "\n",
        "\n",
        "Here we  ```groupby``` our dataframe using the ```Dates``` column. This is because we have different states of data so we will find average usage for all the states.\n"
      ],
      "metadata": {
        "id": "LLxiQgkRVDW7"
      }
    },
    {
      "cell_type": "code",
      "source": [
        "df=df.groupby('Date',as_index=False).mean()\n",
        "print(df.head())"
      ],
      "metadata": {
        "colab": {
          "base_uri": "https://localhost:8080/"
        },
        "id": "TEjcILOFVDW7",
        "outputId": "9f56ddef-b266-42e8-82a8-d6c282db6388"
      },
      "execution_count": 12,
      "outputs": [
        {
          "output_type": "stream",
          "name": "stdout",
          "text": [
            "        Date      Close\n",
            "0 2002-07-08  16.549694\n",
            "1 2002-07-09  16.640388\n",
            "2 2002-07-10  16.337040\n",
            "3 2002-07-11  16.546572\n",
            "4 2002-07-12  16.218206\n"
          ]
        }
      ]
    },
    {
      "cell_type": "code",
      "source": [
        "df.Date[0]"
      ],
      "metadata": {
        "colab": {
          "base_uri": "https://localhost:8080/"
        },
        "id": "RvfMa5ZMljCz",
        "outputId": "492bbaf6-9ced-4d07-eae2-e9c00fdefb2e"
      },
      "execution_count": 13,
      "outputs": [
        {
          "output_type": "execute_result",
          "data": {
            "text/plain": [
              "Timestamp('2002-07-08 00:00:00')"
            ]
          },
          "metadata": {},
          "execution_count": 13
        }
      ]
    },
    {
      "cell_type": "markdown",
      "source": [
        "Dataset shape is 498 because we have approx 1 year 5 months of data\n"
      ],
      "metadata": {
        "id": "6wDn-0AhVDW7"
      }
    },
    {
      "cell_type": "code",
      "source": [
        "print(df.shape) "
      ],
      "metadata": {
        "colab": {
          "base_uri": "https://localhost:8080/"
        },
        "id": "uWoNxRlIVDW7",
        "outputId": "319fb50a-2c72-47bf-8f2a-652f006c1167"
      },
      "execution_count": 14,
      "outputs": [
        {
          "output_type": "stream",
          "name": "stdout",
          "text": [
            "(755, 2)\n"
          ]
        }
      ]
    },
    {
      "cell_type": "markdown",
      "source": [
        "### select the datetime column and target column\n"
      ],
      "metadata": {
        "id": "HU7qx-4eVDW7"
      }
    },
    {
      "cell_type": "markdown",
      "source": [
        "Here We are selecting only 2 columns which are needed for time series forecasting as prophet model needs dataframe with 2 columns\n",
        "\n",
        "1) Datetime column (Dates)\n",
        "\n",
        "2) Target column (Usage)\n",
        "\n",
        "To ```select multiple columns```, use a ``list`` of ``column names`` within the selection brackets.\n"
      ],
      "metadata": {
        "id": "-QaSXk6NVDW7"
      }
    },
    {
      "cell_type": "markdown",
      "source": [
        "You can also use drop function to drop unnecessary column by using, drop specifying  labels from rows or columns.\n",
        "\n",
        "Axis=0 can be used for dropping particular Rows.\n",
        "\n",
        "Axis=1 can be used for dropping particular Columns.\n"
      ],
      "metadata": {
        "id": "NwX9huV8VDW7"
      }
    },
    {
      "cell_type": "code",
      "source": [
        "##optional if you are using above command\n",
        "##df.drop(['latitude','longitude'],inplace=True,axis=1)"
      ],
      "metadata": {
        "id": "9yFNWDrRVDW7"
      },
      "execution_count": 15,
      "outputs": []
    },
    {
      "cell_type": "markdown",
      "source": [
        "## Introduction to Plotly library\n"
      ],
      "metadata": {
        "id": "GqXcXJ72VDW8"
      }
    },
    {
      "cell_type": "markdown",
      "source": [
        "<center><img src=\"https://cf-courses-data.s3.us.cloud-object-storage.appdomain.cloud/IBM-GPXX032NEN/images/Untitled%20design%20%289%29.png\" width=\"550\" height=\"550\"></center>\n"
      ],
      "metadata": {
        "id": "9NLjUmvAVDW8"
      }
    },
    {
      "cell_type": "markdown",
      "source": [
        "You’ve probably heard about ```Matplotib and Seaborn``` since they are often mentioned in Data Science courses. \n",
        "But do you know these libraries are designed for ```basic plotting```.\n",
        "Therefore here we have used ```Plotly``` library to plot our time series data.\n",
        "\n",
        "The ```plotly``` Python library is an ```interactive, open-source``` plotting library that supports over 40 unique chart types covering a wide range of statistical, financial, geographic, scientific, and 3-dimensional use-cases.\n"
      ],
      "metadata": {
        "id": "bfJLAgMXVDW8"
      }
    },
    {
      "cell_type": "markdown",
      "source": [
        "You can simply install plotly using below command.\n",
        "\n",
        "```pip install plotly```\n",
        "\n",
        "### Features of Plotly:\n",
        "1) zoom\n",
        "2) pan \n",
        "3) hover over datapoint.\n"
      ],
      "metadata": {
        "id": "bEqhWdOGVDW8"
      }
    },
    {
      "cell_type": "markdown",
      "source": [
        "### Plot the Data\n"
      ],
      "metadata": {
        "id": "i9cfphhqVDW8"
      }
    },
    {
      "cell_type": "markdown",
      "source": [
        "\n",
        "\n",
        "```X cordinates``` will represent ```Dates``` column from dataframe (df).\n",
        "\n",
        "```Y cordinates``` will represent target column which is ```Usage``` column from dataframe (df).\n"
      ],
      "metadata": {
        "id": "2dUTWBNSVDW8"
      }
    },
    {
      "cell_type": "code",
      "source": [
        "fig = px.line(df, x='Date', y='Close')\n",
        "fig.show()"
      ],
      "metadata": {
        "colab": {
          "base_uri": "https://localhost:8080/",
          "height": 542
        },
        "id": "kCVFdB4AVDW8",
        "outputId": "d9fe9015-83e1-493e-a1a9-9ea3ec3f66f7"
      },
      "execution_count": 16,
      "outputs": [
        {
          "output_type": "display_data",
          "data": {
            "text/html": [
              "<html>\n",
              "<head><meta charset=\"utf-8\" /></head>\n",
              "<body>\n",
              "    <div>            <script src=\"https://cdnjs.cloudflare.com/ajax/libs/mathjax/2.7.5/MathJax.js?config=TeX-AMS-MML_SVG\"></script><script type=\"text/javascript\">if (window.MathJax) {MathJax.Hub.Config({SVG: {font: \"STIX-Web\"}});}</script>                <script type=\"text/javascript\">window.PlotlyConfig = {MathJaxConfig: 'local'};</script>\n",
              "        <script src=\"https://cdn.plot.ly/plotly-2.8.3.min.js\"></script>                <div id=\"fe7b7d8c-4460-402f-aafb-fd3078bcc769\" class=\"plotly-graph-div\" style=\"height:525px; width:100%;\"></div>            <script type=\"text/javascript\">                                    window.PLOTLYENV=window.PLOTLYENV || {};                                    if (document.getElementById(\"fe7b7d8c-4460-402f-aafb-fd3078bcc769\")) {                    Plotly.newPlot(                        \"fe7b7d8c-4460-402f-aafb-fd3078bcc769\",                        [{\"hovertemplate\":\"Date=%{x}<br>Close=%{y}<extra></extra>\",\"legendgroup\":\"\",\"line\":{\"color\":\"#636efa\",\"dash\":\"solid\"},\"marker\":{\"symbol\":\"circle\"},\"mode\":\"lines\",\"name\":\"\",\"orientation\":\"v\",\"showlegend\":false,\"x\":[\"2002-07-08T00:00:00\",\"2002-07-09T00:00:00\",\"2002-07-10T00:00:00\",\"2002-07-11T00:00:00\",\"2002-07-12T00:00:00\",\"2002-07-15T00:00:00\",\"2002-07-16T00:00:00\",\"2002-07-17T00:00:00\",\"2002-07-18T00:00:00\",\"2002-07-19T00:00:00\",\"2002-07-22T00:00:00\",\"2002-07-23T00:00:00\",\"2002-07-24T00:00:00\",\"2002-07-25T00:00:00\",\"2002-07-26T00:00:00\",\"2002-07-29T00:00:00\",\"2002-07-30T00:00:00\",\"2002-07-31T00:00:00\",\"2002-08-01T00:00:00\",\"2002-08-02T00:00:00\",\"2002-08-05T00:00:00\",\"2002-08-06T00:00:00\",\"2002-08-07T00:00:00\",\"2002-08-08T00:00:00\",\"2002-08-09T00:00:00\",\"2002-08-12T00:00:00\",\"2002-08-13T00:00:00\",\"2002-08-14T00:00:00\",\"2002-08-15T00:00:00\",\"2002-08-16T00:00:00\",\"2002-08-19T00:00:00\",\"2002-08-20T00:00:00\",\"2002-08-21T00:00:00\",\"2002-08-22T00:00:00\",\"2002-08-23T00:00:00\",\"2002-08-26T00:00:00\",\"2002-08-27T00:00:00\",\"2002-08-28T00:00:00\",\"2002-08-29T00:00:00\",\"2002-08-30T00:00:00\",\"2002-09-03T00:00:00\",\"2002-09-04T00:00:00\",\"2002-09-05T00:00:00\",\"2002-09-06T00:00:00\",\"2002-09-09T00:00:00\",\"2002-09-10T00:00:00\",\"2002-09-11T00:00:00\",\"2002-09-12T00:00:00\",\"2002-09-13T00:00:00\",\"2002-09-16T00:00:00\",\"2002-09-17T00:00:00\",\"2002-09-18T00:00:00\",\"2002-09-19T00:00:00\",\"2002-09-20T00:00:00\",\"2002-09-23T00:00:00\",\"2002-09-24T00:00:00\",\"2002-09-25T00:00:00\",\"2002-09-26T00:00:00\",\"2002-09-27T00:00:00\",\"2002-09-30T00:00:00\",\"2002-10-01T00:00:00\",\"2002-10-02T00:00:00\",\"2002-10-03T00:00:00\",\"2002-10-04T00:00:00\",\"2002-10-07T00:00:00\",\"2002-10-08T00:00:00\",\"2002-10-09T00:00:00\",\"2002-10-10T00:00:00\",\"2002-10-11T00:00:00\",\"2002-10-14T00:00:00\",\"2002-10-15T00:00:00\",\"2002-10-16T00:00:00\",\"2002-10-17T00:00:00\",\"2002-10-18T00:00:00\",\"2002-10-21T00:00:00\",\"2002-10-22T00:00:00\",\"2002-10-23T00:00:00\",\"2002-10-24T00:00:00\",\"2002-10-25T00:00:00\",\"2002-10-28T00:00:00\",\"2002-10-29T00:00:00\",\"2002-10-30T00:00:00\",\"2002-10-31T00:00:00\",\"2002-11-01T00:00:00\",\"2002-11-04T00:00:00\",\"2002-11-05T00:00:00\",\"2002-11-06T00:00:00\",\"2002-11-07T00:00:00\",\"2002-11-08T00:00:00\",\"2002-11-11T00:00:00\",\"2002-11-12T00:00:00\",\"2002-11-13T00:00:00\",\"2002-11-14T00:00:00\",\"2002-11-15T00:00:00\",\"2002-11-18T00:00:00\",\"2002-11-19T00:00:00\",\"2002-11-20T00:00:00\",\"2002-11-21T00:00:00\",\"2002-11-22T00:00:00\",\"2002-11-25T00:00:00\",\"2002-11-26T00:00:00\",\"2002-11-27T00:00:00\",\"2002-11-29T00:00:00\",\"2002-12-02T00:00:00\",\"2002-12-03T00:00:00\",\"2002-12-04T00:00:00\",\"2002-12-05T00:00:00\",\"2002-12-06T00:00:00\",\"2002-12-09T00:00:00\",\"2002-12-10T00:00:00\",\"2002-12-11T00:00:00\",\"2002-12-12T00:00:00\",\"2002-12-13T00:00:00\",\"2002-12-16T00:00:00\",\"2002-12-17T00:00:00\",\"2002-12-18T00:00:00\",\"2002-12-19T00:00:00\",\"2002-12-20T00:00:00\",\"2002-12-23T00:00:00\",\"2002-12-24T00:00:00\",\"2002-12-26T00:00:00\",\"2002-12-27T00:00:00\",\"2002-12-30T00:00:00\",\"2002-12-31T00:00:00\",\"2003-01-02T00:00:00\",\"2003-01-03T00:00:00\",\"2003-01-06T00:00:00\",\"2003-01-07T00:00:00\",\"2003-01-08T00:00:00\",\"2003-01-09T00:00:00\",\"2003-01-10T00:00:00\",\"2003-01-13T00:00:00\",\"2003-01-14T00:00:00\",\"2003-01-15T00:00:00\",\"2003-01-16T00:00:00\",\"2003-01-17T00:00:00\",\"2003-01-21T00:00:00\",\"2003-01-22T00:00:00\",\"2003-01-23T00:00:00\",\"2003-01-24T00:00:00\",\"2003-01-27T00:00:00\",\"2003-01-28T00:00:00\",\"2003-01-29T00:00:00\",\"2003-01-30T00:00:00\",\"2003-01-31T00:00:00\",\"2003-02-03T00:00:00\",\"2003-02-04T00:00:00\",\"2003-02-05T00:00:00\",\"2003-02-06T00:00:00\",\"2003-02-07T00:00:00\",\"2003-02-10T00:00:00\",\"2003-02-11T00:00:00\",\"2003-02-12T00:00:00\",\"2003-02-13T00:00:00\",\"2003-02-14T00:00:00\",\"2003-02-18T00:00:00\",\"2003-02-19T00:00:00\",\"2003-02-20T00:00:00\",\"2003-02-21T00:00:00\",\"2003-02-24T00:00:00\",\"2003-02-25T00:00:00\",\"2003-02-26T00:00:00\",\"2003-02-27T00:00:00\",\"2003-02-28T00:00:00\",\"2003-03-03T00:00:00\",\"2003-03-04T00:00:00\",\"2003-03-05T00:00:00\",\"2003-03-06T00:00:00\",\"2003-03-07T00:00:00\",\"2003-03-10T00:00:00\",\"2003-03-11T00:00:00\",\"2003-03-12T00:00:00\",\"2003-03-13T00:00:00\",\"2003-03-14T00:00:00\",\"2003-03-17T00:00:00\",\"2003-03-18T00:00:00\",\"2003-03-19T00:00:00\",\"2003-03-20T00:00:00\",\"2003-03-21T00:00:00\",\"2003-03-24T00:00:00\",\"2003-03-25T00:00:00\",\"2003-03-26T00:00:00\",\"2003-03-27T00:00:00\",\"2003-03-28T00:00:00\",\"2003-03-31T00:00:00\",\"2003-04-01T00:00:00\",\"2003-04-02T00:00:00\",\"2003-04-03T00:00:00\",\"2003-04-04T00:00:00\",\"2003-04-07T00:00:00\",\"2003-04-08T00:00:00\",\"2003-04-09T00:00:00\",\"2003-04-10T00:00:00\",\"2003-04-11T00:00:00\",\"2003-04-14T00:00:00\",\"2003-04-15T00:00:00\",\"2003-04-16T00:00:00\",\"2003-04-17T00:00:00\",\"2003-04-21T00:00:00\",\"2003-04-22T00:00:00\",\"2003-04-23T00:00:00\",\"2003-04-24T00:00:00\",\"2003-04-25T00:00:00\",\"2003-04-28T00:00:00\",\"2003-04-29T00:00:00\",\"2003-04-30T00:00:00\",\"2003-05-01T00:00:00\",\"2003-05-02T00:00:00\",\"2003-05-05T00:00:00\",\"2003-05-06T00:00:00\",\"2003-05-07T00:00:00\",\"2003-05-08T00:00:00\",\"2003-05-09T00:00:00\",\"2003-05-12T00:00:00\",\"2003-05-13T00:00:00\",\"2003-05-14T00:00:00\",\"2003-05-15T00:00:00\",\"2003-05-16T00:00:00\",\"2003-05-19T00:00:00\",\"2003-05-20T00:00:00\",\"2003-05-21T00:00:00\",\"2003-05-22T00:00:00\",\"2003-05-23T00:00:00\",\"2003-05-27T00:00:00\",\"2003-05-28T00:00:00\",\"2003-05-29T00:00:00\",\"2003-05-30T00:00:00\",\"2003-06-02T00:00:00\",\"2003-06-03T00:00:00\",\"2003-06-04T00:00:00\",\"2003-06-05T00:00:00\",\"2003-06-06T00:00:00\",\"2003-06-09T00:00:00\",\"2003-06-10T00:00:00\",\"2003-06-11T00:00:00\",\"2003-06-12T00:00:00\",\"2003-06-13T00:00:00\",\"2003-06-16T00:00:00\",\"2003-06-17T00:00:00\",\"2003-06-18T00:00:00\",\"2003-06-19T00:00:00\",\"2003-06-20T00:00:00\",\"2003-06-23T00:00:00\",\"2003-06-24T00:00:00\",\"2003-06-25T00:00:00\",\"2003-06-26T00:00:00\",\"2003-06-27T00:00:00\",\"2003-06-30T00:00:00\",\"2003-07-01T00:00:00\",\"2003-07-02T00:00:00\",\"2003-07-03T00:00:00\",\"2003-07-07T00:00:00\",\"2003-07-08T00:00:00\",\"2003-07-09T00:00:00\",\"2003-07-10T00:00:00\",\"2003-07-11T00:00:00\",\"2003-07-14T00:00:00\",\"2003-07-15T00:00:00\",\"2003-07-16T00:00:00\",\"2003-07-17T00:00:00\",\"2003-07-18T00:00:00\",\"2003-07-21T00:00:00\",\"2003-07-22T00:00:00\",\"2003-07-23T00:00:00\",\"2003-07-24T00:00:00\",\"2003-07-25T00:00:00\",\"2003-07-28T00:00:00\",\"2003-07-29T00:00:00\",\"2003-07-30T00:00:00\",\"2003-07-31T00:00:00\",\"2003-08-01T00:00:00\",\"2003-08-04T00:00:00\",\"2003-08-05T00:00:00\",\"2003-08-06T00:00:00\",\"2003-08-07T00:00:00\",\"2003-08-08T00:00:00\",\"2003-08-11T00:00:00\",\"2003-08-12T00:00:00\",\"2003-08-13T00:00:00\",\"2003-08-14T00:00:00\",\"2003-08-15T00:00:00\",\"2003-08-18T00:00:00\",\"2003-08-19T00:00:00\",\"2003-08-20T00:00:00\",\"2003-08-21T00:00:00\",\"2003-08-22T00:00:00\",\"2003-08-25T00:00:00\",\"2003-08-26T00:00:00\",\"2003-08-27T00:00:00\",\"2003-08-28T00:00:00\",\"2003-08-29T00:00:00\",\"2003-09-02T00:00:00\",\"2003-09-03T00:00:00\",\"2003-09-04T00:00:00\",\"2003-09-05T00:00:00\",\"2003-09-08T00:00:00\",\"2003-09-09T00:00:00\",\"2003-09-10T00:00:00\",\"2003-09-11T00:00:00\",\"2003-09-12T00:00:00\",\"2003-09-15T00:00:00\",\"2003-09-16T00:00:00\",\"2003-09-17T00:00:00\",\"2003-09-18T00:00:00\",\"2003-09-19T00:00:00\",\"2003-09-22T00:00:00\",\"2003-09-23T00:00:00\",\"2003-09-24T00:00:00\",\"2003-09-25T00:00:00\",\"2003-09-26T00:00:00\",\"2003-09-29T00:00:00\",\"2003-09-30T00:00:00\",\"2003-10-01T00:00:00\",\"2003-10-02T00:00:00\",\"2003-10-03T00:00:00\",\"2003-10-06T00:00:00\",\"2003-10-07T00:00:00\",\"2003-10-08T00:00:00\",\"2003-10-09T00:00:00\",\"2003-10-10T00:00:00\",\"2003-10-13T00:00:00\",\"2003-10-14T00:00:00\",\"2003-10-15T00:00:00\",\"2003-10-16T00:00:00\",\"2003-10-17T00:00:00\",\"2003-10-20T00:00:00\",\"2003-10-21T00:00:00\",\"2003-10-22T00:00:00\",\"2003-10-23T00:00:00\",\"2003-10-24T00:00:00\",\"2003-10-27T00:00:00\",\"2003-10-28T00:00:00\",\"2003-10-29T00:00:00\",\"2003-10-30T00:00:00\",\"2003-10-31T00:00:00\",\"2003-11-03T00:00:00\",\"2003-11-04T00:00:00\",\"2003-11-05T00:00:00\",\"2003-11-06T00:00:00\",\"2003-11-07T00:00:00\",\"2003-11-10T00:00:00\",\"2003-11-11T00:00:00\",\"2003-11-12T00:00:00\",\"2003-11-13T00:00:00\",\"2003-11-14T00:00:00\",\"2003-11-17T00:00:00\",\"2003-11-18T00:00:00\",\"2003-11-19T00:00:00\",\"2003-11-20T00:00:00\",\"2003-11-21T00:00:00\",\"2003-11-24T00:00:00\",\"2003-11-25T00:00:00\",\"2003-11-26T00:00:00\",\"2003-11-28T00:00:00\",\"2003-12-01T00:00:00\",\"2003-12-02T00:00:00\",\"2003-12-03T00:00:00\",\"2003-12-04T00:00:00\",\"2003-12-05T00:00:00\",\"2003-12-08T00:00:00\",\"2003-12-09T00:00:00\",\"2003-12-10T00:00:00\",\"2003-12-11T00:00:00\",\"2003-12-12T00:00:00\",\"2003-12-15T00:00:00\",\"2003-12-16T00:00:00\",\"2003-12-17T00:00:00\",\"2003-12-18T00:00:00\",\"2003-12-19T00:00:00\",\"2003-12-22T00:00:00\",\"2003-12-23T00:00:00\",\"2003-12-24T00:00:00\",\"2003-12-26T00:00:00\",\"2003-12-29T00:00:00\",\"2003-12-30T00:00:00\",\"2003-12-31T00:00:00\",\"2004-01-02T00:00:00\",\"2004-01-05T00:00:00\",\"2004-01-06T00:00:00\",\"2004-01-07T00:00:00\",\"2004-01-08T00:00:00\",\"2004-01-09T00:00:00\",\"2004-01-12T00:00:00\",\"2004-01-13T00:00:00\",\"2004-01-14T00:00:00\",\"2004-01-15T00:00:00\",\"2004-01-16T00:00:00\",\"2004-01-20T00:00:00\",\"2004-01-21T00:00:00\",\"2004-01-22T00:00:00\",\"2004-01-23T00:00:00\",\"2004-01-26T00:00:00\",\"2004-01-27T00:00:00\",\"2004-01-28T00:00:00\",\"2004-01-29T00:00:00\",\"2004-01-30T00:00:00\",\"2004-02-02T00:00:00\",\"2004-02-03T00:00:00\",\"2004-02-04T00:00:00\",\"2004-02-05T00:00:00\",\"2004-02-06T00:00:00\",\"2004-02-09T00:00:00\",\"2004-02-10T00:00:00\",\"2004-02-11T00:00:00\",\"2004-02-12T00:00:00\",\"2004-02-13T00:00:00\",\"2004-02-17T00:00:00\",\"2004-02-18T00:00:00\",\"2004-02-19T00:00:00\",\"2004-02-20T00:00:00\",\"2004-02-23T00:00:00\",\"2004-02-24T00:00:00\",\"2004-02-25T00:00:00\",\"2004-02-26T00:00:00\",\"2004-02-27T00:00:00\",\"2004-03-01T00:00:00\",\"2004-03-02T00:00:00\",\"2004-03-03T00:00:00\",\"2004-03-04T00:00:00\",\"2004-03-05T00:00:00\",\"2004-03-08T00:00:00\",\"2004-03-09T00:00:00\",\"2004-03-10T00:00:00\",\"2004-03-11T00:00:00\",\"2004-03-12T00:00:00\",\"2004-03-15T00:00:00\",\"2004-03-16T00:00:00\",\"2004-03-17T00:00:00\",\"2004-03-18T00:00:00\",\"2004-03-19T00:00:00\",\"2004-03-22T00:00:00\",\"2004-03-23T00:00:00\",\"2004-03-24T00:00:00\",\"2004-03-25T00:00:00\",\"2004-03-26T00:00:00\",\"2004-03-29T00:00:00\",\"2004-03-30T00:00:00\",\"2004-03-31T00:00:00\",\"2004-04-01T00:00:00\",\"2004-04-02T00:00:00\",\"2004-04-05T00:00:00\",\"2004-04-06T00:00:00\",\"2004-04-07T00:00:00\",\"2004-04-08T00:00:00\",\"2004-04-12T00:00:00\",\"2004-04-13T00:00:00\",\"2004-04-14T00:00:00\",\"2004-04-15T00:00:00\",\"2004-04-16T00:00:00\",\"2004-04-19T00:00:00\",\"2004-04-20T00:00:00\",\"2004-04-21T00:00:00\",\"2004-04-22T00:00:00\",\"2004-04-23T00:00:00\",\"2004-04-26T00:00:00\",\"2004-04-27T00:00:00\",\"2004-04-28T00:00:00\",\"2004-04-29T00:00:00\",\"2004-04-30T00:00:00\",\"2004-05-03T00:00:00\",\"2004-05-04T00:00:00\",\"2004-05-05T00:00:00\",\"2004-05-06T00:00:00\",\"2004-05-07T00:00:00\",\"2004-05-10T00:00:00\",\"2004-05-11T00:00:00\",\"2004-05-12T00:00:00\",\"2004-05-13T00:00:00\",\"2004-05-14T00:00:00\",\"2004-05-17T00:00:00\",\"2004-05-18T00:00:00\",\"2004-05-19T00:00:00\",\"2004-05-20T00:00:00\",\"2004-05-21T00:00:00\",\"2004-05-24T00:00:00\",\"2004-05-25T00:00:00\",\"2004-05-26T00:00:00\",\"2004-05-27T00:00:00\",\"2004-05-28T00:00:00\",\"2004-06-01T00:00:00\",\"2004-06-02T00:00:00\",\"2004-06-03T00:00:00\",\"2004-06-04T00:00:00\",\"2004-06-07T00:00:00\",\"2004-06-08T00:00:00\",\"2004-06-09T00:00:00\",\"2004-06-10T00:00:00\",\"2004-06-14T00:00:00\",\"2004-06-15T00:00:00\",\"2004-06-16T00:00:00\",\"2004-06-17T00:00:00\",\"2004-06-18T00:00:00\",\"2004-06-21T00:00:00\",\"2004-06-22T00:00:00\",\"2004-06-23T00:00:00\",\"2004-06-24T00:00:00\",\"2004-06-25T00:00:00\",\"2004-06-28T00:00:00\",\"2004-06-29T00:00:00\",\"2004-06-30T00:00:00\",\"2004-07-01T00:00:00\",\"2004-07-02T00:00:00\",\"2004-07-06T00:00:00\",\"2004-07-07T00:00:00\",\"2004-07-08T00:00:00\",\"2004-07-09T00:00:00\",\"2004-07-12T00:00:00\",\"2004-07-13T00:00:00\",\"2004-07-14T00:00:00\",\"2004-07-15T00:00:00\",\"2004-07-16T00:00:00\",\"2004-07-19T00:00:00\",\"2004-07-20T00:00:00\",\"2004-07-21T00:00:00\",\"2004-07-22T00:00:00\",\"2004-07-23T00:00:00\",\"2004-07-26T00:00:00\",\"2004-07-27T00:00:00\",\"2004-07-28T00:00:00\",\"2004-07-29T00:00:00\",\"2004-07-30T00:00:00\",\"2004-08-02T00:00:00\",\"2004-08-03T00:00:00\",\"2004-08-04T00:00:00\",\"2004-08-05T00:00:00\",\"2004-08-06T00:00:00\",\"2004-08-09T00:00:00\",\"2004-08-10T00:00:00\",\"2004-08-11T00:00:00\",\"2004-08-12T00:00:00\",\"2004-08-13T00:00:00\",\"2004-08-16T00:00:00\",\"2004-08-17T00:00:00\",\"2004-08-18T00:00:00\",\"2004-08-19T00:00:00\",\"2004-08-20T00:00:00\",\"2004-08-23T00:00:00\",\"2004-08-24T00:00:00\",\"2004-08-25T00:00:00\",\"2004-08-26T00:00:00\",\"2004-08-27T00:00:00\",\"2004-08-30T00:00:00\",\"2004-08-31T00:00:00\",\"2004-09-01T00:00:00\",\"2004-09-02T00:00:00\",\"2004-09-03T00:00:00\",\"2004-09-07T00:00:00\",\"2004-09-08T00:00:00\",\"2004-09-09T00:00:00\",\"2004-09-10T00:00:00\",\"2004-09-13T00:00:00\",\"2004-09-14T00:00:00\",\"2004-09-15T00:00:00\",\"2004-09-16T00:00:00\",\"2004-09-17T00:00:00\",\"2004-09-20T00:00:00\",\"2004-09-21T00:00:00\",\"2004-09-22T00:00:00\",\"2004-09-23T00:00:00\",\"2004-09-24T00:00:00\",\"2004-09-27T00:00:00\",\"2004-09-28T00:00:00\",\"2004-09-29T00:00:00\",\"2004-09-30T00:00:00\",\"2004-10-01T00:00:00\",\"2004-10-04T00:00:00\",\"2004-10-05T00:00:00\",\"2004-10-06T00:00:00\",\"2004-10-07T00:00:00\",\"2004-10-08T00:00:00\",\"2004-10-11T00:00:00\",\"2004-10-12T00:00:00\",\"2004-10-13T00:00:00\",\"2004-10-14T00:00:00\",\"2004-10-15T00:00:00\",\"2004-10-18T00:00:00\",\"2004-10-19T00:00:00\",\"2004-10-20T00:00:00\",\"2004-10-21T00:00:00\",\"2004-10-22T00:00:00\",\"2004-10-25T00:00:00\",\"2004-10-26T00:00:00\",\"2004-10-27T00:00:00\",\"2004-10-28T00:00:00\",\"2004-10-29T00:00:00\",\"2004-11-01T00:00:00\",\"2004-11-02T00:00:00\",\"2004-11-03T00:00:00\",\"2004-11-04T00:00:00\",\"2004-11-05T00:00:00\",\"2004-11-08T00:00:00\",\"2004-11-09T00:00:00\",\"2004-11-10T00:00:00\",\"2004-11-11T00:00:00\",\"2004-11-12T00:00:00\",\"2004-11-15T00:00:00\",\"2004-11-16T00:00:00\",\"2004-11-17T00:00:00\",\"2004-11-18T00:00:00\",\"2004-11-19T00:00:00\",\"2004-11-22T00:00:00\",\"2004-11-23T00:00:00\",\"2004-11-24T00:00:00\",\"2004-11-26T00:00:00\",\"2004-11-29T00:00:00\",\"2004-11-30T00:00:00\",\"2004-12-01T00:00:00\",\"2004-12-02T00:00:00\",\"2004-12-03T00:00:00\",\"2004-12-06T00:00:00\",\"2004-12-07T00:00:00\",\"2004-12-08T00:00:00\",\"2004-12-09T00:00:00\",\"2004-12-10T00:00:00\",\"2004-12-13T00:00:00\",\"2004-12-14T00:00:00\",\"2004-12-15T00:00:00\",\"2004-12-16T00:00:00\",\"2004-12-17T00:00:00\",\"2004-12-20T00:00:00\",\"2004-12-21T00:00:00\",\"2004-12-22T00:00:00\",\"2004-12-23T00:00:00\",\"2004-12-27T00:00:00\",\"2004-12-28T00:00:00\",\"2004-12-29T00:00:00\",\"2004-12-30T00:00:00\",\"2004-12-31T00:00:00\",\"2005-01-03T00:00:00\",\"2005-01-04T00:00:00\",\"2005-01-05T00:00:00\",\"2005-01-06T00:00:00\",\"2005-01-07T00:00:00\",\"2005-01-10T00:00:00\",\"2005-01-11T00:00:00\",\"2005-01-12T00:00:00\",\"2005-01-13T00:00:00\",\"2005-01-14T00:00:00\",\"2005-01-18T00:00:00\",\"2005-01-19T00:00:00\",\"2005-01-20T00:00:00\",\"2005-01-21T00:00:00\",\"2005-01-24T00:00:00\",\"2005-01-25T00:00:00\",\"2005-01-26T00:00:00\",\"2005-01-27T00:00:00\",\"2005-01-28T00:00:00\",\"2005-01-31T00:00:00\",\"2005-02-01T00:00:00\",\"2005-02-02T00:00:00\",\"2005-02-03T00:00:00\",\"2005-02-04T00:00:00\",\"2005-02-07T00:00:00\",\"2005-02-08T00:00:00\",\"2005-02-09T00:00:00\",\"2005-02-10T00:00:00\",\"2005-02-11T00:00:00\",\"2005-02-14T00:00:00\",\"2005-02-15T00:00:00\",\"2005-02-16T00:00:00\",\"2005-02-17T00:00:00\",\"2005-02-18T00:00:00\",\"2005-02-22T00:00:00\",\"2005-02-23T00:00:00\",\"2005-02-24T00:00:00\",\"2005-02-25T00:00:00\",\"2005-02-28T00:00:00\",\"2005-03-01T00:00:00\",\"2005-03-02T00:00:00\",\"2005-03-03T00:00:00\",\"2005-03-04T00:00:00\",\"2005-03-07T00:00:00\",\"2005-03-08T00:00:00\",\"2005-03-09T00:00:00\",\"2005-03-10T00:00:00\",\"2005-03-11T00:00:00\",\"2005-03-14T00:00:00\",\"2005-03-15T00:00:00\",\"2005-03-16T00:00:00\",\"2005-03-17T00:00:00\",\"2005-03-18T00:00:00\",\"2005-03-21T00:00:00\",\"2005-03-22T00:00:00\",\"2005-03-23T00:00:00\",\"2005-03-24T00:00:00\",\"2005-03-28T00:00:00\",\"2005-03-29T00:00:00\",\"2005-03-30T00:00:00\",\"2005-03-31T00:00:00\",\"2005-04-01T00:00:00\",\"2005-04-04T00:00:00\",\"2005-04-05T00:00:00\",\"2005-04-06T00:00:00\",\"2005-04-07T00:00:00\",\"2005-04-08T00:00:00\",\"2005-04-11T00:00:00\",\"2005-04-12T00:00:00\",\"2005-04-13T00:00:00\",\"2005-04-14T00:00:00\",\"2005-04-15T00:00:00\",\"2005-04-18T00:00:00\",\"2005-04-19T00:00:00\",\"2005-04-20T00:00:00\",\"2005-04-21T00:00:00\",\"2005-04-22T00:00:00\",\"2005-04-25T00:00:00\",\"2005-04-26T00:00:00\",\"2005-04-27T00:00:00\",\"2005-04-28T00:00:00\",\"2005-04-29T00:00:00\",\"2005-05-02T00:00:00\",\"2005-05-03T00:00:00\",\"2005-05-04T00:00:00\",\"2005-05-05T00:00:00\",\"2005-05-06T00:00:00\",\"2005-05-09T00:00:00\",\"2005-05-10T00:00:00\",\"2005-05-11T00:00:00\",\"2005-05-12T00:00:00\",\"2005-05-13T00:00:00\",\"2005-05-16T00:00:00\",\"2005-05-17T00:00:00\",\"2005-05-18T00:00:00\",\"2005-05-19T00:00:00\",\"2005-05-20T00:00:00\",\"2005-05-23T00:00:00\",\"2005-05-24T00:00:00\",\"2005-05-25T00:00:00\",\"2005-05-26T00:00:00\",\"2005-05-27T00:00:00\",\"2005-05-31T00:00:00\",\"2005-06-01T00:00:00\",\"2005-06-02T00:00:00\",\"2005-06-03T00:00:00\",\"2005-06-06T00:00:00\",\"2005-06-07T00:00:00\",\"2005-06-08T00:00:00\",\"2005-06-09T00:00:00\",\"2005-06-10T00:00:00\",\"2005-06-13T00:00:00\",\"2005-06-14T00:00:00\",\"2005-06-15T00:00:00\",\"2005-06-16T00:00:00\",\"2005-06-17T00:00:00\",\"2005-06-20T00:00:00\",\"2005-06-21T00:00:00\",\"2005-06-22T00:00:00\",\"2005-06-23T00:00:00\",\"2005-06-24T00:00:00\",\"2005-06-27T00:00:00\",\"2005-06-28T00:00:00\",\"2005-06-29T00:00:00\",\"2005-06-30T00:00:00\",\"2005-07-01T00:00:00\",\"2005-07-05T00:00:00\"],\"xaxis\":\"x\",\"y\":[16.549694061279297,16.64038848876953,16.337039947509766,16.546571731567383,16.21820640563965,16.199438095092773,16.027437210083008,16.261980056762695,15.98365592956543,15.498918533325195,14.857821464538574,13.450539588928223,14.457528114318848,13.394248008728027,14.18232536315918,15.089249610900879,15.042335510253906,15.00480842590332,14.307419776916504,13.88835334777832,13.757010459899902,14.282398223876953,14.726471900939941,15.295648574829102,15.048593521118164,15.158049583435059,14.717090606689453,15.545825004577637,15.564598083496094,15.63652229309082,16.261980056762695,15.961763381958008,16.34954833984375,16.64664649963379,16.330785751342773,16.293254852294922,15.899225234985352,15.442632675170898,15.817910194396973,15.348809242248535,14.70458698272705,15.076727867126465,14.357454299926758,14.954771041870117,15.229978561401367,15.570846557617188,15.192448616027832,14.745240211486816,14.982916831970215,14.942255973815918,14.789026260375977,14.932881355285645,14.760878562927246,14.842190742492676,14.144800186157227,14.273019790649414,14.545092582702637,14.448149681091309,14.151055335998535,13.678829193115234,14.457528114318848,14.263638496398926,14.010322570800781,13.688209533691406,13.775772094726562,14.069745063781738,13.757010459899902,14.504440307617188,15.283143997192383,15.4144868850708,16.35267448425293,15.764739036560059,15.877326011657715,16.62162208557129,16.421478271484375,16.158784866333008,16.637258529663086,16.02117347717285,16.474634170532227,16.246353149414062,16.283876419067383,16.609115600585938,16.721694946289062,16.57472038269043,17.5441837310791,17.725563049316406,17.83501434326172,17.516033172607422,17.2314510345459,16.843658447265625,17.046937942504883,17.312763214111328,17.822513580322266,17.728696823120117,17.465993881225586,17.156394958496094,17.706804275512695,18.088329315185547,18.207168579101562,18.210298538208008,17.79436683654785,18.16339111328125,18.03829574584961,18.041418075561523,17.734943389892578,17.681779861450195,17.306501388549805,17.34715461730957,16.74046516418457,16.89057159423828,17.093849182128906,16.940601348876953,16.418344497680664,17.037553787231445,17.000028610229492,16.74046516418457,16.609115600585938,16.587223052978516,16.887447357177734,16.831159591674805,16.696680068969727,16.56533432006836,16.496524810791016,16.16817283630371,16.799875259399414,16.82176399230957,17.128246307373047,17.45036506652832,16.962495803833008,17.453487396240234,17.487882614135742,17.634870529174805,17.816253662109375,17.59734535217285,17.30963134765625,16.09310531616211,16.05245018005371,15.94924545288086,16.34954833984375,15.589616775512695,15.37695026397705,15.267501831054688,15.608381271362305,15.086119651794434,14.842190742492676,15.186186790466309,14.798404693603516,14.685827255249023,14.829673767089844,14.566985130310059,14.817172050476074,14.523198127746582,14.523198127746582,14.695199966430664,15.104884147644043,15.611507415771484,15.391891479492188,15.147177696228027,15.454635620117188,15.10324764251709,15.178549766540527,14.814613342285156,14.795792579650879,14.871086120605469,14.770691871643066,14.47577953338623,14.707950592041016,14.601271629333496,14.783231735229492,14.400481224060059,14.306365013122559,14.676578521728516,15.479736328125,15.598950386047363,16.270360946655273,16.339378356933594,16.51506805419922,16.471141815185547,16.671932220458984,15.868772506713867,15.994256019592285,15.84366512298584,15.711898803710938,15.479736328125,15.1910982131958,15.278945922851562,16.13857650756836,16.14485740661621,15.743276596069336,15.793472290039062,16.050729751586914,15.416990280151367,15.429540634155273,15.18481731414795,15.536205291748047,15.435811996459961,15.636603355407715,16.000534057617188,15.818572044372559,16.163686752319336,16.13857650756836,15.994256019592285,15.824844360351562,16.15113067626953,16.18877410888672,16.044464111328125,16.13857650756836,16.377016067504883,16.2264347076416,16.546438217163086,16.307998657226562,16.15113067626953,16.540157318115234,16.43976593017578,16.307998657226562,16.075836181640625,16.1825008392334,16.044464111328125,15.536205291748047,15.454635620117188,15.078152656555176,15.159723281860352,15.197379112243652,15.555036544799805,15.3165922164917,15.310318946838379,15.44208812713623,15.46090316772461,15.61151123046875,15.60522747039795,15.115799903869629,14.85226058959961,14.902459144592285,15.486014366149902,15.61151123046875,15.680536270141602,15.467191696166992,15.931510925292969,16.289169311523438,16.35819435119629,16.35819435119629,16.521337509155273,16.17622947692871,16.126028060913086,15.849942207336426,16.157405853271484,16.082115173339844,16.088382720947266,16.40839385986328,16.86644172668457,16.62801170349121,17.205286026000977,17.3809757232666,17.236652374267578,16.885276794433594,17.136259078979492,17.192737579345703,17.111160278320312,17.26803207397461,16.747230529785156,16.872718811035156,16.339378356933594,16.552719116210938,16.59662628173828,16.314271926879883,16.872718811035156,16.69703483581543,16.609189987182617,16.45859146118164,16.571537017822266,16.42094612121582,16.427221298217773,16.10093116760254,16.094661712646484,16.132307052612305,16.050729751586914,16.06955337524414,16.14485740661621,16.063282012939453,16.082115173339844,16.025644302368164,16.126028060913086,16.703304290771484,16.59662628173828,16.464860916137695,16.452320098876953,16.62801170349121,16.671932220458984,16.57781410217285,16.6342830657959,16.64055824279785,17.10488510131836,17.757457733154297,17.839033126831055,17.80765151977539,18.096298217773438,17.80137825012207,17.2868595123291,17.468822479248047,17.78255844116211,17.795106887817383,18.133935928344727,17.882951736450195,18.510427474975586,18.799068450927734,18.24061393737793,18.57317543029785,17.857847213745117,17.719806671142578,17.688430786132812,18.090015411376953,17.443723678588867,17.89550018310547,17.882951736450195,18.24688148498535,18.315908432006836,18.284530639648438,18.0837459564209,18.159046173095703,18.140220642089844,18.05864906311035,17.99589729309082,18.342947006225586,18.443899154663086,18.254613876342773,18.519624710083008,18.519624710083008,18.229368209838867,18.241987228393555,16.790706634521484,16.980005264282227,17.162986755371094,16.87273406982422,16.48151969909668,16.494142532348633,16.83487892150879,16.449966430664062,16.46889305114746,16.550928115844727,16.46889305114746,16.40579605102539,16.27959442138672,16.39317512512207,16.210187911987305,16.09029769897461,15.869453430175781,15.869453430175781,15.995648384094238,15.837913513183594,15.844209671020508,16.235431671142578,16.02720832824707,16.05875587463379,16.222810745239258,16.304834365844727,16.191259384155273,16.197574615478516,16.531993865966797,16.39317512512207,16.55722999572754,16.645580291748047,16.77808952331543,16.790706634521484,16.815950393676758,16.87273406982422,17.074647903442383,17.062030792236328,17.2891902923584,17.263954162597656,17.150365829467773,17.13143539428711,17.062030792236328,17.16929054260254,17.327043533325195,17.36490821838379,17.270254135131836,17.320743560791016,17.756118774414062,17.819215774536133,17.80029296875,17.76874542236328,17.4532413482666,17.39645767211914,17.308116912841797,17.478485107421875,17.377531051635742,17.547897338867188,17.730880737304688,17.857080459594727,17.674095153808594,17.970659255981445,18.172578811645508,17.825531005859375,17.48479652404785,17.610984802246094,17.446935653686523,17.2891902923584,17.219770431518555,17.04310417175293,17.01154136657715,17.087270736694336,16.973690032958984,17.049413681030273,17.13143539428711,17.00524139404297,16.77808952331543,17.030475616455078,16.891658782958984,16.6960506439209,16.76546287536621,16.790706634521484,16.961063385009766,16.847496032714844,16.721298217773438,16.740222930908203,16.847496032714844,16.651884078979492,16.639266967773438,16.639266967773438,16.626644134521484,16.298532485961914,16.229114532470703,16.00827407836914,15.831597328186035,16.01458168029785,15.875770568847656,15.888385772705078,15.856828689575195,15.705397605895996,15.541337966918945,15.459312438964844,15.238466262817383,15.402520179748535,15.894695281982422,15.793737411499023,15.970412254333496,15.901010513305664,15.730633735656738,15.825285911560059,16.311153411865234,16.374248504638672,16.27959442138672,16.147079467773438,16.077688217163086,16.159706115722656,16.05875587463379,16.096616744995117,15.91362476348877,15.875770568847656,16.109233856201172,15.983030319213867,16.05875587463379,16.374248504638672,17.377531051635742,17.18822479248047,17.175600051879883,16.7591609954834,16.70867347717285,16.48782730102539,16.626644134521484,16.614025115966797,16.595096588134766,16.48151969909668,16.266979217529297,16.361637115478516,16.367944717407227,16.367944717407227,16.46889305114746,16.31746482849121,16.115549087524414,16.298532485961914,16.166025161743164,16.235431671142578,16.336383819580078,16.254365921020508,16.46889305114746,16.494142532348633,16.525691986083984,16.550928115844727,16.475210189819336,16.48782730102539,16.336383819580078,16.374248504638672,16.677122116088867,16.784393310546875,16.702367782592773,16.891658782958984,16.973690032958984,17.295499801635742,17.23870849609375,17.522655487060547,17.88862419128418,17.88862419128418,17.850765228271484,17.857080459594727,17.913864135742188,18.02744483947754,17.844463348388672,17.9832763671875,18.021141052246094,18.065305709838867,18.02744483947754,17.680400848388672,17.730880737304688,17.440624237060547,17.579439163208008,17.59837532043457,17.415386199951172,17.74981117248535,17.585750579833984,17.339662551879883,17.636232376098633,17.869693756103516,18.210430145263672,18.298776626586914,17.686710357666016,18.08423614501953,17.945423126220703,18.03376007080078,17.970659255981445,17.976966857910156,17.995895385742188,17.71194839477539,17.705642700195312,17.37122344970703,17.12512969970703,17.150365829467773,17.49110221862793,17.295499801635742,16.961063385009766,17.049413681030273,17.09358024597168,17.068342208862305,17.327043533325195,17.11250114440918,17.162986755371094,17.238927841186523,17.238927841186523,17.435121536254883,17.365503311157227,17.378156661987305,17.276901245117188,17.276901245117188,17.3338565826416,17.479415893554688,17.15665626525879,17.31488037109375,17.251585006713867,17.264244079589844,17.39715003967285,17.245258331298828,17.365503311157227,17.207284927368164,17.251585006713867,17.409807205200195,17.409807205200195,17.251585006713867,17.162981033325195,17.308549880981445,17.270566940307617,17.207284927368164,17.257915496826172,17.454099655151367,17.498401641845703,17.878114700317383,17.795839309692383,17.96038055419922,18.055316925048828,17.827491760253906,17.713579177856445,17.757871627807617,17.73888397216797,17.73888397216797,17.59333038330078,17.713579177856445,17.9793701171875,17.833810806274414,18.16290283203125,18.07430076599121,17.555356979370117,17.485740661621094,17.656618118286133,17.814823150634766,17.72623062133789,17.700910568237305,17.770532608032227,17.871780395507812,18.01734161376953,18.35275650024414,18.548938751220703,18.529956817626953,18.840055465698242,18.81473159790039,18.972946166992188,18.966625213623047,19.319293975830078,19.128854751586914,19.16411781311035,19.093582153320312,18.945466995239258,18.797338485717773,18.712697982788086,18.7902889251709,18.762073516845703,18.88198471069336,18.91019630432129,19.220544815063477,19.107694625854492,19.20643424987793,19.276973724365234,19.093582153320312,19.29813575744629,19.20643424987793,19.100637435913086,19.220544815063477,19.20643424987793,19.12179946899414,19.157058715820312,19.015993118286133,19.008947372436523,19.093582153320312,19.023042678833008,19.051259994506836,18.938411712646484,19.008947372436523,18.973670959472656,18.874927520751953,18.846715927124023,18.860820770263672,18.931350708007812,18.8890323638916,18.867874145507812,18.811452865600586,18.903141021728516,18.853769302368164,18.8890323638916,18.52930450439453,18.423513412475586,18.564579010009766,18.324764251708984,18.24012565612793,18.09200096130371,18.10610580444336,18.35297393798828,18.34592056274414,18.416454315185547,18.46583366394043,18.53636932373047,18.613956451416016,18.663326263427734,18.46583366394043,18.564579010009766,18.451725006103516,18.508155822753906,18.388246536254883,18.381187438964844,18.317710876464844,18.34592056274414,18.345918655395508,18.246871948242188,18.14781379699707,18.02753257751465,17.850666046142578,17.82943344116211,17.949724197387695,17.86480140686035,17.801132202148438,17.88603401184082,17.871885299682617,17.80820655822754,17.80820655822754,18.020463943481445,17.97093963623047,17.90726089477539,17.992164611816406,17.751609802246094,17.765756607055664,17.624258041381836,17.426149368286133,17.362472534179688,17.199743270874023,17.121919631958008,16.97333526611328,17.107765197753906,17.17852210998535,17.121919631958008,16.923812866210938,17.093610763549805,17.10068702697754,17.06531524658203,17.143144607543945,17.31294822692871,17.454448699951172,17.758682250976562,17.645479202270508,17.666702270507812,17.914337158203125,17.716236114501953,17.574726104736328,17.30587387084961,17.4403018951416,17.426149368286133,17.206815719604492,17.88603401184082,17.673786163330078,17.680856704711914,17.51812744140625,17.680856704711914,17.298799514770508,17.900178909301758,17.850666046142578,17.942636489868164,17.836511611938477,17.850666046142578,17.843584060668945,17.765756607055664,17.61717987060547,17.624258041381836,17.687931060791016,17.900178909301758,18.091815948486328,18.070526123046875,18.24087142944336,18.39702033996582,18.269258499145508,18.34733009338379,18.27635955810547,18.24796485900879,18.38282585144043,18.503477096557617,18.31184196472168,18.318946838378906,18.30474853515625,18.049236297607422,18.006662368774414,18.106016159057617,18.02794075012207,18.106016159057617,18.049236297607422,17.964067459106445,17.999553680419922,17.92857551574707,17.772430419921875,17.772430419921875,17.822107315063477,17.850502014160156,17.793731689453125,17.964067459106445,17.772430419921875,17.77951431274414,17.793731689453125,17.80791664123535,17.630475997924805,17.5382080078125,17.7298526763916],\"yaxis\":\"y\",\"type\":\"scatter\"}],                        {\"template\":{\"data\":{\"bar\":[{\"error_x\":{\"color\":\"#2a3f5f\"},\"error_y\":{\"color\":\"#2a3f5f\"},\"marker\":{\"line\":{\"color\":\"#E5ECF6\",\"width\":0.5},\"pattern\":{\"fillmode\":\"overlay\",\"size\":10,\"solidity\":0.2}},\"type\":\"bar\"}],\"barpolar\":[{\"marker\":{\"line\":{\"color\":\"#E5ECF6\",\"width\":0.5},\"pattern\":{\"fillmode\":\"overlay\",\"size\":10,\"solidity\":0.2}},\"type\":\"barpolar\"}],\"carpet\":[{\"aaxis\":{\"endlinecolor\":\"#2a3f5f\",\"gridcolor\":\"white\",\"linecolor\":\"white\",\"minorgridcolor\":\"white\",\"startlinecolor\":\"#2a3f5f\"},\"baxis\":{\"endlinecolor\":\"#2a3f5f\",\"gridcolor\":\"white\",\"linecolor\":\"white\",\"minorgridcolor\":\"white\",\"startlinecolor\":\"#2a3f5f\"},\"type\":\"carpet\"}],\"choropleth\":[{\"colorbar\":{\"outlinewidth\":0,\"ticks\":\"\"},\"type\":\"choropleth\"}],\"contour\":[{\"colorbar\":{\"outlinewidth\":0,\"ticks\":\"\"},\"colorscale\":[[0.0,\"#0d0887\"],[0.1111111111111111,\"#46039f\"],[0.2222222222222222,\"#7201a8\"],[0.3333333333333333,\"#9c179e\"],[0.4444444444444444,\"#bd3786\"],[0.5555555555555556,\"#d8576b\"],[0.6666666666666666,\"#ed7953\"],[0.7777777777777778,\"#fb9f3a\"],[0.8888888888888888,\"#fdca26\"],[1.0,\"#f0f921\"]],\"type\":\"contour\"}],\"contourcarpet\":[{\"colorbar\":{\"outlinewidth\":0,\"ticks\":\"\"},\"type\":\"contourcarpet\"}],\"heatmap\":[{\"colorbar\":{\"outlinewidth\":0,\"ticks\":\"\"},\"colorscale\":[[0.0,\"#0d0887\"],[0.1111111111111111,\"#46039f\"],[0.2222222222222222,\"#7201a8\"],[0.3333333333333333,\"#9c179e\"],[0.4444444444444444,\"#bd3786\"],[0.5555555555555556,\"#d8576b\"],[0.6666666666666666,\"#ed7953\"],[0.7777777777777778,\"#fb9f3a\"],[0.8888888888888888,\"#fdca26\"],[1.0,\"#f0f921\"]],\"type\":\"heatmap\"}],\"heatmapgl\":[{\"colorbar\":{\"outlinewidth\":0,\"ticks\":\"\"},\"colorscale\":[[0.0,\"#0d0887\"],[0.1111111111111111,\"#46039f\"],[0.2222222222222222,\"#7201a8\"],[0.3333333333333333,\"#9c179e\"],[0.4444444444444444,\"#bd3786\"],[0.5555555555555556,\"#d8576b\"],[0.6666666666666666,\"#ed7953\"],[0.7777777777777778,\"#fb9f3a\"],[0.8888888888888888,\"#fdca26\"],[1.0,\"#f0f921\"]],\"type\":\"heatmapgl\"}],\"histogram\":[{\"marker\":{\"pattern\":{\"fillmode\":\"overlay\",\"size\":10,\"solidity\":0.2}},\"type\":\"histogram\"}],\"histogram2d\":[{\"colorbar\":{\"outlinewidth\":0,\"ticks\":\"\"},\"colorscale\":[[0.0,\"#0d0887\"],[0.1111111111111111,\"#46039f\"],[0.2222222222222222,\"#7201a8\"],[0.3333333333333333,\"#9c179e\"],[0.4444444444444444,\"#bd3786\"],[0.5555555555555556,\"#d8576b\"],[0.6666666666666666,\"#ed7953\"],[0.7777777777777778,\"#fb9f3a\"],[0.8888888888888888,\"#fdca26\"],[1.0,\"#f0f921\"]],\"type\":\"histogram2d\"}],\"histogram2dcontour\":[{\"colorbar\":{\"outlinewidth\":0,\"ticks\":\"\"},\"colorscale\":[[0.0,\"#0d0887\"],[0.1111111111111111,\"#46039f\"],[0.2222222222222222,\"#7201a8\"],[0.3333333333333333,\"#9c179e\"],[0.4444444444444444,\"#bd3786\"],[0.5555555555555556,\"#d8576b\"],[0.6666666666666666,\"#ed7953\"],[0.7777777777777778,\"#fb9f3a\"],[0.8888888888888888,\"#fdca26\"],[1.0,\"#f0f921\"]],\"type\":\"histogram2dcontour\"}],\"mesh3d\":[{\"colorbar\":{\"outlinewidth\":0,\"ticks\":\"\"},\"type\":\"mesh3d\"}],\"parcoords\":[{\"line\":{\"colorbar\":{\"outlinewidth\":0,\"ticks\":\"\"}},\"type\":\"parcoords\"}],\"pie\":[{\"automargin\":true,\"type\":\"pie\"}],\"scatter\":[{\"marker\":{\"colorbar\":{\"outlinewidth\":0,\"ticks\":\"\"}},\"type\":\"scatter\"}],\"scatter3d\":[{\"line\":{\"colorbar\":{\"outlinewidth\":0,\"ticks\":\"\"}},\"marker\":{\"colorbar\":{\"outlinewidth\":0,\"ticks\":\"\"}},\"type\":\"scatter3d\"}],\"scattercarpet\":[{\"marker\":{\"colorbar\":{\"outlinewidth\":0,\"ticks\":\"\"}},\"type\":\"scattercarpet\"}],\"scattergeo\":[{\"marker\":{\"colorbar\":{\"outlinewidth\":0,\"ticks\":\"\"}},\"type\":\"scattergeo\"}],\"scattergl\":[{\"marker\":{\"colorbar\":{\"outlinewidth\":0,\"ticks\":\"\"}},\"type\":\"scattergl\"}],\"scattermapbox\":[{\"marker\":{\"colorbar\":{\"outlinewidth\":0,\"ticks\":\"\"}},\"type\":\"scattermapbox\"}],\"scatterpolar\":[{\"marker\":{\"colorbar\":{\"outlinewidth\":0,\"ticks\":\"\"}},\"type\":\"scatterpolar\"}],\"scatterpolargl\":[{\"marker\":{\"colorbar\":{\"outlinewidth\":0,\"ticks\":\"\"}},\"type\":\"scatterpolargl\"}],\"scatterternary\":[{\"marker\":{\"colorbar\":{\"outlinewidth\":0,\"ticks\":\"\"}},\"type\":\"scatterternary\"}],\"surface\":[{\"colorbar\":{\"outlinewidth\":0,\"ticks\":\"\"},\"colorscale\":[[0.0,\"#0d0887\"],[0.1111111111111111,\"#46039f\"],[0.2222222222222222,\"#7201a8\"],[0.3333333333333333,\"#9c179e\"],[0.4444444444444444,\"#bd3786\"],[0.5555555555555556,\"#d8576b\"],[0.6666666666666666,\"#ed7953\"],[0.7777777777777778,\"#fb9f3a\"],[0.8888888888888888,\"#fdca26\"],[1.0,\"#f0f921\"]],\"type\":\"surface\"}],\"table\":[{\"cells\":{\"fill\":{\"color\":\"#EBF0F8\"},\"line\":{\"color\":\"white\"}},\"header\":{\"fill\":{\"color\":\"#C8D4E3\"},\"line\":{\"color\":\"white\"}},\"type\":\"table\"}]},\"layout\":{\"annotationdefaults\":{\"arrowcolor\":\"#2a3f5f\",\"arrowhead\":0,\"arrowwidth\":1},\"autotypenumbers\":\"strict\",\"coloraxis\":{\"colorbar\":{\"outlinewidth\":0,\"ticks\":\"\"}},\"colorscale\":{\"diverging\":[[0,\"#8e0152\"],[0.1,\"#c51b7d\"],[0.2,\"#de77ae\"],[0.3,\"#f1b6da\"],[0.4,\"#fde0ef\"],[0.5,\"#f7f7f7\"],[0.6,\"#e6f5d0\"],[0.7,\"#b8e186\"],[0.8,\"#7fbc41\"],[0.9,\"#4d9221\"],[1,\"#276419\"]],\"sequential\":[[0.0,\"#0d0887\"],[0.1111111111111111,\"#46039f\"],[0.2222222222222222,\"#7201a8\"],[0.3333333333333333,\"#9c179e\"],[0.4444444444444444,\"#bd3786\"],[0.5555555555555556,\"#d8576b\"],[0.6666666666666666,\"#ed7953\"],[0.7777777777777778,\"#fb9f3a\"],[0.8888888888888888,\"#fdca26\"],[1.0,\"#f0f921\"]],\"sequentialminus\":[[0.0,\"#0d0887\"],[0.1111111111111111,\"#46039f\"],[0.2222222222222222,\"#7201a8\"],[0.3333333333333333,\"#9c179e\"],[0.4444444444444444,\"#bd3786\"],[0.5555555555555556,\"#d8576b\"],[0.6666666666666666,\"#ed7953\"],[0.7777777777777778,\"#fb9f3a\"],[0.8888888888888888,\"#fdca26\"],[1.0,\"#f0f921\"]]},\"colorway\":[\"#636efa\",\"#EF553B\",\"#00cc96\",\"#ab63fa\",\"#FFA15A\",\"#19d3f3\",\"#FF6692\",\"#B6E880\",\"#FF97FF\",\"#FECB52\"],\"font\":{\"color\":\"#2a3f5f\"},\"geo\":{\"bgcolor\":\"white\",\"lakecolor\":\"white\",\"landcolor\":\"#E5ECF6\",\"showlakes\":true,\"showland\":true,\"subunitcolor\":\"white\"},\"hoverlabel\":{\"align\":\"left\"},\"hovermode\":\"closest\",\"mapbox\":{\"style\":\"light\"},\"paper_bgcolor\":\"white\",\"plot_bgcolor\":\"#E5ECF6\",\"polar\":{\"angularaxis\":{\"gridcolor\":\"white\",\"linecolor\":\"white\",\"ticks\":\"\"},\"bgcolor\":\"#E5ECF6\",\"radialaxis\":{\"gridcolor\":\"white\",\"linecolor\":\"white\",\"ticks\":\"\"}},\"scene\":{\"xaxis\":{\"backgroundcolor\":\"#E5ECF6\",\"gridcolor\":\"white\",\"gridwidth\":2,\"linecolor\":\"white\",\"showbackground\":true,\"ticks\":\"\",\"zerolinecolor\":\"white\"},\"yaxis\":{\"backgroundcolor\":\"#E5ECF6\",\"gridcolor\":\"white\",\"gridwidth\":2,\"linecolor\":\"white\",\"showbackground\":true,\"ticks\":\"\",\"zerolinecolor\":\"white\"},\"zaxis\":{\"backgroundcolor\":\"#E5ECF6\",\"gridcolor\":\"white\",\"gridwidth\":2,\"linecolor\":\"white\",\"showbackground\":true,\"ticks\":\"\",\"zerolinecolor\":\"white\"}},\"shapedefaults\":{\"line\":{\"color\":\"#2a3f5f\"}},\"ternary\":{\"aaxis\":{\"gridcolor\":\"white\",\"linecolor\":\"white\",\"ticks\":\"\"},\"baxis\":{\"gridcolor\":\"white\",\"linecolor\":\"white\",\"ticks\":\"\"},\"bgcolor\":\"#E5ECF6\",\"caxis\":{\"gridcolor\":\"white\",\"linecolor\":\"white\",\"ticks\":\"\"}},\"title\":{\"x\":0.05},\"xaxis\":{\"automargin\":true,\"gridcolor\":\"white\",\"linecolor\":\"white\",\"ticks\":\"\",\"title\":{\"standoff\":15},\"zerolinecolor\":\"white\",\"zerolinewidth\":2},\"yaxis\":{\"automargin\":true,\"gridcolor\":\"white\",\"linecolor\":\"white\",\"ticks\":\"\",\"title\":{\"standoff\":15},\"zerolinecolor\":\"white\",\"zerolinewidth\":2}}},\"xaxis\":{\"anchor\":\"y\",\"domain\":[0.0,1.0],\"title\":{\"text\":\"Date\"}},\"yaxis\":{\"anchor\":\"x\",\"domain\":[0.0,1.0],\"title\":{\"text\":\"Close\"}},\"legend\":{\"tracegroupgap\":0},\"margin\":{\"t\":60}},                        {\"responsive\": true}                    ).then(function(){\n",
              "                            \n",
              "var gd = document.getElementById('fe7b7d8c-4460-402f-aafb-fd3078bcc769');\n",
              "var x = new MutationObserver(function (mutations, observer) {{\n",
              "        var display = window.getComputedStyle(gd).display;\n",
              "        if (!display || display === 'none') {{\n",
              "            console.log([gd, 'removed!']);\n",
              "            Plotly.purge(gd);\n",
              "            observer.disconnect();\n",
              "        }}\n",
              "}});\n",
              "\n",
              "// Listen for the removal of the full notebook cells\n",
              "var notebookContainer = gd.closest('#notebook-container');\n",
              "if (notebookContainer) {{\n",
              "    x.observe(notebookContainer, {childList: true});\n",
              "}}\n",
              "\n",
              "// Listen for the clearing of the current output cell\n",
              "var outputEl = gd.closest('.output');\n",
              "if (outputEl) {{\n",
              "    x.observe(outputEl, {childList: true});\n",
              "}}\n",
              "\n",
              "                        })                };                            </script>        </div>\n",
              "</body>\n",
              "</html>"
            ]
          },
          "metadata": {}
        }
      ]
    },
    {
      "cell_type": "markdown",
      "source": [
        "### Prepare for Prophet  \n"
      ],
      "metadata": {
        "id": "IwNgEQbdVDW8"
      }
    },
    {
      "cell_type": "markdown",
      "source": [
        "For prophet to work, we need to change the names of these columns to 'ds' and 'y'.\n",
        "\n",
        "We will convert datetime column to ds and target column to y.\n",
        "\n",
        "ds - datestamp column\n",
        "\n",
        "y - target column\n",
        "\n",
        "DataFrame.columns attribute return the column labels of the given Dataframe.\n"
      ],
      "metadata": {
        "id": "XfKqBA-RVDW8"
      }
    },
    {
      "cell_type": "code",
      "source": [
        "df.columns = ['ds','y']"
      ],
      "metadata": {
        "id": "ovfgk0n3VDW9"
      },
      "execution_count": 17,
      "outputs": []
    },
    {
      "cell_type": "markdown",
      "source": [
        "### Print 5 rows of the Dataframe \n"
      ],
      "metadata": {
        "id": "cMjrW1DmVDW9"
      }
    },
    {
      "cell_type": "markdown",
      "source": [
        "Now you can see columns names are changed to ```ds``` and ```y```\n"
      ],
      "metadata": {
        "id": "VaHahaVIVDW9"
      }
    },
    {
      "cell_type": "code",
      "source": [
        "df.head()"
      ],
      "metadata": {
        "colab": {
          "base_uri": "https://localhost:8080/",
          "height": 0
        },
        "id": "FO676l_7VDW9",
        "outputId": "1f318f30-ae11-48f4-adf0-8816788c9536"
      },
      "execution_count": 18,
      "outputs": [
        {
          "output_type": "execute_result",
          "data": {
            "text/plain": [
              "          ds          y\n",
              "0 2002-07-08  16.549694\n",
              "1 2002-07-09  16.640388\n",
              "2 2002-07-10  16.337040\n",
              "3 2002-07-11  16.546572\n",
              "4 2002-07-12  16.218206"
            ],
            "text/html": [
              "\n",
              "  <div id=\"df-bc2fadfc-593d-43f0-a9be-0845cab3032e\">\n",
              "    <div class=\"colab-df-container\">\n",
              "      <div>\n",
              "<style scoped>\n",
              "    .dataframe tbody tr th:only-of-type {\n",
              "        vertical-align: middle;\n",
              "    }\n",
              "\n",
              "    .dataframe tbody tr th {\n",
              "        vertical-align: top;\n",
              "    }\n",
              "\n",
              "    .dataframe thead th {\n",
              "        text-align: right;\n",
              "    }\n",
              "</style>\n",
              "<table border=\"1\" class=\"dataframe\">\n",
              "  <thead>\n",
              "    <tr style=\"text-align: right;\">\n",
              "      <th></th>\n",
              "      <th>ds</th>\n",
              "      <th>y</th>\n",
              "    </tr>\n",
              "  </thead>\n",
              "  <tbody>\n",
              "    <tr>\n",
              "      <th>0</th>\n",
              "      <td>2002-07-08</td>\n",
              "      <td>16.549694</td>\n",
              "    </tr>\n",
              "    <tr>\n",
              "      <th>1</th>\n",
              "      <td>2002-07-09</td>\n",
              "      <td>16.640388</td>\n",
              "    </tr>\n",
              "    <tr>\n",
              "      <th>2</th>\n",
              "      <td>2002-07-10</td>\n",
              "      <td>16.337040</td>\n",
              "    </tr>\n",
              "    <tr>\n",
              "      <th>3</th>\n",
              "      <td>2002-07-11</td>\n",
              "      <td>16.546572</td>\n",
              "    </tr>\n",
              "    <tr>\n",
              "      <th>4</th>\n",
              "      <td>2002-07-12</td>\n",
              "      <td>16.218206</td>\n",
              "    </tr>\n",
              "  </tbody>\n",
              "</table>\n",
              "</div>\n",
              "      <button class=\"colab-df-convert\" onclick=\"convertToInteractive('df-bc2fadfc-593d-43f0-a9be-0845cab3032e')\"\n",
              "              title=\"Convert this dataframe to an interactive table.\"\n",
              "              style=\"display:none;\">\n",
              "        \n",
              "  <svg xmlns=\"http://www.w3.org/2000/svg\" height=\"24px\"viewBox=\"0 0 24 24\"\n",
              "       width=\"24px\">\n",
              "    <path d=\"M0 0h24v24H0V0z\" fill=\"none\"/>\n",
              "    <path d=\"M18.56 5.44l.94 2.06.94-2.06 2.06-.94-2.06-.94-.94-2.06-.94 2.06-2.06.94zm-11 1L8.5 8.5l.94-2.06 2.06-.94-2.06-.94L8.5 2.5l-.94 2.06-2.06.94zm10 10l.94 2.06.94-2.06 2.06-.94-2.06-.94-.94-2.06-.94 2.06-2.06.94z\"/><path d=\"M17.41 7.96l-1.37-1.37c-.4-.4-.92-.59-1.43-.59-.52 0-1.04.2-1.43.59L10.3 9.45l-7.72 7.72c-.78.78-.78 2.05 0 2.83L4 21.41c.39.39.9.59 1.41.59.51 0 1.02-.2 1.41-.59l7.78-7.78 2.81-2.81c.8-.78.8-2.07 0-2.86zM5.41 20L4 18.59l7.72-7.72 1.47 1.35L5.41 20z\"/>\n",
              "  </svg>\n",
              "      </button>\n",
              "      \n",
              "  <style>\n",
              "    .colab-df-container {\n",
              "      display:flex;\n",
              "      flex-wrap:wrap;\n",
              "      gap: 12px;\n",
              "    }\n",
              "\n",
              "    .colab-df-convert {\n",
              "      background-color: #E8F0FE;\n",
              "      border: none;\n",
              "      border-radius: 50%;\n",
              "      cursor: pointer;\n",
              "      display: none;\n",
              "      fill: #1967D2;\n",
              "      height: 32px;\n",
              "      padding: 0 0 0 0;\n",
              "      width: 32px;\n",
              "    }\n",
              "\n",
              "    .colab-df-convert:hover {\n",
              "      background-color: #E2EBFA;\n",
              "      box-shadow: 0px 1px 2px rgba(60, 64, 67, 0.3), 0px 1px 3px 1px rgba(60, 64, 67, 0.15);\n",
              "      fill: #174EA6;\n",
              "    }\n",
              "\n",
              "    [theme=dark] .colab-df-convert {\n",
              "      background-color: #3B4455;\n",
              "      fill: #D2E3FC;\n",
              "    }\n",
              "\n",
              "    [theme=dark] .colab-df-convert:hover {\n",
              "      background-color: #434B5C;\n",
              "      box-shadow: 0px 1px 3px 1px rgba(0, 0, 0, 0.15);\n",
              "      filter: drop-shadow(0px 1px 2px rgba(0, 0, 0, 0.3));\n",
              "      fill: #FFFFFF;\n",
              "    }\n",
              "  </style>\n",
              "\n",
              "      <script>\n",
              "        const buttonEl =\n",
              "          document.querySelector('#df-bc2fadfc-593d-43f0-a9be-0845cab3032e button.colab-df-convert');\n",
              "        buttonEl.style.display =\n",
              "          google.colab.kernel.accessAllowed ? 'block' : 'none';\n",
              "\n",
              "        async function convertToInteractive(key) {\n",
              "          const element = document.querySelector('#df-bc2fadfc-593d-43f0-a9be-0845cab3032e');\n",
              "          const dataTable =\n",
              "            await google.colab.kernel.invokeFunction('convertToInteractive',\n",
              "                                                     [key], {});\n",
              "          if (!dataTable) return;\n",
              "\n",
              "          const docLinkHtml = 'Like what you see? Visit the ' +\n",
              "            '<a target=\"_blank\" href=https://colab.research.google.com/notebooks/data_table.ipynb>data table notebook</a>'\n",
              "            + ' to learn more about interactive tables.';\n",
              "          element.innerHTML = '';\n",
              "          dataTable['output_type'] = 'display_data';\n",
              "          await google.colab.output.renderOutput(dataTable, element);\n",
              "          const docLink = document.createElement('div');\n",
              "          docLink.innerHTML = docLinkHtml;\n",
              "          element.appendChild(docLink);\n",
              "        }\n",
              "      </script>\n",
              "    </div>\n",
              "  </div>\n",
              "  "
            ]
          },
          "metadata": {},
          "execution_count": 18
        }
      ]
    },
    {
      "cell_type": "markdown",
      "source": [
        "### Initialize the Model\n"
      ],
      "metadata": {
        "id": "y8DAoGVdVDW9"
      }
    },
    {
      "cell_type": "markdown",
      "source": [
        "We fit the model by ```instantiating a new Prophet object```. Any settings to the forecasting procedure are passed into the constructor. \n",
        "\n",
        "Then you call the fit method and pass in the historical dataframe. \n",
        "\n",
        "Fitting should take 1-7 seconds.\n"
      ],
      "metadata": {
        "id": "PKUZgNsPVDW-"
      }
    },
    {
      "cell_type": "code",
      "source": [
        "model=Prophet()"
      ],
      "metadata": {
        "id": "nKOnyd1BVDW-"
      },
      "execution_count": 19,
      "outputs": []
    },
    {
      "cell_type": "markdown",
      "source": [
        "### Fit the model to dataframe (df)\n"
      ],
      "metadata": {
        "id": "gVAGiyaOVDW-"
      }
    },
    {
      "cell_type": "markdown",
      "source": [
        "The ```fit()``` function takes a DataFrame of time series data. The DataFrame must have a specific format. \n",
        "\n",
        "The first column must have the name ```ds``` and contain the date-times. \n",
        "\n",
        "The second column must have the name ```y``` and contain the observations.\n"
      ],
      "metadata": {
        "id": "yM84qWynVDW-"
      }
    },
    {
      "cell_type": "code",
      "source": [
        "model.fit(df)"
      ],
      "metadata": {
        "colab": {
          "base_uri": "https://localhost:8080/"
        },
        "id": "HbRlm3fvVDW-",
        "outputId": "2324f51d-b6a0-4ba0-9e8a-663a593c2139"
      },
      "execution_count": 20,
      "outputs": [
        {
          "output_type": "stream",
          "name": "stderr",
          "text": [
            "INFO:prophet:Disabling daily seasonality. Run prophet with daily_seasonality=True to override this.\n",
            "DEBUG:cmdstanpy:input tempfile: /tmp/tmpfoz3gbin/7c_p8rel.json\n",
            "DEBUG:cmdstanpy:input tempfile: /tmp/tmpfoz3gbin/e5_6xuvq.json\n",
            "DEBUG:cmdstanpy:idx 0\n",
            "DEBUG:cmdstanpy:running CmdStan, num_threads: None\n",
            "DEBUG:cmdstanpy:CmdStan args: ['/usr/local/lib/python3.8/dist-packages/prophet/stan_model/prophet_model.bin', 'random', 'seed=8275', 'data', 'file=/tmp/tmpfoz3gbin/7c_p8rel.json', 'init=/tmp/tmpfoz3gbin/e5_6xuvq.json', 'output', 'file=/tmp/tmpfoz3gbin/prophet_modelucyoya9x/prophet_model-20221202204153.csv', 'method=optimize', 'algorithm=lbfgs', 'iter=10000']\n",
            "20:41:53 - cmdstanpy - INFO - Chain [1] start processing\n",
            "INFO:cmdstanpy:Chain [1] start processing\n",
            "20:41:53 - cmdstanpy - INFO - Chain [1] done processing\n",
            "INFO:cmdstanpy:Chain [1] done processing\n"
          ]
        },
        {
          "output_type": "execute_result",
          "data": {
            "text/plain": [
              "<prophet.forecaster.Prophet at 0x7fc886d20640>"
            ]
          },
          "metadata": {},
          "execution_count": 20
        }
      ]
    },
    {
      "cell_type": "markdown",
      "source": [
        "### Print Model Components\n"
      ],
      "metadata": {
        "id": "y2b2MoyfVDW-"
      }
    },
    {
      "cell_type": "markdown",
      "source": [
        "If you want to see the forecast components, you can use the Prophet.plot_components method. \n",
        "\n",
        "By default you’ll see the trend, yearly seasonality, and weekly seasonality of the time series. If you include holidays, you’ll see those here, too.\n",
        "\n",
        "In this time series, the seasonality is not a constant additive factor as assumed by Prophet, rather it grows with the trend. This is multiplicative seasonality.\n"
      ],
      "metadata": {
        "id": "0ZNrdjkOVDW_"
      }
    },
    {
      "cell_type": "code",
      "source": [
        "model.component_modes"
      ],
      "metadata": {
        "colab": {
          "base_uri": "https://localhost:8080/"
        },
        "id": "YaqerNA-VDW_",
        "outputId": "0bb982b3-cdb4-4983-8389-d686ebe18cbf"
      },
      "execution_count": 21,
      "outputs": [
        {
          "output_type": "execute_result",
          "data": {
            "text/plain": [
              "{'additive': ['yearly',\n",
              "  'weekly',\n",
              "  'additive_terms',\n",
              "  'extra_regressors_additive',\n",
              "  'holidays'],\n",
              " 'multiplicative': ['multiplicative_terms', 'extra_regressors_multiplicative']}"
            ]
          },
          "metadata": {},
          "execution_count": 21
        }
      ]
    },
    {
      "cell_type": "markdown",
      "source": [
        "### Make Future Dataframe\n"
      ],
      "metadata": {
        "id": "Mso_bWTVVDW_"
      }
    },
    {
      "cell_type": "markdown",
      "source": [
        "A ```make_future_dataframe``` function Make dataframe with future dates for forecasting.\n"
      ],
      "metadata": {
        "id": "EJN-qgAkVDW_"
      }
    },
    {
      "cell_type": "markdown",
      "source": [
        "#### Arguments:\n",
        "<table height=\"40%\",width=\"60%\" style=\"font-size:16px;\">\n",
        "    \n",
        "<tr><td>periods</td><td> - </td> <td>Int number of periods to forecast forward.</td></tr>\n",
        "\n",
        "<tr><td>freq</td><td> - </td> <td>'day', 'week', 'month', 'quarter', 'year', 1(1 sec), 60(1 minute) or 3600(1 hour).</td></tr>\n",
        "\n",
        "<tr><td>include_history</td><td> - </td> <td>Boolean to include the historical dates in the data frame for predictions.</td></tr>\n",
        "   \n",
        "</table>\n"
      ],
      "metadata": {
        "id": "q3lhhCkGVDW_"
      }
    },
    {
      "cell_type": "code",
      "source": [
        "future_dates = model.make_future_dataframe(periods=150,freq='d',include_history=True)\n",
        "future_dates.shape"
      ],
      "metadata": {
        "colab": {
          "base_uri": "https://localhost:8080/"
        },
        "id": "Qlk4mqAyVDW_",
        "outputId": "5fe5ff24-2495-4bc3-9532-32c8f718183b"
      },
      "execution_count": 22,
      "outputs": [
        {
          "output_type": "execute_result",
          "data": {
            "text/plain": [
              "(905, 1)"
            ]
          },
          "metadata": {},
          "execution_count": 22
        }
      ]
    },
    {
      "cell_type": "markdown",
      "source": [
        "Print the future_dates datframe first 5 rows.\n"
      ],
      "metadata": {
        "id": "SU9v0OMHVDXA"
      }
    },
    {
      "cell_type": "code",
      "source": [
        "future_dates.head()"
      ],
      "metadata": {
        "colab": {
          "base_uri": "https://localhost:8080/",
          "height": 0
        },
        "id": "WlrFtycNVDXA",
        "outputId": "6ecff3a1-f33f-4273-aca7-9c61795f861d"
      },
      "execution_count": 23,
      "outputs": [
        {
          "output_type": "execute_result",
          "data": {
            "text/plain": [
              "          ds\n",
              "0 2002-07-08\n",
              "1 2002-07-09\n",
              "2 2002-07-10\n",
              "3 2002-07-11\n",
              "4 2002-07-12"
            ],
            "text/html": [
              "\n",
              "  <div id=\"df-5e2893b5-9e33-4444-a573-9dd8446406b2\">\n",
              "    <div class=\"colab-df-container\">\n",
              "      <div>\n",
              "<style scoped>\n",
              "    .dataframe tbody tr th:only-of-type {\n",
              "        vertical-align: middle;\n",
              "    }\n",
              "\n",
              "    .dataframe tbody tr th {\n",
              "        vertical-align: top;\n",
              "    }\n",
              "\n",
              "    .dataframe thead th {\n",
              "        text-align: right;\n",
              "    }\n",
              "</style>\n",
              "<table border=\"1\" class=\"dataframe\">\n",
              "  <thead>\n",
              "    <tr style=\"text-align: right;\">\n",
              "      <th></th>\n",
              "      <th>ds</th>\n",
              "    </tr>\n",
              "  </thead>\n",
              "  <tbody>\n",
              "    <tr>\n",
              "      <th>0</th>\n",
              "      <td>2002-07-08</td>\n",
              "    </tr>\n",
              "    <tr>\n",
              "      <th>1</th>\n",
              "      <td>2002-07-09</td>\n",
              "    </tr>\n",
              "    <tr>\n",
              "      <th>2</th>\n",
              "      <td>2002-07-10</td>\n",
              "    </tr>\n",
              "    <tr>\n",
              "      <th>3</th>\n",
              "      <td>2002-07-11</td>\n",
              "    </tr>\n",
              "    <tr>\n",
              "      <th>4</th>\n",
              "      <td>2002-07-12</td>\n",
              "    </tr>\n",
              "  </tbody>\n",
              "</table>\n",
              "</div>\n",
              "      <button class=\"colab-df-convert\" onclick=\"convertToInteractive('df-5e2893b5-9e33-4444-a573-9dd8446406b2')\"\n",
              "              title=\"Convert this dataframe to an interactive table.\"\n",
              "              style=\"display:none;\">\n",
              "        \n",
              "  <svg xmlns=\"http://www.w3.org/2000/svg\" height=\"24px\"viewBox=\"0 0 24 24\"\n",
              "       width=\"24px\">\n",
              "    <path d=\"M0 0h24v24H0V0z\" fill=\"none\"/>\n",
              "    <path d=\"M18.56 5.44l.94 2.06.94-2.06 2.06-.94-2.06-.94-.94-2.06-.94 2.06-2.06.94zm-11 1L8.5 8.5l.94-2.06 2.06-.94-2.06-.94L8.5 2.5l-.94 2.06-2.06.94zm10 10l.94 2.06.94-2.06 2.06-.94-2.06-.94-.94-2.06-.94 2.06-2.06.94z\"/><path d=\"M17.41 7.96l-1.37-1.37c-.4-.4-.92-.59-1.43-.59-.52 0-1.04.2-1.43.59L10.3 9.45l-7.72 7.72c-.78.78-.78 2.05 0 2.83L4 21.41c.39.39.9.59 1.41.59.51 0 1.02-.2 1.41-.59l7.78-7.78 2.81-2.81c.8-.78.8-2.07 0-2.86zM5.41 20L4 18.59l7.72-7.72 1.47 1.35L5.41 20z\"/>\n",
              "  </svg>\n",
              "      </button>\n",
              "      \n",
              "  <style>\n",
              "    .colab-df-container {\n",
              "      display:flex;\n",
              "      flex-wrap:wrap;\n",
              "      gap: 12px;\n",
              "    }\n",
              "\n",
              "    .colab-df-convert {\n",
              "      background-color: #E8F0FE;\n",
              "      border: none;\n",
              "      border-radius: 50%;\n",
              "      cursor: pointer;\n",
              "      display: none;\n",
              "      fill: #1967D2;\n",
              "      height: 32px;\n",
              "      padding: 0 0 0 0;\n",
              "      width: 32px;\n",
              "    }\n",
              "\n",
              "    .colab-df-convert:hover {\n",
              "      background-color: #E2EBFA;\n",
              "      box-shadow: 0px 1px 2px rgba(60, 64, 67, 0.3), 0px 1px 3px 1px rgba(60, 64, 67, 0.15);\n",
              "      fill: #174EA6;\n",
              "    }\n",
              "\n",
              "    [theme=dark] .colab-df-convert {\n",
              "      background-color: #3B4455;\n",
              "      fill: #D2E3FC;\n",
              "    }\n",
              "\n",
              "    [theme=dark] .colab-df-convert:hover {\n",
              "      background-color: #434B5C;\n",
              "      box-shadow: 0px 1px 3px 1px rgba(0, 0, 0, 0.15);\n",
              "      filter: drop-shadow(0px 1px 2px rgba(0, 0, 0, 0.3));\n",
              "      fill: #FFFFFF;\n",
              "    }\n",
              "  </style>\n",
              "\n",
              "      <script>\n",
              "        const buttonEl =\n",
              "          document.querySelector('#df-5e2893b5-9e33-4444-a573-9dd8446406b2 button.colab-df-convert');\n",
              "        buttonEl.style.display =\n",
              "          google.colab.kernel.accessAllowed ? 'block' : 'none';\n",
              "\n",
              "        async function convertToInteractive(key) {\n",
              "          const element = document.querySelector('#df-5e2893b5-9e33-4444-a573-9dd8446406b2');\n",
              "          const dataTable =\n",
              "            await google.colab.kernel.invokeFunction('convertToInteractive',\n",
              "                                                     [key], {});\n",
              "          if (!dataTable) return;\n",
              "\n",
              "          const docLinkHtml = 'Like what you see? Visit the ' +\n",
              "            '<a target=\"_blank\" href=https://colab.research.google.com/notebooks/data_table.ipynb>data table notebook</a>'\n",
              "            + ' to learn more about interactive tables.';\n",
              "          element.innerHTML = '';\n",
              "          dataTable['output_type'] = 'display_data';\n",
              "          await google.colab.output.renderOutput(dataTable, element);\n",
              "          const docLink = document.createElement('div');\n",
              "          docLink.innerHTML = docLinkHtml;\n",
              "          element.appendChild(docLink);\n",
              "        }\n",
              "      </script>\n",
              "    </div>\n",
              "  </div>\n",
              "  "
            ]
          },
          "metadata": {},
          "execution_count": 23
        }
      ]
    },
    {
      "cell_type": "markdown",
      "source": [
        "### Prediction of the model\n"
      ],
      "metadata": {
        "id": "uURg_i4RVDXA"
      }
    },
    {
      "cell_type": "markdown",
      "source": [
        "To predict, we use the predict() method and pass in the future dataframe as shown below.\n"
      ],
      "metadata": {
        "id": "Gl9QyLxWVDXA"
      }
    },
    {
      "cell_type": "code",
      "source": [
        "prediction=model.predict(future_dates)"
      ],
      "metadata": {
        "id": "gSSNDNzoVDXA"
      },
      "execution_count": 24,
      "outputs": []
    },
    {
      "cell_type": "markdown",
      "source": [
        "#### From the results generated, the model has generated a lot of information in addition to the predicted ds and yhat column. \n",
        "#### The most important column is the ```yhat column```, as it is what represents your ```Usage forecast```.\n"
      ],
      "metadata": {
        "id": "MOk7lFApVDXA"
      }
    },
    {
      "cell_type": "markdown",
      "source": [
        "yhat upper values and yhate lower values - Uncertainity Interval\n",
        "\n",
        "There are three sources of uncertainty in the forecast:\n",
        " 1) uncertainty in the trend. \n",
        " 2) uncertainty in the seasonality estimates.\n",
        " 3) additional observation noise.\n"
      ],
      "metadata": {
        "id": "TmJgieWEVDXF"
      }
    },
    {
      "cell_type": "code",
      "source": [
        "prediction.head()"
      ],
      "metadata": {
        "colab": {
          "base_uri": "https://localhost:8080/",
          "height": 0
        },
        "id": "X7hwbD-PVDXG",
        "outputId": "9afdfe74-471c-4ab9-8697-5b3f18672716"
      },
      "execution_count": 25,
      "outputs": [
        {
          "output_type": "execute_result",
          "data": {
            "text/plain": [
              "          ds      trend  yhat_lower  yhat_upper  trend_lower  trend_upper  \\\n",
              "0 2002-07-08  15.279378   14.612295   16.345007    15.279378    15.279378   \n",
              "1 2002-07-09  15.284775   14.746168   16.379114    15.284775    15.284775   \n",
              "2 2002-07-10  15.290172   14.787491   16.360052    15.290172    15.290172   \n",
              "3 2002-07-11  15.295569   14.761189   16.386335    15.295569    15.295569   \n",
              "4 2002-07-12  15.300966   14.710495   16.314709    15.300966    15.300966   \n",
              "\n",
              "   additive_terms  additive_terms_lower  additive_terms_upper    weekly  \\\n",
              "0        0.220274              0.220274              0.220274 -0.240164   \n",
              "1        0.228604              0.228604              0.228604 -0.251749   \n",
              "2        0.261043              0.261043              0.261043 -0.233064   \n",
              "3        0.254620              0.254620              0.254620 -0.246844   \n",
              "4        0.220522              0.220522              0.220522 -0.281765   \n",
              "\n",
              "   weekly_lower  weekly_upper    yearly  yearly_lower  yearly_upper  \\\n",
              "0     -0.240164     -0.240164  0.460439      0.460439      0.460439   \n",
              "1     -0.251749     -0.251749  0.480353      0.480353      0.480353   \n",
              "2     -0.233064     -0.233064  0.494107      0.494107      0.494107   \n",
              "3     -0.246844     -0.246844  0.501464      0.501464      0.501464   \n",
              "4     -0.281765     -0.281765  0.502287      0.502287      0.502287   \n",
              "\n",
              "   multiplicative_terms  multiplicative_terms_lower  \\\n",
              "0                   0.0                         0.0   \n",
              "1                   0.0                         0.0   \n",
              "2                   0.0                         0.0   \n",
              "3                   0.0                         0.0   \n",
              "4                   0.0                         0.0   \n",
              "\n",
              "   multiplicative_terms_upper       yhat  \n",
              "0                         0.0  15.499653  \n",
              "1                         0.0  15.513380  \n",
              "2                         0.0  15.551215  \n",
              "3                         0.0  15.550189  \n",
              "4                         0.0  15.521488  "
            ],
            "text/html": [
              "\n",
              "  <div id=\"df-a9cd26d5-4808-44f3-9f9d-f2569375981d\">\n",
              "    <div class=\"colab-df-container\">\n",
              "      <div>\n",
              "<style scoped>\n",
              "    .dataframe tbody tr th:only-of-type {\n",
              "        vertical-align: middle;\n",
              "    }\n",
              "\n",
              "    .dataframe tbody tr th {\n",
              "        vertical-align: top;\n",
              "    }\n",
              "\n",
              "    .dataframe thead th {\n",
              "        text-align: right;\n",
              "    }\n",
              "</style>\n",
              "<table border=\"1\" class=\"dataframe\">\n",
              "  <thead>\n",
              "    <tr style=\"text-align: right;\">\n",
              "      <th></th>\n",
              "      <th>ds</th>\n",
              "      <th>trend</th>\n",
              "      <th>yhat_lower</th>\n",
              "      <th>yhat_upper</th>\n",
              "      <th>trend_lower</th>\n",
              "      <th>trend_upper</th>\n",
              "      <th>additive_terms</th>\n",
              "      <th>additive_terms_lower</th>\n",
              "      <th>additive_terms_upper</th>\n",
              "      <th>weekly</th>\n",
              "      <th>weekly_lower</th>\n",
              "      <th>weekly_upper</th>\n",
              "      <th>yearly</th>\n",
              "      <th>yearly_lower</th>\n",
              "      <th>yearly_upper</th>\n",
              "      <th>multiplicative_terms</th>\n",
              "      <th>multiplicative_terms_lower</th>\n",
              "      <th>multiplicative_terms_upper</th>\n",
              "      <th>yhat</th>\n",
              "    </tr>\n",
              "  </thead>\n",
              "  <tbody>\n",
              "    <tr>\n",
              "      <th>0</th>\n",
              "      <td>2002-07-08</td>\n",
              "      <td>15.279378</td>\n",
              "      <td>14.612295</td>\n",
              "      <td>16.345007</td>\n",
              "      <td>15.279378</td>\n",
              "      <td>15.279378</td>\n",
              "      <td>0.220274</td>\n",
              "      <td>0.220274</td>\n",
              "      <td>0.220274</td>\n",
              "      <td>-0.240164</td>\n",
              "      <td>-0.240164</td>\n",
              "      <td>-0.240164</td>\n",
              "      <td>0.460439</td>\n",
              "      <td>0.460439</td>\n",
              "      <td>0.460439</td>\n",
              "      <td>0.0</td>\n",
              "      <td>0.0</td>\n",
              "      <td>0.0</td>\n",
              "      <td>15.499653</td>\n",
              "    </tr>\n",
              "    <tr>\n",
              "      <th>1</th>\n",
              "      <td>2002-07-09</td>\n",
              "      <td>15.284775</td>\n",
              "      <td>14.746168</td>\n",
              "      <td>16.379114</td>\n",
              "      <td>15.284775</td>\n",
              "      <td>15.284775</td>\n",
              "      <td>0.228604</td>\n",
              "      <td>0.228604</td>\n",
              "      <td>0.228604</td>\n",
              "      <td>-0.251749</td>\n",
              "      <td>-0.251749</td>\n",
              "      <td>-0.251749</td>\n",
              "      <td>0.480353</td>\n",
              "      <td>0.480353</td>\n",
              "      <td>0.480353</td>\n",
              "      <td>0.0</td>\n",
              "      <td>0.0</td>\n",
              "      <td>0.0</td>\n",
              "      <td>15.513380</td>\n",
              "    </tr>\n",
              "    <tr>\n",
              "      <th>2</th>\n",
              "      <td>2002-07-10</td>\n",
              "      <td>15.290172</td>\n",
              "      <td>14.787491</td>\n",
              "      <td>16.360052</td>\n",
              "      <td>15.290172</td>\n",
              "      <td>15.290172</td>\n",
              "      <td>0.261043</td>\n",
              "      <td>0.261043</td>\n",
              "      <td>0.261043</td>\n",
              "      <td>-0.233064</td>\n",
              "      <td>-0.233064</td>\n",
              "      <td>-0.233064</td>\n",
              "      <td>0.494107</td>\n",
              "      <td>0.494107</td>\n",
              "      <td>0.494107</td>\n",
              "      <td>0.0</td>\n",
              "      <td>0.0</td>\n",
              "      <td>0.0</td>\n",
              "      <td>15.551215</td>\n",
              "    </tr>\n",
              "    <tr>\n",
              "      <th>3</th>\n",
              "      <td>2002-07-11</td>\n",
              "      <td>15.295569</td>\n",
              "      <td>14.761189</td>\n",
              "      <td>16.386335</td>\n",
              "      <td>15.295569</td>\n",
              "      <td>15.295569</td>\n",
              "      <td>0.254620</td>\n",
              "      <td>0.254620</td>\n",
              "      <td>0.254620</td>\n",
              "      <td>-0.246844</td>\n",
              "      <td>-0.246844</td>\n",
              "      <td>-0.246844</td>\n",
              "      <td>0.501464</td>\n",
              "      <td>0.501464</td>\n",
              "      <td>0.501464</td>\n",
              "      <td>0.0</td>\n",
              "      <td>0.0</td>\n",
              "      <td>0.0</td>\n",
              "      <td>15.550189</td>\n",
              "    </tr>\n",
              "    <tr>\n",
              "      <th>4</th>\n",
              "      <td>2002-07-12</td>\n",
              "      <td>15.300966</td>\n",
              "      <td>14.710495</td>\n",
              "      <td>16.314709</td>\n",
              "      <td>15.300966</td>\n",
              "      <td>15.300966</td>\n",
              "      <td>0.220522</td>\n",
              "      <td>0.220522</td>\n",
              "      <td>0.220522</td>\n",
              "      <td>-0.281765</td>\n",
              "      <td>-0.281765</td>\n",
              "      <td>-0.281765</td>\n",
              "      <td>0.502287</td>\n",
              "      <td>0.502287</td>\n",
              "      <td>0.502287</td>\n",
              "      <td>0.0</td>\n",
              "      <td>0.0</td>\n",
              "      <td>0.0</td>\n",
              "      <td>15.521488</td>\n",
              "    </tr>\n",
              "  </tbody>\n",
              "</table>\n",
              "</div>\n",
              "      <button class=\"colab-df-convert\" onclick=\"convertToInteractive('df-a9cd26d5-4808-44f3-9f9d-f2569375981d')\"\n",
              "              title=\"Convert this dataframe to an interactive table.\"\n",
              "              style=\"display:none;\">\n",
              "        \n",
              "  <svg xmlns=\"http://www.w3.org/2000/svg\" height=\"24px\"viewBox=\"0 0 24 24\"\n",
              "       width=\"24px\">\n",
              "    <path d=\"M0 0h24v24H0V0z\" fill=\"none\"/>\n",
              "    <path d=\"M18.56 5.44l.94 2.06.94-2.06 2.06-.94-2.06-.94-.94-2.06-.94 2.06-2.06.94zm-11 1L8.5 8.5l.94-2.06 2.06-.94-2.06-.94L8.5 2.5l-.94 2.06-2.06.94zm10 10l.94 2.06.94-2.06 2.06-.94-2.06-.94-.94-2.06-.94 2.06-2.06.94z\"/><path d=\"M17.41 7.96l-1.37-1.37c-.4-.4-.92-.59-1.43-.59-.52 0-1.04.2-1.43.59L10.3 9.45l-7.72 7.72c-.78.78-.78 2.05 0 2.83L4 21.41c.39.39.9.59 1.41.59.51 0 1.02-.2 1.41-.59l7.78-7.78 2.81-2.81c.8-.78.8-2.07 0-2.86zM5.41 20L4 18.59l7.72-7.72 1.47 1.35L5.41 20z\"/>\n",
              "  </svg>\n",
              "      </button>\n",
              "      \n",
              "  <style>\n",
              "    .colab-df-container {\n",
              "      display:flex;\n",
              "      flex-wrap:wrap;\n",
              "      gap: 12px;\n",
              "    }\n",
              "\n",
              "    .colab-df-convert {\n",
              "      background-color: #E8F0FE;\n",
              "      border: none;\n",
              "      border-radius: 50%;\n",
              "      cursor: pointer;\n",
              "      display: none;\n",
              "      fill: #1967D2;\n",
              "      height: 32px;\n",
              "      padding: 0 0 0 0;\n",
              "      width: 32px;\n",
              "    }\n",
              "\n",
              "    .colab-df-convert:hover {\n",
              "      background-color: #E2EBFA;\n",
              "      box-shadow: 0px 1px 2px rgba(60, 64, 67, 0.3), 0px 1px 3px 1px rgba(60, 64, 67, 0.15);\n",
              "      fill: #174EA6;\n",
              "    }\n",
              "\n",
              "    [theme=dark] .colab-df-convert {\n",
              "      background-color: #3B4455;\n",
              "      fill: #D2E3FC;\n",
              "    }\n",
              "\n",
              "    [theme=dark] .colab-df-convert:hover {\n",
              "      background-color: #434B5C;\n",
              "      box-shadow: 0px 1px 3px 1px rgba(0, 0, 0, 0.15);\n",
              "      filter: drop-shadow(0px 1px 2px rgba(0, 0, 0, 0.3));\n",
              "      fill: #FFFFFF;\n",
              "    }\n",
              "  </style>\n",
              "\n",
              "      <script>\n",
              "        const buttonEl =\n",
              "          document.querySelector('#df-a9cd26d5-4808-44f3-9f9d-f2569375981d button.colab-df-convert');\n",
              "        buttonEl.style.display =\n",
              "          google.colab.kernel.accessAllowed ? 'block' : 'none';\n",
              "\n",
              "        async function convertToInteractive(key) {\n",
              "          const element = document.querySelector('#df-a9cd26d5-4808-44f3-9f9d-f2569375981d');\n",
              "          const dataTable =\n",
              "            await google.colab.kernel.invokeFunction('convertToInteractive',\n",
              "                                                     [key], {});\n",
              "          if (!dataTable) return;\n",
              "\n",
              "          const docLinkHtml = 'Like what you see? Visit the ' +\n",
              "            '<a target=\"_blank\" href=https://colab.research.google.com/notebooks/data_table.ipynb>data table notebook</a>'\n",
              "            + ' to learn more about interactive tables.';\n",
              "          element.innerHTML = '';\n",
              "          dataTable['output_type'] = 'display_data';\n",
              "          await google.colab.output.renderOutput(dataTable, element);\n",
              "          const docLink = document.createElement('div');\n",
              "          docLink.innerHTML = docLinkHtml;\n",
              "          element.appendChild(docLink);\n",
              "        }\n",
              "      </script>\n",
              "    </div>\n",
              "  </div>\n",
              "  "
            ]
          },
          "metadata": {},
          "execution_count": 25
        }
      ]
    },
    {
      "cell_type": "markdown",
      "source": [
        "### Plot The Prediction\n"
      ],
      "metadata": {
        "id": "4AoRMVO6VDXG"
      }
    },
    {
      "cell_type": "markdown",
      "source": [
        "The ```scatter trace``` type encompasses ```line charts, scatter charts, text charts, and bubble charts.```\n",
        "\n",
        "The data visualized as scatter point or lines is set in x and y. Text (appearing either on the chart or on hover only) is via text.\n",
        "\n",
        "Parameteres:\n",
        "- x – Sets the x coordinates.\n",
        "- y – Sets the y coordinates.\n",
        "- mode – Determines the drawing mode for this scatter trace. \n",
        "  If there are less than 20 points and the trace is not stacked then the default is “lines+markers”. Otherwise, “lines”.\n",
        "- name - Sets the trace name. The trace name appear as the legend item and on hover.\n"
      ],
      "metadata": {
        "id": "TuFchr4XVDXG"
      }
    },
    {
      "cell_type": "code",
      "source": [
        "trace_open = go.Scatter(\n",
        "    x = prediction[\"ds\"],\n",
        "    y = prediction[\"yhat\"],\n",
        "    mode = 'lines',\n",
        "    name=\"Forecast\"\n",
        ")\n",
        "trace_high = go.Scatter(\n",
        "    x = prediction[\"ds\"],\n",
        "    y = prediction[\"yhat_upper\"],\n",
        "    mode = 'lines',\n",
        "    fill = \"tonexty\", \n",
        "    line = {\"color\": \"#57b8ff\"}, \n",
        "    name=\"Higher uncertainty interval\"\n",
        ")\n",
        "trace_low = go.Scatter(\n",
        "    x = prediction[\"ds\"],\n",
        "    y = prediction[\"yhat_lower\"],\n",
        "    mode = 'lines',\n",
        "    fill = \"tonexty\", \n",
        "    line = {\"color\": \"#57b8ff\"}, \n",
        "    name=\"Lower uncertainty interval\"\n",
        ")\n",
        "trace_close = go.Scatter(\n",
        "    x = df[\"ds\"],\n",
        "    y = df[\"y\"],\n",
        "    name=\"Data values\"\n",
        ")\n",
        "\n",
        "#make list for all three scattle objects.\n",
        "data = [trace_open,trace_high,trace_low,trace_close]\n",
        "# Construct a new Layout object. \n",
        "#title - It will display string as a title of graph\n",
        "layout = go.Layout(title=\"Power consumption forecasting\")\n",
        "#A list or tuple of trace instances (e.g. [Scatter(…), Bar(…)]) or A single trace instance (e.g. Scatter(…), Bar(…), etc.)\n",
        "#A list or tuple of dicts of string/value properties where: - The ‘type’ property specifies the trace type.\n",
        "\n",
        "fig = go.Figure(data=data)\n",
        "fig.show()"
      ],
      "metadata": {
        "colab": {
          "base_uri": "https://localhost:8080/",
          "height": 0
        },
        "id": "Q_8D5UckVDXG",
        "outputId": "f7f6b191-e9b1-4fb4-ba2a-ef13a2823377"
      },
      "execution_count": 26,
      "outputs": [
        {
          "output_type": "display_data",
          "data": {
            "text/html": [
              "<html>\n",
              "<head><meta charset=\"utf-8\" /></head>\n",
              "<body>\n",
              "    <div>            <script src=\"https://cdnjs.cloudflare.com/ajax/libs/mathjax/2.7.5/MathJax.js?config=TeX-AMS-MML_SVG\"></script><script type=\"text/javascript\">if (window.MathJax) {MathJax.Hub.Config({SVG: {font: \"STIX-Web\"}});}</script>                <script type=\"text/javascript\">window.PlotlyConfig = {MathJaxConfig: 'local'};</script>\n",
              "        <script src=\"https://cdn.plot.ly/plotly-2.8.3.min.js\"></script>                <div id=\"d28221b7-4cad-4b21-b661-678bcd247f07\" class=\"plotly-graph-div\" style=\"height:525px; width:100%;\"></div>            <script type=\"text/javascript\">                                    window.PLOTLYENV=window.PLOTLYENV || {};                                    if (document.getElementById(\"d28221b7-4cad-4b21-b661-678bcd247f07\")) {                    Plotly.newPlot(                        \"d28221b7-4cad-4b21-b661-678bcd247f07\",                        [{\"mode\":\"lines\",\"name\":\"Forecast\",\"x\":[\"2002-07-08T00:00:00\",\"2002-07-09T00:00:00\",\"2002-07-10T00:00:00\",\"2002-07-11T00:00:00\",\"2002-07-12T00:00:00\",\"2002-07-15T00:00:00\",\"2002-07-16T00:00:00\",\"2002-07-17T00:00:00\",\"2002-07-18T00:00:00\",\"2002-07-19T00:00:00\",\"2002-07-22T00:00:00\",\"2002-07-23T00:00:00\",\"2002-07-24T00:00:00\",\"2002-07-25T00:00:00\",\"2002-07-26T00:00:00\",\"2002-07-29T00:00:00\",\"2002-07-30T00:00:00\",\"2002-07-31T00:00:00\",\"2002-08-01T00:00:00\",\"2002-08-02T00:00:00\",\"2002-08-05T00:00:00\",\"2002-08-06T00:00:00\",\"2002-08-07T00:00:00\",\"2002-08-08T00:00:00\",\"2002-08-09T00:00:00\",\"2002-08-12T00:00:00\",\"2002-08-13T00:00:00\",\"2002-08-14T00:00:00\",\"2002-08-15T00:00:00\",\"2002-08-16T00:00:00\",\"2002-08-19T00:00:00\",\"2002-08-20T00:00:00\",\"2002-08-21T00:00:00\",\"2002-08-22T00:00:00\",\"2002-08-23T00:00:00\",\"2002-08-26T00:00:00\",\"2002-08-27T00:00:00\",\"2002-08-28T00:00:00\",\"2002-08-29T00:00:00\",\"2002-08-30T00:00:00\",\"2002-09-03T00:00:00\",\"2002-09-04T00:00:00\",\"2002-09-05T00:00:00\",\"2002-09-06T00:00:00\",\"2002-09-09T00:00:00\",\"2002-09-10T00:00:00\",\"2002-09-11T00:00:00\",\"2002-09-12T00:00:00\",\"2002-09-13T00:00:00\",\"2002-09-16T00:00:00\",\"2002-09-17T00:00:00\",\"2002-09-18T00:00:00\",\"2002-09-19T00:00:00\",\"2002-09-20T00:00:00\",\"2002-09-23T00:00:00\",\"2002-09-24T00:00:00\",\"2002-09-25T00:00:00\",\"2002-09-26T00:00:00\",\"2002-09-27T00:00:00\",\"2002-09-30T00:00:00\",\"2002-10-01T00:00:00\",\"2002-10-02T00:00:00\",\"2002-10-03T00:00:00\",\"2002-10-04T00:00:00\",\"2002-10-07T00:00:00\",\"2002-10-08T00:00:00\",\"2002-10-09T00:00:00\",\"2002-10-10T00:00:00\",\"2002-10-11T00:00:00\",\"2002-10-14T00:00:00\",\"2002-10-15T00:00:00\",\"2002-10-16T00:00:00\",\"2002-10-17T00:00:00\",\"2002-10-18T00:00:00\",\"2002-10-21T00:00:00\",\"2002-10-22T00:00:00\",\"2002-10-23T00:00:00\",\"2002-10-24T00:00:00\",\"2002-10-25T00:00:00\",\"2002-10-28T00:00:00\",\"2002-10-29T00:00:00\",\"2002-10-30T00:00:00\",\"2002-10-31T00:00:00\",\"2002-11-01T00:00:00\",\"2002-11-04T00:00:00\",\"2002-11-05T00:00:00\",\"2002-11-06T00:00:00\",\"2002-11-07T00:00:00\",\"2002-11-08T00:00:00\",\"2002-11-11T00:00:00\",\"2002-11-12T00:00:00\",\"2002-11-13T00:00:00\",\"2002-11-14T00:00:00\",\"2002-11-15T00:00:00\",\"2002-11-18T00:00:00\",\"2002-11-19T00:00:00\",\"2002-11-20T00:00:00\",\"2002-11-21T00:00:00\",\"2002-11-22T00:00:00\",\"2002-11-25T00:00:00\",\"2002-11-26T00:00:00\",\"2002-11-27T00:00:00\",\"2002-11-29T00:00:00\",\"2002-12-02T00:00:00\",\"2002-12-03T00:00:00\",\"2002-12-04T00:00:00\",\"2002-12-05T00:00:00\",\"2002-12-06T00:00:00\",\"2002-12-09T00:00:00\",\"2002-12-10T00:00:00\",\"2002-12-11T00:00:00\",\"2002-12-12T00:00:00\",\"2002-12-13T00:00:00\",\"2002-12-16T00:00:00\",\"2002-12-17T00:00:00\",\"2002-12-18T00:00:00\",\"2002-12-19T00:00:00\",\"2002-12-20T00:00:00\",\"2002-12-23T00:00:00\",\"2002-12-24T00:00:00\",\"2002-12-26T00:00:00\",\"2002-12-27T00:00:00\",\"2002-12-30T00:00:00\",\"2002-12-31T00:00:00\",\"2003-01-02T00:00:00\",\"2003-01-03T00:00:00\",\"2003-01-06T00:00:00\",\"2003-01-07T00:00:00\",\"2003-01-08T00:00:00\",\"2003-01-09T00:00:00\",\"2003-01-10T00:00:00\",\"2003-01-13T00:00:00\",\"2003-01-14T00:00:00\",\"2003-01-15T00:00:00\",\"2003-01-16T00:00:00\",\"2003-01-17T00:00:00\",\"2003-01-21T00:00:00\",\"2003-01-22T00:00:00\",\"2003-01-23T00:00:00\",\"2003-01-24T00:00:00\",\"2003-01-27T00:00:00\",\"2003-01-28T00:00:00\",\"2003-01-29T00:00:00\",\"2003-01-30T00:00:00\",\"2003-01-31T00:00:00\",\"2003-02-03T00:00:00\",\"2003-02-04T00:00:00\",\"2003-02-05T00:00:00\",\"2003-02-06T00:00:00\",\"2003-02-07T00:00:00\",\"2003-02-10T00:00:00\",\"2003-02-11T00:00:00\",\"2003-02-12T00:00:00\",\"2003-02-13T00:00:00\",\"2003-02-14T00:00:00\",\"2003-02-18T00:00:00\",\"2003-02-19T00:00:00\",\"2003-02-20T00:00:00\",\"2003-02-21T00:00:00\",\"2003-02-24T00:00:00\",\"2003-02-25T00:00:00\",\"2003-02-26T00:00:00\",\"2003-02-27T00:00:00\",\"2003-02-28T00:00:00\",\"2003-03-03T00:00:00\",\"2003-03-04T00:00:00\",\"2003-03-05T00:00:00\",\"2003-03-06T00:00:00\",\"2003-03-07T00:00:00\",\"2003-03-10T00:00:00\",\"2003-03-11T00:00:00\",\"2003-03-12T00:00:00\",\"2003-03-13T00:00:00\",\"2003-03-14T00:00:00\",\"2003-03-17T00:00:00\",\"2003-03-18T00:00:00\",\"2003-03-19T00:00:00\",\"2003-03-20T00:00:00\",\"2003-03-21T00:00:00\",\"2003-03-24T00:00:00\",\"2003-03-25T00:00:00\",\"2003-03-26T00:00:00\",\"2003-03-27T00:00:00\",\"2003-03-28T00:00:00\",\"2003-03-31T00:00:00\",\"2003-04-01T00:00:00\",\"2003-04-02T00:00:00\",\"2003-04-03T00:00:00\",\"2003-04-04T00:00:00\",\"2003-04-07T00:00:00\",\"2003-04-08T00:00:00\",\"2003-04-09T00:00:00\",\"2003-04-10T00:00:00\",\"2003-04-11T00:00:00\",\"2003-04-14T00:00:00\",\"2003-04-15T00:00:00\",\"2003-04-16T00:00:00\",\"2003-04-17T00:00:00\",\"2003-04-21T00:00:00\",\"2003-04-22T00:00:00\",\"2003-04-23T00:00:00\",\"2003-04-24T00:00:00\",\"2003-04-25T00:00:00\",\"2003-04-28T00:00:00\",\"2003-04-29T00:00:00\",\"2003-04-30T00:00:00\",\"2003-05-01T00:00:00\",\"2003-05-02T00:00:00\",\"2003-05-05T00:00:00\",\"2003-05-06T00:00:00\",\"2003-05-07T00:00:00\",\"2003-05-08T00:00:00\",\"2003-05-09T00:00:00\",\"2003-05-12T00:00:00\",\"2003-05-13T00:00:00\",\"2003-05-14T00:00:00\",\"2003-05-15T00:00:00\",\"2003-05-16T00:00:00\",\"2003-05-19T00:00:00\",\"2003-05-20T00:00:00\",\"2003-05-21T00:00:00\",\"2003-05-22T00:00:00\",\"2003-05-23T00:00:00\",\"2003-05-27T00:00:00\",\"2003-05-28T00:00:00\",\"2003-05-29T00:00:00\",\"2003-05-30T00:00:00\",\"2003-06-02T00:00:00\",\"2003-06-03T00:00:00\",\"2003-06-04T00:00:00\",\"2003-06-05T00:00:00\",\"2003-06-06T00:00:00\",\"2003-06-09T00:00:00\",\"2003-06-10T00:00:00\",\"2003-06-11T00:00:00\",\"2003-06-12T00:00:00\",\"2003-06-13T00:00:00\",\"2003-06-16T00:00:00\",\"2003-06-17T00:00:00\",\"2003-06-18T00:00:00\",\"2003-06-19T00:00:00\",\"2003-06-20T00:00:00\",\"2003-06-23T00:00:00\",\"2003-06-24T00:00:00\",\"2003-06-25T00:00:00\",\"2003-06-26T00:00:00\",\"2003-06-27T00:00:00\",\"2003-06-30T00:00:00\",\"2003-07-01T00:00:00\",\"2003-07-02T00:00:00\",\"2003-07-03T00:00:00\",\"2003-07-07T00:00:00\",\"2003-07-08T00:00:00\",\"2003-07-09T00:00:00\",\"2003-07-10T00:00:00\",\"2003-07-11T00:00:00\",\"2003-07-14T00:00:00\",\"2003-07-15T00:00:00\",\"2003-07-16T00:00:00\",\"2003-07-17T00:00:00\",\"2003-07-18T00:00:00\",\"2003-07-21T00:00:00\",\"2003-07-22T00:00:00\",\"2003-07-23T00:00:00\",\"2003-07-24T00:00:00\",\"2003-07-25T00:00:00\",\"2003-07-28T00:00:00\",\"2003-07-29T00:00:00\",\"2003-07-30T00:00:00\",\"2003-07-31T00:00:00\",\"2003-08-01T00:00:00\",\"2003-08-04T00:00:00\",\"2003-08-05T00:00:00\",\"2003-08-06T00:00:00\",\"2003-08-07T00:00:00\",\"2003-08-08T00:00:00\",\"2003-08-11T00:00:00\",\"2003-08-12T00:00:00\",\"2003-08-13T00:00:00\",\"2003-08-14T00:00:00\",\"2003-08-15T00:00:00\",\"2003-08-18T00:00:00\",\"2003-08-19T00:00:00\",\"2003-08-20T00:00:00\",\"2003-08-21T00:00:00\",\"2003-08-22T00:00:00\",\"2003-08-25T00:00:00\",\"2003-08-26T00:00:00\",\"2003-08-27T00:00:00\",\"2003-08-28T00:00:00\",\"2003-08-29T00:00:00\",\"2003-09-02T00:00:00\",\"2003-09-03T00:00:00\",\"2003-09-04T00:00:00\",\"2003-09-05T00:00:00\",\"2003-09-08T00:00:00\",\"2003-09-09T00:00:00\",\"2003-09-10T00:00:00\",\"2003-09-11T00:00:00\",\"2003-09-12T00:00:00\",\"2003-09-15T00:00:00\",\"2003-09-16T00:00:00\",\"2003-09-17T00:00:00\",\"2003-09-18T00:00:00\",\"2003-09-19T00:00:00\",\"2003-09-22T00:00:00\",\"2003-09-23T00:00:00\",\"2003-09-24T00:00:00\",\"2003-09-25T00:00:00\",\"2003-09-26T00:00:00\",\"2003-09-29T00:00:00\",\"2003-09-30T00:00:00\",\"2003-10-01T00:00:00\",\"2003-10-02T00:00:00\",\"2003-10-03T00:00:00\",\"2003-10-06T00:00:00\",\"2003-10-07T00:00:00\",\"2003-10-08T00:00:00\",\"2003-10-09T00:00:00\",\"2003-10-10T00:00:00\",\"2003-10-13T00:00:00\",\"2003-10-14T00:00:00\",\"2003-10-15T00:00:00\",\"2003-10-16T00:00:00\",\"2003-10-17T00:00:00\",\"2003-10-20T00:00:00\",\"2003-10-21T00:00:00\",\"2003-10-22T00:00:00\",\"2003-10-23T00:00:00\",\"2003-10-24T00:00:00\",\"2003-10-27T00:00:00\",\"2003-10-28T00:00:00\",\"2003-10-29T00:00:00\",\"2003-10-30T00:00:00\",\"2003-10-31T00:00:00\",\"2003-11-03T00:00:00\",\"2003-11-04T00:00:00\",\"2003-11-05T00:00:00\",\"2003-11-06T00:00:00\",\"2003-11-07T00:00:00\",\"2003-11-10T00:00:00\",\"2003-11-11T00:00:00\",\"2003-11-12T00:00:00\",\"2003-11-13T00:00:00\",\"2003-11-14T00:00:00\",\"2003-11-17T00:00:00\",\"2003-11-18T00:00:00\",\"2003-11-19T00:00:00\",\"2003-11-20T00:00:00\",\"2003-11-21T00:00:00\",\"2003-11-24T00:00:00\",\"2003-11-25T00:00:00\",\"2003-11-26T00:00:00\",\"2003-11-28T00:00:00\",\"2003-12-01T00:00:00\",\"2003-12-02T00:00:00\",\"2003-12-03T00:00:00\",\"2003-12-04T00:00:00\",\"2003-12-05T00:00:00\",\"2003-12-08T00:00:00\",\"2003-12-09T00:00:00\",\"2003-12-10T00:00:00\",\"2003-12-11T00:00:00\",\"2003-12-12T00:00:00\",\"2003-12-15T00:00:00\",\"2003-12-16T00:00:00\",\"2003-12-17T00:00:00\",\"2003-12-18T00:00:00\",\"2003-12-19T00:00:00\",\"2003-12-22T00:00:00\",\"2003-12-23T00:00:00\",\"2003-12-24T00:00:00\",\"2003-12-26T00:00:00\",\"2003-12-29T00:00:00\",\"2003-12-30T00:00:00\",\"2003-12-31T00:00:00\",\"2004-01-02T00:00:00\",\"2004-01-05T00:00:00\",\"2004-01-06T00:00:00\",\"2004-01-07T00:00:00\",\"2004-01-08T00:00:00\",\"2004-01-09T00:00:00\",\"2004-01-12T00:00:00\",\"2004-01-13T00:00:00\",\"2004-01-14T00:00:00\",\"2004-01-15T00:00:00\",\"2004-01-16T00:00:00\",\"2004-01-20T00:00:00\",\"2004-01-21T00:00:00\",\"2004-01-22T00:00:00\",\"2004-01-23T00:00:00\",\"2004-01-26T00:00:00\",\"2004-01-27T00:00:00\",\"2004-01-28T00:00:00\",\"2004-01-29T00:00:00\",\"2004-01-30T00:00:00\",\"2004-02-02T00:00:00\",\"2004-02-03T00:00:00\",\"2004-02-04T00:00:00\",\"2004-02-05T00:00:00\",\"2004-02-06T00:00:00\",\"2004-02-09T00:00:00\",\"2004-02-10T00:00:00\",\"2004-02-11T00:00:00\",\"2004-02-12T00:00:00\",\"2004-02-13T00:00:00\",\"2004-02-17T00:00:00\",\"2004-02-18T00:00:00\",\"2004-02-19T00:00:00\",\"2004-02-20T00:00:00\",\"2004-02-23T00:00:00\",\"2004-02-24T00:00:00\",\"2004-02-25T00:00:00\",\"2004-02-26T00:00:00\",\"2004-02-27T00:00:00\",\"2004-03-01T00:00:00\",\"2004-03-02T00:00:00\",\"2004-03-03T00:00:00\",\"2004-03-04T00:00:00\",\"2004-03-05T00:00:00\",\"2004-03-08T00:00:00\",\"2004-03-09T00:00:00\",\"2004-03-10T00:00:00\",\"2004-03-11T00:00:00\",\"2004-03-12T00:00:00\",\"2004-03-15T00:00:00\",\"2004-03-16T00:00:00\",\"2004-03-17T00:00:00\",\"2004-03-18T00:00:00\",\"2004-03-19T00:00:00\",\"2004-03-22T00:00:00\",\"2004-03-23T00:00:00\",\"2004-03-24T00:00:00\",\"2004-03-25T00:00:00\",\"2004-03-26T00:00:00\",\"2004-03-29T00:00:00\",\"2004-03-30T00:00:00\",\"2004-03-31T00:00:00\",\"2004-04-01T00:00:00\",\"2004-04-02T00:00:00\",\"2004-04-05T00:00:00\",\"2004-04-06T00:00:00\",\"2004-04-07T00:00:00\",\"2004-04-08T00:00:00\",\"2004-04-12T00:00:00\",\"2004-04-13T00:00:00\",\"2004-04-14T00:00:00\",\"2004-04-15T00:00:00\",\"2004-04-16T00:00:00\",\"2004-04-19T00:00:00\",\"2004-04-20T00:00:00\",\"2004-04-21T00:00:00\",\"2004-04-22T00:00:00\",\"2004-04-23T00:00:00\",\"2004-04-26T00:00:00\",\"2004-04-27T00:00:00\",\"2004-04-28T00:00:00\",\"2004-04-29T00:00:00\",\"2004-04-30T00:00:00\",\"2004-05-03T00:00:00\",\"2004-05-04T00:00:00\",\"2004-05-05T00:00:00\",\"2004-05-06T00:00:00\",\"2004-05-07T00:00:00\",\"2004-05-10T00:00:00\",\"2004-05-11T00:00:00\",\"2004-05-12T00:00:00\",\"2004-05-13T00:00:00\",\"2004-05-14T00:00:00\",\"2004-05-17T00:00:00\",\"2004-05-18T00:00:00\",\"2004-05-19T00:00:00\",\"2004-05-20T00:00:00\",\"2004-05-21T00:00:00\",\"2004-05-24T00:00:00\",\"2004-05-25T00:00:00\",\"2004-05-26T00:00:00\",\"2004-05-27T00:00:00\",\"2004-05-28T00:00:00\",\"2004-06-01T00:00:00\",\"2004-06-02T00:00:00\",\"2004-06-03T00:00:00\",\"2004-06-04T00:00:00\",\"2004-06-07T00:00:00\",\"2004-06-08T00:00:00\",\"2004-06-09T00:00:00\",\"2004-06-10T00:00:00\",\"2004-06-14T00:00:00\",\"2004-06-15T00:00:00\",\"2004-06-16T00:00:00\",\"2004-06-17T00:00:00\",\"2004-06-18T00:00:00\",\"2004-06-21T00:00:00\",\"2004-06-22T00:00:00\",\"2004-06-23T00:00:00\",\"2004-06-24T00:00:00\",\"2004-06-25T00:00:00\",\"2004-06-28T00:00:00\",\"2004-06-29T00:00:00\",\"2004-06-30T00:00:00\",\"2004-07-01T00:00:00\",\"2004-07-02T00:00:00\",\"2004-07-06T00:00:00\",\"2004-07-07T00:00:00\",\"2004-07-08T00:00:00\",\"2004-07-09T00:00:00\",\"2004-07-12T00:00:00\",\"2004-07-13T00:00:00\",\"2004-07-14T00:00:00\",\"2004-07-15T00:00:00\",\"2004-07-16T00:00:00\",\"2004-07-19T00:00:00\",\"2004-07-20T00:00:00\",\"2004-07-21T00:00:00\",\"2004-07-22T00:00:00\",\"2004-07-23T00:00:00\",\"2004-07-26T00:00:00\",\"2004-07-27T00:00:00\",\"2004-07-28T00:00:00\",\"2004-07-29T00:00:00\",\"2004-07-30T00:00:00\",\"2004-08-02T00:00:00\",\"2004-08-03T00:00:00\",\"2004-08-04T00:00:00\",\"2004-08-05T00:00:00\",\"2004-08-06T00:00:00\",\"2004-08-09T00:00:00\",\"2004-08-10T00:00:00\",\"2004-08-11T00:00:00\",\"2004-08-12T00:00:00\",\"2004-08-13T00:00:00\",\"2004-08-16T00:00:00\",\"2004-08-17T00:00:00\",\"2004-08-18T00:00:00\",\"2004-08-19T00:00:00\",\"2004-08-20T00:00:00\",\"2004-08-23T00:00:00\",\"2004-08-24T00:00:00\",\"2004-08-25T00:00:00\",\"2004-08-26T00:00:00\",\"2004-08-27T00:00:00\",\"2004-08-30T00:00:00\",\"2004-08-31T00:00:00\",\"2004-09-01T00:00:00\",\"2004-09-02T00:00:00\",\"2004-09-03T00:00:00\",\"2004-09-07T00:00:00\",\"2004-09-08T00:00:00\",\"2004-09-09T00:00:00\",\"2004-09-10T00:00:00\",\"2004-09-13T00:00:00\",\"2004-09-14T00:00:00\",\"2004-09-15T00:00:00\",\"2004-09-16T00:00:00\",\"2004-09-17T00:00:00\",\"2004-09-20T00:00:00\",\"2004-09-21T00:00:00\",\"2004-09-22T00:00:00\",\"2004-09-23T00:00:00\",\"2004-09-24T00:00:00\",\"2004-09-27T00:00:00\",\"2004-09-28T00:00:00\",\"2004-09-29T00:00:00\",\"2004-09-30T00:00:00\",\"2004-10-01T00:00:00\",\"2004-10-04T00:00:00\",\"2004-10-05T00:00:00\",\"2004-10-06T00:00:00\",\"2004-10-07T00:00:00\",\"2004-10-08T00:00:00\",\"2004-10-11T00:00:00\",\"2004-10-12T00:00:00\",\"2004-10-13T00:00:00\",\"2004-10-14T00:00:00\",\"2004-10-15T00:00:00\",\"2004-10-18T00:00:00\",\"2004-10-19T00:00:00\",\"2004-10-20T00:00:00\",\"2004-10-21T00:00:00\",\"2004-10-22T00:00:00\",\"2004-10-25T00:00:00\",\"2004-10-26T00:00:00\",\"2004-10-27T00:00:00\",\"2004-10-28T00:00:00\",\"2004-10-29T00:00:00\",\"2004-11-01T00:00:00\",\"2004-11-02T00:00:00\",\"2004-11-03T00:00:00\",\"2004-11-04T00:00:00\",\"2004-11-05T00:00:00\",\"2004-11-08T00:00:00\",\"2004-11-09T00:00:00\",\"2004-11-10T00:00:00\",\"2004-11-11T00:00:00\",\"2004-11-12T00:00:00\",\"2004-11-15T00:00:00\",\"2004-11-16T00:00:00\",\"2004-11-17T00:00:00\",\"2004-11-18T00:00:00\",\"2004-11-19T00:00:00\",\"2004-11-22T00:00:00\",\"2004-11-23T00:00:00\",\"2004-11-24T00:00:00\",\"2004-11-26T00:00:00\",\"2004-11-29T00:00:00\",\"2004-11-30T00:00:00\",\"2004-12-01T00:00:00\",\"2004-12-02T00:00:00\",\"2004-12-03T00:00:00\",\"2004-12-06T00:00:00\",\"2004-12-07T00:00:00\",\"2004-12-08T00:00:00\",\"2004-12-09T00:00:00\",\"2004-12-10T00:00:00\",\"2004-12-13T00:00:00\",\"2004-12-14T00:00:00\",\"2004-12-15T00:00:00\",\"2004-12-16T00:00:00\",\"2004-12-17T00:00:00\",\"2004-12-20T00:00:00\",\"2004-12-21T00:00:00\",\"2004-12-22T00:00:00\",\"2004-12-23T00:00:00\",\"2004-12-27T00:00:00\",\"2004-12-28T00:00:00\",\"2004-12-29T00:00:00\",\"2004-12-30T00:00:00\",\"2004-12-31T00:00:00\",\"2005-01-03T00:00:00\",\"2005-01-04T00:00:00\",\"2005-01-05T00:00:00\",\"2005-01-06T00:00:00\",\"2005-01-07T00:00:00\",\"2005-01-10T00:00:00\",\"2005-01-11T00:00:00\",\"2005-01-12T00:00:00\",\"2005-01-13T00:00:00\",\"2005-01-14T00:00:00\",\"2005-01-18T00:00:00\",\"2005-01-19T00:00:00\",\"2005-01-20T00:00:00\",\"2005-01-21T00:00:00\",\"2005-01-24T00:00:00\",\"2005-01-25T00:00:00\",\"2005-01-26T00:00:00\",\"2005-01-27T00:00:00\",\"2005-01-28T00:00:00\",\"2005-01-31T00:00:00\",\"2005-02-01T00:00:00\",\"2005-02-02T00:00:00\",\"2005-02-03T00:00:00\",\"2005-02-04T00:00:00\",\"2005-02-07T00:00:00\",\"2005-02-08T00:00:00\",\"2005-02-09T00:00:00\",\"2005-02-10T00:00:00\",\"2005-02-11T00:00:00\",\"2005-02-14T00:00:00\",\"2005-02-15T00:00:00\",\"2005-02-16T00:00:00\",\"2005-02-17T00:00:00\",\"2005-02-18T00:00:00\",\"2005-02-22T00:00:00\",\"2005-02-23T00:00:00\",\"2005-02-24T00:00:00\",\"2005-02-25T00:00:00\",\"2005-02-28T00:00:00\",\"2005-03-01T00:00:00\",\"2005-03-02T00:00:00\",\"2005-03-03T00:00:00\",\"2005-03-04T00:00:00\",\"2005-03-07T00:00:00\",\"2005-03-08T00:00:00\",\"2005-03-09T00:00:00\",\"2005-03-10T00:00:00\",\"2005-03-11T00:00:00\",\"2005-03-14T00:00:00\",\"2005-03-15T00:00:00\",\"2005-03-16T00:00:00\",\"2005-03-17T00:00:00\",\"2005-03-18T00:00:00\",\"2005-03-21T00:00:00\",\"2005-03-22T00:00:00\",\"2005-03-23T00:00:00\",\"2005-03-24T00:00:00\",\"2005-03-28T00:00:00\",\"2005-03-29T00:00:00\",\"2005-03-30T00:00:00\",\"2005-03-31T00:00:00\",\"2005-04-01T00:00:00\",\"2005-04-04T00:00:00\",\"2005-04-05T00:00:00\",\"2005-04-06T00:00:00\",\"2005-04-07T00:00:00\",\"2005-04-08T00:00:00\",\"2005-04-11T00:00:00\",\"2005-04-12T00:00:00\",\"2005-04-13T00:00:00\",\"2005-04-14T00:00:00\",\"2005-04-15T00:00:00\",\"2005-04-18T00:00:00\",\"2005-04-19T00:00:00\",\"2005-04-20T00:00:00\",\"2005-04-21T00:00:00\",\"2005-04-22T00:00:00\",\"2005-04-25T00:00:00\",\"2005-04-26T00:00:00\",\"2005-04-27T00:00:00\",\"2005-04-28T00:00:00\",\"2005-04-29T00:00:00\",\"2005-05-02T00:00:00\",\"2005-05-03T00:00:00\",\"2005-05-04T00:00:00\",\"2005-05-05T00:00:00\",\"2005-05-06T00:00:00\",\"2005-05-09T00:00:00\",\"2005-05-10T00:00:00\",\"2005-05-11T00:00:00\",\"2005-05-12T00:00:00\",\"2005-05-13T00:00:00\",\"2005-05-16T00:00:00\",\"2005-05-17T00:00:00\",\"2005-05-18T00:00:00\",\"2005-05-19T00:00:00\",\"2005-05-20T00:00:00\",\"2005-05-23T00:00:00\",\"2005-05-24T00:00:00\",\"2005-05-25T00:00:00\",\"2005-05-26T00:00:00\",\"2005-05-27T00:00:00\",\"2005-05-31T00:00:00\",\"2005-06-01T00:00:00\",\"2005-06-02T00:00:00\",\"2005-06-03T00:00:00\",\"2005-06-06T00:00:00\",\"2005-06-07T00:00:00\",\"2005-06-08T00:00:00\",\"2005-06-09T00:00:00\",\"2005-06-10T00:00:00\",\"2005-06-13T00:00:00\",\"2005-06-14T00:00:00\",\"2005-06-15T00:00:00\",\"2005-06-16T00:00:00\",\"2005-06-17T00:00:00\",\"2005-06-20T00:00:00\",\"2005-06-21T00:00:00\",\"2005-06-22T00:00:00\",\"2005-06-23T00:00:00\",\"2005-06-24T00:00:00\",\"2005-06-27T00:00:00\",\"2005-06-28T00:00:00\",\"2005-06-29T00:00:00\",\"2005-06-30T00:00:00\",\"2005-07-01T00:00:00\",\"2005-07-05T00:00:00\",\"2005-07-06T00:00:00\",\"2005-07-07T00:00:00\",\"2005-07-08T00:00:00\",\"2005-07-09T00:00:00\",\"2005-07-10T00:00:00\",\"2005-07-11T00:00:00\",\"2005-07-12T00:00:00\",\"2005-07-13T00:00:00\",\"2005-07-14T00:00:00\",\"2005-07-15T00:00:00\",\"2005-07-16T00:00:00\",\"2005-07-17T00:00:00\",\"2005-07-18T00:00:00\",\"2005-07-19T00:00:00\",\"2005-07-20T00:00:00\",\"2005-07-21T00:00:00\",\"2005-07-22T00:00:00\",\"2005-07-23T00:00:00\",\"2005-07-24T00:00:00\",\"2005-07-25T00:00:00\",\"2005-07-26T00:00:00\",\"2005-07-27T00:00:00\",\"2005-07-28T00:00:00\",\"2005-07-29T00:00:00\",\"2005-07-30T00:00:00\",\"2005-07-31T00:00:00\",\"2005-08-01T00:00:00\",\"2005-08-02T00:00:00\",\"2005-08-03T00:00:00\",\"2005-08-04T00:00:00\",\"2005-08-05T00:00:00\",\"2005-08-06T00:00:00\",\"2005-08-07T00:00:00\",\"2005-08-08T00:00:00\",\"2005-08-09T00:00:00\",\"2005-08-10T00:00:00\",\"2005-08-11T00:00:00\",\"2005-08-12T00:00:00\",\"2005-08-13T00:00:00\",\"2005-08-14T00:00:00\",\"2005-08-15T00:00:00\",\"2005-08-16T00:00:00\",\"2005-08-17T00:00:00\",\"2005-08-18T00:00:00\",\"2005-08-19T00:00:00\",\"2005-08-20T00:00:00\",\"2005-08-21T00:00:00\",\"2005-08-22T00:00:00\",\"2005-08-23T00:00:00\",\"2005-08-24T00:00:00\",\"2005-08-25T00:00:00\",\"2005-08-26T00:00:00\",\"2005-08-27T00:00:00\",\"2005-08-28T00:00:00\",\"2005-08-29T00:00:00\",\"2005-08-30T00:00:00\",\"2005-08-31T00:00:00\",\"2005-09-01T00:00:00\",\"2005-09-02T00:00:00\",\"2005-09-03T00:00:00\",\"2005-09-04T00:00:00\",\"2005-09-05T00:00:00\",\"2005-09-06T00:00:00\",\"2005-09-07T00:00:00\",\"2005-09-08T00:00:00\",\"2005-09-09T00:00:00\",\"2005-09-10T00:00:00\",\"2005-09-11T00:00:00\",\"2005-09-12T00:00:00\",\"2005-09-13T00:00:00\",\"2005-09-14T00:00:00\",\"2005-09-15T00:00:00\",\"2005-09-16T00:00:00\",\"2005-09-17T00:00:00\",\"2005-09-18T00:00:00\",\"2005-09-19T00:00:00\",\"2005-09-20T00:00:00\",\"2005-09-21T00:00:00\",\"2005-09-22T00:00:00\",\"2005-09-23T00:00:00\",\"2005-09-24T00:00:00\",\"2005-09-25T00:00:00\",\"2005-09-26T00:00:00\",\"2005-09-27T00:00:00\",\"2005-09-28T00:00:00\",\"2005-09-29T00:00:00\",\"2005-09-30T00:00:00\",\"2005-10-01T00:00:00\",\"2005-10-02T00:00:00\",\"2005-10-03T00:00:00\",\"2005-10-04T00:00:00\",\"2005-10-05T00:00:00\",\"2005-10-06T00:00:00\",\"2005-10-07T00:00:00\",\"2005-10-08T00:00:00\",\"2005-10-09T00:00:00\",\"2005-10-10T00:00:00\",\"2005-10-11T00:00:00\",\"2005-10-12T00:00:00\",\"2005-10-13T00:00:00\",\"2005-10-14T00:00:00\",\"2005-10-15T00:00:00\",\"2005-10-16T00:00:00\",\"2005-10-17T00:00:00\",\"2005-10-18T00:00:00\",\"2005-10-19T00:00:00\",\"2005-10-20T00:00:00\",\"2005-10-21T00:00:00\",\"2005-10-22T00:00:00\",\"2005-10-23T00:00:00\",\"2005-10-24T00:00:00\",\"2005-10-25T00:00:00\",\"2005-10-26T00:00:00\",\"2005-10-27T00:00:00\",\"2005-10-28T00:00:00\",\"2005-10-29T00:00:00\",\"2005-10-30T00:00:00\",\"2005-10-31T00:00:00\",\"2005-11-01T00:00:00\",\"2005-11-02T00:00:00\",\"2005-11-03T00:00:00\",\"2005-11-04T00:00:00\",\"2005-11-05T00:00:00\",\"2005-11-06T00:00:00\",\"2005-11-07T00:00:00\",\"2005-11-08T00:00:00\",\"2005-11-09T00:00:00\",\"2005-11-10T00:00:00\",\"2005-11-11T00:00:00\",\"2005-11-12T00:00:00\",\"2005-11-13T00:00:00\",\"2005-11-14T00:00:00\",\"2005-11-15T00:00:00\",\"2005-11-16T00:00:00\",\"2005-11-17T00:00:00\",\"2005-11-18T00:00:00\",\"2005-11-19T00:00:00\",\"2005-11-20T00:00:00\",\"2005-11-21T00:00:00\",\"2005-11-22T00:00:00\",\"2005-11-23T00:00:00\",\"2005-11-24T00:00:00\",\"2005-11-25T00:00:00\",\"2005-11-26T00:00:00\",\"2005-11-27T00:00:00\",\"2005-11-28T00:00:00\",\"2005-11-29T00:00:00\",\"2005-11-30T00:00:00\",\"2005-12-01T00:00:00\",\"2005-12-02T00:00:00\"],\"y\":[15.499652690929459,15.513379518287644,15.551214928046484,15.550188955383744,15.521487890640527,15.542683515814355,15.511845764108255,15.505590798988283,15.461650695310986,15.391902669995527,15.307603543272688,15.2493816849642,15.220416205772358,15.15878838273496,15.076633430700165,14.987919683943087,14.939039242063663,14.924517436325313,14.882116147934731,14.823569541596319,14.826937838320097,14.813896940562506,14.836729923219652,14.832539272431559,14.812401742829536,14.925908793814198,14.945970671152317,14.999268979758307,15.022498728595636,15.026399019171125,15.189463435396144,15.218151026235569,15.276126148458031,15.300186796064544,15.301237582832218,15.436122700497735,15.449902608324267,15.49080437980608,15.4960096274812,15.476814200244233,15.538265621770439,15.557602223137284,15.541977860787641,15.50295938501245,15.521431901158971,15.499483867564376,15.506973159970867,15.481464735120609,15.434580897880164,15.441767539489453,15.420123807485371,15.429888312380632,15.408566413596938,15.367708078682767,15.403109750053888,15.393898826046321,15.41740768670431,15.41100411378835,15.3860893023453,15.473812098730502,15.482927297868692,15.524872269033073,15.536800650199513,15.529892100051653,15.667404792870549,15.690950947766273,15.745880264365509,15.769145601786146,15.771743909880126,15.925338425440604,15.94976679922764,16.003263733114768,16.022797850763617,16.01942553099577,16.142932721283795,16.15390991187552,16.192662475792392,16.1964613133674,16.176691947261173,16.25058626637515,16.246098790161533,16.27051536423549,16.26143496907628,16.230540882931592,16.28394467369617,16.27745250553987,16.30239670116786,16.296353046808626,16.270916260872756,16.35337642857277,16.359892071966176,16.398926011210524,16.407646915373522,16.39721589071689,16.52163795026351,16.539647781885268,16.588246555911134,16.60245484139524,16.594928558437744,16.710534194392928,16.719451799701847,16.75592509567611,16.733517805539993,16.788908008253472,16.774981119507498,16.788054900630055,16.76563790289055,16.71937479645469,16.714900190119206,16.6856005311721,16.686311363114672,16.654875639007265,16.603193266514914,16.605269266935057,16.58568261951403,16.599592011442954,16.584531963483983,16.552007653559215,16.62320454770256,16.62857393959197,16.676309942986528,16.666384282333663,16.790494455850652,16.806736793261003,16.863587481126544,16.851390695672748,16.940473214608645,16.93600992868467,16.95674903067079,16.939663229387815,16.895885670078073,16.877266805119316,16.834807225085836,16.817674729349665,16.763547118545837,16.68424035569904,16.50818836864513,16.471506560224643,16.402173009608717,16.312167430433355,16.19725603566792,16.13810626850546,16.112196292097103,16.05707048223906,15.984246007444114,15.933391721316834,15.897857683298982,15.895727318575496,15.863987063880005,15.813630810860962,15.820214861900807,15.799342069711066,15.80923623085459,15.786768236583749,15.74289872211975,15.728751691576036,15.73333753623692,15.704056868443287,15.652252418797726,15.6359162073969,15.60317258611157,15.600161691042922,15.56442076567334,15.507560371243896,15.486324275909803,15.455679316637035,15.456631448921504,15.42662629085986,15.377127865201754,15.385585116295513,15.366487270706553,15.379316357888582,15.361211613375644,15.323338851670798,15.362368606524337,15.35130985731044,15.37085220179178,15.358060447778051,15.324080231855158,15.366873081533658,15.35488549250536,15.37274449094997,15.357768931949701,15.321381497902054,15.358527491556618,15.346132899826916,15.364752539006503,15.351916804170825,15.319217611557576,15.377649757415869,15.375786262072115,15.406522223937289,15.407221658714082,15.389256439007207,15.4961983570655,15.51080405563243,15.557534752445314,15.57336778189771,15.706990853464452,15.727223181299365,15.776894206998422,15.792841982926307,15.785982746591882,15.89815034194455,15.904559508399451,15.93810997236791,15.935937880234766,15.909302645174067,15.956124261189762,15.94014371737543,15.951708689048736,15.928363243031228,15.881749264316761,15.879061373610913,15.850900932071776,15.852733857905253,15.822186929052187,15.770924313563468,15.768967916776509,15.745472599034496,15.753838068654481,15.731436605888394,15.689657751507019,15.709853842085359,15.730226262704381,15.719617121551234,15.68924955581553,15.751860252050374,15.749488499657167,15.778424989657173,15.775936897251771,15.753382149378766,15.839319283805182,15.845337793049106,15.883303047496112,15.890664260599774,15.878937398723696,16.004276425696855,16.025857532723986,16.080529686811627,16.105614816382698,16.112443656452193,16.295766624428328,16.336315528174413,16.409112722505892,16.451043272623515,16.472989484793313,16.68688420293892,16.731334697029958,16.804303615057414,16.842405509447186,17.02003471714733,17.039200722695266,17.08289481508558,17.088035982359873,17.06569079269845,17.10581048055677,17.08079975344632,17.07992032269387,17.04078663432101,16.975167795209927,16.898300497616127,16.84068211602535,16.81131478749226,16.74826602645753,16.663675917432283,16.56189185497755,16.506924261076307,16.485583181868684,16.435729102163027,16.369204361735324,16.346661705315682,16.324730765732475,16.33874841600245,16.32593191995063,16.29746578847653,16.388704606316836,16.402502978619715,16.450211418682994,16.468560429154543,16.468310389071775,16.623312498681326,16.650713592391664,16.708043201482084,16.732049166220722,16.733578326085556,16.87243771078355,16.88815289682652,16.931174518926277,16.938613058895687,16.918548060537496,16.9757420511373,16.993557671208293,16.976145293701496,16.935040184660235,16.945232921636336,16.919802678418634,16.923436259537663,16.89369754421152,16.842211344577102,16.833428014153135,16.80577613220807,16.8092134061869,16.781262046895804,16.733490659368467,16.746665058390345,16.729629619328822,16.74515159868316,16.730629176010172,16.697496126448748,16.76032522258251,16.761191333512095,16.79497951934676,16.79888545513035,16.784130913825823,16.892371754110947,16.90677476067321,16.952922551881013,16.967793953179513,16.962406172338653,17.094590894902982,17.11272810830243,17.16033428013924,17.174352142748806,17.16580400886048,17.275373017957495,17.28205050574686,17.31657231402186,17.31614194774233,17.292076346366926,17.352010139611693,17.342305691792426,17.36113466312379,17.3460543826371,17.308716116243946,17.33996650027497,17.325157258550774,17.34135242804853,17.32616632014228,17.2912432648935,17.34382040558053,17.340150256808954,17.369023202521145,17.367693264640835,17.347405858332248,17.44420607740749,17.453882083427175,17.494671212782393,17.503423370853692,17.491019467140546,17.595440112748467,17.601694685798513,17.63595867545106,17.610211697793765,17.661967576367957,17.646797296635924,17.658437962756185,17.634296351152653,17.58592079767718,17.57195365053672,17.538223004470154,17.533799053178242,17.496507798917207,17.443254694175867,17.43658632115563,17.41292385097576,17.42230848023689,17.40237419143362,17.364736248027427,17.420359985463385,17.42087619751438,17.45514266014615,17.44680912237581,17.56509006820376,17.58104736489071,17.627155249688716,17.63012284519123,17.730951184312907,17.731724282295794,17.758197012245304,17.747225637409866,17.709818309713185,17.710530297144306,17.674149838532646,17.662706307472305,17.61376554942868,17.539043802211985,17.375768869860728,17.34020599262902,17.27114438222315,17.180588435823314,17.059596914232994,16.997186871205436,16.96755109668564,16.908337457659538,16.831171297974088,16.766861351018957,16.72704696396739,16.720895994795715,16.68547436506748,16.631842908908336,16.631493602328153,16.609349316883716,16.618491079785066,16.59576721199839,16.552102399821095,16.542282470003027,16.548485842565434,16.520886116857188,16.470749891894574,16.45864171179026,16.426849020407342,16.42448265750487,16.389049612904806,16.332141932594936,16.308626458426247,16.276564001305157,16.275822785965623,16.243893008975856,16.192289597638965,16.19391479009798,16.17256059590494,16.18323618634608,16.16312972134143,16.123449309531686,16.15851743189949,16.14667602620392,16.165704370546212,16.152651684574515,16.118638361689644,16.16232182119263,16.150803093509055,16.169127391817682,16.15455726390394,16.118460020813647,16.15528467047058,16.142248648192286,16.159911319004877,16.145788598665863,16.111468743636536,16.163168069616702,16.158535060817673,16.18631317981511,16.18392388534704,16.26057990028148,16.272472463815014,16.31677820547794,16.33053853928164,16.324802697978573,16.460404219152778,16.480995757165118,16.531570881662653,16.548958577634163,16.544053517879565,16.664778610055947,16.674757198307944,16.712124070694582,16.71393954500166,16.69138389155704,16.750197567571913,16.737877426223395,16.75281931507622,16.732509219348103,16.688540163246653,16.691113626584375,16.66376169036567,16.665931730253558,16.63526750183126,16.583459885787125,16.577689871565045,16.5523560603349,16.558687827641002,16.534112159344865,16.490071897613998,16.51491604450249,16.501276487434975,16.51959214493048,16.50704651299477,16.474869402430155,16.52897075318114,16.55653921946,16.552685436717717,16.528728779466096,16.609852296868446,16.613944255971834,16.649773748481955,16.654771298726764,16.756601081305824,16.77473409281332,16.82582701802023,16.84725505194102,16.85041143763661,17.023360094673535,17.060935024572906,17.131140573562078,17.170944597174525,17.19130809007112,17.40439600026844,17.450066947119936,17.525057254390877,17.56599326838951,17.583550018659164,17.78842281000778,17.839163656524235,17.85179722995583,17.83728156750479,17.901702893814623,17.884636247203165,17.89140602974668,17.85950067159833,17.800569652409926,17.739473964633955,17.685396873701965,17.658608607404986,17.597139922911303,17.51311249547674,17.407006233184426,17.34871580226913,17.32321326106555,17.26844270171465,17.196342327398867,17.154214525869463,17.125197399792782,17.132053472983525,17.11212056197079,17.0766993871019,17.149094229340594,17.157587040635267,17.200599360306004,17.21491479533152,17.211332771352602,17.360726763892366,17.387712190169587,17.445316840834042,17.47025000271959,17.47331050240652,17.61979792900304,17.6388442373325,17.685472274301052,17.696719851556026,17.683742671315493,17.771822584928767,17.769267941336068,17.793866771143637,17.78301861788937,17.748219544281792,17.755050832571246,17.763319042330878,17.73784233670622,17.690243483351633,17.690906631549293,17.665690609272048,17.671226207287692,17.645050162931277,17.598747479173944,17.61467918814848,17.598085945894592,17.613852782220384,17.59940558968181,17.56620799794751,17.628335922689104,17.6289198900346,17.662466697551118,17.6662131328391,17.65142288948936,17.767917939445496,17.785593812721935,17.83533689762788,17.854157929835935,17.853101380739254,18.000754818946195,18.02490089641432,18.078936942291527,18.09979024684694,18.098459311883783,18.23161102952409,18.246636298956105,18.2896551230464,18.297807203555102,18.282342621805675,18.367508265698824,18.365803141774933,18.392324481119626,18.384577712245804,18.35417023022173,18.40350444535429,18.393778421014044,18.41459335403789,18.40358724926678,18.372440063961314,18.434439704333123,18.433494989327148,18.465013387498967,18.46633246123993,18.448782889994614,18.55516148247433,18.568740067024184,18.613895394272866,18.627527334467974,18.620554287318722,18.74473766565058,18.758716006127404,18.80122349165854,18.793304925669712,18.87342119676189,18.867927061277832,18.889184895506656,18.874496706082855,18.835308114098158,18.846363184213043,18.819860542395034,18.82200625977014,18.79058786552393,18.737485032613836,18.72701577542201,18.70077924709889,18.707034963480183,18.683499893443134,18.641885733788072,18.68444555851661,18.68063336474704,18.710792686607377,18.712024213380463,18.80751432403898,18.822938286676692,18.869363974523928,18.883379236097923,18.875608119288472,18.987753825723317,18.993816103090587,19.026204584171307,19.021673649072355,18.99111758497672,19.013588475084028,18.984423536146608,18.979958582235632,18.937635850414303,18.86905695469849,18.72185436927292,18.688342083725324,18.620479623933328,18.530272565631915,18.40551587446628,18.34042817985046,18.307530661483185,18.244564942646768,18.163258250195682,18.085278623978507,18.040854018488943,18.030238286975184,17.990590006421357,17.93305237110389,17.923540442558892,17.899333008208828,17.906938452504715,17.883200774323218,17.839025623127423,17.853156697796692,17.831370196524013,17.838870254641083,17.812726934819487,17.764129809755513,17.72573336421378,17.724255275763085,17.689413441073278,17.63276680004285,17.607898298642798,17.574680359684592,17.572463467797917,17.538772205401415,17.48516423212623,17.47983513931901,17.456039138739378,17.464307734565327,17.441884041554356,17.40002650999785,17.429805287824134,17.416705859811703,17.434749931018075,17.420983944366565,17.386515218432702,17.430106798129984,17.418850659648236,17.437502778296,17.42327090790468,17.4243491005954,17.410897179354308,17.42786063019406,17.4127283871341,17.377071619724145,17.42278753025945,17.415555528569676,17.4404860660428,17.43504771259423,17.4107319377955,17.498698573430467,17.50748205134519,17.54888004277944,17.560003936950473,17.551968463229507,17.68324168698973,17.70338461631926,17.75404958961779,17.772072312301454,17.768341550627092,17.895580360816204,17.90858797360812,17.94931804157069,17.954761907776255,17.93602514955565,18.00664651530976,17.99811433613135,18.016644257884455,17.99965452352734,17.95867796436782,17.96779989528275,17.941720150208198,17.94468476198349,17.91434109968725,17.86239444008279,17.853736585583153,17.82675127182605,17.831168685272036,17.804469765929362,17.75815213668978,17.775762608025737,17.759732693556003,17.775731024241,17.760967449325,17.72668959697799,17.77360609410146,17.799620565401607,17.794259233592243,17.7688066313423,17.845126088879294,17.847382342692455,17.881200559227985,17.883983510528317,17.867216519131468,17.97464080856827,17.989415763975444,18.036967316205992,18.054711088931157,18.054091121152716,18.215801337124123,18.24991013941662,18.316926123844496,18.353901841871547,18.371881745424602,18.5812552355402,18.62705180883604,18.702932770748504,18.745555017738496,18.765609257947,18.98833343088165,19.045295573481045,19.064715609111317,19.057457498936003,19.9877532314092,20.003261383497197,19.14537253311907,19.13630270704094,19.15093689338007,19.12663326501142,19.074914099633187,19.960697928772692,19.932344135604914,19.03194392627619,18.982399207123944,18.95925174858629,18.900473627959023,18.818145267809527,19.677675909922073,19.627838020938444,18.711049792271638,18.650447460258423,18.62170997197723,18.56284708108287,18.485877228519843,19.356050031306825,19.321884805333898,18.42545916328157,18.38948924503185,18.389163894935226,18.361943623242468,18.31925043024684,19.225703018613487,19.22916850867125,18.371064381729827,18.373451895901994,18.410882987461942,18.420211212642737,18.412292552025225,19.351230378614307,19.384435517156366,18.552934973554535,18.57847047643373,18.63534878667076,18.660254317855436,18.663949922155727,19.610520216825794,19.647428491514454,18.815820921732012,18.83761940587965,18.887365179610267,18.902023964999245,18.89267873310556,19.823764682329628,19.84311769623837,18.992270219986775,18.99353607076056,19.021846513564984,19.014548512363245,18.983091359522778,19.892256379798177,19.890201034516053,19.018751395046184,19.000484499715768,19.01056289478193,18.986532212020887,18.940007905160467,19.835905741504604,19.822487260016345,18.941654040931688,18.916032172536685,18.92080908785325,18.893533501231076,18.845804454609247,19.742503971197344,19.731844446562025,18.85566456086146,18.83651505817558,18.849496548567345,18.832060068372563,18.79569643557676,19.705168945104646,19.708560598401842,18.84756972964921,18.844595463522403,18.87457525529252,18.874785345646693,18.85653026113466,19.784375991745435,19.806198115091163,18.963478789106276,18.97839408891705,19.025653957945142,19.042305601397814,19.03942642446223,19.981361093454087,20.01577391240634,19.183950337828826,19.207888988802207,19.262146287635705,19.283644412691686,19.283368511640028,20.225607597303807,20.258010165624885,19.421888214345287,19.439310889378742,19.48494978332113,19.495886480657852,19.48330823890886,20.411746200030272,20.429127177348647,19.577072737325228,19.577986879062927,19.606894446424246,19.601241010163083,19.57258028171467,20.48580365072071,20.48918310984431,19.624661519080153,19.614931753747214,19.635267113650805,19.623313967859527,19.590772920858146,20.502623296502904,20.507162381219537,19.646293524111012,19.642604746006718,19.671200300785813,19.669496184340026,19.64890585080947,20.57407085892648,20.592907769527706,19.746905226928853,19.75821267011652,19.801482874652265,19.813679047782266,19.80577243997459,20.74198488352177,20.76984725966016,19.930507508588256,19.945829320227134,19.990243417567015,20.000561893335675,19.98768133683309,20.915828977256062,20.932622708884818,20.079378529122803,20.078206500041585,20.103857175822206,20.09352904552712,20.058562873295134],\"type\":\"scatter\"},{\"fill\":\"tonexty\",\"line\":{\"color\":\"#57b8ff\"},\"mode\":\"lines\",\"name\":\"Higher uncertainty interval\",\"x\":[\"2002-07-08T00:00:00\",\"2002-07-09T00:00:00\",\"2002-07-10T00:00:00\",\"2002-07-11T00:00:00\",\"2002-07-12T00:00:00\",\"2002-07-15T00:00:00\",\"2002-07-16T00:00:00\",\"2002-07-17T00:00:00\",\"2002-07-18T00:00:00\",\"2002-07-19T00:00:00\",\"2002-07-22T00:00:00\",\"2002-07-23T00:00:00\",\"2002-07-24T00:00:00\",\"2002-07-25T00:00:00\",\"2002-07-26T00:00:00\",\"2002-07-29T00:00:00\",\"2002-07-30T00:00:00\",\"2002-07-31T00:00:00\",\"2002-08-01T00:00:00\",\"2002-08-02T00:00:00\",\"2002-08-05T00:00:00\",\"2002-08-06T00:00:00\",\"2002-08-07T00:00:00\",\"2002-08-08T00:00:00\",\"2002-08-09T00:00:00\",\"2002-08-12T00:00:00\",\"2002-08-13T00:00:00\",\"2002-08-14T00:00:00\",\"2002-08-15T00:00:00\",\"2002-08-16T00:00:00\",\"2002-08-19T00:00:00\",\"2002-08-20T00:00:00\",\"2002-08-21T00:00:00\",\"2002-08-22T00:00:00\",\"2002-08-23T00:00:00\",\"2002-08-26T00:00:00\",\"2002-08-27T00:00:00\",\"2002-08-28T00:00:00\",\"2002-08-29T00:00:00\",\"2002-08-30T00:00:00\",\"2002-09-03T00:00:00\",\"2002-09-04T00:00:00\",\"2002-09-05T00:00:00\",\"2002-09-06T00:00:00\",\"2002-09-09T00:00:00\",\"2002-09-10T00:00:00\",\"2002-09-11T00:00:00\",\"2002-09-12T00:00:00\",\"2002-09-13T00:00:00\",\"2002-09-16T00:00:00\",\"2002-09-17T00:00:00\",\"2002-09-18T00:00:00\",\"2002-09-19T00:00:00\",\"2002-09-20T00:00:00\",\"2002-09-23T00:00:00\",\"2002-09-24T00:00:00\",\"2002-09-25T00:00:00\",\"2002-09-26T00:00:00\",\"2002-09-27T00:00:00\",\"2002-09-30T00:00:00\",\"2002-10-01T00:00:00\",\"2002-10-02T00:00:00\",\"2002-10-03T00:00:00\",\"2002-10-04T00:00:00\",\"2002-10-07T00:00:00\",\"2002-10-08T00:00:00\",\"2002-10-09T00:00:00\",\"2002-10-10T00:00:00\",\"2002-10-11T00:00:00\",\"2002-10-14T00:00:00\",\"2002-10-15T00:00:00\",\"2002-10-16T00:00:00\",\"2002-10-17T00:00:00\",\"2002-10-18T00:00:00\",\"2002-10-21T00:00:00\",\"2002-10-22T00:00:00\",\"2002-10-23T00:00:00\",\"2002-10-24T00:00:00\",\"2002-10-25T00:00:00\",\"2002-10-28T00:00:00\",\"2002-10-29T00:00:00\",\"2002-10-30T00:00:00\",\"2002-10-31T00:00:00\",\"2002-11-01T00:00:00\",\"2002-11-04T00:00:00\",\"2002-11-05T00:00:00\",\"2002-11-06T00:00:00\",\"2002-11-07T00:00:00\",\"2002-11-08T00:00:00\",\"2002-11-11T00:00:00\",\"2002-11-12T00:00:00\",\"2002-11-13T00:00:00\",\"2002-11-14T00:00:00\",\"2002-11-15T00:00:00\",\"2002-11-18T00:00:00\",\"2002-11-19T00:00:00\",\"2002-11-20T00:00:00\",\"2002-11-21T00:00:00\",\"2002-11-22T00:00:00\",\"2002-11-25T00:00:00\",\"2002-11-26T00:00:00\",\"2002-11-27T00:00:00\",\"2002-11-29T00:00:00\",\"2002-12-02T00:00:00\",\"2002-12-03T00:00:00\",\"2002-12-04T00:00:00\",\"2002-12-05T00:00:00\",\"2002-12-06T00:00:00\",\"2002-12-09T00:00:00\",\"2002-12-10T00:00:00\",\"2002-12-11T00:00:00\",\"2002-12-12T00:00:00\",\"2002-12-13T00:00:00\",\"2002-12-16T00:00:00\",\"2002-12-17T00:00:00\",\"2002-12-18T00:00:00\",\"2002-12-19T00:00:00\",\"2002-12-20T00:00:00\",\"2002-12-23T00:00:00\",\"2002-12-24T00:00:00\",\"2002-12-26T00:00:00\",\"2002-12-27T00:00:00\",\"2002-12-30T00:00:00\",\"2002-12-31T00:00:00\",\"2003-01-02T00:00:00\",\"2003-01-03T00:00:00\",\"2003-01-06T00:00:00\",\"2003-01-07T00:00:00\",\"2003-01-08T00:00:00\",\"2003-01-09T00:00:00\",\"2003-01-10T00:00:00\",\"2003-01-13T00:00:00\",\"2003-01-14T00:00:00\",\"2003-01-15T00:00:00\",\"2003-01-16T00:00:00\",\"2003-01-17T00:00:00\",\"2003-01-21T00:00:00\",\"2003-01-22T00:00:00\",\"2003-01-23T00:00:00\",\"2003-01-24T00:00:00\",\"2003-01-27T00:00:00\",\"2003-01-28T00:00:00\",\"2003-01-29T00:00:00\",\"2003-01-30T00:00:00\",\"2003-01-31T00:00:00\",\"2003-02-03T00:00:00\",\"2003-02-04T00:00:00\",\"2003-02-05T00:00:00\",\"2003-02-06T00:00:00\",\"2003-02-07T00:00:00\",\"2003-02-10T00:00:00\",\"2003-02-11T00:00:00\",\"2003-02-12T00:00:00\",\"2003-02-13T00:00:00\",\"2003-02-14T00:00:00\",\"2003-02-18T00:00:00\",\"2003-02-19T00:00:00\",\"2003-02-20T00:00:00\",\"2003-02-21T00:00:00\",\"2003-02-24T00:00:00\",\"2003-02-25T00:00:00\",\"2003-02-26T00:00:00\",\"2003-02-27T00:00:00\",\"2003-02-28T00:00:00\",\"2003-03-03T00:00:00\",\"2003-03-04T00:00:00\",\"2003-03-05T00:00:00\",\"2003-03-06T00:00:00\",\"2003-03-07T00:00:00\",\"2003-03-10T00:00:00\",\"2003-03-11T00:00:00\",\"2003-03-12T00:00:00\",\"2003-03-13T00:00:00\",\"2003-03-14T00:00:00\",\"2003-03-17T00:00:00\",\"2003-03-18T00:00:00\",\"2003-03-19T00:00:00\",\"2003-03-20T00:00:00\",\"2003-03-21T00:00:00\",\"2003-03-24T00:00:00\",\"2003-03-25T00:00:00\",\"2003-03-26T00:00:00\",\"2003-03-27T00:00:00\",\"2003-03-28T00:00:00\",\"2003-03-31T00:00:00\",\"2003-04-01T00:00:00\",\"2003-04-02T00:00:00\",\"2003-04-03T00:00:00\",\"2003-04-04T00:00:00\",\"2003-04-07T00:00:00\",\"2003-04-08T00:00:00\",\"2003-04-09T00:00:00\",\"2003-04-10T00:00:00\",\"2003-04-11T00:00:00\",\"2003-04-14T00:00:00\",\"2003-04-15T00:00:00\",\"2003-04-16T00:00:00\",\"2003-04-17T00:00:00\",\"2003-04-21T00:00:00\",\"2003-04-22T00:00:00\",\"2003-04-23T00:00:00\",\"2003-04-24T00:00:00\",\"2003-04-25T00:00:00\",\"2003-04-28T00:00:00\",\"2003-04-29T00:00:00\",\"2003-04-30T00:00:00\",\"2003-05-01T00:00:00\",\"2003-05-02T00:00:00\",\"2003-05-05T00:00:00\",\"2003-05-06T00:00:00\",\"2003-05-07T00:00:00\",\"2003-05-08T00:00:00\",\"2003-05-09T00:00:00\",\"2003-05-12T00:00:00\",\"2003-05-13T00:00:00\",\"2003-05-14T00:00:00\",\"2003-05-15T00:00:00\",\"2003-05-16T00:00:00\",\"2003-05-19T00:00:00\",\"2003-05-20T00:00:00\",\"2003-05-21T00:00:00\",\"2003-05-22T00:00:00\",\"2003-05-23T00:00:00\",\"2003-05-27T00:00:00\",\"2003-05-28T00:00:00\",\"2003-05-29T00:00:00\",\"2003-05-30T00:00:00\",\"2003-06-02T00:00:00\",\"2003-06-03T00:00:00\",\"2003-06-04T00:00:00\",\"2003-06-05T00:00:00\",\"2003-06-06T00:00:00\",\"2003-06-09T00:00:00\",\"2003-06-10T00:00:00\",\"2003-06-11T00:00:00\",\"2003-06-12T00:00:00\",\"2003-06-13T00:00:00\",\"2003-06-16T00:00:00\",\"2003-06-17T00:00:00\",\"2003-06-18T00:00:00\",\"2003-06-19T00:00:00\",\"2003-06-20T00:00:00\",\"2003-06-23T00:00:00\",\"2003-06-24T00:00:00\",\"2003-06-25T00:00:00\",\"2003-06-26T00:00:00\",\"2003-06-27T00:00:00\",\"2003-06-30T00:00:00\",\"2003-07-01T00:00:00\",\"2003-07-02T00:00:00\",\"2003-07-03T00:00:00\",\"2003-07-07T00:00:00\",\"2003-07-08T00:00:00\",\"2003-07-09T00:00:00\",\"2003-07-10T00:00:00\",\"2003-07-11T00:00:00\",\"2003-07-14T00:00:00\",\"2003-07-15T00:00:00\",\"2003-07-16T00:00:00\",\"2003-07-17T00:00:00\",\"2003-07-18T00:00:00\",\"2003-07-21T00:00:00\",\"2003-07-22T00:00:00\",\"2003-07-23T00:00:00\",\"2003-07-24T00:00:00\",\"2003-07-25T00:00:00\",\"2003-07-28T00:00:00\",\"2003-07-29T00:00:00\",\"2003-07-30T00:00:00\",\"2003-07-31T00:00:00\",\"2003-08-01T00:00:00\",\"2003-08-04T00:00:00\",\"2003-08-05T00:00:00\",\"2003-08-06T00:00:00\",\"2003-08-07T00:00:00\",\"2003-08-08T00:00:00\",\"2003-08-11T00:00:00\",\"2003-08-12T00:00:00\",\"2003-08-13T00:00:00\",\"2003-08-14T00:00:00\",\"2003-08-15T00:00:00\",\"2003-08-18T00:00:00\",\"2003-08-19T00:00:00\",\"2003-08-20T00:00:00\",\"2003-08-21T00:00:00\",\"2003-08-22T00:00:00\",\"2003-08-25T00:00:00\",\"2003-08-26T00:00:00\",\"2003-08-27T00:00:00\",\"2003-08-28T00:00:00\",\"2003-08-29T00:00:00\",\"2003-09-02T00:00:00\",\"2003-09-03T00:00:00\",\"2003-09-04T00:00:00\",\"2003-09-05T00:00:00\",\"2003-09-08T00:00:00\",\"2003-09-09T00:00:00\",\"2003-09-10T00:00:00\",\"2003-09-11T00:00:00\",\"2003-09-12T00:00:00\",\"2003-09-15T00:00:00\",\"2003-09-16T00:00:00\",\"2003-09-17T00:00:00\",\"2003-09-18T00:00:00\",\"2003-09-19T00:00:00\",\"2003-09-22T00:00:00\",\"2003-09-23T00:00:00\",\"2003-09-24T00:00:00\",\"2003-09-25T00:00:00\",\"2003-09-26T00:00:00\",\"2003-09-29T00:00:00\",\"2003-09-30T00:00:00\",\"2003-10-01T00:00:00\",\"2003-10-02T00:00:00\",\"2003-10-03T00:00:00\",\"2003-10-06T00:00:00\",\"2003-10-07T00:00:00\",\"2003-10-08T00:00:00\",\"2003-10-09T00:00:00\",\"2003-10-10T00:00:00\",\"2003-10-13T00:00:00\",\"2003-10-14T00:00:00\",\"2003-10-15T00:00:00\",\"2003-10-16T00:00:00\",\"2003-10-17T00:00:00\",\"2003-10-20T00:00:00\",\"2003-10-21T00:00:00\",\"2003-10-22T00:00:00\",\"2003-10-23T00:00:00\",\"2003-10-24T00:00:00\",\"2003-10-27T00:00:00\",\"2003-10-28T00:00:00\",\"2003-10-29T00:00:00\",\"2003-10-30T00:00:00\",\"2003-10-31T00:00:00\",\"2003-11-03T00:00:00\",\"2003-11-04T00:00:00\",\"2003-11-05T00:00:00\",\"2003-11-06T00:00:00\",\"2003-11-07T00:00:00\",\"2003-11-10T00:00:00\",\"2003-11-11T00:00:00\",\"2003-11-12T00:00:00\",\"2003-11-13T00:00:00\",\"2003-11-14T00:00:00\",\"2003-11-17T00:00:00\",\"2003-11-18T00:00:00\",\"2003-11-19T00:00:00\",\"2003-11-20T00:00:00\",\"2003-11-21T00:00:00\",\"2003-11-24T00:00:00\",\"2003-11-25T00:00:00\",\"2003-11-26T00:00:00\",\"2003-11-28T00:00:00\",\"2003-12-01T00:00:00\",\"2003-12-02T00:00:00\",\"2003-12-03T00:00:00\",\"2003-12-04T00:00:00\",\"2003-12-05T00:00:00\",\"2003-12-08T00:00:00\",\"2003-12-09T00:00:00\",\"2003-12-10T00:00:00\",\"2003-12-11T00:00:00\",\"2003-12-12T00:00:00\",\"2003-12-15T00:00:00\",\"2003-12-16T00:00:00\",\"2003-12-17T00:00:00\",\"2003-12-18T00:00:00\",\"2003-12-19T00:00:00\",\"2003-12-22T00:00:00\",\"2003-12-23T00:00:00\",\"2003-12-24T00:00:00\",\"2003-12-26T00:00:00\",\"2003-12-29T00:00:00\",\"2003-12-30T00:00:00\",\"2003-12-31T00:00:00\",\"2004-01-02T00:00:00\",\"2004-01-05T00:00:00\",\"2004-01-06T00:00:00\",\"2004-01-07T00:00:00\",\"2004-01-08T00:00:00\",\"2004-01-09T00:00:00\",\"2004-01-12T00:00:00\",\"2004-01-13T00:00:00\",\"2004-01-14T00:00:00\",\"2004-01-15T00:00:00\",\"2004-01-16T00:00:00\",\"2004-01-20T00:00:00\",\"2004-01-21T00:00:00\",\"2004-01-22T00:00:00\",\"2004-01-23T00:00:00\",\"2004-01-26T00:00:00\",\"2004-01-27T00:00:00\",\"2004-01-28T00:00:00\",\"2004-01-29T00:00:00\",\"2004-01-30T00:00:00\",\"2004-02-02T00:00:00\",\"2004-02-03T00:00:00\",\"2004-02-04T00:00:00\",\"2004-02-05T00:00:00\",\"2004-02-06T00:00:00\",\"2004-02-09T00:00:00\",\"2004-02-10T00:00:00\",\"2004-02-11T00:00:00\",\"2004-02-12T00:00:00\",\"2004-02-13T00:00:00\",\"2004-02-17T00:00:00\",\"2004-02-18T00:00:00\",\"2004-02-19T00:00:00\",\"2004-02-20T00:00:00\",\"2004-02-23T00:00:00\",\"2004-02-24T00:00:00\",\"2004-02-25T00:00:00\",\"2004-02-26T00:00:00\",\"2004-02-27T00:00:00\",\"2004-03-01T00:00:00\",\"2004-03-02T00:00:00\",\"2004-03-03T00:00:00\",\"2004-03-04T00:00:00\",\"2004-03-05T00:00:00\",\"2004-03-08T00:00:00\",\"2004-03-09T00:00:00\",\"2004-03-10T00:00:00\",\"2004-03-11T00:00:00\",\"2004-03-12T00:00:00\",\"2004-03-15T00:00:00\",\"2004-03-16T00:00:00\",\"2004-03-17T00:00:00\",\"2004-03-18T00:00:00\",\"2004-03-19T00:00:00\",\"2004-03-22T00:00:00\",\"2004-03-23T00:00:00\",\"2004-03-24T00:00:00\",\"2004-03-25T00:00:00\",\"2004-03-26T00:00:00\",\"2004-03-29T00:00:00\",\"2004-03-30T00:00:00\",\"2004-03-31T00:00:00\",\"2004-04-01T00:00:00\",\"2004-04-02T00:00:00\",\"2004-04-05T00:00:00\",\"2004-04-06T00:00:00\",\"2004-04-07T00:00:00\",\"2004-04-08T00:00:00\",\"2004-04-12T00:00:00\",\"2004-04-13T00:00:00\",\"2004-04-14T00:00:00\",\"2004-04-15T00:00:00\",\"2004-04-16T00:00:00\",\"2004-04-19T00:00:00\",\"2004-04-20T00:00:00\",\"2004-04-21T00:00:00\",\"2004-04-22T00:00:00\",\"2004-04-23T00:00:00\",\"2004-04-26T00:00:00\",\"2004-04-27T00:00:00\",\"2004-04-28T00:00:00\",\"2004-04-29T00:00:00\",\"2004-04-30T00:00:00\",\"2004-05-03T00:00:00\",\"2004-05-04T00:00:00\",\"2004-05-05T00:00:00\",\"2004-05-06T00:00:00\",\"2004-05-07T00:00:00\",\"2004-05-10T00:00:00\",\"2004-05-11T00:00:00\",\"2004-05-12T00:00:00\",\"2004-05-13T00:00:00\",\"2004-05-14T00:00:00\",\"2004-05-17T00:00:00\",\"2004-05-18T00:00:00\",\"2004-05-19T00:00:00\",\"2004-05-20T00:00:00\",\"2004-05-21T00:00:00\",\"2004-05-24T00:00:00\",\"2004-05-25T00:00:00\",\"2004-05-26T00:00:00\",\"2004-05-27T00:00:00\",\"2004-05-28T00:00:00\",\"2004-06-01T00:00:00\",\"2004-06-02T00:00:00\",\"2004-06-03T00:00:00\",\"2004-06-04T00:00:00\",\"2004-06-07T00:00:00\",\"2004-06-08T00:00:00\",\"2004-06-09T00:00:00\",\"2004-06-10T00:00:00\",\"2004-06-14T00:00:00\",\"2004-06-15T00:00:00\",\"2004-06-16T00:00:00\",\"2004-06-17T00:00:00\",\"2004-06-18T00:00:00\",\"2004-06-21T00:00:00\",\"2004-06-22T00:00:00\",\"2004-06-23T00:00:00\",\"2004-06-24T00:00:00\",\"2004-06-25T00:00:00\",\"2004-06-28T00:00:00\",\"2004-06-29T00:00:00\",\"2004-06-30T00:00:00\",\"2004-07-01T00:00:00\",\"2004-07-02T00:00:00\",\"2004-07-06T00:00:00\",\"2004-07-07T00:00:00\",\"2004-07-08T00:00:00\",\"2004-07-09T00:00:00\",\"2004-07-12T00:00:00\",\"2004-07-13T00:00:00\",\"2004-07-14T00:00:00\",\"2004-07-15T00:00:00\",\"2004-07-16T00:00:00\",\"2004-07-19T00:00:00\",\"2004-07-20T00:00:00\",\"2004-07-21T00:00:00\",\"2004-07-22T00:00:00\",\"2004-07-23T00:00:00\",\"2004-07-26T00:00:00\",\"2004-07-27T00:00:00\",\"2004-07-28T00:00:00\",\"2004-07-29T00:00:00\",\"2004-07-30T00:00:00\",\"2004-08-02T00:00:00\",\"2004-08-03T00:00:00\",\"2004-08-04T00:00:00\",\"2004-08-05T00:00:00\",\"2004-08-06T00:00:00\",\"2004-08-09T00:00:00\",\"2004-08-10T00:00:00\",\"2004-08-11T00:00:00\",\"2004-08-12T00:00:00\",\"2004-08-13T00:00:00\",\"2004-08-16T00:00:00\",\"2004-08-17T00:00:00\",\"2004-08-18T00:00:00\",\"2004-08-19T00:00:00\",\"2004-08-20T00:00:00\",\"2004-08-23T00:00:00\",\"2004-08-24T00:00:00\",\"2004-08-25T00:00:00\",\"2004-08-26T00:00:00\",\"2004-08-27T00:00:00\",\"2004-08-30T00:00:00\",\"2004-08-31T00:00:00\",\"2004-09-01T00:00:00\",\"2004-09-02T00:00:00\",\"2004-09-03T00:00:00\",\"2004-09-07T00:00:00\",\"2004-09-08T00:00:00\",\"2004-09-09T00:00:00\",\"2004-09-10T00:00:00\",\"2004-09-13T00:00:00\",\"2004-09-14T00:00:00\",\"2004-09-15T00:00:00\",\"2004-09-16T00:00:00\",\"2004-09-17T00:00:00\",\"2004-09-20T00:00:00\",\"2004-09-21T00:00:00\",\"2004-09-22T00:00:00\",\"2004-09-23T00:00:00\",\"2004-09-24T00:00:00\",\"2004-09-27T00:00:00\",\"2004-09-28T00:00:00\",\"2004-09-29T00:00:00\",\"2004-09-30T00:00:00\",\"2004-10-01T00:00:00\",\"2004-10-04T00:00:00\",\"2004-10-05T00:00:00\",\"2004-10-06T00:00:00\",\"2004-10-07T00:00:00\",\"2004-10-08T00:00:00\",\"2004-10-11T00:00:00\",\"2004-10-12T00:00:00\",\"2004-10-13T00:00:00\",\"2004-10-14T00:00:00\",\"2004-10-15T00:00:00\",\"2004-10-18T00:00:00\",\"2004-10-19T00:00:00\",\"2004-10-20T00:00:00\",\"2004-10-21T00:00:00\",\"2004-10-22T00:00:00\",\"2004-10-25T00:00:00\",\"2004-10-26T00:00:00\",\"2004-10-27T00:00:00\",\"2004-10-28T00:00:00\",\"2004-10-29T00:00:00\",\"2004-11-01T00:00:00\",\"2004-11-02T00:00:00\",\"2004-11-03T00:00:00\",\"2004-11-04T00:00:00\",\"2004-11-05T00:00:00\",\"2004-11-08T00:00:00\",\"2004-11-09T00:00:00\",\"2004-11-10T00:00:00\",\"2004-11-11T00:00:00\",\"2004-11-12T00:00:00\",\"2004-11-15T00:00:00\",\"2004-11-16T00:00:00\",\"2004-11-17T00:00:00\",\"2004-11-18T00:00:00\",\"2004-11-19T00:00:00\",\"2004-11-22T00:00:00\",\"2004-11-23T00:00:00\",\"2004-11-24T00:00:00\",\"2004-11-26T00:00:00\",\"2004-11-29T00:00:00\",\"2004-11-30T00:00:00\",\"2004-12-01T00:00:00\",\"2004-12-02T00:00:00\",\"2004-12-03T00:00:00\",\"2004-12-06T00:00:00\",\"2004-12-07T00:00:00\",\"2004-12-08T00:00:00\",\"2004-12-09T00:00:00\",\"2004-12-10T00:00:00\",\"2004-12-13T00:00:00\",\"2004-12-14T00:00:00\",\"2004-12-15T00:00:00\",\"2004-12-16T00:00:00\",\"2004-12-17T00:00:00\",\"2004-12-20T00:00:00\",\"2004-12-21T00:00:00\",\"2004-12-22T00:00:00\",\"2004-12-23T00:00:00\",\"2004-12-27T00:00:00\",\"2004-12-28T00:00:00\",\"2004-12-29T00:00:00\",\"2004-12-30T00:00:00\",\"2004-12-31T00:00:00\",\"2005-01-03T00:00:00\",\"2005-01-04T00:00:00\",\"2005-01-05T00:00:00\",\"2005-01-06T00:00:00\",\"2005-01-07T00:00:00\",\"2005-01-10T00:00:00\",\"2005-01-11T00:00:00\",\"2005-01-12T00:00:00\",\"2005-01-13T00:00:00\",\"2005-01-14T00:00:00\",\"2005-01-18T00:00:00\",\"2005-01-19T00:00:00\",\"2005-01-20T00:00:00\",\"2005-01-21T00:00:00\",\"2005-01-24T00:00:00\",\"2005-01-25T00:00:00\",\"2005-01-26T00:00:00\",\"2005-01-27T00:00:00\",\"2005-01-28T00:00:00\",\"2005-01-31T00:00:00\",\"2005-02-01T00:00:00\",\"2005-02-02T00:00:00\",\"2005-02-03T00:00:00\",\"2005-02-04T00:00:00\",\"2005-02-07T00:00:00\",\"2005-02-08T00:00:00\",\"2005-02-09T00:00:00\",\"2005-02-10T00:00:00\",\"2005-02-11T00:00:00\",\"2005-02-14T00:00:00\",\"2005-02-15T00:00:00\",\"2005-02-16T00:00:00\",\"2005-02-17T00:00:00\",\"2005-02-18T00:00:00\",\"2005-02-22T00:00:00\",\"2005-02-23T00:00:00\",\"2005-02-24T00:00:00\",\"2005-02-25T00:00:00\",\"2005-02-28T00:00:00\",\"2005-03-01T00:00:00\",\"2005-03-02T00:00:00\",\"2005-03-03T00:00:00\",\"2005-03-04T00:00:00\",\"2005-03-07T00:00:00\",\"2005-03-08T00:00:00\",\"2005-03-09T00:00:00\",\"2005-03-10T00:00:00\",\"2005-03-11T00:00:00\",\"2005-03-14T00:00:00\",\"2005-03-15T00:00:00\",\"2005-03-16T00:00:00\",\"2005-03-17T00:00:00\",\"2005-03-18T00:00:00\",\"2005-03-21T00:00:00\",\"2005-03-22T00:00:00\",\"2005-03-23T00:00:00\",\"2005-03-24T00:00:00\",\"2005-03-28T00:00:00\",\"2005-03-29T00:00:00\",\"2005-03-30T00:00:00\",\"2005-03-31T00:00:00\",\"2005-04-01T00:00:00\",\"2005-04-04T00:00:00\",\"2005-04-05T00:00:00\",\"2005-04-06T00:00:00\",\"2005-04-07T00:00:00\",\"2005-04-08T00:00:00\",\"2005-04-11T00:00:00\",\"2005-04-12T00:00:00\",\"2005-04-13T00:00:00\",\"2005-04-14T00:00:00\",\"2005-04-15T00:00:00\",\"2005-04-18T00:00:00\",\"2005-04-19T00:00:00\",\"2005-04-20T00:00:00\",\"2005-04-21T00:00:00\",\"2005-04-22T00:00:00\",\"2005-04-25T00:00:00\",\"2005-04-26T00:00:00\",\"2005-04-27T00:00:00\",\"2005-04-28T00:00:00\",\"2005-04-29T00:00:00\",\"2005-05-02T00:00:00\",\"2005-05-03T00:00:00\",\"2005-05-04T00:00:00\",\"2005-05-05T00:00:00\",\"2005-05-06T00:00:00\",\"2005-05-09T00:00:00\",\"2005-05-10T00:00:00\",\"2005-05-11T00:00:00\",\"2005-05-12T00:00:00\",\"2005-05-13T00:00:00\",\"2005-05-16T00:00:00\",\"2005-05-17T00:00:00\",\"2005-05-18T00:00:00\",\"2005-05-19T00:00:00\",\"2005-05-20T00:00:00\",\"2005-05-23T00:00:00\",\"2005-05-24T00:00:00\",\"2005-05-25T00:00:00\",\"2005-05-26T00:00:00\",\"2005-05-27T00:00:00\",\"2005-05-31T00:00:00\",\"2005-06-01T00:00:00\",\"2005-06-02T00:00:00\",\"2005-06-03T00:00:00\",\"2005-06-06T00:00:00\",\"2005-06-07T00:00:00\",\"2005-06-08T00:00:00\",\"2005-06-09T00:00:00\",\"2005-06-10T00:00:00\",\"2005-06-13T00:00:00\",\"2005-06-14T00:00:00\",\"2005-06-15T00:00:00\",\"2005-06-16T00:00:00\",\"2005-06-17T00:00:00\",\"2005-06-20T00:00:00\",\"2005-06-21T00:00:00\",\"2005-06-22T00:00:00\",\"2005-06-23T00:00:00\",\"2005-06-24T00:00:00\",\"2005-06-27T00:00:00\",\"2005-06-28T00:00:00\",\"2005-06-29T00:00:00\",\"2005-06-30T00:00:00\",\"2005-07-01T00:00:00\",\"2005-07-05T00:00:00\",\"2005-07-06T00:00:00\",\"2005-07-07T00:00:00\",\"2005-07-08T00:00:00\",\"2005-07-09T00:00:00\",\"2005-07-10T00:00:00\",\"2005-07-11T00:00:00\",\"2005-07-12T00:00:00\",\"2005-07-13T00:00:00\",\"2005-07-14T00:00:00\",\"2005-07-15T00:00:00\",\"2005-07-16T00:00:00\",\"2005-07-17T00:00:00\",\"2005-07-18T00:00:00\",\"2005-07-19T00:00:00\",\"2005-07-20T00:00:00\",\"2005-07-21T00:00:00\",\"2005-07-22T00:00:00\",\"2005-07-23T00:00:00\",\"2005-07-24T00:00:00\",\"2005-07-25T00:00:00\",\"2005-07-26T00:00:00\",\"2005-07-27T00:00:00\",\"2005-07-28T00:00:00\",\"2005-07-29T00:00:00\",\"2005-07-30T00:00:00\",\"2005-07-31T00:00:00\",\"2005-08-01T00:00:00\",\"2005-08-02T00:00:00\",\"2005-08-03T00:00:00\",\"2005-08-04T00:00:00\",\"2005-08-05T00:00:00\",\"2005-08-06T00:00:00\",\"2005-08-07T00:00:00\",\"2005-08-08T00:00:00\",\"2005-08-09T00:00:00\",\"2005-08-10T00:00:00\",\"2005-08-11T00:00:00\",\"2005-08-12T00:00:00\",\"2005-08-13T00:00:00\",\"2005-08-14T00:00:00\",\"2005-08-15T00:00:00\",\"2005-08-16T00:00:00\",\"2005-08-17T00:00:00\",\"2005-08-18T00:00:00\",\"2005-08-19T00:00:00\",\"2005-08-20T00:00:00\",\"2005-08-21T00:00:00\",\"2005-08-22T00:00:00\",\"2005-08-23T00:00:00\",\"2005-08-24T00:00:00\",\"2005-08-25T00:00:00\",\"2005-08-26T00:00:00\",\"2005-08-27T00:00:00\",\"2005-08-28T00:00:00\",\"2005-08-29T00:00:00\",\"2005-08-30T00:00:00\",\"2005-08-31T00:00:00\",\"2005-09-01T00:00:00\",\"2005-09-02T00:00:00\",\"2005-09-03T00:00:00\",\"2005-09-04T00:00:00\",\"2005-09-05T00:00:00\",\"2005-09-06T00:00:00\",\"2005-09-07T00:00:00\",\"2005-09-08T00:00:00\",\"2005-09-09T00:00:00\",\"2005-09-10T00:00:00\",\"2005-09-11T00:00:00\",\"2005-09-12T00:00:00\",\"2005-09-13T00:00:00\",\"2005-09-14T00:00:00\",\"2005-09-15T00:00:00\",\"2005-09-16T00:00:00\",\"2005-09-17T00:00:00\",\"2005-09-18T00:00:00\",\"2005-09-19T00:00:00\",\"2005-09-20T00:00:00\",\"2005-09-21T00:00:00\",\"2005-09-22T00:00:00\",\"2005-09-23T00:00:00\",\"2005-09-24T00:00:00\",\"2005-09-25T00:00:00\",\"2005-09-26T00:00:00\",\"2005-09-27T00:00:00\",\"2005-09-28T00:00:00\",\"2005-09-29T00:00:00\",\"2005-09-30T00:00:00\",\"2005-10-01T00:00:00\",\"2005-10-02T00:00:00\",\"2005-10-03T00:00:00\",\"2005-10-04T00:00:00\",\"2005-10-05T00:00:00\",\"2005-10-06T00:00:00\",\"2005-10-07T00:00:00\",\"2005-10-08T00:00:00\",\"2005-10-09T00:00:00\",\"2005-10-10T00:00:00\",\"2005-10-11T00:00:00\",\"2005-10-12T00:00:00\",\"2005-10-13T00:00:00\",\"2005-10-14T00:00:00\",\"2005-10-15T00:00:00\",\"2005-10-16T00:00:00\",\"2005-10-17T00:00:00\",\"2005-10-18T00:00:00\",\"2005-10-19T00:00:00\",\"2005-10-20T00:00:00\",\"2005-10-21T00:00:00\",\"2005-10-22T00:00:00\",\"2005-10-23T00:00:00\",\"2005-10-24T00:00:00\",\"2005-10-25T00:00:00\",\"2005-10-26T00:00:00\",\"2005-10-27T00:00:00\",\"2005-10-28T00:00:00\",\"2005-10-29T00:00:00\",\"2005-10-30T00:00:00\",\"2005-10-31T00:00:00\",\"2005-11-01T00:00:00\",\"2005-11-02T00:00:00\",\"2005-11-03T00:00:00\",\"2005-11-04T00:00:00\",\"2005-11-05T00:00:00\",\"2005-11-06T00:00:00\",\"2005-11-07T00:00:00\",\"2005-11-08T00:00:00\",\"2005-11-09T00:00:00\",\"2005-11-10T00:00:00\",\"2005-11-11T00:00:00\",\"2005-11-12T00:00:00\",\"2005-11-13T00:00:00\",\"2005-11-14T00:00:00\",\"2005-11-15T00:00:00\",\"2005-11-16T00:00:00\",\"2005-11-17T00:00:00\",\"2005-11-18T00:00:00\",\"2005-11-19T00:00:00\",\"2005-11-20T00:00:00\",\"2005-11-21T00:00:00\",\"2005-11-22T00:00:00\",\"2005-11-23T00:00:00\",\"2005-11-24T00:00:00\",\"2005-11-25T00:00:00\",\"2005-11-26T00:00:00\",\"2005-11-27T00:00:00\",\"2005-11-28T00:00:00\",\"2005-11-29T00:00:00\",\"2005-11-30T00:00:00\",\"2005-12-01T00:00:00\",\"2005-12-02T00:00:00\"],\"y\":[16.34500743123082,16.379114238658634,16.360051745584222,16.38633529505864,16.31470916686701,16.32841413857361,16.29953392066935,16.284895395247496,16.17357267327002,16.187816501235847,16.119911988545716,16.053727528822208,15.998393352756144,15.956546331292135,15.911053812152826,15.770109952597178,15.713792057000722,15.647733227240328,15.750323044931378,15.640321916518714,15.59658429965214,15.587075031743744,15.619636521340734,15.64166549845123,15.649126278236432,15.68662214674182,15.799628041496721,15.826674369106836,15.722506584678817,15.84576134127697,16.044745919450545,16.071339560978352,16.041241327665436,16.095559197154365,16.12554702269474,16.194891333892848,16.201225820229872,16.29481984128628,16.27992624047606,16.297649275035955,16.283962021014048,16.36784914729698,16.33217333482028,16.317565116711602,16.320283029031078,16.298813088611325,16.299352824756458,16.271756851917004,16.207650669975216,16.29116683968932,16.244014946513293,16.21372019627679,16.28608761618702,16.19751272523641,16.241212526792072,16.193776236916015,16.245450634956075,16.218092820177556,16.136396289449472,16.257289649809508,16.26115726490441,16.289283299005547,16.36451762069627,16.38329983841959,16.491993464710053,16.399867649131462,16.579133388695436,16.651952050483374,16.60453072407053,16.708402166428545,16.71395560708521,16.80422139418565,16.855313967744724,16.822773978327366,16.93522829184745,16.921150846996643,17.00113951161868,17.067493523907903,16.94677539255948,17.050348097356885,17.03682720053235,17.11133363413242,17.034213756059046,17.04350362159816,17.10145543362839,17.054112725467636,17.140740994150878,17.11746650908139,17.095864845232224,17.165757015697935,17.154578413941184,17.23659461631615,17.22264595701944,17.19797587491,17.3445379548012,17.406228481720312,17.357674719003686,17.397170605358916,17.4596483923432,17.49708390022176,17.550982184894142,17.56038340598196,17.55158331030261,17.63420140748136,17.59386053420504,17.580021037864267,17.595408104274107,17.526485277564767,17.541312730554065,17.546022593692687,17.494341675672015,17.50074412736361,17.412733149617743,17.44767379560986,17.443108712064046,17.371529728211666,17.337717094613048,17.33222579856208,17.40569908286624,17.531549206673844,17.510726052169158,17.46195110468183,17.54566026519848,17.62194535935898,17.6642093998268,17.687889973948973,17.721725702765752,17.700465838186783,17.79065600236875,17.748888331709544,17.733019149112657,17.67518706788215,17.6000722869858,17.7017006138981,17.580668022391947,17.515611420272787,17.332173153588492,17.27126495132893,17.181833731849192,17.10542573274481,16.956387093359123,17.010991076873097,16.927188537845918,16.86903792372666,16.761629908863952,16.71681814197509,16.714310718768804,16.747341532035463,16.71262593928054,16.64778405764298,16.662849814609935,16.638011790516796,16.64247200109069,16.530253766564815,16.536982294801327,16.533092698976606,16.502093426041533,16.560634728082317,16.453063118975255,16.43197780931416,16.40855478873951,16.377890013236506,16.376966902062073,16.386752541977586,16.268243728364954,16.323273510657838,16.304255195282483,16.198782851463733,16.24513444635313,16.20312747072016,16.167896980319068,16.186246071653752,16.24068793467772,16.153474900705465,16.194985240527103,16.146265302053706,16.212764670148324,16.185917519833257,16.10635986149687,16.20950210002529,16.155106920952324,16.209560258000543,16.1903854092675,16.128472402779863,16.09000109084283,16.198872898563845,16.18902840839773,16.12902581873883,16.171659227969773,16.208179478356527,16.203531149284192,16.23306720794104,16.215059920971992,16.22490631987692,16.32563629720571,16.349458031280093,16.327979404443024,16.39758025606026,16.542361772761737,16.58794678439171,16.61091386064164,16.547400086977778,16.624727695777587,16.738978221370736,16.696384013826,16.695660044420652,16.78146068854296,16.715956110835226,16.72239565840273,16.771634317479318,16.77151513218841,16.727143442435242,16.800662101523887,16.63662011715572,16.66213213920928,16.711096318816356,16.65795604015877,16.617488259018515,16.575794123296774,16.593071470132966,16.57286362214607,16.576657864665698,16.514406953436612,16.531132369674054,16.52156742084046,16.503091807103154,16.5476674883636,16.540768621217797,16.573776057447734,16.620666865040004,16.57012605485651,16.549973530670993,16.68520920097629,16.64255707329589,16.73390692235952,16.74385036331019,16.690275644287933,16.809477310834993,16.87319610080987,16.863612993838295,16.94295257667046,16.931516191060705,17.04347517971924,17.170474469891754,17.20178284746308,17.262485184693183,17.278747100881354,17.522821944214567,17.56484106149926,17.66801420352983,17.649455101339374,17.799766807450407,17.861933401863176,17.866482825097375,17.9370930858146,17.861262588447858,17.869546947171557,17.956897357047882,17.852220888584952,17.843738542729056,17.716123353602466,17.696322834586134,17.718547556791517,17.664046024512174,17.583466809590245,17.472867070539905,17.327497292620034,17.298388299827803,17.264286993369776,17.24890831026449,17.17011505945685,17.2238261969167,17.11479786890183,17.075641519148803,17.13481101012501,17.119738339069965,17.193419321522796,17.265692576360905,17.245378559891435,17.252978861524774,17.19389717603701,17.43940803317123,17.46694722176377,17.524049111904326,17.51522013216559,17.511188274394783,17.65195839035875,17.707491426620592,17.818847309715938,17.777684089753382,17.716665360534833,17.79054904530958,17.767561618186978,17.828879273603267,17.765323604058803,17.800781325374842,17.733197775931654,17.738072014168722,17.702011453077724,17.63636117732134,17.736650877613723,17.611545812310762,17.637694648759194,17.63411402935583,17.540528540033076,17.57704570593619,17.626787141315635,17.532895985225103,17.536829063078432,17.542980784276708,17.55229437658153,17.537821201731354,17.609136269387346,17.614243017771557,17.57399508318043,17.69433955586721,17.722490920226665,17.801100970357552,17.800613702747164,17.802090992486757,17.900773742068584,17.954007060260853,17.95588349203539,17.926071456357178,17.93065701892502,18.030465462050785,18.16268547315031,18.17052368251668,18.169208258382813,18.125379811671344,18.16880429952118,18.182880690517315,18.1463061888737,18.218227595634563,18.116175732563402,18.133632582809916,18.14898107672018,18.175192410688254,18.1544991777136,18.090342381076255,18.123263274254686,18.107454912904732,18.241604206507038,18.158937971403997,18.21624782243834,18.293252337493726,18.235608814385415,18.329874321544565,18.313771712782327,18.30157439479849,18.437791262207043,18.38543359543465,18.46381589063498,18.49766651930807,18.48522793845827,18.416003415669575,18.428976127666285,18.471047557327616,18.381104782872946,18.34680169304458,18.366178395381223,18.283570769148294,18.339844974959945,18.255675186974134,18.299690371555187,18.21622149476275,18.196787932394933,18.221789572852412,18.124185372343476,18.24101332776448,18.191572509192216,18.30766147902389,18.225692183107206,18.377730500808333,18.378460954406208,18.457121126443063,18.432259893083156,18.569379889783104,18.603024503837254,18.57852554041148,18.55706976630792,18.53833726290539,18.57930820908659,18.48286602516362,18.532675107041864,18.47204225379592,18.388573207637577,18.227410927498465,18.169519218240413,18.114281437194297,18.027413733810345,17.886835741322667,17.81204105180536,17.776304975889396,17.747728753878153,17.660338990704854,17.618176393956794,17.51067050203909,17.518058017481483,17.49355305857972,17.44075491015088,17.366858025087843,17.435789226970822,17.42149608876397,17.394691315863433,17.37941162845432,17.35644840407573,17.31816964789207,17.303360802513332,17.335059413933642,17.218308689492876,17.221551289795354,17.252062603494874,17.25331665957516,17.128016727052035,17.166396497232757,17.04951522866388,17.163058617920843,17.077778248265957,17.04773632127855,17.036551625210897,17.00345365982224,17.013947208916175,16.974766841252038,16.895867896111188,16.97360021132335,16.929366231934807,17.00528692137384,16.99041236406276,16.9264712959192,16.987827907060367,16.9910509862371,17.0072392432904,17.003383927599938,16.94670480356382,16.95560450573566,16.930570574573828,16.983154631521142,17.000777967970706,16.889160861286463,17.02088035039007,16.997070341772687,16.955272991834402,16.961946349598158,17.073297973992887,17.083721284432595,17.175923756284966,17.138742825521312,17.086722918916895,17.254284238185665,17.2474537476143,17.34666069040873,17.386016096279583,17.349467074980097,17.475102810533805,17.471401929825213,17.520528540318463,17.47265975129699,17.56279683769914,17.551994655618632,17.511644338637538,17.589864991102456,17.53955590016559,17.482516186905112,17.520560747797127,17.45356147202792,17.46860666358395,17.466541561518532,17.34250356164046,17.396918672401778,17.390015119777512,17.370004534052864,17.348154005306217,17.33629058299931,17.29800856991255,17.29627656434518,17.308000427350525,17.26393674751693,17.208692523102343,17.41174546352868,17.435709247547173,17.33479779768013,17.34498102385196,17.46438272251427,17.412784910282358,17.51695290226086,17.501385726572348,17.54350806759866,17.64396081405834,17.650514526463844,17.717395814055845,17.650583418810093,17.87770919441879,17.893518378838404,17.910339092429577,18.03499304436336,18.022467928005174,18.179200620464727,18.25795282996382,18.32899514003929,18.379626451892488,18.39851019523091,18.63383060410352,18.600009289323125,18.64521350449157,18.65295437023804,18.761139892583493,18.63607103478425,18.674230563376394,18.611274640335985,18.627602661967163,18.5641726032168,18.491484000630397,18.454926814153204,18.372613644323366,18.350219523433264,18.20612324272541,18.174028678811325,18.181050057100972,18.00814470030399,17.97947859491695,17.95549366384538,17.91475158502327,17.956822146752383,17.916860269271503,17.866482646862707,17.911847338208556,17.953184135409543,18.023143567876804,18.030583753840517,18.046673691191337,18.207165891954542,18.185481820557357,18.212416725375597,18.31210834828633,18.24336703961519,18.407308003006875,18.450327952065027,18.48747463516675,18.54254959514627,18.466855830166132,18.530338698248404,18.59401101060327,18.59313978110674,18.54788613681137,18.524099450164826,18.609951464630576,18.53491580868536,18.58581318999429,18.490822336262855,18.536449024205215,18.498170477035504,18.413851181018345,18.35255222155389,18.386466849266593,18.46908741055127,18.433176710710637,18.39748626434089,18.449577489614548,18.37452263662655,18.461817497237735,18.47648758882334,18.453255226266066,18.391554191879486,18.441728476971537,18.57045713924412,18.62167568341746,18.662057956973044,18.675489218587302,18.660983304724553,18.817082495986433,18.858855741819596,18.94071001075023,18.880223909091068,18.912542971657537,18.99166602375071,19.03879880067419,19.102807664886946,19.099669669847806,19.142381035081808,19.211996283779012,19.21669645567521,19.220151419176148,19.212523209974087,19.234858406427804,19.231190649352868,19.265825185854556,19.265562696144247,19.22758279220723,19.17336808671874,19.21727878146093,19.297357301571544,19.233180400937552,19.287593295147186,19.234167341614445,19.352326783082294,19.404518760637703,19.434868934215377,19.42778118509769,19.435010516718158,19.52422499753878,19.60447178025443,19.597464658344798,19.61118147654224,19.659907306161166,19.679982891165075,19.60909984468331,19.615642429458326,19.645885147837742,19.684244507932668,19.606786661999845,19.607743297448824,19.573965749511284,19.587456856427387,19.532324562875864,19.539172679289177,19.518450167034334,19.506638249923046,19.45615977089112,19.508178216574155,19.50054115563592,19.482283861303188,19.487749854539125,19.5584947092454,19.654867368640055,19.71980515306874,19.72647352274098,19.668887818433117,19.81474357048618,19.832034139755333,19.840017386065416,19.76626511507705,19.74674091657083,19.861182470872386,19.718241288123224,19.818662020867638,19.722410095499345,19.743558721204938,19.50719892033279,19.501782474906808,19.420399417113167,19.338447828435047,19.227213451643443,19.163313270599847,19.11793625379231,19.02857557515384,18.981098956119787,18.883829055406714,18.85963011757385,18.827960011595405,18.792936797736992,18.794408764329912,18.72782818630488,18.74682345814488,18.75352155461101,18.705323198160258,18.62135796472483,18.700119397122872,18.64702159638685,18.674123367557385,18.632112118261475,18.637032013436972,18.512148360564726,18.49030562348544,18.52802603730202,18.41732776796708,18.402642273595365,18.421206495926338,18.37659348722389,18.35049520827298,18.368117010795746,18.234459215866213,18.290192289165226,18.230897090795292,18.241618464327534,18.21277378652667,18.25808487198213,18.161907064403895,18.221508472133355,18.22992253664968,18.18440229744518,18.205862466258896,18.22459490822889,18.32073439765528,18.25781676368485,18.271918014624607,18.28481192832368,18.23113995085992,18.192085807289388,18.15225016569624,18.23615570149931,18.217274402626657,18.24643658719037,18.187135150285712,18.19375277355738,18.313333451848482,18.33547188657161,18.38522121734166,18.443275189358612,18.372850487093146,18.516430270879788,18.554981491819497,18.525586226079568,18.584218034913143,18.516903799947613,18.658439412431168,18.75792694324868,18.74363968689076,18.747814710090548,18.695112449189224,18.830314074550316,18.812506090343728,18.8737355148394,18.875964837665325,18.745705395365547,18.73652564485753,18.740935433355325,18.716272066114925,18.701399497285127,18.62494253625797,18.69013905207375,18.63223752641065,18.673458321590957,18.57427695553421,18.533175465859106,18.599763987153608,18.602112215328148,18.617617961765873,18.48739500568028,18.49903345751108,18.643570234730312,18.58662538705166,18.619398360174873,18.591035504592966,18.68090313656385,18.682888358611734,18.69244820862891,18.71858055884587,18.71047277393333,18.753784460208674,18.840647036962036,18.861985261821758,18.902415663592727,18.89812512083871,19.112890257894403,19.066983754195697,19.128801911408246,19.156747246101776,19.222065252895373,19.37466151240166,19.438991322455003,19.510679484747687,19.590452206425134,19.57571186169768,19.86573901765116,19.840622895406174,19.86803203427322,19.90024002992021,20.766046299650608,20.82283662316903,19.971620547955105,19.872140166546114,19.875989292064,19.96938480994244,19.889411766837092,20.68835653829905,20.730500830294524,19.852118430806517,19.82454667680862,19.773304630876353,19.708994418504304,19.692463680904833,20.457637690043505,20.41911759570681,19.450466716048375,19.411180826035565,19.38952191957964,19.397057256046317,19.335129095399818,20.161940638706678,20.06722768703314,19.248618376728885,19.19346900363591,19.201653152891108,19.179523190511617,19.10998735172837,20.041947146760002,19.9852128464729,19.158829369474844,19.195337407512035,19.235348770362915,19.240279372790006,19.151693388094913,20.203142778085624,20.214201255924927,19.380630058456582,19.373186602429705,19.413640265246457,19.52059985220295,19.50684394560664,20.483147570576993,20.44427817357788,19.62675450903904,19.573322832997476,19.670871924118735,19.735860795157215,19.696803816039775,20.58013487688624,20.618993071168767,19.834444281196195,19.878593214641395,19.795807520791442,19.809658582758324,19.78474116744168,20.732315264391367,20.707041973727325,19.794665475349113,19.77214374402076,19.846993996626765,19.7960330530571,19.702102409535748,20.7099339094092,20.62146544929394,19.72419972627486,19.740945563725568,19.677853304855713,19.750480547901734,19.641540231744237,20.551881116409298,20.55575874631202,19.64229276082493,19.692393121270722,19.67115785829355,19.598226689014105,19.58159832122141,20.5269263767782,20.501407171860837,19.673366851997276,19.64462460876889,19.685666743298093,19.71831542771036,19.699704490415098,20.567241459206357,20.62794296056086,19.801242973573302,19.832435177731853,19.8396793137848,19.893857799467227,19.908953357325917,20.7995590782815,20.927414932906792,20.001717903993384,20.00363239268633,20.06355292736313,20.067878318946867,20.10349201055754,21.070458914578634,21.11680279864727,20.253942835404587,20.241469984735165,20.280952497295576,20.306820958371524,20.280649198500026,21.209078114033318,21.239985416626663,20.4037997598718,20.419045518298528,20.451951703000955,20.4954034482225,20.372482093517398,21.33548733638507,21.275631424550152,20.47779739732905,20.448774831631958,20.426430550735077,20.465645668430245,20.4171249513098,21.30644069753738,21.37589604261461,20.44467824040022,20.51062290946449,20.461980694155184,20.50543146282563,20.46527965656327,21.321422458385985,21.40288603858175,20.567298731257235,20.59165059606347,20.63316453802302,20.651195449844348,20.648922327054272,21.610864661184124,21.596227942123416,20.761348368338528,20.758705598373762,20.76919325055437,20.842309060834594,20.83050254269587,21.73627396081903,21.68962723659075,20.967209499772856,20.847200352968258,20.931121032431495,20.940232839706006,20.854861846119842],\"type\":\"scatter\"},{\"fill\":\"tonexty\",\"line\":{\"color\":\"#57b8ff\"},\"mode\":\"lines\",\"name\":\"Lower uncertainty interval\",\"x\":[\"2002-07-08T00:00:00\",\"2002-07-09T00:00:00\",\"2002-07-10T00:00:00\",\"2002-07-11T00:00:00\",\"2002-07-12T00:00:00\",\"2002-07-15T00:00:00\",\"2002-07-16T00:00:00\",\"2002-07-17T00:00:00\",\"2002-07-18T00:00:00\",\"2002-07-19T00:00:00\",\"2002-07-22T00:00:00\",\"2002-07-23T00:00:00\",\"2002-07-24T00:00:00\",\"2002-07-25T00:00:00\",\"2002-07-26T00:00:00\",\"2002-07-29T00:00:00\",\"2002-07-30T00:00:00\",\"2002-07-31T00:00:00\",\"2002-08-01T00:00:00\",\"2002-08-02T00:00:00\",\"2002-08-05T00:00:00\",\"2002-08-06T00:00:00\",\"2002-08-07T00:00:00\",\"2002-08-08T00:00:00\",\"2002-08-09T00:00:00\",\"2002-08-12T00:00:00\",\"2002-08-13T00:00:00\",\"2002-08-14T00:00:00\",\"2002-08-15T00:00:00\",\"2002-08-16T00:00:00\",\"2002-08-19T00:00:00\",\"2002-08-20T00:00:00\",\"2002-08-21T00:00:00\",\"2002-08-22T00:00:00\",\"2002-08-23T00:00:00\",\"2002-08-26T00:00:00\",\"2002-08-27T00:00:00\",\"2002-08-28T00:00:00\",\"2002-08-29T00:00:00\",\"2002-08-30T00:00:00\",\"2002-09-03T00:00:00\",\"2002-09-04T00:00:00\",\"2002-09-05T00:00:00\",\"2002-09-06T00:00:00\",\"2002-09-09T00:00:00\",\"2002-09-10T00:00:00\",\"2002-09-11T00:00:00\",\"2002-09-12T00:00:00\",\"2002-09-13T00:00:00\",\"2002-09-16T00:00:00\",\"2002-09-17T00:00:00\",\"2002-09-18T00:00:00\",\"2002-09-19T00:00:00\",\"2002-09-20T00:00:00\",\"2002-09-23T00:00:00\",\"2002-09-24T00:00:00\",\"2002-09-25T00:00:00\",\"2002-09-26T00:00:00\",\"2002-09-27T00:00:00\",\"2002-09-30T00:00:00\",\"2002-10-01T00:00:00\",\"2002-10-02T00:00:00\",\"2002-10-03T00:00:00\",\"2002-10-04T00:00:00\",\"2002-10-07T00:00:00\",\"2002-10-08T00:00:00\",\"2002-10-09T00:00:00\",\"2002-10-10T00:00:00\",\"2002-10-11T00:00:00\",\"2002-10-14T00:00:00\",\"2002-10-15T00:00:00\",\"2002-10-16T00:00:00\",\"2002-10-17T00:00:00\",\"2002-10-18T00:00:00\",\"2002-10-21T00:00:00\",\"2002-10-22T00:00:00\",\"2002-10-23T00:00:00\",\"2002-10-24T00:00:00\",\"2002-10-25T00:00:00\",\"2002-10-28T00:00:00\",\"2002-10-29T00:00:00\",\"2002-10-30T00:00:00\",\"2002-10-31T00:00:00\",\"2002-11-01T00:00:00\",\"2002-11-04T00:00:00\",\"2002-11-05T00:00:00\",\"2002-11-06T00:00:00\",\"2002-11-07T00:00:00\",\"2002-11-08T00:00:00\",\"2002-11-11T00:00:00\",\"2002-11-12T00:00:00\",\"2002-11-13T00:00:00\",\"2002-11-14T00:00:00\",\"2002-11-15T00:00:00\",\"2002-11-18T00:00:00\",\"2002-11-19T00:00:00\",\"2002-11-20T00:00:00\",\"2002-11-21T00:00:00\",\"2002-11-22T00:00:00\",\"2002-11-25T00:00:00\",\"2002-11-26T00:00:00\",\"2002-11-27T00:00:00\",\"2002-11-29T00:00:00\",\"2002-12-02T00:00:00\",\"2002-12-03T00:00:00\",\"2002-12-04T00:00:00\",\"2002-12-05T00:00:00\",\"2002-12-06T00:00:00\",\"2002-12-09T00:00:00\",\"2002-12-10T00:00:00\",\"2002-12-11T00:00:00\",\"2002-12-12T00:00:00\",\"2002-12-13T00:00:00\",\"2002-12-16T00:00:00\",\"2002-12-17T00:00:00\",\"2002-12-18T00:00:00\",\"2002-12-19T00:00:00\",\"2002-12-20T00:00:00\",\"2002-12-23T00:00:00\",\"2002-12-24T00:00:00\",\"2002-12-26T00:00:00\",\"2002-12-27T00:00:00\",\"2002-12-30T00:00:00\",\"2002-12-31T00:00:00\",\"2003-01-02T00:00:00\",\"2003-01-03T00:00:00\",\"2003-01-06T00:00:00\",\"2003-01-07T00:00:00\",\"2003-01-08T00:00:00\",\"2003-01-09T00:00:00\",\"2003-01-10T00:00:00\",\"2003-01-13T00:00:00\",\"2003-01-14T00:00:00\",\"2003-01-15T00:00:00\",\"2003-01-16T00:00:00\",\"2003-01-17T00:00:00\",\"2003-01-21T00:00:00\",\"2003-01-22T00:00:00\",\"2003-01-23T00:00:00\",\"2003-01-24T00:00:00\",\"2003-01-27T00:00:00\",\"2003-01-28T00:00:00\",\"2003-01-29T00:00:00\",\"2003-01-30T00:00:00\",\"2003-01-31T00:00:00\",\"2003-02-03T00:00:00\",\"2003-02-04T00:00:00\",\"2003-02-05T00:00:00\",\"2003-02-06T00:00:00\",\"2003-02-07T00:00:00\",\"2003-02-10T00:00:00\",\"2003-02-11T00:00:00\",\"2003-02-12T00:00:00\",\"2003-02-13T00:00:00\",\"2003-02-14T00:00:00\",\"2003-02-18T00:00:00\",\"2003-02-19T00:00:00\",\"2003-02-20T00:00:00\",\"2003-02-21T00:00:00\",\"2003-02-24T00:00:00\",\"2003-02-25T00:00:00\",\"2003-02-26T00:00:00\",\"2003-02-27T00:00:00\",\"2003-02-28T00:00:00\",\"2003-03-03T00:00:00\",\"2003-03-04T00:00:00\",\"2003-03-05T00:00:00\",\"2003-03-06T00:00:00\",\"2003-03-07T00:00:00\",\"2003-03-10T00:00:00\",\"2003-03-11T00:00:00\",\"2003-03-12T00:00:00\",\"2003-03-13T00:00:00\",\"2003-03-14T00:00:00\",\"2003-03-17T00:00:00\",\"2003-03-18T00:00:00\",\"2003-03-19T00:00:00\",\"2003-03-20T00:00:00\",\"2003-03-21T00:00:00\",\"2003-03-24T00:00:00\",\"2003-03-25T00:00:00\",\"2003-03-26T00:00:00\",\"2003-03-27T00:00:00\",\"2003-03-28T00:00:00\",\"2003-03-31T00:00:00\",\"2003-04-01T00:00:00\",\"2003-04-02T00:00:00\",\"2003-04-03T00:00:00\",\"2003-04-04T00:00:00\",\"2003-04-07T00:00:00\",\"2003-04-08T00:00:00\",\"2003-04-09T00:00:00\",\"2003-04-10T00:00:00\",\"2003-04-11T00:00:00\",\"2003-04-14T00:00:00\",\"2003-04-15T00:00:00\",\"2003-04-16T00:00:00\",\"2003-04-17T00:00:00\",\"2003-04-21T00:00:00\",\"2003-04-22T00:00:00\",\"2003-04-23T00:00:00\",\"2003-04-24T00:00:00\",\"2003-04-25T00:00:00\",\"2003-04-28T00:00:00\",\"2003-04-29T00:00:00\",\"2003-04-30T00:00:00\",\"2003-05-01T00:00:00\",\"2003-05-02T00:00:00\",\"2003-05-05T00:00:00\",\"2003-05-06T00:00:00\",\"2003-05-07T00:00:00\",\"2003-05-08T00:00:00\",\"2003-05-09T00:00:00\",\"2003-05-12T00:00:00\",\"2003-05-13T00:00:00\",\"2003-05-14T00:00:00\",\"2003-05-15T00:00:00\",\"2003-05-16T00:00:00\",\"2003-05-19T00:00:00\",\"2003-05-20T00:00:00\",\"2003-05-21T00:00:00\",\"2003-05-22T00:00:00\",\"2003-05-23T00:00:00\",\"2003-05-27T00:00:00\",\"2003-05-28T00:00:00\",\"2003-05-29T00:00:00\",\"2003-05-30T00:00:00\",\"2003-06-02T00:00:00\",\"2003-06-03T00:00:00\",\"2003-06-04T00:00:00\",\"2003-06-05T00:00:00\",\"2003-06-06T00:00:00\",\"2003-06-09T00:00:00\",\"2003-06-10T00:00:00\",\"2003-06-11T00:00:00\",\"2003-06-12T00:00:00\",\"2003-06-13T00:00:00\",\"2003-06-16T00:00:00\",\"2003-06-17T00:00:00\",\"2003-06-18T00:00:00\",\"2003-06-19T00:00:00\",\"2003-06-20T00:00:00\",\"2003-06-23T00:00:00\",\"2003-06-24T00:00:00\",\"2003-06-25T00:00:00\",\"2003-06-26T00:00:00\",\"2003-06-27T00:00:00\",\"2003-06-30T00:00:00\",\"2003-07-01T00:00:00\",\"2003-07-02T00:00:00\",\"2003-07-03T00:00:00\",\"2003-07-07T00:00:00\",\"2003-07-08T00:00:00\",\"2003-07-09T00:00:00\",\"2003-07-10T00:00:00\",\"2003-07-11T00:00:00\",\"2003-07-14T00:00:00\",\"2003-07-15T00:00:00\",\"2003-07-16T00:00:00\",\"2003-07-17T00:00:00\",\"2003-07-18T00:00:00\",\"2003-07-21T00:00:00\",\"2003-07-22T00:00:00\",\"2003-07-23T00:00:00\",\"2003-07-24T00:00:00\",\"2003-07-25T00:00:00\",\"2003-07-28T00:00:00\",\"2003-07-29T00:00:00\",\"2003-07-30T00:00:00\",\"2003-07-31T00:00:00\",\"2003-08-01T00:00:00\",\"2003-08-04T00:00:00\",\"2003-08-05T00:00:00\",\"2003-08-06T00:00:00\",\"2003-08-07T00:00:00\",\"2003-08-08T00:00:00\",\"2003-08-11T00:00:00\",\"2003-08-12T00:00:00\",\"2003-08-13T00:00:00\",\"2003-08-14T00:00:00\",\"2003-08-15T00:00:00\",\"2003-08-18T00:00:00\",\"2003-08-19T00:00:00\",\"2003-08-20T00:00:00\",\"2003-08-21T00:00:00\",\"2003-08-22T00:00:00\",\"2003-08-25T00:00:00\",\"2003-08-26T00:00:00\",\"2003-08-27T00:00:00\",\"2003-08-28T00:00:00\",\"2003-08-29T00:00:00\",\"2003-09-02T00:00:00\",\"2003-09-03T00:00:00\",\"2003-09-04T00:00:00\",\"2003-09-05T00:00:00\",\"2003-09-08T00:00:00\",\"2003-09-09T00:00:00\",\"2003-09-10T00:00:00\",\"2003-09-11T00:00:00\",\"2003-09-12T00:00:00\",\"2003-09-15T00:00:00\",\"2003-09-16T00:00:00\",\"2003-09-17T00:00:00\",\"2003-09-18T00:00:00\",\"2003-09-19T00:00:00\",\"2003-09-22T00:00:00\",\"2003-09-23T00:00:00\",\"2003-09-24T00:00:00\",\"2003-09-25T00:00:00\",\"2003-09-26T00:00:00\",\"2003-09-29T00:00:00\",\"2003-09-30T00:00:00\",\"2003-10-01T00:00:00\",\"2003-10-02T00:00:00\",\"2003-10-03T00:00:00\",\"2003-10-06T00:00:00\",\"2003-10-07T00:00:00\",\"2003-10-08T00:00:00\",\"2003-10-09T00:00:00\",\"2003-10-10T00:00:00\",\"2003-10-13T00:00:00\",\"2003-10-14T00:00:00\",\"2003-10-15T00:00:00\",\"2003-10-16T00:00:00\",\"2003-10-17T00:00:00\",\"2003-10-20T00:00:00\",\"2003-10-21T00:00:00\",\"2003-10-22T00:00:00\",\"2003-10-23T00:00:00\",\"2003-10-24T00:00:00\",\"2003-10-27T00:00:00\",\"2003-10-28T00:00:00\",\"2003-10-29T00:00:00\",\"2003-10-30T00:00:00\",\"2003-10-31T00:00:00\",\"2003-11-03T00:00:00\",\"2003-11-04T00:00:00\",\"2003-11-05T00:00:00\",\"2003-11-06T00:00:00\",\"2003-11-07T00:00:00\",\"2003-11-10T00:00:00\",\"2003-11-11T00:00:00\",\"2003-11-12T00:00:00\",\"2003-11-13T00:00:00\",\"2003-11-14T00:00:00\",\"2003-11-17T00:00:00\",\"2003-11-18T00:00:00\",\"2003-11-19T00:00:00\",\"2003-11-20T00:00:00\",\"2003-11-21T00:00:00\",\"2003-11-24T00:00:00\",\"2003-11-25T00:00:00\",\"2003-11-26T00:00:00\",\"2003-11-28T00:00:00\",\"2003-12-01T00:00:00\",\"2003-12-02T00:00:00\",\"2003-12-03T00:00:00\",\"2003-12-04T00:00:00\",\"2003-12-05T00:00:00\",\"2003-12-08T00:00:00\",\"2003-12-09T00:00:00\",\"2003-12-10T00:00:00\",\"2003-12-11T00:00:00\",\"2003-12-12T00:00:00\",\"2003-12-15T00:00:00\",\"2003-12-16T00:00:00\",\"2003-12-17T00:00:00\",\"2003-12-18T00:00:00\",\"2003-12-19T00:00:00\",\"2003-12-22T00:00:00\",\"2003-12-23T00:00:00\",\"2003-12-24T00:00:00\",\"2003-12-26T00:00:00\",\"2003-12-29T00:00:00\",\"2003-12-30T00:00:00\",\"2003-12-31T00:00:00\",\"2004-01-02T00:00:00\",\"2004-01-05T00:00:00\",\"2004-01-06T00:00:00\",\"2004-01-07T00:00:00\",\"2004-01-08T00:00:00\",\"2004-01-09T00:00:00\",\"2004-01-12T00:00:00\",\"2004-01-13T00:00:00\",\"2004-01-14T00:00:00\",\"2004-01-15T00:00:00\",\"2004-01-16T00:00:00\",\"2004-01-20T00:00:00\",\"2004-01-21T00:00:00\",\"2004-01-22T00:00:00\",\"2004-01-23T00:00:00\",\"2004-01-26T00:00:00\",\"2004-01-27T00:00:00\",\"2004-01-28T00:00:00\",\"2004-01-29T00:00:00\",\"2004-01-30T00:00:00\",\"2004-02-02T00:00:00\",\"2004-02-03T00:00:00\",\"2004-02-04T00:00:00\",\"2004-02-05T00:00:00\",\"2004-02-06T00:00:00\",\"2004-02-09T00:00:00\",\"2004-02-10T00:00:00\",\"2004-02-11T00:00:00\",\"2004-02-12T00:00:00\",\"2004-02-13T00:00:00\",\"2004-02-17T00:00:00\",\"2004-02-18T00:00:00\",\"2004-02-19T00:00:00\",\"2004-02-20T00:00:00\",\"2004-02-23T00:00:00\",\"2004-02-24T00:00:00\",\"2004-02-25T00:00:00\",\"2004-02-26T00:00:00\",\"2004-02-27T00:00:00\",\"2004-03-01T00:00:00\",\"2004-03-02T00:00:00\",\"2004-03-03T00:00:00\",\"2004-03-04T00:00:00\",\"2004-03-05T00:00:00\",\"2004-03-08T00:00:00\",\"2004-03-09T00:00:00\",\"2004-03-10T00:00:00\",\"2004-03-11T00:00:00\",\"2004-03-12T00:00:00\",\"2004-03-15T00:00:00\",\"2004-03-16T00:00:00\",\"2004-03-17T00:00:00\",\"2004-03-18T00:00:00\",\"2004-03-19T00:00:00\",\"2004-03-22T00:00:00\",\"2004-03-23T00:00:00\",\"2004-03-24T00:00:00\",\"2004-03-25T00:00:00\",\"2004-03-26T00:00:00\",\"2004-03-29T00:00:00\",\"2004-03-30T00:00:00\",\"2004-03-31T00:00:00\",\"2004-04-01T00:00:00\",\"2004-04-02T00:00:00\",\"2004-04-05T00:00:00\",\"2004-04-06T00:00:00\",\"2004-04-07T00:00:00\",\"2004-04-08T00:00:00\",\"2004-04-12T00:00:00\",\"2004-04-13T00:00:00\",\"2004-04-14T00:00:00\",\"2004-04-15T00:00:00\",\"2004-04-16T00:00:00\",\"2004-04-19T00:00:00\",\"2004-04-20T00:00:00\",\"2004-04-21T00:00:00\",\"2004-04-22T00:00:00\",\"2004-04-23T00:00:00\",\"2004-04-26T00:00:00\",\"2004-04-27T00:00:00\",\"2004-04-28T00:00:00\",\"2004-04-29T00:00:00\",\"2004-04-30T00:00:00\",\"2004-05-03T00:00:00\",\"2004-05-04T00:00:00\",\"2004-05-05T00:00:00\",\"2004-05-06T00:00:00\",\"2004-05-07T00:00:00\",\"2004-05-10T00:00:00\",\"2004-05-11T00:00:00\",\"2004-05-12T00:00:00\",\"2004-05-13T00:00:00\",\"2004-05-14T00:00:00\",\"2004-05-17T00:00:00\",\"2004-05-18T00:00:00\",\"2004-05-19T00:00:00\",\"2004-05-20T00:00:00\",\"2004-05-21T00:00:00\",\"2004-05-24T00:00:00\",\"2004-05-25T00:00:00\",\"2004-05-26T00:00:00\",\"2004-05-27T00:00:00\",\"2004-05-28T00:00:00\",\"2004-06-01T00:00:00\",\"2004-06-02T00:00:00\",\"2004-06-03T00:00:00\",\"2004-06-04T00:00:00\",\"2004-06-07T00:00:00\",\"2004-06-08T00:00:00\",\"2004-06-09T00:00:00\",\"2004-06-10T00:00:00\",\"2004-06-14T00:00:00\",\"2004-06-15T00:00:00\",\"2004-06-16T00:00:00\",\"2004-06-17T00:00:00\",\"2004-06-18T00:00:00\",\"2004-06-21T00:00:00\",\"2004-06-22T00:00:00\",\"2004-06-23T00:00:00\",\"2004-06-24T00:00:00\",\"2004-06-25T00:00:00\",\"2004-06-28T00:00:00\",\"2004-06-29T00:00:00\",\"2004-06-30T00:00:00\",\"2004-07-01T00:00:00\",\"2004-07-02T00:00:00\",\"2004-07-06T00:00:00\",\"2004-07-07T00:00:00\",\"2004-07-08T00:00:00\",\"2004-07-09T00:00:00\",\"2004-07-12T00:00:00\",\"2004-07-13T00:00:00\",\"2004-07-14T00:00:00\",\"2004-07-15T00:00:00\",\"2004-07-16T00:00:00\",\"2004-07-19T00:00:00\",\"2004-07-20T00:00:00\",\"2004-07-21T00:00:00\",\"2004-07-22T00:00:00\",\"2004-07-23T00:00:00\",\"2004-07-26T00:00:00\",\"2004-07-27T00:00:00\",\"2004-07-28T00:00:00\",\"2004-07-29T00:00:00\",\"2004-07-30T00:00:00\",\"2004-08-02T00:00:00\",\"2004-08-03T00:00:00\",\"2004-08-04T00:00:00\",\"2004-08-05T00:00:00\",\"2004-08-06T00:00:00\",\"2004-08-09T00:00:00\",\"2004-08-10T00:00:00\",\"2004-08-11T00:00:00\",\"2004-08-12T00:00:00\",\"2004-08-13T00:00:00\",\"2004-08-16T00:00:00\",\"2004-08-17T00:00:00\",\"2004-08-18T00:00:00\",\"2004-08-19T00:00:00\",\"2004-08-20T00:00:00\",\"2004-08-23T00:00:00\",\"2004-08-24T00:00:00\",\"2004-08-25T00:00:00\",\"2004-08-26T00:00:00\",\"2004-08-27T00:00:00\",\"2004-08-30T00:00:00\",\"2004-08-31T00:00:00\",\"2004-09-01T00:00:00\",\"2004-09-02T00:00:00\",\"2004-09-03T00:00:00\",\"2004-09-07T00:00:00\",\"2004-09-08T00:00:00\",\"2004-09-09T00:00:00\",\"2004-09-10T00:00:00\",\"2004-09-13T00:00:00\",\"2004-09-14T00:00:00\",\"2004-09-15T00:00:00\",\"2004-09-16T00:00:00\",\"2004-09-17T00:00:00\",\"2004-09-20T00:00:00\",\"2004-09-21T00:00:00\",\"2004-09-22T00:00:00\",\"2004-09-23T00:00:00\",\"2004-09-24T00:00:00\",\"2004-09-27T00:00:00\",\"2004-09-28T00:00:00\",\"2004-09-29T00:00:00\",\"2004-09-30T00:00:00\",\"2004-10-01T00:00:00\",\"2004-10-04T00:00:00\",\"2004-10-05T00:00:00\",\"2004-10-06T00:00:00\",\"2004-10-07T00:00:00\",\"2004-10-08T00:00:00\",\"2004-10-11T00:00:00\",\"2004-10-12T00:00:00\",\"2004-10-13T00:00:00\",\"2004-10-14T00:00:00\",\"2004-10-15T00:00:00\",\"2004-10-18T00:00:00\",\"2004-10-19T00:00:00\",\"2004-10-20T00:00:00\",\"2004-10-21T00:00:00\",\"2004-10-22T00:00:00\",\"2004-10-25T00:00:00\",\"2004-10-26T00:00:00\",\"2004-10-27T00:00:00\",\"2004-10-28T00:00:00\",\"2004-10-29T00:00:00\",\"2004-11-01T00:00:00\",\"2004-11-02T00:00:00\",\"2004-11-03T00:00:00\",\"2004-11-04T00:00:00\",\"2004-11-05T00:00:00\",\"2004-11-08T00:00:00\",\"2004-11-09T00:00:00\",\"2004-11-10T00:00:00\",\"2004-11-11T00:00:00\",\"2004-11-12T00:00:00\",\"2004-11-15T00:00:00\",\"2004-11-16T00:00:00\",\"2004-11-17T00:00:00\",\"2004-11-18T00:00:00\",\"2004-11-19T00:00:00\",\"2004-11-22T00:00:00\",\"2004-11-23T00:00:00\",\"2004-11-24T00:00:00\",\"2004-11-26T00:00:00\",\"2004-11-29T00:00:00\",\"2004-11-30T00:00:00\",\"2004-12-01T00:00:00\",\"2004-12-02T00:00:00\",\"2004-12-03T00:00:00\",\"2004-12-06T00:00:00\",\"2004-12-07T00:00:00\",\"2004-12-08T00:00:00\",\"2004-12-09T00:00:00\",\"2004-12-10T00:00:00\",\"2004-12-13T00:00:00\",\"2004-12-14T00:00:00\",\"2004-12-15T00:00:00\",\"2004-12-16T00:00:00\",\"2004-12-17T00:00:00\",\"2004-12-20T00:00:00\",\"2004-12-21T00:00:00\",\"2004-12-22T00:00:00\",\"2004-12-23T00:00:00\",\"2004-12-27T00:00:00\",\"2004-12-28T00:00:00\",\"2004-12-29T00:00:00\",\"2004-12-30T00:00:00\",\"2004-12-31T00:00:00\",\"2005-01-03T00:00:00\",\"2005-01-04T00:00:00\",\"2005-01-05T00:00:00\",\"2005-01-06T00:00:00\",\"2005-01-07T00:00:00\",\"2005-01-10T00:00:00\",\"2005-01-11T00:00:00\",\"2005-01-12T00:00:00\",\"2005-01-13T00:00:00\",\"2005-01-14T00:00:00\",\"2005-01-18T00:00:00\",\"2005-01-19T00:00:00\",\"2005-01-20T00:00:00\",\"2005-01-21T00:00:00\",\"2005-01-24T00:00:00\",\"2005-01-25T00:00:00\",\"2005-01-26T00:00:00\",\"2005-01-27T00:00:00\",\"2005-01-28T00:00:00\",\"2005-01-31T00:00:00\",\"2005-02-01T00:00:00\",\"2005-02-02T00:00:00\",\"2005-02-03T00:00:00\",\"2005-02-04T00:00:00\",\"2005-02-07T00:00:00\",\"2005-02-08T00:00:00\",\"2005-02-09T00:00:00\",\"2005-02-10T00:00:00\",\"2005-02-11T00:00:00\",\"2005-02-14T00:00:00\",\"2005-02-15T00:00:00\",\"2005-02-16T00:00:00\",\"2005-02-17T00:00:00\",\"2005-02-18T00:00:00\",\"2005-02-22T00:00:00\",\"2005-02-23T00:00:00\",\"2005-02-24T00:00:00\",\"2005-02-25T00:00:00\",\"2005-02-28T00:00:00\",\"2005-03-01T00:00:00\",\"2005-03-02T00:00:00\",\"2005-03-03T00:00:00\",\"2005-03-04T00:00:00\",\"2005-03-07T00:00:00\",\"2005-03-08T00:00:00\",\"2005-03-09T00:00:00\",\"2005-03-10T00:00:00\",\"2005-03-11T00:00:00\",\"2005-03-14T00:00:00\",\"2005-03-15T00:00:00\",\"2005-03-16T00:00:00\",\"2005-03-17T00:00:00\",\"2005-03-18T00:00:00\",\"2005-03-21T00:00:00\",\"2005-03-22T00:00:00\",\"2005-03-23T00:00:00\",\"2005-03-24T00:00:00\",\"2005-03-28T00:00:00\",\"2005-03-29T00:00:00\",\"2005-03-30T00:00:00\",\"2005-03-31T00:00:00\",\"2005-04-01T00:00:00\",\"2005-04-04T00:00:00\",\"2005-04-05T00:00:00\",\"2005-04-06T00:00:00\",\"2005-04-07T00:00:00\",\"2005-04-08T00:00:00\",\"2005-04-11T00:00:00\",\"2005-04-12T00:00:00\",\"2005-04-13T00:00:00\",\"2005-04-14T00:00:00\",\"2005-04-15T00:00:00\",\"2005-04-18T00:00:00\",\"2005-04-19T00:00:00\",\"2005-04-20T00:00:00\",\"2005-04-21T00:00:00\",\"2005-04-22T00:00:00\",\"2005-04-25T00:00:00\",\"2005-04-26T00:00:00\",\"2005-04-27T00:00:00\",\"2005-04-28T00:00:00\",\"2005-04-29T00:00:00\",\"2005-05-02T00:00:00\",\"2005-05-03T00:00:00\",\"2005-05-04T00:00:00\",\"2005-05-05T00:00:00\",\"2005-05-06T00:00:00\",\"2005-05-09T00:00:00\",\"2005-05-10T00:00:00\",\"2005-05-11T00:00:00\",\"2005-05-12T00:00:00\",\"2005-05-13T00:00:00\",\"2005-05-16T00:00:00\",\"2005-05-17T00:00:00\",\"2005-05-18T00:00:00\",\"2005-05-19T00:00:00\",\"2005-05-20T00:00:00\",\"2005-05-23T00:00:00\",\"2005-05-24T00:00:00\",\"2005-05-25T00:00:00\",\"2005-05-26T00:00:00\",\"2005-05-27T00:00:00\",\"2005-05-31T00:00:00\",\"2005-06-01T00:00:00\",\"2005-06-02T00:00:00\",\"2005-06-03T00:00:00\",\"2005-06-06T00:00:00\",\"2005-06-07T00:00:00\",\"2005-06-08T00:00:00\",\"2005-06-09T00:00:00\",\"2005-06-10T00:00:00\",\"2005-06-13T00:00:00\",\"2005-06-14T00:00:00\",\"2005-06-15T00:00:00\",\"2005-06-16T00:00:00\",\"2005-06-17T00:00:00\",\"2005-06-20T00:00:00\",\"2005-06-21T00:00:00\",\"2005-06-22T00:00:00\",\"2005-06-23T00:00:00\",\"2005-06-24T00:00:00\",\"2005-06-27T00:00:00\",\"2005-06-28T00:00:00\",\"2005-06-29T00:00:00\",\"2005-06-30T00:00:00\",\"2005-07-01T00:00:00\",\"2005-07-05T00:00:00\",\"2005-07-06T00:00:00\",\"2005-07-07T00:00:00\",\"2005-07-08T00:00:00\",\"2005-07-09T00:00:00\",\"2005-07-10T00:00:00\",\"2005-07-11T00:00:00\",\"2005-07-12T00:00:00\",\"2005-07-13T00:00:00\",\"2005-07-14T00:00:00\",\"2005-07-15T00:00:00\",\"2005-07-16T00:00:00\",\"2005-07-17T00:00:00\",\"2005-07-18T00:00:00\",\"2005-07-19T00:00:00\",\"2005-07-20T00:00:00\",\"2005-07-21T00:00:00\",\"2005-07-22T00:00:00\",\"2005-07-23T00:00:00\",\"2005-07-24T00:00:00\",\"2005-07-25T00:00:00\",\"2005-07-26T00:00:00\",\"2005-07-27T00:00:00\",\"2005-07-28T00:00:00\",\"2005-07-29T00:00:00\",\"2005-07-30T00:00:00\",\"2005-07-31T00:00:00\",\"2005-08-01T00:00:00\",\"2005-08-02T00:00:00\",\"2005-08-03T00:00:00\",\"2005-08-04T00:00:00\",\"2005-08-05T00:00:00\",\"2005-08-06T00:00:00\",\"2005-08-07T00:00:00\",\"2005-08-08T00:00:00\",\"2005-08-09T00:00:00\",\"2005-08-10T00:00:00\",\"2005-08-11T00:00:00\",\"2005-08-12T00:00:00\",\"2005-08-13T00:00:00\",\"2005-08-14T00:00:00\",\"2005-08-15T00:00:00\",\"2005-08-16T00:00:00\",\"2005-08-17T00:00:00\",\"2005-08-18T00:00:00\",\"2005-08-19T00:00:00\",\"2005-08-20T00:00:00\",\"2005-08-21T00:00:00\",\"2005-08-22T00:00:00\",\"2005-08-23T00:00:00\",\"2005-08-24T00:00:00\",\"2005-08-25T00:00:00\",\"2005-08-26T00:00:00\",\"2005-08-27T00:00:00\",\"2005-08-28T00:00:00\",\"2005-08-29T00:00:00\",\"2005-08-30T00:00:00\",\"2005-08-31T00:00:00\",\"2005-09-01T00:00:00\",\"2005-09-02T00:00:00\",\"2005-09-03T00:00:00\",\"2005-09-04T00:00:00\",\"2005-09-05T00:00:00\",\"2005-09-06T00:00:00\",\"2005-09-07T00:00:00\",\"2005-09-08T00:00:00\",\"2005-09-09T00:00:00\",\"2005-09-10T00:00:00\",\"2005-09-11T00:00:00\",\"2005-09-12T00:00:00\",\"2005-09-13T00:00:00\",\"2005-09-14T00:00:00\",\"2005-09-15T00:00:00\",\"2005-09-16T00:00:00\",\"2005-09-17T00:00:00\",\"2005-09-18T00:00:00\",\"2005-09-19T00:00:00\",\"2005-09-20T00:00:00\",\"2005-09-21T00:00:00\",\"2005-09-22T00:00:00\",\"2005-09-23T00:00:00\",\"2005-09-24T00:00:00\",\"2005-09-25T00:00:00\",\"2005-09-26T00:00:00\",\"2005-09-27T00:00:00\",\"2005-09-28T00:00:00\",\"2005-09-29T00:00:00\",\"2005-09-30T00:00:00\",\"2005-10-01T00:00:00\",\"2005-10-02T00:00:00\",\"2005-10-03T00:00:00\",\"2005-10-04T00:00:00\",\"2005-10-05T00:00:00\",\"2005-10-06T00:00:00\",\"2005-10-07T00:00:00\",\"2005-10-08T00:00:00\",\"2005-10-09T00:00:00\",\"2005-10-10T00:00:00\",\"2005-10-11T00:00:00\",\"2005-10-12T00:00:00\",\"2005-10-13T00:00:00\",\"2005-10-14T00:00:00\",\"2005-10-15T00:00:00\",\"2005-10-16T00:00:00\",\"2005-10-17T00:00:00\",\"2005-10-18T00:00:00\",\"2005-10-19T00:00:00\",\"2005-10-20T00:00:00\",\"2005-10-21T00:00:00\",\"2005-10-22T00:00:00\",\"2005-10-23T00:00:00\",\"2005-10-24T00:00:00\",\"2005-10-25T00:00:00\",\"2005-10-26T00:00:00\",\"2005-10-27T00:00:00\",\"2005-10-28T00:00:00\",\"2005-10-29T00:00:00\",\"2005-10-30T00:00:00\",\"2005-10-31T00:00:00\",\"2005-11-01T00:00:00\",\"2005-11-02T00:00:00\",\"2005-11-03T00:00:00\",\"2005-11-04T00:00:00\",\"2005-11-05T00:00:00\",\"2005-11-06T00:00:00\",\"2005-11-07T00:00:00\",\"2005-11-08T00:00:00\",\"2005-11-09T00:00:00\",\"2005-11-10T00:00:00\",\"2005-11-11T00:00:00\",\"2005-11-12T00:00:00\",\"2005-11-13T00:00:00\",\"2005-11-14T00:00:00\",\"2005-11-15T00:00:00\",\"2005-11-16T00:00:00\",\"2005-11-17T00:00:00\",\"2005-11-18T00:00:00\",\"2005-11-19T00:00:00\",\"2005-11-20T00:00:00\",\"2005-11-21T00:00:00\",\"2005-11-22T00:00:00\",\"2005-11-23T00:00:00\",\"2005-11-24T00:00:00\",\"2005-11-25T00:00:00\",\"2005-11-26T00:00:00\",\"2005-11-27T00:00:00\",\"2005-11-28T00:00:00\",\"2005-11-29T00:00:00\",\"2005-11-30T00:00:00\",\"2005-12-01T00:00:00\",\"2005-12-02T00:00:00\"],\"y\":[14.612295493263584,14.746168126157587,14.787490664705283,14.761189102429903,14.710495372300585,14.752755277681183,14.749057942871813,14.717074176027872,14.606870848499511,14.602617756931357,14.472620331898929,14.414413182390811,14.371594408882661,14.33704002674004,14.289039337462306,14.158011324837437,14.074220893030713,14.111323711104168,14.034465152030258,13.958051010935714,13.985386977103218,14.018068893157674,14.046444237538067,13.94555610829159,14.032611805984232,14.08305600420769,14.208699645242506,14.208705511574859,14.172551181141024,14.248727515007701,14.413280355568183,14.333345263458224,14.507234013935985,14.508744524296706,14.512412369848242,14.617843982678137,14.607044621403304,14.70224173161236,14.639626205675517,14.61159491635524,14.732969283800582,14.735927622621382,14.748382646633495,14.679515528287068,14.680969050076728,14.714919368157837,14.728438356242387,14.684414097179078,14.673123303854068,14.593083819522423,14.573987069493882,14.658938904329542,14.593737494686385,14.502680216192894,14.577576974476283,14.576542267644959,14.590996039489577,14.597273724405342,14.65806397302592,14.632275822330941,14.62499370395899,14.771241451576197,14.720681802888832,14.717226171273124,14.900956623059257,14.889510735751367,14.96828089824611,14.95610990247441,14.970624188511081,15.09963122198678,15.18266182794157,15.227249588365352,15.223467871470982,15.187078036072526,15.314561257633802,15.362505110058116,15.357346300753578,15.365822517182295,15.42882596018828,15.463935273209245,15.418048965639365,15.440213118736908,15.465569170773783,15.391290412092946,15.50157163442381,15.391973956477097,15.51355721441429,15.493456301673424,15.403060665664682,15.479304496127604,15.504136562914487,15.577980576632811,15.584365573542634,15.591387857788472,15.719366728798132,15.698865410164759,15.763841155817065,15.743021593241169,15.811049442009425,15.843434242422488,15.925032870792686,15.90551323152199,15.93903940050619,15.963812986154213,15.961062970076348,15.959555555966107,15.945203082143058,15.903234240046869,15.899383534715646,15.890015778670582,15.885824928529471,15.81707557400686,15.72618619678231,15.843546831715978,15.752899218883183,15.756211532216161,15.787833492439981,15.794512949453916,15.856964812097186,15.791055097965808,15.789968495739641,15.816407131987766,15.955121599037312,15.995361954195989,16.05388072278097,16.05581171683318,16.144801186165257,16.10395221699979,16.11570191774212,16.158252799402653,16.103010831087335,15.982978582649125,15.994706810942715,16.006519852391776,15.92025585218449,15.893013765528655,15.650042131411615,15.71235651239767,15.656924553211285,15.488418318644085,15.396721746477304,15.355615619529644,15.266540570739238,15.195707891761563,15.177333047763387,15.115019025948715,15.091071104487577,15.090746915215865,15.040926916477552,15.009970936873188,15.009947626128723,15.047442231616053,15.040880198750742,14.988832298831717,14.892510840174964,14.947774229497005,14.899169205191058,14.905306265524748,14.831949377152464,14.793191892130944,14.717183260777801,14.81570433686592,14.74112392023909,14.68245543146354,14.696147511812985,14.67450408635833,14.660464730153247,14.520918845328826,14.509672591153237,14.484889189031374,14.570115035831135,14.586473151724377,14.55729454874986,14.489429675166118,14.51655989230776,14.554361619284371,14.50367478792046,14.512734980489515,14.540185229897514,14.501017042616642,14.55308025292441,14.583874765331375,14.550527109241091,14.537531075914341,14.511882297072123,14.484706777256344,14.576704367520513,14.604660228377325,14.5482041246409,14.615529476064548,14.565194259661096,14.549882802213926,14.626698281906487,14.552476437983703,14.70648818265502,14.730063213864137,14.72007408291389,14.74698070561334,14.839629810173005,14.921918563524232,14.919083746929509,14.958330541498565,15.087520389814207,15.061334786418382,15.152524321229105,15.160761319747193,15.134520136458937,15.100545591784083,15.125046079192972,15.181464155346882,15.149981162127768,15.078234002105457,15.078147417236233,15.037297812118535,15.053349394984284,15.04841338525196,15.044996396545066,15.021375720689534,14.941809221162284,14.973166852854725,14.942724068554067,14.950344786285815,14.948851564605707,14.916006784210012,14.948616561868016,14.93376316996891,14.93223849159116,14.928575121034239,14.95797405278928,14.990884499154156,14.984900861460298,14.905744283076288,15.067215599574148,15.016277094247823,15.123852104780626,15.069937691568901,15.076783831510765,15.16383750548416,15.254091037347058,15.272888332052004,15.21693072252883,15.282723916331088,15.466674228585724,15.55163309117285,15.572337896672572,15.574028027032984,15.670553673531053,15.927397121515169,15.970711417065198,15.977822959784262,16.02407766595187,16.196268478223967,16.19709913433251,16.219858977849555,16.307414845533486,16.305374892969063,16.292893001782016,16.292230552433416,16.25330763776861,16.258574536286915,16.15025074179113,16.011368732589624,16.060073593246663,15.999547641912896,15.948248845869442,15.807884263456774,15.812307919212458,15.670478224446665,15.687917045048225,15.55678434385473,15.587479370726193,15.542453759328966,15.557927825099725,15.49712972451103,15.525359452201506,15.473215558564979,15.658713332050231,15.534201839640021,15.648630095215868,15.664136667632576,15.604132661943181,15.792501185271858,15.82324059301837,15.845379824624656,15.858261327723556,15.865049648044772,16.113320014038173,16.070922208014075,16.157954148263848,16.120487962129804,16.108441364621456,16.204553069731414,16.189688460058477,16.172708984093603,16.136988770420135,16.102561654851826,16.03629545858673,16.04968512500672,16.119392166201536,15.963754557099401,15.97910105993966,16.038003177873463,15.960753950576775,15.949574437183585,15.919857222676258,15.985564843199048,15.910888354317064,15.942781922816065,15.952253914801904,15.914510584145853,15.952414860748338,15.90167597914724,15.93157186051542,15.985846352993825,16.0193082480131,16.067314137620475,16.127926228968743,16.155596497671162,16.147447316748547,16.163700911151786,16.350107395532927,16.34657728420201,16.331138355831257,16.323151905913694,16.38612077831649,16.43498379041141,16.492345589855166,16.475511304385915,16.506377840214864,16.471672057950123,16.48927642387598,16.5535051400298,16.522376453317886,16.559599421510963,16.508651329883772,16.511883292913762,16.555961297074447,16.515019688719565,16.494046382748795,16.432346481807667,16.480530329337984,16.471790409988074,16.520278730348853,16.545003086456518,16.59711006391732,16.5612525870582,16.60610174317582,16.650887241200383,16.719815445701055,16.699330604971667,16.808939500563607,16.71910240779047,16.822045843053147,16.804485025041124,16.88075511742381,16.83061607855837,16.78167505702253,16.81477538951096,16.761457976385383,16.78969605451925,16.742978201727095,16.721313173397498,16.721757224690645,16.622510541321965,16.603526820258885,16.585763760445605,16.633912097063696,16.62299599428035,16.51723131215486,16.60855992972032,16.619717144294736,16.608708547909238,16.679558314721913,16.728564579379213,16.804157093324296,16.7898825901116,16.774160235274067,16.941696641635627,16.94127913766634,16.972894486248332,16.912235958361233,16.876752633632222,16.98749979596735,16.935633369493402,16.864752477473377,16.73921326512992,16.718654833773268,16.553738730606426,16.5479520187762,16.429652755605503,16.483145117100047,16.277467612206884,16.18384538924299,16.185517396015133,16.083256347181386,16.004046331248606,15.873303308506856,15.881621798156479,15.919237153896768,15.844945180349985,15.832343526876068,15.780018587053146,15.79054052466315,15.793401808857361,15.75917316183564,15.714200669199474,15.75529497669258,15.709590904353194,15.687709661871988,15.634881719672322,15.628223191884787,15.599711120487443,15.662172636917113,15.578554089833021,15.544760420798296,15.513298660626965,15.479128048378842,15.463368607788588,15.476994378942045,15.331400614631177,15.328415860918932,15.34979602562959,15.35178286263843,15.391749450409682,15.311811090414299,15.318877130677757,15.307200119910249,15.365167725774018,15.319540079141541,15.307985075619175,15.350138883168993,15.332300014474697,15.352884606944055,15.374907623915384,15.288140428754105,15.319966225136202,15.251526177872854,15.354273334092957,15.311146538063127,15.242222264034204,15.36993616920738,15.328405735567197,15.3588394229687,15.383944161003464,15.421410864193698,15.455578765475664,15.468569636229478,15.476769701787418,15.531366295985089,15.647415192387559,15.695317847888212,15.776788272574725,15.771363911686482,15.781798343605159,15.876513449432466,15.899043396156712,15.8662452497911,15.913542385183092,15.981669957760472,15.95601781766385,15.86942918354617,15.935156130978143,15.940760531242477,15.877576508761326,15.848716138558492,15.83994599261647,15.801900250978294,15.786958845915999,15.750775884119008,15.764036714476791,15.74839479542004,15.780481269818617,15.721502347145497,15.748699757273311,15.675936428868845,15.659059877226634,15.686648015584076,15.630391362413556,15.57626906419265,15.729587745638463,15.754127896442796,15.78385595737464,15.750768307110834,15.854498795776525,15.824519060740533,15.829568935843628,15.83972875727116,15.906332783058904,15.973014982580636,16.017180472041108,16.015362600754628,16.00558095657024,16.250954710599547,16.244997722859633,16.362451058753464,16.33638817087474,16.423038076249398,16.525136495845793,16.626798159689802,16.705415646678833,16.709257520549617,16.74421281839996,16.97564682890718,17.027341041899298,17.035723348975807,17.07188830552029,17.15178894184602,17.013685285188153,17.077028284787172,17.043183228569728,16.99821538695861,16.916875498304236,16.83715392970732,16.80476998530524,16.819796960624082,16.69330685237832,16.593369440785867,16.62216224221178,16.56202107465602,16.39244087760512,16.3385618947581,16.317493177526703,16.260148539122437,16.35725716298356,16.284441657374252,16.259387228417804,16.33102487312703,16.35614831613254,16.401452177245556,16.35303688215176,16.35534886845567,16.5123394144029,16.54753398963968,16.6727430865426,16.65345293313106,16.598201631139222,16.76615376114826,16.81627633186081,16.915764964454926,16.925667461420243,16.872723322882923,16.990775317898553,16.948460658632005,17.019920463684354,16.99949800852721,16.91821992544055,16.964019512475186,16.945571761509758,16.908157994759737,16.84688173017613,16.847592890635287,16.881931210130112,16.861980729408188,16.751303062263847,16.83832346348027,16.788660194488582,16.784589170243027,16.765980249287022,16.805630105207424,16.819794336772247,16.79373058650919,16.87549474784747,16.87078680710301,16.84488782600727,16.829439126488058,16.95248501053109,16.989608719494232,17.055673555052902,17.009296489158,17.012106697551665,17.22139111636313,17.218592206623274,17.244181845690218,17.299995615501263,17.280981473063086,17.391932867663208,17.448609492047932,17.535027811676322,17.50103799462022,17.48817306567924,17.574400431915617,17.523146087562523,17.639594470896725,17.566748058252422,17.564006006024,17.68980578685273,17.60959797234966,17.58412675645774,17.54162479323914,17.606836876492917,17.610377066004766,17.69116828722128,17.68004629668158,17.592070900252637,17.619279725280943,17.777010587337042,17.736682412820766,17.830609080910367,17.789413563438256,17.799552316703714,17.935577718317454,17.941889070270634,17.98819496773285,18.043516971596734,18.058928386411324,18.042810134381064,18.017991042997505,18.101094854404693,18.07190759319157,18.07010559923825,17.98442507680403,18.012720069639332,17.93851923930538,17.95316666184455,17.896488437455695,17.84447792502945,17.874305228404214,17.84707311798846,17.77187801808334,17.93217076200177,17.87612339924052,17.83440247639474,17.905176153221596,17.934223937879985,18.026927950974976,18.076906480756847,17.978771945751454,18.047771924865874,18.17417142943506,18.180510104044075,18.23239730182378,18.187842624740746,18.155866676426808,18.23689106523676,18.155165000365557,18.188244295979075,18.122458099116177,18.0500102695769,17.972731297970178,17.851273684000198,17.75238013790653,17.751882372842342,17.639888456726663,17.51093932528743,17.48591779455578,17.502213955213467,17.38540294081774,17.270397389409556,17.205137008303776,17.285008733959536,17.173245762324978,17.076033613734126,17.083212755151468,17.06408624306874,17.11315461613185,17.02869504179679,16.978624139974233,17.063215399689053,17.0992439024452,17.05527671064519,16.94513313002044,16.918920542294916,16.878349783155585,16.92351535333097,16.867923153117093,16.843345972080645,16.749243532684165,16.77643079769823,16.74050769971353,16.762670257960032,16.68046416566357,16.634280517272718,16.707772169302434,16.655825901840416,16.593880687165964,16.56063097552265,16.60508539222033,16.65533218171614,16.59991398874888,16.584564234337805,16.55146441703452,16.58948014913829,16.64240801762262,16.621667669703882,16.573486370884414,16.64741439856747,16.65548203545124,16.649626549742024,16.61570510074444,16.53776319833159,16.60993807197889,16.625048753046737,16.602382008313327,16.62576922237663,16.57707624099205,16.766768408347478,16.655272113870247,16.771004609437753,16.77964401483368,16.73704325219449,16.860875489602375,16.86359539964847,16.93176860463681,16.96713406423327,16.949934193360733,16.994431957090285,17.09417524789832,17.16323753816421,17.12417009412048,17.09631828808625,17.135057463442223,17.146153269251663,17.221478620383852,17.259168438908475,17.136003259084823,17.154154206407316,17.101837782306866,17.124305684950933,17.128082477422865,17.063193315668993,17.02702897953583,16.969354231303235,17.036995322114606,16.98259697526395,16.950526061298326,16.938436362513073,16.9265419375509,16.910238843641974,16.916089486949144,16.88166602212474,16.97260621526758,17.007798256309496,16.97133577679114,16.923156103256503,17.042978253919486,17.061267829418565,17.096653599244103,17.011515968929007,17.11302051192444,17.147497783569083,17.20660763430331,17.24020472574695,17.26505778214965,17.213636325504712,17.45887223607866,17.45152290180069,17.518132183813993,17.53778590070509,17.59039207211535,17.804670279011308,17.766344292999104,17.845568986188574,17.917544335218317,17.988454598717478,18.16234818541314,18.211747154818667,18.280859280752424,18.258815303963228,19.16104739493427,19.213332532794997,18.36385365922097,18.234313025773616,18.31711573039574,18.32984695018201,18.265324198937435,19.16244547106784,19.133703974763442,18.19277529795638,18.16634651103142,18.12175152743738,18.07477551120379,18.046716963600556,18.89414601665172,18.824447833401063,17.829309312161108,17.823947726611173,17.78453322595126,17.808042467840686,17.699530403912657,18.614835555700985,18.506105925163112,17.57431651401144,17.613733414796844,17.561770413078285,17.512988984252775,17.526538316921172,18.446935960966247,18.439054756392167,17.585808067724997,17.55548597008443,17.60437139567485,17.515173952399035,17.52802273699125,18.575515212559182,18.52877854293161,17.745787534769274,17.790825393547262,17.797417975263908,17.843225143646144,17.803393643630365,18.757580634747484,18.827693183983552,18.049001746020455,18.018890725441825,18.014337721135913,18.123523573294207,18.099722207495315,19.0757979943628,18.988206543674718,18.20167299046441,18.170668189570407,18.152280924244238,18.181880979054306,18.16631458201645,19.085633453642256,19.114218465566392,18.21745318471931,18.191064459799808,18.12673643968203,18.170350121097176,18.115814358867556,19.045309785028202,19.053104581515537,18.106968415290908,18.071124070211344,18.065883550524813,18.05458522070601,18.063052870996593,18.888972530197233,18.926340903395825,18.022992973617164,17.970916325908213,18.113092035017825,17.983228394292556,18.023161817864832,18.892820231605384,18.87023920662029,18.0139092481292,18.096540933500936,18.01045452008299,18.050188310843147,18.05275076865933,18.928317264521205,19.008522001168842,18.1308782856765,18.134833597246338,18.14204762576729,18.222553868916883,18.217675589076133,19.176324051142455,19.209489732364716,18.35652573295912,18.383965871849785,18.443470914167808,18.389196692872815,18.40629876856934,19.4260011659485,19.47601919368971,18.60421704917351,18.63279258603619,18.662004583346,18.677583769719373,18.72710774203455,19.608415012568017,19.55236230927262,18.7521832980429,18.80066177443461,18.834111577551372,18.730350722485362,18.706849620279506,19.665965223965756,19.611666752616436,18.775719724467354,18.794217824063345,18.779075041702065,18.81045001221522,18.72063777612195,19.680337060700285,19.689580744333348,18.827569278864793,18.83869179649083,18.847759049827598,18.793207709266596,18.763699583868302,19.67888481502427,19.73368208020333,18.911037261710216,18.958588886216877,18.95126054960848,18.989512826113398,18.996177225890005,19.920391083317753,19.95829885095866,19.068717889280858,19.107125694462898,19.138486361653865,19.12437155715199,19.18724996222337,20.089920196361287,20.19590981023546,19.255479952023247,19.24696819568215,19.286904654238473,19.277870589186975,19.231784791768977],\"type\":\"scatter\"},{\"name\":\"Data values\",\"x\":[\"2002-07-08T00:00:00\",\"2002-07-09T00:00:00\",\"2002-07-10T00:00:00\",\"2002-07-11T00:00:00\",\"2002-07-12T00:00:00\",\"2002-07-15T00:00:00\",\"2002-07-16T00:00:00\",\"2002-07-17T00:00:00\",\"2002-07-18T00:00:00\",\"2002-07-19T00:00:00\",\"2002-07-22T00:00:00\",\"2002-07-23T00:00:00\",\"2002-07-24T00:00:00\",\"2002-07-25T00:00:00\",\"2002-07-26T00:00:00\",\"2002-07-29T00:00:00\",\"2002-07-30T00:00:00\",\"2002-07-31T00:00:00\",\"2002-08-01T00:00:00\",\"2002-08-02T00:00:00\",\"2002-08-05T00:00:00\",\"2002-08-06T00:00:00\",\"2002-08-07T00:00:00\",\"2002-08-08T00:00:00\",\"2002-08-09T00:00:00\",\"2002-08-12T00:00:00\",\"2002-08-13T00:00:00\",\"2002-08-14T00:00:00\",\"2002-08-15T00:00:00\",\"2002-08-16T00:00:00\",\"2002-08-19T00:00:00\",\"2002-08-20T00:00:00\",\"2002-08-21T00:00:00\",\"2002-08-22T00:00:00\",\"2002-08-23T00:00:00\",\"2002-08-26T00:00:00\",\"2002-08-27T00:00:00\",\"2002-08-28T00:00:00\",\"2002-08-29T00:00:00\",\"2002-08-30T00:00:00\",\"2002-09-03T00:00:00\",\"2002-09-04T00:00:00\",\"2002-09-05T00:00:00\",\"2002-09-06T00:00:00\",\"2002-09-09T00:00:00\",\"2002-09-10T00:00:00\",\"2002-09-11T00:00:00\",\"2002-09-12T00:00:00\",\"2002-09-13T00:00:00\",\"2002-09-16T00:00:00\",\"2002-09-17T00:00:00\",\"2002-09-18T00:00:00\",\"2002-09-19T00:00:00\",\"2002-09-20T00:00:00\",\"2002-09-23T00:00:00\",\"2002-09-24T00:00:00\",\"2002-09-25T00:00:00\",\"2002-09-26T00:00:00\",\"2002-09-27T00:00:00\",\"2002-09-30T00:00:00\",\"2002-10-01T00:00:00\",\"2002-10-02T00:00:00\",\"2002-10-03T00:00:00\",\"2002-10-04T00:00:00\",\"2002-10-07T00:00:00\",\"2002-10-08T00:00:00\",\"2002-10-09T00:00:00\",\"2002-10-10T00:00:00\",\"2002-10-11T00:00:00\",\"2002-10-14T00:00:00\",\"2002-10-15T00:00:00\",\"2002-10-16T00:00:00\",\"2002-10-17T00:00:00\",\"2002-10-18T00:00:00\",\"2002-10-21T00:00:00\",\"2002-10-22T00:00:00\",\"2002-10-23T00:00:00\",\"2002-10-24T00:00:00\",\"2002-10-25T00:00:00\",\"2002-10-28T00:00:00\",\"2002-10-29T00:00:00\",\"2002-10-30T00:00:00\",\"2002-10-31T00:00:00\",\"2002-11-01T00:00:00\",\"2002-11-04T00:00:00\",\"2002-11-05T00:00:00\",\"2002-11-06T00:00:00\",\"2002-11-07T00:00:00\",\"2002-11-08T00:00:00\",\"2002-11-11T00:00:00\",\"2002-11-12T00:00:00\",\"2002-11-13T00:00:00\",\"2002-11-14T00:00:00\",\"2002-11-15T00:00:00\",\"2002-11-18T00:00:00\",\"2002-11-19T00:00:00\",\"2002-11-20T00:00:00\",\"2002-11-21T00:00:00\",\"2002-11-22T00:00:00\",\"2002-11-25T00:00:00\",\"2002-11-26T00:00:00\",\"2002-11-27T00:00:00\",\"2002-11-29T00:00:00\",\"2002-12-02T00:00:00\",\"2002-12-03T00:00:00\",\"2002-12-04T00:00:00\",\"2002-12-05T00:00:00\",\"2002-12-06T00:00:00\",\"2002-12-09T00:00:00\",\"2002-12-10T00:00:00\",\"2002-12-11T00:00:00\",\"2002-12-12T00:00:00\",\"2002-12-13T00:00:00\",\"2002-12-16T00:00:00\",\"2002-12-17T00:00:00\",\"2002-12-18T00:00:00\",\"2002-12-19T00:00:00\",\"2002-12-20T00:00:00\",\"2002-12-23T00:00:00\",\"2002-12-24T00:00:00\",\"2002-12-26T00:00:00\",\"2002-12-27T00:00:00\",\"2002-12-30T00:00:00\",\"2002-12-31T00:00:00\",\"2003-01-02T00:00:00\",\"2003-01-03T00:00:00\",\"2003-01-06T00:00:00\",\"2003-01-07T00:00:00\",\"2003-01-08T00:00:00\",\"2003-01-09T00:00:00\",\"2003-01-10T00:00:00\",\"2003-01-13T00:00:00\",\"2003-01-14T00:00:00\",\"2003-01-15T00:00:00\",\"2003-01-16T00:00:00\",\"2003-01-17T00:00:00\",\"2003-01-21T00:00:00\",\"2003-01-22T00:00:00\",\"2003-01-23T00:00:00\",\"2003-01-24T00:00:00\",\"2003-01-27T00:00:00\",\"2003-01-28T00:00:00\",\"2003-01-29T00:00:00\",\"2003-01-30T00:00:00\",\"2003-01-31T00:00:00\",\"2003-02-03T00:00:00\",\"2003-02-04T00:00:00\",\"2003-02-05T00:00:00\",\"2003-02-06T00:00:00\",\"2003-02-07T00:00:00\",\"2003-02-10T00:00:00\",\"2003-02-11T00:00:00\",\"2003-02-12T00:00:00\",\"2003-02-13T00:00:00\",\"2003-02-14T00:00:00\",\"2003-02-18T00:00:00\",\"2003-02-19T00:00:00\",\"2003-02-20T00:00:00\",\"2003-02-21T00:00:00\",\"2003-02-24T00:00:00\",\"2003-02-25T00:00:00\",\"2003-02-26T00:00:00\",\"2003-02-27T00:00:00\",\"2003-02-28T00:00:00\",\"2003-03-03T00:00:00\",\"2003-03-04T00:00:00\",\"2003-03-05T00:00:00\",\"2003-03-06T00:00:00\",\"2003-03-07T00:00:00\",\"2003-03-10T00:00:00\",\"2003-03-11T00:00:00\",\"2003-03-12T00:00:00\",\"2003-03-13T00:00:00\",\"2003-03-14T00:00:00\",\"2003-03-17T00:00:00\",\"2003-03-18T00:00:00\",\"2003-03-19T00:00:00\",\"2003-03-20T00:00:00\",\"2003-03-21T00:00:00\",\"2003-03-24T00:00:00\",\"2003-03-25T00:00:00\",\"2003-03-26T00:00:00\",\"2003-03-27T00:00:00\",\"2003-03-28T00:00:00\",\"2003-03-31T00:00:00\",\"2003-04-01T00:00:00\",\"2003-04-02T00:00:00\",\"2003-04-03T00:00:00\",\"2003-04-04T00:00:00\",\"2003-04-07T00:00:00\",\"2003-04-08T00:00:00\",\"2003-04-09T00:00:00\",\"2003-04-10T00:00:00\",\"2003-04-11T00:00:00\",\"2003-04-14T00:00:00\",\"2003-04-15T00:00:00\",\"2003-04-16T00:00:00\",\"2003-04-17T00:00:00\",\"2003-04-21T00:00:00\",\"2003-04-22T00:00:00\",\"2003-04-23T00:00:00\",\"2003-04-24T00:00:00\",\"2003-04-25T00:00:00\",\"2003-04-28T00:00:00\",\"2003-04-29T00:00:00\",\"2003-04-30T00:00:00\",\"2003-05-01T00:00:00\",\"2003-05-02T00:00:00\",\"2003-05-05T00:00:00\",\"2003-05-06T00:00:00\",\"2003-05-07T00:00:00\",\"2003-05-08T00:00:00\",\"2003-05-09T00:00:00\",\"2003-05-12T00:00:00\",\"2003-05-13T00:00:00\",\"2003-05-14T00:00:00\",\"2003-05-15T00:00:00\",\"2003-05-16T00:00:00\",\"2003-05-19T00:00:00\",\"2003-05-20T00:00:00\",\"2003-05-21T00:00:00\",\"2003-05-22T00:00:00\",\"2003-05-23T00:00:00\",\"2003-05-27T00:00:00\",\"2003-05-28T00:00:00\",\"2003-05-29T00:00:00\",\"2003-05-30T00:00:00\",\"2003-06-02T00:00:00\",\"2003-06-03T00:00:00\",\"2003-06-04T00:00:00\",\"2003-06-05T00:00:00\",\"2003-06-06T00:00:00\",\"2003-06-09T00:00:00\",\"2003-06-10T00:00:00\",\"2003-06-11T00:00:00\",\"2003-06-12T00:00:00\",\"2003-06-13T00:00:00\",\"2003-06-16T00:00:00\",\"2003-06-17T00:00:00\",\"2003-06-18T00:00:00\",\"2003-06-19T00:00:00\",\"2003-06-20T00:00:00\",\"2003-06-23T00:00:00\",\"2003-06-24T00:00:00\",\"2003-06-25T00:00:00\",\"2003-06-26T00:00:00\",\"2003-06-27T00:00:00\",\"2003-06-30T00:00:00\",\"2003-07-01T00:00:00\",\"2003-07-02T00:00:00\",\"2003-07-03T00:00:00\",\"2003-07-07T00:00:00\",\"2003-07-08T00:00:00\",\"2003-07-09T00:00:00\",\"2003-07-10T00:00:00\",\"2003-07-11T00:00:00\",\"2003-07-14T00:00:00\",\"2003-07-15T00:00:00\",\"2003-07-16T00:00:00\",\"2003-07-17T00:00:00\",\"2003-07-18T00:00:00\",\"2003-07-21T00:00:00\",\"2003-07-22T00:00:00\",\"2003-07-23T00:00:00\",\"2003-07-24T00:00:00\",\"2003-07-25T00:00:00\",\"2003-07-28T00:00:00\",\"2003-07-29T00:00:00\",\"2003-07-30T00:00:00\",\"2003-07-31T00:00:00\",\"2003-08-01T00:00:00\",\"2003-08-04T00:00:00\",\"2003-08-05T00:00:00\",\"2003-08-06T00:00:00\",\"2003-08-07T00:00:00\",\"2003-08-08T00:00:00\",\"2003-08-11T00:00:00\",\"2003-08-12T00:00:00\",\"2003-08-13T00:00:00\",\"2003-08-14T00:00:00\",\"2003-08-15T00:00:00\",\"2003-08-18T00:00:00\",\"2003-08-19T00:00:00\",\"2003-08-20T00:00:00\",\"2003-08-21T00:00:00\",\"2003-08-22T00:00:00\",\"2003-08-25T00:00:00\",\"2003-08-26T00:00:00\",\"2003-08-27T00:00:00\",\"2003-08-28T00:00:00\",\"2003-08-29T00:00:00\",\"2003-09-02T00:00:00\",\"2003-09-03T00:00:00\",\"2003-09-04T00:00:00\",\"2003-09-05T00:00:00\",\"2003-09-08T00:00:00\",\"2003-09-09T00:00:00\",\"2003-09-10T00:00:00\",\"2003-09-11T00:00:00\",\"2003-09-12T00:00:00\",\"2003-09-15T00:00:00\",\"2003-09-16T00:00:00\",\"2003-09-17T00:00:00\",\"2003-09-18T00:00:00\",\"2003-09-19T00:00:00\",\"2003-09-22T00:00:00\",\"2003-09-23T00:00:00\",\"2003-09-24T00:00:00\",\"2003-09-25T00:00:00\",\"2003-09-26T00:00:00\",\"2003-09-29T00:00:00\",\"2003-09-30T00:00:00\",\"2003-10-01T00:00:00\",\"2003-10-02T00:00:00\",\"2003-10-03T00:00:00\",\"2003-10-06T00:00:00\",\"2003-10-07T00:00:00\",\"2003-10-08T00:00:00\",\"2003-10-09T00:00:00\",\"2003-10-10T00:00:00\",\"2003-10-13T00:00:00\",\"2003-10-14T00:00:00\",\"2003-10-15T00:00:00\",\"2003-10-16T00:00:00\",\"2003-10-17T00:00:00\",\"2003-10-20T00:00:00\",\"2003-10-21T00:00:00\",\"2003-10-22T00:00:00\",\"2003-10-23T00:00:00\",\"2003-10-24T00:00:00\",\"2003-10-27T00:00:00\",\"2003-10-28T00:00:00\",\"2003-10-29T00:00:00\",\"2003-10-30T00:00:00\",\"2003-10-31T00:00:00\",\"2003-11-03T00:00:00\",\"2003-11-04T00:00:00\",\"2003-11-05T00:00:00\",\"2003-11-06T00:00:00\",\"2003-11-07T00:00:00\",\"2003-11-10T00:00:00\",\"2003-11-11T00:00:00\",\"2003-11-12T00:00:00\",\"2003-11-13T00:00:00\",\"2003-11-14T00:00:00\",\"2003-11-17T00:00:00\",\"2003-11-18T00:00:00\",\"2003-11-19T00:00:00\",\"2003-11-20T00:00:00\",\"2003-11-21T00:00:00\",\"2003-11-24T00:00:00\",\"2003-11-25T00:00:00\",\"2003-11-26T00:00:00\",\"2003-11-28T00:00:00\",\"2003-12-01T00:00:00\",\"2003-12-02T00:00:00\",\"2003-12-03T00:00:00\",\"2003-12-04T00:00:00\",\"2003-12-05T00:00:00\",\"2003-12-08T00:00:00\",\"2003-12-09T00:00:00\",\"2003-12-10T00:00:00\",\"2003-12-11T00:00:00\",\"2003-12-12T00:00:00\",\"2003-12-15T00:00:00\",\"2003-12-16T00:00:00\",\"2003-12-17T00:00:00\",\"2003-12-18T00:00:00\",\"2003-12-19T00:00:00\",\"2003-12-22T00:00:00\",\"2003-12-23T00:00:00\",\"2003-12-24T00:00:00\",\"2003-12-26T00:00:00\",\"2003-12-29T00:00:00\",\"2003-12-30T00:00:00\",\"2003-12-31T00:00:00\",\"2004-01-02T00:00:00\",\"2004-01-05T00:00:00\",\"2004-01-06T00:00:00\",\"2004-01-07T00:00:00\",\"2004-01-08T00:00:00\",\"2004-01-09T00:00:00\",\"2004-01-12T00:00:00\",\"2004-01-13T00:00:00\",\"2004-01-14T00:00:00\",\"2004-01-15T00:00:00\",\"2004-01-16T00:00:00\",\"2004-01-20T00:00:00\",\"2004-01-21T00:00:00\",\"2004-01-22T00:00:00\",\"2004-01-23T00:00:00\",\"2004-01-26T00:00:00\",\"2004-01-27T00:00:00\",\"2004-01-28T00:00:00\",\"2004-01-29T00:00:00\",\"2004-01-30T00:00:00\",\"2004-02-02T00:00:00\",\"2004-02-03T00:00:00\",\"2004-02-04T00:00:00\",\"2004-02-05T00:00:00\",\"2004-02-06T00:00:00\",\"2004-02-09T00:00:00\",\"2004-02-10T00:00:00\",\"2004-02-11T00:00:00\",\"2004-02-12T00:00:00\",\"2004-02-13T00:00:00\",\"2004-02-17T00:00:00\",\"2004-02-18T00:00:00\",\"2004-02-19T00:00:00\",\"2004-02-20T00:00:00\",\"2004-02-23T00:00:00\",\"2004-02-24T00:00:00\",\"2004-02-25T00:00:00\",\"2004-02-26T00:00:00\",\"2004-02-27T00:00:00\",\"2004-03-01T00:00:00\",\"2004-03-02T00:00:00\",\"2004-03-03T00:00:00\",\"2004-03-04T00:00:00\",\"2004-03-05T00:00:00\",\"2004-03-08T00:00:00\",\"2004-03-09T00:00:00\",\"2004-03-10T00:00:00\",\"2004-03-11T00:00:00\",\"2004-03-12T00:00:00\",\"2004-03-15T00:00:00\",\"2004-03-16T00:00:00\",\"2004-03-17T00:00:00\",\"2004-03-18T00:00:00\",\"2004-03-19T00:00:00\",\"2004-03-22T00:00:00\",\"2004-03-23T00:00:00\",\"2004-03-24T00:00:00\",\"2004-03-25T00:00:00\",\"2004-03-26T00:00:00\",\"2004-03-29T00:00:00\",\"2004-03-30T00:00:00\",\"2004-03-31T00:00:00\",\"2004-04-01T00:00:00\",\"2004-04-02T00:00:00\",\"2004-04-05T00:00:00\",\"2004-04-06T00:00:00\",\"2004-04-07T00:00:00\",\"2004-04-08T00:00:00\",\"2004-04-12T00:00:00\",\"2004-04-13T00:00:00\",\"2004-04-14T00:00:00\",\"2004-04-15T00:00:00\",\"2004-04-16T00:00:00\",\"2004-04-19T00:00:00\",\"2004-04-20T00:00:00\",\"2004-04-21T00:00:00\",\"2004-04-22T00:00:00\",\"2004-04-23T00:00:00\",\"2004-04-26T00:00:00\",\"2004-04-27T00:00:00\",\"2004-04-28T00:00:00\",\"2004-04-29T00:00:00\",\"2004-04-30T00:00:00\",\"2004-05-03T00:00:00\",\"2004-05-04T00:00:00\",\"2004-05-05T00:00:00\",\"2004-05-06T00:00:00\",\"2004-05-07T00:00:00\",\"2004-05-10T00:00:00\",\"2004-05-11T00:00:00\",\"2004-05-12T00:00:00\",\"2004-05-13T00:00:00\",\"2004-05-14T00:00:00\",\"2004-05-17T00:00:00\",\"2004-05-18T00:00:00\",\"2004-05-19T00:00:00\",\"2004-05-20T00:00:00\",\"2004-05-21T00:00:00\",\"2004-05-24T00:00:00\",\"2004-05-25T00:00:00\",\"2004-05-26T00:00:00\",\"2004-05-27T00:00:00\",\"2004-05-28T00:00:00\",\"2004-06-01T00:00:00\",\"2004-06-02T00:00:00\",\"2004-06-03T00:00:00\",\"2004-06-04T00:00:00\",\"2004-06-07T00:00:00\",\"2004-06-08T00:00:00\",\"2004-06-09T00:00:00\",\"2004-06-10T00:00:00\",\"2004-06-14T00:00:00\",\"2004-06-15T00:00:00\",\"2004-06-16T00:00:00\",\"2004-06-17T00:00:00\",\"2004-06-18T00:00:00\",\"2004-06-21T00:00:00\",\"2004-06-22T00:00:00\",\"2004-06-23T00:00:00\",\"2004-06-24T00:00:00\",\"2004-06-25T00:00:00\",\"2004-06-28T00:00:00\",\"2004-06-29T00:00:00\",\"2004-06-30T00:00:00\",\"2004-07-01T00:00:00\",\"2004-07-02T00:00:00\",\"2004-07-06T00:00:00\",\"2004-07-07T00:00:00\",\"2004-07-08T00:00:00\",\"2004-07-09T00:00:00\",\"2004-07-12T00:00:00\",\"2004-07-13T00:00:00\",\"2004-07-14T00:00:00\",\"2004-07-15T00:00:00\",\"2004-07-16T00:00:00\",\"2004-07-19T00:00:00\",\"2004-07-20T00:00:00\",\"2004-07-21T00:00:00\",\"2004-07-22T00:00:00\",\"2004-07-23T00:00:00\",\"2004-07-26T00:00:00\",\"2004-07-27T00:00:00\",\"2004-07-28T00:00:00\",\"2004-07-29T00:00:00\",\"2004-07-30T00:00:00\",\"2004-08-02T00:00:00\",\"2004-08-03T00:00:00\",\"2004-08-04T00:00:00\",\"2004-08-05T00:00:00\",\"2004-08-06T00:00:00\",\"2004-08-09T00:00:00\",\"2004-08-10T00:00:00\",\"2004-08-11T00:00:00\",\"2004-08-12T00:00:00\",\"2004-08-13T00:00:00\",\"2004-08-16T00:00:00\",\"2004-08-17T00:00:00\",\"2004-08-18T00:00:00\",\"2004-08-19T00:00:00\",\"2004-08-20T00:00:00\",\"2004-08-23T00:00:00\",\"2004-08-24T00:00:00\",\"2004-08-25T00:00:00\",\"2004-08-26T00:00:00\",\"2004-08-27T00:00:00\",\"2004-08-30T00:00:00\",\"2004-08-31T00:00:00\",\"2004-09-01T00:00:00\",\"2004-09-02T00:00:00\",\"2004-09-03T00:00:00\",\"2004-09-07T00:00:00\",\"2004-09-08T00:00:00\",\"2004-09-09T00:00:00\",\"2004-09-10T00:00:00\",\"2004-09-13T00:00:00\",\"2004-09-14T00:00:00\",\"2004-09-15T00:00:00\",\"2004-09-16T00:00:00\",\"2004-09-17T00:00:00\",\"2004-09-20T00:00:00\",\"2004-09-21T00:00:00\",\"2004-09-22T00:00:00\",\"2004-09-23T00:00:00\",\"2004-09-24T00:00:00\",\"2004-09-27T00:00:00\",\"2004-09-28T00:00:00\",\"2004-09-29T00:00:00\",\"2004-09-30T00:00:00\",\"2004-10-01T00:00:00\",\"2004-10-04T00:00:00\",\"2004-10-05T00:00:00\",\"2004-10-06T00:00:00\",\"2004-10-07T00:00:00\",\"2004-10-08T00:00:00\",\"2004-10-11T00:00:00\",\"2004-10-12T00:00:00\",\"2004-10-13T00:00:00\",\"2004-10-14T00:00:00\",\"2004-10-15T00:00:00\",\"2004-10-18T00:00:00\",\"2004-10-19T00:00:00\",\"2004-10-20T00:00:00\",\"2004-10-21T00:00:00\",\"2004-10-22T00:00:00\",\"2004-10-25T00:00:00\",\"2004-10-26T00:00:00\",\"2004-10-27T00:00:00\",\"2004-10-28T00:00:00\",\"2004-10-29T00:00:00\",\"2004-11-01T00:00:00\",\"2004-11-02T00:00:00\",\"2004-11-03T00:00:00\",\"2004-11-04T00:00:00\",\"2004-11-05T00:00:00\",\"2004-11-08T00:00:00\",\"2004-11-09T00:00:00\",\"2004-11-10T00:00:00\",\"2004-11-11T00:00:00\",\"2004-11-12T00:00:00\",\"2004-11-15T00:00:00\",\"2004-11-16T00:00:00\",\"2004-11-17T00:00:00\",\"2004-11-18T00:00:00\",\"2004-11-19T00:00:00\",\"2004-11-22T00:00:00\",\"2004-11-23T00:00:00\",\"2004-11-24T00:00:00\",\"2004-11-26T00:00:00\",\"2004-11-29T00:00:00\",\"2004-11-30T00:00:00\",\"2004-12-01T00:00:00\",\"2004-12-02T00:00:00\",\"2004-12-03T00:00:00\",\"2004-12-06T00:00:00\",\"2004-12-07T00:00:00\",\"2004-12-08T00:00:00\",\"2004-12-09T00:00:00\",\"2004-12-10T00:00:00\",\"2004-12-13T00:00:00\",\"2004-12-14T00:00:00\",\"2004-12-15T00:00:00\",\"2004-12-16T00:00:00\",\"2004-12-17T00:00:00\",\"2004-12-20T00:00:00\",\"2004-12-21T00:00:00\",\"2004-12-22T00:00:00\",\"2004-12-23T00:00:00\",\"2004-12-27T00:00:00\",\"2004-12-28T00:00:00\",\"2004-12-29T00:00:00\",\"2004-12-30T00:00:00\",\"2004-12-31T00:00:00\",\"2005-01-03T00:00:00\",\"2005-01-04T00:00:00\",\"2005-01-05T00:00:00\",\"2005-01-06T00:00:00\",\"2005-01-07T00:00:00\",\"2005-01-10T00:00:00\",\"2005-01-11T00:00:00\",\"2005-01-12T00:00:00\",\"2005-01-13T00:00:00\",\"2005-01-14T00:00:00\",\"2005-01-18T00:00:00\",\"2005-01-19T00:00:00\",\"2005-01-20T00:00:00\",\"2005-01-21T00:00:00\",\"2005-01-24T00:00:00\",\"2005-01-25T00:00:00\",\"2005-01-26T00:00:00\",\"2005-01-27T00:00:00\",\"2005-01-28T00:00:00\",\"2005-01-31T00:00:00\",\"2005-02-01T00:00:00\",\"2005-02-02T00:00:00\",\"2005-02-03T00:00:00\",\"2005-02-04T00:00:00\",\"2005-02-07T00:00:00\",\"2005-02-08T00:00:00\",\"2005-02-09T00:00:00\",\"2005-02-10T00:00:00\",\"2005-02-11T00:00:00\",\"2005-02-14T00:00:00\",\"2005-02-15T00:00:00\",\"2005-02-16T00:00:00\",\"2005-02-17T00:00:00\",\"2005-02-18T00:00:00\",\"2005-02-22T00:00:00\",\"2005-02-23T00:00:00\",\"2005-02-24T00:00:00\",\"2005-02-25T00:00:00\",\"2005-02-28T00:00:00\",\"2005-03-01T00:00:00\",\"2005-03-02T00:00:00\",\"2005-03-03T00:00:00\",\"2005-03-04T00:00:00\",\"2005-03-07T00:00:00\",\"2005-03-08T00:00:00\",\"2005-03-09T00:00:00\",\"2005-03-10T00:00:00\",\"2005-03-11T00:00:00\",\"2005-03-14T00:00:00\",\"2005-03-15T00:00:00\",\"2005-03-16T00:00:00\",\"2005-03-17T00:00:00\",\"2005-03-18T00:00:00\",\"2005-03-21T00:00:00\",\"2005-03-22T00:00:00\",\"2005-03-23T00:00:00\",\"2005-03-24T00:00:00\",\"2005-03-28T00:00:00\",\"2005-03-29T00:00:00\",\"2005-03-30T00:00:00\",\"2005-03-31T00:00:00\",\"2005-04-01T00:00:00\",\"2005-04-04T00:00:00\",\"2005-04-05T00:00:00\",\"2005-04-06T00:00:00\",\"2005-04-07T00:00:00\",\"2005-04-08T00:00:00\",\"2005-04-11T00:00:00\",\"2005-04-12T00:00:00\",\"2005-04-13T00:00:00\",\"2005-04-14T00:00:00\",\"2005-04-15T00:00:00\",\"2005-04-18T00:00:00\",\"2005-04-19T00:00:00\",\"2005-04-20T00:00:00\",\"2005-04-21T00:00:00\",\"2005-04-22T00:00:00\",\"2005-04-25T00:00:00\",\"2005-04-26T00:00:00\",\"2005-04-27T00:00:00\",\"2005-04-28T00:00:00\",\"2005-04-29T00:00:00\",\"2005-05-02T00:00:00\",\"2005-05-03T00:00:00\",\"2005-05-04T00:00:00\",\"2005-05-05T00:00:00\",\"2005-05-06T00:00:00\",\"2005-05-09T00:00:00\",\"2005-05-10T00:00:00\",\"2005-05-11T00:00:00\",\"2005-05-12T00:00:00\",\"2005-05-13T00:00:00\",\"2005-05-16T00:00:00\",\"2005-05-17T00:00:00\",\"2005-05-18T00:00:00\",\"2005-05-19T00:00:00\",\"2005-05-20T00:00:00\",\"2005-05-23T00:00:00\",\"2005-05-24T00:00:00\",\"2005-05-25T00:00:00\",\"2005-05-26T00:00:00\",\"2005-05-27T00:00:00\",\"2005-05-31T00:00:00\",\"2005-06-01T00:00:00\",\"2005-06-02T00:00:00\",\"2005-06-03T00:00:00\",\"2005-06-06T00:00:00\",\"2005-06-07T00:00:00\",\"2005-06-08T00:00:00\",\"2005-06-09T00:00:00\",\"2005-06-10T00:00:00\",\"2005-06-13T00:00:00\",\"2005-06-14T00:00:00\",\"2005-06-15T00:00:00\",\"2005-06-16T00:00:00\",\"2005-06-17T00:00:00\",\"2005-06-20T00:00:00\",\"2005-06-21T00:00:00\",\"2005-06-22T00:00:00\",\"2005-06-23T00:00:00\",\"2005-06-24T00:00:00\",\"2005-06-27T00:00:00\",\"2005-06-28T00:00:00\",\"2005-06-29T00:00:00\",\"2005-06-30T00:00:00\",\"2005-07-01T00:00:00\",\"2005-07-05T00:00:00\"],\"y\":[16.549694061279297,16.64038848876953,16.337039947509766,16.546571731567383,16.21820640563965,16.199438095092773,16.027437210083008,16.261980056762695,15.98365592956543,15.498918533325195,14.857821464538574,13.450539588928223,14.457528114318848,13.394248008728027,14.18232536315918,15.089249610900879,15.042335510253906,15.00480842590332,14.307419776916504,13.88835334777832,13.757010459899902,14.282398223876953,14.726471900939941,15.295648574829102,15.048593521118164,15.158049583435059,14.717090606689453,15.545825004577637,15.564598083496094,15.63652229309082,16.261980056762695,15.961763381958008,16.34954833984375,16.64664649963379,16.330785751342773,16.293254852294922,15.899225234985352,15.442632675170898,15.817910194396973,15.348809242248535,14.70458698272705,15.076727867126465,14.357454299926758,14.954771041870117,15.229978561401367,15.570846557617188,15.192448616027832,14.745240211486816,14.982916831970215,14.942255973815918,14.789026260375977,14.932881355285645,14.760878562927246,14.842190742492676,14.144800186157227,14.273019790649414,14.545092582702637,14.448149681091309,14.151055335998535,13.678829193115234,14.457528114318848,14.263638496398926,14.010322570800781,13.688209533691406,13.775772094726562,14.069745063781738,13.757010459899902,14.504440307617188,15.283143997192383,15.4144868850708,16.35267448425293,15.764739036560059,15.877326011657715,16.62162208557129,16.421478271484375,16.158784866333008,16.637258529663086,16.02117347717285,16.474634170532227,16.246353149414062,16.283876419067383,16.609115600585938,16.721694946289062,16.57472038269043,17.5441837310791,17.725563049316406,17.83501434326172,17.516033172607422,17.2314510345459,16.843658447265625,17.046937942504883,17.312763214111328,17.822513580322266,17.728696823120117,17.465993881225586,17.156394958496094,17.706804275512695,18.088329315185547,18.207168579101562,18.210298538208008,17.79436683654785,18.16339111328125,18.03829574584961,18.041418075561523,17.734943389892578,17.681779861450195,17.306501388549805,17.34715461730957,16.74046516418457,16.89057159423828,17.093849182128906,16.940601348876953,16.418344497680664,17.037553787231445,17.000028610229492,16.74046516418457,16.609115600585938,16.587223052978516,16.887447357177734,16.831159591674805,16.696680068969727,16.56533432006836,16.496524810791016,16.16817283630371,16.799875259399414,16.82176399230957,17.128246307373047,17.45036506652832,16.962495803833008,17.453487396240234,17.487882614135742,17.634870529174805,17.816253662109375,17.59734535217285,17.30963134765625,16.09310531616211,16.05245018005371,15.94924545288086,16.34954833984375,15.589616775512695,15.37695026397705,15.267501831054688,15.608381271362305,15.086119651794434,14.842190742492676,15.186186790466309,14.798404693603516,14.685827255249023,14.829673767089844,14.566985130310059,14.817172050476074,14.523198127746582,14.523198127746582,14.695199966430664,15.104884147644043,15.611507415771484,15.391891479492188,15.147177696228027,15.454635620117188,15.10324764251709,15.178549766540527,14.814613342285156,14.795792579650879,14.871086120605469,14.770691871643066,14.47577953338623,14.707950592041016,14.601271629333496,14.783231735229492,14.400481224060059,14.306365013122559,14.676578521728516,15.479736328125,15.598950386047363,16.270360946655273,16.339378356933594,16.51506805419922,16.471141815185547,16.671932220458984,15.868772506713867,15.994256019592285,15.84366512298584,15.711898803710938,15.479736328125,15.1910982131958,15.278945922851562,16.13857650756836,16.14485740661621,15.743276596069336,15.793472290039062,16.050729751586914,15.416990280151367,15.429540634155273,15.18481731414795,15.536205291748047,15.435811996459961,15.636603355407715,16.000534057617188,15.818572044372559,16.163686752319336,16.13857650756836,15.994256019592285,15.824844360351562,16.15113067626953,16.18877410888672,16.044464111328125,16.13857650756836,16.377016067504883,16.2264347076416,16.546438217163086,16.307998657226562,16.15113067626953,16.540157318115234,16.43976593017578,16.307998657226562,16.075836181640625,16.1825008392334,16.044464111328125,15.536205291748047,15.454635620117188,15.078152656555176,15.159723281860352,15.197379112243652,15.555036544799805,15.3165922164917,15.310318946838379,15.44208812713623,15.46090316772461,15.61151123046875,15.60522747039795,15.115799903869629,14.85226058959961,14.902459144592285,15.486014366149902,15.61151123046875,15.680536270141602,15.467191696166992,15.931510925292969,16.289169311523438,16.35819435119629,16.35819435119629,16.521337509155273,16.17622947692871,16.126028060913086,15.849942207336426,16.157405853271484,16.082115173339844,16.088382720947266,16.40839385986328,16.86644172668457,16.62801170349121,17.205286026000977,17.3809757232666,17.236652374267578,16.885276794433594,17.136259078979492,17.192737579345703,17.111160278320312,17.26803207397461,16.747230529785156,16.872718811035156,16.339378356933594,16.552719116210938,16.59662628173828,16.314271926879883,16.872718811035156,16.69703483581543,16.609189987182617,16.45859146118164,16.571537017822266,16.42094612121582,16.427221298217773,16.10093116760254,16.094661712646484,16.132307052612305,16.050729751586914,16.06955337524414,16.14485740661621,16.063282012939453,16.082115173339844,16.025644302368164,16.126028060913086,16.703304290771484,16.59662628173828,16.464860916137695,16.452320098876953,16.62801170349121,16.671932220458984,16.57781410217285,16.6342830657959,16.64055824279785,17.10488510131836,17.757457733154297,17.839033126831055,17.80765151977539,18.096298217773438,17.80137825012207,17.2868595123291,17.468822479248047,17.78255844116211,17.795106887817383,18.133935928344727,17.882951736450195,18.510427474975586,18.799068450927734,18.24061393737793,18.57317543029785,17.857847213745117,17.719806671142578,17.688430786132812,18.090015411376953,17.443723678588867,17.89550018310547,17.882951736450195,18.24688148498535,18.315908432006836,18.284530639648438,18.0837459564209,18.159046173095703,18.140220642089844,18.05864906311035,17.99589729309082,18.342947006225586,18.443899154663086,18.254613876342773,18.519624710083008,18.519624710083008,18.229368209838867,18.241987228393555,16.790706634521484,16.980005264282227,17.162986755371094,16.87273406982422,16.48151969909668,16.494142532348633,16.83487892150879,16.449966430664062,16.46889305114746,16.550928115844727,16.46889305114746,16.40579605102539,16.27959442138672,16.39317512512207,16.210187911987305,16.09029769897461,15.869453430175781,15.869453430175781,15.995648384094238,15.837913513183594,15.844209671020508,16.235431671142578,16.02720832824707,16.05875587463379,16.222810745239258,16.304834365844727,16.191259384155273,16.197574615478516,16.531993865966797,16.39317512512207,16.55722999572754,16.645580291748047,16.77808952331543,16.790706634521484,16.815950393676758,16.87273406982422,17.074647903442383,17.062030792236328,17.2891902923584,17.263954162597656,17.150365829467773,17.13143539428711,17.062030792236328,17.16929054260254,17.327043533325195,17.36490821838379,17.270254135131836,17.320743560791016,17.756118774414062,17.819215774536133,17.80029296875,17.76874542236328,17.4532413482666,17.39645767211914,17.308116912841797,17.478485107421875,17.377531051635742,17.547897338867188,17.730880737304688,17.857080459594727,17.674095153808594,17.970659255981445,18.172578811645508,17.825531005859375,17.48479652404785,17.610984802246094,17.446935653686523,17.2891902923584,17.219770431518555,17.04310417175293,17.01154136657715,17.087270736694336,16.973690032958984,17.049413681030273,17.13143539428711,17.00524139404297,16.77808952331543,17.030475616455078,16.891658782958984,16.6960506439209,16.76546287536621,16.790706634521484,16.961063385009766,16.847496032714844,16.721298217773438,16.740222930908203,16.847496032714844,16.651884078979492,16.639266967773438,16.639266967773438,16.626644134521484,16.298532485961914,16.229114532470703,16.00827407836914,15.831597328186035,16.01458168029785,15.875770568847656,15.888385772705078,15.856828689575195,15.705397605895996,15.541337966918945,15.459312438964844,15.238466262817383,15.402520179748535,15.894695281982422,15.793737411499023,15.970412254333496,15.901010513305664,15.730633735656738,15.825285911560059,16.311153411865234,16.374248504638672,16.27959442138672,16.147079467773438,16.077688217163086,16.159706115722656,16.05875587463379,16.096616744995117,15.91362476348877,15.875770568847656,16.109233856201172,15.983030319213867,16.05875587463379,16.374248504638672,17.377531051635742,17.18822479248047,17.175600051879883,16.7591609954834,16.70867347717285,16.48782730102539,16.626644134521484,16.614025115966797,16.595096588134766,16.48151969909668,16.266979217529297,16.361637115478516,16.367944717407227,16.367944717407227,16.46889305114746,16.31746482849121,16.115549087524414,16.298532485961914,16.166025161743164,16.235431671142578,16.336383819580078,16.254365921020508,16.46889305114746,16.494142532348633,16.525691986083984,16.550928115844727,16.475210189819336,16.48782730102539,16.336383819580078,16.374248504638672,16.677122116088867,16.784393310546875,16.702367782592773,16.891658782958984,16.973690032958984,17.295499801635742,17.23870849609375,17.522655487060547,17.88862419128418,17.88862419128418,17.850765228271484,17.857080459594727,17.913864135742188,18.02744483947754,17.844463348388672,17.9832763671875,18.021141052246094,18.065305709838867,18.02744483947754,17.680400848388672,17.730880737304688,17.440624237060547,17.579439163208008,17.59837532043457,17.415386199951172,17.74981117248535,17.585750579833984,17.339662551879883,17.636232376098633,17.869693756103516,18.210430145263672,18.298776626586914,17.686710357666016,18.08423614501953,17.945423126220703,18.03376007080078,17.970659255981445,17.976966857910156,17.995895385742188,17.71194839477539,17.705642700195312,17.37122344970703,17.12512969970703,17.150365829467773,17.49110221862793,17.295499801635742,16.961063385009766,17.049413681030273,17.09358024597168,17.068342208862305,17.327043533325195,17.11250114440918,17.162986755371094,17.238927841186523,17.238927841186523,17.435121536254883,17.365503311157227,17.378156661987305,17.276901245117188,17.276901245117188,17.3338565826416,17.479415893554688,17.15665626525879,17.31488037109375,17.251585006713867,17.264244079589844,17.39715003967285,17.245258331298828,17.365503311157227,17.207284927368164,17.251585006713867,17.409807205200195,17.409807205200195,17.251585006713867,17.162981033325195,17.308549880981445,17.270566940307617,17.207284927368164,17.257915496826172,17.454099655151367,17.498401641845703,17.878114700317383,17.795839309692383,17.96038055419922,18.055316925048828,17.827491760253906,17.713579177856445,17.757871627807617,17.73888397216797,17.73888397216797,17.59333038330078,17.713579177856445,17.9793701171875,17.833810806274414,18.16290283203125,18.07430076599121,17.555356979370117,17.485740661621094,17.656618118286133,17.814823150634766,17.72623062133789,17.700910568237305,17.770532608032227,17.871780395507812,18.01734161376953,18.35275650024414,18.548938751220703,18.529956817626953,18.840055465698242,18.81473159790039,18.972946166992188,18.966625213623047,19.319293975830078,19.128854751586914,19.16411781311035,19.093582153320312,18.945466995239258,18.797338485717773,18.712697982788086,18.7902889251709,18.762073516845703,18.88198471069336,18.91019630432129,19.220544815063477,19.107694625854492,19.20643424987793,19.276973724365234,19.093582153320312,19.29813575744629,19.20643424987793,19.100637435913086,19.220544815063477,19.20643424987793,19.12179946899414,19.157058715820312,19.015993118286133,19.008947372436523,19.093582153320312,19.023042678833008,19.051259994506836,18.938411712646484,19.008947372436523,18.973670959472656,18.874927520751953,18.846715927124023,18.860820770263672,18.931350708007812,18.8890323638916,18.867874145507812,18.811452865600586,18.903141021728516,18.853769302368164,18.8890323638916,18.52930450439453,18.423513412475586,18.564579010009766,18.324764251708984,18.24012565612793,18.09200096130371,18.10610580444336,18.35297393798828,18.34592056274414,18.416454315185547,18.46583366394043,18.53636932373047,18.613956451416016,18.663326263427734,18.46583366394043,18.564579010009766,18.451725006103516,18.508155822753906,18.388246536254883,18.381187438964844,18.317710876464844,18.34592056274414,18.345918655395508,18.246871948242188,18.14781379699707,18.02753257751465,17.850666046142578,17.82943344116211,17.949724197387695,17.86480140686035,17.801132202148438,17.88603401184082,17.871885299682617,17.80820655822754,17.80820655822754,18.020463943481445,17.97093963623047,17.90726089477539,17.992164611816406,17.751609802246094,17.765756607055664,17.624258041381836,17.426149368286133,17.362472534179688,17.199743270874023,17.121919631958008,16.97333526611328,17.107765197753906,17.17852210998535,17.121919631958008,16.923812866210938,17.093610763549805,17.10068702697754,17.06531524658203,17.143144607543945,17.31294822692871,17.454448699951172,17.758682250976562,17.645479202270508,17.666702270507812,17.914337158203125,17.716236114501953,17.574726104736328,17.30587387084961,17.4403018951416,17.426149368286133,17.206815719604492,17.88603401184082,17.673786163330078,17.680856704711914,17.51812744140625,17.680856704711914,17.298799514770508,17.900178909301758,17.850666046142578,17.942636489868164,17.836511611938477,17.850666046142578,17.843584060668945,17.765756607055664,17.61717987060547,17.624258041381836,17.687931060791016,17.900178909301758,18.091815948486328,18.070526123046875,18.24087142944336,18.39702033996582,18.269258499145508,18.34733009338379,18.27635955810547,18.24796485900879,18.38282585144043,18.503477096557617,18.31184196472168,18.318946838378906,18.30474853515625,18.049236297607422,18.006662368774414,18.106016159057617,18.02794075012207,18.106016159057617,18.049236297607422,17.964067459106445,17.999553680419922,17.92857551574707,17.772430419921875,17.772430419921875,17.822107315063477,17.850502014160156,17.793731689453125,17.964067459106445,17.772430419921875,17.77951431274414,17.793731689453125,17.80791664123535,17.630475997924805,17.5382080078125,17.7298526763916],\"type\":\"scatter\"}],                        {\"template\":{\"data\":{\"bar\":[{\"error_x\":{\"color\":\"#2a3f5f\"},\"error_y\":{\"color\":\"#2a3f5f\"},\"marker\":{\"line\":{\"color\":\"#E5ECF6\",\"width\":0.5},\"pattern\":{\"fillmode\":\"overlay\",\"size\":10,\"solidity\":0.2}},\"type\":\"bar\"}],\"barpolar\":[{\"marker\":{\"line\":{\"color\":\"#E5ECF6\",\"width\":0.5},\"pattern\":{\"fillmode\":\"overlay\",\"size\":10,\"solidity\":0.2}},\"type\":\"barpolar\"}],\"carpet\":[{\"aaxis\":{\"endlinecolor\":\"#2a3f5f\",\"gridcolor\":\"white\",\"linecolor\":\"white\",\"minorgridcolor\":\"white\",\"startlinecolor\":\"#2a3f5f\"},\"baxis\":{\"endlinecolor\":\"#2a3f5f\",\"gridcolor\":\"white\",\"linecolor\":\"white\",\"minorgridcolor\":\"white\",\"startlinecolor\":\"#2a3f5f\"},\"type\":\"carpet\"}],\"choropleth\":[{\"colorbar\":{\"outlinewidth\":0,\"ticks\":\"\"},\"type\":\"choropleth\"}],\"contour\":[{\"colorbar\":{\"outlinewidth\":0,\"ticks\":\"\"},\"colorscale\":[[0.0,\"#0d0887\"],[0.1111111111111111,\"#46039f\"],[0.2222222222222222,\"#7201a8\"],[0.3333333333333333,\"#9c179e\"],[0.4444444444444444,\"#bd3786\"],[0.5555555555555556,\"#d8576b\"],[0.6666666666666666,\"#ed7953\"],[0.7777777777777778,\"#fb9f3a\"],[0.8888888888888888,\"#fdca26\"],[1.0,\"#f0f921\"]],\"type\":\"contour\"}],\"contourcarpet\":[{\"colorbar\":{\"outlinewidth\":0,\"ticks\":\"\"},\"type\":\"contourcarpet\"}],\"heatmap\":[{\"colorbar\":{\"outlinewidth\":0,\"ticks\":\"\"},\"colorscale\":[[0.0,\"#0d0887\"],[0.1111111111111111,\"#46039f\"],[0.2222222222222222,\"#7201a8\"],[0.3333333333333333,\"#9c179e\"],[0.4444444444444444,\"#bd3786\"],[0.5555555555555556,\"#d8576b\"],[0.6666666666666666,\"#ed7953\"],[0.7777777777777778,\"#fb9f3a\"],[0.8888888888888888,\"#fdca26\"],[1.0,\"#f0f921\"]],\"type\":\"heatmap\"}],\"heatmapgl\":[{\"colorbar\":{\"outlinewidth\":0,\"ticks\":\"\"},\"colorscale\":[[0.0,\"#0d0887\"],[0.1111111111111111,\"#46039f\"],[0.2222222222222222,\"#7201a8\"],[0.3333333333333333,\"#9c179e\"],[0.4444444444444444,\"#bd3786\"],[0.5555555555555556,\"#d8576b\"],[0.6666666666666666,\"#ed7953\"],[0.7777777777777778,\"#fb9f3a\"],[0.8888888888888888,\"#fdca26\"],[1.0,\"#f0f921\"]],\"type\":\"heatmapgl\"}],\"histogram\":[{\"marker\":{\"pattern\":{\"fillmode\":\"overlay\",\"size\":10,\"solidity\":0.2}},\"type\":\"histogram\"}],\"histogram2d\":[{\"colorbar\":{\"outlinewidth\":0,\"ticks\":\"\"},\"colorscale\":[[0.0,\"#0d0887\"],[0.1111111111111111,\"#46039f\"],[0.2222222222222222,\"#7201a8\"],[0.3333333333333333,\"#9c179e\"],[0.4444444444444444,\"#bd3786\"],[0.5555555555555556,\"#d8576b\"],[0.6666666666666666,\"#ed7953\"],[0.7777777777777778,\"#fb9f3a\"],[0.8888888888888888,\"#fdca26\"],[1.0,\"#f0f921\"]],\"type\":\"histogram2d\"}],\"histogram2dcontour\":[{\"colorbar\":{\"outlinewidth\":0,\"ticks\":\"\"},\"colorscale\":[[0.0,\"#0d0887\"],[0.1111111111111111,\"#46039f\"],[0.2222222222222222,\"#7201a8\"],[0.3333333333333333,\"#9c179e\"],[0.4444444444444444,\"#bd3786\"],[0.5555555555555556,\"#d8576b\"],[0.6666666666666666,\"#ed7953\"],[0.7777777777777778,\"#fb9f3a\"],[0.8888888888888888,\"#fdca26\"],[1.0,\"#f0f921\"]],\"type\":\"histogram2dcontour\"}],\"mesh3d\":[{\"colorbar\":{\"outlinewidth\":0,\"ticks\":\"\"},\"type\":\"mesh3d\"}],\"parcoords\":[{\"line\":{\"colorbar\":{\"outlinewidth\":0,\"ticks\":\"\"}},\"type\":\"parcoords\"}],\"pie\":[{\"automargin\":true,\"type\":\"pie\"}],\"scatter\":[{\"marker\":{\"colorbar\":{\"outlinewidth\":0,\"ticks\":\"\"}},\"type\":\"scatter\"}],\"scatter3d\":[{\"line\":{\"colorbar\":{\"outlinewidth\":0,\"ticks\":\"\"}},\"marker\":{\"colorbar\":{\"outlinewidth\":0,\"ticks\":\"\"}},\"type\":\"scatter3d\"}],\"scattercarpet\":[{\"marker\":{\"colorbar\":{\"outlinewidth\":0,\"ticks\":\"\"}},\"type\":\"scattercarpet\"}],\"scattergeo\":[{\"marker\":{\"colorbar\":{\"outlinewidth\":0,\"ticks\":\"\"}},\"type\":\"scattergeo\"}],\"scattergl\":[{\"marker\":{\"colorbar\":{\"outlinewidth\":0,\"ticks\":\"\"}},\"type\":\"scattergl\"}],\"scattermapbox\":[{\"marker\":{\"colorbar\":{\"outlinewidth\":0,\"ticks\":\"\"}},\"type\":\"scattermapbox\"}],\"scatterpolar\":[{\"marker\":{\"colorbar\":{\"outlinewidth\":0,\"ticks\":\"\"}},\"type\":\"scatterpolar\"}],\"scatterpolargl\":[{\"marker\":{\"colorbar\":{\"outlinewidth\":0,\"ticks\":\"\"}},\"type\":\"scatterpolargl\"}],\"scatterternary\":[{\"marker\":{\"colorbar\":{\"outlinewidth\":0,\"ticks\":\"\"}},\"type\":\"scatterternary\"}],\"surface\":[{\"colorbar\":{\"outlinewidth\":0,\"ticks\":\"\"},\"colorscale\":[[0.0,\"#0d0887\"],[0.1111111111111111,\"#46039f\"],[0.2222222222222222,\"#7201a8\"],[0.3333333333333333,\"#9c179e\"],[0.4444444444444444,\"#bd3786\"],[0.5555555555555556,\"#d8576b\"],[0.6666666666666666,\"#ed7953\"],[0.7777777777777778,\"#fb9f3a\"],[0.8888888888888888,\"#fdca26\"],[1.0,\"#f0f921\"]],\"type\":\"surface\"}],\"table\":[{\"cells\":{\"fill\":{\"color\":\"#EBF0F8\"},\"line\":{\"color\":\"white\"}},\"header\":{\"fill\":{\"color\":\"#C8D4E3\"},\"line\":{\"color\":\"white\"}},\"type\":\"table\"}]},\"layout\":{\"annotationdefaults\":{\"arrowcolor\":\"#2a3f5f\",\"arrowhead\":0,\"arrowwidth\":1},\"autotypenumbers\":\"strict\",\"coloraxis\":{\"colorbar\":{\"outlinewidth\":0,\"ticks\":\"\"}},\"colorscale\":{\"diverging\":[[0,\"#8e0152\"],[0.1,\"#c51b7d\"],[0.2,\"#de77ae\"],[0.3,\"#f1b6da\"],[0.4,\"#fde0ef\"],[0.5,\"#f7f7f7\"],[0.6,\"#e6f5d0\"],[0.7,\"#b8e186\"],[0.8,\"#7fbc41\"],[0.9,\"#4d9221\"],[1,\"#276419\"]],\"sequential\":[[0.0,\"#0d0887\"],[0.1111111111111111,\"#46039f\"],[0.2222222222222222,\"#7201a8\"],[0.3333333333333333,\"#9c179e\"],[0.4444444444444444,\"#bd3786\"],[0.5555555555555556,\"#d8576b\"],[0.6666666666666666,\"#ed7953\"],[0.7777777777777778,\"#fb9f3a\"],[0.8888888888888888,\"#fdca26\"],[1.0,\"#f0f921\"]],\"sequentialminus\":[[0.0,\"#0d0887\"],[0.1111111111111111,\"#46039f\"],[0.2222222222222222,\"#7201a8\"],[0.3333333333333333,\"#9c179e\"],[0.4444444444444444,\"#bd3786\"],[0.5555555555555556,\"#d8576b\"],[0.6666666666666666,\"#ed7953\"],[0.7777777777777778,\"#fb9f3a\"],[0.8888888888888888,\"#fdca26\"],[1.0,\"#f0f921\"]]},\"colorway\":[\"#636efa\",\"#EF553B\",\"#00cc96\",\"#ab63fa\",\"#FFA15A\",\"#19d3f3\",\"#FF6692\",\"#B6E880\",\"#FF97FF\",\"#FECB52\"],\"font\":{\"color\":\"#2a3f5f\"},\"geo\":{\"bgcolor\":\"white\",\"lakecolor\":\"white\",\"landcolor\":\"#E5ECF6\",\"showlakes\":true,\"showland\":true,\"subunitcolor\":\"white\"},\"hoverlabel\":{\"align\":\"left\"},\"hovermode\":\"closest\",\"mapbox\":{\"style\":\"light\"},\"paper_bgcolor\":\"white\",\"plot_bgcolor\":\"#E5ECF6\",\"polar\":{\"angularaxis\":{\"gridcolor\":\"white\",\"linecolor\":\"white\",\"ticks\":\"\"},\"bgcolor\":\"#E5ECF6\",\"radialaxis\":{\"gridcolor\":\"white\",\"linecolor\":\"white\",\"ticks\":\"\"}},\"scene\":{\"xaxis\":{\"backgroundcolor\":\"#E5ECF6\",\"gridcolor\":\"white\",\"gridwidth\":2,\"linecolor\":\"white\",\"showbackground\":true,\"ticks\":\"\",\"zerolinecolor\":\"white\"},\"yaxis\":{\"backgroundcolor\":\"#E5ECF6\",\"gridcolor\":\"white\",\"gridwidth\":2,\"linecolor\":\"white\",\"showbackground\":true,\"ticks\":\"\",\"zerolinecolor\":\"white\"},\"zaxis\":{\"backgroundcolor\":\"#E5ECF6\",\"gridcolor\":\"white\",\"gridwidth\":2,\"linecolor\":\"white\",\"showbackground\":true,\"ticks\":\"\",\"zerolinecolor\":\"white\"}},\"shapedefaults\":{\"line\":{\"color\":\"#2a3f5f\"}},\"ternary\":{\"aaxis\":{\"gridcolor\":\"white\",\"linecolor\":\"white\",\"ticks\":\"\"},\"baxis\":{\"gridcolor\":\"white\",\"linecolor\":\"white\",\"ticks\":\"\"},\"bgcolor\":\"#E5ECF6\",\"caxis\":{\"gridcolor\":\"white\",\"linecolor\":\"white\",\"ticks\":\"\"}},\"title\":{\"x\":0.05},\"xaxis\":{\"automargin\":true,\"gridcolor\":\"white\",\"linecolor\":\"white\",\"ticks\":\"\",\"title\":{\"standoff\":15},\"zerolinecolor\":\"white\",\"zerolinewidth\":2},\"yaxis\":{\"automargin\":true,\"gridcolor\":\"white\",\"linecolor\":\"white\",\"ticks\":\"\",\"title\":{\"standoff\":15},\"zerolinecolor\":\"white\",\"zerolinewidth\":2}}}},                        {\"responsive\": true}                    ).then(function(){\n",
              "                            \n",
              "var gd = document.getElementById('d28221b7-4cad-4b21-b661-678bcd247f07');\n",
              "var x = new MutationObserver(function (mutations, observer) {{\n",
              "        var display = window.getComputedStyle(gd).display;\n",
              "        if (!display || display === 'none') {{\n",
              "            console.log([gd, 'removed!']);\n",
              "            Plotly.purge(gd);\n",
              "            observer.disconnect();\n",
              "        }}\n",
              "}});\n",
              "\n",
              "// Listen for the removal of the full notebook cells\n",
              "var notebookContainer = gd.closest('#notebook-container');\n",
              "if (notebookContainer) {{\n",
              "    x.observe(notebookContainer, {childList: true});\n",
              "}}\n",
              "\n",
              "// Listen for the clearing of the current output cell\n",
              "var outputEl = gd.closest('.output');\n",
              "if (outputEl) {{\n",
              "    x.observe(outputEl, {childList: true});\n",
              "}}\n",
              "\n",
              "                        })                };                            </script>        </div>\n",
              "</body>\n",
              "</html>"
            ]
          },
          "metadata": {}
        }
      ]
    },
    {
      "cell_type": "markdown",
      "source": [
        "### Plot the Actual v/s Predicted Without Optimization\n"
      ],
      "metadata": {
        "id": "jSuUNkHSVDXH"
      }
    },
    {
      "cell_type": "code",
      "source": [
        "\n",
        "fig = go.Figure([go.Scatter(x=df['ds'], y=df['y'],mode='lines',\n",
        "                    name='Actual')])\n",
        "#You can add traces using an Express plot by using add_trace\n",
        "fig.add_trace(go.Scatter(x=prediction['ds'], y=prediction['yhat'],\n",
        "                   mode='lines+markers',\n",
        "                    name='predicted'))\n",
        "#To display a figure using the renderers framework, you call the .show() method on a graph object figure, or pass the figure to the plotly.io.show function. \n",
        "#With either approach, plotly.py will display the figure using the current default renderer(s).\n",
        "fig.show()"
      ],
      "metadata": {
        "colab": {
          "base_uri": "https://localhost:8080/",
          "height": 0
        },
        "id": "dbXvnqqnVDXH",
        "outputId": "2e928136-e2fc-4ca3-a08b-b7d31f9d6c15"
      },
      "execution_count": 27,
      "outputs": [
        {
          "output_type": "display_data",
          "data": {
            "text/html": [
              "<html>\n",
              "<head><meta charset=\"utf-8\" /></head>\n",
              "<body>\n",
              "    <div>            <script src=\"https://cdnjs.cloudflare.com/ajax/libs/mathjax/2.7.5/MathJax.js?config=TeX-AMS-MML_SVG\"></script><script type=\"text/javascript\">if (window.MathJax) {MathJax.Hub.Config({SVG: {font: \"STIX-Web\"}});}</script>                <script type=\"text/javascript\">window.PlotlyConfig = {MathJaxConfig: 'local'};</script>\n",
              "        <script src=\"https://cdn.plot.ly/plotly-2.8.3.min.js\"></script>                <div id=\"85715edb-1d2a-4b91-bf7c-40cfca08ef46\" class=\"plotly-graph-div\" style=\"height:525px; width:100%;\"></div>            <script type=\"text/javascript\">                                    window.PLOTLYENV=window.PLOTLYENV || {};                                    if (document.getElementById(\"85715edb-1d2a-4b91-bf7c-40cfca08ef46\")) {                    Plotly.newPlot(                        \"85715edb-1d2a-4b91-bf7c-40cfca08ef46\",                        [{\"mode\":\"lines\",\"name\":\"Actual\",\"x\":[\"2002-07-08T00:00:00\",\"2002-07-09T00:00:00\",\"2002-07-10T00:00:00\",\"2002-07-11T00:00:00\",\"2002-07-12T00:00:00\",\"2002-07-15T00:00:00\",\"2002-07-16T00:00:00\",\"2002-07-17T00:00:00\",\"2002-07-18T00:00:00\",\"2002-07-19T00:00:00\",\"2002-07-22T00:00:00\",\"2002-07-23T00:00:00\",\"2002-07-24T00:00:00\",\"2002-07-25T00:00:00\",\"2002-07-26T00:00:00\",\"2002-07-29T00:00:00\",\"2002-07-30T00:00:00\",\"2002-07-31T00:00:00\",\"2002-08-01T00:00:00\",\"2002-08-02T00:00:00\",\"2002-08-05T00:00:00\",\"2002-08-06T00:00:00\",\"2002-08-07T00:00:00\",\"2002-08-08T00:00:00\",\"2002-08-09T00:00:00\",\"2002-08-12T00:00:00\",\"2002-08-13T00:00:00\",\"2002-08-14T00:00:00\",\"2002-08-15T00:00:00\",\"2002-08-16T00:00:00\",\"2002-08-19T00:00:00\",\"2002-08-20T00:00:00\",\"2002-08-21T00:00:00\",\"2002-08-22T00:00:00\",\"2002-08-23T00:00:00\",\"2002-08-26T00:00:00\",\"2002-08-27T00:00:00\",\"2002-08-28T00:00:00\",\"2002-08-29T00:00:00\",\"2002-08-30T00:00:00\",\"2002-09-03T00:00:00\",\"2002-09-04T00:00:00\",\"2002-09-05T00:00:00\",\"2002-09-06T00:00:00\",\"2002-09-09T00:00:00\",\"2002-09-10T00:00:00\",\"2002-09-11T00:00:00\",\"2002-09-12T00:00:00\",\"2002-09-13T00:00:00\",\"2002-09-16T00:00:00\",\"2002-09-17T00:00:00\",\"2002-09-18T00:00:00\",\"2002-09-19T00:00:00\",\"2002-09-20T00:00:00\",\"2002-09-23T00:00:00\",\"2002-09-24T00:00:00\",\"2002-09-25T00:00:00\",\"2002-09-26T00:00:00\",\"2002-09-27T00:00:00\",\"2002-09-30T00:00:00\",\"2002-10-01T00:00:00\",\"2002-10-02T00:00:00\",\"2002-10-03T00:00:00\",\"2002-10-04T00:00:00\",\"2002-10-07T00:00:00\",\"2002-10-08T00:00:00\",\"2002-10-09T00:00:00\",\"2002-10-10T00:00:00\",\"2002-10-11T00:00:00\",\"2002-10-14T00:00:00\",\"2002-10-15T00:00:00\",\"2002-10-16T00:00:00\",\"2002-10-17T00:00:00\",\"2002-10-18T00:00:00\",\"2002-10-21T00:00:00\",\"2002-10-22T00:00:00\",\"2002-10-23T00:00:00\",\"2002-10-24T00:00:00\",\"2002-10-25T00:00:00\",\"2002-10-28T00:00:00\",\"2002-10-29T00:00:00\",\"2002-10-30T00:00:00\",\"2002-10-31T00:00:00\",\"2002-11-01T00:00:00\",\"2002-11-04T00:00:00\",\"2002-11-05T00:00:00\",\"2002-11-06T00:00:00\",\"2002-11-07T00:00:00\",\"2002-11-08T00:00:00\",\"2002-11-11T00:00:00\",\"2002-11-12T00:00:00\",\"2002-11-13T00:00:00\",\"2002-11-14T00:00:00\",\"2002-11-15T00:00:00\",\"2002-11-18T00:00:00\",\"2002-11-19T00:00:00\",\"2002-11-20T00:00:00\",\"2002-11-21T00:00:00\",\"2002-11-22T00:00:00\",\"2002-11-25T00:00:00\",\"2002-11-26T00:00:00\",\"2002-11-27T00:00:00\",\"2002-11-29T00:00:00\",\"2002-12-02T00:00:00\",\"2002-12-03T00:00:00\",\"2002-12-04T00:00:00\",\"2002-12-05T00:00:00\",\"2002-12-06T00:00:00\",\"2002-12-09T00:00:00\",\"2002-12-10T00:00:00\",\"2002-12-11T00:00:00\",\"2002-12-12T00:00:00\",\"2002-12-13T00:00:00\",\"2002-12-16T00:00:00\",\"2002-12-17T00:00:00\",\"2002-12-18T00:00:00\",\"2002-12-19T00:00:00\",\"2002-12-20T00:00:00\",\"2002-12-23T00:00:00\",\"2002-12-24T00:00:00\",\"2002-12-26T00:00:00\",\"2002-12-27T00:00:00\",\"2002-12-30T00:00:00\",\"2002-12-31T00:00:00\",\"2003-01-02T00:00:00\",\"2003-01-03T00:00:00\",\"2003-01-06T00:00:00\",\"2003-01-07T00:00:00\",\"2003-01-08T00:00:00\",\"2003-01-09T00:00:00\",\"2003-01-10T00:00:00\",\"2003-01-13T00:00:00\",\"2003-01-14T00:00:00\",\"2003-01-15T00:00:00\",\"2003-01-16T00:00:00\",\"2003-01-17T00:00:00\",\"2003-01-21T00:00:00\",\"2003-01-22T00:00:00\",\"2003-01-23T00:00:00\",\"2003-01-24T00:00:00\",\"2003-01-27T00:00:00\",\"2003-01-28T00:00:00\",\"2003-01-29T00:00:00\",\"2003-01-30T00:00:00\",\"2003-01-31T00:00:00\",\"2003-02-03T00:00:00\",\"2003-02-04T00:00:00\",\"2003-02-05T00:00:00\",\"2003-02-06T00:00:00\",\"2003-02-07T00:00:00\",\"2003-02-10T00:00:00\",\"2003-02-11T00:00:00\",\"2003-02-12T00:00:00\",\"2003-02-13T00:00:00\",\"2003-02-14T00:00:00\",\"2003-02-18T00:00:00\",\"2003-02-19T00:00:00\",\"2003-02-20T00:00:00\",\"2003-02-21T00:00:00\",\"2003-02-24T00:00:00\",\"2003-02-25T00:00:00\",\"2003-02-26T00:00:00\",\"2003-02-27T00:00:00\",\"2003-02-28T00:00:00\",\"2003-03-03T00:00:00\",\"2003-03-04T00:00:00\",\"2003-03-05T00:00:00\",\"2003-03-06T00:00:00\",\"2003-03-07T00:00:00\",\"2003-03-10T00:00:00\",\"2003-03-11T00:00:00\",\"2003-03-12T00:00:00\",\"2003-03-13T00:00:00\",\"2003-03-14T00:00:00\",\"2003-03-17T00:00:00\",\"2003-03-18T00:00:00\",\"2003-03-19T00:00:00\",\"2003-03-20T00:00:00\",\"2003-03-21T00:00:00\",\"2003-03-24T00:00:00\",\"2003-03-25T00:00:00\",\"2003-03-26T00:00:00\",\"2003-03-27T00:00:00\",\"2003-03-28T00:00:00\",\"2003-03-31T00:00:00\",\"2003-04-01T00:00:00\",\"2003-04-02T00:00:00\",\"2003-04-03T00:00:00\",\"2003-04-04T00:00:00\",\"2003-04-07T00:00:00\",\"2003-04-08T00:00:00\",\"2003-04-09T00:00:00\",\"2003-04-10T00:00:00\",\"2003-04-11T00:00:00\",\"2003-04-14T00:00:00\",\"2003-04-15T00:00:00\",\"2003-04-16T00:00:00\",\"2003-04-17T00:00:00\",\"2003-04-21T00:00:00\",\"2003-04-22T00:00:00\",\"2003-04-23T00:00:00\",\"2003-04-24T00:00:00\",\"2003-04-25T00:00:00\",\"2003-04-28T00:00:00\",\"2003-04-29T00:00:00\",\"2003-04-30T00:00:00\",\"2003-05-01T00:00:00\",\"2003-05-02T00:00:00\",\"2003-05-05T00:00:00\",\"2003-05-06T00:00:00\",\"2003-05-07T00:00:00\",\"2003-05-08T00:00:00\",\"2003-05-09T00:00:00\",\"2003-05-12T00:00:00\",\"2003-05-13T00:00:00\",\"2003-05-14T00:00:00\",\"2003-05-15T00:00:00\",\"2003-05-16T00:00:00\",\"2003-05-19T00:00:00\",\"2003-05-20T00:00:00\",\"2003-05-21T00:00:00\",\"2003-05-22T00:00:00\",\"2003-05-23T00:00:00\",\"2003-05-27T00:00:00\",\"2003-05-28T00:00:00\",\"2003-05-29T00:00:00\",\"2003-05-30T00:00:00\",\"2003-06-02T00:00:00\",\"2003-06-03T00:00:00\",\"2003-06-04T00:00:00\",\"2003-06-05T00:00:00\",\"2003-06-06T00:00:00\",\"2003-06-09T00:00:00\",\"2003-06-10T00:00:00\",\"2003-06-11T00:00:00\",\"2003-06-12T00:00:00\",\"2003-06-13T00:00:00\",\"2003-06-16T00:00:00\",\"2003-06-17T00:00:00\",\"2003-06-18T00:00:00\",\"2003-06-19T00:00:00\",\"2003-06-20T00:00:00\",\"2003-06-23T00:00:00\",\"2003-06-24T00:00:00\",\"2003-06-25T00:00:00\",\"2003-06-26T00:00:00\",\"2003-06-27T00:00:00\",\"2003-06-30T00:00:00\",\"2003-07-01T00:00:00\",\"2003-07-02T00:00:00\",\"2003-07-03T00:00:00\",\"2003-07-07T00:00:00\",\"2003-07-08T00:00:00\",\"2003-07-09T00:00:00\",\"2003-07-10T00:00:00\",\"2003-07-11T00:00:00\",\"2003-07-14T00:00:00\",\"2003-07-15T00:00:00\",\"2003-07-16T00:00:00\",\"2003-07-17T00:00:00\",\"2003-07-18T00:00:00\",\"2003-07-21T00:00:00\",\"2003-07-22T00:00:00\",\"2003-07-23T00:00:00\",\"2003-07-24T00:00:00\",\"2003-07-25T00:00:00\",\"2003-07-28T00:00:00\",\"2003-07-29T00:00:00\",\"2003-07-30T00:00:00\",\"2003-07-31T00:00:00\",\"2003-08-01T00:00:00\",\"2003-08-04T00:00:00\",\"2003-08-05T00:00:00\",\"2003-08-06T00:00:00\",\"2003-08-07T00:00:00\",\"2003-08-08T00:00:00\",\"2003-08-11T00:00:00\",\"2003-08-12T00:00:00\",\"2003-08-13T00:00:00\",\"2003-08-14T00:00:00\",\"2003-08-15T00:00:00\",\"2003-08-18T00:00:00\",\"2003-08-19T00:00:00\",\"2003-08-20T00:00:00\",\"2003-08-21T00:00:00\",\"2003-08-22T00:00:00\",\"2003-08-25T00:00:00\",\"2003-08-26T00:00:00\",\"2003-08-27T00:00:00\",\"2003-08-28T00:00:00\",\"2003-08-29T00:00:00\",\"2003-09-02T00:00:00\",\"2003-09-03T00:00:00\",\"2003-09-04T00:00:00\",\"2003-09-05T00:00:00\",\"2003-09-08T00:00:00\",\"2003-09-09T00:00:00\",\"2003-09-10T00:00:00\",\"2003-09-11T00:00:00\",\"2003-09-12T00:00:00\",\"2003-09-15T00:00:00\",\"2003-09-16T00:00:00\",\"2003-09-17T00:00:00\",\"2003-09-18T00:00:00\",\"2003-09-19T00:00:00\",\"2003-09-22T00:00:00\",\"2003-09-23T00:00:00\",\"2003-09-24T00:00:00\",\"2003-09-25T00:00:00\",\"2003-09-26T00:00:00\",\"2003-09-29T00:00:00\",\"2003-09-30T00:00:00\",\"2003-10-01T00:00:00\",\"2003-10-02T00:00:00\",\"2003-10-03T00:00:00\",\"2003-10-06T00:00:00\",\"2003-10-07T00:00:00\",\"2003-10-08T00:00:00\",\"2003-10-09T00:00:00\",\"2003-10-10T00:00:00\",\"2003-10-13T00:00:00\",\"2003-10-14T00:00:00\",\"2003-10-15T00:00:00\",\"2003-10-16T00:00:00\",\"2003-10-17T00:00:00\",\"2003-10-20T00:00:00\",\"2003-10-21T00:00:00\",\"2003-10-22T00:00:00\",\"2003-10-23T00:00:00\",\"2003-10-24T00:00:00\",\"2003-10-27T00:00:00\",\"2003-10-28T00:00:00\",\"2003-10-29T00:00:00\",\"2003-10-30T00:00:00\",\"2003-10-31T00:00:00\",\"2003-11-03T00:00:00\",\"2003-11-04T00:00:00\",\"2003-11-05T00:00:00\",\"2003-11-06T00:00:00\",\"2003-11-07T00:00:00\",\"2003-11-10T00:00:00\",\"2003-11-11T00:00:00\",\"2003-11-12T00:00:00\",\"2003-11-13T00:00:00\",\"2003-11-14T00:00:00\",\"2003-11-17T00:00:00\",\"2003-11-18T00:00:00\",\"2003-11-19T00:00:00\",\"2003-11-20T00:00:00\",\"2003-11-21T00:00:00\",\"2003-11-24T00:00:00\",\"2003-11-25T00:00:00\",\"2003-11-26T00:00:00\",\"2003-11-28T00:00:00\",\"2003-12-01T00:00:00\",\"2003-12-02T00:00:00\",\"2003-12-03T00:00:00\",\"2003-12-04T00:00:00\",\"2003-12-05T00:00:00\",\"2003-12-08T00:00:00\",\"2003-12-09T00:00:00\",\"2003-12-10T00:00:00\",\"2003-12-11T00:00:00\",\"2003-12-12T00:00:00\",\"2003-12-15T00:00:00\",\"2003-12-16T00:00:00\",\"2003-12-17T00:00:00\",\"2003-12-18T00:00:00\",\"2003-12-19T00:00:00\",\"2003-12-22T00:00:00\",\"2003-12-23T00:00:00\",\"2003-12-24T00:00:00\",\"2003-12-26T00:00:00\",\"2003-12-29T00:00:00\",\"2003-12-30T00:00:00\",\"2003-12-31T00:00:00\",\"2004-01-02T00:00:00\",\"2004-01-05T00:00:00\",\"2004-01-06T00:00:00\",\"2004-01-07T00:00:00\",\"2004-01-08T00:00:00\",\"2004-01-09T00:00:00\",\"2004-01-12T00:00:00\",\"2004-01-13T00:00:00\",\"2004-01-14T00:00:00\",\"2004-01-15T00:00:00\",\"2004-01-16T00:00:00\",\"2004-01-20T00:00:00\",\"2004-01-21T00:00:00\",\"2004-01-22T00:00:00\",\"2004-01-23T00:00:00\",\"2004-01-26T00:00:00\",\"2004-01-27T00:00:00\",\"2004-01-28T00:00:00\",\"2004-01-29T00:00:00\",\"2004-01-30T00:00:00\",\"2004-02-02T00:00:00\",\"2004-02-03T00:00:00\",\"2004-02-04T00:00:00\",\"2004-02-05T00:00:00\",\"2004-02-06T00:00:00\",\"2004-02-09T00:00:00\",\"2004-02-10T00:00:00\",\"2004-02-11T00:00:00\",\"2004-02-12T00:00:00\",\"2004-02-13T00:00:00\",\"2004-02-17T00:00:00\",\"2004-02-18T00:00:00\",\"2004-02-19T00:00:00\",\"2004-02-20T00:00:00\",\"2004-02-23T00:00:00\",\"2004-02-24T00:00:00\",\"2004-02-25T00:00:00\",\"2004-02-26T00:00:00\",\"2004-02-27T00:00:00\",\"2004-03-01T00:00:00\",\"2004-03-02T00:00:00\",\"2004-03-03T00:00:00\",\"2004-03-04T00:00:00\",\"2004-03-05T00:00:00\",\"2004-03-08T00:00:00\",\"2004-03-09T00:00:00\",\"2004-03-10T00:00:00\",\"2004-03-11T00:00:00\",\"2004-03-12T00:00:00\",\"2004-03-15T00:00:00\",\"2004-03-16T00:00:00\",\"2004-03-17T00:00:00\",\"2004-03-18T00:00:00\",\"2004-03-19T00:00:00\",\"2004-03-22T00:00:00\",\"2004-03-23T00:00:00\",\"2004-03-24T00:00:00\",\"2004-03-25T00:00:00\",\"2004-03-26T00:00:00\",\"2004-03-29T00:00:00\",\"2004-03-30T00:00:00\",\"2004-03-31T00:00:00\",\"2004-04-01T00:00:00\",\"2004-04-02T00:00:00\",\"2004-04-05T00:00:00\",\"2004-04-06T00:00:00\",\"2004-04-07T00:00:00\",\"2004-04-08T00:00:00\",\"2004-04-12T00:00:00\",\"2004-04-13T00:00:00\",\"2004-04-14T00:00:00\",\"2004-04-15T00:00:00\",\"2004-04-16T00:00:00\",\"2004-04-19T00:00:00\",\"2004-04-20T00:00:00\",\"2004-04-21T00:00:00\",\"2004-04-22T00:00:00\",\"2004-04-23T00:00:00\",\"2004-04-26T00:00:00\",\"2004-04-27T00:00:00\",\"2004-04-28T00:00:00\",\"2004-04-29T00:00:00\",\"2004-04-30T00:00:00\",\"2004-05-03T00:00:00\",\"2004-05-04T00:00:00\",\"2004-05-05T00:00:00\",\"2004-05-06T00:00:00\",\"2004-05-07T00:00:00\",\"2004-05-10T00:00:00\",\"2004-05-11T00:00:00\",\"2004-05-12T00:00:00\",\"2004-05-13T00:00:00\",\"2004-05-14T00:00:00\",\"2004-05-17T00:00:00\",\"2004-05-18T00:00:00\",\"2004-05-19T00:00:00\",\"2004-05-20T00:00:00\",\"2004-05-21T00:00:00\",\"2004-05-24T00:00:00\",\"2004-05-25T00:00:00\",\"2004-05-26T00:00:00\",\"2004-05-27T00:00:00\",\"2004-05-28T00:00:00\",\"2004-06-01T00:00:00\",\"2004-06-02T00:00:00\",\"2004-06-03T00:00:00\",\"2004-06-04T00:00:00\",\"2004-06-07T00:00:00\",\"2004-06-08T00:00:00\",\"2004-06-09T00:00:00\",\"2004-06-10T00:00:00\",\"2004-06-14T00:00:00\",\"2004-06-15T00:00:00\",\"2004-06-16T00:00:00\",\"2004-06-17T00:00:00\",\"2004-06-18T00:00:00\",\"2004-06-21T00:00:00\",\"2004-06-22T00:00:00\",\"2004-06-23T00:00:00\",\"2004-06-24T00:00:00\",\"2004-06-25T00:00:00\",\"2004-06-28T00:00:00\",\"2004-06-29T00:00:00\",\"2004-06-30T00:00:00\",\"2004-07-01T00:00:00\",\"2004-07-02T00:00:00\",\"2004-07-06T00:00:00\",\"2004-07-07T00:00:00\",\"2004-07-08T00:00:00\",\"2004-07-09T00:00:00\",\"2004-07-12T00:00:00\",\"2004-07-13T00:00:00\",\"2004-07-14T00:00:00\",\"2004-07-15T00:00:00\",\"2004-07-16T00:00:00\",\"2004-07-19T00:00:00\",\"2004-07-20T00:00:00\",\"2004-07-21T00:00:00\",\"2004-07-22T00:00:00\",\"2004-07-23T00:00:00\",\"2004-07-26T00:00:00\",\"2004-07-27T00:00:00\",\"2004-07-28T00:00:00\",\"2004-07-29T00:00:00\",\"2004-07-30T00:00:00\",\"2004-08-02T00:00:00\",\"2004-08-03T00:00:00\",\"2004-08-04T00:00:00\",\"2004-08-05T00:00:00\",\"2004-08-06T00:00:00\",\"2004-08-09T00:00:00\",\"2004-08-10T00:00:00\",\"2004-08-11T00:00:00\",\"2004-08-12T00:00:00\",\"2004-08-13T00:00:00\",\"2004-08-16T00:00:00\",\"2004-08-17T00:00:00\",\"2004-08-18T00:00:00\",\"2004-08-19T00:00:00\",\"2004-08-20T00:00:00\",\"2004-08-23T00:00:00\",\"2004-08-24T00:00:00\",\"2004-08-25T00:00:00\",\"2004-08-26T00:00:00\",\"2004-08-27T00:00:00\",\"2004-08-30T00:00:00\",\"2004-08-31T00:00:00\",\"2004-09-01T00:00:00\",\"2004-09-02T00:00:00\",\"2004-09-03T00:00:00\",\"2004-09-07T00:00:00\",\"2004-09-08T00:00:00\",\"2004-09-09T00:00:00\",\"2004-09-10T00:00:00\",\"2004-09-13T00:00:00\",\"2004-09-14T00:00:00\",\"2004-09-15T00:00:00\",\"2004-09-16T00:00:00\",\"2004-09-17T00:00:00\",\"2004-09-20T00:00:00\",\"2004-09-21T00:00:00\",\"2004-09-22T00:00:00\",\"2004-09-23T00:00:00\",\"2004-09-24T00:00:00\",\"2004-09-27T00:00:00\",\"2004-09-28T00:00:00\",\"2004-09-29T00:00:00\",\"2004-09-30T00:00:00\",\"2004-10-01T00:00:00\",\"2004-10-04T00:00:00\",\"2004-10-05T00:00:00\",\"2004-10-06T00:00:00\",\"2004-10-07T00:00:00\",\"2004-10-08T00:00:00\",\"2004-10-11T00:00:00\",\"2004-10-12T00:00:00\",\"2004-10-13T00:00:00\",\"2004-10-14T00:00:00\",\"2004-10-15T00:00:00\",\"2004-10-18T00:00:00\",\"2004-10-19T00:00:00\",\"2004-10-20T00:00:00\",\"2004-10-21T00:00:00\",\"2004-10-22T00:00:00\",\"2004-10-25T00:00:00\",\"2004-10-26T00:00:00\",\"2004-10-27T00:00:00\",\"2004-10-28T00:00:00\",\"2004-10-29T00:00:00\",\"2004-11-01T00:00:00\",\"2004-11-02T00:00:00\",\"2004-11-03T00:00:00\",\"2004-11-04T00:00:00\",\"2004-11-05T00:00:00\",\"2004-11-08T00:00:00\",\"2004-11-09T00:00:00\",\"2004-11-10T00:00:00\",\"2004-11-11T00:00:00\",\"2004-11-12T00:00:00\",\"2004-11-15T00:00:00\",\"2004-11-16T00:00:00\",\"2004-11-17T00:00:00\",\"2004-11-18T00:00:00\",\"2004-11-19T00:00:00\",\"2004-11-22T00:00:00\",\"2004-11-23T00:00:00\",\"2004-11-24T00:00:00\",\"2004-11-26T00:00:00\",\"2004-11-29T00:00:00\",\"2004-11-30T00:00:00\",\"2004-12-01T00:00:00\",\"2004-12-02T00:00:00\",\"2004-12-03T00:00:00\",\"2004-12-06T00:00:00\",\"2004-12-07T00:00:00\",\"2004-12-08T00:00:00\",\"2004-12-09T00:00:00\",\"2004-12-10T00:00:00\",\"2004-12-13T00:00:00\",\"2004-12-14T00:00:00\",\"2004-12-15T00:00:00\",\"2004-12-16T00:00:00\",\"2004-12-17T00:00:00\",\"2004-12-20T00:00:00\",\"2004-12-21T00:00:00\",\"2004-12-22T00:00:00\",\"2004-12-23T00:00:00\",\"2004-12-27T00:00:00\",\"2004-12-28T00:00:00\",\"2004-12-29T00:00:00\",\"2004-12-30T00:00:00\",\"2004-12-31T00:00:00\",\"2005-01-03T00:00:00\",\"2005-01-04T00:00:00\",\"2005-01-05T00:00:00\",\"2005-01-06T00:00:00\",\"2005-01-07T00:00:00\",\"2005-01-10T00:00:00\",\"2005-01-11T00:00:00\",\"2005-01-12T00:00:00\",\"2005-01-13T00:00:00\",\"2005-01-14T00:00:00\",\"2005-01-18T00:00:00\",\"2005-01-19T00:00:00\",\"2005-01-20T00:00:00\",\"2005-01-21T00:00:00\",\"2005-01-24T00:00:00\",\"2005-01-25T00:00:00\",\"2005-01-26T00:00:00\",\"2005-01-27T00:00:00\",\"2005-01-28T00:00:00\",\"2005-01-31T00:00:00\",\"2005-02-01T00:00:00\",\"2005-02-02T00:00:00\",\"2005-02-03T00:00:00\",\"2005-02-04T00:00:00\",\"2005-02-07T00:00:00\",\"2005-02-08T00:00:00\",\"2005-02-09T00:00:00\",\"2005-02-10T00:00:00\",\"2005-02-11T00:00:00\",\"2005-02-14T00:00:00\",\"2005-02-15T00:00:00\",\"2005-02-16T00:00:00\",\"2005-02-17T00:00:00\",\"2005-02-18T00:00:00\",\"2005-02-22T00:00:00\",\"2005-02-23T00:00:00\",\"2005-02-24T00:00:00\",\"2005-02-25T00:00:00\",\"2005-02-28T00:00:00\",\"2005-03-01T00:00:00\",\"2005-03-02T00:00:00\",\"2005-03-03T00:00:00\",\"2005-03-04T00:00:00\",\"2005-03-07T00:00:00\",\"2005-03-08T00:00:00\",\"2005-03-09T00:00:00\",\"2005-03-10T00:00:00\",\"2005-03-11T00:00:00\",\"2005-03-14T00:00:00\",\"2005-03-15T00:00:00\",\"2005-03-16T00:00:00\",\"2005-03-17T00:00:00\",\"2005-03-18T00:00:00\",\"2005-03-21T00:00:00\",\"2005-03-22T00:00:00\",\"2005-03-23T00:00:00\",\"2005-03-24T00:00:00\",\"2005-03-28T00:00:00\",\"2005-03-29T00:00:00\",\"2005-03-30T00:00:00\",\"2005-03-31T00:00:00\",\"2005-04-01T00:00:00\",\"2005-04-04T00:00:00\",\"2005-04-05T00:00:00\",\"2005-04-06T00:00:00\",\"2005-04-07T00:00:00\",\"2005-04-08T00:00:00\",\"2005-04-11T00:00:00\",\"2005-04-12T00:00:00\",\"2005-04-13T00:00:00\",\"2005-04-14T00:00:00\",\"2005-04-15T00:00:00\",\"2005-04-18T00:00:00\",\"2005-04-19T00:00:00\",\"2005-04-20T00:00:00\",\"2005-04-21T00:00:00\",\"2005-04-22T00:00:00\",\"2005-04-25T00:00:00\",\"2005-04-26T00:00:00\",\"2005-04-27T00:00:00\",\"2005-04-28T00:00:00\",\"2005-04-29T00:00:00\",\"2005-05-02T00:00:00\",\"2005-05-03T00:00:00\",\"2005-05-04T00:00:00\",\"2005-05-05T00:00:00\",\"2005-05-06T00:00:00\",\"2005-05-09T00:00:00\",\"2005-05-10T00:00:00\",\"2005-05-11T00:00:00\",\"2005-05-12T00:00:00\",\"2005-05-13T00:00:00\",\"2005-05-16T00:00:00\",\"2005-05-17T00:00:00\",\"2005-05-18T00:00:00\",\"2005-05-19T00:00:00\",\"2005-05-20T00:00:00\",\"2005-05-23T00:00:00\",\"2005-05-24T00:00:00\",\"2005-05-25T00:00:00\",\"2005-05-26T00:00:00\",\"2005-05-27T00:00:00\",\"2005-05-31T00:00:00\",\"2005-06-01T00:00:00\",\"2005-06-02T00:00:00\",\"2005-06-03T00:00:00\",\"2005-06-06T00:00:00\",\"2005-06-07T00:00:00\",\"2005-06-08T00:00:00\",\"2005-06-09T00:00:00\",\"2005-06-10T00:00:00\",\"2005-06-13T00:00:00\",\"2005-06-14T00:00:00\",\"2005-06-15T00:00:00\",\"2005-06-16T00:00:00\",\"2005-06-17T00:00:00\",\"2005-06-20T00:00:00\",\"2005-06-21T00:00:00\",\"2005-06-22T00:00:00\",\"2005-06-23T00:00:00\",\"2005-06-24T00:00:00\",\"2005-06-27T00:00:00\",\"2005-06-28T00:00:00\",\"2005-06-29T00:00:00\",\"2005-06-30T00:00:00\",\"2005-07-01T00:00:00\",\"2005-07-05T00:00:00\"],\"y\":[16.549694061279297,16.64038848876953,16.337039947509766,16.546571731567383,16.21820640563965,16.199438095092773,16.027437210083008,16.261980056762695,15.98365592956543,15.498918533325195,14.857821464538574,13.450539588928223,14.457528114318848,13.394248008728027,14.18232536315918,15.089249610900879,15.042335510253906,15.00480842590332,14.307419776916504,13.88835334777832,13.757010459899902,14.282398223876953,14.726471900939941,15.295648574829102,15.048593521118164,15.158049583435059,14.717090606689453,15.545825004577637,15.564598083496094,15.63652229309082,16.261980056762695,15.961763381958008,16.34954833984375,16.64664649963379,16.330785751342773,16.293254852294922,15.899225234985352,15.442632675170898,15.817910194396973,15.348809242248535,14.70458698272705,15.076727867126465,14.357454299926758,14.954771041870117,15.229978561401367,15.570846557617188,15.192448616027832,14.745240211486816,14.982916831970215,14.942255973815918,14.789026260375977,14.932881355285645,14.760878562927246,14.842190742492676,14.144800186157227,14.273019790649414,14.545092582702637,14.448149681091309,14.151055335998535,13.678829193115234,14.457528114318848,14.263638496398926,14.010322570800781,13.688209533691406,13.775772094726562,14.069745063781738,13.757010459899902,14.504440307617188,15.283143997192383,15.4144868850708,16.35267448425293,15.764739036560059,15.877326011657715,16.62162208557129,16.421478271484375,16.158784866333008,16.637258529663086,16.02117347717285,16.474634170532227,16.246353149414062,16.283876419067383,16.609115600585938,16.721694946289062,16.57472038269043,17.5441837310791,17.725563049316406,17.83501434326172,17.516033172607422,17.2314510345459,16.843658447265625,17.046937942504883,17.312763214111328,17.822513580322266,17.728696823120117,17.465993881225586,17.156394958496094,17.706804275512695,18.088329315185547,18.207168579101562,18.210298538208008,17.79436683654785,18.16339111328125,18.03829574584961,18.041418075561523,17.734943389892578,17.681779861450195,17.306501388549805,17.34715461730957,16.74046516418457,16.89057159423828,17.093849182128906,16.940601348876953,16.418344497680664,17.037553787231445,17.000028610229492,16.74046516418457,16.609115600585938,16.587223052978516,16.887447357177734,16.831159591674805,16.696680068969727,16.56533432006836,16.496524810791016,16.16817283630371,16.799875259399414,16.82176399230957,17.128246307373047,17.45036506652832,16.962495803833008,17.453487396240234,17.487882614135742,17.634870529174805,17.816253662109375,17.59734535217285,17.30963134765625,16.09310531616211,16.05245018005371,15.94924545288086,16.34954833984375,15.589616775512695,15.37695026397705,15.267501831054688,15.608381271362305,15.086119651794434,14.842190742492676,15.186186790466309,14.798404693603516,14.685827255249023,14.829673767089844,14.566985130310059,14.817172050476074,14.523198127746582,14.523198127746582,14.695199966430664,15.104884147644043,15.611507415771484,15.391891479492188,15.147177696228027,15.454635620117188,15.10324764251709,15.178549766540527,14.814613342285156,14.795792579650879,14.871086120605469,14.770691871643066,14.47577953338623,14.707950592041016,14.601271629333496,14.783231735229492,14.400481224060059,14.306365013122559,14.676578521728516,15.479736328125,15.598950386047363,16.270360946655273,16.339378356933594,16.51506805419922,16.471141815185547,16.671932220458984,15.868772506713867,15.994256019592285,15.84366512298584,15.711898803710938,15.479736328125,15.1910982131958,15.278945922851562,16.13857650756836,16.14485740661621,15.743276596069336,15.793472290039062,16.050729751586914,15.416990280151367,15.429540634155273,15.18481731414795,15.536205291748047,15.435811996459961,15.636603355407715,16.000534057617188,15.818572044372559,16.163686752319336,16.13857650756836,15.994256019592285,15.824844360351562,16.15113067626953,16.18877410888672,16.044464111328125,16.13857650756836,16.377016067504883,16.2264347076416,16.546438217163086,16.307998657226562,16.15113067626953,16.540157318115234,16.43976593017578,16.307998657226562,16.075836181640625,16.1825008392334,16.044464111328125,15.536205291748047,15.454635620117188,15.078152656555176,15.159723281860352,15.197379112243652,15.555036544799805,15.3165922164917,15.310318946838379,15.44208812713623,15.46090316772461,15.61151123046875,15.60522747039795,15.115799903869629,14.85226058959961,14.902459144592285,15.486014366149902,15.61151123046875,15.680536270141602,15.467191696166992,15.931510925292969,16.289169311523438,16.35819435119629,16.35819435119629,16.521337509155273,16.17622947692871,16.126028060913086,15.849942207336426,16.157405853271484,16.082115173339844,16.088382720947266,16.40839385986328,16.86644172668457,16.62801170349121,17.205286026000977,17.3809757232666,17.236652374267578,16.885276794433594,17.136259078979492,17.192737579345703,17.111160278320312,17.26803207397461,16.747230529785156,16.872718811035156,16.339378356933594,16.552719116210938,16.59662628173828,16.314271926879883,16.872718811035156,16.69703483581543,16.609189987182617,16.45859146118164,16.571537017822266,16.42094612121582,16.427221298217773,16.10093116760254,16.094661712646484,16.132307052612305,16.050729751586914,16.06955337524414,16.14485740661621,16.063282012939453,16.082115173339844,16.025644302368164,16.126028060913086,16.703304290771484,16.59662628173828,16.464860916137695,16.452320098876953,16.62801170349121,16.671932220458984,16.57781410217285,16.6342830657959,16.64055824279785,17.10488510131836,17.757457733154297,17.839033126831055,17.80765151977539,18.096298217773438,17.80137825012207,17.2868595123291,17.468822479248047,17.78255844116211,17.795106887817383,18.133935928344727,17.882951736450195,18.510427474975586,18.799068450927734,18.24061393737793,18.57317543029785,17.857847213745117,17.719806671142578,17.688430786132812,18.090015411376953,17.443723678588867,17.89550018310547,17.882951736450195,18.24688148498535,18.315908432006836,18.284530639648438,18.0837459564209,18.159046173095703,18.140220642089844,18.05864906311035,17.99589729309082,18.342947006225586,18.443899154663086,18.254613876342773,18.519624710083008,18.519624710083008,18.229368209838867,18.241987228393555,16.790706634521484,16.980005264282227,17.162986755371094,16.87273406982422,16.48151969909668,16.494142532348633,16.83487892150879,16.449966430664062,16.46889305114746,16.550928115844727,16.46889305114746,16.40579605102539,16.27959442138672,16.39317512512207,16.210187911987305,16.09029769897461,15.869453430175781,15.869453430175781,15.995648384094238,15.837913513183594,15.844209671020508,16.235431671142578,16.02720832824707,16.05875587463379,16.222810745239258,16.304834365844727,16.191259384155273,16.197574615478516,16.531993865966797,16.39317512512207,16.55722999572754,16.645580291748047,16.77808952331543,16.790706634521484,16.815950393676758,16.87273406982422,17.074647903442383,17.062030792236328,17.2891902923584,17.263954162597656,17.150365829467773,17.13143539428711,17.062030792236328,17.16929054260254,17.327043533325195,17.36490821838379,17.270254135131836,17.320743560791016,17.756118774414062,17.819215774536133,17.80029296875,17.76874542236328,17.4532413482666,17.39645767211914,17.308116912841797,17.478485107421875,17.377531051635742,17.547897338867188,17.730880737304688,17.857080459594727,17.674095153808594,17.970659255981445,18.172578811645508,17.825531005859375,17.48479652404785,17.610984802246094,17.446935653686523,17.2891902923584,17.219770431518555,17.04310417175293,17.01154136657715,17.087270736694336,16.973690032958984,17.049413681030273,17.13143539428711,17.00524139404297,16.77808952331543,17.030475616455078,16.891658782958984,16.6960506439209,16.76546287536621,16.790706634521484,16.961063385009766,16.847496032714844,16.721298217773438,16.740222930908203,16.847496032714844,16.651884078979492,16.639266967773438,16.639266967773438,16.626644134521484,16.298532485961914,16.229114532470703,16.00827407836914,15.831597328186035,16.01458168029785,15.875770568847656,15.888385772705078,15.856828689575195,15.705397605895996,15.541337966918945,15.459312438964844,15.238466262817383,15.402520179748535,15.894695281982422,15.793737411499023,15.970412254333496,15.901010513305664,15.730633735656738,15.825285911560059,16.311153411865234,16.374248504638672,16.27959442138672,16.147079467773438,16.077688217163086,16.159706115722656,16.05875587463379,16.096616744995117,15.91362476348877,15.875770568847656,16.109233856201172,15.983030319213867,16.05875587463379,16.374248504638672,17.377531051635742,17.18822479248047,17.175600051879883,16.7591609954834,16.70867347717285,16.48782730102539,16.626644134521484,16.614025115966797,16.595096588134766,16.48151969909668,16.266979217529297,16.361637115478516,16.367944717407227,16.367944717407227,16.46889305114746,16.31746482849121,16.115549087524414,16.298532485961914,16.166025161743164,16.235431671142578,16.336383819580078,16.254365921020508,16.46889305114746,16.494142532348633,16.525691986083984,16.550928115844727,16.475210189819336,16.48782730102539,16.336383819580078,16.374248504638672,16.677122116088867,16.784393310546875,16.702367782592773,16.891658782958984,16.973690032958984,17.295499801635742,17.23870849609375,17.522655487060547,17.88862419128418,17.88862419128418,17.850765228271484,17.857080459594727,17.913864135742188,18.02744483947754,17.844463348388672,17.9832763671875,18.021141052246094,18.065305709838867,18.02744483947754,17.680400848388672,17.730880737304688,17.440624237060547,17.579439163208008,17.59837532043457,17.415386199951172,17.74981117248535,17.585750579833984,17.339662551879883,17.636232376098633,17.869693756103516,18.210430145263672,18.298776626586914,17.686710357666016,18.08423614501953,17.945423126220703,18.03376007080078,17.970659255981445,17.976966857910156,17.995895385742188,17.71194839477539,17.705642700195312,17.37122344970703,17.12512969970703,17.150365829467773,17.49110221862793,17.295499801635742,16.961063385009766,17.049413681030273,17.09358024597168,17.068342208862305,17.327043533325195,17.11250114440918,17.162986755371094,17.238927841186523,17.238927841186523,17.435121536254883,17.365503311157227,17.378156661987305,17.276901245117188,17.276901245117188,17.3338565826416,17.479415893554688,17.15665626525879,17.31488037109375,17.251585006713867,17.264244079589844,17.39715003967285,17.245258331298828,17.365503311157227,17.207284927368164,17.251585006713867,17.409807205200195,17.409807205200195,17.251585006713867,17.162981033325195,17.308549880981445,17.270566940307617,17.207284927368164,17.257915496826172,17.454099655151367,17.498401641845703,17.878114700317383,17.795839309692383,17.96038055419922,18.055316925048828,17.827491760253906,17.713579177856445,17.757871627807617,17.73888397216797,17.73888397216797,17.59333038330078,17.713579177856445,17.9793701171875,17.833810806274414,18.16290283203125,18.07430076599121,17.555356979370117,17.485740661621094,17.656618118286133,17.814823150634766,17.72623062133789,17.700910568237305,17.770532608032227,17.871780395507812,18.01734161376953,18.35275650024414,18.548938751220703,18.529956817626953,18.840055465698242,18.81473159790039,18.972946166992188,18.966625213623047,19.319293975830078,19.128854751586914,19.16411781311035,19.093582153320312,18.945466995239258,18.797338485717773,18.712697982788086,18.7902889251709,18.762073516845703,18.88198471069336,18.91019630432129,19.220544815063477,19.107694625854492,19.20643424987793,19.276973724365234,19.093582153320312,19.29813575744629,19.20643424987793,19.100637435913086,19.220544815063477,19.20643424987793,19.12179946899414,19.157058715820312,19.015993118286133,19.008947372436523,19.093582153320312,19.023042678833008,19.051259994506836,18.938411712646484,19.008947372436523,18.973670959472656,18.874927520751953,18.846715927124023,18.860820770263672,18.931350708007812,18.8890323638916,18.867874145507812,18.811452865600586,18.903141021728516,18.853769302368164,18.8890323638916,18.52930450439453,18.423513412475586,18.564579010009766,18.324764251708984,18.24012565612793,18.09200096130371,18.10610580444336,18.35297393798828,18.34592056274414,18.416454315185547,18.46583366394043,18.53636932373047,18.613956451416016,18.663326263427734,18.46583366394043,18.564579010009766,18.451725006103516,18.508155822753906,18.388246536254883,18.381187438964844,18.317710876464844,18.34592056274414,18.345918655395508,18.246871948242188,18.14781379699707,18.02753257751465,17.850666046142578,17.82943344116211,17.949724197387695,17.86480140686035,17.801132202148438,17.88603401184082,17.871885299682617,17.80820655822754,17.80820655822754,18.020463943481445,17.97093963623047,17.90726089477539,17.992164611816406,17.751609802246094,17.765756607055664,17.624258041381836,17.426149368286133,17.362472534179688,17.199743270874023,17.121919631958008,16.97333526611328,17.107765197753906,17.17852210998535,17.121919631958008,16.923812866210938,17.093610763549805,17.10068702697754,17.06531524658203,17.143144607543945,17.31294822692871,17.454448699951172,17.758682250976562,17.645479202270508,17.666702270507812,17.914337158203125,17.716236114501953,17.574726104736328,17.30587387084961,17.4403018951416,17.426149368286133,17.206815719604492,17.88603401184082,17.673786163330078,17.680856704711914,17.51812744140625,17.680856704711914,17.298799514770508,17.900178909301758,17.850666046142578,17.942636489868164,17.836511611938477,17.850666046142578,17.843584060668945,17.765756607055664,17.61717987060547,17.624258041381836,17.687931060791016,17.900178909301758,18.091815948486328,18.070526123046875,18.24087142944336,18.39702033996582,18.269258499145508,18.34733009338379,18.27635955810547,18.24796485900879,18.38282585144043,18.503477096557617,18.31184196472168,18.318946838378906,18.30474853515625,18.049236297607422,18.006662368774414,18.106016159057617,18.02794075012207,18.106016159057617,18.049236297607422,17.964067459106445,17.999553680419922,17.92857551574707,17.772430419921875,17.772430419921875,17.822107315063477,17.850502014160156,17.793731689453125,17.964067459106445,17.772430419921875,17.77951431274414,17.793731689453125,17.80791664123535,17.630475997924805,17.5382080078125,17.7298526763916],\"type\":\"scatter\"},{\"mode\":\"lines+markers\",\"name\":\"predicted\",\"x\":[\"2002-07-08T00:00:00\",\"2002-07-09T00:00:00\",\"2002-07-10T00:00:00\",\"2002-07-11T00:00:00\",\"2002-07-12T00:00:00\",\"2002-07-15T00:00:00\",\"2002-07-16T00:00:00\",\"2002-07-17T00:00:00\",\"2002-07-18T00:00:00\",\"2002-07-19T00:00:00\",\"2002-07-22T00:00:00\",\"2002-07-23T00:00:00\",\"2002-07-24T00:00:00\",\"2002-07-25T00:00:00\",\"2002-07-26T00:00:00\",\"2002-07-29T00:00:00\",\"2002-07-30T00:00:00\",\"2002-07-31T00:00:00\",\"2002-08-01T00:00:00\",\"2002-08-02T00:00:00\",\"2002-08-05T00:00:00\",\"2002-08-06T00:00:00\",\"2002-08-07T00:00:00\",\"2002-08-08T00:00:00\",\"2002-08-09T00:00:00\",\"2002-08-12T00:00:00\",\"2002-08-13T00:00:00\",\"2002-08-14T00:00:00\",\"2002-08-15T00:00:00\",\"2002-08-16T00:00:00\",\"2002-08-19T00:00:00\",\"2002-08-20T00:00:00\",\"2002-08-21T00:00:00\",\"2002-08-22T00:00:00\",\"2002-08-23T00:00:00\",\"2002-08-26T00:00:00\",\"2002-08-27T00:00:00\",\"2002-08-28T00:00:00\",\"2002-08-29T00:00:00\",\"2002-08-30T00:00:00\",\"2002-09-03T00:00:00\",\"2002-09-04T00:00:00\",\"2002-09-05T00:00:00\",\"2002-09-06T00:00:00\",\"2002-09-09T00:00:00\",\"2002-09-10T00:00:00\",\"2002-09-11T00:00:00\",\"2002-09-12T00:00:00\",\"2002-09-13T00:00:00\",\"2002-09-16T00:00:00\",\"2002-09-17T00:00:00\",\"2002-09-18T00:00:00\",\"2002-09-19T00:00:00\",\"2002-09-20T00:00:00\",\"2002-09-23T00:00:00\",\"2002-09-24T00:00:00\",\"2002-09-25T00:00:00\",\"2002-09-26T00:00:00\",\"2002-09-27T00:00:00\",\"2002-09-30T00:00:00\",\"2002-10-01T00:00:00\",\"2002-10-02T00:00:00\",\"2002-10-03T00:00:00\",\"2002-10-04T00:00:00\",\"2002-10-07T00:00:00\",\"2002-10-08T00:00:00\",\"2002-10-09T00:00:00\",\"2002-10-10T00:00:00\",\"2002-10-11T00:00:00\",\"2002-10-14T00:00:00\",\"2002-10-15T00:00:00\",\"2002-10-16T00:00:00\",\"2002-10-17T00:00:00\",\"2002-10-18T00:00:00\",\"2002-10-21T00:00:00\",\"2002-10-22T00:00:00\",\"2002-10-23T00:00:00\",\"2002-10-24T00:00:00\",\"2002-10-25T00:00:00\",\"2002-10-28T00:00:00\",\"2002-10-29T00:00:00\",\"2002-10-30T00:00:00\",\"2002-10-31T00:00:00\",\"2002-11-01T00:00:00\",\"2002-11-04T00:00:00\",\"2002-11-05T00:00:00\",\"2002-11-06T00:00:00\",\"2002-11-07T00:00:00\",\"2002-11-08T00:00:00\",\"2002-11-11T00:00:00\",\"2002-11-12T00:00:00\",\"2002-11-13T00:00:00\",\"2002-11-14T00:00:00\",\"2002-11-15T00:00:00\",\"2002-11-18T00:00:00\",\"2002-11-19T00:00:00\",\"2002-11-20T00:00:00\",\"2002-11-21T00:00:00\",\"2002-11-22T00:00:00\",\"2002-11-25T00:00:00\",\"2002-11-26T00:00:00\",\"2002-11-27T00:00:00\",\"2002-11-29T00:00:00\",\"2002-12-02T00:00:00\",\"2002-12-03T00:00:00\",\"2002-12-04T00:00:00\",\"2002-12-05T00:00:00\",\"2002-12-06T00:00:00\",\"2002-12-09T00:00:00\",\"2002-12-10T00:00:00\",\"2002-12-11T00:00:00\",\"2002-12-12T00:00:00\",\"2002-12-13T00:00:00\",\"2002-12-16T00:00:00\",\"2002-12-17T00:00:00\",\"2002-12-18T00:00:00\",\"2002-12-19T00:00:00\",\"2002-12-20T00:00:00\",\"2002-12-23T00:00:00\",\"2002-12-24T00:00:00\",\"2002-12-26T00:00:00\",\"2002-12-27T00:00:00\",\"2002-12-30T00:00:00\",\"2002-12-31T00:00:00\",\"2003-01-02T00:00:00\",\"2003-01-03T00:00:00\",\"2003-01-06T00:00:00\",\"2003-01-07T00:00:00\",\"2003-01-08T00:00:00\",\"2003-01-09T00:00:00\",\"2003-01-10T00:00:00\",\"2003-01-13T00:00:00\",\"2003-01-14T00:00:00\",\"2003-01-15T00:00:00\",\"2003-01-16T00:00:00\",\"2003-01-17T00:00:00\",\"2003-01-21T00:00:00\",\"2003-01-22T00:00:00\",\"2003-01-23T00:00:00\",\"2003-01-24T00:00:00\",\"2003-01-27T00:00:00\",\"2003-01-28T00:00:00\",\"2003-01-29T00:00:00\",\"2003-01-30T00:00:00\",\"2003-01-31T00:00:00\",\"2003-02-03T00:00:00\",\"2003-02-04T00:00:00\",\"2003-02-05T00:00:00\",\"2003-02-06T00:00:00\",\"2003-02-07T00:00:00\",\"2003-02-10T00:00:00\",\"2003-02-11T00:00:00\",\"2003-02-12T00:00:00\",\"2003-02-13T00:00:00\",\"2003-02-14T00:00:00\",\"2003-02-18T00:00:00\",\"2003-02-19T00:00:00\",\"2003-02-20T00:00:00\",\"2003-02-21T00:00:00\",\"2003-02-24T00:00:00\",\"2003-02-25T00:00:00\",\"2003-02-26T00:00:00\",\"2003-02-27T00:00:00\",\"2003-02-28T00:00:00\",\"2003-03-03T00:00:00\",\"2003-03-04T00:00:00\",\"2003-03-05T00:00:00\",\"2003-03-06T00:00:00\",\"2003-03-07T00:00:00\",\"2003-03-10T00:00:00\",\"2003-03-11T00:00:00\",\"2003-03-12T00:00:00\",\"2003-03-13T00:00:00\",\"2003-03-14T00:00:00\",\"2003-03-17T00:00:00\",\"2003-03-18T00:00:00\",\"2003-03-19T00:00:00\",\"2003-03-20T00:00:00\",\"2003-03-21T00:00:00\",\"2003-03-24T00:00:00\",\"2003-03-25T00:00:00\",\"2003-03-26T00:00:00\",\"2003-03-27T00:00:00\",\"2003-03-28T00:00:00\",\"2003-03-31T00:00:00\",\"2003-04-01T00:00:00\",\"2003-04-02T00:00:00\",\"2003-04-03T00:00:00\",\"2003-04-04T00:00:00\",\"2003-04-07T00:00:00\",\"2003-04-08T00:00:00\",\"2003-04-09T00:00:00\",\"2003-04-10T00:00:00\",\"2003-04-11T00:00:00\",\"2003-04-14T00:00:00\",\"2003-04-15T00:00:00\",\"2003-04-16T00:00:00\",\"2003-04-17T00:00:00\",\"2003-04-21T00:00:00\",\"2003-04-22T00:00:00\",\"2003-04-23T00:00:00\",\"2003-04-24T00:00:00\",\"2003-04-25T00:00:00\",\"2003-04-28T00:00:00\",\"2003-04-29T00:00:00\",\"2003-04-30T00:00:00\",\"2003-05-01T00:00:00\",\"2003-05-02T00:00:00\",\"2003-05-05T00:00:00\",\"2003-05-06T00:00:00\",\"2003-05-07T00:00:00\",\"2003-05-08T00:00:00\",\"2003-05-09T00:00:00\",\"2003-05-12T00:00:00\",\"2003-05-13T00:00:00\",\"2003-05-14T00:00:00\",\"2003-05-15T00:00:00\",\"2003-05-16T00:00:00\",\"2003-05-19T00:00:00\",\"2003-05-20T00:00:00\",\"2003-05-21T00:00:00\",\"2003-05-22T00:00:00\",\"2003-05-23T00:00:00\",\"2003-05-27T00:00:00\",\"2003-05-28T00:00:00\",\"2003-05-29T00:00:00\",\"2003-05-30T00:00:00\",\"2003-06-02T00:00:00\",\"2003-06-03T00:00:00\",\"2003-06-04T00:00:00\",\"2003-06-05T00:00:00\",\"2003-06-06T00:00:00\",\"2003-06-09T00:00:00\",\"2003-06-10T00:00:00\",\"2003-06-11T00:00:00\",\"2003-06-12T00:00:00\",\"2003-06-13T00:00:00\",\"2003-06-16T00:00:00\",\"2003-06-17T00:00:00\",\"2003-06-18T00:00:00\",\"2003-06-19T00:00:00\",\"2003-06-20T00:00:00\",\"2003-06-23T00:00:00\",\"2003-06-24T00:00:00\",\"2003-06-25T00:00:00\",\"2003-06-26T00:00:00\",\"2003-06-27T00:00:00\",\"2003-06-30T00:00:00\",\"2003-07-01T00:00:00\",\"2003-07-02T00:00:00\",\"2003-07-03T00:00:00\",\"2003-07-07T00:00:00\",\"2003-07-08T00:00:00\",\"2003-07-09T00:00:00\",\"2003-07-10T00:00:00\",\"2003-07-11T00:00:00\",\"2003-07-14T00:00:00\",\"2003-07-15T00:00:00\",\"2003-07-16T00:00:00\",\"2003-07-17T00:00:00\",\"2003-07-18T00:00:00\",\"2003-07-21T00:00:00\",\"2003-07-22T00:00:00\",\"2003-07-23T00:00:00\",\"2003-07-24T00:00:00\",\"2003-07-25T00:00:00\",\"2003-07-28T00:00:00\",\"2003-07-29T00:00:00\",\"2003-07-30T00:00:00\",\"2003-07-31T00:00:00\",\"2003-08-01T00:00:00\",\"2003-08-04T00:00:00\",\"2003-08-05T00:00:00\",\"2003-08-06T00:00:00\",\"2003-08-07T00:00:00\",\"2003-08-08T00:00:00\",\"2003-08-11T00:00:00\",\"2003-08-12T00:00:00\",\"2003-08-13T00:00:00\",\"2003-08-14T00:00:00\",\"2003-08-15T00:00:00\",\"2003-08-18T00:00:00\",\"2003-08-19T00:00:00\",\"2003-08-20T00:00:00\",\"2003-08-21T00:00:00\",\"2003-08-22T00:00:00\",\"2003-08-25T00:00:00\",\"2003-08-26T00:00:00\",\"2003-08-27T00:00:00\",\"2003-08-28T00:00:00\",\"2003-08-29T00:00:00\",\"2003-09-02T00:00:00\",\"2003-09-03T00:00:00\",\"2003-09-04T00:00:00\",\"2003-09-05T00:00:00\",\"2003-09-08T00:00:00\",\"2003-09-09T00:00:00\",\"2003-09-10T00:00:00\",\"2003-09-11T00:00:00\",\"2003-09-12T00:00:00\",\"2003-09-15T00:00:00\",\"2003-09-16T00:00:00\",\"2003-09-17T00:00:00\",\"2003-09-18T00:00:00\",\"2003-09-19T00:00:00\",\"2003-09-22T00:00:00\",\"2003-09-23T00:00:00\",\"2003-09-24T00:00:00\",\"2003-09-25T00:00:00\",\"2003-09-26T00:00:00\",\"2003-09-29T00:00:00\",\"2003-09-30T00:00:00\",\"2003-10-01T00:00:00\",\"2003-10-02T00:00:00\",\"2003-10-03T00:00:00\",\"2003-10-06T00:00:00\",\"2003-10-07T00:00:00\",\"2003-10-08T00:00:00\",\"2003-10-09T00:00:00\",\"2003-10-10T00:00:00\",\"2003-10-13T00:00:00\",\"2003-10-14T00:00:00\",\"2003-10-15T00:00:00\",\"2003-10-16T00:00:00\",\"2003-10-17T00:00:00\",\"2003-10-20T00:00:00\",\"2003-10-21T00:00:00\",\"2003-10-22T00:00:00\",\"2003-10-23T00:00:00\",\"2003-10-24T00:00:00\",\"2003-10-27T00:00:00\",\"2003-10-28T00:00:00\",\"2003-10-29T00:00:00\",\"2003-10-30T00:00:00\",\"2003-10-31T00:00:00\",\"2003-11-03T00:00:00\",\"2003-11-04T00:00:00\",\"2003-11-05T00:00:00\",\"2003-11-06T00:00:00\",\"2003-11-07T00:00:00\",\"2003-11-10T00:00:00\",\"2003-11-11T00:00:00\",\"2003-11-12T00:00:00\",\"2003-11-13T00:00:00\",\"2003-11-14T00:00:00\",\"2003-11-17T00:00:00\",\"2003-11-18T00:00:00\",\"2003-11-19T00:00:00\",\"2003-11-20T00:00:00\",\"2003-11-21T00:00:00\",\"2003-11-24T00:00:00\",\"2003-11-25T00:00:00\",\"2003-11-26T00:00:00\",\"2003-11-28T00:00:00\",\"2003-12-01T00:00:00\",\"2003-12-02T00:00:00\",\"2003-12-03T00:00:00\",\"2003-12-04T00:00:00\",\"2003-12-05T00:00:00\",\"2003-12-08T00:00:00\",\"2003-12-09T00:00:00\",\"2003-12-10T00:00:00\",\"2003-12-11T00:00:00\",\"2003-12-12T00:00:00\",\"2003-12-15T00:00:00\",\"2003-12-16T00:00:00\",\"2003-12-17T00:00:00\",\"2003-12-18T00:00:00\",\"2003-12-19T00:00:00\",\"2003-12-22T00:00:00\",\"2003-12-23T00:00:00\",\"2003-12-24T00:00:00\",\"2003-12-26T00:00:00\",\"2003-12-29T00:00:00\",\"2003-12-30T00:00:00\",\"2003-12-31T00:00:00\",\"2004-01-02T00:00:00\",\"2004-01-05T00:00:00\",\"2004-01-06T00:00:00\",\"2004-01-07T00:00:00\",\"2004-01-08T00:00:00\",\"2004-01-09T00:00:00\",\"2004-01-12T00:00:00\",\"2004-01-13T00:00:00\",\"2004-01-14T00:00:00\",\"2004-01-15T00:00:00\",\"2004-01-16T00:00:00\",\"2004-01-20T00:00:00\",\"2004-01-21T00:00:00\",\"2004-01-22T00:00:00\",\"2004-01-23T00:00:00\",\"2004-01-26T00:00:00\",\"2004-01-27T00:00:00\",\"2004-01-28T00:00:00\",\"2004-01-29T00:00:00\",\"2004-01-30T00:00:00\",\"2004-02-02T00:00:00\",\"2004-02-03T00:00:00\",\"2004-02-04T00:00:00\",\"2004-02-05T00:00:00\",\"2004-02-06T00:00:00\",\"2004-02-09T00:00:00\",\"2004-02-10T00:00:00\",\"2004-02-11T00:00:00\",\"2004-02-12T00:00:00\",\"2004-02-13T00:00:00\",\"2004-02-17T00:00:00\",\"2004-02-18T00:00:00\",\"2004-02-19T00:00:00\",\"2004-02-20T00:00:00\",\"2004-02-23T00:00:00\",\"2004-02-24T00:00:00\",\"2004-02-25T00:00:00\",\"2004-02-26T00:00:00\",\"2004-02-27T00:00:00\",\"2004-03-01T00:00:00\",\"2004-03-02T00:00:00\",\"2004-03-03T00:00:00\",\"2004-03-04T00:00:00\",\"2004-03-05T00:00:00\",\"2004-03-08T00:00:00\",\"2004-03-09T00:00:00\",\"2004-03-10T00:00:00\",\"2004-03-11T00:00:00\",\"2004-03-12T00:00:00\",\"2004-03-15T00:00:00\",\"2004-03-16T00:00:00\",\"2004-03-17T00:00:00\",\"2004-03-18T00:00:00\",\"2004-03-19T00:00:00\",\"2004-03-22T00:00:00\",\"2004-03-23T00:00:00\",\"2004-03-24T00:00:00\",\"2004-03-25T00:00:00\",\"2004-03-26T00:00:00\",\"2004-03-29T00:00:00\",\"2004-03-30T00:00:00\",\"2004-03-31T00:00:00\",\"2004-04-01T00:00:00\",\"2004-04-02T00:00:00\",\"2004-04-05T00:00:00\",\"2004-04-06T00:00:00\",\"2004-04-07T00:00:00\",\"2004-04-08T00:00:00\",\"2004-04-12T00:00:00\",\"2004-04-13T00:00:00\",\"2004-04-14T00:00:00\",\"2004-04-15T00:00:00\",\"2004-04-16T00:00:00\",\"2004-04-19T00:00:00\",\"2004-04-20T00:00:00\",\"2004-04-21T00:00:00\",\"2004-04-22T00:00:00\",\"2004-04-23T00:00:00\",\"2004-04-26T00:00:00\",\"2004-04-27T00:00:00\",\"2004-04-28T00:00:00\",\"2004-04-29T00:00:00\",\"2004-04-30T00:00:00\",\"2004-05-03T00:00:00\",\"2004-05-04T00:00:00\",\"2004-05-05T00:00:00\",\"2004-05-06T00:00:00\",\"2004-05-07T00:00:00\",\"2004-05-10T00:00:00\",\"2004-05-11T00:00:00\",\"2004-05-12T00:00:00\",\"2004-05-13T00:00:00\",\"2004-05-14T00:00:00\",\"2004-05-17T00:00:00\",\"2004-05-18T00:00:00\",\"2004-05-19T00:00:00\",\"2004-05-20T00:00:00\",\"2004-05-21T00:00:00\",\"2004-05-24T00:00:00\",\"2004-05-25T00:00:00\",\"2004-05-26T00:00:00\",\"2004-05-27T00:00:00\",\"2004-05-28T00:00:00\",\"2004-06-01T00:00:00\",\"2004-06-02T00:00:00\",\"2004-06-03T00:00:00\",\"2004-06-04T00:00:00\",\"2004-06-07T00:00:00\",\"2004-06-08T00:00:00\",\"2004-06-09T00:00:00\",\"2004-06-10T00:00:00\",\"2004-06-14T00:00:00\",\"2004-06-15T00:00:00\",\"2004-06-16T00:00:00\",\"2004-06-17T00:00:00\",\"2004-06-18T00:00:00\",\"2004-06-21T00:00:00\",\"2004-06-22T00:00:00\",\"2004-06-23T00:00:00\",\"2004-06-24T00:00:00\",\"2004-06-25T00:00:00\",\"2004-06-28T00:00:00\",\"2004-06-29T00:00:00\",\"2004-06-30T00:00:00\",\"2004-07-01T00:00:00\",\"2004-07-02T00:00:00\",\"2004-07-06T00:00:00\",\"2004-07-07T00:00:00\",\"2004-07-08T00:00:00\",\"2004-07-09T00:00:00\",\"2004-07-12T00:00:00\",\"2004-07-13T00:00:00\",\"2004-07-14T00:00:00\",\"2004-07-15T00:00:00\",\"2004-07-16T00:00:00\",\"2004-07-19T00:00:00\",\"2004-07-20T00:00:00\",\"2004-07-21T00:00:00\",\"2004-07-22T00:00:00\",\"2004-07-23T00:00:00\",\"2004-07-26T00:00:00\",\"2004-07-27T00:00:00\",\"2004-07-28T00:00:00\",\"2004-07-29T00:00:00\",\"2004-07-30T00:00:00\",\"2004-08-02T00:00:00\",\"2004-08-03T00:00:00\",\"2004-08-04T00:00:00\",\"2004-08-05T00:00:00\",\"2004-08-06T00:00:00\",\"2004-08-09T00:00:00\",\"2004-08-10T00:00:00\",\"2004-08-11T00:00:00\",\"2004-08-12T00:00:00\",\"2004-08-13T00:00:00\",\"2004-08-16T00:00:00\",\"2004-08-17T00:00:00\",\"2004-08-18T00:00:00\",\"2004-08-19T00:00:00\",\"2004-08-20T00:00:00\",\"2004-08-23T00:00:00\",\"2004-08-24T00:00:00\",\"2004-08-25T00:00:00\",\"2004-08-26T00:00:00\",\"2004-08-27T00:00:00\",\"2004-08-30T00:00:00\",\"2004-08-31T00:00:00\",\"2004-09-01T00:00:00\",\"2004-09-02T00:00:00\",\"2004-09-03T00:00:00\",\"2004-09-07T00:00:00\",\"2004-09-08T00:00:00\",\"2004-09-09T00:00:00\",\"2004-09-10T00:00:00\",\"2004-09-13T00:00:00\",\"2004-09-14T00:00:00\",\"2004-09-15T00:00:00\",\"2004-09-16T00:00:00\",\"2004-09-17T00:00:00\",\"2004-09-20T00:00:00\",\"2004-09-21T00:00:00\",\"2004-09-22T00:00:00\",\"2004-09-23T00:00:00\",\"2004-09-24T00:00:00\",\"2004-09-27T00:00:00\",\"2004-09-28T00:00:00\",\"2004-09-29T00:00:00\",\"2004-09-30T00:00:00\",\"2004-10-01T00:00:00\",\"2004-10-04T00:00:00\",\"2004-10-05T00:00:00\",\"2004-10-06T00:00:00\",\"2004-10-07T00:00:00\",\"2004-10-08T00:00:00\",\"2004-10-11T00:00:00\",\"2004-10-12T00:00:00\",\"2004-10-13T00:00:00\",\"2004-10-14T00:00:00\",\"2004-10-15T00:00:00\",\"2004-10-18T00:00:00\",\"2004-10-19T00:00:00\",\"2004-10-20T00:00:00\",\"2004-10-21T00:00:00\",\"2004-10-22T00:00:00\",\"2004-10-25T00:00:00\",\"2004-10-26T00:00:00\",\"2004-10-27T00:00:00\",\"2004-10-28T00:00:00\",\"2004-10-29T00:00:00\",\"2004-11-01T00:00:00\",\"2004-11-02T00:00:00\",\"2004-11-03T00:00:00\",\"2004-11-04T00:00:00\",\"2004-11-05T00:00:00\",\"2004-11-08T00:00:00\",\"2004-11-09T00:00:00\",\"2004-11-10T00:00:00\",\"2004-11-11T00:00:00\",\"2004-11-12T00:00:00\",\"2004-11-15T00:00:00\",\"2004-11-16T00:00:00\",\"2004-11-17T00:00:00\",\"2004-11-18T00:00:00\",\"2004-11-19T00:00:00\",\"2004-11-22T00:00:00\",\"2004-11-23T00:00:00\",\"2004-11-24T00:00:00\",\"2004-11-26T00:00:00\",\"2004-11-29T00:00:00\",\"2004-11-30T00:00:00\",\"2004-12-01T00:00:00\",\"2004-12-02T00:00:00\",\"2004-12-03T00:00:00\",\"2004-12-06T00:00:00\",\"2004-12-07T00:00:00\",\"2004-12-08T00:00:00\",\"2004-12-09T00:00:00\",\"2004-12-10T00:00:00\",\"2004-12-13T00:00:00\",\"2004-12-14T00:00:00\",\"2004-12-15T00:00:00\",\"2004-12-16T00:00:00\",\"2004-12-17T00:00:00\",\"2004-12-20T00:00:00\",\"2004-12-21T00:00:00\",\"2004-12-22T00:00:00\",\"2004-12-23T00:00:00\",\"2004-12-27T00:00:00\",\"2004-12-28T00:00:00\",\"2004-12-29T00:00:00\",\"2004-12-30T00:00:00\",\"2004-12-31T00:00:00\",\"2005-01-03T00:00:00\",\"2005-01-04T00:00:00\",\"2005-01-05T00:00:00\",\"2005-01-06T00:00:00\",\"2005-01-07T00:00:00\",\"2005-01-10T00:00:00\",\"2005-01-11T00:00:00\",\"2005-01-12T00:00:00\",\"2005-01-13T00:00:00\",\"2005-01-14T00:00:00\",\"2005-01-18T00:00:00\",\"2005-01-19T00:00:00\",\"2005-01-20T00:00:00\",\"2005-01-21T00:00:00\",\"2005-01-24T00:00:00\",\"2005-01-25T00:00:00\",\"2005-01-26T00:00:00\",\"2005-01-27T00:00:00\",\"2005-01-28T00:00:00\",\"2005-01-31T00:00:00\",\"2005-02-01T00:00:00\",\"2005-02-02T00:00:00\",\"2005-02-03T00:00:00\",\"2005-02-04T00:00:00\",\"2005-02-07T00:00:00\",\"2005-02-08T00:00:00\",\"2005-02-09T00:00:00\",\"2005-02-10T00:00:00\",\"2005-02-11T00:00:00\",\"2005-02-14T00:00:00\",\"2005-02-15T00:00:00\",\"2005-02-16T00:00:00\",\"2005-02-17T00:00:00\",\"2005-02-18T00:00:00\",\"2005-02-22T00:00:00\",\"2005-02-23T00:00:00\",\"2005-02-24T00:00:00\",\"2005-02-25T00:00:00\",\"2005-02-28T00:00:00\",\"2005-03-01T00:00:00\",\"2005-03-02T00:00:00\",\"2005-03-03T00:00:00\",\"2005-03-04T00:00:00\",\"2005-03-07T00:00:00\",\"2005-03-08T00:00:00\",\"2005-03-09T00:00:00\",\"2005-03-10T00:00:00\",\"2005-03-11T00:00:00\",\"2005-03-14T00:00:00\",\"2005-03-15T00:00:00\",\"2005-03-16T00:00:00\",\"2005-03-17T00:00:00\",\"2005-03-18T00:00:00\",\"2005-03-21T00:00:00\",\"2005-03-22T00:00:00\",\"2005-03-23T00:00:00\",\"2005-03-24T00:00:00\",\"2005-03-28T00:00:00\",\"2005-03-29T00:00:00\",\"2005-03-30T00:00:00\",\"2005-03-31T00:00:00\",\"2005-04-01T00:00:00\",\"2005-04-04T00:00:00\",\"2005-04-05T00:00:00\",\"2005-04-06T00:00:00\",\"2005-04-07T00:00:00\",\"2005-04-08T00:00:00\",\"2005-04-11T00:00:00\",\"2005-04-12T00:00:00\",\"2005-04-13T00:00:00\",\"2005-04-14T00:00:00\",\"2005-04-15T00:00:00\",\"2005-04-18T00:00:00\",\"2005-04-19T00:00:00\",\"2005-04-20T00:00:00\",\"2005-04-21T00:00:00\",\"2005-04-22T00:00:00\",\"2005-04-25T00:00:00\",\"2005-04-26T00:00:00\",\"2005-04-27T00:00:00\",\"2005-04-28T00:00:00\",\"2005-04-29T00:00:00\",\"2005-05-02T00:00:00\",\"2005-05-03T00:00:00\",\"2005-05-04T00:00:00\",\"2005-05-05T00:00:00\",\"2005-05-06T00:00:00\",\"2005-05-09T00:00:00\",\"2005-05-10T00:00:00\",\"2005-05-11T00:00:00\",\"2005-05-12T00:00:00\",\"2005-05-13T00:00:00\",\"2005-05-16T00:00:00\",\"2005-05-17T00:00:00\",\"2005-05-18T00:00:00\",\"2005-05-19T00:00:00\",\"2005-05-20T00:00:00\",\"2005-05-23T00:00:00\",\"2005-05-24T00:00:00\",\"2005-05-25T00:00:00\",\"2005-05-26T00:00:00\",\"2005-05-27T00:00:00\",\"2005-05-31T00:00:00\",\"2005-06-01T00:00:00\",\"2005-06-02T00:00:00\",\"2005-06-03T00:00:00\",\"2005-06-06T00:00:00\",\"2005-06-07T00:00:00\",\"2005-06-08T00:00:00\",\"2005-06-09T00:00:00\",\"2005-06-10T00:00:00\",\"2005-06-13T00:00:00\",\"2005-06-14T00:00:00\",\"2005-06-15T00:00:00\",\"2005-06-16T00:00:00\",\"2005-06-17T00:00:00\",\"2005-06-20T00:00:00\",\"2005-06-21T00:00:00\",\"2005-06-22T00:00:00\",\"2005-06-23T00:00:00\",\"2005-06-24T00:00:00\",\"2005-06-27T00:00:00\",\"2005-06-28T00:00:00\",\"2005-06-29T00:00:00\",\"2005-06-30T00:00:00\",\"2005-07-01T00:00:00\",\"2005-07-05T00:00:00\",\"2005-07-06T00:00:00\",\"2005-07-07T00:00:00\",\"2005-07-08T00:00:00\",\"2005-07-09T00:00:00\",\"2005-07-10T00:00:00\",\"2005-07-11T00:00:00\",\"2005-07-12T00:00:00\",\"2005-07-13T00:00:00\",\"2005-07-14T00:00:00\",\"2005-07-15T00:00:00\",\"2005-07-16T00:00:00\",\"2005-07-17T00:00:00\",\"2005-07-18T00:00:00\",\"2005-07-19T00:00:00\",\"2005-07-20T00:00:00\",\"2005-07-21T00:00:00\",\"2005-07-22T00:00:00\",\"2005-07-23T00:00:00\",\"2005-07-24T00:00:00\",\"2005-07-25T00:00:00\",\"2005-07-26T00:00:00\",\"2005-07-27T00:00:00\",\"2005-07-28T00:00:00\",\"2005-07-29T00:00:00\",\"2005-07-30T00:00:00\",\"2005-07-31T00:00:00\",\"2005-08-01T00:00:00\",\"2005-08-02T00:00:00\",\"2005-08-03T00:00:00\",\"2005-08-04T00:00:00\",\"2005-08-05T00:00:00\",\"2005-08-06T00:00:00\",\"2005-08-07T00:00:00\",\"2005-08-08T00:00:00\",\"2005-08-09T00:00:00\",\"2005-08-10T00:00:00\",\"2005-08-11T00:00:00\",\"2005-08-12T00:00:00\",\"2005-08-13T00:00:00\",\"2005-08-14T00:00:00\",\"2005-08-15T00:00:00\",\"2005-08-16T00:00:00\",\"2005-08-17T00:00:00\",\"2005-08-18T00:00:00\",\"2005-08-19T00:00:00\",\"2005-08-20T00:00:00\",\"2005-08-21T00:00:00\",\"2005-08-22T00:00:00\",\"2005-08-23T00:00:00\",\"2005-08-24T00:00:00\",\"2005-08-25T00:00:00\",\"2005-08-26T00:00:00\",\"2005-08-27T00:00:00\",\"2005-08-28T00:00:00\",\"2005-08-29T00:00:00\",\"2005-08-30T00:00:00\",\"2005-08-31T00:00:00\",\"2005-09-01T00:00:00\",\"2005-09-02T00:00:00\",\"2005-09-03T00:00:00\",\"2005-09-04T00:00:00\",\"2005-09-05T00:00:00\",\"2005-09-06T00:00:00\",\"2005-09-07T00:00:00\",\"2005-09-08T00:00:00\",\"2005-09-09T00:00:00\",\"2005-09-10T00:00:00\",\"2005-09-11T00:00:00\",\"2005-09-12T00:00:00\",\"2005-09-13T00:00:00\",\"2005-09-14T00:00:00\",\"2005-09-15T00:00:00\",\"2005-09-16T00:00:00\",\"2005-09-17T00:00:00\",\"2005-09-18T00:00:00\",\"2005-09-19T00:00:00\",\"2005-09-20T00:00:00\",\"2005-09-21T00:00:00\",\"2005-09-22T00:00:00\",\"2005-09-23T00:00:00\",\"2005-09-24T00:00:00\",\"2005-09-25T00:00:00\",\"2005-09-26T00:00:00\",\"2005-09-27T00:00:00\",\"2005-09-28T00:00:00\",\"2005-09-29T00:00:00\",\"2005-09-30T00:00:00\",\"2005-10-01T00:00:00\",\"2005-10-02T00:00:00\",\"2005-10-03T00:00:00\",\"2005-10-04T00:00:00\",\"2005-10-05T00:00:00\",\"2005-10-06T00:00:00\",\"2005-10-07T00:00:00\",\"2005-10-08T00:00:00\",\"2005-10-09T00:00:00\",\"2005-10-10T00:00:00\",\"2005-10-11T00:00:00\",\"2005-10-12T00:00:00\",\"2005-10-13T00:00:00\",\"2005-10-14T00:00:00\",\"2005-10-15T00:00:00\",\"2005-10-16T00:00:00\",\"2005-10-17T00:00:00\",\"2005-10-18T00:00:00\",\"2005-10-19T00:00:00\",\"2005-10-20T00:00:00\",\"2005-10-21T00:00:00\",\"2005-10-22T00:00:00\",\"2005-10-23T00:00:00\",\"2005-10-24T00:00:00\",\"2005-10-25T00:00:00\",\"2005-10-26T00:00:00\",\"2005-10-27T00:00:00\",\"2005-10-28T00:00:00\",\"2005-10-29T00:00:00\",\"2005-10-30T00:00:00\",\"2005-10-31T00:00:00\",\"2005-11-01T00:00:00\",\"2005-11-02T00:00:00\",\"2005-11-03T00:00:00\",\"2005-11-04T00:00:00\",\"2005-11-05T00:00:00\",\"2005-11-06T00:00:00\",\"2005-11-07T00:00:00\",\"2005-11-08T00:00:00\",\"2005-11-09T00:00:00\",\"2005-11-10T00:00:00\",\"2005-11-11T00:00:00\",\"2005-11-12T00:00:00\",\"2005-11-13T00:00:00\",\"2005-11-14T00:00:00\",\"2005-11-15T00:00:00\",\"2005-11-16T00:00:00\",\"2005-11-17T00:00:00\",\"2005-11-18T00:00:00\",\"2005-11-19T00:00:00\",\"2005-11-20T00:00:00\",\"2005-11-21T00:00:00\",\"2005-11-22T00:00:00\",\"2005-11-23T00:00:00\",\"2005-11-24T00:00:00\",\"2005-11-25T00:00:00\",\"2005-11-26T00:00:00\",\"2005-11-27T00:00:00\",\"2005-11-28T00:00:00\",\"2005-11-29T00:00:00\",\"2005-11-30T00:00:00\",\"2005-12-01T00:00:00\",\"2005-12-02T00:00:00\"],\"y\":[15.499652690929459,15.513379518287644,15.551214928046484,15.550188955383744,15.521487890640527,15.542683515814355,15.511845764108255,15.505590798988283,15.461650695310986,15.391902669995527,15.307603543272688,15.2493816849642,15.220416205772358,15.15878838273496,15.076633430700165,14.987919683943087,14.939039242063663,14.924517436325313,14.882116147934731,14.823569541596319,14.826937838320097,14.813896940562506,14.836729923219652,14.832539272431559,14.812401742829536,14.925908793814198,14.945970671152317,14.999268979758307,15.022498728595636,15.026399019171125,15.189463435396144,15.218151026235569,15.276126148458031,15.300186796064544,15.301237582832218,15.436122700497735,15.449902608324267,15.49080437980608,15.4960096274812,15.476814200244233,15.538265621770439,15.557602223137284,15.541977860787641,15.50295938501245,15.521431901158971,15.499483867564376,15.506973159970867,15.481464735120609,15.434580897880164,15.441767539489453,15.420123807485371,15.429888312380632,15.408566413596938,15.367708078682767,15.403109750053888,15.393898826046321,15.41740768670431,15.41100411378835,15.3860893023453,15.473812098730502,15.482927297868692,15.524872269033073,15.536800650199513,15.529892100051653,15.667404792870549,15.690950947766273,15.745880264365509,15.769145601786146,15.771743909880126,15.925338425440604,15.94976679922764,16.003263733114768,16.022797850763617,16.01942553099577,16.142932721283795,16.15390991187552,16.192662475792392,16.1964613133674,16.176691947261173,16.25058626637515,16.246098790161533,16.27051536423549,16.26143496907628,16.230540882931592,16.28394467369617,16.27745250553987,16.30239670116786,16.296353046808626,16.270916260872756,16.35337642857277,16.359892071966176,16.398926011210524,16.407646915373522,16.39721589071689,16.52163795026351,16.539647781885268,16.588246555911134,16.60245484139524,16.594928558437744,16.710534194392928,16.719451799701847,16.75592509567611,16.733517805539993,16.788908008253472,16.774981119507498,16.788054900630055,16.76563790289055,16.71937479645469,16.714900190119206,16.6856005311721,16.686311363114672,16.654875639007265,16.603193266514914,16.605269266935057,16.58568261951403,16.599592011442954,16.584531963483983,16.552007653559215,16.62320454770256,16.62857393959197,16.676309942986528,16.666384282333663,16.790494455850652,16.806736793261003,16.863587481126544,16.851390695672748,16.940473214608645,16.93600992868467,16.95674903067079,16.939663229387815,16.895885670078073,16.877266805119316,16.834807225085836,16.817674729349665,16.763547118545837,16.68424035569904,16.50818836864513,16.471506560224643,16.402173009608717,16.312167430433355,16.19725603566792,16.13810626850546,16.112196292097103,16.05707048223906,15.984246007444114,15.933391721316834,15.897857683298982,15.895727318575496,15.863987063880005,15.813630810860962,15.820214861900807,15.799342069711066,15.80923623085459,15.786768236583749,15.74289872211975,15.728751691576036,15.73333753623692,15.704056868443287,15.652252418797726,15.6359162073969,15.60317258611157,15.600161691042922,15.56442076567334,15.507560371243896,15.486324275909803,15.455679316637035,15.456631448921504,15.42662629085986,15.377127865201754,15.385585116295513,15.366487270706553,15.379316357888582,15.361211613375644,15.323338851670798,15.362368606524337,15.35130985731044,15.37085220179178,15.358060447778051,15.324080231855158,15.366873081533658,15.35488549250536,15.37274449094997,15.357768931949701,15.321381497902054,15.358527491556618,15.346132899826916,15.364752539006503,15.351916804170825,15.319217611557576,15.377649757415869,15.375786262072115,15.406522223937289,15.407221658714082,15.389256439007207,15.4961983570655,15.51080405563243,15.557534752445314,15.57336778189771,15.706990853464452,15.727223181299365,15.776894206998422,15.792841982926307,15.785982746591882,15.89815034194455,15.904559508399451,15.93810997236791,15.935937880234766,15.909302645174067,15.956124261189762,15.94014371737543,15.951708689048736,15.928363243031228,15.881749264316761,15.879061373610913,15.850900932071776,15.852733857905253,15.822186929052187,15.770924313563468,15.768967916776509,15.745472599034496,15.753838068654481,15.731436605888394,15.689657751507019,15.709853842085359,15.730226262704381,15.719617121551234,15.68924955581553,15.751860252050374,15.749488499657167,15.778424989657173,15.775936897251771,15.753382149378766,15.839319283805182,15.845337793049106,15.883303047496112,15.890664260599774,15.878937398723696,16.004276425696855,16.025857532723986,16.080529686811627,16.105614816382698,16.112443656452193,16.295766624428328,16.336315528174413,16.409112722505892,16.451043272623515,16.472989484793313,16.68688420293892,16.731334697029958,16.804303615057414,16.842405509447186,17.02003471714733,17.039200722695266,17.08289481508558,17.088035982359873,17.06569079269845,17.10581048055677,17.08079975344632,17.07992032269387,17.04078663432101,16.975167795209927,16.898300497616127,16.84068211602535,16.81131478749226,16.74826602645753,16.663675917432283,16.56189185497755,16.506924261076307,16.485583181868684,16.435729102163027,16.369204361735324,16.346661705315682,16.324730765732475,16.33874841600245,16.32593191995063,16.29746578847653,16.388704606316836,16.402502978619715,16.450211418682994,16.468560429154543,16.468310389071775,16.623312498681326,16.650713592391664,16.708043201482084,16.732049166220722,16.733578326085556,16.87243771078355,16.88815289682652,16.931174518926277,16.938613058895687,16.918548060537496,16.9757420511373,16.993557671208293,16.976145293701496,16.935040184660235,16.945232921636336,16.919802678418634,16.923436259537663,16.89369754421152,16.842211344577102,16.833428014153135,16.80577613220807,16.8092134061869,16.781262046895804,16.733490659368467,16.746665058390345,16.729629619328822,16.74515159868316,16.730629176010172,16.697496126448748,16.76032522258251,16.761191333512095,16.79497951934676,16.79888545513035,16.784130913825823,16.892371754110947,16.90677476067321,16.952922551881013,16.967793953179513,16.962406172338653,17.094590894902982,17.11272810830243,17.16033428013924,17.174352142748806,17.16580400886048,17.275373017957495,17.28205050574686,17.31657231402186,17.31614194774233,17.292076346366926,17.352010139611693,17.342305691792426,17.36113466312379,17.3460543826371,17.308716116243946,17.33996650027497,17.325157258550774,17.34135242804853,17.32616632014228,17.2912432648935,17.34382040558053,17.340150256808954,17.369023202521145,17.367693264640835,17.347405858332248,17.44420607740749,17.453882083427175,17.494671212782393,17.503423370853692,17.491019467140546,17.595440112748467,17.601694685798513,17.63595867545106,17.610211697793765,17.661967576367957,17.646797296635924,17.658437962756185,17.634296351152653,17.58592079767718,17.57195365053672,17.538223004470154,17.533799053178242,17.496507798917207,17.443254694175867,17.43658632115563,17.41292385097576,17.42230848023689,17.40237419143362,17.364736248027427,17.420359985463385,17.42087619751438,17.45514266014615,17.44680912237581,17.56509006820376,17.58104736489071,17.627155249688716,17.63012284519123,17.730951184312907,17.731724282295794,17.758197012245304,17.747225637409866,17.709818309713185,17.710530297144306,17.674149838532646,17.662706307472305,17.61376554942868,17.539043802211985,17.375768869860728,17.34020599262902,17.27114438222315,17.180588435823314,17.059596914232994,16.997186871205436,16.96755109668564,16.908337457659538,16.831171297974088,16.766861351018957,16.72704696396739,16.720895994795715,16.68547436506748,16.631842908908336,16.631493602328153,16.609349316883716,16.618491079785066,16.59576721199839,16.552102399821095,16.542282470003027,16.548485842565434,16.520886116857188,16.470749891894574,16.45864171179026,16.426849020407342,16.42448265750487,16.389049612904806,16.332141932594936,16.308626458426247,16.276564001305157,16.275822785965623,16.243893008975856,16.192289597638965,16.19391479009798,16.17256059590494,16.18323618634608,16.16312972134143,16.123449309531686,16.15851743189949,16.14667602620392,16.165704370546212,16.152651684574515,16.118638361689644,16.16232182119263,16.150803093509055,16.169127391817682,16.15455726390394,16.118460020813647,16.15528467047058,16.142248648192286,16.159911319004877,16.145788598665863,16.111468743636536,16.163168069616702,16.158535060817673,16.18631317981511,16.18392388534704,16.26057990028148,16.272472463815014,16.31677820547794,16.33053853928164,16.324802697978573,16.460404219152778,16.480995757165118,16.531570881662653,16.548958577634163,16.544053517879565,16.664778610055947,16.674757198307944,16.712124070694582,16.71393954500166,16.69138389155704,16.750197567571913,16.737877426223395,16.75281931507622,16.732509219348103,16.688540163246653,16.691113626584375,16.66376169036567,16.665931730253558,16.63526750183126,16.583459885787125,16.577689871565045,16.5523560603349,16.558687827641002,16.534112159344865,16.490071897613998,16.51491604450249,16.501276487434975,16.51959214493048,16.50704651299477,16.474869402430155,16.52897075318114,16.55653921946,16.552685436717717,16.528728779466096,16.609852296868446,16.613944255971834,16.649773748481955,16.654771298726764,16.756601081305824,16.77473409281332,16.82582701802023,16.84725505194102,16.85041143763661,17.023360094673535,17.060935024572906,17.131140573562078,17.170944597174525,17.19130809007112,17.40439600026844,17.450066947119936,17.525057254390877,17.56599326838951,17.583550018659164,17.78842281000778,17.839163656524235,17.85179722995583,17.83728156750479,17.901702893814623,17.884636247203165,17.89140602974668,17.85950067159833,17.800569652409926,17.739473964633955,17.685396873701965,17.658608607404986,17.597139922911303,17.51311249547674,17.407006233184426,17.34871580226913,17.32321326106555,17.26844270171465,17.196342327398867,17.154214525869463,17.125197399792782,17.132053472983525,17.11212056197079,17.0766993871019,17.149094229340594,17.157587040635267,17.200599360306004,17.21491479533152,17.211332771352602,17.360726763892366,17.387712190169587,17.445316840834042,17.47025000271959,17.47331050240652,17.61979792900304,17.6388442373325,17.685472274301052,17.696719851556026,17.683742671315493,17.771822584928767,17.769267941336068,17.793866771143637,17.78301861788937,17.748219544281792,17.755050832571246,17.763319042330878,17.73784233670622,17.690243483351633,17.690906631549293,17.665690609272048,17.671226207287692,17.645050162931277,17.598747479173944,17.61467918814848,17.598085945894592,17.613852782220384,17.59940558968181,17.56620799794751,17.628335922689104,17.6289198900346,17.662466697551118,17.6662131328391,17.65142288948936,17.767917939445496,17.785593812721935,17.83533689762788,17.854157929835935,17.853101380739254,18.000754818946195,18.02490089641432,18.078936942291527,18.09979024684694,18.098459311883783,18.23161102952409,18.246636298956105,18.2896551230464,18.297807203555102,18.282342621805675,18.367508265698824,18.365803141774933,18.392324481119626,18.384577712245804,18.35417023022173,18.40350444535429,18.393778421014044,18.41459335403789,18.40358724926678,18.372440063961314,18.434439704333123,18.433494989327148,18.465013387498967,18.46633246123993,18.448782889994614,18.55516148247433,18.568740067024184,18.613895394272866,18.627527334467974,18.620554287318722,18.74473766565058,18.758716006127404,18.80122349165854,18.793304925669712,18.87342119676189,18.867927061277832,18.889184895506656,18.874496706082855,18.835308114098158,18.846363184213043,18.819860542395034,18.82200625977014,18.79058786552393,18.737485032613836,18.72701577542201,18.70077924709889,18.707034963480183,18.683499893443134,18.641885733788072,18.68444555851661,18.68063336474704,18.710792686607377,18.712024213380463,18.80751432403898,18.822938286676692,18.869363974523928,18.883379236097923,18.875608119288472,18.987753825723317,18.993816103090587,19.026204584171307,19.021673649072355,18.99111758497672,19.013588475084028,18.984423536146608,18.979958582235632,18.937635850414303,18.86905695469849,18.72185436927292,18.688342083725324,18.620479623933328,18.530272565631915,18.40551587446628,18.34042817985046,18.307530661483185,18.244564942646768,18.163258250195682,18.085278623978507,18.040854018488943,18.030238286975184,17.990590006421357,17.93305237110389,17.923540442558892,17.899333008208828,17.906938452504715,17.883200774323218,17.839025623127423,17.853156697796692,17.831370196524013,17.838870254641083,17.812726934819487,17.764129809755513,17.72573336421378,17.724255275763085,17.689413441073278,17.63276680004285,17.607898298642798,17.574680359684592,17.572463467797917,17.538772205401415,17.48516423212623,17.47983513931901,17.456039138739378,17.464307734565327,17.441884041554356,17.40002650999785,17.429805287824134,17.416705859811703,17.434749931018075,17.420983944366565,17.386515218432702,17.430106798129984,17.418850659648236,17.437502778296,17.42327090790468,17.4243491005954,17.410897179354308,17.42786063019406,17.4127283871341,17.377071619724145,17.42278753025945,17.415555528569676,17.4404860660428,17.43504771259423,17.4107319377955,17.498698573430467,17.50748205134519,17.54888004277944,17.560003936950473,17.551968463229507,17.68324168698973,17.70338461631926,17.75404958961779,17.772072312301454,17.768341550627092,17.895580360816204,17.90858797360812,17.94931804157069,17.954761907776255,17.93602514955565,18.00664651530976,17.99811433613135,18.016644257884455,17.99965452352734,17.95867796436782,17.96779989528275,17.941720150208198,17.94468476198349,17.91434109968725,17.86239444008279,17.853736585583153,17.82675127182605,17.831168685272036,17.804469765929362,17.75815213668978,17.775762608025737,17.759732693556003,17.775731024241,17.760967449325,17.72668959697799,17.77360609410146,17.799620565401607,17.794259233592243,17.7688066313423,17.845126088879294,17.847382342692455,17.881200559227985,17.883983510528317,17.867216519131468,17.97464080856827,17.989415763975444,18.036967316205992,18.054711088931157,18.054091121152716,18.215801337124123,18.24991013941662,18.316926123844496,18.353901841871547,18.371881745424602,18.5812552355402,18.62705180883604,18.702932770748504,18.745555017738496,18.765609257947,18.98833343088165,19.045295573481045,19.064715609111317,19.057457498936003,19.9877532314092,20.003261383497197,19.14537253311907,19.13630270704094,19.15093689338007,19.12663326501142,19.074914099633187,19.960697928772692,19.932344135604914,19.03194392627619,18.982399207123944,18.95925174858629,18.900473627959023,18.818145267809527,19.677675909922073,19.627838020938444,18.711049792271638,18.650447460258423,18.62170997197723,18.56284708108287,18.485877228519843,19.356050031306825,19.321884805333898,18.42545916328157,18.38948924503185,18.389163894935226,18.361943623242468,18.31925043024684,19.225703018613487,19.22916850867125,18.371064381729827,18.373451895901994,18.410882987461942,18.420211212642737,18.412292552025225,19.351230378614307,19.384435517156366,18.552934973554535,18.57847047643373,18.63534878667076,18.660254317855436,18.663949922155727,19.610520216825794,19.647428491514454,18.815820921732012,18.83761940587965,18.887365179610267,18.902023964999245,18.89267873310556,19.823764682329628,19.84311769623837,18.992270219986775,18.99353607076056,19.021846513564984,19.014548512363245,18.983091359522778,19.892256379798177,19.890201034516053,19.018751395046184,19.000484499715768,19.01056289478193,18.986532212020887,18.940007905160467,19.835905741504604,19.822487260016345,18.941654040931688,18.916032172536685,18.92080908785325,18.893533501231076,18.845804454609247,19.742503971197344,19.731844446562025,18.85566456086146,18.83651505817558,18.849496548567345,18.832060068372563,18.79569643557676,19.705168945104646,19.708560598401842,18.84756972964921,18.844595463522403,18.87457525529252,18.874785345646693,18.85653026113466,19.784375991745435,19.806198115091163,18.963478789106276,18.97839408891705,19.025653957945142,19.042305601397814,19.03942642446223,19.981361093454087,20.01577391240634,19.183950337828826,19.207888988802207,19.262146287635705,19.283644412691686,19.283368511640028,20.225607597303807,20.258010165624885,19.421888214345287,19.439310889378742,19.48494978332113,19.495886480657852,19.48330823890886,20.411746200030272,20.429127177348647,19.577072737325228,19.577986879062927,19.606894446424246,19.601241010163083,19.57258028171467,20.48580365072071,20.48918310984431,19.624661519080153,19.614931753747214,19.635267113650805,19.623313967859527,19.590772920858146,20.502623296502904,20.507162381219537,19.646293524111012,19.642604746006718,19.671200300785813,19.669496184340026,19.64890585080947,20.57407085892648,20.592907769527706,19.746905226928853,19.75821267011652,19.801482874652265,19.813679047782266,19.80577243997459,20.74198488352177,20.76984725966016,19.930507508588256,19.945829320227134,19.990243417567015,20.000561893335675,19.98768133683309,20.915828977256062,20.932622708884818,20.079378529122803,20.078206500041585,20.103857175822206,20.09352904552712,20.058562873295134],\"type\":\"scatter\"}],                        {\"template\":{\"data\":{\"bar\":[{\"error_x\":{\"color\":\"#2a3f5f\"},\"error_y\":{\"color\":\"#2a3f5f\"},\"marker\":{\"line\":{\"color\":\"#E5ECF6\",\"width\":0.5},\"pattern\":{\"fillmode\":\"overlay\",\"size\":10,\"solidity\":0.2}},\"type\":\"bar\"}],\"barpolar\":[{\"marker\":{\"line\":{\"color\":\"#E5ECF6\",\"width\":0.5},\"pattern\":{\"fillmode\":\"overlay\",\"size\":10,\"solidity\":0.2}},\"type\":\"barpolar\"}],\"carpet\":[{\"aaxis\":{\"endlinecolor\":\"#2a3f5f\",\"gridcolor\":\"white\",\"linecolor\":\"white\",\"minorgridcolor\":\"white\",\"startlinecolor\":\"#2a3f5f\"},\"baxis\":{\"endlinecolor\":\"#2a3f5f\",\"gridcolor\":\"white\",\"linecolor\":\"white\",\"minorgridcolor\":\"white\",\"startlinecolor\":\"#2a3f5f\"},\"type\":\"carpet\"}],\"choropleth\":[{\"colorbar\":{\"outlinewidth\":0,\"ticks\":\"\"},\"type\":\"choropleth\"}],\"contour\":[{\"colorbar\":{\"outlinewidth\":0,\"ticks\":\"\"},\"colorscale\":[[0.0,\"#0d0887\"],[0.1111111111111111,\"#46039f\"],[0.2222222222222222,\"#7201a8\"],[0.3333333333333333,\"#9c179e\"],[0.4444444444444444,\"#bd3786\"],[0.5555555555555556,\"#d8576b\"],[0.6666666666666666,\"#ed7953\"],[0.7777777777777778,\"#fb9f3a\"],[0.8888888888888888,\"#fdca26\"],[1.0,\"#f0f921\"]],\"type\":\"contour\"}],\"contourcarpet\":[{\"colorbar\":{\"outlinewidth\":0,\"ticks\":\"\"},\"type\":\"contourcarpet\"}],\"heatmap\":[{\"colorbar\":{\"outlinewidth\":0,\"ticks\":\"\"},\"colorscale\":[[0.0,\"#0d0887\"],[0.1111111111111111,\"#46039f\"],[0.2222222222222222,\"#7201a8\"],[0.3333333333333333,\"#9c179e\"],[0.4444444444444444,\"#bd3786\"],[0.5555555555555556,\"#d8576b\"],[0.6666666666666666,\"#ed7953\"],[0.7777777777777778,\"#fb9f3a\"],[0.8888888888888888,\"#fdca26\"],[1.0,\"#f0f921\"]],\"type\":\"heatmap\"}],\"heatmapgl\":[{\"colorbar\":{\"outlinewidth\":0,\"ticks\":\"\"},\"colorscale\":[[0.0,\"#0d0887\"],[0.1111111111111111,\"#46039f\"],[0.2222222222222222,\"#7201a8\"],[0.3333333333333333,\"#9c179e\"],[0.4444444444444444,\"#bd3786\"],[0.5555555555555556,\"#d8576b\"],[0.6666666666666666,\"#ed7953\"],[0.7777777777777778,\"#fb9f3a\"],[0.8888888888888888,\"#fdca26\"],[1.0,\"#f0f921\"]],\"type\":\"heatmapgl\"}],\"histogram\":[{\"marker\":{\"pattern\":{\"fillmode\":\"overlay\",\"size\":10,\"solidity\":0.2}},\"type\":\"histogram\"}],\"histogram2d\":[{\"colorbar\":{\"outlinewidth\":0,\"ticks\":\"\"},\"colorscale\":[[0.0,\"#0d0887\"],[0.1111111111111111,\"#46039f\"],[0.2222222222222222,\"#7201a8\"],[0.3333333333333333,\"#9c179e\"],[0.4444444444444444,\"#bd3786\"],[0.5555555555555556,\"#d8576b\"],[0.6666666666666666,\"#ed7953\"],[0.7777777777777778,\"#fb9f3a\"],[0.8888888888888888,\"#fdca26\"],[1.0,\"#f0f921\"]],\"type\":\"histogram2d\"}],\"histogram2dcontour\":[{\"colorbar\":{\"outlinewidth\":0,\"ticks\":\"\"},\"colorscale\":[[0.0,\"#0d0887\"],[0.1111111111111111,\"#46039f\"],[0.2222222222222222,\"#7201a8\"],[0.3333333333333333,\"#9c179e\"],[0.4444444444444444,\"#bd3786\"],[0.5555555555555556,\"#d8576b\"],[0.6666666666666666,\"#ed7953\"],[0.7777777777777778,\"#fb9f3a\"],[0.8888888888888888,\"#fdca26\"],[1.0,\"#f0f921\"]],\"type\":\"histogram2dcontour\"}],\"mesh3d\":[{\"colorbar\":{\"outlinewidth\":0,\"ticks\":\"\"},\"type\":\"mesh3d\"}],\"parcoords\":[{\"line\":{\"colorbar\":{\"outlinewidth\":0,\"ticks\":\"\"}},\"type\":\"parcoords\"}],\"pie\":[{\"automargin\":true,\"type\":\"pie\"}],\"scatter\":[{\"marker\":{\"colorbar\":{\"outlinewidth\":0,\"ticks\":\"\"}},\"type\":\"scatter\"}],\"scatter3d\":[{\"line\":{\"colorbar\":{\"outlinewidth\":0,\"ticks\":\"\"}},\"marker\":{\"colorbar\":{\"outlinewidth\":0,\"ticks\":\"\"}},\"type\":\"scatter3d\"}],\"scattercarpet\":[{\"marker\":{\"colorbar\":{\"outlinewidth\":0,\"ticks\":\"\"}},\"type\":\"scattercarpet\"}],\"scattergeo\":[{\"marker\":{\"colorbar\":{\"outlinewidth\":0,\"ticks\":\"\"}},\"type\":\"scattergeo\"}],\"scattergl\":[{\"marker\":{\"colorbar\":{\"outlinewidth\":0,\"ticks\":\"\"}},\"type\":\"scattergl\"}],\"scattermapbox\":[{\"marker\":{\"colorbar\":{\"outlinewidth\":0,\"ticks\":\"\"}},\"type\":\"scattermapbox\"}],\"scatterpolar\":[{\"marker\":{\"colorbar\":{\"outlinewidth\":0,\"ticks\":\"\"}},\"type\":\"scatterpolar\"}],\"scatterpolargl\":[{\"marker\":{\"colorbar\":{\"outlinewidth\":0,\"ticks\":\"\"}},\"type\":\"scatterpolargl\"}],\"scatterternary\":[{\"marker\":{\"colorbar\":{\"outlinewidth\":0,\"ticks\":\"\"}},\"type\":\"scatterternary\"}],\"surface\":[{\"colorbar\":{\"outlinewidth\":0,\"ticks\":\"\"},\"colorscale\":[[0.0,\"#0d0887\"],[0.1111111111111111,\"#46039f\"],[0.2222222222222222,\"#7201a8\"],[0.3333333333333333,\"#9c179e\"],[0.4444444444444444,\"#bd3786\"],[0.5555555555555556,\"#d8576b\"],[0.6666666666666666,\"#ed7953\"],[0.7777777777777778,\"#fb9f3a\"],[0.8888888888888888,\"#fdca26\"],[1.0,\"#f0f921\"]],\"type\":\"surface\"}],\"table\":[{\"cells\":{\"fill\":{\"color\":\"#EBF0F8\"},\"line\":{\"color\":\"white\"}},\"header\":{\"fill\":{\"color\":\"#C8D4E3\"},\"line\":{\"color\":\"white\"}},\"type\":\"table\"}]},\"layout\":{\"annotationdefaults\":{\"arrowcolor\":\"#2a3f5f\",\"arrowhead\":0,\"arrowwidth\":1},\"autotypenumbers\":\"strict\",\"coloraxis\":{\"colorbar\":{\"outlinewidth\":0,\"ticks\":\"\"}},\"colorscale\":{\"diverging\":[[0,\"#8e0152\"],[0.1,\"#c51b7d\"],[0.2,\"#de77ae\"],[0.3,\"#f1b6da\"],[0.4,\"#fde0ef\"],[0.5,\"#f7f7f7\"],[0.6,\"#e6f5d0\"],[0.7,\"#b8e186\"],[0.8,\"#7fbc41\"],[0.9,\"#4d9221\"],[1,\"#276419\"]],\"sequential\":[[0.0,\"#0d0887\"],[0.1111111111111111,\"#46039f\"],[0.2222222222222222,\"#7201a8\"],[0.3333333333333333,\"#9c179e\"],[0.4444444444444444,\"#bd3786\"],[0.5555555555555556,\"#d8576b\"],[0.6666666666666666,\"#ed7953\"],[0.7777777777777778,\"#fb9f3a\"],[0.8888888888888888,\"#fdca26\"],[1.0,\"#f0f921\"]],\"sequentialminus\":[[0.0,\"#0d0887\"],[0.1111111111111111,\"#46039f\"],[0.2222222222222222,\"#7201a8\"],[0.3333333333333333,\"#9c179e\"],[0.4444444444444444,\"#bd3786\"],[0.5555555555555556,\"#d8576b\"],[0.6666666666666666,\"#ed7953\"],[0.7777777777777778,\"#fb9f3a\"],[0.8888888888888888,\"#fdca26\"],[1.0,\"#f0f921\"]]},\"colorway\":[\"#636efa\",\"#EF553B\",\"#00cc96\",\"#ab63fa\",\"#FFA15A\",\"#19d3f3\",\"#FF6692\",\"#B6E880\",\"#FF97FF\",\"#FECB52\"],\"font\":{\"color\":\"#2a3f5f\"},\"geo\":{\"bgcolor\":\"white\",\"lakecolor\":\"white\",\"landcolor\":\"#E5ECF6\",\"showlakes\":true,\"showland\":true,\"subunitcolor\":\"white\"},\"hoverlabel\":{\"align\":\"left\"},\"hovermode\":\"closest\",\"mapbox\":{\"style\":\"light\"},\"paper_bgcolor\":\"white\",\"plot_bgcolor\":\"#E5ECF6\",\"polar\":{\"angularaxis\":{\"gridcolor\":\"white\",\"linecolor\":\"white\",\"ticks\":\"\"},\"bgcolor\":\"#E5ECF6\",\"radialaxis\":{\"gridcolor\":\"white\",\"linecolor\":\"white\",\"ticks\":\"\"}},\"scene\":{\"xaxis\":{\"backgroundcolor\":\"#E5ECF6\",\"gridcolor\":\"white\",\"gridwidth\":2,\"linecolor\":\"white\",\"showbackground\":true,\"ticks\":\"\",\"zerolinecolor\":\"white\"},\"yaxis\":{\"backgroundcolor\":\"#E5ECF6\",\"gridcolor\":\"white\",\"gridwidth\":2,\"linecolor\":\"white\",\"showbackground\":true,\"ticks\":\"\",\"zerolinecolor\":\"white\"},\"zaxis\":{\"backgroundcolor\":\"#E5ECF6\",\"gridcolor\":\"white\",\"gridwidth\":2,\"linecolor\":\"white\",\"showbackground\":true,\"ticks\":\"\",\"zerolinecolor\":\"white\"}},\"shapedefaults\":{\"line\":{\"color\":\"#2a3f5f\"}},\"ternary\":{\"aaxis\":{\"gridcolor\":\"white\",\"linecolor\":\"white\",\"ticks\":\"\"},\"baxis\":{\"gridcolor\":\"white\",\"linecolor\":\"white\",\"ticks\":\"\"},\"bgcolor\":\"#E5ECF6\",\"caxis\":{\"gridcolor\":\"white\",\"linecolor\":\"white\",\"ticks\":\"\"}},\"title\":{\"x\":0.05},\"xaxis\":{\"automargin\":true,\"gridcolor\":\"white\",\"linecolor\":\"white\",\"ticks\":\"\",\"title\":{\"standoff\":15},\"zerolinecolor\":\"white\",\"zerolinewidth\":2},\"yaxis\":{\"automargin\":true,\"gridcolor\":\"white\",\"linecolor\":\"white\",\"ticks\":\"\",\"title\":{\"standoff\":15},\"zerolinecolor\":\"white\",\"zerolinewidth\":2}}}},                        {\"responsive\": true}                    ).then(function(){\n",
              "                            \n",
              "var gd = document.getElementById('85715edb-1d2a-4b91-bf7c-40cfca08ef46');\n",
              "var x = new MutationObserver(function (mutations, observer) {{\n",
              "        var display = window.getComputedStyle(gd).display;\n",
              "        if (!display || display === 'none') {{\n",
              "            console.log([gd, 'removed!']);\n",
              "            Plotly.purge(gd);\n",
              "            observer.disconnect();\n",
              "        }}\n",
              "}});\n",
              "\n",
              "// Listen for the removal of the full notebook cells\n",
              "var notebookContainer = gd.closest('#notebook-container');\n",
              "if (notebookContainer) {{\n",
              "    x.observe(notebookContainer, {childList: true});\n",
              "}}\n",
              "\n",
              "// Listen for the clearing of the current output cell\n",
              "var outputEl = gd.closest('.output');\n",
              "if (outputEl) {{\n",
              "    x.observe(outputEl, {childList: true});\n",
              "}}\n",
              "\n",
              "                        })                };                            </script>        </div>\n",
              "</body>\n",
              "</html>"
            ]
          },
          "metadata": {}
        }
      ]
    },
    {
      "cell_type": "markdown",
      "source": [
        "## Mean Absolute Error\n"
      ],
      "metadata": {
        "id": "GeHgsRRgVDXH"
      }
    },
    {
      "cell_type": "markdown",
      "source": [
        "Let us now understand the MAE (Mean Absolute Error).\n",
        "Absolute error refers to the magnitude of difference between the prediction of an observation and the true value of that observation.\n",
        "It is thus an arithmetic average of the absolute errors $MAE=\\frac{1}{n}\\sum_{i=1}^{n}|x_i-y_i|$ where ``` y{i}``` is the prediction and ```x{i}``` the true value. Note that alternative formulations may include relative frequencies as weight factors. The mean absolute error uses the same scale as the data being measured. This is known as a scale-dependent accuracy measure and therefore cannot be used to make comparisons between series using different scales.\n",
        "\n",
        "### MAE Range is from 0 to ∞ (infinite). The lower the MAE, the better a model fits a dataset.\n",
        "\n",
        "<center><img src=\"https://cf-courses-data.s3.us.cloud-object-storage.appdomain.cloud/IBM-GPXX032NEN/images/MAE_img.png\" width=\"600\" height=\"500\"></center> \n"
      ],
      "metadata": {
        "id": "OvgrSk4eVDXH"
      }
    },
    {
      "cell_type": "markdown",
      "source": [
        "Here we are getting ```7.9``` MAE which is good but optimizing model can help to reduced Errors.\n",
        "\n",
        "In previous graph of predicted V/s Actual we can see that curves are not perfect for prediction.\n"
      ],
      "metadata": {
        "id": "wh0ttFvsVDXH"
      }
    },
    {
      "cell_type": "code",
      "source": [
        "#Return a Numpy representation of the DataFrame.\n",
        "y_true = df['y'].values\n",
        "\n",
        "#Here we have specified [:498] because in y_true we have 498 data points so for comparing both series we need equal shape of series.\n",
        "y_pred = prediction['yhat'][:755].values \n",
        "\n",
        "#Parameters:\n",
        "#y_truearray-like of shape = (n_samples) or (n_samples, n_outputs)\n",
        "#Ground truth (correct) target values.\n",
        "\n",
        "#y_predarray-like of shape = (n_samples) or (n_samples, n_outputs)\n",
        "#Estimated target values.\n",
        "\n",
        "mae = mean_absolute_error(y_true, y_pred)\n",
        "print('MAE: %.3f' % mae)"
      ],
      "metadata": {
        "colab": {
          "base_uri": "https://localhost:8080/"
        },
        "id": "zmfUjtUwVDXI",
        "outputId": "85c0dd61-33d0-4d3d-b540-8e4924a05a63"
      },
      "execution_count": 28,
      "outputs": [
        {
          "output_type": "stream",
          "name": "stdout",
          "text": [
            "MAE: 0.497\n"
          ]
        }
      ]
    },
    {
      "cell_type": "markdown",
      "source": [
        "## Optimizing the model for better forecasting\n"
      ],
      "metadata": {
        "id": "iusKF1cfVDXI"
      }
    },
    {
      "cell_type": "markdown",
      "source": [
        "<table  style=' font-size: 16px;'>\n",
        "<tr><td>name  <td>String name of the seasonality component.</td></tr>\n",
        "<tr><td> period</td> <td> Float number of days in one period.</td></tr>\n",
        "<tr><td> fourier_order</td> <td> Int number of Fourier components to use.</td></tr>\n",
        "<tr><td> prior_scale</td> <td> Optional float prior scale for this component. </td></tr>\n",
        "<tr><td> mode</td> <td> Optional 'additive' or 'multiplicative'.</td></tr>\n",
        "<tr><td> condition_name </td> <td> String name of the seasonality condition.</td></tr>\n",
        "</table>\n",
        " \n"
      ],
      "metadata": {
        "id": "luiKcvLaVDXI"
      }
    },
    {
      "cell_type": "markdown",
      "source": [
        "Prophet will by default fit weekly and yearly seasonalities, if the time series is more than two cycles long.\n",
        "\n",
        "It will also fit daily seasonality for a sub-daily time series. \n",
        "\n",
        "You can add other seasonalities (monthly, quarterly, hourly) using the add_seasonality method (Python)\n"
      ],
      "metadata": {
        "id": "gUb9UchKVDXI"
      }
    },
    {
      "cell_type": "markdown",
      "source": [
        "#### Here we have taken period=365, as one year consist of 365 days and Fourier_order=70.\n",
        "#### In this case study, I have randomly found 70 is a good fit for my model. \n",
        "#### Fourier_order can differ for different datasets.\n",
        "#### Note : Higher Furier_order Value can lead to Overfitting.\n"
      ],
      "metadata": {
        "id": "iJMfPxQFVDXI"
      }
    },
    {
      "cell_type": "code",
      "source": [
        "model1=Prophet(daily_seasonality=True).add_seasonality(name='yearly',period=365,fourier_order=70)"
      ],
      "metadata": {
        "id": "KQiFx9vjVDXI"
      },
      "execution_count": 29,
      "outputs": []
    },
    {
      "cell_type": "markdown",
      "source": [
        "### Fit Model with Hyper Patameter Tuning \n"
      ],
      "metadata": {
        "id": "Wz1ZCQJgVDXI"
      }
    },
    {
      "cell_type": "markdown",
      "source": [
        "The ```fit()``` function takes a ```DataFrame``` of ```time series data```. \n",
        "\n",
        "The DataFrame must have a specific format.\n",
        "\n",
        "The ```first column``` must have the name ```'ds'``` and contain the ```date-times.``` .\n",
        "\n",
        "The ```second column``` must have the name ```'y'``` and contain the ```observations```.\n"
      ],
      "metadata": {
        "id": "u-Uj8WgwVDXI"
      }
    },
    {
      "cell_type": "code",
      "source": [
        "model1.fit(df)"
      ],
      "metadata": {
        "colab": {
          "base_uri": "https://localhost:8080/"
        },
        "id": "XoOBndp7VDXJ",
        "outputId": "79a76958-265b-417d-f078-2c3dfb3d923a"
      },
      "execution_count": 30,
      "outputs": [
        {
          "output_type": "stream",
          "name": "stderr",
          "text": [
            "INFO:prophet:Found custom seasonality named 'yearly', disabling built-in 'yearly' seasonality.\n",
            "DEBUG:cmdstanpy:input tempfile: /tmp/tmpfoz3gbin/9znxppyp.json\n",
            "DEBUG:cmdstanpy:input tempfile: /tmp/tmpfoz3gbin/gpu2ru1g.json\n",
            "DEBUG:cmdstanpy:idx 0\n",
            "DEBUG:cmdstanpy:running CmdStan, num_threads: None\n",
            "DEBUG:cmdstanpy:CmdStan args: ['/usr/local/lib/python3.8/dist-packages/prophet/stan_model/prophet_model.bin', 'random', 'seed=93995', 'data', 'file=/tmp/tmpfoz3gbin/9znxppyp.json', 'init=/tmp/tmpfoz3gbin/gpu2ru1g.json', 'output', 'file=/tmp/tmpfoz3gbin/prophet_model6lre5q75/prophet_model-20221202204155.csv', 'method=optimize', 'algorithm=lbfgs', 'iter=10000']\n",
            "20:41:55 - cmdstanpy - INFO - Chain [1] start processing\n",
            "INFO:cmdstanpy:Chain [1] start processing\n",
            "20:41:55 - cmdstanpy - INFO - Chain [1] done processing\n",
            "INFO:cmdstanpy:Chain [1] done processing\n"
          ]
        },
        {
          "output_type": "execute_result",
          "data": {
            "text/plain": [
              "<prophet.forecaster.Prophet at 0x7fc8842ec790>"
            ]
          },
          "metadata": {},
          "execution_count": 30
        }
      ]
    },
    {
      "cell_type": "markdown",
      "source": [
        "### Print the components of model\n"
      ],
      "metadata": {
        "id": "oFhEHrrVVDXJ"
      }
    },
    {
      "cell_type": "code",
      "source": [
        "model1.component_modes"
      ],
      "metadata": {
        "colab": {
          "base_uri": "https://localhost:8080/"
        },
        "id": "YcXlPqnXVDXJ",
        "outputId": "db6a6e58-10c3-41b7-d973-90e1ee9517b3"
      },
      "execution_count": 31,
      "outputs": [
        {
          "output_type": "execute_result",
          "data": {
            "text/plain": [
              "{'additive': ['yearly',\n",
              "  'weekly',\n",
              "  'daily',\n",
              "  'additive_terms',\n",
              "  'extra_regressors_additive',\n",
              "  'holidays'],\n",
              " 'multiplicative': ['multiplicative_terms', 'extra_regressors_multiplicative']}"
            ]
          },
          "metadata": {},
          "execution_count": 31
        }
      ]
    },
    {
      "cell_type": "markdown",
      "source": [
        "### Make future dataframe for next 1 year\n"
      ],
      "metadata": {
        "id": "5k-wZws1VDXJ"
      }
    },
    {
      "cell_type": "markdown",
      "source": [
        "Here we are taking period = 365 beacause we have 365 days in a year.\n"
      ],
      "metadata": {
        "id": "hqtKkDtHVDXJ"
      }
    },
    {
      "cell_type": "code",
      "source": [
        "future_dates1=model1.make_future_dataframe(periods=365)"
      ],
      "metadata": {
        "id": "CmlMYiTVVDXJ"
      },
      "execution_count": 32,
      "outputs": []
    },
    {
      "cell_type": "markdown",
      "source": [
        "### Predict the Datapoint for next year.\n"
      ],
      "metadata": {
        "id": "JPAgaQIdVDXJ"
      }
    },
    {
      "cell_type": "code",
      "source": [
        "prediction1=model1.predict(future_dates1)"
      ],
      "metadata": {
        "id": "C4p4xxtAVDXJ"
      },
      "execution_count": 33,
      "outputs": []
    },
    {
      "cell_type": "markdown",
      "source": [
        "#### After optimization, we are getting the value of MAE as 5.6, which is better than above MAE i.e 7.9. Hence This model gives a good Prediction.\n"
      ],
      "metadata": {
        "id": "OsRX2T8YVDXJ"
      }
    },
    {
      "cell_type": "code",
      "source": [
        "from sklearn.metrics import mean_absolute_error\n",
        "y_true = df['y'].values\n",
        "y_pred = prediction1['yhat'][:755].values\n",
        "mae = mean_absolute_error(y_true, y_pred)\n",
        "print('MAE: %.3f' % mae)"
      ],
      "metadata": {
        "colab": {
          "base_uri": "https://localhost:8080/"
        },
        "id": "eLWzTgz0VDXK",
        "outputId": "6673c528-a83d-49da-fdbf-b62f8a60b818"
      },
      "execution_count": 34,
      "outputs": [
        {
          "output_type": "stream",
          "name": "stdout",
          "text": [
            "MAE: 0.468\n"
          ]
        }
      ]
    },
    {
      "cell_type": "markdown",
      "source": [
        "### Plot expected vs actual After Optimizng\n"
      ],
      "metadata": {
        "id": "MUM0zk-LVDXK"
      }
    },
    {
      "cell_type": "code",
      "source": [
        "import plotly.graph_objects as go\n",
        "fig = go.Figure([go.Scatter(x=df['ds'], y=df['y'],mode='lines',\n",
        "                    name='Actual')])\n",
        "\n",
        "fig.add_trace(go.Scatter(x=prediction1['ds'], y=prediction1['yhat'],\n",
        "                   mode='lines+markers',\n",
        "                    name='predicted'))\n",
        "\n",
        "fig.show()"
      ],
      "metadata": {
        "colab": {
          "base_uri": "https://localhost:8080/",
          "height": 0
        },
        "id": "5TUcGcxHVDXK",
        "outputId": "ba4b535f-2a2b-4d27-8433-319b26b357f6"
      },
      "execution_count": 35,
      "outputs": [
        {
          "output_type": "display_data",
          "data": {
            "text/html": [
              "<html>\n",
              "<head><meta charset=\"utf-8\" /></head>\n",
              "<body>\n",
              "    <div>            <script src=\"https://cdnjs.cloudflare.com/ajax/libs/mathjax/2.7.5/MathJax.js?config=TeX-AMS-MML_SVG\"></script><script type=\"text/javascript\">if (window.MathJax) {MathJax.Hub.Config({SVG: {font: \"STIX-Web\"}});}</script>                <script type=\"text/javascript\">window.PlotlyConfig = {MathJaxConfig: 'local'};</script>\n",
              "        <script src=\"https://cdn.plot.ly/plotly-2.8.3.min.js\"></script>                <div id=\"41eabcce-4e14-4829-8079-c9ea77edc403\" class=\"plotly-graph-div\" style=\"height:525px; width:100%;\"></div>            <script type=\"text/javascript\">                                    window.PLOTLYENV=window.PLOTLYENV || {};                                    if (document.getElementById(\"41eabcce-4e14-4829-8079-c9ea77edc403\")) {                    Plotly.newPlot(                        \"41eabcce-4e14-4829-8079-c9ea77edc403\",                        [{\"mode\":\"lines\",\"name\":\"Actual\",\"x\":[\"2002-07-08T00:00:00\",\"2002-07-09T00:00:00\",\"2002-07-10T00:00:00\",\"2002-07-11T00:00:00\",\"2002-07-12T00:00:00\",\"2002-07-15T00:00:00\",\"2002-07-16T00:00:00\",\"2002-07-17T00:00:00\",\"2002-07-18T00:00:00\",\"2002-07-19T00:00:00\",\"2002-07-22T00:00:00\",\"2002-07-23T00:00:00\",\"2002-07-24T00:00:00\",\"2002-07-25T00:00:00\",\"2002-07-26T00:00:00\",\"2002-07-29T00:00:00\",\"2002-07-30T00:00:00\",\"2002-07-31T00:00:00\",\"2002-08-01T00:00:00\",\"2002-08-02T00:00:00\",\"2002-08-05T00:00:00\",\"2002-08-06T00:00:00\",\"2002-08-07T00:00:00\",\"2002-08-08T00:00:00\",\"2002-08-09T00:00:00\",\"2002-08-12T00:00:00\",\"2002-08-13T00:00:00\",\"2002-08-14T00:00:00\",\"2002-08-15T00:00:00\",\"2002-08-16T00:00:00\",\"2002-08-19T00:00:00\",\"2002-08-20T00:00:00\",\"2002-08-21T00:00:00\",\"2002-08-22T00:00:00\",\"2002-08-23T00:00:00\",\"2002-08-26T00:00:00\",\"2002-08-27T00:00:00\",\"2002-08-28T00:00:00\",\"2002-08-29T00:00:00\",\"2002-08-30T00:00:00\",\"2002-09-03T00:00:00\",\"2002-09-04T00:00:00\",\"2002-09-05T00:00:00\",\"2002-09-06T00:00:00\",\"2002-09-09T00:00:00\",\"2002-09-10T00:00:00\",\"2002-09-11T00:00:00\",\"2002-09-12T00:00:00\",\"2002-09-13T00:00:00\",\"2002-09-16T00:00:00\",\"2002-09-17T00:00:00\",\"2002-09-18T00:00:00\",\"2002-09-19T00:00:00\",\"2002-09-20T00:00:00\",\"2002-09-23T00:00:00\",\"2002-09-24T00:00:00\",\"2002-09-25T00:00:00\",\"2002-09-26T00:00:00\",\"2002-09-27T00:00:00\",\"2002-09-30T00:00:00\",\"2002-10-01T00:00:00\",\"2002-10-02T00:00:00\",\"2002-10-03T00:00:00\",\"2002-10-04T00:00:00\",\"2002-10-07T00:00:00\",\"2002-10-08T00:00:00\",\"2002-10-09T00:00:00\",\"2002-10-10T00:00:00\",\"2002-10-11T00:00:00\",\"2002-10-14T00:00:00\",\"2002-10-15T00:00:00\",\"2002-10-16T00:00:00\",\"2002-10-17T00:00:00\",\"2002-10-18T00:00:00\",\"2002-10-21T00:00:00\",\"2002-10-22T00:00:00\",\"2002-10-23T00:00:00\",\"2002-10-24T00:00:00\",\"2002-10-25T00:00:00\",\"2002-10-28T00:00:00\",\"2002-10-29T00:00:00\",\"2002-10-30T00:00:00\",\"2002-10-31T00:00:00\",\"2002-11-01T00:00:00\",\"2002-11-04T00:00:00\",\"2002-11-05T00:00:00\",\"2002-11-06T00:00:00\",\"2002-11-07T00:00:00\",\"2002-11-08T00:00:00\",\"2002-11-11T00:00:00\",\"2002-11-12T00:00:00\",\"2002-11-13T00:00:00\",\"2002-11-14T00:00:00\",\"2002-11-15T00:00:00\",\"2002-11-18T00:00:00\",\"2002-11-19T00:00:00\",\"2002-11-20T00:00:00\",\"2002-11-21T00:00:00\",\"2002-11-22T00:00:00\",\"2002-11-25T00:00:00\",\"2002-11-26T00:00:00\",\"2002-11-27T00:00:00\",\"2002-11-29T00:00:00\",\"2002-12-02T00:00:00\",\"2002-12-03T00:00:00\",\"2002-12-04T00:00:00\",\"2002-12-05T00:00:00\",\"2002-12-06T00:00:00\",\"2002-12-09T00:00:00\",\"2002-12-10T00:00:00\",\"2002-12-11T00:00:00\",\"2002-12-12T00:00:00\",\"2002-12-13T00:00:00\",\"2002-12-16T00:00:00\",\"2002-12-17T00:00:00\",\"2002-12-18T00:00:00\",\"2002-12-19T00:00:00\",\"2002-12-20T00:00:00\",\"2002-12-23T00:00:00\",\"2002-12-24T00:00:00\",\"2002-12-26T00:00:00\",\"2002-12-27T00:00:00\",\"2002-12-30T00:00:00\",\"2002-12-31T00:00:00\",\"2003-01-02T00:00:00\",\"2003-01-03T00:00:00\",\"2003-01-06T00:00:00\",\"2003-01-07T00:00:00\",\"2003-01-08T00:00:00\",\"2003-01-09T00:00:00\",\"2003-01-10T00:00:00\",\"2003-01-13T00:00:00\",\"2003-01-14T00:00:00\",\"2003-01-15T00:00:00\",\"2003-01-16T00:00:00\",\"2003-01-17T00:00:00\",\"2003-01-21T00:00:00\",\"2003-01-22T00:00:00\",\"2003-01-23T00:00:00\",\"2003-01-24T00:00:00\",\"2003-01-27T00:00:00\",\"2003-01-28T00:00:00\",\"2003-01-29T00:00:00\",\"2003-01-30T00:00:00\",\"2003-01-31T00:00:00\",\"2003-02-03T00:00:00\",\"2003-02-04T00:00:00\",\"2003-02-05T00:00:00\",\"2003-02-06T00:00:00\",\"2003-02-07T00:00:00\",\"2003-02-10T00:00:00\",\"2003-02-11T00:00:00\",\"2003-02-12T00:00:00\",\"2003-02-13T00:00:00\",\"2003-02-14T00:00:00\",\"2003-02-18T00:00:00\",\"2003-02-19T00:00:00\",\"2003-02-20T00:00:00\",\"2003-02-21T00:00:00\",\"2003-02-24T00:00:00\",\"2003-02-25T00:00:00\",\"2003-02-26T00:00:00\",\"2003-02-27T00:00:00\",\"2003-02-28T00:00:00\",\"2003-03-03T00:00:00\",\"2003-03-04T00:00:00\",\"2003-03-05T00:00:00\",\"2003-03-06T00:00:00\",\"2003-03-07T00:00:00\",\"2003-03-10T00:00:00\",\"2003-03-11T00:00:00\",\"2003-03-12T00:00:00\",\"2003-03-13T00:00:00\",\"2003-03-14T00:00:00\",\"2003-03-17T00:00:00\",\"2003-03-18T00:00:00\",\"2003-03-19T00:00:00\",\"2003-03-20T00:00:00\",\"2003-03-21T00:00:00\",\"2003-03-24T00:00:00\",\"2003-03-25T00:00:00\",\"2003-03-26T00:00:00\",\"2003-03-27T00:00:00\",\"2003-03-28T00:00:00\",\"2003-03-31T00:00:00\",\"2003-04-01T00:00:00\",\"2003-04-02T00:00:00\",\"2003-04-03T00:00:00\",\"2003-04-04T00:00:00\",\"2003-04-07T00:00:00\",\"2003-04-08T00:00:00\",\"2003-04-09T00:00:00\",\"2003-04-10T00:00:00\",\"2003-04-11T00:00:00\",\"2003-04-14T00:00:00\",\"2003-04-15T00:00:00\",\"2003-04-16T00:00:00\",\"2003-04-17T00:00:00\",\"2003-04-21T00:00:00\",\"2003-04-22T00:00:00\",\"2003-04-23T00:00:00\",\"2003-04-24T00:00:00\",\"2003-04-25T00:00:00\",\"2003-04-28T00:00:00\",\"2003-04-29T00:00:00\",\"2003-04-30T00:00:00\",\"2003-05-01T00:00:00\",\"2003-05-02T00:00:00\",\"2003-05-05T00:00:00\",\"2003-05-06T00:00:00\",\"2003-05-07T00:00:00\",\"2003-05-08T00:00:00\",\"2003-05-09T00:00:00\",\"2003-05-12T00:00:00\",\"2003-05-13T00:00:00\",\"2003-05-14T00:00:00\",\"2003-05-15T00:00:00\",\"2003-05-16T00:00:00\",\"2003-05-19T00:00:00\",\"2003-05-20T00:00:00\",\"2003-05-21T00:00:00\",\"2003-05-22T00:00:00\",\"2003-05-23T00:00:00\",\"2003-05-27T00:00:00\",\"2003-05-28T00:00:00\",\"2003-05-29T00:00:00\",\"2003-05-30T00:00:00\",\"2003-06-02T00:00:00\",\"2003-06-03T00:00:00\",\"2003-06-04T00:00:00\",\"2003-06-05T00:00:00\",\"2003-06-06T00:00:00\",\"2003-06-09T00:00:00\",\"2003-06-10T00:00:00\",\"2003-06-11T00:00:00\",\"2003-06-12T00:00:00\",\"2003-06-13T00:00:00\",\"2003-06-16T00:00:00\",\"2003-06-17T00:00:00\",\"2003-06-18T00:00:00\",\"2003-06-19T00:00:00\",\"2003-06-20T00:00:00\",\"2003-06-23T00:00:00\",\"2003-06-24T00:00:00\",\"2003-06-25T00:00:00\",\"2003-06-26T00:00:00\",\"2003-06-27T00:00:00\",\"2003-06-30T00:00:00\",\"2003-07-01T00:00:00\",\"2003-07-02T00:00:00\",\"2003-07-03T00:00:00\",\"2003-07-07T00:00:00\",\"2003-07-08T00:00:00\",\"2003-07-09T00:00:00\",\"2003-07-10T00:00:00\",\"2003-07-11T00:00:00\",\"2003-07-14T00:00:00\",\"2003-07-15T00:00:00\",\"2003-07-16T00:00:00\",\"2003-07-17T00:00:00\",\"2003-07-18T00:00:00\",\"2003-07-21T00:00:00\",\"2003-07-22T00:00:00\",\"2003-07-23T00:00:00\",\"2003-07-24T00:00:00\",\"2003-07-25T00:00:00\",\"2003-07-28T00:00:00\",\"2003-07-29T00:00:00\",\"2003-07-30T00:00:00\",\"2003-07-31T00:00:00\",\"2003-08-01T00:00:00\",\"2003-08-04T00:00:00\",\"2003-08-05T00:00:00\",\"2003-08-06T00:00:00\",\"2003-08-07T00:00:00\",\"2003-08-08T00:00:00\",\"2003-08-11T00:00:00\",\"2003-08-12T00:00:00\",\"2003-08-13T00:00:00\",\"2003-08-14T00:00:00\",\"2003-08-15T00:00:00\",\"2003-08-18T00:00:00\",\"2003-08-19T00:00:00\",\"2003-08-20T00:00:00\",\"2003-08-21T00:00:00\",\"2003-08-22T00:00:00\",\"2003-08-25T00:00:00\",\"2003-08-26T00:00:00\",\"2003-08-27T00:00:00\",\"2003-08-28T00:00:00\",\"2003-08-29T00:00:00\",\"2003-09-02T00:00:00\",\"2003-09-03T00:00:00\",\"2003-09-04T00:00:00\",\"2003-09-05T00:00:00\",\"2003-09-08T00:00:00\",\"2003-09-09T00:00:00\",\"2003-09-10T00:00:00\",\"2003-09-11T00:00:00\",\"2003-09-12T00:00:00\",\"2003-09-15T00:00:00\",\"2003-09-16T00:00:00\",\"2003-09-17T00:00:00\",\"2003-09-18T00:00:00\",\"2003-09-19T00:00:00\",\"2003-09-22T00:00:00\",\"2003-09-23T00:00:00\",\"2003-09-24T00:00:00\",\"2003-09-25T00:00:00\",\"2003-09-26T00:00:00\",\"2003-09-29T00:00:00\",\"2003-09-30T00:00:00\",\"2003-10-01T00:00:00\",\"2003-10-02T00:00:00\",\"2003-10-03T00:00:00\",\"2003-10-06T00:00:00\",\"2003-10-07T00:00:00\",\"2003-10-08T00:00:00\",\"2003-10-09T00:00:00\",\"2003-10-10T00:00:00\",\"2003-10-13T00:00:00\",\"2003-10-14T00:00:00\",\"2003-10-15T00:00:00\",\"2003-10-16T00:00:00\",\"2003-10-17T00:00:00\",\"2003-10-20T00:00:00\",\"2003-10-21T00:00:00\",\"2003-10-22T00:00:00\",\"2003-10-23T00:00:00\",\"2003-10-24T00:00:00\",\"2003-10-27T00:00:00\",\"2003-10-28T00:00:00\",\"2003-10-29T00:00:00\",\"2003-10-30T00:00:00\",\"2003-10-31T00:00:00\",\"2003-11-03T00:00:00\",\"2003-11-04T00:00:00\",\"2003-11-05T00:00:00\",\"2003-11-06T00:00:00\",\"2003-11-07T00:00:00\",\"2003-11-10T00:00:00\",\"2003-11-11T00:00:00\",\"2003-11-12T00:00:00\",\"2003-11-13T00:00:00\",\"2003-11-14T00:00:00\",\"2003-11-17T00:00:00\",\"2003-11-18T00:00:00\",\"2003-11-19T00:00:00\",\"2003-11-20T00:00:00\",\"2003-11-21T00:00:00\",\"2003-11-24T00:00:00\",\"2003-11-25T00:00:00\",\"2003-11-26T00:00:00\",\"2003-11-28T00:00:00\",\"2003-12-01T00:00:00\",\"2003-12-02T00:00:00\",\"2003-12-03T00:00:00\",\"2003-12-04T00:00:00\",\"2003-12-05T00:00:00\",\"2003-12-08T00:00:00\",\"2003-12-09T00:00:00\",\"2003-12-10T00:00:00\",\"2003-12-11T00:00:00\",\"2003-12-12T00:00:00\",\"2003-12-15T00:00:00\",\"2003-12-16T00:00:00\",\"2003-12-17T00:00:00\",\"2003-12-18T00:00:00\",\"2003-12-19T00:00:00\",\"2003-12-22T00:00:00\",\"2003-12-23T00:00:00\",\"2003-12-24T00:00:00\",\"2003-12-26T00:00:00\",\"2003-12-29T00:00:00\",\"2003-12-30T00:00:00\",\"2003-12-31T00:00:00\",\"2004-01-02T00:00:00\",\"2004-01-05T00:00:00\",\"2004-01-06T00:00:00\",\"2004-01-07T00:00:00\",\"2004-01-08T00:00:00\",\"2004-01-09T00:00:00\",\"2004-01-12T00:00:00\",\"2004-01-13T00:00:00\",\"2004-01-14T00:00:00\",\"2004-01-15T00:00:00\",\"2004-01-16T00:00:00\",\"2004-01-20T00:00:00\",\"2004-01-21T00:00:00\",\"2004-01-22T00:00:00\",\"2004-01-23T00:00:00\",\"2004-01-26T00:00:00\",\"2004-01-27T00:00:00\",\"2004-01-28T00:00:00\",\"2004-01-29T00:00:00\",\"2004-01-30T00:00:00\",\"2004-02-02T00:00:00\",\"2004-02-03T00:00:00\",\"2004-02-04T00:00:00\",\"2004-02-05T00:00:00\",\"2004-02-06T00:00:00\",\"2004-02-09T00:00:00\",\"2004-02-10T00:00:00\",\"2004-02-11T00:00:00\",\"2004-02-12T00:00:00\",\"2004-02-13T00:00:00\",\"2004-02-17T00:00:00\",\"2004-02-18T00:00:00\",\"2004-02-19T00:00:00\",\"2004-02-20T00:00:00\",\"2004-02-23T00:00:00\",\"2004-02-24T00:00:00\",\"2004-02-25T00:00:00\",\"2004-02-26T00:00:00\",\"2004-02-27T00:00:00\",\"2004-03-01T00:00:00\",\"2004-03-02T00:00:00\",\"2004-03-03T00:00:00\",\"2004-03-04T00:00:00\",\"2004-03-05T00:00:00\",\"2004-03-08T00:00:00\",\"2004-03-09T00:00:00\",\"2004-03-10T00:00:00\",\"2004-03-11T00:00:00\",\"2004-03-12T00:00:00\",\"2004-03-15T00:00:00\",\"2004-03-16T00:00:00\",\"2004-03-17T00:00:00\",\"2004-03-18T00:00:00\",\"2004-03-19T00:00:00\",\"2004-03-22T00:00:00\",\"2004-03-23T00:00:00\",\"2004-03-24T00:00:00\",\"2004-03-25T00:00:00\",\"2004-03-26T00:00:00\",\"2004-03-29T00:00:00\",\"2004-03-30T00:00:00\",\"2004-03-31T00:00:00\",\"2004-04-01T00:00:00\",\"2004-04-02T00:00:00\",\"2004-04-05T00:00:00\",\"2004-04-06T00:00:00\",\"2004-04-07T00:00:00\",\"2004-04-08T00:00:00\",\"2004-04-12T00:00:00\",\"2004-04-13T00:00:00\",\"2004-04-14T00:00:00\",\"2004-04-15T00:00:00\",\"2004-04-16T00:00:00\",\"2004-04-19T00:00:00\",\"2004-04-20T00:00:00\",\"2004-04-21T00:00:00\",\"2004-04-22T00:00:00\",\"2004-04-23T00:00:00\",\"2004-04-26T00:00:00\",\"2004-04-27T00:00:00\",\"2004-04-28T00:00:00\",\"2004-04-29T00:00:00\",\"2004-04-30T00:00:00\",\"2004-05-03T00:00:00\",\"2004-05-04T00:00:00\",\"2004-05-05T00:00:00\",\"2004-05-06T00:00:00\",\"2004-05-07T00:00:00\",\"2004-05-10T00:00:00\",\"2004-05-11T00:00:00\",\"2004-05-12T00:00:00\",\"2004-05-13T00:00:00\",\"2004-05-14T00:00:00\",\"2004-05-17T00:00:00\",\"2004-05-18T00:00:00\",\"2004-05-19T00:00:00\",\"2004-05-20T00:00:00\",\"2004-05-21T00:00:00\",\"2004-05-24T00:00:00\",\"2004-05-25T00:00:00\",\"2004-05-26T00:00:00\",\"2004-05-27T00:00:00\",\"2004-05-28T00:00:00\",\"2004-06-01T00:00:00\",\"2004-06-02T00:00:00\",\"2004-06-03T00:00:00\",\"2004-06-04T00:00:00\",\"2004-06-07T00:00:00\",\"2004-06-08T00:00:00\",\"2004-06-09T00:00:00\",\"2004-06-10T00:00:00\",\"2004-06-14T00:00:00\",\"2004-06-15T00:00:00\",\"2004-06-16T00:00:00\",\"2004-06-17T00:00:00\",\"2004-06-18T00:00:00\",\"2004-06-21T00:00:00\",\"2004-06-22T00:00:00\",\"2004-06-23T00:00:00\",\"2004-06-24T00:00:00\",\"2004-06-25T00:00:00\",\"2004-06-28T00:00:00\",\"2004-06-29T00:00:00\",\"2004-06-30T00:00:00\",\"2004-07-01T00:00:00\",\"2004-07-02T00:00:00\",\"2004-07-06T00:00:00\",\"2004-07-07T00:00:00\",\"2004-07-08T00:00:00\",\"2004-07-09T00:00:00\",\"2004-07-12T00:00:00\",\"2004-07-13T00:00:00\",\"2004-07-14T00:00:00\",\"2004-07-15T00:00:00\",\"2004-07-16T00:00:00\",\"2004-07-19T00:00:00\",\"2004-07-20T00:00:00\",\"2004-07-21T00:00:00\",\"2004-07-22T00:00:00\",\"2004-07-23T00:00:00\",\"2004-07-26T00:00:00\",\"2004-07-27T00:00:00\",\"2004-07-28T00:00:00\",\"2004-07-29T00:00:00\",\"2004-07-30T00:00:00\",\"2004-08-02T00:00:00\",\"2004-08-03T00:00:00\",\"2004-08-04T00:00:00\",\"2004-08-05T00:00:00\",\"2004-08-06T00:00:00\",\"2004-08-09T00:00:00\",\"2004-08-10T00:00:00\",\"2004-08-11T00:00:00\",\"2004-08-12T00:00:00\",\"2004-08-13T00:00:00\",\"2004-08-16T00:00:00\",\"2004-08-17T00:00:00\",\"2004-08-18T00:00:00\",\"2004-08-19T00:00:00\",\"2004-08-20T00:00:00\",\"2004-08-23T00:00:00\",\"2004-08-24T00:00:00\",\"2004-08-25T00:00:00\",\"2004-08-26T00:00:00\",\"2004-08-27T00:00:00\",\"2004-08-30T00:00:00\",\"2004-08-31T00:00:00\",\"2004-09-01T00:00:00\",\"2004-09-02T00:00:00\",\"2004-09-03T00:00:00\",\"2004-09-07T00:00:00\",\"2004-09-08T00:00:00\",\"2004-09-09T00:00:00\",\"2004-09-10T00:00:00\",\"2004-09-13T00:00:00\",\"2004-09-14T00:00:00\",\"2004-09-15T00:00:00\",\"2004-09-16T00:00:00\",\"2004-09-17T00:00:00\",\"2004-09-20T00:00:00\",\"2004-09-21T00:00:00\",\"2004-09-22T00:00:00\",\"2004-09-23T00:00:00\",\"2004-09-24T00:00:00\",\"2004-09-27T00:00:00\",\"2004-09-28T00:00:00\",\"2004-09-29T00:00:00\",\"2004-09-30T00:00:00\",\"2004-10-01T00:00:00\",\"2004-10-04T00:00:00\",\"2004-10-05T00:00:00\",\"2004-10-06T00:00:00\",\"2004-10-07T00:00:00\",\"2004-10-08T00:00:00\",\"2004-10-11T00:00:00\",\"2004-10-12T00:00:00\",\"2004-10-13T00:00:00\",\"2004-10-14T00:00:00\",\"2004-10-15T00:00:00\",\"2004-10-18T00:00:00\",\"2004-10-19T00:00:00\",\"2004-10-20T00:00:00\",\"2004-10-21T00:00:00\",\"2004-10-22T00:00:00\",\"2004-10-25T00:00:00\",\"2004-10-26T00:00:00\",\"2004-10-27T00:00:00\",\"2004-10-28T00:00:00\",\"2004-10-29T00:00:00\",\"2004-11-01T00:00:00\",\"2004-11-02T00:00:00\",\"2004-11-03T00:00:00\",\"2004-11-04T00:00:00\",\"2004-11-05T00:00:00\",\"2004-11-08T00:00:00\",\"2004-11-09T00:00:00\",\"2004-11-10T00:00:00\",\"2004-11-11T00:00:00\",\"2004-11-12T00:00:00\",\"2004-11-15T00:00:00\",\"2004-11-16T00:00:00\",\"2004-11-17T00:00:00\",\"2004-11-18T00:00:00\",\"2004-11-19T00:00:00\",\"2004-11-22T00:00:00\",\"2004-11-23T00:00:00\",\"2004-11-24T00:00:00\",\"2004-11-26T00:00:00\",\"2004-11-29T00:00:00\",\"2004-11-30T00:00:00\",\"2004-12-01T00:00:00\",\"2004-12-02T00:00:00\",\"2004-12-03T00:00:00\",\"2004-12-06T00:00:00\",\"2004-12-07T00:00:00\",\"2004-12-08T00:00:00\",\"2004-12-09T00:00:00\",\"2004-12-10T00:00:00\",\"2004-12-13T00:00:00\",\"2004-12-14T00:00:00\",\"2004-12-15T00:00:00\",\"2004-12-16T00:00:00\",\"2004-12-17T00:00:00\",\"2004-12-20T00:00:00\",\"2004-12-21T00:00:00\",\"2004-12-22T00:00:00\",\"2004-12-23T00:00:00\",\"2004-12-27T00:00:00\",\"2004-12-28T00:00:00\",\"2004-12-29T00:00:00\",\"2004-12-30T00:00:00\",\"2004-12-31T00:00:00\",\"2005-01-03T00:00:00\",\"2005-01-04T00:00:00\",\"2005-01-05T00:00:00\",\"2005-01-06T00:00:00\",\"2005-01-07T00:00:00\",\"2005-01-10T00:00:00\",\"2005-01-11T00:00:00\",\"2005-01-12T00:00:00\",\"2005-01-13T00:00:00\",\"2005-01-14T00:00:00\",\"2005-01-18T00:00:00\",\"2005-01-19T00:00:00\",\"2005-01-20T00:00:00\",\"2005-01-21T00:00:00\",\"2005-01-24T00:00:00\",\"2005-01-25T00:00:00\",\"2005-01-26T00:00:00\",\"2005-01-27T00:00:00\",\"2005-01-28T00:00:00\",\"2005-01-31T00:00:00\",\"2005-02-01T00:00:00\",\"2005-02-02T00:00:00\",\"2005-02-03T00:00:00\",\"2005-02-04T00:00:00\",\"2005-02-07T00:00:00\",\"2005-02-08T00:00:00\",\"2005-02-09T00:00:00\",\"2005-02-10T00:00:00\",\"2005-02-11T00:00:00\",\"2005-02-14T00:00:00\",\"2005-02-15T00:00:00\",\"2005-02-16T00:00:00\",\"2005-02-17T00:00:00\",\"2005-02-18T00:00:00\",\"2005-02-22T00:00:00\",\"2005-02-23T00:00:00\",\"2005-02-24T00:00:00\",\"2005-02-25T00:00:00\",\"2005-02-28T00:00:00\",\"2005-03-01T00:00:00\",\"2005-03-02T00:00:00\",\"2005-03-03T00:00:00\",\"2005-03-04T00:00:00\",\"2005-03-07T00:00:00\",\"2005-03-08T00:00:00\",\"2005-03-09T00:00:00\",\"2005-03-10T00:00:00\",\"2005-03-11T00:00:00\",\"2005-03-14T00:00:00\",\"2005-03-15T00:00:00\",\"2005-03-16T00:00:00\",\"2005-03-17T00:00:00\",\"2005-03-18T00:00:00\",\"2005-03-21T00:00:00\",\"2005-03-22T00:00:00\",\"2005-03-23T00:00:00\",\"2005-03-24T00:00:00\",\"2005-03-28T00:00:00\",\"2005-03-29T00:00:00\",\"2005-03-30T00:00:00\",\"2005-03-31T00:00:00\",\"2005-04-01T00:00:00\",\"2005-04-04T00:00:00\",\"2005-04-05T00:00:00\",\"2005-04-06T00:00:00\",\"2005-04-07T00:00:00\",\"2005-04-08T00:00:00\",\"2005-04-11T00:00:00\",\"2005-04-12T00:00:00\",\"2005-04-13T00:00:00\",\"2005-04-14T00:00:00\",\"2005-04-15T00:00:00\",\"2005-04-18T00:00:00\",\"2005-04-19T00:00:00\",\"2005-04-20T00:00:00\",\"2005-04-21T00:00:00\",\"2005-04-22T00:00:00\",\"2005-04-25T00:00:00\",\"2005-04-26T00:00:00\",\"2005-04-27T00:00:00\",\"2005-04-28T00:00:00\",\"2005-04-29T00:00:00\",\"2005-05-02T00:00:00\",\"2005-05-03T00:00:00\",\"2005-05-04T00:00:00\",\"2005-05-05T00:00:00\",\"2005-05-06T00:00:00\",\"2005-05-09T00:00:00\",\"2005-05-10T00:00:00\",\"2005-05-11T00:00:00\",\"2005-05-12T00:00:00\",\"2005-05-13T00:00:00\",\"2005-05-16T00:00:00\",\"2005-05-17T00:00:00\",\"2005-05-18T00:00:00\",\"2005-05-19T00:00:00\",\"2005-05-20T00:00:00\",\"2005-05-23T00:00:00\",\"2005-05-24T00:00:00\",\"2005-05-25T00:00:00\",\"2005-05-26T00:00:00\",\"2005-05-27T00:00:00\",\"2005-05-31T00:00:00\",\"2005-06-01T00:00:00\",\"2005-06-02T00:00:00\",\"2005-06-03T00:00:00\",\"2005-06-06T00:00:00\",\"2005-06-07T00:00:00\",\"2005-06-08T00:00:00\",\"2005-06-09T00:00:00\",\"2005-06-10T00:00:00\",\"2005-06-13T00:00:00\",\"2005-06-14T00:00:00\",\"2005-06-15T00:00:00\",\"2005-06-16T00:00:00\",\"2005-06-17T00:00:00\",\"2005-06-20T00:00:00\",\"2005-06-21T00:00:00\",\"2005-06-22T00:00:00\",\"2005-06-23T00:00:00\",\"2005-06-24T00:00:00\",\"2005-06-27T00:00:00\",\"2005-06-28T00:00:00\",\"2005-06-29T00:00:00\",\"2005-06-30T00:00:00\",\"2005-07-01T00:00:00\",\"2005-07-05T00:00:00\"],\"y\":[16.549694061279297,16.64038848876953,16.337039947509766,16.546571731567383,16.21820640563965,16.199438095092773,16.027437210083008,16.261980056762695,15.98365592956543,15.498918533325195,14.857821464538574,13.450539588928223,14.457528114318848,13.394248008728027,14.18232536315918,15.089249610900879,15.042335510253906,15.00480842590332,14.307419776916504,13.88835334777832,13.757010459899902,14.282398223876953,14.726471900939941,15.295648574829102,15.048593521118164,15.158049583435059,14.717090606689453,15.545825004577637,15.564598083496094,15.63652229309082,16.261980056762695,15.961763381958008,16.34954833984375,16.64664649963379,16.330785751342773,16.293254852294922,15.899225234985352,15.442632675170898,15.817910194396973,15.348809242248535,14.70458698272705,15.076727867126465,14.357454299926758,14.954771041870117,15.229978561401367,15.570846557617188,15.192448616027832,14.745240211486816,14.982916831970215,14.942255973815918,14.789026260375977,14.932881355285645,14.760878562927246,14.842190742492676,14.144800186157227,14.273019790649414,14.545092582702637,14.448149681091309,14.151055335998535,13.678829193115234,14.457528114318848,14.263638496398926,14.010322570800781,13.688209533691406,13.775772094726562,14.069745063781738,13.757010459899902,14.504440307617188,15.283143997192383,15.4144868850708,16.35267448425293,15.764739036560059,15.877326011657715,16.62162208557129,16.421478271484375,16.158784866333008,16.637258529663086,16.02117347717285,16.474634170532227,16.246353149414062,16.283876419067383,16.609115600585938,16.721694946289062,16.57472038269043,17.5441837310791,17.725563049316406,17.83501434326172,17.516033172607422,17.2314510345459,16.843658447265625,17.046937942504883,17.312763214111328,17.822513580322266,17.728696823120117,17.465993881225586,17.156394958496094,17.706804275512695,18.088329315185547,18.207168579101562,18.210298538208008,17.79436683654785,18.16339111328125,18.03829574584961,18.041418075561523,17.734943389892578,17.681779861450195,17.306501388549805,17.34715461730957,16.74046516418457,16.89057159423828,17.093849182128906,16.940601348876953,16.418344497680664,17.037553787231445,17.000028610229492,16.74046516418457,16.609115600585938,16.587223052978516,16.887447357177734,16.831159591674805,16.696680068969727,16.56533432006836,16.496524810791016,16.16817283630371,16.799875259399414,16.82176399230957,17.128246307373047,17.45036506652832,16.962495803833008,17.453487396240234,17.487882614135742,17.634870529174805,17.816253662109375,17.59734535217285,17.30963134765625,16.09310531616211,16.05245018005371,15.94924545288086,16.34954833984375,15.589616775512695,15.37695026397705,15.267501831054688,15.608381271362305,15.086119651794434,14.842190742492676,15.186186790466309,14.798404693603516,14.685827255249023,14.829673767089844,14.566985130310059,14.817172050476074,14.523198127746582,14.523198127746582,14.695199966430664,15.104884147644043,15.611507415771484,15.391891479492188,15.147177696228027,15.454635620117188,15.10324764251709,15.178549766540527,14.814613342285156,14.795792579650879,14.871086120605469,14.770691871643066,14.47577953338623,14.707950592041016,14.601271629333496,14.783231735229492,14.400481224060059,14.306365013122559,14.676578521728516,15.479736328125,15.598950386047363,16.270360946655273,16.339378356933594,16.51506805419922,16.471141815185547,16.671932220458984,15.868772506713867,15.994256019592285,15.84366512298584,15.711898803710938,15.479736328125,15.1910982131958,15.278945922851562,16.13857650756836,16.14485740661621,15.743276596069336,15.793472290039062,16.050729751586914,15.416990280151367,15.429540634155273,15.18481731414795,15.536205291748047,15.435811996459961,15.636603355407715,16.000534057617188,15.818572044372559,16.163686752319336,16.13857650756836,15.994256019592285,15.824844360351562,16.15113067626953,16.18877410888672,16.044464111328125,16.13857650756836,16.377016067504883,16.2264347076416,16.546438217163086,16.307998657226562,16.15113067626953,16.540157318115234,16.43976593017578,16.307998657226562,16.075836181640625,16.1825008392334,16.044464111328125,15.536205291748047,15.454635620117188,15.078152656555176,15.159723281860352,15.197379112243652,15.555036544799805,15.3165922164917,15.310318946838379,15.44208812713623,15.46090316772461,15.61151123046875,15.60522747039795,15.115799903869629,14.85226058959961,14.902459144592285,15.486014366149902,15.61151123046875,15.680536270141602,15.467191696166992,15.931510925292969,16.289169311523438,16.35819435119629,16.35819435119629,16.521337509155273,16.17622947692871,16.126028060913086,15.849942207336426,16.157405853271484,16.082115173339844,16.088382720947266,16.40839385986328,16.86644172668457,16.62801170349121,17.205286026000977,17.3809757232666,17.236652374267578,16.885276794433594,17.136259078979492,17.192737579345703,17.111160278320312,17.26803207397461,16.747230529785156,16.872718811035156,16.339378356933594,16.552719116210938,16.59662628173828,16.314271926879883,16.872718811035156,16.69703483581543,16.609189987182617,16.45859146118164,16.571537017822266,16.42094612121582,16.427221298217773,16.10093116760254,16.094661712646484,16.132307052612305,16.050729751586914,16.06955337524414,16.14485740661621,16.063282012939453,16.082115173339844,16.025644302368164,16.126028060913086,16.703304290771484,16.59662628173828,16.464860916137695,16.452320098876953,16.62801170349121,16.671932220458984,16.57781410217285,16.6342830657959,16.64055824279785,17.10488510131836,17.757457733154297,17.839033126831055,17.80765151977539,18.096298217773438,17.80137825012207,17.2868595123291,17.468822479248047,17.78255844116211,17.795106887817383,18.133935928344727,17.882951736450195,18.510427474975586,18.799068450927734,18.24061393737793,18.57317543029785,17.857847213745117,17.719806671142578,17.688430786132812,18.090015411376953,17.443723678588867,17.89550018310547,17.882951736450195,18.24688148498535,18.315908432006836,18.284530639648438,18.0837459564209,18.159046173095703,18.140220642089844,18.05864906311035,17.99589729309082,18.342947006225586,18.443899154663086,18.254613876342773,18.519624710083008,18.519624710083008,18.229368209838867,18.241987228393555,16.790706634521484,16.980005264282227,17.162986755371094,16.87273406982422,16.48151969909668,16.494142532348633,16.83487892150879,16.449966430664062,16.46889305114746,16.550928115844727,16.46889305114746,16.40579605102539,16.27959442138672,16.39317512512207,16.210187911987305,16.09029769897461,15.869453430175781,15.869453430175781,15.995648384094238,15.837913513183594,15.844209671020508,16.235431671142578,16.02720832824707,16.05875587463379,16.222810745239258,16.304834365844727,16.191259384155273,16.197574615478516,16.531993865966797,16.39317512512207,16.55722999572754,16.645580291748047,16.77808952331543,16.790706634521484,16.815950393676758,16.87273406982422,17.074647903442383,17.062030792236328,17.2891902923584,17.263954162597656,17.150365829467773,17.13143539428711,17.062030792236328,17.16929054260254,17.327043533325195,17.36490821838379,17.270254135131836,17.320743560791016,17.756118774414062,17.819215774536133,17.80029296875,17.76874542236328,17.4532413482666,17.39645767211914,17.308116912841797,17.478485107421875,17.377531051635742,17.547897338867188,17.730880737304688,17.857080459594727,17.674095153808594,17.970659255981445,18.172578811645508,17.825531005859375,17.48479652404785,17.610984802246094,17.446935653686523,17.2891902923584,17.219770431518555,17.04310417175293,17.01154136657715,17.087270736694336,16.973690032958984,17.049413681030273,17.13143539428711,17.00524139404297,16.77808952331543,17.030475616455078,16.891658782958984,16.6960506439209,16.76546287536621,16.790706634521484,16.961063385009766,16.847496032714844,16.721298217773438,16.740222930908203,16.847496032714844,16.651884078979492,16.639266967773438,16.639266967773438,16.626644134521484,16.298532485961914,16.229114532470703,16.00827407836914,15.831597328186035,16.01458168029785,15.875770568847656,15.888385772705078,15.856828689575195,15.705397605895996,15.541337966918945,15.459312438964844,15.238466262817383,15.402520179748535,15.894695281982422,15.793737411499023,15.970412254333496,15.901010513305664,15.730633735656738,15.825285911560059,16.311153411865234,16.374248504638672,16.27959442138672,16.147079467773438,16.077688217163086,16.159706115722656,16.05875587463379,16.096616744995117,15.91362476348877,15.875770568847656,16.109233856201172,15.983030319213867,16.05875587463379,16.374248504638672,17.377531051635742,17.18822479248047,17.175600051879883,16.7591609954834,16.70867347717285,16.48782730102539,16.626644134521484,16.614025115966797,16.595096588134766,16.48151969909668,16.266979217529297,16.361637115478516,16.367944717407227,16.367944717407227,16.46889305114746,16.31746482849121,16.115549087524414,16.298532485961914,16.166025161743164,16.235431671142578,16.336383819580078,16.254365921020508,16.46889305114746,16.494142532348633,16.525691986083984,16.550928115844727,16.475210189819336,16.48782730102539,16.336383819580078,16.374248504638672,16.677122116088867,16.784393310546875,16.702367782592773,16.891658782958984,16.973690032958984,17.295499801635742,17.23870849609375,17.522655487060547,17.88862419128418,17.88862419128418,17.850765228271484,17.857080459594727,17.913864135742188,18.02744483947754,17.844463348388672,17.9832763671875,18.021141052246094,18.065305709838867,18.02744483947754,17.680400848388672,17.730880737304688,17.440624237060547,17.579439163208008,17.59837532043457,17.415386199951172,17.74981117248535,17.585750579833984,17.339662551879883,17.636232376098633,17.869693756103516,18.210430145263672,18.298776626586914,17.686710357666016,18.08423614501953,17.945423126220703,18.03376007080078,17.970659255981445,17.976966857910156,17.995895385742188,17.71194839477539,17.705642700195312,17.37122344970703,17.12512969970703,17.150365829467773,17.49110221862793,17.295499801635742,16.961063385009766,17.049413681030273,17.09358024597168,17.068342208862305,17.327043533325195,17.11250114440918,17.162986755371094,17.238927841186523,17.238927841186523,17.435121536254883,17.365503311157227,17.378156661987305,17.276901245117188,17.276901245117188,17.3338565826416,17.479415893554688,17.15665626525879,17.31488037109375,17.251585006713867,17.264244079589844,17.39715003967285,17.245258331298828,17.365503311157227,17.207284927368164,17.251585006713867,17.409807205200195,17.409807205200195,17.251585006713867,17.162981033325195,17.308549880981445,17.270566940307617,17.207284927368164,17.257915496826172,17.454099655151367,17.498401641845703,17.878114700317383,17.795839309692383,17.96038055419922,18.055316925048828,17.827491760253906,17.713579177856445,17.757871627807617,17.73888397216797,17.73888397216797,17.59333038330078,17.713579177856445,17.9793701171875,17.833810806274414,18.16290283203125,18.07430076599121,17.555356979370117,17.485740661621094,17.656618118286133,17.814823150634766,17.72623062133789,17.700910568237305,17.770532608032227,17.871780395507812,18.01734161376953,18.35275650024414,18.548938751220703,18.529956817626953,18.840055465698242,18.81473159790039,18.972946166992188,18.966625213623047,19.319293975830078,19.128854751586914,19.16411781311035,19.093582153320312,18.945466995239258,18.797338485717773,18.712697982788086,18.7902889251709,18.762073516845703,18.88198471069336,18.91019630432129,19.220544815063477,19.107694625854492,19.20643424987793,19.276973724365234,19.093582153320312,19.29813575744629,19.20643424987793,19.100637435913086,19.220544815063477,19.20643424987793,19.12179946899414,19.157058715820312,19.015993118286133,19.008947372436523,19.093582153320312,19.023042678833008,19.051259994506836,18.938411712646484,19.008947372436523,18.973670959472656,18.874927520751953,18.846715927124023,18.860820770263672,18.931350708007812,18.8890323638916,18.867874145507812,18.811452865600586,18.903141021728516,18.853769302368164,18.8890323638916,18.52930450439453,18.423513412475586,18.564579010009766,18.324764251708984,18.24012565612793,18.09200096130371,18.10610580444336,18.35297393798828,18.34592056274414,18.416454315185547,18.46583366394043,18.53636932373047,18.613956451416016,18.663326263427734,18.46583366394043,18.564579010009766,18.451725006103516,18.508155822753906,18.388246536254883,18.381187438964844,18.317710876464844,18.34592056274414,18.345918655395508,18.246871948242188,18.14781379699707,18.02753257751465,17.850666046142578,17.82943344116211,17.949724197387695,17.86480140686035,17.801132202148438,17.88603401184082,17.871885299682617,17.80820655822754,17.80820655822754,18.020463943481445,17.97093963623047,17.90726089477539,17.992164611816406,17.751609802246094,17.765756607055664,17.624258041381836,17.426149368286133,17.362472534179688,17.199743270874023,17.121919631958008,16.97333526611328,17.107765197753906,17.17852210998535,17.121919631958008,16.923812866210938,17.093610763549805,17.10068702697754,17.06531524658203,17.143144607543945,17.31294822692871,17.454448699951172,17.758682250976562,17.645479202270508,17.666702270507812,17.914337158203125,17.716236114501953,17.574726104736328,17.30587387084961,17.4403018951416,17.426149368286133,17.206815719604492,17.88603401184082,17.673786163330078,17.680856704711914,17.51812744140625,17.680856704711914,17.298799514770508,17.900178909301758,17.850666046142578,17.942636489868164,17.836511611938477,17.850666046142578,17.843584060668945,17.765756607055664,17.61717987060547,17.624258041381836,17.687931060791016,17.900178909301758,18.091815948486328,18.070526123046875,18.24087142944336,18.39702033996582,18.269258499145508,18.34733009338379,18.27635955810547,18.24796485900879,18.38282585144043,18.503477096557617,18.31184196472168,18.318946838378906,18.30474853515625,18.049236297607422,18.006662368774414,18.106016159057617,18.02794075012207,18.106016159057617,18.049236297607422,17.964067459106445,17.999553680419922,17.92857551574707,17.772430419921875,17.772430419921875,17.822107315063477,17.850502014160156,17.793731689453125,17.964067459106445,17.772430419921875,17.77951431274414,17.793731689453125,17.80791664123535,17.630475997924805,17.5382080078125,17.7298526763916],\"type\":\"scatter\"},{\"mode\":\"lines+markers\",\"name\":\"predicted\",\"x\":[\"2002-07-08T00:00:00\",\"2002-07-09T00:00:00\",\"2002-07-10T00:00:00\",\"2002-07-11T00:00:00\",\"2002-07-12T00:00:00\",\"2002-07-15T00:00:00\",\"2002-07-16T00:00:00\",\"2002-07-17T00:00:00\",\"2002-07-18T00:00:00\",\"2002-07-19T00:00:00\",\"2002-07-22T00:00:00\",\"2002-07-23T00:00:00\",\"2002-07-24T00:00:00\",\"2002-07-25T00:00:00\",\"2002-07-26T00:00:00\",\"2002-07-29T00:00:00\",\"2002-07-30T00:00:00\",\"2002-07-31T00:00:00\",\"2002-08-01T00:00:00\",\"2002-08-02T00:00:00\",\"2002-08-05T00:00:00\",\"2002-08-06T00:00:00\",\"2002-08-07T00:00:00\",\"2002-08-08T00:00:00\",\"2002-08-09T00:00:00\",\"2002-08-12T00:00:00\",\"2002-08-13T00:00:00\",\"2002-08-14T00:00:00\",\"2002-08-15T00:00:00\",\"2002-08-16T00:00:00\",\"2002-08-19T00:00:00\",\"2002-08-20T00:00:00\",\"2002-08-21T00:00:00\",\"2002-08-22T00:00:00\",\"2002-08-23T00:00:00\",\"2002-08-26T00:00:00\",\"2002-08-27T00:00:00\",\"2002-08-28T00:00:00\",\"2002-08-29T00:00:00\",\"2002-08-30T00:00:00\",\"2002-09-03T00:00:00\",\"2002-09-04T00:00:00\",\"2002-09-05T00:00:00\",\"2002-09-06T00:00:00\",\"2002-09-09T00:00:00\",\"2002-09-10T00:00:00\",\"2002-09-11T00:00:00\",\"2002-09-12T00:00:00\",\"2002-09-13T00:00:00\",\"2002-09-16T00:00:00\",\"2002-09-17T00:00:00\",\"2002-09-18T00:00:00\",\"2002-09-19T00:00:00\",\"2002-09-20T00:00:00\",\"2002-09-23T00:00:00\",\"2002-09-24T00:00:00\",\"2002-09-25T00:00:00\",\"2002-09-26T00:00:00\",\"2002-09-27T00:00:00\",\"2002-09-30T00:00:00\",\"2002-10-01T00:00:00\",\"2002-10-02T00:00:00\",\"2002-10-03T00:00:00\",\"2002-10-04T00:00:00\",\"2002-10-07T00:00:00\",\"2002-10-08T00:00:00\",\"2002-10-09T00:00:00\",\"2002-10-10T00:00:00\",\"2002-10-11T00:00:00\",\"2002-10-14T00:00:00\",\"2002-10-15T00:00:00\",\"2002-10-16T00:00:00\",\"2002-10-17T00:00:00\",\"2002-10-18T00:00:00\",\"2002-10-21T00:00:00\",\"2002-10-22T00:00:00\",\"2002-10-23T00:00:00\",\"2002-10-24T00:00:00\",\"2002-10-25T00:00:00\",\"2002-10-28T00:00:00\",\"2002-10-29T00:00:00\",\"2002-10-30T00:00:00\",\"2002-10-31T00:00:00\",\"2002-11-01T00:00:00\",\"2002-11-04T00:00:00\",\"2002-11-05T00:00:00\",\"2002-11-06T00:00:00\",\"2002-11-07T00:00:00\",\"2002-11-08T00:00:00\",\"2002-11-11T00:00:00\",\"2002-11-12T00:00:00\",\"2002-11-13T00:00:00\",\"2002-11-14T00:00:00\",\"2002-11-15T00:00:00\",\"2002-11-18T00:00:00\",\"2002-11-19T00:00:00\",\"2002-11-20T00:00:00\",\"2002-11-21T00:00:00\",\"2002-11-22T00:00:00\",\"2002-11-25T00:00:00\",\"2002-11-26T00:00:00\",\"2002-11-27T00:00:00\",\"2002-11-29T00:00:00\",\"2002-12-02T00:00:00\",\"2002-12-03T00:00:00\",\"2002-12-04T00:00:00\",\"2002-12-05T00:00:00\",\"2002-12-06T00:00:00\",\"2002-12-09T00:00:00\",\"2002-12-10T00:00:00\",\"2002-12-11T00:00:00\",\"2002-12-12T00:00:00\",\"2002-12-13T00:00:00\",\"2002-12-16T00:00:00\",\"2002-12-17T00:00:00\",\"2002-12-18T00:00:00\",\"2002-12-19T00:00:00\",\"2002-12-20T00:00:00\",\"2002-12-23T00:00:00\",\"2002-12-24T00:00:00\",\"2002-12-26T00:00:00\",\"2002-12-27T00:00:00\",\"2002-12-30T00:00:00\",\"2002-12-31T00:00:00\",\"2003-01-02T00:00:00\",\"2003-01-03T00:00:00\",\"2003-01-06T00:00:00\",\"2003-01-07T00:00:00\",\"2003-01-08T00:00:00\",\"2003-01-09T00:00:00\",\"2003-01-10T00:00:00\",\"2003-01-13T00:00:00\",\"2003-01-14T00:00:00\",\"2003-01-15T00:00:00\",\"2003-01-16T00:00:00\",\"2003-01-17T00:00:00\",\"2003-01-21T00:00:00\",\"2003-01-22T00:00:00\",\"2003-01-23T00:00:00\",\"2003-01-24T00:00:00\",\"2003-01-27T00:00:00\",\"2003-01-28T00:00:00\",\"2003-01-29T00:00:00\",\"2003-01-30T00:00:00\",\"2003-01-31T00:00:00\",\"2003-02-03T00:00:00\",\"2003-02-04T00:00:00\",\"2003-02-05T00:00:00\",\"2003-02-06T00:00:00\",\"2003-02-07T00:00:00\",\"2003-02-10T00:00:00\",\"2003-02-11T00:00:00\",\"2003-02-12T00:00:00\",\"2003-02-13T00:00:00\",\"2003-02-14T00:00:00\",\"2003-02-18T00:00:00\",\"2003-02-19T00:00:00\",\"2003-02-20T00:00:00\",\"2003-02-21T00:00:00\",\"2003-02-24T00:00:00\",\"2003-02-25T00:00:00\",\"2003-02-26T00:00:00\",\"2003-02-27T00:00:00\",\"2003-02-28T00:00:00\",\"2003-03-03T00:00:00\",\"2003-03-04T00:00:00\",\"2003-03-05T00:00:00\",\"2003-03-06T00:00:00\",\"2003-03-07T00:00:00\",\"2003-03-10T00:00:00\",\"2003-03-11T00:00:00\",\"2003-03-12T00:00:00\",\"2003-03-13T00:00:00\",\"2003-03-14T00:00:00\",\"2003-03-17T00:00:00\",\"2003-03-18T00:00:00\",\"2003-03-19T00:00:00\",\"2003-03-20T00:00:00\",\"2003-03-21T00:00:00\",\"2003-03-24T00:00:00\",\"2003-03-25T00:00:00\",\"2003-03-26T00:00:00\",\"2003-03-27T00:00:00\",\"2003-03-28T00:00:00\",\"2003-03-31T00:00:00\",\"2003-04-01T00:00:00\",\"2003-04-02T00:00:00\",\"2003-04-03T00:00:00\",\"2003-04-04T00:00:00\",\"2003-04-07T00:00:00\",\"2003-04-08T00:00:00\",\"2003-04-09T00:00:00\",\"2003-04-10T00:00:00\",\"2003-04-11T00:00:00\",\"2003-04-14T00:00:00\",\"2003-04-15T00:00:00\",\"2003-04-16T00:00:00\",\"2003-04-17T00:00:00\",\"2003-04-21T00:00:00\",\"2003-04-22T00:00:00\",\"2003-04-23T00:00:00\",\"2003-04-24T00:00:00\",\"2003-04-25T00:00:00\",\"2003-04-28T00:00:00\",\"2003-04-29T00:00:00\",\"2003-04-30T00:00:00\",\"2003-05-01T00:00:00\",\"2003-05-02T00:00:00\",\"2003-05-05T00:00:00\",\"2003-05-06T00:00:00\",\"2003-05-07T00:00:00\",\"2003-05-08T00:00:00\",\"2003-05-09T00:00:00\",\"2003-05-12T00:00:00\",\"2003-05-13T00:00:00\",\"2003-05-14T00:00:00\",\"2003-05-15T00:00:00\",\"2003-05-16T00:00:00\",\"2003-05-19T00:00:00\",\"2003-05-20T00:00:00\",\"2003-05-21T00:00:00\",\"2003-05-22T00:00:00\",\"2003-05-23T00:00:00\",\"2003-05-27T00:00:00\",\"2003-05-28T00:00:00\",\"2003-05-29T00:00:00\",\"2003-05-30T00:00:00\",\"2003-06-02T00:00:00\",\"2003-06-03T00:00:00\",\"2003-06-04T00:00:00\",\"2003-06-05T00:00:00\",\"2003-06-06T00:00:00\",\"2003-06-09T00:00:00\",\"2003-06-10T00:00:00\",\"2003-06-11T00:00:00\",\"2003-06-12T00:00:00\",\"2003-06-13T00:00:00\",\"2003-06-16T00:00:00\",\"2003-06-17T00:00:00\",\"2003-06-18T00:00:00\",\"2003-06-19T00:00:00\",\"2003-06-20T00:00:00\",\"2003-06-23T00:00:00\",\"2003-06-24T00:00:00\",\"2003-06-25T00:00:00\",\"2003-06-26T00:00:00\",\"2003-06-27T00:00:00\",\"2003-06-30T00:00:00\",\"2003-07-01T00:00:00\",\"2003-07-02T00:00:00\",\"2003-07-03T00:00:00\",\"2003-07-07T00:00:00\",\"2003-07-08T00:00:00\",\"2003-07-09T00:00:00\",\"2003-07-10T00:00:00\",\"2003-07-11T00:00:00\",\"2003-07-14T00:00:00\",\"2003-07-15T00:00:00\",\"2003-07-16T00:00:00\",\"2003-07-17T00:00:00\",\"2003-07-18T00:00:00\",\"2003-07-21T00:00:00\",\"2003-07-22T00:00:00\",\"2003-07-23T00:00:00\",\"2003-07-24T00:00:00\",\"2003-07-25T00:00:00\",\"2003-07-28T00:00:00\",\"2003-07-29T00:00:00\",\"2003-07-30T00:00:00\",\"2003-07-31T00:00:00\",\"2003-08-01T00:00:00\",\"2003-08-04T00:00:00\",\"2003-08-05T00:00:00\",\"2003-08-06T00:00:00\",\"2003-08-07T00:00:00\",\"2003-08-08T00:00:00\",\"2003-08-11T00:00:00\",\"2003-08-12T00:00:00\",\"2003-08-13T00:00:00\",\"2003-08-14T00:00:00\",\"2003-08-15T00:00:00\",\"2003-08-18T00:00:00\",\"2003-08-19T00:00:00\",\"2003-08-20T00:00:00\",\"2003-08-21T00:00:00\",\"2003-08-22T00:00:00\",\"2003-08-25T00:00:00\",\"2003-08-26T00:00:00\",\"2003-08-27T00:00:00\",\"2003-08-28T00:00:00\",\"2003-08-29T00:00:00\",\"2003-09-02T00:00:00\",\"2003-09-03T00:00:00\",\"2003-09-04T00:00:00\",\"2003-09-05T00:00:00\",\"2003-09-08T00:00:00\",\"2003-09-09T00:00:00\",\"2003-09-10T00:00:00\",\"2003-09-11T00:00:00\",\"2003-09-12T00:00:00\",\"2003-09-15T00:00:00\",\"2003-09-16T00:00:00\",\"2003-09-17T00:00:00\",\"2003-09-18T00:00:00\",\"2003-09-19T00:00:00\",\"2003-09-22T00:00:00\",\"2003-09-23T00:00:00\",\"2003-09-24T00:00:00\",\"2003-09-25T00:00:00\",\"2003-09-26T00:00:00\",\"2003-09-29T00:00:00\",\"2003-09-30T00:00:00\",\"2003-10-01T00:00:00\",\"2003-10-02T00:00:00\",\"2003-10-03T00:00:00\",\"2003-10-06T00:00:00\",\"2003-10-07T00:00:00\",\"2003-10-08T00:00:00\",\"2003-10-09T00:00:00\",\"2003-10-10T00:00:00\",\"2003-10-13T00:00:00\",\"2003-10-14T00:00:00\",\"2003-10-15T00:00:00\",\"2003-10-16T00:00:00\",\"2003-10-17T00:00:00\",\"2003-10-20T00:00:00\",\"2003-10-21T00:00:00\",\"2003-10-22T00:00:00\",\"2003-10-23T00:00:00\",\"2003-10-24T00:00:00\",\"2003-10-27T00:00:00\",\"2003-10-28T00:00:00\",\"2003-10-29T00:00:00\",\"2003-10-30T00:00:00\",\"2003-10-31T00:00:00\",\"2003-11-03T00:00:00\",\"2003-11-04T00:00:00\",\"2003-11-05T00:00:00\",\"2003-11-06T00:00:00\",\"2003-11-07T00:00:00\",\"2003-11-10T00:00:00\",\"2003-11-11T00:00:00\",\"2003-11-12T00:00:00\",\"2003-11-13T00:00:00\",\"2003-11-14T00:00:00\",\"2003-11-17T00:00:00\",\"2003-11-18T00:00:00\",\"2003-11-19T00:00:00\",\"2003-11-20T00:00:00\",\"2003-11-21T00:00:00\",\"2003-11-24T00:00:00\",\"2003-11-25T00:00:00\",\"2003-11-26T00:00:00\",\"2003-11-28T00:00:00\",\"2003-12-01T00:00:00\",\"2003-12-02T00:00:00\",\"2003-12-03T00:00:00\",\"2003-12-04T00:00:00\",\"2003-12-05T00:00:00\",\"2003-12-08T00:00:00\",\"2003-12-09T00:00:00\",\"2003-12-10T00:00:00\",\"2003-12-11T00:00:00\",\"2003-12-12T00:00:00\",\"2003-12-15T00:00:00\",\"2003-12-16T00:00:00\",\"2003-12-17T00:00:00\",\"2003-12-18T00:00:00\",\"2003-12-19T00:00:00\",\"2003-12-22T00:00:00\",\"2003-12-23T00:00:00\",\"2003-12-24T00:00:00\",\"2003-12-26T00:00:00\",\"2003-12-29T00:00:00\",\"2003-12-30T00:00:00\",\"2003-12-31T00:00:00\",\"2004-01-02T00:00:00\",\"2004-01-05T00:00:00\",\"2004-01-06T00:00:00\",\"2004-01-07T00:00:00\",\"2004-01-08T00:00:00\",\"2004-01-09T00:00:00\",\"2004-01-12T00:00:00\",\"2004-01-13T00:00:00\",\"2004-01-14T00:00:00\",\"2004-01-15T00:00:00\",\"2004-01-16T00:00:00\",\"2004-01-20T00:00:00\",\"2004-01-21T00:00:00\",\"2004-01-22T00:00:00\",\"2004-01-23T00:00:00\",\"2004-01-26T00:00:00\",\"2004-01-27T00:00:00\",\"2004-01-28T00:00:00\",\"2004-01-29T00:00:00\",\"2004-01-30T00:00:00\",\"2004-02-02T00:00:00\",\"2004-02-03T00:00:00\",\"2004-02-04T00:00:00\",\"2004-02-05T00:00:00\",\"2004-02-06T00:00:00\",\"2004-02-09T00:00:00\",\"2004-02-10T00:00:00\",\"2004-02-11T00:00:00\",\"2004-02-12T00:00:00\",\"2004-02-13T00:00:00\",\"2004-02-17T00:00:00\",\"2004-02-18T00:00:00\",\"2004-02-19T00:00:00\",\"2004-02-20T00:00:00\",\"2004-02-23T00:00:00\",\"2004-02-24T00:00:00\",\"2004-02-25T00:00:00\",\"2004-02-26T00:00:00\",\"2004-02-27T00:00:00\",\"2004-03-01T00:00:00\",\"2004-03-02T00:00:00\",\"2004-03-03T00:00:00\",\"2004-03-04T00:00:00\",\"2004-03-05T00:00:00\",\"2004-03-08T00:00:00\",\"2004-03-09T00:00:00\",\"2004-03-10T00:00:00\",\"2004-03-11T00:00:00\",\"2004-03-12T00:00:00\",\"2004-03-15T00:00:00\",\"2004-03-16T00:00:00\",\"2004-03-17T00:00:00\",\"2004-03-18T00:00:00\",\"2004-03-19T00:00:00\",\"2004-03-22T00:00:00\",\"2004-03-23T00:00:00\",\"2004-03-24T00:00:00\",\"2004-03-25T00:00:00\",\"2004-03-26T00:00:00\",\"2004-03-29T00:00:00\",\"2004-03-30T00:00:00\",\"2004-03-31T00:00:00\",\"2004-04-01T00:00:00\",\"2004-04-02T00:00:00\",\"2004-04-05T00:00:00\",\"2004-04-06T00:00:00\",\"2004-04-07T00:00:00\",\"2004-04-08T00:00:00\",\"2004-04-12T00:00:00\",\"2004-04-13T00:00:00\",\"2004-04-14T00:00:00\",\"2004-04-15T00:00:00\",\"2004-04-16T00:00:00\",\"2004-04-19T00:00:00\",\"2004-04-20T00:00:00\",\"2004-04-21T00:00:00\",\"2004-04-22T00:00:00\",\"2004-04-23T00:00:00\",\"2004-04-26T00:00:00\",\"2004-04-27T00:00:00\",\"2004-04-28T00:00:00\",\"2004-04-29T00:00:00\",\"2004-04-30T00:00:00\",\"2004-05-03T00:00:00\",\"2004-05-04T00:00:00\",\"2004-05-05T00:00:00\",\"2004-05-06T00:00:00\",\"2004-05-07T00:00:00\",\"2004-05-10T00:00:00\",\"2004-05-11T00:00:00\",\"2004-05-12T00:00:00\",\"2004-05-13T00:00:00\",\"2004-05-14T00:00:00\",\"2004-05-17T00:00:00\",\"2004-05-18T00:00:00\",\"2004-05-19T00:00:00\",\"2004-05-20T00:00:00\",\"2004-05-21T00:00:00\",\"2004-05-24T00:00:00\",\"2004-05-25T00:00:00\",\"2004-05-26T00:00:00\",\"2004-05-27T00:00:00\",\"2004-05-28T00:00:00\",\"2004-06-01T00:00:00\",\"2004-06-02T00:00:00\",\"2004-06-03T00:00:00\",\"2004-06-04T00:00:00\",\"2004-06-07T00:00:00\",\"2004-06-08T00:00:00\",\"2004-06-09T00:00:00\",\"2004-06-10T00:00:00\",\"2004-06-14T00:00:00\",\"2004-06-15T00:00:00\",\"2004-06-16T00:00:00\",\"2004-06-17T00:00:00\",\"2004-06-18T00:00:00\",\"2004-06-21T00:00:00\",\"2004-06-22T00:00:00\",\"2004-06-23T00:00:00\",\"2004-06-24T00:00:00\",\"2004-06-25T00:00:00\",\"2004-06-28T00:00:00\",\"2004-06-29T00:00:00\",\"2004-06-30T00:00:00\",\"2004-07-01T00:00:00\",\"2004-07-02T00:00:00\",\"2004-07-06T00:00:00\",\"2004-07-07T00:00:00\",\"2004-07-08T00:00:00\",\"2004-07-09T00:00:00\",\"2004-07-12T00:00:00\",\"2004-07-13T00:00:00\",\"2004-07-14T00:00:00\",\"2004-07-15T00:00:00\",\"2004-07-16T00:00:00\",\"2004-07-19T00:00:00\",\"2004-07-20T00:00:00\",\"2004-07-21T00:00:00\",\"2004-07-22T00:00:00\",\"2004-07-23T00:00:00\",\"2004-07-26T00:00:00\",\"2004-07-27T00:00:00\",\"2004-07-28T00:00:00\",\"2004-07-29T00:00:00\",\"2004-07-30T00:00:00\",\"2004-08-02T00:00:00\",\"2004-08-03T00:00:00\",\"2004-08-04T00:00:00\",\"2004-08-05T00:00:00\",\"2004-08-06T00:00:00\",\"2004-08-09T00:00:00\",\"2004-08-10T00:00:00\",\"2004-08-11T00:00:00\",\"2004-08-12T00:00:00\",\"2004-08-13T00:00:00\",\"2004-08-16T00:00:00\",\"2004-08-17T00:00:00\",\"2004-08-18T00:00:00\",\"2004-08-19T00:00:00\",\"2004-08-20T00:00:00\",\"2004-08-23T00:00:00\",\"2004-08-24T00:00:00\",\"2004-08-25T00:00:00\",\"2004-08-26T00:00:00\",\"2004-08-27T00:00:00\",\"2004-08-30T00:00:00\",\"2004-08-31T00:00:00\",\"2004-09-01T00:00:00\",\"2004-09-02T00:00:00\",\"2004-09-03T00:00:00\",\"2004-09-07T00:00:00\",\"2004-09-08T00:00:00\",\"2004-09-09T00:00:00\",\"2004-09-10T00:00:00\",\"2004-09-13T00:00:00\",\"2004-09-14T00:00:00\",\"2004-09-15T00:00:00\",\"2004-09-16T00:00:00\",\"2004-09-17T00:00:00\",\"2004-09-20T00:00:00\",\"2004-09-21T00:00:00\",\"2004-09-22T00:00:00\",\"2004-09-23T00:00:00\",\"2004-09-24T00:00:00\",\"2004-09-27T00:00:00\",\"2004-09-28T00:00:00\",\"2004-09-29T00:00:00\",\"2004-09-30T00:00:00\",\"2004-10-01T00:00:00\",\"2004-10-04T00:00:00\",\"2004-10-05T00:00:00\",\"2004-10-06T00:00:00\",\"2004-10-07T00:00:00\",\"2004-10-08T00:00:00\",\"2004-10-11T00:00:00\",\"2004-10-12T00:00:00\",\"2004-10-13T00:00:00\",\"2004-10-14T00:00:00\",\"2004-10-15T00:00:00\",\"2004-10-18T00:00:00\",\"2004-10-19T00:00:00\",\"2004-10-20T00:00:00\",\"2004-10-21T00:00:00\",\"2004-10-22T00:00:00\",\"2004-10-25T00:00:00\",\"2004-10-26T00:00:00\",\"2004-10-27T00:00:00\",\"2004-10-28T00:00:00\",\"2004-10-29T00:00:00\",\"2004-11-01T00:00:00\",\"2004-11-02T00:00:00\",\"2004-11-03T00:00:00\",\"2004-11-04T00:00:00\",\"2004-11-05T00:00:00\",\"2004-11-08T00:00:00\",\"2004-11-09T00:00:00\",\"2004-11-10T00:00:00\",\"2004-11-11T00:00:00\",\"2004-11-12T00:00:00\",\"2004-11-15T00:00:00\",\"2004-11-16T00:00:00\",\"2004-11-17T00:00:00\",\"2004-11-18T00:00:00\",\"2004-11-19T00:00:00\",\"2004-11-22T00:00:00\",\"2004-11-23T00:00:00\",\"2004-11-24T00:00:00\",\"2004-11-26T00:00:00\",\"2004-11-29T00:00:00\",\"2004-11-30T00:00:00\",\"2004-12-01T00:00:00\",\"2004-12-02T00:00:00\",\"2004-12-03T00:00:00\",\"2004-12-06T00:00:00\",\"2004-12-07T00:00:00\",\"2004-12-08T00:00:00\",\"2004-12-09T00:00:00\",\"2004-12-10T00:00:00\",\"2004-12-13T00:00:00\",\"2004-12-14T00:00:00\",\"2004-12-15T00:00:00\",\"2004-12-16T00:00:00\",\"2004-12-17T00:00:00\",\"2004-12-20T00:00:00\",\"2004-12-21T00:00:00\",\"2004-12-22T00:00:00\",\"2004-12-23T00:00:00\",\"2004-12-27T00:00:00\",\"2004-12-28T00:00:00\",\"2004-12-29T00:00:00\",\"2004-12-30T00:00:00\",\"2004-12-31T00:00:00\",\"2005-01-03T00:00:00\",\"2005-01-04T00:00:00\",\"2005-01-05T00:00:00\",\"2005-01-06T00:00:00\",\"2005-01-07T00:00:00\",\"2005-01-10T00:00:00\",\"2005-01-11T00:00:00\",\"2005-01-12T00:00:00\",\"2005-01-13T00:00:00\",\"2005-01-14T00:00:00\",\"2005-01-18T00:00:00\",\"2005-01-19T00:00:00\",\"2005-01-20T00:00:00\",\"2005-01-21T00:00:00\",\"2005-01-24T00:00:00\",\"2005-01-25T00:00:00\",\"2005-01-26T00:00:00\",\"2005-01-27T00:00:00\",\"2005-01-28T00:00:00\",\"2005-01-31T00:00:00\",\"2005-02-01T00:00:00\",\"2005-02-02T00:00:00\",\"2005-02-03T00:00:00\",\"2005-02-04T00:00:00\",\"2005-02-07T00:00:00\",\"2005-02-08T00:00:00\",\"2005-02-09T00:00:00\",\"2005-02-10T00:00:00\",\"2005-02-11T00:00:00\",\"2005-02-14T00:00:00\",\"2005-02-15T00:00:00\",\"2005-02-16T00:00:00\",\"2005-02-17T00:00:00\",\"2005-02-18T00:00:00\",\"2005-02-22T00:00:00\",\"2005-02-23T00:00:00\",\"2005-02-24T00:00:00\",\"2005-02-25T00:00:00\",\"2005-02-28T00:00:00\",\"2005-03-01T00:00:00\",\"2005-03-02T00:00:00\",\"2005-03-03T00:00:00\",\"2005-03-04T00:00:00\",\"2005-03-07T00:00:00\",\"2005-03-08T00:00:00\",\"2005-03-09T00:00:00\",\"2005-03-10T00:00:00\",\"2005-03-11T00:00:00\",\"2005-03-14T00:00:00\",\"2005-03-15T00:00:00\",\"2005-03-16T00:00:00\",\"2005-03-17T00:00:00\",\"2005-03-18T00:00:00\",\"2005-03-21T00:00:00\",\"2005-03-22T00:00:00\",\"2005-03-23T00:00:00\",\"2005-03-24T00:00:00\",\"2005-03-28T00:00:00\",\"2005-03-29T00:00:00\",\"2005-03-30T00:00:00\",\"2005-03-31T00:00:00\",\"2005-04-01T00:00:00\",\"2005-04-04T00:00:00\",\"2005-04-05T00:00:00\",\"2005-04-06T00:00:00\",\"2005-04-07T00:00:00\",\"2005-04-08T00:00:00\",\"2005-04-11T00:00:00\",\"2005-04-12T00:00:00\",\"2005-04-13T00:00:00\",\"2005-04-14T00:00:00\",\"2005-04-15T00:00:00\",\"2005-04-18T00:00:00\",\"2005-04-19T00:00:00\",\"2005-04-20T00:00:00\",\"2005-04-21T00:00:00\",\"2005-04-22T00:00:00\",\"2005-04-25T00:00:00\",\"2005-04-26T00:00:00\",\"2005-04-27T00:00:00\",\"2005-04-28T00:00:00\",\"2005-04-29T00:00:00\",\"2005-05-02T00:00:00\",\"2005-05-03T00:00:00\",\"2005-05-04T00:00:00\",\"2005-05-05T00:00:00\",\"2005-05-06T00:00:00\",\"2005-05-09T00:00:00\",\"2005-05-10T00:00:00\",\"2005-05-11T00:00:00\",\"2005-05-12T00:00:00\",\"2005-05-13T00:00:00\",\"2005-05-16T00:00:00\",\"2005-05-17T00:00:00\",\"2005-05-18T00:00:00\",\"2005-05-19T00:00:00\",\"2005-05-20T00:00:00\",\"2005-05-23T00:00:00\",\"2005-05-24T00:00:00\",\"2005-05-25T00:00:00\",\"2005-05-26T00:00:00\",\"2005-05-27T00:00:00\",\"2005-05-31T00:00:00\",\"2005-06-01T00:00:00\",\"2005-06-02T00:00:00\",\"2005-06-03T00:00:00\",\"2005-06-06T00:00:00\",\"2005-06-07T00:00:00\",\"2005-06-08T00:00:00\",\"2005-06-09T00:00:00\",\"2005-06-10T00:00:00\",\"2005-06-13T00:00:00\",\"2005-06-14T00:00:00\",\"2005-06-15T00:00:00\",\"2005-06-16T00:00:00\",\"2005-06-17T00:00:00\",\"2005-06-20T00:00:00\",\"2005-06-21T00:00:00\",\"2005-06-22T00:00:00\",\"2005-06-23T00:00:00\",\"2005-06-24T00:00:00\",\"2005-06-27T00:00:00\",\"2005-06-28T00:00:00\",\"2005-06-29T00:00:00\",\"2005-06-30T00:00:00\",\"2005-07-01T00:00:00\",\"2005-07-05T00:00:00\",\"2005-07-06T00:00:00\",\"2005-07-07T00:00:00\",\"2005-07-08T00:00:00\",\"2005-07-09T00:00:00\",\"2005-07-10T00:00:00\",\"2005-07-11T00:00:00\",\"2005-07-12T00:00:00\",\"2005-07-13T00:00:00\",\"2005-07-14T00:00:00\",\"2005-07-15T00:00:00\",\"2005-07-16T00:00:00\",\"2005-07-17T00:00:00\",\"2005-07-18T00:00:00\",\"2005-07-19T00:00:00\",\"2005-07-20T00:00:00\",\"2005-07-21T00:00:00\",\"2005-07-22T00:00:00\",\"2005-07-23T00:00:00\",\"2005-07-24T00:00:00\",\"2005-07-25T00:00:00\",\"2005-07-26T00:00:00\",\"2005-07-27T00:00:00\",\"2005-07-28T00:00:00\",\"2005-07-29T00:00:00\",\"2005-07-30T00:00:00\",\"2005-07-31T00:00:00\",\"2005-08-01T00:00:00\",\"2005-08-02T00:00:00\",\"2005-08-03T00:00:00\",\"2005-08-04T00:00:00\",\"2005-08-05T00:00:00\",\"2005-08-06T00:00:00\",\"2005-08-07T00:00:00\",\"2005-08-08T00:00:00\",\"2005-08-09T00:00:00\",\"2005-08-10T00:00:00\",\"2005-08-11T00:00:00\",\"2005-08-12T00:00:00\",\"2005-08-13T00:00:00\",\"2005-08-14T00:00:00\",\"2005-08-15T00:00:00\",\"2005-08-16T00:00:00\",\"2005-08-17T00:00:00\",\"2005-08-18T00:00:00\",\"2005-08-19T00:00:00\",\"2005-08-20T00:00:00\",\"2005-08-21T00:00:00\",\"2005-08-22T00:00:00\",\"2005-08-23T00:00:00\",\"2005-08-24T00:00:00\",\"2005-08-25T00:00:00\",\"2005-08-26T00:00:00\",\"2005-08-27T00:00:00\",\"2005-08-28T00:00:00\",\"2005-08-29T00:00:00\",\"2005-08-30T00:00:00\",\"2005-08-31T00:00:00\",\"2005-09-01T00:00:00\",\"2005-09-02T00:00:00\",\"2005-09-03T00:00:00\",\"2005-09-04T00:00:00\",\"2005-09-05T00:00:00\",\"2005-09-06T00:00:00\",\"2005-09-07T00:00:00\",\"2005-09-08T00:00:00\",\"2005-09-09T00:00:00\",\"2005-09-10T00:00:00\",\"2005-09-11T00:00:00\",\"2005-09-12T00:00:00\",\"2005-09-13T00:00:00\",\"2005-09-14T00:00:00\",\"2005-09-15T00:00:00\",\"2005-09-16T00:00:00\",\"2005-09-17T00:00:00\",\"2005-09-18T00:00:00\",\"2005-09-19T00:00:00\",\"2005-09-20T00:00:00\",\"2005-09-21T00:00:00\",\"2005-09-22T00:00:00\",\"2005-09-23T00:00:00\",\"2005-09-24T00:00:00\",\"2005-09-25T00:00:00\",\"2005-09-26T00:00:00\",\"2005-09-27T00:00:00\",\"2005-09-28T00:00:00\",\"2005-09-29T00:00:00\",\"2005-09-30T00:00:00\",\"2005-10-01T00:00:00\",\"2005-10-02T00:00:00\",\"2005-10-03T00:00:00\",\"2005-10-04T00:00:00\",\"2005-10-05T00:00:00\",\"2005-10-06T00:00:00\",\"2005-10-07T00:00:00\",\"2005-10-08T00:00:00\",\"2005-10-09T00:00:00\",\"2005-10-10T00:00:00\",\"2005-10-11T00:00:00\",\"2005-10-12T00:00:00\",\"2005-10-13T00:00:00\",\"2005-10-14T00:00:00\",\"2005-10-15T00:00:00\",\"2005-10-16T00:00:00\",\"2005-10-17T00:00:00\",\"2005-10-18T00:00:00\",\"2005-10-19T00:00:00\",\"2005-10-20T00:00:00\",\"2005-10-21T00:00:00\",\"2005-10-22T00:00:00\",\"2005-10-23T00:00:00\",\"2005-10-24T00:00:00\",\"2005-10-25T00:00:00\",\"2005-10-26T00:00:00\",\"2005-10-27T00:00:00\",\"2005-10-28T00:00:00\",\"2005-10-29T00:00:00\",\"2005-10-30T00:00:00\",\"2005-10-31T00:00:00\",\"2005-11-01T00:00:00\",\"2005-11-02T00:00:00\",\"2005-11-03T00:00:00\",\"2005-11-04T00:00:00\",\"2005-11-05T00:00:00\",\"2005-11-06T00:00:00\",\"2005-11-07T00:00:00\",\"2005-11-08T00:00:00\",\"2005-11-09T00:00:00\",\"2005-11-10T00:00:00\",\"2005-11-11T00:00:00\",\"2005-11-12T00:00:00\",\"2005-11-13T00:00:00\",\"2005-11-14T00:00:00\",\"2005-11-15T00:00:00\",\"2005-11-16T00:00:00\",\"2005-11-17T00:00:00\",\"2005-11-18T00:00:00\",\"2005-11-19T00:00:00\",\"2005-11-20T00:00:00\",\"2005-11-21T00:00:00\",\"2005-11-22T00:00:00\",\"2005-11-23T00:00:00\",\"2005-11-24T00:00:00\",\"2005-11-25T00:00:00\",\"2005-11-26T00:00:00\",\"2005-11-27T00:00:00\",\"2005-11-28T00:00:00\",\"2005-11-29T00:00:00\",\"2005-11-30T00:00:00\",\"2005-12-01T00:00:00\",\"2005-12-02T00:00:00\",\"2005-12-03T00:00:00\",\"2005-12-04T00:00:00\",\"2005-12-05T00:00:00\",\"2005-12-06T00:00:00\",\"2005-12-07T00:00:00\",\"2005-12-08T00:00:00\",\"2005-12-09T00:00:00\",\"2005-12-10T00:00:00\",\"2005-12-11T00:00:00\",\"2005-12-12T00:00:00\",\"2005-12-13T00:00:00\",\"2005-12-14T00:00:00\",\"2005-12-15T00:00:00\",\"2005-12-16T00:00:00\",\"2005-12-17T00:00:00\",\"2005-12-18T00:00:00\",\"2005-12-19T00:00:00\",\"2005-12-20T00:00:00\",\"2005-12-21T00:00:00\",\"2005-12-22T00:00:00\",\"2005-12-23T00:00:00\",\"2005-12-24T00:00:00\",\"2005-12-25T00:00:00\",\"2005-12-26T00:00:00\",\"2005-12-27T00:00:00\",\"2005-12-28T00:00:00\",\"2005-12-29T00:00:00\",\"2005-12-30T00:00:00\",\"2005-12-31T00:00:00\",\"2006-01-01T00:00:00\",\"2006-01-02T00:00:00\",\"2006-01-03T00:00:00\",\"2006-01-04T00:00:00\",\"2006-01-05T00:00:00\",\"2006-01-06T00:00:00\",\"2006-01-07T00:00:00\",\"2006-01-08T00:00:00\",\"2006-01-09T00:00:00\",\"2006-01-10T00:00:00\",\"2006-01-11T00:00:00\",\"2006-01-12T00:00:00\",\"2006-01-13T00:00:00\",\"2006-01-14T00:00:00\",\"2006-01-15T00:00:00\",\"2006-01-16T00:00:00\",\"2006-01-17T00:00:00\",\"2006-01-18T00:00:00\",\"2006-01-19T00:00:00\",\"2006-01-20T00:00:00\",\"2006-01-21T00:00:00\",\"2006-01-22T00:00:00\",\"2006-01-23T00:00:00\",\"2006-01-24T00:00:00\",\"2006-01-25T00:00:00\",\"2006-01-26T00:00:00\",\"2006-01-27T00:00:00\",\"2006-01-28T00:00:00\",\"2006-01-29T00:00:00\",\"2006-01-30T00:00:00\",\"2006-01-31T00:00:00\",\"2006-02-01T00:00:00\",\"2006-02-02T00:00:00\",\"2006-02-03T00:00:00\",\"2006-02-04T00:00:00\",\"2006-02-05T00:00:00\",\"2006-02-06T00:00:00\",\"2006-02-07T00:00:00\",\"2006-02-08T00:00:00\",\"2006-02-09T00:00:00\",\"2006-02-10T00:00:00\",\"2006-02-11T00:00:00\",\"2006-02-12T00:00:00\",\"2006-02-13T00:00:00\",\"2006-02-14T00:00:00\",\"2006-02-15T00:00:00\",\"2006-02-16T00:00:00\",\"2006-02-17T00:00:00\",\"2006-02-18T00:00:00\",\"2006-02-19T00:00:00\",\"2006-02-20T00:00:00\",\"2006-02-21T00:00:00\",\"2006-02-22T00:00:00\",\"2006-02-23T00:00:00\",\"2006-02-24T00:00:00\",\"2006-02-25T00:00:00\",\"2006-02-26T00:00:00\",\"2006-02-27T00:00:00\",\"2006-02-28T00:00:00\",\"2006-03-01T00:00:00\",\"2006-03-02T00:00:00\",\"2006-03-03T00:00:00\",\"2006-03-04T00:00:00\",\"2006-03-05T00:00:00\",\"2006-03-06T00:00:00\",\"2006-03-07T00:00:00\",\"2006-03-08T00:00:00\",\"2006-03-09T00:00:00\",\"2006-03-10T00:00:00\",\"2006-03-11T00:00:00\",\"2006-03-12T00:00:00\",\"2006-03-13T00:00:00\",\"2006-03-14T00:00:00\",\"2006-03-15T00:00:00\",\"2006-03-16T00:00:00\",\"2006-03-17T00:00:00\",\"2006-03-18T00:00:00\",\"2006-03-19T00:00:00\",\"2006-03-20T00:00:00\",\"2006-03-21T00:00:00\",\"2006-03-22T00:00:00\",\"2006-03-23T00:00:00\",\"2006-03-24T00:00:00\",\"2006-03-25T00:00:00\",\"2006-03-26T00:00:00\",\"2006-03-27T00:00:00\",\"2006-03-28T00:00:00\",\"2006-03-29T00:00:00\",\"2006-03-30T00:00:00\",\"2006-03-31T00:00:00\",\"2006-04-01T00:00:00\",\"2006-04-02T00:00:00\",\"2006-04-03T00:00:00\",\"2006-04-04T00:00:00\",\"2006-04-05T00:00:00\",\"2006-04-06T00:00:00\",\"2006-04-07T00:00:00\",\"2006-04-08T00:00:00\",\"2006-04-09T00:00:00\",\"2006-04-10T00:00:00\",\"2006-04-11T00:00:00\",\"2006-04-12T00:00:00\",\"2006-04-13T00:00:00\",\"2006-04-14T00:00:00\",\"2006-04-15T00:00:00\",\"2006-04-16T00:00:00\",\"2006-04-17T00:00:00\",\"2006-04-18T00:00:00\",\"2006-04-19T00:00:00\",\"2006-04-20T00:00:00\",\"2006-04-21T00:00:00\",\"2006-04-22T00:00:00\",\"2006-04-23T00:00:00\",\"2006-04-24T00:00:00\",\"2006-04-25T00:00:00\",\"2006-04-26T00:00:00\",\"2006-04-27T00:00:00\",\"2006-04-28T00:00:00\",\"2006-04-29T00:00:00\",\"2006-04-30T00:00:00\",\"2006-05-01T00:00:00\",\"2006-05-02T00:00:00\",\"2006-05-03T00:00:00\",\"2006-05-04T00:00:00\",\"2006-05-05T00:00:00\",\"2006-05-06T00:00:00\",\"2006-05-07T00:00:00\",\"2006-05-08T00:00:00\",\"2006-05-09T00:00:00\",\"2006-05-10T00:00:00\",\"2006-05-11T00:00:00\",\"2006-05-12T00:00:00\",\"2006-05-13T00:00:00\",\"2006-05-14T00:00:00\",\"2006-05-15T00:00:00\",\"2006-05-16T00:00:00\",\"2006-05-17T00:00:00\",\"2006-05-18T00:00:00\",\"2006-05-19T00:00:00\",\"2006-05-20T00:00:00\",\"2006-05-21T00:00:00\",\"2006-05-22T00:00:00\",\"2006-05-23T00:00:00\",\"2006-05-24T00:00:00\",\"2006-05-25T00:00:00\",\"2006-05-26T00:00:00\",\"2006-05-27T00:00:00\",\"2006-05-28T00:00:00\",\"2006-05-29T00:00:00\",\"2006-05-30T00:00:00\",\"2006-05-31T00:00:00\",\"2006-06-01T00:00:00\",\"2006-06-02T00:00:00\",\"2006-06-03T00:00:00\",\"2006-06-04T00:00:00\",\"2006-06-05T00:00:00\",\"2006-06-06T00:00:00\",\"2006-06-07T00:00:00\",\"2006-06-08T00:00:00\",\"2006-06-09T00:00:00\",\"2006-06-10T00:00:00\",\"2006-06-11T00:00:00\",\"2006-06-12T00:00:00\",\"2006-06-13T00:00:00\",\"2006-06-14T00:00:00\",\"2006-06-15T00:00:00\",\"2006-06-16T00:00:00\",\"2006-06-17T00:00:00\",\"2006-06-18T00:00:00\",\"2006-06-19T00:00:00\",\"2006-06-20T00:00:00\",\"2006-06-21T00:00:00\",\"2006-06-22T00:00:00\",\"2006-06-23T00:00:00\",\"2006-06-24T00:00:00\",\"2006-06-25T00:00:00\",\"2006-06-26T00:00:00\",\"2006-06-27T00:00:00\",\"2006-06-28T00:00:00\",\"2006-06-29T00:00:00\",\"2006-06-30T00:00:00\",\"2006-07-01T00:00:00\",\"2006-07-02T00:00:00\",\"2006-07-03T00:00:00\",\"2006-07-04T00:00:00\",\"2006-07-05T00:00:00\"],\"y\":[15.612521874920462,15.824079381104614,15.870557824521958,15.781524455296363,15.634432638800037,15.51617118726468,15.543713743086588,15.582009156568917,15.531577067220397,15.387960515293566,15.092818311153088,14.886027543183351,14.650809668262726,14.499608447815902,14.584980238455632,15.43530206999196,15.200494320285749,14.885807571055514,14.716659134618187,14.757610220960705,14.74462275356954,14.576187554414316,14.634761859970064,14.852166544496368,15.01646412079255,14.718570126242906,14.730419294500578,14.922935198875553,15.089952227498655,15.095004188765515,15.106148916340072,15.330092537431742,15.588553719704672,15.692681957480174,15.585448805095396,15.260584391482212,15.321869318293652,15.394692440796408,15.340990632022635,15.174982824693922,15.38272773981253,15.40105488395656,15.323627928539429,15.268297917313609,15.631247134262681,15.547420790834867,15.413488824902881,15.310424246945317,15.288178807766982,15.525734924497804,15.587098029330718,15.683012053214979,15.707891005953067,15.613605939044335,15.472119490669147,15.433028957555058,15.299228595800853,15.064323851204321,14.893953450318875,15.473448322160332,15.43355208913904,15.257998485007425,15.135021855160574,15.221354498531644,15.75255575932056,15.565657260256284,15.427780284339596,15.433122150085872,15.558450079474882,16.075357097634893,16.18110772194995,16.297547341077728,16.351836336537733,16.340160556043134,16.495362898357026,16.449476470091877,16.314274768297956,16.08624420601168,15.8478247031754,15.826990597041528,15.917878174617131,16.014890606759693,16.033036190167795,15.9649506858637,16.164662077901312,16.399125620921243,16.635193473085096,16.727155228098447,16.63547944796521,16.22315980307229,16.292173710716956,16.557016331170406,16.850253651237132,16.970103036962907,16.297348762416778,16.30127928770635,16.612094725238865,16.932017020821778,16.98019125011389,16.454188077113745,16.64459152090571,16.946479336912578,16.916273900506212,16.62462604841166,16.72871952533923,16.830890773371006,16.838613686855457,16.771296825347818,16.66032768767372,16.60734064458408,16.61648642814604,16.645893415800668,16.664393861984223,16.78472929864087,16.763417577104438,16.732848298736148,16.66892002758646,16.615575387756923,16.7733711175569,16.680066668862022,16.562249328746237,16.622138266882434,16.675985962876112,16.546332593208675,16.70071393384607,16.83924046304327,16.947874234869467,16.996203673404615,17.09914990198766,17.115855346472713,17.002161897212627,16.938160766808647,16.988318163248714,16.95976991707861,16.784387737552926,16.54410495963375,16.503470063707535,16.44827883942949,16.33352491033293,16.242308943223343,16.42186165674372,16.273284356455818,16.039485694424695,15.835708958299321,15.806261916252163,16.254999478654494,15.973576509077798,15.624827249273018,15.437820416080116,15.538280006892736,16.05183765911572,15.748878178668187,15.484889114909038,15.43419328117309,15.621079341332836,16.011579178295573,15.759871984162388,15.563483146491189,15.5046530358541,15.836072183085667,15.683258342026496,15.475777134994654,15.339868969552303,15.371756230537384,15.663042541283135,15.431377196133989,15.263462069878642,15.2709582686857,15.418286490289224,15.368724524236217,15.156704553451345,15.162491808372263,15.349971064940862,15.54473990260356,15.474790664261874,15.500079967809786,15.688559835742561,15.818881034710936,15.701451285094107,15.016093770947494,15.185785074963476,15.473604770472907,15.575959467350373,15.384186232571022,15.03743219860658,15.271788811004177,15.510366285246718,15.585038338156204,15.51867586041673,15.577937623003635,15.562715794571439,15.520016869659074,15.461377625168302,15.430836173393892,15.51947305462975,15.463208990638176,15.448781976231308,15.436367299213108,15.483753496611694,15.673702478327222,15.919377622262521,16.063209792618803,16.04359780215214,15.903111420771884,15.931925793769139,15.99508111885703,16.01048089155374,15.968776898545157,15.968106179673192,15.974515163012157,16.014667608345178,16.01599805156454,15.942918851033578,15.784506518383367,15.826010060763625,15.9255552916045,15.969743492898209,15.92105861400442,15.77886982944815,15.677628324397466,15.575062351354102,15.492629006677621,15.509714228145185,15.941789136192359,15.748222310951121,15.596610571958891,15.597346205519237,15.9964409814355,15.827051315429175,15.613668354388357,15.455741897614242,15.427791448740496,15.86610220844254,15.850379748859229,15.798609112947952,15.74497890563536,15.738816360766947,16.132580166477744,16.242869809155017,16.380955302994856,16.479428409314448,16.48063353417666,16.302201255673637,16.3433610737238,16.449174779640632,16.451956008897557,16.296166957339423,16.331054362854555,16.572414363126253,16.70923793853288,16.603293023877555,16.90264434345894,17.277479238828224,17.515529350965732,17.543023628217075,17.425331509354482,17.177778668067237,17.16402091906694,17.21805608084177,17.237367328158506,17.158276489172454,16.8497651934783,16.723560410849057,16.543262248832548,16.289060207746044,16.10920023766177,16.96715713338228,17.048936538632365,16.840621395142286,16.506950480008634,16.3091432941971,16.530815261349574,16.341149591943378,16.19920699900394,16.238797138656675,16.42754307380893,16.46576435011327,16.297989334754394,16.33633110936244,16.50986284796911,16.64822112735222,16.583223932609684,16.66846049552834,16.918896722969844,17.158373739474648,17.23384322801023,16.84562609555025,16.80578834134646,16.893565874508397,16.947404831242654,16.861629919434414,16.788249135047533,16.916830543933102,16.912759168513823,16.80325911006204,17.043931725789307,17.101263579939168,17.040515489066422,16.884185003571496,16.74904732257881,16.91391052950387,16.954743264094994,17.039184621419608,17.1127001256777,17.10550597531664,16.8789530574547,16.860119723933174,16.844107443310797,16.687908561929618,16.420930714234885,16.639591892476535,16.82044044909135,16.80362246856186,16.605670344803272,16.450620611858604,17.070867748214056,17.044743152698878,16.87747374932153,16.713749096972656,16.68356870281549,17.19721824295469,17.302392287045347,17.427772007046613,17.518363949742728,17.5371306852995,17.632594953665908,17.65724588264585,17.630988549779055,17.469939171265104,17.206386348787497,16.87354049941224,16.92372137534407,17.034238048318056,17.105402803740503,17.088026126957814,17.052762156325308,17.19624065021762,17.450333288636486,17.660553464080337,17.716993455181722,17.30206678740446,17.18958865080072,17.278232150124044,17.517227590136848,17.77494314629181,17.486495229535972,17.198628878116658,17.22218899508446,17.50715725217649,17.794044440346475,17.39247553829205,17.302752743281097,17.515272435250868,17.87985639385409,17.414499740842366,17.425448578045305,17.55165830315063,17.630469027241134,17.605156833313064,17.483692111677303,17.413408080773813,17.38253728586159,17.36832254548221,17.371482302967433,17.520187038223106,17.52400694142379,17.53159934530801,17.48445742024161,17.394281918922523,17.51371843518507,17.51242176450914,17.448021441234754,17.287384224251934,17.534156621957138,17.414809614644234,17.31406037061251,17.425621834813768,17.703719041478525,17.68647089231499,17.763704456486177,17.850078038586833,17.84053625311771,17.63267873149595,17.676530429931283,17.755591952007272,17.71047105935496,17.50884164987558,17.237712509852166,17.27051685623338,17.19875298509142,17.057751825658965,17.153478974658906,17.159777327019057,17.040104151985073,16.789732843090338,16.559708876628413,17.00272925412214,16.992688151932665,16.740128801962143,16.374766389644847,16.161471820466815,16.86255393543526,16.7890157958585,16.514919935017325,16.234317718745235,16.157334149024237,16.95305063380652,16.777110398109063,16.508790051463144,16.28611347780718,16.5531841618043,16.572229246720138,16.44827902522815,16.224184665645545,16.06198876417981,16.476631164051884,16.398689068114592,16.19588734253321,16.011359063727227,15.992567526510356,16.32446329195362,16.103860514265325,15.920701960329872,15.909873859981818,16.07106317780989,16.323315210755762,16.2094006984641,16.26355141886157,16.43541593152566,16.5394471917543,15.856734512261019,15.750177849322982,15.948730570188864,16.219934910429778,16.29599966856717,15.705173558805361,15.770990319395958,16.03420834820354,16.256170466737938,16.304552580467092,16.280562016545158,16.310969784888098,16.3246093728657,16.265295092245072,16.282319723726978,16.2519792575911,16.224576610003496,16.193534239881796,16.154829623677635,16.132811431936176,16.215733740625602,16.43454413874531,16.663603926966058,16.781146158136426,16.66154620297604,16.634565705839293,16.692241495240477,16.738781464614036,16.727891298124604,16.70986179490368,16.69903450827434,16.73430490863729,16.75784199887634,16.7328825035295,16.54990075489149,16.51490889237883,16.58527385178323,16.66820372753006,16.68610199025759,16.580515982633504,16.508746247357156,16.436366158837153,16.3171848302065,16.208461546470428,16.693077240153038,16.77936532298772,16.70000101257187,16.489818831743467,16.311917153691084,16.72526548322382,16.58473723374891,16.35473891712074,16.170522521286053,16.50579081876168,16.594399250546953,16.6075378320887,16.539151465184005,16.74359579565542,16.86034862268085,16.99949930648248,17.12096906932905,17.193151861183484,17.08999457508076,17.029441125409466,17.099461984395916,17.18865995913069,17.165150873733932,16.89197139304869,17.057765645368555,17.327986686576885,17.44819453080195,17.315959301492835,17.628827038751744,18.03252297505754,18.253957356013267,18.25516131861086,17.97467518012388,17.90343277614002,17.918536062673567,17.955955487864024,17.948976415124342,17.686776047768458,17.57489067651505,17.477546929419844,17.280633030819452,17.00014066967663,17.346374286078884,17.691753990594012,17.802394431116586,17.577463550779946,17.217502315327533,17.280127823837766,17.25488349168704,17.09407885755289,16.935520527765863,16.948820347099605,17.379913042624985,17.189303953576278,17.050389973488148,17.072116011249364,17.219357429536778,17.36950401863936,17.30623490881507,17.420332506622874,17.65415299683532,17.8673396926396,17.734637372817286,17.568108442206814,17.557131722892688,17.6282935188258,17.65584215485937,17.388941801926517,17.404180660492376,17.556135656020437,17.671515681472222,17.644568339147902,17.802914705094118,17.89252194792916,17.81857247362289,17.639366021222056,17.6409419477541,17.696265355825822,17.76937347910146,17.840613452992734,17.891252990344604,17.766120822069208,17.684679730846213,17.69812178606151,17.66890812205795,17.489833273823727,17.22800727616521,17.468690413250155,17.68181435860248,17.65179499469199,17.43096690407993,17.730993822258423,17.933685586785685,17.94328553681325,17.766263906859166,17.583112444462525,17.963371525819763,18.10755202654465,18.24845061617689,18.36407810960194,18.435243242249648,18.554213642493018,18.59044468227409,18.650820156795714,18.61481059735264,18.434334408790054,17.904065940807563,17.878906170268742,17.964811591050086,18.065576036755566,18.117313981437086,18.08117194311589,18.105643767353563,18.28484680609527,18.52918721724515,18.719980581948388,18.60333858908959,18.40246235348664,18.325708265452455,18.404599041226835,18.62416717421871,18.969834455567074,18.63440326183263,18.382260958982997,18.396068352401635,18.661609302472893,18.879671234676987,18.587896036802885,18.533897290361477,18.995764243828276,18.80347782658046,18.656627262460955,18.703098787456913,18.81935442823688,18.878536484530873,18.833209269293512,18.771922574073088,18.73716123096322,18.696336351726057,18.662492943549363,18.81262080718298,18.827368932423543,18.859923646174284,18.850774088490144,18.777215618383792,18.76448494064267,18.81948812945986,18.84692626933431,18.765783984491673,18.838858308114556,18.838514116307206,18.74790191954438,18.630410713943824,18.605317827352767,19.025507192978743,19.00666433590259,19.018150997289062,19.07864259989169,19.138599636952087,18.988169330434076,18.934211825994236,19.00679833497976,19.06911789548762,18.997580457795085,18.494282059553377,18.566568216503377,18.582630601698533,18.48445018589822,18.37794346444623,18.45218767312636,18.487220836419297,18.35080570019912,18.0740178466455,18.10105990135449,18.300025755338808,18.318719464081504,18.049418152924943,17.657639195948693,17.949036912640192,18.15843823940055,18.113634910755916,17.822797088728603,17.51577832779762,18.039436427567026,18.25288298070693,18.276257551452755,18.083575354569177,17.788838463264888,17.84624407126742,17.89402396715315,17.753331784513538,17.50282088031067,17.650313970894537,17.768278876531088,17.71907159156391,17.499527904834636,17.28858308140801,17.66102174595285,17.614698807449116,17.422830840730853,17.22293032564741,17.185685680679047,17.709804897385077,17.612138529267025,17.526958827945837,17.564367587195235,17.709815555239,17.47695099104197,17.144145633788597,17.066323781820667,17.248134541538395,17.175746313099317,16.991172484668525,17.085724056669452,17.33220012476867,17.527745699122793,17.55842166310413,17.565148748503187,17.624291328256554,17.621188955526236,17.535458130725132,17.549996220532503,17.56549426178046,17.56388860705501,17.519743998759203,17.46228508445731,17.43062117261144,17.414573776084996,17.526230896184646,17.72829933359595,17.93094257763672,18.03468405812895,17.94189635321988,17.943650667493518,17.984584496186493,18.004707921379605,18.017288760960867,17.988799749382125,18.006707273543352,18.025235712577572,18.022356258016195,17.924841540353235,17.827426511124102,17.821169459401588,17.874792457477493,17.93130578842346,17.929632862632655,17.856629540620375,17.81359461613388,17.724472566285574,17.57887469285384,17.761207434480685,17.967778599893858,18.082801493518435,17.986695221774283,17.750096496144742,17.992537724141496,18.02728945550822,17.870019244705013,17.613604383276012,17.6234793928345,17.777668908227817,17.895012526208966,17.891409521828162,17.796606985528697,17.89620628105908,18.014064314716407,18.1595523279378,18.28196142581722,18.37701501926881,18.476007760860476,18.359053523737053,18.327235260261688,18.38051453332559,18.443296338665483,18.194468924318283,18.159620771299743,18.35415020981581,18.60762966510174,18.70142133993187,18.51919241121981,18.92380203279403,19.3107563831769,19.50577459473793,19.771634555192183,19.682225686541578,19.35612759333099,19.239505417565358,19.19699819977746,19.19535990579021,19.206363166987988,19.4640400975072,19.413232508733767,19.09060968009206,18.95019674721763,18.867046567561925,18.75296123994637,18.52963117735334,18.51379481946897,18.36221809959661,18.26858361352157,18.608385452937583,18.982500349050675,19.076399209052525,18.825052164723587,18.729746932529014,18.560222996666358,18.422167806294198,18.540729458106036,18.544220317553325,18.366674102898408,18.181699609118983,18.459655431710658,18.676684616812043,18.661975916394173,18.639105144302743,18.477231246852106,18.321575686243712,18.316885560011926,18.728782981557934,18.895424510890173,18.721470195578434,18.627286587726932,18.592752669882653,18.690108687551778,18.89751301415403,19.375355713597727,19.479108452083622,19.192869023119222,18.991010411987695,18.85321667335754,18.82549837390464,18.870244006226702,19.16244864590087,19.108371337837028,18.763357253928728,18.64390531118008,18.68787936172597,18.823092777115523,18.912056638956912,19.149765300272254,19.071962845564407,18.837626557759084,18.91707755024945,19.085203876411118,19.15806953910761,19.05770390119069,19.143153452430237,19.03971337518183,18.838461659423988,18.893086397174592,18.977144997226258,19.033511540363186,19.07833535064325,19.393630891635418,19.418134345019453,19.144843001468427,19.016855741572506,18.964149842277195,18.960850317301748,18.905220489634733,18.990801644988917,18.755521401038028,18.40614472350944,18.47733266538588,18.746750994398525,18.943133359559944,18.88669783198587,18.93052574496216,18.807173615761158,18.714499982489542,18.978909681196,19.210336637651295,19.203195007487693,18.9997572138707,19.081261755061266,19.086228121453626,19.032549774199232,19.209877854474396,19.382793547127154,19.506950556568658,19.596161886330595,19.93198302256609,19.985896518672295,19.795214461247124,19.79931044086536,19.864276672573556,19.907910566904494,19.845484843798335,19.92966465882427,19.701258596895734,19.283832817128715,19.147753210973605,19.151328633054973,19.220492474337632,19.294840757072585,19.611234706034644,19.62900478980066,19.381913008565466,19.323449687844974,19.37665670470283,19.539118163946082,19.75704241212521,20.212491781108678,20.304078036480295,20.033395979416156,19.844206808382037,19.672065765399108,19.578570097866628,19.631044710670714,20.115268847942435,20.40813066836727,20.34897377716212,20.20929314942285,19.902597148308786,19.633713265960672,19.62110449640879,20.151301450759938,20.473334903200488,20.344989512061318,20.11772040309597,19.854680397842447,19.78394007190226,19.960290877352747,20.484046866677893,20.605249797486167,20.2794329666978,20.040721551892617,19.92280754117049,19.952738847444365,20.042779686030336,20.366819107380834,20.37665317772259,20.13281669578269,20.070452994605855,20.03810285278243,19.986801290950428,19.9197616095191,20.15077556640003,20.182293710911576,20.024274536663096,20.049864532495747,20.09354921113266,20.109563706161783,20.07419934628345,20.265498241233963,20.203681126941486,19.973816866680057,20.001728665954882,20.08566840816929,20.09656632932127,19.989209242284904,20.120005053374914,20.095371232344977,19.978740550049313,20.076102033426924,20.1046943950164,19.9975419795316,19.853835971737247,20.093600450203226,20.23219664298056,20.194203551962215,20.26275091829108,20.272844614611994,20.267791057276437,20.302067857685184,20.626882259802514,20.645698861359747,20.35548579188343,20.22541305574684,20.200392104703354,20.256438394967315,20.292543153280857,20.485863080645267,20.312592058192433,19.895789660056955,19.75098288335363,19.7604623382625,19.816208276490897,19.806055859492016,19.97273280874832,19.86009003672483,19.59235444939804,19.615187189758938,19.71836795183572,19.736860896406515,19.57423095799251,19.562300469495963,19.36063489044285,19.154668228178544,19.338303626667194,19.56620603404829,19.568359524068825,19.272843410718515,19.145921818798797,18.9609856370302,18.88488510197749,19.186280637952922,19.424618518109884,19.363274970743625,19.046222346521883,19.00406095064823,18.955435768336244,18.965761702630616,19.27668015287965,19.51906325941606,19.525897611440257,19.307000612362618,19.277121086115145,19.08280289986782,18.84741266336597,18.950419368623464,19.11242434997646,19.14366402714049,18.97675704230722,18.991103503160573,18.85726598914255,18.712593124262433,18.887557696206926,19.034459155240103,18.96871165155135,18.72295316262795,18.776865704257887,18.786432554488915,18.757200650227166,18.89826547126552,18.880879086158536,18.67247090071818,18.446355583440656,18.673968303529236,18.86351600880425,18.88172251788471,18.947048622697782,18.87831880797618,18.776598887933318,18.787792844988232,19.19809817808912,19.33048782576465,19.036495747565368,18.714194716354587,18.410325912497996,18.315963841808035,18.471559799331448,18.981204960008935,19.085628105593813,18.717292542232176,18.412990038411596,18.257352763377796,18.335364116657033,18.555625382562013,19.016028321972758,19.092768823588948,18.849844017267188,18.79566538841676,18.831329027212675,18.873931388244017,18.844614213319666,19.023740753575417,18.967169957791015,18.760066177434197,18.787239945845194,18.831674540489537,18.81352866704235,18.7431692565524,18.95056770730736,18.940221478990196,18.71661557829905,18.66786489792422,18.68075405479436,18.77587095617225,18.951724591389286,19.41922520048689,19.565125819543887,19.368951500488695,19.271927783441555,19.208076631929295,19.193290727480917,19.208009753979766,19.49299054422996,19.510458765627515,19.292192444030935,19.25453248627337,19.254980028091385,19.256347333530623,19.24866097037137,19.51063888086659,19.514037772786587,19.264396243667218,19.16208526566602,19.093606789833608,19.070809519388803,19.098217715270863,19.419588411273807,19.465845061268332,19.240597853785957,19.166876587945783,19.12280981932978,19.063234676121358,18.947897824078805,19.067157315704563,18.9867924192351,18.827315311620207,18.998451159793426,19.233958878602873,19.33244155350563,19.210120479567895,19.238379118995258,19.08883582820995,18.91300913268771,19.074063282807423,19.25871800285078,19.276929515495624,19.093444502498553,19.101887006126113,18.946028997558926,18.74151621960261,18.860723118147035,19.043849186937244,19.144652586196415,19.114834779621493,19.28488960837869,19.233327849273635,19.05060297532292,19.13345000637182,19.280244593425454,19.409192387925323,19.505386683610574,19.865297642118865,19.965839196645707,19.790481992426695,19.713251486172954,19.625233802446388,19.576875320249023,19.603939791119274,19.931578961515566,19.93642863879151,19.604077257963255,19.43171264963058,19.425801050009138,19.603790269803028,19.831054922894484,20.189703962781753,20.085827496145598,19.67326917848983,19.580643025654407,19.78537268992902],\"type\":\"scatter\"}],                        {\"template\":{\"data\":{\"bar\":[{\"error_x\":{\"color\":\"#2a3f5f\"},\"error_y\":{\"color\":\"#2a3f5f\"},\"marker\":{\"line\":{\"color\":\"#E5ECF6\",\"width\":0.5},\"pattern\":{\"fillmode\":\"overlay\",\"size\":10,\"solidity\":0.2}},\"type\":\"bar\"}],\"barpolar\":[{\"marker\":{\"line\":{\"color\":\"#E5ECF6\",\"width\":0.5},\"pattern\":{\"fillmode\":\"overlay\",\"size\":10,\"solidity\":0.2}},\"type\":\"barpolar\"}],\"carpet\":[{\"aaxis\":{\"endlinecolor\":\"#2a3f5f\",\"gridcolor\":\"white\",\"linecolor\":\"white\",\"minorgridcolor\":\"white\",\"startlinecolor\":\"#2a3f5f\"},\"baxis\":{\"endlinecolor\":\"#2a3f5f\",\"gridcolor\":\"white\",\"linecolor\":\"white\",\"minorgridcolor\":\"white\",\"startlinecolor\":\"#2a3f5f\"},\"type\":\"carpet\"}],\"choropleth\":[{\"colorbar\":{\"outlinewidth\":0,\"ticks\":\"\"},\"type\":\"choropleth\"}],\"contour\":[{\"colorbar\":{\"outlinewidth\":0,\"ticks\":\"\"},\"colorscale\":[[0.0,\"#0d0887\"],[0.1111111111111111,\"#46039f\"],[0.2222222222222222,\"#7201a8\"],[0.3333333333333333,\"#9c179e\"],[0.4444444444444444,\"#bd3786\"],[0.5555555555555556,\"#d8576b\"],[0.6666666666666666,\"#ed7953\"],[0.7777777777777778,\"#fb9f3a\"],[0.8888888888888888,\"#fdca26\"],[1.0,\"#f0f921\"]],\"type\":\"contour\"}],\"contourcarpet\":[{\"colorbar\":{\"outlinewidth\":0,\"ticks\":\"\"},\"type\":\"contourcarpet\"}],\"heatmap\":[{\"colorbar\":{\"outlinewidth\":0,\"ticks\":\"\"},\"colorscale\":[[0.0,\"#0d0887\"],[0.1111111111111111,\"#46039f\"],[0.2222222222222222,\"#7201a8\"],[0.3333333333333333,\"#9c179e\"],[0.4444444444444444,\"#bd3786\"],[0.5555555555555556,\"#d8576b\"],[0.6666666666666666,\"#ed7953\"],[0.7777777777777778,\"#fb9f3a\"],[0.8888888888888888,\"#fdca26\"],[1.0,\"#f0f921\"]],\"type\":\"heatmap\"}],\"heatmapgl\":[{\"colorbar\":{\"outlinewidth\":0,\"ticks\":\"\"},\"colorscale\":[[0.0,\"#0d0887\"],[0.1111111111111111,\"#46039f\"],[0.2222222222222222,\"#7201a8\"],[0.3333333333333333,\"#9c179e\"],[0.4444444444444444,\"#bd3786\"],[0.5555555555555556,\"#d8576b\"],[0.6666666666666666,\"#ed7953\"],[0.7777777777777778,\"#fb9f3a\"],[0.8888888888888888,\"#fdca26\"],[1.0,\"#f0f921\"]],\"type\":\"heatmapgl\"}],\"histogram\":[{\"marker\":{\"pattern\":{\"fillmode\":\"overlay\",\"size\":10,\"solidity\":0.2}},\"type\":\"histogram\"}],\"histogram2d\":[{\"colorbar\":{\"outlinewidth\":0,\"ticks\":\"\"},\"colorscale\":[[0.0,\"#0d0887\"],[0.1111111111111111,\"#46039f\"],[0.2222222222222222,\"#7201a8\"],[0.3333333333333333,\"#9c179e\"],[0.4444444444444444,\"#bd3786\"],[0.5555555555555556,\"#d8576b\"],[0.6666666666666666,\"#ed7953\"],[0.7777777777777778,\"#fb9f3a\"],[0.8888888888888888,\"#fdca26\"],[1.0,\"#f0f921\"]],\"type\":\"histogram2d\"}],\"histogram2dcontour\":[{\"colorbar\":{\"outlinewidth\":0,\"ticks\":\"\"},\"colorscale\":[[0.0,\"#0d0887\"],[0.1111111111111111,\"#46039f\"],[0.2222222222222222,\"#7201a8\"],[0.3333333333333333,\"#9c179e\"],[0.4444444444444444,\"#bd3786\"],[0.5555555555555556,\"#d8576b\"],[0.6666666666666666,\"#ed7953\"],[0.7777777777777778,\"#fb9f3a\"],[0.8888888888888888,\"#fdca26\"],[1.0,\"#f0f921\"]],\"type\":\"histogram2dcontour\"}],\"mesh3d\":[{\"colorbar\":{\"outlinewidth\":0,\"ticks\":\"\"},\"type\":\"mesh3d\"}],\"parcoords\":[{\"line\":{\"colorbar\":{\"outlinewidth\":0,\"ticks\":\"\"}},\"type\":\"parcoords\"}],\"pie\":[{\"automargin\":true,\"type\":\"pie\"}],\"scatter\":[{\"marker\":{\"colorbar\":{\"outlinewidth\":0,\"ticks\":\"\"}},\"type\":\"scatter\"}],\"scatter3d\":[{\"line\":{\"colorbar\":{\"outlinewidth\":0,\"ticks\":\"\"}},\"marker\":{\"colorbar\":{\"outlinewidth\":0,\"ticks\":\"\"}},\"type\":\"scatter3d\"}],\"scattercarpet\":[{\"marker\":{\"colorbar\":{\"outlinewidth\":0,\"ticks\":\"\"}},\"type\":\"scattercarpet\"}],\"scattergeo\":[{\"marker\":{\"colorbar\":{\"outlinewidth\":0,\"ticks\":\"\"}},\"type\":\"scattergeo\"}],\"scattergl\":[{\"marker\":{\"colorbar\":{\"outlinewidth\":0,\"ticks\":\"\"}},\"type\":\"scattergl\"}],\"scattermapbox\":[{\"marker\":{\"colorbar\":{\"outlinewidth\":0,\"ticks\":\"\"}},\"type\":\"scattermapbox\"}],\"scatterpolar\":[{\"marker\":{\"colorbar\":{\"outlinewidth\":0,\"ticks\":\"\"}},\"type\":\"scatterpolar\"}],\"scatterpolargl\":[{\"marker\":{\"colorbar\":{\"outlinewidth\":0,\"ticks\":\"\"}},\"type\":\"scatterpolargl\"}],\"scatterternary\":[{\"marker\":{\"colorbar\":{\"outlinewidth\":0,\"ticks\":\"\"}},\"type\":\"scatterternary\"}],\"surface\":[{\"colorbar\":{\"outlinewidth\":0,\"ticks\":\"\"},\"colorscale\":[[0.0,\"#0d0887\"],[0.1111111111111111,\"#46039f\"],[0.2222222222222222,\"#7201a8\"],[0.3333333333333333,\"#9c179e\"],[0.4444444444444444,\"#bd3786\"],[0.5555555555555556,\"#d8576b\"],[0.6666666666666666,\"#ed7953\"],[0.7777777777777778,\"#fb9f3a\"],[0.8888888888888888,\"#fdca26\"],[1.0,\"#f0f921\"]],\"type\":\"surface\"}],\"table\":[{\"cells\":{\"fill\":{\"color\":\"#EBF0F8\"},\"line\":{\"color\":\"white\"}},\"header\":{\"fill\":{\"color\":\"#C8D4E3\"},\"line\":{\"color\":\"white\"}},\"type\":\"table\"}]},\"layout\":{\"annotationdefaults\":{\"arrowcolor\":\"#2a3f5f\",\"arrowhead\":0,\"arrowwidth\":1},\"autotypenumbers\":\"strict\",\"coloraxis\":{\"colorbar\":{\"outlinewidth\":0,\"ticks\":\"\"}},\"colorscale\":{\"diverging\":[[0,\"#8e0152\"],[0.1,\"#c51b7d\"],[0.2,\"#de77ae\"],[0.3,\"#f1b6da\"],[0.4,\"#fde0ef\"],[0.5,\"#f7f7f7\"],[0.6,\"#e6f5d0\"],[0.7,\"#b8e186\"],[0.8,\"#7fbc41\"],[0.9,\"#4d9221\"],[1,\"#276419\"]],\"sequential\":[[0.0,\"#0d0887\"],[0.1111111111111111,\"#46039f\"],[0.2222222222222222,\"#7201a8\"],[0.3333333333333333,\"#9c179e\"],[0.4444444444444444,\"#bd3786\"],[0.5555555555555556,\"#d8576b\"],[0.6666666666666666,\"#ed7953\"],[0.7777777777777778,\"#fb9f3a\"],[0.8888888888888888,\"#fdca26\"],[1.0,\"#f0f921\"]],\"sequentialminus\":[[0.0,\"#0d0887\"],[0.1111111111111111,\"#46039f\"],[0.2222222222222222,\"#7201a8\"],[0.3333333333333333,\"#9c179e\"],[0.4444444444444444,\"#bd3786\"],[0.5555555555555556,\"#d8576b\"],[0.6666666666666666,\"#ed7953\"],[0.7777777777777778,\"#fb9f3a\"],[0.8888888888888888,\"#fdca26\"],[1.0,\"#f0f921\"]]},\"colorway\":[\"#636efa\",\"#EF553B\",\"#00cc96\",\"#ab63fa\",\"#FFA15A\",\"#19d3f3\",\"#FF6692\",\"#B6E880\",\"#FF97FF\",\"#FECB52\"],\"font\":{\"color\":\"#2a3f5f\"},\"geo\":{\"bgcolor\":\"white\",\"lakecolor\":\"white\",\"landcolor\":\"#E5ECF6\",\"showlakes\":true,\"showland\":true,\"subunitcolor\":\"white\"},\"hoverlabel\":{\"align\":\"left\"},\"hovermode\":\"closest\",\"mapbox\":{\"style\":\"light\"},\"paper_bgcolor\":\"white\",\"plot_bgcolor\":\"#E5ECF6\",\"polar\":{\"angularaxis\":{\"gridcolor\":\"white\",\"linecolor\":\"white\",\"ticks\":\"\"},\"bgcolor\":\"#E5ECF6\",\"radialaxis\":{\"gridcolor\":\"white\",\"linecolor\":\"white\",\"ticks\":\"\"}},\"scene\":{\"xaxis\":{\"backgroundcolor\":\"#E5ECF6\",\"gridcolor\":\"white\",\"gridwidth\":2,\"linecolor\":\"white\",\"showbackground\":true,\"ticks\":\"\",\"zerolinecolor\":\"white\"},\"yaxis\":{\"backgroundcolor\":\"#E5ECF6\",\"gridcolor\":\"white\",\"gridwidth\":2,\"linecolor\":\"white\",\"showbackground\":true,\"ticks\":\"\",\"zerolinecolor\":\"white\"},\"zaxis\":{\"backgroundcolor\":\"#E5ECF6\",\"gridcolor\":\"white\",\"gridwidth\":2,\"linecolor\":\"white\",\"showbackground\":true,\"ticks\":\"\",\"zerolinecolor\":\"white\"}},\"shapedefaults\":{\"line\":{\"color\":\"#2a3f5f\"}},\"ternary\":{\"aaxis\":{\"gridcolor\":\"white\",\"linecolor\":\"white\",\"ticks\":\"\"},\"baxis\":{\"gridcolor\":\"white\",\"linecolor\":\"white\",\"ticks\":\"\"},\"bgcolor\":\"#E5ECF6\",\"caxis\":{\"gridcolor\":\"white\",\"linecolor\":\"white\",\"ticks\":\"\"}},\"title\":{\"x\":0.05},\"xaxis\":{\"automargin\":true,\"gridcolor\":\"white\",\"linecolor\":\"white\",\"ticks\":\"\",\"title\":{\"standoff\":15},\"zerolinecolor\":\"white\",\"zerolinewidth\":2},\"yaxis\":{\"automargin\":true,\"gridcolor\":\"white\",\"linecolor\":\"white\",\"ticks\":\"\",\"title\":{\"standoff\":15},\"zerolinecolor\":\"white\",\"zerolinewidth\":2}}}},                        {\"responsive\": true}                    ).then(function(){\n",
              "                            \n",
              "var gd = document.getElementById('41eabcce-4e14-4829-8079-c9ea77edc403');\n",
              "var x = new MutationObserver(function (mutations, observer) {{\n",
              "        var display = window.getComputedStyle(gd).display;\n",
              "        if (!display || display === 'none') {{\n",
              "            console.log([gd, 'removed!']);\n",
              "            Plotly.purge(gd);\n",
              "            observer.disconnect();\n",
              "        }}\n",
              "}});\n",
              "\n",
              "// Listen for the removal of the full notebook cells\n",
              "var notebookContainer = gd.closest('#notebook-container');\n",
              "if (notebookContainer) {{\n",
              "    x.observe(notebookContainer, {childList: true});\n",
              "}}\n",
              "\n",
              "// Listen for the clearing of the current output cell\n",
              "var outputEl = gd.closest('.output');\n",
              "if (outputEl) {{\n",
              "    x.observe(outputEl, {childList: true});\n",
              "}}\n",
              "\n",
              "                        })                };                            </script>        </div>\n",
              "</body>\n",
              "</html>"
            ]
          },
          "metadata": {}
        }
      ]
    },
    {
      "cell_type": "markdown",
      "source": [
        "*   Kaggle Source - [https://www.kaggle.com/code/callherro/energy-data/data)\n"
      ],
      "metadata": {
        "id": "fh8Jg8gzVDXK"
      }
    },
    {
      "cell_type": "markdown",
      "source": [
        "## Authors"
      ],
      "metadata": {
        "id": "YtZpS5iVVDXP"
      }
    },
    {
      "cell_type": "markdown",
      "source": [
        "[Jigisha Barbhaya](https://www.linkedin.com/in/jigisha-barbhaya/?utm_medium=Exinfluencer&utm_source=Exinfluencer&utm_content=000026UJ&utm_term=10006555&utm_id=NA-SkillsNetwork-Channel-SkillsNetworkGuidedProjectsIBMGPXX032NEN123-2022-01-01),\n",
        "\n",
        "[Aimé T Shangula](https://www.linkedin.com/in/aimazin)"
      ],
      "metadata": {
        "id": "LCKtuOaPVDXP"
      }
    },
    {
      "cell_type": "markdown",
      "source": [
        "## Other Contibutors"
      ],
      "metadata": {
        "id": "k7oMygIVVDXQ"
      }
    },
    {
      "cell_type": "markdown",
      "source": [
        "[Joseph Santarcangelo](https://www.linkedin.com/in/joseph-s-50398b136/?utm_medium=Exinfluencer&utm_source=Exinfluencer&utm_content=000026UJ&utm_term=10006555&utm_id=NA-SkillsNetwork-Channel-SkillsNetworkCoursesIBMDeveloperSkillsNetworkML311Coursera35714171-2022-01-01)\n"
      ],
      "metadata": {
        "id": "ooUofgL5VDXQ"
      }
    },
    {
      "cell_type": "markdown",
      "source": [
        "Copyright © 2022 IBM Corporation. All rights reserved.\n"
      ],
      "metadata": {
        "id": "GQsVk1vVVDXQ"
      }
    },
    {
      "cell_type": "code",
      "source": [],
      "metadata": {
        "id": "Av0EtRLNVDXQ"
      },
      "execution_count": 35,
      "outputs": []
    }
  ]
}