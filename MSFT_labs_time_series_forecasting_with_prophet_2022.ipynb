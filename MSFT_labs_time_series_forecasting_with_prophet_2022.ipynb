{
  "metadata": {
    "language_info": {
      "codemirror_mode": {
        "name": "python",
        "version": 3
      },
      "file_extension": ".py",
      "mimetype": "text/x-python",
      "name": "python",
      "nbconvert_exporter": "python",
      "pygments_lexer": "ipython3",
      "version": "3.8"
    },
    "kernelspec": {
      "name": "python",
      "display_name": "Pyolite",
      "language": "python"
    },
    "colab": {
      "provenance": [],
      "collapsed_sections": [
        "81WEzXUbVDW2",
        "_9JtKyppVDW3",
        "L_GTZbA_VDW4",
        "-HtG5T2gVDW4",
        "JgJcP59VVDW4",
        "QnDBEsopVDW5",
        "v5-ap0HrVDW5",
        "Uv9mLRjuVDW5",
        "2d6XLtc5VDW6",
        "fEBQ3N7FVDW6",
        "IvtMqiZtVDW6",
        "HU7qx-4eVDW7",
        "GqXcXJ72VDW8",
        "bEqhWdOGVDW8",
        "i9cfphhqVDW8",
        "IwNgEQbdVDW8",
        "cMjrW1DmVDW9",
        "y8DAoGVdVDW9",
        "gVAGiyaOVDW-",
        "y2b2MoyfVDW-",
        "Mso_bWTVVDW_",
        "q3lhhCkGVDW_",
        "uURg_i4RVDXA",
        "MOk7lFApVDXA",
        "4AoRMVO6VDXG",
        "jSuUNkHSVDXH",
        "GeHgsRRgVDXH",
        "OvgrSk4eVDXH",
        "iusKF1cfVDXI",
        "iJMfPxQFVDXI",
        "Wz1ZCQJgVDXI",
        "oFhEHrrVVDXJ",
        "5k-wZws1VDXJ",
        "JPAgaQIdVDXJ",
        "OsRX2T8YVDXJ",
        "MUM0zk-LVDXK",
        "YtZpS5iVVDXP",
        "k7oMygIVVDXQ"
      ],
      "include_colab_link": true
    }
  },
  "nbformat_minor": 0,
  "nbformat": 4,
  "cells": [
    {
      "cell_type": "markdown",
      "metadata": {
        "id": "view-in-github",
        "colab_type": "text"
      },
      "source": [
        "<a href=\"https://colab.research.google.com/github/aimazin/Stock_predictions/blob/main/MSFT_labs_time_series_forecasting_with_prophet_2022.ipynb\" target=\"_parent\"><img src=\"https://colab.research.google.com/assets/colab-badge.svg\" alt=\"Open In Colab\"/></a>"
      ]
    },
    {
      "cell_type": "markdown",
      "source": [
        "<center>\n",
        "    <img src=\"https://cf-courses-data.s3.us.cloud-object-storage.appdomain.cloud/assets/logos/SN_web_lightmode.png\" width=\"300\" alt=\"cognitiveclass.ai logo\">\n",
        "</center>\n"
      ],
      "metadata": {
        "id": "i7TMc3XqVDWw"
      }
    },
    {
      "cell_type": "markdown",
      "source": [
        "The Library Prophet makes forecasting with time series a lot easier. Before the introduction of libraries like  Scikit-learn, coding a machine learning pipeline was quite tricky; now, all it takes is a few lines of code. Prophet kind of does for time series what Scikit-learn did for machine learning. We say almost because time seris analysis is usually more complicated than Machine learning, and Prophet makes your job a lot easyer \n"
      ],
      "metadata": {
        "id": "UywkAun8VDWy"
      }
    },
    {
      "cell_type": "markdown",
      "source": [
        "In this Guided Project, we will go through one of the time series forecasting models, Prophet. We shall comprehend what prophet is and its benefits.\n",
        " - We'll go over a case studies.\n",
        " 1. Time series analysis of Microsoft Stock Prices(2003-2005) \n",
        "     - In this use case we are analyzing the Stock Price data that is available for the years 2003 and 2005, and we will be predicting the Stock Price for 150 more days.\n",
        " \n"
      ],
      "metadata": {
        "id": "Kha-GSY0VDWz"
      }
    },
    {
      "cell_type": "markdown",
      "source": [
        "## **Table of Contents**\n",
        "\n",
        "<ol>\n",
        "    <li><a href=\"https://#Time-series-Analysis\">Time series Analysis</a></li>\n",
        "    <li><a href=\"https://#Intoduction-to-Prophet\">Introduction to Prophet</a></li>\n",
        "     <li><a href=\"https://#benifits\">Benifits of Prophet</a></li>\n",
        "    <li><a href=\"https://#Setup\">Setup</a></li>\n",
        "    <ol><li><a href=\"https://#Installing-Required-Libraries\">Installing Required Libraries</a></li>\n",
        "    <li><a href=\"https://#Importing-Required-Libraries\">Importing Required Libraries</a></li></ol>  \n",
        "    <li><a href=\"https://#case-study\">Case Study</a></li>\n",
        "    <ol>\n",
        "        <li><a href=\"https://#Case-Study-1\">Time series analysis of Microsoft Stock Prices(2003-5)  </a></li></ol>\n",
        "<li><a href=\"https://#Conclusion\">Conclusion</a>\n",
        "        \n"
      ],
      "metadata": {
        "id": "nRCzecQWVDWz"
      }
    },
    {
      "cell_type": "markdown",
      "source": [
        "### Time Series Analysis:\n",
        "\n",
        " - Time series data is a collection of observations of measurements gathered over regular or irregular intervals of time.\n",
        " - Time series data have a natural temporal ordering\n",
        " - E.g. Sales data for a specific product at different times of the year.\n",
        " \n"
      ],
      "metadata": {
        "id": "IF0ZLHEZVDW0"
      }
    },
    {
      "cell_type": "markdown",
      "source": [
        "<center><img src=\"https://cf-courses-data.s3.us.cloud-object-storage.appdomain.cloud/IBM-GPXX032NEN/images/time_series_img.jpg\" width=\"700\" height=\"400\"></center>\n"
      ],
      "metadata": {
        "id": "Op2X8c2jVDW0"
      }
    },
    {
      "cell_type": "markdown",
      "source": [
        "### Introduction to Prophet\n",
        " - Prophet is a Python library that is open source and was created by Facebook primarily for time series forecasting.\n",
        " - It has the capability of automatically determining the right hyperparameters for the model.\n",
        " - It promotes insightful seasonal patterns.\n",
        " - It can fit time-series data having non-linearity in trends as well as holiday effects.\n",
        " - It has R and Python APIs for time-series forecasting\n",
        " \n"
      ],
      "metadata": {
        "id": "FrSNWm0vVDW0"
      }
    },
    {
      "cell_type": "markdown",
      "source": [
        "<center><img src=\"https://cdn.analyticsvidhya.com/wp-content/uploads/2018/05/tumblr_inline_omh3tnv5zk1r1x9ql_500.png\" width=\"700\" height=\"400\"></center> \n"
      ],
      "metadata": {
        "id": "6tpAl0mpVDW0"
      }
    },
    {
      "cell_type": "markdown",
      "source": [
        "### Benefits of using prophet\n",
        "1. It's automatic as well as quick. For manual time series analysis and decomposition, it saves time.\n",
        "2. It generates reliable and precise models.\n",
        "3. It can deal with outliers and missing values.\n",
        "4. It can manage the effects of seasonality and holidays.\n",
        "5. It produces a tunable model.\n"
      ],
      "metadata": {
        "id": "7DTesnCDVDW0"
      }
    },
    {
      "cell_type": "markdown",
      "source": [
        " \n"
      ],
      "metadata": {
        "id": "Kt7JmUERVDW1"
      }
    },
    {
      "cell_type": "markdown",
      "source": [
        "## Structure of Prophet\n"
      ],
      "metadata": {
        "id": "Bg3p6K5FVDW1"
      }
    },
    {
      "cell_type": "markdown",
      "source": [
        "<center><img src=\"https://cf-courses-data.s3.us.cloud-object-storage.appdomain.cloud/IBM-GPXX032NEN/images/prophet_structure-ImResizer.jpg\" width=\"700\" height=\"250\"></center>\n"
      ],
      "metadata": {
        "id": "IIa0Hgw2VDW1"
      }
    },
    {
      "cell_type": "markdown",
      "source": [
        "Prophet is particularly good at modeling time series that have multiple seasonalities and doesn’t face the drawbacks of other algorithms. At its core is the sum of three functions of time plus an error term: \n",
        "1) growth g(t)\n",
        "2) seasonality s(t)\n",
        "3) holidays h(t) , and error e_t :\n"
      ],
      "metadata": {
        "id": "O93INDPZVDW2"
      }
    },
    {
      "cell_type": "markdown",
      "source": [
        "<center><img src=\"https://cf-courses-data.s3.us.cloud-object-storage.appdomain.cloud/IBM-GPXX032NEN/images/formula_prophet.png\" width=\"500\" height=\"350\"></center>\n"
      ],
      "metadata": {
        "id": "xNJkU406VDW2"
      }
    },
    {
      "cell_type": "markdown",
      "source": [
        "An Additive Model above can absorb the absence of seasonal effects by having s(t) = 0, as the other terms of the equation have no impact to predict future values in y(t). Unlike, fixed and linear regression models like Fama.\n",
        "Prophet is a modular and non — linear regression model that separates and recombines a single dataset of history. \n",
        "Feature Engineering when features explain a future value or when factors drive a forecast are removed.\n"
      ],
      "metadata": {
        "id": "EYzmQpPWVDW2"
      }
    },
    {
      "cell_type": "markdown",
      "source": [
        "## Setup\n",
        "\n"
      ],
      "metadata": {
        "id": "81WEzXUbVDW2"
      }
    },
    {
      "cell_type": "markdown",
      "source": [
        "For this lab, we will be using the following libraries:\n",
        "\n",
        "*   [`pandas`](https://pandas.pydata.org/?utm_medium=Exinfluencer&utm_source=Exinfluencer&utm_content=000026UJ&utm_term=10006555&utm_id=NA-SkillsNetwork-Channel-SkillsNetworkCoursesIBMML0187ENSkillsNetwork31430127-2021-01-01) for managing the data.\n",
        "*   [`numpy`](https://numpy.org/?utm_medium=Exinfluencer&utm_source=Exinfluencer&utm_content=000026UJ&utm_term=10006555&utm_id=NA-SkillsNetwork-Channel-SkillsNetworkCoursesIBMML0187ENSkillsNetwork31430127-2021-01-01) for mathematical operations.\n",
        "*   [`sklearn`](https://scikit-learn.org/stable/?utm_medium=Exinfluencer&utm_source=Exinfluencer&utm_content=000026UJ&utm_term=10006555&utm_id=NA-SkillsNetwork-Channel-SkillsNetworkCoursesIBMML0187ENSkillsNetwork31430127-2021-01-01) for machine learning and machine-learning-pipeline related functions.\n",
        "*   [`matplotlib`](https://matplotlib.org/?utm_medium=Exinfluencer&utm_source=Exinfluencer&utm_content=000026UJ&utm_term=10006555&utm_id=NA-SkillsNetwork-Channel-SkillsNetworkCoursesIBMML0187ENSkillsNetwork31430127-2021-01-01) for additional plotting tools.\n",
        "*   [`Plotly`](https://matplotlib.org/?utm_medium=Exinfluencer&utm_source=Exinfluencer&utm_content=000026UJ&utm_term=10006555&utm_id=NA-SkillsNetwork-Channel-SkillsNetworkCoursesIBMML0187ENSkillsNetwork31430127-2021-01-01) for additional plotting tools.\n"
      ],
      "metadata": {
        "id": "c_2wBxO-VDW2"
      }
    },
    {
      "cell_type": "markdown",
      "source": [
        "### Installing Required Libraries\n",
        "\n",
        "The following required libraries are pre-installed in the Skills Network Labs environment. However, if you run this notebook commands in a different Jupyter environment (e.g. Watson Studio or Ananconda), you will need to install these libraries by removing the `#` sign before `!mamba` in the code cell below.\n",
        "\n"
      ],
      "metadata": {
        "id": "_9JtKyppVDW3"
      }
    },
    {
      "cell_type": "code",
      "source": [
        "# All Libraries required for this lab are listed below. The libraries pre-installed on Skills Network Labs are commented.\n",
        "#!pip install -qy pandas==1.3.4 numpy==1.21.4 seaborn==0.9.0 matplotlib==3.5.0 scikit-learn==0.20.1\n",
        "# Note: If your environment doesn't support \"!mamba install\", use \"!pip install\""
      ],
      "metadata": {
        "trusted": true,
        "id": "m68VRYs3VDW3"
      },
      "execution_count": null,
      "outputs": []
    },
    {
      "cell_type": "markdown",
      "source": [
        "The following required libraries are **not** pre-installed in the Skills Network Labs environment. **You will need to run the following cell** to install them:\n"
      ],
      "metadata": {
        "id": "XJ4H4DK3VDW3"
      }
    },
    {
      "cell_type": "markdown",
      "source": [
        "### After running below command Restart the kernel\n"
      ],
      "metadata": {
        "id": "L_GTZbA_VDW4"
      }
    },
    {
      "cell_type": "code",
      "source": [
        "!pip install --upgrade nbformat"
      ],
      "metadata": {
        "trusted": true,
        "colab": {
          "base_uri": "https://localhost:8080/"
        },
        "id": "McJ_AO7xVDW4",
        "outputId": "63b551db-9567-490b-e332-7e0b946751a2"
      },
      "execution_count": null,
      "outputs": [
        {
          "output_type": "stream",
          "name": "stdout",
          "text": [
            "Looking in indexes: https://pypi.org/simple, https://us-python.pkg.dev/colab-wheels/public/simple/\n",
            "Requirement already satisfied: nbformat in /usr/local/lib/python3.8/dist-packages (5.7.0)\n",
            "Requirement already satisfied: jsonschema>=2.6 in /usr/local/lib/python3.8/dist-packages (from nbformat) (4.3.3)\n",
            "Requirement already satisfied: fastjsonschema in /usr/local/lib/python3.8/dist-packages (from nbformat) (2.16.2)\n",
            "Requirement already satisfied: jupyter-core in /usr/local/lib/python3.8/dist-packages (from nbformat) (4.11.2)\n",
            "Requirement already satisfied: traitlets>=5.1 in /usr/local/lib/python3.8/dist-packages (from nbformat) (5.1.1)\n",
            "Requirement already satisfied: pyrsistent!=0.17.0,!=0.17.1,!=0.17.2,>=0.14.0 in /usr/local/lib/python3.8/dist-packages (from jsonschema>=2.6->nbformat) (0.19.2)\n",
            "Requirement already satisfied: attrs>=17.4.0 in /usr/local/lib/python3.8/dist-packages (from jsonschema>=2.6->nbformat) (22.1.0)\n",
            "Requirement already satisfied: importlib-resources>=1.4.0 in /usr/local/lib/python3.8/dist-packages (from jsonschema>=2.6->nbformat) (5.10.0)\n",
            "Requirement already satisfied: zipp>=3.1.0 in /usr/local/lib/python3.8/dist-packages (from importlib-resources>=1.4.0->jsonschema>=2.6->nbformat) (3.10.0)\n"
          ]
        }
      ]
    },
    {
      "cell_type": "markdown",
      "source": [
        "### Note : Restart the Kernel After updating nbformat\n"
      ],
      "metadata": {
        "id": "-HtG5T2gVDW4"
      }
    },
    {
      "cell_type": "code",
      "source": [
        "!pip install yfinance"
      ],
      "metadata": {
        "colab": {
          "base_uri": "https://localhost:8080/",
          "height": 520
        },
        "id": "nKSWNUbSfMUw",
        "outputId": "23981679-54fd-4501-8b4b-a9e962576462"
      },
      "execution_count": null,
      "outputs": [
        {
          "output_type": "stream",
          "name": "stdout",
          "text": [
            "Looking in indexes: https://pypi.org/simple, https://us-python.pkg.dev/colab-wheels/public/simple/\n",
            "Collecting yfinance\n",
            "  Downloading yfinance-0.1.87-py2.py3-none-any.whl (29 kB)\n",
            "Requirement already satisfied: multitasking>=0.0.7 in /usr/local/lib/python3.8/dist-packages (from yfinance) (0.0.11)\n",
            "Requirement already satisfied: pandas>=0.24.0 in /usr/local/lib/python3.8/dist-packages (from yfinance) (1.3.5)\n",
            "Requirement already satisfied: appdirs>=1.4.4 in /usr/local/lib/python3.8/dist-packages (from yfinance) (1.4.4)\n",
            "Requirement already satisfied: numpy>=1.15 in /usr/local/lib/python3.8/dist-packages (from yfinance) (1.21.6)\n",
            "Requirement already satisfied: lxml>=4.5.1 in /usr/local/lib/python3.8/dist-packages (from yfinance) (4.9.1)\n",
            "Collecting requests>=2.26\n",
            "  Downloading requests-2.28.1-py3-none-any.whl (62 kB)\n",
            "\u001b[K     |████████████████████████████████| 62 kB 1.2 MB/s \n",
            "\u001b[?25hRequirement already satisfied: pytz>=2017.3 in /usr/local/lib/python3.8/dist-packages (from pandas>=0.24.0->yfinance) (2022.6)\n",
            "Requirement already satisfied: python-dateutil>=2.7.3 in /usr/local/lib/python3.8/dist-packages (from pandas>=0.24.0->yfinance) (2.8.2)\n",
            "Requirement already satisfied: six>=1.5 in /usr/local/lib/python3.8/dist-packages (from python-dateutil>=2.7.3->pandas>=0.24.0->yfinance) (1.15.0)\n",
            "Requirement already satisfied: urllib3<1.27,>=1.21.1 in /usr/local/lib/python3.8/dist-packages (from requests>=2.26->yfinance) (1.24.3)\n",
            "Requirement already satisfied: charset-normalizer<3,>=2 in /usr/local/lib/python3.8/dist-packages (from requests>=2.26->yfinance) (2.1.1)\n",
            "Requirement already satisfied: idna<4,>=2.5 in /usr/local/lib/python3.8/dist-packages (from requests>=2.26->yfinance) (2.10)\n",
            "Requirement already satisfied: certifi>=2017.4.17 in /usr/local/lib/python3.8/dist-packages (from requests>=2.26->yfinance) (2022.9.24)\n",
            "Installing collected packages: requests, yfinance\n",
            "  Attempting uninstall: requests\n",
            "    Found existing installation: requests 2.23.0\n",
            "    Uninstalling requests-2.23.0:\n",
            "      Successfully uninstalled requests-2.23.0\n",
            "Successfully installed requests-2.28.1 yfinance-0.1.87\n"
          ]
        },
        {
          "output_type": "display_data",
          "data": {
            "application/vnd.colab-display-data+json": {
              "pip_warning": {
                "packages": [
                  "requests"
                ]
              }
            }
          },
          "metadata": {}
        }
      ]
    },
    {
      "cell_type": "code",
      "source": [
        "!pip install prophet"
      ],
      "metadata": {
        "trusted": true,
        "colab": {
          "base_uri": "https://localhost:8080/"
        },
        "id": "eTKicwzpVDW4",
        "outputId": "05f3491e-352e-4d00-facf-ceb048f498c1"
      },
      "execution_count": null,
      "outputs": [
        {
          "output_type": "stream",
          "name": "stdout",
          "text": [
            "Looking in indexes: https://pypi.org/simple, https://us-python.pkg.dev/colab-wheels/public/simple/\n",
            "Requirement already satisfied: prophet in /usr/local/lib/python3.8/dist-packages (1.1.1)\n",
            "Requirement already satisfied: numpy>=1.15.4 in /usr/local/lib/python3.8/dist-packages (from prophet) (1.21.6)\n",
            "Requirement already satisfied: pandas>=1.0.4 in /usr/local/lib/python3.8/dist-packages (from prophet) (1.3.5)\n",
            "Requirement already satisfied: setuptools-git>=1.2 in /usr/local/lib/python3.8/dist-packages (from prophet) (1.2)\n",
            "Requirement already satisfied: matplotlib>=2.0.0 in /usr/local/lib/python3.8/dist-packages (from prophet) (3.2.2)\n",
            "Requirement already satisfied: LunarCalendar>=0.0.9 in /usr/local/lib/python3.8/dist-packages (from prophet) (0.0.9)\n",
            "Requirement already satisfied: holidays>=0.14.2 in /usr/local/lib/python3.8/dist-packages (from prophet) (0.17)\n",
            "Requirement already satisfied: tqdm>=4.36.1 in /usr/local/lib/python3.8/dist-packages (from prophet) (4.64.1)\n",
            "Requirement already satisfied: python-dateutil>=2.8.0 in /usr/local/lib/python3.8/dist-packages (from prophet) (2.8.2)\n",
            "Requirement already satisfied: convertdate>=2.1.2 in /usr/local/lib/python3.8/dist-packages (from prophet) (2.4.0)\n",
            "Requirement already satisfied: cmdstanpy>=1.0.4 in /usr/local/lib/python3.8/dist-packages (from prophet) (1.0.8)\n",
            "Requirement already satisfied: setuptools>=42 in /usr/local/lib/python3.8/dist-packages (from prophet) (57.4.0)\n",
            "Requirement already satisfied: wheel>=0.37.0 in /usr/local/lib/python3.8/dist-packages (from prophet) (0.38.4)\n",
            "Requirement already satisfied: pymeeus<=1,>=0.3.13 in /usr/local/lib/python3.8/dist-packages (from convertdate>=2.1.2->prophet) (0.5.11)\n",
            "Requirement already satisfied: hijri-converter in /usr/local/lib/python3.8/dist-packages (from holidays>=0.14.2->prophet) (2.2.4)\n",
            "Requirement already satisfied: korean-lunar-calendar in /usr/local/lib/python3.8/dist-packages (from holidays>=0.14.2->prophet) (0.3.1)\n",
            "Requirement already satisfied: pytz in /usr/local/lib/python3.8/dist-packages (from LunarCalendar>=0.0.9->prophet) (2022.6)\n",
            "Requirement already satisfied: ephem>=3.7.5.3 in /usr/local/lib/python3.8/dist-packages (from LunarCalendar>=0.0.9->prophet) (4.1.3)\n",
            "Requirement already satisfied: pyparsing!=2.0.4,!=2.1.2,!=2.1.6,>=2.0.1 in /usr/local/lib/python3.8/dist-packages (from matplotlib>=2.0.0->prophet) (3.0.9)\n",
            "Requirement already satisfied: cycler>=0.10 in /usr/local/lib/python3.8/dist-packages (from matplotlib>=2.0.0->prophet) (0.11.0)\n",
            "Requirement already satisfied: kiwisolver>=1.0.1 in /usr/local/lib/python3.8/dist-packages (from matplotlib>=2.0.0->prophet) (1.4.4)\n",
            "Requirement already satisfied: six>=1.5 in /usr/local/lib/python3.8/dist-packages (from python-dateutil>=2.8.0->prophet) (1.15.0)\n"
          ]
        }
      ]
    },
    {
      "cell_type": "markdown",
      "source": [
        "# About Dataset\n",
        "## Context\n",
        "Microsoft Daily Closing Stock price Data accessed using Yahoo's yfinance Api \n"
      ],
      "metadata": {
        "id": "caNreBA3VDW4"
      }
    },
    {
      "cell_type": "markdown",
      "source": [
        "## Content\n",
        "Data is in the form of a time series for a period of 24 months beginning from 6th Spt 2003 till 6th Sept 2005.\n",
        "\n",
        "    Rows are indexed with dates and columns represent states.\n",
        "    Rows and columns put together, each datapoint reflects the power consumed in Mega Units (MU) by the given state (column) at the given date (row).\n"
      ],
      "metadata": {
        "id": "JgJcP59VVDW4"
      }
    },
    {
      "cell_type": "markdown",
      "source": [
        "*   Kaggle Source - [https://www.kaggle.com/datasets/twinkle0705/state-wise-power-consumption-in-india)\n"
      ],
      "metadata": {
        "id": "dnNzOx0jVDW4"
      }
    },
    {
      "cell_type": "markdown",
      "source": [
        "## Importing Required Libraries\n",
        "\n",
        "*We recommend you import all required libraries in one place (here):*\n"
      ],
      "metadata": {
        "id": "QnDBEsopVDW5"
      }
    },
    {
      "cell_type": "code",
      "source": [
        "import pandas as pd\n",
        "from prophet import Prophet\n",
        "from matplotlib import pyplot\n",
        "from matplotlib.pyplot import figure\n",
        "from sklearn.metrics import mean_absolute_error\n",
        "import plotly.express as px\n",
        "import plotly.graph_objects as go\n",
        "import yfinance as yf\n"
      ],
      "metadata": {
        "id": "FOlNHrLOVDW5"
      },
      "execution_count": null,
      "outputs": []
    },
    {
      "cell_type": "markdown",
      "source": [
        "# CASE STUDY 1 - Time series analysis of power consumption in India(2019-20)\n"
      ],
      "metadata": {
        "id": "DXeO1Y7uVDW5"
      }
    },
    {
      "cell_type": "markdown",
      "source": [
        "### Read CSV file\n"
      ],
      "metadata": {
        "id": "v5-ap0HrVDW5"
      }
    },
    {
      "cell_type": "markdown",
      "source": [
        "Read a comma-separated values (csv) file into DataFrame.\n",
        "\n",
        "<code>Parameters</code>\n",
        "filepath_or_bufferstr, path object or file-like object Any valid string path is acceptable. \n",
        "\n"
      ],
      "metadata": {
        "id": "wlOXkptxVDW5"
      }
    },
    {
      "cell_type": "code",
      "source": [
        "msft = yf.Ticker('MSFT')\n",
        "#msft = msft.history(start='2001-07-06',end='2022-07-06',interval='1d').Close\n",
        "df = msft.history(start='2002-07-06',end='2005-07-06',interval='1d').Close"
      ],
      "metadata": {
        "id": "mzadajZsVDW5"
      },
      "execution_count": null,
      "outputs": []
    },
    {
      "cell_type": "markdown",
      "source": [
        "### Print the dataset information\n"
      ],
      "metadata": {
        "id": "Uv9mLRjuVDW5"
      }
    },
    {
      "cell_type": "markdown",
      "source": [
        "```DataFrame_Name.head``` function returns the first n rows for the object based on position. \n",
        "\n",
        " It is useful for quickly testing if your object has the right type of data in it.\n",
        "\n",
        " For negative values of n, this function returns all rows except the last |n| rows, equivalent to df[:n]\n"
      ],
      "metadata": {
        "id": "HM75m_5WVDW5"
      }
    },
    {
      "cell_type": "code",
      "source": [
        "df.head()"
      ],
      "metadata": {
        "colab": {
          "base_uri": "https://localhost:8080/"
        },
        "id": "AJ-5dv0YVDW5",
        "outputId": "f65cc5b0-e274-4c53-f633-b07c591db694"
      },
      "execution_count": null,
      "outputs": [
        {
          "output_type": "execute_result",
          "data": {
            "text/plain": [
              "Date\n",
              "2002-07-08 00:00:00-04:00    16.549686\n",
              "2002-07-09 00:00:00-04:00    16.640388\n",
              "2002-07-10 00:00:00-04:00    16.337049\n",
              "2002-07-11 00:00:00-04:00    16.546576\n",
              "2002-07-12 00:00:00-04:00    16.218204\n",
              "Name: Close, dtype: float64"
            ]
          },
          "metadata": {},
          "execution_count": 58
        }
      ]
    },
    {
      "cell_type": "markdown",
      "source": [
        "\n",
        "```DataFrame_Name.shape``` gives us the ```dimension``` of the dataset (columns, rows) therefor, we have six timer series (rows) of length 16599 columns\n"
      ],
      "metadata": {
        "id": "_sem78vfVDW6"
      }
    },
    {
      "cell_type": "code",
      "source": [
        "df.shape"
      ],
      "metadata": {
        "colab": {
          "base_uri": "https://localhost:8080/"
        },
        "id": "VVVBQO6XVDW6",
        "outputId": "a93c1908-5fa4-4796-c980-46edb10ef805"
      },
      "execution_count": null,
      "outputs": [
        {
          "output_type": "execute_result",
          "data": {
            "text/plain": [
              "(755,)"
            ]
          },
          "metadata": {},
          "execution_count": 57
        }
      ]
    },
    {
      "cell_type": "markdown",
      "source": [
        "### Check All column Datatypes\n"
      ],
      "metadata": {
        "id": "2d6XLtc5VDW6"
      }
    },
    {
      "cell_type": "markdown",
      "source": [
        "```dtypes``` function returns a Series with the data type of each column. \n",
        "\n",
        "The result’s index is the original DataFrame’s columns. Columns with mixed types are stored with the object dtype.\n"
      ],
      "metadata": {
        "id": "VeV395NqVDW6"
      }
    },
    {
      "cell_type": "code",
      "source": [
        "df.dtypes"
      ],
      "metadata": {
        "colab": {
          "base_uri": "https://localhost:8080/"
        },
        "id": "1Wy82F8UVDW6",
        "outputId": "ea1421bc-ceab-43ef-fddf-da5fb14feac1"
      },
      "execution_count": null,
      "outputs": [
        {
          "output_type": "execute_result",
          "data": {
            "text/plain": [
              "States        object\n",
              "Regions       object\n",
              "latitude     float64\n",
              "longitude    float64\n",
              "Dates         object\n",
              "Usage        float64\n",
              "dtype: object"
            ]
          },
          "metadata": {},
          "execution_count": 10
        }
      ]
    },
    {
      "cell_type": "markdown",
      "source": [
        "Date has to be taken out of index"
      ],
      "metadata": {
        "id": "Yvp14iZuqqsr"
      }
    },
    {
      "cell_type": "code",
      "source": [
        "df = df.reset_index()\n",
        "df.head()"
      ],
      "metadata": {
        "colab": {
          "base_uri": "https://localhost:8080/",
          "height": 206
        },
        "id": "QycykJmrhpaH",
        "outputId": "5d18b923-9ada-4fd9-8f7b-1b8a90a48710"
      },
      "execution_count": null,
      "outputs": [
        {
          "output_type": "execute_result",
          "data": {
            "text/plain": [
              "                       Date      Close\n",
              "0 2002-07-08 00:00:00-04:00  16.549696\n",
              "1 2002-07-09 00:00:00-04:00  16.640390\n",
              "2 2002-07-10 00:00:00-04:00  16.337044\n",
              "3 2002-07-11 00:00:00-04:00  16.546577\n",
              "4 2002-07-12 00:00:00-04:00  16.218204"
            ],
            "text/html": [
              "\n",
              "  <div id=\"df-d861f235-857c-4dec-b7fc-3a3394461742\">\n",
              "    <div class=\"colab-df-container\">\n",
              "      <div>\n",
              "<style scoped>\n",
              "    .dataframe tbody tr th:only-of-type {\n",
              "        vertical-align: middle;\n",
              "    }\n",
              "\n",
              "    .dataframe tbody tr th {\n",
              "        vertical-align: top;\n",
              "    }\n",
              "\n",
              "    .dataframe thead th {\n",
              "        text-align: right;\n",
              "    }\n",
              "</style>\n",
              "<table border=\"1\" class=\"dataframe\">\n",
              "  <thead>\n",
              "    <tr style=\"text-align: right;\">\n",
              "      <th></th>\n",
              "      <th>Date</th>\n",
              "      <th>Close</th>\n",
              "    </tr>\n",
              "  </thead>\n",
              "  <tbody>\n",
              "    <tr>\n",
              "      <th>0</th>\n",
              "      <td>2002-07-08 00:00:00-04:00</td>\n",
              "      <td>16.549696</td>\n",
              "    </tr>\n",
              "    <tr>\n",
              "      <th>1</th>\n",
              "      <td>2002-07-09 00:00:00-04:00</td>\n",
              "      <td>16.640390</td>\n",
              "    </tr>\n",
              "    <tr>\n",
              "      <th>2</th>\n",
              "      <td>2002-07-10 00:00:00-04:00</td>\n",
              "      <td>16.337044</td>\n",
              "    </tr>\n",
              "    <tr>\n",
              "      <th>3</th>\n",
              "      <td>2002-07-11 00:00:00-04:00</td>\n",
              "      <td>16.546577</td>\n",
              "    </tr>\n",
              "    <tr>\n",
              "      <th>4</th>\n",
              "      <td>2002-07-12 00:00:00-04:00</td>\n",
              "      <td>16.218204</td>\n",
              "    </tr>\n",
              "  </tbody>\n",
              "</table>\n",
              "</div>\n",
              "      <button class=\"colab-df-convert\" onclick=\"convertToInteractive('df-d861f235-857c-4dec-b7fc-3a3394461742')\"\n",
              "              title=\"Convert this dataframe to an interactive table.\"\n",
              "              style=\"display:none;\">\n",
              "        \n",
              "  <svg xmlns=\"http://www.w3.org/2000/svg\" height=\"24px\"viewBox=\"0 0 24 24\"\n",
              "       width=\"24px\">\n",
              "    <path d=\"M0 0h24v24H0V0z\" fill=\"none\"/>\n",
              "    <path d=\"M18.56 5.44l.94 2.06.94-2.06 2.06-.94-2.06-.94-.94-2.06-.94 2.06-2.06.94zm-11 1L8.5 8.5l.94-2.06 2.06-.94-2.06-.94L8.5 2.5l-.94 2.06-2.06.94zm10 10l.94 2.06.94-2.06 2.06-.94-2.06-.94-.94-2.06-.94 2.06-2.06.94z\"/><path d=\"M17.41 7.96l-1.37-1.37c-.4-.4-.92-.59-1.43-.59-.52 0-1.04.2-1.43.59L10.3 9.45l-7.72 7.72c-.78.78-.78 2.05 0 2.83L4 21.41c.39.39.9.59 1.41.59.51 0 1.02-.2 1.41-.59l7.78-7.78 2.81-2.81c.8-.78.8-2.07 0-2.86zM5.41 20L4 18.59l7.72-7.72 1.47 1.35L5.41 20z\"/>\n",
              "  </svg>\n",
              "      </button>\n",
              "      \n",
              "  <style>\n",
              "    .colab-df-container {\n",
              "      display:flex;\n",
              "      flex-wrap:wrap;\n",
              "      gap: 12px;\n",
              "    }\n",
              "\n",
              "    .colab-df-convert {\n",
              "      background-color: #E8F0FE;\n",
              "      border: none;\n",
              "      border-radius: 50%;\n",
              "      cursor: pointer;\n",
              "      display: none;\n",
              "      fill: #1967D2;\n",
              "      height: 32px;\n",
              "      padding: 0 0 0 0;\n",
              "      width: 32px;\n",
              "    }\n",
              "\n",
              "    .colab-df-convert:hover {\n",
              "      background-color: #E2EBFA;\n",
              "      box-shadow: 0px 1px 2px rgba(60, 64, 67, 0.3), 0px 1px 3px 1px rgba(60, 64, 67, 0.15);\n",
              "      fill: #174EA6;\n",
              "    }\n",
              "\n",
              "    [theme=dark] .colab-df-convert {\n",
              "      background-color: #3B4455;\n",
              "      fill: #D2E3FC;\n",
              "    }\n",
              "\n",
              "    [theme=dark] .colab-df-convert:hover {\n",
              "      background-color: #434B5C;\n",
              "      box-shadow: 0px 1px 3px 1px rgba(0, 0, 0, 0.15);\n",
              "      filter: drop-shadow(0px 1px 2px rgba(0, 0, 0, 0.3));\n",
              "      fill: #FFFFFF;\n",
              "    }\n",
              "  </style>\n",
              "\n",
              "      <script>\n",
              "        const buttonEl =\n",
              "          document.querySelector('#df-d861f235-857c-4dec-b7fc-3a3394461742 button.colab-df-convert');\n",
              "        buttonEl.style.display =\n",
              "          google.colab.kernel.accessAllowed ? 'block' : 'none';\n",
              "\n",
              "        async function convertToInteractive(key) {\n",
              "          const element = document.querySelector('#df-d861f235-857c-4dec-b7fc-3a3394461742');\n",
              "          const dataTable =\n",
              "            await google.colab.kernel.invokeFunction('convertToInteractive',\n",
              "                                                     [key], {});\n",
              "          if (!dataTable) return;\n",
              "\n",
              "          const docLinkHtml = 'Like what you see? Visit the ' +\n",
              "            '<a target=\"_blank\" href=https://colab.research.google.com/notebooks/data_table.ipynb>data table notebook</a>'\n",
              "            + ' to learn more about interactive tables.';\n",
              "          element.innerHTML = '';\n",
              "          dataTable['output_type'] = 'display_data';\n",
              "          await google.colab.output.renderOutput(dataTable, element);\n",
              "          const docLink = document.createElement('div');\n",
              "          docLink.innerHTML = docLinkHtml;\n",
              "          element.appendChild(docLink);\n",
              "        }\n",
              "      </script>\n",
              "    </div>\n",
              "  </div>\n",
              "  "
            ]
          },
          "metadata": {},
          "execution_count": 76
        }
      ]
    },
    {
      "cell_type": "markdown",
      "source": [
        "## Format Dates column into datetime type\n"
      ],
      "metadata": {
        "id": "fEBQ3N7FVDW6"
      }
    },
    {
      "cell_type": "markdown",
      "source": [
        "A ```to_datetime``` function converts a scalar, array-like, Series or DataFrame/dict-like to a pandas datetime object.\n",
        "\n",
        "Here we have convert ```Dates``` column to ```datetime``` object as it was in ```object``` type and for prophet model we need datetime type.\n",
        "\n",
        "The timezone also has to be removed from the date so  a function has to be applied to that Date Series.\n"
      ],
      "metadata": {
        "id": "Q5joh4rRVDW6"
      }
    },
    {
      "cell_type": "code",
      "source": [
        "df['Date'] = pd.to_datetime(df['Date'].astype(str), format='%Y/%m/%d')\n",
        "\n",
        "def remove_timezone(dt):\n",
        "   \n",
        "    # HERE `dt` is a python datetime\n",
        "    # object that used .replace() method\n",
        "    return dt.replace(tzinfo=None)\n",
        " \n",
        "# APPLY THE ABOVE FUNCTION TO\n",
        "# REMOVE THE TIMEZONE INFORMATION\n",
        "# FROM EACH RECORD OF TIMESTAMP COLUMN IN DATAFRAME\n",
        "df['Date'] = df['Date'].apply(remove_timezone)"
      ],
      "metadata": {
        "id": "ErO1OxGhVDW6"
      },
      "execution_count": null,
      "outputs": []
    },
    {
      "cell_type": "markdown",
      "source": [
        "## Group by Dates\n"
      ],
      "metadata": {
        "id": "IvtMqiZtVDW6"
      }
    },
    {
      "cell_type": "markdown",
      "source": [
        "A ```groupby``` operation involves some combination of splitting the object, applying a function, and combining the results. \n",
        "\n",
        "\n",
        "Here we  ```groupby``` our dataframe using the ```Dates``` column. This is because we have different states of data so we will find average usage for all the states.\n"
      ],
      "metadata": {
        "id": "LLxiQgkRVDW7"
      }
    },
    {
      "cell_type": "code",
      "source": [
        "df=df.groupby('Date',as_index=False).mean()\n",
        "print(df.head())"
      ],
      "metadata": {
        "colab": {
          "base_uri": "https://localhost:8080/"
        },
        "id": "TEjcILOFVDW7",
        "outputId": "a3a6ab66-beda-4154-8d54-f4e8440c4b5c"
      },
      "execution_count": null,
      "outputs": [
        {
          "output_type": "stream",
          "name": "stdout",
          "text": [
            "        Date      Close\n",
            "0 2002-07-08  16.549696\n",
            "1 2002-07-09  16.640390\n",
            "2 2002-07-10  16.337044\n",
            "3 2002-07-11  16.546577\n",
            "4 2002-07-12  16.218204\n"
          ]
        }
      ]
    },
    {
      "cell_type": "code",
      "source": [
        "df.Date[0]"
      ],
      "metadata": {
        "colab": {
          "base_uri": "https://localhost:8080/"
        },
        "id": "RvfMa5ZMljCz",
        "outputId": "3746db99-f428-459f-af03-48e24c5a262f"
      },
      "execution_count": null,
      "outputs": [
        {
          "output_type": "execute_result",
          "data": {
            "text/plain": [
              "datetime.datetime(2002, 7, 8, 0, 0, tzinfo=tzoffset(None, -14400))"
            ]
          },
          "metadata": {},
          "execution_count": 79
        }
      ]
    },
    {
      "cell_type": "markdown",
      "source": [
        "Dataset shape is 498 because we have approx 1 year 5 months of data\n"
      ],
      "metadata": {
        "id": "6wDn-0AhVDW7"
      }
    },
    {
      "cell_type": "code",
      "source": [
        "print(df.shape) "
      ],
      "metadata": {
        "colab": {
          "base_uri": "https://localhost:8080/"
        },
        "id": "uWoNxRlIVDW7",
        "outputId": "4e827b61-5793-46b0-f455-d6bbfcbe3d82"
      },
      "execution_count": null,
      "outputs": [
        {
          "output_type": "stream",
          "name": "stdout",
          "text": [
            "(755, 2)\n"
          ]
        }
      ]
    },
    {
      "cell_type": "markdown",
      "source": [
        "### select the datetime column and target column\n"
      ],
      "metadata": {
        "id": "HU7qx-4eVDW7"
      }
    },
    {
      "cell_type": "markdown",
      "source": [
        "Here We are selecting only 2 columns which are needed for time series forecasting as prophet model needs dataframe with 2 columns\n",
        "\n",
        "1) Datetime column (Dates)\n",
        "\n",
        "2) Target column (Usage)\n",
        "\n",
        "To ```select multiple columns```, use a ``list`` of ``column names`` within the selection brackets.\n"
      ],
      "metadata": {
        "id": "-QaSXk6NVDW7"
      }
    },
    {
      "cell_type": "markdown",
      "source": [
        "You can also use drop function to drop unnecessary column by using, drop specifying  labels from rows or columns.\n",
        "\n",
        "Axis=0 can be used for dropping particular Rows.\n",
        "\n",
        "Axis=1 can be used for dropping particular Columns.\n"
      ],
      "metadata": {
        "id": "NwX9huV8VDW7"
      }
    },
    {
      "cell_type": "code",
      "source": [
        "##optional if you are using above command\n",
        "##df.drop(['latitude','longitude'],inplace=True,axis=1)"
      ],
      "metadata": {
        "id": "9yFNWDrRVDW7"
      },
      "execution_count": null,
      "outputs": []
    },
    {
      "cell_type": "markdown",
      "source": [
        "## Introduction to Plotly library\n"
      ],
      "metadata": {
        "id": "GqXcXJ72VDW8"
      }
    },
    {
      "cell_type": "markdown",
      "source": [
        "<center><img src=\"https://cf-courses-data.s3.us.cloud-object-storage.appdomain.cloud/IBM-GPXX032NEN/images/Untitled%20design%20%289%29.png\" width=\"550\" height=\"550\"></center>\n"
      ],
      "metadata": {
        "id": "9NLjUmvAVDW8"
      }
    },
    {
      "cell_type": "markdown",
      "source": [
        "You’ve probably heard about ```Matplotib and Seaborn``` since they are often mentioned in Data Science courses. \n",
        "But do you know these libraries are designed for ```basic plotting```.\n",
        "Therefore here we have used ```Plotly``` library to plot our time series data.\n",
        "\n",
        "The ```plotly``` Python library is an ```interactive, open-source``` plotting library that supports over 40 unique chart types covering a wide range of statistical, financial, geographic, scientific, and 3-dimensional use-cases.\n"
      ],
      "metadata": {
        "id": "bfJLAgMXVDW8"
      }
    },
    {
      "cell_type": "markdown",
      "source": [
        "You can simply install plotly using below command.\n",
        "\n",
        "```pip install plotly```\n",
        "\n",
        "### Features of Plotly:\n",
        "1) zoom\n",
        "2) pan \n",
        "3) hover over datapoint.\n"
      ],
      "metadata": {
        "id": "bEqhWdOGVDW8"
      }
    },
    {
      "cell_type": "markdown",
      "source": [
        "### Plot the Data\n"
      ],
      "metadata": {
        "id": "i9cfphhqVDW8"
      }
    },
    {
      "cell_type": "markdown",
      "source": [
        "\n",
        "\n",
        "```X cordinates``` will represent ```Dates``` column from dataframe (df).\n",
        "\n",
        "```Y cordinates``` will represent target column which is ```Usage``` column from dataframe (df).\n"
      ],
      "metadata": {
        "id": "2dUTWBNSVDW8"
      }
    },
    {
      "cell_type": "code",
      "source": [
        "fig = px.line(df, x='Date', y='Close')\n",
        "fig.show()"
      ],
      "metadata": {
        "colab": {
          "base_uri": "https://localhost:8080/",
          "height": 542
        },
        "id": "kCVFdB4AVDW8",
        "outputId": "f691ccc6-3221-4c54-fe39-7c142abbdae5"
      },
      "execution_count": null,
      "outputs": [
        {
          "output_type": "display_data",
          "data": {
            "text/html": [
              "<html>\n",
              "<head><meta charset=\"utf-8\" /></head>\n",
              "<body>\n",
              "    <div>            <script src=\"https://cdnjs.cloudflare.com/ajax/libs/mathjax/2.7.5/MathJax.js?config=TeX-AMS-MML_SVG\"></script><script type=\"text/javascript\">if (window.MathJax) {MathJax.Hub.Config({SVG: {font: \"STIX-Web\"}});}</script>                <script type=\"text/javascript\">window.PlotlyConfig = {MathJaxConfig: 'local'};</script>\n",
              "        <script src=\"https://cdn.plot.ly/plotly-2.8.3.min.js\"></script>                <div id=\"9a7e0ee5-1951-414b-b967-5766e64a04bc\" class=\"plotly-graph-div\" style=\"height:525px; width:100%;\"></div>            <script type=\"text/javascript\">                                    window.PLOTLYENV=window.PLOTLYENV || {};                                    if (document.getElementById(\"9a7e0ee5-1951-414b-b967-5766e64a04bc\")) {                    Plotly.newPlot(                        \"9a7e0ee5-1951-414b-b967-5766e64a04bc\",                        [{\"hovertemplate\":\"Date=%{x}<br>Close=%{y}<extra></extra>\",\"legendgroup\":\"\",\"line\":{\"color\":\"#636efa\",\"dash\":\"solid\"},\"marker\":{\"symbol\":\"circle\"},\"mode\":\"lines\",\"name\":\"\",\"orientation\":\"v\",\"showlegend\":false,\"x\":[\"2002-07-08T00:00:00-04:00\",\"2002-07-09T00:00:00-04:00\",\"2002-07-10T00:00:00-04:00\",\"2002-07-11T00:00:00-04:00\",\"2002-07-12T00:00:00-04:00\",\"2002-07-15T00:00:00-04:00\",\"2002-07-16T00:00:00-04:00\",\"2002-07-17T00:00:00-04:00\",\"2002-07-18T00:00:00-04:00\",\"2002-07-19T00:00:00-04:00\",\"2002-07-22T00:00:00-04:00\",\"2002-07-23T00:00:00-04:00\",\"2002-07-24T00:00:00-04:00\",\"2002-07-25T00:00:00-04:00\",\"2002-07-26T00:00:00-04:00\",\"2002-07-29T00:00:00-04:00\",\"2002-07-30T00:00:00-04:00\",\"2002-07-31T00:00:00-04:00\",\"2002-08-01T00:00:00-04:00\",\"2002-08-02T00:00:00-04:00\",\"2002-08-05T00:00:00-04:00\",\"2002-08-06T00:00:00-04:00\",\"2002-08-07T00:00:00-04:00\",\"2002-08-08T00:00:00-04:00\",\"2002-08-09T00:00:00-04:00\",\"2002-08-12T00:00:00-04:00\",\"2002-08-13T00:00:00-04:00\",\"2002-08-14T00:00:00-04:00\",\"2002-08-15T00:00:00-04:00\",\"2002-08-16T00:00:00-04:00\",\"2002-08-19T00:00:00-04:00\",\"2002-08-20T00:00:00-04:00\",\"2002-08-21T00:00:00-04:00\",\"2002-08-22T00:00:00-04:00\",\"2002-08-23T00:00:00-04:00\",\"2002-08-26T00:00:00-04:00\",\"2002-08-27T00:00:00-04:00\",\"2002-08-28T00:00:00-04:00\",\"2002-08-29T00:00:00-04:00\",\"2002-08-30T00:00:00-04:00\",\"2002-09-03T00:00:00-04:00\",\"2002-09-04T00:00:00-04:00\",\"2002-09-05T00:00:00-04:00\",\"2002-09-06T00:00:00-04:00\",\"2002-09-09T00:00:00-04:00\",\"2002-09-10T00:00:00-04:00\",\"2002-09-11T00:00:00-04:00\",\"2002-09-12T00:00:00-04:00\",\"2002-09-13T00:00:00-04:00\",\"2002-09-16T00:00:00-04:00\",\"2002-09-17T00:00:00-04:00\",\"2002-09-18T00:00:00-04:00\",\"2002-09-19T00:00:00-04:00\",\"2002-09-20T00:00:00-04:00\",\"2002-09-23T00:00:00-04:00\",\"2002-09-24T00:00:00-04:00\",\"2002-09-25T00:00:00-04:00\",\"2002-09-26T00:00:00-04:00\",\"2002-09-27T00:00:00-04:00\",\"2002-09-30T00:00:00-04:00\",\"2002-10-01T00:00:00-04:00\",\"2002-10-02T00:00:00-04:00\",\"2002-10-03T00:00:00-04:00\",\"2002-10-04T00:00:00-04:00\",\"2002-10-07T00:00:00-04:00\",\"2002-10-08T00:00:00-04:00\",\"2002-10-09T00:00:00-04:00\",\"2002-10-10T00:00:00-04:00\",\"2002-10-11T00:00:00-04:00\",\"2002-10-14T00:00:00-04:00\",\"2002-10-15T00:00:00-04:00\",\"2002-10-16T00:00:00-04:00\",\"2002-10-17T00:00:00-04:00\",\"2002-10-18T00:00:00-04:00\",\"2002-10-21T00:00:00-04:00\",\"2002-10-22T00:00:00-04:00\",\"2002-10-23T00:00:00-04:00\",\"2002-10-24T00:00:00-04:00\",\"2002-10-25T00:00:00-04:00\",\"2002-10-28T00:00:00-05:00\",\"2002-10-29T00:00:00-05:00\",\"2002-10-30T00:00:00-05:00\",\"2002-10-31T00:00:00-05:00\",\"2002-11-01T00:00:00-05:00\",\"2002-11-04T00:00:00-05:00\",\"2002-11-05T00:00:00-05:00\",\"2002-11-06T00:00:00-05:00\",\"2002-11-07T00:00:00-05:00\",\"2002-11-08T00:00:00-05:00\",\"2002-11-11T00:00:00-05:00\",\"2002-11-12T00:00:00-05:00\",\"2002-11-13T00:00:00-05:00\",\"2002-11-14T00:00:00-05:00\",\"2002-11-15T00:00:00-05:00\",\"2002-11-18T00:00:00-05:00\",\"2002-11-19T00:00:00-05:00\",\"2002-11-20T00:00:00-05:00\",\"2002-11-21T00:00:00-05:00\",\"2002-11-22T00:00:00-05:00\",\"2002-11-25T00:00:00-05:00\",\"2002-11-26T00:00:00-05:00\",\"2002-11-27T00:00:00-05:00\",\"2002-11-29T00:00:00-05:00\",\"2002-12-02T00:00:00-05:00\",\"2002-12-03T00:00:00-05:00\",\"2002-12-04T00:00:00-05:00\",\"2002-12-05T00:00:00-05:00\",\"2002-12-06T00:00:00-05:00\",\"2002-12-09T00:00:00-05:00\",\"2002-12-10T00:00:00-05:00\",\"2002-12-11T00:00:00-05:00\",\"2002-12-12T00:00:00-05:00\",\"2002-12-13T00:00:00-05:00\",\"2002-12-16T00:00:00-05:00\",\"2002-12-17T00:00:00-05:00\",\"2002-12-18T00:00:00-05:00\",\"2002-12-19T00:00:00-05:00\",\"2002-12-20T00:00:00-05:00\",\"2002-12-23T00:00:00-05:00\",\"2002-12-24T00:00:00-05:00\",\"2002-12-26T00:00:00-05:00\",\"2002-12-27T00:00:00-05:00\",\"2002-12-30T00:00:00-05:00\",\"2002-12-31T00:00:00-05:00\",\"2003-01-02T00:00:00-05:00\",\"2003-01-03T00:00:00-05:00\",\"2003-01-06T00:00:00-05:00\",\"2003-01-07T00:00:00-05:00\",\"2003-01-08T00:00:00-05:00\",\"2003-01-09T00:00:00-05:00\",\"2003-01-10T00:00:00-05:00\",\"2003-01-13T00:00:00-05:00\",\"2003-01-14T00:00:00-05:00\",\"2003-01-15T00:00:00-05:00\",\"2003-01-16T00:00:00-05:00\",\"2003-01-17T00:00:00-05:00\",\"2003-01-21T00:00:00-05:00\",\"2003-01-22T00:00:00-05:00\",\"2003-01-23T00:00:00-05:00\",\"2003-01-24T00:00:00-05:00\",\"2003-01-27T00:00:00-05:00\",\"2003-01-28T00:00:00-05:00\",\"2003-01-29T00:00:00-05:00\",\"2003-01-30T00:00:00-05:00\",\"2003-01-31T00:00:00-05:00\",\"2003-02-03T00:00:00-05:00\",\"2003-02-04T00:00:00-05:00\",\"2003-02-05T00:00:00-05:00\",\"2003-02-06T00:00:00-05:00\",\"2003-02-07T00:00:00-05:00\",\"2003-02-10T00:00:00-05:00\",\"2003-02-11T00:00:00-05:00\",\"2003-02-12T00:00:00-05:00\",\"2003-02-13T00:00:00-05:00\",\"2003-02-14T00:00:00-05:00\",\"2003-02-18T00:00:00-05:00\",\"2003-02-19T00:00:00-05:00\",\"2003-02-20T00:00:00-05:00\",\"2003-02-21T00:00:00-05:00\",\"2003-02-24T00:00:00-05:00\",\"2003-02-25T00:00:00-05:00\",\"2003-02-26T00:00:00-05:00\",\"2003-02-27T00:00:00-05:00\",\"2003-02-28T00:00:00-05:00\",\"2003-03-03T00:00:00-05:00\",\"2003-03-04T00:00:00-05:00\",\"2003-03-05T00:00:00-05:00\",\"2003-03-06T00:00:00-05:00\",\"2003-03-07T00:00:00-05:00\",\"2003-03-10T00:00:00-05:00\",\"2003-03-11T00:00:00-05:00\",\"2003-03-12T00:00:00-05:00\",\"2003-03-13T00:00:00-05:00\",\"2003-03-14T00:00:00-05:00\",\"2003-03-17T00:00:00-05:00\",\"2003-03-18T00:00:00-05:00\",\"2003-03-19T00:00:00-05:00\",\"2003-03-20T00:00:00-05:00\",\"2003-03-21T00:00:00-05:00\",\"2003-03-24T00:00:00-05:00\",\"2003-03-25T00:00:00-05:00\",\"2003-03-26T00:00:00-05:00\",\"2003-03-27T00:00:00-05:00\",\"2003-03-28T00:00:00-05:00\",\"2003-03-31T00:00:00-05:00\",\"2003-04-01T00:00:00-05:00\",\"2003-04-02T00:00:00-05:00\",\"2003-04-03T00:00:00-05:00\",\"2003-04-04T00:00:00-05:00\",\"2003-04-07T00:00:00-04:00\",\"2003-04-08T00:00:00-04:00\",\"2003-04-09T00:00:00-04:00\",\"2003-04-10T00:00:00-04:00\",\"2003-04-11T00:00:00-04:00\",\"2003-04-14T00:00:00-04:00\",\"2003-04-15T00:00:00-04:00\",\"2003-04-16T00:00:00-04:00\",\"2003-04-17T00:00:00-04:00\",\"2003-04-21T00:00:00-04:00\",\"2003-04-22T00:00:00-04:00\",\"2003-04-23T00:00:00-04:00\",\"2003-04-24T00:00:00-04:00\",\"2003-04-25T00:00:00-04:00\",\"2003-04-28T00:00:00-04:00\",\"2003-04-29T00:00:00-04:00\",\"2003-04-30T00:00:00-04:00\",\"2003-05-01T00:00:00-04:00\",\"2003-05-02T00:00:00-04:00\",\"2003-05-05T00:00:00-04:00\",\"2003-05-06T00:00:00-04:00\",\"2003-05-07T00:00:00-04:00\",\"2003-05-08T00:00:00-04:00\",\"2003-05-09T00:00:00-04:00\",\"2003-05-12T00:00:00-04:00\",\"2003-05-13T00:00:00-04:00\",\"2003-05-14T00:00:00-04:00\",\"2003-05-15T00:00:00-04:00\",\"2003-05-16T00:00:00-04:00\",\"2003-05-19T00:00:00-04:00\",\"2003-05-20T00:00:00-04:00\",\"2003-05-21T00:00:00-04:00\",\"2003-05-22T00:00:00-04:00\",\"2003-05-23T00:00:00-04:00\",\"2003-05-27T00:00:00-04:00\",\"2003-05-28T00:00:00-04:00\",\"2003-05-29T00:00:00-04:00\",\"2003-05-30T00:00:00-04:00\",\"2003-06-02T00:00:00-04:00\",\"2003-06-03T00:00:00-04:00\",\"2003-06-04T00:00:00-04:00\",\"2003-06-05T00:00:00-04:00\",\"2003-06-06T00:00:00-04:00\",\"2003-06-09T00:00:00-04:00\",\"2003-06-10T00:00:00-04:00\",\"2003-06-11T00:00:00-04:00\",\"2003-06-12T00:00:00-04:00\",\"2003-06-13T00:00:00-04:00\",\"2003-06-16T00:00:00-04:00\",\"2003-06-17T00:00:00-04:00\",\"2003-06-18T00:00:00-04:00\",\"2003-06-19T00:00:00-04:00\",\"2003-06-20T00:00:00-04:00\",\"2003-06-23T00:00:00-04:00\",\"2003-06-24T00:00:00-04:00\",\"2003-06-25T00:00:00-04:00\",\"2003-06-26T00:00:00-04:00\",\"2003-06-27T00:00:00-04:00\",\"2003-06-30T00:00:00-04:00\",\"2003-07-01T00:00:00-04:00\",\"2003-07-02T00:00:00-04:00\",\"2003-07-03T00:00:00-04:00\",\"2003-07-07T00:00:00-04:00\",\"2003-07-08T00:00:00-04:00\",\"2003-07-09T00:00:00-04:00\",\"2003-07-10T00:00:00-04:00\",\"2003-07-11T00:00:00-04:00\",\"2003-07-14T00:00:00-04:00\",\"2003-07-15T00:00:00-04:00\",\"2003-07-16T00:00:00-04:00\",\"2003-07-17T00:00:00-04:00\",\"2003-07-18T00:00:00-04:00\",\"2003-07-21T00:00:00-04:00\",\"2003-07-22T00:00:00-04:00\",\"2003-07-23T00:00:00-04:00\",\"2003-07-24T00:00:00-04:00\",\"2003-07-25T00:00:00-04:00\",\"2003-07-28T00:00:00-04:00\",\"2003-07-29T00:00:00-04:00\",\"2003-07-30T00:00:00-04:00\",\"2003-07-31T00:00:00-04:00\",\"2003-08-01T00:00:00-04:00\",\"2003-08-04T00:00:00-04:00\",\"2003-08-05T00:00:00-04:00\",\"2003-08-06T00:00:00-04:00\",\"2003-08-07T00:00:00-04:00\",\"2003-08-08T00:00:00-04:00\",\"2003-08-11T00:00:00-04:00\",\"2003-08-12T00:00:00-04:00\",\"2003-08-13T00:00:00-04:00\",\"2003-08-14T00:00:00-04:00\",\"2003-08-15T00:00:00-04:00\",\"2003-08-18T00:00:00-04:00\",\"2003-08-19T00:00:00-04:00\",\"2003-08-20T00:00:00-04:00\",\"2003-08-21T00:00:00-04:00\",\"2003-08-22T00:00:00-04:00\",\"2003-08-25T00:00:00-04:00\",\"2003-08-26T00:00:00-04:00\",\"2003-08-27T00:00:00-04:00\",\"2003-08-28T00:00:00-04:00\",\"2003-08-29T00:00:00-04:00\",\"2003-09-02T00:00:00-04:00\",\"2003-09-03T00:00:00-04:00\",\"2003-09-04T00:00:00-04:00\",\"2003-09-05T00:00:00-04:00\",\"2003-09-08T00:00:00-04:00\",\"2003-09-09T00:00:00-04:00\",\"2003-09-10T00:00:00-04:00\",\"2003-09-11T00:00:00-04:00\",\"2003-09-12T00:00:00-04:00\",\"2003-09-15T00:00:00-04:00\",\"2003-09-16T00:00:00-04:00\",\"2003-09-17T00:00:00-04:00\",\"2003-09-18T00:00:00-04:00\",\"2003-09-19T00:00:00-04:00\",\"2003-09-22T00:00:00-04:00\",\"2003-09-23T00:00:00-04:00\",\"2003-09-24T00:00:00-04:00\",\"2003-09-25T00:00:00-04:00\",\"2003-09-26T00:00:00-04:00\",\"2003-09-29T00:00:00-04:00\",\"2003-09-30T00:00:00-04:00\",\"2003-10-01T00:00:00-04:00\",\"2003-10-02T00:00:00-04:00\",\"2003-10-03T00:00:00-04:00\",\"2003-10-06T00:00:00-04:00\",\"2003-10-07T00:00:00-04:00\",\"2003-10-08T00:00:00-04:00\",\"2003-10-09T00:00:00-04:00\",\"2003-10-10T00:00:00-04:00\",\"2003-10-13T00:00:00-04:00\",\"2003-10-14T00:00:00-04:00\",\"2003-10-15T00:00:00-04:00\",\"2003-10-16T00:00:00-04:00\",\"2003-10-17T00:00:00-04:00\",\"2003-10-20T00:00:00-04:00\",\"2003-10-21T00:00:00-04:00\",\"2003-10-22T00:00:00-04:00\",\"2003-10-23T00:00:00-04:00\",\"2003-10-24T00:00:00-04:00\",\"2003-10-27T00:00:00-05:00\",\"2003-10-28T00:00:00-05:00\",\"2003-10-29T00:00:00-05:00\",\"2003-10-30T00:00:00-05:00\",\"2003-10-31T00:00:00-05:00\",\"2003-11-03T00:00:00-05:00\",\"2003-11-04T00:00:00-05:00\",\"2003-11-05T00:00:00-05:00\",\"2003-11-06T00:00:00-05:00\",\"2003-11-07T00:00:00-05:00\",\"2003-11-10T00:00:00-05:00\",\"2003-11-11T00:00:00-05:00\",\"2003-11-12T00:00:00-05:00\",\"2003-11-13T00:00:00-05:00\",\"2003-11-14T00:00:00-05:00\",\"2003-11-17T00:00:00-05:00\",\"2003-11-18T00:00:00-05:00\",\"2003-11-19T00:00:00-05:00\",\"2003-11-20T00:00:00-05:00\",\"2003-11-21T00:00:00-05:00\",\"2003-11-24T00:00:00-05:00\",\"2003-11-25T00:00:00-05:00\",\"2003-11-26T00:00:00-05:00\",\"2003-11-28T00:00:00-05:00\",\"2003-12-01T00:00:00-05:00\",\"2003-12-02T00:00:00-05:00\",\"2003-12-03T00:00:00-05:00\",\"2003-12-04T00:00:00-05:00\",\"2003-12-05T00:00:00-05:00\",\"2003-12-08T00:00:00-05:00\",\"2003-12-09T00:00:00-05:00\",\"2003-12-10T00:00:00-05:00\",\"2003-12-11T00:00:00-05:00\",\"2003-12-12T00:00:00-05:00\",\"2003-12-15T00:00:00-05:00\",\"2003-12-16T00:00:00-05:00\",\"2003-12-17T00:00:00-05:00\",\"2003-12-18T00:00:00-05:00\",\"2003-12-19T00:00:00-05:00\",\"2003-12-22T00:00:00-05:00\",\"2003-12-23T00:00:00-05:00\",\"2003-12-24T00:00:00-05:00\",\"2003-12-26T00:00:00-05:00\",\"2003-12-29T00:00:00-05:00\",\"2003-12-30T00:00:00-05:00\",\"2003-12-31T00:00:00-05:00\",\"2004-01-02T00:00:00-05:00\",\"2004-01-05T00:00:00-05:00\",\"2004-01-06T00:00:00-05:00\",\"2004-01-07T00:00:00-05:00\",\"2004-01-08T00:00:00-05:00\",\"2004-01-09T00:00:00-05:00\",\"2004-01-12T00:00:00-05:00\",\"2004-01-13T00:00:00-05:00\",\"2004-01-14T00:00:00-05:00\",\"2004-01-15T00:00:00-05:00\",\"2004-01-16T00:00:00-05:00\",\"2004-01-20T00:00:00-05:00\",\"2004-01-21T00:00:00-05:00\",\"2004-01-22T00:00:00-05:00\",\"2004-01-23T00:00:00-05:00\",\"2004-01-26T00:00:00-05:00\",\"2004-01-27T00:00:00-05:00\",\"2004-01-28T00:00:00-05:00\",\"2004-01-29T00:00:00-05:00\",\"2004-01-30T00:00:00-05:00\",\"2004-02-02T00:00:00-05:00\",\"2004-02-03T00:00:00-05:00\",\"2004-02-04T00:00:00-05:00\",\"2004-02-05T00:00:00-05:00\",\"2004-02-06T00:00:00-05:00\",\"2004-02-09T00:00:00-05:00\",\"2004-02-10T00:00:00-05:00\",\"2004-02-11T00:00:00-05:00\",\"2004-02-12T00:00:00-05:00\",\"2004-02-13T00:00:00-05:00\",\"2004-02-17T00:00:00-05:00\",\"2004-02-18T00:00:00-05:00\",\"2004-02-19T00:00:00-05:00\",\"2004-02-20T00:00:00-05:00\",\"2004-02-23T00:00:00-05:00\",\"2004-02-24T00:00:00-05:00\",\"2004-02-25T00:00:00-05:00\",\"2004-02-26T00:00:00-05:00\",\"2004-02-27T00:00:00-05:00\",\"2004-03-01T00:00:00-05:00\",\"2004-03-02T00:00:00-05:00\",\"2004-03-03T00:00:00-05:00\",\"2004-03-04T00:00:00-05:00\",\"2004-03-05T00:00:00-05:00\",\"2004-03-08T00:00:00-05:00\",\"2004-03-09T00:00:00-05:00\",\"2004-03-10T00:00:00-05:00\",\"2004-03-11T00:00:00-05:00\",\"2004-03-12T00:00:00-05:00\",\"2004-03-15T00:00:00-05:00\",\"2004-03-16T00:00:00-05:00\",\"2004-03-17T00:00:00-05:00\",\"2004-03-18T00:00:00-05:00\",\"2004-03-19T00:00:00-05:00\",\"2004-03-22T00:00:00-05:00\",\"2004-03-23T00:00:00-05:00\",\"2004-03-24T00:00:00-05:00\",\"2004-03-25T00:00:00-05:00\",\"2004-03-26T00:00:00-05:00\",\"2004-03-29T00:00:00-05:00\",\"2004-03-30T00:00:00-05:00\",\"2004-03-31T00:00:00-05:00\",\"2004-04-01T00:00:00-05:00\",\"2004-04-02T00:00:00-05:00\",\"2004-04-05T00:00:00-04:00\",\"2004-04-06T00:00:00-04:00\",\"2004-04-07T00:00:00-04:00\",\"2004-04-08T00:00:00-04:00\",\"2004-04-12T00:00:00-04:00\",\"2004-04-13T00:00:00-04:00\",\"2004-04-14T00:00:00-04:00\",\"2004-04-15T00:00:00-04:00\",\"2004-04-16T00:00:00-04:00\",\"2004-04-19T00:00:00-04:00\",\"2004-04-20T00:00:00-04:00\",\"2004-04-21T00:00:00-04:00\",\"2004-04-22T00:00:00-04:00\",\"2004-04-23T00:00:00-04:00\",\"2004-04-26T00:00:00-04:00\",\"2004-04-27T00:00:00-04:00\",\"2004-04-28T00:00:00-04:00\",\"2004-04-29T00:00:00-04:00\",\"2004-04-30T00:00:00-04:00\",\"2004-05-03T00:00:00-04:00\",\"2004-05-04T00:00:00-04:00\",\"2004-05-05T00:00:00-04:00\",\"2004-05-06T00:00:00-04:00\",\"2004-05-07T00:00:00-04:00\",\"2004-05-10T00:00:00-04:00\",\"2004-05-11T00:00:00-04:00\",\"2004-05-12T00:00:00-04:00\",\"2004-05-13T00:00:00-04:00\",\"2004-05-14T00:00:00-04:00\",\"2004-05-17T00:00:00-04:00\",\"2004-05-18T00:00:00-04:00\",\"2004-05-19T00:00:00-04:00\",\"2004-05-20T00:00:00-04:00\",\"2004-05-21T00:00:00-04:00\",\"2004-05-24T00:00:00-04:00\",\"2004-05-25T00:00:00-04:00\",\"2004-05-26T00:00:00-04:00\",\"2004-05-27T00:00:00-04:00\",\"2004-05-28T00:00:00-04:00\",\"2004-06-01T00:00:00-04:00\",\"2004-06-02T00:00:00-04:00\",\"2004-06-03T00:00:00-04:00\",\"2004-06-04T00:00:00-04:00\",\"2004-06-07T00:00:00-04:00\",\"2004-06-08T00:00:00-04:00\",\"2004-06-09T00:00:00-04:00\",\"2004-06-10T00:00:00-04:00\",\"2004-06-14T00:00:00-04:00\",\"2004-06-15T00:00:00-04:00\",\"2004-06-16T00:00:00-04:00\",\"2004-06-17T00:00:00-04:00\",\"2004-06-18T00:00:00-04:00\",\"2004-06-21T00:00:00-04:00\",\"2004-06-22T00:00:00-04:00\",\"2004-06-23T00:00:00-04:00\",\"2004-06-24T00:00:00-04:00\",\"2004-06-25T00:00:00-04:00\",\"2004-06-28T00:00:00-04:00\",\"2004-06-29T00:00:00-04:00\",\"2004-06-30T00:00:00-04:00\",\"2004-07-01T00:00:00-04:00\",\"2004-07-02T00:00:00-04:00\",\"2004-07-06T00:00:00-04:00\",\"2004-07-07T00:00:00-04:00\",\"2004-07-08T00:00:00-04:00\",\"2004-07-09T00:00:00-04:00\",\"2004-07-12T00:00:00-04:00\",\"2004-07-13T00:00:00-04:00\",\"2004-07-14T00:00:00-04:00\",\"2004-07-15T00:00:00-04:00\",\"2004-07-16T00:00:00-04:00\",\"2004-07-19T00:00:00-04:00\",\"2004-07-20T00:00:00-04:00\",\"2004-07-21T00:00:00-04:00\",\"2004-07-22T00:00:00-04:00\",\"2004-07-23T00:00:00-04:00\",\"2004-07-26T00:00:00-04:00\",\"2004-07-27T00:00:00-04:00\",\"2004-07-28T00:00:00-04:00\",\"2004-07-29T00:00:00-04:00\",\"2004-07-30T00:00:00-04:00\",\"2004-08-02T00:00:00-04:00\",\"2004-08-03T00:00:00-04:00\",\"2004-08-04T00:00:00-04:00\",\"2004-08-05T00:00:00-04:00\",\"2004-08-06T00:00:00-04:00\",\"2004-08-09T00:00:00-04:00\",\"2004-08-10T00:00:00-04:00\",\"2004-08-11T00:00:00-04:00\",\"2004-08-12T00:00:00-04:00\",\"2004-08-13T00:00:00-04:00\",\"2004-08-16T00:00:00-04:00\",\"2004-08-17T00:00:00-04:00\",\"2004-08-18T00:00:00-04:00\",\"2004-08-19T00:00:00-04:00\",\"2004-08-20T00:00:00-04:00\",\"2004-08-23T00:00:00-04:00\",\"2004-08-24T00:00:00-04:00\",\"2004-08-25T00:00:00-04:00\",\"2004-08-26T00:00:00-04:00\",\"2004-08-27T00:00:00-04:00\",\"2004-08-30T00:00:00-04:00\",\"2004-08-31T00:00:00-04:00\",\"2004-09-01T00:00:00-04:00\",\"2004-09-02T00:00:00-04:00\",\"2004-09-03T00:00:00-04:00\",\"2004-09-07T00:00:00-04:00\",\"2004-09-08T00:00:00-04:00\",\"2004-09-09T00:00:00-04:00\",\"2004-09-10T00:00:00-04:00\",\"2004-09-13T00:00:00-04:00\",\"2004-09-14T00:00:00-04:00\",\"2004-09-15T00:00:00-04:00\",\"2004-09-16T00:00:00-04:00\",\"2004-09-17T00:00:00-04:00\",\"2004-09-20T00:00:00-04:00\",\"2004-09-21T00:00:00-04:00\",\"2004-09-22T00:00:00-04:00\",\"2004-09-23T00:00:00-04:00\",\"2004-09-24T00:00:00-04:00\",\"2004-09-27T00:00:00-04:00\",\"2004-09-28T00:00:00-04:00\",\"2004-09-29T00:00:00-04:00\",\"2004-09-30T00:00:00-04:00\",\"2004-10-01T00:00:00-04:00\",\"2004-10-04T00:00:00-04:00\",\"2004-10-05T00:00:00-04:00\",\"2004-10-06T00:00:00-04:00\",\"2004-10-07T00:00:00-04:00\",\"2004-10-08T00:00:00-04:00\",\"2004-10-11T00:00:00-04:00\",\"2004-10-12T00:00:00-04:00\",\"2004-10-13T00:00:00-04:00\",\"2004-10-14T00:00:00-04:00\",\"2004-10-15T00:00:00-04:00\",\"2004-10-18T00:00:00-04:00\",\"2004-10-19T00:00:00-04:00\",\"2004-10-20T00:00:00-04:00\",\"2004-10-21T00:00:00-04:00\",\"2004-10-22T00:00:00-04:00\",\"2004-10-25T00:00:00-04:00\",\"2004-10-26T00:00:00-04:00\",\"2004-10-27T00:00:00-04:00\",\"2004-10-28T00:00:00-04:00\",\"2004-10-29T00:00:00-04:00\",\"2004-11-01T00:00:00-05:00\",\"2004-11-02T00:00:00-05:00\",\"2004-11-03T00:00:00-05:00\",\"2004-11-04T00:00:00-05:00\",\"2004-11-05T00:00:00-05:00\",\"2004-11-08T00:00:00-05:00\",\"2004-11-09T00:00:00-05:00\",\"2004-11-10T00:00:00-05:00\",\"2004-11-11T00:00:00-05:00\",\"2004-11-12T00:00:00-05:00\",\"2004-11-15T00:00:00-05:00\",\"2004-11-16T00:00:00-05:00\",\"2004-11-17T00:00:00-05:00\",\"2004-11-18T00:00:00-05:00\",\"2004-11-19T00:00:00-05:00\",\"2004-11-22T00:00:00-05:00\",\"2004-11-23T00:00:00-05:00\",\"2004-11-24T00:00:00-05:00\",\"2004-11-26T00:00:00-05:00\",\"2004-11-29T00:00:00-05:00\",\"2004-11-30T00:00:00-05:00\",\"2004-12-01T00:00:00-05:00\",\"2004-12-02T00:00:00-05:00\",\"2004-12-03T00:00:00-05:00\",\"2004-12-06T00:00:00-05:00\",\"2004-12-07T00:00:00-05:00\",\"2004-12-08T00:00:00-05:00\",\"2004-12-09T00:00:00-05:00\",\"2004-12-10T00:00:00-05:00\",\"2004-12-13T00:00:00-05:00\",\"2004-12-14T00:00:00-05:00\",\"2004-12-15T00:00:00-05:00\",\"2004-12-16T00:00:00-05:00\",\"2004-12-17T00:00:00-05:00\",\"2004-12-20T00:00:00-05:00\",\"2004-12-21T00:00:00-05:00\",\"2004-12-22T00:00:00-05:00\",\"2004-12-23T00:00:00-05:00\",\"2004-12-27T00:00:00-05:00\",\"2004-12-28T00:00:00-05:00\",\"2004-12-29T00:00:00-05:00\",\"2004-12-30T00:00:00-05:00\",\"2004-12-31T00:00:00-05:00\",\"2005-01-03T00:00:00-05:00\",\"2005-01-04T00:00:00-05:00\",\"2005-01-05T00:00:00-05:00\",\"2005-01-06T00:00:00-05:00\",\"2005-01-07T00:00:00-05:00\",\"2005-01-10T00:00:00-05:00\",\"2005-01-11T00:00:00-05:00\",\"2005-01-12T00:00:00-05:00\",\"2005-01-13T00:00:00-05:00\",\"2005-01-14T00:00:00-05:00\",\"2005-01-18T00:00:00-05:00\",\"2005-01-19T00:00:00-05:00\",\"2005-01-20T00:00:00-05:00\",\"2005-01-21T00:00:00-05:00\",\"2005-01-24T00:00:00-05:00\",\"2005-01-25T00:00:00-05:00\",\"2005-01-26T00:00:00-05:00\",\"2005-01-27T00:00:00-05:00\",\"2005-01-28T00:00:00-05:00\",\"2005-01-31T00:00:00-05:00\",\"2005-02-01T00:00:00-05:00\",\"2005-02-02T00:00:00-05:00\",\"2005-02-03T00:00:00-05:00\",\"2005-02-04T00:00:00-05:00\",\"2005-02-07T00:00:00-05:00\",\"2005-02-08T00:00:00-05:00\",\"2005-02-09T00:00:00-05:00\",\"2005-02-10T00:00:00-05:00\",\"2005-02-11T00:00:00-05:00\",\"2005-02-14T00:00:00-05:00\",\"2005-02-15T00:00:00-05:00\",\"2005-02-16T00:00:00-05:00\",\"2005-02-17T00:00:00-05:00\",\"2005-02-18T00:00:00-05:00\",\"2005-02-22T00:00:00-05:00\",\"2005-02-23T00:00:00-05:00\",\"2005-02-24T00:00:00-05:00\",\"2005-02-25T00:00:00-05:00\",\"2005-02-28T00:00:00-05:00\",\"2005-03-01T00:00:00-05:00\",\"2005-03-02T00:00:00-05:00\",\"2005-03-03T00:00:00-05:00\",\"2005-03-04T00:00:00-05:00\",\"2005-03-07T00:00:00-05:00\",\"2005-03-08T00:00:00-05:00\",\"2005-03-09T00:00:00-05:00\",\"2005-03-10T00:00:00-05:00\",\"2005-03-11T00:00:00-05:00\",\"2005-03-14T00:00:00-05:00\",\"2005-03-15T00:00:00-05:00\",\"2005-03-16T00:00:00-05:00\",\"2005-03-17T00:00:00-05:00\",\"2005-03-18T00:00:00-05:00\",\"2005-03-21T00:00:00-05:00\",\"2005-03-22T00:00:00-05:00\",\"2005-03-23T00:00:00-05:00\",\"2005-03-24T00:00:00-05:00\",\"2005-03-28T00:00:00-05:00\",\"2005-03-29T00:00:00-05:00\",\"2005-03-30T00:00:00-05:00\",\"2005-03-31T00:00:00-05:00\",\"2005-04-01T00:00:00-05:00\",\"2005-04-04T00:00:00-04:00\",\"2005-04-05T00:00:00-04:00\",\"2005-04-06T00:00:00-04:00\",\"2005-04-07T00:00:00-04:00\",\"2005-04-08T00:00:00-04:00\",\"2005-04-11T00:00:00-04:00\",\"2005-04-12T00:00:00-04:00\",\"2005-04-13T00:00:00-04:00\",\"2005-04-14T00:00:00-04:00\",\"2005-04-15T00:00:00-04:00\",\"2005-04-18T00:00:00-04:00\",\"2005-04-19T00:00:00-04:00\",\"2005-04-20T00:00:00-04:00\",\"2005-04-21T00:00:00-04:00\",\"2005-04-22T00:00:00-04:00\",\"2005-04-25T00:00:00-04:00\",\"2005-04-26T00:00:00-04:00\",\"2005-04-27T00:00:00-04:00\",\"2005-04-28T00:00:00-04:00\",\"2005-04-29T00:00:00-04:00\",\"2005-05-02T00:00:00-04:00\",\"2005-05-03T00:00:00-04:00\",\"2005-05-04T00:00:00-04:00\",\"2005-05-05T00:00:00-04:00\",\"2005-05-06T00:00:00-04:00\",\"2005-05-09T00:00:00-04:00\",\"2005-05-10T00:00:00-04:00\",\"2005-05-11T00:00:00-04:00\",\"2005-05-12T00:00:00-04:00\",\"2005-05-13T00:00:00-04:00\",\"2005-05-16T00:00:00-04:00\",\"2005-05-17T00:00:00-04:00\",\"2005-05-18T00:00:00-04:00\",\"2005-05-19T00:00:00-04:00\",\"2005-05-20T00:00:00-04:00\",\"2005-05-23T00:00:00-04:00\",\"2005-05-24T00:00:00-04:00\",\"2005-05-25T00:00:00-04:00\",\"2005-05-26T00:00:00-04:00\",\"2005-05-27T00:00:00-04:00\",\"2005-05-31T00:00:00-04:00\",\"2005-06-01T00:00:00-04:00\",\"2005-06-02T00:00:00-04:00\",\"2005-06-03T00:00:00-04:00\",\"2005-06-06T00:00:00-04:00\",\"2005-06-07T00:00:00-04:00\",\"2005-06-08T00:00:00-04:00\",\"2005-06-09T00:00:00-04:00\",\"2005-06-10T00:00:00-04:00\",\"2005-06-13T00:00:00-04:00\",\"2005-06-14T00:00:00-04:00\",\"2005-06-15T00:00:00-04:00\",\"2005-06-16T00:00:00-04:00\",\"2005-06-17T00:00:00-04:00\",\"2005-06-20T00:00:00-04:00\",\"2005-06-21T00:00:00-04:00\",\"2005-06-22T00:00:00-04:00\",\"2005-06-23T00:00:00-04:00\",\"2005-06-24T00:00:00-04:00\",\"2005-06-27T00:00:00-04:00\",\"2005-06-28T00:00:00-04:00\",\"2005-06-29T00:00:00-04:00\",\"2005-06-30T00:00:00-04:00\",\"2005-07-01T00:00:00-04:00\",\"2005-07-05T00:00:00-04:00\"],\"xaxis\":\"x\",\"y\":[16.549686431884766,16.64038848876953,16.33704948425293,16.54657554626465,16.218204498291016,16.199432373046875,16.02743148803711,16.261981964111328,15.983654022216797,15.498924255371094,14.85782527923584,13.450538635253906,14.457533836364746,13.394246101379395,14.182331085205078,15.08924388885498,15.04233455657959,15.004809379577637,14.307417869567871,13.888362884521484,13.757013320922852,14.282402038574219,14.726476669311523,15.295648574829102,15.048588752746582,15.158047676086426,14.717095375061035,15.545833587646484,15.564593315124512,15.636528015136719,16.261981964111328,15.96175765991211,16.34955406188965,16.646635055541992,16.33078384399414,16.293258666992188,15.89921760559082,15.442627906799316,15.817906379699707,15.348816871643066,14.70458984375,15.076728820800781,14.357458114624023,14.954769134521484,15.229966163635254,15.570855140686035,15.192447662353516,14.745244979858398,14.982917785644531,14.942265510559082,14.789022445678711,14.932878494262695,14.760881423950195,14.842185020446777,14.144800186157227,14.273018836975098,14.545089721679688,14.448152542114258,14.151052474975586,13.678836822509766,14.457533836364746,14.26363754272461,14.010330200195312,13.688211441040039,13.77578067779541,14.069737434387207,13.757013320922852,14.504435539245605,15.2831449508667,15.414487838745117,16.352670669555664,15.764741897583008,15.877327919006348,16.62162971496582,16.42147445678711,16.158784866333008,16.63726234436035,16.02117919921875,16.474637985229492,16.246349334716797,16.283878326416016,16.60910987854004,16.72169303894043,16.57472038269043,17.544179916381836,17.72555923461914,17.83502197265625,17.51603126525879,17.2314453125,16.843671798706055,17.04693603515625,17.31276512145996,17.822511672973633,17.72869110107422,17.46599578857422,17.156387329101562,17.706804275512695,18.088335037231445,18.20716094970703,18.210296630859375,17.794363021850586,18.163389205932617,18.038297653198242,18.041425704956055,17.73495101928711,17.681781768798828,17.306501388549805,17.34716033935547,16.740461349487305,16.89057159423828,17.09385108947754,16.940610885620117,16.418344497680664,17.03755760192871,17.000028610229492,16.740461349487305,16.60910987854004,16.587221145629883,16.887447357177734,16.831153869628906,16.696678161621094,16.565324783325195,16.496532440185547,16.168167114257812,16.799884796142578,16.82176971435547,17.128246307373047,17.45035743713379,16.96249771118164,17.4534912109375,17.487886428833008,17.634872436523438,17.816255569458008,17.59734535217285,17.309635162353516,16.09310531616211,16.052452087402344,15.94925308227539,16.34955406188965,15.58961296081543,15.376955032348633,15.267501831054688,15.608376502990723,15.086114883422852,14.842185020446777,15.186192512512207,14.798408508300781,14.685821533203125,14.829676628112793,14.566987991333008,14.817166328430176,14.523202896118164,14.523202896118164,14.69520092010498,15.104893684387207,15.611503601074219,15.391888618469238,15.147174835205078,15.454638481140137,15.103255271911621,15.178546905517578,14.814614295959473,14.79578971862793,14.87109088897705,14.77069091796875,14.475784301757812,14.707947731018066,14.601276397705078,14.78324031829834,14.40048599243164,14.306361198425293,14.67657470703125,15.479738235473633,15.598958969116211,16.270343780517578,16.33936309814453,16.515060424804688,16.471145629882812,16.671926498413086,15.868769645690918,15.994260787963867,15.84366512298584,15.711905479431152,15.479738235473633,15.1910982131958,15.278932571411133,16.138574600219727,16.14485740661621,15.743271827697754,15.793473243713379,16.050731658935547,15.416996955871582,15.429534912109375,15.18482494354248,15.536203384399414,15.435811996459961,15.636597633361816,16.000534057617188,15.818575859069824,16.163671493530273,16.138574600219727,15.994260787963867,15.824845314025879,16.15113067626953,16.18877601623535,16.044456481933594,16.138574600219727,16.37702178955078,16.226428985595703,16.546436309814453,16.30799674987793,16.15113067626953,16.5401611328125,16.43976593017578,16.30799674987793,16.075838088989258,16.182506561279297,16.044456481933594,15.536203384399414,15.454638481140137,15.078156471252441,15.159720420837402,15.197373390197754,15.555032730102539,15.316595077514648,15.310317039489746,15.44208812713623,15.46091079711914,15.611503601074219,15.605228424072266,15.115804672241211,14.852262496948242,14.902456283569336,15.486004829406738,15.611503601074219,15.68052864074707,15.467188835144043,15.931513786315918,16.289167404174805,16.358190536499023,16.358190536499023,16.52134132385254,16.176225662231445,16.12603759765625,15.849946022033691,16.15740394592285,16.08210563659668,16.0883846282959,16.408395767211914,16.866451263427734,16.628015518188477,17.20528221130371,17.380979537963867,17.236663818359375,16.885272979736328,17.136259078979492,17.19273567199707,17.111162185668945,17.268030166625977,16.74722671508789,16.872718811035156,16.33936309814453,16.552717208862305,16.596641540527344,16.314273834228516,16.872718811035156,16.697031021118164,16.609188079833984,16.45859146118164,16.57154083251953,16.420949935913086,16.42721939086914,16.100929260253906,16.094663619995117,16.132301330566406,16.050731658935547,16.069562911987305,16.14485740661621,16.06328582763672,16.08210563659668,16.025638580322266,16.12603759765625,16.703310012817383,16.596641540527344,16.464860916137695,16.452314376831055,16.628015518188477,16.671926498413086,16.577817916870117,16.63427734375,16.640554428100586,17.104883193969727,17.75745964050293,17.83902931213379,17.807661056518555,18.096296310424805,17.80137825012207,17.28685188293457,17.46881866455078,17.782556533813477,17.79511070251465,18.13394546508789,17.88295555114746,18.510427474975586,18.799060821533203,18.24060821533203,18.573169708251953,17.857851028442383,17.719818115234375,17.68843650817871,18.09002113342285,17.443721771240234,17.895503997802734,17.88295555114746,18.246885299682617,18.315906524658203,18.284536361694336,18.083744049072266,18.159040451049805,18.140222549438477,18.058650970458984,17.99589729309082,18.342939376831055,18.44390869140625,18.25460433959961,18.519624710083008,18.519624710083008,18.229360580444336,18.241987228393555,16.790706634521484,16.979999542236328,17.162988662719727,16.87272834777832,16.481521606445312,16.494138717651367,16.834877014160156,16.449966430664062,16.46889877319336,16.550926208496094,16.46889877319336,16.405799865722656,16.279598236083984,16.393186569213867,16.210186004638672,16.09029197692871,15.869449615478516,15.869449615478516,15.99565601348877,15.837906837463379,15.844215393066406,16.235427856445312,16.027204513549805,16.058761596679688,16.22280502319336,16.304840087890625,16.191265106201172,16.19757080078125,16.531997680664062,16.393186569213867,16.55723762512207,16.645578384399414,16.7780818939209,16.790706634521484,16.81593894958496,16.87272834777832,17.07465171813965,17.062036514282227,17.289188385009766,17.263957977294922,17.150362014770508,17.131437301635742,17.062036514282227,17.169296264648438,17.327051162719727,17.36490821838379,17.270254135131836,17.320735931396484,17.756120681762695,17.8192195892334,17.800291061401367,17.768747329711914,17.453248977661133,17.39645004272461,17.30811882019043,17.47847557067871,17.37752914428711,17.547897338867188,17.73088264465332,17.857086181640625,17.674089431762695,17.97066307067871,18.172576904296875,17.82553482055664,17.484800338745117,17.61099624633789,17.446935653686523,17.289188385009766,17.21978187561035,17.04310417175293,17.011552810668945,17.087270736694336,16.973691940307617,17.04941177368164,17.131437301635742,17.005237579345703,16.7780818939209,17.030481338500977,16.891653060913086,16.696054458618164,16.765464782714844,16.790706634521484,16.961069107055664,16.847492218017578,16.721296310424805,16.740224838256836,16.847492218017578,16.65187644958496,16.639265060424805,16.639265060424805,16.626644134521484,16.29852867126465,16.2291202545166,16.008277893066406,15.831588745117188,16.014589309692383,15.87576675415039,15.888387680053711,15.856836318969727,15.70539379119873,15.541337966918945,15.459310531616211,15.238463401794434,15.402523040771484,15.894699096679688,15.79373550415039,15.970413208007812,15.9010009765625,15.730631828308105,15.825286865234375,16.311153411865234,16.374252319335938,16.279598236083984,16.147090911865234,16.077674865722656,16.159713745117188,16.058761596679688,16.096609115600586,15.91362476348877,15.87576675415039,16.109228134155273,15.983033180236816,16.058761596679688,16.374252319335938,17.37752914428711,17.18822479248047,17.175609588623047,16.759151458740234,16.70867919921875,16.487817764282227,16.626644134521484,16.61403465270996,16.595090866088867,16.481521606445312,16.26698112487793,16.361629486083984,16.36793327331543,16.36793327331543,16.46889877319336,16.31746482849121,16.11554718017578,16.29852867126465,16.166017532348633,16.235427856445312,16.336387634277344,16.254362106323242,16.46889877319336,16.494138717651367,16.525686264038086,16.550926208496094,16.47520637512207,16.487817764282227,16.336387634277344,16.374252319335938,16.6771297454834,16.784391403198242,16.70237159729004,16.891653060913086,16.973691940307617,17.295499801635742,17.238712310791016,17.52265167236328,17.888628005981445,17.888628005981445,17.85076904296875,17.857086181640625,17.91387176513672,18.027448654174805,17.84446144104004,17.9832763671875,18.021137237548828,18.0653133392334,18.027448654174805,17.680400848388672,17.73088264465332,17.440624237060547,17.57944107055664,17.598369598388672,17.415388107299805,17.749813079833984,17.58575439453125,17.33966827392578,17.636228561401367,17.869705200195312,18.210437774658203,18.298770904541016,17.68671417236328,18.084239959716797,17.945423126220703,18.033761978149414,17.97066307067871,17.97696304321289,17.995899200439453,17.71195411682129,17.705642700195312,17.3712215423584,17.125131607055664,17.150362014770508,17.491098403930664,17.295499801635742,16.961069107055664,17.04941177368164,17.093584060668945,17.06833267211914,17.327051162719727,17.11250877380371,17.162988662719727,17.238933563232422,17.238933563232422,17.435117721557617,17.36549949645996,17.378154754638672,17.276901245117188,17.276901245117188,17.333852767944336,17.47941780090332,17.156661987304688,17.31487464904785,17.251590728759766,17.264244079589844,17.397140502929688,17.245258331298828,17.36549949645996,17.207286834716797,17.251590728759766,17.409807205200195,17.409807205200195,17.251590728759766,17.16299057006836,17.308534622192383,17.270572662353516,17.207286834716797,17.25791358947754,17.4541015625,17.49839973449707,17.878110885620117,17.79584312438965,17.96038818359375,18.055320739746094,17.82749366760254,17.713577270507812,17.757871627807617,17.738880157470703,17.738880157470703,17.59333038330078,17.713577270507812,17.979372024536133,17.833818435668945,18.16289710998535,18.074298858642578,17.555356979370117,17.485742568969727,17.6566162109375,17.8148250579834,17.726232528686523,17.700910568237305,17.770526885986328,17.87178611755371,18.017343521118164,18.352754592895508,18.548934936523438,18.529951095581055,18.840049743652344,18.81473159790039,18.97294807434082,18.96661949157715,19.319284439086914,19.128856658935547,19.164127349853516,19.093584060668945,18.94545555114746,18.79734230041504,18.712692260742188,18.790283203125,18.7620792388916,18.88197898864746,18.910198211669922,19.22054100036621,19.107688903808594,19.20644760131836,19.2769718170166,19.093584060668945,19.29813003540039,19.20644760131836,19.100631713867188,19.22054100036621,19.20644760131836,19.121803283691406,19.157068252563477,19.015995025634766,19.008939743041992,19.093584060668945,19.02304458618164,19.051259994506836,18.938411712646484,19.008939743041992,18.973674774169922,18.874921798706055,18.846717834472656,18.860816955566406,18.931360244750977,18.8890323638916,18.867874145507812,18.811445236206055,18.903139114379883,18.853769302368164,18.8890323638916,18.529308319091797,18.423519134521484,18.5645751953125,18.324756622314453,18.240127563476562,18.092004776000977,18.10610580444336,18.352975845336914,18.345918655395508,18.416454315185547,18.46582794189453,18.536361694335938,18.613954544067383,18.6633243560791,18.46582794189453,18.5645751953125,18.45172119140625,18.50815200805664,18.388248443603516,18.381193161010742,18.317712783813477,18.345918655395508,18.345918655395508,18.246870040893555,18.147823333740234,18.027536392211914,17.85065460205078,17.829429626464844,17.949716567993164,17.86480712890625,17.801130294799805,17.886037826538086,17.87188148498535,17.80821418762207,17.80821418762207,18.02046775817871,17.970935821533203,17.907258987426758,17.992162704467773,17.751604080200195,17.765762329101562,17.624250411987305,17.426156997680664,17.362468719482422,17.19974708557129,17.12191390991211,16.973337173461914,17.10776710510254,17.17852020263672,17.12191390991211,16.923809051513672,17.09361457824707,17.100688934326172,17.065303802490234,17.143142700195312,17.312938690185547,17.454444885253906,17.758686065673828,17.645477294921875,17.666704177856445,17.914331436157227,17.716236114501953,17.574729919433594,17.30587387084961,17.440296173095703,17.426156997680664,17.206817626953125,17.886037826538086,17.673782348632812,17.680858612060547,17.518129348754883,17.680858612060547,17.298803329467773,17.900182723999023,17.85065460205078,17.942636489868164,17.836511611938477,17.85065460205078,17.843584060668945,17.765762329101562,17.61717414855957,17.624250411987305,17.68793487548828,17.900182723999023,18.091825485229492,18.070524215698242,18.24087142944336,18.397016525268555,18.269262313842773,18.347335815429688,18.276357650756836,18.247966766357422,18.382823944091797,18.503480911254883,18.311845779418945,18.318944931030273,18.30474853515625,18.049236297607422,18.006649017333984,18.10601806640625,18.027942657470703,18.10601806640625,18.049236297607422,17.964067459106445,17.99955177307129,17.928577423095703,17.772428512573242,17.772428512573242,17.822107315063477,17.850502014160156,17.79372215270996,17.964067459106445,17.772428512573242,17.779529571533203,17.79372215270996,17.807920455932617,17.630474090576172,17.538209915161133,17.729843139648438],\"yaxis\":\"y\",\"type\":\"scatter\"}],                        {\"template\":{\"data\":{\"bar\":[{\"error_x\":{\"color\":\"#2a3f5f\"},\"error_y\":{\"color\":\"#2a3f5f\"},\"marker\":{\"line\":{\"color\":\"#E5ECF6\",\"width\":0.5},\"pattern\":{\"fillmode\":\"overlay\",\"size\":10,\"solidity\":0.2}},\"type\":\"bar\"}],\"barpolar\":[{\"marker\":{\"line\":{\"color\":\"#E5ECF6\",\"width\":0.5},\"pattern\":{\"fillmode\":\"overlay\",\"size\":10,\"solidity\":0.2}},\"type\":\"barpolar\"}],\"carpet\":[{\"aaxis\":{\"endlinecolor\":\"#2a3f5f\",\"gridcolor\":\"white\",\"linecolor\":\"white\",\"minorgridcolor\":\"white\",\"startlinecolor\":\"#2a3f5f\"},\"baxis\":{\"endlinecolor\":\"#2a3f5f\",\"gridcolor\":\"white\",\"linecolor\":\"white\",\"minorgridcolor\":\"white\",\"startlinecolor\":\"#2a3f5f\"},\"type\":\"carpet\"}],\"choropleth\":[{\"colorbar\":{\"outlinewidth\":0,\"ticks\":\"\"},\"type\":\"choropleth\"}],\"contour\":[{\"colorbar\":{\"outlinewidth\":0,\"ticks\":\"\"},\"colorscale\":[[0.0,\"#0d0887\"],[0.1111111111111111,\"#46039f\"],[0.2222222222222222,\"#7201a8\"],[0.3333333333333333,\"#9c179e\"],[0.4444444444444444,\"#bd3786\"],[0.5555555555555556,\"#d8576b\"],[0.6666666666666666,\"#ed7953\"],[0.7777777777777778,\"#fb9f3a\"],[0.8888888888888888,\"#fdca26\"],[1.0,\"#f0f921\"]],\"type\":\"contour\"}],\"contourcarpet\":[{\"colorbar\":{\"outlinewidth\":0,\"ticks\":\"\"},\"type\":\"contourcarpet\"}],\"heatmap\":[{\"colorbar\":{\"outlinewidth\":0,\"ticks\":\"\"},\"colorscale\":[[0.0,\"#0d0887\"],[0.1111111111111111,\"#46039f\"],[0.2222222222222222,\"#7201a8\"],[0.3333333333333333,\"#9c179e\"],[0.4444444444444444,\"#bd3786\"],[0.5555555555555556,\"#d8576b\"],[0.6666666666666666,\"#ed7953\"],[0.7777777777777778,\"#fb9f3a\"],[0.8888888888888888,\"#fdca26\"],[1.0,\"#f0f921\"]],\"type\":\"heatmap\"}],\"heatmapgl\":[{\"colorbar\":{\"outlinewidth\":0,\"ticks\":\"\"},\"colorscale\":[[0.0,\"#0d0887\"],[0.1111111111111111,\"#46039f\"],[0.2222222222222222,\"#7201a8\"],[0.3333333333333333,\"#9c179e\"],[0.4444444444444444,\"#bd3786\"],[0.5555555555555556,\"#d8576b\"],[0.6666666666666666,\"#ed7953\"],[0.7777777777777778,\"#fb9f3a\"],[0.8888888888888888,\"#fdca26\"],[1.0,\"#f0f921\"]],\"type\":\"heatmapgl\"}],\"histogram\":[{\"marker\":{\"pattern\":{\"fillmode\":\"overlay\",\"size\":10,\"solidity\":0.2}},\"type\":\"histogram\"}],\"histogram2d\":[{\"colorbar\":{\"outlinewidth\":0,\"ticks\":\"\"},\"colorscale\":[[0.0,\"#0d0887\"],[0.1111111111111111,\"#46039f\"],[0.2222222222222222,\"#7201a8\"],[0.3333333333333333,\"#9c179e\"],[0.4444444444444444,\"#bd3786\"],[0.5555555555555556,\"#d8576b\"],[0.6666666666666666,\"#ed7953\"],[0.7777777777777778,\"#fb9f3a\"],[0.8888888888888888,\"#fdca26\"],[1.0,\"#f0f921\"]],\"type\":\"histogram2d\"}],\"histogram2dcontour\":[{\"colorbar\":{\"outlinewidth\":0,\"ticks\":\"\"},\"colorscale\":[[0.0,\"#0d0887\"],[0.1111111111111111,\"#46039f\"],[0.2222222222222222,\"#7201a8\"],[0.3333333333333333,\"#9c179e\"],[0.4444444444444444,\"#bd3786\"],[0.5555555555555556,\"#d8576b\"],[0.6666666666666666,\"#ed7953\"],[0.7777777777777778,\"#fb9f3a\"],[0.8888888888888888,\"#fdca26\"],[1.0,\"#f0f921\"]],\"type\":\"histogram2dcontour\"}],\"mesh3d\":[{\"colorbar\":{\"outlinewidth\":0,\"ticks\":\"\"},\"type\":\"mesh3d\"}],\"parcoords\":[{\"line\":{\"colorbar\":{\"outlinewidth\":0,\"ticks\":\"\"}},\"type\":\"parcoords\"}],\"pie\":[{\"automargin\":true,\"type\":\"pie\"}],\"scatter\":[{\"marker\":{\"colorbar\":{\"outlinewidth\":0,\"ticks\":\"\"}},\"type\":\"scatter\"}],\"scatter3d\":[{\"line\":{\"colorbar\":{\"outlinewidth\":0,\"ticks\":\"\"}},\"marker\":{\"colorbar\":{\"outlinewidth\":0,\"ticks\":\"\"}},\"type\":\"scatter3d\"}],\"scattercarpet\":[{\"marker\":{\"colorbar\":{\"outlinewidth\":0,\"ticks\":\"\"}},\"type\":\"scattercarpet\"}],\"scattergeo\":[{\"marker\":{\"colorbar\":{\"outlinewidth\":0,\"ticks\":\"\"}},\"type\":\"scattergeo\"}],\"scattergl\":[{\"marker\":{\"colorbar\":{\"outlinewidth\":0,\"ticks\":\"\"}},\"type\":\"scattergl\"}],\"scattermapbox\":[{\"marker\":{\"colorbar\":{\"outlinewidth\":0,\"ticks\":\"\"}},\"type\":\"scattermapbox\"}],\"scatterpolar\":[{\"marker\":{\"colorbar\":{\"outlinewidth\":0,\"ticks\":\"\"}},\"type\":\"scatterpolar\"}],\"scatterpolargl\":[{\"marker\":{\"colorbar\":{\"outlinewidth\":0,\"ticks\":\"\"}},\"type\":\"scatterpolargl\"}],\"scatterternary\":[{\"marker\":{\"colorbar\":{\"outlinewidth\":0,\"ticks\":\"\"}},\"type\":\"scatterternary\"}],\"surface\":[{\"colorbar\":{\"outlinewidth\":0,\"ticks\":\"\"},\"colorscale\":[[0.0,\"#0d0887\"],[0.1111111111111111,\"#46039f\"],[0.2222222222222222,\"#7201a8\"],[0.3333333333333333,\"#9c179e\"],[0.4444444444444444,\"#bd3786\"],[0.5555555555555556,\"#d8576b\"],[0.6666666666666666,\"#ed7953\"],[0.7777777777777778,\"#fb9f3a\"],[0.8888888888888888,\"#fdca26\"],[1.0,\"#f0f921\"]],\"type\":\"surface\"}],\"table\":[{\"cells\":{\"fill\":{\"color\":\"#EBF0F8\"},\"line\":{\"color\":\"white\"}},\"header\":{\"fill\":{\"color\":\"#C8D4E3\"},\"line\":{\"color\":\"white\"}},\"type\":\"table\"}]},\"layout\":{\"annotationdefaults\":{\"arrowcolor\":\"#2a3f5f\",\"arrowhead\":0,\"arrowwidth\":1},\"autotypenumbers\":\"strict\",\"coloraxis\":{\"colorbar\":{\"outlinewidth\":0,\"ticks\":\"\"}},\"colorscale\":{\"diverging\":[[0,\"#8e0152\"],[0.1,\"#c51b7d\"],[0.2,\"#de77ae\"],[0.3,\"#f1b6da\"],[0.4,\"#fde0ef\"],[0.5,\"#f7f7f7\"],[0.6,\"#e6f5d0\"],[0.7,\"#b8e186\"],[0.8,\"#7fbc41\"],[0.9,\"#4d9221\"],[1,\"#276419\"]],\"sequential\":[[0.0,\"#0d0887\"],[0.1111111111111111,\"#46039f\"],[0.2222222222222222,\"#7201a8\"],[0.3333333333333333,\"#9c179e\"],[0.4444444444444444,\"#bd3786\"],[0.5555555555555556,\"#d8576b\"],[0.6666666666666666,\"#ed7953\"],[0.7777777777777778,\"#fb9f3a\"],[0.8888888888888888,\"#fdca26\"],[1.0,\"#f0f921\"]],\"sequentialminus\":[[0.0,\"#0d0887\"],[0.1111111111111111,\"#46039f\"],[0.2222222222222222,\"#7201a8\"],[0.3333333333333333,\"#9c179e\"],[0.4444444444444444,\"#bd3786\"],[0.5555555555555556,\"#d8576b\"],[0.6666666666666666,\"#ed7953\"],[0.7777777777777778,\"#fb9f3a\"],[0.8888888888888888,\"#fdca26\"],[1.0,\"#f0f921\"]]},\"colorway\":[\"#636efa\",\"#EF553B\",\"#00cc96\",\"#ab63fa\",\"#FFA15A\",\"#19d3f3\",\"#FF6692\",\"#B6E880\",\"#FF97FF\",\"#FECB52\"],\"font\":{\"color\":\"#2a3f5f\"},\"geo\":{\"bgcolor\":\"white\",\"lakecolor\":\"white\",\"landcolor\":\"#E5ECF6\",\"showlakes\":true,\"showland\":true,\"subunitcolor\":\"white\"},\"hoverlabel\":{\"align\":\"left\"},\"hovermode\":\"closest\",\"mapbox\":{\"style\":\"light\"},\"paper_bgcolor\":\"white\",\"plot_bgcolor\":\"#E5ECF6\",\"polar\":{\"angularaxis\":{\"gridcolor\":\"white\",\"linecolor\":\"white\",\"ticks\":\"\"},\"bgcolor\":\"#E5ECF6\",\"radialaxis\":{\"gridcolor\":\"white\",\"linecolor\":\"white\",\"ticks\":\"\"}},\"scene\":{\"xaxis\":{\"backgroundcolor\":\"#E5ECF6\",\"gridcolor\":\"white\",\"gridwidth\":2,\"linecolor\":\"white\",\"showbackground\":true,\"ticks\":\"\",\"zerolinecolor\":\"white\"},\"yaxis\":{\"backgroundcolor\":\"#E5ECF6\",\"gridcolor\":\"white\",\"gridwidth\":2,\"linecolor\":\"white\",\"showbackground\":true,\"ticks\":\"\",\"zerolinecolor\":\"white\"},\"zaxis\":{\"backgroundcolor\":\"#E5ECF6\",\"gridcolor\":\"white\",\"gridwidth\":2,\"linecolor\":\"white\",\"showbackground\":true,\"ticks\":\"\",\"zerolinecolor\":\"white\"}},\"shapedefaults\":{\"line\":{\"color\":\"#2a3f5f\"}},\"ternary\":{\"aaxis\":{\"gridcolor\":\"white\",\"linecolor\":\"white\",\"ticks\":\"\"},\"baxis\":{\"gridcolor\":\"white\",\"linecolor\":\"white\",\"ticks\":\"\"},\"bgcolor\":\"#E5ECF6\",\"caxis\":{\"gridcolor\":\"white\",\"linecolor\":\"white\",\"ticks\":\"\"}},\"title\":{\"x\":0.05},\"xaxis\":{\"automargin\":true,\"gridcolor\":\"white\",\"linecolor\":\"white\",\"ticks\":\"\",\"title\":{\"standoff\":15},\"zerolinecolor\":\"white\",\"zerolinewidth\":2},\"yaxis\":{\"automargin\":true,\"gridcolor\":\"white\",\"linecolor\":\"white\",\"ticks\":\"\",\"title\":{\"standoff\":15},\"zerolinecolor\":\"white\",\"zerolinewidth\":2}}},\"xaxis\":{\"anchor\":\"y\",\"domain\":[0.0,1.0],\"title\":{\"text\":\"Date\"}},\"yaxis\":{\"anchor\":\"x\",\"domain\":[0.0,1.0],\"title\":{\"text\":\"Close\"}},\"legend\":{\"tracegroupgap\":0},\"margin\":{\"t\":60}},                        {\"responsive\": true}                    ).then(function(){\n",
              "                            \n",
              "var gd = document.getElementById('9a7e0ee5-1951-414b-b967-5766e64a04bc');\n",
              "var x = new MutationObserver(function (mutations, observer) {{\n",
              "        var display = window.getComputedStyle(gd).display;\n",
              "        if (!display || display === 'none') {{\n",
              "            console.log([gd, 'removed!']);\n",
              "            Plotly.purge(gd);\n",
              "            observer.disconnect();\n",
              "        }}\n",
              "}});\n",
              "\n",
              "// Listen for the removal of the full notebook cells\n",
              "var notebookContainer = gd.closest('#notebook-container');\n",
              "if (notebookContainer) {{\n",
              "    x.observe(notebookContainer, {childList: true});\n",
              "}}\n",
              "\n",
              "// Listen for the clearing of the current output cell\n",
              "var outputEl = gd.closest('.output');\n",
              "if (outputEl) {{\n",
              "    x.observe(outputEl, {childList: true});\n",
              "}}\n",
              "\n",
              "                        })                };                            </script>        </div>\n",
              "</body>\n",
              "</html>"
            ]
          },
          "metadata": {}
        }
      ]
    },
    {
      "cell_type": "markdown",
      "source": [
        "### Prepare for Prophet  \n"
      ],
      "metadata": {
        "id": "IwNgEQbdVDW8"
      }
    },
    {
      "cell_type": "markdown",
      "source": [
        "For prophet to work, we need to change the names of these columns to 'ds' and 'y'.\n",
        "\n",
        "We will convert datetime column to ds and target column to y.\n",
        "\n",
        "ds - datestamp column\n",
        "\n",
        "y - target column\n",
        "\n",
        "DataFrame.columns attribute return the column labels of the given Dataframe.\n"
      ],
      "metadata": {
        "id": "XfKqBA-RVDW8"
      }
    },
    {
      "cell_type": "code",
      "source": [
        "df.columns = ['ds','y']"
      ],
      "metadata": {
        "id": "ovfgk0n3VDW9"
      },
      "execution_count": null,
      "outputs": []
    },
    {
      "cell_type": "markdown",
      "source": [
        "### Print 5 rows of the Dataframe \n"
      ],
      "metadata": {
        "id": "cMjrW1DmVDW9"
      }
    },
    {
      "cell_type": "markdown",
      "source": [
        "Now you can see columns names are changed to ```ds``` and ```y```\n"
      ],
      "metadata": {
        "id": "VaHahaVIVDW9"
      }
    },
    {
      "cell_type": "code",
      "source": [
        "df.head()"
      ],
      "metadata": {
        "colab": {
          "base_uri": "https://localhost:8080/",
          "height": 206
        },
        "id": "FO676l_7VDW9",
        "outputId": "5bc74f15-2276-4ca3-f8a1-23591e690f17"
      },
      "execution_count": null,
      "outputs": [
        {
          "output_type": "execute_result",
          "data": {
            "text/plain": [
              "                         ds          y\n",
              "0 2002-07-08 00:00:00-04:00  16.549686\n",
              "1 2002-07-09 00:00:00-04:00  16.640388\n",
              "2 2002-07-10 00:00:00-04:00  16.337049\n",
              "3 2002-07-11 00:00:00-04:00  16.546576\n",
              "4 2002-07-12 00:00:00-04:00  16.218204"
            ],
            "text/html": [
              "\n",
              "  <div id=\"df-0e314521-95af-4512-a4f0-cab7df4fa811\">\n",
              "    <div class=\"colab-df-container\">\n",
              "      <div>\n",
              "<style scoped>\n",
              "    .dataframe tbody tr th:only-of-type {\n",
              "        vertical-align: middle;\n",
              "    }\n",
              "\n",
              "    .dataframe tbody tr th {\n",
              "        vertical-align: top;\n",
              "    }\n",
              "\n",
              "    .dataframe thead th {\n",
              "        text-align: right;\n",
              "    }\n",
              "</style>\n",
              "<table border=\"1\" class=\"dataframe\">\n",
              "  <thead>\n",
              "    <tr style=\"text-align: right;\">\n",
              "      <th></th>\n",
              "      <th>ds</th>\n",
              "      <th>y</th>\n",
              "    </tr>\n",
              "  </thead>\n",
              "  <tbody>\n",
              "    <tr>\n",
              "      <th>0</th>\n",
              "      <td>2002-07-08 00:00:00-04:00</td>\n",
              "      <td>16.549686</td>\n",
              "    </tr>\n",
              "    <tr>\n",
              "      <th>1</th>\n",
              "      <td>2002-07-09 00:00:00-04:00</td>\n",
              "      <td>16.640388</td>\n",
              "    </tr>\n",
              "    <tr>\n",
              "      <th>2</th>\n",
              "      <td>2002-07-10 00:00:00-04:00</td>\n",
              "      <td>16.337049</td>\n",
              "    </tr>\n",
              "    <tr>\n",
              "      <th>3</th>\n",
              "      <td>2002-07-11 00:00:00-04:00</td>\n",
              "      <td>16.546576</td>\n",
              "    </tr>\n",
              "    <tr>\n",
              "      <th>4</th>\n",
              "      <td>2002-07-12 00:00:00-04:00</td>\n",
              "      <td>16.218204</td>\n",
              "    </tr>\n",
              "  </tbody>\n",
              "</table>\n",
              "</div>\n",
              "      <button class=\"colab-df-convert\" onclick=\"convertToInteractive('df-0e314521-95af-4512-a4f0-cab7df4fa811')\"\n",
              "              title=\"Convert this dataframe to an interactive table.\"\n",
              "              style=\"display:none;\">\n",
              "        \n",
              "  <svg xmlns=\"http://www.w3.org/2000/svg\" height=\"24px\"viewBox=\"0 0 24 24\"\n",
              "       width=\"24px\">\n",
              "    <path d=\"M0 0h24v24H0V0z\" fill=\"none\"/>\n",
              "    <path d=\"M18.56 5.44l.94 2.06.94-2.06 2.06-.94-2.06-.94-.94-2.06-.94 2.06-2.06.94zm-11 1L8.5 8.5l.94-2.06 2.06-.94-2.06-.94L8.5 2.5l-.94 2.06-2.06.94zm10 10l.94 2.06.94-2.06 2.06-.94-2.06-.94-.94-2.06-.94 2.06-2.06.94z\"/><path d=\"M17.41 7.96l-1.37-1.37c-.4-.4-.92-.59-1.43-.59-.52 0-1.04.2-1.43.59L10.3 9.45l-7.72 7.72c-.78.78-.78 2.05 0 2.83L4 21.41c.39.39.9.59 1.41.59.51 0 1.02-.2 1.41-.59l7.78-7.78 2.81-2.81c.8-.78.8-2.07 0-2.86zM5.41 20L4 18.59l7.72-7.72 1.47 1.35L5.41 20z\"/>\n",
              "  </svg>\n",
              "      </button>\n",
              "      \n",
              "  <style>\n",
              "    .colab-df-container {\n",
              "      display:flex;\n",
              "      flex-wrap:wrap;\n",
              "      gap: 12px;\n",
              "    }\n",
              "\n",
              "    .colab-df-convert {\n",
              "      background-color: #E8F0FE;\n",
              "      border: none;\n",
              "      border-radius: 50%;\n",
              "      cursor: pointer;\n",
              "      display: none;\n",
              "      fill: #1967D2;\n",
              "      height: 32px;\n",
              "      padding: 0 0 0 0;\n",
              "      width: 32px;\n",
              "    }\n",
              "\n",
              "    .colab-df-convert:hover {\n",
              "      background-color: #E2EBFA;\n",
              "      box-shadow: 0px 1px 2px rgba(60, 64, 67, 0.3), 0px 1px 3px 1px rgba(60, 64, 67, 0.15);\n",
              "      fill: #174EA6;\n",
              "    }\n",
              "\n",
              "    [theme=dark] .colab-df-convert {\n",
              "      background-color: #3B4455;\n",
              "      fill: #D2E3FC;\n",
              "    }\n",
              "\n",
              "    [theme=dark] .colab-df-convert:hover {\n",
              "      background-color: #434B5C;\n",
              "      box-shadow: 0px 1px 3px 1px rgba(0, 0, 0, 0.15);\n",
              "      filter: drop-shadow(0px 1px 2px rgba(0, 0, 0, 0.3));\n",
              "      fill: #FFFFFF;\n",
              "    }\n",
              "  </style>\n",
              "\n",
              "      <script>\n",
              "        const buttonEl =\n",
              "          document.querySelector('#df-0e314521-95af-4512-a4f0-cab7df4fa811 button.colab-df-convert');\n",
              "        buttonEl.style.display =\n",
              "          google.colab.kernel.accessAllowed ? 'block' : 'none';\n",
              "\n",
              "        async function convertToInteractive(key) {\n",
              "          const element = document.querySelector('#df-0e314521-95af-4512-a4f0-cab7df4fa811');\n",
              "          const dataTable =\n",
              "            await google.colab.kernel.invokeFunction('convertToInteractive',\n",
              "                                                     [key], {});\n",
              "          if (!dataTable) return;\n",
              "\n",
              "          const docLinkHtml = 'Like what you see? Visit the ' +\n",
              "            '<a target=\"_blank\" href=https://colab.research.google.com/notebooks/data_table.ipynb>data table notebook</a>'\n",
              "            + ' to learn more about interactive tables.';\n",
              "          element.innerHTML = '';\n",
              "          dataTable['output_type'] = 'display_data';\n",
              "          await google.colab.output.renderOutput(dataTable, element);\n",
              "          const docLink = document.createElement('div');\n",
              "          docLink.innerHTML = docLinkHtml;\n",
              "          element.appendChild(docLink);\n",
              "        }\n",
              "      </script>\n",
              "    </div>\n",
              "  </div>\n",
              "  "
            ]
          },
          "metadata": {},
          "execution_count": 68
        }
      ]
    },
    {
      "cell_type": "markdown",
      "source": [
        "### Initialize the Model\n"
      ],
      "metadata": {
        "id": "y8DAoGVdVDW9"
      }
    },
    {
      "cell_type": "markdown",
      "source": [
        "We fit the model by ```instantiating a new Prophet object```. Any settings to the forecasting procedure are passed into the constructor. \n",
        "\n",
        "Then you call the fit method and pass in the historical dataframe. \n",
        "\n",
        "Fitting should take 1-7 seconds.\n"
      ],
      "metadata": {
        "id": "PKUZgNsPVDW-"
      }
    },
    {
      "cell_type": "code",
      "source": [
        "model=Prophet()"
      ],
      "metadata": {
        "id": "nKOnyd1BVDW-"
      },
      "execution_count": null,
      "outputs": []
    },
    {
      "cell_type": "markdown",
      "source": [
        "### Fit the model to dataframe (df)\n"
      ],
      "metadata": {
        "id": "gVAGiyaOVDW-"
      }
    },
    {
      "cell_type": "markdown",
      "source": [
        "The ```fit()``` function takes a DataFrame of time series data. The DataFrame must have a specific format. \n",
        "\n",
        "The first column must have the name ```ds``` and contain the date-times. \n",
        "\n",
        "The second column must have the name ```y``` and contain the observations.\n"
      ],
      "metadata": {
        "id": "yM84qWynVDW-"
      }
    },
    {
      "cell_type": "code",
      "source": [
        "model.fit(df)"
      ],
      "metadata": {
        "colab": {
          "base_uri": "https://localhost:8080/"
        },
        "id": "HbRlm3fvVDW-",
        "outputId": "5ec5185e-d49e-4f7d-c5a5-97eb6004e7b5"
      },
      "execution_count": null,
      "outputs": [
        {
          "output_type": "stream",
          "name": "stderr",
          "text": [
            "INFO:prophet:Disabling daily seasonality. Run prophet with daily_seasonality=True to override this.\n",
            "DEBUG:cmdstanpy:input tempfile: /tmp/tmpq169rhqv/jhrc2c7b.json\n",
            "DEBUG:cmdstanpy:input tempfile: /tmp/tmpq169rhqv/g4k613w3.json\n",
            "DEBUG:cmdstanpy:idx 0\n",
            "DEBUG:cmdstanpy:running CmdStan, num_threads: None\n",
            "DEBUG:cmdstanpy:CmdStan args: ['/usr/local/lib/python3.8/dist-packages/prophet/stan_model/prophet_model.bin', 'random', 'seed=54348', 'data', 'file=/tmp/tmpq169rhqv/jhrc2c7b.json', 'init=/tmp/tmpq169rhqv/g4k613w3.json', 'output', 'file=/tmp/tmpq169rhqv/prophet_modelvcw6_y6b/prophet_model-20221202161150.csv', 'method=optimize', 'algorithm=lbfgs', 'iter=10000']\n",
            "16:11:50 - cmdstanpy - INFO - Chain [1] start processing\n",
            "INFO:cmdstanpy:Chain [1] start processing\n",
            "16:11:50 - cmdstanpy - INFO - Chain [1] done processing\n",
            "INFO:cmdstanpy:Chain [1] done processing\n"
          ]
        },
        {
          "output_type": "execute_result",
          "data": {
            "text/plain": [
              "<prophet.forecaster.Prophet at 0x7f3b74b548e0>"
            ]
          },
          "metadata": {},
          "execution_count": 84
        }
      ]
    },
    {
      "cell_type": "markdown",
      "source": [
        "### Print Model Components\n"
      ],
      "metadata": {
        "id": "y2b2MoyfVDW-"
      }
    },
    {
      "cell_type": "markdown",
      "source": [
        "If you want to see the forecast components, you can use the Prophet.plot_components method. \n",
        "\n",
        "By default you’ll see the trend, yearly seasonality, and weekly seasonality of the time series. If you include holidays, you’ll see those here, too.\n",
        "\n",
        "In this time series, the seasonality is not a constant additive factor as assumed by Prophet, rather it grows with the trend. This is multiplicative seasonality.\n"
      ],
      "metadata": {
        "id": "0ZNrdjkOVDW_"
      }
    },
    {
      "cell_type": "code",
      "source": [
        "model.component_modes"
      ],
      "metadata": {
        "colab": {
          "base_uri": "https://localhost:8080/"
        },
        "id": "YaqerNA-VDW_",
        "outputId": "188c8f62-ffd6-44db-c39e-945085427009"
      },
      "execution_count": null,
      "outputs": [
        {
          "output_type": "execute_result",
          "data": {
            "text/plain": [
              "{'additive': ['yearly',\n",
              "  'weekly',\n",
              "  'additive_terms',\n",
              "  'extra_regressors_additive',\n",
              "  'holidays'],\n",
              " 'multiplicative': ['multiplicative_terms', 'extra_regressors_multiplicative']}"
            ]
          },
          "metadata": {},
          "execution_count": 85
        }
      ]
    },
    {
      "cell_type": "markdown",
      "source": [
        "### Make Future Dataframe\n"
      ],
      "metadata": {
        "id": "Mso_bWTVVDW_"
      }
    },
    {
      "cell_type": "markdown",
      "source": [
        "A ```make_future_dataframe``` function Make dataframe with future dates for forecasting.\n"
      ],
      "metadata": {
        "id": "EJN-qgAkVDW_"
      }
    },
    {
      "cell_type": "markdown",
      "source": [
        "#### Arguments:\n",
        "<table height=\"40%\",width=\"60%\" style=\"font-size:16px;\">\n",
        "    \n",
        "<tr><td>periods</td><td> - </td> <td>Int number of periods to forecast forward.</td></tr>\n",
        "\n",
        "<tr><td>freq</td><td> - </td> <td>'day', 'week', 'month', 'quarter', 'year', 1(1 sec), 60(1 minute) or 3600(1 hour).</td></tr>\n",
        "\n",
        "<tr><td>include_history</td><td> - </td> <td>Boolean to include the historical dates in the data frame for predictions.</td></tr>\n",
        "   \n",
        "</table>\n"
      ],
      "metadata": {
        "id": "q3lhhCkGVDW_"
      }
    },
    {
      "cell_type": "code",
      "source": [
        "future_dates = model.make_future_dataframe(periods=150,freq='d',include_history=True)\n",
        "future_dates.shape"
      ],
      "metadata": {
        "colab": {
          "base_uri": "https://localhost:8080/"
        },
        "id": "Qlk4mqAyVDW_",
        "outputId": "e446fd79-34e7-4a79-acf6-b7e9d48a9b45"
      },
      "execution_count": null,
      "outputs": [
        {
          "output_type": "execute_result",
          "data": {
            "text/plain": [
              "(905, 1)"
            ]
          },
          "metadata": {},
          "execution_count": 86
        }
      ]
    },
    {
      "cell_type": "markdown",
      "source": [
        "Print the future_dates datframe first 5 rows.\n"
      ],
      "metadata": {
        "id": "SU9v0OMHVDXA"
      }
    },
    {
      "cell_type": "code",
      "source": [
        "future_dates.head()"
      ],
      "metadata": {
        "colab": {
          "base_uri": "https://localhost:8080/",
          "height": 206
        },
        "id": "WlrFtycNVDXA",
        "outputId": "86d66e29-d575-4983-e2f3-e57cf686a42a"
      },
      "execution_count": null,
      "outputs": [
        {
          "output_type": "execute_result",
          "data": {
            "text/plain": [
              "          ds\n",
              "0 2019-01-07\n",
              "1 2019-01-08\n",
              "2 2019-01-09\n",
              "3 2019-01-10\n",
              "4 2019-01-11"
            ],
            "text/html": [
              "\n",
              "  <div id=\"df-84bec554-9050-4299-a426-fcda468da166\">\n",
              "    <div class=\"colab-df-container\">\n",
              "      <div>\n",
              "<style scoped>\n",
              "    .dataframe tbody tr th:only-of-type {\n",
              "        vertical-align: middle;\n",
              "    }\n",
              "\n",
              "    .dataframe tbody tr th {\n",
              "        vertical-align: top;\n",
              "    }\n",
              "\n",
              "    .dataframe thead th {\n",
              "        text-align: right;\n",
              "    }\n",
              "</style>\n",
              "<table border=\"1\" class=\"dataframe\">\n",
              "  <thead>\n",
              "    <tr style=\"text-align: right;\">\n",
              "      <th></th>\n",
              "      <th>ds</th>\n",
              "    </tr>\n",
              "  </thead>\n",
              "  <tbody>\n",
              "    <tr>\n",
              "      <th>0</th>\n",
              "      <td>2019-01-07</td>\n",
              "    </tr>\n",
              "    <tr>\n",
              "      <th>1</th>\n",
              "      <td>2019-01-08</td>\n",
              "    </tr>\n",
              "    <tr>\n",
              "      <th>2</th>\n",
              "      <td>2019-01-09</td>\n",
              "    </tr>\n",
              "    <tr>\n",
              "      <th>3</th>\n",
              "      <td>2019-01-10</td>\n",
              "    </tr>\n",
              "    <tr>\n",
              "      <th>4</th>\n",
              "      <td>2019-01-11</td>\n",
              "    </tr>\n",
              "  </tbody>\n",
              "</table>\n",
              "</div>\n",
              "      <button class=\"colab-df-convert\" onclick=\"convertToInteractive('df-84bec554-9050-4299-a426-fcda468da166')\"\n",
              "              title=\"Convert this dataframe to an interactive table.\"\n",
              "              style=\"display:none;\">\n",
              "        \n",
              "  <svg xmlns=\"http://www.w3.org/2000/svg\" height=\"24px\"viewBox=\"0 0 24 24\"\n",
              "       width=\"24px\">\n",
              "    <path d=\"M0 0h24v24H0V0z\" fill=\"none\"/>\n",
              "    <path d=\"M18.56 5.44l.94 2.06.94-2.06 2.06-.94-2.06-.94-.94-2.06-.94 2.06-2.06.94zm-11 1L8.5 8.5l.94-2.06 2.06-.94-2.06-.94L8.5 2.5l-.94 2.06-2.06.94zm10 10l.94 2.06.94-2.06 2.06-.94-2.06-.94-.94-2.06-.94 2.06-2.06.94z\"/><path d=\"M17.41 7.96l-1.37-1.37c-.4-.4-.92-.59-1.43-.59-.52 0-1.04.2-1.43.59L10.3 9.45l-7.72 7.72c-.78.78-.78 2.05 0 2.83L4 21.41c.39.39.9.59 1.41.59.51 0 1.02-.2 1.41-.59l7.78-7.78 2.81-2.81c.8-.78.8-2.07 0-2.86zM5.41 20L4 18.59l7.72-7.72 1.47 1.35L5.41 20z\"/>\n",
              "  </svg>\n",
              "      </button>\n",
              "      \n",
              "  <style>\n",
              "    .colab-df-container {\n",
              "      display:flex;\n",
              "      flex-wrap:wrap;\n",
              "      gap: 12px;\n",
              "    }\n",
              "\n",
              "    .colab-df-convert {\n",
              "      background-color: #E8F0FE;\n",
              "      border: none;\n",
              "      border-radius: 50%;\n",
              "      cursor: pointer;\n",
              "      display: none;\n",
              "      fill: #1967D2;\n",
              "      height: 32px;\n",
              "      padding: 0 0 0 0;\n",
              "      width: 32px;\n",
              "    }\n",
              "\n",
              "    .colab-df-convert:hover {\n",
              "      background-color: #E2EBFA;\n",
              "      box-shadow: 0px 1px 2px rgba(60, 64, 67, 0.3), 0px 1px 3px 1px rgba(60, 64, 67, 0.15);\n",
              "      fill: #174EA6;\n",
              "    }\n",
              "\n",
              "    [theme=dark] .colab-df-convert {\n",
              "      background-color: #3B4455;\n",
              "      fill: #D2E3FC;\n",
              "    }\n",
              "\n",
              "    [theme=dark] .colab-df-convert:hover {\n",
              "      background-color: #434B5C;\n",
              "      box-shadow: 0px 1px 3px 1px rgba(0, 0, 0, 0.15);\n",
              "      filter: drop-shadow(0px 1px 2px rgba(0, 0, 0, 0.3));\n",
              "      fill: #FFFFFF;\n",
              "    }\n",
              "  </style>\n",
              "\n",
              "      <script>\n",
              "        const buttonEl =\n",
              "          document.querySelector('#df-84bec554-9050-4299-a426-fcda468da166 button.colab-df-convert');\n",
              "        buttonEl.style.display =\n",
              "          google.colab.kernel.accessAllowed ? 'block' : 'none';\n",
              "\n",
              "        async function convertToInteractive(key) {\n",
              "          const element = document.querySelector('#df-84bec554-9050-4299-a426-fcda468da166');\n",
              "          const dataTable =\n",
              "            await google.colab.kernel.invokeFunction('convertToInteractive',\n",
              "                                                     [key], {});\n",
              "          if (!dataTable) return;\n",
              "\n",
              "          const docLinkHtml = 'Like what you see? Visit the ' +\n",
              "            '<a target=\"_blank\" href=https://colab.research.google.com/notebooks/data_table.ipynb>data table notebook</a>'\n",
              "            + ' to learn more about interactive tables.';\n",
              "          element.innerHTML = '';\n",
              "          dataTable['output_type'] = 'display_data';\n",
              "          await google.colab.output.renderOutput(dataTable, element);\n",
              "          const docLink = document.createElement('div');\n",
              "          docLink.innerHTML = docLinkHtml;\n",
              "          element.appendChild(docLink);\n",
              "        }\n",
              "      </script>\n",
              "    </div>\n",
              "  </div>\n",
              "  "
            ]
          },
          "metadata": {},
          "execution_count": 22
        }
      ]
    },
    {
      "cell_type": "markdown",
      "source": [
        "### Prediction of the model\n"
      ],
      "metadata": {
        "id": "uURg_i4RVDXA"
      }
    },
    {
      "cell_type": "markdown",
      "source": [
        "To predict, we use the predict() method and pass in the future dataframe as shown below.\n"
      ],
      "metadata": {
        "id": "Gl9QyLxWVDXA"
      }
    },
    {
      "cell_type": "code",
      "source": [
        "prediction=model.predict(future_dates)"
      ],
      "metadata": {
        "id": "gSSNDNzoVDXA"
      },
      "execution_count": null,
      "outputs": []
    },
    {
      "cell_type": "markdown",
      "source": [
        "#### From the results generated, the model has generated a lot of information in addition to the predicted ds and yhat column. \n",
        "#### The most important column is the ```yhat column```, as it is what represents your ```Usage forecast```.\n"
      ],
      "metadata": {
        "id": "MOk7lFApVDXA"
      }
    },
    {
      "cell_type": "markdown",
      "source": [
        "yhat upper values and yhate lower values - Uncertainity Interval\n",
        "\n",
        "There are three sources of uncertainty in the forecast:\n",
        " 1) uncertainty in the trend. \n",
        " 2) uncertainty in the seasonality estimates.\n",
        " 3) additional observation noise.\n"
      ],
      "metadata": {
        "id": "TmJgieWEVDXF"
      }
    },
    {
      "cell_type": "code",
      "source": [
        "prediction.head()"
      ],
      "metadata": {
        "colab": {
          "base_uri": "https://localhost:8080/",
          "height": 357
        },
        "id": "X7hwbD-PVDXG",
        "outputId": "34262746-15aa-4ea0-c810-bb764845cd53"
      },
      "execution_count": null,
      "outputs": [
        {
          "output_type": "execute_result",
          "data": {
            "text/plain": [
              "          ds      trend  yhat_lower  yhat_upper  trend_lower  trend_upper  \\\n",
              "0 2002-07-08  15.265292   14.702028   16.301140    15.265292    15.265292   \n",
              "1 2002-07-09  15.270795   14.635644   16.300432    15.270795    15.270795   \n",
              "2 2002-07-10  15.276299   14.703831   16.271944    15.276299    15.276299   \n",
              "3 2002-07-11  15.281803   14.726661   16.370445    15.281803    15.281803   \n",
              "4 2002-07-12  15.287307   14.707060   16.290996    15.287307    15.287307   \n",
              "\n",
              "   additive_terms  additive_terms_lower  additive_terms_upper    weekly  \\\n",
              "0        0.218752              0.218752              0.218752 -0.242261   \n",
              "1        0.227329              0.227329              0.227329 -0.253757   \n",
              "2        0.259896              0.259896              0.259896 -0.235094   \n",
              "3        0.253401              0.253401              0.253401 -0.249086   \n",
              "4        0.219642              0.219642              0.219642 -0.283796   \n",
              "\n",
              "   weekly_lower  weekly_upper    yearly  yearly_lower  yearly_upper  \\\n",
              "0     -0.242261     -0.242261  0.461013      0.461013      0.461013   \n",
              "1     -0.253757     -0.253757  0.481086      0.481086      0.481086   \n",
              "2     -0.235094     -0.235094  0.494989      0.494989      0.494989   \n",
              "3     -0.249086     -0.249086  0.502487      0.502487      0.502487   \n",
              "4     -0.283796     -0.283796  0.503438      0.503438      0.503438   \n",
              "\n",
              "   multiplicative_terms  multiplicative_terms_lower  \\\n",
              "0                   0.0                         0.0   \n",
              "1                   0.0                         0.0   \n",
              "2                   0.0                         0.0   \n",
              "3                   0.0                         0.0   \n",
              "4                   0.0                         0.0   \n",
              "\n",
              "   multiplicative_terms_upper       yhat  \n",
              "0                         0.0  15.484043  \n",
              "1                         0.0  15.498124  \n",
              "2                         0.0  15.536195  \n",
              "3                         0.0  15.535204  \n",
              "4                         0.0  15.506948  "
            ],
            "text/html": [
              "\n",
              "  <div id=\"df-152cb441-fff1-444b-a20a-fd75f15953c0\">\n",
              "    <div class=\"colab-df-container\">\n",
              "      <div>\n",
              "<style scoped>\n",
              "    .dataframe tbody tr th:only-of-type {\n",
              "        vertical-align: middle;\n",
              "    }\n",
              "\n",
              "    .dataframe tbody tr th {\n",
              "        vertical-align: top;\n",
              "    }\n",
              "\n",
              "    .dataframe thead th {\n",
              "        text-align: right;\n",
              "    }\n",
              "</style>\n",
              "<table border=\"1\" class=\"dataframe\">\n",
              "  <thead>\n",
              "    <tr style=\"text-align: right;\">\n",
              "      <th></th>\n",
              "      <th>ds</th>\n",
              "      <th>trend</th>\n",
              "      <th>yhat_lower</th>\n",
              "      <th>yhat_upper</th>\n",
              "      <th>trend_lower</th>\n",
              "      <th>trend_upper</th>\n",
              "      <th>additive_terms</th>\n",
              "      <th>additive_terms_lower</th>\n",
              "      <th>additive_terms_upper</th>\n",
              "      <th>weekly</th>\n",
              "      <th>weekly_lower</th>\n",
              "      <th>weekly_upper</th>\n",
              "      <th>yearly</th>\n",
              "      <th>yearly_lower</th>\n",
              "      <th>yearly_upper</th>\n",
              "      <th>multiplicative_terms</th>\n",
              "      <th>multiplicative_terms_lower</th>\n",
              "      <th>multiplicative_terms_upper</th>\n",
              "      <th>yhat</th>\n",
              "    </tr>\n",
              "  </thead>\n",
              "  <tbody>\n",
              "    <tr>\n",
              "      <th>0</th>\n",
              "      <td>2002-07-08</td>\n",
              "      <td>15.265292</td>\n",
              "      <td>14.702028</td>\n",
              "      <td>16.301140</td>\n",
              "      <td>15.265292</td>\n",
              "      <td>15.265292</td>\n",
              "      <td>0.218752</td>\n",
              "      <td>0.218752</td>\n",
              "      <td>0.218752</td>\n",
              "      <td>-0.242261</td>\n",
              "      <td>-0.242261</td>\n",
              "      <td>-0.242261</td>\n",
              "      <td>0.461013</td>\n",
              "      <td>0.461013</td>\n",
              "      <td>0.461013</td>\n",
              "      <td>0.0</td>\n",
              "      <td>0.0</td>\n",
              "      <td>0.0</td>\n",
              "      <td>15.484043</td>\n",
              "    </tr>\n",
              "    <tr>\n",
              "      <th>1</th>\n",
              "      <td>2002-07-09</td>\n",
              "      <td>15.270795</td>\n",
              "      <td>14.635644</td>\n",
              "      <td>16.300432</td>\n",
              "      <td>15.270795</td>\n",
              "      <td>15.270795</td>\n",
              "      <td>0.227329</td>\n",
              "      <td>0.227329</td>\n",
              "      <td>0.227329</td>\n",
              "      <td>-0.253757</td>\n",
              "      <td>-0.253757</td>\n",
              "      <td>-0.253757</td>\n",
              "      <td>0.481086</td>\n",
              "      <td>0.481086</td>\n",
              "      <td>0.481086</td>\n",
              "      <td>0.0</td>\n",
              "      <td>0.0</td>\n",
              "      <td>0.0</td>\n",
              "      <td>15.498124</td>\n",
              "    </tr>\n",
              "    <tr>\n",
              "      <th>2</th>\n",
              "      <td>2002-07-10</td>\n",
              "      <td>15.276299</td>\n",
              "      <td>14.703831</td>\n",
              "      <td>16.271944</td>\n",
              "      <td>15.276299</td>\n",
              "      <td>15.276299</td>\n",
              "      <td>0.259896</td>\n",
              "      <td>0.259896</td>\n",
              "      <td>0.259896</td>\n",
              "      <td>-0.235094</td>\n",
              "      <td>-0.235094</td>\n",
              "      <td>-0.235094</td>\n",
              "      <td>0.494989</td>\n",
              "      <td>0.494989</td>\n",
              "      <td>0.494989</td>\n",
              "      <td>0.0</td>\n",
              "      <td>0.0</td>\n",
              "      <td>0.0</td>\n",
              "      <td>15.536195</td>\n",
              "    </tr>\n",
              "    <tr>\n",
              "      <th>3</th>\n",
              "      <td>2002-07-11</td>\n",
              "      <td>15.281803</td>\n",
              "      <td>14.726661</td>\n",
              "      <td>16.370445</td>\n",
              "      <td>15.281803</td>\n",
              "      <td>15.281803</td>\n",
              "      <td>0.253401</td>\n",
              "      <td>0.253401</td>\n",
              "      <td>0.253401</td>\n",
              "      <td>-0.249086</td>\n",
              "      <td>-0.249086</td>\n",
              "      <td>-0.249086</td>\n",
              "      <td>0.502487</td>\n",
              "      <td>0.502487</td>\n",
              "      <td>0.502487</td>\n",
              "      <td>0.0</td>\n",
              "      <td>0.0</td>\n",
              "      <td>0.0</td>\n",
              "      <td>15.535204</td>\n",
              "    </tr>\n",
              "    <tr>\n",
              "      <th>4</th>\n",
              "      <td>2002-07-12</td>\n",
              "      <td>15.287307</td>\n",
              "      <td>14.707060</td>\n",
              "      <td>16.290996</td>\n",
              "      <td>15.287307</td>\n",
              "      <td>15.287307</td>\n",
              "      <td>0.219642</td>\n",
              "      <td>0.219642</td>\n",
              "      <td>0.219642</td>\n",
              "      <td>-0.283796</td>\n",
              "      <td>-0.283796</td>\n",
              "      <td>-0.283796</td>\n",
              "      <td>0.503438</td>\n",
              "      <td>0.503438</td>\n",
              "      <td>0.503438</td>\n",
              "      <td>0.0</td>\n",
              "      <td>0.0</td>\n",
              "      <td>0.0</td>\n",
              "      <td>15.506948</td>\n",
              "    </tr>\n",
              "  </tbody>\n",
              "</table>\n",
              "</div>\n",
              "      <button class=\"colab-df-convert\" onclick=\"convertToInteractive('df-152cb441-fff1-444b-a20a-fd75f15953c0')\"\n",
              "              title=\"Convert this dataframe to an interactive table.\"\n",
              "              style=\"display:none;\">\n",
              "        \n",
              "  <svg xmlns=\"http://www.w3.org/2000/svg\" height=\"24px\"viewBox=\"0 0 24 24\"\n",
              "       width=\"24px\">\n",
              "    <path d=\"M0 0h24v24H0V0z\" fill=\"none\"/>\n",
              "    <path d=\"M18.56 5.44l.94 2.06.94-2.06 2.06-.94-2.06-.94-.94-2.06-.94 2.06-2.06.94zm-11 1L8.5 8.5l.94-2.06 2.06-.94-2.06-.94L8.5 2.5l-.94 2.06-2.06.94zm10 10l.94 2.06.94-2.06 2.06-.94-2.06-.94-.94-2.06-.94 2.06-2.06.94z\"/><path d=\"M17.41 7.96l-1.37-1.37c-.4-.4-.92-.59-1.43-.59-.52 0-1.04.2-1.43.59L10.3 9.45l-7.72 7.72c-.78.78-.78 2.05 0 2.83L4 21.41c.39.39.9.59 1.41.59.51 0 1.02-.2 1.41-.59l7.78-7.78 2.81-2.81c.8-.78.8-2.07 0-2.86zM5.41 20L4 18.59l7.72-7.72 1.47 1.35L5.41 20z\"/>\n",
              "  </svg>\n",
              "      </button>\n",
              "      \n",
              "  <style>\n",
              "    .colab-df-container {\n",
              "      display:flex;\n",
              "      flex-wrap:wrap;\n",
              "      gap: 12px;\n",
              "    }\n",
              "\n",
              "    .colab-df-convert {\n",
              "      background-color: #E8F0FE;\n",
              "      border: none;\n",
              "      border-radius: 50%;\n",
              "      cursor: pointer;\n",
              "      display: none;\n",
              "      fill: #1967D2;\n",
              "      height: 32px;\n",
              "      padding: 0 0 0 0;\n",
              "      width: 32px;\n",
              "    }\n",
              "\n",
              "    .colab-df-convert:hover {\n",
              "      background-color: #E2EBFA;\n",
              "      box-shadow: 0px 1px 2px rgba(60, 64, 67, 0.3), 0px 1px 3px 1px rgba(60, 64, 67, 0.15);\n",
              "      fill: #174EA6;\n",
              "    }\n",
              "\n",
              "    [theme=dark] .colab-df-convert {\n",
              "      background-color: #3B4455;\n",
              "      fill: #D2E3FC;\n",
              "    }\n",
              "\n",
              "    [theme=dark] .colab-df-convert:hover {\n",
              "      background-color: #434B5C;\n",
              "      box-shadow: 0px 1px 3px 1px rgba(0, 0, 0, 0.15);\n",
              "      filter: drop-shadow(0px 1px 2px rgba(0, 0, 0, 0.3));\n",
              "      fill: #FFFFFF;\n",
              "    }\n",
              "  </style>\n",
              "\n",
              "      <script>\n",
              "        const buttonEl =\n",
              "          document.querySelector('#df-152cb441-fff1-444b-a20a-fd75f15953c0 button.colab-df-convert');\n",
              "        buttonEl.style.display =\n",
              "          google.colab.kernel.accessAllowed ? 'block' : 'none';\n",
              "\n",
              "        async function convertToInteractive(key) {\n",
              "          const element = document.querySelector('#df-152cb441-fff1-444b-a20a-fd75f15953c0');\n",
              "          const dataTable =\n",
              "            await google.colab.kernel.invokeFunction('convertToInteractive',\n",
              "                                                     [key], {});\n",
              "          if (!dataTable) return;\n",
              "\n",
              "          const docLinkHtml = 'Like what you see? Visit the ' +\n",
              "            '<a target=\"_blank\" href=https://colab.research.google.com/notebooks/data_table.ipynb>data table notebook</a>'\n",
              "            + ' to learn more about interactive tables.';\n",
              "          element.innerHTML = '';\n",
              "          dataTable['output_type'] = 'display_data';\n",
              "          await google.colab.output.renderOutput(dataTable, element);\n",
              "          const docLink = document.createElement('div');\n",
              "          docLink.innerHTML = docLinkHtml;\n",
              "          element.appendChild(docLink);\n",
              "        }\n",
              "      </script>\n",
              "    </div>\n",
              "  </div>\n",
              "  "
            ]
          },
          "metadata": {},
          "execution_count": 88
        }
      ]
    },
    {
      "cell_type": "markdown",
      "source": [
        "### Plot The Prediction\n"
      ],
      "metadata": {
        "id": "4AoRMVO6VDXG"
      }
    },
    {
      "cell_type": "markdown",
      "source": [
        "The ```scatter trace``` type encompasses ```line charts, scatter charts, text charts, and bubble charts.```\n",
        "\n",
        "The data visualized as scatter point or lines is set in x and y. Text (appearing either on the chart or on hover only) is via text.\n",
        "\n",
        "Parameteres:\n",
        "- x – Sets the x coordinates.\n",
        "- y – Sets the y coordinates.\n",
        "- mode – Determines the drawing mode for this scatter trace. \n",
        "  If there are less than 20 points and the trace is not stacked then the default is “lines+markers”. Otherwise, “lines”.\n",
        "- name - Sets the trace name. The trace name appear as the legend item and on hover.\n"
      ],
      "metadata": {
        "id": "TuFchr4XVDXG"
      }
    },
    {
      "cell_type": "code",
      "source": [
        "trace_open = go.Scatter(\n",
        "    x = prediction[\"ds\"],\n",
        "    y = prediction[\"yhat\"],\n",
        "    mode = 'lines',\n",
        "    name=\"Forecast\"\n",
        ")\n",
        "trace_high = go.Scatter(\n",
        "    x = prediction[\"ds\"],\n",
        "    y = prediction[\"yhat_upper\"],\n",
        "    mode = 'lines',\n",
        "    fill = \"tonexty\", \n",
        "    line = {\"color\": \"#57b8ff\"}, \n",
        "    name=\"Higher uncertainty interval\"\n",
        ")\n",
        "trace_low = go.Scatter(\n",
        "    x = prediction[\"ds\"],\n",
        "    y = prediction[\"yhat_lower\"],\n",
        "    mode = 'lines',\n",
        "    fill = \"tonexty\", \n",
        "    line = {\"color\": \"#57b8ff\"}, \n",
        "    name=\"Lower uncertainty interval\"\n",
        ")\n",
        "trace_close = go.Scatter(\n",
        "    x = df[\"ds\"],\n",
        "    y = df[\"y\"],\n",
        "    name=\"Data values\"\n",
        ")\n",
        "\n",
        "#make list for all three scattle objects.\n",
        "data = [trace_open,trace_high,trace_low,trace_close]\n",
        "# Construct a new Layout object. \n",
        "#title - It will display string as a title of graph\n",
        "layout = go.Layout(title=\"Power consumption forecasting\")\n",
        "#A list or tuple of trace instances (e.g. [Scatter(…), Bar(…)]) or A single trace instance (e.g. Scatter(…), Bar(…), etc.)\n",
        "#A list or tuple of dicts of string/value properties where: - The ‘type’ property specifies the trace type.\n",
        "\n",
        "fig = go.Figure(data=data)\n",
        "fig.show()"
      ],
      "metadata": {
        "colab": {
          "base_uri": "https://localhost:8080/",
          "height": 542
        },
        "id": "Q_8D5UckVDXG",
        "outputId": "f8d57c9e-6161-4fa5-ec66-9553c40b6ab9"
      },
      "execution_count": null,
      "outputs": [
        {
          "output_type": "display_data",
          "data": {
            "text/html": [
              "<html>\n",
              "<head><meta charset=\"utf-8\" /></head>\n",
              "<body>\n",
              "    <div>            <script src=\"https://cdnjs.cloudflare.com/ajax/libs/mathjax/2.7.5/MathJax.js?config=TeX-AMS-MML_SVG\"></script><script type=\"text/javascript\">if (window.MathJax) {MathJax.Hub.Config({SVG: {font: \"STIX-Web\"}});}</script>                <script type=\"text/javascript\">window.PlotlyConfig = {MathJaxConfig: 'local'};</script>\n",
              "        <script src=\"https://cdn.plot.ly/plotly-2.8.3.min.js\"></script>                <div id=\"a10a033a-1ba3-40b3-8925-8eff75b04170\" class=\"plotly-graph-div\" style=\"height:525px; width:100%;\"></div>            <script type=\"text/javascript\">                                    window.PLOTLYENV=window.PLOTLYENV || {};                                    if (document.getElementById(\"a10a033a-1ba3-40b3-8925-8eff75b04170\")) {                    Plotly.newPlot(                        \"a10a033a-1ba3-40b3-8925-8eff75b04170\",                        [{\"mode\":\"lines\",\"name\":\"Forecast\",\"x\":[\"2002-07-08T00:00:00\",\"2002-07-09T00:00:00\",\"2002-07-10T00:00:00\",\"2002-07-11T00:00:00\",\"2002-07-12T00:00:00\",\"2002-07-15T00:00:00\",\"2002-07-16T00:00:00\",\"2002-07-17T00:00:00\",\"2002-07-18T00:00:00\",\"2002-07-19T00:00:00\",\"2002-07-22T00:00:00\",\"2002-07-23T00:00:00\",\"2002-07-24T00:00:00\",\"2002-07-25T00:00:00\",\"2002-07-26T00:00:00\",\"2002-07-29T00:00:00\",\"2002-07-30T00:00:00\",\"2002-07-31T00:00:00\",\"2002-08-01T00:00:00\",\"2002-08-02T00:00:00\",\"2002-08-05T00:00:00\",\"2002-08-06T00:00:00\",\"2002-08-07T00:00:00\",\"2002-08-08T00:00:00\",\"2002-08-09T00:00:00\",\"2002-08-12T00:00:00\",\"2002-08-13T00:00:00\",\"2002-08-14T00:00:00\",\"2002-08-15T00:00:00\",\"2002-08-16T00:00:00\",\"2002-08-19T00:00:00\",\"2002-08-20T00:00:00\",\"2002-08-21T00:00:00\",\"2002-08-22T00:00:00\",\"2002-08-23T00:00:00\",\"2002-08-26T00:00:00\",\"2002-08-27T00:00:00\",\"2002-08-28T00:00:00\",\"2002-08-29T00:00:00\",\"2002-08-30T00:00:00\",\"2002-09-03T00:00:00\",\"2002-09-04T00:00:00\",\"2002-09-05T00:00:00\",\"2002-09-06T00:00:00\",\"2002-09-09T00:00:00\",\"2002-09-10T00:00:00\",\"2002-09-11T00:00:00\",\"2002-09-12T00:00:00\",\"2002-09-13T00:00:00\",\"2002-09-16T00:00:00\",\"2002-09-17T00:00:00\",\"2002-09-18T00:00:00\",\"2002-09-19T00:00:00\",\"2002-09-20T00:00:00\",\"2002-09-23T00:00:00\",\"2002-09-24T00:00:00\",\"2002-09-25T00:00:00\",\"2002-09-26T00:00:00\",\"2002-09-27T00:00:00\",\"2002-09-30T00:00:00\",\"2002-10-01T00:00:00\",\"2002-10-02T00:00:00\",\"2002-10-03T00:00:00\",\"2002-10-04T00:00:00\",\"2002-10-07T00:00:00\",\"2002-10-08T00:00:00\",\"2002-10-09T00:00:00\",\"2002-10-10T00:00:00\",\"2002-10-11T00:00:00\",\"2002-10-14T00:00:00\",\"2002-10-15T00:00:00\",\"2002-10-16T00:00:00\",\"2002-10-17T00:00:00\",\"2002-10-18T00:00:00\",\"2002-10-21T00:00:00\",\"2002-10-22T00:00:00\",\"2002-10-23T00:00:00\",\"2002-10-24T00:00:00\",\"2002-10-25T00:00:00\",\"2002-10-28T00:00:00\",\"2002-10-29T00:00:00\",\"2002-10-30T00:00:00\",\"2002-10-31T00:00:00\",\"2002-11-01T00:00:00\",\"2002-11-04T00:00:00\",\"2002-11-05T00:00:00\",\"2002-11-06T00:00:00\",\"2002-11-07T00:00:00\",\"2002-11-08T00:00:00\",\"2002-11-11T00:00:00\",\"2002-11-12T00:00:00\",\"2002-11-13T00:00:00\",\"2002-11-14T00:00:00\",\"2002-11-15T00:00:00\",\"2002-11-18T00:00:00\",\"2002-11-19T00:00:00\",\"2002-11-20T00:00:00\",\"2002-11-21T00:00:00\",\"2002-11-22T00:00:00\",\"2002-11-25T00:00:00\",\"2002-11-26T00:00:00\",\"2002-11-27T00:00:00\",\"2002-11-29T00:00:00\",\"2002-12-02T00:00:00\",\"2002-12-03T00:00:00\",\"2002-12-04T00:00:00\",\"2002-12-05T00:00:00\",\"2002-12-06T00:00:00\",\"2002-12-09T00:00:00\",\"2002-12-10T00:00:00\",\"2002-12-11T00:00:00\",\"2002-12-12T00:00:00\",\"2002-12-13T00:00:00\",\"2002-12-16T00:00:00\",\"2002-12-17T00:00:00\",\"2002-12-18T00:00:00\",\"2002-12-19T00:00:00\",\"2002-12-20T00:00:00\",\"2002-12-23T00:00:00\",\"2002-12-24T00:00:00\",\"2002-12-26T00:00:00\",\"2002-12-27T00:00:00\",\"2002-12-30T00:00:00\",\"2002-12-31T00:00:00\",\"2003-01-02T00:00:00\",\"2003-01-03T00:00:00\",\"2003-01-06T00:00:00\",\"2003-01-07T00:00:00\",\"2003-01-08T00:00:00\",\"2003-01-09T00:00:00\",\"2003-01-10T00:00:00\",\"2003-01-13T00:00:00\",\"2003-01-14T00:00:00\",\"2003-01-15T00:00:00\",\"2003-01-16T00:00:00\",\"2003-01-17T00:00:00\",\"2003-01-21T00:00:00\",\"2003-01-22T00:00:00\",\"2003-01-23T00:00:00\",\"2003-01-24T00:00:00\",\"2003-01-27T00:00:00\",\"2003-01-28T00:00:00\",\"2003-01-29T00:00:00\",\"2003-01-30T00:00:00\",\"2003-01-31T00:00:00\",\"2003-02-03T00:00:00\",\"2003-02-04T00:00:00\",\"2003-02-05T00:00:00\",\"2003-02-06T00:00:00\",\"2003-02-07T00:00:00\",\"2003-02-10T00:00:00\",\"2003-02-11T00:00:00\",\"2003-02-12T00:00:00\",\"2003-02-13T00:00:00\",\"2003-02-14T00:00:00\",\"2003-02-18T00:00:00\",\"2003-02-19T00:00:00\",\"2003-02-20T00:00:00\",\"2003-02-21T00:00:00\",\"2003-02-24T00:00:00\",\"2003-02-25T00:00:00\",\"2003-02-26T00:00:00\",\"2003-02-27T00:00:00\",\"2003-02-28T00:00:00\",\"2003-03-03T00:00:00\",\"2003-03-04T00:00:00\",\"2003-03-05T00:00:00\",\"2003-03-06T00:00:00\",\"2003-03-07T00:00:00\",\"2003-03-10T00:00:00\",\"2003-03-11T00:00:00\",\"2003-03-12T00:00:00\",\"2003-03-13T00:00:00\",\"2003-03-14T00:00:00\",\"2003-03-17T00:00:00\",\"2003-03-18T00:00:00\",\"2003-03-19T00:00:00\",\"2003-03-20T00:00:00\",\"2003-03-21T00:00:00\",\"2003-03-24T00:00:00\",\"2003-03-25T00:00:00\",\"2003-03-26T00:00:00\",\"2003-03-27T00:00:00\",\"2003-03-28T00:00:00\",\"2003-03-31T00:00:00\",\"2003-04-01T00:00:00\",\"2003-04-02T00:00:00\",\"2003-04-03T00:00:00\",\"2003-04-04T00:00:00\",\"2003-04-07T00:00:00\",\"2003-04-08T00:00:00\",\"2003-04-09T00:00:00\",\"2003-04-10T00:00:00\",\"2003-04-11T00:00:00\",\"2003-04-14T00:00:00\",\"2003-04-15T00:00:00\",\"2003-04-16T00:00:00\",\"2003-04-17T00:00:00\",\"2003-04-21T00:00:00\",\"2003-04-22T00:00:00\",\"2003-04-23T00:00:00\",\"2003-04-24T00:00:00\",\"2003-04-25T00:00:00\",\"2003-04-28T00:00:00\",\"2003-04-29T00:00:00\",\"2003-04-30T00:00:00\",\"2003-05-01T00:00:00\",\"2003-05-02T00:00:00\",\"2003-05-05T00:00:00\",\"2003-05-06T00:00:00\",\"2003-05-07T00:00:00\",\"2003-05-08T00:00:00\",\"2003-05-09T00:00:00\",\"2003-05-12T00:00:00\",\"2003-05-13T00:00:00\",\"2003-05-14T00:00:00\",\"2003-05-15T00:00:00\",\"2003-05-16T00:00:00\",\"2003-05-19T00:00:00\",\"2003-05-20T00:00:00\",\"2003-05-21T00:00:00\",\"2003-05-22T00:00:00\",\"2003-05-23T00:00:00\",\"2003-05-27T00:00:00\",\"2003-05-28T00:00:00\",\"2003-05-29T00:00:00\",\"2003-05-30T00:00:00\",\"2003-06-02T00:00:00\",\"2003-06-03T00:00:00\",\"2003-06-04T00:00:00\",\"2003-06-05T00:00:00\",\"2003-06-06T00:00:00\",\"2003-06-09T00:00:00\",\"2003-06-10T00:00:00\",\"2003-06-11T00:00:00\",\"2003-06-12T00:00:00\",\"2003-06-13T00:00:00\",\"2003-06-16T00:00:00\",\"2003-06-17T00:00:00\",\"2003-06-18T00:00:00\",\"2003-06-19T00:00:00\",\"2003-06-20T00:00:00\",\"2003-06-23T00:00:00\",\"2003-06-24T00:00:00\",\"2003-06-25T00:00:00\",\"2003-06-26T00:00:00\",\"2003-06-27T00:00:00\",\"2003-06-30T00:00:00\",\"2003-07-01T00:00:00\",\"2003-07-02T00:00:00\",\"2003-07-03T00:00:00\",\"2003-07-07T00:00:00\",\"2003-07-08T00:00:00\",\"2003-07-09T00:00:00\",\"2003-07-10T00:00:00\",\"2003-07-11T00:00:00\",\"2003-07-14T00:00:00\",\"2003-07-15T00:00:00\",\"2003-07-16T00:00:00\",\"2003-07-17T00:00:00\",\"2003-07-18T00:00:00\",\"2003-07-21T00:00:00\",\"2003-07-22T00:00:00\",\"2003-07-23T00:00:00\",\"2003-07-24T00:00:00\",\"2003-07-25T00:00:00\",\"2003-07-28T00:00:00\",\"2003-07-29T00:00:00\",\"2003-07-30T00:00:00\",\"2003-07-31T00:00:00\",\"2003-08-01T00:00:00\",\"2003-08-04T00:00:00\",\"2003-08-05T00:00:00\",\"2003-08-06T00:00:00\",\"2003-08-07T00:00:00\",\"2003-08-08T00:00:00\",\"2003-08-11T00:00:00\",\"2003-08-12T00:00:00\",\"2003-08-13T00:00:00\",\"2003-08-14T00:00:00\",\"2003-08-15T00:00:00\",\"2003-08-18T00:00:00\",\"2003-08-19T00:00:00\",\"2003-08-20T00:00:00\",\"2003-08-21T00:00:00\",\"2003-08-22T00:00:00\",\"2003-08-25T00:00:00\",\"2003-08-26T00:00:00\",\"2003-08-27T00:00:00\",\"2003-08-28T00:00:00\",\"2003-08-29T00:00:00\",\"2003-09-02T00:00:00\",\"2003-09-03T00:00:00\",\"2003-09-04T00:00:00\",\"2003-09-05T00:00:00\",\"2003-09-08T00:00:00\",\"2003-09-09T00:00:00\",\"2003-09-10T00:00:00\",\"2003-09-11T00:00:00\",\"2003-09-12T00:00:00\",\"2003-09-15T00:00:00\",\"2003-09-16T00:00:00\",\"2003-09-17T00:00:00\",\"2003-09-18T00:00:00\",\"2003-09-19T00:00:00\",\"2003-09-22T00:00:00\",\"2003-09-23T00:00:00\",\"2003-09-24T00:00:00\",\"2003-09-25T00:00:00\",\"2003-09-26T00:00:00\",\"2003-09-29T00:00:00\",\"2003-09-30T00:00:00\",\"2003-10-01T00:00:00\",\"2003-10-02T00:00:00\",\"2003-10-03T00:00:00\",\"2003-10-06T00:00:00\",\"2003-10-07T00:00:00\",\"2003-10-08T00:00:00\",\"2003-10-09T00:00:00\",\"2003-10-10T00:00:00\",\"2003-10-13T00:00:00\",\"2003-10-14T00:00:00\",\"2003-10-15T00:00:00\",\"2003-10-16T00:00:00\",\"2003-10-17T00:00:00\",\"2003-10-20T00:00:00\",\"2003-10-21T00:00:00\",\"2003-10-22T00:00:00\",\"2003-10-23T00:00:00\",\"2003-10-24T00:00:00\",\"2003-10-27T00:00:00\",\"2003-10-28T00:00:00\",\"2003-10-29T00:00:00\",\"2003-10-30T00:00:00\",\"2003-10-31T00:00:00\",\"2003-11-03T00:00:00\",\"2003-11-04T00:00:00\",\"2003-11-05T00:00:00\",\"2003-11-06T00:00:00\",\"2003-11-07T00:00:00\",\"2003-11-10T00:00:00\",\"2003-11-11T00:00:00\",\"2003-11-12T00:00:00\",\"2003-11-13T00:00:00\",\"2003-11-14T00:00:00\",\"2003-11-17T00:00:00\",\"2003-11-18T00:00:00\",\"2003-11-19T00:00:00\",\"2003-11-20T00:00:00\",\"2003-11-21T00:00:00\",\"2003-11-24T00:00:00\",\"2003-11-25T00:00:00\",\"2003-11-26T00:00:00\",\"2003-11-28T00:00:00\",\"2003-12-01T00:00:00\",\"2003-12-02T00:00:00\",\"2003-12-03T00:00:00\",\"2003-12-04T00:00:00\",\"2003-12-05T00:00:00\",\"2003-12-08T00:00:00\",\"2003-12-09T00:00:00\",\"2003-12-10T00:00:00\",\"2003-12-11T00:00:00\",\"2003-12-12T00:00:00\",\"2003-12-15T00:00:00\",\"2003-12-16T00:00:00\",\"2003-12-17T00:00:00\",\"2003-12-18T00:00:00\",\"2003-12-19T00:00:00\",\"2003-12-22T00:00:00\",\"2003-12-23T00:00:00\",\"2003-12-24T00:00:00\",\"2003-12-26T00:00:00\",\"2003-12-29T00:00:00\",\"2003-12-30T00:00:00\",\"2003-12-31T00:00:00\",\"2004-01-02T00:00:00\",\"2004-01-05T00:00:00\",\"2004-01-06T00:00:00\",\"2004-01-07T00:00:00\",\"2004-01-08T00:00:00\",\"2004-01-09T00:00:00\",\"2004-01-12T00:00:00\",\"2004-01-13T00:00:00\",\"2004-01-14T00:00:00\",\"2004-01-15T00:00:00\",\"2004-01-16T00:00:00\",\"2004-01-20T00:00:00\",\"2004-01-21T00:00:00\",\"2004-01-22T00:00:00\",\"2004-01-23T00:00:00\",\"2004-01-26T00:00:00\",\"2004-01-27T00:00:00\",\"2004-01-28T00:00:00\",\"2004-01-29T00:00:00\",\"2004-01-30T00:00:00\",\"2004-02-02T00:00:00\",\"2004-02-03T00:00:00\",\"2004-02-04T00:00:00\",\"2004-02-05T00:00:00\",\"2004-02-06T00:00:00\",\"2004-02-09T00:00:00\",\"2004-02-10T00:00:00\",\"2004-02-11T00:00:00\",\"2004-02-12T00:00:00\",\"2004-02-13T00:00:00\",\"2004-02-17T00:00:00\",\"2004-02-18T00:00:00\",\"2004-02-19T00:00:00\",\"2004-02-20T00:00:00\",\"2004-02-23T00:00:00\",\"2004-02-24T00:00:00\",\"2004-02-25T00:00:00\",\"2004-02-26T00:00:00\",\"2004-02-27T00:00:00\",\"2004-03-01T00:00:00\",\"2004-03-02T00:00:00\",\"2004-03-03T00:00:00\",\"2004-03-04T00:00:00\",\"2004-03-05T00:00:00\",\"2004-03-08T00:00:00\",\"2004-03-09T00:00:00\",\"2004-03-10T00:00:00\",\"2004-03-11T00:00:00\",\"2004-03-12T00:00:00\",\"2004-03-15T00:00:00\",\"2004-03-16T00:00:00\",\"2004-03-17T00:00:00\",\"2004-03-18T00:00:00\",\"2004-03-19T00:00:00\",\"2004-03-22T00:00:00\",\"2004-03-23T00:00:00\",\"2004-03-24T00:00:00\",\"2004-03-25T00:00:00\",\"2004-03-26T00:00:00\",\"2004-03-29T00:00:00\",\"2004-03-30T00:00:00\",\"2004-03-31T00:00:00\",\"2004-04-01T00:00:00\",\"2004-04-02T00:00:00\",\"2004-04-05T00:00:00\",\"2004-04-06T00:00:00\",\"2004-04-07T00:00:00\",\"2004-04-08T00:00:00\",\"2004-04-12T00:00:00\",\"2004-04-13T00:00:00\",\"2004-04-14T00:00:00\",\"2004-04-15T00:00:00\",\"2004-04-16T00:00:00\",\"2004-04-19T00:00:00\",\"2004-04-20T00:00:00\",\"2004-04-21T00:00:00\",\"2004-04-22T00:00:00\",\"2004-04-23T00:00:00\",\"2004-04-26T00:00:00\",\"2004-04-27T00:00:00\",\"2004-04-28T00:00:00\",\"2004-04-29T00:00:00\",\"2004-04-30T00:00:00\",\"2004-05-03T00:00:00\",\"2004-05-04T00:00:00\",\"2004-05-05T00:00:00\",\"2004-05-06T00:00:00\",\"2004-05-07T00:00:00\",\"2004-05-10T00:00:00\",\"2004-05-11T00:00:00\",\"2004-05-12T00:00:00\",\"2004-05-13T00:00:00\",\"2004-05-14T00:00:00\",\"2004-05-17T00:00:00\",\"2004-05-18T00:00:00\",\"2004-05-19T00:00:00\",\"2004-05-20T00:00:00\",\"2004-05-21T00:00:00\",\"2004-05-24T00:00:00\",\"2004-05-25T00:00:00\",\"2004-05-26T00:00:00\",\"2004-05-27T00:00:00\",\"2004-05-28T00:00:00\",\"2004-06-01T00:00:00\",\"2004-06-02T00:00:00\",\"2004-06-03T00:00:00\",\"2004-06-04T00:00:00\",\"2004-06-07T00:00:00\",\"2004-06-08T00:00:00\",\"2004-06-09T00:00:00\",\"2004-06-10T00:00:00\",\"2004-06-14T00:00:00\",\"2004-06-15T00:00:00\",\"2004-06-16T00:00:00\",\"2004-06-17T00:00:00\",\"2004-06-18T00:00:00\",\"2004-06-21T00:00:00\",\"2004-06-22T00:00:00\",\"2004-06-23T00:00:00\",\"2004-06-24T00:00:00\",\"2004-06-25T00:00:00\",\"2004-06-28T00:00:00\",\"2004-06-29T00:00:00\",\"2004-06-30T00:00:00\",\"2004-07-01T00:00:00\",\"2004-07-02T00:00:00\",\"2004-07-06T00:00:00\",\"2004-07-07T00:00:00\",\"2004-07-08T00:00:00\",\"2004-07-09T00:00:00\",\"2004-07-12T00:00:00\",\"2004-07-13T00:00:00\",\"2004-07-14T00:00:00\",\"2004-07-15T00:00:00\",\"2004-07-16T00:00:00\",\"2004-07-19T00:00:00\",\"2004-07-20T00:00:00\",\"2004-07-21T00:00:00\",\"2004-07-22T00:00:00\",\"2004-07-23T00:00:00\",\"2004-07-26T00:00:00\",\"2004-07-27T00:00:00\",\"2004-07-28T00:00:00\",\"2004-07-29T00:00:00\",\"2004-07-30T00:00:00\",\"2004-08-02T00:00:00\",\"2004-08-03T00:00:00\",\"2004-08-04T00:00:00\",\"2004-08-05T00:00:00\",\"2004-08-06T00:00:00\",\"2004-08-09T00:00:00\",\"2004-08-10T00:00:00\",\"2004-08-11T00:00:00\",\"2004-08-12T00:00:00\",\"2004-08-13T00:00:00\",\"2004-08-16T00:00:00\",\"2004-08-17T00:00:00\",\"2004-08-18T00:00:00\",\"2004-08-19T00:00:00\",\"2004-08-20T00:00:00\",\"2004-08-23T00:00:00\",\"2004-08-24T00:00:00\",\"2004-08-25T00:00:00\",\"2004-08-26T00:00:00\",\"2004-08-27T00:00:00\",\"2004-08-30T00:00:00\",\"2004-08-31T00:00:00\",\"2004-09-01T00:00:00\",\"2004-09-02T00:00:00\",\"2004-09-03T00:00:00\",\"2004-09-07T00:00:00\",\"2004-09-08T00:00:00\",\"2004-09-09T00:00:00\",\"2004-09-10T00:00:00\",\"2004-09-13T00:00:00\",\"2004-09-14T00:00:00\",\"2004-09-15T00:00:00\",\"2004-09-16T00:00:00\",\"2004-09-17T00:00:00\",\"2004-09-20T00:00:00\",\"2004-09-21T00:00:00\",\"2004-09-22T00:00:00\",\"2004-09-23T00:00:00\",\"2004-09-24T00:00:00\",\"2004-09-27T00:00:00\",\"2004-09-28T00:00:00\",\"2004-09-29T00:00:00\",\"2004-09-30T00:00:00\",\"2004-10-01T00:00:00\",\"2004-10-04T00:00:00\",\"2004-10-05T00:00:00\",\"2004-10-06T00:00:00\",\"2004-10-07T00:00:00\",\"2004-10-08T00:00:00\",\"2004-10-11T00:00:00\",\"2004-10-12T00:00:00\",\"2004-10-13T00:00:00\",\"2004-10-14T00:00:00\",\"2004-10-15T00:00:00\",\"2004-10-18T00:00:00\",\"2004-10-19T00:00:00\",\"2004-10-20T00:00:00\",\"2004-10-21T00:00:00\",\"2004-10-22T00:00:00\",\"2004-10-25T00:00:00\",\"2004-10-26T00:00:00\",\"2004-10-27T00:00:00\",\"2004-10-28T00:00:00\",\"2004-10-29T00:00:00\",\"2004-11-01T00:00:00\",\"2004-11-02T00:00:00\",\"2004-11-03T00:00:00\",\"2004-11-04T00:00:00\",\"2004-11-05T00:00:00\",\"2004-11-08T00:00:00\",\"2004-11-09T00:00:00\",\"2004-11-10T00:00:00\",\"2004-11-11T00:00:00\",\"2004-11-12T00:00:00\",\"2004-11-15T00:00:00\",\"2004-11-16T00:00:00\",\"2004-11-17T00:00:00\",\"2004-11-18T00:00:00\",\"2004-11-19T00:00:00\",\"2004-11-22T00:00:00\",\"2004-11-23T00:00:00\",\"2004-11-24T00:00:00\",\"2004-11-26T00:00:00\",\"2004-11-29T00:00:00\",\"2004-11-30T00:00:00\",\"2004-12-01T00:00:00\",\"2004-12-02T00:00:00\",\"2004-12-03T00:00:00\",\"2004-12-06T00:00:00\",\"2004-12-07T00:00:00\",\"2004-12-08T00:00:00\",\"2004-12-09T00:00:00\",\"2004-12-10T00:00:00\",\"2004-12-13T00:00:00\",\"2004-12-14T00:00:00\",\"2004-12-15T00:00:00\",\"2004-12-16T00:00:00\",\"2004-12-17T00:00:00\",\"2004-12-20T00:00:00\",\"2004-12-21T00:00:00\",\"2004-12-22T00:00:00\",\"2004-12-23T00:00:00\",\"2004-12-27T00:00:00\",\"2004-12-28T00:00:00\",\"2004-12-29T00:00:00\",\"2004-12-30T00:00:00\",\"2004-12-31T00:00:00\",\"2005-01-03T00:00:00\",\"2005-01-04T00:00:00\",\"2005-01-05T00:00:00\",\"2005-01-06T00:00:00\",\"2005-01-07T00:00:00\",\"2005-01-10T00:00:00\",\"2005-01-11T00:00:00\",\"2005-01-12T00:00:00\",\"2005-01-13T00:00:00\",\"2005-01-14T00:00:00\",\"2005-01-18T00:00:00\",\"2005-01-19T00:00:00\",\"2005-01-20T00:00:00\",\"2005-01-21T00:00:00\",\"2005-01-24T00:00:00\",\"2005-01-25T00:00:00\",\"2005-01-26T00:00:00\",\"2005-01-27T00:00:00\",\"2005-01-28T00:00:00\",\"2005-01-31T00:00:00\",\"2005-02-01T00:00:00\",\"2005-02-02T00:00:00\",\"2005-02-03T00:00:00\",\"2005-02-04T00:00:00\",\"2005-02-07T00:00:00\",\"2005-02-08T00:00:00\",\"2005-02-09T00:00:00\",\"2005-02-10T00:00:00\",\"2005-02-11T00:00:00\",\"2005-02-14T00:00:00\",\"2005-02-15T00:00:00\",\"2005-02-16T00:00:00\",\"2005-02-17T00:00:00\",\"2005-02-18T00:00:00\",\"2005-02-22T00:00:00\",\"2005-02-23T00:00:00\",\"2005-02-24T00:00:00\",\"2005-02-25T00:00:00\",\"2005-02-28T00:00:00\",\"2005-03-01T00:00:00\",\"2005-03-02T00:00:00\",\"2005-03-03T00:00:00\",\"2005-03-04T00:00:00\",\"2005-03-07T00:00:00\",\"2005-03-08T00:00:00\",\"2005-03-09T00:00:00\",\"2005-03-10T00:00:00\",\"2005-03-11T00:00:00\",\"2005-03-14T00:00:00\",\"2005-03-15T00:00:00\",\"2005-03-16T00:00:00\",\"2005-03-17T00:00:00\",\"2005-03-18T00:00:00\",\"2005-03-21T00:00:00\",\"2005-03-22T00:00:00\",\"2005-03-23T00:00:00\",\"2005-03-24T00:00:00\",\"2005-03-28T00:00:00\",\"2005-03-29T00:00:00\",\"2005-03-30T00:00:00\",\"2005-03-31T00:00:00\",\"2005-04-01T00:00:00\",\"2005-04-04T00:00:00\",\"2005-04-05T00:00:00\",\"2005-04-06T00:00:00\",\"2005-04-07T00:00:00\",\"2005-04-08T00:00:00\",\"2005-04-11T00:00:00\",\"2005-04-12T00:00:00\",\"2005-04-13T00:00:00\",\"2005-04-14T00:00:00\",\"2005-04-15T00:00:00\",\"2005-04-18T00:00:00\",\"2005-04-19T00:00:00\",\"2005-04-20T00:00:00\",\"2005-04-21T00:00:00\",\"2005-04-22T00:00:00\",\"2005-04-25T00:00:00\",\"2005-04-26T00:00:00\",\"2005-04-27T00:00:00\",\"2005-04-28T00:00:00\",\"2005-04-29T00:00:00\",\"2005-05-02T00:00:00\",\"2005-05-03T00:00:00\",\"2005-05-04T00:00:00\",\"2005-05-05T00:00:00\",\"2005-05-06T00:00:00\",\"2005-05-09T00:00:00\",\"2005-05-10T00:00:00\",\"2005-05-11T00:00:00\",\"2005-05-12T00:00:00\",\"2005-05-13T00:00:00\",\"2005-05-16T00:00:00\",\"2005-05-17T00:00:00\",\"2005-05-18T00:00:00\",\"2005-05-19T00:00:00\",\"2005-05-20T00:00:00\",\"2005-05-23T00:00:00\",\"2005-05-24T00:00:00\",\"2005-05-25T00:00:00\",\"2005-05-26T00:00:00\",\"2005-05-27T00:00:00\",\"2005-05-31T00:00:00\",\"2005-06-01T00:00:00\",\"2005-06-02T00:00:00\",\"2005-06-03T00:00:00\",\"2005-06-06T00:00:00\",\"2005-06-07T00:00:00\",\"2005-06-08T00:00:00\",\"2005-06-09T00:00:00\",\"2005-06-10T00:00:00\",\"2005-06-13T00:00:00\",\"2005-06-14T00:00:00\",\"2005-06-15T00:00:00\",\"2005-06-16T00:00:00\",\"2005-06-17T00:00:00\",\"2005-06-20T00:00:00\",\"2005-06-21T00:00:00\",\"2005-06-22T00:00:00\",\"2005-06-23T00:00:00\",\"2005-06-24T00:00:00\",\"2005-06-27T00:00:00\",\"2005-06-28T00:00:00\",\"2005-06-29T00:00:00\",\"2005-06-30T00:00:00\",\"2005-07-01T00:00:00\",\"2005-07-05T00:00:00\",\"2005-07-06T00:00:00\",\"2005-07-07T00:00:00\",\"2005-07-08T00:00:00\",\"2005-07-09T00:00:00\",\"2005-07-10T00:00:00\",\"2005-07-11T00:00:00\",\"2005-07-12T00:00:00\",\"2005-07-13T00:00:00\",\"2005-07-14T00:00:00\",\"2005-07-15T00:00:00\",\"2005-07-16T00:00:00\",\"2005-07-17T00:00:00\",\"2005-07-18T00:00:00\",\"2005-07-19T00:00:00\",\"2005-07-20T00:00:00\",\"2005-07-21T00:00:00\",\"2005-07-22T00:00:00\",\"2005-07-23T00:00:00\",\"2005-07-24T00:00:00\",\"2005-07-25T00:00:00\",\"2005-07-26T00:00:00\",\"2005-07-27T00:00:00\",\"2005-07-28T00:00:00\",\"2005-07-29T00:00:00\",\"2005-07-30T00:00:00\",\"2005-07-31T00:00:00\",\"2005-08-01T00:00:00\",\"2005-08-02T00:00:00\",\"2005-08-03T00:00:00\",\"2005-08-04T00:00:00\",\"2005-08-05T00:00:00\",\"2005-08-06T00:00:00\",\"2005-08-07T00:00:00\",\"2005-08-08T00:00:00\",\"2005-08-09T00:00:00\",\"2005-08-10T00:00:00\",\"2005-08-11T00:00:00\",\"2005-08-12T00:00:00\",\"2005-08-13T00:00:00\",\"2005-08-14T00:00:00\",\"2005-08-15T00:00:00\",\"2005-08-16T00:00:00\",\"2005-08-17T00:00:00\",\"2005-08-18T00:00:00\",\"2005-08-19T00:00:00\",\"2005-08-20T00:00:00\",\"2005-08-21T00:00:00\",\"2005-08-22T00:00:00\",\"2005-08-23T00:00:00\",\"2005-08-24T00:00:00\",\"2005-08-25T00:00:00\",\"2005-08-26T00:00:00\",\"2005-08-27T00:00:00\",\"2005-08-28T00:00:00\",\"2005-08-29T00:00:00\",\"2005-08-30T00:00:00\",\"2005-08-31T00:00:00\",\"2005-09-01T00:00:00\",\"2005-09-02T00:00:00\",\"2005-09-03T00:00:00\",\"2005-09-04T00:00:00\",\"2005-09-05T00:00:00\",\"2005-09-06T00:00:00\",\"2005-09-07T00:00:00\",\"2005-09-08T00:00:00\",\"2005-09-09T00:00:00\",\"2005-09-10T00:00:00\",\"2005-09-11T00:00:00\",\"2005-09-12T00:00:00\",\"2005-09-13T00:00:00\",\"2005-09-14T00:00:00\",\"2005-09-15T00:00:00\",\"2005-09-16T00:00:00\",\"2005-09-17T00:00:00\",\"2005-09-18T00:00:00\",\"2005-09-19T00:00:00\",\"2005-09-20T00:00:00\",\"2005-09-21T00:00:00\",\"2005-09-22T00:00:00\",\"2005-09-23T00:00:00\",\"2005-09-24T00:00:00\",\"2005-09-25T00:00:00\",\"2005-09-26T00:00:00\",\"2005-09-27T00:00:00\",\"2005-09-28T00:00:00\",\"2005-09-29T00:00:00\",\"2005-09-30T00:00:00\",\"2005-10-01T00:00:00\",\"2005-10-02T00:00:00\",\"2005-10-03T00:00:00\",\"2005-10-04T00:00:00\",\"2005-10-05T00:00:00\",\"2005-10-06T00:00:00\",\"2005-10-07T00:00:00\",\"2005-10-08T00:00:00\",\"2005-10-09T00:00:00\",\"2005-10-10T00:00:00\",\"2005-10-11T00:00:00\",\"2005-10-12T00:00:00\",\"2005-10-13T00:00:00\",\"2005-10-14T00:00:00\",\"2005-10-15T00:00:00\",\"2005-10-16T00:00:00\",\"2005-10-17T00:00:00\",\"2005-10-18T00:00:00\",\"2005-10-19T00:00:00\",\"2005-10-20T00:00:00\",\"2005-10-21T00:00:00\",\"2005-10-22T00:00:00\",\"2005-10-23T00:00:00\",\"2005-10-24T00:00:00\",\"2005-10-25T00:00:00\",\"2005-10-26T00:00:00\",\"2005-10-27T00:00:00\",\"2005-10-28T00:00:00\",\"2005-10-29T00:00:00\",\"2005-10-30T00:00:00\",\"2005-10-31T00:00:00\",\"2005-11-01T00:00:00\",\"2005-11-02T00:00:00\",\"2005-11-03T00:00:00\",\"2005-11-04T00:00:00\",\"2005-11-05T00:00:00\",\"2005-11-06T00:00:00\",\"2005-11-07T00:00:00\",\"2005-11-08T00:00:00\",\"2005-11-09T00:00:00\",\"2005-11-10T00:00:00\",\"2005-11-11T00:00:00\",\"2005-11-12T00:00:00\",\"2005-11-13T00:00:00\",\"2005-11-14T00:00:00\",\"2005-11-15T00:00:00\",\"2005-11-16T00:00:00\",\"2005-11-17T00:00:00\",\"2005-11-18T00:00:00\",\"2005-11-19T00:00:00\",\"2005-11-20T00:00:00\",\"2005-11-21T00:00:00\",\"2005-11-22T00:00:00\",\"2005-11-23T00:00:00\",\"2005-11-24T00:00:00\",\"2005-11-25T00:00:00\",\"2005-11-26T00:00:00\",\"2005-11-27T00:00:00\",\"2005-11-28T00:00:00\",\"2005-11-29T00:00:00\",\"2005-11-30T00:00:00\",\"2005-12-01T00:00:00\",\"2005-12-02T00:00:00\"],\"y\":[15.484043316380985,15.498124148220002,15.536194675996756,15.535204015299728,15.506948324224371,15.528700699365931,15.49812845221089,15.4920120691267,15.448004314129731,15.378593976132372,15.294517890896422,15.2364525976181,15.207520678636273,15.145725597559098,15.063815486801651,14.975097492326597,14.926317454362879,14.911783552030418,14.86917993583373,14.810853551014345,14.814202047557318,14.801273465176969,14.824113285683694,14.81974519414628,14.79985759325424,14.913451267124707,14.933662938301977,14.987004832253083,15.010092255907894,15.014275177212218,15.177504080401228,15.206359482346313,15.2643920130649,15.288320041088536,15.289659250709201,15.424706387077409,15.438648284677523,15.479600083343637,15.484664367952337,15.465748649227876,15.527496069107377,15.546879513247676,15.53111309737294,15.492375460957575,15.511003692033489,15.489222121782289,15.496769392421465,15.471131341260259,15.424541720677148,15.432056174742563,15.410635883276244,15.42051468319292,15.399118615219457,15.358608963143478,15.39436592495584,15.385385900141749,15.409016022207853,15.402545069375446,15.37798592093914,15.466090276126364,15.475448356490318,15.517528876848994,15.529406831484096,15.522873862707666,15.660847449848932,15.684669576459596,15.739770650124727,15.763024598264874,15.766039958909662,15.920228980431402,15.944978728407138,15.998692010748009,16.018257727654515,16.015343054476723,16.139544725308138,16.150867183840724,16.18985442599484,16.193697297756618,16.17439192658529,16.248963614072046,16.244804551818255,16.269434208972044,16.260372224026472,16.229913314217747,16.283898593193754,16.27770328195395,16.30283102983469,16.296779346032196,16.271755391344872,16.35476309542465,16.361577460124654,16.400804065953125,16.40953341512724,16.399538961564136,16.5246193025653,16.542975583924154,16.591818516662443,16.605974016783925,16.598824263012364,16.714900425834827,16.724094246928804,16.76073511951052,16.738704308206067,16.794565176730167,16.780890102833762,16.7940940478145,16.77160463362651,16.72567634779773,16.72140884946332,16.692251668674178,16.692974527612158,16.66134088313834,16.609862033400265,16.611733635455114,16.59215237431789,16.605939705299495,16.590552354165016,16.558108492611638,16.628783585148046,16.634073639578688,16.681227217039158,16.67133450753642,16.794857023424964,16.811022561631045,16.867328857270703,16.855198743812014,16.943840856318488,16.93936135038315,16.959983774316832,16.942601594238482,16.898959209302163,16.88010473395828,16.837694168496064,16.820507596605676,16.76614308510148,16.687027480690368,16.510974460267487,16.474275388635302,16.404738211030818,16.31495377573519,16.20002498474392,16.140984650546535,16.115075520129505,16.059762708670707,15.987174759941297,15.936343565675601,15.900930952099142,15.898812755636813,15.866896143150095,15.816786339774731,15.823418168879172,15.802673019304338,15.812584400385145,15.78994385113656,15.746323277043256,15.732348194846026,15.73694723370406,15.707488919174446,15.655927405105771,15.639616725352795,15.606990212316239,15.603984933566432,15.568059117946303,15.511434950269988,15.490209126578945,15.459678211599796,15.46063401822407,15.430443157937427,15.381181245772842,15.389655361725561,15.370675227414702,15.383512110684178,15.365226050928044,15.32759426126866,15.366652847780156,15.355714800150636,15.375267231762766,15.362295683987446,15.328557159919145,15.371376468230938,15.359507565240055,15.377374252944598,15.362216299981538,15.326067954232974,15.363234682803464,15.350958245957914,15.36958603092185,15.356569483662268,15.324112184751362,15.38258112201661,15.380843525317209,15.411596364122724,15.412124504484241,15.39441123798112,15.501420394897345,15.516161122852113,15.562916743899338,15.578585109968937,15.712534167986727,15.732897322329553,15.782586539867598,15.79836043330964,15.791746471532507,15.903936599970288,15.910458252824236,15.944007882195319,15.941642693082935,15.915233854905242,15.9620287175427,15.946148367343083,15.957703022175417,15.93415815979584,15.887767692256086,15.885066257108981,15.85701759121504,15.858855040571914,15.828126432041417,15.777107497776695,15.775206755975088,15.75184688369363,15.76023960441793,15.737677486116752,15.696160893838407,15.716585192974618,15.736982442103967,15.726205007199015,15.69608683310487,15.758719883469883,15.75645542158504,15.785383014783287,15.78269085068422,15.760348667845694,15.846202616211299,15.852298836017974,15.890230392328915,15.897368634414345,15.885842377896246,16.0111124615562,16.03279475204193,16.087466573836846,16.112371989523886,16.119454355750413,16.30291945518614,16.34365436513252,16.416541304787092,16.458386036475723,16.480681921747312,16.695003806520106,16.739728381597185,16.812868799698848,16.850958708481652,17.0295538284736,17.049009523454735,17.092876819083283,17.09799362035499,17.076036158589154,17.1165492903528,17.091751857633295,17.090959375978617,17.051706648338342,16.986374023996635,16.909571730479737,16.852055096217846,16.82266504687804,16.759391099624626,16.67498611233171,16.573007095331672,16.518072422728814,16.49664987933208,16.446522318451976,16.380144992098103,16.35735589588565,16.33545964843705,16.34940583315194,16.336333131875488,16.308037917644857,16.399126805012465,16.412996842979002,16.460671326394355,16.478801151450437,16.47875763117872,16.63370064706282,16.66119656221661,16.71851127637491,16.742312925449898,16.744059325741752,16.882869187130794,16.8986761401343,16.941677528165602,16.948904705306273,16.92892262150627,16.98562190320205,17.003285638993503,16.985532054553257,16.94450823058087,16.95425606457246,16.928791624974473,16.932282410572427,16.902213250719036,16.850820471525807,16.841633449777405,16.813961537507524,16.81726985155921,16.789001282305502,16.741335733886796,16.754137683654204,16.73709063347366,16.752491276597166,16.737658706193418,16.704638296646436,16.767117538767305,16.767981710067993,16.801660027039116,16.805269490691607,16.790643845691395,16.897633081298146,16.911740174745304,16.957487445767306,16.971774895784478,16.966231443726933,17.097292924023876,17.115179563065368,17.162430698384398,17.175909477600886,17.167249136368,17.275809039185024,17.282266145915422,17.31645813541656,17.3155084424833,17.291344565781024,17.350274569973077,17.340339605202963,17.358823184581777,17.34320310592173,17.305741873686298,17.335897654151644,17.32082534884285,17.33664323357354,17.320887188519574,17.285813856990128,17.33724121101525,17.333301251830953,17.36179700411334,17.35990441174431,17.339481364348693,17.43521834040305,17.444666069728495,17.485124618988408,17.493364783103505,17.48087875676715,17.584400156708437,17.59047730418432,17.62445709640147,17.59818938484156,17.64908767926099,17.633731306149702,17.645066580130578,17.62041923842526,17.571947280838735,17.556903982193816,17.522890661903208,17.51805438654602,17.480141337136498,17.42758286965301,17.422180990094848,17.39901233424848,17.408761916901938,17.388985677457576,17.351911657556975,17.408451151968183,17.40936258792725,17.44390640048026,17.436155569381384,17.555238715129924,17.571578765225592,17.61796361075738,17.621546678628583,17.72329656548964,17.72450661137421,17.75131575300053,17.740501186263984,17.70368247332839,17.705521934926463,17.669646074913732,17.658604757320894,17.609884118237943,17.53581128422692,17.372466203307,17.336870291726623,17.267589773709215,17.17724011945338,17.056188630916342,16.993874318680845,16.96422586195164,16.904811837110778,16.82786894194229,16.763542950987624,16.72383716811131,16.717685678712886,16.68207515252087,16.628677777362736,16.628340365464517,16.60631222631063,16.61545996429032,16.59255255167074,16.5491259423033,16.539437250008124,16.545644073999444,16.517857064715596,16.46795420406733,16.455842815164686,16.424157506642015,16.421786901222713,16.38615894418395,16.329477281146428,16.305940191263442,16.27398072193061,16.273231925524268,16.241105011319277,16.189726524193233,16.191333207923865,16.170084851908282,16.18075638613535,16.160456809379944,16.121005660548033,16.156068252591087,16.144336397697305,16.163363835772685,16.150120511932045,16.116338170440496,16.160016502058962,16.148606000743193,16.166927498051056,16.15216441400411,16.116295584649478,16.15310791402933,16.140178592514246,16.157837709498434,16.14352222833758,16.109432076384714,16.16113038512632,16.156610380110838,16.18439241656975,16.181818862522576,16.25874344194617,16.270759007926433,16.31507801448006,16.328662438306523,16.323172657441933,16.458813752449874,16.47952719700494,16.530112013613724,16.547317698595815,16.542650093588733,16.663375315271026,16.673458966003576,16.710817435384513,16.712431998487034,16.69009458389476,16.748854106345775,16.736623819887754,16.751544374165462,16.73102314691654,16.68726519128204,16.68978403859987,16.662529121783358,16.66468855050102,16.63382724615989,16.582247782793438,16.576487447349923,16.551274436620737,16.5576193787372,16.532869669239613,16.489079080656317,16.51398112457393,16.500470856395726,16.51880353337215,16.506082721048926,16.474148956929174,16.528361580168305,16.555917146200724,16.551855115125438,16.528106449427316,16.609128449726256,16.61328976352987,16.649075766681886,16.653838967438503,16.755737141973903,16.773950944358006,16.825021405453143,16.84624597394391,16.849630674796206,17.022639226285097,17.060371422503916,17.130637809271786,17.170327259856286,17.19101215070836,17.40444848319465,17.45037028845071,17.52551082690585,17.566415756867887,17.584369862411254,17.790042610226813,17.840952714176296,17.853560410051237,17.839433245635142,17.904261885381818,17.887416131472353,17.894281446558303,17.862266292444136,17.80363105940488,17.742627795417377,17.688660138666098,17.661855656038924,17.600166878316756,17.51632806078693,17.410026330093046,17.35176475860667,17.3261747337223,17.271122769461854,17.1991600717044,17.156747115996158,17.127749196370253,17.13451736566123,17.11431107600118,17.079043129369065,17.151233989485434,17.1597807606156,17.202741846795213,17.216821377576533,17.2134298150459,17.36272110676349,17.389788404360463,17.447365968555502,17.472083326453347,17.475350206846503,17.62175834354546,17.64088707096738,17.687485623911865,17.698512576382385,17.685735101196194,17.77371050062541,17.77123005223644,17.795792129107017,17.78471746433653,17.75011394089081,17.756919524192636,17.76515763186809,17.739463043606555,17.69207011090118,17.69266734413349,17.667544153522087,17.673063850471564,17.646683868972616,17.600600513198046,17.61650132779136,17.60001054751133,17.615770129177825,17.60112680315834,17.568155716552795,17.63027364502358,17.630968113467876,17.664516956301057,17.668078236667938,17.653527585220154,17.770068110877993,17.78787924420119,17.837652480207645,17.856319815768465,17.855537536882398,18.00335693428397,18.027682434234258,18.081793820065894,18.102538945194073,18.101527375458513,18.234969936760496,18.25021020180777,18.293335714551873,18.301406127168228,18.286282071763548,18.371766659230513,18.370273719157638,18.396893036898486,18.389050341073244,18.358964079624936,18.408536129064334,18.39899046059299,18.41987083381322,18.408736642401845,18.37787999792854,18.440044895889546,18.439266009503186,18.47084146895888,18.472030798513625,18.4547772311743,18.561381278295393,18.57515969515098,18.620412206555873,18.63395983617806,18.62733254742239,18.751904380282934,18.766136820568985,18.80879321793885,18.80122577970041,18.88159326165798,18.876287426759447,18.897616688299234,18.882801960873824,18.843898430868446,18.855033760621655,18.828637183865247,18.8307605028461,18.799111119679374,18.746179442747653,18.73540626137321,18.709138986582005,18.715234031143126,18.69133003816443,18.649751227038426,18.691629405576577,18.687675573893518,18.717573035747577,18.71834520633115,18.81294863683193,18.828202760859323,18.87435101838348,18.887903567463837,18.880097234316906,18.991486046501986,18.99742444451544,19.029588189828207,19.02465279067474,18.994124124209083,19.016040676112777,18.98682074001632,18.982199049156797,18.939538182133578,18.871050671276816,18.723462053890103,18.68983941685414,18.621681297504765,18.53160428519464,18.40656131259422,18.34149452564546,18.30850972506138,18.24526920319682,18.164111508725778,18.08589375089199,18.04150393520652,18.030813983697108,17.990903234699733,17.933526253444917,17.923807010680026,17.89964307646573,17.907182088904197,17.883188708624793,17.839179857659424,17.853113026369222,17.831370484715208,17.838803217977336,17.81240199036897,17.763967721011046,17.72539375533152,17.723840879063207,17.688733461482517,17.632242010872446,17.60713825314732,17.57395166291061,17.571655337422232,17.53769488257618,17.48423959326958,17.478674424819484,17.454911567399567,17.463103386476675,17.44041387286927,17.39871294275115,17.42826879278963,17.415206720541175,17.43317784703356,17.41914934226333,17.38483986950823,17.428211875709582,17.416992637538087,17.435570648807342,17.421074495576022,17.42208246288264,17.40866522868644,17.425552883497275,17.410155394221086,17.374655595626198,17.4201508839454,17.412958297438006,17.43781903434843,17.432122624847608,17.40797207838873,17.49574729230864,17.5045805150911,17.545918813282366,17.556794194244386,17.548932580096597,17.680031504688856,17.700226000999674,17.750830788013968,17.76860205157521,17.765039681303442,17.892073086108663,17.905117528143077,17.945770941988695,17.950945526875316,17.93235841671713,18.00271757134674,17.99420485402537,18.012642418708953,17.995369858962203,17.954532011718438,17.963378064667257,17.9373203483449,17.940198855471927,17.909582218384276,17.857787520531804,17.848910329780445,17.821969801522528,17.826324774918874,17.79937673568391,17.753234362371025,17.770684454835422,17.754712957606102,17.770658429831027,17.755650777529613,17.721548312543568,17.768311720827292,17.794248354766925,17.788613932084125,17.763304360530977,17.839324464923816,17.84158240528356,17.87528825463372,17.87776658547689,17.861115289546607,17.96819455138817,17.982971328811455,18.030419618971454,18.047877365762318,18.04740149913361,18.208910740839215,18.243087856546406,18.31007517612217,18.34684657240693,18.365058197168313,18.57451476385955,18.620476033823454,18.696422700499728,18.73893123097962,18.759302313746556,18.98252869267896,19.039592105812996,19.058920837549202,19.051988264452458,19.98962642467174,20.00523461964735,19.14013489562701,19.13123103879867,19.14590720701264,19.121441296910852,19.06996617401284,19.96300177770873,19.93464972944911,19.026934339730595,18.97744699666816,18.95423041164897,18.89517816766891,18.812983029883412,19.679657338830665,19.629717391785846,18.705515946547152,18.644880024755,18.61599063550775,18.55677995758892,18.479879478281923,19.357142392803194,19.322832099702474,18.418960805030192,18.382935243605626,18.38244592677793,18.35487520751957,18.31225738396707,19.225813847083167,19.229154795904936,18.36363121635759,18.36599381826704,18.403295037809603,18.412309113021063,18.404503196308017,19.350582284529516,19.38369930223914,18.544813887297593,18.57035647060093,18.627133699601806,18.651750201085385,18.65557967936663,19.609308204649494,19.64614113989529,18.80715740218104,18.828967826022836,18.878613876765066,18.892981924559546,18.883766299818628,19.822004212702538,19.841274209174713,18.983042074053454,18.9843111472108,19.012513479195132,19.00491718988822,18.973583375948966,19.889895743830714,19.887754703208046,19.00891986139872,18.990657883757077,19.000632115587475,18.976309271617072,18.929916457818656,19.8329716021656,19.819478914348114,18.93127319054659,18.905669799182412,18.910356614757482,18.88280308267458,18.835219566781557,19.739089957057367,19.72836907566097,18.844828635636176,18.825708548104835,18.83860982762845,18.820904283902077,18.784694178490053,19.701344871072962,19.704682057901355,18.83633743553074,18.833399674915515,18.863307051071793,18.86325701380046,18.845165972737206,19.780202408434327,19.80198498785432,18.951929577515756,18.966902080702905,19.014113463781598,19.030532253407028,19.02784774976127,19.97700701465449,20.01141723617268,19.17229726412936,19.196335124329366,19.250587741829015,19.271898008294546,19.271862284297367,20.2213712389441,20.253815475124963,19.410439589979287,19.42800134780471,19.473672084171323,19.484453388621855,19.472143097085944,20.407873467882794,20.425312994689776,19.566015546170814,19.567073584888625,19.59601169422372,19.590195603164418,19.561789912247686,20.482287592148523,20.485702926563306,19.613911822103585,19.604296479338128,19.624630896682447,19.612482634512066,19.58016426746361,20.499257801423806,20.503803905457303,19.635640027619488,19.63204449743299,19.660623153374164,19.658713944452032,19.638342908464118,20.570754730527476,20.589609612367276,19.736330356852747,19.747756564887744,19.79104224084828,19.803071982930348,19.795428864597234,20.738936898406305,20.766869492832164,19.920307487877615,19.935803357961777,19.980287588613223,19.990492140867385,19.97792388240117,20.91341069153704,20.9303115077896,20.06987383048009,20.068895225856274,20.094624878966922,20.084180192120495,20.049511453517464],\"type\":\"scatter\"},{\"fill\":\"tonexty\",\"line\":{\"color\":\"#57b8ff\"},\"mode\":\"lines\",\"name\":\"Higher uncertainty interval\",\"x\":[\"2002-07-08T00:00:00\",\"2002-07-09T00:00:00\",\"2002-07-10T00:00:00\",\"2002-07-11T00:00:00\",\"2002-07-12T00:00:00\",\"2002-07-15T00:00:00\",\"2002-07-16T00:00:00\",\"2002-07-17T00:00:00\",\"2002-07-18T00:00:00\",\"2002-07-19T00:00:00\",\"2002-07-22T00:00:00\",\"2002-07-23T00:00:00\",\"2002-07-24T00:00:00\",\"2002-07-25T00:00:00\",\"2002-07-26T00:00:00\",\"2002-07-29T00:00:00\",\"2002-07-30T00:00:00\",\"2002-07-31T00:00:00\",\"2002-08-01T00:00:00\",\"2002-08-02T00:00:00\",\"2002-08-05T00:00:00\",\"2002-08-06T00:00:00\",\"2002-08-07T00:00:00\",\"2002-08-08T00:00:00\",\"2002-08-09T00:00:00\",\"2002-08-12T00:00:00\",\"2002-08-13T00:00:00\",\"2002-08-14T00:00:00\",\"2002-08-15T00:00:00\",\"2002-08-16T00:00:00\",\"2002-08-19T00:00:00\",\"2002-08-20T00:00:00\",\"2002-08-21T00:00:00\",\"2002-08-22T00:00:00\",\"2002-08-23T00:00:00\",\"2002-08-26T00:00:00\",\"2002-08-27T00:00:00\",\"2002-08-28T00:00:00\",\"2002-08-29T00:00:00\",\"2002-08-30T00:00:00\",\"2002-09-03T00:00:00\",\"2002-09-04T00:00:00\",\"2002-09-05T00:00:00\",\"2002-09-06T00:00:00\",\"2002-09-09T00:00:00\",\"2002-09-10T00:00:00\",\"2002-09-11T00:00:00\",\"2002-09-12T00:00:00\",\"2002-09-13T00:00:00\",\"2002-09-16T00:00:00\",\"2002-09-17T00:00:00\",\"2002-09-18T00:00:00\",\"2002-09-19T00:00:00\",\"2002-09-20T00:00:00\",\"2002-09-23T00:00:00\",\"2002-09-24T00:00:00\",\"2002-09-25T00:00:00\",\"2002-09-26T00:00:00\",\"2002-09-27T00:00:00\",\"2002-09-30T00:00:00\",\"2002-10-01T00:00:00\",\"2002-10-02T00:00:00\",\"2002-10-03T00:00:00\",\"2002-10-04T00:00:00\",\"2002-10-07T00:00:00\",\"2002-10-08T00:00:00\",\"2002-10-09T00:00:00\",\"2002-10-10T00:00:00\",\"2002-10-11T00:00:00\",\"2002-10-14T00:00:00\",\"2002-10-15T00:00:00\",\"2002-10-16T00:00:00\",\"2002-10-17T00:00:00\",\"2002-10-18T00:00:00\",\"2002-10-21T00:00:00\",\"2002-10-22T00:00:00\",\"2002-10-23T00:00:00\",\"2002-10-24T00:00:00\",\"2002-10-25T00:00:00\",\"2002-10-28T00:00:00\",\"2002-10-29T00:00:00\",\"2002-10-30T00:00:00\",\"2002-10-31T00:00:00\",\"2002-11-01T00:00:00\",\"2002-11-04T00:00:00\",\"2002-11-05T00:00:00\",\"2002-11-06T00:00:00\",\"2002-11-07T00:00:00\",\"2002-11-08T00:00:00\",\"2002-11-11T00:00:00\",\"2002-11-12T00:00:00\",\"2002-11-13T00:00:00\",\"2002-11-14T00:00:00\",\"2002-11-15T00:00:00\",\"2002-11-18T00:00:00\",\"2002-11-19T00:00:00\",\"2002-11-20T00:00:00\",\"2002-11-21T00:00:00\",\"2002-11-22T00:00:00\",\"2002-11-25T00:00:00\",\"2002-11-26T00:00:00\",\"2002-11-27T00:00:00\",\"2002-11-29T00:00:00\",\"2002-12-02T00:00:00\",\"2002-12-03T00:00:00\",\"2002-12-04T00:00:00\",\"2002-12-05T00:00:00\",\"2002-12-06T00:00:00\",\"2002-12-09T00:00:00\",\"2002-12-10T00:00:00\",\"2002-12-11T00:00:00\",\"2002-12-12T00:00:00\",\"2002-12-13T00:00:00\",\"2002-12-16T00:00:00\",\"2002-12-17T00:00:00\",\"2002-12-18T00:00:00\",\"2002-12-19T00:00:00\",\"2002-12-20T00:00:00\",\"2002-12-23T00:00:00\",\"2002-12-24T00:00:00\",\"2002-12-26T00:00:00\",\"2002-12-27T00:00:00\",\"2002-12-30T00:00:00\",\"2002-12-31T00:00:00\",\"2003-01-02T00:00:00\",\"2003-01-03T00:00:00\",\"2003-01-06T00:00:00\",\"2003-01-07T00:00:00\",\"2003-01-08T00:00:00\",\"2003-01-09T00:00:00\",\"2003-01-10T00:00:00\",\"2003-01-13T00:00:00\",\"2003-01-14T00:00:00\",\"2003-01-15T00:00:00\",\"2003-01-16T00:00:00\",\"2003-01-17T00:00:00\",\"2003-01-21T00:00:00\",\"2003-01-22T00:00:00\",\"2003-01-23T00:00:00\",\"2003-01-24T00:00:00\",\"2003-01-27T00:00:00\",\"2003-01-28T00:00:00\",\"2003-01-29T00:00:00\",\"2003-01-30T00:00:00\",\"2003-01-31T00:00:00\",\"2003-02-03T00:00:00\",\"2003-02-04T00:00:00\",\"2003-02-05T00:00:00\",\"2003-02-06T00:00:00\",\"2003-02-07T00:00:00\",\"2003-02-10T00:00:00\",\"2003-02-11T00:00:00\",\"2003-02-12T00:00:00\",\"2003-02-13T00:00:00\",\"2003-02-14T00:00:00\",\"2003-02-18T00:00:00\",\"2003-02-19T00:00:00\",\"2003-02-20T00:00:00\",\"2003-02-21T00:00:00\",\"2003-02-24T00:00:00\",\"2003-02-25T00:00:00\",\"2003-02-26T00:00:00\",\"2003-02-27T00:00:00\",\"2003-02-28T00:00:00\",\"2003-03-03T00:00:00\",\"2003-03-04T00:00:00\",\"2003-03-05T00:00:00\",\"2003-03-06T00:00:00\",\"2003-03-07T00:00:00\",\"2003-03-10T00:00:00\",\"2003-03-11T00:00:00\",\"2003-03-12T00:00:00\",\"2003-03-13T00:00:00\",\"2003-03-14T00:00:00\",\"2003-03-17T00:00:00\",\"2003-03-18T00:00:00\",\"2003-03-19T00:00:00\",\"2003-03-20T00:00:00\",\"2003-03-21T00:00:00\",\"2003-03-24T00:00:00\",\"2003-03-25T00:00:00\",\"2003-03-26T00:00:00\",\"2003-03-27T00:00:00\",\"2003-03-28T00:00:00\",\"2003-03-31T00:00:00\",\"2003-04-01T00:00:00\",\"2003-04-02T00:00:00\",\"2003-04-03T00:00:00\",\"2003-04-04T00:00:00\",\"2003-04-07T00:00:00\",\"2003-04-08T00:00:00\",\"2003-04-09T00:00:00\",\"2003-04-10T00:00:00\",\"2003-04-11T00:00:00\",\"2003-04-14T00:00:00\",\"2003-04-15T00:00:00\",\"2003-04-16T00:00:00\",\"2003-04-17T00:00:00\",\"2003-04-21T00:00:00\",\"2003-04-22T00:00:00\",\"2003-04-23T00:00:00\",\"2003-04-24T00:00:00\",\"2003-04-25T00:00:00\",\"2003-04-28T00:00:00\",\"2003-04-29T00:00:00\",\"2003-04-30T00:00:00\",\"2003-05-01T00:00:00\",\"2003-05-02T00:00:00\",\"2003-05-05T00:00:00\",\"2003-05-06T00:00:00\",\"2003-05-07T00:00:00\",\"2003-05-08T00:00:00\",\"2003-05-09T00:00:00\",\"2003-05-12T00:00:00\",\"2003-05-13T00:00:00\",\"2003-05-14T00:00:00\",\"2003-05-15T00:00:00\",\"2003-05-16T00:00:00\",\"2003-05-19T00:00:00\",\"2003-05-20T00:00:00\",\"2003-05-21T00:00:00\",\"2003-05-22T00:00:00\",\"2003-05-23T00:00:00\",\"2003-05-27T00:00:00\",\"2003-05-28T00:00:00\",\"2003-05-29T00:00:00\",\"2003-05-30T00:00:00\",\"2003-06-02T00:00:00\",\"2003-06-03T00:00:00\",\"2003-06-04T00:00:00\",\"2003-06-05T00:00:00\",\"2003-06-06T00:00:00\",\"2003-06-09T00:00:00\",\"2003-06-10T00:00:00\",\"2003-06-11T00:00:00\",\"2003-06-12T00:00:00\",\"2003-06-13T00:00:00\",\"2003-06-16T00:00:00\",\"2003-06-17T00:00:00\",\"2003-06-18T00:00:00\",\"2003-06-19T00:00:00\",\"2003-06-20T00:00:00\",\"2003-06-23T00:00:00\",\"2003-06-24T00:00:00\",\"2003-06-25T00:00:00\",\"2003-06-26T00:00:00\",\"2003-06-27T00:00:00\",\"2003-06-30T00:00:00\",\"2003-07-01T00:00:00\",\"2003-07-02T00:00:00\",\"2003-07-03T00:00:00\",\"2003-07-07T00:00:00\",\"2003-07-08T00:00:00\",\"2003-07-09T00:00:00\",\"2003-07-10T00:00:00\",\"2003-07-11T00:00:00\",\"2003-07-14T00:00:00\",\"2003-07-15T00:00:00\",\"2003-07-16T00:00:00\",\"2003-07-17T00:00:00\",\"2003-07-18T00:00:00\",\"2003-07-21T00:00:00\",\"2003-07-22T00:00:00\",\"2003-07-23T00:00:00\",\"2003-07-24T00:00:00\",\"2003-07-25T00:00:00\",\"2003-07-28T00:00:00\",\"2003-07-29T00:00:00\",\"2003-07-30T00:00:00\",\"2003-07-31T00:00:00\",\"2003-08-01T00:00:00\",\"2003-08-04T00:00:00\",\"2003-08-05T00:00:00\",\"2003-08-06T00:00:00\",\"2003-08-07T00:00:00\",\"2003-08-08T00:00:00\",\"2003-08-11T00:00:00\",\"2003-08-12T00:00:00\",\"2003-08-13T00:00:00\",\"2003-08-14T00:00:00\",\"2003-08-15T00:00:00\",\"2003-08-18T00:00:00\",\"2003-08-19T00:00:00\",\"2003-08-20T00:00:00\",\"2003-08-21T00:00:00\",\"2003-08-22T00:00:00\",\"2003-08-25T00:00:00\",\"2003-08-26T00:00:00\",\"2003-08-27T00:00:00\",\"2003-08-28T00:00:00\",\"2003-08-29T00:00:00\",\"2003-09-02T00:00:00\",\"2003-09-03T00:00:00\",\"2003-09-04T00:00:00\",\"2003-09-05T00:00:00\",\"2003-09-08T00:00:00\",\"2003-09-09T00:00:00\",\"2003-09-10T00:00:00\",\"2003-09-11T00:00:00\",\"2003-09-12T00:00:00\",\"2003-09-15T00:00:00\",\"2003-09-16T00:00:00\",\"2003-09-17T00:00:00\",\"2003-09-18T00:00:00\",\"2003-09-19T00:00:00\",\"2003-09-22T00:00:00\",\"2003-09-23T00:00:00\",\"2003-09-24T00:00:00\",\"2003-09-25T00:00:00\",\"2003-09-26T00:00:00\",\"2003-09-29T00:00:00\",\"2003-09-30T00:00:00\",\"2003-10-01T00:00:00\",\"2003-10-02T00:00:00\",\"2003-10-03T00:00:00\",\"2003-10-06T00:00:00\",\"2003-10-07T00:00:00\",\"2003-10-08T00:00:00\",\"2003-10-09T00:00:00\",\"2003-10-10T00:00:00\",\"2003-10-13T00:00:00\",\"2003-10-14T00:00:00\",\"2003-10-15T00:00:00\",\"2003-10-16T00:00:00\",\"2003-10-17T00:00:00\",\"2003-10-20T00:00:00\",\"2003-10-21T00:00:00\",\"2003-10-22T00:00:00\",\"2003-10-23T00:00:00\",\"2003-10-24T00:00:00\",\"2003-10-27T00:00:00\",\"2003-10-28T00:00:00\",\"2003-10-29T00:00:00\",\"2003-10-30T00:00:00\",\"2003-10-31T00:00:00\",\"2003-11-03T00:00:00\",\"2003-11-04T00:00:00\",\"2003-11-05T00:00:00\",\"2003-11-06T00:00:00\",\"2003-11-07T00:00:00\",\"2003-11-10T00:00:00\",\"2003-11-11T00:00:00\",\"2003-11-12T00:00:00\",\"2003-11-13T00:00:00\",\"2003-11-14T00:00:00\",\"2003-11-17T00:00:00\",\"2003-11-18T00:00:00\",\"2003-11-19T00:00:00\",\"2003-11-20T00:00:00\",\"2003-11-21T00:00:00\",\"2003-11-24T00:00:00\",\"2003-11-25T00:00:00\",\"2003-11-26T00:00:00\",\"2003-11-28T00:00:00\",\"2003-12-01T00:00:00\",\"2003-12-02T00:00:00\",\"2003-12-03T00:00:00\",\"2003-12-04T00:00:00\",\"2003-12-05T00:00:00\",\"2003-12-08T00:00:00\",\"2003-12-09T00:00:00\",\"2003-12-10T00:00:00\",\"2003-12-11T00:00:00\",\"2003-12-12T00:00:00\",\"2003-12-15T00:00:00\",\"2003-12-16T00:00:00\",\"2003-12-17T00:00:00\",\"2003-12-18T00:00:00\",\"2003-12-19T00:00:00\",\"2003-12-22T00:00:00\",\"2003-12-23T00:00:00\",\"2003-12-24T00:00:00\",\"2003-12-26T00:00:00\",\"2003-12-29T00:00:00\",\"2003-12-30T00:00:00\",\"2003-12-31T00:00:00\",\"2004-01-02T00:00:00\",\"2004-01-05T00:00:00\",\"2004-01-06T00:00:00\",\"2004-01-07T00:00:00\",\"2004-01-08T00:00:00\",\"2004-01-09T00:00:00\",\"2004-01-12T00:00:00\",\"2004-01-13T00:00:00\",\"2004-01-14T00:00:00\",\"2004-01-15T00:00:00\",\"2004-01-16T00:00:00\",\"2004-01-20T00:00:00\",\"2004-01-21T00:00:00\",\"2004-01-22T00:00:00\",\"2004-01-23T00:00:00\",\"2004-01-26T00:00:00\",\"2004-01-27T00:00:00\",\"2004-01-28T00:00:00\",\"2004-01-29T00:00:00\",\"2004-01-30T00:00:00\",\"2004-02-02T00:00:00\",\"2004-02-03T00:00:00\",\"2004-02-04T00:00:00\",\"2004-02-05T00:00:00\",\"2004-02-06T00:00:00\",\"2004-02-09T00:00:00\",\"2004-02-10T00:00:00\",\"2004-02-11T00:00:00\",\"2004-02-12T00:00:00\",\"2004-02-13T00:00:00\",\"2004-02-17T00:00:00\",\"2004-02-18T00:00:00\",\"2004-02-19T00:00:00\",\"2004-02-20T00:00:00\",\"2004-02-23T00:00:00\",\"2004-02-24T00:00:00\",\"2004-02-25T00:00:00\",\"2004-02-26T00:00:00\",\"2004-02-27T00:00:00\",\"2004-03-01T00:00:00\",\"2004-03-02T00:00:00\",\"2004-03-03T00:00:00\",\"2004-03-04T00:00:00\",\"2004-03-05T00:00:00\",\"2004-03-08T00:00:00\",\"2004-03-09T00:00:00\",\"2004-03-10T00:00:00\",\"2004-03-11T00:00:00\",\"2004-03-12T00:00:00\",\"2004-03-15T00:00:00\",\"2004-03-16T00:00:00\",\"2004-03-17T00:00:00\",\"2004-03-18T00:00:00\",\"2004-03-19T00:00:00\",\"2004-03-22T00:00:00\",\"2004-03-23T00:00:00\",\"2004-03-24T00:00:00\",\"2004-03-25T00:00:00\",\"2004-03-26T00:00:00\",\"2004-03-29T00:00:00\",\"2004-03-30T00:00:00\",\"2004-03-31T00:00:00\",\"2004-04-01T00:00:00\",\"2004-04-02T00:00:00\",\"2004-04-05T00:00:00\",\"2004-04-06T00:00:00\",\"2004-04-07T00:00:00\",\"2004-04-08T00:00:00\",\"2004-04-12T00:00:00\",\"2004-04-13T00:00:00\",\"2004-04-14T00:00:00\",\"2004-04-15T00:00:00\",\"2004-04-16T00:00:00\",\"2004-04-19T00:00:00\",\"2004-04-20T00:00:00\",\"2004-04-21T00:00:00\",\"2004-04-22T00:00:00\",\"2004-04-23T00:00:00\",\"2004-04-26T00:00:00\",\"2004-04-27T00:00:00\",\"2004-04-28T00:00:00\",\"2004-04-29T00:00:00\",\"2004-04-30T00:00:00\",\"2004-05-03T00:00:00\",\"2004-05-04T00:00:00\",\"2004-05-05T00:00:00\",\"2004-05-06T00:00:00\",\"2004-05-07T00:00:00\",\"2004-05-10T00:00:00\",\"2004-05-11T00:00:00\",\"2004-05-12T00:00:00\",\"2004-05-13T00:00:00\",\"2004-05-14T00:00:00\",\"2004-05-17T00:00:00\",\"2004-05-18T00:00:00\",\"2004-05-19T00:00:00\",\"2004-05-20T00:00:00\",\"2004-05-21T00:00:00\",\"2004-05-24T00:00:00\",\"2004-05-25T00:00:00\",\"2004-05-26T00:00:00\",\"2004-05-27T00:00:00\",\"2004-05-28T00:00:00\",\"2004-06-01T00:00:00\",\"2004-06-02T00:00:00\",\"2004-06-03T00:00:00\",\"2004-06-04T00:00:00\",\"2004-06-07T00:00:00\",\"2004-06-08T00:00:00\",\"2004-06-09T00:00:00\",\"2004-06-10T00:00:00\",\"2004-06-14T00:00:00\",\"2004-06-15T00:00:00\",\"2004-06-16T00:00:00\",\"2004-06-17T00:00:00\",\"2004-06-18T00:00:00\",\"2004-06-21T00:00:00\",\"2004-06-22T00:00:00\",\"2004-06-23T00:00:00\",\"2004-06-24T00:00:00\",\"2004-06-25T00:00:00\",\"2004-06-28T00:00:00\",\"2004-06-29T00:00:00\",\"2004-06-30T00:00:00\",\"2004-07-01T00:00:00\",\"2004-07-02T00:00:00\",\"2004-07-06T00:00:00\",\"2004-07-07T00:00:00\",\"2004-07-08T00:00:00\",\"2004-07-09T00:00:00\",\"2004-07-12T00:00:00\",\"2004-07-13T00:00:00\",\"2004-07-14T00:00:00\",\"2004-07-15T00:00:00\",\"2004-07-16T00:00:00\",\"2004-07-19T00:00:00\",\"2004-07-20T00:00:00\",\"2004-07-21T00:00:00\",\"2004-07-22T00:00:00\",\"2004-07-23T00:00:00\",\"2004-07-26T00:00:00\",\"2004-07-27T00:00:00\",\"2004-07-28T00:00:00\",\"2004-07-29T00:00:00\",\"2004-07-30T00:00:00\",\"2004-08-02T00:00:00\",\"2004-08-03T00:00:00\",\"2004-08-04T00:00:00\",\"2004-08-05T00:00:00\",\"2004-08-06T00:00:00\",\"2004-08-09T00:00:00\",\"2004-08-10T00:00:00\",\"2004-08-11T00:00:00\",\"2004-08-12T00:00:00\",\"2004-08-13T00:00:00\",\"2004-08-16T00:00:00\",\"2004-08-17T00:00:00\",\"2004-08-18T00:00:00\",\"2004-08-19T00:00:00\",\"2004-08-20T00:00:00\",\"2004-08-23T00:00:00\",\"2004-08-24T00:00:00\",\"2004-08-25T00:00:00\",\"2004-08-26T00:00:00\",\"2004-08-27T00:00:00\",\"2004-08-30T00:00:00\",\"2004-08-31T00:00:00\",\"2004-09-01T00:00:00\",\"2004-09-02T00:00:00\",\"2004-09-03T00:00:00\",\"2004-09-07T00:00:00\",\"2004-09-08T00:00:00\",\"2004-09-09T00:00:00\",\"2004-09-10T00:00:00\",\"2004-09-13T00:00:00\",\"2004-09-14T00:00:00\",\"2004-09-15T00:00:00\",\"2004-09-16T00:00:00\",\"2004-09-17T00:00:00\",\"2004-09-20T00:00:00\",\"2004-09-21T00:00:00\",\"2004-09-22T00:00:00\",\"2004-09-23T00:00:00\",\"2004-09-24T00:00:00\",\"2004-09-27T00:00:00\",\"2004-09-28T00:00:00\",\"2004-09-29T00:00:00\",\"2004-09-30T00:00:00\",\"2004-10-01T00:00:00\",\"2004-10-04T00:00:00\",\"2004-10-05T00:00:00\",\"2004-10-06T00:00:00\",\"2004-10-07T00:00:00\",\"2004-10-08T00:00:00\",\"2004-10-11T00:00:00\",\"2004-10-12T00:00:00\",\"2004-10-13T00:00:00\",\"2004-10-14T00:00:00\",\"2004-10-15T00:00:00\",\"2004-10-18T00:00:00\",\"2004-10-19T00:00:00\",\"2004-10-20T00:00:00\",\"2004-10-21T00:00:00\",\"2004-10-22T00:00:00\",\"2004-10-25T00:00:00\",\"2004-10-26T00:00:00\",\"2004-10-27T00:00:00\",\"2004-10-28T00:00:00\",\"2004-10-29T00:00:00\",\"2004-11-01T00:00:00\",\"2004-11-02T00:00:00\",\"2004-11-03T00:00:00\",\"2004-11-04T00:00:00\",\"2004-11-05T00:00:00\",\"2004-11-08T00:00:00\",\"2004-11-09T00:00:00\",\"2004-11-10T00:00:00\",\"2004-11-11T00:00:00\",\"2004-11-12T00:00:00\",\"2004-11-15T00:00:00\",\"2004-11-16T00:00:00\",\"2004-11-17T00:00:00\",\"2004-11-18T00:00:00\",\"2004-11-19T00:00:00\",\"2004-11-22T00:00:00\",\"2004-11-23T00:00:00\",\"2004-11-24T00:00:00\",\"2004-11-26T00:00:00\",\"2004-11-29T00:00:00\",\"2004-11-30T00:00:00\",\"2004-12-01T00:00:00\",\"2004-12-02T00:00:00\",\"2004-12-03T00:00:00\",\"2004-12-06T00:00:00\",\"2004-12-07T00:00:00\",\"2004-12-08T00:00:00\",\"2004-12-09T00:00:00\",\"2004-12-10T00:00:00\",\"2004-12-13T00:00:00\",\"2004-12-14T00:00:00\",\"2004-12-15T00:00:00\",\"2004-12-16T00:00:00\",\"2004-12-17T00:00:00\",\"2004-12-20T00:00:00\",\"2004-12-21T00:00:00\",\"2004-12-22T00:00:00\",\"2004-12-23T00:00:00\",\"2004-12-27T00:00:00\",\"2004-12-28T00:00:00\",\"2004-12-29T00:00:00\",\"2004-12-30T00:00:00\",\"2004-12-31T00:00:00\",\"2005-01-03T00:00:00\",\"2005-01-04T00:00:00\",\"2005-01-05T00:00:00\",\"2005-01-06T00:00:00\",\"2005-01-07T00:00:00\",\"2005-01-10T00:00:00\",\"2005-01-11T00:00:00\",\"2005-01-12T00:00:00\",\"2005-01-13T00:00:00\",\"2005-01-14T00:00:00\",\"2005-01-18T00:00:00\",\"2005-01-19T00:00:00\",\"2005-01-20T00:00:00\",\"2005-01-21T00:00:00\",\"2005-01-24T00:00:00\",\"2005-01-25T00:00:00\",\"2005-01-26T00:00:00\",\"2005-01-27T00:00:00\",\"2005-01-28T00:00:00\",\"2005-01-31T00:00:00\",\"2005-02-01T00:00:00\",\"2005-02-02T00:00:00\",\"2005-02-03T00:00:00\",\"2005-02-04T00:00:00\",\"2005-02-07T00:00:00\",\"2005-02-08T00:00:00\",\"2005-02-09T00:00:00\",\"2005-02-10T00:00:00\",\"2005-02-11T00:00:00\",\"2005-02-14T00:00:00\",\"2005-02-15T00:00:00\",\"2005-02-16T00:00:00\",\"2005-02-17T00:00:00\",\"2005-02-18T00:00:00\",\"2005-02-22T00:00:00\",\"2005-02-23T00:00:00\",\"2005-02-24T00:00:00\",\"2005-02-25T00:00:00\",\"2005-02-28T00:00:00\",\"2005-03-01T00:00:00\",\"2005-03-02T00:00:00\",\"2005-03-03T00:00:00\",\"2005-03-04T00:00:00\",\"2005-03-07T00:00:00\",\"2005-03-08T00:00:00\",\"2005-03-09T00:00:00\",\"2005-03-10T00:00:00\",\"2005-03-11T00:00:00\",\"2005-03-14T00:00:00\",\"2005-03-15T00:00:00\",\"2005-03-16T00:00:00\",\"2005-03-17T00:00:00\",\"2005-03-18T00:00:00\",\"2005-03-21T00:00:00\",\"2005-03-22T00:00:00\",\"2005-03-23T00:00:00\",\"2005-03-24T00:00:00\",\"2005-03-28T00:00:00\",\"2005-03-29T00:00:00\",\"2005-03-30T00:00:00\",\"2005-03-31T00:00:00\",\"2005-04-01T00:00:00\",\"2005-04-04T00:00:00\",\"2005-04-05T00:00:00\",\"2005-04-06T00:00:00\",\"2005-04-07T00:00:00\",\"2005-04-08T00:00:00\",\"2005-04-11T00:00:00\",\"2005-04-12T00:00:00\",\"2005-04-13T00:00:00\",\"2005-04-14T00:00:00\",\"2005-04-15T00:00:00\",\"2005-04-18T00:00:00\",\"2005-04-19T00:00:00\",\"2005-04-20T00:00:00\",\"2005-04-21T00:00:00\",\"2005-04-22T00:00:00\",\"2005-04-25T00:00:00\",\"2005-04-26T00:00:00\",\"2005-04-27T00:00:00\",\"2005-04-28T00:00:00\",\"2005-04-29T00:00:00\",\"2005-05-02T00:00:00\",\"2005-05-03T00:00:00\",\"2005-05-04T00:00:00\",\"2005-05-05T00:00:00\",\"2005-05-06T00:00:00\",\"2005-05-09T00:00:00\",\"2005-05-10T00:00:00\",\"2005-05-11T00:00:00\",\"2005-05-12T00:00:00\",\"2005-05-13T00:00:00\",\"2005-05-16T00:00:00\",\"2005-05-17T00:00:00\",\"2005-05-18T00:00:00\",\"2005-05-19T00:00:00\",\"2005-05-20T00:00:00\",\"2005-05-23T00:00:00\",\"2005-05-24T00:00:00\",\"2005-05-25T00:00:00\",\"2005-05-26T00:00:00\",\"2005-05-27T00:00:00\",\"2005-05-31T00:00:00\",\"2005-06-01T00:00:00\",\"2005-06-02T00:00:00\",\"2005-06-03T00:00:00\",\"2005-06-06T00:00:00\",\"2005-06-07T00:00:00\",\"2005-06-08T00:00:00\",\"2005-06-09T00:00:00\",\"2005-06-10T00:00:00\",\"2005-06-13T00:00:00\",\"2005-06-14T00:00:00\",\"2005-06-15T00:00:00\",\"2005-06-16T00:00:00\",\"2005-06-17T00:00:00\",\"2005-06-20T00:00:00\",\"2005-06-21T00:00:00\",\"2005-06-22T00:00:00\",\"2005-06-23T00:00:00\",\"2005-06-24T00:00:00\",\"2005-06-27T00:00:00\",\"2005-06-28T00:00:00\",\"2005-06-29T00:00:00\",\"2005-06-30T00:00:00\",\"2005-07-01T00:00:00\",\"2005-07-05T00:00:00\",\"2005-07-06T00:00:00\",\"2005-07-07T00:00:00\",\"2005-07-08T00:00:00\",\"2005-07-09T00:00:00\",\"2005-07-10T00:00:00\",\"2005-07-11T00:00:00\",\"2005-07-12T00:00:00\",\"2005-07-13T00:00:00\",\"2005-07-14T00:00:00\",\"2005-07-15T00:00:00\",\"2005-07-16T00:00:00\",\"2005-07-17T00:00:00\",\"2005-07-18T00:00:00\",\"2005-07-19T00:00:00\",\"2005-07-20T00:00:00\",\"2005-07-21T00:00:00\",\"2005-07-22T00:00:00\",\"2005-07-23T00:00:00\",\"2005-07-24T00:00:00\",\"2005-07-25T00:00:00\",\"2005-07-26T00:00:00\",\"2005-07-27T00:00:00\",\"2005-07-28T00:00:00\",\"2005-07-29T00:00:00\",\"2005-07-30T00:00:00\",\"2005-07-31T00:00:00\",\"2005-08-01T00:00:00\",\"2005-08-02T00:00:00\",\"2005-08-03T00:00:00\",\"2005-08-04T00:00:00\",\"2005-08-05T00:00:00\",\"2005-08-06T00:00:00\",\"2005-08-07T00:00:00\",\"2005-08-08T00:00:00\",\"2005-08-09T00:00:00\",\"2005-08-10T00:00:00\",\"2005-08-11T00:00:00\",\"2005-08-12T00:00:00\",\"2005-08-13T00:00:00\",\"2005-08-14T00:00:00\",\"2005-08-15T00:00:00\",\"2005-08-16T00:00:00\",\"2005-08-17T00:00:00\",\"2005-08-18T00:00:00\",\"2005-08-19T00:00:00\",\"2005-08-20T00:00:00\",\"2005-08-21T00:00:00\",\"2005-08-22T00:00:00\",\"2005-08-23T00:00:00\",\"2005-08-24T00:00:00\",\"2005-08-25T00:00:00\",\"2005-08-26T00:00:00\",\"2005-08-27T00:00:00\",\"2005-08-28T00:00:00\",\"2005-08-29T00:00:00\",\"2005-08-30T00:00:00\",\"2005-08-31T00:00:00\",\"2005-09-01T00:00:00\",\"2005-09-02T00:00:00\",\"2005-09-03T00:00:00\",\"2005-09-04T00:00:00\",\"2005-09-05T00:00:00\",\"2005-09-06T00:00:00\",\"2005-09-07T00:00:00\",\"2005-09-08T00:00:00\",\"2005-09-09T00:00:00\",\"2005-09-10T00:00:00\",\"2005-09-11T00:00:00\",\"2005-09-12T00:00:00\",\"2005-09-13T00:00:00\",\"2005-09-14T00:00:00\",\"2005-09-15T00:00:00\",\"2005-09-16T00:00:00\",\"2005-09-17T00:00:00\",\"2005-09-18T00:00:00\",\"2005-09-19T00:00:00\",\"2005-09-20T00:00:00\",\"2005-09-21T00:00:00\",\"2005-09-22T00:00:00\",\"2005-09-23T00:00:00\",\"2005-09-24T00:00:00\",\"2005-09-25T00:00:00\",\"2005-09-26T00:00:00\",\"2005-09-27T00:00:00\",\"2005-09-28T00:00:00\",\"2005-09-29T00:00:00\",\"2005-09-30T00:00:00\",\"2005-10-01T00:00:00\",\"2005-10-02T00:00:00\",\"2005-10-03T00:00:00\",\"2005-10-04T00:00:00\",\"2005-10-05T00:00:00\",\"2005-10-06T00:00:00\",\"2005-10-07T00:00:00\",\"2005-10-08T00:00:00\",\"2005-10-09T00:00:00\",\"2005-10-10T00:00:00\",\"2005-10-11T00:00:00\",\"2005-10-12T00:00:00\",\"2005-10-13T00:00:00\",\"2005-10-14T00:00:00\",\"2005-10-15T00:00:00\",\"2005-10-16T00:00:00\",\"2005-10-17T00:00:00\",\"2005-10-18T00:00:00\",\"2005-10-19T00:00:00\",\"2005-10-20T00:00:00\",\"2005-10-21T00:00:00\",\"2005-10-22T00:00:00\",\"2005-10-23T00:00:00\",\"2005-10-24T00:00:00\",\"2005-10-25T00:00:00\",\"2005-10-26T00:00:00\",\"2005-10-27T00:00:00\",\"2005-10-28T00:00:00\",\"2005-10-29T00:00:00\",\"2005-10-30T00:00:00\",\"2005-10-31T00:00:00\",\"2005-11-01T00:00:00\",\"2005-11-02T00:00:00\",\"2005-11-03T00:00:00\",\"2005-11-04T00:00:00\",\"2005-11-05T00:00:00\",\"2005-11-06T00:00:00\",\"2005-11-07T00:00:00\",\"2005-11-08T00:00:00\",\"2005-11-09T00:00:00\",\"2005-11-10T00:00:00\",\"2005-11-11T00:00:00\",\"2005-11-12T00:00:00\",\"2005-11-13T00:00:00\",\"2005-11-14T00:00:00\",\"2005-11-15T00:00:00\",\"2005-11-16T00:00:00\",\"2005-11-17T00:00:00\",\"2005-11-18T00:00:00\",\"2005-11-19T00:00:00\",\"2005-11-20T00:00:00\",\"2005-11-21T00:00:00\",\"2005-11-22T00:00:00\",\"2005-11-23T00:00:00\",\"2005-11-24T00:00:00\",\"2005-11-25T00:00:00\",\"2005-11-26T00:00:00\",\"2005-11-27T00:00:00\",\"2005-11-28T00:00:00\",\"2005-11-29T00:00:00\",\"2005-11-30T00:00:00\",\"2005-12-01T00:00:00\",\"2005-12-02T00:00:00\"],\"y\":[16.30114008944146,16.300432194497702,16.27194402526431,16.370444753002474,16.29099632329549,16.308487137424265,16.342580612305955,16.270805012320142,16.284294572456893,16.202375144033326,16.0342391689935,16.071837863196382,16.03145132918762,15.929451706676462,15.863052535616756,15.77066979906366,15.734919706941206,15.74828311190799,15.609209780110318,15.631998956344722,15.646318585084533,15.59570653823118,15.622602510685999,15.602259040293957,15.606734738821215,15.716942812536459,15.730660961754225,15.789869193817378,15.791040128312524,15.785342515059781,15.964436689210139,16.06946193693545,16.08575226426996,16.143855722057737,16.078647387993403,16.2863391117731,16.271245492478208,16.303517266809042,16.285541248050734,16.27328443788566,16.316458231463635,16.341093585078212,16.29276085930644,16.292384604003153,16.33381660782968,16.30249333085147,16.33109954005858,16.24737328056914,16.240304317775614,16.300068090780268,16.20189191995676,16.24379987803293,16.21519216698172,16.17369841082435,16.273415154943315,16.165300886608364,16.229074216614645,16.201793771870896,16.178550709593193,16.2188464311611,16.249494618359805,16.317422812837563,16.27098698920936,16.386597498511506,16.43155698757128,16.52964862476645,16.517816957811153,16.62752708089415,16.598389060420693,16.74438643368208,16.7161131049533,16.906791486085865,16.85555689776102,16.861984185507733,16.99205802720349,16.97605517463715,17.0148017103839,16.970578017408574,16.974778098888446,17.07044331990884,17.041638587561327,17.04323543361103,17.086479331388396,17.042202919918342,17.121238573074038,17.075051080524094,17.107576577966395,17.08481025319828,17.047264151144923,17.186282261798002,17.19382431378652,17.203145551442766,17.21198931161202,17.20333344231877,17.37927599004066,17.38600569831441,17.40584462719548,17.35420339124649,17.392654716902445,17.523032472933426,17.528870993612827,17.550024815411685,17.530702275322827,17.621712122672687,17.645624117722708,17.59831359393225,17.607811435126717,17.481901550416662,17.483529132713016,17.4380410368479,17.497373666532468,17.416409364315417,17.470316104710236,17.474103481073758,17.39010707858945,17.380610735357223,17.394933508958335,17.30103881745743,17.449802733297595,17.491821890778876,17.50307712549415,17.473671644296946,17.6188388523632,17.585527900264587,17.743997064666747,17.71724066207532,17.730740562067254,17.728820115589823,17.77053255116472,17.744805499478776,17.700986314439106,17.711954603988683,17.63634255540167,17.653775573468486,17.58132331614981,17.529781649651653,17.29434589050952,17.305973897902287,17.223270978572348,17.135359275660793,17.044337848953244,16.893171901123083,16.991223132621442,16.8740224810925,16.829594053032903,16.7302922046477,16.68031332772391,16.712085444916077,16.641941023865613,16.602031381999833,16.679265282228727,16.657169735450545,16.54398231774091,16.606835269881866,16.505213704563726,16.56382506485441,16.572577846445817,16.5649400208788,16.500319348400918,16.388461665181463,16.39186022624506,16.445096605689702,16.327029388183163,16.29601463885473,16.294088153399596,16.289609312179294,16.24661610874853,16.184315160348937,16.169238335116237,16.203959888066787,16.259270345115,16.152896334419395,16.178950765604366,16.15298125800326,16.144850587540365,16.162450570183946,16.206906891491396,16.118524451324905,16.09693932680868,16.20847174499285,16.16850704909719,16.141314454966054,16.173493190153152,16.08596758779549,16.17953637272038,16.179791411488278,16.153724434809497,16.167637133487936,16.17092605567829,16.210152217303055,16.242462199533872,16.18244283992203,16.264312406716613,16.196151701306487,16.294704940757352,16.35298663045042,16.386596497486742,16.37690759815606,16.506802316985205,16.50008479501565,16.58261454966529,16.58980553102244,16.609683634350475,16.725713838603852,16.7065723811898,16.710056841104418,16.718939763008933,16.774551974791184,16.743006921222232,16.754939402431212,16.760561995854037,16.73800583246411,16.687011252226796,16.67921689141547,16.646411506674887,16.694190635728887,16.61673372340235,16.569693693352328,16.592520050068245,16.58609270958565,16.564332864318143,16.58159291549729,16.50065683541883,16.56176540998757,16.491975609446357,16.61433392096987,16.493938965171456,16.532790624817125,16.616098335079368,16.620407730293994,16.64047524994852,16.517085142319498,16.595216044526836,16.58350994619646,16.64482360713299,16.667944757469424,16.684394275488863,16.766354207041072,16.803041197967286,16.938191038804806,16.916821414461246,16.88370168370076,17.087944439022646,17.12880820732169,17.178477609987336,17.250473058137057,17.33181417179962,17.513850963298232,17.535836456686837,17.60853765426991,17.653422404264745,17.85620341365837,17.868614391096102,17.875435144759546,17.88885828378866,17.90836767757195,17.950753157958577,17.928478477982583,17.895974761702853,17.855577627550975,17.776060319358265,17.70057721301128,17.625063125677233,17.648795594239235,17.600648744331156,17.505937671610862,17.32364270927348,17.348798363779938,17.33263438146246,17.2207205144352,17.225490018829163,17.14536304422236,17.063050802832272,17.173175301568893,17.15352513294944,17.055751060817922,17.179514981899388,17.204484641485738,17.188291238195344,17.314732739695813,17.29774306990613,17.46349138947988,17.46480694473424,17.55450435837703,17.560886504736487,17.51117059810064,17.669630841481787,17.746265913266694,17.7325743518257,17.818799111905367,17.689350149798422,17.718615751344704,17.821427724575546,17.751467692174117,17.690447573671765,17.787854758649704,17.723897799868098,17.687220464838898,17.673471976052504,17.64803939639314,17.56594638016933,17.609243947824197,17.578763606986595,17.617281238606125,17.53187767646848,17.556538505817603,17.491847982237395,17.57070330820611,17.52263780582938,17.524732074621188,17.54611445620105,17.558663480329813,17.59356330664958,17.68232721578363,17.58636655255116,17.728117382369142,17.639354049142373,17.753992980254832,17.795801475456702,17.786877755127318,17.909165915299255,17.882644204053758,17.971930877704164,18.030476685267836,17.93573020171449,18.09201921647299,18.156736883741278,18.11382017880774,18.214834941153015,18.064076006920065,18.18046059378131,18.176548313706054,18.15466913905078,18.065792344855723,18.083083095329574,18.191136878645615,18.144906527883688,18.107556507924834,18.12300627081813,18.062373576318286,18.168103389461002,18.11785456359333,18.1603159416107,18.161112516609656,18.153817696490343,18.26520193128671,18.262722556777362,18.243120686413384,18.33192794907266,18.31578906907566,18.389761185980042,18.380251881837385,18.44786484727606,18.422836431678647,18.437239384943258,18.43064226529777,18.48103745909603,18.409253942485524,18.36435568076428,18.296193680697716,18.320962623668226,18.32741460988637,18.286090508622827,18.262948002729154,18.22410187107734,18.20932147343414,18.252924675757175,18.250194538893403,18.156259374369057,18.188683411047336,18.3048323716856,18.25362285680154,18.205624645374332,18.33197181234101,18.38759656383461,18.40646967417632,18.457654686473305,18.46359848837208,18.51645992868829,18.56936473400679,18.590030793586532,18.46851822032123,18.469093934509402,18.505394815785788,18.563342803848027,18.50210504270626,18.387149303500493,18.17498543940739,18.114541295156354,18.09906340161183,17.890755792566026,17.845950369025523,17.807328607930096,17.77822222447797,17.69775400542894,17.641170319836007,17.564841009735144,17.489109610552347,17.503482816674257,17.513592361284708,17.432805224114617,17.478532910765647,17.403608623243294,17.42121851799955,17.51610714439758,17.35325915158408,17.37070770780846,17.377571446377495,17.288684829690613,17.30116128465943,17.302807608129733,17.2310936963852,17.225345969933695,17.174653426919527,17.126273870035348,17.186557539823486,17.045805707297777,17.12350366922827,17.06645316031595,16.986480740267048,17.00823855313398,16.94845112840266,16.965548851509702,16.948733771143793,16.93106349168018,16.980066084531575,16.94670049039257,16.930768944228376,16.957421393350117,16.831996811956465,16.949754612373294,16.952641485603884,16.96682096686618,16.9699349498328,16.921385149458835,16.92647788677257,16.998181500347208,17.00464493478616,16.875411621512033,16.880037790817997,17.053695031399485,16.948525011827282,17.04832242499066,16.97525805519123,17.07805293501635,17.03528088344288,17.06027445215737,17.178357003780057,17.129987546341916,17.265718352328825,17.301849557568282,17.33487158127322,17.38124204653398,17.300763679407577,17.460740092582398,17.464843511371942,17.498161698901484,17.49647897053171,17.489374949859336,17.500638513011708,17.50854556145492,17.558090554638415,17.54159103942311,17.507592709102617,17.553153169757177,17.49519836907956,17.47804982866175,17.394417182996786,17.428609293407025,17.424806218839446,17.320530382226604,17.4006949810331,17.33945228600311,17.27042566748813,17.41215767342944,17.31430552429732,17.30011678512113,17.296229672287474,17.269718634353065,17.363721670123294,17.387845509046947,17.31091246329614,17.351038100563247,17.394422213842958,17.416140188278238,17.484149715800562,17.40561349203902,17.545439345148292,17.575760647483747,17.708336633910616,17.647196773264664,17.589271753830463,17.794360863729462,17.888900998796778,17.93393677669588,17.99461490227128,17.96160301001106,18.187841204867837,18.25237039872228,18.391230856612946,18.360169368050858,18.41258929741968,18.575954391310027,18.616339277555124,18.696442070444927,18.69436730379282,18.728506323289988,18.746394133083676,18.666250795754586,18.63275498421117,18.603115598390854,18.53137797985103,18.50625226290294,18.500152754192644,18.402436252492166,18.31257225442907,18.18680642526038,18.213049389960354,18.096948498592962,18.06926780546387,17.994268275226464,17.927067242996674,17.90249816862072,17.87332679379653,17.93041654368622,17.873993875340393,17.9056158367895,17.940965641686002,17.991729758917128,17.994963729936405,18.08648617556324,18.176505530014722,18.15162549190167,18.245279612830174,18.255323334126302,18.320743400456692,18.330746828368458,18.420612773634208,18.475511147387614,18.524118240817447,18.46123185147597,18.620437751370314,18.547054784510973,18.554199202448658,18.545667466137928,18.550219571435363,18.533144378311054,18.6008553612532,18.526506451539134,18.55950998594285,18.47913320033529,18.409271686595766,18.477346270197973,18.452178950200942,18.414319518287527,18.453818331718654,18.429679175797265,18.34706653540789,18.394988534655294,18.457761460272472,18.422930961210028,18.437893759210805,18.500586205395116,18.499480415252325,18.48277486224788,18.55270955821903,18.636388061351333,18.747915960942052,18.666491361231277,18.657606964631665,18.848920877667027,18.85971389800747,18.9113651916152,18.90735475520665,18.883799718693975,19.01325493934307,19.060665551317214,19.097127265900962,19.067695208952465,19.09575396800246,19.23351983581439,19.19897960534625,19.15716992807288,19.18000179647403,19.21638178320469,19.20844376240895,19.256323560519622,19.205735666093474,19.249182091196367,19.213180768555336,19.2109061625978,19.237567650786186,19.240762478274586,19.280373567226867,19.350175892330846,19.343336790816803,19.324016283974764,19.42673603303853,19.426482165957488,19.362464202008866,19.61258085846175,19.565172961105283,19.618713520208797,19.63269368924438,19.65064471249464,19.705837612392827,19.65927029638853,19.679719781591277,19.592851795489473,19.64103081678719,19.58262154227582,19.696595705962164,19.600297403140424,19.579280461779586,19.522713944627366,19.505486696305223,19.47718617075488,19.453877987177314,19.506215038969387,19.4983623674495,19.469132727949326,19.598841000918906,19.47189387037065,19.65273480349956,19.72425453485034,19.677842425710683,19.701722753512946,19.640538962722935,19.826501571455555,19.787847501662693,19.83365697374275,19.78986938661168,19.79525861274955,19.838521199529055,19.79208450958826,19.79879351428559,19.792607810846608,19.684712454988816,19.504960254685546,19.4996757965172,19.44115672676253,19.334828191349928,19.176957013575663,19.1753739544668,19.130401857479562,19.07853999690875,18.9647449658614,18.83217792305154,18.782117212041896,18.793390217457564,18.778068018881378,18.71622198015972,18.6883173681274,18.648874989000916,18.716673206303188,18.698538656773515,18.653352896118054,18.67636342622503,18.629636508293267,18.63557861525494,18.63636177377827,18.596612070614306,18.525226920279646,18.500852425258987,18.465738035564705,18.45539371521436,18.39658844106663,18.412692848842664,18.359848004668784,18.314769905521512,18.308710494631395,18.2247340089254,18.2652605280129,18.312002489243245,18.306769518729272,18.242201699302267,18.189300948743586,18.22639407163028,18.246272448130508,18.20500559569152,18.221104627974608,18.21652730352586,18.25848802643928,18.337150601409547,18.299958813315254,18.2592539154457,18.220744658220873,18.208898991827827,18.259032693565626,18.199539159125933,18.22932914748016,18.237486024035594,18.205443781901806,18.267101163680962,18.219072062051744,18.310854553183738,18.348853159247035,18.380428865486387,18.340456291700683,18.428726947342405,18.555883501859952,18.546460322772482,18.61154945038689,18.58586429192245,18.55223595250695,18.694209284150432,18.712174280900385,18.73037790855016,18.77471843607628,18.686730512006676,18.828493188696317,18.786865610622243,18.831864505379937,18.830981844619927,18.73268782314129,18.781988137992837,18.72190170677889,18.74692269640354,18.719544387025074,18.703480135593548,18.653014438472688,18.679966257830234,18.680753636010518,18.600146093669156,18.60126064969942,18.617607727628716,18.55270759341603,18.554897039715478,18.593190807909142,18.53354765607276,18.536164307182084,18.54967925442589,18.52776749093742,18.560004067947315,18.719687047726406,18.644779389032117,18.683883801187335,18.760799936840908,18.695945244956665,18.819345296022743,18.784118120837753,18.862415931890983,18.747526702803068,18.87076919190247,18.98566555383201,19.09482407095717,19.130803287594613,19.15660104118208,19.223839604066292,19.457370590699238,19.39588278266619,19.488909130533347,19.494103342485896,19.56035062369984,19.740990633857074,19.892225927203256,19.905191903915735,19.837848655865987,20.79720267425395,20.809591898487916,20.013210109241477,19.930523666937678,19.884878062150495,19.912470875234618,19.93702314786828,20.753253355649196,20.773693751922252,19.826432887407332,19.825296257284705,19.761913576981797,19.70579523272358,19.646352763591878,20.513819904274822,20.456461950699673,19.536947376031737,19.38083829099889,19.41432602834496,19.33212609651251,19.26407703959816,20.167692469333968,20.122111861500326,19.20950781184561,19.223564823748607,19.23508519232767,19.11544175079813,19.100023253525507,20.021713730117888,20.087755970163386,19.221109621717215,19.210657585783633,19.213686810541503,19.25835925346694,19.220696874320566,20.15640380814977,20.157620771686467,19.375776914530825,19.393613056881907,19.44109433166558,19.46529915575067,19.437382822760107,20.40660059965843,20.44679787532114,19.594089929472048,19.63484305574881,19.737225463520833,19.699199432855906,19.64104356351099,20.639619227074526,20.623963043816122,19.774085630172813,19.754778220750968,19.819099279146293,19.820838837198764,19.801458739903804,20.70540832728227,20.65338833880437,19.806012570734353,19.815844009863042,19.79222141621223,19.81063569993593,19.762160481164187,20.620397289815784,20.60758140670133,19.70429046176435,19.69999178959062,19.69668024564172,19.71371785229327,19.634443234170153,20.529315993735974,20.5972626125307,19.65714246965186,19.63895110625806,19.681066916539603,19.63844356086401,19.594820599999018,20.466498861602158,20.528142907234354,19.6666404608834,19.64224501863056,19.66968205986179,19.704053856677138,19.67216983739094,20.55792970487983,20.63319451067071,19.720268976807684,19.794864654250524,19.788459410151226,19.875292185744236,19.84116645734408,20.735616495038826,20.906572331405183,20.017207162266565,19.982845665616594,20.07152738841623,20.072695404723447,20.092295848151707,21.026508881210887,21.08867530643618,20.20818823710791,20.26481160323503,20.267947284406322,20.269215060135494,20.260959342896403,21.249583331597222,21.254628380880025,20.392368275558297,20.3609161335691,20.397176206293757,20.453032119282778,20.29286348318642,21.304139903933926,21.26548752387228,20.41207187020775,20.433503815276783,20.479190100428607,20.403338542061537,20.413375806259655,21.268426595684108,21.33189263516441,20.514229710879963,20.482829585174336,20.5325013213476,20.453775370106417,20.460494609940245,21.428147697728896,21.357105422039197,20.563065404789562,20.549202015987046,20.598397405891784,20.675018411804494,20.586946337749044,21.563462891489447,21.573755860889452,20.71096030560596,20.744170680242192,20.77186925844842,20.849744089187197,20.800599602780565,21.74193807107401,21.759062218562587,20.872707110491806,20.892283550476154,20.897717155497983,20.871792783435296,20.8821848114547],\"type\":\"scatter\"},{\"fill\":\"tonexty\",\"line\":{\"color\":\"#57b8ff\"},\"mode\":\"lines\",\"name\":\"Lower uncertainty interval\",\"x\":[\"2002-07-08T00:00:00\",\"2002-07-09T00:00:00\",\"2002-07-10T00:00:00\",\"2002-07-11T00:00:00\",\"2002-07-12T00:00:00\",\"2002-07-15T00:00:00\",\"2002-07-16T00:00:00\",\"2002-07-17T00:00:00\",\"2002-07-18T00:00:00\",\"2002-07-19T00:00:00\",\"2002-07-22T00:00:00\",\"2002-07-23T00:00:00\",\"2002-07-24T00:00:00\",\"2002-07-25T00:00:00\",\"2002-07-26T00:00:00\",\"2002-07-29T00:00:00\",\"2002-07-30T00:00:00\",\"2002-07-31T00:00:00\",\"2002-08-01T00:00:00\",\"2002-08-02T00:00:00\",\"2002-08-05T00:00:00\",\"2002-08-06T00:00:00\",\"2002-08-07T00:00:00\",\"2002-08-08T00:00:00\",\"2002-08-09T00:00:00\",\"2002-08-12T00:00:00\",\"2002-08-13T00:00:00\",\"2002-08-14T00:00:00\",\"2002-08-15T00:00:00\",\"2002-08-16T00:00:00\",\"2002-08-19T00:00:00\",\"2002-08-20T00:00:00\",\"2002-08-21T00:00:00\",\"2002-08-22T00:00:00\",\"2002-08-23T00:00:00\",\"2002-08-26T00:00:00\",\"2002-08-27T00:00:00\",\"2002-08-28T00:00:00\",\"2002-08-29T00:00:00\",\"2002-08-30T00:00:00\",\"2002-09-03T00:00:00\",\"2002-09-04T00:00:00\",\"2002-09-05T00:00:00\",\"2002-09-06T00:00:00\",\"2002-09-09T00:00:00\",\"2002-09-10T00:00:00\",\"2002-09-11T00:00:00\",\"2002-09-12T00:00:00\",\"2002-09-13T00:00:00\",\"2002-09-16T00:00:00\",\"2002-09-17T00:00:00\",\"2002-09-18T00:00:00\",\"2002-09-19T00:00:00\",\"2002-09-20T00:00:00\",\"2002-09-23T00:00:00\",\"2002-09-24T00:00:00\",\"2002-09-25T00:00:00\",\"2002-09-26T00:00:00\",\"2002-09-27T00:00:00\",\"2002-09-30T00:00:00\",\"2002-10-01T00:00:00\",\"2002-10-02T00:00:00\",\"2002-10-03T00:00:00\",\"2002-10-04T00:00:00\",\"2002-10-07T00:00:00\",\"2002-10-08T00:00:00\",\"2002-10-09T00:00:00\",\"2002-10-10T00:00:00\",\"2002-10-11T00:00:00\",\"2002-10-14T00:00:00\",\"2002-10-15T00:00:00\",\"2002-10-16T00:00:00\",\"2002-10-17T00:00:00\",\"2002-10-18T00:00:00\",\"2002-10-21T00:00:00\",\"2002-10-22T00:00:00\",\"2002-10-23T00:00:00\",\"2002-10-24T00:00:00\",\"2002-10-25T00:00:00\",\"2002-10-28T00:00:00\",\"2002-10-29T00:00:00\",\"2002-10-30T00:00:00\",\"2002-10-31T00:00:00\",\"2002-11-01T00:00:00\",\"2002-11-04T00:00:00\",\"2002-11-05T00:00:00\",\"2002-11-06T00:00:00\",\"2002-11-07T00:00:00\",\"2002-11-08T00:00:00\",\"2002-11-11T00:00:00\",\"2002-11-12T00:00:00\",\"2002-11-13T00:00:00\",\"2002-11-14T00:00:00\",\"2002-11-15T00:00:00\",\"2002-11-18T00:00:00\",\"2002-11-19T00:00:00\",\"2002-11-20T00:00:00\",\"2002-11-21T00:00:00\",\"2002-11-22T00:00:00\",\"2002-11-25T00:00:00\",\"2002-11-26T00:00:00\",\"2002-11-27T00:00:00\",\"2002-11-29T00:00:00\",\"2002-12-02T00:00:00\",\"2002-12-03T00:00:00\",\"2002-12-04T00:00:00\",\"2002-12-05T00:00:00\",\"2002-12-06T00:00:00\",\"2002-12-09T00:00:00\",\"2002-12-10T00:00:00\",\"2002-12-11T00:00:00\",\"2002-12-12T00:00:00\",\"2002-12-13T00:00:00\",\"2002-12-16T00:00:00\",\"2002-12-17T00:00:00\",\"2002-12-18T00:00:00\",\"2002-12-19T00:00:00\",\"2002-12-20T00:00:00\",\"2002-12-23T00:00:00\",\"2002-12-24T00:00:00\",\"2002-12-26T00:00:00\",\"2002-12-27T00:00:00\",\"2002-12-30T00:00:00\",\"2002-12-31T00:00:00\",\"2003-01-02T00:00:00\",\"2003-01-03T00:00:00\",\"2003-01-06T00:00:00\",\"2003-01-07T00:00:00\",\"2003-01-08T00:00:00\",\"2003-01-09T00:00:00\",\"2003-01-10T00:00:00\",\"2003-01-13T00:00:00\",\"2003-01-14T00:00:00\",\"2003-01-15T00:00:00\",\"2003-01-16T00:00:00\",\"2003-01-17T00:00:00\",\"2003-01-21T00:00:00\",\"2003-01-22T00:00:00\",\"2003-01-23T00:00:00\",\"2003-01-24T00:00:00\",\"2003-01-27T00:00:00\",\"2003-01-28T00:00:00\",\"2003-01-29T00:00:00\",\"2003-01-30T00:00:00\",\"2003-01-31T00:00:00\",\"2003-02-03T00:00:00\",\"2003-02-04T00:00:00\",\"2003-02-05T00:00:00\",\"2003-02-06T00:00:00\",\"2003-02-07T00:00:00\",\"2003-02-10T00:00:00\",\"2003-02-11T00:00:00\",\"2003-02-12T00:00:00\",\"2003-02-13T00:00:00\",\"2003-02-14T00:00:00\",\"2003-02-18T00:00:00\",\"2003-02-19T00:00:00\",\"2003-02-20T00:00:00\",\"2003-02-21T00:00:00\",\"2003-02-24T00:00:00\",\"2003-02-25T00:00:00\",\"2003-02-26T00:00:00\",\"2003-02-27T00:00:00\",\"2003-02-28T00:00:00\",\"2003-03-03T00:00:00\",\"2003-03-04T00:00:00\",\"2003-03-05T00:00:00\",\"2003-03-06T00:00:00\",\"2003-03-07T00:00:00\",\"2003-03-10T00:00:00\",\"2003-03-11T00:00:00\",\"2003-03-12T00:00:00\",\"2003-03-13T00:00:00\",\"2003-03-14T00:00:00\",\"2003-03-17T00:00:00\",\"2003-03-18T00:00:00\",\"2003-03-19T00:00:00\",\"2003-03-20T00:00:00\",\"2003-03-21T00:00:00\",\"2003-03-24T00:00:00\",\"2003-03-25T00:00:00\",\"2003-03-26T00:00:00\",\"2003-03-27T00:00:00\",\"2003-03-28T00:00:00\",\"2003-03-31T00:00:00\",\"2003-04-01T00:00:00\",\"2003-04-02T00:00:00\",\"2003-04-03T00:00:00\",\"2003-04-04T00:00:00\",\"2003-04-07T00:00:00\",\"2003-04-08T00:00:00\",\"2003-04-09T00:00:00\",\"2003-04-10T00:00:00\",\"2003-04-11T00:00:00\",\"2003-04-14T00:00:00\",\"2003-04-15T00:00:00\",\"2003-04-16T00:00:00\",\"2003-04-17T00:00:00\",\"2003-04-21T00:00:00\",\"2003-04-22T00:00:00\",\"2003-04-23T00:00:00\",\"2003-04-24T00:00:00\",\"2003-04-25T00:00:00\",\"2003-04-28T00:00:00\",\"2003-04-29T00:00:00\",\"2003-04-30T00:00:00\",\"2003-05-01T00:00:00\",\"2003-05-02T00:00:00\",\"2003-05-05T00:00:00\",\"2003-05-06T00:00:00\",\"2003-05-07T00:00:00\",\"2003-05-08T00:00:00\",\"2003-05-09T00:00:00\",\"2003-05-12T00:00:00\",\"2003-05-13T00:00:00\",\"2003-05-14T00:00:00\",\"2003-05-15T00:00:00\",\"2003-05-16T00:00:00\",\"2003-05-19T00:00:00\",\"2003-05-20T00:00:00\",\"2003-05-21T00:00:00\",\"2003-05-22T00:00:00\",\"2003-05-23T00:00:00\",\"2003-05-27T00:00:00\",\"2003-05-28T00:00:00\",\"2003-05-29T00:00:00\",\"2003-05-30T00:00:00\",\"2003-06-02T00:00:00\",\"2003-06-03T00:00:00\",\"2003-06-04T00:00:00\",\"2003-06-05T00:00:00\",\"2003-06-06T00:00:00\",\"2003-06-09T00:00:00\",\"2003-06-10T00:00:00\",\"2003-06-11T00:00:00\",\"2003-06-12T00:00:00\",\"2003-06-13T00:00:00\",\"2003-06-16T00:00:00\",\"2003-06-17T00:00:00\",\"2003-06-18T00:00:00\",\"2003-06-19T00:00:00\",\"2003-06-20T00:00:00\",\"2003-06-23T00:00:00\",\"2003-06-24T00:00:00\",\"2003-06-25T00:00:00\",\"2003-06-26T00:00:00\",\"2003-06-27T00:00:00\",\"2003-06-30T00:00:00\",\"2003-07-01T00:00:00\",\"2003-07-02T00:00:00\",\"2003-07-03T00:00:00\",\"2003-07-07T00:00:00\",\"2003-07-08T00:00:00\",\"2003-07-09T00:00:00\",\"2003-07-10T00:00:00\",\"2003-07-11T00:00:00\",\"2003-07-14T00:00:00\",\"2003-07-15T00:00:00\",\"2003-07-16T00:00:00\",\"2003-07-17T00:00:00\",\"2003-07-18T00:00:00\",\"2003-07-21T00:00:00\",\"2003-07-22T00:00:00\",\"2003-07-23T00:00:00\",\"2003-07-24T00:00:00\",\"2003-07-25T00:00:00\",\"2003-07-28T00:00:00\",\"2003-07-29T00:00:00\",\"2003-07-30T00:00:00\",\"2003-07-31T00:00:00\",\"2003-08-01T00:00:00\",\"2003-08-04T00:00:00\",\"2003-08-05T00:00:00\",\"2003-08-06T00:00:00\",\"2003-08-07T00:00:00\",\"2003-08-08T00:00:00\",\"2003-08-11T00:00:00\",\"2003-08-12T00:00:00\",\"2003-08-13T00:00:00\",\"2003-08-14T00:00:00\",\"2003-08-15T00:00:00\",\"2003-08-18T00:00:00\",\"2003-08-19T00:00:00\",\"2003-08-20T00:00:00\",\"2003-08-21T00:00:00\",\"2003-08-22T00:00:00\",\"2003-08-25T00:00:00\",\"2003-08-26T00:00:00\",\"2003-08-27T00:00:00\",\"2003-08-28T00:00:00\",\"2003-08-29T00:00:00\",\"2003-09-02T00:00:00\",\"2003-09-03T00:00:00\",\"2003-09-04T00:00:00\",\"2003-09-05T00:00:00\",\"2003-09-08T00:00:00\",\"2003-09-09T00:00:00\",\"2003-09-10T00:00:00\",\"2003-09-11T00:00:00\",\"2003-09-12T00:00:00\",\"2003-09-15T00:00:00\",\"2003-09-16T00:00:00\",\"2003-09-17T00:00:00\",\"2003-09-18T00:00:00\",\"2003-09-19T00:00:00\",\"2003-09-22T00:00:00\",\"2003-09-23T00:00:00\",\"2003-09-24T00:00:00\",\"2003-09-25T00:00:00\",\"2003-09-26T00:00:00\",\"2003-09-29T00:00:00\",\"2003-09-30T00:00:00\",\"2003-10-01T00:00:00\",\"2003-10-02T00:00:00\",\"2003-10-03T00:00:00\",\"2003-10-06T00:00:00\",\"2003-10-07T00:00:00\",\"2003-10-08T00:00:00\",\"2003-10-09T00:00:00\",\"2003-10-10T00:00:00\",\"2003-10-13T00:00:00\",\"2003-10-14T00:00:00\",\"2003-10-15T00:00:00\",\"2003-10-16T00:00:00\",\"2003-10-17T00:00:00\",\"2003-10-20T00:00:00\",\"2003-10-21T00:00:00\",\"2003-10-22T00:00:00\",\"2003-10-23T00:00:00\",\"2003-10-24T00:00:00\",\"2003-10-27T00:00:00\",\"2003-10-28T00:00:00\",\"2003-10-29T00:00:00\",\"2003-10-30T00:00:00\",\"2003-10-31T00:00:00\",\"2003-11-03T00:00:00\",\"2003-11-04T00:00:00\",\"2003-11-05T00:00:00\",\"2003-11-06T00:00:00\",\"2003-11-07T00:00:00\",\"2003-11-10T00:00:00\",\"2003-11-11T00:00:00\",\"2003-11-12T00:00:00\",\"2003-11-13T00:00:00\",\"2003-11-14T00:00:00\",\"2003-11-17T00:00:00\",\"2003-11-18T00:00:00\",\"2003-11-19T00:00:00\",\"2003-11-20T00:00:00\",\"2003-11-21T00:00:00\",\"2003-11-24T00:00:00\",\"2003-11-25T00:00:00\",\"2003-11-26T00:00:00\",\"2003-11-28T00:00:00\",\"2003-12-01T00:00:00\",\"2003-12-02T00:00:00\",\"2003-12-03T00:00:00\",\"2003-12-04T00:00:00\",\"2003-12-05T00:00:00\",\"2003-12-08T00:00:00\",\"2003-12-09T00:00:00\",\"2003-12-10T00:00:00\",\"2003-12-11T00:00:00\",\"2003-12-12T00:00:00\",\"2003-12-15T00:00:00\",\"2003-12-16T00:00:00\",\"2003-12-17T00:00:00\",\"2003-12-18T00:00:00\",\"2003-12-19T00:00:00\",\"2003-12-22T00:00:00\",\"2003-12-23T00:00:00\",\"2003-12-24T00:00:00\",\"2003-12-26T00:00:00\",\"2003-12-29T00:00:00\",\"2003-12-30T00:00:00\",\"2003-12-31T00:00:00\",\"2004-01-02T00:00:00\",\"2004-01-05T00:00:00\",\"2004-01-06T00:00:00\",\"2004-01-07T00:00:00\",\"2004-01-08T00:00:00\",\"2004-01-09T00:00:00\",\"2004-01-12T00:00:00\",\"2004-01-13T00:00:00\",\"2004-01-14T00:00:00\",\"2004-01-15T00:00:00\",\"2004-01-16T00:00:00\",\"2004-01-20T00:00:00\",\"2004-01-21T00:00:00\",\"2004-01-22T00:00:00\",\"2004-01-23T00:00:00\",\"2004-01-26T00:00:00\",\"2004-01-27T00:00:00\",\"2004-01-28T00:00:00\",\"2004-01-29T00:00:00\",\"2004-01-30T00:00:00\",\"2004-02-02T00:00:00\",\"2004-02-03T00:00:00\",\"2004-02-04T00:00:00\",\"2004-02-05T00:00:00\",\"2004-02-06T00:00:00\",\"2004-02-09T00:00:00\",\"2004-02-10T00:00:00\",\"2004-02-11T00:00:00\",\"2004-02-12T00:00:00\",\"2004-02-13T00:00:00\",\"2004-02-17T00:00:00\",\"2004-02-18T00:00:00\",\"2004-02-19T00:00:00\",\"2004-02-20T00:00:00\",\"2004-02-23T00:00:00\",\"2004-02-24T00:00:00\",\"2004-02-25T00:00:00\",\"2004-02-26T00:00:00\",\"2004-02-27T00:00:00\",\"2004-03-01T00:00:00\",\"2004-03-02T00:00:00\",\"2004-03-03T00:00:00\",\"2004-03-04T00:00:00\",\"2004-03-05T00:00:00\",\"2004-03-08T00:00:00\",\"2004-03-09T00:00:00\",\"2004-03-10T00:00:00\",\"2004-03-11T00:00:00\",\"2004-03-12T00:00:00\",\"2004-03-15T00:00:00\",\"2004-03-16T00:00:00\",\"2004-03-17T00:00:00\",\"2004-03-18T00:00:00\",\"2004-03-19T00:00:00\",\"2004-03-22T00:00:00\",\"2004-03-23T00:00:00\",\"2004-03-24T00:00:00\",\"2004-03-25T00:00:00\",\"2004-03-26T00:00:00\",\"2004-03-29T00:00:00\",\"2004-03-30T00:00:00\",\"2004-03-31T00:00:00\",\"2004-04-01T00:00:00\",\"2004-04-02T00:00:00\",\"2004-04-05T00:00:00\",\"2004-04-06T00:00:00\",\"2004-04-07T00:00:00\",\"2004-04-08T00:00:00\",\"2004-04-12T00:00:00\",\"2004-04-13T00:00:00\",\"2004-04-14T00:00:00\",\"2004-04-15T00:00:00\",\"2004-04-16T00:00:00\",\"2004-04-19T00:00:00\",\"2004-04-20T00:00:00\",\"2004-04-21T00:00:00\",\"2004-04-22T00:00:00\",\"2004-04-23T00:00:00\",\"2004-04-26T00:00:00\",\"2004-04-27T00:00:00\",\"2004-04-28T00:00:00\",\"2004-04-29T00:00:00\",\"2004-04-30T00:00:00\",\"2004-05-03T00:00:00\",\"2004-05-04T00:00:00\",\"2004-05-05T00:00:00\",\"2004-05-06T00:00:00\",\"2004-05-07T00:00:00\",\"2004-05-10T00:00:00\",\"2004-05-11T00:00:00\",\"2004-05-12T00:00:00\",\"2004-05-13T00:00:00\",\"2004-05-14T00:00:00\",\"2004-05-17T00:00:00\",\"2004-05-18T00:00:00\",\"2004-05-19T00:00:00\",\"2004-05-20T00:00:00\",\"2004-05-21T00:00:00\",\"2004-05-24T00:00:00\",\"2004-05-25T00:00:00\",\"2004-05-26T00:00:00\",\"2004-05-27T00:00:00\",\"2004-05-28T00:00:00\",\"2004-06-01T00:00:00\",\"2004-06-02T00:00:00\",\"2004-06-03T00:00:00\",\"2004-06-04T00:00:00\",\"2004-06-07T00:00:00\",\"2004-06-08T00:00:00\",\"2004-06-09T00:00:00\",\"2004-06-10T00:00:00\",\"2004-06-14T00:00:00\",\"2004-06-15T00:00:00\",\"2004-06-16T00:00:00\",\"2004-06-17T00:00:00\",\"2004-06-18T00:00:00\",\"2004-06-21T00:00:00\",\"2004-06-22T00:00:00\",\"2004-06-23T00:00:00\",\"2004-06-24T00:00:00\",\"2004-06-25T00:00:00\",\"2004-06-28T00:00:00\",\"2004-06-29T00:00:00\",\"2004-06-30T00:00:00\",\"2004-07-01T00:00:00\",\"2004-07-02T00:00:00\",\"2004-07-06T00:00:00\",\"2004-07-07T00:00:00\",\"2004-07-08T00:00:00\",\"2004-07-09T00:00:00\",\"2004-07-12T00:00:00\",\"2004-07-13T00:00:00\",\"2004-07-14T00:00:00\",\"2004-07-15T00:00:00\",\"2004-07-16T00:00:00\",\"2004-07-19T00:00:00\",\"2004-07-20T00:00:00\",\"2004-07-21T00:00:00\",\"2004-07-22T00:00:00\",\"2004-07-23T00:00:00\",\"2004-07-26T00:00:00\",\"2004-07-27T00:00:00\",\"2004-07-28T00:00:00\",\"2004-07-29T00:00:00\",\"2004-07-30T00:00:00\",\"2004-08-02T00:00:00\",\"2004-08-03T00:00:00\",\"2004-08-04T00:00:00\",\"2004-08-05T00:00:00\",\"2004-08-06T00:00:00\",\"2004-08-09T00:00:00\",\"2004-08-10T00:00:00\",\"2004-08-11T00:00:00\",\"2004-08-12T00:00:00\",\"2004-08-13T00:00:00\",\"2004-08-16T00:00:00\",\"2004-08-17T00:00:00\",\"2004-08-18T00:00:00\",\"2004-08-19T00:00:00\",\"2004-08-20T00:00:00\",\"2004-08-23T00:00:00\",\"2004-08-24T00:00:00\",\"2004-08-25T00:00:00\",\"2004-08-26T00:00:00\",\"2004-08-27T00:00:00\",\"2004-08-30T00:00:00\",\"2004-08-31T00:00:00\",\"2004-09-01T00:00:00\",\"2004-09-02T00:00:00\",\"2004-09-03T00:00:00\",\"2004-09-07T00:00:00\",\"2004-09-08T00:00:00\",\"2004-09-09T00:00:00\",\"2004-09-10T00:00:00\",\"2004-09-13T00:00:00\",\"2004-09-14T00:00:00\",\"2004-09-15T00:00:00\",\"2004-09-16T00:00:00\",\"2004-09-17T00:00:00\",\"2004-09-20T00:00:00\",\"2004-09-21T00:00:00\",\"2004-09-22T00:00:00\",\"2004-09-23T00:00:00\",\"2004-09-24T00:00:00\",\"2004-09-27T00:00:00\",\"2004-09-28T00:00:00\",\"2004-09-29T00:00:00\",\"2004-09-30T00:00:00\",\"2004-10-01T00:00:00\",\"2004-10-04T00:00:00\",\"2004-10-05T00:00:00\",\"2004-10-06T00:00:00\",\"2004-10-07T00:00:00\",\"2004-10-08T00:00:00\",\"2004-10-11T00:00:00\",\"2004-10-12T00:00:00\",\"2004-10-13T00:00:00\",\"2004-10-14T00:00:00\",\"2004-10-15T00:00:00\",\"2004-10-18T00:00:00\",\"2004-10-19T00:00:00\",\"2004-10-20T00:00:00\",\"2004-10-21T00:00:00\",\"2004-10-22T00:00:00\",\"2004-10-25T00:00:00\",\"2004-10-26T00:00:00\",\"2004-10-27T00:00:00\",\"2004-10-28T00:00:00\",\"2004-10-29T00:00:00\",\"2004-11-01T00:00:00\",\"2004-11-02T00:00:00\",\"2004-11-03T00:00:00\",\"2004-11-04T00:00:00\",\"2004-11-05T00:00:00\",\"2004-11-08T00:00:00\",\"2004-11-09T00:00:00\",\"2004-11-10T00:00:00\",\"2004-11-11T00:00:00\",\"2004-11-12T00:00:00\",\"2004-11-15T00:00:00\",\"2004-11-16T00:00:00\",\"2004-11-17T00:00:00\",\"2004-11-18T00:00:00\",\"2004-11-19T00:00:00\",\"2004-11-22T00:00:00\",\"2004-11-23T00:00:00\",\"2004-11-24T00:00:00\",\"2004-11-26T00:00:00\",\"2004-11-29T00:00:00\",\"2004-11-30T00:00:00\",\"2004-12-01T00:00:00\",\"2004-12-02T00:00:00\",\"2004-12-03T00:00:00\",\"2004-12-06T00:00:00\",\"2004-12-07T00:00:00\",\"2004-12-08T00:00:00\",\"2004-12-09T00:00:00\",\"2004-12-10T00:00:00\",\"2004-12-13T00:00:00\",\"2004-12-14T00:00:00\",\"2004-12-15T00:00:00\",\"2004-12-16T00:00:00\",\"2004-12-17T00:00:00\",\"2004-12-20T00:00:00\",\"2004-12-21T00:00:00\",\"2004-12-22T00:00:00\",\"2004-12-23T00:00:00\",\"2004-12-27T00:00:00\",\"2004-12-28T00:00:00\",\"2004-12-29T00:00:00\",\"2004-12-30T00:00:00\",\"2004-12-31T00:00:00\",\"2005-01-03T00:00:00\",\"2005-01-04T00:00:00\",\"2005-01-05T00:00:00\",\"2005-01-06T00:00:00\",\"2005-01-07T00:00:00\",\"2005-01-10T00:00:00\",\"2005-01-11T00:00:00\",\"2005-01-12T00:00:00\",\"2005-01-13T00:00:00\",\"2005-01-14T00:00:00\",\"2005-01-18T00:00:00\",\"2005-01-19T00:00:00\",\"2005-01-20T00:00:00\",\"2005-01-21T00:00:00\",\"2005-01-24T00:00:00\",\"2005-01-25T00:00:00\",\"2005-01-26T00:00:00\",\"2005-01-27T00:00:00\",\"2005-01-28T00:00:00\",\"2005-01-31T00:00:00\",\"2005-02-01T00:00:00\",\"2005-02-02T00:00:00\",\"2005-02-03T00:00:00\",\"2005-02-04T00:00:00\",\"2005-02-07T00:00:00\",\"2005-02-08T00:00:00\",\"2005-02-09T00:00:00\",\"2005-02-10T00:00:00\",\"2005-02-11T00:00:00\",\"2005-02-14T00:00:00\",\"2005-02-15T00:00:00\",\"2005-02-16T00:00:00\",\"2005-02-17T00:00:00\",\"2005-02-18T00:00:00\",\"2005-02-22T00:00:00\",\"2005-02-23T00:00:00\",\"2005-02-24T00:00:00\",\"2005-02-25T00:00:00\",\"2005-02-28T00:00:00\",\"2005-03-01T00:00:00\",\"2005-03-02T00:00:00\",\"2005-03-03T00:00:00\",\"2005-03-04T00:00:00\",\"2005-03-07T00:00:00\",\"2005-03-08T00:00:00\",\"2005-03-09T00:00:00\",\"2005-03-10T00:00:00\",\"2005-03-11T00:00:00\",\"2005-03-14T00:00:00\",\"2005-03-15T00:00:00\",\"2005-03-16T00:00:00\",\"2005-03-17T00:00:00\",\"2005-03-18T00:00:00\",\"2005-03-21T00:00:00\",\"2005-03-22T00:00:00\",\"2005-03-23T00:00:00\",\"2005-03-24T00:00:00\",\"2005-03-28T00:00:00\",\"2005-03-29T00:00:00\",\"2005-03-30T00:00:00\",\"2005-03-31T00:00:00\",\"2005-04-01T00:00:00\",\"2005-04-04T00:00:00\",\"2005-04-05T00:00:00\",\"2005-04-06T00:00:00\",\"2005-04-07T00:00:00\",\"2005-04-08T00:00:00\",\"2005-04-11T00:00:00\",\"2005-04-12T00:00:00\",\"2005-04-13T00:00:00\",\"2005-04-14T00:00:00\",\"2005-04-15T00:00:00\",\"2005-04-18T00:00:00\",\"2005-04-19T00:00:00\",\"2005-04-20T00:00:00\",\"2005-04-21T00:00:00\",\"2005-04-22T00:00:00\",\"2005-04-25T00:00:00\",\"2005-04-26T00:00:00\",\"2005-04-27T00:00:00\",\"2005-04-28T00:00:00\",\"2005-04-29T00:00:00\",\"2005-05-02T00:00:00\",\"2005-05-03T00:00:00\",\"2005-05-04T00:00:00\",\"2005-05-05T00:00:00\",\"2005-05-06T00:00:00\",\"2005-05-09T00:00:00\",\"2005-05-10T00:00:00\",\"2005-05-11T00:00:00\",\"2005-05-12T00:00:00\",\"2005-05-13T00:00:00\",\"2005-05-16T00:00:00\",\"2005-05-17T00:00:00\",\"2005-05-18T00:00:00\",\"2005-05-19T00:00:00\",\"2005-05-20T00:00:00\",\"2005-05-23T00:00:00\",\"2005-05-24T00:00:00\",\"2005-05-25T00:00:00\",\"2005-05-26T00:00:00\",\"2005-05-27T00:00:00\",\"2005-05-31T00:00:00\",\"2005-06-01T00:00:00\",\"2005-06-02T00:00:00\",\"2005-06-03T00:00:00\",\"2005-06-06T00:00:00\",\"2005-06-07T00:00:00\",\"2005-06-08T00:00:00\",\"2005-06-09T00:00:00\",\"2005-06-10T00:00:00\",\"2005-06-13T00:00:00\",\"2005-06-14T00:00:00\",\"2005-06-15T00:00:00\",\"2005-06-16T00:00:00\",\"2005-06-17T00:00:00\",\"2005-06-20T00:00:00\",\"2005-06-21T00:00:00\",\"2005-06-22T00:00:00\",\"2005-06-23T00:00:00\",\"2005-06-24T00:00:00\",\"2005-06-27T00:00:00\",\"2005-06-28T00:00:00\",\"2005-06-29T00:00:00\",\"2005-06-30T00:00:00\",\"2005-07-01T00:00:00\",\"2005-07-05T00:00:00\",\"2005-07-06T00:00:00\",\"2005-07-07T00:00:00\",\"2005-07-08T00:00:00\",\"2005-07-09T00:00:00\",\"2005-07-10T00:00:00\",\"2005-07-11T00:00:00\",\"2005-07-12T00:00:00\",\"2005-07-13T00:00:00\",\"2005-07-14T00:00:00\",\"2005-07-15T00:00:00\",\"2005-07-16T00:00:00\",\"2005-07-17T00:00:00\",\"2005-07-18T00:00:00\",\"2005-07-19T00:00:00\",\"2005-07-20T00:00:00\",\"2005-07-21T00:00:00\",\"2005-07-22T00:00:00\",\"2005-07-23T00:00:00\",\"2005-07-24T00:00:00\",\"2005-07-25T00:00:00\",\"2005-07-26T00:00:00\",\"2005-07-27T00:00:00\",\"2005-07-28T00:00:00\",\"2005-07-29T00:00:00\",\"2005-07-30T00:00:00\",\"2005-07-31T00:00:00\",\"2005-08-01T00:00:00\",\"2005-08-02T00:00:00\",\"2005-08-03T00:00:00\",\"2005-08-04T00:00:00\",\"2005-08-05T00:00:00\",\"2005-08-06T00:00:00\",\"2005-08-07T00:00:00\",\"2005-08-08T00:00:00\",\"2005-08-09T00:00:00\",\"2005-08-10T00:00:00\",\"2005-08-11T00:00:00\",\"2005-08-12T00:00:00\",\"2005-08-13T00:00:00\",\"2005-08-14T00:00:00\",\"2005-08-15T00:00:00\",\"2005-08-16T00:00:00\",\"2005-08-17T00:00:00\",\"2005-08-18T00:00:00\",\"2005-08-19T00:00:00\",\"2005-08-20T00:00:00\",\"2005-08-21T00:00:00\",\"2005-08-22T00:00:00\",\"2005-08-23T00:00:00\",\"2005-08-24T00:00:00\",\"2005-08-25T00:00:00\",\"2005-08-26T00:00:00\",\"2005-08-27T00:00:00\",\"2005-08-28T00:00:00\",\"2005-08-29T00:00:00\",\"2005-08-30T00:00:00\",\"2005-08-31T00:00:00\",\"2005-09-01T00:00:00\",\"2005-09-02T00:00:00\",\"2005-09-03T00:00:00\",\"2005-09-04T00:00:00\",\"2005-09-05T00:00:00\",\"2005-09-06T00:00:00\",\"2005-09-07T00:00:00\",\"2005-09-08T00:00:00\",\"2005-09-09T00:00:00\",\"2005-09-10T00:00:00\",\"2005-09-11T00:00:00\",\"2005-09-12T00:00:00\",\"2005-09-13T00:00:00\",\"2005-09-14T00:00:00\",\"2005-09-15T00:00:00\",\"2005-09-16T00:00:00\",\"2005-09-17T00:00:00\",\"2005-09-18T00:00:00\",\"2005-09-19T00:00:00\",\"2005-09-20T00:00:00\",\"2005-09-21T00:00:00\",\"2005-09-22T00:00:00\",\"2005-09-23T00:00:00\",\"2005-09-24T00:00:00\",\"2005-09-25T00:00:00\",\"2005-09-26T00:00:00\",\"2005-09-27T00:00:00\",\"2005-09-28T00:00:00\",\"2005-09-29T00:00:00\",\"2005-09-30T00:00:00\",\"2005-10-01T00:00:00\",\"2005-10-02T00:00:00\",\"2005-10-03T00:00:00\",\"2005-10-04T00:00:00\",\"2005-10-05T00:00:00\",\"2005-10-06T00:00:00\",\"2005-10-07T00:00:00\",\"2005-10-08T00:00:00\",\"2005-10-09T00:00:00\",\"2005-10-10T00:00:00\",\"2005-10-11T00:00:00\",\"2005-10-12T00:00:00\",\"2005-10-13T00:00:00\",\"2005-10-14T00:00:00\",\"2005-10-15T00:00:00\",\"2005-10-16T00:00:00\",\"2005-10-17T00:00:00\",\"2005-10-18T00:00:00\",\"2005-10-19T00:00:00\",\"2005-10-20T00:00:00\",\"2005-10-21T00:00:00\",\"2005-10-22T00:00:00\",\"2005-10-23T00:00:00\",\"2005-10-24T00:00:00\",\"2005-10-25T00:00:00\",\"2005-10-26T00:00:00\",\"2005-10-27T00:00:00\",\"2005-10-28T00:00:00\",\"2005-10-29T00:00:00\",\"2005-10-30T00:00:00\",\"2005-10-31T00:00:00\",\"2005-11-01T00:00:00\",\"2005-11-02T00:00:00\",\"2005-11-03T00:00:00\",\"2005-11-04T00:00:00\",\"2005-11-05T00:00:00\",\"2005-11-06T00:00:00\",\"2005-11-07T00:00:00\",\"2005-11-08T00:00:00\",\"2005-11-09T00:00:00\",\"2005-11-10T00:00:00\",\"2005-11-11T00:00:00\",\"2005-11-12T00:00:00\",\"2005-11-13T00:00:00\",\"2005-11-14T00:00:00\",\"2005-11-15T00:00:00\",\"2005-11-16T00:00:00\",\"2005-11-17T00:00:00\",\"2005-11-18T00:00:00\",\"2005-11-19T00:00:00\",\"2005-11-20T00:00:00\",\"2005-11-21T00:00:00\",\"2005-11-22T00:00:00\",\"2005-11-23T00:00:00\",\"2005-11-24T00:00:00\",\"2005-11-25T00:00:00\",\"2005-11-26T00:00:00\",\"2005-11-27T00:00:00\",\"2005-11-28T00:00:00\",\"2005-11-29T00:00:00\",\"2005-11-30T00:00:00\",\"2005-12-01T00:00:00\",\"2005-12-02T00:00:00\"],\"y\":[14.702028192630872,14.635644093447944,14.703831099436517,14.726660918537558,14.707059643077203,14.734304035084312,14.734874662983518,14.702062358288904,14.670293448752071,14.625859393155883,14.455966675307641,14.427241314119923,14.393538784759157,14.28631610090624,14.302651890432962,14.178103366752612,14.105490418917125,14.122958488640569,14.032758021432178,14.021600268680473,13.988442811264216,13.965560572340346,13.990228834331687,13.986807947662344,13.962593518449145,14.026704210101192,14.126405588639097,14.180782408860813,14.197577305988355,14.302666086782153,14.40350866547932,14.335261789304619,14.446220181857717,14.487178933027936,14.490309504571934,14.631655871385618,14.625206547087602,14.59918446746155,14.663319293606612,14.65118224578617,14.735882626082114,14.740037659952407,14.72036514270765,14.655930606450925,14.683773022779988,14.643017322353465,14.68512618483753,14.649434729724975,14.653156453491587,14.667894119933344,14.648888732794065,14.588895291036332,14.639778929871463,14.52049271952913,14.59191123890342,14.611465987983665,14.582689084985683,14.553260447929508,14.600667397956293,14.664551241161618,14.6804491559612,14.774938522316901,14.658463252323717,14.756971770534985,14.89212748135826,14.837301207248528,14.971649346343607,14.960062751206967,14.983817115407819,15.122642179681131,15.143654591299457,15.18533413626103,15.23278551094751,15.17315439686388,15.281159599951891,15.353004122457373,15.386719186280112,15.311049956961403,15.324252162308058,15.428008060814847,15.39120104572392,15.493774024309934,15.373531960833951,15.422493643385815,15.432351251423366,15.435697662276977,15.496457247644964,15.511655841393273,15.40993677258516,15.518048316577456,15.516769678676354,15.632693021328484,15.61236764479765,15.600247004975843,15.762749234760367,15.767842655695935,15.764488760213736,15.852247168974984,15.762681978758577,15.956478196642905,15.96151060020685,16.001542730363557,15.964295109524302,16.036571193232973,16.02217067014479,15.936533209017444,15.956617824853334,15.920618410170002,15.85942631921733,15.900083012883714,15.869329051202126,15.817497434658561,15.83955206474946,15.773968035524828,15.71739373615493,15.846116697342566,15.740818785454097,15.71064044944082,15.815009823616414,15.80206806144167,15.880596101492388,15.890007188962597,15.94798226014234,15.973882593741369,16.07380413598143,16.01894447021061,16.106803879732055,16.11361349440375,16.15977637672382,16.125834663500346,16.04831707987972,16.080078189154428,16.045413378364593,15.984275347463463,15.958452649029825,15.860179199792382,15.737205103629657,15.677864678583008,15.649090536484966,15.528204174134105,15.429841557412683,15.293725196644155,15.359386002690899,15.233033965985253,15.193450796056634,15.128996491794817,15.104486684633864,15.112274236925707,15.091472093829534,14.992699572403339,15.041026692924692,14.93739280297832,15.016011922265507,14.977273332266384,14.929076206856202,14.907055174792546,14.922881535108534,14.893829337138746,14.865659019149048,14.824472997863454,14.801816471292533,14.853098392491823,14.80230538638948,14.714014212667871,14.694169266826936,14.65438917129376,14.616356166502653,14.637106797822016,14.528218663575577,14.577284819405495,14.601446907574887,14.538093709119932,14.512105131371055,14.575488757308403,14.563248900796616,14.591462263312806,14.567376607524693,14.578258435090326,14.503424024058406,14.542426961762574,14.592712120004075,14.486348183639102,14.50589159728533,14.482785585381611,14.501415194862886,14.573537627447404,14.539123164583685,14.562197780152852,14.540162714877646,14.573412005250022,14.563700420322407,14.612319033852657,14.600126023070326,14.53341032856039,14.661479013776534,14.679493622518232,14.74084161273348,14.76355769685696,14.916784719057143,14.914077362670794,14.96273209046625,14.9608762167449,15.048476009418255,15.060299984317142,15.102732519491736,15.104247504974776,15.116432100726328,15.13855457070038,15.06443637310207,15.099477029170123,15.181459687352476,15.073707646950231,15.084980110495326,15.084782736704527,15.117293034666273,15.057935308476962,15.033087490164224,14.876294473947734,14.892130370756028,14.972068811007043,14.894810614520303,14.974521048289455,14.936113958005313,14.922980420034696,14.894790425653303,14.851620501289943,14.900393322797271,14.968648195184173,14.991710118513774,14.961251827299813,14.947378847715246,14.910478997893124,15.074526545681463,15.02616337832303,15.067240411082699,15.140522015934883,15.04906928785536,15.189157867998262,15.18330090117963,15.316350762141779,15.306763696241612,15.320635201676915,15.539271456256953,15.574274385988216,15.635358050888392,15.625677210636944,15.731895675665893,15.898452308751448,15.88557704018691,16.06818900089456,16.05301525791856,16.235877499019033,16.24548480189081,16.253689850285003,16.302415633213847,16.292142127421045,16.335730214587123,16.280748122126777,16.25901991416408,16.22792353681221,16.165801429262544,16.09803721904991,16.030305676555226,15.957120868283809,15.957572052485327,15.921658160715053,15.726657828284921,15.704770410593238,15.65491199093025,15.633666193942291,15.562271136455342,15.549106992674147,15.546834719160232,15.559960877031331,15.49751200924117,15.538702831973296,15.620755306002229,15.582316243338667,15.670989633027077,15.697978548196785,15.679293223265608,15.793984399940944,15.824838378288364,15.946412278178588,15.927112290861793,15.976144922723153,16.1005294906633,16.08439126699152,16.139029597064077,16.123062807242775,16.123816316890974,16.201322348209075,16.166527197437933,16.15710983232373,16.177818728928056,16.151017637984204,16.145341013061714,16.01238411621209,16.04348159975728,16.066858548582797,16.03725986322404,15.940512023662878,16.049922282615142,15.974892865677505,15.978844547101456,16.034466523402013,15.858925553764232,15.918021309468449,16.04673698385454,15.845682039958358,15.964922644881428,15.98442310292102,15.97599133226398,15.96850323558608,15.964725834303438,16.133761256334818,16.075375525932156,16.09226876351339,16.192385428948935,16.190613007456793,16.2370956263073,16.308185677734695,16.302889112070023,16.400124731348466,16.27594091162828,16.399857593418854,16.491843883212763,16.533332771380255,16.523923615010663,16.517120822531556,16.554765878888393,16.553592393783138,16.52574804469631,16.531068882437623,16.4451177509602,16.53789179802829,16.529998900059464,16.512717191149996,16.547041690439347,16.549265236086313,16.533700305871985,16.53888200921678,16.611771286430713,16.59156928623758,16.475997725882376,16.585062215490296,16.60301834356938,16.71693251284999,16.68428292937232,16.728547270459096,16.74023554298523,16.7930950288294,16.847102055206232,16.834809110663674,16.8563600735939,16.84027207598321,16.848974149623846,16.73839896507898,16.70645256410151,16.736826437617886,16.689734589235968,16.723957250842687,16.660789830938366,16.602686888939385,16.683437894285518,16.62671125570697,16.633548910757437,16.623687738151073,16.56498591965074,16.57809605008737,16.631938233207638,16.65668473369216,16.62693846721238,16.75729551212633,16.777694249359772,16.826193425643194,16.79835977542439,16.932715187789466,16.889250461644934,16.867714812767076,16.936569576359272,16.890082075964806,16.919116408788106,16.884891029380647,16.865231591895657,16.813851664101826,16.766779236495218,16.633962577031706,16.516427989730786,16.469262391128243,16.40923286346411,16.226274817270436,16.24628947218616,16.17234528213374,16.065178738133753,16.03750846768049,15.944209788239514,15.896757813086857,15.90052839749494,15.872853341929678,15.896421234583181,15.84449726314341,15.809138280305179,15.840789255502381,15.778181567462362,15.721952458312764,15.808152780776838,15.765884359363941,15.670340810685898,15.641480490802557,15.681398929508514,15.615148559089642,15.68120378812897,15.56714653930121,15.543309757444714,15.516427721026725,15.453202919160187,15.467466353250273,15.404648435114044,15.326126674341904,15.343630145169412,15.368304374278285,15.36988746149687,15.398922462054207,15.262386403417601,15.382454575013123,15.321411536145616,15.374784340602817,15.359236476015063,15.360309057076325,15.393034218730916,15.360411485254408,15.410522344385349,15.266480531106,15.305762302682485,15.35789391800096,15.344860736532329,15.3109521210798,15.384144253002992,15.298205809855972,15.339916642749923,15.370548865903988,15.411315315411612,15.398784175190992,15.468401966801212,15.41653970735401,15.506997138693281,15.563305273375475,15.537327443272908,15.607087540506136,15.704046159620676,15.70570403410555,15.781129513464782,15.753843281066125,15.92457071766928,15.838208419074041,15.895932503621719,15.916793126163567,15.922970305943016,15.893659619285668,15.940041672248427,15.93242575621537,15.948965067247459,15.863786448467536,15.89377504330717,15.865426290277865,15.842244653864487,15.856336415639296,15.740823105607515,15.797471457415304,15.767024412808619,15.770945292627786,15.680292949024981,15.707606034047874,15.752380710439654,15.71618296710181,15.70822883052707,15.711254148117057,15.652823122773713,15.657079611709417,15.78205319720615,15.769469864815031,15.730485716955924,15.782119839285725,15.807225503293646,15.923137612469096,15.781633154551928,15.965228212017298,15.933912112760908,16.036002232952708,16.04632125907922,16.1121576140114,16.149998034695503,16.271234707082165,16.32898330599953,16.35541777034103,16.40911445010353,16.60012760839716,16.678744287191048,16.80568768672429,16.779132363994115,16.756184808881063,16.931568754894315,16.99439962800062,17.03513328793316,17.043443101392132,17.083228124962773,17.127579622613844,17.04801626756209,17.091086875728088,17.00404174397352,16.941843796580173,16.885103394363384,16.856702825670013,16.83887898545521,16.615353764386075,16.64180335547532,16.532051482297028,16.51072928706174,16.47480848493314,16.418993058322968,16.366107150326997,16.33794491014714,16.302659432352726,16.30776981850574,16.21582121572974,16.31118404208848,16.360739175873412,16.382174294967825,16.384750011281888,16.391584880106482,16.599575578759104,16.579136661334346,16.609350182070028,16.65235553763051,16.703277898990542,16.75033311762026,16.79981868316616,16.953801092162877,16.902632300172147,16.91943698125234,17.013271220723027,16.91852324542277,17.012213791891366,16.952028871010967,16.930970036064636,16.930202513749435,16.933673993702804,16.906846631241514,16.894501313543913,16.856536506297008,16.918141572180723,16.846669610025458,16.89406469877441,16.798853031158643,16.82988043250908,16.794343687954797,16.78841885548044,16.77175596302897,16.80575270130353,16.823127014281244,16.81796239876407,16.867676456911518,16.85178375158297,16.855493365978965,16.93570937652953,16.950176108269858,17.038423436031948,17.0063715220713,17.08272108861039,17.221268060435445,17.220328063827335,17.252721770778898,17.298141389808812,17.26468068160191,17.465304785299963,17.432020286543423,17.411049878369152,17.561457812983136,17.504146952370842,17.568732453166856,17.559829304159347,17.627799915021683,17.583815044223364,17.525663573337585,17.633230366497788,17.52163392572975,17.53468051804695,17.583707656594367,17.5499097319374,17.67678657903113,17.654416393554914,17.63600716430197,17.70300959206482,17.634298303131885,17.732398189174116,17.731458773378474,17.825944411138245,17.832915440130762,17.833924992334712,17.971314596798088,17.97494814084441,18.023234145736655,17.96474817577857,18.128958803019906,18.062109574394857,18.07581698296285,18.034786717390524,18.0662369975756,18.038916836013946,18.124791873012096,18.054616503836208,17.992020391041724,17.951026103254456,17.875333845099366,17.925959647085907,17.893161265575042,17.85739157946018,17.832368645720095,17.90509691180847,17.898960594063766,17.90731542297279,17.839969784695995,17.972455913858322,18.02275829223582,18.022008009435034,18.047082660365472,18.054536411874647,18.15865161487389,18.20685360043308,18.1890461892883,18.27589237335222,18.208693146907414,18.211010169505915,18.19921059243238,18.171772041950437,18.143215714054307,18.124880334990387,17.956326823789087,17.945987319149296,17.845830983048064,17.707729650854525,17.564962252983225,17.521995459356674,17.523929420506985,17.435396417508425,17.426698729638154,17.266823008140072,17.27311660088247,17.1194893755895,17.106508159489234,17.136147176471663,17.101856140233494,17.075489571400077,17.09505984507013,17.070560907746053,17.08927198008743,17.015774835341745,17.005398997905473,17.070096322629507,16.965969072821338,16.93374374653984,16.954970522448257,16.92911424048108,16.88258389932642,16.797667679404107,16.770007106691647,16.81409220719656,16.782611985974967,16.78288040440528,16.69283979521405,16.702282865164733,16.649094280856854,16.67530694810256,16.57009371816864,16.592183846620035,16.577877206828706,16.5812326879655,16.64262017357046,16.652221849558558,16.557209864644516,16.626699462708206,16.64899608410257,16.655287183397338,16.645081901211455,16.66066003767828,16.5951922159164,16.63660215563472,16.64661444536453,16.555121266724086,16.607869345296418,16.62870270734557,16.651513406450075,16.649159290611465,16.65060267133094,16.68760159737483,16.76338374273519,16.769519686422036,16.726383808860522,16.767873770311965,16.83588402486551,16.904912032373712,16.881681238372757,17.001557565937055,16.944313276997995,17.097864119212378,17.10230861118023,17.060976566169437,17.10868337832037,17.12655814231052,17.148524675310004,17.185304064979313,17.16264487950774,17.164971141209833,17.173561791458365,17.1927006322679,17.149882363833736,17.18746806623616,17.0511439817457,17.048928818814797,17.07379389198224,17.055876239287592,17.056788278460516,17.00729494517253,16.954246022593342,16.927847914822937,16.941317261336813,16.90396646979902,16.97383059647071,16.916329168376855,16.928729818055235,16.983105508304103,16.94681466229402,16.995645181468255,17.036398008234954,16.994096377059172,17.015439850542197,17.116660823830347,17.09199045512596,17.1930040492707,17.179702271475293,17.218864239303684,17.187821667552086,17.27132014723779,17.376233531264173,17.42914345692305,17.54273366570956,17.454148134676373,17.557447116482965,17.746462379569994,17.74503612083115,17.911615510181978,17.919827127649047,17.886084629394425,18.157545263799737,18.2442442705495,18.238984946212835,18.223500592914977,19.187352762409947,19.164580875201477,18.344197750413237,18.363366777340804,18.290973443228317,18.376952106922566,18.236930963543234,19.182000309284042,19.12706373047174,18.187912136193454,18.19614444138433,18.121319633608852,18.113658630990837,17.917312554828467,18.851687641034015,18.753043005957462,17.885206372683466,17.840607829690764,17.801162508396455,17.719366583075885,17.649147799415335,18.526045720233842,18.421000486986276,17.546801673564126,17.531735581665792,17.58185864351715,17.544263240478557,17.513845840763874,18.381312322994294,18.385272320672204,17.560000091044216,17.576637527088817,17.626499599736643,17.638366528864776,17.56857129305906,18.603668106726218,18.583120453569098,17.787555050478502,17.755225882173146,17.83765018462246,17.87536716291902,17.85145087616486,18.759457820159597,18.872687693643044,17.995350069983342,18.038171095631668,18.093589653348136,18.129766555191523,18.115810572384294,18.980507336171694,19.047505217278577,18.164314759264915,18.19301338057282,18.191077228927877,18.234571470683193,18.222159989410102,19.02105905618843,19.12064623177897,18.195790994613642,18.14919321937218,18.173791822296486,18.16516162837121,18.154986091848876,19.047405972712365,18.93235395876121,18.049523944178034,18.104410016728682,18.0996767182496,18.06695944500613,17.98012999261389,18.939605820910312,18.897467479577752,18.11068135750374,18.038370196926195,18.02607437767833,17.944873042374887,17.968001571693243,18.87210091513918,18.893393572644143,18.039449647205124,18.066164841970856,18.029880791755996,18.062899803781743,18.052059890683115,18.95869851750933,18.894169036010734,18.08089266346385,18.132524990212033,18.22395767139681,18.193000585555836,18.198232067776413,19.17987050328935,19.22372836417726,18.34065715418427,18.411216449883238,18.40290031364067,18.450368690489306,18.44216089778779,19.34310376602539,19.43160022531437,18.53482356247406,18.64635385054886,18.69593432295316,18.66703298817253,18.65003344913902,19.58923883658234,19.695114363159757,18.80211058470964,18.80587812777621,18.74131096511235,18.852611607576744,18.802626555677477,19.625056815735384,19.624294064717823,18.808902415442336,18.79407951808402,18.788659548743585,18.7665345090613,18.79439834272015,19.669597366545158,19.711333168152102,18.742368902009442,18.80911933346962,18.82162221250765,18.799977545118434,18.801820271747776,19.738797304180846,19.767152744363468,18.91131259152511,18.942287775610506,18.95699645006503,18.97997321196601,19.00328186546714,19.961337348062262,19.997092551285235,19.0609739398744,19.143214888238944,19.120251549038272,19.173018198665055,19.15874401320386,20.078138015460745,20.079373584047996,19.215753068265098,19.290594407771394,19.28921321960265,19.287721928264276,19.224288261128912],\"type\":\"scatter\"},{\"name\":\"Data values\",\"x\":[\"2002-07-08T00:00:00\",\"2002-07-09T00:00:00\",\"2002-07-10T00:00:00\",\"2002-07-11T00:00:00\",\"2002-07-12T00:00:00\",\"2002-07-15T00:00:00\",\"2002-07-16T00:00:00\",\"2002-07-17T00:00:00\",\"2002-07-18T00:00:00\",\"2002-07-19T00:00:00\",\"2002-07-22T00:00:00\",\"2002-07-23T00:00:00\",\"2002-07-24T00:00:00\",\"2002-07-25T00:00:00\",\"2002-07-26T00:00:00\",\"2002-07-29T00:00:00\",\"2002-07-30T00:00:00\",\"2002-07-31T00:00:00\",\"2002-08-01T00:00:00\",\"2002-08-02T00:00:00\",\"2002-08-05T00:00:00\",\"2002-08-06T00:00:00\",\"2002-08-07T00:00:00\",\"2002-08-08T00:00:00\",\"2002-08-09T00:00:00\",\"2002-08-12T00:00:00\",\"2002-08-13T00:00:00\",\"2002-08-14T00:00:00\",\"2002-08-15T00:00:00\",\"2002-08-16T00:00:00\",\"2002-08-19T00:00:00\",\"2002-08-20T00:00:00\",\"2002-08-21T00:00:00\",\"2002-08-22T00:00:00\",\"2002-08-23T00:00:00\",\"2002-08-26T00:00:00\",\"2002-08-27T00:00:00\",\"2002-08-28T00:00:00\",\"2002-08-29T00:00:00\",\"2002-08-30T00:00:00\",\"2002-09-03T00:00:00\",\"2002-09-04T00:00:00\",\"2002-09-05T00:00:00\",\"2002-09-06T00:00:00\",\"2002-09-09T00:00:00\",\"2002-09-10T00:00:00\",\"2002-09-11T00:00:00\",\"2002-09-12T00:00:00\",\"2002-09-13T00:00:00\",\"2002-09-16T00:00:00\",\"2002-09-17T00:00:00\",\"2002-09-18T00:00:00\",\"2002-09-19T00:00:00\",\"2002-09-20T00:00:00\",\"2002-09-23T00:00:00\",\"2002-09-24T00:00:00\",\"2002-09-25T00:00:00\",\"2002-09-26T00:00:00\",\"2002-09-27T00:00:00\",\"2002-09-30T00:00:00\",\"2002-10-01T00:00:00\",\"2002-10-02T00:00:00\",\"2002-10-03T00:00:00\",\"2002-10-04T00:00:00\",\"2002-10-07T00:00:00\",\"2002-10-08T00:00:00\",\"2002-10-09T00:00:00\",\"2002-10-10T00:00:00\",\"2002-10-11T00:00:00\",\"2002-10-14T00:00:00\",\"2002-10-15T00:00:00\",\"2002-10-16T00:00:00\",\"2002-10-17T00:00:00\",\"2002-10-18T00:00:00\",\"2002-10-21T00:00:00\",\"2002-10-22T00:00:00\",\"2002-10-23T00:00:00\",\"2002-10-24T00:00:00\",\"2002-10-25T00:00:00\",\"2002-10-28T00:00:00\",\"2002-10-29T00:00:00\",\"2002-10-30T00:00:00\",\"2002-10-31T00:00:00\",\"2002-11-01T00:00:00\",\"2002-11-04T00:00:00\",\"2002-11-05T00:00:00\",\"2002-11-06T00:00:00\",\"2002-11-07T00:00:00\",\"2002-11-08T00:00:00\",\"2002-11-11T00:00:00\",\"2002-11-12T00:00:00\",\"2002-11-13T00:00:00\",\"2002-11-14T00:00:00\",\"2002-11-15T00:00:00\",\"2002-11-18T00:00:00\",\"2002-11-19T00:00:00\",\"2002-11-20T00:00:00\",\"2002-11-21T00:00:00\",\"2002-11-22T00:00:00\",\"2002-11-25T00:00:00\",\"2002-11-26T00:00:00\",\"2002-11-27T00:00:00\",\"2002-11-29T00:00:00\",\"2002-12-02T00:00:00\",\"2002-12-03T00:00:00\",\"2002-12-04T00:00:00\",\"2002-12-05T00:00:00\",\"2002-12-06T00:00:00\",\"2002-12-09T00:00:00\",\"2002-12-10T00:00:00\",\"2002-12-11T00:00:00\",\"2002-12-12T00:00:00\",\"2002-12-13T00:00:00\",\"2002-12-16T00:00:00\",\"2002-12-17T00:00:00\",\"2002-12-18T00:00:00\",\"2002-12-19T00:00:00\",\"2002-12-20T00:00:00\",\"2002-12-23T00:00:00\",\"2002-12-24T00:00:00\",\"2002-12-26T00:00:00\",\"2002-12-27T00:00:00\",\"2002-12-30T00:00:00\",\"2002-12-31T00:00:00\",\"2003-01-02T00:00:00\",\"2003-01-03T00:00:00\",\"2003-01-06T00:00:00\",\"2003-01-07T00:00:00\",\"2003-01-08T00:00:00\",\"2003-01-09T00:00:00\",\"2003-01-10T00:00:00\",\"2003-01-13T00:00:00\",\"2003-01-14T00:00:00\",\"2003-01-15T00:00:00\",\"2003-01-16T00:00:00\",\"2003-01-17T00:00:00\",\"2003-01-21T00:00:00\",\"2003-01-22T00:00:00\",\"2003-01-23T00:00:00\",\"2003-01-24T00:00:00\",\"2003-01-27T00:00:00\",\"2003-01-28T00:00:00\",\"2003-01-29T00:00:00\",\"2003-01-30T00:00:00\",\"2003-01-31T00:00:00\",\"2003-02-03T00:00:00\",\"2003-02-04T00:00:00\",\"2003-02-05T00:00:00\",\"2003-02-06T00:00:00\",\"2003-02-07T00:00:00\",\"2003-02-10T00:00:00\",\"2003-02-11T00:00:00\",\"2003-02-12T00:00:00\",\"2003-02-13T00:00:00\",\"2003-02-14T00:00:00\",\"2003-02-18T00:00:00\",\"2003-02-19T00:00:00\",\"2003-02-20T00:00:00\",\"2003-02-21T00:00:00\",\"2003-02-24T00:00:00\",\"2003-02-25T00:00:00\",\"2003-02-26T00:00:00\",\"2003-02-27T00:00:00\",\"2003-02-28T00:00:00\",\"2003-03-03T00:00:00\",\"2003-03-04T00:00:00\",\"2003-03-05T00:00:00\",\"2003-03-06T00:00:00\",\"2003-03-07T00:00:00\",\"2003-03-10T00:00:00\",\"2003-03-11T00:00:00\",\"2003-03-12T00:00:00\",\"2003-03-13T00:00:00\",\"2003-03-14T00:00:00\",\"2003-03-17T00:00:00\",\"2003-03-18T00:00:00\",\"2003-03-19T00:00:00\",\"2003-03-20T00:00:00\",\"2003-03-21T00:00:00\",\"2003-03-24T00:00:00\",\"2003-03-25T00:00:00\",\"2003-03-26T00:00:00\",\"2003-03-27T00:00:00\",\"2003-03-28T00:00:00\",\"2003-03-31T00:00:00\",\"2003-04-01T00:00:00\",\"2003-04-02T00:00:00\",\"2003-04-03T00:00:00\",\"2003-04-04T00:00:00\",\"2003-04-07T00:00:00\",\"2003-04-08T00:00:00\",\"2003-04-09T00:00:00\",\"2003-04-10T00:00:00\",\"2003-04-11T00:00:00\",\"2003-04-14T00:00:00\",\"2003-04-15T00:00:00\",\"2003-04-16T00:00:00\",\"2003-04-17T00:00:00\",\"2003-04-21T00:00:00\",\"2003-04-22T00:00:00\",\"2003-04-23T00:00:00\",\"2003-04-24T00:00:00\",\"2003-04-25T00:00:00\",\"2003-04-28T00:00:00\",\"2003-04-29T00:00:00\",\"2003-04-30T00:00:00\",\"2003-05-01T00:00:00\",\"2003-05-02T00:00:00\",\"2003-05-05T00:00:00\",\"2003-05-06T00:00:00\",\"2003-05-07T00:00:00\",\"2003-05-08T00:00:00\",\"2003-05-09T00:00:00\",\"2003-05-12T00:00:00\",\"2003-05-13T00:00:00\",\"2003-05-14T00:00:00\",\"2003-05-15T00:00:00\",\"2003-05-16T00:00:00\",\"2003-05-19T00:00:00\",\"2003-05-20T00:00:00\",\"2003-05-21T00:00:00\",\"2003-05-22T00:00:00\",\"2003-05-23T00:00:00\",\"2003-05-27T00:00:00\",\"2003-05-28T00:00:00\",\"2003-05-29T00:00:00\",\"2003-05-30T00:00:00\",\"2003-06-02T00:00:00\",\"2003-06-03T00:00:00\",\"2003-06-04T00:00:00\",\"2003-06-05T00:00:00\",\"2003-06-06T00:00:00\",\"2003-06-09T00:00:00\",\"2003-06-10T00:00:00\",\"2003-06-11T00:00:00\",\"2003-06-12T00:00:00\",\"2003-06-13T00:00:00\",\"2003-06-16T00:00:00\",\"2003-06-17T00:00:00\",\"2003-06-18T00:00:00\",\"2003-06-19T00:00:00\",\"2003-06-20T00:00:00\",\"2003-06-23T00:00:00\",\"2003-06-24T00:00:00\",\"2003-06-25T00:00:00\",\"2003-06-26T00:00:00\",\"2003-06-27T00:00:00\",\"2003-06-30T00:00:00\",\"2003-07-01T00:00:00\",\"2003-07-02T00:00:00\",\"2003-07-03T00:00:00\",\"2003-07-07T00:00:00\",\"2003-07-08T00:00:00\",\"2003-07-09T00:00:00\",\"2003-07-10T00:00:00\",\"2003-07-11T00:00:00\",\"2003-07-14T00:00:00\",\"2003-07-15T00:00:00\",\"2003-07-16T00:00:00\",\"2003-07-17T00:00:00\",\"2003-07-18T00:00:00\",\"2003-07-21T00:00:00\",\"2003-07-22T00:00:00\",\"2003-07-23T00:00:00\",\"2003-07-24T00:00:00\",\"2003-07-25T00:00:00\",\"2003-07-28T00:00:00\",\"2003-07-29T00:00:00\",\"2003-07-30T00:00:00\",\"2003-07-31T00:00:00\",\"2003-08-01T00:00:00\",\"2003-08-04T00:00:00\",\"2003-08-05T00:00:00\",\"2003-08-06T00:00:00\",\"2003-08-07T00:00:00\",\"2003-08-08T00:00:00\",\"2003-08-11T00:00:00\",\"2003-08-12T00:00:00\",\"2003-08-13T00:00:00\",\"2003-08-14T00:00:00\",\"2003-08-15T00:00:00\",\"2003-08-18T00:00:00\",\"2003-08-19T00:00:00\",\"2003-08-20T00:00:00\",\"2003-08-21T00:00:00\",\"2003-08-22T00:00:00\",\"2003-08-25T00:00:00\",\"2003-08-26T00:00:00\",\"2003-08-27T00:00:00\",\"2003-08-28T00:00:00\",\"2003-08-29T00:00:00\",\"2003-09-02T00:00:00\",\"2003-09-03T00:00:00\",\"2003-09-04T00:00:00\",\"2003-09-05T00:00:00\",\"2003-09-08T00:00:00\",\"2003-09-09T00:00:00\",\"2003-09-10T00:00:00\",\"2003-09-11T00:00:00\",\"2003-09-12T00:00:00\",\"2003-09-15T00:00:00\",\"2003-09-16T00:00:00\",\"2003-09-17T00:00:00\",\"2003-09-18T00:00:00\",\"2003-09-19T00:00:00\",\"2003-09-22T00:00:00\",\"2003-09-23T00:00:00\",\"2003-09-24T00:00:00\",\"2003-09-25T00:00:00\",\"2003-09-26T00:00:00\",\"2003-09-29T00:00:00\",\"2003-09-30T00:00:00\",\"2003-10-01T00:00:00\",\"2003-10-02T00:00:00\",\"2003-10-03T00:00:00\",\"2003-10-06T00:00:00\",\"2003-10-07T00:00:00\",\"2003-10-08T00:00:00\",\"2003-10-09T00:00:00\",\"2003-10-10T00:00:00\",\"2003-10-13T00:00:00\",\"2003-10-14T00:00:00\",\"2003-10-15T00:00:00\",\"2003-10-16T00:00:00\",\"2003-10-17T00:00:00\",\"2003-10-20T00:00:00\",\"2003-10-21T00:00:00\",\"2003-10-22T00:00:00\",\"2003-10-23T00:00:00\",\"2003-10-24T00:00:00\",\"2003-10-27T00:00:00\",\"2003-10-28T00:00:00\",\"2003-10-29T00:00:00\",\"2003-10-30T00:00:00\",\"2003-10-31T00:00:00\",\"2003-11-03T00:00:00\",\"2003-11-04T00:00:00\",\"2003-11-05T00:00:00\",\"2003-11-06T00:00:00\",\"2003-11-07T00:00:00\",\"2003-11-10T00:00:00\",\"2003-11-11T00:00:00\",\"2003-11-12T00:00:00\",\"2003-11-13T00:00:00\",\"2003-11-14T00:00:00\",\"2003-11-17T00:00:00\",\"2003-11-18T00:00:00\",\"2003-11-19T00:00:00\",\"2003-11-20T00:00:00\",\"2003-11-21T00:00:00\",\"2003-11-24T00:00:00\",\"2003-11-25T00:00:00\",\"2003-11-26T00:00:00\",\"2003-11-28T00:00:00\",\"2003-12-01T00:00:00\",\"2003-12-02T00:00:00\",\"2003-12-03T00:00:00\",\"2003-12-04T00:00:00\",\"2003-12-05T00:00:00\",\"2003-12-08T00:00:00\",\"2003-12-09T00:00:00\",\"2003-12-10T00:00:00\",\"2003-12-11T00:00:00\",\"2003-12-12T00:00:00\",\"2003-12-15T00:00:00\",\"2003-12-16T00:00:00\",\"2003-12-17T00:00:00\",\"2003-12-18T00:00:00\",\"2003-12-19T00:00:00\",\"2003-12-22T00:00:00\",\"2003-12-23T00:00:00\",\"2003-12-24T00:00:00\",\"2003-12-26T00:00:00\",\"2003-12-29T00:00:00\",\"2003-12-30T00:00:00\",\"2003-12-31T00:00:00\",\"2004-01-02T00:00:00\",\"2004-01-05T00:00:00\",\"2004-01-06T00:00:00\",\"2004-01-07T00:00:00\",\"2004-01-08T00:00:00\",\"2004-01-09T00:00:00\",\"2004-01-12T00:00:00\",\"2004-01-13T00:00:00\",\"2004-01-14T00:00:00\",\"2004-01-15T00:00:00\",\"2004-01-16T00:00:00\",\"2004-01-20T00:00:00\",\"2004-01-21T00:00:00\",\"2004-01-22T00:00:00\",\"2004-01-23T00:00:00\",\"2004-01-26T00:00:00\",\"2004-01-27T00:00:00\",\"2004-01-28T00:00:00\",\"2004-01-29T00:00:00\",\"2004-01-30T00:00:00\",\"2004-02-02T00:00:00\",\"2004-02-03T00:00:00\",\"2004-02-04T00:00:00\",\"2004-02-05T00:00:00\",\"2004-02-06T00:00:00\",\"2004-02-09T00:00:00\",\"2004-02-10T00:00:00\",\"2004-02-11T00:00:00\",\"2004-02-12T00:00:00\",\"2004-02-13T00:00:00\",\"2004-02-17T00:00:00\",\"2004-02-18T00:00:00\",\"2004-02-19T00:00:00\",\"2004-02-20T00:00:00\",\"2004-02-23T00:00:00\",\"2004-02-24T00:00:00\",\"2004-02-25T00:00:00\",\"2004-02-26T00:00:00\",\"2004-02-27T00:00:00\",\"2004-03-01T00:00:00\",\"2004-03-02T00:00:00\",\"2004-03-03T00:00:00\",\"2004-03-04T00:00:00\",\"2004-03-05T00:00:00\",\"2004-03-08T00:00:00\",\"2004-03-09T00:00:00\",\"2004-03-10T00:00:00\",\"2004-03-11T00:00:00\",\"2004-03-12T00:00:00\",\"2004-03-15T00:00:00\",\"2004-03-16T00:00:00\",\"2004-03-17T00:00:00\",\"2004-03-18T00:00:00\",\"2004-03-19T00:00:00\",\"2004-03-22T00:00:00\",\"2004-03-23T00:00:00\",\"2004-03-24T00:00:00\",\"2004-03-25T00:00:00\",\"2004-03-26T00:00:00\",\"2004-03-29T00:00:00\",\"2004-03-30T00:00:00\",\"2004-03-31T00:00:00\",\"2004-04-01T00:00:00\",\"2004-04-02T00:00:00\",\"2004-04-05T00:00:00\",\"2004-04-06T00:00:00\",\"2004-04-07T00:00:00\",\"2004-04-08T00:00:00\",\"2004-04-12T00:00:00\",\"2004-04-13T00:00:00\",\"2004-04-14T00:00:00\",\"2004-04-15T00:00:00\",\"2004-04-16T00:00:00\",\"2004-04-19T00:00:00\",\"2004-04-20T00:00:00\",\"2004-04-21T00:00:00\",\"2004-04-22T00:00:00\",\"2004-04-23T00:00:00\",\"2004-04-26T00:00:00\",\"2004-04-27T00:00:00\",\"2004-04-28T00:00:00\",\"2004-04-29T00:00:00\",\"2004-04-30T00:00:00\",\"2004-05-03T00:00:00\",\"2004-05-04T00:00:00\",\"2004-05-05T00:00:00\",\"2004-05-06T00:00:00\",\"2004-05-07T00:00:00\",\"2004-05-10T00:00:00\",\"2004-05-11T00:00:00\",\"2004-05-12T00:00:00\",\"2004-05-13T00:00:00\",\"2004-05-14T00:00:00\",\"2004-05-17T00:00:00\",\"2004-05-18T00:00:00\",\"2004-05-19T00:00:00\",\"2004-05-20T00:00:00\",\"2004-05-21T00:00:00\",\"2004-05-24T00:00:00\",\"2004-05-25T00:00:00\",\"2004-05-26T00:00:00\",\"2004-05-27T00:00:00\",\"2004-05-28T00:00:00\",\"2004-06-01T00:00:00\",\"2004-06-02T00:00:00\",\"2004-06-03T00:00:00\",\"2004-06-04T00:00:00\",\"2004-06-07T00:00:00\",\"2004-06-08T00:00:00\",\"2004-06-09T00:00:00\",\"2004-06-10T00:00:00\",\"2004-06-14T00:00:00\",\"2004-06-15T00:00:00\",\"2004-06-16T00:00:00\",\"2004-06-17T00:00:00\",\"2004-06-18T00:00:00\",\"2004-06-21T00:00:00\",\"2004-06-22T00:00:00\",\"2004-06-23T00:00:00\",\"2004-06-24T00:00:00\",\"2004-06-25T00:00:00\",\"2004-06-28T00:00:00\",\"2004-06-29T00:00:00\",\"2004-06-30T00:00:00\",\"2004-07-01T00:00:00\",\"2004-07-02T00:00:00\",\"2004-07-06T00:00:00\",\"2004-07-07T00:00:00\",\"2004-07-08T00:00:00\",\"2004-07-09T00:00:00\",\"2004-07-12T00:00:00\",\"2004-07-13T00:00:00\",\"2004-07-14T00:00:00\",\"2004-07-15T00:00:00\",\"2004-07-16T00:00:00\",\"2004-07-19T00:00:00\",\"2004-07-20T00:00:00\",\"2004-07-21T00:00:00\",\"2004-07-22T00:00:00\",\"2004-07-23T00:00:00\",\"2004-07-26T00:00:00\",\"2004-07-27T00:00:00\",\"2004-07-28T00:00:00\",\"2004-07-29T00:00:00\",\"2004-07-30T00:00:00\",\"2004-08-02T00:00:00\",\"2004-08-03T00:00:00\",\"2004-08-04T00:00:00\",\"2004-08-05T00:00:00\",\"2004-08-06T00:00:00\",\"2004-08-09T00:00:00\",\"2004-08-10T00:00:00\",\"2004-08-11T00:00:00\",\"2004-08-12T00:00:00\",\"2004-08-13T00:00:00\",\"2004-08-16T00:00:00\",\"2004-08-17T00:00:00\",\"2004-08-18T00:00:00\",\"2004-08-19T00:00:00\",\"2004-08-20T00:00:00\",\"2004-08-23T00:00:00\",\"2004-08-24T00:00:00\",\"2004-08-25T00:00:00\",\"2004-08-26T00:00:00\",\"2004-08-27T00:00:00\",\"2004-08-30T00:00:00\",\"2004-08-31T00:00:00\",\"2004-09-01T00:00:00\",\"2004-09-02T00:00:00\",\"2004-09-03T00:00:00\",\"2004-09-07T00:00:00\",\"2004-09-08T00:00:00\",\"2004-09-09T00:00:00\",\"2004-09-10T00:00:00\",\"2004-09-13T00:00:00\",\"2004-09-14T00:00:00\",\"2004-09-15T00:00:00\",\"2004-09-16T00:00:00\",\"2004-09-17T00:00:00\",\"2004-09-20T00:00:00\",\"2004-09-21T00:00:00\",\"2004-09-22T00:00:00\",\"2004-09-23T00:00:00\",\"2004-09-24T00:00:00\",\"2004-09-27T00:00:00\",\"2004-09-28T00:00:00\",\"2004-09-29T00:00:00\",\"2004-09-30T00:00:00\",\"2004-10-01T00:00:00\",\"2004-10-04T00:00:00\",\"2004-10-05T00:00:00\",\"2004-10-06T00:00:00\",\"2004-10-07T00:00:00\",\"2004-10-08T00:00:00\",\"2004-10-11T00:00:00\",\"2004-10-12T00:00:00\",\"2004-10-13T00:00:00\",\"2004-10-14T00:00:00\",\"2004-10-15T00:00:00\",\"2004-10-18T00:00:00\",\"2004-10-19T00:00:00\",\"2004-10-20T00:00:00\",\"2004-10-21T00:00:00\",\"2004-10-22T00:00:00\",\"2004-10-25T00:00:00\",\"2004-10-26T00:00:00\",\"2004-10-27T00:00:00\",\"2004-10-28T00:00:00\",\"2004-10-29T00:00:00\",\"2004-11-01T00:00:00\",\"2004-11-02T00:00:00\",\"2004-11-03T00:00:00\",\"2004-11-04T00:00:00\",\"2004-11-05T00:00:00\",\"2004-11-08T00:00:00\",\"2004-11-09T00:00:00\",\"2004-11-10T00:00:00\",\"2004-11-11T00:00:00\",\"2004-11-12T00:00:00\",\"2004-11-15T00:00:00\",\"2004-11-16T00:00:00\",\"2004-11-17T00:00:00\",\"2004-11-18T00:00:00\",\"2004-11-19T00:00:00\",\"2004-11-22T00:00:00\",\"2004-11-23T00:00:00\",\"2004-11-24T00:00:00\",\"2004-11-26T00:00:00\",\"2004-11-29T00:00:00\",\"2004-11-30T00:00:00\",\"2004-12-01T00:00:00\",\"2004-12-02T00:00:00\",\"2004-12-03T00:00:00\",\"2004-12-06T00:00:00\",\"2004-12-07T00:00:00\",\"2004-12-08T00:00:00\",\"2004-12-09T00:00:00\",\"2004-12-10T00:00:00\",\"2004-12-13T00:00:00\",\"2004-12-14T00:00:00\",\"2004-12-15T00:00:00\",\"2004-12-16T00:00:00\",\"2004-12-17T00:00:00\",\"2004-12-20T00:00:00\",\"2004-12-21T00:00:00\",\"2004-12-22T00:00:00\",\"2004-12-23T00:00:00\",\"2004-12-27T00:00:00\",\"2004-12-28T00:00:00\",\"2004-12-29T00:00:00\",\"2004-12-30T00:00:00\",\"2004-12-31T00:00:00\",\"2005-01-03T00:00:00\",\"2005-01-04T00:00:00\",\"2005-01-05T00:00:00\",\"2005-01-06T00:00:00\",\"2005-01-07T00:00:00\",\"2005-01-10T00:00:00\",\"2005-01-11T00:00:00\",\"2005-01-12T00:00:00\",\"2005-01-13T00:00:00\",\"2005-01-14T00:00:00\",\"2005-01-18T00:00:00\",\"2005-01-19T00:00:00\",\"2005-01-20T00:00:00\",\"2005-01-21T00:00:00\",\"2005-01-24T00:00:00\",\"2005-01-25T00:00:00\",\"2005-01-26T00:00:00\",\"2005-01-27T00:00:00\",\"2005-01-28T00:00:00\",\"2005-01-31T00:00:00\",\"2005-02-01T00:00:00\",\"2005-02-02T00:00:00\",\"2005-02-03T00:00:00\",\"2005-02-04T00:00:00\",\"2005-02-07T00:00:00\",\"2005-02-08T00:00:00\",\"2005-02-09T00:00:00\",\"2005-02-10T00:00:00\",\"2005-02-11T00:00:00\",\"2005-02-14T00:00:00\",\"2005-02-15T00:00:00\",\"2005-02-16T00:00:00\",\"2005-02-17T00:00:00\",\"2005-02-18T00:00:00\",\"2005-02-22T00:00:00\",\"2005-02-23T00:00:00\",\"2005-02-24T00:00:00\",\"2005-02-25T00:00:00\",\"2005-02-28T00:00:00\",\"2005-03-01T00:00:00\",\"2005-03-02T00:00:00\",\"2005-03-03T00:00:00\",\"2005-03-04T00:00:00\",\"2005-03-07T00:00:00\",\"2005-03-08T00:00:00\",\"2005-03-09T00:00:00\",\"2005-03-10T00:00:00\",\"2005-03-11T00:00:00\",\"2005-03-14T00:00:00\",\"2005-03-15T00:00:00\",\"2005-03-16T00:00:00\",\"2005-03-17T00:00:00\",\"2005-03-18T00:00:00\",\"2005-03-21T00:00:00\",\"2005-03-22T00:00:00\",\"2005-03-23T00:00:00\",\"2005-03-24T00:00:00\",\"2005-03-28T00:00:00\",\"2005-03-29T00:00:00\",\"2005-03-30T00:00:00\",\"2005-03-31T00:00:00\",\"2005-04-01T00:00:00\",\"2005-04-04T00:00:00\",\"2005-04-05T00:00:00\",\"2005-04-06T00:00:00\",\"2005-04-07T00:00:00\",\"2005-04-08T00:00:00\",\"2005-04-11T00:00:00\",\"2005-04-12T00:00:00\",\"2005-04-13T00:00:00\",\"2005-04-14T00:00:00\",\"2005-04-15T00:00:00\",\"2005-04-18T00:00:00\",\"2005-04-19T00:00:00\",\"2005-04-20T00:00:00\",\"2005-04-21T00:00:00\",\"2005-04-22T00:00:00\",\"2005-04-25T00:00:00\",\"2005-04-26T00:00:00\",\"2005-04-27T00:00:00\",\"2005-04-28T00:00:00\",\"2005-04-29T00:00:00\",\"2005-05-02T00:00:00\",\"2005-05-03T00:00:00\",\"2005-05-04T00:00:00\",\"2005-05-05T00:00:00\",\"2005-05-06T00:00:00\",\"2005-05-09T00:00:00\",\"2005-05-10T00:00:00\",\"2005-05-11T00:00:00\",\"2005-05-12T00:00:00\",\"2005-05-13T00:00:00\",\"2005-05-16T00:00:00\",\"2005-05-17T00:00:00\",\"2005-05-18T00:00:00\",\"2005-05-19T00:00:00\",\"2005-05-20T00:00:00\",\"2005-05-23T00:00:00\",\"2005-05-24T00:00:00\",\"2005-05-25T00:00:00\",\"2005-05-26T00:00:00\",\"2005-05-27T00:00:00\",\"2005-05-31T00:00:00\",\"2005-06-01T00:00:00\",\"2005-06-02T00:00:00\",\"2005-06-03T00:00:00\",\"2005-06-06T00:00:00\",\"2005-06-07T00:00:00\",\"2005-06-08T00:00:00\",\"2005-06-09T00:00:00\",\"2005-06-10T00:00:00\",\"2005-06-13T00:00:00\",\"2005-06-14T00:00:00\",\"2005-06-15T00:00:00\",\"2005-06-16T00:00:00\",\"2005-06-17T00:00:00\",\"2005-06-20T00:00:00\",\"2005-06-21T00:00:00\",\"2005-06-22T00:00:00\",\"2005-06-23T00:00:00\",\"2005-06-24T00:00:00\",\"2005-06-27T00:00:00\",\"2005-06-28T00:00:00\",\"2005-06-29T00:00:00\",\"2005-06-30T00:00:00\",\"2005-07-01T00:00:00\",\"2005-07-05T00:00:00\"],\"y\":[16.54969596862793,16.640390396118164,16.33704376220703,16.54657745361328,16.218204498291016,16.199440002441406,16.02743148803711,16.261978149414062,15.98365592956543,15.498924255371094,14.857821464538574,13.450531959533691,14.457531929016113,13.394245147705078,14.182326316833496,15.08924388885498,15.042330741882324,15.004815101623535,14.307415008544922,13.88836669921875,13.7570161819458,14.282402992248535,14.726475715637207,15.295646667480469,15.048588752746582,15.158050537109375,14.717106819152832,15.545832633972168,15.564599990844727,15.63652229309082,16.261978149414062,15.961764335632324,16.34954833984375,16.646648406982422,16.330785751342773,16.293254852294922,15.899215698242188,15.442632675170898,15.81790828704834,15.348810195922852,14.704590797424316,15.076737403869629,14.35745906829834,14.9547758102417,15.22996997833252,15.570853233337402,15.192441940307617,14.745244979858398,14.98291015625,14.942262649536133,14.789023399353027,14.932886123657227,14.760880470275879,14.842188835144043,14.144804954528809,14.273015975952148,14.545095443725586,14.448145866394043,14.151054382324219,13.67883586883545,14.457531929016113,14.263632774353027,14.010320663452148,13.688217163085938,13.775775909423828,14.069740295410156,13.7570161819458,14.504433631896973,15.283138275146484,15.4144868850708,16.352678298950195,15.764741897583008,15.877325057983398,16.621631622314453,16.421478271484375,16.158784866333008,16.63726234436035,16.021181106567383,16.47463607788086,16.24634552001953,16.283872604370117,16.609115600585938,16.721696853637695,16.5747127532959,17.544174194335938,17.72556495666504,17.83501625061035,17.516029357910156,17.2314395904541,16.843660354614258,17.04693603515625,17.31276512145996,17.8225040435791,17.72869110107422,17.46599578857422,17.15639877319336,17.70680046081543,18.08833122253418,18.207164764404297,18.21029281616211,17.79436492919922,18.163387298583984,18.038299560546875,18.041419982910156,17.734947204589844,17.681777954101562,17.306501388549805,17.347156524658203,16.740459442138672,16.890567779541016,17.09384536743164,16.940610885620117,16.418346405029297,17.037555694580078,17.000032424926758,16.740459442138672,16.609115600585938,16.587221145629883,16.8874454498291,16.831153869628906,16.69668197631836,16.565340042114258,16.49652862548828,16.168169021606445,16.799880981445312,16.821767807006836,17.128246307373047,17.450363159179688,16.962501525878906,17.453493118286133,17.487886428833008,17.634872436523438,17.816255569458008,17.597347259521484,17.309629440307617,16.093103408813477,16.052459716796875,15.94925594329834,16.34954833984375,15.589612007141113,15.376957893371582,15.267502784729004,15.608379364013672,15.0861177444458,14.842188835144043,15.186196327209473,14.798406600952148,14.685823440551758,14.829678535461426,14.566991806030273,14.817166328430176,14.523208618164062,14.523208618164062,14.695201873779297,15.10488224029541,15.6115083694458,15.391884803771973,15.147173881530762,15.454646110534668,15.103254318237305,15.178552627563477,14.814615249633789,14.795794486999512,14.871086120605469,14.770694732666016,14.475781440734863,14.7079439163208,14.601272583007812,14.783241271972656,14.400490760803223,14.306358337402344,14.6765718460083,15.47973918914795,15.598958015441895,16.27034568786621,16.33937644958496,16.51506233215332,16.471141815185547,16.671939849853516,15.868769645690918,15.994258880615234,15.843669891357422,15.711901664733887,15.47973918914795,15.191095352172852,15.278940200805664,16.13857650756836,16.144855499267578,15.743277549743652,15.793476104736328,16.05073356628418,15.416987419128418,15.42953872680664,15.184821128845215,15.53620719909668,15.43581485748291,15.636606216430664,16.000532150268555,15.81856918334961,16.163686752319336,16.13857650756836,15.994258880615234,15.824847221374512,16.151134490966797,16.18877410888672,16.04446029663086,16.13857650756836,16.37702178955078,16.226430892944336,16.54644012451172,16.307994842529297,16.151134490966797,16.5401611328125,16.439773559570312,16.307994842529297,16.07583236694336,16.182512283325195,16.04446029663086,15.53620719909668,15.454646110534668,15.078153610229492,15.159724235534668,15.197369575500488,15.555032730102539,15.316596031188965,15.310317039489746,15.442089080810547,15.460908889770508,15.6115083694458,15.605229377746582,15.11580753326416,14.85225772857666,14.90246295928955,15.48600959777832,15.6115083694458,15.680526733398438,15.467183113098145,15.93152141571045,16.28917694091797,16.358200073242188,16.358200073242188,16.521337509155273,16.17622947692871,16.126035690307617,15.849944114685059,16.157400131225586,16.08211326599121,16.0883846282959,16.408395767211914,16.866453170776367,16.628015518188477,17.205286026000977,17.3809757232666,17.236661911010742,16.885272979736328,17.136262893676758,17.192729949951172,17.111164093017578,17.268033981323242,16.747222900390625,16.87272071838379,16.33937644958496,16.552709579467773,16.59663200378418,16.31427001953125,16.87272071838379,16.69704246520996,16.609182357788086,16.458589553833008,16.5715389251709,16.420949935913086,16.427217483520508,16.100929260253906,16.094663619995117,16.132305145263672,16.05073356628418,16.069555282592773,16.144855499267578,16.063289642333984,16.08211326599121,16.0256404876709,16.126035690307617,16.70330047607422,16.59663200378418,16.464866638183594,16.452314376831055,16.628015518188477,16.671939849853516,16.577810287475586,16.634286880493164,16.64055824279785,17.104881286621094,17.757461547851562,17.83902931213379,17.807653427124023,18.096294403076172,17.801376342773438,17.28685760498047,17.46881866455078,17.78255271911621,17.795103073120117,18.13393783569336,17.88295555114746,18.510427474975586,18.79906463623047,18.240617752075195,18.57317352294922,17.857851028442383,17.719812393188477,17.68843650817871,18.090017318725586,17.443714141845703,17.895505905151367,17.88295555114746,18.246889114379883,18.315914154052734,18.284534454345703,18.083751678466797,18.159042358398438,18.140213012695312,18.05864906311035,17.99590301513672,18.342945098876953,18.443899154663086,18.254608154296875,18.519628524780273,18.519628524780273,18.2293643951416,18.241989135742188,16.79071044921875,16.979999542236328,17.162988662719727,16.872732162475586,16.48151969909668,16.49413299560547,16.83487892150879,16.44997787475586,16.468896865844727,16.55093002319336,16.468896865844727,16.405794143676758,16.27959632873535,16.393177032470703,16.210195541381836,16.090299606323242,15.869452476501465,15.869452476501465,15.9956636428833,15.837907791137695,15.84421443939209,16.235435485839844,16.027198791503906,16.058753967285156,16.22280502319336,16.304832458496094,16.19125747680664,16.197568893432617,16.532001495361328,16.393177032470703,16.55723762512207,16.64557456970215,16.778085708618164,16.79071044921875,16.815942764282227,16.872732162475586,17.07465171813965,17.062028884887695,17.289186477661133,17.263944625854492,17.150371551513672,17.131441116333008,17.062028884887695,17.16929817199707,17.32704734802246,17.364904403686523,17.270259857177734,17.32073974609375,17.75611686706543,17.819223403930664,17.800294876098633,17.768735885620117,17.45323944091797,17.39645767211914,17.308120727539062,17.478483200073242,17.377527236938477,17.547895431518555,17.73088836669922,17.857078552246094,17.674097061157227,17.970659255981445,18.17257308959961,17.825529098510742,17.484790802001953,17.610992431640625,17.446931838989258,17.289186477661133,17.219783782958984,17.043094635009766,17.011554718017578,17.087268829345703,16.973695755004883,17.049407958984375,17.131441116333008,17.005245208740234,16.778085708618164,17.030481338500977,16.891666412353516,16.696054458618164,16.76546859741211,16.79071044921875,16.961074829101562,16.84749412536621,16.721302032470703,16.740230560302734,16.84749412536621,16.651885986328125,16.639266967773438,16.639266967773438,16.626649856567383,16.298532485961914,16.22911834716797,16.008268356323242,15.831597328186035,16.014583587646484,15.87576961517334,15.888384819030762,15.856839179992676,15.705397605895996,15.541346549987793,15.459308624267578,15.238465309143066,15.402523040771484,15.89468765258789,15.793734550476074,15.970409393310547,15.9010009765625,15.730632781982422,15.82528018951416,16.311153411865234,16.374242782592773,16.27959632873535,16.147090911865234,16.07768440246582,16.159709930419922,16.058753967285156,16.09661102294922,15.913620948791504,15.87576961517334,16.10923194885254,15.9830322265625,16.058753967285156,16.374242782592773,17.377527236938477,17.188228607177734,17.175607681274414,16.759151458740234,16.70867347717285,16.48782730102539,16.626649856567383,16.614025115966797,16.595090866088867,16.48151969909668,16.266977310180664,16.361629486083984,16.367938995361328,16.367938995361328,16.468896865844727,16.317462921142578,16.115543365478516,16.298532485961914,16.166017532348633,16.235435485839844,16.33638572692871,16.254364013671875,16.468896865844727,16.49413299560547,16.525691986083984,16.55093002319336,16.47520637512207,16.48782730102539,16.33638572692871,16.374242782592773,16.6771183013916,16.784393310546875,16.70235824584961,16.891666412353516,16.973695755004883,17.295503616333008,17.23870277404785,17.522659301757812,17.888629913330078,17.888629913330078,17.850772857666016,17.857078552246094,17.913875579833984,18.027448654174805,17.84446144104004,17.983280181884766,18.021137237548828,18.065305709838867,18.027448654174805,17.680410385131836,17.73088836669922,17.440631866455078,17.57944679260254,17.598365783691406,17.415390014648438,17.749801635742188,17.58575439453125,17.33966827392578,17.636228561401367,17.869701385498047,18.2104434967041,18.298776626586914,17.686717987060547,18.084239959716797,17.945423126220703,18.03375816345215,17.970659255981445,17.976972579956055,17.99590301513672,17.711957931518555,17.70564079284668,17.371217727661133,17.125131607055664,17.150371551513672,17.49110984802246,17.295503616333008,16.961074829101562,17.049407958984375,17.093582153320312,17.068340301513672,17.32704734802246,17.11250877380371,17.162988662719727,17.238937377929688,17.238937377929688,17.435115814208984,17.365497589111328,17.37816047668457,17.276899337768555,17.276899337768555,17.333858489990234,17.47941017150879,17.156665802001953,17.31487274169922,17.251588821411133,17.264244079589844,17.39714813232422,17.245262145996094,17.365497589111328,17.207286834716797,17.251588821411133,17.409801483154297,17.409801483154297,17.251588821411133,17.162986755371094,17.308544158935547,17.27057647705078,17.207286834716797,17.257915496826172,17.454097747802734,17.498401641845703,17.87811279296875,17.795846939086914,17.96038246154785,18.05531883239746,17.827482223510742,17.713571548461914,17.75786590576172,17.738887786865234,17.738887786865234,17.593326568603516,17.713571548461914,17.979373931884766,17.833812713623047,18.162899017333984,18.074295043945312,17.555362701416016,17.485742568969727,17.6566162109375,17.81482696533203,17.72623062133789,17.700910568237305,17.770524978637695,17.871784210205078,18.017335891723633,18.352754592895508,18.54894256591797,18.52996063232422,18.84006118774414,18.814735412597656,18.972949981689453,18.96662139892578,19.319290161132812,19.128847122192383,19.16411590576172,19.09358024597168,18.945466995239258,18.79734230041504,18.712703704833984,18.790283203125,18.762067794799805,18.88197898864746,18.91019058227539,19.220550537109375,19.107690811157227,19.206430435180664,19.276968002319336,19.09358024597168,19.29813575744629,19.206430435180664,19.10063362121582,19.220550537109375,19.206430435180664,19.12180519104004,19.157068252563477,19.015995025634766,19.008939743041992,19.09358024597168,19.023046493530273,19.051250457763672,18.938405990600586,19.008939743041992,18.973674774169922,18.87492561340332,18.846717834472656,18.86082649230957,18.93135643005371,18.8890323638916,18.867876052856445,18.811447143554688,18.903141021728516,18.853771209716797,18.8890323638916,18.529308319091797,18.423511505126953,18.564573287963867,18.324758529663086,18.24012565612793,18.091999053955078,18.106103897094727,18.35297203063965,18.34592056274414,18.416458129882812,18.46582794189453,18.53636932373047,18.61394691467285,18.6633243560791,18.46582794189453,18.564573287963867,18.451725006103516,18.508142471313477,18.388248443603516,18.38119125366211,18.317710876464844,18.34592056274414,18.345918655395508,18.246871948242188,18.1478214263916,18.02753448486328,17.850664138793945,17.829437255859375,17.949710845947266,17.86481285095215,17.80113983154297,17.88603973388672,17.87188720703125,17.808212280273438,17.808212280273438,18.020475387573242,17.970935821533203,17.907257080078125,17.99216079711914,17.751611709594727,17.765758514404297,17.624256134033203,17.4261474609375,17.362478256225586,17.199750900268555,17.121912002563477,16.973337173461914,17.107769012451172,17.17851448059082,17.121912002563477,16.92381477355957,17.09362030029297,17.10068702697754,17.065322875976562,17.143146514892578,17.312952041625977,17.45444679260254,17.758684158325195,17.645469665527344,17.666706085205078,17.914335250854492,17.71623420715332,17.574726104736328,17.305870056152344,17.440298080444336,17.4261474609375,17.206817626953125,17.88603973388672,17.673782348632812,17.680856704711914,17.518123626708984,17.680856704711914,17.298797607421875,17.900192260742188,17.850664138793945,17.94263458251953,17.836511611938477,17.850664138793945,17.84358787536621,17.765758514404297,17.617176055908203,17.624256134033203,17.68792152404785,17.900192260742188,18.091814041137695,18.07052230834961,18.240877151489258,18.39701271057129,18.269269943237305,18.347332000732422,18.276351928710938,18.247968673706055,18.38282012939453,18.503480911254883,18.311851501464844,18.318937301635742,18.30475425720215,18.04923439025879,18.006650924682617,18.106016159057617,18.02794075012207,18.106016159057617,18.04923439025879,17.964059829711914,17.999549865722656,17.928577423095703,17.772432327270508,17.772432327270508,17.822111129760742,17.85049819946289,17.793720245361328,17.964059829711914,17.772432327270508,17.779521942138672,17.793720245361328,17.807920455932617,17.630474090576172,17.538204193115234,17.72984504699707],\"type\":\"scatter\"}],                        {\"template\":{\"data\":{\"bar\":[{\"error_x\":{\"color\":\"#2a3f5f\"},\"error_y\":{\"color\":\"#2a3f5f\"},\"marker\":{\"line\":{\"color\":\"#E5ECF6\",\"width\":0.5},\"pattern\":{\"fillmode\":\"overlay\",\"size\":10,\"solidity\":0.2}},\"type\":\"bar\"}],\"barpolar\":[{\"marker\":{\"line\":{\"color\":\"#E5ECF6\",\"width\":0.5},\"pattern\":{\"fillmode\":\"overlay\",\"size\":10,\"solidity\":0.2}},\"type\":\"barpolar\"}],\"carpet\":[{\"aaxis\":{\"endlinecolor\":\"#2a3f5f\",\"gridcolor\":\"white\",\"linecolor\":\"white\",\"minorgridcolor\":\"white\",\"startlinecolor\":\"#2a3f5f\"},\"baxis\":{\"endlinecolor\":\"#2a3f5f\",\"gridcolor\":\"white\",\"linecolor\":\"white\",\"minorgridcolor\":\"white\",\"startlinecolor\":\"#2a3f5f\"},\"type\":\"carpet\"}],\"choropleth\":[{\"colorbar\":{\"outlinewidth\":0,\"ticks\":\"\"},\"type\":\"choropleth\"}],\"contour\":[{\"colorbar\":{\"outlinewidth\":0,\"ticks\":\"\"},\"colorscale\":[[0.0,\"#0d0887\"],[0.1111111111111111,\"#46039f\"],[0.2222222222222222,\"#7201a8\"],[0.3333333333333333,\"#9c179e\"],[0.4444444444444444,\"#bd3786\"],[0.5555555555555556,\"#d8576b\"],[0.6666666666666666,\"#ed7953\"],[0.7777777777777778,\"#fb9f3a\"],[0.8888888888888888,\"#fdca26\"],[1.0,\"#f0f921\"]],\"type\":\"contour\"}],\"contourcarpet\":[{\"colorbar\":{\"outlinewidth\":0,\"ticks\":\"\"},\"type\":\"contourcarpet\"}],\"heatmap\":[{\"colorbar\":{\"outlinewidth\":0,\"ticks\":\"\"},\"colorscale\":[[0.0,\"#0d0887\"],[0.1111111111111111,\"#46039f\"],[0.2222222222222222,\"#7201a8\"],[0.3333333333333333,\"#9c179e\"],[0.4444444444444444,\"#bd3786\"],[0.5555555555555556,\"#d8576b\"],[0.6666666666666666,\"#ed7953\"],[0.7777777777777778,\"#fb9f3a\"],[0.8888888888888888,\"#fdca26\"],[1.0,\"#f0f921\"]],\"type\":\"heatmap\"}],\"heatmapgl\":[{\"colorbar\":{\"outlinewidth\":0,\"ticks\":\"\"},\"colorscale\":[[0.0,\"#0d0887\"],[0.1111111111111111,\"#46039f\"],[0.2222222222222222,\"#7201a8\"],[0.3333333333333333,\"#9c179e\"],[0.4444444444444444,\"#bd3786\"],[0.5555555555555556,\"#d8576b\"],[0.6666666666666666,\"#ed7953\"],[0.7777777777777778,\"#fb9f3a\"],[0.8888888888888888,\"#fdca26\"],[1.0,\"#f0f921\"]],\"type\":\"heatmapgl\"}],\"histogram\":[{\"marker\":{\"pattern\":{\"fillmode\":\"overlay\",\"size\":10,\"solidity\":0.2}},\"type\":\"histogram\"}],\"histogram2d\":[{\"colorbar\":{\"outlinewidth\":0,\"ticks\":\"\"},\"colorscale\":[[0.0,\"#0d0887\"],[0.1111111111111111,\"#46039f\"],[0.2222222222222222,\"#7201a8\"],[0.3333333333333333,\"#9c179e\"],[0.4444444444444444,\"#bd3786\"],[0.5555555555555556,\"#d8576b\"],[0.6666666666666666,\"#ed7953\"],[0.7777777777777778,\"#fb9f3a\"],[0.8888888888888888,\"#fdca26\"],[1.0,\"#f0f921\"]],\"type\":\"histogram2d\"}],\"histogram2dcontour\":[{\"colorbar\":{\"outlinewidth\":0,\"ticks\":\"\"},\"colorscale\":[[0.0,\"#0d0887\"],[0.1111111111111111,\"#46039f\"],[0.2222222222222222,\"#7201a8\"],[0.3333333333333333,\"#9c179e\"],[0.4444444444444444,\"#bd3786\"],[0.5555555555555556,\"#d8576b\"],[0.6666666666666666,\"#ed7953\"],[0.7777777777777778,\"#fb9f3a\"],[0.8888888888888888,\"#fdca26\"],[1.0,\"#f0f921\"]],\"type\":\"histogram2dcontour\"}],\"mesh3d\":[{\"colorbar\":{\"outlinewidth\":0,\"ticks\":\"\"},\"type\":\"mesh3d\"}],\"parcoords\":[{\"line\":{\"colorbar\":{\"outlinewidth\":0,\"ticks\":\"\"}},\"type\":\"parcoords\"}],\"pie\":[{\"automargin\":true,\"type\":\"pie\"}],\"scatter\":[{\"marker\":{\"colorbar\":{\"outlinewidth\":0,\"ticks\":\"\"}},\"type\":\"scatter\"}],\"scatter3d\":[{\"line\":{\"colorbar\":{\"outlinewidth\":0,\"ticks\":\"\"}},\"marker\":{\"colorbar\":{\"outlinewidth\":0,\"ticks\":\"\"}},\"type\":\"scatter3d\"}],\"scattercarpet\":[{\"marker\":{\"colorbar\":{\"outlinewidth\":0,\"ticks\":\"\"}},\"type\":\"scattercarpet\"}],\"scattergeo\":[{\"marker\":{\"colorbar\":{\"outlinewidth\":0,\"ticks\":\"\"}},\"type\":\"scattergeo\"}],\"scattergl\":[{\"marker\":{\"colorbar\":{\"outlinewidth\":0,\"ticks\":\"\"}},\"type\":\"scattergl\"}],\"scattermapbox\":[{\"marker\":{\"colorbar\":{\"outlinewidth\":0,\"ticks\":\"\"}},\"type\":\"scattermapbox\"}],\"scatterpolar\":[{\"marker\":{\"colorbar\":{\"outlinewidth\":0,\"ticks\":\"\"}},\"type\":\"scatterpolar\"}],\"scatterpolargl\":[{\"marker\":{\"colorbar\":{\"outlinewidth\":0,\"ticks\":\"\"}},\"type\":\"scatterpolargl\"}],\"scatterternary\":[{\"marker\":{\"colorbar\":{\"outlinewidth\":0,\"ticks\":\"\"}},\"type\":\"scatterternary\"}],\"surface\":[{\"colorbar\":{\"outlinewidth\":0,\"ticks\":\"\"},\"colorscale\":[[0.0,\"#0d0887\"],[0.1111111111111111,\"#46039f\"],[0.2222222222222222,\"#7201a8\"],[0.3333333333333333,\"#9c179e\"],[0.4444444444444444,\"#bd3786\"],[0.5555555555555556,\"#d8576b\"],[0.6666666666666666,\"#ed7953\"],[0.7777777777777778,\"#fb9f3a\"],[0.8888888888888888,\"#fdca26\"],[1.0,\"#f0f921\"]],\"type\":\"surface\"}],\"table\":[{\"cells\":{\"fill\":{\"color\":\"#EBF0F8\"},\"line\":{\"color\":\"white\"}},\"header\":{\"fill\":{\"color\":\"#C8D4E3\"},\"line\":{\"color\":\"white\"}},\"type\":\"table\"}]},\"layout\":{\"annotationdefaults\":{\"arrowcolor\":\"#2a3f5f\",\"arrowhead\":0,\"arrowwidth\":1},\"autotypenumbers\":\"strict\",\"coloraxis\":{\"colorbar\":{\"outlinewidth\":0,\"ticks\":\"\"}},\"colorscale\":{\"diverging\":[[0,\"#8e0152\"],[0.1,\"#c51b7d\"],[0.2,\"#de77ae\"],[0.3,\"#f1b6da\"],[0.4,\"#fde0ef\"],[0.5,\"#f7f7f7\"],[0.6,\"#e6f5d0\"],[0.7,\"#b8e186\"],[0.8,\"#7fbc41\"],[0.9,\"#4d9221\"],[1,\"#276419\"]],\"sequential\":[[0.0,\"#0d0887\"],[0.1111111111111111,\"#46039f\"],[0.2222222222222222,\"#7201a8\"],[0.3333333333333333,\"#9c179e\"],[0.4444444444444444,\"#bd3786\"],[0.5555555555555556,\"#d8576b\"],[0.6666666666666666,\"#ed7953\"],[0.7777777777777778,\"#fb9f3a\"],[0.8888888888888888,\"#fdca26\"],[1.0,\"#f0f921\"]],\"sequentialminus\":[[0.0,\"#0d0887\"],[0.1111111111111111,\"#46039f\"],[0.2222222222222222,\"#7201a8\"],[0.3333333333333333,\"#9c179e\"],[0.4444444444444444,\"#bd3786\"],[0.5555555555555556,\"#d8576b\"],[0.6666666666666666,\"#ed7953\"],[0.7777777777777778,\"#fb9f3a\"],[0.8888888888888888,\"#fdca26\"],[1.0,\"#f0f921\"]]},\"colorway\":[\"#636efa\",\"#EF553B\",\"#00cc96\",\"#ab63fa\",\"#FFA15A\",\"#19d3f3\",\"#FF6692\",\"#B6E880\",\"#FF97FF\",\"#FECB52\"],\"font\":{\"color\":\"#2a3f5f\"},\"geo\":{\"bgcolor\":\"white\",\"lakecolor\":\"white\",\"landcolor\":\"#E5ECF6\",\"showlakes\":true,\"showland\":true,\"subunitcolor\":\"white\"},\"hoverlabel\":{\"align\":\"left\"},\"hovermode\":\"closest\",\"mapbox\":{\"style\":\"light\"},\"paper_bgcolor\":\"white\",\"plot_bgcolor\":\"#E5ECF6\",\"polar\":{\"angularaxis\":{\"gridcolor\":\"white\",\"linecolor\":\"white\",\"ticks\":\"\"},\"bgcolor\":\"#E5ECF6\",\"radialaxis\":{\"gridcolor\":\"white\",\"linecolor\":\"white\",\"ticks\":\"\"}},\"scene\":{\"xaxis\":{\"backgroundcolor\":\"#E5ECF6\",\"gridcolor\":\"white\",\"gridwidth\":2,\"linecolor\":\"white\",\"showbackground\":true,\"ticks\":\"\",\"zerolinecolor\":\"white\"},\"yaxis\":{\"backgroundcolor\":\"#E5ECF6\",\"gridcolor\":\"white\",\"gridwidth\":2,\"linecolor\":\"white\",\"showbackground\":true,\"ticks\":\"\",\"zerolinecolor\":\"white\"},\"zaxis\":{\"backgroundcolor\":\"#E5ECF6\",\"gridcolor\":\"white\",\"gridwidth\":2,\"linecolor\":\"white\",\"showbackground\":true,\"ticks\":\"\",\"zerolinecolor\":\"white\"}},\"shapedefaults\":{\"line\":{\"color\":\"#2a3f5f\"}},\"ternary\":{\"aaxis\":{\"gridcolor\":\"white\",\"linecolor\":\"white\",\"ticks\":\"\"},\"baxis\":{\"gridcolor\":\"white\",\"linecolor\":\"white\",\"ticks\":\"\"},\"bgcolor\":\"#E5ECF6\",\"caxis\":{\"gridcolor\":\"white\",\"linecolor\":\"white\",\"ticks\":\"\"}},\"title\":{\"x\":0.05},\"xaxis\":{\"automargin\":true,\"gridcolor\":\"white\",\"linecolor\":\"white\",\"ticks\":\"\",\"title\":{\"standoff\":15},\"zerolinecolor\":\"white\",\"zerolinewidth\":2},\"yaxis\":{\"automargin\":true,\"gridcolor\":\"white\",\"linecolor\":\"white\",\"ticks\":\"\",\"title\":{\"standoff\":15},\"zerolinecolor\":\"white\",\"zerolinewidth\":2}}}},                        {\"responsive\": true}                    ).then(function(){\n",
              "                            \n",
              "var gd = document.getElementById('a10a033a-1ba3-40b3-8925-8eff75b04170');\n",
              "var x = new MutationObserver(function (mutations, observer) {{\n",
              "        var display = window.getComputedStyle(gd).display;\n",
              "        if (!display || display === 'none') {{\n",
              "            console.log([gd, 'removed!']);\n",
              "            Plotly.purge(gd);\n",
              "            observer.disconnect();\n",
              "        }}\n",
              "}});\n",
              "\n",
              "// Listen for the removal of the full notebook cells\n",
              "var notebookContainer = gd.closest('#notebook-container');\n",
              "if (notebookContainer) {{\n",
              "    x.observe(notebookContainer, {childList: true});\n",
              "}}\n",
              "\n",
              "// Listen for the clearing of the current output cell\n",
              "var outputEl = gd.closest('.output');\n",
              "if (outputEl) {{\n",
              "    x.observe(outputEl, {childList: true});\n",
              "}}\n",
              "\n",
              "                        })                };                            </script>        </div>\n",
              "</body>\n",
              "</html>"
            ]
          },
          "metadata": {}
        }
      ]
    },
    {
      "cell_type": "markdown",
      "source": [
        "### Plot the Actual v/s Predicted Without Optimization\n"
      ],
      "metadata": {
        "id": "jSuUNkHSVDXH"
      }
    },
    {
      "cell_type": "code",
      "source": [
        "\n",
        "fig = go.Figure([go.Scatter(x=df['ds'], y=df['y'],mode='lines',\n",
        "                    name='Actual')])\n",
        "#You can add traces using an Express plot by using add_trace\n",
        "fig.add_trace(go.Scatter(x=prediction['ds'], y=prediction['yhat'],\n",
        "                   mode='lines+markers',\n",
        "                    name='predicted'))\n",
        "#To display a figure using the renderers framework, you call the .show() method on a graph object figure, or pass the figure to the plotly.io.show function. \n",
        "#With either approach, plotly.py will display the figure using the current default renderer(s).\n",
        "fig.show()"
      ],
      "metadata": {
        "colab": {
          "base_uri": "https://localhost:8080/",
          "height": 542
        },
        "id": "dbXvnqqnVDXH",
        "outputId": "14494098-8752-471c-c5e0-6adbeb291a36"
      },
      "execution_count": null,
      "outputs": [
        {
          "output_type": "display_data",
          "data": {
            "text/html": [
              "<html>\n",
              "<head><meta charset=\"utf-8\" /></head>\n",
              "<body>\n",
              "    <div>            <script src=\"https://cdnjs.cloudflare.com/ajax/libs/mathjax/2.7.5/MathJax.js?config=TeX-AMS-MML_SVG\"></script><script type=\"text/javascript\">if (window.MathJax) {MathJax.Hub.Config({SVG: {font: \"STIX-Web\"}});}</script>                <script type=\"text/javascript\">window.PlotlyConfig = {MathJaxConfig: 'local'};</script>\n",
              "        <script src=\"https://cdn.plot.ly/plotly-2.8.3.min.js\"></script>                <div id=\"ad8aa345-5976-4e8d-9bbd-964894c2df95\" class=\"plotly-graph-div\" style=\"height:525px; width:100%;\"></div>            <script type=\"text/javascript\">                                    window.PLOTLYENV=window.PLOTLYENV || {};                                    if (document.getElementById(\"ad8aa345-5976-4e8d-9bbd-964894c2df95\")) {                    Plotly.newPlot(                        \"ad8aa345-5976-4e8d-9bbd-964894c2df95\",                        [{\"mode\":\"lines\",\"name\":\"Actual\",\"x\":[\"2002-07-08T00:00:00\",\"2002-07-09T00:00:00\",\"2002-07-10T00:00:00\",\"2002-07-11T00:00:00\",\"2002-07-12T00:00:00\",\"2002-07-15T00:00:00\",\"2002-07-16T00:00:00\",\"2002-07-17T00:00:00\",\"2002-07-18T00:00:00\",\"2002-07-19T00:00:00\",\"2002-07-22T00:00:00\",\"2002-07-23T00:00:00\",\"2002-07-24T00:00:00\",\"2002-07-25T00:00:00\",\"2002-07-26T00:00:00\",\"2002-07-29T00:00:00\",\"2002-07-30T00:00:00\",\"2002-07-31T00:00:00\",\"2002-08-01T00:00:00\",\"2002-08-02T00:00:00\",\"2002-08-05T00:00:00\",\"2002-08-06T00:00:00\",\"2002-08-07T00:00:00\",\"2002-08-08T00:00:00\",\"2002-08-09T00:00:00\",\"2002-08-12T00:00:00\",\"2002-08-13T00:00:00\",\"2002-08-14T00:00:00\",\"2002-08-15T00:00:00\",\"2002-08-16T00:00:00\",\"2002-08-19T00:00:00\",\"2002-08-20T00:00:00\",\"2002-08-21T00:00:00\",\"2002-08-22T00:00:00\",\"2002-08-23T00:00:00\",\"2002-08-26T00:00:00\",\"2002-08-27T00:00:00\",\"2002-08-28T00:00:00\",\"2002-08-29T00:00:00\",\"2002-08-30T00:00:00\",\"2002-09-03T00:00:00\",\"2002-09-04T00:00:00\",\"2002-09-05T00:00:00\",\"2002-09-06T00:00:00\",\"2002-09-09T00:00:00\",\"2002-09-10T00:00:00\",\"2002-09-11T00:00:00\",\"2002-09-12T00:00:00\",\"2002-09-13T00:00:00\",\"2002-09-16T00:00:00\",\"2002-09-17T00:00:00\",\"2002-09-18T00:00:00\",\"2002-09-19T00:00:00\",\"2002-09-20T00:00:00\",\"2002-09-23T00:00:00\",\"2002-09-24T00:00:00\",\"2002-09-25T00:00:00\",\"2002-09-26T00:00:00\",\"2002-09-27T00:00:00\",\"2002-09-30T00:00:00\",\"2002-10-01T00:00:00\",\"2002-10-02T00:00:00\",\"2002-10-03T00:00:00\",\"2002-10-04T00:00:00\",\"2002-10-07T00:00:00\",\"2002-10-08T00:00:00\",\"2002-10-09T00:00:00\",\"2002-10-10T00:00:00\",\"2002-10-11T00:00:00\",\"2002-10-14T00:00:00\",\"2002-10-15T00:00:00\",\"2002-10-16T00:00:00\",\"2002-10-17T00:00:00\",\"2002-10-18T00:00:00\",\"2002-10-21T00:00:00\",\"2002-10-22T00:00:00\",\"2002-10-23T00:00:00\",\"2002-10-24T00:00:00\",\"2002-10-25T00:00:00\",\"2002-10-28T00:00:00\",\"2002-10-29T00:00:00\",\"2002-10-30T00:00:00\",\"2002-10-31T00:00:00\",\"2002-11-01T00:00:00\",\"2002-11-04T00:00:00\",\"2002-11-05T00:00:00\",\"2002-11-06T00:00:00\",\"2002-11-07T00:00:00\",\"2002-11-08T00:00:00\",\"2002-11-11T00:00:00\",\"2002-11-12T00:00:00\",\"2002-11-13T00:00:00\",\"2002-11-14T00:00:00\",\"2002-11-15T00:00:00\",\"2002-11-18T00:00:00\",\"2002-11-19T00:00:00\",\"2002-11-20T00:00:00\",\"2002-11-21T00:00:00\",\"2002-11-22T00:00:00\",\"2002-11-25T00:00:00\",\"2002-11-26T00:00:00\",\"2002-11-27T00:00:00\",\"2002-11-29T00:00:00\",\"2002-12-02T00:00:00\",\"2002-12-03T00:00:00\",\"2002-12-04T00:00:00\",\"2002-12-05T00:00:00\",\"2002-12-06T00:00:00\",\"2002-12-09T00:00:00\",\"2002-12-10T00:00:00\",\"2002-12-11T00:00:00\",\"2002-12-12T00:00:00\",\"2002-12-13T00:00:00\",\"2002-12-16T00:00:00\",\"2002-12-17T00:00:00\",\"2002-12-18T00:00:00\",\"2002-12-19T00:00:00\",\"2002-12-20T00:00:00\",\"2002-12-23T00:00:00\",\"2002-12-24T00:00:00\",\"2002-12-26T00:00:00\",\"2002-12-27T00:00:00\",\"2002-12-30T00:00:00\",\"2002-12-31T00:00:00\",\"2003-01-02T00:00:00\",\"2003-01-03T00:00:00\",\"2003-01-06T00:00:00\",\"2003-01-07T00:00:00\",\"2003-01-08T00:00:00\",\"2003-01-09T00:00:00\",\"2003-01-10T00:00:00\",\"2003-01-13T00:00:00\",\"2003-01-14T00:00:00\",\"2003-01-15T00:00:00\",\"2003-01-16T00:00:00\",\"2003-01-17T00:00:00\",\"2003-01-21T00:00:00\",\"2003-01-22T00:00:00\",\"2003-01-23T00:00:00\",\"2003-01-24T00:00:00\",\"2003-01-27T00:00:00\",\"2003-01-28T00:00:00\",\"2003-01-29T00:00:00\",\"2003-01-30T00:00:00\",\"2003-01-31T00:00:00\",\"2003-02-03T00:00:00\",\"2003-02-04T00:00:00\",\"2003-02-05T00:00:00\",\"2003-02-06T00:00:00\",\"2003-02-07T00:00:00\",\"2003-02-10T00:00:00\",\"2003-02-11T00:00:00\",\"2003-02-12T00:00:00\",\"2003-02-13T00:00:00\",\"2003-02-14T00:00:00\",\"2003-02-18T00:00:00\",\"2003-02-19T00:00:00\",\"2003-02-20T00:00:00\",\"2003-02-21T00:00:00\",\"2003-02-24T00:00:00\",\"2003-02-25T00:00:00\",\"2003-02-26T00:00:00\",\"2003-02-27T00:00:00\",\"2003-02-28T00:00:00\",\"2003-03-03T00:00:00\",\"2003-03-04T00:00:00\",\"2003-03-05T00:00:00\",\"2003-03-06T00:00:00\",\"2003-03-07T00:00:00\",\"2003-03-10T00:00:00\",\"2003-03-11T00:00:00\",\"2003-03-12T00:00:00\",\"2003-03-13T00:00:00\",\"2003-03-14T00:00:00\",\"2003-03-17T00:00:00\",\"2003-03-18T00:00:00\",\"2003-03-19T00:00:00\",\"2003-03-20T00:00:00\",\"2003-03-21T00:00:00\",\"2003-03-24T00:00:00\",\"2003-03-25T00:00:00\",\"2003-03-26T00:00:00\",\"2003-03-27T00:00:00\",\"2003-03-28T00:00:00\",\"2003-03-31T00:00:00\",\"2003-04-01T00:00:00\",\"2003-04-02T00:00:00\",\"2003-04-03T00:00:00\",\"2003-04-04T00:00:00\",\"2003-04-07T00:00:00\",\"2003-04-08T00:00:00\",\"2003-04-09T00:00:00\",\"2003-04-10T00:00:00\",\"2003-04-11T00:00:00\",\"2003-04-14T00:00:00\",\"2003-04-15T00:00:00\",\"2003-04-16T00:00:00\",\"2003-04-17T00:00:00\",\"2003-04-21T00:00:00\",\"2003-04-22T00:00:00\",\"2003-04-23T00:00:00\",\"2003-04-24T00:00:00\",\"2003-04-25T00:00:00\",\"2003-04-28T00:00:00\",\"2003-04-29T00:00:00\",\"2003-04-30T00:00:00\",\"2003-05-01T00:00:00\",\"2003-05-02T00:00:00\",\"2003-05-05T00:00:00\",\"2003-05-06T00:00:00\",\"2003-05-07T00:00:00\",\"2003-05-08T00:00:00\",\"2003-05-09T00:00:00\",\"2003-05-12T00:00:00\",\"2003-05-13T00:00:00\",\"2003-05-14T00:00:00\",\"2003-05-15T00:00:00\",\"2003-05-16T00:00:00\",\"2003-05-19T00:00:00\",\"2003-05-20T00:00:00\",\"2003-05-21T00:00:00\",\"2003-05-22T00:00:00\",\"2003-05-23T00:00:00\",\"2003-05-27T00:00:00\",\"2003-05-28T00:00:00\",\"2003-05-29T00:00:00\",\"2003-05-30T00:00:00\",\"2003-06-02T00:00:00\",\"2003-06-03T00:00:00\",\"2003-06-04T00:00:00\",\"2003-06-05T00:00:00\",\"2003-06-06T00:00:00\",\"2003-06-09T00:00:00\",\"2003-06-10T00:00:00\",\"2003-06-11T00:00:00\",\"2003-06-12T00:00:00\",\"2003-06-13T00:00:00\",\"2003-06-16T00:00:00\",\"2003-06-17T00:00:00\",\"2003-06-18T00:00:00\",\"2003-06-19T00:00:00\",\"2003-06-20T00:00:00\",\"2003-06-23T00:00:00\",\"2003-06-24T00:00:00\",\"2003-06-25T00:00:00\",\"2003-06-26T00:00:00\",\"2003-06-27T00:00:00\",\"2003-06-30T00:00:00\",\"2003-07-01T00:00:00\",\"2003-07-02T00:00:00\",\"2003-07-03T00:00:00\",\"2003-07-07T00:00:00\",\"2003-07-08T00:00:00\",\"2003-07-09T00:00:00\",\"2003-07-10T00:00:00\",\"2003-07-11T00:00:00\",\"2003-07-14T00:00:00\",\"2003-07-15T00:00:00\",\"2003-07-16T00:00:00\",\"2003-07-17T00:00:00\",\"2003-07-18T00:00:00\",\"2003-07-21T00:00:00\",\"2003-07-22T00:00:00\",\"2003-07-23T00:00:00\",\"2003-07-24T00:00:00\",\"2003-07-25T00:00:00\",\"2003-07-28T00:00:00\",\"2003-07-29T00:00:00\",\"2003-07-30T00:00:00\",\"2003-07-31T00:00:00\",\"2003-08-01T00:00:00\",\"2003-08-04T00:00:00\",\"2003-08-05T00:00:00\",\"2003-08-06T00:00:00\",\"2003-08-07T00:00:00\",\"2003-08-08T00:00:00\",\"2003-08-11T00:00:00\",\"2003-08-12T00:00:00\",\"2003-08-13T00:00:00\",\"2003-08-14T00:00:00\",\"2003-08-15T00:00:00\",\"2003-08-18T00:00:00\",\"2003-08-19T00:00:00\",\"2003-08-20T00:00:00\",\"2003-08-21T00:00:00\",\"2003-08-22T00:00:00\",\"2003-08-25T00:00:00\",\"2003-08-26T00:00:00\",\"2003-08-27T00:00:00\",\"2003-08-28T00:00:00\",\"2003-08-29T00:00:00\",\"2003-09-02T00:00:00\",\"2003-09-03T00:00:00\",\"2003-09-04T00:00:00\",\"2003-09-05T00:00:00\",\"2003-09-08T00:00:00\",\"2003-09-09T00:00:00\",\"2003-09-10T00:00:00\",\"2003-09-11T00:00:00\",\"2003-09-12T00:00:00\",\"2003-09-15T00:00:00\",\"2003-09-16T00:00:00\",\"2003-09-17T00:00:00\",\"2003-09-18T00:00:00\",\"2003-09-19T00:00:00\",\"2003-09-22T00:00:00\",\"2003-09-23T00:00:00\",\"2003-09-24T00:00:00\",\"2003-09-25T00:00:00\",\"2003-09-26T00:00:00\",\"2003-09-29T00:00:00\",\"2003-09-30T00:00:00\",\"2003-10-01T00:00:00\",\"2003-10-02T00:00:00\",\"2003-10-03T00:00:00\",\"2003-10-06T00:00:00\",\"2003-10-07T00:00:00\",\"2003-10-08T00:00:00\",\"2003-10-09T00:00:00\",\"2003-10-10T00:00:00\",\"2003-10-13T00:00:00\",\"2003-10-14T00:00:00\",\"2003-10-15T00:00:00\",\"2003-10-16T00:00:00\",\"2003-10-17T00:00:00\",\"2003-10-20T00:00:00\",\"2003-10-21T00:00:00\",\"2003-10-22T00:00:00\",\"2003-10-23T00:00:00\",\"2003-10-24T00:00:00\",\"2003-10-27T00:00:00\",\"2003-10-28T00:00:00\",\"2003-10-29T00:00:00\",\"2003-10-30T00:00:00\",\"2003-10-31T00:00:00\",\"2003-11-03T00:00:00\",\"2003-11-04T00:00:00\",\"2003-11-05T00:00:00\",\"2003-11-06T00:00:00\",\"2003-11-07T00:00:00\",\"2003-11-10T00:00:00\",\"2003-11-11T00:00:00\",\"2003-11-12T00:00:00\",\"2003-11-13T00:00:00\",\"2003-11-14T00:00:00\",\"2003-11-17T00:00:00\",\"2003-11-18T00:00:00\",\"2003-11-19T00:00:00\",\"2003-11-20T00:00:00\",\"2003-11-21T00:00:00\",\"2003-11-24T00:00:00\",\"2003-11-25T00:00:00\",\"2003-11-26T00:00:00\",\"2003-11-28T00:00:00\",\"2003-12-01T00:00:00\",\"2003-12-02T00:00:00\",\"2003-12-03T00:00:00\",\"2003-12-04T00:00:00\",\"2003-12-05T00:00:00\",\"2003-12-08T00:00:00\",\"2003-12-09T00:00:00\",\"2003-12-10T00:00:00\",\"2003-12-11T00:00:00\",\"2003-12-12T00:00:00\",\"2003-12-15T00:00:00\",\"2003-12-16T00:00:00\",\"2003-12-17T00:00:00\",\"2003-12-18T00:00:00\",\"2003-12-19T00:00:00\",\"2003-12-22T00:00:00\",\"2003-12-23T00:00:00\",\"2003-12-24T00:00:00\",\"2003-12-26T00:00:00\",\"2003-12-29T00:00:00\",\"2003-12-30T00:00:00\",\"2003-12-31T00:00:00\",\"2004-01-02T00:00:00\",\"2004-01-05T00:00:00\",\"2004-01-06T00:00:00\",\"2004-01-07T00:00:00\",\"2004-01-08T00:00:00\",\"2004-01-09T00:00:00\",\"2004-01-12T00:00:00\",\"2004-01-13T00:00:00\",\"2004-01-14T00:00:00\",\"2004-01-15T00:00:00\",\"2004-01-16T00:00:00\",\"2004-01-20T00:00:00\",\"2004-01-21T00:00:00\",\"2004-01-22T00:00:00\",\"2004-01-23T00:00:00\",\"2004-01-26T00:00:00\",\"2004-01-27T00:00:00\",\"2004-01-28T00:00:00\",\"2004-01-29T00:00:00\",\"2004-01-30T00:00:00\",\"2004-02-02T00:00:00\",\"2004-02-03T00:00:00\",\"2004-02-04T00:00:00\",\"2004-02-05T00:00:00\",\"2004-02-06T00:00:00\",\"2004-02-09T00:00:00\",\"2004-02-10T00:00:00\",\"2004-02-11T00:00:00\",\"2004-02-12T00:00:00\",\"2004-02-13T00:00:00\",\"2004-02-17T00:00:00\",\"2004-02-18T00:00:00\",\"2004-02-19T00:00:00\",\"2004-02-20T00:00:00\",\"2004-02-23T00:00:00\",\"2004-02-24T00:00:00\",\"2004-02-25T00:00:00\",\"2004-02-26T00:00:00\",\"2004-02-27T00:00:00\",\"2004-03-01T00:00:00\",\"2004-03-02T00:00:00\",\"2004-03-03T00:00:00\",\"2004-03-04T00:00:00\",\"2004-03-05T00:00:00\",\"2004-03-08T00:00:00\",\"2004-03-09T00:00:00\",\"2004-03-10T00:00:00\",\"2004-03-11T00:00:00\",\"2004-03-12T00:00:00\",\"2004-03-15T00:00:00\",\"2004-03-16T00:00:00\",\"2004-03-17T00:00:00\",\"2004-03-18T00:00:00\",\"2004-03-19T00:00:00\",\"2004-03-22T00:00:00\",\"2004-03-23T00:00:00\",\"2004-03-24T00:00:00\",\"2004-03-25T00:00:00\",\"2004-03-26T00:00:00\",\"2004-03-29T00:00:00\",\"2004-03-30T00:00:00\",\"2004-03-31T00:00:00\",\"2004-04-01T00:00:00\",\"2004-04-02T00:00:00\",\"2004-04-05T00:00:00\",\"2004-04-06T00:00:00\",\"2004-04-07T00:00:00\",\"2004-04-08T00:00:00\",\"2004-04-12T00:00:00\",\"2004-04-13T00:00:00\",\"2004-04-14T00:00:00\",\"2004-04-15T00:00:00\",\"2004-04-16T00:00:00\",\"2004-04-19T00:00:00\",\"2004-04-20T00:00:00\",\"2004-04-21T00:00:00\",\"2004-04-22T00:00:00\",\"2004-04-23T00:00:00\",\"2004-04-26T00:00:00\",\"2004-04-27T00:00:00\",\"2004-04-28T00:00:00\",\"2004-04-29T00:00:00\",\"2004-04-30T00:00:00\",\"2004-05-03T00:00:00\",\"2004-05-04T00:00:00\",\"2004-05-05T00:00:00\",\"2004-05-06T00:00:00\",\"2004-05-07T00:00:00\",\"2004-05-10T00:00:00\",\"2004-05-11T00:00:00\",\"2004-05-12T00:00:00\",\"2004-05-13T00:00:00\",\"2004-05-14T00:00:00\",\"2004-05-17T00:00:00\",\"2004-05-18T00:00:00\",\"2004-05-19T00:00:00\",\"2004-05-20T00:00:00\",\"2004-05-21T00:00:00\",\"2004-05-24T00:00:00\",\"2004-05-25T00:00:00\",\"2004-05-26T00:00:00\",\"2004-05-27T00:00:00\",\"2004-05-28T00:00:00\",\"2004-06-01T00:00:00\",\"2004-06-02T00:00:00\",\"2004-06-03T00:00:00\",\"2004-06-04T00:00:00\",\"2004-06-07T00:00:00\",\"2004-06-08T00:00:00\",\"2004-06-09T00:00:00\",\"2004-06-10T00:00:00\",\"2004-06-14T00:00:00\",\"2004-06-15T00:00:00\",\"2004-06-16T00:00:00\",\"2004-06-17T00:00:00\",\"2004-06-18T00:00:00\",\"2004-06-21T00:00:00\",\"2004-06-22T00:00:00\",\"2004-06-23T00:00:00\",\"2004-06-24T00:00:00\",\"2004-06-25T00:00:00\",\"2004-06-28T00:00:00\",\"2004-06-29T00:00:00\",\"2004-06-30T00:00:00\",\"2004-07-01T00:00:00\",\"2004-07-02T00:00:00\",\"2004-07-06T00:00:00\",\"2004-07-07T00:00:00\",\"2004-07-08T00:00:00\",\"2004-07-09T00:00:00\",\"2004-07-12T00:00:00\",\"2004-07-13T00:00:00\",\"2004-07-14T00:00:00\",\"2004-07-15T00:00:00\",\"2004-07-16T00:00:00\",\"2004-07-19T00:00:00\",\"2004-07-20T00:00:00\",\"2004-07-21T00:00:00\",\"2004-07-22T00:00:00\",\"2004-07-23T00:00:00\",\"2004-07-26T00:00:00\",\"2004-07-27T00:00:00\",\"2004-07-28T00:00:00\",\"2004-07-29T00:00:00\",\"2004-07-30T00:00:00\",\"2004-08-02T00:00:00\",\"2004-08-03T00:00:00\",\"2004-08-04T00:00:00\",\"2004-08-05T00:00:00\",\"2004-08-06T00:00:00\",\"2004-08-09T00:00:00\",\"2004-08-10T00:00:00\",\"2004-08-11T00:00:00\",\"2004-08-12T00:00:00\",\"2004-08-13T00:00:00\",\"2004-08-16T00:00:00\",\"2004-08-17T00:00:00\",\"2004-08-18T00:00:00\",\"2004-08-19T00:00:00\",\"2004-08-20T00:00:00\",\"2004-08-23T00:00:00\",\"2004-08-24T00:00:00\",\"2004-08-25T00:00:00\",\"2004-08-26T00:00:00\",\"2004-08-27T00:00:00\",\"2004-08-30T00:00:00\",\"2004-08-31T00:00:00\",\"2004-09-01T00:00:00\",\"2004-09-02T00:00:00\",\"2004-09-03T00:00:00\",\"2004-09-07T00:00:00\",\"2004-09-08T00:00:00\",\"2004-09-09T00:00:00\",\"2004-09-10T00:00:00\",\"2004-09-13T00:00:00\",\"2004-09-14T00:00:00\",\"2004-09-15T00:00:00\",\"2004-09-16T00:00:00\",\"2004-09-17T00:00:00\",\"2004-09-20T00:00:00\",\"2004-09-21T00:00:00\",\"2004-09-22T00:00:00\",\"2004-09-23T00:00:00\",\"2004-09-24T00:00:00\",\"2004-09-27T00:00:00\",\"2004-09-28T00:00:00\",\"2004-09-29T00:00:00\",\"2004-09-30T00:00:00\",\"2004-10-01T00:00:00\",\"2004-10-04T00:00:00\",\"2004-10-05T00:00:00\",\"2004-10-06T00:00:00\",\"2004-10-07T00:00:00\",\"2004-10-08T00:00:00\",\"2004-10-11T00:00:00\",\"2004-10-12T00:00:00\",\"2004-10-13T00:00:00\",\"2004-10-14T00:00:00\",\"2004-10-15T00:00:00\",\"2004-10-18T00:00:00\",\"2004-10-19T00:00:00\",\"2004-10-20T00:00:00\",\"2004-10-21T00:00:00\",\"2004-10-22T00:00:00\",\"2004-10-25T00:00:00\",\"2004-10-26T00:00:00\",\"2004-10-27T00:00:00\",\"2004-10-28T00:00:00\",\"2004-10-29T00:00:00\",\"2004-11-01T00:00:00\",\"2004-11-02T00:00:00\",\"2004-11-03T00:00:00\",\"2004-11-04T00:00:00\",\"2004-11-05T00:00:00\",\"2004-11-08T00:00:00\",\"2004-11-09T00:00:00\",\"2004-11-10T00:00:00\",\"2004-11-11T00:00:00\",\"2004-11-12T00:00:00\",\"2004-11-15T00:00:00\",\"2004-11-16T00:00:00\",\"2004-11-17T00:00:00\",\"2004-11-18T00:00:00\",\"2004-11-19T00:00:00\",\"2004-11-22T00:00:00\",\"2004-11-23T00:00:00\",\"2004-11-24T00:00:00\",\"2004-11-26T00:00:00\",\"2004-11-29T00:00:00\",\"2004-11-30T00:00:00\",\"2004-12-01T00:00:00\",\"2004-12-02T00:00:00\",\"2004-12-03T00:00:00\",\"2004-12-06T00:00:00\",\"2004-12-07T00:00:00\",\"2004-12-08T00:00:00\",\"2004-12-09T00:00:00\",\"2004-12-10T00:00:00\",\"2004-12-13T00:00:00\",\"2004-12-14T00:00:00\",\"2004-12-15T00:00:00\",\"2004-12-16T00:00:00\",\"2004-12-17T00:00:00\",\"2004-12-20T00:00:00\",\"2004-12-21T00:00:00\",\"2004-12-22T00:00:00\",\"2004-12-23T00:00:00\",\"2004-12-27T00:00:00\",\"2004-12-28T00:00:00\",\"2004-12-29T00:00:00\",\"2004-12-30T00:00:00\",\"2004-12-31T00:00:00\",\"2005-01-03T00:00:00\",\"2005-01-04T00:00:00\",\"2005-01-05T00:00:00\",\"2005-01-06T00:00:00\",\"2005-01-07T00:00:00\",\"2005-01-10T00:00:00\",\"2005-01-11T00:00:00\",\"2005-01-12T00:00:00\",\"2005-01-13T00:00:00\",\"2005-01-14T00:00:00\",\"2005-01-18T00:00:00\",\"2005-01-19T00:00:00\",\"2005-01-20T00:00:00\",\"2005-01-21T00:00:00\",\"2005-01-24T00:00:00\",\"2005-01-25T00:00:00\",\"2005-01-26T00:00:00\",\"2005-01-27T00:00:00\",\"2005-01-28T00:00:00\",\"2005-01-31T00:00:00\",\"2005-02-01T00:00:00\",\"2005-02-02T00:00:00\",\"2005-02-03T00:00:00\",\"2005-02-04T00:00:00\",\"2005-02-07T00:00:00\",\"2005-02-08T00:00:00\",\"2005-02-09T00:00:00\",\"2005-02-10T00:00:00\",\"2005-02-11T00:00:00\",\"2005-02-14T00:00:00\",\"2005-02-15T00:00:00\",\"2005-02-16T00:00:00\",\"2005-02-17T00:00:00\",\"2005-02-18T00:00:00\",\"2005-02-22T00:00:00\",\"2005-02-23T00:00:00\",\"2005-02-24T00:00:00\",\"2005-02-25T00:00:00\",\"2005-02-28T00:00:00\",\"2005-03-01T00:00:00\",\"2005-03-02T00:00:00\",\"2005-03-03T00:00:00\",\"2005-03-04T00:00:00\",\"2005-03-07T00:00:00\",\"2005-03-08T00:00:00\",\"2005-03-09T00:00:00\",\"2005-03-10T00:00:00\",\"2005-03-11T00:00:00\",\"2005-03-14T00:00:00\",\"2005-03-15T00:00:00\",\"2005-03-16T00:00:00\",\"2005-03-17T00:00:00\",\"2005-03-18T00:00:00\",\"2005-03-21T00:00:00\",\"2005-03-22T00:00:00\",\"2005-03-23T00:00:00\",\"2005-03-24T00:00:00\",\"2005-03-28T00:00:00\",\"2005-03-29T00:00:00\",\"2005-03-30T00:00:00\",\"2005-03-31T00:00:00\",\"2005-04-01T00:00:00\",\"2005-04-04T00:00:00\",\"2005-04-05T00:00:00\",\"2005-04-06T00:00:00\",\"2005-04-07T00:00:00\",\"2005-04-08T00:00:00\",\"2005-04-11T00:00:00\",\"2005-04-12T00:00:00\",\"2005-04-13T00:00:00\",\"2005-04-14T00:00:00\",\"2005-04-15T00:00:00\",\"2005-04-18T00:00:00\",\"2005-04-19T00:00:00\",\"2005-04-20T00:00:00\",\"2005-04-21T00:00:00\",\"2005-04-22T00:00:00\",\"2005-04-25T00:00:00\",\"2005-04-26T00:00:00\",\"2005-04-27T00:00:00\",\"2005-04-28T00:00:00\",\"2005-04-29T00:00:00\",\"2005-05-02T00:00:00\",\"2005-05-03T00:00:00\",\"2005-05-04T00:00:00\",\"2005-05-05T00:00:00\",\"2005-05-06T00:00:00\",\"2005-05-09T00:00:00\",\"2005-05-10T00:00:00\",\"2005-05-11T00:00:00\",\"2005-05-12T00:00:00\",\"2005-05-13T00:00:00\",\"2005-05-16T00:00:00\",\"2005-05-17T00:00:00\",\"2005-05-18T00:00:00\",\"2005-05-19T00:00:00\",\"2005-05-20T00:00:00\",\"2005-05-23T00:00:00\",\"2005-05-24T00:00:00\",\"2005-05-25T00:00:00\",\"2005-05-26T00:00:00\",\"2005-05-27T00:00:00\",\"2005-05-31T00:00:00\",\"2005-06-01T00:00:00\",\"2005-06-02T00:00:00\",\"2005-06-03T00:00:00\",\"2005-06-06T00:00:00\",\"2005-06-07T00:00:00\",\"2005-06-08T00:00:00\",\"2005-06-09T00:00:00\",\"2005-06-10T00:00:00\",\"2005-06-13T00:00:00\",\"2005-06-14T00:00:00\",\"2005-06-15T00:00:00\",\"2005-06-16T00:00:00\",\"2005-06-17T00:00:00\",\"2005-06-20T00:00:00\",\"2005-06-21T00:00:00\",\"2005-06-22T00:00:00\",\"2005-06-23T00:00:00\",\"2005-06-24T00:00:00\",\"2005-06-27T00:00:00\",\"2005-06-28T00:00:00\",\"2005-06-29T00:00:00\",\"2005-06-30T00:00:00\",\"2005-07-01T00:00:00\",\"2005-07-05T00:00:00\"],\"y\":[16.54969596862793,16.640390396118164,16.33704376220703,16.54657745361328,16.218204498291016,16.199440002441406,16.02743148803711,16.261978149414062,15.98365592956543,15.498924255371094,14.857821464538574,13.450531959533691,14.457531929016113,13.394245147705078,14.182326316833496,15.08924388885498,15.042330741882324,15.004815101623535,14.307415008544922,13.88836669921875,13.7570161819458,14.282402992248535,14.726475715637207,15.295646667480469,15.048588752746582,15.158050537109375,14.717106819152832,15.545832633972168,15.564599990844727,15.63652229309082,16.261978149414062,15.961764335632324,16.34954833984375,16.646648406982422,16.330785751342773,16.293254852294922,15.899215698242188,15.442632675170898,15.81790828704834,15.348810195922852,14.704590797424316,15.076737403869629,14.35745906829834,14.9547758102417,15.22996997833252,15.570853233337402,15.192441940307617,14.745244979858398,14.98291015625,14.942262649536133,14.789023399353027,14.932886123657227,14.760880470275879,14.842188835144043,14.144804954528809,14.273015975952148,14.545095443725586,14.448145866394043,14.151054382324219,13.67883586883545,14.457531929016113,14.263632774353027,14.010320663452148,13.688217163085938,13.775775909423828,14.069740295410156,13.7570161819458,14.504433631896973,15.283138275146484,15.4144868850708,16.352678298950195,15.764741897583008,15.877325057983398,16.621631622314453,16.421478271484375,16.158784866333008,16.63726234436035,16.021181106567383,16.47463607788086,16.24634552001953,16.283872604370117,16.609115600585938,16.721696853637695,16.5747127532959,17.544174194335938,17.72556495666504,17.83501625061035,17.516029357910156,17.2314395904541,16.843660354614258,17.04693603515625,17.31276512145996,17.8225040435791,17.72869110107422,17.46599578857422,17.15639877319336,17.70680046081543,18.08833122253418,18.207164764404297,18.21029281616211,17.79436492919922,18.163387298583984,18.038299560546875,18.041419982910156,17.734947204589844,17.681777954101562,17.306501388549805,17.347156524658203,16.740459442138672,16.890567779541016,17.09384536743164,16.940610885620117,16.418346405029297,17.037555694580078,17.000032424926758,16.740459442138672,16.609115600585938,16.587221145629883,16.8874454498291,16.831153869628906,16.69668197631836,16.565340042114258,16.49652862548828,16.168169021606445,16.799880981445312,16.821767807006836,17.128246307373047,17.450363159179688,16.962501525878906,17.453493118286133,17.487886428833008,17.634872436523438,17.816255569458008,17.597347259521484,17.309629440307617,16.093103408813477,16.052459716796875,15.94925594329834,16.34954833984375,15.589612007141113,15.376957893371582,15.267502784729004,15.608379364013672,15.0861177444458,14.842188835144043,15.186196327209473,14.798406600952148,14.685823440551758,14.829678535461426,14.566991806030273,14.817166328430176,14.523208618164062,14.523208618164062,14.695201873779297,15.10488224029541,15.6115083694458,15.391884803771973,15.147173881530762,15.454646110534668,15.103254318237305,15.178552627563477,14.814615249633789,14.795794486999512,14.871086120605469,14.770694732666016,14.475781440734863,14.7079439163208,14.601272583007812,14.783241271972656,14.400490760803223,14.306358337402344,14.6765718460083,15.47973918914795,15.598958015441895,16.27034568786621,16.33937644958496,16.51506233215332,16.471141815185547,16.671939849853516,15.868769645690918,15.994258880615234,15.843669891357422,15.711901664733887,15.47973918914795,15.191095352172852,15.278940200805664,16.13857650756836,16.144855499267578,15.743277549743652,15.793476104736328,16.05073356628418,15.416987419128418,15.42953872680664,15.184821128845215,15.53620719909668,15.43581485748291,15.636606216430664,16.000532150268555,15.81856918334961,16.163686752319336,16.13857650756836,15.994258880615234,15.824847221374512,16.151134490966797,16.18877410888672,16.04446029663086,16.13857650756836,16.37702178955078,16.226430892944336,16.54644012451172,16.307994842529297,16.151134490966797,16.5401611328125,16.439773559570312,16.307994842529297,16.07583236694336,16.182512283325195,16.04446029663086,15.53620719909668,15.454646110534668,15.078153610229492,15.159724235534668,15.197369575500488,15.555032730102539,15.316596031188965,15.310317039489746,15.442089080810547,15.460908889770508,15.6115083694458,15.605229377746582,15.11580753326416,14.85225772857666,14.90246295928955,15.48600959777832,15.6115083694458,15.680526733398438,15.467183113098145,15.93152141571045,16.28917694091797,16.358200073242188,16.358200073242188,16.521337509155273,16.17622947692871,16.126035690307617,15.849944114685059,16.157400131225586,16.08211326599121,16.0883846282959,16.408395767211914,16.866453170776367,16.628015518188477,17.205286026000977,17.3809757232666,17.236661911010742,16.885272979736328,17.136262893676758,17.192729949951172,17.111164093017578,17.268033981323242,16.747222900390625,16.87272071838379,16.33937644958496,16.552709579467773,16.59663200378418,16.31427001953125,16.87272071838379,16.69704246520996,16.609182357788086,16.458589553833008,16.5715389251709,16.420949935913086,16.427217483520508,16.100929260253906,16.094663619995117,16.132305145263672,16.05073356628418,16.069555282592773,16.144855499267578,16.063289642333984,16.08211326599121,16.0256404876709,16.126035690307617,16.70330047607422,16.59663200378418,16.464866638183594,16.452314376831055,16.628015518188477,16.671939849853516,16.577810287475586,16.634286880493164,16.64055824279785,17.104881286621094,17.757461547851562,17.83902931213379,17.807653427124023,18.096294403076172,17.801376342773438,17.28685760498047,17.46881866455078,17.78255271911621,17.795103073120117,18.13393783569336,17.88295555114746,18.510427474975586,18.79906463623047,18.240617752075195,18.57317352294922,17.857851028442383,17.719812393188477,17.68843650817871,18.090017318725586,17.443714141845703,17.895505905151367,17.88295555114746,18.246889114379883,18.315914154052734,18.284534454345703,18.083751678466797,18.159042358398438,18.140213012695312,18.05864906311035,17.99590301513672,18.342945098876953,18.443899154663086,18.254608154296875,18.519628524780273,18.519628524780273,18.2293643951416,18.241989135742188,16.79071044921875,16.979999542236328,17.162988662719727,16.872732162475586,16.48151969909668,16.49413299560547,16.83487892150879,16.44997787475586,16.468896865844727,16.55093002319336,16.468896865844727,16.405794143676758,16.27959632873535,16.393177032470703,16.210195541381836,16.090299606323242,15.869452476501465,15.869452476501465,15.9956636428833,15.837907791137695,15.84421443939209,16.235435485839844,16.027198791503906,16.058753967285156,16.22280502319336,16.304832458496094,16.19125747680664,16.197568893432617,16.532001495361328,16.393177032470703,16.55723762512207,16.64557456970215,16.778085708618164,16.79071044921875,16.815942764282227,16.872732162475586,17.07465171813965,17.062028884887695,17.289186477661133,17.263944625854492,17.150371551513672,17.131441116333008,17.062028884887695,17.16929817199707,17.32704734802246,17.364904403686523,17.270259857177734,17.32073974609375,17.75611686706543,17.819223403930664,17.800294876098633,17.768735885620117,17.45323944091797,17.39645767211914,17.308120727539062,17.478483200073242,17.377527236938477,17.547895431518555,17.73088836669922,17.857078552246094,17.674097061157227,17.970659255981445,18.17257308959961,17.825529098510742,17.484790802001953,17.610992431640625,17.446931838989258,17.289186477661133,17.219783782958984,17.043094635009766,17.011554718017578,17.087268829345703,16.973695755004883,17.049407958984375,17.131441116333008,17.005245208740234,16.778085708618164,17.030481338500977,16.891666412353516,16.696054458618164,16.76546859741211,16.79071044921875,16.961074829101562,16.84749412536621,16.721302032470703,16.740230560302734,16.84749412536621,16.651885986328125,16.639266967773438,16.639266967773438,16.626649856567383,16.298532485961914,16.22911834716797,16.008268356323242,15.831597328186035,16.014583587646484,15.87576961517334,15.888384819030762,15.856839179992676,15.705397605895996,15.541346549987793,15.459308624267578,15.238465309143066,15.402523040771484,15.89468765258789,15.793734550476074,15.970409393310547,15.9010009765625,15.730632781982422,15.82528018951416,16.311153411865234,16.374242782592773,16.27959632873535,16.147090911865234,16.07768440246582,16.159709930419922,16.058753967285156,16.09661102294922,15.913620948791504,15.87576961517334,16.10923194885254,15.9830322265625,16.058753967285156,16.374242782592773,17.377527236938477,17.188228607177734,17.175607681274414,16.759151458740234,16.70867347717285,16.48782730102539,16.626649856567383,16.614025115966797,16.595090866088867,16.48151969909668,16.266977310180664,16.361629486083984,16.367938995361328,16.367938995361328,16.468896865844727,16.317462921142578,16.115543365478516,16.298532485961914,16.166017532348633,16.235435485839844,16.33638572692871,16.254364013671875,16.468896865844727,16.49413299560547,16.525691986083984,16.55093002319336,16.47520637512207,16.48782730102539,16.33638572692871,16.374242782592773,16.6771183013916,16.784393310546875,16.70235824584961,16.891666412353516,16.973695755004883,17.295503616333008,17.23870277404785,17.522659301757812,17.888629913330078,17.888629913330078,17.850772857666016,17.857078552246094,17.913875579833984,18.027448654174805,17.84446144104004,17.983280181884766,18.021137237548828,18.065305709838867,18.027448654174805,17.680410385131836,17.73088836669922,17.440631866455078,17.57944679260254,17.598365783691406,17.415390014648438,17.749801635742188,17.58575439453125,17.33966827392578,17.636228561401367,17.869701385498047,18.2104434967041,18.298776626586914,17.686717987060547,18.084239959716797,17.945423126220703,18.03375816345215,17.970659255981445,17.976972579956055,17.99590301513672,17.711957931518555,17.70564079284668,17.371217727661133,17.125131607055664,17.150371551513672,17.49110984802246,17.295503616333008,16.961074829101562,17.049407958984375,17.093582153320312,17.068340301513672,17.32704734802246,17.11250877380371,17.162988662719727,17.238937377929688,17.238937377929688,17.435115814208984,17.365497589111328,17.37816047668457,17.276899337768555,17.276899337768555,17.333858489990234,17.47941017150879,17.156665802001953,17.31487274169922,17.251588821411133,17.264244079589844,17.39714813232422,17.245262145996094,17.365497589111328,17.207286834716797,17.251588821411133,17.409801483154297,17.409801483154297,17.251588821411133,17.162986755371094,17.308544158935547,17.27057647705078,17.207286834716797,17.257915496826172,17.454097747802734,17.498401641845703,17.87811279296875,17.795846939086914,17.96038246154785,18.05531883239746,17.827482223510742,17.713571548461914,17.75786590576172,17.738887786865234,17.738887786865234,17.593326568603516,17.713571548461914,17.979373931884766,17.833812713623047,18.162899017333984,18.074295043945312,17.555362701416016,17.485742568969727,17.6566162109375,17.81482696533203,17.72623062133789,17.700910568237305,17.770524978637695,17.871784210205078,18.017335891723633,18.352754592895508,18.54894256591797,18.52996063232422,18.84006118774414,18.814735412597656,18.972949981689453,18.96662139892578,19.319290161132812,19.128847122192383,19.16411590576172,19.09358024597168,18.945466995239258,18.79734230041504,18.712703704833984,18.790283203125,18.762067794799805,18.88197898864746,18.91019058227539,19.220550537109375,19.107690811157227,19.206430435180664,19.276968002319336,19.09358024597168,19.29813575744629,19.206430435180664,19.10063362121582,19.220550537109375,19.206430435180664,19.12180519104004,19.157068252563477,19.015995025634766,19.008939743041992,19.09358024597168,19.023046493530273,19.051250457763672,18.938405990600586,19.008939743041992,18.973674774169922,18.87492561340332,18.846717834472656,18.86082649230957,18.93135643005371,18.8890323638916,18.867876052856445,18.811447143554688,18.903141021728516,18.853771209716797,18.8890323638916,18.529308319091797,18.423511505126953,18.564573287963867,18.324758529663086,18.24012565612793,18.091999053955078,18.106103897094727,18.35297203063965,18.34592056274414,18.416458129882812,18.46582794189453,18.53636932373047,18.61394691467285,18.6633243560791,18.46582794189453,18.564573287963867,18.451725006103516,18.508142471313477,18.388248443603516,18.38119125366211,18.317710876464844,18.34592056274414,18.345918655395508,18.246871948242188,18.1478214263916,18.02753448486328,17.850664138793945,17.829437255859375,17.949710845947266,17.86481285095215,17.80113983154297,17.88603973388672,17.87188720703125,17.808212280273438,17.808212280273438,18.020475387573242,17.970935821533203,17.907257080078125,17.99216079711914,17.751611709594727,17.765758514404297,17.624256134033203,17.4261474609375,17.362478256225586,17.199750900268555,17.121912002563477,16.973337173461914,17.107769012451172,17.17851448059082,17.121912002563477,16.92381477355957,17.09362030029297,17.10068702697754,17.065322875976562,17.143146514892578,17.312952041625977,17.45444679260254,17.758684158325195,17.645469665527344,17.666706085205078,17.914335250854492,17.71623420715332,17.574726104736328,17.305870056152344,17.440298080444336,17.4261474609375,17.206817626953125,17.88603973388672,17.673782348632812,17.680856704711914,17.518123626708984,17.680856704711914,17.298797607421875,17.900192260742188,17.850664138793945,17.94263458251953,17.836511611938477,17.850664138793945,17.84358787536621,17.765758514404297,17.617176055908203,17.624256134033203,17.68792152404785,17.900192260742188,18.091814041137695,18.07052230834961,18.240877151489258,18.39701271057129,18.269269943237305,18.347332000732422,18.276351928710938,18.247968673706055,18.38282012939453,18.503480911254883,18.311851501464844,18.318937301635742,18.30475425720215,18.04923439025879,18.006650924682617,18.106016159057617,18.02794075012207,18.106016159057617,18.04923439025879,17.964059829711914,17.999549865722656,17.928577423095703,17.772432327270508,17.772432327270508,17.822111129760742,17.85049819946289,17.793720245361328,17.964059829711914,17.772432327270508,17.779521942138672,17.793720245361328,17.807920455932617,17.630474090576172,17.538204193115234,17.72984504699707],\"type\":\"scatter\"},{\"mode\":\"lines+markers\",\"name\":\"predicted\",\"x\":[\"2002-07-08T00:00:00\",\"2002-07-09T00:00:00\",\"2002-07-10T00:00:00\",\"2002-07-11T00:00:00\",\"2002-07-12T00:00:00\",\"2002-07-15T00:00:00\",\"2002-07-16T00:00:00\",\"2002-07-17T00:00:00\",\"2002-07-18T00:00:00\",\"2002-07-19T00:00:00\",\"2002-07-22T00:00:00\",\"2002-07-23T00:00:00\",\"2002-07-24T00:00:00\",\"2002-07-25T00:00:00\",\"2002-07-26T00:00:00\",\"2002-07-29T00:00:00\",\"2002-07-30T00:00:00\",\"2002-07-31T00:00:00\",\"2002-08-01T00:00:00\",\"2002-08-02T00:00:00\",\"2002-08-05T00:00:00\",\"2002-08-06T00:00:00\",\"2002-08-07T00:00:00\",\"2002-08-08T00:00:00\",\"2002-08-09T00:00:00\",\"2002-08-12T00:00:00\",\"2002-08-13T00:00:00\",\"2002-08-14T00:00:00\",\"2002-08-15T00:00:00\",\"2002-08-16T00:00:00\",\"2002-08-19T00:00:00\",\"2002-08-20T00:00:00\",\"2002-08-21T00:00:00\",\"2002-08-22T00:00:00\",\"2002-08-23T00:00:00\",\"2002-08-26T00:00:00\",\"2002-08-27T00:00:00\",\"2002-08-28T00:00:00\",\"2002-08-29T00:00:00\",\"2002-08-30T00:00:00\",\"2002-09-03T00:00:00\",\"2002-09-04T00:00:00\",\"2002-09-05T00:00:00\",\"2002-09-06T00:00:00\",\"2002-09-09T00:00:00\",\"2002-09-10T00:00:00\",\"2002-09-11T00:00:00\",\"2002-09-12T00:00:00\",\"2002-09-13T00:00:00\",\"2002-09-16T00:00:00\",\"2002-09-17T00:00:00\",\"2002-09-18T00:00:00\",\"2002-09-19T00:00:00\",\"2002-09-20T00:00:00\",\"2002-09-23T00:00:00\",\"2002-09-24T00:00:00\",\"2002-09-25T00:00:00\",\"2002-09-26T00:00:00\",\"2002-09-27T00:00:00\",\"2002-09-30T00:00:00\",\"2002-10-01T00:00:00\",\"2002-10-02T00:00:00\",\"2002-10-03T00:00:00\",\"2002-10-04T00:00:00\",\"2002-10-07T00:00:00\",\"2002-10-08T00:00:00\",\"2002-10-09T00:00:00\",\"2002-10-10T00:00:00\",\"2002-10-11T00:00:00\",\"2002-10-14T00:00:00\",\"2002-10-15T00:00:00\",\"2002-10-16T00:00:00\",\"2002-10-17T00:00:00\",\"2002-10-18T00:00:00\",\"2002-10-21T00:00:00\",\"2002-10-22T00:00:00\",\"2002-10-23T00:00:00\",\"2002-10-24T00:00:00\",\"2002-10-25T00:00:00\",\"2002-10-28T00:00:00\",\"2002-10-29T00:00:00\",\"2002-10-30T00:00:00\",\"2002-10-31T00:00:00\",\"2002-11-01T00:00:00\",\"2002-11-04T00:00:00\",\"2002-11-05T00:00:00\",\"2002-11-06T00:00:00\",\"2002-11-07T00:00:00\",\"2002-11-08T00:00:00\",\"2002-11-11T00:00:00\",\"2002-11-12T00:00:00\",\"2002-11-13T00:00:00\",\"2002-11-14T00:00:00\",\"2002-11-15T00:00:00\",\"2002-11-18T00:00:00\",\"2002-11-19T00:00:00\",\"2002-11-20T00:00:00\",\"2002-11-21T00:00:00\",\"2002-11-22T00:00:00\",\"2002-11-25T00:00:00\",\"2002-11-26T00:00:00\",\"2002-11-27T00:00:00\",\"2002-11-29T00:00:00\",\"2002-12-02T00:00:00\",\"2002-12-03T00:00:00\",\"2002-12-04T00:00:00\",\"2002-12-05T00:00:00\",\"2002-12-06T00:00:00\",\"2002-12-09T00:00:00\",\"2002-12-10T00:00:00\",\"2002-12-11T00:00:00\",\"2002-12-12T00:00:00\",\"2002-12-13T00:00:00\",\"2002-12-16T00:00:00\",\"2002-12-17T00:00:00\",\"2002-12-18T00:00:00\",\"2002-12-19T00:00:00\",\"2002-12-20T00:00:00\",\"2002-12-23T00:00:00\",\"2002-12-24T00:00:00\",\"2002-12-26T00:00:00\",\"2002-12-27T00:00:00\",\"2002-12-30T00:00:00\",\"2002-12-31T00:00:00\",\"2003-01-02T00:00:00\",\"2003-01-03T00:00:00\",\"2003-01-06T00:00:00\",\"2003-01-07T00:00:00\",\"2003-01-08T00:00:00\",\"2003-01-09T00:00:00\",\"2003-01-10T00:00:00\",\"2003-01-13T00:00:00\",\"2003-01-14T00:00:00\",\"2003-01-15T00:00:00\",\"2003-01-16T00:00:00\",\"2003-01-17T00:00:00\",\"2003-01-21T00:00:00\",\"2003-01-22T00:00:00\",\"2003-01-23T00:00:00\",\"2003-01-24T00:00:00\",\"2003-01-27T00:00:00\",\"2003-01-28T00:00:00\",\"2003-01-29T00:00:00\",\"2003-01-30T00:00:00\",\"2003-01-31T00:00:00\",\"2003-02-03T00:00:00\",\"2003-02-04T00:00:00\",\"2003-02-05T00:00:00\",\"2003-02-06T00:00:00\",\"2003-02-07T00:00:00\",\"2003-02-10T00:00:00\",\"2003-02-11T00:00:00\",\"2003-02-12T00:00:00\",\"2003-02-13T00:00:00\",\"2003-02-14T00:00:00\",\"2003-02-18T00:00:00\",\"2003-02-19T00:00:00\",\"2003-02-20T00:00:00\",\"2003-02-21T00:00:00\",\"2003-02-24T00:00:00\",\"2003-02-25T00:00:00\",\"2003-02-26T00:00:00\",\"2003-02-27T00:00:00\",\"2003-02-28T00:00:00\",\"2003-03-03T00:00:00\",\"2003-03-04T00:00:00\",\"2003-03-05T00:00:00\",\"2003-03-06T00:00:00\",\"2003-03-07T00:00:00\",\"2003-03-10T00:00:00\",\"2003-03-11T00:00:00\",\"2003-03-12T00:00:00\",\"2003-03-13T00:00:00\",\"2003-03-14T00:00:00\",\"2003-03-17T00:00:00\",\"2003-03-18T00:00:00\",\"2003-03-19T00:00:00\",\"2003-03-20T00:00:00\",\"2003-03-21T00:00:00\",\"2003-03-24T00:00:00\",\"2003-03-25T00:00:00\",\"2003-03-26T00:00:00\",\"2003-03-27T00:00:00\",\"2003-03-28T00:00:00\",\"2003-03-31T00:00:00\",\"2003-04-01T00:00:00\",\"2003-04-02T00:00:00\",\"2003-04-03T00:00:00\",\"2003-04-04T00:00:00\",\"2003-04-07T00:00:00\",\"2003-04-08T00:00:00\",\"2003-04-09T00:00:00\",\"2003-04-10T00:00:00\",\"2003-04-11T00:00:00\",\"2003-04-14T00:00:00\",\"2003-04-15T00:00:00\",\"2003-04-16T00:00:00\",\"2003-04-17T00:00:00\",\"2003-04-21T00:00:00\",\"2003-04-22T00:00:00\",\"2003-04-23T00:00:00\",\"2003-04-24T00:00:00\",\"2003-04-25T00:00:00\",\"2003-04-28T00:00:00\",\"2003-04-29T00:00:00\",\"2003-04-30T00:00:00\",\"2003-05-01T00:00:00\",\"2003-05-02T00:00:00\",\"2003-05-05T00:00:00\",\"2003-05-06T00:00:00\",\"2003-05-07T00:00:00\",\"2003-05-08T00:00:00\",\"2003-05-09T00:00:00\",\"2003-05-12T00:00:00\",\"2003-05-13T00:00:00\",\"2003-05-14T00:00:00\",\"2003-05-15T00:00:00\",\"2003-05-16T00:00:00\",\"2003-05-19T00:00:00\",\"2003-05-20T00:00:00\",\"2003-05-21T00:00:00\",\"2003-05-22T00:00:00\",\"2003-05-23T00:00:00\",\"2003-05-27T00:00:00\",\"2003-05-28T00:00:00\",\"2003-05-29T00:00:00\",\"2003-05-30T00:00:00\",\"2003-06-02T00:00:00\",\"2003-06-03T00:00:00\",\"2003-06-04T00:00:00\",\"2003-06-05T00:00:00\",\"2003-06-06T00:00:00\",\"2003-06-09T00:00:00\",\"2003-06-10T00:00:00\",\"2003-06-11T00:00:00\",\"2003-06-12T00:00:00\",\"2003-06-13T00:00:00\",\"2003-06-16T00:00:00\",\"2003-06-17T00:00:00\",\"2003-06-18T00:00:00\",\"2003-06-19T00:00:00\",\"2003-06-20T00:00:00\",\"2003-06-23T00:00:00\",\"2003-06-24T00:00:00\",\"2003-06-25T00:00:00\",\"2003-06-26T00:00:00\",\"2003-06-27T00:00:00\",\"2003-06-30T00:00:00\",\"2003-07-01T00:00:00\",\"2003-07-02T00:00:00\",\"2003-07-03T00:00:00\",\"2003-07-07T00:00:00\",\"2003-07-08T00:00:00\",\"2003-07-09T00:00:00\",\"2003-07-10T00:00:00\",\"2003-07-11T00:00:00\",\"2003-07-14T00:00:00\",\"2003-07-15T00:00:00\",\"2003-07-16T00:00:00\",\"2003-07-17T00:00:00\",\"2003-07-18T00:00:00\",\"2003-07-21T00:00:00\",\"2003-07-22T00:00:00\",\"2003-07-23T00:00:00\",\"2003-07-24T00:00:00\",\"2003-07-25T00:00:00\",\"2003-07-28T00:00:00\",\"2003-07-29T00:00:00\",\"2003-07-30T00:00:00\",\"2003-07-31T00:00:00\",\"2003-08-01T00:00:00\",\"2003-08-04T00:00:00\",\"2003-08-05T00:00:00\",\"2003-08-06T00:00:00\",\"2003-08-07T00:00:00\",\"2003-08-08T00:00:00\",\"2003-08-11T00:00:00\",\"2003-08-12T00:00:00\",\"2003-08-13T00:00:00\",\"2003-08-14T00:00:00\",\"2003-08-15T00:00:00\",\"2003-08-18T00:00:00\",\"2003-08-19T00:00:00\",\"2003-08-20T00:00:00\",\"2003-08-21T00:00:00\",\"2003-08-22T00:00:00\",\"2003-08-25T00:00:00\",\"2003-08-26T00:00:00\",\"2003-08-27T00:00:00\",\"2003-08-28T00:00:00\",\"2003-08-29T00:00:00\",\"2003-09-02T00:00:00\",\"2003-09-03T00:00:00\",\"2003-09-04T00:00:00\",\"2003-09-05T00:00:00\",\"2003-09-08T00:00:00\",\"2003-09-09T00:00:00\",\"2003-09-10T00:00:00\",\"2003-09-11T00:00:00\",\"2003-09-12T00:00:00\",\"2003-09-15T00:00:00\",\"2003-09-16T00:00:00\",\"2003-09-17T00:00:00\",\"2003-09-18T00:00:00\",\"2003-09-19T00:00:00\",\"2003-09-22T00:00:00\",\"2003-09-23T00:00:00\",\"2003-09-24T00:00:00\",\"2003-09-25T00:00:00\",\"2003-09-26T00:00:00\",\"2003-09-29T00:00:00\",\"2003-09-30T00:00:00\",\"2003-10-01T00:00:00\",\"2003-10-02T00:00:00\",\"2003-10-03T00:00:00\",\"2003-10-06T00:00:00\",\"2003-10-07T00:00:00\",\"2003-10-08T00:00:00\",\"2003-10-09T00:00:00\",\"2003-10-10T00:00:00\",\"2003-10-13T00:00:00\",\"2003-10-14T00:00:00\",\"2003-10-15T00:00:00\",\"2003-10-16T00:00:00\",\"2003-10-17T00:00:00\",\"2003-10-20T00:00:00\",\"2003-10-21T00:00:00\",\"2003-10-22T00:00:00\",\"2003-10-23T00:00:00\",\"2003-10-24T00:00:00\",\"2003-10-27T00:00:00\",\"2003-10-28T00:00:00\",\"2003-10-29T00:00:00\",\"2003-10-30T00:00:00\",\"2003-10-31T00:00:00\",\"2003-11-03T00:00:00\",\"2003-11-04T00:00:00\",\"2003-11-05T00:00:00\",\"2003-11-06T00:00:00\",\"2003-11-07T00:00:00\",\"2003-11-10T00:00:00\",\"2003-11-11T00:00:00\",\"2003-11-12T00:00:00\",\"2003-11-13T00:00:00\",\"2003-11-14T00:00:00\",\"2003-11-17T00:00:00\",\"2003-11-18T00:00:00\",\"2003-11-19T00:00:00\",\"2003-11-20T00:00:00\",\"2003-11-21T00:00:00\",\"2003-11-24T00:00:00\",\"2003-11-25T00:00:00\",\"2003-11-26T00:00:00\",\"2003-11-28T00:00:00\",\"2003-12-01T00:00:00\",\"2003-12-02T00:00:00\",\"2003-12-03T00:00:00\",\"2003-12-04T00:00:00\",\"2003-12-05T00:00:00\",\"2003-12-08T00:00:00\",\"2003-12-09T00:00:00\",\"2003-12-10T00:00:00\",\"2003-12-11T00:00:00\",\"2003-12-12T00:00:00\",\"2003-12-15T00:00:00\",\"2003-12-16T00:00:00\",\"2003-12-17T00:00:00\",\"2003-12-18T00:00:00\",\"2003-12-19T00:00:00\",\"2003-12-22T00:00:00\",\"2003-12-23T00:00:00\",\"2003-12-24T00:00:00\",\"2003-12-26T00:00:00\",\"2003-12-29T00:00:00\",\"2003-12-30T00:00:00\",\"2003-12-31T00:00:00\",\"2004-01-02T00:00:00\",\"2004-01-05T00:00:00\",\"2004-01-06T00:00:00\",\"2004-01-07T00:00:00\",\"2004-01-08T00:00:00\",\"2004-01-09T00:00:00\",\"2004-01-12T00:00:00\",\"2004-01-13T00:00:00\",\"2004-01-14T00:00:00\",\"2004-01-15T00:00:00\",\"2004-01-16T00:00:00\",\"2004-01-20T00:00:00\",\"2004-01-21T00:00:00\",\"2004-01-22T00:00:00\",\"2004-01-23T00:00:00\",\"2004-01-26T00:00:00\",\"2004-01-27T00:00:00\",\"2004-01-28T00:00:00\",\"2004-01-29T00:00:00\",\"2004-01-30T00:00:00\",\"2004-02-02T00:00:00\",\"2004-02-03T00:00:00\",\"2004-02-04T00:00:00\",\"2004-02-05T00:00:00\",\"2004-02-06T00:00:00\",\"2004-02-09T00:00:00\",\"2004-02-10T00:00:00\",\"2004-02-11T00:00:00\",\"2004-02-12T00:00:00\",\"2004-02-13T00:00:00\",\"2004-02-17T00:00:00\",\"2004-02-18T00:00:00\",\"2004-02-19T00:00:00\",\"2004-02-20T00:00:00\",\"2004-02-23T00:00:00\",\"2004-02-24T00:00:00\",\"2004-02-25T00:00:00\",\"2004-02-26T00:00:00\",\"2004-02-27T00:00:00\",\"2004-03-01T00:00:00\",\"2004-03-02T00:00:00\",\"2004-03-03T00:00:00\",\"2004-03-04T00:00:00\",\"2004-03-05T00:00:00\",\"2004-03-08T00:00:00\",\"2004-03-09T00:00:00\",\"2004-03-10T00:00:00\",\"2004-03-11T00:00:00\",\"2004-03-12T00:00:00\",\"2004-03-15T00:00:00\",\"2004-03-16T00:00:00\",\"2004-03-17T00:00:00\",\"2004-03-18T00:00:00\",\"2004-03-19T00:00:00\",\"2004-03-22T00:00:00\",\"2004-03-23T00:00:00\",\"2004-03-24T00:00:00\",\"2004-03-25T00:00:00\",\"2004-03-26T00:00:00\",\"2004-03-29T00:00:00\",\"2004-03-30T00:00:00\",\"2004-03-31T00:00:00\",\"2004-04-01T00:00:00\",\"2004-04-02T00:00:00\",\"2004-04-05T00:00:00\",\"2004-04-06T00:00:00\",\"2004-04-07T00:00:00\",\"2004-04-08T00:00:00\",\"2004-04-12T00:00:00\",\"2004-04-13T00:00:00\",\"2004-04-14T00:00:00\",\"2004-04-15T00:00:00\",\"2004-04-16T00:00:00\",\"2004-04-19T00:00:00\",\"2004-04-20T00:00:00\",\"2004-04-21T00:00:00\",\"2004-04-22T00:00:00\",\"2004-04-23T00:00:00\",\"2004-04-26T00:00:00\",\"2004-04-27T00:00:00\",\"2004-04-28T00:00:00\",\"2004-04-29T00:00:00\",\"2004-04-30T00:00:00\",\"2004-05-03T00:00:00\",\"2004-05-04T00:00:00\",\"2004-05-05T00:00:00\",\"2004-05-06T00:00:00\",\"2004-05-07T00:00:00\",\"2004-05-10T00:00:00\",\"2004-05-11T00:00:00\",\"2004-05-12T00:00:00\",\"2004-05-13T00:00:00\",\"2004-05-14T00:00:00\",\"2004-05-17T00:00:00\",\"2004-05-18T00:00:00\",\"2004-05-19T00:00:00\",\"2004-05-20T00:00:00\",\"2004-05-21T00:00:00\",\"2004-05-24T00:00:00\",\"2004-05-25T00:00:00\",\"2004-05-26T00:00:00\",\"2004-05-27T00:00:00\",\"2004-05-28T00:00:00\",\"2004-06-01T00:00:00\",\"2004-06-02T00:00:00\",\"2004-06-03T00:00:00\",\"2004-06-04T00:00:00\",\"2004-06-07T00:00:00\",\"2004-06-08T00:00:00\",\"2004-06-09T00:00:00\",\"2004-06-10T00:00:00\",\"2004-06-14T00:00:00\",\"2004-06-15T00:00:00\",\"2004-06-16T00:00:00\",\"2004-06-17T00:00:00\",\"2004-06-18T00:00:00\",\"2004-06-21T00:00:00\",\"2004-06-22T00:00:00\",\"2004-06-23T00:00:00\",\"2004-06-24T00:00:00\",\"2004-06-25T00:00:00\",\"2004-06-28T00:00:00\",\"2004-06-29T00:00:00\",\"2004-06-30T00:00:00\",\"2004-07-01T00:00:00\",\"2004-07-02T00:00:00\",\"2004-07-06T00:00:00\",\"2004-07-07T00:00:00\",\"2004-07-08T00:00:00\",\"2004-07-09T00:00:00\",\"2004-07-12T00:00:00\",\"2004-07-13T00:00:00\",\"2004-07-14T00:00:00\",\"2004-07-15T00:00:00\",\"2004-07-16T00:00:00\",\"2004-07-19T00:00:00\",\"2004-07-20T00:00:00\",\"2004-07-21T00:00:00\",\"2004-07-22T00:00:00\",\"2004-07-23T00:00:00\",\"2004-07-26T00:00:00\",\"2004-07-27T00:00:00\",\"2004-07-28T00:00:00\",\"2004-07-29T00:00:00\",\"2004-07-30T00:00:00\",\"2004-08-02T00:00:00\",\"2004-08-03T00:00:00\",\"2004-08-04T00:00:00\",\"2004-08-05T00:00:00\",\"2004-08-06T00:00:00\",\"2004-08-09T00:00:00\",\"2004-08-10T00:00:00\",\"2004-08-11T00:00:00\",\"2004-08-12T00:00:00\",\"2004-08-13T00:00:00\",\"2004-08-16T00:00:00\",\"2004-08-17T00:00:00\",\"2004-08-18T00:00:00\",\"2004-08-19T00:00:00\",\"2004-08-20T00:00:00\",\"2004-08-23T00:00:00\",\"2004-08-24T00:00:00\",\"2004-08-25T00:00:00\",\"2004-08-26T00:00:00\",\"2004-08-27T00:00:00\",\"2004-08-30T00:00:00\",\"2004-08-31T00:00:00\",\"2004-09-01T00:00:00\",\"2004-09-02T00:00:00\",\"2004-09-03T00:00:00\",\"2004-09-07T00:00:00\",\"2004-09-08T00:00:00\",\"2004-09-09T00:00:00\",\"2004-09-10T00:00:00\",\"2004-09-13T00:00:00\",\"2004-09-14T00:00:00\",\"2004-09-15T00:00:00\",\"2004-09-16T00:00:00\",\"2004-09-17T00:00:00\",\"2004-09-20T00:00:00\",\"2004-09-21T00:00:00\",\"2004-09-22T00:00:00\",\"2004-09-23T00:00:00\",\"2004-09-24T00:00:00\",\"2004-09-27T00:00:00\",\"2004-09-28T00:00:00\",\"2004-09-29T00:00:00\",\"2004-09-30T00:00:00\",\"2004-10-01T00:00:00\",\"2004-10-04T00:00:00\",\"2004-10-05T00:00:00\",\"2004-10-06T00:00:00\",\"2004-10-07T00:00:00\",\"2004-10-08T00:00:00\",\"2004-10-11T00:00:00\",\"2004-10-12T00:00:00\",\"2004-10-13T00:00:00\",\"2004-10-14T00:00:00\",\"2004-10-15T00:00:00\",\"2004-10-18T00:00:00\",\"2004-10-19T00:00:00\",\"2004-10-20T00:00:00\",\"2004-10-21T00:00:00\",\"2004-10-22T00:00:00\",\"2004-10-25T00:00:00\",\"2004-10-26T00:00:00\",\"2004-10-27T00:00:00\",\"2004-10-28T00:00:00\",\"2004-10-29T00:00:00\",\"2004-11-01T00:00:00\",\"2004-11-02T00:00:00\",\"2004-11-03T00:00:00\",\"2004-11-04T00:00:00\",\"2004-11-05T00:00:00\",\"2004-11-08T00:00:00\",\"2004-11-09T00:00:00\",\"2004-11-10T00:00:00\",\"2004-11-11T00:00:00\",\"2004-11-12T00:00:00\",\"2004-11-15T00:00:00\",\"2004-11-16T00:00:00\",\"2004-11-17T00:00:00\",\"2004-11-18T00:00:00\",\"2004-11-19T00:00:00\",\"2004-11-22T00:00:00\",\"2004-11-23T00:00:00\",\"2004-11-24T00:00:00\",\"2004-11-26T00:00:00\",\"2004-11-29T00:00:00\",\"2004-11-30T00:00:00\",\"2004-12-01T00:00:00\",\"2004-12-02T00:00:00\",\"2004-12-03T00:00:00\",\"2004-12-06T00:00:00\",\"2004-12-07T00:00:00\",\"2004-12-08T00:00:00\",\"2004-12-09T00:00:00\",\"2004-12-10T00:00:00\",\"2004-12-13T00:00:00\",\"2004-12-14T00:00:00\",\"2004-12-15T00:00:00\",\"2004-12-16T00:00:00\",\"2004-12-17T00:00:00\",\"2004-12-20T00:00:00\",\"2004-12-21T00:00:00\",\"2004-12-22T00:00:00\",\"2004-12-23T00:00:00\",\"2004-12-27T00:00:00\",\"2004-12-28T00:00:00\",\"2004-12-29T00:00:00\",\"2004-12-30T00:00:00\",\"2004-12-31T00:00:00\",\"2005-01-03T00:00:00\",\"2005-01-04T00:00:00\",\"2005-01-05T00:00:00\",\"2005-01-06T00:00:00\",\"2005-01-07T00:00:00\",\"2005-01-10T00:00:00\",\"2005-01-11T00:00:00\",\"2005-01-12T00:00:00\",\"2005-01-13T00:00:00\",\"2005-01-14T00:00:00\",\"2005-01-18T00:00:00\",\"2005-01-19T00:00:00\",\"2005-01-20T00:00:00\",\"2005-01-21T00:00:00\",\"2005-01-24T00:00:00\",\"2005-01-25T00:00:00\",\"2005-01-26T00:00:00\",\"2005-01-27T00:00:00\",\"2005-01-28T00:00:00\",\"2005-01-31T00:00:00\",\"2005-02-01T00:00:00\",\"2005-02-02T00:00:00\",\"2005-02-03T00:00:00\",\"2005-02-04T00:00:00\",\"2005-02-07T00:00:00\",\"2005-02-08T00:00:00\",\"2005-02-09T00:00:00\",\"2005-02-10T00:00:00\",\"2005-02-11T00:00:00\",\"2005-02-14T00:00:00\",\"2005-02-15T00:00:00\",\"2005-02-16T00:00:00\",\"2005-02-17T00:00:00\",\"2005-02-18T00:00:00\",\"2005-02-22T00:00:00\",\"2005-02-23T00:00:00\",\"2005-02-24T00:00:00\",\"2005-02-25T00:00:00\",\"2005-02-28T00:00:00\",\"2005-03-01T00:00:00\",\"2005-03-02T00:00:00\",\"2005-03-03T00:00:00\",\"2005-03-04T00:00:00\",\"2005-03-07T00:00:00\",\"2005-03-08T00:00:00\",\"2005-03-09T00:00:00\",\"2005-03-10T00:00:00\",\"2005-03-11T00:00:00\",\"2005-03-14T00:00:00\",\"2005-03-15T00:00:00\",\"2005-03-16T00:00:00\",\"2005-03-17T00:00:00\",\"2005-03-18T00:00:00\",\"2005-03-21T00:00:00\",\"2005-03-22T00:00:00\",\"2005-03-23T00:00:00\",\"2005-03-24T00:00:00\",\"2005-03-28T00:00:00\",\"2005-03-29T00:00:00\",\"2005-03-30T00:00:00\",\"2005-03-31T00:00:00\",\"2005-04-01T00:00:00\",\"2005-04-04T00:00:00\",\"2005-04-05T00:00:00\",\"2005-04-06T00:00:00\",\"2005-04-07T00:00:00\",\"2005-04-08T00:00:00\",\"2005-04-11T00:00:00\",\"2005-04-12T00:00:00\",\"2005-04-13T00:00:00\",\"2005-04-14T00:00:00\",\"2005-04-15T00:00:00\",\"2005-04-18T00:00:00\",\"2005-04-19T00:00:00\",\"2005-04-20T00:00:00\",\"2005-04-21T00:00:00\",\"2005-04-22T00:00:00\",\"2005-04-25T00:00:00\",\"2005-04-26T00:00:00\",\"2005-04-27T00:00:00\",\"2005-04-28T00:00:00\",\"2005-04-29T00:00:00\",\"2005-05-02T00:00:00\",\"2005-05-03T00:00:00\",\"2005-05-04T00:00:00\",\"2005-05-05T00:00:00\",\"2005-05-06T00:00:00\",\"2005-05-09T00:00:00\",\"2005-05-10T00:00:00\",\"2005-05-11T00:00:00\",\"2005-05-12T00:00:00\",\"2005-05-13T00:00:00\",\"2005-05-16T00:00:00\",\"2005-05-17T00:00:00\",\"2005-05-18T00:00:00\",\"2005-05-19T00:00:00\",\"2005-05-20T00:00:00\",\"2005-05-23T00:00:00\",\"2005-05-24T00:00:00\",\"2005-05-25T00:00:00\",\"2005-05-26T00:00:00\",\"2005-05-27T00:00:00\",\"2005-05-31T00:00:00\",\"2005-06-01T00:00:00\",\"2005-06-02T00:00:00\",\"2005-06-03T00:00:00\",\"2005-06-06T00:00:00\",\"2005-06-07T00:00:00\",\"2005-06-08T00:00:00\",\"2005-06-09T00:00:00\",\"2005-06-10T00:00:00\",\"2005-06-13T00:00:00\",\"2005-06-14T00:00:00\",\"2005-06-15T00:00:00\",\"2005-06-16T00:00:00\",\"2005-06-17T00:00:00\",\"2005-06-20T00:00:00\",\"2005-06-21T00:00:00\",\"2005-06-22T00:00:00\",\"2005-06-23T00:00:00\",\"2005-06-24T00:00:00\",\"2005-06-27T00:00:00\",\"2005-06-28T00:00:00\",\"2005-06-29T00:00:00\",\"2005-06-30T00:00:00\",\"2005-07-01T00:00:00\",\"2005-07-05T00:00:00\",\"2005-07-06T00:00:00\",\"2005-07-07T00:00:00\",\"2005-07-08T00:00:00\",\"2005-07-09T00:00:00\",\"2005-07-10T00:00:00\",\"2005-07-11T00:00:00\",\"2005-07-12T00:00:00\",\"2005-07-13T00:00:00\",\"2005-07-14T00:00:00\",\"2005-07-15T00:00:00\",\"2005-07-16T00:00:00\",\"2005-07-17T00:00:00\",\"2005-07-18T00:00:00\",\"2005-07-19T00:00:00\",\"2005-07-20T00:00:00\",\"2005-07-21T00:00:00\",\"2005-07-22T00:00:00\",\"2005-07-23T00:00:00\",\"2005-07-24T00:00:00\",\"2005-07-25T00:00:00\",\"2005-07-26T00:00:00\",\"2005-07-27T00:00:00\",\"2005-07-28T00:00:00\",\"2005-07-29T00:00:00\",\"2005-07-30T00:00:00\",\"2005-07-31T00:00:00\",\"2005-08-01T00:00:00\",\"2005-08-02T00:00:00\",\"2005-08-03T00:00:00\",\"2005-08-04T00:00:00\",\"2005-08-05T00:00:00\",\"2005-08-06T00:00:00\",\"2005-08-07T00:00:00\",\"2005-08-08T00:00:00\",\"2005-08-09T00:00:00\",\"2005-08-10T00:00:00\",\"2005-08-11T00:00:00\",\"2005-08-12T00:00:00\",\"2005-08-13T00:00:00\",\"2005-08-14T00:00:00\",\"2005-08-15T00:00:00\",\"2005-08-16T00:00:00\",\"2005-08-17T00:00:00\",\"2005-08-18T00:00:00\",\"2005-08-19T00:00:00\",\"2005-08-20T00:00:00\",\"2005-08-21T00:00:00\",\"2005-08-22T00:00:00\",\"2005-08-23T00:00:00\",\"2005-08-24T00:00:00\",\"2005-08-25T00:00:00\",\"2005-08-26T00:00:00\",\"2005-08-27T00:00:00\",\"2005-08-28T00:00:00\",\"2005-08-29T00:00:00\",\"2005-08-30T00:00:00\",\"2005-08-31T00:00:00\",\"2005-09-01T00:00:00\",\"2005-09-02T00:00:00\",\"2005-09-03T00:00:00\",\"2005-09-04T00:00:00\",\"2005-09-05T00:00:00\",\"2005-09-06T00:00:00\",\"2005-09-07T00:00:00\",\"2005-09-08T00:00:00\",\"2005-09-09T00:00:00\",\"2005-09-10T00:00:00\",\"2005-09-11T00:00:00\",\"2005-09-12T00:00:00\",\"2005-09-13T00:00:00\",\"2005-09-14T00:00:00\",\"2005-09-15T00:00:00\",\"2005-09-16T00:00:00\",\"2005-09-17T00:00:00\",\"2005-09-18T00:00:00\",\"2005-09-19T00:00:00\",\"2005-09-20T00:00:00\",\"2005-09-21T00:00:00\",\"2005-09-22T00:00:00\",\"2005-09-23T00:00:00\",\"2005-09-24T00:00:00\",\"2005-09-25T00:00:00\",\"2005-09-26T00:00:00\",\"2005-09-27T00:00:00\",\"2005-09-28T00:00:00\",\"2005-09-29T00:00:00\",\"2005-09-30T00:00:00\",\"2005-10-01T00:00:00\",\"2005-10-02T00:00:00\",\"2005-10-03T00:00:00\",\"2005-10-04T00:00:00\",\"2005-10-05T00:00:00\",\"2005-10-06T00:00:00\",\"2005-10-07T00:00:00\",\"2005-10-08T00:00:00\",\"2005-10-09T00:00:00\",\"2005-10-10T00:00:00\",\"2005-10-11T00:00:00\",\"2005-10-12T00:00:00\",\"2005-10-13T00:00:00\",\"2005-10-14T00:00:00\",\"2005-10-15T00:00:00\",\"2005-10-16T00:00:00\",\"2005-10-17T00:00:00\",\"2005-10-18T00:00:00\",\"2005-10-19T00:00:00\",\"2005-10-20T00:00:00\",\"2005-10-21T00:00:00\",\"2005-10-22T00:00:00\",\"2005-10-23T00:00:00\",\"2005-10-24T00:00:00\",\"2005-10-25T00:00:00\",\"2005-10-26T00:00:00\",\"2005-10-27T00:00:00\",\"2005-10-28T00:00:00\",\"2005-10-29T00:00:00\",\"2005-10-30T00:00:00\",\"2005-10-31T00:00:00\",\"2005-11-01T00:00:00\",\"2005-11-02T00:00:00\",\"2005-11-03T00:00:00\",\"2005-11-04T00:00:00\",\"2005-11-05T00:00:00\",\"2005-11-06T00:00:00\",\"2005-11-07T00:00:00\",\"2005-11-08T00:00:00\",\"2005-11-09T00:00:00\",\"2005-11-10T00:00:00\",\"2005-11-11T00:00:00\",\"2005-11-12T00:00:00\",\"2005-11-13T00:00:00\",\"2005-11-14T00:00:00\",\"2005-11-15T00:00:00\",\"2005-11-16T00:00:00\",\"2005-11-17T00:00:00\",\"2005-11-18T00:00:00\",\"2005-11-19T00:00:00\",\"2005-11-20T00:00:00\",\"2005-11-21T00:00:00\",\"2005-11-22T00:00:00\",\"2005-11-23T00:00:00\",\"2005-11-24T00:00:00\",\"2005-11-25T00:00:00\",\"2005-11-26T00:00:00\",\"2005-11-27T00:00:00\",\"2005-11-28T00:00:00\",\"2005-11-29T00:00:00\",\"2005-11-30T00:00:00\",\"2005-12-01T00:00:00\",\"2005-12-02T00:00:00\"],\"y\":[15.484043316380985,15.498124148220002,15.536194675996756,15.535204015299728,15.506948324224371,15.528700699365931,15.49812845221089,15.4920120691267,15.448004314129731,15.378593976132372,15.294517890896422,15.2364525976181,15.207520678636273,15.145725597559098,15.063815486801651,14.975097492326597,14.926317454362879,14.911783552030418,14.86917993583373,14.810853551014345,14.814202047557318,14.801273465176969,14.824113285683694,14.81974519414628,14.79985759325424,14.913451267124707,14.933662938301977,14.987004832253083,15.010092255907894,15.014275177212218,15.177504080401228,15.206359482346313,15.2643920130649,15.288320041088536,15.289659250709201,15.424706387077409,15.438648284677523,15.479600083343637,15.484664367952337,15.465748649227876,15.527496069107377,15.546879513247676,15.53111309737294,15.492375460957575,15.511003692033489,15.489222121782289,15.496769392421465,15.471131341260259,15.424541720677148,15.432056174742563,15.410635883276244,15.42051468319292,15.399118615219457,15.358608963143478,15.39436592495584,15.385385900141749,15.409016022207853,15.402545069375446,15.37798592093914,15.466090276126364,15.475448356490318,15.517528876848994,15.529406831484096,15.522873862707666,15.660847449848932,15.684669576459596,15.739770650124727,15.763024598264874,15.766039958909662,15.920228980431402,15.944978728407138,15.998692010748009,16.018257727654515,16.015343054476723,16.139544725308138,16.150867183840724,16.18985442599484,16.193697297756618,16.17439192658529,16.248963614072046,16.244804551818255,16.269434208972044,16.260372224026472,16.229913314217747,16.283898593193754,16.27770328195395,16.30283102983469,16.296779346032196,16.271755391344872,16.35476309542465,16.361577460124654,16.400804065953125,16.40953341512724,16.399538961564136,16.5246193025653,16.542975583924154,16.591818516662443,16.605974016783925,16.598824263012364,16.714900425834827,16.724094246928804,16.76073511951052,16.738704308206067,16.794565176730167,16.780890102833762,16.7940940478145,16.77160463362651,16.72567634779773,16.72140884946332,16.692251668674178,16.692974527612158,16.66134088313834,16.609862033400265,16.611733635455114,16.59215237431789,16.605939705299495,16.590552354165016,16.558108492611638,16.628783585148046,16.634073639578688,16.681227217039158,16.67133450753642,16.794857023424964,16.811022561631045,16.867328857270703,16.855198743812014,16.943840856318488,16.93936135038315,16.959983774316832,16.942601594238482,16.898959209302163,16.88010473395828,16.837694168496064,16.820507596605676,16.76614308510148,16.687027480690368,16.510974460267487,16.474275388635302,16.404738211030818,16.31495377573519,16.20002498474392,16.140984650546535,16.115075520129505,16.059762708670707,15.987174759941297,15.936343565675601,15.900930952099142,15.898812755636813,15.866896143150095,15.816786339774731,15.823418168879172,15.802673019304338,15.812584400385145,15.78994385113656,15.746323277043256,15.732348194846026,15.73694723370406,15.707488919174446,15.655927405105771,15.639616725352795,15.606990212316239,15.603984933566432,15.568059117946303,15.511434950269988,15.490209126578945,15.459678211599796,15.46063401822407,15.430443157937427,15.381181245772842,15.389655361725561,15.370675227414702,15.383512110684178,15.365226050928044,15.32759426126866,15.366652847780156,15.355714800150636,15.375267231762766,15.362295683987446,15.328557159919145,15.371376468230938,15.359507565240055,15.377374252944598,15.362216299981538,15.326067954232974,15.363234682803464,15.350958245957914,15.36958603092185,15.356569483662268,15.324112184751362,15.38258112201661,15.380843525317209,15.411596364122724,15.412124504484241,15.39441123798112,15.501420394897345,15.516161122852113,15.562916743899338,15.578585109968937,15.712534167986727,15.732897322329553,15.782586539867598,15.79836043330964,15.791746471532507,15.903936599970288,15.910458252824236,15.944007882195319,15.941642693082935,15.915233854905242,15.9620287175427,15.946148367343083,15.957703022175417,15.93415815979584,15.887767692256086,15.885066257108981,15.85701759121504,15.858855040571914,15.828126432041417,15.777107497776695,15.775206755975088,15.75184688369363,15.76023960441793,15.737677486116752,15.696160893838407,15.716585192974618,15.736982442103967,15.726205007199015,15.69608683310487,15.758719883469883,15.75645542158504,15.785383014783287,15.78269085068422,15.760348667845694,15.846202616211299,15.852298836017974,15.890230392328915,15.897368634414345,15.885842377896246,16.0111124615562,16.03279475204193,16.087466573836846,16.112371989523886,16.119454355750413,16.30291945518614,16.34365436513252,16.416541304787092,16.458386036475723,16.480681921747312,16.695003806520106,16.739728381597185,16.812868799698848,16.850958708481652,17.0295538284736,17.049009523454735,17.092876819083283,17.09799362035499,17.076036158589154,17.1165492903528,17.091751857633295,17.090959375978617,17.051706648338342,16.986374023996635,16.909571730479737,16.852055096217846,16.82266504687804,16.759391099624626,16.67498611233171,16.573007095331672,16.518072422728814,16.49664987933208,16.446522318451976,16.380144992098103,16.35735589588565,16.33545964843705,16.34940583315194,16.336333131875488,16.308037917644857,16.399126805012465,16.412996842979002,16.460671326394355,16.478801151450437,16.47875763117872,16.63370064706282,16.66119656221661,16.71851127637491,16.742312925449898,16.744059325741752,16.882869187130794,16.8986761401343,16.941677528165602,16.948904705306273,16.92892262150627,16.98562190320205,17.003285638993503,16.985532054553257,16.94450823058087,16.95425606457246,16.928791624974473,16.932282410572427,16.902213250719036,16.850820471525807,16.841633449777405,16.813961537507524,16.81726985155921,16.789001282305502,16.741335733886796,16.754137683654204,16.73709063347366,16.752491276597166,16.737658706193418,16.704638296646436,16.767117538767305,16.767981710067993,16.801660027039116,16.805269490691607,16.790643845691395,16.897633081298146,16.911740174745304,16.957487445767306,16.971774895784478,16.966231443726933,17.097292924023876,17.115179563065368,17.162430698384398,17.175909477600886,17.167249136368,17.275809039185024,17.282266145915422,17.31645813541656,17.3155084424833,17.291344565781024,17.350274569973077,17.340339605202963,17.358823184581777,17.34320310592173,17.305741873686298,17.335897654151644,17.32082534884285,17.33664323357354,17.320887188519574,17.285813856990128,17.33724121101525,17.333301251830953,17.36179700411334,17.35990441174431,17.339481364348693,17.43521834040305,17.444666069728495,17.485124618988408,17.493364783103505,17.48087875676715,17.584400156708437,17.59047730418432,17.62445709640147,17.59818938484156,17.64908767926099,17.633731306149702,17.645066580130578,17.62041923842526,17.571947280838735,17.556903982193816,17.522890661903208,17.51805438654602,17.480141337136498,17.42758286965301,17.422180990094848,17.39901233424848,17.408761916901938,17.388985677457576,17.351911657556975,17.408451151968183,17.40936258792725,17.44390640048026,17.436155569381384,17.555238715129924,17.571578765225592,17.61796361075738,17.621546678628583,17.72329656548964,17.72450661137421,17.75131575300053,17.740501186263984,17.70368247332839,17.705521934926463,17.669646074913732,17.658604757320894,17.609884118237943,17.53581128422692,17.372466203307,17.336870291726623,17.267589773709215,17.17724011945338,17.056188630916342,16.993874318680845,16.96422586195164,16.904811837110778,16.82786894194229,16.763542950987624,16.72383716811131,16.717685678712886,16.68207515252087,16.628677777362736,16.628340365464517,16.60631222631063,16.61545996429032,16.59255255167074,16.5491259423033,16.539437250008124,16.545644073999444,16.517857064715596,16.46795420406733,16.455842815164686,16.424157506642015,16.421786901222713,16.38615894418395,16.329477281146428,16.305940191263442,16.27398072193061,16.273231925524268,16.241105011319277,16.189726524193233,16.191333207923865,16.170084851908282,16.18075638613535,16.160456809379944,16.121005660548033,16.156068252591087,16.144336397697305,16.163363835772685,16.150120511932045,16.116338170440496,16.160016502058962,16.148606000743193,16.166927498051056,16.15216441400411,16.116295584649478,16.15310791402933,16.140178592514246,16.157837709498434,16.14352222833758,16.109432076384714,16.16113038512632,16.156610380110838,16.18439241656975,16.181818862522576,16.25874344194617,16.270759007926433,16.31507801448006,16.328662438306523,16.323172657441933,16.458813752449874,16.47952719700494,16.530112013613724,16.547317698595815,16.542650093588733,16.663375315271026,16.673458966003576,16.710817435384513,16.712431998487034,16.69009458389476,16.748854106345775,16.736623819887754,16.751544374165462,16.73102314691654,16.68726519128204,16.68978403859987,16.662529121783358,16.66468855050102,16.63382724615989,16.582247782793438,16.576487447349923,16.551274436620737,16.5576193787372,16.532869669239613,16.489079080656317,16.51398112457393,16.500470856395726,16.51880353337215,16.506082721048926,16.474148956929174,16.528361580168305,16.555917146200724,16.551855115125438,16.528106449427316,16.609128449726256,16.61328976352987,16.649075766681886,16.653838967438503,16.755737141973903,16.773950944358006,16.825021405453143,16.84624597394391,16.849630674796206,17.022639226285097,17.060371422503916,17.130637809271786,17.170327259856286,17.19101215070836,17.40444848319465,17.45037028845071,17.52551082690585,17.566415756867887,17.584369862411254,17.790042610226813,17.840952714176296,17.853560410051237,17.839433245635142,17.904261885381818,17.887416131472353,17.894281446558303,17.862266292444136,17.80363105940488,17.742627795417377,17.688660138666098,17.661855656038924,17.600166878316756,17.51632806078693,17.410026330093046,17.35176475860667,17.3261747337223,17.271122769461854,17.1991600717044,17.156747115996158,17.127749196370253,17.13451736566123,17.11431107600118,17.079043129369065,17.151233989485434,17.1597807606156,17.202741846795213,17.216821377576533,17.2134298150459,17.36272110676349,17.389788404360463,17.447365968555502,17.472083326453347,17.475350206846503,17.62175834354546,17.64088707096738,17.687485623911865,17.698512576382385,17.685735101196194,17.77371050062541,17.77123005223644,17.795792129107017,17.78471746433653,17.75011394089081,17.756919524192636,17.76515763186809,17.739463043606555,17.69207011090118,17.69266734413349,17.667544153522087,17.673063850471564,17.646683868972616,17.600600513198046,17.61650132779136,17.60001054751133,17.615770129177825,17.60112680315834,17.568155716552795,17.63027364502358,17.630968113467876,17.664516956301057,17.668078236667938,17.653527585220154,17.770068110877993,17.78787924420119,17.837652480207645,17.856319815768465,17.855537536882398,18.00335693428397,18.027682434234258,18.081793820065894,18.102538945194073,18.101527375458513,18.234969936760496,18.25021020180777,18.293335714551873,18.301406127168228,18.286282071763548,18.371766659230513,18.370273719157638,18.396893036898486,18.389050341073244,18.358964079624936,18.408536129064334,18.39899046059299,18.41987083381322,18.408736642401845,18.37787999792854,18.440044895889546,18.439266009503186,18.47084146895888,18.472030798513625,18.4547772311743,18.561381278295393,18.57515969515098,18.620412206555873,18.63395983617806,18.62733254742239,18.751904380282934,18.766136820568985,18.80879321793885,18.80122577970041,18.88159326165798,18.876287426759447,18.897616688299234,18.882801960873824,18.843898430868446,18.855033760621655,18.828637183865247,18.8307605028461,18.799111119679374,18.746179442747653,18.73540626137321,18.709138986582005,18.715234031143126,18.69133003816443,18.649751227038426,18.691629405576577,18.687675573893518,18.717573035747577,18.71834520633115,18.81294863683193,18.828202760859323,18.87435101838348,18.887903567463837,18.880097234316906,18.991486046501986,18.99742444451544,19.029588189828207,19.02465279067474,18.994124124209083,19.016040676112777,18.98682074001632,18.982199049156797,18.939538182133578,18.871050671276816,18.723462053890103,18.68983941685414,18.621681297504765,18.53160428519464,18.40656131259422,18.34149452564546,18.30850972506138,18.24526920319682,18.164111508725778,18.08589375089199,18.04150393520652,18.030813983697108,17.990903234699733,17.933526253444917,17.923807010680026,17.89964307646573,17.907182088904197,17.883188708624793,17.839179857659424,17.853113026369222,17.831370484715208,17.838803217977336,17.81240199036897,17.763967721011046,17.72539375533152,17.723840879063207,17.688733461482517,17.632242010872446,17.60713825314732,17.57395166291061,17.571655337422232,17.53769488257618,17.48423959326958,17.478674424819484,17.454911567399567,17.463103386476675,17.44041387286927,17.39871294275115,17.42826879278963,17.415206720541175,17.43317784703356,17.41914934226333,17.38483986950823,17.428211875709582,17.416992637538087,17.435570648807342,17.421074495576022,17.42208246288264,17.40866522868644,17.425552883497275,17.410155394221086,17.374655595626198,17.4201508839454,17.412958297438006,17.43781903434843,17.432122624847608,17.40797207838873,17.49574729230864,17.5045805150911,17.545918813282366,17.556794194244386,17.548932580096597,17.680031504688856,17.700226000999674,17.750830788013968,17.76860205157521,17.765039681303442,17.892073086108663,17.905117528143077,17.945770941988695,17.950945526875316,17.93235841671713,18.00271757134674,17.99420485402537,18.012642418708953,17.995369858962203,17.954532011718438,17.963378064667257,17.9373203483449,17.940198855471927,17.909582218384276,17.857787520531804,17.848910329780445,17.821969801522528,17.826324774918874,17.79937673568391,17.753234362371025,17.770684454835422,17.754712957606102,17.770658429831027,17.755650777529613,17.721548312543568,17.768311720827292,17.794248354766925,17.788613932084125,17.763304360530977,17.839324464923816,17.84158240528356,17.87528825463372,17.87776658547689,17.861115289546607,17.96819455138817,17.982971328811455,18.030419618971454,18.047877365762318,18.04740149913361,18.208910740839215,18.243087856546406,18.31007517612217,18.34684657240693,18.365058197168313,18.57451476385955,18.620476033823454,18.696422700499728,18.73893123097962,18.759302313746556,18.98252869267896,19.039592105812996,19.058920837549202,19.051988264452458,19.98962642467174,20.00523461964735,19.14013489562701,19.13123103879867,19.14590720701264,19.121441296910852,19.06996617401284,19.96300177770873,19.93464972944911,19.026934339730595,18.97744699666816,18.95423041164897,18.89517816766891,18.812983029883412,19.679657338830665,19.629717391785846,18.705515946547152,18.644880024755,18.61599063550775,18.55677995758892,18.479879478281923,19.357142392803194,19.322832099702474,18.418960805030192,18.382935243605626,18.38244592677793,18.35487520751957,18.31225738396707,19.225813847083167,19.229154795904936,18.36363121635759,18.36599381826704,18.403295037809603,18.412309113021063,18.404503196308017,19.350582284529516,19.38369930223914,18.544813887297593,18.57035647060093,18.627133699601806,18.651750201085385,18.65557967936663,19.609308204649494,19.64614113989529,18.80715740218104,18.828967826022836,18.878613876765066,18.892981924559546,18.883766299818628,19.822004212702538,19.841274209174713,18.983042074053454,18.9843111472108,19.012513479195132,19.00491718988822,18.973583375948966,19.889895743830714,19.887754703208046,19.00891986139872,18.990657883757077,19.000632115587475,18.976309271617072,18.929916457818656,19.8329716021656,19.819478914348114,18.93127319054659,18.905669799182412,18.910356614757482,18.88280308267458,18.835219566781557,19.739089957057367,19.72836907566097,18.844828635636176,18.825708548104835,18.83860982762845,18.820904283902077,18.784694178490053,19.701344871072962,19.704682057901355,18.83633743553074,18.833399674915515,18.863307051071793,18.86325701380046,18.845165972737206,19.780202408434327,19.80198498785432,18.951929577515756,18.966902080702905,19.014113463781598,19.030532253407028,19.02784774976127,19.97700701465449,20.01141723617268,19.17229726412936,19.196335124329366,19.250587741829015,19.271898008294546,19.271862284297367,20.2213712389441,20.253815475124963,19.410439589979287,19.42800134780471,19.473672084171323,19.484453388621855,19.472143097085944,20.407873467882794,20.425312994689776,19.566015546170814,19.567073584888625,19.59601169422372,19.590195603164418,19.561789912247686,20.482287592148523,20.485702926563306,19.613911822103585,19.604296479338128,19.624630896682447,19.612482634512066,19.58016426746361,20.499257801423806,20.503803905457303,19.635640027619488,19.63204449743299,19.660623153374164,19.658713944452032,19.638342908464118,20.570754730527476,20.589609612367276,19.736330356852747,19.747756564887744,19.79104224084828,19.803071982930348,19.795428864597234,20.738936898406305,20.766869492832164,19.920307487877615,19.935803357961777,19.980287588613223,19.990492140867385,19.97792388240117,20.91341069153704,20.9303115077896,20.06987383048009,20.068895225856274,20.094624878966922,20.084180192120495,20.049511453517464],\"type\":\"scatter\"}],                        {\"template\":{\"data\":{\"bar\":[{\"error_x\":{\"color\":\"#2a3f5f\"},\"error_y\":{\"color\":\"#2a3f5f\"},\"marker\":{\"line\":{\"color\":\"#E5ECF6\",\"width\":0.5},\"pattern\":{\"fillmode\":\"overlay\",\"size\":10,\"solidity\":0.2}},\"type\":\"bar\"}],\"barpolar\":[{\"marker\":{\"line\":{\"color\":\"#E5ECF6\",\"width\":0.5},\"pattern\":{\"fillmode\":\"overlay\",\"size\":10,\"solidity\":0.2}},\"type\":\"barpolar\"}],\"carpet\":[{\"aaxis\":{\"endlinecolor\":\"#2a3f5f\",\"gridcolor\":\"white\",\"linecolor\":\"white\",\"minorgridcolor\":\"white\",\"startlinecolor\":\"#2a3f5f\"},\"baxis\":{\"endlinecolor\":\"#2a3f5f\",\"gridcolor\":\"white\",\"linecolor\":\"white\",\"minorgridcolor\":\"white\",\"startlinecolor\":\"#2a3f5f\"},\"type\":\"carpet\"}],\"choropleth\":[{\"colorbar\":{\"outlinewidth\":0,\"ticks\":\"\"},\"type\":\"choropleth\"}],\"contour\":[{\"colorbar\":{\"outlinewidth\":0,\"ticks\":\"\"},\"colorscale\":[[0.0,\"#0d0887\"],[0.1111111111111111,\"#46039f\"],[0.2222222222222222,\"#7201a8\"],[0.3333333333333333,\"#9c179e\"],[0.4444444444444444,\"#bd3786\"],[0.5555555555555556,\"#d8576b\"],[0.6666666666666666,\"#ed7953\"],[0.7777777777777778,\"#fb9f3a\"],[0.8888888888888888,\"#fdca26\"],[1.0,\"#f0f921\"]],\"type\":\"contour\"}],\"contourcarpet\":[{\"colorbar\":{\"outlinewidth\":0,\"ticks\":\"\"},\"type\":\"contourcarpet\"}],\"heatmap\":[{\"colorbar\":{\"outlinewidth\":0,\"ticks\":\"\"},\"colorscale\":[[0.0,\"#0d0887\"],[0.1111111111111111,\"#46039f\"],[0.2222222222222222,\"#7201a8\"],[0.3333333333333333,\"#9c179e\"],[0.4444444444444444,\"#bd3786\"],[0.5555555555555556,\"#d8576b\"],[0.6666666666666666,\"#ed7953\"],[0.7777777777777778,\"#fb9f3a\"],[0.8888888888888888,\"#fdca26\"],[1.0,\"#f0f921\"]],\"type\":\"heatmap\"}],\"heatmapgl\":[{\"colorbar\":{\"outlinewidth\":0,\"ticks\":\"\"},\"colorscale\":[[0.0,\"#0d0887\"],[0.1111111111111111,\"#46039f\"],[0.2222222222222222,\"#7201a8\"],[0.3333333333333333,\"#9c179e\"],[0.4444444444444444,\"#bd3786\"],[0.5555555555555556,\"#d8576b\"],[0.6666666666666666,\"#ed7953\"],[0.7777777777777778,\"#fb9f3a\"],[0.8888888888888888,\"#fdca26\"],[1.0,\"#f0f921\"]],\"type\":\"heatmapgl\"}],\"histogram\":[{\"marker\":{\"pattern\":{\"fillmode\":\"overlay\",\"size\":10,\"solidity\":0.2}},\"type\":\"histogram\"}],\"histogram2d\":[{\"colorbar\":{\"outlinewidth\":0,\"ticks\":\"\"},\"colorscale\":[[0.0,\"#0d0887\"],[0.1111111111111111,\"#46039f\"],[0.2222222222222222,\"#7201a8\"],[0.3333333333333333,\"#9c179e\"],[0.4444444444444444,\"#bd3786\"],[0.5555555555555556,\"#d8576b\"],[0.6666666666666666,\"#ed7953\"],[0.7777777777777778,\"#fb9f3a\"],[0.8888888888888888,\"#fdca26\"],[1.0,\"#f0f921\"]],\"type\":\"histogram2d\"}],\"histogram2dcontour\":[{\"colorbar\":{\"outlinewidth\":0,\"ticks\":\"\"},\"colorscale\":[[0.0,\"#0d0887\"],[0.1111111111111111,\"#46039f\"],[0.2222222222222222,\"#7201a8\"],[0.3333333333333333,\"#9c179e\"],[0.4444444444444444,\"#bd3786\"],[0.5555555555555556,\"#d8576b\"],[0.6666666666666666,\"#ed7953\"],[0.7777777777777778,\"#fb9f3a\"],[0.8888888888888888,\"#fdca26\"],[1.0,\"#f0f921\"]],\"type\":\"histogram2dcontour\"}],\"mesh3d\":[{\"colorbar\":{\"outlinewidth\":0,\"ticks\":\"\"},\"type\":\"mesh3d\"}],\"parcoords\":[{\"line\":{\"colorbar\":{\"outlinewidth\":0,\"ticks\":\"\"}},\"type\":\"parcoords\"}],\"pie\":[{\"automargin\":true,\"type\":\"pie\"}],\"scatter\":[{\"marker\":{\"colorbar\":{\"outlinewidth\":0,\"ticks\":\"\"}},\"type\":\"scatter\"}],\"scatter3d\":[{\"line\":{\"colorbar\":{\"outlinewidth\":0,\"ticks\":\"\"}},\"marker\":{\"colorbar\":{\"outlinewidth\":0,\"ticks\":\"\"}},\"type\":\"scatter3d\"}],\"scattercarpet\":[{\"marker\":{\"colorbar\":{\"outlinewidth\":0,\"ticks\":\"\"}},\"type\":\"scattercarpet\"}],\"scattergeo\":[{\"marker\":{\"colorbar\":{\"outlinewidth\":0,\"ticks\":\"\"}},\"type\":\"scattergeo\"}],\"scattergl\":[{\"marker\":{\"colorbar\":{\"outlinewidth\":0,\"ticks\":\"\"}},\"type\":\"scattergl\"}],\"scattermapbox\":[{\"marker\":{\"colorbar\":{\"outlinewidth\":0,\"ticks\":\"\"}},\"type\":\"scattermapbox\"}],\"scatterpolar\":[{\"marker\":{\"colorbar\":{\"outlinewidth\":0,\"ticks\":\"\"}},\"type\":\"scatterpolar\"}],\"scatterpolargl\":[{\"marker\":{\"colorbar\":{\"outlinewidth\":0,\"ticks\":\"\"}},\"type\":\"scatterpolargl\"}],\"scatterternary\":[{\"marker\":{\"colorbar\":{\"outlinewidth\":0,\"ticks\":\"\"}},\"type\":\"scatterternary\"}],\"surface\":[{\"colorbar\":{\"outlinewidth\":0,\"ticks\":\"\"},\"colorscale\":[[0.0,\"#0d0887\"],[0.1111111111111111,\"#46039f\"],[0.2222222222222222,\"#7201a8\"],[0.3333333333333333,\"#9c179e\"],[0.4444444444444444,\"#bd3786\"],[0.5555555555555556,\"#d8576b\"],[0.6666666666666666,\"#ed7953\"],[0.7777777777777778,\"#fb9f3a\"],[0.8888888888888888,\"#fdca26\"],[1.0,\"#f0f921\"]],\"type\":\"surface\"}],\"table\":[{\"cells\":{\"fill\":{\"color\":\"#EBF0F8\"},\"line\":{\"color\":\"white\"}},\"header\":{\"fill\":{\"color\":\"#C8D4E3\"},\"line\":{\"color\":\"white\"}},\"type\":\"table\"}]},\"layout\":{\"annotationdefaults\":{\"arrowcolor\":\"#2a3f5f\",\"arrowhead\":0,\"arrowwidth\":1},\"autotypenumbers\":\"strict\",\"coloraxis\":{\"colorbar\":{\"outlinewidth\":0,\"ticks\":\"\"}},\"colorscale\":{\"diverging\":[[0,\"#8e0152\"],[0.1,\"#c51b7d\"],[0.2,\"#de77ae\"],[0.3,\"#f1b6da\"],[0.4,\"#fde0ef\"],[0.5,\"#f7f7f7\"],[0.6,\"#e6f5d0\"],[0.7,\"#b8e186\"],[0.8,\"#7fbc41\"],[0.9,\"#4d9221\"],[1,\"#276419\"]],\"sequential\":[[0.0,\"#0d0887\"],[0.1111111111111111,\"#46039f\"],[0.2222222222222222,\"#7201a8\"],[0.3333333333333333,\"#9c179e\"],[0.4444444444444444,\"#bd3786\"],[0.5555555555555556,\"#d8576b\"],[0.6666666666666666,\"#ed7953\"],[0.7777777777777778,\"#fb9f3a\"],[0.8888888888888888,\"#fdca26\"],[1.0,\"#f0f921\"]],\"sequentialminus\":[[0.0,\"#0d0887\"],[0.1111111111111111,\"#46039f\"],[0.2222222222222222,\"#7201a8\"],[0.3333333333333333,\"#9c179e\"],[0.4444444444444444,\"#bd3786\"],[0.5555555555555556,\"#d8576b\"],[0.6666666666666666,\"#ed7953\"],[0.7777777777777778,\"#fb9f3a\"],[0.8888888888888888,\"#fdca26\"],[1.0,\"#f0f921\"]]},\"colorway\":[\"#636efa\",\"#EF553B\",\"#00cc96\",\"#ab63fa\",\"#FFA15A\",\"#19d3f3\",\"#FF6692\",\"#B6E880\",\"#FF97FF\",\"#FECB52\"],\"font\":{\"color\":\"#2a3f5f\"},\"geo\":{\"bgcolor\":\"white\",\"lakecolor\":\"white\",\"landcolor\":\"#E5ECF6\",\"showlakes\":true,\"showland\":true,\"subunitcolor\":\"white\"},\"hoverlabel\":{\"align\":\"left\"},\"hovermode\":\"closest\",\"mapbox\":{\"style\":\"light\"},\"paper_bgcolor\":\"white\",\"plot_bgcolor\":\"#E5ECF6\",\"polar\":{\"angularaxis\":{\"gridcolor\":\"white\",\"linecolor\":\"white\",\"ticks\":\"\"},\"bgcolor\":\"#E5ECF6\",\"radialaxis\":{\"gridcolor\":\"white\",\"linecolor\":\"white\",\"ticks\":\"\"}},\"scene\":{\"xaxis\":{\"backgroundcolor\":\"#E5ECF6\",\"gridcolor\":\"white\",\"gridwidth\":2,\"linecolor\":\"white\",\"showbackground\":true,\"ticks\":\"\",\"zerolinecolor\":\"white\"},\"yaxis\":{\"backgroundcolor\":\"#E5ECF6\",\"gridcolor\":\"white\",\"gridwidth\":2,\"linecolor\":\"white\",\"showbackground\":true,\"ticks\":\"\",\"zerolinecolor\":\"white\"},\"zaxis\":{\"backgroundcolor\":\"#E5ECF6\",\"gridcolor\":\"white\",\"gridwidth\":2,\"linecolor\":\"white\",\"showbackground\":true,\"ticks\":\"\",\"zerolinecolor\":\"white\"}},\"shapedefaults\":{\"line\":{\"color\":\"#2a3f5f\"}},\"ternary\":{\"aaxis\":{\"gridcolor\":\"white\",\"linecolor\":\"white\",\"ticks\":\"\"},\"baxis\":{\"gridcolor\":\"white\",\"linecolor\":\"white\",\"ticks\":\"\"},\"bgcolor\":\"#E5ECF6\",\"caxis\":{\"gridcolor\":\"white\",\"linecolor\":\"white\",\"ticks\":\"\"}},\"title\":{\"x\":0.05},\"xaxis\":{\"automargin\":true,\"gridcolor\":\"white\",\"linecolor\":\"white\",\"ticks\":\"\",\"title\":{\"standoff\":15},\"zerolinecolor\":\"white\",\"zerolinewidth\":2},\"yaxis\":{\"automargin\":true,\"gridcolor\":\"white\",\"linecolor\":\"white\",\"ticks\":\"\",\"title\":{\"standoff\":15},\"zerolinecolor\":\"white\",\"zerolinewidth\":2}}}},                        {\"responsive\": true}                    ).then(function(){\n",
              "                            \n",
              "var gd = document.getElementById('ad8aa345-5976-4e8d-9bbd-964894c2df95');\n",
              "var x = new MutationObserver(function (mutations, observer) {{\n",
              "        var display = window.getComputedStyle(gd).display;\n",
              "        if (!display || display === 'none') {{\n",
              "            console.log([gd, 'removed!']);\n",
              "            Plotly.purge(gd);\n",
              "            observer.disconnect();\n",
              "        }}\n",
              "}});\n",
              "\n",
              "// Listen for the removal of the full notebook cells\n",
              "var notebookContainer = gd.closest('#notebook-container');\n",
              "if (notebookContainer) {{\n",
              "    x.observe(notebookContainer, {childList: true});\n",
              "}}\n",
              "\n",
              "// Listen for the clearing of the current output cell\n",
              "var outputEl = gd.closest('.output');\n",
              "if (outputEl) {{\n",
              "    x.observe(outputEl, {childList: true});\n",
              "}}\n",
              "\n",
              "                        })                };                            </script>        </div>\n",
              "</body>\n",
              "</html>"
            ]
          },
          "metadata": {}
        }
      ]
    },
    {
      "cell_type": "markdown",
      "source": [
        "## Mean Absolute Error\n"
      ],
      "metadata": {
        "id": "GeHgsRRgVDXH"
      }
    },
    {
      "cell_type": "markdown",
      "source": [
        "Let us now understand the MAE (Mean Absolute Error).\n",
        "Absolute error refers to the magnitude of difference between the prediction of an observation and the true value of that observation.\n",
        "It is thus an arithmetic average of the absolute errors $MAE=\\frac{1}{n}\\sum_{i=1}^{n}|x_i-y_i|$ where ``` y{i}``` is the prediction and ```x{i}``` the true value. Note that alternative formulations may include relative frequencies as weight factors. The mean absolute error uses the same scale as the data being measured. This is known as a scale-dependent accuracy measure and therefore cannot be used to make comparisons between series using different scales.\n",
        "\n",
        "### MAE Range is from 0 to ∞ (infinite). The lower the MAE, the better a model fits a dataset.\n",
        "\n",
        "<center><img src=\"https://cf-courses-data.s3.us.cloud-object-storage.appdomain.cloud/IBM-GPXX032NEN/images/MAE_img.png\" width=\"600\" height=\"500\"></center> \n"
      ],
      "metadata": {
        "id": "OvgrSk4eVDXH"
      }
    },
    {
      "cell_type": "markdown",
      "source": [
        "Here we are getting ```7.9``` MAE which is good but optimizing model can help to reduced Errors.\n",
        "\n",
        "In previous graph of predicted V/s Actual we can see that curves are not perfect for prediction.\n"
      ],
      "metadata": {
        "id": "wh0ttFvsVDXH"
      }
    },
    {
      "cell_type": "code",
      "source": [
        "#Return a Numpy representation of the DataFrame.\n",
        "y_true = df['y'].values\n",
        "\n",
        "#Here we have specified [:498] because in y_true we have 498 data points so for comparing both series we need equal shape of series.\n",
        "y_pred = prediction['yhat'][:755].values \n",
        "\n",
        "#Parameters:\n",
        "#y_truearray-like of shape = (n_samples) or (n_samples, n_outputs)\n",
        "#Ground truth (correct) target values.\n",
        "\n",
        "#y_predarray-like of shape = (n_samples) or (n_samples, n_outputs)\n",
        "#Estimated target values.\n",
        "\n",
        "mae = mean_absolute_error(y_true, y_pred)\n",
        "print('MAE: %.3f' % mae)"
      ],
      "metadata": {
        "colab": {
          "base_uri": "https://localhost:8080/"
        },
        "id": "zmfUjtUwVDXI",
        "outputId": "0c8abfe3-e5f3-4e39-8eeb-4389ce7165b7"
      },
      "execution_count": null,
      "outputs": [
        {
          "output_type": "stream",
          "name": "stdout",
          "text": [
            "MAE: 0.496\n"
          ]
        }
      ]
    },
    {
      "cell_type": "markdown",
      "source": [
        "## Optimizing the model for better forecasting\n"
      ],
      "metadata": {
        "id": "iusKF1cfVDXI"
      }
    },
    {
      "cell_type": "markdown",
      "source": [
        "<table  style=' font-size: 16px;'>\n",
        "<tr><td>name  <td>String name of the seasonality component.</td></tr>\n",
        "<tr><td> period</td> <td> Float number of days in one period.</td></tr>\n",
        "<tr><td> fourier_order</td> <td> Int number of Fourier components to use.</td></tr>\n",
        "<tr><td> prior_scale</td> <td> Optional float prior scale for this component. </td></tr>\n",
        "<tr><td> mode</td> <td> Optional 'additive' or 'multiplicative'.</td></tr>\n",
        "<tr><td> condition_name </td> <td> String name of the seasonality condition.</td></tr>\n",
        "</table>\n",
        " \n"
      ],
      "metadata": {
        "id": "luiKcvLaVDXI"
      }
    },
    {
      "cell_type": "markdown",
      "source": [
        "Prophet will by default fit weekly and yearly seasonalities, if the time series is more than two cycles long.\n",
        "\n",
        "It will also fit daily seasonality for a sub-daily time series. \n",
        "\n",
        "You can add other seasonalities (monthly, quarterly, hourly) using the add_seasonality method (Python)\n"
      ],
      "metadata": {
        "id": "gUb9UchKVDXI"
      }
    },
    {
      "cell_type": "markdown",
      "source": [
        "#### Here we have taken period=365, as one year consist of 365 days and Fourier_order=70.\n",
        "#### In this case study, I have randomly found 70 is a good fit for my model. \n",
        "#### Fourier_order can differ for different datasets.\n",
        "#### Note : Higher Furier_order Value can lead to Overfitting.\n"
      ],
      "metadata": {
        "id": "iJMfPxQFVDXI"
      }
    },
    {
      "cell_type": "code",
      "source": [
        "model1=Prophet(daily_seasonality=True).add_seasonality(name='yearly',period=365,fourier_order=70)"
      ],
      "metadata": {
        "id": "KQiFx9vjVDXI"
      },
      "execution_count": null,
      "outputs": []
    },
    {
      "cell_type": "markdown",
      "source": [
        "### Fit Model with Hyper Patameter Tuning \n"
      ],
      "metadata": {
        "id": "Wz1ZCQJgVDXI"
      }
    },
    {
      "cell_type": "markdown",
      "source": [
        "The ```fit()``` function takes a ```DataFrame``` of ```time series data```. \n",
        "\n",
        "The DataFrame must have a specific format.\n",
        "\n",
        "The ```first column``` must have the name ```'ds'``` and contain the ```date-times.``` .\n",
        "\n",
        "The ```second column``` must have the name ```'y'``` and contain the ```observations```.\n"
      ],
      "metadata": {
        "id": "u-Uj8WgwVDXI"
      }
    },
    {
      "cell_type": "code",
      "source": [
        "model1.fit(df)"
      ],
      "metadata": {
        "colab": {
          "base_uri": "https://localhost:8080/"
        },
        "id": "XoOBndp7VDXJ",
        "outputId": "a05dec4f-aaaa-4834-c644-f547d8a263aa"
      },
      "execution_count": null,
      "outputs": [
        {
          "output_type": "stream",
          "name": "stderr",
          "text": [
            "INFO:prophet:Found custom seasonality named 'yearly', disabling built-in 'yearly' seasonality.\n",
            "DEBUG:cmdstanpy:input tempfile: /tmp/tmpq169rhqv/mvwbq7yo.json\n",
            "DEBUG:cmdstanpy:input tempfile: /tmp/tmpq169rhqv/jb6r1hv9.json\n",
            "DEBUG:cmdstanpy:idx 0\n",
            "DEBUG:cmdstanpy:running CmdStan, num_threads: None\n",
            "DEBUG:cmdstanpy:CmdStan args: ['/usr/local/lib/python3.8/dist-packages/prophet/stan_model/prophet_model.bin', 'random', 'seed=8359', 'data', 'file=/tmp/tmpq169rhqv/mvwbq7yo.json', 'init=/tmp/tmpq169rhqv/jb6r1hv9.json', 'output', 'file=/tmp/tmpq169rhqv/prophet_modelgshqc5ne/prophet_model-20221202161833.csv', 'method=optimize', 'algorithm=lbfgs', 'iter=10000']\n",
            "16:18:33 - cmdstanpy - INFO - Chain [1] start processing\n",
            "INFO:cmdstanpy:Chain [1] start processing\n",
            "16:18:33 - cmdstanpy - INFO - Chain [1] done processing\n",
            "INFO:cmdstanpy:Chain [1] done processing\n"
          ]
        },
        {
          "output_type": "execute_result",
          "data": {
            "text/plain": [
              "<prophet.forecaster.Prophet at 0x7f3b7b628e50>"
            ]
          },
          "metadata": {},
          "execution_count": 94
        }
      ]
    },
    {
      "cell_type": "markdown",
      "source": [
        "### Print the components of model\n"
      ],
      "metadata": {
        "id": "oFhEHrrVVDXJ"
      }
    },
    {
      "cell_type": "code",
      "source": [
        "model1.component_modes"
      ],
      "metadata": {
        "colab": {
          "base_uri": "https://localhost:8080/"
        },
        "id": "YcXlPqnXVDXJ",
        "outputId": "0810e6dc-3537-4028-8a83-860ca5fd5b3c"
      },
      "execution_count": null,
      "outputs": [
        {
          "output_type": "execute_result",
          "data": {
            "text/plain": [
              "{'additive': ['yearly',\n",
              "  'weekly',\n",
              "  'daily',\n",
              "  'additive_terms',\n",
              "  'extra_regressors_additive',\n",
              "  'holidays'],\n",
              " 'multiplicative': ['multiplicative_terms', 'extra_regressors_multiplicative']}"
            ]
          },
          "metadata": {},
          "execution_count": 30
        }
      ]
    },
    {
      "cell_type": "markdown",
      "source": [
        "### Make future dataframe for next 1 year\n"
      ],
      "metadata": {
        "id": "5k-wZws1VDXJ"
      }
    },
    {
      "cell_type": "markdown",
      "source": [
        "Here we are taking period = 365 beacause we have 365 days in a year.\n"
      ],
      "metadata": {
        "id": "hqtKkDtHVDXJ"
      }
    },
    {
      "cell_type": "code",
      "source": [
        "future_dates1=model1.make_future_dataframe(periods=365)"
      ],
      "metadata": {
        "id": "CmlMYiTVVDXJ"
      },
      "execution_count": null,
      "outputs": []
    },
    {
      "cell_type": "markdown",
      "source": [
        "### Predict the Datapoint for next year.\n"
      ],
      "metadata": {
        "id": "JPAgaQIdVDXJ"
      }
    },
    {
      "cell_type": "code",
      "source": [
        "prediction1=model1.predict(future_dates1)"
      ],
      "metadata": {
        "id": "C4p4xxtAVDXJ"
      },
      "execution_count": null,
      "outputs": []
    },
    {
      "cell_type": "markdown",
      "source": [
        "#### After optimization, we are getting the value of MAE as 5.6, which is better than above MAE i.e 7.9. Hence This model gives a good Prediction.\n"
      ],
      "metadata": {
        "id": "OsRX2T8YVDXJ"
      }
    },
    {
      "cell_type": "code",
      "source": [
        "from sklearn.metrics import mean_absolute_error\n",
        "y_true = df['y'].values\n",
        "y_pred = prediction1['yhat'][:755].values\n",
        "mae = mean_absolute_error(y_true, y_pred)\n",
        "print('MAE: %.3f' % mae)"
      ],
      "metadata": {
        "colab": {
          "base_uri": "https://localhost:8080/"
        },
        "id": "eLWzTgz0VDXK",
        "outputId": "d5e9d23b-3484-4aad-f0eb-8aba2648a8de"
      },
      "execution_count": null,
      "outputs": [
        {
          "output_type": "stream",
          "name": "stdout",
          "text": [
            "MAE: 0.468\n"
          ]
        }
      ]
    },
    {
      "cell_type": "markdown",
      "source": [
        "### Plot expected vs actual After Optimizng\n"
      ],
      "metadata": {
        "id": "MUM0zk-LVDXK"
      }
    },
    {
      "cell_type": "code",
      "source": [
        "import plotly.graph_objects as go\n",
        "fig = go.Figure([go.Scatter(x=df['ds'], y=df['y'],mode='lines',\n",
        "                    name='Actual')])\n",
        "\n",
        "fig.add_trace(go.Scatter(x=prediction1['ds'], y=prediction1['yhat'],\n",
        "                   mode='lines+markers',\n",
        "                    name='predicted'))\n",
        "\n",
        "fig.show()"
      ],
      "metadata": {
        "colab": {
          "base_uri": "https://localhost:8080/",
          "height": 542
        },
        "id": "5TUcGcxHVDXK",
        "outputId": "27220c6e-921b-4b43-fd6a-3af7920ef0dd"
      },
      "execution_count": null,
      "outputs": [
        {
          "output_type": "display_data",
          "data": {
            "text/html": [
              "<html>\n",
              "<head><meta charset=\"utf-8\" /></head>\n",
              "<body>\n",
              "    <div>            <script src=\"https://cdnjs.cloudflare.com/ajax/libs/mathjax/2.7.5/MathJax.js?config=TeX-AMS-MML_SVG\"></script><script type=\"text/javascript\">if (window.MathJax) {MathJax.Hub.Config({SVG: {font: \"STIX-Web\"}});}</script>                <script type=\"text/javascript\">window.PlotlyConfig = {MathJaxConfig: 'local'};</script>\n",
              "        <script src=\"https://cdn.plot.ly/plotly-2.8.3.min.js\"></script>                <div id=\"2cbc3df4-ac1d-406b-80bf-000e838de23d\" class=\"plotly-graph-div\" style=\"height:525px; width:100%;\"></div>            <script type=\"text/javascript\">                                    window.PLOTLYENV=window.PLOTLYENV || {};                                    if (document.getElementById(\"2cbc3df4-ac1d-406b-80bf-000e838de23d\")) {                    Plotly.newPlot(                        \"2cbc3df4-ac1d-406b-80bf-000e838de23d\",                        [{\"mode\":\"lines\",\"name\":\"Actual\",\"x\":[\"2002-07-08T00:00:00\",\"2002-07-09T00:00:00\",\"2002-07-10T00:00:00\",\"2002-07-11T00:00:00\",\"2002-07-12T00:00:00\",\"2002-07-15T00:00:00\",\"2002-07-16T00:00:00\",\"2002-07-17T00:00:00\",\"2002-07-18T00:00:00\",\"2002-07-19T00:00:00\",\"2002-07-22T00:00:00\",\"2002-07-23T00:00:00\",\"2002-07-24T00:00:00\",\"2002-07-25T00:00:00\",\"2002-07-26T00:00:00\",\"2002-07-29T00:00:00\",\"2002-07-30T00:00:00\",\"2002-07-31T00:00:00\",\"2002-08-01T00:00:00\",\"2002-08-02T00:00:00\",\"2002-08-05T00:00:00\",\"2002-08-06T00:00:00\",\"2002-08-07T00:00:00\",\"2002-08-08T00:00:00\",\"2002-08-09T00:00:00\",\"2002-08-12T00:00:00\",\"2002-08-13T00:00:00\",\"2002-08-14T00:00:00\",\"2002-08-15T00:00:00\",\"2002-08-16T00:00:00\",\"2002-08-19T00:00:00\",\"2002-08-20T00:00:00\",\"2002-08-21T00:00:00\",\"2002-08-22T00:00:00\",\"2002-08-23T00:00:00\",\"2002-08-26T00:00:00\",\"2002-08-27T00:00:00\",\"2002-08-28T00:00:00\",\"2002-08-29T00:00:00\",\"2002-08-30T00:00:00\",\"2002-09-03T00:00:00\",\"2002-09-04T00:00:00\",\"2002-09-05T00:00:00\",\"2002-09-06T00:00:00\",\"2002-09-09T00:00:00\",\"2002-09-10T00:00:00\",\"2002-09-11T00:00:00\",\"2002-09-12T00:00:00\",\"2002-09-13T00:00:00\",\"2002-09-16T00:00:00\",\"2002-09-17T00:00:00\",\"2002-09-18T00:00:00\",\"2002-09-19T00:00:00\",\"2002-09-20T00:00:00\",\"2002-09-23T00:00:00\",\"2002-09-24T00:00:00\",\"2002-09-25T00:00:00\",\"2002-09-26T00:00:00\",\"2002-09-27T00:00:00\",\"2002-09-30T00:00:00\",\"2002-10-01T00:00:00\",\"2002-10-02T00:00:00\",\"2002-10-03T00:00:00\",\"2002-10-04T00:00:00\",\"2002-10-07T00:00:00\",\"2002-10-08T00:00:00\",\"2002-10-09T00:00:00\",\"2002-10-10T00:00:00\",\"2002-10-11T00:00:00\",\"2002-10-14T00:00:00\",\"2002-10-15T00:00:00\",\"2002-10-16T00:00:00\",\"2002-10-17T00:00:00\",\"2002-10-18T00:00:00\",\"2002-10-21T00:00:00\",\"2002-10-22T00:00:00\",\"2002-10-23T00:00:00\",\"2002-10-24T00:00:00\",\"2002-10-25T00:00:00\",\"2002-10-28T00:00:00\",\"2002-10-29T00:00:00\",\"2002-10-30T00:00:00\",\"2002-10-31T00:00:00\",\"2002-11-01T00:00:00\",\"2002-11-04T00:00:00\",\"2002-11-05T00:00:00\",\"2002-11-06T00:00:00\",\"2002-11-07T00:00:00\",\"2002-11-08T00:00:00\",\"2002-11-11T00:00:00\",\"2002-11-12T00:00:00\",\"2002-11-13T00:00:00\",\"2002-11-14T00:00:00\",\"2002-11-15T00:00:00\",\"2002-11-18T00:00:00\",\"2002-11-19T00:00:00\",\"2002-11-20T00:00:00\",\"2002-11-21T00:00:00\",\"2002-11-22T00:00:00\",\"2002-11-25T00:00:00\",\"2002-11-26T00:00:00\",\"2002-11-27T00:00:00\",\"2002-11-29T00:00:00\",\"2002-12-02T00:00:00\",\"2002-12-03T00:00:00\",\"2002-12-04T00:00:00\",\"2002-12-05T00:00:00\",\"2002-12-06T00:00:00\",\"2002-12-09T00:00:00\",\"2002-12-10T00:00:00\",\"2002-12-11T00:00:00\",\"2002-12-12T00:00:00\",\"2002-12-13T00:00:00\",\"2002-12-16T00:00:00\",\"2002-12-17T00:00:00\",\"2002-12-18T00:00:00\",\"2002-12-19T00:00:00\",\"2002-12-20T00:00:00\",\"2002-12-23T00:00:00\",\"2002-12-24T00:00:00\",\"2002-12-26T00:00:00\",\"2002-12-27T00:00:00\",\"2002-12-30T00:00:00\",\"2002-12-31T00:00:00\",\"2003-01-02T00:00:00\",\"2003-01-03T00:00:00\",\"2003-01-06T00:00:00\",\"2003-01-07T00:00:00\",\"2003-01-08T00:00:00\",\"2003-01-09T00:00:00\",\"2003-01-10T00:00:00\",\"2003-01-13T00:00:00\",\"2003-01-14T00:00:00\",\"2003-01-15T00:00:00\",\"2003-01-16T00:00:00\",\"2003-01-17T00:00:00\",\"2003-01-21T00:00:00\",\"2003-01-22T00:00:00\",\"2003-01-23T00:00:00\",\"2003-01-24T00:00:00\",\"2003-01-27T00:00:00\",\"2003-01-28T00:00:00\",\"2003-01-29T00:00:00\",\"2003-01-30T00:00:00\",\"2003-01-31T00:00:00\",\"2003-02-03T00:00:00\",\"2003-02-04T00:00:00\",\"2003-02-05T00:00:00\",\"2003-02-06T00:00:00\",\"2003-02-07T00:00:00\",\"2003-02-10T00:00:00\",\"2003-02-11T00:00:00\",\"2003-02-12T00:00:00\",\"2003-02-13T00:00:00\",\"2003-02-14T00:00:00\",\"2003-02-18T00:00:00\",\"2003-02-19T00:00:00\",\"2003-02-20T00:00:00\",\"2003-02-21T00:00:00\",\"2003-02-24T00:00:00\",\"2003-02-25T00:00:00\",\"2003-02-26T00:00:00\",\"2003-02-27T00:00:00\",\"2003-02-28T00:00:00\",\"2003-03-03T00:00:00\",\"2003-03-04T00:00:00\",\"2003-03-05T00:00:00\",\"2003-03-06T00:00:00\",\"2003-03-07T00:00:00\",\"2003-03-10T00:00:00\",\"2003-03-11T00:00:00\",\"2003-03-12T00:00:00\",\"2003-03-13T00:00:00\",\"2003-03-14T00:00:00\",\"2003-03-17T00:00:00\",\"2003-03-18T00:00:00\",\"2003-03-19T00:00:00\",\"2003-03-20T00:00:00\",\"2003-03-21T00:00:00\",\"2003-03-24T00:00:00\",\"2003-03-25T00:00:00\",\"2003-03-26T00:00:00\",\"2003-03-27T00:00:00\",\"2003-03-28T00:00:00\",\"2003-03-31T00:00:00\",\"2003-04-01T00:00:00\",\"2003-04-02T00:00:00\",\"2003-04-03T00:00:00\",\"2003-04-04T00:00:00\",\"2003-04-07T00:00:00\",\"2003-04-08T00:00:00\",\"2003-04-09T00:00:00\",\"2003-04-10T00:00:00\",\"2003-04-11T00:00:00\",\"2003-04-14T00:00:00\",\"2003-04-15T00:00:00\",\"2003-04-16T00:00:00\",\"2003-04-17T00:00:00\",\"2003-04-21T00:00:00\",\"2003-04-22T00:00:00\",\"2003-04-23T00:00:00\",\"2003-04-24T00:00:00\",\"2003-04-25T00:00:00\",\"2003-04-28T00:00:00\",\"2003-04-29T00:00:00\",\"2003-04-30T00:00:00\",\"2003-05-01T00:00:00\",\"2003-05-02T00:00:00\",\"2003-05-05T00:00:00\",\"2003-05-06T00:00:00\",\"2003-05-07T00:00:00\",\"2003-05-08T00:00:00\",\"2003-05-09T00:00:00\",\"2003-05-12T00:00:00\",\"2003-05-13T00:00:00\",\"2003-05-14T00:00:00\",\"2003-05-15T00:00:00\",\"2003-05-16T00:00:00\",\"2003-05-19T00:00:00\",\"2003-05-20T00:00:00\",\"2003-05-21T00:00:00\",\"2003-05-22T00:00:00\",\"2003-05-23T00:00:00\",\"2003-05-27T00:00:00\",\"2003-05-28T00:00:00\",\"2003-05-29T00:00:00\",\"2003-05-30T00:00:00\",\"2003-06-02T00:00:00\",\"2003-06-03T00:00:00\",\"2003-06-04T00:00:00\",\"2003-06-05T00:00:00\",\"2003-06-06T00:00:00\",\"2003-06-09T00:00:00\",\"2003-06-10T00:00:00\",\"2003-06-11T00:00:00\",\"2003-06-12T00:00:00\",\"2003-06-13T00:00:00\",\"2003-06-16T00:00:00\",\"2003-06-17T00:00:00\",\"2003-06-18T00:00:00\",\"2003-06-19T00:00:00\",\"2003-06-20T00:00:00\",\"2003-06-23T00:00:00\",\"2003-06-24T00:00:00\",\"2003-06-25T00:00:00\",\"2003-06-26T00:00:00\",\"2003-06-27T00:00:00\",\"2003-06-30T00:00:00\",\"2003-07-01T00:00:00\",\"2003-07-02T00:00:00\",\"2003-07-03T00:00:00\",\"2003-07-07T00:00:00\",\"2003-07-08T00:00:00\",\"2003-07-09T00:00:00\",\"2003-07-10T00:00:00\",\"2003-07-11T00:00:00\",\"2003-07-14T00:00:00\",\"2003-07-15T00:00:00\",\"2003-07-16T00:00:00\",\"2003-07-17T00:00:00\",\"2003-07-18T00:00:00\",\"2003-07-21T00:00:00\",\"2003-07-22T00:00:00\",\"2003-07-23T00:00:00\",\"2003-07-24T00:00:00\",\"2003-07-25T00:00:00\",\"2003-07-28T00:00:00\",\"2003-07-29T00:00:00\",\"2003-07-30T00:00:00\",\"2003-07-31T00:00:00\",\"2003-08-01T00:00:00\",\"2003-08-04T00:00:00\",\"2003-08-05T00:00:00\",\"2003-08-06T00:00:00\",\"2003-08-07T00:00:00\",\"2003-08-08T00:00:00\",\"2003-08-11T00:00:00\",\"2003-08-12T00:00:00\",\"2003-08-13T00:00:00\",\"2003-08-14T00:00:00\",\"2003-08-15T00:00:00\",\"2003-08-18T00:00:00\",\"2003-08-19T00:00:00\",\"2003-08-20T00:00:00\",\"2003-08-21T00:00:00\",\"2003-08-22T00:00:00\",\"2003-08-25T00:00:00\",\"2003-08-26T00:00:00\",\"2003-08-27T00:00:00\",\"2003-08-28T00:00:00\",\"2003-08-29T00:00:00\",\"2003-09-02T00:00:00\",\"2003-09-03T00:00:00\",\"2003-09-04T00:00:00\",\"2003-09-05T00:00:00\",\"2003-09-08T00:00:00\",\"2003-09-09T00:00:00\",\"2003-09-10T00:00:00\",\"2003-09-11T00:00:00\",\"2003-09-12T00:00:00\",\"2003-09-15T00:00:00\",\"2003-09-16T00:00:00\",\"2003-09-17T00:00:00\",\"2003-09-18T00:00:00\",\"2003-09-19T00:00:00\",\"2003-09-22T00:00:00\",\"2003-09-23T00:00:00\",\"2003-09-24T00:00:00\",\"2003-09-25T00:00:00\",\"2003-09-26T00:00:00\",\"2003-09-29T00:00:00\",\"2003-09-30T00:00:00\",\"2003-10-01T00:00:00\",\"2003-10-02T00:00:00\",\"2003-10-03T00:00:00\",\"2003-10-06T00:00:00\",\"2003-10-07T00:00:00\",\"2003-10-08T00:00:00\",\"2003-10-09T00:00:00\",\"2003-10-10T00:00:00\",\"2003-10-13T00:00:00\",\"2003-10-14T00:00:00\",\"2003-10-15T00:00:00\",\"2003-10-16T00:00:00\",\"2003-10-17T00:00:00\",\"2003-10-20T00:00:00\",\"2003-10-21T00:00:00\",\"2003-10-22T00:00:00\",\"2003-10-23T00:00:00\",\"2003-10-24T00:00:00\",\"2003-10-27T00:00:00\",\"2003-10-28T00:00:00\",\"2003-10-29T00:00:00\",\"2003-10-30T00:00:00\",\"2003-10-31T00:00:00\",\"2003-11-03T00:00:00\",\"2003-11-04T00:00:00\",\"2003-11-05T00:00:00\",\"2003-11-06T00:00:00\",\"2003-11-07T00:00:00\",\"2003-11-10T00:00:00\",\"2003-11-11T00:00:00\",\"2003-11-12T00:00:00\",\"2003-11-13T00:00:00\",\"2003-11-14T00:00:00\",\"2003-11-17T00:00:00\",\"2003-11-18T00:00:00\",\"2003-11-19T00:00:00\",\"2003-11-20T00:00:00\",\"2003-11-21T00:00:00\",\"2003-11-24T00:00:00\",\"2003-11-25T00:00:00\",\"2003-11-26T00:00:00\",\"2003-11-28T00:00:00\",\"2003-12-01T00:00:00\",\"2003-12-02T00:00:00\",\"2003-12-03T00:00:00\",\"2003-12-04T00:00:00\",\"2003-12-05T00:00:00\",\"2003-12-08T00:00:00\",\"2003-12-09T00:00:00\",\"2003-12-10T00:00:00\",\"2003-12-11T00:00:00\",\"2003-12-12T00:00:00\",\"2003-12-15T00:00:00\",\"2003-12-16T00:00:00\",\"2003-12-17T00:00:00\",\"2003-12-18T00:00:00\",\"2003-12-19T00:00:00\",\"2003-12-22T00:00:00\",\"2003-12-23T00:00:00\",\"2003-12-24T00:00:00\",\"2003-12-26T00:00:00\",\"2003-12-29T00:00:00\",\"2003-12-30T00:00:00\",\"2003-12-31T00:00:00\",\"2004-01-02T00:00:00\",\"2004-01-05T00:00:00\",\"2004-01-06T00:00:00\",\"2004-01-07T00:00:00\",\"2004-01-08T00:00:00\",\"2004-01-09T00:00:00\",\"2004-01-12T00:00:00\",\"2004-01-13T00:00:00\",\"2004-01-14T00:00:00\",\"2004-01-15T00:00:00\",\"2004-01-16T00:00:00\",\"2004-01-20T00:00:00\",\"2004-01-21T00:00:00\",\"2004-01-22T00:00:00\",\"2004-01-23T00:00:00\",\"2004-01-26T00:00:00\",\"2004-01-27T00:00:00\",\"2004-01-28T00:00:00\",\"2004-01-29T00:00:00\",\"2004-01-30T00:00:00\",\"2004-02-02T00:00:00\",\"2004-02-03T00:00:00\",\"2004-02-04T00:00:00\",\"2004-02-05T00:00:00\",\"2004-02-06T00:00:00\",\"2004-02-09T00:00:00\",\"2004-02-10T00:00:00\",\"2004-02-11T00:00:00\",\"2004-02-12T00:00:00\",\"2004-02-13T00:00:00\",\"2004-02-17T00:00:00\",\"2004-02-18T00:00:00\",\"2004-02-19T00:00:00\",\"2004-02-20T00:00:00\",\"2004-02-23T00:00:00\",\"2004-02-24T00:00:00\",\"2004-02-25T00:00:00\",\"2004-02-26T00:00:00\",\"2004-02-27T00:00:00\",\"2004-03-01T00:00:00\",\"2004-03-02T00:00:00\",\"2004-03-03T00:00:00\",\"2004-03-04T00:00:00\",\"2004-03-05T00:00:00\",\"2004-03-08T00:00:00\",\"2004-03-09T00:00:00\",\"2004-03-10T00:00:00\",\"2004-03-11T00:00:00\",\"2004-03-12T00:00:00\",\"2004-03-15T00:00:00\",\"2004-03-16T00:00:00\",\"2004-03-17T00:00:00\",\"2004-03-18T00:00:00\",\"2004-03-19T00:00:00\",\"2004-03-22T00:00:00\",\"2004-03-23T00:00:00\",\"2004-03-24T00:00:00\",\"2004-03-25T00:00:00\",\"2004-03-26T00:00:00\",\"2004-03-29T00:00:00\",\"2004-03-30T00:00:00\",\"2004-03-31T00:00:00\",\"2004-04-01T00:00:00\",\"2004-04-02T00:00:00\",\"2004-04-05T00:00:00\",\"2004-04-06T00:00:00\",\"2004-04-07T00:00:00\",\"2004-04-08T00:00:00\",\"2004-04-12T00:00:00\",\"2004-04-13T00:00:00\",\"2004-04-14T00:00:00\",\"2004-04-15T00:00:00\",\"2004-04-16T00:00:00\",\"2004-04-19T00:00:00\",\"2004-04-20T00:00:00\",\"2004-04-21T00:00:00\",\"2004-04-22T00:00:00\",\"2004-04-23T00:00:00\",\"2004-04-26T00:00:00\",\"2004-04-27T00:00:00\",\"2004-04-28T00:00:00\",\"2004-04-29T00:00:00\",\"2004-04-30T00:00:00\",\"2004-05-03T00:00:00\",\"2004-05-04T00:00:00\",\"2004-05-05T00:00:00\",\"2004-05-06T00:00:00\",\"2004-05-07T00:00:00\",\"2004-05-10T00:00:00\",\"2004-05-11T00:00:00\",\"2004-05-12T00:00:00\",\"2004-05-13T00:00:00\",\"2004-05-14T00:00:00\",\"2004-05-17T00:00:00\",\"2004-05-18T00:00:00\",\"2004-05-19T00:00:00\",\"2004-05-20T00:00:00\",\"2004-05-21T00:00:00\",\"2004-05-24T00:00:00\",\"2004-05-25T00:00:00\",\"2004-05-26T00:00:00\",\"2004-05-27T00:00:00\",\"2004-05-28T00:00:00\",\"2004-06-01T00:00:00\",\"2004-06-02T00:00:00\",\"2004-06-03T00:00:00\",\"2004-06-04T00:00:00\",\"2004-06-07T00:00:00\",\"2004-06-08T00:00:00\",\"2004-06-09T00:00:00\",\"2004-06-10T00:00:00\",\"2004-06-14T00:00:00\",\"2004-06-15T00:00:00\",\"2004-06-16T00:00:00\",\"2004-06-17T00:00:00\",\"2004-06-18T00:00:00\",\"2004-06-21T00:00:00\",\"2004-06-22T00:00:00\",\"2004-06-23T00:00:00\",\"2004-06-24T00:00:00\",\"2004-06-25T00:00:00\",\"2004-06-28T00:00:00\",\"2004-06-29T00:00:00\",\"2004-06-30T00:00:00\",\"2004-07-01T00:00:00\",\"2004-07-02T00:00:00\",\"2004-07-06T00:00:00\",\"2004-07-07T00:00:00\",\"2004-07-08T00:00:00\",\"2004-07-09T00:00:00\",\"2004-07-12T00:00:00\",\"2004-07-13T00:00:00\",\"2004-07-14T00:00:00\",\"2004-07-15T00:00:00\",\"2004-07-16T00:00:00\",\"2004-07-19T00:00:00\",\"2004-07-20T00:00:00\",\"2004-07-21T00:00:00\",\"2004-07-22T00:00:00\",\"2004-07-23T00:00:00\",\"2004-07-26T00:00:00\",\"2004-07-27T00:00:00\",\"2004-07-28T00:00:00\",\"2004-07-29T00:00:00\",\"2004-07-30T00:00:00\",\"2004-08-02T00:00:00\",\"2004-08-03T00:00:00\",\"2004-08-04T00:00:00\",\"2004-08-05T00:00:00\",\"2004-08-06T00:00:00\",\"2004-08-09T00:00:00\",\"2004-08-10T00:00:00\",\"2004-08-11T00:00:00\",\"2004-08-12T00:00:00\",\"2004-08-13T00:00:00\",\"2004-08-16T00:00:00\",\"2004-08-17T00:00:00\",\"2004-08-18T00:00:00\",\"2004-08-19T00:00:00\",\"2004-08-20T00:00:00\",\"2004-08-23T00:00:00\",\"2004-08-24T00:00:00\",\"2004-08-25T00:00:00\",\"2004-08-26T00:00:00\",\"2004-08-27T00:00:00\",\"2004-08-30T00:00:00\",\"2004-08-31T00:00:00\",\"2004-09-01T00:00:00\",\"2004-09-02T00:00:00\",\"2004-09-03T00:00:00\",\"2004-09-07T00:00:00\",\"2004-09-08T00:00:00\",\"2004-09-09T00:00:00\",\"2004-09-10T00:00:00\",\"2004-09-13T00:00:00\",\"2004-09-14T00:00:00\",\"2004-09-15T00:00:00\",\"2004-09-16T00:00:00\",\"2004-09-17T00:00:00\",\"2004-09-20T00:00:00\",\"2004-09-21T00:00:00\",\"2004-09-22T00:00:00\",\"2004-09-23T00:00:00\",\"2004-09-24T00:00:00\",\"2004-09-27T00:00:00\",\"2004-09-28T00:00:00\",\"2004-09-29T00:00:00\",\"2004-09-30T00:00:00\",\"2004-10-01T00:00:00\",\"2004-10-04T00:00:00\",\"2004-10-05T00:00:00\",\"2004-10-06T00:00:00\",\"2004-10-07T00:00:00\",\"2004-10-08T00:00:00\",\"2004-10-11T00:00:00\",\"2004-10-12T00:00:00\",\"2004-10-13T00:00:00\",\"2004-10-14T00:00:00\",\"2004-10-15T00:00:00\",\"2004-10-18T00:00:00\",\"2004-10-19T00:00:00\",\"2004-10-20T00:00:00\",\"2004-10-21T00:00:00\",\"2004-10-22T00:00:00\",\"2004-10-25T00:00:00\",\"2004-10-26T00:00:00\",\"2004-10-27T00:00:00\",\"2004-10-28T00:00:00\",\"2004-10-29T00:00:00\",\"2004-11-01T00:00:00\",\"2004-11-02T00:00:00\",\"2004-11-03T00:00:00\",\"2004-11-04T00:00:00\",\"2004-11-05T00:00:00\",\"2004-11-08T00:00:00\",\"2004-11-09T00:00:00\",\"2004-11-10T00:00:00\",\"2004-11-11T00:00:00\",\"2004-11-12T00:00:00\",\"2004-11-15T00:00:00\",\"2004-11-16T00:00:00\",\"2004-11-17T00:00:00\",\"2004-11-18T00:00:00\",\"2004-11-19T00:00:00\",\"2004-11-22T00:00:00\",\"2004-11-23T00:00:00\",\"2004-11-24T00:00:00\",\"2004-11-26T00:00:00\",\"2004-11-29T00:00:00\",\"2004-11-30T00:00:00\",\"2004-12-01T00:00:00\",\"2004-12-02T00:00:00\",\"2004-12-03T00:00:00\",\"2004-12-06T00:00:00\",\"2004-12-07T00:00:00\",\"2004-12-08T00:00:00\",\"2004-12-09T00:00:00\",\"2004-12-10T00:00:00\",\"2004-12-13T00:00:00\",\"2004-12-14T00:00:00\",\"2004-12-15T00:00:00\",\"2004-12-16T00:00:00\",\"2004-12-17T00:00:00\",\"2004-12-20T00:00:00\",\"2004-12-21T00:00:00\",\"2004-12-22T00:00:00\",\"2004-12-23T00:00:00\",\"2004-12-27T00:00:00\",\"2004-12-28T00:00:00\",\"2004-12-29T00:00:00\",\"2004-12-30T00:00:00\",\"2004-12-31T00:00:00\",\"2005-01-03T00:00:00\",\"2005-01-04T00:00:00\",\"2005-01-05T00:00:00\",\"2005-01-06T00:00:00\",\"2005-01-07T00:00:00\",\"2005-01-10T00:00:00\",\"2005-01-11T00:00:00\",\"2005-01-12T00:00:00\",\"2005-01-13T00:00:00\",\"2005-01-14T00:00:00\",\"2005-01-18T00:00:00\",\"2005-01-19T00:00:00\",\"2005-01-20T00:00:00\",\"2005-01-21T00:00:00\",\"2005-01-24T00:00:00\",\"2005-01-25T00:00:00\",\"2005-01-26T00:00:00\",\"2005-01-27T00:00:00\",\"2005-01-28T00:00:00\",\"2005-01-31T00:00:00\",\"2005-02-01T00:00:00\",\"2005-02-02T00:00:00\",\"2005-02-03T00:00:00\",\"2005-02-04T00:00:00\",\"2005-02-07T00:00:00\",\"2005-02-08T00:00:00\",\"2005-02-09T00:00:00\",\"2005-02-10T00:00:00\",\"2005-02-11T00:00:00\",\"2005-02-14T00:00:00\",\"2005-02-15T00:00:00\",\"2005-02-16T00:00:00\",\"2005-02-17T00:00:00\",\"2005-02-18T00:00:00\",\"2005-02-22T00:00:00\",\"2005-02-23T00:00:00\",\"2005-02-24T00:00:00\",\"2005-02-25T00:00:00\",\"2005-02-28T00:00:00\",\"2005-03-01T00:00:00\",\"2005-03-02T00:00:00\",\"2005-03-03T00:00:00\",\"2005-03-04T00:00:00\",\"2005-03-07T00:00:00\",\"2005-03-08T00:00:00\",\"2005-03-09T00:00:00\",\"2005-03-10T00:00:00\",\"2005-03-11T00:00:00\",\"2005-03-14T00:00:00\",\"2005-03-15T00:00:00\",\"2005-03-16T00:00:00\",\"2005-03-17T00:00:00\",\"2005-03-18T00:00:00\",\"2005-03-21T00:00:00\",\"2005-03-22T00:00:00\",\"2005-03-23T00:00:00\",\"2005-03-24T00:00:00\",\"2005-03-28T00:00:00\",\"2005-03-29T00:00:00\",\"2005-03-30T00:00:00\",\"2005-03-31T00:00:00\",\"2005-04-01T00:00:00\",\"2005-04-04T00:00:00\",\"2005-04-05T00:00:00\",\"2005-04-06T00:00:00\",\"2005-04-07T00:00:00\",\"2005-04-08T00:00:00\",\"2005-04-11T00:00:00\",\"2005-04-12T00:00:00\",\"2005-04-13T00:00:00\",\"2005-04-14T00:00:00\",\"2005-04-15T00:00:00\",\"2005-04-18T00:00:00\",\"2005-04-19T00:00:00\",\"2005-04-20T00:00:00\",\"2005-04-21T00:00:00\",\"2005-04-22T00:00:00\",\"2005-04-25T00:00:00\",\"2005-04-26T00:00:00\",\"2005-04-27T00:00:00\",\"2005-04-28T00:00:00\",\"2005-04-29T00:00:00\",\"2005-05-02T00:00:00\",\"2005-05-03T00:00:00\",\"2005-05-04T00:00:00\",\"2005-05-05T00:00:00\",\"2005-05-06T00:00:00\",\"2005-05-09T00:00:00\",\"2005-05-10T00:00:00\",\"2005-05-11T00:00:00\",\"2005-05-12T00:00:00\",\"2005-05-13T00:00:00\",\"2005-05-16T00:00:00\",\"2005-05-17T00:00:00\",\"2005-05-18T00:00:00\",\"2005-05-19T00:00:00\",\"2005-05-20T00:00:00\",\"2005-05-23T00:00:00\",\"2005-05-24T00:00:00\",\"2005-05-25T00:00:00\",\"2005-05-26T00:00:00\",\"2005-05-27T00:00:00\",\"2005-05-31T00:00:00\",\"2005-06-01T00:00:00\",\"2005-06-02T00:00:00\",\"2005-06-03T00:00:00\",\"2005-06-06T00:00:00\",\"2005-06-07T00:00:00\",\"2005-06-08T00:00:00\",\"2005-06-09T00:00:00\",\"2005-06-10T00:00:00\",\"2005-06-13T00:00:00\",\"2005-06-14T00:00:00\",\"2005-06-15T00:00:00\",\"2005-06-16T00:00:00\",\"2005-06-17T00:00:00\",\"2005-06-20T00:00:00\",\"2005-06-21T00:00:00\",\"2005-06-22T00:00:00\",\"2005-06-23T00:00:00\",\"2005-06-24T00:00:00\",\"2005-06-27T00:00:00\",\"2005-06-28T00:00:00\",\"2005-06-29T00:00:00\",\"2005-06-30T00:00:00\",\"2005-07-01T00:00:00\",\"2005-07-05T00:00:00\"],\"y\":[16.54969596862793,16.640390396118164,16.33704376220703,16.54657745361328,16.218204498291016,16.199440002441406,16.02743148803711,16.261978149414062,15.98365592956543,15.498924255371094,14.857821464538574,13.450531959533691,14.457531929016113,13.394245147705078,14.182326316833496,15.08924388885498,15.042330741882324,15.004815101623535,14.307415008544922,13.88836669921875,13.7570161819458,14.282402992248535,14.726475715637207,15.295646667480469,15.048588752746582,15.158050537109375,14.717106819152832,15.545832633972168,15.564599990844727,15.63652229309082,16.261978149414062,15.961764335632324,16.34954833984375,16.646648406982422,16.330785751342773,16.293254852294922,15.899215698242188,15.442632675170898,15.81790828704834,15.348810195922852,14.704590797424316,15.076737403869629,14.35745906829834,14.9547758102417,15.22996997833252,15.570853233337402,15.192441940307617,14.745244979858398,14.98291015625,14.942262649536133,14.789023399353027,14.932886123657227,14.760880470275879,14.842188835144043,14.144804954528809,14.273015975952148,14.545095443725586,14.448145866394043,14.151054382324219,13.67883586883545,14.457531929016113,14.263632774353027,14.010320663452148,13.688217163085938,13.775775909423828,14.069740295410156,13.7570161819458,14.504433631896973,15.283138275146484,15.4144868850708,16.352678298950195,15.764741897583008,15.877325057983398,16.621631622314453,16.421478271484375,16.158784866333008,16.63726234436035,16.021181106567383,16.47463607788086,16.24634552001953,16.283872604370117,16.609115600585938,16.721696853637695,16.5747127532959,17.544174194335938,17.72556495666504,17.83501625061035,17.516029357910156,17.2314395904541,16.843660354614258,17.04693603515625,17.31276512145996,17.8225040435791,17.72869110107422,17.46599578857422,17.15639877319336,17.70680046081543,18.08833122253418,18.207164764404297,18.21029281616211,17.79436492919922,18.163387298583984,18.038299560546875,18.041419982910156,17.734947204589844,17.681777954101562,17.306501388549805,17.347156524658203,16.740459442138672,16.890567779541016,17.09384536743164,16.940610885620117,16.418346405029297,17.037555694580078,17.000032424926758,16.740459442138672,16.609115600585938,16.587221145629883,16.8874454498291,16.831153869628906,16.69668197631836,16.565340042114258,16.49652862548828,16.168169021606445,16.799880981445312,16.821767807006836,17.128246307373047,17.450363159179688,16.962501525878906,17.453493118286133,17.487886428833008,17.634872436523438,17.816255569458008,17.597347259521484,17.309629440307617,16.093103408813477,16.052459716796875,15.94925594329834,16.34954833984375,15.589612007141113,15.376957893371582,15.267502784729004,15.608379364013672,15.0861177444458,14.842188835144043,15.186196327209473,14.798406600952148,14.685823440551758,14.829678535461426,14.566991806030273,14.817166328430176,14.523208618164062,14.523208618164062,14.695201873779297,15.10488224029541,15.6115083694458,15.391884803771973,15.147173881530762,15.454646110534668,15.103254318237305,15.178552627563477,14.814615249633789,14.795794486999512,14.871086120605469,14.770694732666016,14.475781440734863,14.7079439163208,14.601272583007812,14.783241271972656,14.400490760803223,14.306358337402344,14.6765718460083,15.47973918914795,15.598958015441895,16.27034568786621,16.33937644958496,16.51506233215332,16.471141815185547,16.671939849853516,15.868769645690918,15.994258880615234,15.843669891357422,15.711901664733887,15.47973918914795,15.191095352172852,15.278940200805664,16.13857650756836,16.144855499267578,15.743277549743652,15.793476104736328,16.05073356628418,15.416987419128418,15.42953872680664,15.184821128845215,15.53620719909668,15.43581485748291,15.636606216430664,16.000532150268555,15.81856918334961,16.163686752319336,16.13857650756836,15.994258880615234,15.824847221374512,16.151134490966797,16.18877410888672,16.04446029663086,16.13857650756836,16.37702178955078,16.226430892944336,16.54644012451172,16.307994842529297,16.151134490966797,16.5401611328125,16.439773559570312,16.307994842529297,16.07583236694336,16.182512283325195,16.04446029663086,15.53620719909668,15.454646110534668,15.078153610229492,15.159724235534668,15.197369575500488,15.555032730102539,15.316596031188965,15.310317039489746,15.442089080810547,15.460908889770508,15.6115083694458,15.605229377746582,15.11580753326416,14.85225772857666,14.90246295928955,15.48600959777832,15.6115083694458,15.680526733398438,15.467183113098145,15.93152141571045,16.28917694091797,16.358200073242188,16.358200073242188,16.521337509155273,16.17622947692871,16.126035690307617,15.849944114685059,16.157400131225586,16.08211326599121,16.0883846282959,16.408395767211914,16.866453170776367,16.628015518188477,17.205286026000977,17.3809757232666,17.236661911010742,16.885272979736328,17.136262893676758,17.192729949951172,17.111164093017578,17.268033981323242,16.747222900390625,16.87272071838379,16.33937644958496,16.552709579467773,16.59663200378418,16.31427001953125,16.87272071838379,16.69704246520996,16.609182357788086,16.458589553833008,16.5715389251709,16.420949935913086,16.427217483520508,16.100929260253906,16.094663619995117,16.132305145263672,16.05073356628418,16.069555282592773,16.144855499267578,16.063289642333984,16.08211326599121,16.0256404876709,16.126035690307617,16.70330047607422,16.59663200378418,16.464866638183594,16.452314376831055,16.628015518188477,16.671939849853516,16.577810287475586,16.634286880493164,16.64055824279785,17.104881286621094,17.757461547851562,17.83902931213379,17.807653427124023,18.096294403076172,17.801376342773438,17.28685760498047,17.46881866455078,17.78255271911621,17.795103073120117,18.13393783569336,17.88295555114746,18.510427474975586,18.79906463623047,18.240617752075195,18.57317352294922,17.857851028442383,17.719812393188477,17.68843650817871,18.090017318725586,17.443714141845703,17.895505905151367,17.88295555114746,18.246889114379883,18.315914154052734,18.284534454345703,18.083751678466797,18.159042358398438,18.140213012695312,18.05864906311035,17.99590301513672,18.342945098876953,18.443899154663086,18.254608154296875,18.519628524780273,18.519628524780273,18.2293643951416,18.241989135742188,16.79071044921875,16.979999542236328,17.162988662719727,16.872732162475586,16.48151969909668,16.49413299560547,16.83487892150879,16.44997787475586,16.468896865844727,16.55093002319336,16.468896865844727,16.405794143676758,16.27959632873535,16.393177032470703,16.210195541381836,16.090299606323242,15.869452476501465,15.869452476501465,15.9956636428833,15.837907791137695,15.84421443939209,16.235435485839844,16.027198791503906,16.058753967285156,16.22280502319336,16.304832458496094,16.19125747680664,16.197568893432617,16.532001495361328,16.393177032470703,16.55723762512207,16.64557456970215,16.778085708618164,16.79071044921875,16.815942764282227,16.872732162475586,17.07465171813965,17.062028884887695,17.289186477661133,17.263944625854492,17.150371551513672,17.131441116333008,17.062028884887695,17.16929817199707,17.32704734802246,17.364904403686523,17.270259857177734,17.32073974609375,17.75611686706543,17.819223403930664,17.800294876098633,17.768735885620117,17.45323944091797,17.39645767211914,17.308120727539062,17.478483200073242,17.377527236938477,17.547895431518555,17.73088836669922,17.857078552246094,17.674097061157227,17.970659255981445,18.17257308959961,17.825529098510742,17.484790802001953,17.610992431640625,17.446931838989258,17.289186477661133,17.219783782958984,17.043094635009766,17.011554718017578,17.087268829345703,16.973695755004883,17.049407958984375,17.131441116333008,17.005245208740234,16.778085708618164,17.030481338500977,16.891666412353516,16.696054458618164,16.76546859741211,16.79071044921875,16.961074829101562,16.84749412536621,16.721302032470703,16.740230560302734,16.84749412536621,16.651885986328125,16.639266967773438,16.639266967773438,16.626649856567383,16.298532485961914,16.22911834716797,16.008268356323242,15.831597328186035,16.014583587646484,15.87576961517334,15.888384819030762,15.856839179992676,15.705397605895996,15.541346549987793,15.459308624267578,15.238465309143066,15.402523040771484,15.89468765258789,15.793734550476074,15.970409393310547,15.9010009765625,15.730632781982422,15.82528018951416,16.311153411865234,16.374242782592773,16.27959632873535,16.147090911865234,16.07768440246582,16.159709930419922,16.058753967285156,16.09661102294922,15.913620948791504,15.87576961517334,16.10923194885254,15.9830322265625,16.058753967285156,16.374242782592773,17.377527236938477,17.188228607177734,17.175607681274414,16.759151458740234,16.70867347717285,16.48782730102539,16.626649856567383,16.614025115966797,16.595090866088867,16.48151969909668,16.266977310180664,16.361629486083984,16.367938995361328,16.367938995361328,16.468896865844727,16.317462921142578,16.115543365478516,16.298532485961914,16.166017532348633,16.235435485839844,16.33638572692871,16.254364013671875,16.468896865844727,16.49413299560547,16.525691986083984,16.55093002319336,16.47520637512207,16.48782730102539,16.33638572692871,16.374242782592773,16.6771183013916,16.784393310546875,16.70235824584961,16.891666412353516,16.973695755004883,17.295503616333008,17.23870277404785,17.522659301757812,17.888629913330078,17.888629913330078,17.850772857666016,17.857078552246094,17.913875579833984,18.027448654174805,17.84446144104004,17.983280181884766,18.021137237548828,18.065305709838867,18.027448654174805,17.680410385131836,17.73088836669922,17.440631866455078,17.57944679260254,17.598365783691406,17.415390014648438,17.749801635742188,17.58575439453125,17.33966827392578,17.636228561401367,17.869701385498047,18.2104434967041,18.298776626586914,17.686717987060547,18.084239959716797,17.945423126220703,18.03375816345215,17.970659255981445,17.976972579956055,17.99590301513672,17.711957931518555,17.70564079284668,17.371217727661133,17.125131607055664,17.150371551513672,17.49110984802246,17.295503616333008,16.961074829101562,17.049407958984375,17.093582153320312,17.068340301513672,17.32704734802246,17.11250877380371,17.162988662719727,17.238937377929688,17.238937377929688,17.435115814208984,17.365497589111328,17.37816047668457,17.276899337768555,17.276899337768555,17.333858489990234,17.47941017150879,17.156665802001953,17.31487274169922,17.251588821411133,17.264244079589844,17.39714813232422,17.245262145996094,17.365497589111328,17.207286834716797,17.251588821411133,17.409801483154297,17.409801483154297,17.251588821411133,17.162986755371094,17.308544158935547,17.27057647705078,17.207286834716797,17.257915496826172,17.454097747802734,17.498401641845703,17.87811279296875,17.795846939086914,17.96038246154785,18.05531883239746,17.827482223510742,17.713571548461914,17.75786590576172,17.738887786865234,17.738887786865234,17.593326568603516,17.713571548461914,17.979373931884766,17.833812713623047,18.162899017333984,18.074295043945312,17.555362701416016,17.485742568969727,17.6566162109375,17.81482696533203,17.72623062133789,17.700910568237305,17.770524978637695,17.871784210205078,18.017335891723633,18.352754592895508,18.54894256591797,18.52996063232422,18.84006118774414,18.814735412597656,18.972949981689453,18.96662139892578,19.319290161132812,19.128847122192383,19.16411590576172,19.09358024597168,18.945466995239258,18.79734230041504,18.712703704833984,18.790283203125,18.762067794799805,18.88197898864746,18.91019058227539,19.220550537109375,19.107690811157227,19.206430435180664,19.276968002319336,19.09358024597168,19.29813575744629,19.206430435180664,19.10063362121582,19.220550537109375,19.206430435180664,19.12180519104004,19.157068252563477,19.015995025634766,19.008939743041992,19.09358024597168,19.023046493530273,19.051250457763672,18.938405990600586,19.008939743041992,18.973674774169922,18.87492561340332,18.846717834472656,18.86082649230957,18.93135643005371,18.8890323638916,18.867876052856445,18.811447143554688,18.903141021728516,18.853771209716797,18.8890323638916,18.529308319091797,18.423511505126953,18.564573287963867,18.324758529663086,18.24012565612793,18.091999053955078,18.106103897094727,18.35297203063965,18.34592056274414,18.416458129882812,18.46582794189453,18.53636932373047,18.61394691467285,18.6633243560791,18.46582794189453,18.564573287963867,18.451725006103516,18.508142471313477,18.388248443603516,18.38119125366211,18.317710876464844,18.34592056274414,18.345918655395508,18.246871948242188,18.1478214263916,18.02753448486328,17.850664138793945,17.829437255859375,17.949710845947266,17.86481285095215,17.80113983154297,17.88603973388672,17.87188720703125,17.808212280273438,17.808212280273438,18.020475387573242,17.970935821533203,17.907257080078125,17.99216079711914,17.751611709594727,17.765758514404297,17.624256134033203,17.4261474609375,17.362478256225586,17.199750900268555,17.121912002563477,16.973337173461914,17.107769012451172,17.17851448059082,17.121912002563477,16.92381477355957,17.09362030029297,17.10068702697754,17.065322875976562,17.143146514892578,17.312952041625977,17.45444679260254,17.758684158325195,17.645469665527344,17.666706085205078,17.914335250854492,17.71623420715332,17.574726104736328,17.305870056152344,17.440298080444336,17.4261474609375,17.206817626953125,17.88603973388672,17.673782348632812,17.680856704711914,17.518123626708984,17.680856704711914,17.298797607421875,17.900192260742188,17.850664138793945,17.94263458251953,17.836511611938477,17.850664138793945,17.84358787536621,17.765758514404297,17.617176055908203,17.624256134033203,17.68792152404785,17.900192260742188,18.091814041137695,18.07052230834961,18.240877151489258,18.39701271057129,18.269269943237305,18.347332000732422,18.276351928710938,18.247968673706055,18.38282012939453,18.503480911254883,18.311851501464844,18.318937301635742,18.30475425720215,18.04923439025879,18.006650924682617,18.106016159057617,18.02794075012207,18.106016159057617,18.04923439025879,17.964059829711914,17.999549865722656,17.928577423095703,17.772432327270508,17.772432327270508,17.822111129760742,17.85049819946289,17.793720245361328,17.964059829711914,17.772432327270508,17.779521942138672,17.793720245361328,17.807920455932617,17.630474090576172,17.538204193115234,17.72984504699707],\"type\":\"scatter\"},{\"mode\":\"lines+markers\",\"name\":\"predicted\",\"x\":[\"2002-07-08T00:00:00\",\"2002-07-09T00:00:00\",\"2002-07-10T00:00:00\",\"2002-07-11T00:00:00\",\"2002-07-12T00:00:00\",\"2002-07-15T00:00:00\",\"2002-07-16T00:00:00\",\"2002-07-17T00:00:00\",\"2002-07-18T00:00:00\",\"2002-07-19T00:00:00\",\"2002-07-22T00:00:00\",\"2002-07-23T00:00:00\",\"2002-07-24T00:00:00\",\"2002-07-25T00:00:00\",\"2002-07-26T00:00:00\",\"2002-07-29T00:00:00\",\"2002-07-30T00:00:00\",\"2002-07-31T00:00:00\",\"2002-08-01T00:00:00\",\"2002-08-02T00:00:00\",\"2002-08-05T00:00:00\",\"2002-08-06T00:00:00\",\"2002-08-07T00:00:00\",\"2002-08-08T00:00:00\",\"2002-08-09T00:00:00\",\"2002-08-12T00:00:00\",\"2002-08-13T00:00:00\",\"2002-08-14T00:00:00\",\"2002-08-15T00:00:00\",\"2002-08-16T00:00:00\",\"2002-08-19T00:00:00\",\"2002-08-20T00:00:00\",\"2002-08-21T00:00:00\",\"2002-08-22T00:00:00\",\"2002-08-23T00:00:00\",\"2002-08-26T00:00:00\",\"2002-08-27T00:00:00\",\"2002-08-28T00:00:00\",\"2002-08-29T00:00:00\",\"2002-08-30T00:00:00\",\"2002-09-03T00:00:00\",\"2002-09-04T00:00:00\",\"2002-09-05T00:00:00\",\"2002-09-06T00:00:00\",\"2002-09-09T00:00:00\",\"2002-09-10T00:00:00\",\"2002-09-11T00:00:00\",\"2002-09-12T00:00:00\",\"2002-09-13T00:00:00\",\"2002-09-16T00:00:00\",\"2002-09-17T00:00:00\",\"2002-09-18T00:00:00\",\"2002-09-19T00:00:00\",\"2002-09-20T00:00:00\",\"2002-09-23T00:00:00\",\"2002-09-24T00:00:00\",\"2002-09-25T00:00:00\",\"2002-09-26T00:00:00\",\"2002-09-27T00:00:00\",\"2002-09-30T00:00:00\",\"2002-10-01T00:00:00\",\"2002-10-02T00:00:00\",\"2002-10-03T00:00:00\",\"2002-10-04T00:00:00\",\"2002-10-07T00:00:00\",\"2002-10-08T00:00:00\",\"2002-10-09T00:00:00\",\"2002-10-10T00:00:00\",\"2002-10-11T00:00:00\",\"2002-10-14T00:00:00\",\"2002-10-15T00:00:00\",\"2002-10-16T00:00:00\",\"2002-10-17T00:00:00\",\"2002-10-18T00:00:00\",\"2002-10-21T00:00:00\",\"2002-10-22T00:00:00\",\"2002-10-23T00:00:00\",\"2002-10-24T00:00:00\",\"2002-10-25T00:00:00\",\"2002-10-28T00:00:00\",\"2002-10-29T00:00:00\",\"2002-10-30T00:00:00\",\"2002-10-31T00:00:00\",\"2002-11-01T00:00:00\",\"2002-11-04T00:00:00\",\"2002-11-05T00:00:00\",\"2002-11-06T00:00:00\",\"2002-11-07T00:00:00\",\"2002-11-08T00:00:00\",\"2002-11-11T00:00:00\",\"2002-11-12T00:00:00\",\"2002-11-13T00:00:00\",\"2002-11-14T00:00:00\",\"2002-11-15T00:00:00\",\"2002-11-18T00:00:00\",\"2002-11-19T00:00:00\",\"2002-11-20T00:00:00\",\"2002-11-21T00:00:00\",\"2002-11-22T00:00:00\",\"2002-11-25T00:00:00\",\"2002-11-26T00:00:00\",\"2002-11-27T00:00:00\",\"2002-11-29T00:00:00\",\"2002-12-02T00:00:00\",\"2002-12-03T00:00:00\",\"2002-12-04T00:00:00\",\"2002-12-05T00:00:00\",\"2002-12-06T00:00:00\",\"2002-12-09T00:00:00\",\"2002-12-10T00:00:00\",\"2002-12-11T00:00:00\",\"2002-12-12T00:00:00\",\"2002-12-13T00:00:00\",\"2002-12-16T00:00:00\",\"2002-12-17T00:00:00\",\"2002-12-18T00:00:00\",\"2002-12-19T00:00:00\",\"2002-12-20T00:00:00\",\"2002-12-23T00:00:00\",\"2002-12-24T00:00:00\",\"2002-12-26T00:00:00\",\"2002-12-27T00:00:00\",\"2002-12-30T00:00:00\",\"2002-12-31T00:00:00\",\"2003-01-02T00:00:00\",\"2003-01-03T00:00:00\",\"2003-01-06T00:00:00\",\"2003-01-07T00:00:00\",\"2003-01-08T00:00:00\",\"2003-01-09T00:00:00\",\"2003-01-10T00:00:00\",\"2003-01-13T00:00:00\",\"2003-01-14T00:00:00\",\"2003-01-15T00:00:00\",\"2003-01-16T00:00:00\",\"2003-01-17T00:00:00\",\"2003-01-21T00:00:00\",\"2003-01-22T00:00:00\",\"2003-01-23T00:00:00\",\"2003-01-24T00:00:00\",\"2003-01-27T00:00:00\",\"2003-01-28T00:00:00\",\"2003-01-29T00:00:00\",\"2003-01-30T00:00:00\",\"2003-01-31T00:00:00\",\"2003-02-03T00:00:00\",\"2003-02-04T00:00:00\",\"2003-02-05T00:00:00\",\"2003-02-06T00:00:00\",\"2003-02-07T00:00:00\",\"2003-02-10T00:00:00\",\"2003-02-11T00:00:00\",\"2003-02-12T00:00:00\",\"2003-02-13T00:00:00\",\"2003-02-14T00:00:00\",\"2003-02-18T00:00:00\",\"2003-02-19T00:00:00\",\"2003-02-20T00:00:00\",\"2003-02-21T00:00:00\",\"2003-02-24T00:00:00\",\"2003-02-25T00:00:00\",\"2003-02-26T00:00:00\",\"2003-02-27T00:00:00\",\"2003-02-28T00:00:00\",\"2003-03-03T00:00:00\",\"2003-03-04T00:00:00\",\"2003-03-05T00:00:00\",\"2003-03-06T00:00:00\",\"2003-03-07T00:00:00\",\"2003-03-10T00:00:00\",\"2003-03-11T00:00:00\",\"2003-03-12T00:00:00\",\"2003-03-13T00:00:00\",\"2003-03-14T00:00:00\",\"2003-03-17T00:00:00\",\"2003-03-18T00:00:00\",\"2003-03-19T00:00:00\",\"2003-03-20T00:00:00\",\"2003-03-21T00:00:00\",\"2003-03-24T00:00:00\",\"2003-03-25T00:00:00\",\"2003-03-26T00:00:00\",\"2003-03-27T00:00:00\",\"2003-03-28T00:00:00\",\"2003-03-31T00:00:00\",\"2003-04-01T00:00:00\",\"2003-04-02T00:00:00\",\"2003-04-03T00:00:00\",\"2003-04-04T00:00:00\",\"2003-04-07T00:00:00\",\"2003-04-08T00:00:00\",\"2003-04-09T00:00:00\",\"2003-04-10T00:00:00\",\"2003-04-11T00:00:00\",\"2003-04-14T00:00:00\",\"2003-04-15T00:00:00\",\"2003-04-16T00:00:00\",\"2003-04-17T00:00:00\",\"2003-04-21T00:00:00\",\"2003-04-22T00:00:00\",\"2003-04-23T00:00:00\",\"2003-04-24T00:00:00\",\"2003-04-25T00:00:00\",\"2003-04-28T00:00:00\",\"2003-04-29T00:00:00\",\"2003-04-30T00:00:00\",\"2003-05-01T00:00:00\",\"2003-05-02T00:00:00\",\"2003-05-05T00:00:00\",\"2003-05-06T00:00:00\",\"2003-05-07T00:00:00\",\"2003-05-08T00:00:00\",\"2003-05-09T00:00:00\",\"2003-05-12T00:00:00\",\"2003-05-13T00:00:00\",\"2003-05-14T00:00:00\",\"2003-05-15T00:00:00\",\"2003-05-16T00:00:00\",\"2003-05-19T00:00:00\",\"2003-05-20T00:00:00\",\"2003-05-21T00:00:00\",\"2003-05-22T00:00:00\",\"2003-05-23T00:00:00\",\"2003-05-27T00:00:00\",\"2003-05-28T00:00:00\",\"2003-05-29T00:00:00\",\"2003-05-30T00:00:00\",\"2003-06-02T00:00:00\",\"2003-06-03T00:00:00\",\"2003-06-04T00:00:00\",\"2003-06-05T00:00:00\",\"2003-06-06T00:00:00\",\"2003-06-09T00:00:00\",\"2003-06-10T00:00:00\",\"2003-06-11T00:00:00\",\"2003-06-12T00:00:00\",\"2003-06-13T00:00:00\",\"2003-06-16T00:00:00\",\"2003-06-17T00:00:00\",\"2003-06-18T00:00:00\",\"2003-06-19T00:00:00\",\"2003-06-20T00:00:00\",\"2003-06-23T00:00:00\",\"2003-06-24T00:00:00\",\"2003-06-25T00:00:00\",\"2003-06-26T00:00:00\",\"2003-06-27T00:00:00\",\"2003-06-30T00:00:00\",\"2003-07-01T00:00:00\",\"2003-07-02T00:00:00\",\"2003-07-03T00:00:00\",\"2003-07-07T00:00:00\",\"2003-07-08T00:00:00\",\"2003-07-09T00:00:00\",\"2003-07-10T00:00:00\",\"2003-07-11T00:00:00\",\"2003-07-14T00:00:00\",\"2003-07-15T00:00:00\",\"2003-07-16T00:00:00\",\"2003-07-17T00:00:00\",\"2003-07-18T00:00:00\",\"2003-07-21T00:00:00\",\"2003-07-22T00:00:00\",\"2003-07-23T00:00:00\",\"2003-07-24T00:00:00\",\"2003-07-25T00:00:00\",\"2003-07-28T00:00:00\",\"2003-07-29T00:00:00\",\"2003-07-30T00:00:00\",\"2003-07-31T00:00:00\",\"2003-08-01T00:00:00\",\"2003-08-04T00:00:00\",\"2003-08-05T00:00:00\",\"2003-08-06T00:00:00\",\"2003-08-07T00:00:00\",\"2003-08-08T00:00:00\",\"2003-08-11T00:00:00\",\"2003-08-12T00:00:00\",\"2003-08-13T00:00:00\",\"2003-08-14T00:00:00\",\"2003-08-15T00:00:00\",\"2003-08-18T00:00:00\",\"2003-08-19T00:00:00\",\"2003-08-20T00:00:00\",\"2003-08-21T00:00:00\",\"2003-08-22T00:00:00\",\"2003-08-25T00:00:00\",\"2003-08-26T00:00:00\",\"2003-08-27T00:00:00\",\"2003-08-28T00:00:00\",\"2003-08-29T00:00:00\",\"2003-09-02T00:00:00\",\"2003-09-03T00:00:00\",\"2003-09-04T00:00:00\",\"2003-09-05T00:00:00\",\"2003-09-08T00:00:00\",\"2003-09-09T00:00:00\",\"2003-09-10T00:00:00\",\"2003-09-11T00:00:00\",\"2003-09-12T00:00:00\",\"2003-09-15T00:00:00\",\"2003-09-16T00:00:00\",\"2003-09-17T00:00:00\",\"2003-09-18T00:00:00\",\"2003-09-19T00:00:00\",\"2003-09-22T00:00:00\",\"2003-09-23T00:00:00\",\"2003-09-24T00:00:00\",\"2003-09-25T00:00:00\",\"2003-09-26T00:00:00\",\"2003-09-29T00:00:00\",\"2003-09-30T00:00:00\",\"2003-10-01T00:00:00\",\"2003-10-02T00:00:00\",\"2003-10-03T00:00:00\",\"2003-10-06T00:00:00\",\"2003-10-07T00:00:00\",\"2003-10-08T00:00:00\",\"2003-10-09T00:00:00\",\"2003-10-10T00:00:00\",\"2003-10-13T00:00:00\",\"2003-10-14T00:00:00\",\"2003-10-15T00:00:00\",\"2003-10-16T00:00:00\",\"2003-10-17T00:00:00\",\"2003-10-20T00:00:00\",\"2003-10-21T00:00:00\",\"2003-10-22T00:00:00\",\"2003-10-23T00:00:00\",\"2003-10-24T00:00:00\",\"2003-10-27T00:00:00\",\"2003-10-28T00:00:00\",\"2003-10-29T00:00:00\",\"2003-10-30T00:00:00\",\"2003-10-31T00:00:00\",\"2003-11-03T00:00:00\",\"2003-11-04T00:00:00\",\"2003-11-05T00:00:00\",\"2003-11-06T00:00:00\",\"2003-11-07T00:00:00\",\"2003-11-10T00:00:00\",\"2003-11-11T00:00:00\",\"2003-11-12T00:00:00\",\"2003-11-13T00:00:00\",\"2003-11-14T00:00:00\",\"2003-11-17T00:00:00\",\"2003-11-18T00:00:00\",\"2003-11-19T00:00:00\",\"2003-11-20T00:00:00\",\"2003-11-21T00:00:00\",\"2003-11-24T00:00:00\",\"2003-11-25T00:00:00\",\"2003-11-26T00:00:00\",\"2003-11-28T00:00:00\",\"2003-12-01T00:00:00\",\"2003-12-02T00:00:00\",\"2003-12-03T00:00:00\",\"2003-12-04T00:00:00\",\"2003-12-05T00:00:00\",\"2003-12-08T00:00:00\",\"2003-12-09T00:00:00\",\"2003-12-10T00:00:00\",\"2003-12-11T00:00:00\",\"2003-12-12T00:00:00\",\"2003-12-15T00:00:00\",\"2003-12-16T00:00:00\",\"2003-12-17T00:00:00\",\"2003-12-18T00:00:00\",\"2003-12-19T00:00:00\",\"2003-12-22T00:00:00\",\"2003-12-23T00:00:00\",\"2003-12-24T00:00:00\",\"2003-12-26T00:00:00\",\"2003-12-29T00:00:00\",\"2003-12-30T00:00:00\",\"2003-12-31T00:00:00\",\"2004-01-02T00:00:00\",\"2004-01-05T00:00:00\",\"2004-01-06T00:00:00\",\"2004-01-07T00:00:00\",\"2004-01-08T00:00:00\",\"2004-01-09T00:00:00\",\"2004-01-12T00:00:00\",\"2004-01-13T00:00:00\",\"2004-01-14T00:00:00\",\"2004-01-15T00:00:00\",\"2004-01-16T00:00:00\",\"2004-01-20T00:00:00\",\"2004-01-21T00:00:00\",\"2004-01-22T00:00:00\",\"2004-01-23T00:00:00\",\"2004-01-26T00:00:00\",\"2004-01-27T00:00:00\",\"2004-01-28T00:00:00\",\"2004-01-29T00:00:00\",\"2004-01-30T00:00:00\",\"2004-02-02T00:00:00\",\"2004-02-03T00:00:00\",\"2004-02-04T00:00:00\",\"2004-02-05T00:00:00\",\"2004-02-06T00:00:00\",\"2004-02-09T00:00:00\",\"2004-02-10T00:00:00\",\"2004-02-11T00:00:00\",\"2004-02-12T00:00:00\",\"2004-02-13T00:00:00\",\"2004-02-17T00:00:00\",\"2004-02-18T00:00:00\",\"2004-02-19T00:00:00\",\"2004-02-20T00:00:00\",\"2004-02-23T00:00:00\",\"2004-02-24T00:00:00\",\"2004-02-25T00:00:00\",\"2004-02-26T00:00:00\",\"2004-02-27T00:00:00\",\"2004-03-01T00:00:00\",\"2004-03-02T00:00:00\",\"2004-03-03T00:00:00\",\"2004-03-04T00:00:00\",\"2004-03-05T00:00:00\",\"2004-03-08T00:00:00\",\"2004-03-09T00:00:00\",\"2004-03-10T00:00:00\",\"2004-03-11T00:00:00\",\"2004-03-12T00:00:00\",\"2004-03-15T00:00:00\",\"2004-03-16T00:00:00\",\"2004-03-17T00:00:00\",\"2004-03-18T00:00:00\",\"2004-03-19T00:00:00\",\"2004-03-22T00:00:00\",\"2004-03-23T00:00:00\",\"2004-03-24T00:00:00\",\"2004-03-25T00:00:00\",\"2004-03-26T00:00:00\",\"2004-03-29T00:00:00\",\"2004-03-30T00:00:00\",\"2004-03-31T00:00:00\",\"2004-04-01T00:00:00\",\"2004-04-02T00:00:00\",\"2004-04-05T00:00:00\",\"2004-04-06T00:00:00\",\"2004-04-07T00:00:00\",\"2004-04-08T00:00:00\",\"2004-04-12T00:00:00\",\"2004-04-13T00:00:00\",\"2004-04-14T00:00:00\",\"2004-04-15T00:00:00\",\"2004-04-16T00:00:00\",\"2004-04-19T00:00:00\",\"2004-04-20T00:00:00\",\"2004-04-21T00:00:00\",\"2004-04-22T00:00:00\",\"2004-04-23T00:00:00\",\"2004-04-26T00:00:00\",\"2004-04-27T00:00:00\",\"2004-04-28T00:00:00\",\"2004-04-29T00:00:00\",\"2004-04-30T00:00:00\",\"2004-05-03T00:00:00\",\"2004-05-04T00:00:00\",\"2004-05-05T00:00:00\",\"2004-05-06T00:00:00\",\"2004-05-07T00:00:00\",\"2004-05-10T00:00:00\",\"2004-05-11T00:00:00\",\"2004-05-12T00:00:00\",\"2004-05-13T00:00:00\",\"2004-05-14T00:00:00\",\"2004-05-17T00:00:00\",\"2004-05-18T00:00:00\",\"2004-05-19T00:00:00\",\"2004-05-20T00:00:00\",\"2004-05-21T00:00:00\",\"2004-05-24T00:00:00\",\"2004-05-25T00:00:00\",\"2004-05-26T00:00:00\",\"2004-05-27T00:00:00\",\"2004-05-28T00:00:00\",\"2004-06-01T00:00:00\",\"2004-06-02T00:00:00\",\"2004-06-03T00:00:00\",\"2004-06-04T00:00:00\",\"2004-06-07T00:00:00\",\"2004-06-08T00:00:00\",\"2004-06-09T00:00:00\",\"2004-06-10T00:00:00\",\"2004-06-14T00:00:00\",\"2004-06-15T00:00:00\",\"2004-06-16T00:00:00\",\"2004-06-17T00:00:00\",\"2004-06-18T00:00:00\",\"2004-06-21T00:00:00\",\"2004-06-22T00:00:00\",\"2004-06-23T00:00:00\",\"2004-06-24T00:00:00\",\"2004-06-25T00:00:00\",\"2004-06-28T00:00:00\",\"2004-06-29T00:00:00\",\"2004-06-30T00:00:00\",\"2004-07-01T00:00:00\",\"2004-07-02T00:00:00\",\"2004-07-06T00:00:00\",\"2004-07-07T00:00:00\",\"2004-07-08T00:00:00\",\"2004-07-09T00:00:00\",\"2004-07-12T00:00:00\",\"2004-07-13T00:00:00\",\"2004-07-14T00:00:00\",\"2004-07-15T00:00:00\",\"2004-07-16T00:00:00\",\"2004-07-19T00:00:00\",\"2004-07-20T00:00:00\",\"2004-07-21T00:00:00\",\"2004-07-22T00:00:00\",\"2004-07-23T00:00:00\",\"2004-07-26T00:00:00\",\"2004-07-27T00:00:00\",\"2004-07-28T00:00:00\",\"2004-07-29T00:00:00\",\"2004-07-30T00:00:00\",\"2004-08-02T00:00:00\",\"2004-08-03T00:00:00\",\"2004-08-04T00:00:00\",\"2004-08-05T00:00:00\",\"2004-08-06T00:00:00\",\"2004-08-09T00:00:00\",\"2004-08-10T00:00:00\",\"2004-08-11T00:00:00\",\"2004-08-12T00:00:00\",\"2004-08-13T00:00:00\",\"2004-08-16T00:00:00\",\"2004-08-17T00:00:00\",\"2004-08-18T00:00:00\",\"2004-08-19T00:00:00\",\"2004-08-20T00:00:00\",\"2004-08-23T00:00:00\",\"2004-08-24T00:00:00\",\"2004-08-25T00:00:00\",\"2004-08-26T00:00:00\",\"2004-08-27T00:00:00\",\"2004-08-30T00:00:00\",\"2004-08-31T00:00:00\",\"2004-09-01T00:00:00\",\"2004-09-02T00:00:00\",\"2004-09-03T00:00:00\",\"2004-09-07T00:00:00\",\"2004-09-08T00:00:00\",\"2004-09-09T00:00:00\",\"2004-09-10T00:00:00\",\"2004-09-13T00:00:00\",\"2004-09-14T00:00:00\",\"2004-09-15T00:00:00\",\"2004-09-16T00:00:00\",\"2004-09-17T00:00:00\",\"2004-09-20T00:00:00\",\"2004-09-21T00:00:00\",\"2004-09-22T00:00:00\",\"2004-09-23T00:00:00\",\"2004-09-24T00:00:00\",\"2004-09-27T00:00:00\",\"2004-09-28T00:00:00\",\"2004-09-29T00:00:00\",\"2004-09-30T00:00:00\",\"2004-10-01T00:00:00\",\"2004-10-04T00:00:00\",\"2004-10-05T00:00:00\",\"2004-10-06T00:00:00\",\"2004-10-07T00:00:00\",\"2004-10-08T00:00:00\",\"2004-10-11T00:00:00\",\"2004-10-12T00:00:00\",\"2004-10-13T00:00:00\",\"2004-10-14T00:00:00\",\"2004-10-15T00:00:00\",\"2004-10-18T00:00:00\",\"2004-10-19T00:00:00\",\"2004-10-20T00:00:00\",\"2004-10-21T00:00:00\",\"2004-10-22T00:00:00\",\"2004-10-25T00:00:00\",\"2004-10-26T00:00:00\",\"2004-10-27T00:00:00\",\"2004-10-28T00:00:00\",\"2004-10-29T00:00:00\",\"2004-11-01T00:00:00\",\"2004-11-02T00:00:00\",\"2004-11-03T00:00:00\",\"2004-11-04T00:00:00\",\"2004-11-05T00:00:00\",\"2004-11-08T00:00:00\",\"2004-11-09T00:00:00\",\"2004-11-10T00:00:00\",\"2004-11-11T00:00:00\",\"2004-11-12T00:00:00\",\"2004-11-15T00:00:00\",\"2004-11-16T00:00:00\",\"2004-11-17T00:00:00\",\"2004-11-18T00:00:00\",\"2004-11-19T00:00:00\",\"2004-11-22T00:00:00\",\"2004-11-23T00:00:00\",\"2004-11-24T00:00:00\",\"2004-11-26T00:00:00\",\"2004-11-29T00:00:00\",\"2004-11-30T00:00:00\",\"2004-12-01T00:00:00\",\"2004-12-02T00:00:00\",\"2004-12-03T00:00:00\",\"2004-12-06T00:00:00\",\"2004-12-07T00:00:00\",\"2004-12-08T00:00:00\",\"2004-12-09T00:00:00\",\"2004-12-10T00:00:00\",\"2004-12-13T00:00:00\",\"2004-12-14T00:00:00\",\"2004-12-15T00:00:00\",\"2004-12-16T00:00:00\",\"2004-12-17T00:00:00\",\"2004-12-20T00:00:00\",\"2004-12-21T00:00:00\",\"2004-12-22T00:00:00\",\"2004-12-23T00:00:00\",\"2004-12-27T00:00:00\",\"2004-12-28T00:00:00\",\"2004-12-29T00:00:00\",\"2004-12-30T00:00:00\",\"2004-12-31T00:00:00\",\"2005-01-03T00:00:00\",\"2005-01-04T00:00:00\",\"2005-01-05T00:00:00\",\"2005-01-06T00:00:00\",\"2005-01-07T00:00:00\",\"2005-01-10T00:00:00\",\"2005-01-11T00:00:00\",\"2005-01-12T00:00:00\",\"2005-01-13T00:00:00\",\"2005-01-14T00:00:00\",\"2005-01-18T00:00:00\",\"2005-01-19T00:00:00\",\"2005-01-20T00:00:00\",\"2005-01-21T00:00:00\",\"2005-01-24T00:00:00\",\"2005-01-25T00:00:00\",\"2005-01-26T00:00:00\",\"2005-01-27T00:00:00\",\"2005-01-28T00:00:00\",\"2005-01-31T00:00:00\",\"2005-02-01T00:00:00\",\"2005-02-02T00:00:00\",\"2005-02-03T00:00:00\",\"2005-02-04T00:00:00\",\"2005-02-07T00:00:00\",\"2005-02-08T00:00:00\",\"2005-02-09T00:00:00\",\"2005-02-10T00:00:00\",\"2005-02-11T00:00:00\",\"2005-02-14T00:00:00\",\"2005-02-15T00:00:00\",\"2005-02-16T00:00:00\",\"2005-02-17T00:00:00\",\"2005-02-18T00:00:00\",\"2005-02-22T00:00:00\",\"2005-02-23T00:00:00\",\"2005-02-24T00:00:00\",\"2005-02-25T00:00:00\",\"2005-02-28T00:00:00\",\"2005-03-01T00:00:00\",\"2005-03-02T00:00:00\",\"2005-03-03T00:00:00\",\"2005-03-04T00:00:00\",\"2005-03-07T00:00:00\",\"2005-03-08T00:00:00\",\"2005-03-09T00:00:00\",\"2005-03-10T00:00:00\",\"2005-03-11T00:00:00\",\"2005-03-14T00:00:00\",\"2005-03-15T00:00:00\",\"2005-03-16T00:00:00\",\"2005-03-17T00:00:00\",\"2005-03-18T00:00:00\",\"2005-03-21T00:00:00\",\"2005-03-22T00:00:00\",\"2005-03-23T00:00:00\",\"2005-03-24T00:00:00\",\"2005-03-28T00:00:00\",\"2005-03-29T00:00:00\",\"2005-03-30T00:00:00\",\"2005-03-31T00:00:00\",\"2005-04-01T00:00:00\",\"2005-04-04T00:00:00\",\"2005-04-05T00:00:00\",\"2005-04-06T00:00:00\",\"2005-04-07T00:00:00\",\"2005-04-08T00:00:00\",\"2005-04-11T00:00:00\",\"2005-04-12T00:00:00\",\"2005-04-13T00:00:00\",\"2005-04-14T00:00:00\",\"2005-04-15T00:00:00\",\"2005-04-18T00:00:00\",\"2005-04-19T00:00:00\",\"2005-04-20T00:00:00\",\"2005-04-21T00:00:00\",\"2005-04-22T00:00:00\",\"2005-04-25T00:00:00\",\"2005-04-26T00:00:00\",\"2005-04-27T00:00:00\",\"2005-04-28T00:00:00\",\"2005-04-29T00:00:00\",\"2005-05-02T00:00:00\",\"2005-05-03T00:00:00\",\"2005-05-04T00:00:00\",\"2005-05-05T00:00:00\",\"2005-05-06T00:00:00\",\"2005-05-09T00:00:00\",\"2005-05-10T00:00:00\",\"2005-05-11T00:00:00\",\"2005-05-12T00:00:00\",\"2005-05-13T00:00:00\",\"2005-05-16T00:00:00\",\"2005-05-17T00:00:00\",\"2005-05-18T00:00:00\",\"2005-05-19T00:00:00\",\"2005-05-20T00:00:00\",\"2005-05-23T00:00:00\",\"2005-05-24T00:00:00\",\"2005-05-25T00:00:00\",\"2005-05-26T00:00:00\",\"2005-05-27T00:00:00\",\"2005-05-31T00:00:00\",\"2005-06-01T00:00:00\",\"2005-06-02T00:00:00\",\"2005-06-03T00:00:00\",\"2005-06-06T00:00:00\",\"2005-06-07T00:00:00\",\"2005-06-08T00:00:00\",\"2005-06-09T00:00:00\",\"2005-06-10T00:00:00\",\"2005-06-13T00:00:00\",\"2005-06-14T00:00:00\",\"2005-06-15T00:00:00\",\"2005-06-16T00:00:00\",\"2005-06-17T00:00:00\",\"2005-06-20T00:00:00\",\"2005-06-21T00:00:00\",\"2005-06-22T00:00:00\",\"2005-06-23T00:00:00\",\"2005-06-24T00:00:00\",\"2005-06-27T00:00:00\",\"2005-06-28T00:00:00\",\"2005-06-29T00:00:00\",\"2005-06-30T00:00:00\",\"2005-07-01T00:00:00\",\"2005-07-05T00:00:00\",\"2005-07-06T00:00:00\",\"2005-07-07T00:00:00\",\"2005-07-08T00:00:00\",\"2005-07-09T00:00:00\",\"2005-07-10T00:00:00\",\"2005-07-11T00:00:00\",\"2005-07-12T00:00:00\",\"2005-07-13T00:00:00\",\"2005-07-14T00:00:00\",\"2005-07-15T00:00:00\",\"2005-07-16T00:00:00\",\"2005-07-17T00:00:00\",\"2005-07-18T00:00:00\",\"2005-07-19T00:00:00\",\"2005-07-20T00:00:00\",\"2005-07-21T00:00:00\",\"2005-07-22T00:00:00\",\"2005-07-23T00:00:00\",\"2005-07-24T00:00:00\",\"2005-07-25T00:00:00\",\"2005-07-26T00:00:00\",\"2005-07-27T00:00:00\",\"2005-07-28T00:00:00\",\"2005-07-29T00:00:00\",\"2005-07-30T00:00:00\",\"2005-07-31T00:00:00\",\"2005-08-01T00:00:00\",\"2005-08-02T00:00:00\",\"2005-08-03T00:00:00\",\"2005-08-04T00:00:00\",\"2005-08-05T00:00:00\",\"2005-08-06T00:00:00\",\"2005-08-07T00:00:00\",\"2005-08-08T00:00:00\",\"2005-08-09T00:00:00\",\"2005-08-10T00:00:00\",\"2005-08-11T00:00:00\",\"2005-08-12T00:00:00\",\"2005-08-13T00:00:00\",\"2005-08-14T00:00:00\",\"2005-08-15T00:00:00\",\"2005-08-16T00:00:00\",\"2005-08-17T00:00:00\",\"2005-08-18T00:00:00\",\"2005-08-19T00:00:00\",\"2005-08-20T00:00:00\",\"2005-08-21T00:00:00\",\"2005-08-22T00:00:00\",\"2005-08-23T00:00:00\",\"2005-08-24T00:00:00\",\"2005-08-25T00:00:00\",\"2005-08-26T00:00:00\",\"2005-08-27T00:00:00\",\"2005-08-28T00:00:00\",\"2005-08-29T00:00:00\",\"2005-08-30T00:00:00\",\"2005-08-31T00:00:00\",\"2005-09-01T00:00:00\",\"2005-09-02T00:00:00\",\"2005-09-03T00:00:00\",\"2005-09-04T00:00:00\",\"2005-09-05T00:00:00\",\"2005-09-06T00:00:00\",\"2005-09-07T00:00:00\",\"2005-09-08T00:00:00\",\"2005-09-09T00:00:00\",\"2005-09-10T00:00:00\",\"2005-09-11T00:00:00\",\"2005-09-12T00:00:00\",\"2005-09-13T00:00:00\",\"2005-09-14T00:00:00\",\"2005-09-15T00:00:00\",\"2005-09-16T00:00:00\",\"2005-09-17T00:00:00\",\"2005-09-18T00:00:00\",\"2005-09-19T00:00:00\",\"2005-09-20T00:00:00\",\"2005-09-21T00:00:00\",\"2005-09-22T00:00:00\",\"2005-09-23T00:00:00\",\"2005-09-24T00:00:00\",\"2005-09-25T00:00:00\",\"2005-09-26T00:00:00\",\"2005-09-27T00:00:00\",\"2005-09-28T00:00:00\",\"2005-09-29T00:00:00\",\"2005-09-30T00:00:00\",\"2005-10-01T00:00:00\",\"2005-10-02T00:00:00\",\"2005-10-03T00:00:00\",\"2005-10-04T00:00:00\",\"2005-10-05T00:00:00\",\"2005-10-06T00:00:00\",\"2005-10-07T00:00:00\",\"2005-10-08T00:00:00\",\"2005-10-09T00:00:00\",\"2005-10-10T00:00:00\",\"2005-10-11T00:00:00\",\"2005-10-12T00:00:00\",\"2005-10-13T00:00:00\",\"2005-10-14T00:00:00\",\"2005-10-15T00:00:00\",\"2005-10-16T00:00:00\",\"2005-10-17T00:00:00\",\"2005-10-18T00:00:00\",\"2005-10-19T00:00:00\",\"2005-10-20T00:00:00\",\"2005-10-21T00:00:00\",\"2005-10-22T00:00:00\",\"2005-10-23T00:00:00\",\"2005-10-24T00:00:00\",\"2005-10-25T00:00:00\",\"2005-10-26T00:00:00\",\"2005-10-27T00:00:00\",\"2005-10-28T00:00:00\",\"2005-10-29T00:00:00\",\"2005-10-30T00:00:00\",\"2005-10-31T00:00:00\",\"2005-11-01T00:00:00\",\"2005-11-02T00:00:00\",\"2005-11-03T00:00:00\",\"2005-11-04T00:00:00\",\"2005-11-05T00:00:00\",\"2005-11-06T00:00:00\",\"2005-11-07T00:00:00\",\"2005-11-08T00:00:00\",\"2005-11-09T00:00:00\",\"2005-11-10T00:00:00\",\"2005-11-11T00:00:00\",\"2005-11-12T00:00:00\",\"2005-11-13T00:00:00\",\"2005-11-14T00:00:00\",\"2005-11-15T00:00:00\",\"2005-11-16T00:00:00\",\"2005-11-17T00:00:00\",\"2005-11-18T00:00:00\",\"2005-11-19T00:00:00\",\"2005-11-20T00:00:00\",\"2005-11-21T00:00:00\",\"2005-11-22T00:00:00\",\"2005-11-23T00:00:00\",\"2005-11-24T00:00:00\",\"2005-11-25T00:00:00\",\"2005-11-26T00:00:00\",\"2005-11-27T00:00:00\",\"2005-11-28T00:00:00\",\"2005-11-29T00:00:00\",\"2005-11-30T00:00:00\",\"2005-12-01T00:00:00\",\"2005-12-02T00:00:00\",\"2005-12-03T00:00:00\",\"2005-12-04T00:00:00\",\"2005-12-05T00:00:00\",\"2005-12-06T00:00:00\",\"2005-12-07T00:00:00\",\"2005-12-08T00:00:00\",\"2005-12-09T00:00:00\",\"2005-12-10T00:00:00\",\"2005-12-11T00:00:00\",\"2005-12-12T00:00:00\",\"2005-12-13T00:00:00\",\"2005-12-14T00:00:00\",\"2005-12-15T00:00:00\",\"2005-12-16T00:00:00\",\"2005-12-17T00:00:00\",\"2005-12-18T00:00:00\",\"2005-12-19T00:00:00\",\"2005-12-20T00:00:00\",\"2005-12-21T00:00:00\",\"2005-12-22T00:00:00\",\"2005-12-23T00:00:00\",\"2005-12-24T00:00:00\",\"2005-12-25T00:00:00\",\"2005-12-26T00:00:00\",\"2005-12-27T00:00:00\",\"2005-12-28T00:00:00\",\"2005-12-29T00:00:00\",\"2005-12-30T00:00:00\",\"2005-12-31T00:00:00\",\"2006-01-01T00:00:00\",\"2006-01-02T00:00:00\",\"2006-01-03T00:00:00\",\"2006-01-04T00:00:00\",\"2006-01-05T00:00:00\",\"2006-01-06T00:00:00\",\"2006-01-07T00:00:00\",\"2006-01-08T00:00:00\",\"2006-01-09T00:00:00\",\"2006-01-10T00:00:00\",\"2006-01-11T00:00:00\",\"2006-01-12T00:00:00\",\"2006-01-13T00:00:00\",\"2006-01-14T00:00:00\",\"2006-01-15T00:00:00\",\"2006-01-16T00:00:00\",\"2006-01-17T00:00:00\",\"2006-01-18T00:00:00\",\"2006-01-19T00:00:00\",\"2006-01-20T00:00:00\",\"2006-01-21T00:00:00\",\"2006-01-22T00:00:00\",\"2006-01-23T00:00:00\",\"2006-01-24T00:00:00\",\"2006-01-25T00:00:00\",\"2006-01-26T00:00:00\",\"2006-01-27T00:00:00\",\"2006-01-28T00:00:00\",\"2006-01-29T00:00:00\",\"2006-01-30T00:00:00\",\"2006-01-31T00:00:00\",\"2006-02-01T00:00:00\",\"2006-02-02T00:00:00\",\"2006-02-03T00:00:00\",\"2006-02-04T00:00:00\",\"2006-02-05T00:00:00\",\"2006-02-06T00:00:00\",\"2006-02-07T00:00:00\",\"2006-02-08T00:00:00\",\"2006-02-09T00:00:00\",\"2006-02-10T00:00:00\",\"2006-02-11T00:00:00\",\"2006-02-12T00:00:00\",\"2006-02-13T00:00:00\",\"2006-02-14T00:00:00\",\"2006-02-15T00:00:00\",\"2006-02-16T00:00:00\",\"2006-02-17T00:00:00\",\"2006-02-18T00:00:00\",\"2006-02-19T00:00:00\",\"2006-02-20T00:00:00\",\"2006-02-21T00:00:00\",\"2006-02-22T00:00:00\",\"2006-02-23T00:00:00\",\"2006-02-24T00:00:00\",\"2006-02-25T00:00:00\",\"2006-02-26T00:00:00\",\"2006-02-27T00:00:00\",\"2006-02-28T00:00:00\",\"2006-03-01T00:00:00\",\"2006-03-02T00:00:00\",\"2006-03-03T00:00:00\",\"2006-03-04T00:00:00\",\"2006-03-05T00:00:00\",\"2006-03-06T00:00:00\",\"2006-03-07T00:00:00\",\"2006-03-08T00:00:00\",\"2006-03-09T00:00:00\",\"2006-03-10T00:00:00\",\"2006-03-11T00:00:00\",\"2006-03-12T00:00:00\",\"2006-03-13T00:00:00\",\"2006-03-14T00:00:00\",\"2006-03-15T00:00:00\",\"2006-03-16T00:00:00\",\"2006-03-17T00:00:00\",\"2006-03-18T00:00:00\",\"2006-03-19T00:00:00\",\"2006-03-20T00:00:00\",\"2006-03-21T00:00:00\",\"2006-03-22T00:00:00\",\"2006-03-23T00:00:00\",\"2006-03-24T00:00:00\",\"2006-03-25T00:00:00\",\"2006-03-26T00:00:00\",\"2006-03-27T00:00:00\",\"2006-03-28T00:00:00\",\"2006-03-29T00:00:00\",\"2006-03-30T00:00:00\",\"2006-03-31T00:00:00\",\"2006-04-01T00:00:00\",\"2006-04-02T00:00:00\",\"2006-04-03T00:00:00\",\"2006-04-04T00:00:00\",\"2006-04-05T00:00:00\",\"2006-04-06T00:00:00\",\"2006-04-07T00:00:00\",\"2006-04-08T00:00:00\",\"2006-04-09T00:00:00\",\"2006-04-10T00:00:00\",\"2006-04-11T00:00:00\",\"2006-04-12T00:00:00\",\"2006-04-13T00:00:00\",\"2006-04-14T00:00:00\",\"2006-04-15T00:00:00\",\"2006-04-16T00:00:00\",\"2006-04-17T00:00:00\",\"2006-04-18T00:00:00\",\"2006-04-19T00:00:00\",\"2006-04-20T00:00:00\",\"2006-04-21T00:00:00\",\"2006-04-22T00:00:00\",\"2006-04-23T00:00:00\",\"2006-04-24T00:00:00\",\"2006-04-25T00:00:00\",\"2006-04-26T00:00:00\",\"2006-04-27T00:00:00\",\"2006-04-28T00:00:00\",\"2006-04-29T00:00:00\",\"2006-04-30T00:00:00\",\"2006-05-01T00:00:00\",\"2006-05-02T00:00:00\",\"2006-05-03T00:00:00\",\"2006-05-04T00:00:00\",\"2006-05-05T00:00:00\",\"2006-05-06T00:00:00\",\"2006-05-07T00:00:00\",\"2006-05-08T00:00:00\",\"2006-05-09T00:00:00\",\"2006-05-10T00:00:00\",\"2006-05-11T00:00:00\",\"2006-05-12T00:00:00\",\"2006-05-13T00:00:00\",\"2006-05-14T00:00:00\",\"2006-05-15T00:00:00\",\"2006-05-16T00:00:00\",\"2006-05-17T00:00:00\",\"2006-05-18T00:00:00\",\"2006-05-19T00:00:00\",\"2006-05-20T00:00:00\",\"2006-05-21T00:00:00\",\"2006-05-22T00:00:00\",\"2006-05-23T00:00:00\",\"2006-05-24T00:00:00\",\"2006-05-25T00:00:00\",\"2006-05-26T00:00:00\",\"2006-05-27T00:00:00\",\"2006-05-28T00:00:00\",\"2006-05-29T00:00:00\",\"2006-05-30T00:00:00\",\"2006-05-31T00:00:00\",\"2006-06-01T00:00:00\",\"2006-06-02T00:00:00\",\"2006-06-03T00:00:00\",\"2006-06-04T00:00:00\",\"2006-06-05T00:00:00\",\"2006-06-06T00:00:00\",\"2006-06-07T00:00:00\",\"2006-06-08T00:00:00\",\"2006-06-09T00:00:00\",\"2006-06-10T00:00:00\",\"2006-06-11T00:00:00\",\"2006-06-12T00:00:00\",\"2006-06-13T00:00:00\",\"2006-06-14T00:00:00\",\"2006-06-15T00:00:00\",\"2006-06-16T00:00:00\",\"2006-06-17T00:00:00\",\"2006-06-18T00:00:00\",\"2006-06-19T00:00:00\",\"2006-06-20T00:00:00\",\"2006-06-21T00:00:00\",\"2006-06-22T00:00:00\",\"2006-06-23T00:00:00\",\"2006-06-24T00:00:00\",\"2006-06-25T00:00:00\",\"2006-06-26T00:00:00\",\"2006-06-27T00:00:00\",\"2006-06-28T00:00:00\",\"2006-06-29T00:00:00\",\"2006-06-30T00:00:00\",\"2006-07-01T00:00:00\",\"2006-07-02T00:00:00\",\"2006-07-03T00:00:00\",\"2006-07-04T00:00:00\",\"2006-07-05T00:00:00\"],\"y\":[15.62877173064378,15.836400111911455,15.88120360845325,15.79185005518128,15.645492504799545,15.530401989608533,15.5574279084871,15.593330129298419,15.54023739141335,15.396304845582703,15.106953134347858,14.898906514960478,14.660821696613722,14.507492135521291,14.593433139804983,15.44811283282512,15.212196124138357,14.895445495360141,14.724604578256034,14.765645291537654,14.756416600155198,14.587517546770362,14.644067325222974,14.85927451331732,15.023281476189412,14.72976830062524,14.74091065953042,14.931307002223205,15.096481009730065,15.101700938104797,15.116085701355756,15.339502215501199,15.59653141637703,15.699187414093226,15.591665300743852,15.269521999804073,15.331101206504794,15.402502188278294,15.346269670103954,15.178627829920785,15.390415124276212,15.407619205440382,15.328118739654187,15.271891387038282,15.637559333749698,15.553716053201372,15.418490264673961,15.31383309522596,15.291169191704748,15.530321938455593,15.591746544861806,15.686863884157127,15.710567904563586,15.6158517070497,15.475171672868953,15.436300995303027,15.301909360407372,15.06591326775227,14.89503107713622,15.474945327875707,15.435405232190897,15.259502281359136,15.135625224607352,15.221472636275767,15.753164199328832,15.56698040464804,15.429089453617282,15.433659111420967,15.55840174068554,16.075578908272316,16.182223549213166,16.29880150425629,16.352316497957883,16.339875750549602,16.495123262067516,16.450419647180606,16.315567439261727,16.08670853795999,15.8472470117594,15.826396198294534,15.918706196194515,16.016146178356834,16.03336762734062,15.964094202941792,16.163714832370626,16.39969971634598,16.636347077587576,16.72748311345628,16.63452405647832,16.221675335335142,16.292573462914092,16.558300278947453,16.850613502779485,16.96872599959469,16.295642972398625,16.301799084621635,16.613346005163947,16.931992794409766,16.978317538968703,16.453562250590085,16.645955794617972,16.94797059678766,16.91400152987098,16.62386050081917,16.73014748840316,16.833032892181436,16.839692611649586,16.770870730338654,16.660207668999014,16.6092903210458,16.61929014514161,16.647713587653346,16.66455038955042,16.784836924293657,16.765672288394494,16.735822746975607,16.67055441881626,16.61522484627187,16.77396460420466,16.683215430152565,16.56493015312834,16.622881694472294,16.676053752421563,16.547559612609128,16.700723738585676,16.83843683762588,16.948540675242516,16.99799819434999,17.10117510794641,17.117167371361205,17.002698929530794,16.938347936382574,16.989991069130337,16.962172558539194,16.785982543981603,16.54413882105726,16.50471420684462,16.450440066240144,16.334886009542835,16.24247578644145,16.422564106867544,16.2750762344294,16.04119113980008,15.836367909318104,15.806253875429471,16.255751142063804,15.975106097430888,15.62643734191176,15.438810724644407,15.538810363869175,16.052591711878325,15.750473087845812,15.486463597902713,15.434748680789292,15.620714926059238,16.01275063491595,15.761434603025332,15.564811883258475,15.50606649147582,15.837465599085345,15.6845814203154,15.47670858905226,15.340321215185195,15.372351973918732,15.664165504383496,15.432734422329839,15.264570237471295,15.271490537849475,15.418797093358926,15.37002966948061,15.158117756123088,15.16342025422086,15.35027070247054,15.54526349027134,15.476254537305572,15.5013227903135,15.689214524887444,15.819082993597787,15.702128649977402,15.017691379287172,15.187095339945014,15.474269637518505,15.576112822597784,15.384812806756646,15.039144106371705,15.2730101861171,15.510760580124977,15.584983047387494,15.51938700783439,15.579639019022851,15.56375950743228,15.520467298492724,15.461904371189462,15.432529387412192,15.521132419603564,15.464003823723413,15.44911721172498,15.437060098363386,15.485738036776056,15.67453769610549,15.919351553469589,16.063170158695783,16.044800007165364,15.905057892786076,15.932812437536475,15.994960163970191,16.010153135863582,15.969669142377928,15.970249753513007,15.975419451698082,16.01434620937713,16.01547450731804,15.943880235301426,15.786750982762207,15.826781089583031,15.925152414646337,15.96942245273461,15.922438520424251,15.781126986500762,15.67835795584282,15.574470316547975,15.491825506224219,15.510480716905413,15.943407318644342,15.747397267797819,15.594599705665138,15.59689485156857,15.999999581020377,15.828222105574666,15.612477905747296,15.45434379711754,15.42892083358721,15.86853911128889,15.850888031235087,15.798669191490479,15.746576528022068,15.743061403755647,16.134835545396363,16.243189872503883,16.380224376914985,16.478874012012973,16.481785381148693,16.305279196707463,16.344237073170458,16.44773097983121,16.45018347650632,16.297157156750178,16.33420547745451,16.57213664794761,16.70731511179435,16.603260117470626,16.900514114135007,17.26924959885103,17.503437604164603,17.529775626600323,17.412852386645074,17.16752543115805,17.154597097965414,17.208182640889454,17.225619387595103,17.144956963026218,16.839955453394403,16.714865482853583,16.53337848751198,16.27682819505927,16.095928947283095,16.95760882735572,17.039742421660122,16.83038533706446,16.495169234225173,16.296758630483005,16.520548912795334,16.331763429455748,16.18942400016167,16.22750830455362,16.41514580601006,16.455640213604823,16.288832369670363,16.32653435242582,16.498465220817586,16.63606954144553,16.573175552226438,16.65886700918431,16.908843147179493,17.147406873754484,17.22249318459184,16.83479210172783,16.796020546415264,16.884159376966387,16.937094884438668,16.850123043165656,16.778443848828065,16.908172716198575,16.90374168684143,16.793501897956375,17.034918816774933,17.093456723283,17.033003430364367,16.87614253131601,16.74074603876867,16.906175369965585,16.947749106254832,17.03256369796589,17.106045924415568,17.099010619397202,16.87230517649514,16.85412860963438,16.838647917373315,16.68262116963122,16.415885751552235,16.633965997070643,16.815432033607483,16.799281923227625,16.60174385954942,16.447127477374135,17.06533599101206,17.03955789053579,16.872858385287213,16.709426625536928,16.67935126204362,17.190574623572633,17.29616249733569,17.422291427708032,17.513328574032148,17.532198546436963,17.624702486235677,17.649896747697902,17.624677421920726,17.46428440496056,17.200780482040027,16.864422829007207,16.915359579525546,17.027153866535276,17.09905303965623,17.081629467021763,17.04259890933976,17.18686810920232,17.44233728228797,17.65344383448831,17.70993484904937,17.29063206354634,17.179018509324774,17.26940092632553,17.50958693362878,17.76725513615337,17.4737075383586,17.187176044169096,17.212816445813488,17.498822557625846,17.785198424170634,17.37925222602574,17.29115571317532,17.505407645231745,17.869259544322745,17.39967870373422,17.41226255143316,17.540407927045646,17.620126620700756,17.594515417468294,17.468558176586935,17.39941830764191,17.370359347716853,17.35719246168944,17.36045976524558,17.50508005382588,17.510430069691353,17.52023860556549,17.47433713776851,17.383912670653576,17.49936819081301,17.500169823847457,17.4383938215685,17.278900479211067,17.521226573211372,17.40287104676037,17.30335007887107,17.41530613981485,17.6921303272336,17.675970044877946,17.754400735908877,17.8415257232777,17.832361847886897,17.621797663013986,17.666389381314342,17.747005685985442,17.70313524916689,17.501789095804202,17.227411008323127,17.26234090120364,17.192014834813516,17.051304639752377,17.144434137277457,17.151829707248723,17.033315007175393,16.78337798676073,16.553398617914265,16.99499789434427,16.9856288208314,16.73390896460837,16.36914029934784,16.156309559760256,16.855697011276096,16.782745581343924,16.5095521457215,16.22944274603656,16.152523706602988,16.946891109280248,16.7721058834894,16.50468994185715,16.282863099770434,16.54923419295435,16.568171849364095,16.44421285841971,16.220240116831565,16.058648620060662,16.47292894359796,16.395147941275166,16.192642047047652,16.00837795186421,15.990094129338019,16.321623730478812,16.101288292985863,15.918301566268212,15.907504152854834,16.069150477015604,16.321687448410994,16.207789339124382,16.261782778772314,16.433574601835392,16.53823894645761,15.856134527974053,15.749502359419674,15.947831506717861,16.218905892780658,16.295544953771483,15.70552614674704,15.771231264856578,16.034022531251914,16.25567301375898,16.30469135694229,16.281994712922884,16.312002355889817,16.325048030949002,16.26565591050852,16.285013985965087,16.25377193366824,16.22556852404328,16.194582000148625,16.157320762313468,16.13677059296109,16.218653726459173,16.436378572044024,16.66509251751217,16.783706998264844,16.665946952245363,16.63824975808859,16.694929489094154,16.74097730363214,16.730966151051785,16.715201006362882,16.70371779563848,16.737812680379598,16.7606395264641,16.73656370023203,16.55639934646912,16.52049520261369,16.589450495990715,16.6717219094594,16.69078782337472,16.587974402872113,16.515147379032534,16.441303533249,16.32131598067798,16.213467044499534,16.701979486934693,16.787794974738947,16.706629062003824,16.494519097881238,16.31651740989331,16.734572305458393,16.591720014887827,16.359875901784218,16.176537667298795,16.516540459538895,16.603387992004123,16.614662094406032,16.546343338966025,16.755471864537668,16.86996057513216,17.007240084694697,17.128174673410555,17.20162018023521,17.10209873464735,17.04068037515779,17.108563433974364,17.195957424837726,17.173205793137615,16.90634832079552,17.069882804211375,17.336739157058386,17.455817705108235,17.32655858240918,17.63646758919903,18.034128256268865,18.252216345785317,18.253350239845755,17.974205832720372,17.903755054530397,17.919710485996312,17.957154695428052,17.94934589606316,17.685907850685833,17.57617130121092,17.47996509532884,17.28233676649543,17.000540927972274,17.347078557999755,17.693810899480148,17.804828258399297,17.579329840266734,17.218868191312126,17.280904910168747,17.256737209048698,17.096835490323436,16.938354727491415,16.951193485767824,17.380963875777375,17.19181473398694,17.053890654665505,17.075451303883785,17.22213662615974,17.371738428298453,17.30933629611349,17.423911517062134,17.657746320897257,17.87106450073452,17.736890575445884,17.57093906538471,17.561051274063416,17.633048770454707,17.66073873118909,17.389336384684974,17.405504460407556,17.559308977347943,17.67606614677896,17.64955920690484,17.805904218395458,17.896495525115608,17.823070534257734,17.64413372469155,17.64382878337913,17.69933444489888,17.772961581399546,17.844804475171546,17.896210791103087,17.769245459205553,17.687637925094904,17.701514758799142,17.673062368952444,17.49495971104665,17.231122486616762,17.471472421457058,17.68499185855957,17.655870050594267,17.43625607675194,17.73439948483286,17.93673317880462,17.94691417476712,17.771148667805228,17.589546693764387,17.967762881507667,18.11148535826313,18.25303232846381,18.370095257123353,18.442962189156276,18.559466703298035,18.595126767824,18.65628012572395,18.62199479823391,18.443431566982326,17.91010953955485,17.88436065742072,17.97125650435892,18.073984789637887,18.12771374844945,18.088186542879615,18.112050284524848,18.292278580807153,18.538681752161548,18.73161809005282,18.611313792731334,18.40959698425803,18.333942526144593,18.415258941102365,18.63727473378443,18.97835831228202,18.642186003662115,18.39161360558085,18.408188005182037,18.676023902373373,18.88914618969579,18.59724423592076,18.54510681917846,19.01097062661855,18.812659271858774,18.66557470859135,18.71371526499114,18.832392251153472,18.893538342781085,18.843228513485506,18.7811510141834,18.747567853939827,18.709040504565024,18.677301016509308,18.822095164214886,18.835910589181506,18.869702530002968,18.862927892682045,18.791339039112216,18.77261088927934,18.827092072691794,18.85633563068256,18.777976455208652,18.847185689117172,18.84584380161425,18.75593020011925,18.639826059034426,18.615925300931785,19.032738518549813,19.01364090215928,19.025922544759567,19.087770062595247,19.149207664190907,18.99526041335867,18.940201584462706,19.013235227719175,19.077268359195447,19.007710536603778,18.497918656679754,18.57115019948559,18.58949691872987,18.49348346612502,18.382958126768123,18.45662474735819,18.492462241844677,18.35736436813499,18.081739961505065,18.105644493053774,18.304081847858686,18.323154698860424,18.054851669001188,17.66439561752533,17.9530904755825,18.161674308223603,18.117164802806,17.827388193547268,17.52159140764706,18.041500978494064,18.254273770309712,18.278203674175607,18.086835274748466,17.793731946901474,17.848998176768614,17.896377758276056,17.755835594279233,17.506175467059798,17.65230759083952,17.769586274930262,17.720247197705376,17.501158130425146,17.29120664961005,17.662018724478624,17.615174409329338,17.423280896934234,17.223710997163764,17.187226198119063,17.71024221069878,17.612131474779243,17.526675290590894,17.564085557185933,17.71018999461767,17.476765353132404,17.14347190186056,17.065281658404082,17.247027632649296,17.17471256747054,16.98975686812254,17.0839039113207,17.33011200465334,17.526075101519602,17.55682768832127,17.56311878174862,17.621568349804264,17.618030851801198,17.532951345719713,17.548432776499826,17.56303140224164,17.560231275033505,17.515444692346016,17.458770782810635,17.428649058134415,17.411681356688348,17.52200641527495,17.723148087797057,17.926174647624695,18.03109860021803,17.937751063423008,17.938495794354907,17.978592352297937,17.99895278119494,18.012700219319814,17.98389846408801,18.000857178151634,18.01836888952886,18.015508349671578,17.91970708002631,17.821990149537985,17.814527930470156,17.866900050483522,17.92348407800999,17.923974235228155,17.850458551284795,17.80607345223253,17.715646433085535,17.569971494572076,17.75445253977505,17.961356980690894,18.0756143932825,17.977865307183905,17.740067957118836,17.985446043128203,18.0192850693452,17.859849605411174,17.60231810636538,17.61589670324403,17.769704651238797,17.88499411091044,17.879685042367726,17.785678903404673,17.889486430780295,18.00552941851358,18.14846005631457,18.26915639493282,18.364403600125428,18.465949104797964,18.34904965089972,18.31607321861663,18.36737310648858,18.429079713828784,18.184834249229304,18.1501925993238,18.342169009946396,18.592442191848942,18.68583335637558,18.507352639816236,18.905647157210243,19.286724653335085,19.47912535932856,19.74067690533059,19.651122794830048,19.328690707371337,19.211836835801392,19.169827984817925,19.16924166303356,19.18103990663694,19.433690176908478,19.380396881794926,19.060389798886693,18.920680722211273,18.839427517637194,18.726679558505293,18.503405263843565,18.482068494956387,18.328538376634842,18.23840484384106,18.579034715664044,18.954250402045528,19.04872600771449,18.797581623753928,18.697579044434715,18.526537570101706,18.391503746305933,18.51004435397192,18.51435999775302,18.337916525777512,18.153789797117415,18.427087625029284,18.642094255895145,18.63002668169048,18.607286605719363,18.446620808830122,18.292154976258942,18.28806965964854,18.695214051560626,18.860187501597984,18.689332892656342,18.59524444437955,18.561325657718395,18.659359126039543,18.86754796466944,19.341325214764318,19.443780655012258,19.1601840043455,18.95757988202373,18.820111717486665,18.793682173537782,18.84003370472299,19.128182735716166,19.071749660073124,18.728033282572596,18.607208981759875,18.65186040300628,18.789123167319342,18.880234371544926,19.114186501928675,19.034485478673126,18.802183588739947,18.880818012547632,19.0494434514915,19.123493005584272,19.02442204952071,19.1059443102131,19.00108658329562,18.80234814245712,18.856067961448762,18.940056968492257,18.99714235236539,19.043339280931153,19.355204667121175,19.37870812773348,19.107917390578056,18.97866792777189,18.925543738831454,18.922878819554853,18.868780464148397,18.951136876147928,18.714940223698374,18.367983493439933,18.43772824320548,18.706561523216,18.903539207337502,18.84877143381232,18.889616529875262,18.76553891332923,18.675311785355703,18.938188529443483,19.16900556858579,19.162644811567034,18.961233339045936,19.040090434909228,19.04445953291889,18.99312762254082,19.16873521414035,19.3409410360662,19.465946253286045,19.557363216386175,19.890689218323814,19.94400365223151,19.755488364859495,19.757622323953424,19.82176573364903,19.866377338568203,19.80644604551878,19.88834188417263,19.65928242275463,19.243746356590137,19.10544844828599,19.10818291134026,19.17853700531537,19.255619325053182,19.569807353787883,19.586828242655574,19.341480278292504,19.280708739758595,19.333055826592215,19.496742369911647,19.717499575724688,20.170894983538787,20.261830459291748,19.992796862349728,19.801019277758463,19.627785814473395,19.53558960339725,19.591260052814118,20.073734915418633,20.365847579134755,20.307885535985886,20.16524708545728,19.857558122025953,19.590443970981802,19.58137240504185,20.109667372155677,20.4304876998927,20.303112003094782,20.073218251019043,19.809799642432797,19.74112047272731,19.92066043719979,20.441797384548224,20.561245652785,20.23630141476581,19.995121783552236,19.87692295288113,19.90892414372517,20.002357551753636,20.324365100711095,20.33319835867013,20.090676036001362,20.02569102517915,19.992499258472982,19.942776732673604,19.87900580516478,20.108127774440025,20.138724755442254,19.981861115981715,20.00455767590895,20.047258833470867,20.064911408737046,20.032893193282053,20.222165797042443,20.15907100737387,19.930040993472023,19.955073400972854,20.038440316981468,20.051544509416097,19.94794175580859,20.07684898113998,20.05095216245427,19.93520326244078,20.029648200810833,20.05719204590368,19.951139078853046,19.809791359634556,20.0467520588623,20.184251169580605,20.14826382741446,20.215201030243442,20.22498914644893,20.221131423493514,20.257735363195437,20.580034422121386,20.59820022417671,20.310031341139275,20.177722925052727,20.151549828752064,20.208444106453303,20.2472336597954,20.438537294534015,20.26452081861763,19.84897665448618,19.701109320961347,19.70926690096912,19.76635907821969,19.759462219330057,19.92431022405518,19.810929705999285,19.544819041689905,19.565420638462125,19.667972991647794,19.687671120578475,19.52732966873509,19.512566719435583,19.309917027594214,19.106102552497635,19.28810700474777,19.515430092148403,19.518363577594325,19.224816969601463,19.095222375455485,18.909721312873604,18.83597252693509,19.135552987276526,19.37302255251318,19.31237368154028,18.997353494147244,18.952418165577726,18.90282880314944,18.91504662325606,19.223963490187984,19.46562201459909,19.47341255290969,19.256800575348606,19.224558704831775,19.030061539749983,18.797567722804597,18.899237733960252,19.060346421057897,19.091586637009968,18.92580089487961,18.937002224989758,18.802740405808198,18.661022739378566,18.834770102533206,18.980934519219513,18.915456076439398,18.671123431025173,18.72203340753999,18.731079262603316,18.70463739294954,18.844481236172598,18.826522653619005,18.618489775668134,18.393676297763722,18.618052956049304,18.80702895779865,18.828273319251323,18.892704722392782,18.82347971906864,18.721884169324955,18.734050857785647,19.14101675254785,19.27301077475859,18.98230800478987,18.659227864826306,18.354820146150203,18.260490537138033,18.416992933249066,18.923241391010762,19.0272101295907,18.662161687401383,18.357175079164115,18.20110511241205,18.279112790054853,18.500077305253395,18.956901859449623,19.033249880212093,18.7939054143108,18.739290200015194,18.774467026038355,18.816777228538314,18.787996152401345,18.96377810365005,18.90734072984641,18.704217319720836,18.73089528819381,18.774379646530964,18.755440153767424,18.685409992945917,18.889597540740738,18.879665980484695,18.660264389293637,18.611111569828488,18.623029600977958,18.717215294009122,18.89311338839711,19.35700140555492,19.502945563886346,19.31082698561279,19.21356111191193,19.149099307712675,19.133704673088882,19.148557652897907,19.429779539125345,19.447098064124102,19.23286564389582,19.19516273101361,19.195246708377514,19.196066056885474,19.188334190129357,19.446335107602025,19.44958895864808,19.204246259888436,19.102169591720376,19.033338393827727,19.009736809203943,19.0368653510836,19.35431083594039,19.400706427133994,19.179974068080433,19.106436746922565,19.061806795574444,19.00128233096658,18.885611733685472,19.00079825250285,18.920278993602306,18.765185775858107,18.93691505146908,19.172705224980156,19.270823272016276,19.147830607784222,19.1708947150494,19.02022270433984,18.848769421817742,19.01121033553952,19.196794287417728,19.214493948079173,19.02981490601142,19.033144864295537,18.877136307088904,18.677964915133046,18.798359214937854,18.981052895528464,19.08020298964447,19.049650342967766,19.21650566133472,19.166538549290053,18.989274996598372,19.071948942474325,19.216877662802872,19.34366893504867,19.439121695532883,19.79523035805553,19.89600554457698,19.725168485288528,19.648411616491735,19.560397895189297,19.51128209735054,19.53733840708897,19.859906471758926,19.86448451975589,19.537709771473317,19.3672967609229,19.361540843613447,19.537377888680197,19.762407492448396,20.116660114305514,20.014730671303795,19.609211388845875,19.517324746753225,19.718700884105694],\"type\":\"scatter\"}],                        {\"template\":{\"data\":{\"bar\":[{\"error_x\":{\"color\":\"#2a3f5f\"},\"error_y\":{\"color\":\"#2a3f5f\"},\"marker\":{\"line\":{\"color\":\"#E5ECF6\",\"width\":0.5},\"pattern\":{\"fillmode\":\"overlay\",\"size\":10,\"solidity\":0.2}},\"type\":\"bar\"}],\"barpolar\":[{\"marker\":{\"line\":{\"color\":\"#E5ECF6\",\"width\":0.5},\"pattern\":{\"fillmode\":\"overlay\",\"size\":10,\"solidity\":0.2}},\"type\":\"barpolar\"}],\"carpet\":[{\"aaxis\":{\"endlinecolor\":\"#2a3f5f\",\"gridcolor\":\"white\",\"linecolor\":\"white\",\"minorgridcolor\":\"white\",\"startlinecolor\":\"#2a3f5f\"},\"baxis\":{\"endlinecolor\":\"#2a3f5f\",\"gridcolor\":\"white\",\"linecolor\":\"white\",\"minorgridcolor\":\"white\",\"startlinecolor\":\"#2a3f5f\"},\"type\":\"carpet\"}],\"choropleth\":[{\"colorbar\":{\"outlinewidth\":0,\"ticks\":\"\"},\"type\":\"choropleth\"}],\"contour\":[{\"colorbar\":{\"outlinewidth\":0,\"ticks\":\"\"},\"colorscale\":[[0.0,\"#0d0887\"],[0.1111111111111111,\"#46039f\"],[0.2222222222222222,\"#7201a8\"],[0.3333333333333333,\"#9c179e\"],[0.4444444444444444,\"#bd3786\"],[0.5555555555555556,\"#d8576b\"],[0.6666666666666666,\"#ed7953\"],[0.7777777777777778,\"#fb9f3a\"],[0.8888888888888888,\"#fdca26\"],[1.0,\"#f0f921\"]],\"type\":\"contour\"}],\"contourcarpet\":[{\"colorbar\":{\"outlinewidth\":0,\"ticks\":\"\"},\"type\":\"contourcarpet\"}],\"heatmap\":[{\"colorbar\":{\"outlinewidth\":0,\"ticks\":\"\"},\"colorscale\":[[0.0,\"#0d0887\"],[0.1111111111111111,\"#46039f\"],[0.2222222222222222,\"#7201a8\"],[0.3333333333333333,\"#9c179e\"],[0.4444444444444444,\"#bd3786\"],[0.5555555555555556,\"#d8576b\"],[0.6666666666666666,\"#ed7953\"],[0.7777777777777778,\"#fb9f3a\"],[0.8888888888888888,\"#fdca26\"],[1.0,\"#f0f921\"]],\"type\":\"heatmap\"}],\"heatmapgl\":[{\"colorbar\":{\"outlinewidth\":0,\"ticks\":\"\"},\"colorscale\":[[0.0,\"#0d0887\"],[0.1111111111111111,\"#46039f\"],[0.2222222222222222,\"#7201a8\"],[0.3333333333333333,\"#9c179e\"],[0.4444444444444444,\"#bd3786\"],[0.5555555555555556,\"#d8576b\"],[0.6666666666666666,\"#ed7953\"],[0.7777777777777778,\"#fb9f3a\"],[0.8888888888888888,\"#fdca26\"],[1.0,\"#f0f921\"]],\"type\":\"heatmapgl\"}],\"histogram\":[{\"marker\":{\"pattern\":{\"fillmode\":\"overlay\",\"size\":10,\"solidity\":0.2}},\"type\":\"histogram\"}],\"histogram2d\":[{\"colorbar\":{\"outlinewidth\":0,\"ticks\":\"\"},\"colorscale\":[[0.0,\"#0d0887\"],[0.1111111111111111,\"#46039f\"],[0.2222222222222222,\"#7201a8\"],[0.3333333333333333,\"#9c179e\"],[0.4444444444444444,\"#bd3786\"],[0.5555555555555556,\"#d8576b\"],[0.6666666666666666,\"#ed7953\"],[0.7777777777777778,\"#fb9f3a\"],[0.8888888888888888,\"#fdca26\"],[1.0,\"#f0f921\"]],\"type\":\"histogram2d\"}],\"histogram2dcontour\":[{\"colorbar\":{\"outlinewidth\":0,\"ticks\":\"\"},\"colorscale\":[[0.0,\"#0d0887\"],[0.1111111111111111,\"#46039f\"],[0.2222222222222222,\"#7201a8\"],[0.3333333333333333,\"#9c179e\"],[0.4444444444444444,\"#bd3786\"],[0.5555555555555556,\"#d8576b\"],[0.6666666666666666,\"#ed7953\"],[0.7777777777777778,\"#fb9f3a\"],[0.8888888888888888,\"#fdca26\"],[1.0,\"#f0f921\"]],\"type\":\"histogram2dcontour\"}],\"mesh3d\":[{\"colorbar\":{\"outlinewidth\":0,\"ticks\":\"\"},\"type\":\"mesh3d\"}],\"parcoords\":[{\"line\":{\"colorbar\":{\"outlinewidth\":0,\"ticks\":\"\"}},\"type\":\"parcoords\"}],\"pie\":[{\"automargin\":true,\"type\":\"pie\"}],\"scatter\":[{\"marker\":{\"colorbar\":{\"outlinewidth\":0,\"ticks\":\"\"}},\"type\":\"scatter\"}],\"scatter3d\":[{\"line\":{\"colorbar\":{\"outlinewidth\":0,\"ticks\":\"\"}},\"marker\":{\"colorbar\":{\"outlinewidth\":0,\"ticks\":\"\"}},\"type\":\"scatter3d\"}],\"scattercarpet\":[{\"marker\":{\"colorbar\":{\"outlinewidth\":0,\"ticks\":\"\"}},\"type\":\"scattercarpet\"}],\"scattergeo\":[{\"marker\":{\"colorbar\":{\"outlinewidth\":0,\"ticks\":\"\"}},\"type\":\"scattergeo\"}],\"scattergl\":[{\"marker\":{\"colorbar\":{\"outlinewidth\":0,\"ticks\":\"\"}},\"type\":\"scattergl\"}],\"scattermapbox\":[{\"marker\":{\"colorbar\":{\"outlinewidth\":0,\"ticks\":\"\"}},\"type\":\"scattermapbox\"}],\"scatterpolar\":[{\"marker\":{\"colorbar\":{\"outlinewidth\":0,\"ticks\":\"\"}},\"type\":\"scatterpolar\"}],\"scatterpolargl\":[{\"marker\":{\"colorbar\":{\"outlinewidth\":0,\"ticks\":\"\"}},\"type\":\"scatterpolargl\"}],\"scatterternary\":[{\"marker\":{\"colorbar\":{\"outlinewidth\":0,\"ticks\":\"\"}},\"type\":\"scatterternary\"}],\"surface\":[{\"colorbar\":{\"outlinewidth\":0,\"ticks\":\"\"},\"colorscale\":[[0.0,\"#0d0887\"],[0.1111111111111111,\"#46039f\"],[0.2222222222222222,\"#7201a8\"],[0.3333333333333333,\"#9c179e\"],[0.4444444444444444,\"#bd3786\"],[0.5555555555555556,\"#d8576b\"],[0.6666666666666666,\"#ed7953\"],[0.7777777777777778,\"#fb9f3a\"],[0.8888888888888888,\"#fdca26\"],[1.0,\"#f0f921\"]],\"type\":\"surface\"}],\"table\":[{\"cells\":{\"fill\":{\"color\":\"#EBF0F8\"},\"line\":{\"color\":\"white\"}},\"header\":{\"fill\":{\"color\":\"#C8D4E3\"},\"line\":{\"color\":\"white\"}},\"type\":\"table\"}]},\"layout\":{\"annotationdefaults\":{\"arrowcolor\":\"#2a3f5f\",\"arrowhead\":0,\"arrowwidth\":1},\"autotypenumbers\":\"strict\",\"coloraxis\":{\"colorbar\":{\"outlinewidth\":0,\"ticks\":\"\"}},\"colorscale\":{\"diverging\":[[0,\"#8e0152\"],[0.1,\"#c51b7d\"],[0.2,\"#de77ae\"],[0.3,\"#f1b6da\"],[0.4,\"#fde0ef\"],[0.5,\"#f7f7f7\"],[0.6,\"#e6f5d0\"],[0.7,\"#b8e186\"],[0.8,\"#7fbc41\"],[0.9,\"#4d9221\"],[1,\"#276419\"]],\"sequential\":[[0.0,\"#0d0887\"],[0.1111111111111111,\"#46039f\"],[0.2222222222222222,\"#7201a8\"],[0.3333333333333333,\"#9c179e\"],[0.4444444444444444,\"#bd3786\"],[0.5555555555555556,\"#d8576b\"],[0.6666666666666666,\"#ed7953\"],[0.7777777777777778,\"#fb9f3a\"],[0.8888888888888888,\"#fdca26\"],[1.0,\"#f0f921\"]],\"sequentialminus\":[[0.0,\"#0d0887\"],[0.1111111111111111,\"#46039f\"],[0.2222222222222222,\"#7201a8\"],[0.3333333333333333,\"#9c179e\"],[0.4444444444444444,\"#bd3786\"],[0.5555555555555556,\"#d8576b\"],[0.6666666666666666,\"#ed7953\"],[0.7777777777777778,\"#fb9f3a\"],[0.8888888888888888,\"#fdca26\"],[1.0,\"#f0f921\"]]},\"colorway\":[\"#636efa\",\"#EF553B\",\"#00cc96\",\"#ab63fa\",\"#FFA15A\",\"#19d3f3\",\"#FF6692\",\"#B6E880\",\"#FF97FF\",\"#FECB52\"],\"font\":{\"color\":\"#2a3f5f\"},\"geo\":{\"bgcolor\":\"white\",\"lakecolor\":\"white\",\"landcolor\":\"#E5ECF6\",\"showlakes\":true,\"showland\":true,\"subunitcolor\":\"white\"},\"hoverlabel\":{\"align\":\"left\"},\"hovermode\":\"closest\",\"mapbox\":{\"style\":\"light\"},\"paper_bgcolor\":\"white\",\"plot_bgcolor\":\"#E5ECF6\",\"polar\":{\"angularaxis\":{\"gridcolor\":\"white\",\"linecolor\":\"white\",\"ticks\":\"\"},\"bgcolor\":\"#E5ECF6\",\"radialaxis\":{\"gridcolor\":\"white\",\"linecolor\":\"white\",\"ticks\":\"\"}},\"scene\":{\"xaxis\":{\"backgroundcolor\":\"#E5ECF6\",\"gridcolor\":\"white\",\"gridwidth\":2,\"linecolor\":\"white\",\"showbackground\":true,\"ticks\":\"\",\"zerolinecolor\":\"white\"},\"yaxis\":{\"backgroundcolor\":\"#E5ECF6\",\"gridcolor\":\"white\",\"gridwidth\":2,\"linecolor\":\"white\",\"showbackground\":true,\"ticks\":\"\",\"zerolinecolor\":\"white\"},\"zaxis\":{\"backgroundcolor\":\"#E5ECF6\",\"gridcolor\":\"white\",\"gridwidth\":2,\"linecolor\":\"white\",\"showbackground\":true,\"ticks\":\"\",\"zerolinecolor\":\"white\"}},\"shapedefaults\":{\"line\":{\"color\":\"#2a3f5f\"}},\"ternary\":{\"aaxis\":{\"gridcolor\":\"white\",\"linecolor\":\"white\",\"ticks\":\"\"},\"baxis\":{\"gridcolor\":\"white\",\"linecolor\":\"white\",\"ticks\":\"\"},\"bgcolor\":\"#E5ECF6\",\"caxis\":{\"gridcolor\":\"white\",\"linecolor\":\"white\",\"ticks\":\"\"}},\"title\":{\"x\":0.05},\"xaxis\":{\"automargin\":true,\"gridcolor\":\"white\",\"linecolor\":\"white\",\"ticks\":\"\",\"title\":{\"standoff\":15},\"zerolinecolor\":\"white\",\"zerolinewidth\":2},\"yaxis\":{\"automargin\":true,\"gridcolor\":\"white\",\"linecolor\":\"white\",\"ticks\":\"\",\"title\":{\"standoff\":15},\"zerolinecolor\":\"white\",\"zerolinewidth\":2}}}},                        {\"responsive\": true}                    ).then(function(){\n",
              "                            \n",
              "var gd = document.getElementById('2cbc3df4-ac1d-406b-80bf-000e838de23d');\n",
              "var x = new MutationObserver(function (mutations, observer) {{\n",
              "        var display = window.getComputedStyle(gd).display;\n",
              "        if (!display || display === 'none') {{\n",
              "            console.log([gd, 'removed!']);\n",
              "            Plotly.purge(gd);\n",
              "            observer.disconnect();\n",
              "        }}\n",
              "}});\n",
              "\n",
              "// Listen for the removal of the full notebook cells\n",
              "var notebookContainer = gd.closest('#notebook-container');\n",
              "if (notebookContainer) {{\n",
              "    x.observe(notebookContainer, {childList: true});\n",
              "}}\n",
              "\n",
              "// Listen for the clearing of the current output cell\n",
              "var outputEl = gd.closest('.output');\n",
              "if (outputEl) {{\n",
              "    x.observe(outputEl, {childList: true});\n",
              "}}\n",
              "\n",
              "                        })                };                            </script>        </div>\n",
              "</body>\n",
              "</html>"
            ]
          },
          "metadata": {}
        }
      ]
    },
    {
      "cell_type": "markdown",
      "source": [
        "*   Kaggle Source - [https://www.kaggle.com/code/callherro/energy-data/data)\n"
      ],
      "metadata": {
        "id": "fh8Jg8gzVDXK"
      }
    },
    {
      "cell_type": "markdown",
      "source": [
        "## Authors"
      ],
      "metadata": {
        "id": "YtZpS5iVVDXP"
      }
    },
    {
      "cell_type": "markdown",
      "source": [
        "[Jigisha Barbhaya](https://www.linkedin.com/in/jigisha-barbhaya/?utm_medium=Exinfluencer&utm_source=Exinfluencer&utm_content=000026UJ&utm_term=10006555&utm_id=NA-SkillsNetwork-Channel-SkillsNetworkGuidedProjectsIBMGPXX032NEN123-2022-01-01),\n",
        "\n",
        "[Aimé T Shangula](https://www.linkedin.com/in/aimazin)"
      ],
      "metadata": {
        "id": "LCKtuOaPVDXP"
      }
    },
    {
      "cell_type": "markdown",
      "source": [
        "## Other Contibutors"
      ],
      "metadata": {
        "id": "k7oMygIVVDXQ"
      }
    },
    {
      "cell_type": "markdown",
      "source": [
        "[Joseph Santarcangelo](https://www.linkedin.com/in/joseph-s-50398b136/?utm_medium=Exinfluencer&utm_source=Exinfluencer&utm_content=000026UJ&utm_term=10006555&utm_id=NA-SkillsNetwork-Channel-SkillsNetworkCoursesIBMDeveloperSkillsNetworkML311Coursera35714171-2022-01-01)\n"
      ],
      "metadata": {
        "id": "ooUofgL5VDXQ"
      }
    },
    {
      "cell_type": "markdown",
      "source": [
        "Copyright © 2022 IBM Corporation. All rights reserved.\n"
      ],
      "metadata": {
        "id": "GQsVk1vVVDXQ"
      }
    },
    {
      "cell_type": "code",
      "source": [],
      "metadata": {
        "id": "Av0EtRLNVDXQ"
      },
      "execution_count": null,
      "outputs": []
    }
  ]
}